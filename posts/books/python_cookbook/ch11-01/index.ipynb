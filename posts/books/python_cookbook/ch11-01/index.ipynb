{
 "metadata": {
  "name": "",
  "signature": "sha256:e35b1959edb913d0963955ebabfb2601982ceac94e38bd21a2d2cfe0942a05ef"
 },
 "nbformat": 3,
 "nbformat_minor": 0,
 "worksheets": [
  {
   "cells": [
    {
     "cell_type": "markdown",
     "metadata": {},
     "source": [
      "# 11. \ub124\ud2b8\uc6cc\ud06c\uc640 \uc6f9 \ud504\ub85c\uadf8\ub798\ubc0d\n",
      "\n",
      "- start: 2014-11-04\n",
      "- end: 2014-11-\n",
      "\n",
      "\n",
      "- \uc774\ubc88\uc7a5\uc740 \ub124\ud2b8\uc6cc\ud06c\uc640 \ubd84\uc0b0 \uc560\ud50c\ub9ac\ucf00\uc774\uc158\uc5d0 \ud30c\uc774\uc36c\uc744 \uc0ac\uc6a9\ud558\ub294 \uc8fc\uc81c\ub97c \ub2e4\ub8f8. \ud06c\uac8c 2\uac00\uc9c0\n",
      "  1. \uae30\uc874 \uc11c\ubc84\uc5d0 \uc811\uc18d\ud558\ub294 \ud074\ub77c\uc774\uc5b8\ud2b8\ub97c \ub9cc\ub4dc\ub294 \ubc29\ubc95\n",
      "  2. \ud30c\uc774\uc36c\uc73c\ub85c \uc11c\ubc84\ub85c \ub3d9\uc791\ud558\ub294 \ub124\ud2b8\uc6cc\ud06c \uc11c\ube44\uc2a4\ub97c \uad6c\ud604 \n",
      "- \ub610\ud55c \uc778\ud130\ud504\ub9ac\ud130\uc640 \ud1b5\uc2e0\ud558\uace0 \ud611\uc5c5\ud558\ub294 \uc608\uc81c\ub3c4 \uc81c\uacf5"
     ]
    },
    {
     "cell_type": "markdown",
     "metadata": {},
     "source": [
      "## 11.1 \ud074\ub77c\uc774\uc5b8\ud2b8\ub85c HTTP \uc11c\ube44\uc2a4\uc640 \ud1b5\uc2e0\n",
      "\n",
      "### \ubb38\uc81c\n",
      "\n",
      "- \ud074\ub77c\uc774\uc5b8\ud2b8\ub85c\uc11c HTTP\ub97c \ud1b5\ud574 \uc5ec\ub7ec \uc11c\ube44\uc2a4\uc5d0 \uc811\uc18d\ud574\uc57c \ud568\n",
      "- \uc608\ub97c \ub4e4\uc5b4 REST \uae30\ubc18 API\ub85c \ud1b5\uc2e0\ud558\uac70\ub098 \ub370\uc774\ud130\ub97c \ubc1b\uc544\uc57c \ud568\n",
      "\n",
      "### \ud574\uacb0\n",
      "\n",
      "- \uac04\ub2e8\ud55c \ubb38\uc81c\ub294 urllib.request \ubaa8\ub4c8\uc744 \uc0ac\uc6a9\ud558\uba74 \uc27d\uac8c \ud574\uacb0 \uac00\ub2a5\n",
      "- \uc608\ub97c \ub4e4\uc5b4 \uc6d0\uaca9 \uc11c\ube44\uc2a4\uc5d0 \ub300\ud55c \uac04\ub2e8\ud55c HTTP GET \uc694\uccad\uc740 \ub2e4\uc74c\uacfc \uac19\uc774 \ud568\n",
      "\n",
      "\n",
      "- [httpbin(1): HTTP Client Testing Service](http://httpbin.org/)"
     ]
    },
    {
     "cell_type": "code",
     "collapsed": false,
     "input": [
      "from urllib import request, parse\n",
      "\n",
      "# \uc811\uc18d\ud560 URL\n",
      "url = 'http://httpbin.org/get'\n",
      "\n",
      "# (\uc788\ub2e4\uba74) \ucffc\ub9ac \ud30c\ub77c\ubbf8\ud130 \ub515\uc154\ub108\ub9ac\n",
      "params = {\n",
      "    'name1': 'value1',\n",
      "    'name2': 'value2'\n",
      "}\n",
      "\n",
      "# \ucffc\ub9ac \ubb38\uc790\uc5f4 \uc778\ucf54\ub4dc\n",
      "querystring = parse.urlencode(params)\n",
      "\n",
      "# GET \uc694\uccad \ud6c4 \uc751\ub2f5 \uc77d\uae30\n",
      "u = request.urlopen(url + '?' + querystring)\n",
      "resp = u.read().decode('utf-8')\n",
      "\n",
      "print(resp)"
     ],
     "language": "python",
     "metadata": {},
     "outputs": [
      {
       "output_type": "stream",
       "stream": "stdout",
       "text": [
        "{\n",
        "  \"args\": {\n",
        "    \"name1\": \"value1\", \n",
        "    \"name2\": \"value2\"\n",
        "  }, \n",
        "  \"headers\": {\n",
        "    \"Accept-Encoding\": \"identity\", \n",
        "    \"Connect-Time\": \"1\", \n",
        "    \"Connection\": \"close\", \n",
        "    \"Host\": \"httpbin.org\", \n",
        "    \"Total-Route-Time\": \"0\", \n",
        "    \"User-Agent\": \"Python-urllib/3.4\", \n",
        "    \"Via\": \"1.1 vegur\", \n",
        "    \"X-Request-Id\": \"24598322-b114-4be2-961a-a739edf70506\"\n",
        "  }, \n",
        "  \"origin\": \"58.74.112.37\", \n",
        "  \"url\": \"http://httpbin.org/get?name2=value2&name1=value1\"\n",
        "}\n"
       ]
      }
     ],
     "prompt_number": 5
    },
    {
     "cell_type": "markdown",
     "metadata": {},
     "source": [
      "- POST \uba54\uc18c\ub4dc\ub85c \ucffc\ub9ac \ud30c\ub77c\ubbf8\ud130\ub97c \ubcf4\ub0b4\uc57c \ud55c\ub2e4\uba74, \uc778\ucf54\ub529 \ud55c \ud6c4 urlopen()\uc5d0 \uc635\uc158 \ub9e4\uac1c\ubcc0\uc218\ub85c \ub123\uc74c"
     ]
    },
    {
     "cell_type": "code",
     "collapsed": false,
     "input": [
      "from urllib import request, parse\n",
      "\n",
      "# \uc811\uc18d\ud560 URL\n",
      "url = 'http://httpbin.org/post'\n",
      "\n",
      "# (\uc788\ub2e4\uba74) \ucffc\ub9ac \ud30c\ub77c\ubbf8\ud130 \ub515\uc154\ub108\ub9ac\n",
      "params = {\n",
      "    'name1': 'value1',\n",
      "    'name2': 'value2'\n",
      "}\n",
      "\n",
      "# \ucffc\ub9ac \ubb38\uc790\uc5f4 \uc778\ucf54\ub4dc\n",
      "querystring = parse.urlencode(params)\n",
      "\n",
      "# POST \uc694\uccad \ud6c4 \uc751\ub2f5 \uc77d\uae30\n",
      "u = request.urlopen(url, querystring.encode('ascii'))\n",
      "resp = u.read().decode('utf-8')\n",
      "print(resp)"
     ],
     "language": "python",
     "metadata": {},
     "outputs": [
      {
       "output_type": "stream",
       "stream": "stdout",
       "text": [
        "{\n",
        "  \"args\": {}, \n",
        "  \"data\": \"\", \n",
        "  \"files\": {}, \n",
        "  \"form\": {\n",
        "    \"name1\": \"value1\", \n",
        "    \"name2\": \"value2\"\n",
        "  }, \n",
        "  \"headers\": {\n",
        "    \"Accept-Encoding\": \"identity\", \n",
        "    \"Connect-Time\": \"1\", \n",
        "    \"Connection\": \"close\", \n",
        "    \"Content-Length\": \"25\", \n",
        "    \"Content-Type\": \"application/x-www-form-urlencoded\", \n",
        "    \"Host\": \"httpbin.org\", \n",
        "    \"Total-Route-Time\": \"0\", \n",
        "    \"User-Agent\": \"Python-urllib/3.4\", \n",
        "    \"Via\": \"1.1 vegur\", \n",
        "    \"X-Request-Id\": \"d9ed793f-fd37-4ad1-bc21-bff5aecda6eb\"\n",
        "  }, \n",
        "  \"json\": null, \n",
        "  \"origin\": \"58.74.112.37\", \n",
        "  \"url\": \"http://httpbin.org/post\"\n",
        "}\n"
       ]
      }
     ],
     "prompt_number": 6
    },
    {
     "cell_type": "markdown",
     "metadata": {},
     "source": [
      "- \uc0ac\uc6a9\uc790-\uc5d0\uc774\uc804\ud2b8 \ud544\ub4dc(user-agent field)\ub97c \uc218\uc815\ud558\ub294 \ub4f1 \ub0b4\ubcf4\ub0b4\ub294 \uc694\uccad\uc5d0 \ucee4\uc2a4\ud140 HTTP \ud5e4\ub354\ub97c \uc81c\uacf5\ud574\uc57c \ud55c\ub2e4\uba74, \uadf8 \uac12\uc744 \ub2f4\uc740 \ub515\uc154\ub108\ub9ac\ub97c \ub9cc\ub4e4\uace0 Request \uc778\uc2a4\ud134\uc2a4\ub97c \ub9cc\ub4e0 \ud6c4 urlopen()\uc5d0 \uc804\ub2ec"
     ]
    },
    {
     "cell_type": "code",
     "collapsed": false,
     "input": [
      "from urllib import request, parse\n",
      "\n",
      "# \ucd94\uac00\uc801\uc778 \ud5e4\ub354\n",
      "headers = {\n",
      "    'User-agent': 'none/ofyourbusiness',\n",
      "    'Spam': 'Eggs'\n",
      "}\n",
      "\n",
      "req = request.Request(url, querystring.encode('ascii'), headers=headers)\n",
      "\n",
      "# \uc694\uccad \ud6c4 \uc751\ub2f5 \uc77d\uae30\n",
      "u = request.urlopen(req)\n",
      "resp = u.read().decode('utf-8')\n",
      "print(resp)"
     ],
     "language": "python",
     "metadata": {},
     "outputs": [
      {
       "output_type": "stream",
       "stream": "stdout",
       "text": [
        "{\n",
        "  \"args\": {}, \n",
        "  \"data\": \"\", \n",
        "  \"files\": {}, \n",
        "  \"form\": {\n",
        "    \"name1\": \"value1\", \n",
        "    \"name2\": \"value2\"\n",
        "  }, \n",
        "  \"headers\": {\n",
        "    \"Accept-Encoding\": \"identity\", \n",
        "    \"Connect-Time\": \"1\", \n",
        "    \"Connection\": \"close\", \n",
        "    \"Content-Length\": \"25\", \n",
        "    \"Content-Type\": \"application/x-www-form-urlencoded\", \n",
        "    \"Host\": \"httpbin.org\", \n",
        "    \"Spam\": \"Eggs\", \n",
        "    \"Total-Route-Time\": \"0\", \n",
        "    \"User-Agent\": \"none/ofyourbusiness\", \n",
        "    \"Via\": \"1.1 vegur\", \n",
        "    \"X-Request-Id\": \"369e9a2b-1e1b-40f8-9ed7-e6b96c04063d\"\n",
        "  }, \n",
        "  \"json\": null, \n",
        "  \"origin\": \"58.74.112.37\", \n",
        "  \"url\": \"http://httpbin.org/post\"\n",
        "}\n"
       ]
      }
     ],
     "prompt_number": 7
    },
    {
     "cell_type": "code",
     "collapsed": false,
     "input": [
      "from urllib import request, parse\n",
      "\n",
      "# \uc811\uc18d\ud560 URL\n",
      "url = 'http://httpbin.org/get'\n",
      "\n",
      "# (\uc788\ub2e4\uba74) \ucffc\ub9ac \ud30c\ub77c\ubbf8\ud130 \ub515\uc154\ub108\ub9ac\n",
      "params = {\n",
      "    'name1': 'value1',\n",
      "    'name2': 'value2'\n",
      "}\n",
      "\n",
      "# \ucffc\ub9ac \ubb38\uc790\uc5f4 \uc778\ucf54\ub4dc\n",
      "querystring = parse.urlencode(params)\n",
      "\n",
      "req = request.Request(url + '?' + querystring, headers=headers)\n",
      "\n",
      "# GET \uc694\uccad \ud6c4 \uc751\ub2f5 \uc77d\uae30\n",
      "u = request.urlopen(req)\n",
      "resp = u.read().decode('utf-8')\n",
      "\n",
      "print(resp)\n"
     ],
     "language": "python",
     "metadata": {},
     "outputs": [
      {
       "output_type": "stream",
       "stream": "stdout",
       "text": [
        "{\n",
        "  \"args\": {\n",
        "    \"name1\": \"value1\", \n",
        "    \"name2\": \"value2\"\n",
        "  }, \n",
        "  \"headers\": {\n",
        "    \"Accept-Encoding\": \"identity\", \n",
        "    \"Connect-Time\": \"1\", \n",
        "    \"Connection\": \"close\", \n",
        "    \"Host\": \"httpbin.org\", \n",
        "    \"Spam\": \"Eggs\", \n",
        "    \"Total-Route-Time\": \"0\", \n",
        "    \"User-Agent\": \"none/ofyourbusiness\", \n",
        "    \"Via\": \"1.1 vegur\", \n",
        "    \"X-Request-Id\": \"b67d284a-a132-4098-8959-4b25d37d5446\"\n",
        "  }, \n",
        "  \"origin\": \"58.74.112.37\", \n",
        "  \"url\": \"http://httpbin.org/get?name2=value2&name1=value1\"\n",
        "}\n"
       ]
      }
     ],
     "prompt_number": 21
    },
    {
     "cell_type": "markdown",
     "metadata": {},
     "source": [
      "- \uc55e\uc5d0 \ub098\uc628 \uc608\uc81c\ubcf4\ub2e4 \ub354 \ubcf5\uc7a1\ud55c \ud1b5\uc2e0\uc744 \ud574\uc57c \ud55c\ub2e4\uba74 [requests](http://docs.python-requests.org/en/latest/) \ub77c\uc774\ube0c\ub7ec\ub9ac \uc0ac\uc6a9\uc744 \uace0\ub824\ud574 \ubcf4\uc790\n",
      "- \uc608\ub97c \ub4e4\uc5b4 \uc55e\uc5d0 \ub098\uc628 \uac83\uacfc \ub3d9\uc77c\ud55c requests \ucf54\ub4dc\ub97c \ubcf4\uc790"
     ]
    },
    {
     "cell_type": "code",
     "collapsed": false,
     "input": [
      "import requests\n",
      "\n",
      "# \uc811\uc18d URL\n",
      "url = 'http://httpbin.org/post'\n",
      "\n",
      "# (\uc788\ub2e4\uba74) \ucffc\ub9ac \ud30c\ub77c\ubbf8\ud130 \ub515\uc154\ub108\ub9ac\n",
      "params = {\n",
      "    'name1': 'value1',\n",
      "    'name2': 'value2'\n",
      "}\n",
      "\n",
      "# \ucd94\uac00\uc801\uc778 \ud5e4\ub354\n",
      "headers = {\n",
      "    'User-agent': 'none/ofyourbusiness',\n",
      "    'Spam': 'Eggs'\n",
      "}\n",
      "\n",
      "resp = requests.post(url, data=params, headers=headers)\n",
      "\n",
      "# \uc694\uccad\uc774 \ubc18\ud658\ud55c \ud14d\uc2a4\ud2b8 \ub514\ucf54\ub4dc\n",
      "text = resp.text\n",
      "print(text)"
     ],
     "language": "python",
     "metadata": {},
     "outputs": [
      {
       "output_type": "stream",
       "stream": "stdout",
       "text": [
        "{\n",
        "  \"args\": {}, \n",
        "  \"data\": \"\", \n",
        "  \"files\": {}, \n",
        "  \"form\": {\n",
        "    \"name1\": \"value1\", \n",
        "    \"name2\": \"value2\"\n",
        "  }, \n",
        "  \"headers\": {\n",
        "    \"Accept\": \"*/*\", \n",
        "    \"Accept-Encoding\": \"gzip, deflate\", \n",
        "    \"Connect-Time\": \"1\", \n",
        "    \"Connection\": \"close\", \n",
        "    \"Content-Length\": \"25\", \n",
        "    \"Content-Type\": \"application/x-www-form-urlencoded\", \n",
        "    \"Host\": \"httpbin.org\", \n",
        "    \"Spam\": \"Eggs\", \n",
        "    \"Total-Route-Time\": \"0\", \n",
        "    \"User-Agent\": \"none/ofyourbusiness\", \n",
        "    \"Via\": \"1.1 vegur\", \n",
        "    \"X-Request-Id\": \"55068b13-9f3a-4a8e-a13a-111613acbf88\"\n",
        "  }, \n",
        "  \"json\": null, \n",
        "  \"origin\": \"58.74.112.37\", \n",
        "  \"url\": \"http://httpbin.org/post\"\n",
        "}\n"
       ]
      }
     ],
     "prompt_number": 22
    },
    {
     "cell_type": "markdown",
     "metadata": {},
     "source": [
      "- requests \uae30\ub2a5 \uc911, \uc694\uccad\uc5d0 \ub300\ud55c \uc751\ub2f5\uc744 \uc5b4\ub5bb\uac8c \ubc18\ud658\ud558\ub294\uc9c0\ub97c \uc8fc\ubaa9\ud574\uc57c \ud568\n",
      "- \uc55e\uc5d0 \ub098\uc628 \uac83\ucc98\ub7fc resp.text \uc18d\uc131\uc5d0, \uc694\uccad\uc744 Unicode \ub514\ucf54\ub529\ud55c \ud14d\uc2a4\ud2b8\uac00 \ub4e4\uc5b4\uc788\uc74c\n",
      "- \ud558\uc9c0\ub9cc resp.content\uc5d0 \uc811\uadfc\ud558\uba74 raw \ubc14\uc774\ub108\ub9ac\ub97c \ubc1b\ub294\ub2e4\n",
      "- \ubc18\uba74\uc5d0 resp.json\uc5d0 \uc811\uadfc\ud558\uba74 JSON\uc73c\ub85c \ud574\uc11d\ub41c \uc751\ub2f5\uc744 \uc5bb\uc744 \uc218 \uc788\uc74c"
     ]
    },
    {
     "cell_type": "code",
     "collapsed": false,
     "input": [
      "resp.content"
     ],
     "language": "python",
     "metadata": {},
     "outputs": [
      {
       "metadata": {},
       "output_type": "pyout",
       "prompt_number": 23,
       "text": [
        "b'{\\n  \"args\": {}, \\n  \"data\": \"\", \\n  \"files\": {}, \\n  \"form\": {\\n    \"name1\": \"value1\", \\n    \"name2\": \"value2\"\\n  }, \\n  \"headers\": {\\n    \"Accept\": \"*/*\", \\n    \"Accept-Encoding\": \"gzip, deflate\", \\n    \"Connect-Time\": \"1\", \\n    \"Connection\": \"close\", \\n    \"Content-Length\": \"25\", \\n    \"Content-Type\": \"application/x-www-form-urlencoded\", \\n    \"Host\": \"httpbin.org\", \\n    \"Spam\": \"Eggs\", \\n    \"Total-Route-Time\": \"0\", \\n    \"User-Agent\": \"none/ofyourbusiness\", \\n    \"Via\": \"1.1 vegur\", \\n    \"X-Request-Id\": \"55068b13-9f3a-4a8e-a13a-111613acbf88\"\\n  }, \\n  \"json\": null, \\n  \"origin\": \"58.74.112.37\", \\n  \"url\": \"http://httpbin.org/post\"\\n}'"
       ]
      }
     ],
     "prompt_number": 23
    },
    {
     "cell_type": "code",
     "collapsed": false,
     "input": [
      "from pprint import pprint\n",
      "pprint(resp.json())\n",
      "print()\n",
      "print(type(resp.json()))\n",
      "print(resp.json()['headers'])"
     ],
     "language": "python",
     "metadata": {},
     "outputs": [
      {
       "output_type": "stream",
       "stream": "stdout",
       "text": [
        "{'args': {},\n",
        " 'data': '',\n",
        " 'files': {},\n",
        " 'form': {'name1': 'value1', 'name2': 'value2'},\n",
        " 'headers': {'Accept': '*/*',\n",
        "             'Accept-Encoding': 'gzip, deflate',\n",
        "             'Connect-Time': '1',\n",
        "             'Connection': 'close',\n",
        "             'Content-Length': '25',\n",
        "             'Content-Type': 'application/x-www-form-urlencoded',\n",
        "             'Host': 'httpbin.org',\n",
        "             'Spam': 'Eggs',\n",
        "             'Total-Route-Time': '0',\n",
        "             'User-Agent': 'none/ofyourbusiness',\n",
        "             'Via': '1.1 vegur',\n",
        "             'X-Request-Id': '55068b13-9f3a-4a8e-a13a-111613acbf88'},\n",
        " 'json': None,\n",
        " 'origin': '58.74.112.37',\n",
        " 'url': 'http://httpbin.org/post'}\n",
        "\n",
        "<class 'dict'>\n",
        "{'User-Agent': 'none/ofyourbusiness', 'Accept-Encoding': 'gzip, deflate', 'Connect-Time': '1', 'Accept': '*/*', 'Connection': 'close', 'Total-Route-Time': '0', 'X-Request-Id': '55068b13-9f3a-4a8e-a13a-111613acbf88', 'Content-Length': '25', 'Spam': 'Eggs', 'Content-Type': 'application/x-www-form-urlencoded', 'Via': '1.1 vegur', 'Host': 'httpbin.org'}\n"
       ]
      }
     ],
     "prompt_number": 30
    },
    {
     "cell_type": "markdown",
     "metadata": {},
     "source": [
      "- requests\ub85c HEAD \uc694\uccad\uc744 \ub9cc\ub4e4\uace0 \uc751\ub2f5\uc73c\ub85c\ubd80\ud130 \ud5e4\ub354 \ub370\uc774\ud130\ub97c \ucd94\ucd9c\ud558\ub294 \uc608\uc81c"
     ]
    },
    {
     "cell_type": "code",
     "collapsed": false,
     "input": [
      "import requests\n",
      "\n",
      "resp = requests.head('http://www.python.org/index.html')\n",
      "pprint(resp.headers)\n",
      "\n",
      "status = resp.status_code\n",
      "# last_modified = resp.headers['last-modified']\n",
      "# content_type = resp.headers['Content-Type']\n",
      "content_length = resp.headers['Content-Length']\n",
      "\n",
      "print()\n",
      "print(status)\n",
      "# print(last_modified)\n",
      "# print(content_type)\n",
      "print(content_length)"
     ],
     "language": "python",
     "metadata": {},
     "outputs": [
      {
       "output_type": "stream",
       "stream": "stdout",
       "text": [
        "{'X-Served-By': 'cache-ty67-TYO', 'X-Cache': 'MISS', 'Date': 'Tue, 04 Nov 2014 05:31:48 GMT', 'Connection': 'close', 'Retry-After': '0', 'Content-Length': '0', 'Location': 'https://www.python.org/index.html', 'X-Cache-Hits': '0', 'Via': '1.1 varnish', 'Strict-Transport-Security': 'max-age=63072000; includeSubDomains', 'Accept-Ranges': 'bytes', 'Server': 'Varnish'}\n",
        "\n",
        "301\n",
        "0\n"
       ]
      }
     ],
     "prompt_number": 38
    },
    {
     "cell_type": "markdown",
     "metadata": {},
     "source": [
      "- \ub2e4\uc74c\uc740 \uae30\ubcf8 \uc778\uc99d\uc744 \uc0ac\uc6a9\ud574\uc11c \ud30c\uc774\uc36c \ud328\ud0a4\uc9c0 \uc778\ub371\uc2a4(Python Package Index)\uc5d0 \ub85c\uadf8\uc778\ud558\ub294 requests \uc608\uc81c"
     ]
    },
    {
     "cell_type": "code",
     "collapsed": false,
     "input": [
      "import requests\n",
      "resp = requests.get('http://pypi.python.org/pypi?:action=login',\n",
      "                    auth=('user', 'password'))\n",
      "print(resp.text)"
     ],
     "language": "python",
     "metadata": {},
     "outputs": [
      {
       "output_type": "stream",
       "stream": "stdout",
       "text": [
        "<strong>Login required</strong><br /><br />\n",
        "\n",
        "Incorrect password<br /><br />\n",
        "\n",
        "<p>If you are a new user, <a href=\"/pypi?:action=register_form\">please\n",
        "register</a>.</p>\n",
        "<p>If you have forgotten your password, you can have it\n",
        "<a href=\"/pypi?:action=forgotten_password_form\">reset for you</a>.</p>\n",
        "<p>You may also login or register using <a href=\"/pypi?:action=openid\">OpenID</a>\n",
        "    <a href=\"https://www.google.com/accounts/o8/id\"><img src=\"https://www.google.com/favicon.ico\" title=\"Google\"/></a>\n",
        "    \n",
        "    <a href=\"https://login.launchpad.net/\"><img src=\"https://launchpad.net/@@/launchpad.png\" title=\"Launchpad\"/></a>\n",
        "    </p>\n"
       ]
      }
     ],
     "prompt_number": 41
    },
    {
     "cell_type": "markdown",
     "metadata": {},
     "source": [
      "- \ub2e4\uc74c\uc740 \ud55c \uc694\uccad\uc758 HTTP \ucfe0\ud0a4\ub97c \ub2e4\uc74c\uc73c\ub85c \ub118\uae30\ub294 requests \uc608\uc81c"
     ]
    },
    {
     "cell_type": "code",
     "collapsed": false,
     "input": [
      "import requests\n",
      "\n",
      "url = 'http://www.python.org'\n",
      "\n",
      "# \uccab \ubc88\uc9f8 \uc694\uccad\n",
      "resp1 = requests.get(url)\n",
      "print(resp1.status_code)\n",
      "print()\n",
      "print(resp1.cookies)\n",
      "\n",
      "# \uccab \ubc88\uc9f8 \uc694\uccad\uc73c\ub85c\ubd80\ud130 \ucfe0\ud0a4\ub97c \ubc1b\uc740 \ub450 \ubc88\uc9f8 \uc694\uccad\n",
      "resp2 = requests.get(url, cookies=resp1.cookies)"
     ],
     "language": "python",
     "metadata": {},
     "outputs": [
      {
       "output_type": "stream",
       "stream": "stdout",
       "text": [
        "200\n",
        "\n",
        "<RequestsCookieJar[]>\n"
       ]
      }
     ],
     "prompt_number": 46
    },
    {
     "cell_type": "code",
     "collapsed": false,
     "input": [
      "url = 'http://docs.python-requests.org'\n",
      "r = requests.get(url)\n",
      "\n",
      "print(r.cookies)"
     ],
     "language": "python",
     "metadata": {},
     "outputs": [
      {
       "output_type": "stream",
       "stream": "stdout",
       "text": [
        "<RequestsCookieJar[]>\n"
       ]
      }
     ],
     "prompt_number": 49
    },
    {
     "cell_type": "code",
     "collapsed": false,
     "input": [],
     "language": "python",
     "metadata": {},
     "outputs": []
    }
   ],
   "metadata": {}
  }
 ]
}
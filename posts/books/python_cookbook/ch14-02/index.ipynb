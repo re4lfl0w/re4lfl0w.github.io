{
 "cells": [
  {
   "cell_type": "markdown",
   "metadata": {},
   "source": [
    "## 14.11 경고 메시지 생성\n",
    "\n",
    "### 문제\n",
    "\n",
    "- 프로그램에서 경고 메시지를 표시하고 싶다(더 이상 지원하지 않는 기능이나 사용시 문제점 등)\n",
    "\n",
    "### 해결\n",
    "\n",
    "- 프로그램에서 경고 메시지를 생성하려면 warning.warn() 함수를 사용함"
   ]
  },
  {
   "cell_type": "code",
   "execution_count": 17,
   "metadata": {
    "collapsed": false
   },
   "outputs": [
    {
     "name": "stdout",
     "output_type": "stream",
     "text": [
      "/Users/re4lfl0w/Documents/ipython/books/python_cookbook/14\n"
     ]
    }
   ],
   "source": [
    "%cd 14"
   ]
  },
  {
   "cell_type": "code",
   "execution_count": 4,
   "metadata": {
    "collapsed": false
   },
   "outputs": [
    {
     "name": "stdout",
     "output_type": "stream",
     "text": [
      "Writing warn.py\n"
     ]
    }
   ],
   "source": [
    "%%writefile warn.py\n",
    "import warnings\n",
    "\n",
    "def func(x, y, logfile=None, debug=False):\n",
    "    if logfile is not None:\n",
    "        warnings.warn('logfile argument deprecated', DeprecationWarning)\n",
    "        \n",
    "func(3, 4, '1.txt')"
   ]
  },
  {
   "cell_type": "markdown",
   "metadata": {},
   "source": [
    "- warn() 경고 메시지와 경고 클래스를 함께 인자로 전달함\n",
    "- 일반적으로 사용하는 클래스는 UserWarning, DeprecationWarning, SyntaxWarning, RuntimeWarning, ResourceWarning, FutureWarning 등\n",
    "- 경고 처리는 인터프리터를 어떻게 실행했는지와 환경 설정에 따라 달라짐\n",
    "- 예를 들어 파이썬을 실행할 때 -W all 옵션을 사용했다면 다음과 같은 결과가 나옴"
   ]
  },
  {
   "cell_type": "code",
   "execution_count": 10,
   "metadata": {
    "collapsed": false
   },
   "outputs": [],
   "source": [
    "!python3 warn.py"
   ]
  },
  {
   "cell_type": "code",
   "execution_count": 11,
   "metadata": {
    "collapsed": false
   },
   "outputs": [
    {
     "name": "stdout",
     "output_type": "stream",
     "text": [
      "warn.py:5: DeprecationWarning: logfile argument deprecated\r\n",
      "  warnings.warn('logfile argument deprecated', DeprecationWarning)\r\n"
     ]
    }
   ],
   "source": [
    "!python3 -W all warn.py"
   ]
  },
  {
   "cell_type": "code",
   "execution_count": 12,
   "metadata": {
    "collapsed": false
   },
   "outputs": [
    {
     "name": "stdout",
     "output_type": "stream",
     "text": [
      "Traceback (most recent call last):\r\n",
      "  File \"warn.py\", line 7, in <module>\r\n",
      "    func(3, 4, '1.txt')\r\n",
      "  File \"warn.py\", line 5, in func\r\n",
      "    warnings.warn('logfile argument deprecated', DeprecationWarning)\r\n",
      "DeprecationWarning: logfile argument deprecated\r\n"
     ]
    }
   ],
   "source": [
    "!python3 -W error warn.py"
   ]
  },
  {
   "cell_type": "markdown",
   "metadata": {},
   "source": [
    "### 토론\n",
    "\n",
    "- 경고 메시지 생성하기는 소프트웨어를 유지하고 예외를 발생시키지도 않는, 사소한 문제를 사용자에게 전달할 때 유용한 기술\n",
    "- 예를 들어 라이브러리나 프레임워크의 동작을 변경할 예정이라면, 기존 기능을 제공하는 동안 앞으로 바뀔 내용을 경고 메시지로 표시할 수 있음\n",
    "- 그리고 사용자가 코드를 잘못 사용하고 있는 경우에도 경고할 수 있음\n",
    "- 내장된 라이브러리에서 경고 메시지를 사용하는 예제를 보자\n",
    "- 다음은 파일을 닫지 않고 제거할 때 발생하는 경고 메시지"
   ]
  },
  {
   "cell_type": "code",
   "execution_count": 13,
   "metadata": {
    "collapsed": false
   },
   "outputs": [
    {
     "name": "stderr",
     "output_type": "stream",
     "text": [
      "-c:4: ResourceWarning: unclosed file <_io.TextIOWrapper name='/etc/passwd' mode='r' encoding='UTF-8'>\n"
     ]
    }
   ],
   "source": [
    "import warnings\n",
    "warnings.simplefilter('always')\n",
    "f = open('/etc/passwd')\n",
    "del f"
   ]
  },
  {
   "cell_type": "markdown",
   "metadata": {},
   "source": [
    "- 기본적으로 모든 경고 메시지가 나타나지는 않음\n",
    "- 파이썬에 -W 옵션으로 경고 메시지 출력 제어 가능\n",
    "  - -W all: 모든 경고 메시지 출력\n",
    "  - -W ignore: 모든 경고 메시지를 무시\n",
    "  - -W error: 모든 경고를 예외로 변경\n",
    "- 혹은 warnings.simplefilter() 함수로 결과 출력을 제어 가능\n",
    "  - always: 모든 경고 메시지가 나타남\n",
    "  - ignore: 모든 경고를 무시\n",
    "  - error: 모든 경고를 예외로 변경\n",
    "- 간단한 경우에 앞에 나온 내용만으로 경고 메시지를 다루는 데 부족함이 없음\n",
    "- warnings 모듈에 경고 메시지를 걸러 내거나 처리하는 고급 기능이 더 많이 있음"
   ]
  },
  {
   "cell_type": "markdown",
   "metadata": {},
   "source": [
    "#### warnings 참고 사이트\n",
    "\n",
    "- [warnings – Non-fatal alerts - Python Module of the Week](http://pymotw.com/2/warnings/)\n",
    "- [27.6. warnings â Warning control — Python 2.7.8 documentation](https://docs.python.org/2/library/warnings.html)"
   ]
  },
  {
   "cell_type": "markdown",
   "metadata": {},
   "source": [
    "## 14.12 프로그램 크래시 디버깅\n",
    "\n",
    "### 문제\n",
    "\n",
    "- 프로그램에 문제가 생겨서 간단한 방법으로 디버깅하고 싶음\n",
    "\n",
    "### 해결\n",
    "\n",
    "- 예외를 발생시키며 프로그램이 크래시했다면, python3 -i someprogram.py 형식으로 프로그램을 실행해서 좀 더 많은 정보를 얻을 수 있음\n",
    "- -i 옵션을 붙이면 프로그램이 종료하는 즉시 인터랙티브 쉘 시작\n",
    "- 거기서부터 환경 조사 가능"
   ]
  },
  {
   "cell_type": "code",
   "execution_count": 15,
   "metadata": {
    "collapsed": false
   },
   "outputs": [
    {
     "name": "stdout",
     "output_type": "stream",
     "text": [
      "Writing sample.py\n"
     ]
    }
   ],
   "source": [
    "%%writefile sample.py\n",
    "def func(n):\n",
    "    return n + 10\n",
    "\n",
    "func('Hello')"
   ]
  },
  {
   "cell_type": "code",
   "execution_count": 16,
   "metadata": {
    "collapsed": false
   },
   "outputs": [
    {
     "name": "stdout",
     "output_type": "stream",
     "text": [
      "Traceback (most recent call last):\n",
      "  File \"sample.py\", line 4, in <module>\n",
      "    func('Hello')\n",
      "  File \"sample.py\", line 2, in func\n",
      "    return n + 10\n",
      "TypeError: Can't convert 'int' object to str implicitly\n",
      ">>> \n",
      "KeyboardInterrupt\n",
      "\n",
      ">>> \n",
      ">>> "
     ]
    }
   ],
   "source": [
    "!python3 -i sample.py"
   ]
  },
  {
   "cell_type": "markdown",
   "metadata": {},
   "source": [
    "- 그래도 어디서 잘못된 것인지 확실히 모르겠다면, 크래시 이후 파이썬 debugger를 실행해야 함"
   ]
  },
  {
   "cell_type": "code",
   "execution_count": 18,
   "metadata": {
    "collapsed": false
   },
   "outputs": [
    {
     "ename": "TypeError",
     "evalue": "Can't convert 'int' object to str implicitly",
     "output_type": "error",
     "traceback": [
      "\u001b[0;31m---------------------------------------------------------------------------\u001b[0m\n\u001b[0;31mTypeError\u001b[0m                                 Traceback (most recent call last)",
      "\u001b[0;32m<ipython-input-18-58e3830df208>\u001b[0m in \u001b[0;36m<module>\u001b[0;34m()\u001b[0m\n\u001b[1;32m      2\u001b[0m     \u001b[0;32mreturn\u001b[0m \u001b[0mn\u001b[0m \u001b[0;34m+\u001b[0m \u001b[0;36m10\u001b[0m\u001b[0;34m\u001b[0m\u001b[0m\n\u001b[1;32m      3\u001b[0m \u001b[0;34m\u001b[0m\u001b[0m\n\u001b[0;32m----> 4\u001b[0;31m \u001b[0mfunc\u001b[0m\u001b[0;34m(\u001b[0m\u001b[0;34m'Hello'\u001b[0m\u001b[0;34m)\u001b[0m\u001b[0;34m\u001b[0m\u001b[0m\n\u001b[0m",
      "\u001b[0;32m<ipython-input-18-58e3830df208>\u001b[0m in \u001b[0;36mfunc\u001b[0;34m(n)\u001b[0m\n\u001b[1;32m      1\u001b[0m \u001b[0;32mdef\u001b[0m \u001b[0mfunc\u001b[0m\u001b[0;34m(\u001b[0m\u001b[0mn\u001b[0m\u001b[0;34m)\u001b[0m\u001b[0;34m:\u001b[0m\u001b[0;34m\u001b[0m\u001b[0m\n\u001b[0;32m----> 2\u001b[0;31m     \u001b[0;32mreturn\u001b[0m \u001b[0mn\u001b[0m \u001b[0;34m+\u001b[0m \u001b[0;36m10\u001b[0m\u001b[0;34m\u001b[0m\u001b[0m\n\u001b[0m\u001b[1;32m      3\u001b[0m \u001b[0;34m\u001b[0m\u001b[0m\n\u001b[1;32m      4\u001b[0m \u001b[0mfunc\u001b[0m\u001b[0;34m(\u001b[0m\u001b[0;34m'Hello'\u001b[0m\u001b[0;34m)\u001b[0m\u001b[0;34m\u001b[0m\u001b[0m\n",
      "\u001b[0;31mTypeError\u001b[0m: Can't convert 'int' object to str implicitly"
     ]
    }
   ],
   "source": [
    "def func(n):\n",
    "    return n + 10\n",
    "\n",
    "func('Hello')"
   ]
  },
  {
   "cell_type": "code",
   "execution_count": 19,
   "metadata": {
    "collapsed": false
   },
   "outputs": [
    {
     "name": "stdout",
     "output_type": "stream",
     "text": [
      "> <ipython-input-18-58e3830df208>(2)func()\n",
      "-> return n + 10\n",
      "(Pdb) l\n",
      "  1  \tdef func(n):\n",
      "  2  ->\t    return n + 10\n",
      "  3  \t\n",
      "  4  \tfunc('Hello')\n",
      "[EOF]\n",
      "(Pdb) w\n",
      "  /Users/re4lfl0w/.virtualenvs/python3/lib/python3.4/site-packages/IPython/core/interactiveshell.py(2883)run_code()\n",
      "-> exec(code_obj, self.user_global_ns, self.user_ns)\n",
      "  <ipython-input-18-58e3830df208>(4)<module>()\n",
      "-> func('Hello')\n",
      "> <ipython-input-18-58e3830df208>(2)func()\n",
      "-> return n + 10\n",
      "(Pdb) print n\n",
      "*** SyntaxError: Missing parentheses in call to 'print'\n",
      "(Pdb) p n\n",
      "'Hello'\n",
      "(Pdb) print(n)\n",
      "Hello\n",
      "(Pdb) p n\n",
      "'Hello'\n",
      "(Pdb) l\n",
      "[EOF]\n",
      "(Pdb) q\n"
     ]
    }
   ],
   "source": [
    "import pdb\n",
    "pdb.pm()"
   ]
  },
  {
   "cell_type": "code",
   "execution_count": 48,
   "metadata": {
    "collapsed": false
   },
   "outputs": [
    {
     "name": "stdout",
     "output_type": "stream",
     "text": [
      "Writing traceback_test.py\n"
     ]
    }
   ],
   "source": [
    "%%writefile traceback_test.py\n",
    "import traceback\n",
    "import sys\n",
    "\n",
    "def func(n):\n",
    "    return n + 10\n",
    "\n",
    "try:\n",
    "    func(arg)\n",
    "except:\n",
    "    print('**** AN ERROR OCCURRED ****')\n",
    "    traceback.print_exc(file=sys.stderr)"
   ]
  },
  {
   "cell_type": "code",
   "execution_count": 49,
   "metadata": {
    "collapsed": false
   },
   "outputs": [
    {
     "name": "stdout",
     "output_type": "stream",
     "text": [
      "**** AN ERROR OCCURRED ****\r\n",
      "Traceback (most recent call last):\r\n",
      "  File \"/Users/re4lfl0w/Documents/ipython/books/python_cookbook/14/traceback.py\", line 8, in <module>\r\n",
      "    func(arg)\r\n",
      "NameError: name 'arg' is not defined\r\n",
      "\r\n",
      "During handling of the above exception, another exception occurred:\r\n",
      "\r\n",
      "Traceback (most recent call last):\r\n",
      "  File \"traceback_test.py\", line 1, in <module>\r\n",
      "    import traceback\r\n",
      "  File \"/Users/re4lfl0w/Documents/ipython/books/python_cookbook/14/traceback.py\", line 11, in <module>\r\n",
      "    traceback.print_exc(file=sys.stderr)\r\n",
      "AttributeError: 'module' object has no attribute 'print_exc'\r\n"
     ]
    }
   ],
   "source": [
    "!python3 traceback_test.py"
   ]
  },
  {
   "cell_type": "markdown",
   "metadata": {},
   "source": [
    "- 프로그램이 크래시하지는 않지만, 예상한 답이 아닌 이상한 값을 생성한다면 여기 저기 print() 호출을 추가해서 살펴볼 수 있다.\n",
    "- 하지만 이 방식을 사용할 것이라면 관련된 흥미로운 기술이 몇 가지 존재\n",
    "- 첫째로, traceback.print_stack() 함수는 실행한 지점으로부터 프로그램 스택트레이스를 생성함"
   ]
  },
  {
   "cell_type": "code",
   "execution_count": 57,
   "metadata": {
    "collapsed": false
   },
   "outputs": [
    {
     "name": "stdout",
     "output_type": "stream",
     "text": [
      "Overwriting traceback_print_stack.py\n"
     ]
    }
   ],
   "source": [
    "%%writefile traceback_print_stack.py\n",
    "import traceback\n",
    "import sys\n",
    "\n",
    "def sample(n):\n",
    "    if n > 0:\n",
    "        sample(n-1)\n",
    "    else:\n",
    "        traceback.print_stack(file=sys.stderr)\n",
    "        \n",
    "sample(5)"
   ]
  },
  {
   "cell_type": "code",
   "execution_count": 58,
   "metadata": {
    "collapsed": false
   },
   "outputs": [
    {
     "name": "stdout",
     "output_type": "stream",
     "text": [
      "  File \"traceback_print_stack.py\", line 10, in <module>\r\n",
      "    sample(5)\r\n",
      "  File \"traceback_print_stack.py\", line 6, in sample\r\n",
      "    sample(n-1)\r\n",
      "  File \"traceback_print_stack.py\", line 6, in sample\r\n",
      "    sample(n-1)\r\n",
      "  File \"traceback_print_stack.py\", line 6, in sample\r\n",
      "    sample(n-1)\r\n",
      "  File \"traceback_print_stack.py\", line 6, in sample\r\n",
      "    sample(n-1)\r\n",
      "  File \"traceback_print_stack.py\", line 6, in sample\r\n",
      "    sample(n-1)\r\n",
      "  File \"traceback_print_stack.py\", line 8, in sample\r\n",
      "    traceback.print_stack(file=sys.stderr)\r\n"
     ]
    }
   ],
   "source": [
    "!python3 traceback_print_stack.py"
   ]
  },
  {
   "cell_type": "markdown",
   "metadata": {},
   "source": [
    "- 혹은 pdb.set_trace()를 사용하면 프로그램의 어디서나 디버거를 실행할 수 있음"
   ]
  },
  {
   "cell_type": "code",
   "execution_count": 62,
   "metadata": {
    "collapsed": false
   },
   "outputs": [
    {
     "name": "stdout",
     "output_type": "stream",
     "text": [
      "> <ipython-input-62-2e9075848a03>(5)func()\n",
      "-> a = arg * 3\n",
      "(Pdb) n\n",
      "> <ipython-input-62-2e9075848a03>(6)func()\n",
      "-> s = arg + 3\n",
      "(Pdb) l\n",
      "  1  \timport pdb\n",
      "  2  \t\n",
      "  3  \tdef func(arg):\n",
      "  4  \t    pdb.set_trace()\n",
      "  5  \t    a = arg * 3\n",
      "  6  ->\t    s = arg + 3\n",
      "  7  \t\n",
      "  8  \tfunc('argument')\n",
      "[EOF]\n",
      "(Pdb) p a\n",
      "'argumentargumentargument'\n",
      "(Pdb) n\n",
      "TypeError: Can't convert 'int' object to str implicitly\n",
      "> <ipython-input-62-2e9075848a03>(6)func()\n",
      "-> s = arg + 3\n",
      "(Pdb) c\n"
     ]
    },
    {
     "ename": "TypeError",
     "evalue": "Can't convert 'int' object to str implicitly",
     "output_type": "error",
     "traceback": [
      "\u001b[0;31m---------------------------------------------------------------------------\u001b[0m\n\u001b[0;31mTypeError\u001b[0m                                 Traceback (most recent call last)",
      "\u001b[0;32m<ipython-input-62-2e9075848a03>\u001b[0m in \u001b[0;36m<module>\u001b[0;34m()\u001b[0m\n\u001b[1;32m      6\u001b[0m     \u001b[0ms\u001b[0m \u001b[0;34m=\u001b[0m \u001b[0marg\u001b[0m \u001b[0;34m+\u001b[0m \u001b[0;36m3\u001b[0m\u001b[0;34m\u001b[0m\u001b[0m\n\u001b[1;32m      7\u001b[0m \u001b[0;34m\u001b[0m\u001b[0m\n\u001b[0;32m----> 8\u001b[0;31m \u001b[0mfunc\u001b[0m\u001b[0;34m(\u001b[0m\u001b[0;34m'argument'\u001b[0m\u001b[0;34m)\u001b[0m\u001b[0;34m\u001b[0m\u001b[0m\n\u001b[0m",
      "\u001b[0;32m<ipython-input-62-2e9075848a03>\u001b[0m in \u001b[0;36mfunc\u001b[0;34m(arg)\u001b[0m\n\u001b[1;32m      4\u001b[0m     \u001b[0mpdb\u001b[0m\u001b[0;34m.\u001b[0m\u001b[0mset_trace\u001b[0m\u001b[0;34m(\u001b[0m\u001b[0;34m)\u001b[0m\u001b[0;34m\u001b[0m\u001b[0m\n\u001b[1;32m      5\u001b[0m     \u001b[0ma\u001b[0m \u001b[0;34m=\u001b[0m \u001b[0marg\u001b[0m \u001b[0;34m*\u001b[0m \u001b[0;36m3\u001b[0m\u001b[0;34m\u001b[0m\u001b[0m\n\u001b[0;32m----> 6\u001b[0;31m     \u001b[0ms\u001b[0m \u001b[0;34m=\u001b[0m \u001b[0marg\u001b[0m \u001b[0;34m+\u001b[0m \u001b[0;36m3\u001b[0m\u001b[0;34m\u001b[0m\u001b[0m\n\u001b[0m\u001b[1;32m      7\u001b[0m \u001b[0;34m\u001b[0m\u001b[0m\n\u001b[1;32m      8\u001b[0m \u001b[0mfunc\u001b[0m\u001b[0;34m(\u001b[0m\u001b[0;34m'argument'\u001b[0m\u001b[0;34m)\u001b[0m\u001b[0;34m\u001b[0m\u001b[0m\n",
      "\u001b[0;31mTypeError\u001b[0m: Can't convert 'int' object to str implicitly"
     ]
    }
   ],
   "source": [
    "import pdb\n",
    "\n",
    "def func(arg):\n",
    "    pdb.set_trace()\n",
    "    a = arg * 3\n",
    "    s = arg + 3    \n",
    "    \n",
    "func('argument')"
   ]
  },
  {
   "cell_type": "markdown",
   "metadata": {},
   "source": [
    "- 이 기술은 거대한 프로그램의 실행 흐름이나 함수의 인자와 같이 내부를 살펴볼 때 유용\n",
    "- 예를 들어 디버거를 시작하고 나면 print로 변수의 값을 보거나, w와 같은 명령어로 스택 트레이스백을 얻을 수 있음"
   ]
  },
  {
   "cell_type": "markdown",
   "metadata": {},
   "source": [
    "### 토론\n",
    "\n",
    "- 필요 이상으로 디버깅을 복잡하게 만들 필요 없음\n",
    "- 간단한 에러는 프로그램 트레이스백을 **읽기만 해도** 해결 가능한 경우가 많음(예: 실제 에러는 대게 트레이스백 마지막 줄에 있음)\n",
    "- 개발중에는 코드 중간 중간에 print() 함수를 삽입하는 것만으로도 많은 정보를 얻을 수 있음(단, 개발을 마친 후에 잊지 말고 제거해야 함)\n",
    "- 디버기는 일반적으로 프로그램이 크래시했을 때 함수 내부의 변수 내용을 보는 용도로 사용함\n",
    "- **크래시가 발생한 후**에 **디버거를 시작하는 방법은 유용**한 기술\n",
    "- pdb.set_trace() 구문을 넣으면 내부의 흐름이 어떻게 돌아가는지 정확하게 알지 못하는 매우 복잡한 프로그램을 디버깅할 때 유용함\n",
    "- 근본적으로, 프로그램은 set_trace() 호출이 나올 때까지 실행되고, 호출하는 순간 즉시 디버거로 돌입함. 거기서부터 디버깅을 시작하면 됨\n",
    "- 파이썬 개발에 IDE를 사용한다면, IDE가 pdb를 사용해서 자체적으로 디버깅 인터페이스를 제공하는 것이 일반적\n",
    "- 자세한 정보는 사용중인 IDE의 메뉴얼 참고\n",
    "\n",
    "#### PyCharm debugging\n",
    "\n",
    "- [Running and Debugging](https://www.jetbrains.com/pycharm/webhelp/running-and-debugging.html)\n",
    "- [Debugging](https://www.jetbrains.com/pycharm/webhelp/debugging.html)"
   ]
  },
  {
   "cell_type": "markdown",
   "metadata": {},
   "source": [
    "## 14.13 프로파일링과 타이밍\n",
    "\n",
    "### 문제\n",
    "\n",
    "- 프로그램에서 시간을 많이 소비하는 곳이 어디인지 찾고 그 시간을 측정하고 싶다\n",
    "\n",
    "### 해결\n",
    "\n",
    "- 프로그램의 전체 실행 시간을 측정하고 싶다면 Unix의 time 명령만으로도 충분하다"
   ]
  },
  {
   "cell_type": "code",
   "execution_count": 76,
   "metadata": {
    "collapsed": false
   },
   "outputs": [
    {
     "name": "stdout",
     "output_type": "stream",
     "text": [
      "Overwriting time_test.py\n"
     ]
    }
   ],
   "source": [
    "%%writefile time_test.py\n",
    "def add(a, b):\n",
    "    return a + b\n",
    "\n",
    "def main(MAX):\n",
    "    total = 0\n",
    "    for i in range(MAX):\n",
    "        total += add(i, i)\n",
    "        \n",
    "main(10000000)"
   ]
  },
  {
   "cell_type": "code",
   "execution_count": 77,
   "metadata": {
    "collapsed": false
   },
   "outputs": [
    {
     "name": "stdout",
     "output_type": "stream",
     "text": [
      "\r\n",
      "real\t0m2.105s\r\n",
      "user\t0m2.093s\r\n",
      "sys\t0m0.008s\r\n"
     ]
    }
   ],
   "source": [
    "!time python3 time_test.py"
   ]
  },
  {
   "cell_type": "markdown",
   "metadata": {},
   "source": [
    "- 하지만 프로그램이 어떤 일을 하고 있는지 세세한 정보가 필요하다면 cProfile 모듈을 사용해야 함"
   ]
  },
  {
   "cell_type": "code",
   "execution_count": 78,
   "metadata": {
    "collapsed": false
   },
   "outputs": [
    {
     "name": "stdout",
     "output_type": "stream",
     "text": [
      "         10000004 function calls in 3.259 seconds\r\n",
      "\r\n",
      "   Ordered by: standard name\r\n",
      "\r\n",
      "   ncalls  tottime  percall  cumtime  percall filename:lineno(function)\r\n",
      "        1    0.000    0.000    3.259    3.259 time_test.py:1(<module>)\r\n",
      " 10000000    0.982    0.000    0.982    0.000 time_test.py:1(add)\r\n",
      "        1    2.277    2.277    3.259    3.259 time_test.py:4(main)\r\n",
      "        1    0.000    0.000    3.259    3.259 {built-in method exec}\r\n",
      "        1    0.000    0.000    0.000    0.000 {method 'disable' of '_lsprof.Profiler' objects}\r\n",
      "\r\n",
      "\r\n"
     ]
    }
   ],
   "source": [
    "!python3 -m cProfile time_test.py"
   ]
  },
  {
   "cell_type": "code",
   "execution_count": 80,
   "metadata": {
    "collapsed": false
   },
   "outputs": [],
   "source": [
    "import time\n",
    "from functools import wraps\n",
    "\n",
    "def timethis(func):\n",
    "    @wraps(func)\n",
    "    def wrapper(*args, **kwargs):\n",
    "        start = time.perf_counter()\n",
    "        r = func(*args, **kwargs)\n",
    "        end = time.perf_counter()\n",
    "        print('{}.{} : {}'.format(func.__module__, \n",
    "                                  func.__name__, \n",
    "                                  end-start))\n",
    "        return r\n",
    "    return wrapper"
   ]
  },
  {
   "cell_type": "code",
   "execution_count": 82,
   "metadata": {
    "collapsed": false
   },
   "outputs": [
    {
     "name": "stdout",
     "output_type": "stream",
     "text": [
      "__main__.countdown : 0.7492873570008669\n"
     ]
    }
   ],
   "source": [
    "@timethis\n",
    "def countdown(n):\n",
    "    while n > 0:\n",
    "        n -= 1\n",
    "        \n",
    "countdown(10000000)"
   ]
  },
  {
   "cell_type": "markdown",
   "metadata": {},
   "source": [
    "- 구문의 블록 시간을 측정하려면 콘택스트 매니저를 정의함"
   ]
  },
  {
   "cell_type": "code",
   "execution_count": 83,
   "metadata": {
    "collapsed": false
   },
   "outputs": [],
   "source": [
    "from contextlib import contextmanager\n",
    "\n",
    "@contextmanager\n",
    "def timeblock(label):\n",
    "    start = time.perf_counter()\n",
    "    try:\n",
    "        yield\n",
    "    finally:\n",
    "        end = time.perf_counter()\n",
    "        print('{} : {}'.format(label, end-start))"
   ]
  },
  {
   "cell_type": "markdown",
   "metadata": {},
   "source": [
    "- 다음은 이 콘택스트 매니저가 동작하는 예제"
   ]
  },
  {
   "cell_type": "code",
   "execution_count": 84,
   "metadata": {
    "collapsed": false
   },
   "outputs": [
    {
     "name": "stdout",
     "output_type": "stream",
     "text": [
      "counting : 1.3143891820000135\n"
     ]
    }
   ],
   "source": [
    "with timeblock('counting'):\n",
    "    n = 10000000\n",
    "    while n > 0:\n",
    "        n -= 1"
   ]
  },
  {
   "cell_type": "markdown",
   "metadata": {},
   "source": [
    "- 특정 코드 조각의 성능을 측정할 때는 timeit 모듈이 유용"
   ]
  },
  {
   "cell_type": "code",
   "execution_count": 9,
   "metadata": {
    "collapsed": false
   },
   "outputs": [
    {
     "data": {
      "text/plain": [
       "0.12336524500278756"
      ]
     },
     "execution_count": 9,
     "metadata": {},
     "output_type": "execute_result"
    }
   ],
   "source": [
    "from timeit import timeit\n",
    "timeit('math.sqrt(2)', 'import math')"
   ]
  },
  {
   "cell_type": "code",
   "execution_count": 10,
   "metadata": {
    "collapsed": false
   },
   "outputs": [
    {
     "data": {
      "text/plain": [
       "0.08896779199858429"
      ]
     },
     "execution_count": 10,
     "metadata": {},
     "output_type": "execute_result"
    }
   ],
   "source": [
    "timeit('sqrt(2)', 'from math import sqrt')"
   ]
  },
  {
   "cell_type": "code",
   "execution_count": 11,
   "metadata": {
    "collapsed": false
   },
   "outputs": [],
   "source": [
    "import math\n",
    "def sqrt1():\n",
    "    return math.sqrt(2)"
   ]
  },
  {
   "cell_type": "code",
   "execution_count": 12,
   "metadata": {
    "collapsed": false
   },
   "outputs": [
    {
     "name": "stdout",
     "output_type": "stream",
     "text": [
      "1000000 loops, best of 3: 205 ns per loop\n"
     ]
    }
   ],
   "source": [
    "%timeit sqrt1()"
   ]
  },
  {
   "cell_type": "code",
   "execution_count": 13,
   "metadata": {
    "collapsed": false
   },
   "outputs": [],
   "source": [
    "from math import sqrt\n",
    "def sqrt2():\n",
    "    return sqrt(2)"
   ]
  },
  {
   "cell_type": "code",
   "execution_count": 14,
   "metadata": {
    "collapsed": false
   },
   "outputs": [
    {
     "name": "stdout",
     "output_type": "stream",
     "text": [
      "10000000 loops, best of 3: 157 ns per loop\n"
     ]
    }
   ],
   "source": [
    "%timeit sqrt2()"
   ]
  },
  {
   "cell_type": "markdown",
   "metadata": {},
   "source": [
    "- timeit은 첫 번째 인자로 명시된 코드를 백만 번 실행하고 그 시간을 측정함\n",
    "- 두번째 인자는 테스트를 실행하기 위해 필요한 환경을 설정하는 문자열\n",
    "- 실행하는 횟수를 조절하고 싶으면 다음과 같이 number 인자를 추가함"
   ]
  },
  {
   "cell_type": "code",
   "execution_count": 16,
   "metadata": {
    "collapsed": false
   },
   "outputs": [
    {
     "data": {
      "text/plain": [
       "1.1827796819998184"
      ]
     },
     "execution_count": 16,
     "metadata": {},
     "output_type": "execute_result"
    }
   ],
   "source": [
    "timeit('math.sqrt(2)', 'import math', number=10000000)"
   ]
  },
  {
   "cell_type": "code",
   "execution_count": 18,
   "metadata": {
    "collapsed": false
   },
   "outputs": [
    {
     "data": {
      "text/plain": [
       "0.8908851390006021"
      ]
     },
     "execution_count": 18,
     "metadata": {},
     "output_type": "execute_result"
    }
   ],
   "source": [
    "timeit('sqrt(2)', 'from math import sqrt', number=10000000)"
   ]
  },
  {
   "cell_type": "markdown",
   "metadata": {},
   "source": [
    "- 성능을 측정할 때, 결과값은 **항상 근사치**라는 점을 유념\n",
    "- 앞에 나온 에제에서는 time.perf_counter() 함수로 좀 더 정확한 시간을 측정했음\n",
    "- 하지만 이 역시 벽시계 시간(wall-clock time)을 측정하는 것이고, 컴퓨터의 부하와 같이 다른 요소에 영향을 받을 수 있음\n",
    "- 벽시계 시간이 아닌 프로세스 시간에 관심이 있다면 time.process_time()을 사용"
   ]
  },
  {
   "cell_type": "code",
   "execution_count": 21,
   "metadata": {
    "collapsed": false
   },
   "outputs": [],
   "source": [
    "import time\n",
    "from functools import wraps\n",
    "\n",
    "def timethis(func):\n",
    "    @wraps(func)\n",
    "    def wrapper(*args, **kwargs):\n",
    "        start = time.process_time()\n",
    "        r = func(*args, **kwargs)\n",
    "        end = time.process_time()\n",
    "        print('{}.{} : {}'.format(func.__module__, \n",
    "                                  func.__name__, \n",
    "                                  end-start))\n",
    "        return r\n",
    "    return wrapper"
   ]
  },
  {
   "cell_type": "code",
   "execution_count": 22,
   "metadata": {
    "collapsed": false
   },
   "outputs": [
    {
     "name": "stdout",
     "output_type": "stream",
     "text": [
      "__main__.countdown : 0.7182929999999992\n"
     ]
    }
   ],
   "source": [
    "@timethis\n",
    "def countdown(n):\n",
    "    while n > 0:\n",
    "        n -= 1\n",
    "        \n",
    "countdown(10000000)"
   ]
  },
  {
   "cell_type": "markdown",
   "metadata": {},
   "source": [
    "- 마지막으로, 자세한 타이밍 분석을 해야 한다면 time, timeit 등 관련 모듈의 문서를 잘 읽어서 플랫폼의 차이점 등을 잘 이해하도록 함\n",
    "- 스톱워치 타이머 클래스를 만들어 보았던 레시피 13.13도 참고하도록 한다\n",
    "\n",
    "#### timeit\n",
    "\n",
    "- [26.6. timeit â Measure execution time of small code snippets — Python 2.7.8 documentation](https://docs.python.org/2/library/timeit.html)\n",
    "- [timeit – Time the execution of small bits of Python code. - Python Module of the Week](http://pymotw.com/2/timeit/)"
   ]
  },
  {
   "cell_type": "markdown",
   "metadata": {},
   "source": [
    "## 14.14 프로그램 실행 속도 향상\n",
    "\n",
    "### 문제\n",
    "\n",
    "- 프로그램 실행 속도가 너무 느리다.\n",
    "- 이때 C 확장이나 just-in-time(JIT) 컴파일러와 같은 극단적인 해결책의 도움없이 속도를 향상시키고 싶다\n",
    "\n",
    "### 해결\n",
    "\n",
    "- 최적화의 첫 번째 규칙은 **\"하지 않는 것\"**이고, 두 번째 규칙은 **\"중요하지 않은 것을 최적화 하지 마라\"**\n",
    "- 이 목적을 달성하려면 우선 레시피 14.13에 나왔던 방법으로 코드를 **프로파일링**해야 함\n",
    "- 대개 프로그램의 실행 시간을 대부분 차지하는 곳은 **내부 데이터 처리 루프** 등 **몇 군데**로 압축됨\n",
    "- 이 위치를 알아냈다면, 다음에 나오는 기술을 사용해서 프로그램 실행 속도를 향상시켜 보자"
   ]
  },
  {
   "cell_type": "markdown",
   "metadata": {},
   "source": [
    "#### 함수 사용\n",
    "\n",
    "- 많은 프로그래머들은 파이썬을 단순한 스크립트 작성에 사용함\n",
    "- 스크립트를 작성할 때는 아주 간단한 구조로 코드를 쓰는 경우가 많음\n",
    "\n",
    "```python\n",
    "# somescript.py\n",
    "import sys\n",
    "import csv\n",
    "\n",
    "with open(sys.argv[1]) as f:\n",
    "    for row in csv.reader(f):\n",
    "        # 작업 수행\n",
    "        ...\n",
    "```\n",
    "\n",
    "- 이와 같이 전역 영역에 정의된 코드는 함수에 정의한 코드보다 실행 속도가 느리다는 사실을 아는 사람이 많지 않음\n",
    "- 속도 차이는 지역과 전역변수의 구현에서 비롯됨(지역 관련 변수의 실행 속도가 더 빠름)\n",
    "- 따라서 프로그램 실행 속도를 향상시키려면 간단히 스크립트 구문을 함수 안에 넣으면 됨\n",
    "\n",
    "```python\n",
    "# somescript.py\n",
    "import sys\n",
    "import csv\n",
    "\n",
    "def main(filename):\n",
    "    with open(filename) as f:\n",
    "        for row in csv.reader(f):\n",
    "            # 작업 수행\n",
    "            ...\n",
    "main(sys.argv[1])\n",
    "```\n",
    "\n",
    "- 속도 차이는 수행하는 작업에 따라 크게 다르지만, 경험에 따르면 15~30% 정도의 향상이 놀라울 정도는 아니다."
   ]
  },
  {
   "cell_type": "markdown",
   "metadata": {},
   "source": [
    "#### 속성 접근의 선택적 삭제\n",
    "\n",
    "- 점(.) 연산자로 속성에 접근하는 작업에는 대가가 따른다.\n",
    "- 코드 내부적으로는 \\_\\_getattribute\\_\\_()와 \\_\\_getattr\\_\\_() 같은 특별 메소드를 호출하느넫, 결국 딕셔너리 검색으로 이어지는 경우가 많음\n",
    "- 속성 사용은 from module import name 형식의 임포트와 선택적인 바운드 메소드 사용으로 피해갈 수 있음\n",
    "- 이해를 돕기 위해 다음과 같은 코드가 있다고 가정해 보자"
   ]
  },
  {
   "cell_type": "code",
   "execution_count": 28,
   "metadata": {
    "collapsed": false
   },
   "outputs": [],
   "source": [
    "import math\n",
    "from math import sqrt\n",
    "\n",
    "def compute_roots1(nums):\n",
    "    result = []\n",
    "    for n in nums:\n",
    "        result.append(math.sqrt(n))\n",
    "    return result\n",
    "\n",
    "def compute_roots2(nums):\n",
    "    result = []\n",
    "    result_append = result.append\n",
    "    for n in nums:\n",
    "        result_append(sqrt(n))\n",
    "    return result\n",
    "\n",
    "\n",
    "def main1():\n",
    "    # 테스트\n",
    "    nums = range(1000000)\n",
    "    for i in range(100):\n",
    "        r = compute_roots1(nums)\n",
    "\n",
    "def main2():\n",
    "    # 테스트\n",
    "    nums = range(1000000)\n",
    "    for i in range(100):\n",
    "        r = compute_roots2(nums)"
   ]
  },
  {
   "cell_type": "code",
   "execution_count": 30,
   "metadata": {
    "collapsed": false
   },
   "outputs": [
    {
     "name": "stdout",
     "output_type": "stream",
     "text": [
      "CPU times: user 20.4 s, sys: 927 ms, total: 21.3 s\n",
      "Wall time: 21.3 s\n"
     ]
    }
   ],
   "source": [
    "%time main1()"
   ]
  },
  {
   "cell_type": "code",
   "execution_count": 29,
   "metadata": {
    "collapsed": false
   },
   "outputs": [
    {
     "name": "stdout",
     "output_type": "stream",
     "text": [
      "CPU times: user 14 s, sys: 942 ms, total: 14.9 s\n",
      "Wall time: 14.9 s\n"
     ]
    }
   ],
   "source": [
    "%time main2()"
   ]
  },
  {
   "cell_type": "markdown",
   "metadata": {},
   "source": [
    "#### 변수의 지역성 이해\n",
    "\n",
    "- 앞에서 설명한 대로 지역변수는 전역변수보다 실행 속도가 빠름\n",
    "- 빈번하게 접근하는 이름의 경우 최대한 지역에 가깝게 만들어서 속도 향상을 도모할 수 있음\n",
    "- 예를 들어 앞에 나왔던 compute_roots() 함수를 다음처럼 수정해 보자"
   ]
  },
  {
   "cell_type": "code",
   "execution_count": 31,
   "metadata": {
    "collapsed": false
   },
   "outputs": [],
   "source": [
    "import math\n",
    "\n",
    "def compute_roots3(nums):\n",
    "    sqrt = math.sqrt\n",
    "    result = []\n",
    "    result_append = result.append\n",
    "    for n in nums:\n",
    "        result_append(sqrt(n))\n",
    "    return result\n",
    "\n",
    "def main3():\n",
    "    # 테스트\n",
    "    nums = range(1000000)\n",
    "    for i in range(100):\n",
    "        r = compute_roots3(nums)"
   ]
  },
  {
   "cell_type": "code",
   "execution_count": 32,
   "metadata": {
    "collapsed": false
   },
   "outputs": [
    {
     "name": "stdout",
     "output_type": "stream",
     "text": [
      "CPU times: user 13 s, sys: 898 ms, total: 13.9 s\n",
      "Wall time: 13.9 s\n"
     ]
    }
   ],
   "source": [
    "%time main3()"
   ]
  },
  {
   "cell_type": "markdown",
   "metadata": {},
   "source": [
    "- 13.9s: 지역변수에서 불러오기\n",
    "- 14.9s: .연산자 선택적 삭제\n",
    "- 21.3s: 일반적 접근"
   ]
  },
  {
   "cell_type": "markdown",
   "metadata": {},
   "source": [
    "- 이 버전에서 sqrt를 math 모듈에서 가져와 지역변수에 넣었다. 이 코드를 실행해 보면 이제 25초로 시간이 다시 줄어들었음(29초에서 4초 향상)\n",
    "- 이는 sqrt를 전역 레벨에서 찾지않고 **지역 레벨에서 찾는 것이 더 빠르기** 때문에 일어난 현상\n",
    "\n",
    "\n",
    "- 클래스에서 작업할 때 지역 인자도 적용됨\n",
    "- 일반적으로 self.name과 같이 값을 찾는 것이 지역변수에 접근하는 것보다 느리다.\n",
    "- 순환문 내부에서 자주 접근하는 속성을 지역변수에 넣으면 실행 속도가 빨라짐\n",
    "\n",
    "```python\n",
    "# 느림\n",
    "class SomeClass:\n",
    "    ...\n",
    "    def method(self):\n",
    "        for x in s:\n",
    "            op(self.value)\n",
    "            \n",
    "# 빠름\n",
    "class SomeClass:\n",
    "    ...\n",
    "    def method(self):\n",
    "        value = self.value\n",
    "        for x in s:\n",
    "            op(value)\n",
    "```"
   ]
  },
  {
   "cell_type": "markdown",
   "metadata": {},
   "source": [
    "#### 불필요한 추상화 피하기\n",
    "\n",
    "- 데코레이터나 프로퍼티, 디스크립터 등 코드를 추가적인 처리 레이어로 감쌀 때마다 실행 속도가 느려짐"
   ]
  },
  {
   "cell_type": "code",
   "execution_count": 33,
   "metadata": {
    "collapsed": false
   },
   "outputs": [],
   "source": [
    "class A:\n",
    "    def __init__(self, x, y):\n",
    "        self.x = x\n",
    "        self.y = y\n",
    "        \n",
    "    @property\n",
    "    def y(self):\n",
    "        return self._y\n",
    "    \n",
    "    @y.setter\n",
    "    def y(self, value):\n",
    "        self._y = value"
   ]
  },
  {
   "cell_type": "code",
   "execution_count": 34,
   "metadata": {
    "collapsed": false
   },
   "outputs": [],
   "source": [
    "a = A(1, 2)"
   ]
  },
  {
   "cell_type": "code",
   "execution_count": 41,
   "metadata": {
    "collapsed": false
   },
   "outputs": [
    {
     "data": {
      "text/plain": [
       "1"
      ]
     },
     "execution_count": 41,
     "metadata": {},
     "output_type": "execute_result"
    }
   ],
   "source": [
    "a.x"
   ]
  },
  {
   "cell_type": "code",
   "execution_count": 42,
   "metadata": {
    "collapsed": false
   },
   "outputs": [
    {
     "data": {
      "text/plain": [
       "2"
      ]
     },
     "execution_count": 42,
     "metadata": {},
     "output_type": "execute_result"
    }
   ],
   "source": [
    "a.y"
   ]
  },
  {
   "cell_type": "code",
   "execution_count": 44,
   "metadata": {
    "collapsed": false
   },
   "outputs": [],
   "source": [
    "a.y = 5"
   ]
  },
  {
   "cell_type": "code",
   "execution_count": 45,
   "metadata": {
    "collapsed": false
   },
   "outputs": [
    {
     "data": {
      "text/plain": [
       "5"
      ]
     },
     "execution_count": 45,
     "metadata": {},
     "output_type": "execute_result"
    }
   ],
   "source": [
    "a.y"
   ]
  },
  {
   "cell_type": "code",
   "execution_count": 35,
   "metadata": {
    "collapsed": false
   },
   "outputs": [
    {
     "name": "stdout",
     "output_type": "stream",
     "text": [
      "10000000 loops, best of 3: 56.1 ns per loop\n"
     ]
    }
   ],
   "source": [
    "%timeit a.x"
   ]
  },
  {
   "cell_type": "code",
   "execution_count": 36,
   "metadata": {
    "collapsed": false
   },
   "outputs": [
    {
     "name": "stdout",
     "output_type": "stream",
     "text": [
      "10000000 loops, best of 3: 170 ns per loop\n"
     ]
    }
   ],
   "source": [
    "%timeit a.y"
   ]
  },
  {
   "cell_type": "markdown",
   "metadata": {},
   "source": [
    "- 이제 간단한 시간 측정"
   ]
  },
  {
   "cell_type": "code",
   "execution_count": 37,
   "metadata": {
    "collapsed": false
   },
   "outputs": [],
   "source": [
    "from timeit import timeit"
   ]
  },
  {
   "cell_type": "code",
   "execution_count": 38,
   "metadata": {
    "collapsed": false
   },
   "outputs": [],
   "source": [
    "a = A(1, 2)"
   ]
  },
  {
   "cell_type": "code",
   "execution_count": 39,
   "metadata": {
    "collapsed": false
   },
   "outputs": [
    {
     "data": {
      "text/plain": [
       "0.04903155400097603"
      ]
     },
     "execution_count": 39,
     "metadata": {},
     "output_type": "execute_result"
    }
   ],
   "source": [
    "timeit('a.x', 'from __main__ import a')"
   ]
  },
  {
   "cell_type": "code",
   "execution_count": 40,
   "metadata": {
    "collapsed": false
   },
   "outputs": [
    {
     "data": {
      "text/plain": [
       "0.18678854100289755"
      ]
     },
     "execution_count": 40,
     "metadata": {},
     "output_type": "execute_result"
    }
   ],
   "source": [
    "timeit('a.y', 'from __main__ import a')"
   ]
  },
  {
   "cell_type": "markdown",
   "metadata": {},
   "source": [
    "- 보는 것처럼 프로퍼티 y 접근은 단순히 x에 접근하는 것보다 4.5배 이상 느리다.\n",
    "- 이런 차이점이 문제가 된다면 y 정의에 사용한 프로퍼티가 정말로 필요한 것인지 진지하게 고민해 보아야 함\n",
    "- 만약 필요 없다고 판단한다면 프로퍼티를 제거하고 단순히 속성을 사용하는 방법을 채택\n",
    "- 다른 프로그램 언어에서 게터/세터 함수를 사용하는 것이 일반적이라고 해서 파이썬에서 이 방식을 꼭 따라야 할 의무는 없음"
   ]
  },
  {
   "cell_type": "markdown",
   "metadata": {},
   "source": [
    "#### 내장 컨테이너 사용\n",
    "\n",
    "- 문자열, 튜플, 리스트, 세트, 딕셔너리 등 내장된 데이터 타입은 모두 C로 구현되어 있고 따라서 실행 속도가 상대적으로 빠름\n",
    "- 만약 이런 것 대신에 스스로 자료 구조를 만들고 싶다면(예: 링크드 리스트, 밸런스 트리 등), 내장된 자료 구조의 속도를 따라잡기는 거의 불가능\n",
    "- 따라서 괜히 고생하지 마록 이미 제공되고 있는 것을 사용하도록 하자"
   ]
  },
  {
   "cell_type": "markdown",
   "metadata": {},
   "source": [
    "#### 불필요한 자료 구조 생성이나 복사 피하기\n",
    "\n",
    "- 프로그래머들은 종졸 불필요한 자료 구조를 만들기도 함\n",
    "- 예를 들어 다음 코드를 보자"
   ]
  },
  {
   "cell_type": "code",
   "execution_count": 48,
   "metadata": {
    "collapsed": false
   },
   "outputs": [],
   "source": [
    "sequence = range(10)"
   ]
  },
  {
   "cell_type": "code",
   "execution_count": 50,
   "metadata": {
    "collapsed": false
   },
   "outputs": [
    {
     "data": {
      "text/plain": [
       "[0, 1, 2, 3, 4, 5, 6, 7, 8, 9]"
      ]
     },
     "execution_count": 50,
     "metadata": {},
     "output_type": "execute_result"
    }
   ],
   "source": [
    "values = [x for x in sequence]\n",
    "values"
   ]
  },
  {
   "cell_type": "code",
   "execution_count": 51,
   "metadata": {
    "collapsed": false
   },
   "outputs": [
    {
     "data": {
      "text/plain": [
       "[0, 1, 4, 9, 16, 25, 36, 49, 64, 81]"
      ]
     },
     "execution_count": 51,
     "metadata": {},
     "output_type": "execute_result"
    }
   ],
   "source": [
    "squares = [x*x for x in values]\n",
    "squares"
   ]
  },
  {
   "cell_type": "markdown",
   "metadata": {},
   "source": [
    "- 아마도 여러 값을 리스트에 넣고 그 값으로 리스트 컴프리헨션과 같은 작업을 하려는 의도일 것\n",
    "- 하지만 첫 번째 나오는 리스트는 전혀 필요가 없다.\n",
    "- 앞에 나온 코드는 다음과 같이 개선할 수 있음"
   ]
  },
  {
   "cell_type": "code",
   "execution_count": 52,
   "metadata": {
    "collapsed": false
   },
   "outputs": [
    {
     "data": {
      "text/plain": [
       "[0, 1, 4, 9, 16, 25, 36, 49, 64, 81]"
      ]
     },
     "execution_count": 52,
     "metadata": {},
     "output_type": "execute_result"
    }
   ],
   "source": [
    "squares = [x*x for x in sequence]\n",
    "squares"
   ]
  },
  {
   "cell_type": "markdown",
   "metadata": {},
   "source": [
    "- 이와 관련해서, 파이썬의 값 공유에 대해 편집증적인 반응을 보이는 프로그래머가 작성한 코드를 주의하도록 함\n",
    "- copy.deepcopy()와 같은 함수를 남용했다면, 이 코드를 작성한 사람은 파이썬의 메모리 모델을 믿지 못하거나 잘 이해하지 못했을 확률이 크다.\n",
    "- 그런 코드에서는, 여러 복사본을 제거해도 안전할 것"
   ]
  },
  {
   "cell_type": "markdown",
   "metadata": {},
   "source": [
    "### 토론\n",
    "\n",
    "- **최적화를 하기 전**에, 우선적으로 사용하고 있는 **알고리즘에 대한 연구를 하는 것이 좋음**\n",
    "- O(n\\*\\*2) 알고리즘을 사용한 코드를 아무리 최적화한다고 해도 O(n log n) 알고리즘을 사용한 코드보다 실행 속도가 훨씬 느릴 것\n",
    "- 여전히 최적화를 해야 한다고 생각하면, 우선 큰 그림부터 그려 보도록 하자\n",
    "- 일반적으로 프로그램의 **모든 부분에 최적화를 적용**하면 코드를 **읽기도 어렵고 이해하기도 어렵게** 만든다.\n",
    "- 세세한 최적화 결과를 해설할 때는 주의해야 함\n",
    "- 예를 들어 딕셔너리를 생성하는 다음 두 코드를 살펴보자"
   ]
  },
  {
   "cell_type": "code",
   "execution_count": 53,
   "metadata": {
    "collapsed": false
   },
   "outputs": [],
   "source": [
    "a = {\n",
    "'name': 'AAPL',\n",
    "'shares': 100,\n",
    "'price': 534.22\n",
    "}"
   ]
  },
  {
   "cell_type": "code",
   "execution_count": 54,
   "metadata": {
    "collapsed": false
   },
   "outputs": [],
   "source": [
    "b = dict(name='AAPL', shares=100, price=534.22)"
   ]
  },
  {
   "cell_type": "code",
   "execution_count": 55,
   "metadata": {
    "collapsed": false
   },
   "outputs": [
    {
     "name": "stdout",
     "output_type": "stream",
     "text": [
      "10000000 loops, best of 3: 25.9 ns per loop\n"
     ]
    }
   ],
   "source": [
    "%timeit a"
   ]
  },
  {
   "cell_type": "code",
   "execution_count": 56,
   "metadata": {
    "collapsed": false
   },
   "outputs": [
    {
     "name": "stdout",
     "output_type": "stream",
     "text": [
      "10000000 loops, best of 3: 28.3 ns per loop\n"
     ]
    }
   ],
   "source": [
    "%timeit b"
   ]
  },
  {
   "cell_type": "markdown",
   "metadata": {},
   "source": [
    "- 두번째(b) 방식의 코드가 더 간결(키 이름을 따옴표로 묶을 필요가 없다)\n",
    "- 하지만 두 코드를 놓고 성능을 비교해 보면, dict()를 사용한 것이 3 배 정도 느리다!\n",
    "- 그렇다면 이제 dict()를 사용한 모든 부분을 찾아서 첫번째(a) 방식으로 모두 변환하는 것이 좋을까?\n",
    "- 영리한 프로그래머라면 이 부분을 수정하지 않고 그냥 둘 것\n",
    "- 그보다는 **내부 순환문**과 같이 **실행 속도에 직접적으로 영향을 주는 곳을 찾아 최적화**하는 것이 좋음\n",
    "- 그 이외의 장소에 대해서는 이 속도 차이가 거의 아무런 차이도 만들지 못함\n",
    "- 만약 작성중인 프로그램의 성능이 이번 레시피에서 다룬 최적화로는 어림없을 만큼 중요하다면 **just-in-time(JIT) 컴파일 기술에 기반한 도구 사용**을 고려하도록 하자\n",
    "- 예를 들어 PyPy 프로젝트는 파이썬 인터프리터의 대안 구현으로, 프로그램 실행을 분석하고 빈번히 실행되는 부분에 대해서 네이티브 코드를 생성함\n",
    "- 이 기술을 사용하면 파이썬 프로그램의 실행 속도가 비약적으로 증가하고, 때로는 C로 작성한 프로그램 속도에 근접하거나 심지어 더 빨라지기도 함\n",
    "- 하지만 안타깝게도 이 책을 집필하고 있는 현재 PyPy는 파이썬3를 완벽히 지원하지 않는다.\n",
    "- Numba는 다이내믹 컴파일로서 데코레이터로 최적화하고 싶은 파이썬 함수에 주석을 단다.\n",
    "- 이런 함수는 LLVM을 사용해서 네이티브 코드로 컴파일 됨\n",
    "- 이 역시 엄청난 성능 향상을 가져오지만, PyPy와 마찬가지로 파이썬3 지원에 대해서는 아직 미비한 점이 존재\n",
    "- 마지막으로 존 아우스터하우트(John Ousterhout)의 **\"완벽한 성능 향상은 동작하지 않는 것을 동작 상태로 변이하는 것이다\"**라는 말을 꼭 기억하자\n",
    "- 꼭 필요하지 않다면 최적화에 대해서 걱정하지 않아도 좋다.\n",
    "- 프로그램이 **올바르게 동작**하도록 만드는 것이 빠르게 실행하도록 만드는 것보다 **훨씬 중요**하다(**적어도 초기에는**)"
   ]
  }
 ],
 "metadata": {
  "kernelspec": {
   "display_name": "Python 2",
   "language": "python",
   "name": "python2"
  },
  "language_info": {
   "codemirror_mode": {
    "name": "ipython",
    "version": 2
   },
   "file_extension": ".py",
   "mimetype": "text/x-python",
   "name": "python",
   "nbconvert_exporter": "python",
   "pygments_lexer": "ipython2",
   "version": "2.7.10"
  }
 },
 "nbformat": 4,
 "nbformat_minor": 0
}

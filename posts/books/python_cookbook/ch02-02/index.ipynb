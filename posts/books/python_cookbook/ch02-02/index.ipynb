{
 "metadata": {
  "name": "",
  "signature": "sha256:c82ba2424bd4b54475fb6409879bc76899bb9f65dafafd60411ac1f91b0a6ff2"
 },
 "nbformat": 3,
 "nbformat_minor": 0,
 "worksheets": [
  {
   "cells": [
    {
     "cell_type": "markdown",
     "metadata": {},
     "source": [
      "## 2.11 \ubb38\uc790\uc5f4\uc5d0\uc11c \ubb38\uc790 \uc798\ub77c\ub0b4\uae30\n",
      "\n",
      "### \ubb38\uc81c\n",
      "\n",
      "- \ud14d\uc2a4\ud2b8\uc758 \ucc98\uc74c, \ub05d, \uc911\uac04\uc5d0\uc11c \uc6d0\ud558\uc9c0 \uc54a\ub294 \uacf5\ubc31\ubb38 \ub4f1\uc744 \uc798\ub77c\ub0b4\uace0 \uc2f6\ub2e4\n",
      "\n",
      "### \ud574\uacb0\n",
      "\n",
      "- strip() \uba54\uc18c\ub4dc\ub97c \uc0ac\uc6a9\ud558\uba74 \ubb38\uc790\uc5f4\uc758 \ucc98\uc74c\uacfc \ub05d\uc5d0\uc11c \ubb38\uc790\ub97c \uc798\ub77c\ub0bc \uc218 \uc788\ub2e4.\n",
      "- lstrip(), rstrip()"
     ]
    },
    {
     "cell_type": "code",
     "collapsed": false,
     "input": [
      "# \uacf5\ubc31\ubb38 \uc798\ub77c\ub0b4\uae30\n",
      "s = '   hello world \\n'"
     ],
     "language": "python",
     "metadata": {},
     "outputs": [],
     "prompt_number": 250
    },
    {
     "cell_type": "code",
     "collapsed": false,
     "input": [
      "s.strip()"
     ],
     "language": "python",
     "metadata": {},
     "outputs": [
      {
       "metadata": {},
       "output_type": "pyout",
       "prompt_number": 251,
       "text": [
        "'hello world'"
       ]
      }
     ],
     "prompt_number": 251
    },
    {
     "cell_type": "code",
     "collapsed": false,
     "input": [
      "s.lstrip()"
     ],
     "language": "python",
     "metadata": {},
     "outputs": [
      {
       "metadata": {},
       "output_type": "pyout",
       "prompt_number": 252,
       "text": [
        "'hello world \\n'"
       ]
      }
     ],
     "prompt_number": 252
    },
    {
     "cell_type": "code",
     "collapsed": false,
     "input": [
      "s.rstrip()"
     ],
     "language": "python",
     "metadata": {},
     "outputs": [
      {
       "metadata": {},
       "output_type": "pyout",
       "prompt_number": 253,
       "text": [
        "'   hello world'"
       ]
      }
     ],
     "prompt_number": 253
    },
    {
     "cell_type": "code",
     "collapsed": false,
     "input": [
      "# \ubb38\uc790 \uc798\ub77c\ub0b4\uae30\n",
      "t = '-----hello====='"
     ],
     "language": "python",
     "metadata": {},
     "outputs": [],
     "prompt_number": 254
    },
    {
     "cell_type": "code",
     "collapsed": false,
     "input": [
      "t.lstrip('-')"
     ],
     "language": "python",
     "metadata": {},
     "outputs": [
      {
       "metadata": {},
       "output_type": "pyout",
       "prompt_number": 255,
       "text": [
        "'hello====='"
       ]
      }
     ],
     "prompt_number": 255
    },
    {
     "cell_type": "code",
     "collapsed": false,
     "input": [
      "t.rstrip('=')"
     ],
     "language": "python",
     "metadata": {},
     "outputs": [
      {
       "metadata": {},
       "output_type": "pyout",
       "prompt_number": 256,
       "text": [
        "'-----hello'"
       ]
      }
     ],
     "prompt_number": 256
    },
    {
     "cell_type": "markdown",
     "metadata": {},
     "source": [
      "### \ud1a0\ub860\n",
      "\n",
      "- \ub370\uc774\ud130\ub97c \ubcf4\uae30 \uc88b\uac8c \ub9cc\ub4e4\uae30 \uc704\ud55c \uc6a9\ub3c4\ub85c \uc5ec\ub7ec strip() \uba54\uc18c\ub4dc\ub97c \uc77c\ubc18\uc801\uc73c\ub85c \uc0ac\uc6a9\n",
      "- \ubb38\uc790\uc5f4\uc5d0\uc11c \uacf5\ubc31\ubb38\uc744 \uc5c6\uc560\uac70\ub098 \uc778\uc6a9 \ubd80\ud638\ub97c \uc0ad\uc81c\ud558\uac70\ub098 \ud558\ub294 \uc2dd\n",
      "- \ud558\uc9c0\ub9cc \ud14d\uc2a4\ud2b8\uc758 \uc911\uac04\uc5d0\uc11c \uc798\ub77c\ub0b4\uae30\ub97c \ud560 \uc218\ub294 \uc5c6\ub2e4."
     ]
    },
    {
     "cell_type": "code",
     "collapsed": false,
     "input": [
      "s = ' hello      world    \\n'"
     ],
     "language": "python",
     "metadata": {},
     "outputs": [],
     "prompt_number": 257
    },
    {
     "cell_type": "code",
     "collapsed": false,
     "input": [
      "s = s.strip()\n",
      "s"
     ],
     "language": "python",
     "metadata": {},
     "outputs": [
      {
       "metadata": {},
       "output_type": "pyout",
       "prompt_number": 258,
       "text": [
        "'hello      world'"
       ]
      }
     ],
     "prompt_number": 258
    },
    {
     "cell_type": "markdown",
     "metadata": {},
     "source": [
      "- \uc911\uac04\uc758 \uacf5\ubc31\ubb38\uc744 \ucc98\ub9ac\ud558\ub824\uba74 replace() \uba54\uc18c\ub4dc\ub098 \uc815\uaddc\ud45c\ud604\uc2dd\uc758 \uce58\ud658\uc744 \uc0ac\uc6a9\ud574\uc57c \ub428"
     ]
    },
    {
     "cell_type": "code",
     "collapsed": false,
     "input": [
      "s.replace(' ', '')"
     ],
     "language": "python",
     "metadata": {},
     "outputs": [
      {
       "metadata": {},
       "output_type": "pyout",
       "prompt_number": 259,
       "text": [
        "'helloworld'"
       ]
      }
     ],
     "prompt_number": 259
    },
    {
     "cell_type": "code",
     "collapsed": false,
     "input": [
      "import re"
     ],
     "language": "python",
     "metadata": {},
     "outputs": [],
     "prompt_number": 260
    },
    {
     "cell_type": "code",
     "collapsed": false,
     "input": [
      "re.sub('\\s+', ' ', s)"
     ],
     "language": "python",
     "metadata": {},
     "outputs": [
      {
       "metadata": {},
       "output_type": "pyout",
       "prompt_number": 261,
       "text": [
        "'hello world'"
       ]
      }
     ],
     "prompt_number": 261
    },
    {
     "cell_type": "markdown",
     "metadata": {},
     "source": [
      "- \ub54c\ub85c\ub294 \ud30c\uc77c\uc744 \uc21c\ud658\ud558\uba70 \ub370\uc774\ud130\ub97c \uc77d\uc5b4 \ub4e4\uc774\ub294 \uac83\uacfc \uac19\uc774 \ub2e4\ub978 \uc791\uc5c5\uacfc \ubb38\uc790\uc5f4\uc744 \uc798\ub77c\ub0b4\ub294 \uc791\uc5c5\uc744 \ub3d9\uc2dc\uc5d0 \ud558\uace0 \uc2f6\uc744 \uc218 \uc788\ub2e4. \uc774\ub7f4\ub54c\ub294 \uc0dd\uc131\uc790 \ud45c\ud604\uc2dd\uc744 \uc0ac\uc6a9\ud558\ub294 \uac83\uc774 \uc88b\uc74c"
     ]
    },
    {
     "cell_type": "code",
     "collapsed": false,
     "input": [
      "with open('02/test2.py') as f:\n",
      "    lines = (line.rstrip() for line in f)\n",
      "    for line in lines:\n",
      "        print(line)"
     ],
     "language": "python",
     "metadata": {},
     "outputs": [
      {
       "output_type": "stream",
       "stream": "stdout",
       "text": [
        "def makeActions():\n",
        "    acts = []\n",
        "    for i in range(10):\n",
        "        acts.append(lambda x: i ** x)\n",
        "    return acts\n",
        "\n",
        "acts = makeActions()\n",
        "print(acts[0](2))\n",
        "print(acts[4](2))\n"
       ]
      }
     ],
     "prompt_number": 264
    },
    {
     "cell_type": "markdown",
     "metadata": {},
     "source": [
      "- 2\ubc88\uc9f8 \uc904\uc774 \ub370\uc774\ud130 \ubcc0\ud658 \ub2f4\ub2f9\n",
      "- \ub370\uc774\ud130\ub97c \uc2e4\uc9c8\uc801\uc778 \uc784\uc2dc \ub9ac\uc2a4\ud2b8\ub85c \ub9cc\ub4e4\uc9c0 \uc54a\uc73c\ubbc0\ub85c \ud6a8\uc728\uc801\n",
      "- \ub2e8\uc9c0 \uc798\ub77c\ub0b4\uae30 \uc791\uc5c5\uc774 \uc801\uc6a9\ub41c \ub77c\uc778\uc744 \uc21c\ud658\ud558\ub294 \uc774\ud130\ub808\uc774\ud130\ub97c \uc0dd\uc131\ud560 \ubfd0\n",
      "- \uc870\uae08 \ub354 \uace0\uae09 \uae30\uc220\ub85c translate() \uba54\uc18c\ub4dc"
     ]
    },
    {
     "cell_type": "markdown",
     "metadata": {},
     "source": [
      "## 2.12 \ud14d\uc2a4\ud2b8 \uc815\ub9ac\n",
      "\n",
      "### \ubb38\uc81c\n",
      "\n",
      "- \ub2f9\uc2e0\uc758 \uc6f9 \ud398\uc774\uc9c0\uc5d0 \uc5b4\ub5a4 \uc0ac\ub78c\uc774 \uc7a5\ub09c\uc2a4\ub7fd\uac8c 'python'(\uc720\ub2c8\ucf54\ub4dc, \uac01\uc885 \ubc1c\uc74c \uae30\ud638 \ubd99\uc740\uac83)\uc744 \uc785\ub825\ud588\ub2e4. \uc774\ub97c \uc815\ub9ac\ud558\uace0 \uc2f6\ub2e4.\n",
      "\n",
      "### \ud574\uacb0\n",
      "\n",
      "- \ud14d\uc2a4\ud2b8\ub97c \uc815\ub9ac\ud558\ub294 \uc791\uc5c5\uc740 \ub300\uac8c \ud14d\uc2a4\ud2b8 \ud30c\uc2f1\uacfc \ub370\uc774\ud130 \ucc98\ub9ac\uc640 \uad00\ub828\n",
      "- \uae30\ubcf8\uc801\uc778 \ubb38\uc790\uc5f4 \ud568\uc218 str.upper(), str.lower()\ub97c \uc0ac\uc6a9\ud574\uc11c \ud14d\uc2a4\ud2b8\ub97c \ud45c\uc900 \ucf00\uc774\uc2a4\ub85c \ubcc0\ud658\ud558\uba74 \ub41c\ub2e4.\n",
      "- str.replace()\ub098 re.sub()\uc744 \uc0ac\uc6a9\ud55c \uce58\ud658\uc740 \ud2b9\uc815 \ubb38\uc790 \uc2dc\ud000\uc2a4\ub97c \uc544\uc608 \uc5c6\uc560\uac70\ub098 \ubc14\uafb8\ub294 \ub370\ub9cc \uc9d1\uc911\n",
      "- unicodedata.normalize()\ub97c \uc0ac\uc6a9\ud574\uc11c \ud14d\uc2a4\ud2b8\ub97c \ub178\uba40\ud654\n",
      "- \ud558\uc9c0\ub9cc \uc870\uae08 \ub354 \uace0\uae09\uc2a4\ub7ec\uc6b4 \ubc29\ubc95\uc774 \uc788\ub2e4.\n",
      "- \ud2b9\uc815 \ubc94\uc704\uc758 \ubb38\uc790\ub098 \ubc1c\uc74c \uad6c\ubcc4 \uae30\ud638\ub97c \uc5c6\uc560\ub824\uace0 \ud560 \ub54c\ub294 str.translate() \uba54\uc18c\ub4dc\ub97c \uc0ac\uc6a9\ud574\uc57c \ud55c\ub2e4."
     ]
    },
    {
     "cell_type": "code",
     "collapsed": false,
     "input": [
      "s = 'pytho\\u0148\\fis\\tawesome\\r\\n'"
     ],
     "language": "python",
     "metadata": {},
     "outputs": [],
     "prompt_number": 335
    },
    {
     "cell_type": "code",
     "collapsed": false,
     "input": [
      "s"
     ],
     "language": "python",
     "metadata": {},
     "outputs": [
      {
       "metadata": {},
       "output_type": "pyout",
       "prompt_number": 336,
       "text": [
        "'pytho\u0148\\x0cis\\tawesome\\r\\n'"
       ]
      }
     ],
     "prompt_number": 336
    },
    {
     "cell_type": "code",
     "collapsed": false,
     "input": [
      "# \uc815\uaddc\ud45c\ud604\uc2dd\uc73c\ub85c \ud558\ub824\uba74 |\uc73c\ub85c \ub2e4 \uc5f0\uacb0\ud574\uc918\uc57c \ub418\ub294\ub370\n",
      "# translate\ub294 dict \ud615\ud0dc\ub85c \ub123\uc5b4\uc8fc\uba74 \ub418\ub2c8\uae4c \ud3b8\ud558\ub124..\n",
      "remap = {\n",
      "ord('\\t'): ' ',\n",
      "ord('\\f'): ' ',\n",
      "ord('\\r'): None\n",
      "}"
     ],
     "language": "python",
     "metadata": {},
     "outputs": [],
     "prompt_number": 337
    },
    {
     "cell_type": "code",
     "collapsed": false,
     "input": [
      "a = s.translate(remap)\n",
      "a"
     ],
     "language": "python",
     "metadata": {},
     "outputs": [
      {
       "metadata": {},
       "output_type": "pyout",
       "prompt_number": 338,
       "text": [
        "'pytho\u0148 is awesome\\n'"
       ]
      }
     ],
     "prompt_number": 338
    },
    {
     "cell_type": "markdown",
     "metadata": {},
     "source": [
      "- \\t, \\f\uc640 \uac19\uc740 \uacf5\ubc31\ubb38\uc740 \ub744\uc5b4\uc4f0\uae30 \ud558\ub098\ub85c \uce58\ud658, \\r\uc740 \uc544\uc608 \uc0ad\uc81c"
     ]
    },
    {
     "cell_type": "code",
     "collapsed": false,
     "input": [
      "import unicodedata\n",
      "import sys\n",
      "cmb_chrs = dict.fromkeys(c for c in range(sys.maxunicode)\n",
      "                         if unicodedata.combining(chr(c)))"
     ],
     "language": "python",
     "metadata": {},
     "outputs": [],
     "prompt_number": 2
    },
    {
     "cell_type": "code",
     "collapsed": false,
     "input": [
      "sys.maxunicode"
     ],
     "language": "python",
     "metadata": {},
     "outputs": [
      {
       "metadata": {},
       "output_type": "pyout",
       "prompt_number": 340,
       "text": [
        "1114111"
       ]
      }
     ],
     "prompt_number": 340
    },
    {
     "cell_type": "code",
     "collapsed": false,
     "input": [
      "chr(2137)"
     ],
     "language": "python",
     "metadata": {},
     "outputs": [
      {
       "metadata": {},
       "output_type": "pyout",
       "prompt_number": 341,
       "text": [
        "'\u0859'"
       ]
      }
     ],
     "prompt_number": 341
    },
    {
     "cell_type": "code",
     "collapsed": false,
     "input": [
      "chr(65)"
     ],
     "language": "python",
     "metadata": {},
     "outputs": [
      {
       "metadata": {},
       "output_type": "pyout",
       "prompt_number": 342,
       "text": [
        "'A'"
       ]
      }
     ],
     "prompt_number": 342
    },
    {
     "cell_type": "code",
     "collapsed": false,
     "input": [
      "unicodedata.combining(chr(65))"
     ],
     "language": "python",
     "metadata": {},
     "outputs": [
      {
       "metadata": {},
       "output_type": "pyout",
       "prompt_number": 343,
       "text": [
        "0"
       ]
      }
     ],
     "prompt_number": 343
    },
    {
     "cell_type": "code",
     "collapsed": false,
     "input": [
      "unicodedata.combining(chr(767))"
     ],
     "language": "python",
     "metadata": {},
     "outputs": [
      {
       "metadata": {},
       "output_type": "pyout",
       "prompt_number": 344,
       "text": [
        "0"
       ]
      }
     ],
     "prompt_number": 344
    },
    {
     "cell_type": "code",
     "collapsed": false,
     "input": [
      "unicodedata.combining(chr(768))"
     ],
     "language": "python",
     "metadata": {},
     "outputs": [
      {
       "metadata": {},
       "output_type": "pyout",
       "prompt_number": 345,
       "text": [
        "230"
       ]
      }
     ],
     "prompt_number": 345
    },
    {
     "cell_type": "code",
     "collapsed": false,
     "input": [
      "unicodedata.combining(chr(769))"
     ],
     "language": "python",
     "metadata": {},
     "outputs": [
      {
       "metadata": {},
       "output_type": "pyout",
       "prompt_number": 346,
       "text": [
        "230"
       ]
      }
     ],
     "prompt_number": 346
    },
    {
     "cell_type": "code",
     "collapsed": false,
     "input": [
      "unicodedata.combining(chr(119364)) "
     ],
     "language": "python",
     "metadata": {},
     "outputs": [
      {
       "metadata": {},
       "output_type": "pyout",
       "prompt_number": 347,
       "text": [
        "230"
       ]
      }
     ],
     "prompt_number": 347
    },
    {
     "cell_type": "code",
     "collapsed": false,
     "input": [
      "unicodedata.combining(chr(7641))  "
     ],
     "language": "python",
     "metadata": {},
     "outputs": [
      {
       "metadata": {},
       "output_type": "pyout",
       "prompt_number": 348,
       "text": [
        "230"
       ]
      }
     ],
     "prompt_number": 348
    },
    {
     "cell_type": "code",
     "collapsed": false,
     "input": [
      "# return\uac12\uc73c\ub85c 0\uc774 \ub3cc\uc544\uc624\uba74 combining class(\uacb0\ud569\ubb38\uc790)\uac00 \uc544\ub2c8\ub2e4.\n",
      "help(unicodedata.combining)"
     ],
     "language": "python",
     "metadata": {},
     "outputs": [
      {
       "output_type": "stream",
       "stream": "stdout",
       "text": [
        "Help on built-in function combining in module unicodedata:\n",
        "\n",
        "combining(...)\n",
        "    combining(unichr)\n",
        "    \n",
        "    Returns the canonical combining class assigned to the Unicode\n",
        "    character unichr as integer. Returns 0 if no combining class is\n",
        "    defined.\n",
        "\n"
       ]
      }
     ],
     "prompt_number": 349
    },
    {
     "cell_type": "code",
     "collapsed": false,
     "input": [
      "# key\ub85c dict\ub97c \ub9cc\ub4dc\ub294\ub370 value\uac12\uc744 \ub0b4\uac00 \uc6d0\ud558\ub294 \uac12\uc73c\ub85c \uc77c\uad04\uc801\uc73c\ub85c \ud560\ub2f9\ud560 \uc218 \uc788\ub2e4.\n",
      "# \uc88b\uc740 \ud568\uc218\uad6c\ub098!\n",
      "# \uc774\ub7f0\uac70 \ub9ce\uc774 \uc54c\uc544\ub450\uba74 \ub098\uc911\uc5d0 \uc815\ub9d0 \ud3b8\ub9ac\ud558\uaca0\ub2e4.\n",
      "# \ud568\uc218\uac00 \uc788\ub294\uc9c0\uc870\ucc28 \ubab0\ub77c\uc11c \ub0b4\uac00 \uc9c1\uc811 \ub9cc\ub4e4\uc5c8\ub294\ub370..\n",
      "# \uc5b4\ub5a4 \uae30\ub2a5\uc774 \uc788\ub294\uc9c0 \uc0b4\ud3b4\ubcf4\ub294 \uac83\ub3c4 \uad49\uc7a5\ud788 \uc911\uc694\ud558\ub2e4.\n",
      "# search -> \uc788\uc73c\uba74 \uc4f0\uace0 \uc5c6\ub2e4\uba74 \ub0b4\uac00 \ub9cc\ub4e0\ub2e4. \uc660\ub9cc\ud558\uba74 \ub2e4 \ub9cc\ub4e4\uc5b4\uc838 \uc788\ub2e4\ub294\uac8c \uc9c4\uc2e4\n",
      "# \uc138\uc0c1\uc5d0\ub294 \ub098\ubcf4\ub2e4 \ub611\ub611\ud55c \uc0ac\ub78c\ub4e4\uc774 \ub9ce\uae30 \ub54c\ubb38\uc5d0..\n",
      "help(dict.fromkeys)"
     ],
     "language": "python",
     "metadata": {},
     "outputs": [
      {
       "output_type": "stream",
       "stream": "stdout",
       "text": [
        "Help on built-in function fromkeys:\n",
        "\n",
        "fromkeys(iterable, value=None, /) method of builtins.type instance\n",
        "    Returns a new dict with keys from iterable and values equal to value.\n",
        "\n"
       ]
      }
     ],
     "prompt_number": 350
    },
    {
     "cell_type": "code",
     "collapsed": false,
     "input": [
      "dict.fromkeys([768,769,770])"
     ],
     "language": "python",
     "metadata": {},
     "outputs": [
      {
       "metadata": {},
       "output_type": "pyout",
       "prompt_number": 351,
       "text": [
        "{768: None, 769: None, 770: None}"
       ]
      }
     ],
     "prompt_number": 351
    },
    {
     "cell_type": "code",
     "collapsed": false,
     "input": [
      "dict.fromkeys([768,769,770], '1')"
     ],
     "language": "python",
     "metadata": {},
     "outputs": [
      {
       "metadata": {},
       "output_type": "pyout",
       "prompt_number": 352,
       "text": [
        "{768: '1', 769: '1', 770: '1'}"
       ]
      }
     ],
     "prompt_number": 352
    },
    {
     "cell_type": "code",
     "collapsed": false,
     "input": [
      "list(c for c in range(sys.maxunicode)\n",
      "                         if unicodedata.combining(chr(c)))[::10][:30]"
     ],
     "language": "python",
     "metadata": {},
     "outputs": [
      {
       "metadata": {},
       "output_type": "pyout",
       "prompt_number": 8,
       "text": [
        "[768,\n",
        " 778,\n",
        " 788,\n",
        " 798,\n",
        " 808,\n",
        " 818,\n",
        " 828,\n",
        " 838,\n",
        " 849,\n",
        " 859,\n",
        " 869,\n",
        " 879,\n",
        " 1429,\n",
        " 1439,\n",
        " 1449,\n",
        " 1459,\n",
        " 1469,\n",
        " 1555,\n",
        " 1613,\n",
        " 1623,\n",
        " 1750,\n",
        " 1762,\n",
        " 1840,\n",
        " 1850,\n",
        " 1860,\n",
        " 2030,\n",
        " 2075,\n",
        " 2086,\n",
        " 2276,\n",
        " 2286]"
       ]
      }
     ],
     "prompt_number": 8
    },
    {
     "cell_type": "code",
     "collapsed": false,
     "input": [
      "# comining class\uc5d0 \ud574\ub2f9\ud558\ub294 integer\uac12\ub4e4\uc774 \uc788\ub2e4.\n",
      "print(cmb_chrs[8422])\n",
      "print(cmb_chrs[43236])"
     ],
     "language": "python",
     "metadata": {},
     "outputs": [
      {
       "output_type": "stream",
       "stream": "stdout",
       "text": [
        "None\n",
        "None\n"
       ]
      }
     ],
     "prompt_number": 354
    },
    {
     "cell_type": "code",
     "collapsed": false,
     "input": [
      "cmb_chrs2 = {\n",
      "8422: None,\n",
      "43236: None\n",
      "}\n",
      "cmb_chrs2"
     ],
     "language": "python",
     "metadata": {},
     "outputs": [
      {
       "metadata": {},
       "output_type": "pyout",
       "prompt_number": 355,
       "text": [
        "{43236: None, 8422: None}"
       ]
      }
     ],
     "prompt_number": 355
    },
    {
     "cell_type": "code",
     "collapsed": false,
     "input": [
      "b = unicodedata.normalize('NFD', a)"
     ],
     "language": "python",
     "metadata": {},
     "outputs": [],
     "prompt_number": 356
    },
    {
     "cell_type": "code",
     "collapsed": false,
     "input": [
      "b"
     ],
     "language": "python",
     "metadata": {},
     "outputs": [
      {
       "metadata": {},
       "output_type": "pyout",
       "prompt_number": 357,
       "text": [
        "'pytho\u0148 is awesome\\n'"
       ]
      }
     ],
     "prompt_number": 357
    },
    {
     "cell_type": "code",
     "collapsed": false,
     "input": [
      "b.translate(cmb_chrs)"
     ],
     "language": "python",
     "metadata": {},
     "outputs": [
      {
       "metadata": {},
       "output_type": "pyout",
       "prompt_number": 358,
       "text": [
        "'python is awesome\\n'"
       ]
      }
     ],
     "prompt_number": 358
    },
    {
     "cell_type": "markdown",
     "metadata": {},
     "source": [
      "- [Unicode character table](http://unicode-table.com/en/#control-character)\n",
      "- \ub9c8\uc9c0\ub9c9 \uc608\uc81c\uc5d0\uc11c dict.fromkeys()\ub97c \uc0ac\uc6a9\ud574 \ub515\uc154\ub108\ub9ac\uac00 \ubaa8\ub4e0 \uc720\ub2c8\ucf54\ub4dc \uacb0\ud569 \ubb38\uc790\ub97c None\uc73c\ub85c \ub9e4\ud551\n",
      "- \uc6d0\ubcf8 \uc785\ub825\ubb38\uc740 unicodedata.normalize\ub97c \uc0ac\uc6a9\ud574 \uc6b0\uc120 \ub178\uba40\ud654\n",
      "- \uadf8 \ud6c4 \ubcc0\ud658 \ud568\uc218\ub97c \uc0ac\uc6a9\ud574 \ud544\uc694\uc5c6\ub294 \ubb38\uc790\ub97c \ubaa8\ub450 \uc0ad\uc81c\n",
      "- \uc774\uc640 \uac19\uc740 \uae30\uc220\uc740 control \ubb38\uc790\uc640 \uac19\uc774 \ub2e4\ub978 \ubb38\uc790\ub97c \uc5c6\uc568 \ub54c \uc751\uc6a9 \uac00\ub2a5"
     ]
    },
    {
     "cell_type": "code",
     "collapsed": false,
     "input": [
      "chr(57)"
     ],
     "language": "python",
     "metadata": {},
     "outputs": [
      {
       "metadata": {},
       "output_type": "pyout",
       "prompt_number": 367,
       "text": [
        "'9'"
       ]
      }
     ],
     "prompt_number": 367
    },
    {
     "cell_type": "code",
     "collapsed": false,
     "input": [
      "help(unicodedata.digit)"
     ],
     "language": "python",
     "metadata": {},
     "outputs": [
      {
       "output_type": "stream",
       "stream": "stdout",
       "text": [
        "Help on built-in function digit in module unicodedata:\n",
        "\n",
        "digit(...)\n",
        "    digit(unichr[, default])\n",
        "    \n",
        "    Returns the digit value assigned to the Unicode character unichr as\n",
        "    integer. If no such value is defined, default is returned, or, if\n",
        "    not given, ValueError is raised.\n",
        "\n"
       ]
      }
     ],
     "prompt_number": 380
    },
    {
     "cell_type": "code",
     "collapsed": false,
     "input": [
      "# digit\uac00 \uc544\ub2c8\uba74 Error\ub97c \ubc49\uc5b4\ub0b4\ub124\n",
      "unicodedata.digit(chr(65))"
     ],
     "language": "python",
     "metadata": {},
     "outputs": [
      {
       "ename": "ValueError",
       "evalue": "not a digit",
       "output_type": "pyerr",
       "traceback": [
        "\u001b[0;31m---------------------------------------------------------------------------\u001b[0m\n\u001b[0;31mValueError\u001b[0m                                Traceback (most recent call last)",
        "\u001b[0;32m<ipython-input-379-ec7a80e5ab55>\u001b[0m in \u001b[0;36m<module>\u001b[0;34m()\u001b[0m\n\u001b[0;32m----> 1\u001b[0;31m \u001b[0municodedata\u001b[0m\u001b[0;34m.\u001b[0m\u001b[0mdigit\u001b[0m\u001b[0;34m(\u001b[0m\u001b[0mchr\u001b[0m\u001b[0;34m(\u001b[0m\u001b[0;36m65\u001b[0m\u001b[0;34m)\u001b[0m\u001b[0;34m)\u001b[0m\u001b[0;34m\u001b[0m\u001b[0m\n\u001b[0m",
        "\u001b[0;31mValueError\u001b[0m: not a digit"
       ]
      }
     ],
     "prompt_number": 379
    },
    {
     "cell_type": "code",
     "collapsed": false,
     "input": [
      "unicodedata.digit(chr(57))"
     ],
     "language": "python",
     "metadata": {},
     "outputs": [
      {
       "metadata": {},
       "output_type": "pyout",
       "prompt_number": 368,
       "text": [
        "9"
       ]
      }
     ],
     "prompt_number": 368
    },
    {
     "cell_type": "code",
     "collapsed": false,
     "input": [
      "unicodedata.digit(chr(70105))"
     ],
     "language": "python",
     "metadata": {},
     "outputs": [
      {
       "metadata": {},
       "output_type": "pyout",
       "prompt_number": 370,
       "text": [
        "9"
       ]
      }
     ],
     "prompt_number": 370
    },
    {
     "cell_type": "code",
     "collapsed": false,
     "input": [
      "ord('0')"
     ],
     "language": "python",
     "metadata": {},
     "outputs": [
      {
       "metadata": {},
       "output_type": "pyout",
       "prompt_number": 371,
       "text": [
        "48"
       ]
      }
     ],
     "prompt_number": 371
    },
    {
     "cell_type": "code",
     "collapsed": false,
     "input": [
      "# \uc544\ud558 ord('0') \ucc98\uc74c \uc2dc\uc791\ud558\ub294 \uc704\uce58\uac12\uc744 \uc9c0\uc815\ud558\uae30 \uc704\ud574\uc11c \ud55c\uac70\uad70\n",
      "ord('0') + unicodedata.digit(chr(70105))"
     ],
     "language": "python",
     "metadata": {},
     "outputs": [
      {
       "metadata": {},
       "output_type": "pyout",
       "prompt_number": 373,
       "text": [
        "57"
       ]
      }
     ],
     "prompt_number": 373
    },
    {
     "cell_type": "markdown",
     "metadata": {},
     "source": [
      "- [Unicode Character Categories](http://www.fileformat.info/info/unicode/category/index.htm)"
     ]
    },
    {
     "cell_type": "code",
     "collapsed": false,
     "input": [
      "# \uc5b4\ub5a4 \uce74\ud14c\uace0\ub9ac\uc5d0 \uc788\ub294\uc9c0\ub3c4 \uc54c\ub824\uc8fc\ub124\n",
      "help(unicodedata.category)"
     ],
     "language": "python",
     "metadata": {},
     "outputs": [
      {
       "output_type": "stream",
       "stream": "stdout",
       "text": [
        "Help on built-in function category in module unicodedata:\n",
        "\n",
        "category(...)\n",
        "    category(unichr)\n",
        "    \n",
        "    Returns the general category assigned to the Unicode character\n",
        "    unichr as string.\n",
        "\n"
       ]
      }
     ],
     "prompt_number": 378
    },
    {
     "cell_type": "code",
     "collapsed": false,
     "input": [
      "unicodedata.category(chr(57))"
     ],
     "language": "python",
     "metadata": {},
     "outputs": [
      {
       "metadata": {},
       "output_type": "pyout",
       "prompt_number": 374,
       "text": [
        "'Nd'"
       ]
      }
     ],
     "prompt_number": 374
    },
    {
     "cell_type": "code",
     "collapsed": false,
     "input": [
      "# Number, Decimal Digit\n",
      "unicodedata.category(chr(48))"
     ],
     "language": "python",
     "metadata": {},
     "outputs": [
      {
       "metadata": {},
       "output_type": "pyout",
       "prompt_number": 377,
       "text": [
        "'Nd'"
       ]
      }
     ],
     "prompt_number": 377
    },
    {
     "cell_type": "code",
     "collapsed": false,
     "input": [
      "# Letter, Uppercase\n",
      "unicodedata.category(chr(65))"
     ],
     "language": "python",
     "metadata": {},
     "outputs": [
      {
       "metadata": {},
       "output_type": "pyout",
       "prompt_number": 375,
       "text": [
        "'Lu'"
       ]
      }
     ],
     "prompt_number": 375
    },
    {
     "cell_type": "code",
     "collapsed": false,
     "input": [
      "# Punctuation, Other\n",
      "unicodedata.category(chr(64))"
     ],
     "language": "python",
     "metadata": {},
     "outputs": [
      {
       "metadata": {},
       "output_type": "pyout",
       "prompt_number": 376,
       "text": [
        "'Po'"
       ]
      }
     ],
     "prompt_number": 376
    },
    {
     "cell_type": "code",
     "collapsed": false,
     "input": [
      "sys.maxunicode"
     ],
     "language": "python",
     "metadata": {},
     "outputs": [
      {
       "metadata": {},
       "output_type": "pyout",
       "prompt_number": 381,
       "text": [
        "1114111"
       ]
      }
     ],
     "prompt_number": 381
    },
    {
     "cell_type": "markdown",
     "metadata": {},
     "source": [
      "#### digitmap Logic\n",
      "\n",
      "1. sys.maxunicode\ub97c \ubaa8\ub450 \ub3cc\uba74\uc11c\n",
      "2. unicode category\uac00 Number, Decimal digit \ucd94\ucd9c\n",
      "3. ord('0')\uc73c\ub85c \ucc98\uc74c \uc2dc\uc791\ud558\ub294 \uc22b\uc790 \uc704\uce58 + unicodedata.digit\ub85c \uc22b\uc790\uc5d0 \uad00\ub828\ub41c\uac78 0~9\ub85c \ubaa8\ub450 \uc7ac\ud560\ub2f9\n",
      "4. 70105(9)\ub77c\ub294 unicode\ub294 57(9)\ub85c \ud560\ub2f9\ud558\ub294 dict \uc0dd\uc131"
     ]
    },
    {
     "cell_type": "code",
     "collapsed": false,
     "input": [
      "# \uc774\uac83\ub4e4\uc774 \uc22b\uc790\ub77c\uace0..??\n",
      "print(chr(70105))\n",
      "print(chr(6160))\n",
      "print(chr(65))\n",
      "print(chr(120824))\n",
      "print(chr(120809))\n",
      "print(chr(4160))\n",
      "print(chr(4161))\n",
      "print(chr(4162))\n",
      "print(chr(4163))"
     ],
     "language": "python",
     "metadata": {},
     "outputs": [
      {
       "output_type": "stream",
       "stream": "stdout",
       "text": [
        "\ud804\uddd9\n",
        "\u1810\n",
        "A\n",
        "\ud835\udff8\n",
        "\ud835\udfe9\n",
        "\u1040\n",
        "\u1041\n",
        "\u1042\n",
        "\u1043\n"
       ]
      }
     ],
     "prompt_number": 400
    },
    {
     "cell_type": "code",
     "collapsed": false,
     "input": [
      "digitmap = {c: ord('0') + unicodedata.digit(chr(c))\n",
      "            for c in range(sys.maxunicode)\n",
      "            if unicodedata.category(chr(c)) == 'Nd'}"
     ],
     "language": "python",
     "metadata": {},
     "outputs": [],
     "prompt_number": 9
    },
    {
     "cell_type": "code",
     "collapsed": false,
     "input": [
      "len(digitmap)"
     ],
     "language": "python",
     "metadata": {},
     "outputs": [
      {
       "metadata": {},
       "output_type": "pyout",
       "prompt_number": 10,
       "text": [
        "460"
       ]
      }
     ],
     "prompt_number": 10
    },
    {
     "cell_type": "code",
     "collapsed": false,
     "input": [
      "t = zip(digitmap.keys(), digitmap.values())\n",
      "for i, v in enumerate(t):\n",
      "    if i % 10 != 0:\n",
      "        continue\n",
      "    print(v)"
     ],
     "language": "python",
     "metadata": {},
     "outputs": [
      {
       "output_type": "stream",
       "stream": "stdout",
       "text": [
        "(70105, 57)\n",
        "(6169, 57)\n",
        "(55, 55)\n",
        "(4166, 54)\n",
        "(7254, 54)\n",
        "(3179, 53)\n",
        "(2411, 53)\n",
        "(4247, 55)\n",
        "(66725, 53)\n",
        "(43219, 51)\n",
        "(3305, 51)\n",
        "(69875, 51)\n",
        "(43267, 51)\n",
        "(69740, 54)\n",
        "(69951, 57)\n",
        "(6479, 57)\n",
        "(2413, 55)\n",
        "(7237, 53)\n",
        "(43476, 52)\n",
        "(2537, 51)\n",
        "(43606, 54)\n",
        "(42534, 54)\n",
        "(3668, 52)\n",
        "(1635, 51)\n",
        "(2669, 55)\n",
        "(6786, 50)\n",
        "(6800, 48)\n",
        "(69743, 57)\n",
        "(71366, 54)\n",
        "(3798, 54)\n",
        "(2795, 53)\n",
        "(1781, 53)\n",
        "(6616, 56)\n",
        "(3872, 48)\n",
        "(70096, 48)\n",
        "(6995, 51)\n",
        "(2918, 48)\n",
        "(6120, 56)\n",
        "(70097, 49)\n",
        "(7091, 51)\n",
        "(1985, 49)\n",
        "(120782, 48)\n",
        "(120792, 48)\n",
        "(6114, 50)\n",
        "(3052, 54)\n",
        "(44022, 54)\n"
       ]
      }
     ],
     "prompt_number": 22
    },
    {
     "cell_type": "code",
     "collapsed": false,
     "input": [
      "x = '\\u0661\\u0662\\u0663'\n",
      "x"
     ],
     "language": "python",
     "metadata": {},
     "outputs": [
      {
       "metadata": {},
       "output_type": "pyout",
       "prompt_number": 401,
       "text": [
        "'\u0661\u0662\u0663'"
       ]
      }
     ],
     "prompt_number": 401
    },
    {
     "cell_type": "code",
     "collapsed": false,
     "input": [
      "x.translate(digitmap)"
     ],
     "language": "python",
     "metadata": {},
     "outputs": [
      {
       "metadata": {},
       "output_type": "pyout",
       "prompt_number": 402,
       "text": [
        "'123'"
       ]
      }
     ],
     "prompt_number": 402
    },
    {
     "cell_type": "markdown",
     "metadata": {},
     "source": [
      "- \ub610 \ub2e4\ub978 \ud14d\uc2a4\ud2b8 \uc815\ub9ac \uae30\uc220\ub85c I/O \uc778\ucf54\ub529, \ub514\ucf54\ub529 \ud568\uc218 \uc874\uc7ac\n",
      "- \ud14d\uc2a4\ud2b8\ub97c \uc6b0\uc120 \uc815\ub9ac\ud574 \ub193\uace0 encode()\ub098 decode()\ub97c \uc2e4\ud589\ud574\uc11c \uc798\ub77c\ub0b4\uac70\ub098 \ubcc0\ud615"
     ]
    },
    {
     "cell_type": "code",
     "collapsed": false,
     "input": [
      "a"
     ],
     "language": "python",
     "metadata": {},
     "outputs": [
      {
       "metadata": {},
       "output_type": "pyout",
       "prompt_number": 403,
       "text": [
        "'pytho\u0148 is awesome\\n'"
       ]
      }
     ],
     "prompt_number": 403
    },
    {
     "cell_type": "code",
     "collapsed": false,
     "input": [
      "b = unicodedata.normalize('NFD', a)"
     ],
     "language": "python",
     "metadata": {},
     "outputs": [],
     "prompt_number": 404
    },
    {
     "cell_type": "code",
     "collapsed": false,
     "input": [
      "b.encode('ascii', 'ignore').decode('ascii')"
     ],
     "language": "python",
     "metadata": {},
     "outputs": [
      {
       "metadata": {},
       "output_type": "pyout",
       "prompt_number": 405,
       "text": [
        "'python is awesome\\n'"
       ]
      }
     ],
     "prompt_number": 405
    },
    {
     "cell_type": "markdown",
     "metadata": {},
     "source": [
      "- \uc55e\uc758 \ub178\uba40\ud654 \uacfc\uc815\uc740 \uc6d0\ubcf8 \ud14d\uc2a4\ud2b8\ub97c \uac1c\ubcc4\uc801\uc778 \uacb0\ud569 \ubb38\uc790\ub85c \ub098\ub214\n",
      "- \uc544\uc2a4\ud0a4 \uc778\ucf54\ub529/\ub514\ucf54\ub529\uc73c\ub85c \uadf8 \ubb38\uc790\ub4e4\uc744 \ud55c\ubc88\uc5d0 \ud3d0\uae30\n",
      "- \uc774 \ubc29\uc2dd\uc740 \uc544\uc2a4\ud0a4 \ud45c\ud604\uc2dd\ub9cc\uc744 \uc5bb\uc73c\ub824\uace0 \ud560 \ub54c\ub9cc \uc0ac\uc6a9 \uac00\ub2a5"
     ]
    },
    {
     "cell_type": "markdown",
     "metadata": {},
     "source": [
      "### \ud1a0\ub860\n",
      "\n",
      "- \ud14d\uc2a4\ud2b8 \uc815\ub9ac\ub97c \ud558\ub2e4 \ubcf4\uba74 \uc2e4\ud589 \uc131\ub2a5 \ubb38\uc81c\uc5d0 \uc9c1\uba74\n",
      "- \uac04\ub2e8\ud55c \uc791\uc5c5\uc77c\uc218\ub85d \uc2e4\ud589 \uc18d\ub3c4\ub3c4 \ube60\ub974\ub2e4.\n",
      "- \uac04\ub2e8\ud55c \uce58\ud658\uc744 \ud558\ub824\uba74 str.replace() \uba54\uc18c\ub4dc\ub97c \uc0ac\uc6a9\ud558\ub294 \uac83\uc774 \uac00\uc7a5 \ube60\ub974\ub2e4."
     ]
    },
    {
     "cell_type": "code",
     "collapsed": false,
     "input": [
      "def clean_spaces(s):\n",
      "    s = s.replace('\\r', '')\n",
      "    s = s.replace('\\t', ' ')\n",
      "    s = s.replace('\\f', ' ')\n",
      "    return s"
     ],
     "language": "python",
     "metadata": {},
     "outputs": [],
     "prompt_number": 406
    },
    {
     "cell_type": "code",
     "collapsed": false,
     "input": [
      "def clean_spaces_regex(s):\n",
      "    import re\n",
      "    s = re.sub(r'\\r', '', s)\n",
      "    s = re.sub(r'\\t|\\f', ' ', s)\n",
      "    return s"
     ],
     "language": "python",
     "metadata": {},
     "outputs": [],
     "prompt_number": 407
    },
    {
     "cell_type": "code",
     "collapsed": false,
     "input": [
      "def clean_spaces_translate(s):\n",
      "    remap = {\n",
      "            ord('\\r'): '',\n",
      "            ord('\\t'): ' ',\n",
      "            ord('\\f'): ' '\n",
      "    }\n",
      "    return s.translate(remap)"
     ],
     "language": "python",
     "metadata": {},
     "outputs": [],
     "prompt_number": 417
    },
    {
     "cell_type": "code",
     "collapsed": false,
     "input": [
      "ord('A')"
     ],
     "language": "python",
     "metadata": {},
     "outputs": [
      {
       "metadata": {},
       "output_type": "pyout",
       "prompt_number": 427,
       "text": [
        "65"
       ]
      }
     ],
     "prompt_number": 427
    },
    {
     "cell_type": "code",
     "collapsed": false,
     "input": [
      "ord('\\r'), ord('\\t'), ord('\\f')"
     ],
     "language": "python",
     "metadata": {},
     "outputs": [
      {
       "metadata": {},
       "output_type": "pyout",
       "prompt_number": 425,
       "text": [
        "(13, 9, 12)"
       ]
      }
     ],
     "prompt_number": 425
    },
    {
     "cell_type": "code",
     "collapsed": false,
     "input": [
      "s"
     ],
     "language": "python",
     "metadata": {},
     "outputs": [
      {
       "metadata": {},
       "output_type": "pyout",
       "prompt_number": 418,
       "text": [
        "'pytho\u0148\\x0cis\\tawesome\\r\\n'"
       ]
      }
     ],
     "prompt_number": 418
    },
    {
     "cell_type": "code",
     "collapsed": false,
     "input": [
      "print(s)"
     ],
     "language": "python",
     "metadata": {},
     "outputs": [
      {
       "output_type": "stream",
       "stream": "stdout",
       "text": [
        "pytho\u0148\f",
        "\n",
        "\n",
        "\n",
        "\n",
        "\n",
        "\n",
        "\n",
        "\n",
        "\n",
        "\n",
        "\n",
        "\n",
        "\n",
        "\n",
        "\n",
        "is\tawesome\r\n",
        "\n",
        "\n",
        "\n",
        "\n",
        "\n",
        "\n",
        "\n",
        "\n",
        "\n",
        "\n",
        "\n",
        "\n",
        "\n",
        "\n",
        "\n",
        "\n"
       ]
      }
     ],
     "prompt_number": 419
    },
    {
     "cell_type": "code",
     "collapsed": false,
     "input": [
      "clean_spaces(s)"
     ],
     "language": "python",
     "metadata": {},
     "outputs": [
      {
       "metadata": {},
       "output_type": "pyout",
       "prompt_number": 420,
       "text": [
        "'pytho\u0148 is awesome\\n'"
       ]
      }
     ],
     "prompt_number": 420
    },
    {
     "cell_type": "code",
     "collapsed": false,
     "input": [
      "clean_spaces_regex(s)"
     ],
     "language": "python",
     "metadata": {},
     "outputs": [
      {
       "metadata": {},
       "output_type": "pyout",
       "prompt_number": 421,
       "text": [
        "'pytho\u0148 is awesome\\n'"
       ]
      }
     ],
     "prompt_number": 421
    },
    {
     "cell_type": "code",
     "collapsed": false,
     "input": [
      "clean_spaces_translate(s)"
     ],
     "language": "python",
     "metadata": {},
     "outputs": [
      {
       "metadata": {},
       "output_type": "pyout",
       "prompt_number": 422,
       "text": [
        "'pytho\u0148 is awesome\\n'"
       ]
      }
     ],
     "prompt_number": 422
    },
    {
     "cell_type": "code",
     "collapsed": false,
     "input": [
      "# 100\ub9cc\ubc88\uc5d0 1.18 \ub9c8\uc774\ud06c\ub85c\ucd08\n",
      "# \uac04\ub2e8\ud788 \uc4f8\ub54c\ub294 replace\ub97c \uc368\uc57c\ub418\uaca0\uad70\n",
      "%timeit clean_spaces(s)"
     ],
     "language": "python",
     "metadata": {},
     "outputs": [
      {
       "output_type": "stream",
       "stream": "stdout",
       "text": [
        "1000000 loops, best of 3: 1.18 \u00b5s per loop\n"
       ]
      }
     ],
     "prompt_number": 423
    },
    {
     "cell_type": "code",
     "collapsed": false,
     "input": [
      "# 10\ub9cc\ubc88\uc5d0 5.84 \ub9c8\uc774\ud06c\ub85c\ucd08\n",
      "%timeit clean_spaces_regex(s)"
     ],
     "language": "python",
     "metadata": {},
     "outputs": [
      {
       "output_type": "stream",
       "stream": "stdout",
       "text": [
        "100000 loops, best of 3: 5.84 \u00b5s per loop\n"
       ]
      }
     ],
     "prompt_number": 410
    },
    {
     "cell_type": "code",
     "collapsed": false,
     "input": [
      "# 10\ub9cc\ubc88\uc5d0 2.35 \ub9c8\uc774\ud06c\ub85c\ucd08\n",
      "%timeit clean_spaces_translate(s)"
     ],
     "language": "python",
     "metadata": {},
     "outputs": [
      {
       "output_type": "stream",
       "stream": "stdout",
       "text": [
        "100000 loops, best of 3: 2.35 \u00b5s per loop\n"
       ]
      }
     ],
     "prompt_number": 428
    },
    {
     "cell_type": "markdown",
     "metadata": {},
     "source": [
      "- \ube44\uad50\ud558\ub294 \uadf8\ub798\ud504 \ub098\uc911\uc5d0.. \ud55c \ubc88 \uadf8\ub824\ubcf4\uc790\n",
      "- translate() \uba54\uc18c\ub4dc\ub294 \ubcf5\uc7a1\ud55c \ubb38\uc790 remapping \uc774\ub098 \uc0ad\uc81c\uc5d0 \uc0ac\uc6a9\ud558\uba74 \uc544\uc8fc \ube60\ub974\ub2e4.\n",
      "- \uc131\ub2a5 \ubb38\uc81c\ub294 \ud504\ub85c\uadf8\ub7a8\uc5d0 \ub9de\ucd94\uc5b4 \uc2ec\ub3c4\uc788\uac8c \uace0\ubbfc\n",
      "- \ub3c5\uc790 \uc2a4\uc2a4\ub85c \uac00\uc7a5 \ube60\ub978 \ubc29\uc2dd\uc774 \ubb34\uc5c7\uc77c\uc9c0 \uc9c1\uc811 \uc2e4\ud5d8\n",
      "- \uc774 \uae30\uc220\uc740 \ubc14\uc774\ud2b8\uc640 \uac04\ub2e8\ud55c \uce58\ud658, \ubcc0\ud658, \uc815\uaddc \ud45c\ud604\uc2dd\uc5d0\ub3c4 \ub2e4 \uc801\uc6a9"
     ]
    },
    {
     "cell_type": "markdown",
     "metadata": {},
     "source": [
      "## 2.13 \ud14d\uc2a4\ud2b8 \uc815\ub82c\n",
      "\n",
      "### \ubb38\uc81c\n",
      "\n",
      "- \ud14d\uc2a4\ud2b8\ub97c \ud2b9\uc815 \ud615\uc2dd\uc5d0 \ub9de\ucd94\uc5b4 \uc815\ub82c\ud558\uace0 \uc2f6\ub2e4.\n",
      "\n",
      "### \ud574\uacb0\n"
     ]
    },
    {
     "cell_type": "code",
     "collapsed": false,
     "input": [
      "text = 'Hello World'"
     ],
     "language": "python",
     "metadata": {},
     "outputs": [],
     "prompt_number": 430
    },
    {
     "cell_type": "code",
     "collapsed": false,
     "input": [
      "text.ljust(20)"
     ],
     "language": "python",
     "metadata": {},
     "outputs": [
      {
       "metadata": {},
       "output_type": "pyout",
       "prompt_number": 431,
       "text": [
        "'Hello World         '"
       ]
      }
     ],
     "prompt_number": 431
    },
    {
     "cell_type": "code",
     "collapsed": false,
     "input": [
      "text.rjust(20)"
     ],
     "language": "python",
     "metadata": {},
     "outputs": [
      {
       "metadata": {},
       "output_type": "pyout",
       "prompt_number": 432,
       "text": [
        "'         Hello World'"
       ]
      }
     ],
     "prompt_number": 432
    },
    {
     "cell_type": "code",
     "collapsed": false,
     "input": [
      "text.center(20)"
     ],
     "language": "python",
     "metadata": {},
     "outputs": [
      {
       "metadata": {},
       "output_type": "pyout",
       "prompt_number": 433,
       "text": [
        "'    Hello World     '"
       ]
      }
     ],
     "prompt_number": 433
    },
    {
     "cell_type": "code",
     "collapsed": false,
     "input": [
      "# \ucc44\uc6cc\ub123\uae30 \ubb38\uc790\n",
      "text.rjust(20, '=')"
     ],
     "language": "python",
     "metadata": {},
     "outputs": [
      {
       "metadata": {},
       "output_type": "pyout",
       "prompt_number": 434,
       "text": [
        "'=========Hello World'"
       ]
      }
     ],
     "prompt_number": 434
    },
    {
     "cell_type": "code",
     "collapsed": false,
     "input": [
      "text.center(20, '*')"
     ],
     "language": "python",
     "metadata": {},
     "outputs": [
      {
       "metadata": {},
       "output_type": "pyout",
       "prompt_number": 435,
       "text": [
        "'****Hello World*****'"
       ]
      }
     ],
     "prompt_number": 435
    },
    {
     "cell_type": "code",
     "collapsed": false,
     "input": [
      "# format() \uc0ac\uc6a9, \uc778\uc790\ub85c <, >, ^\ub97c \uc801\uc808\ud558\uac8c \uc0ac\uc6a9\n",
      "format(text, '>20')"
     ],
     "language": "python",
     "metadata": {},
     "outputs": [
      {
       "metadata": {},
       "output_type": "pyout",
       "prompt_number": 436,
       "text": [
        "'         Hello World'"
       ]
      }
     ],
     "prompt_number": 436
    },
    {
     "cell_type": "code",
     "collapsed": false,
     "input": [
      "format(text, '<20')"
     ],
     "language": "python",
     "metadata": {},
     "outputs": [
      {
       "metadata": {},
       "output_type": "pyout",
       "prompt_number": 437,
       "text": [
        "'Hello World         '"
       ]
      }
     ],
     "prompt_number": 437
    },
    {
     "cell_type": "code",
     "collapsed": false,
     "input": [
      "format(text, '^20')"
     ],
     "language": "python",
     "metadata": {},
     "outputs": [
      {
       "metadata": {},
       "output_type": "pyout",
       "prompt_number": 438,
       "text": [
        "'    Hello World     '"
       ]
      }
     ],
     "prompt_number": 438
    },
    {
     "cell_type": "markdown",
     "metadata": {},
     "source": [
      "- \uacf5\ubc31 \ub300\uc2e0 \ud2b9\uc815 \ubb38\uc790\ub97c \ucc44\uc6cc \ub123\uace0 \uc2f6\ub2e4\uba74 \uc815\ub82c \ubb38\uc790 \uc55e\uc5d0 \uadf8 \ubb38\uc790\ub97c \uc9c0\uc815"
     ]
    },
    {
     "cell_type": "code",
     "collapsed": false,
     "input": [
      "format(text, '=>20s')"
     ],
     "language": "python",
     "metadata": {},
     "outputs": [
      {
       "metadata": {},
       "output_type": "pyout",
       "prompt_number": 439,
       "text": [
        "'=========Hello World'"
       ]
      }
     ],
     "prompt_number": 439
    },
    {
     "cell_type": "code",
     "collapsed": false,
     "input": [
      "format(text, '*^20s')"
     ],
     "language": "python",
     "metadata": {},
     "outputs": [
      {
       "metadata": {},
       "output_type": "pyout",
       "prompt_number": 440,
       "text": [
        "'****Hello World*****'"
       ]
      }
     ],
     "prompt_number": 440
    },
    {
     "cell_type": "markdown",
     "metadata": {},
     "source": [
      "- \uc55e\uc758 \ud3ec\ub9f7 \ucf54\ub4dc\ub294 format() \uba54\uc18c\ub4dc\uc5d0 \uc0ac\uc6a9\ud574 \uc5ec\ub7ec \uac12\uc744 \uc11c\uc2dd\ud654 \ud560 \uc218\ub3c4 \uc788\uc74c"
     ]
    },
    {
     "cell_type": "code",
     "collapsed": false,
     "input": [
      "'{:>10s} {:>10s}'.format('Hello', 'World')"
     ],
     "language": "python",
     "metadata": {},
     "outputs": [
      {
       "metadata": {},
       "output_type": "pyout",
       "prompt_number": 441,
       "text": [
        "'     Hello      World'"
       ]
      }
     ],
     "prompt_number": 441
    },
    {
     "cell_type": "markdown",
     "metadata": {},
     "source": [
      "### \ud1a0\ub860\n",
      "\n",
      "- \uc624\ub798\ub41c \ucf54\ub4dc\ub97c \ubcf4\uba74 % \uc5f0\uc0b0\uc790\ub97c \uc0ac\uc6a9\ud574 \ud14d\uc2a4\ud2b8\ub97c \uc11c\uc2dd\ud654"
     ]
    },
    {
     "cell_type": "code",
     "collapsed": false,
     "input": [
      "'%-20s' % text"
     ],
     "language": "python",
     "metadata": {},
     "outputs": [
      {
       "metadata": {},
       "output_type": "pyout",
       "prompt_number": 442,
       "text": [
        "'Hello World         '"
       ]
      }
     ],
     "prompt_number": 442
    },
    {
     "cell_type": "code",
     "collapsed": false,
     "input": [
      "'%20s' % text"
     ],
     "language": "python",
     "metadata": {},
     "outputs": [
      {
       "metadata": {},
       "output_type": "pyout",
       "prompt_number": 443,
       "text": [
        "'         Hello World'"
       ]
      }
     ],
     "prompt_number": 443
    },
    {
     "cell_type": "markdown",
     "metadata": {},
     "source": [
      "- \ud558\uc9c0\ub9cc \uc694\uc998 \uc791\uc131\ud558\ub294 \ucf54\ub4dc\uc5d0\uc11c\ub294 format() \ud568\uc218\ub098 \uba54\uc18c\ub4dc\ub97c \ub354 \uc120\ud638\n",
      "- format()\uc740 % \uc5f0\uc0b0\uc790\ubcf4\ub2e4 \ub354 \uac15\ub825\n",
      "- \ub610\ud55c format()\uc740 \ub2e8\uc21c\ud788 ljust(), rjust(), center() \uba54\uc18c\ub4dc\uc5d0 \ube44\ud574 \ub354 \uc77c\ubc18\uc801\uc778 \ubaa9\uc801\uc5d0 \uc0ac\uc6a9\ud560 \uc218 \uc788\uace0 \ubaa8\ub4e0 \uac1d\uccb4\uc5d0 \ub3d9\uc791\n",
      "- [Python String Format Cookbook | mkaz.com](http://mkaz.com/2012/10/10/python-string-format/)\n",
      "- [7.1. string \u00e2\u0080\u0094 Common string operations \u2014 Python 2.7.8 documentation](https://docs.python.org/2/library/string.html)"
     ]
    },
    {
     "cell_type": "code",
     "collapsed": false,
     "input": [
      "t = '05'\n",
      "'{:0<4d}'.format(5)"
     ],
     "language": "python",
     "metadata": {},
     "outputs": [
      {
       "metadata": {},
       "output_type": "pyout",
       "prompt_number": 459,
       "text": [
        "'5000'"
       ]
      }
     ],
     "prompt_number": 459
    },
    {
     "cell_type": "code",
     "collapsed": false,
     "input": [
      "email_f = 'Your email address was {email}'.format"
     ],
     "language": "python",
     "metadata": {},
     "outputs": [],
     "prompt_number": 460
    },
    {
     "cell_type": "code",
     "collapsed": false,
     "input": [
      "email_f"
     ],
     "language": "python",
     "metadata": {},
     "outputs": [
      {
       "metadata": {},
       "output_type": "pyout",
       "prompt_number": 461,
       "text": [
        "<function str.format>"
       ]
      }
     ],
     "prompt_number": 461
    },
    {
     "cell_type": "code",
     "collapsed": false,
     "input": [
      "email_f(email='bob@example.com')"
     ],
     "language": "python",
     "metadata": {},
     "outputs": [
      {
       "metadata": {},
       "output_type": "pyout",
       "prompt_number": 462,
       "text": [
        "'Your email address was bob@example.com'"
       ]
      }
     ],
     "prompt_number": 462
    },
    {
     "cell_type": "code",
     "collapsed": false,
     "input": [
      "print(' The {} set is often represented as {{0}}'.format('empty'))"
     ],
     "language": "python",
     "metadata": {},
     "outputs": [
      {
       "output_type": "stream",
       "stream": "stdout",
       "text": [
        " The empty set is often represented as {0}\n"
       ]
      }
     ],
     "prompt_number": 463
    },
    {
     "cell_type": "markdown",
     "metadata": {},
     "source": [
      "## 2.14 \ubb38\uc790\uc5f4 \ud569\uce58\uae30\n",
      "\n",
      "### \ubb38\uc81c\n",
      "\n",
      "- \uc791\uc740 \ubb38\uc790\uc5f4 \uc5ec\ub7ec \uac1c\ub97c \ud569\uccd0 \ud558\ub098\uc758 \uae34 \ubb38\uc790\uc5f4\uc744 \ub9cc\ub4e4\uace0 \uc2f6\ub2e4.\n",
      "\n",
      "### \ud574\uacb0\n",
      "\n",
      "- \ud569\uce58\uace0\uc790 \ud558\ub294 \ubb38\uc790\uc5f4\uc774 \uc2dc\ud000\uc2a4\ub098 \uc21c\ud658 \uac1d\uccb4 \uc548\uc5d0 \uc788\ub2e4\uba74 join() \uba54\uc11c\ub4dc\ub97c \uc0ac\uc6a9\ud558\ub294 \uac83\uc774 \uac00\uc7a5 \ube60\ub974\ub2e4."
     ]
    },
    {
     "cell_type": "code",
     "collapsed": false,
     "input": [
      "parts = ['Is', 'Chicago', 'Not', 'Chicago?']"
     ],
     "language": "python",
     "metadata": {},
     "outputs": [],
     "prompt_number": 464
    },
    {
     "cell_type": "code",
     "collapsed": false,
     "input": [
      "' '.join(parts)"
     ],
     "language": "python",
     "metadata": {},
     "outputs": [
      {
       "metadata": {},
       "output_type": "pyout",
       "prompt_number": 465,
       "text": [
        "'Is Chicago Not Chicago?'"
       ]
      }
     ],
     "prompt_number": 465
    },
    {
     "cell_type": "code",
     "collapsed": false,
     "input": [
      "','.join(parts)"
     ],
     "language": "python",
     "metadata": {},
     "outputs": [
      {
       "metadata": {},
       "output_type": "pyout",
       "prompt_number": 467,
       "text": [
        "'Is,Chicago,Not,Chicago?'"
       ]
      }
     ],
     "prompt_number": 467
    },
    {
     "cell_type": "code",
     "collapsed": false,
     "input": [
      "''.join(parts)"
     ],
     "language": "python",
     "metadata": {},
     "outputs": [
      {
       "metadata": {},
       "output_type": "pyout",
       "prompt_number": 468,
       "text": [
        "'IsChicagoNotChicago?'"
       ]
      }
     ],
     "prompt_number": 468
    },
    {
     "cell_type": "markdown",
     "metadata": {},
     "source": [
      "- \ubb38\uc790\uc5f4\uc744 \ud569\uce58\ub294 \uba54\uc18c\ub4dc\ub85c join() \uc0ac\uc6a9\n",
      "- \ud569\uce58\ub824\uace0 \ud558\ub294 \uac1d\uccb4\uc758 \uc22b\uc790\ub294 \uc5bc\ub9c8\ub098 \ub420\uc9c0 \ubaa8\ub974\ub294 \ucc44 \uc2dc\ud000\uc2a4(\ub9ac\uc2a4\ud2b8, \ud29c\ud50c, \ub515\uc154\ub108\ub9ac, \ud30c\uc77c, \uc138\ud2b8, \uc0dd\uc131\uc790 \ub4f1)\uc5d0 \ub4e4\uc5b4\uc788\uace0, \uac1c\ubcc4\uc801\uc73c\ub85c join()\uc744 \ub9e4\ubc88 \ud638\ucd9c\ud558\ub294 \uac83\uc774 \ubd88\ud544\uc694\n",
      "- \ub530\ub77c\uc11c \uad6c\ubd84 \ubb38\uc790\uc5f4\uc744 \uc9c0\uc815\ud558\uace0 \uac70\uae30\uc5d0 join() \uba54\uc18c\ub4dc\ub97c \ud55c \ubc88\ub9cc \uc0ac\uc6a9\ud558\uba74 \ubb38\uc790\uc5f4\uc744 \ubaa8\ub450 \ud569\uce68"
     ]
    },
    {
     "cell_type": "code",
     "collapsed": false,
     "input": [
      "a = 'Is Chicago'\n",
      "b = 'Not Chicago?'\n",
      "a + ' ' + b"
     ],
     "language": "python",
     "metadata": {},
     "outputs": [
      {
       "metadata": {},
       "output_type": "pyout",
       "prompt_number": 469,
       "text": [
        "'Is Chicago Not Chicago?'"
       ]
      }
     ],
     "prompt_number": 469
    },
    {
     "cell_type": "code",
     "collapsed": false,
     "input": [
      "print('{} {}'.format(a, b))"
     ],
     "language": "python",
     "metadata": {},
     "outputs": [
      {
       "output_type": "stream",
       "stream": "stdout",
       "text": [
        "Is Chicago Not Chicago?\n"
       ]
      }
     ],
     "prompt_number": 471
    },
    {
     "cell_type": "code",
     "collapsed": false,
     "input": [
      "print(a + ' ' + b)"
     ],
     "language": "python",
     "metadata": {},
     "outputs": [
      {
       "output_type": "stream",
       "stream": "stdout",
       "text": [
        "Is Chicago Not Chicago?\n"
       ]
      }
     ],
     "prompt_number": 473
    },
    {
     "cell_type": "code",
     "collapsed": false,
     "input": [
      "# \ub2e8\uc21c\ud788 \uc606\uc5d0 \ubd99\uc5ec \ub193\uc544\ub3c4 \ub41c\ub2e4.\n",
      "a = 'Hello' 'World'\n",
      "a"
     ],
     "language": "python",
     "metadata": {},
     "outputs": [
      {
       "metadata": {},
       "output_type": "pyout",
       "prompt_number": 475,
       "text": [
        "'HelloWorld'"
       ]
      }
     ],
     "prompt_number": 475
    },
    {
     "cell_type": "markdown",
     "metadata": {},
     "source": [
      "### \ud1a0\ub860\n",
      "\n",
      "- \ub808\uc2dc\ud53c \ud558\ub098\ub294 \ub2e4 \ud560\uc560\ud560 \ub9cc\ud07c \ubb38\uc790\uc5f4 \ud569\uce58\uae30\uac00 \uadf8\ub9ac \uace0\uae09 \uc8fc\uc81c\uac00 \uc544\ub2c8\ub77c\uace0 \uc0dd\uac01\ud560\uc9c0\ub3c4 \ubaa8\ub974\uaca0\ub2e4. \ud558\uc9c0\ub9cc \uc774\ub294 \ud504\ub85c\uadf8\ub798\uba38\ub4e4\uc758 \uc120\ud0dd\uc73c\ub85c \uc778\ud574 \ud504\ub85c\uadf8\ub7a8 \uc131\ub2a5\uc5d0 \ud070 \uc601\ud5a5\uc744 \uc8fc\uae30\ub3c4 \ud558\ub294 \uc911\uc694\ud55c \ubd84\uc57c\n",
      "- \uc6b0\uc120\uc801\uc73c\ub85c \uba85\uc2ec\ud574\uc57c \ud560 \ubd80\ubd84\uc740, **+ \uc5f0\uc0b0\uc790**\ub85c \ub9ce\uc740 \ubb38\uc790\uc5f4\uc744 \ud569\uce58\ub824\uace0 \ud558\uba74 **\uba54\ubaa8\ub9ac \ubcf5\uc0ac**\uc640 **garbage collection** \uc73c\ub85c \uc778\ud574 **\ub9e4\uc6b0 \ube44\ud6a8\uc728\uc801**"
     ]
    },
    {
     "cell_type": "code",
     "collapsed": false,
     "input": [
      "# \uc774\ub807\uac8c \uc4f0\uc9c0 \ub9d0\uc790!!\n",
      "s = ''\n",
      "for p in parts:\n",
      "    s += p\n",
      "s"
     ],
     "language": "python",
     "metadata": {},
     "outputs": [
      {
       "metadata": {},
       "output_type": "pyout",
       "prompt_number": 476,
       "text": [
        "'IsChicagoNotChicago?'"
       ]
      }
     ],
     "prompt_number": 476
    },
    {
     "cell_type": "code",
     "collapsed": false,
     "input": [
      "def smart_sum(s):\n",
      "    return ''.join(s)"
     ],
     "language": "python",
     "metadata": {},
     "outputs": [],
     "prompt_number": 478
    },
    {
     "cell_type": "code",
     "collapsed": false,
     "input": [
      "def silly_sum(s):\n",
      "    s = ''\n",
      "    for p in parts:\n",
      "        s += p\n",
      "    return s"
     ],
     "language": "python",
     "metadata": {},
     "outputs": [],
     "prompt_number": 477
    },
    {
     "cell_type": "code",
     "collapsed": false,
     "input": [
      "%timeit smart_sum(parts)"
     ],
     "language": "python",
     "metadata": {},
     "outputs": [
      {
       "output_type": "stream",
       "stream": "stdout",
       "text": [
        "1000000 loops, best of 3: 239 ns per loop\n"
       ]
      }
     ],
     "prompt_number": 479
    },
    {
     "cell_type": "code",
     "collapsed": false,
     "input": [
      "%timeit silly_sum(parts)"
     ],
     "language": "python",
     "metadata": {},
     "outputs": [
      {
       "output_type": "stream",
       "stream": "stdout",
       "text": [
        "1000000 loops, best of 3: 502 ns per loop\n"
       ]
      }
     ],
     "prompt_number": 480
    },
    {
     "cell_type": "code",
     "collapsed": false,
     "input": [
      "parts2 = parts[:] * 100"
     ],
     "language": "python",
     "metadata": {},
     "outputs": [],
     "prompt_number": 486
    },
    {
     "cell_type": "code",
     "collapsed": false,
     "input": [
      "%timeit smart_sum(parts2)"
     ],
     "language": "python",
     "metadata": {},
     "outputs": [
      {
       "output_type": "stream",
       "stream": "stdout",
       "text": [
        "100000 loops, best of 3: 4.3 \u00b5s per loop\n"
       ]
      }
     ],
     "prompt_number": 487
    },
    {
     "cell_type": "code",
     "collapsed": false,
     "input": [
      "%timeit silly_sum(parts2)"
     ],
     "language": "python",
     "metadata": {},
     "outputs": [
      {
       "output_type": "stream",
       "stream": "stdout",
       "text": [
        "1000000 loops, best of 3: 485 ns per loop\n"
       ]
      }
     ],
     "prompt_number": 488
    },
    {
     "cell_type": "markdown",
     "metadata": {},
     "source": [
      "- \uc774\ub294 += \uc5f0\uc0b0\uc790\uac00 \uc0c8\ub85c\uc6b4 \ubb38\uc790\uc5f4 \uac1d\uccb4\ub97c \ub9cc\ub4e4\uc5b4 \ub0b4\uae30 \ub54c\ubb38\uc5d0 \uc18d\ub3c4\uac00 \ub290\ub9ac\ub2e4.\n",
      "- \uc774\ubcf4\ub2e4\ub294 \ubb38\uc790\uc5f4\uc744 \ud55c\ub370 \ubaa8\uc544\ub193\uace0 \ud55c\ubc88\uc5d0 \ud569\uce58\ub294 \ud3b8\uc774 \ub354 \ud6a8\uc728\uc801\n",
      "- \uc774\uc640 \uad00\ub828\uc788\ub294(\uadf8\ub9ac\uace0 \uaf64 \ubcf4\uae30 \uc88b\uc740) \uae30\uc220\ub85c \ub370\uc774\ud130\ub97c \ubb38\uc790\uc5f4\ub85c \ubcc0\ud658\ud55c \ub2e4\uc74c, \ub808\uc2dc\ud53c 1.19\uc5d0\uc11c \uc0b4\ud3b4\ubcf8 \ub300\ub85c \uc0dd\uc131\uc790 \ud45c\ud604\uc2dd\uc73c\ub85c \ud569\uce58\ub294 \ubc29\ubc95"
     ]
    },
    {
     "cell_type": "code",
     "collapsed": false,
     "input": [
      "data = ['ACME', 50, 91.1]"
     ],
     "language": "python",
     "metadata": {},
     "outputs": [],
     "prompt_number": 489
    },
    {
     "cell_type": "code",
     "collapsed": false,
     "input": [
      "','.join(str(d) for d in data)"
     ],
     "language": "python",
     "metadata": {},
     "outputs": [
      {
       "metadata": {},
       "output_type": "pyout",
       "prompt_number": 490,
       "text": [
        "'ACME,50,91.1'"
       ]
      }
     ],
     "prompt_number": 490
    },
    {
     "cell_type": "code",
     "collapsed": false,
     "input": [
      "c = 'c..'"
     ],
     "language": "python",
     "metadata": {},
     "outputs": [],
     "prompt_number": 492
    },
    {
     "cell_type": "code",
     "collapsed": false,
     "input": [
      "print(a + ':' + b + ':' + c) # + \uc368\uc8fc\uae30 \uadc0\ucc2e\ub2e4."
     ],
     "language": "python",
     "metadata": {},
     "outputs": [
      {
       "output_type": "stream",
       "stream": "stdout",
       "text": [
        "HelloWorld:Not Chicago?:c..\n"
       ]
      }
     ],
     "prompt_number": 493
    },
    {
     "cell_type": "code",
     "collapsed": false,
     "input": [
      "print(':'.join([a,b,c])) # \uc5ec\uc804\ud788 \uac1c\uc120\uc810 \uc874\uc7ac"
     ],
     "language": "python",
     "metadata": {},
     "outputs": [
      {
       "output_type": "stream",
       "stream": "stdout",
       "text": [
        "HelloWorld:Not Chicago?:c..\n"
       ]
      }
     ],
     "prompt_number": 494
    },
    {
     "cell_type": "code",
     "collapsed": false,
     "input": [
      "print(a, b, c, sep=':') # \uc88b\uc740 \ubc29\uc2dd. python2\uc5d0\uc11c\ub294? \uc548\ub428"
     ],
     "language": "python",
     "metadata": {},
     "outputs": [
      {
       "output_type": "stream",
       "stream": "stdout",
       "text": [
        "HelloWorld:Not Chicago?:c..\n"
       ]
      }
     ],
     "prompt_number": 495
    },
    {
     "cell_type": "markdown",
     "metadata": {},
     "source": [
      "- \uc785\ucd9c\ub825 \ub3d9\uc791\uacfc \ubb38\uc790\uc5f4 \ud569\uce58\uae30\ub97c \ud568\uaed8\ud558\ub294 \ubc29\uc2dd\uc740 \uc560\ud50c\ub9ac\ucf00\uc774\uc158\uc5d0\uc11c \uc9c1\uc811 \uc5f0\uad6c\ub97c \ud574\ubd10\uc57c \ud560 \ubd80\ubd84"
     ]
    },
    {
     "cell_type": "code",
     "collapsed": false,
     "input": [
      "# \ubc84\uc804 1(\ubb38\uc790\uc5f4 \ud569\uce58\uae30)\n",
      "# f.write(a + b)"
     ],
     "language": "python",
     "metadata": {},
     "outputs": [],
     "prompt_number": 498
    },
    {
     "cell_type": "code",
     "collapsed": false,
     "input": [
      "# \ubc84\uc8042(\uac1c\ubcc4 \uc785\ucd9c\ub825 \uc218\ud589)\n",
      "# f.write(a)\n",
      "# f.write(b)"
     ],
     "language": "python",
     "metadata": {},
     "outputs": [],
     "prompt_number": 499
    },
    {
     "cell_type": "markdown",
     "metadata": {},
     "source": [
      "- \ub450 \ubb38\uc790\uc5f4\uc774 \uc791\ub2e4\uba74 \uccab \ubc88\uc9f8 \ucf54\ub4dc. \uc785\ucd9c\ub825 \uc2dc\uc2a4\ud15c \ud638\ucd9c\uc744 \ud558\ub294\ub370\ub3c4 \ube44\uc6a9\uc774 \ub4e4\uae30 \ub54c\ubb38\n",
      "- \ubb38\uc790\uc5f4\uc758 \uae38\uc774\uac00 \uae38\ub2e4\uba74 \ub450\ubc88\uc9f8 \ubc29\uc2dd\uc774 \ub354 \ud6a8\uc728\uc801. \uc784\uc2dc \ubb38\uc790\uc5f4\uc744 \ub9cc\ub4e4\uace0 \uba54\ubaa8\ub9ac\uc5d0 \ubcf5\uc0ac\ud558\ub294 \uacfc\uc815\uc774 \uc0dd\ub7b5\ub418\uae30 \ub54c\ubb38.\n",
      "  - +\ub97c \ud558\uba74 \ubb38\uc790\uc5f4\uc740 \uc0c8\ub85c \uc0dd\uc131\uc774 \ub418\uae30 \ub54c\ubb38\uc5d0 \uc5b4\uca54 \uc218 \uc5c6\uc74c\n",
      "- \uc131\ub2a5 \ubb38\uc81c\ub294 \ub3c5\uc790 \uc2a4\uc2a4\ub85c\n",
      "- \ub9c8\uc9c0\ub9c9\uc73c\ub85c \uc218\ub9ce\uc740 \uc9e7\uc740 \ubb38\uc790\uc5f4\uc744 \ud558\ub098\ub85c \ud569\uccd0 \ubb38\uc790\uc5f4\uc744 \ub9cc\ub4dc\ub294 \ucf54\ub4dc\ub97c \uc791\uc131\ud55c\ub2e4\uba74 yield\ub97c \uc0ac\uc6a9\ud55c \uc0dd\uc131\uc790 \ud568\uc218 \uace0\ub824"
     ]
    },
    {
     "cell_type": "code",
     "collapsed": false,
     "input": [
      "def sample():\n",
      "    yield 'Is'\n",
      "    yield 'Chicago'\n",
      "    yield 'Not'\n",
      "    yield 'Chicago?\\n'"
     ],
     "language": "python",
     "metadata": {},
     "outputs": [],
     "prompt_number": 537
    },
    {
     "cell_type": "markdown",
     "metadata": {},
     "source": [
      "- \uc774 \ubc29\uc2dd\uc5d0\uc11c \ud765\ubbf8\ub85c\uc6b4 \uc810\uc740 \uc870\uac01\uc744 \uc5b4\ub5bb\uac8c \uc870\ub9bd\ud560\uc9c0 \uc5b4\ub5a0\ud55c \uac00\uc815\ub3c4 \ud558\uc9c0 \uc54a\ub294\ub2e4\ub294 \uc810"
     ]
    },
    {
     "cell_type": "code",
     "collapsed": false,
     "input": [
      "sample()"
     ],
     "language": "python",
     "metadata": {},
     "outputs": [
      {
       "metadata": {},
       "output_type": "pyout",
       "prompt_number": 538,
       "text": [
        "<generator object sample at 0x1126fa1b0>"
       ]
      }
     ],
     "prompt_number": 538
    },
    {
     "cell_type": "code",
     "collapsed": false,
     "input": [
      "text = '\\n'.join(sample())\n",
      "text"
     ],
     "language": "python",
     "metadata": {},
     "outputs": [
      {
       "metadata": {},
       "output_type": "pyout",
       "prompt_number": 539,
       "text": [
        "'Is\\nChicago\\nNot\\nChicago?\\n'"
       ]
      }
     ],
     "prompt_number": 539
    },
    {
     "cell_type": "code",
     "collapsed": false,
     "input": [
      "with open('02/yield.txt', 'w') as f:\n",
      "    for part in sample():\n",
      "        f.write(part)\n",
      "        f.write('\\n')\n",
      "        \n",
      "with open('02/yield.txt', 'r') as f:\n",
      "    for line in f:\n",
      "        print(line, end='')"
     ],
     "language": "python",
     "metadata": {},
     "outputs": [
      {
       "output_type": "stream",
       "stream": "stdout",
       "text": [
        "Is\n",
        "Chicago\n",
        "Not\n",
        "Chicago?\n",
        "\n"
       ]
      }
     ],
     "prompt_number": 540
    },
    {
     "cell_type": "markdown",
     "metadata": {},
     "source": [
      "- \uc785\ucd9c\ub825\uc744 \uc870\ud569\ud55c \ud558\uc774\ube0c\ub9ac\ub4dc \ubc29\uc2dd \uad6c\ud604\ub3c4 \uac00\ub2a5"
     ]
    },
    {
     "cell_type": "code",
     "collapsed": false,
     "input": [
      "def sample():\n",
      "    yield 'Is'\n",
      "    yield 'Chicago'\n",
      "    yield 'Not'\n",
      "    yield 'Chicago?\\n' * 100000"
     ],
     "language": "python",
     "metadata": {},
     "outputs": [],
     "prompt_number": 541
    },
    {
     "cell_type": "code",
     "collapsed": false,
     "input": [
      "def combine(source, maxsize):\n",
      "    parts = []\n",
      "    size = 0\n",
      "    for part in source:\n",
      "        parts.append(part)\n",
      "        size += len(part)\n",
      "        if size > maxsize:\n",
      "            yield ''.join(parts)\n",
      "            parts = []\n",
      "            size = 0\n",
      "    yield ''.join(parts)"
     ],
     "language": "python",
     "metadata": {},
     "outputs": [],
     "prompt_number": 542
    },
    {
     "cell_type": "code",
     "collapsed": false,
     "input": [
      "with open('02/hybrid.txt', 'w') as f:\n",
      "    for part in combine(sample(), 32768):\n",
      "        f.write(part)"
     ],
     "language": "python",
     "metadata": {},
     "outputs": [],
     "prompt_number": 543
    },
    {
     "cell_type": "code",
     "collapsed": false,
     "input": [
      "!open 02/hybrid.txt"
     ],
     "language": "python",
     "metadata": {},
     "outputs": [],
     "prompt_number": 544
    },
    {
     "cell_type": "markdown",
     "metadata": {},
     "source": [
      "- 32768\uc529 \ub098\ub220\uc11c \ud30c\uc77c\uc5d0 \uc800\uc7a5\ud558\ub294 \ud568\uc218\n",
      "- \uc911\uac04\uc5d0 \ub04a\uae38 \uc6b0\ub824\ub3c4 \uc788\uae30 \ub54c\ubb38\uc5d0 \uc774\ub807\uac8c \ub098\ub220\uc11c \uc800\uc7a5\ud558\ub294\ub4ef\n",
      "- \ub0b4\uac00 \uc608\uc804\uc5d0 \uc0dd\uac01\ud588\ub358 \uac74\ub370.. \ub3c4\uba54\uc778 \uae01\uc5b4\uc62c \ub54c \ud504\ub85c\uadf8\ub7a8\uc774 \uc885\ub8cc\ub418\uba74 \uba54\ubaa8\ub9ac\uc5d0 \uc788\ub358\uac8c \ub2e4 \ub0a0\ub77c\uac00\ub2c8\uae4c \uc77c\uc815 \ud06c\uae30 \ub2e8\uc704\ub85c \ud30c\uc77c\uc5d0 \uc800\uc7a5\ud558\uae30\n",
      "- maxsize\uc778 32768\ubcf4\ub2e4 \ud06c\ub2e4\uba74 parts \ub9ac\uc2a4\ud2b8\uc5d0 \ub2f4\uaca8\uc838 \uc788\ub358\uac78 \ubb38\uc790\uc5f4\ub85c join \uc2dc\ud0a4\uace0\n",
      "- \ud30c\uc77c \uc800\uc7a5\ud558\uace0\n",
      "- parts\uc640 size\ub294 \ucd08\uae30\ud654\n",
      "- \uc911\uc694\ud55c\uc810: **\uc0dd\uc131\uc790 \ud568\uc218\uac00 \ubbf8\ub798\uc758 \uad6c\ud604 \ubc29\uc2dd\uc744 \uc54c\uc9c0 \ubabb\ud55c\ub2e4**\ub294 \uc0ac\uc2e4\uc774\uace0, **\uc0dd\uc131\uc790 \ud568\uc218\ub294 \uadf8\uc800 \ubb38\uc790\uc5f4\uc744 \uc81c\uacf5\ud560 \ubfd0**\n",
      "  - \uc774\ud574 \uc548\ub428.. \ub098\uc911\uc5d0 \ub2e4\uc2dc \ud55c \ubc88 \uc0b4\ud3b4\ubcf4\uc790"
     ]
    },
    {
     "cell_type": "markdown",
     "metadata": {},
     "source": [
      "## 2.15 \ubb38\uc790\uc5f4\uc5d0 \ubcc0\uc218 \uc0ac\uc6a9\n",
      "\n",
      "### \ubb38\uc81c\n",
      "\n",
      "- \ubb38\uc790\uc5f4\uc5d0 \ubcc0\uc218\ub97c \uc0ac\uc6a9\ud558\uace0 \uc774 \ubcc0\uc218\uc5d0 \ub9de\ub294 \uac12\uc744 \ucc44\uc6b0\uace0 \uc2f6\ub2e4\n",
      "\n",
      "### \ud574\uacb0\n",
      "\n",
      "- \ud30c\uc774\uc36c \ubb38\uc790\uc5f4\uc5d0 \ubcc0\uc218 \uac12\uc744 \uce58\ud658\ud558\ub294 \uac04\ub2e8\ud55c \ubc29\ubc95\uc740 \uc874\uc7ac\ud558\uc9c0 \uc54a\uc74c\n",
      "- \ud558\uc9c0\ub9cc format() \uba54\uc18c\ub4dc\ub97c \uc0ac\uc6a9\ud558\uba74 \ube44\uc2b7\ud558\uac8c \ud749\ub0b4"
     ]
    },
    {
     "cell_type": "code",
     "collapsed": false,
     "input": [
      "s = '{name} has {n} messages.'"
     ],
     "language": "python",
     "metadata": {},
     "outputs": [],
     "prompt_number": 545
    },
    {
     "cell_type": "code",
     "collapsed": false,
     "input": [
      "s.format(name='Guido', n=37)"
     ],
     "language": "python",
     "metadata": {},
     "outputs": [
      {
       "metadata": {},
       "output_type": "pyout",
       "prompt_number": 546,
       "text": [
        "'Guido has 37 messages.'"
       ]
      }
     ],
     "prompt_number": 546
    },
    {
     "cell_type": "markdown",
     "metadata": {},
     "source": [
      "- \ud639\uc740 \uce58\ud658\ud560 \uac12\uc774 \ubcc0\uc218\uc5d0 \ub4e4\uc5b4 \uc788\ub2e4\uba74 format_map()\uacfc vars()\ub97c \ud568\uaed8 \uc0ac\uc6a9"
     ]
    },
    {
     "cell_type": "code",
     "collapsed": false,
     "input": [
      "name = 'Guido'"
     ],
     "language": "python",
     "metadata": {},
     "outputs": [],
     "prompt_number": 547
    },
    {
     "cell_type": "code",
     "collapsed": false,
     "input": [
      "n = 37"
     ],
     "language": "python",
     "metadata": {},
     "outputs": [],
     "prompt_number": 548
    },
    {
     "cell_type": "code",
     "collapsed": false,
     "input": [
      "s.format_map(vars())"
     ],
     "language": "python",
     "metadata": {},
     "outputs": [
      {
       "metadata": {},
       "output_type": "pyout",
       "prompt_number": 549,
       "text": [
        "'Guido has 37 messages.'"
       ]
      }
     ],
     "prompt_number": 549
    },
    {
     "cell_type": "code",
     "collapsed": false,
     "input": [
      "# vars()"
     ],
     "language": "python",
     "metadata": {},
     "outputs": [],
     "prompt_number": 551
    },
    {
     "cell_type": "code",
     "collapsed": false,
     "input": [
      "help(vars)"
     ],
     "language": "python",
     "metadata": {},
     "outputs": [
      {
       "output_type": "stream",
       "stream": "stdout",
       "text": [
        "Help on built-in function vars in module builtins:\n",
        "\n",
        "vars(...)\n",
        "    vars([object]) -> dictionary\n",
        "    \n",
        "    Without arguments, equivalent to locals().\n",
        "    With an argument, equivalent to object.__dict__.\n",
        "\n"
       ]
      }
     ],
     "prompt_number": 552
    },
    {
     "cell_type": "markdown",
     "metadata": {},
     "source": [
      "- vars()\uc5d0\ub294 \uc778\uc2a4\ud134\uc2a4\ub97c \uc0ac\uc6a9 \uac00\ub2a5"
     ]
    },
    {
     "cell_type": "code",
     "collapsed": false,
     "input": [
      "class Info:\n",
      "    def __init__(self, name, n):\n",
      "        self.name = name\n",
      "        self.n = n"
     ],
     "language": "python",
     "metadata": {},
     "outputs": [],
     "prompt_number": 553
    },
    {
     "cell_type": "code",
     "collapsed": false,
     "input": [
      "a = Info('Guido', 37)"
     ],
     "language": "python",
     "metadata": {},
     "outputs": [],
     "prompt_number": 554
    },
    {
     "cell_type": "code",
     "collapsed": false,
     "input": [
      "s.format_map(vars(a))"
     ],
     "language": "python",
     "metadata": {},
     "outputs": [
      {
       "metadata": {},
       "output_type": "pyout",
       "prompt_number": 555,
       "text": [
        "'Guido has 37 messages.'"
       ]
      }
     ],
     "prompt_number": 555
    },
    {
     "cell_type": "code",
     "collapsed": false,
     "input": [
      "vars(a)"
     ],
     "language": "python",
     "metadata": {},
     "outputs": [
      {
       "metadata": {},
       "output_type": "pyout",
       "prompt_number": 556,
       "text": [
        "{'n': 37, 'name': 'Guido'}"
       ]
      }
     ],
     "prompt_number": 556
    },
    {
     "cell_type": "markdown",
     "metadata": {},
     "source": [
      "- format()\uacfc format_map()\uc744 \uc0ac\uc6a9\ud560 \ub54c \ube60\uc9c4 \uac12\uc774 \uc788\uc73c\uba74 \uc81c\ub300\ub85c \ub3d9\uc791\ud558\uc9c0 \uc54a\uc74c"
     ]
    },
    {
     "cell_type": "code",
     "collapsed": false,
     "input": [
      "s.format(name='Guido')"
     ],
     "language": "python",
     "metadata": {},
     "outputs": [
      {
       "ename": "KeyError",
       "evalue": "'n'",
       "output_type": "pyerr",
       "traceback": [
        "\u001b[0;31m---------------------------------------------------------------------------\u001b[0m\n\u001b[0;31mKeyError\u001b[0m                                  Traceback (most recent call last)",
        "\u001b[0;32m<ipython-input-557-dac1742a40f0>\u001b[0m in \u001b[0;36m<module>\u001b[0;34m()\u001b[0m\n\u001b[0;32m----> 1\u001b[0;31m \u001b[0ms\u001b[0m\u001b[0;34m.\u001b[0m\u001b[0mformat\u001b[0m\u001b[0;34m(\u001b[0m\u001b[0mname\u001b[0m\u001b[0;34m=\u001b[0m\u001b[0;34m'Guido'\u001b[0m\u001b[0;34m)\u001b[0m\u001b[0;34m\u001b[0m\u001b[0m\n\u001b[0m",
        "\u001b[0;31mKeyError\u001b[0m: 'n'"
       ]
      }
     ],
     "prompt_number": 557
    },
    {
     "cell_type": "markdown",
     "metadata": {},
     "source": [
      "- \uc774 \ubb38\uc81c\ub294 \\_\\_missiong\\_\\_ \uba54\uc18c\ub4dc\uac00 \uc788\ub294 \ub515\uc154\ub108\ub9ac \ud074\ub798\uc2a4\ub97c \uc815\uc758\ud574\uc11c \ud53c\ud560 \uc218 \uc788\uc74c"
     ]
    },
    {
     "cell_type": "code",
     "collapsed": false,
     "input": [
      "class safesub(dict):\n",
      "    def __missing__(self, key):\n",
      "        return '{' + key + '}'"
     ],
     "language": "python",
     "metadata": {},
     "outputs": [],
     "prompt_number": 558
    },
    {
     "cell_type": "markdown",
     "metadata": {},
     "source": [
      "- \uc774\uc81c format_map()\uc758 \uc785\ub825\ubd80\ub97c \uc774 \ud074\ub798\uc2a4\ub85c \uac10\uc2f8\uc11c \uc0ac\uc6a9"
     ]
    },
    {
     "cell_type": "code",
     "collapsed": false,
     "input": [
      "del n"
     ],
     "language": "python",
     "metadata": {},
     "outputs": [],
     "prompt_number": 559
    },
    {
     "cell_type": "code",
     "collapsed": false,
     "input": [
      "s.format_map(safesub(vars()))"
     ],
     "language": "python",
     "metadata": {},
     "outputs": [
      {
       "metadata": {},
       "output_type": "pyout",
       "prompt_number": 560,
       "text": [
        "'Guido has {n} messages.'"
       ]
      }
     ],
     "prompt_number": 560
    },
    {
     "cell_type": "code",
     "collapsed": false,
     "input": [
      "len(safesub(vars()))"
     ],
     "language": "python",
     "metadata": {},
     "outputs": [
      {
       "metadata": {},
       "output_type": "pyout",
       "prompt_number": 562,
       "text": [
        "939"
       ]
      }
     ],
     "prompt_number": 562
    },
    {
     "cell_type": "markdown",
     "metadata": {},
     "source": [
      "- \ucf54\ub4dc\uc5d0\uc11c \ubcc0\uc218 \uce58\ud658\uc744 \ube48\ubc88\ud788 \uc0ac\uc6a9\ud560 \uac83 \uac19\ub2e4\uba74 \uce58\ud658\ud558\ub294 \uc791\uc5c5\uc744 \uc720\ud2f8\ub9ac\ud2f0 \ud568\uc218\uc5d0 \ubaa8\uc544\ub193\uace0 \uc18c\uc704 'frame hack'\uc73c\ub85c \uc0ac\uc6a9 \uac00\ub2a5"
     ]
    },
    {
     "cell_type": "code",
     "collapsed": false,
     "input": [
      "import sys"
     ],
     "language": "python",
     "metadata": {},
     "outputs": [],
     "prompt_number": 563
    },
    {
     "cell_type": "code",
     "collapsed": false,
     "input": [
      "def sub(text):\n",
      "    return text.format_map(safesub(sys._getframe(1).f_locals))"
     ],
     "language": "python",
     "metadata": {},
     "outputs": [],
     "prompt_number": 572
    },
    {
     "cell_type": "code",
     "collapsed": false,
     "input": [
      "name = 'Guido'"
     ],
     "language": "python",
     "metadata": {},
     "outputs": [],
     "prompt_number": 565
    },
    {
     "cell_type": "code",
     "collapsed": false,
     "input": [
      "n = 37"
     ],
     "language": "python",
     "metadata": {},
     "outputs": [],
     "prompt_number": 566
    },
    {
     "cell_type": "code",
     "collapsed": false,
     "input": [
      "print(sub('Hello {name}'))"
     ],
     "language": "python",
     "metadata": {},
     "outputs": [
      {
       "output_type": "stream",
       "stream": "stdout",
       "text": [
        "Hello Guido\n"
       ]
      }
     ],
     "prompt_number": 573
    },
    {
     "cell_type": "code",
     "collapsed": false,
     "input": [
      "sys._getframe(1).f_locals"
     ],
     "language": "python",
     "metadata": {},
     "outputs": [
      {
       "metadata": {},
       "output_type": "pyout",
       "prompt_number": 571,
       "text": [
        "{'code_obj': <code object <module> at 0x112712e40, file \"<ipython-input-571-7662de568986>\", line 1>,\n",
        " 'self': <IPython.kernel.zmq.zmqshell.ZMQInteractiveShell at 0x1112020b8>,\n",
        " 'outflag': 1,\n",
        " 'old_excepthook': <IPython.core.ultratb.FormattedTB at 0x1110e7940>}"
       ]
      }
     ],
     "prompt_number": 571
    },
    {
     "cell_type": "code",
     "collapsed": false,
     "input": [
      "safesub(sys._getframe(1).f_locals)"
     ],
     "language": "python",
     "metadata": {},
     "outputs": [
      {
       "metadata": {},
       "output_type": "pyout",
       "prompt_number": 574,
       "text": [
        "{'old_excepthook': <IPython.core.ultratb.FormattedTB at 0x1110e7940>,\n",
        " 'self': <IPython.kernel.zmq.zmqshell.ZMQInteractiveShell at 0x1112020b8>,\n",
        " 'outflag': 1,\n",
        " 'code_obj': <code object <module> at 0x11272c0c0, file \"<ipython-input-574-a26fd9ae8f22>\", line 1>}"
       ]
      }
     ],
     "prompt_number": 574
    },
    {
     "cell_type": "code",
     "collapsed": false,
     "input": [
      "print(sub('You have{n} messages.'))"
     ],
     "language": "python",
     "metadata": {},
     "outputs": [
      {
       "output_type": "stream",
       "stream": "stdout",
       "text": [
        "You have37 messages.\n"
       ]
      }
     ],
     "prompt_number": 575
    },
    {
     "cell_type": "code",
     "collapsed": false,
     "input": [
      "print(sub('Your favorite color is {color}'))"
     ],
     "language": "python",
     "metadata": {},
     "outputs": [
      {
       "output_type": "stream",
       "stream": "stdout",
       "text": [
        "Your favorite color is {color}\n"
       ]
      }
     ],
     "prompt_number": 578
    },
    {
     "cell_type": "markdown",
     "metadata": {},
     "source": [
      "### \ud1a0\ub860\n",
      "\n",
      "- \ud30c\uc774\uc36c \uc790\uccb4\uc5d0\uc11c \ubcc0\uc218 \ubcf4\uac04\ubc95\uc774 \uc874\uc7ac\ud558\uc9c0 \uc54a\uc544\uc11c \ub2e4\uc591\ud55c \ub300\uc548 \ubc1c\uc0dd\n",
      "- \ub2e4\uc74c\uacfc \uac19\uc774 \ubb38\uc790\uc5f4\uc744 \uc11c\uc2dd\ud654 \ud558\uae30\ub3c4 \ud568"
     ]
    },
    {
     "cell_type": "code",
     "collapsed": false,
     "input": [
      "name = 'Guido'"
     ],
     "language": "python",
     "metadata": {},
     "outputs": [],
     "prompt_number": 584
    },
    {
     "cell_type": "code",
     "collapsed": false,
     "input": [
      "n = 37"
     ],
     "language": "python",
     "metadata": {},
     "outputs": [],
     "prompt_number": 585
    },
    {
     "cell_type": "code",
     "collapsed": false,
     "input": [
      "'%(name) has %(n) messages.' % vars()"
     ],
     "language": "python",
     "metadata": {},
     "outputs": [
      {
       "ename": "ValueError",
       "evalue": "unsupported format character 'm' (0x6d) at index 17",
       "output_type": "pyerr",
       "traceback": [
        "\u001b[0;31m---------------------------------------------------------------------------\u001b[0m\n\u001b[0;31mValueError\u001b[0m                                Traceback (most recent call last)",
        "\u001b[0;32m<ipython-input-586-81a1f6a35737>\u001b[0m in \u001b[0;36m<module>\u001b[0;34m()\u001b[0m\n\u001b[0;32m----> 1\u001b[0;31m \u001b[0;34m'%(name) has %(n) messages.'\u001b[0m \u001b[0;34m%\u001b[0m \u001b[0mvars\u001b[0m\u001b[0;34m(\u001b[0m\u001b[0;34m)\u001b[0m\u001b[0;34m\u001b[0m\u001b[0m\n\u001b[0m",
        "\u001b[0;31mValueError\u001b[0m: unsupported format character 'm' (0x6d) at index 17"
       ]
      }
     ],
     "prompt_number": 586
    },
    {
     "cell_type": "code",
     "collapsed": false,
     "input": [
      "len(vars())"
     ],
     "language": "python",
     "metadata": {},
     "outputs": [
      {
       "metadata": {},
       "output_type": "pyout",
       "prompt_number": 587,
       "text": [
        "971"
       ]
      }
     ],
     "prompt_number": 587
    },
    {
     "cell_type": "markdown",
     "metadata": {},
     "source": [
      "- \ud639\uc740 \ud15c\ud50c\ub9bf \uc0ac\uc6a9"
     ]
    },
    {
     "cell_type": "code",
     "collapsed": false,
     "input": [
      "import string\n",
      "s = string.Template('$name has $n messages.')\n",
      "s.substitute(vars())"
     ],
     "language": "python",
     "metadata": {},
     "outputs": [
      {
       "metadata": {},
       "output_type": "pyout",
       "prompt_number": 589,
       "text": [
        "'Guido has 37 messages.'"
       ]
      }
     ],
     "prompt_number": 589
    },
    {
     "cell_type": "markdown",
     "metadata": {},
     "source": [
      "- \ud558\uc9c0\ub9cc format()\uacfc format_map() \uba54\uc18c\ub4dc\ub97c \uc0ac\uc6a9\ud558\ub294 \uac83\uc774 \ub354 \ud604\ub300\uc801\n",
      "- format(): \ubb38\uc790\uc5f4 \uc11c\uc2dd\ud654\uc640 \uad00\ub828\uc788\ub294 \ubaa8\ub4e0 \uae30\ub2a5(\uc815\ub82c, \uacf5\ubc31, \uc22b\uc790 \uc11c\uc2dd \ub4f1)\uc744 \uc0ac\uc6a9 \uac00\ub2a5. Template \ubb38\uc790\uc5f4 \uac1d\uccb4\uc5d0\uc11c\ub294 \uc9c0\uc6d0\ud558\uc9c0 \uc54a\uc74c\n",
      "- \ud765\ubbf8\ub85c\uc6b4 \uace0\uae09 \uae30\ub2a5 \uc18c\uac1c: \\_\\_missing\\_\\_() \uba54\uc18c\ub4dc: \uc5c6\ub294 \uac12 \ucc98\ub9ac\n",
      "\n",
      "\n",
      "- \\_\\_missing\\_\\_() \uba54\uc18c\ub4dc\ub97c \ud1b5\ud574 \uc5c6\ub294 \uac12\uc744 \ucc98\ub9ac\n",
      "- safesub \ud074\ub798\uc2a4\uc5d0\uc11c \uc774 \uba54\uc18c\ub4dc\ub97c \uc815\uc758\ud558\uc5ec, \uc5c6\ub294 \uac12\uc744 \uae30\ubcf8\uc73c\ub85c \ucc98\ub9ac\ud558\ub3c4\ub85d \ud568\n",
      "- \uc774\ub807\uac8c \ud558\uba74 KeyError \uc608\uc678\uac00 \ubc1c\uc0dd\ud558\uc9c0 \uc54a\uace0 \uac12\uc774 \uc5c6\uc74c\uc744 \uc54c\ub9ac\ub294 \ubb38\uc790\uc5f4\uc744 \ubc18\ud658(\ub514\ubc84\uae45\ud560 \ub54c \uc720\uc6a9)\n",
      "\n",
      "\n",
      "- sub() \ud568\uc218\ub294 **sys.\\_getframe(1)**\ub85c **\ud638\ucd9c\uc790\uc758 \uc2a4\ud0dd \ud504\ub808\uc784\uc744 \ubc18\ud658**\n",
      "- \uc5ec\uae30\uc11c \uc9c0\uc5ed\ubcc0\uc218\ub97c \uc5bb\uae30 \uc704\ud574 f_locals \uc694\uc18c\uc5d0 \uc811\uadfc\n",
      "- \ub300\uac1c\uc758 \ucf54\ub4dc\uc5d0\uc11c \uc2a4\ud0dd \ud504\ub808\uc784\uc5d0 \uc811\uadfc\ud558\ub294 \uac83\uc744 \uad8c\uc7a5\ud558\uc9c0 \uc54a\uc74c\n",
      "- \ud558\uc9c0\ub9cc \uc55e\uc758 \uc608\uc81c\uc640 \uac19\uc774 \ubb38\uc790\uc5f4 \uce58\ud658 \uae30\ub2a5\uacfc \uac19\uc740 \uc720\ud2f8\ub9ac\ud2f0 \ud568\uc218\uc5d0\uc11c\ub294 \uc720\uc6a9\n",
      "- f_locals\ub294 \ud638\ucd9c \ud568\uc218\uc758 \uc9c0\uc5ed\ubcc0\uc218 \ubcf5\uc0ac\ubcf8\uc744 \ub2f4\uc544 \ub454 \ub515\uc154\ub108\ub9ac\n",
      "- f_locals\uc758 \ub0b4\uc6a9\uc740 \uc218\uc815\ud560 \uc218 \uc788\uc9c0\ub9cc, \uadf8\ub807\ub2e4\uace0 \uc5b4\ub5a4 \ud6a8\uacfc\uac00 \uc788\ub294 \uac83\uc740 \uc544\ub2d8\n",
      "- \uadf8\ub7ec\ubbc0\ub85c \ub2e4\ub978 \uc2a4\ud0dd \ud504\ub808\uc784\uc5d0 \uc811\uadfc\ud558\ub294 \uac83\uc774 \ub9e4\uc6b0 \uc704\ud5d8\ud574 \ubcf4\uc77c \uc218\ub3c4 \uc788\uc9c0\ub9cc, \uc2e4\uc218\ub85c \ud638\ucd9c\uc790\uc758 \uc9c0\uc5ed\ubcc0\uc218\ub97c \ub36e\uc5b4\uc4f0\uac70\ub098 \ud558\ub294 \uc77c\uc740 \ubc1c\uc0dd\ud558\uc9c0 \uc54a\uc74c"
     ]
    },
    {
     "cell_type": "markdown",
     "metadata": {},
     "source": [
      "## 2.16 \ud14d\uc2a4\ud2b8 \uc5f4\uc758 \uac1c\uc218 \uace0\uc815\n",
      "\n",
      "### \ubb38\uc81c\n",
      "\n",
      "- \uae34 \ubb38\uc790\uc5f4\uc758 \uc11c\uc2dd\uc744 \ubc14\uafd4 \uc5f4\uc758 \uac1c\uc218\ub97c \uc870\uc808\ud558\uace0 \uc2f6\ub2e4\n",
      "\n",
      "### \ud574\uacb0\n",
      "\n",
      "- textwrap \ubaa8\ub4c8\uc744 \uc0ac\uc6a9\ud574\uc11c \ud14d\uc2a4\ud2b8\ub97c reformat \ud55c\ub2e4."
     ]
    },
    {
     "cell_type": "code",
     "collapsed": false,
     "input": [
      "s = \"Look into eyes, look into my eyes, the eyes, the eyes, \\\n",
      "the eyes, not around the eyes, don't look around the eyes, \\\n",
      "look into my eyes, you're under.\"\n",
      "s"
     ],
     "language": "python",
     "metadata": {},
     "outputs": [
      {
       "metadata": {},
       "output_type": "pyout",
       "prompt_number": 7,
       "text": [
        "\"Look into eyes, look into my eyes, the eyes, the eyes, the eyes, not around the eyes, don't look around the eyes, look into my eyes, you're under.\""
       ]
      }
     ],
     "prompt_number": 7
    },
    {
     "cell_type": "markdown",
     "metadata": {},
     "source": [
      "- textwrap \ubaa8\ub4c8\uc744 \uc0ac\uc6a9\ud574 \uc7ac\uc11c\uc2dd\ud654\ud55c \uc608"
     ]
    },
    {
     "cell_type": "code",
     "collapsed": false,
     "input": [
      "import textwrap"
     ],
     "language": "python",
     "metadata": {},
     "outputs": [],
     "prompt_number": 8
    },
    {
     "cell_type": "code",
     "collapsed": false,
     "input": [
      "print(textwrap.fill(s, 70))"
     ],
     "language": "python",
     "metadata": {},
     "outputs": [
      {
       "output_type": "stream",
       "stream": "stdout",
       "text": [
        "Look into eyes, look into my eyes, the eyes, the eyes, the eyes, not\n",
        "around the eyes, don't look around the eyes, look into my eyes, you're\n",
        "under.\n"
       ]
      }
     ],
     "prompt_number": 9
    },
    {
     "cell_type": "code",
     "collapsed": false,
     "input": [
      "print(textwrap.fill(s, 40))"
     ],
     "language": "python",
     "metadata": {},
     "outputs": [
      {
       "output_type": "stream",
       "stream": "stdout",
       "text": [
        "Look into eyes, look into my eyes, the\n",
        "eyes, the eyes, the eyes, not around the\n",
        "eyes, don't look around the eyes, look\n",
        "into my eyes, you're under.\n"
       ]
      }
     ],
     "prompt_number": 10
    },
    {
     "cell_type": "code",
     "collapsed": false,
     "input": [
      "print(textwrap.fill(s, 40, initial_indent='     '))"
     ],
     "language": "python",
     "metadata": {},
     "outputs": [
      {
       "output_type": "stream",
       "stream": "stdout",
       "text": [
        "     Look into eyes, look into my eyes,\n",
        "the eyes, the eyes, the eyes, not around\n",
        "the eyes, don't look around the eyes,\n",
        "look into my eyes, you're under.\n"
       ]
      }
     ],
     "prompt_number": 12
    },
    {
     "cell_type": "code",
     "collapsed": false,
     "input": [
      "print(textwrap.fill(s, 40, subsequent_indent='     '))"
     ],
     "language": "python",
     "metadata": {},
     "outputs": [
      {
       "output_type": "stream",
       "stream": "stdout",
       "text": [
        "Look into eyes, look into my eyes, the\n",
        "     eyes, the eyes, the eyes, not\n",
        "     around the eyes, don't look around\n",
        "     the eyes, look into my eyes, you're\n",
        "     under.\n"
       ]
      }
     ],
     "prompt_number": 13
    },
    {
     "cell_type": "markdown",
     "metadata": {},
     "source": [
      "### \ud1a0\ub860\n",
      "\n",
      "- \ud14d\uc2a4\ud2b8\ub97c \ucd9c\ub825\ud558\uae30 \uc804\uc5d0 textwrap \ubaa8\ub4c8\uc744 \uc0ac\uc6a9\ud558\uba74 \uae54\ub054\ud558\uac8c \uc11c\uc2dd\uc744 \ub9de\ucd9c \uc218 \uc788\uc74c\n",
      "- \ud2b9\ud788 \ud130\ubbf8\ub110\uc5d0 \uc0ac\uc6a9\ud560 \ud14d\uc2a4\ud2b8\uc5d0 \uc801\ud569\n",
      "- \ud130\ubbf8\ub110\uc758 \ud06c\uae30\ub97c \uc5bb\uc73c\ub824\uba74 os.get_terminal_size()\ub97c \uc0ac\uc6a9"
     ]
    },
    {
     "cell_type": "code",
     "collapsed": false,
     "input": [
      "import os\n",
      "os.get_terminal_size().columns"
     ],
     "language": "python",
     "metadata": {},
     "outputs": [
      {
       "metadata": {},
       "output_type": "pyout",
       "prompt_number": 14,
       "text": [
        "135"
       ]
      }
     ],
     "prompt_number": 14
    },
    {
     "cell_type": "markdown",
     "metadata": {},
     "source": [
      "- fill() \uba54\uc18c\ub4dc\ub97c \uc0ac\uc6a9\ud558\uba74 \ud0ed\uc744 \ucc98\ub9ac\ud558\ub294 \ubc29\ubc95, \ubb38\uc7a5\uc758 \ub05d\uacfc \uac19\uc740 \ucd94\uac00\uc801\uc778 \uad00\ub9ac\ub97c \ud560 \uc218 \uc788\uc74c\n",
      "- \ub354 \uc790\uc138\ud55c \uc815\ubcf4\ub294 [textwrap.TextWrapper](https://docs.python.org/2/library/textwrap.html) \ud074\ub798\uc2a4 \ubb38\uc11c \ucc38\uc870\n",
      "- [textwrap \u2013 Formatting text paragraphs - Python Module of the Week](http://pymotw.com/2/textwrap/)"
     ]
    },
    {
     "cell_type": "code",
     "collapsed": false,
     "input": [
      "textwrap.TextWrapper?"
     ],
     "language": "python",
     "metadata": {},
     "outputs": [],
     "prompt_number": 4
    },
    {
     "cell_type": "markdown",
     "metadata": {},
     "source": [
      "## 2.17 HTML\uacfc XML \uc5d4\ud2f0\ud2f0 \ucc98\ub9ac\n",
      "\n",
      "### \ubb38\uc81c\n",
      "\n",
      "- &entity;\ub098 &#code;\uc640 \uac19\uc740 HTML, XML \uc5d4\ud2f0\ud2f0\ub97c \uc774\uc5d0 \uc77c\uce58\ud558\ub294 \ubb38\uc790\ub85c \uce58\ud658\ud558\uace0 \uc2f6\ub2e4. \ud639\uc740 \ud14d\uc2a4\ud2b8\ub97c \uc0dd\uc131\ud560 \ub54c \ud2b9\uc815 \ubb38\uc790(<, >, & \ub4f1)\ub97c \ud53c\ud558\uace0 \uc2f6\ub2e4.\n",
      "\n",
      "### \ud574\uacb0\n",
      "\n",
      "- \ud14d\uc2a4\ud2b8\ub97c \uc0dd\uc131\ud560 \ub54c <\ub098 >\uc640 \uac19\uc740 \ud2b9\uc218 \ubb38\uc790\ub97c \uce58\ud658\ud558\ub294 \uac83\uc740 html.escape() \ud568\uc218\ub97c \uc0ac\uc6a9\ud558\uba74 \uc0c1\ub300\uc801\uc73c\ub85c \uac04\ub2e8\ud788 \ucc98\ub9ac"
     ]
    },
    {
     "cell_type": "code",
     "collapsed": false,
     "input": [
      "s = 'Elements are written as \"<tag>text</tag>\". \\'good job\\''"
     ],
     "language": "python",
     "metadata": {},
     "outputs": [],
     "prompt_number": 13
    },
    {
     "cell_type": "code",
     "collapsed": false,
     "input": [
      "import html"
     ],
     "language": "python",
     "metadata": {},
     "outputs": [],
     "prompt_number": 14
    },
    {
     "cell_type": "code",
     "collapsed": false,
     "input": [
      "print(s)"
     ],
     "language": "python",
     "metadata": {},
     "outputs": [
      {
       "output_type": "stream",
       "stream": "stdout",
       "text": [
        "Elements are written as \"<tag>text</tag>\". 'good job'\n"
       ]
      }
     ],
     "prompt_number": 15
    },
    {
     "cell_type": "code",
     "collapsed": false,
     "input": [
      "print(html.escape(s))"
     ],
     "language": "python",
     "metadata": {},
     "outputs": [
      {
       "output_type": "stream",
       "stream": "stdout",
       "text": [
        "Elements are written as &quot;&lt;tag&gt;text&lt;/tag&gt;&quot;. &#x27;good job&#x27;\n"
       ]
      }
     ],
     "prompt_number": 16
    },
    {
     "cell_type": "code",
     "collapsed": false,
     "input": [
      "# \ub530\uc634\ud45c\ub294 \ub0a8\uaca8 \ub450\ub3c4\ub85d \uc9c0\uc815\n",
      "print(html.escape(s, quote=False))"
     ],
     "language": "python",
     "metadata": {},
     "outputs": [
      {
       "output_type": "stream",
       "stream": "stdout",
       "text": [
        "Elements are written as \"&lt;tag&gt;text&lt;/tag&gt;\". 'good job'\n"
       ]
      }
     ],
     "prompt_number": 17
    },
    {
     "cell_type": "markdown",
     "metadata": {},
     "source": [
      "- \ud14d\uc2a4\ud2b8\ub97c ASCII\ub85c \ub9cc\ub4e4\uace0 \uce90\ub9ad\ud130 \ucf54\ub4dc\ub97c \uc544\uc2a4\ud0a4\uac00 \uc544\ub2cc \ubb38\uc790\uc5d0 \ub07c\uc6cc \ub123\uace0 \uc2f6\uc73c\uba74 errors='xmlcharrefreplace' \uc778\uc790\ub97c \uc785\ucd9c\ub825 \uad00\ub828 \ud568\uc218\uc5d0 \uc0ac\uc6a9"
     ]
    },
    {
     "cell_type": "code",
     "collapsed": false,
     "input": [
      "s = 'Spicy Jalape\u0148o'"
     ],
     "language": "python",
     "metadata": {},
     "outputs": [],
     "prompt_number": 20
    },
    {
     "cell_type": "code",
     "collapsed": false,
     "input": [
      "s.encode('ascii', errors='xmlcharrefreplace')"
     ],
     "language": "python",
     "metadata": {},
     "outputs": [
      {
       "metadata": {},
       "output_type": "pyout",
       "prompt_number": 21,
       "text": [
        "b'Spicy Jalape&#328;o'"
       ]
      }
     ],
     "prompt_number": 21
    },
    {
     "cell_type": "code",
     "collapsed": false,
     "input": [
      "s.encode('ascii')"
     ],
     "language": "python",
     "metadata": {},
     "outputs": [
      {
       "ename": "UnicodeEncodeError",
       "evalue": "'ascii' codec can't encode character '\\u0148' in position 12: ordinal not in range(128)",
       "output_type": "pyerr",
       "traceback": [
        "\u001b[0;31m---------------------------------------------------------------------------\u001b[0m\n\u001b[0;31mUnicodeEncodeError\u001b[0m                        Traceback (most recent call last)",
        "\u001b[0;32m<ipython-input-22-443ef5516bed>\u001b[0m in \u001b[0;36m<module>\u001b[0;34m()\u001b[0m\n\u001b[0;32m----> 1\u001b[0;31m \u001b[0ms\u001b[0m\u001b[0;34m.\u001b[0m\u001b[0mencode\u001b[0m\u001b[0;34m(\u001b[0m\u001b[0;34m'ascii'\u001b[0m\u001b[0;34m)\u001b[0m\u001b[0;34m\u001b[0m\u001b[0m\n\u001b[0m",
        "\u001b[0;31mUnicodeEncodeError\u001b[0m: 'ascii' codec can't encode character '\\u0148' in position 12: ordinal not in range(128)"
       ]
      }
     ],
     "prompt_number": 22
    },
    {
     "cell_type": "code",
     "collapsed": false,
     "input": [
      "s.encode('ascii', errors='ignore')"
     ],
     "language": "python",
     "metadata": {},
     "outputs": [
      {
       "metadata": {},
       "output_type": "pyout",
       "prompt_number": 23,
       "text": [
        "b'Spicy Jalapeo'"
       ]
      }
     ],
     "prompt_number": 23
    },
    {
     "cell_type": "markdown",
     "metadata": {},
     "source": [
      "- \ud14d\uc2a4\ud2b8\uc758 \uc5d4\ud2f0\ud2f0\ub97c \uce58\ud658\ud558\uba74 \ub610 \ub2e4\ub978 \ucc98\ub9ac\ub97c \ud574\uc57c \ud568\n",
      "- \uc2e4\uc81c\ub85c HTML, XML\uc744 \ucc98\ub9ac\ud560 \uc608\uc815\uc774\uba74 \uc6b0\uc120 \uc62c\ubc14\ub978 HTML, XML \ud30c\uc11c\ub97c \uc0ac\uc6a9\ud558\ub3c4\ub85d \ud574\uc57c \ud568\n",
      "- \uc77c\ubc18\uc801\uc73c\ub85c \uc774\ub7f0 \ub3c4\uad6c\ub294 \ud30c\uc2f1\ud558\ub294 \ub3d9\uc548 \uc790\ub3d9\uc73c\ub85c \uac12\uc744 \uce58\ud658\ud574 \uc90c\n",
      "\n",
      "\n",
      "- \ud558\uc9c0\ub9cc \uc5b4\uc9f8\uc11c\uc778\uc9c0 \uc790\ub3d9\uc73c\ub85c \ucc98\ub9ac\ub418\uc9c0 \uc54a\uace0 \uc218\ub3d9\uc73c\ub85c \uce58\ud658\uc744 \ud574\uc57c \ud55c\ub2e4\uba74 HTML, XML \ud30c\uc11c\uc5d0 \ub0b4\uc7a5\ub418\uc5b4 \uc788\ub294 \uc5ec\ub7ec \uc720\ud2f8\ub9ac\ud2f0 \ud568\uc218\ub098 \uba54\uc18c\ub4dc\ub97c \uc0ac\uc6a9"
     ]
    },
    {
     "cell_type": "code",
     "collapsed": false,
     "input": [
      "s = 'Spicy &quot;Jalape&#241;o&quot.'\n",
      "s"
     ],
     "language": "python",
     "metadata": {},
     "outputs": [
      {
       "metadata": {},
       "output_type": "pyout",
       "prompt_number": 25,
       "text": [
        "'Spicy &quot;Jalape&#241;o&quot.'"
       ]
      }
     ],
     "prompt_number": 25
    },
    {
     "cell_type": "code",
     "collapsed": false,
     "input": [
      "from html.parser import HTMLParser"
     ],
     "language": "python",
     "metadata": {},
     "outputs": [],
     "prompt_number": 26
    },
    {
     "cell_type": "code",
     "collapsed": false,
     "input": [
      "p = HTMLParser()"
     ],
     "language": "python",
     "metadata": {},
     "outputs": [],
     "prompt_number": 27
    },
    {
     "cell_type": "code",
     "collapsed": false,
     "input": [
      "p.unescape(s)"
     ],
     "language": "python",
     "metadata": {},
     "outputs": [
      {
       "metadata": {},
       "output_type": "pyout",
       "prompt_number": 28,
       "text": [
        "'Spicy \"Jalape\u00f1o\".'"
       ]
      }
     ],
     "prompt_number": 28
    },
    {
     "cell_type": "code",
     "collapsed": false,
     "input": [
      "t = 'The prompt is &gt;&gt;&gt;'"
     ],
     "language": "python",
     "metadata": {},
     "outputs": [],
     "prompt_number": 29
    },
    {
     "cell_type": "code",
     "collapsed": false,
     "input": [
      "from xml.sax.saxutils import unescape"
     ],
     "language": "python",
     "metadata": {},
     "outputs": [],
     "prompt_number": 30
    },
    {
     "cell_type": "code",
     "collapsed": false,
     "input": [
      "unescape(t)"
     ],
     "language": "python",
     "metadata": {},
     "outputs": [
      {
       "metadata": {},
       "output_type": "pyout",
       "prompt_number": 31,
       "text": [
        "'The prompt is >>>'"
       ]
      }
     ],
     "prompt_number": 31
    },
    {
     "cell_type": "markdown",
     "metadata": {},
     "source": [
      "### \ud1a0\ub860\n",
      "\n",
      "- HTML, XML\uc744 \uc0dd\uc131\ud560 \ub584 \ud2b9\uc218 \ubb38\uc790\ub97c \uc81c\ub300\ub85c escaping \ud558\ub294 \uacfc\uc815\uc744 \uac04\uacfc\ud558\uae30 \uc27d\ub2e4.\n",
      "- print()\ub85c \uacb0\uacfc\ubb3c\uc744 \uc0dd\uc131\ud558\uac70\ub098 \uae30\ubcf8\uc801\uc778 \ubb38\uc790\uc5f4 \uc11c\uc2dd \uae30\ub2a5\uc744 \uc0ac\uc6a9\ud560 \ub54c \ud2b9\ud788 \ub354 \uadf8\ub807\ub2e4.\n",
      "- \uac00\uc7a5 \uc26c\uc6b4 \ud574\uacb0\ucc45\uc740 html.escape()\uc640 \uac19\uc740 \uc720\ud2f8\ub9ac\ud2f0 \ud568\uc218\ub97c \uc0ac\uc6a9\ud558\ub294 \uac83\n",
      "\n",
      "\n",
      "- \ub610 \ub2e4\ub978 \ubc29\uc2dd\uc73c\ub85c \ud14d\uc2a4\ud2b8\ub97c \ucc98\ub9ac\ud558\uace0 \uc2f6\ub2e4\uba74 xml.sax.saxutils.unescape()\uc640 \uac19\uc740 \uc5ec\ub7ec \uc720\ud2f8\ub9ac\ud2f0 \ud568\uc218\uac00 \ub3c4\uc6c0\uc774 \ub428\n",
      "- \ud558\uc9c0\ub9cc \uc62c\ubc14\ub978 \ud30c\uc11c \uc0ac\uc6a9\ubc95\uc744 \uc775\ud788\ub294 \uac83\uc774 \ud6e8\uc52c \uc911\uc694\ud558\ub2e4.\n",
      "- \uc608\ub97c \ub4e4\uc5b4, html.parser\ub098 xml.etree.ElementTree \uc640 \uac19\uc740 \ud30c\uc2f1 \ubaa8\ub4c8\ub85c HTML, XML\uc744 \ucc98\ub9ac\ud558\uba74 \uc5d4\ud2f0\ud2f0 \uce58\ud658\uacfc \uac19\uc740 \uae30\ubcf8\uc801\uc778 \ub0b4\uc6a9\uc744 \uc54c\uc544\uc11c \ub2e4 \ucc98\ub9ac\ud574 \uc90c"
     ]
    },
    {
     "cell_type": "markdown",
     "metadata": {},
     "source": [
      "## 2.18 \ud14d\uc2a4\ud2b8 \ud1a0\ud070\ud654\n",
      "\n",
      "### \ubb38\uc81c\n",
      "\n",
      "- \ubb38\uc790\uc5f4\uc744 \ud30c\uc2f1\ud574\uc11c \ud1a0\ud070\ud654\ud558\uace0 \uc2f6\ub2e4.\n",
      "\n",
      "### \ud574\uacb0"
     ]
    },
    {
     "cell_type": "code",
     "collapsed": false,
     "input": [
      "text = 'foo = 23 + 42 * 10'"
     ],
     "language": "python",
     "metadata": {},
     "outputs": [],
     "prompt_number": 32
    },
    {
     "cell_type": "markdown",
     "metadata": {},
     "source": [
      "- \ubb38\uc790\uc5f4\uc744 \ud1a0\ud070\ud654\ud558\ub824\uba74 \ud328\ud134 \ub9e4\uce6d \uc774\uc0c1\uc758 \uc791\uc5c5\uc774 \ud544\uc694\n",
      "- \ud328\ud134\uc744 \ud655\uc778\ud560 \ubc29\ubc95\uc744 \uac00\uc9c0\uace0 \uc788\uc5b4\uc57c \ud568\n",
      "- \ubb38\uc790\uc5f4\uc744 \ub2e4\uc74c\uacfc \uac19\uc740 \ud398\uc5b4 \uc2dc\ud000\uc2a4\ub85c \ubc14\uafb8\uace0 \uc2f6\uc74c"
     ]
    },
    {
     "cell_type": "code",
     "collapsed": false,
     "input": [
      "tokens = [('NAME', 'foo'), ('EQ', '='), ('NUM', '23'), ('PLUS', '+'),\n",
      "          ('NUM', '42'), ('TIMES', '*'), ('NUM', '10')]"
     ],
     "language": "python",
     "metadata": {},
     "outputs": [],
     "prompt_number": 33
    },
    {
     "cell_type": "code",
     "collapsed": false,
     "input": [
      "tokens"
     ],
     "language": "python",
     "metadata": {},
     "outputs": [
      {
       "metadata": {},
       "output_type": "pyout",
       "prompt_number": 34,
       "text": [
        "[('NAME', 'foo'),\n",
        " ('EQ', '='),\n",
        " ('NUM', '23'),\n",
        " ('PLUS', '+'),\n",
        " ('NUM', '42'),\n",
        " ('TIMES', '*'),\n",
        " ('NUM', '10')]"
       ]
      }
     ],
     "prompt_number": 34
    },
    {
     "cell_type": "markdown",
     "metadata": {},
     "source": [
      "- \uc774\ub7f0 \ub098\ub204\uae30 \uc791\uc5c5\uc744 \ud558\uae30 \uc704\ud574\uc11c\ub294 \uacf5\ubc31\uc744 \ud3ec\ud568\ud574\uc11c \uac00\ub2a5\ud55c \ubaa8\ub4e0 \ud1a0\ud070\uc744 \uc815\uc758\ud574\uc57c \ud568\n",
      "- \ub2e4\uc74c \ucf54\ub4dc\uc5d0\uc11c\ub294 \uc774\ub984\uc788\ub294 \ucea1\uccd0 \uadf8\ub8f9\uc744 \uc0ac\uc6a9\ud558\ub294 \uc815\uaddc \ud45c\ud604\uc2dd\uc744 \uc0ac\uc6a9"
     ]
    },
    {
     "cell_type": "code",
     "collapsed": false,
     "input": [
      "import re\n",
      "NAME = r'(?P<NAME>[a-zA-Z_][a-zA-Z_0-9]*)'\n",
      "NUM = r'(?P<NUM>\\d+)'\n",
      "PLUS = r'(?P<PLUS>\\+)'\n",
      "TIMES = r'(?P<TIMES>\\*)'\n",
      "EQ = r'(?P<EQ>=)'\n",
      "WS = r'(?P<WS>\\s+)'"
     ],
     "language": "python",
     "metadata": {},
     "outputs": [],
     "prompt_number": 40
    },
    {
     "cell_type": "code",
     "collapsed": false,
     "input": [
      "master_pat = re.compile('|'.join([NAME, NUM, PLUS]))"
     ],
     "language": "python",
     "metadata": {},
     "outputs": [],
     "prompt_number": 45
    },
    {
     "cell_type": "code",
     "collapsed": false,
     "input": [
      "master_pat = re.compile('|'.join([NAME, NUM, PLUS, TIMES, EQ, WS]))"
     ],
     "language": "python",
     "metadata": {},
     "outputs": [],
     "prompt_number": 46
    },
    {
     "cell_type": "markdown",
     "metadata": {},
     "source": [
      "- \ub108\ubb34 \ubcf5\uc7a1\ud574\uc11c TIMES \uc815\uaddc\ud45c\ud604\uc2dd\uc774 \ud2c0\ub838\ub294\ub370 \ud558\ub098\uc529 \ub298\ub824\uac00\uba74\uc11c debugging \ud558\uba74 \ubb50\uac00 \ud2c0\ub838\ub294\uc9c0 \uc54c \uc218 \uc788\ub2e4.\n",
      "- re\ud328\ud134\uc5d0\uc11c, \ud328\ud134\uc5d0 \uc774\ub984\uc744 \ubd99\uc774\uae30 \uc704\ud574 ?P\\<TOKENNAME\\>\uc744 \uc0ac\uc6a9. \uc774 \uc774\ub984\uc740 \ub098\uc911\uc5d0 \uc0ac\uc6a9\n",
      "\n",
      "\n",
      "- \ub2e4\uc74c\uc73c\ub85c \ud1a0\ud070\ud654\ub97c \uc704\ud574\uc11c \ud328\ud134 \uac1d\uccb4\uc758 \uc798 \uc54c\ub824\uc9c0\uc9c0 \uc54a\uc740 scanner() \uba54\uc18c\ub4dc \uc0ac\uc6a9\n",
      "- \uc774 \uba54\uc18c\ub4dc\ub294 **\uc2a4\uce90\ub108 \uac1d\uccb4\ub97c \uc0dd\uc131**\ud558\uace0 **\uc804\ub2ec \ubc1b\uc740 \ud14d\uc2a4\ud2b8\uc5d0 match()**\ub97c \ubc18\ubcf5\uc801\uc73c\ub85c \ud558\ub098\uc529 \ud638\ucd9c"
     ]
    },
    {
     "cell_type": "code",
     "collapsed": false,
     "input": [
      "scanner = master_pat.scanner('foo = 42')"
     ],
     "language": "python",
     "metadata": {},
     "outputs": [],
     "prompt_number": 57
    },
    {
     "cell_type": "code",
     "collapsed": false,
     "input": [
      "scanner.match()"
     ],
     "language": "python",
     "metadata": {},
     "outputs": [
      {
       "metadata": {},
       "output_type": "pyout",
       "prompt_number": 58,
       "text": [
        "<_sre.SRE_Match object; span=(0, 3), match='foo'>"
       ]
      }
     ],
     "prompt_number": 58
    },
    {
     "cell_type": "code",
     "collapsed": false,
     "input": [
      "_.lastgroup, _.group()"
     ],
     "language": "python",
     "metadata": {},
     "outputs": [
      {
       "metadata": {},
       "output_type": "pyout",
       "prompt_number": 59,
       "text": [
        "('NAME', 'foo')"
       ]
      }
     ],
     "prompt_number": 59
    },
    {
     "cell_type": "code",
     "collapsed": false,
     "input": [
      "scanner.match()"
     ],
     "language": "python",
     "metadata": {},
     "outputs": [
      {
       "metadata": {},
       "output_type": "pyout",
       "prompt_number": 60,
       "text": [
        "<_sre.SRE_Match object; span=(3, 4), match=' '>"
       ]
      }
     ],
     "prompt_number": 60
    },
    {
     "cell_type": "code",
     "collapsed": false,
     "input": [
      "_.lastgroup, _.group()"
     ],
     "language": "python",
     "metadata": {},
     "outputs": [
      {
       "metadata": {},
       "output_type": "pyout",
       "prompt_number": 61,
       "text": [
        "('WS', ' ')"
       ]
      }
     ],
     "prompt_number": 61
    },
    {
     "cell_type": "code",
     "collapsed": false,
     "input": [
      "scanner.match()"
     ],
     "language": "python",
     "metadata": {},
     "outputs": [
      {
       "metadata": {},
       "output_type": "pyout",
       "prompt_number": 62,
       "text": [
        "<_sre.SRE_Match object; span=(4, 5), match='='>"
       ]
      }
     ],
     "prompt_number": 62
    },
    {
     "cell_type": "code",
     "collapsed": false,
     "input": [
      "_.lastgroup, _.group()"
     ],
     "language": "python",
     "metadata": {},
     "outputs": [
      {
       "metadata": {},
       "output_type": "pyout",
       "prompt_number": 63,
       "text": [
        "('EQ', '=')"
       ]
      }
     ],
     "prompt_number": 63
    },
    {
     "cell_type": "code",
     "collapsed": false,
     "input": [
      "scanner.match()"
     ],
     "language": "python",
     "metadata": {},
     "outputs": [
      {
       "metadata": {},
       "output_type": "pyout",
       "prompt_number": 64,
       "text": [
        "<_sre.SRE_Match object; span=(5, 6), match=' '>"
       ]
      }
     ],
     "prompt_number": 64
    },
    {
     "cell_type": "code",
     "collapsed": false,
     "input": [
      "_.lastgroup, _.group()"
     ],
     "language": "python",
     "metadata": {},
     "outputs": [
      {
       "metadata": {},
       "output_type": "pyout",
       "prompt_number": 65,
       "text": [
        "('WS', ' ')"
       ]
      }
     ],
     "prompt_number": 65
    },
    {
     "cell_type": "code",
     "collapsed": false,
     "input": [
      "scanner.match()"
     ],
     "language": "python",
     "metadata": {},
     "outputs": [
      {
       "metadata": {},
       "output_type": "pyout",
       "prompt_number": 66,
       "text": [
        "<_sre.SRE_Match object; span=(6, 8), match='42'>"
       ]
      }
     ],
     "prompt_number": 66
    },
    {
     "cell_type": "code",
     "collapsed": false,
     "input": [
      "_.lastgroup, _.group()"
     ],
     "language": "python",
     "metadata": {},
     "outputs": [
      {
       "metadata": {},
       "output_type": "pyout",
       "prompt_number": 67,
       "text": [
        "('NUM', '42')"
       ]
      }
     ],
     "prompt_number": 67
    },
    {
     "cell_type": "markdown",
     "metadata": {},
     "source": [
      "- \uac04\uacb0\ud55c \uc0dd\uc131\uc790\n",
      "- namedtuple\uc744 \uc774\uc6a9\ud574\uc11c token \uc0dd\uc131\ud558\ub294\uac74\ub370..\n",
      "- \uc815\uaddc\ud45c\ud604\uc2dd \ubd80\ubd84\uc740 \ubaa8\ub450 \uc774\ud574\ud588\ub294\ub370 generate\uc5d0\uc11c iter, yield \uc774 \uac1c\ub150\uc774 \uc544\uc9c1 \uc815\ub9bd\uc774 \uc548\ub428. \ub098\uc911\uc5d0 \ud55c \ubc88 \ub354 \ubd10\uc57c\uaca0\ub2e4."
     ]
    },
    {
     "cell_type": "code",
     "collapsed": false,
     "input": [
      "from collections import namedtuple"
     ],
     "language": "python",
     "metadata": {},
     "outputs": [],
     "prompt_number": 68
    },
    {
     "cell_type": "code",
     "collapsed": false,
     "input": [
      "Token = namedtuple('Token', ['type', 'value'])"
     ],
     "language": "python",
     "metadata": {},
     "outputs": [],
     "prompt_number": 69
    },
    {
     "cell_type": "code",
     "collapsed": false,
     "input": [
      "def generate_tokens(pat, text):\n",
      "    scanner = pat.scanner(text)\n",
      "    for m in iter(scanner.match, None):\n",
      "        yield Token(m.lastgroup, m.group())"
     ],
     "language": "python",
     "metadata": {},
     "outputs": [],
     "prompt_number": 70
    },
    {
     "cell_type": "code",
     "collapsed": false,
     "input": [
      "for tok in generate_tokens(master_pat, 'foo = 42'):\n",
      "    print(tok)"
     ],
     "language": "python",
     "metadata": {},
     "outputs": [
      {
       "output_type": "stream",
       "stream": "stdout",
       "text": [
        "Token(type='NAME', value='foo')\n",
        "Token(type='WS', value=' ')\n",
        "Token(type='EQ', value='=')\n",
        "Token(type='WS', value=' ')\n",
        "Token(type='NUM', value='42')\n"
       ]
      }
     ],
     "prompt_number": 71
    },
    {
     "cell_type": "markdown",
     "metadata": {},
     "source": [
      "- \ud1a0\ud070 \uc2a4\ud06c\ub9bc\uc744 \uac78\ub7ec \ub0b4\uace0 \uc2f6\uc73c\uba74 \uc0dd\uc131\uc790 \ud568\uc218\ub97c \ub354 \ub9ce\uc774 \uc815\uc758\ud558\uac70\ub098 \uc0dd\uc131\uc790 \ud45c\ud604\uc2dd\uc744 \uc0ac\uc6a9\ud55c\ub2e4.\n",
      "- \uc608\ub97c \ub4e4\uc5b4 \ubaa8\ub4e0 \uacf5\ubc31\ubb38\uc744 \ub2e4\uc74c\uacfc \uac19\uc774 \uac78\ub7ec\ub0bc \uc218 \uc788\ub2e4"
     ]
    },
    {
     "cell_type": "code",
     "collapsed": false,
     "input": [
      "tokens = (tok for tok in generate_tokens(master_pat, text)\n",
      "          if tok.type != 'WS')"
     ],
     "language": "python",
     "metadata": {},
     "outputs": [],
     "prompt_number": 72
    },
    {
     "cell_type": "code",
     "collapsed": false,
     "input": [
      "for tok in tokens:\n",
      "    print(tok)"
     ],
     "language": "python",
     "metadata": {},
     "outputs": [
      {
       "output_type": "stream",
       "stream": "stdout",
       "text": [
        "Token(type='NAME', value='foo')\n",
        "Token(type='EQ', value='=')\n",
        "Token(type='NUM', value='23')\n",
        "Token(type='PLUS', value='+')\n",
        "Token(type='NUM', value='42')\n",
        "Token(type='TIMES', value='*')\n",
        "Token(type='NUM', value='10')\n"
       ]
      }
     ],
     "prompt_number": 73
    },
    {
     "cell_type": "code",
     "collapsed": false,
     "input": [
      "text"
     ],
     "language": "python",
     "metadata": {},
     "outputs": [
      {
       "metadata": {},
       "output_type": "pyout",
       "prompt_number": 74,
       "text": [
        "'foo = 23 + 42 * 10'"
       ]
      }
     ],
     "prompt_number": 74
    },
    {
     "cell_type": "markdown",
     "metadata": {},
     "source": [
      "### \ud1a0\ub860\n",
      "\n",
      "- \ubcf4\ud1b5 \ub354 \ubcf5\uc7a1\ud55c \ud14d\uc2a4\ud2b8 \ud30c\uc2f1\uc774\ub098 \ucc98\ub9ac\ub97c \ud558\uae30 \uc804\uc5d0 \ud1a0\ud070\ud654\ub97c \ud568\n",
      "- \uc55e\uc5d0\uc11c \ub098\uc628 \uc2a4\uce94 \uae30\uc220\uc744 \uc0ac\uc6a9\ud558\ub824\uba74 \ub2e4\uc74c \uba87 \uac00\uc9c0 \uc911\uc694\ud55c \uc0ac\ud56d\uc744 \uae30\uc5b5\ud558\uc790\n",
      "- \uc6b0\uc120 \uc785\ub825\ubd80\uc5d0 \ub098\ud0c0\ub098\ub294 \ubaa8\ub4e0 \ud14d\uc2a4\ud2b8 \uc2dc\ud000\uc2a4\ub97c re \ud328\ud134\uc73c\ub85c \ud655\uc778\ud574\uc57c \ud568\n",
      "- \ub9e4\uce6d\ud558\uc9c0 \uc54a\ub294 \ud14d\uc2a4\ud2b8\uac00 \ud558\ub098\ub77c\ub3c4 \uc788\uc73c\uba74 \uc2a4\uce90\ub2dd\uc774 \uac70\uae30\uc11c \uba48\ucda4\n",
      "- \uc608\uc81c\uc5d0\uc11c \uacf5\ubc31(WS) \ud1a0\ud070\uc744 \uba85\uc2dc\ud560 \ud544\uc694\uac00 \uc788\uc5c8\ub358 \uc774\uc720\ub3c4 \uc774\uc640 \uac19\ub2e4.\n",
      "\n",
      "\n",
      "- \ub9c8\uc2a4\ud130 \uc815\uaddc \ud45c\ud604\uc2dd\uc758 \ud1a0\ud070 \uc21c\uc11c\ub3c4 \uc911\uc694\n",
      "- \ub9e4\uce6d\ud560 \ub54c re\ub294 \uba85\uc2dc\ud55c \uc21c\uc11c\ub300\ub85c \ud328\ud134\uc744 \ub9e4\uce6d\ud568\n",
      "- \ub530\ub77c\uc11c \ud55c \ud328\ud134\uc774 \ub2e4\ub978 \ud328\ud134\uc758 \ubd80\ubd84\uc774 \ub418\ub294 \uacbd\uc6b0\uac00 \uc788\ub2e4\uba74 \ud56d\uc0c1 \ub354 \uae34 \ud328\ud134\uc744 \uba3c\uc800 \ub123\uc5b4\uc57c \ud568"
     ]
    },
    {
     "cell_type": "code",
     "collapsed": false,
     "input": [
      "LT = r'(?P<LT><)'"
     ],
     "language": "python",
     "metadata": {},
     "outputs": [],
     "prompt_number": 84
    },
    {
     "cell_type": "code",
     "collapsed": false,
     "input": [
      "LE = r'(?P<LE><=)'"
     ],
     "language": "python",
     "metadata": {},
     "outputs": [],
     "prompt_number": 85
    },
    {
     "cell_type": "code",
     "collapsed": false,
     "input": [
      "EQ = r'(?P<EQ>=)'"
     ],
     "language": "python",
     "metadata": {},
     "outputs": [],
     "prompt_number": 86
    },
    {
     "cell_type": "code",
     "collapsed": false,
     "input": [
      "# \uc62c\ubc14\ub984\n",
      "# <=, < \uc911\uc5d0\uc11c <=\uc774 \uba3c\uc800\n",
      "master_pat = re.compile('|'.join([LE, LT, EQ]))"
     ],
     "language": "python",
     "metadata": {},
     "outputs": [],
     "prompt_number": 89
    },
    {
     "cell_type": "code",
     "collapsed": false,
     "input": [
      "# \ud2c0\ub9bc\n",
      "# master_pat = re.compile('|'.join([LT, LE, EQ]))"
     ],
     "language": "python",
     "metadata": {},
     "outputs": [],
     "prompt_number": 90
    },
    {
     "cell_type": "markdown",
     "metadata": {},
     "source": [
      "- \ub450\ubc88\uc9f8 \ud328\ud134\uc758 \uacbd\uc6b0 <= \ud14d\uc2a4\ud2b8\ub97c LT\uc640 EQ\ub77c\uace0 \ub9e4\uce6d\ud560\ud150\ub370, \uc2e4\uc81c\ub85c\ub294 LE\ub77c\uace0 \ub9e4\uce6d\n",
      "- \ub9c8\uc9c0\ub9c9\uc73c\ub85c \ud328\ud134\uc774 \ubd80\ubd84 \ubb38\uc790\uc5f4\uc744 \ud615\uc131\ud558\ub294 \uacbd\uc6b0\ub3c4 \uc870\uc2ec\ud574\uc57c \ud568"
     ]
    },
    {
     "cell_type": "code",
     "collapsed": false,
     "input": [
      "PRINT = r'(?P<PRINT>print)'"
     ],
     "language": "python",
     "metadata": {},
     "outputs": [],
     "prompt_number": 97
    },
    {
     "cell_type": "code",
     "collapsed": false,
     "input": [
      "NAME = r'(?P<NAME>[a-zA-Z_][a-zA-Z_0-9]*)'"
     ],
     "language": "python",
     "metadata": {},
     "outputs": [],
     "prompt_number": 98
    },
    {
     "cell_type": "code",
     "collapsed": false,
     "input": [
      "master_pat = re.compile('|'.join([PRINT, NAME]))"
     ],
     "language": "python",
     "metadata": {},
     "outputs": [],
     "prompt_number": 99
    },
    {
     "cell_type": "code",
     "collapsed": false,
     "input": [
      "for tok in generate_tokens(master_pat, 'printer'):\n",
      "    print(tok)"
     ],
     "language": "python",
     "metadata": {},
     "outputs": [
      {
       "output_type": "stream",
       "stream": "stdout",
       "text": [
        "Token(type='PRINT', value='print')\n",
        "Token(type='NAME', value='er')\n"
       ]
      }
     ],
     "prompt_number": 100
    },
    {
     "cell_type": "markdown",
     "metadata": {},
     "source": [
      "- \ud1a0\ud070\ud654\uc5d0 \ub300\ud574 \ub354 \uc790\uc138\ud788 \uc54c\uace0 \uc2f6\ub2e4\uba74 [PyParsing](https://pypi.python.org/pypi/pyparsing)\uc774\ub098 [PLY](http://www.dabeaz.com/ply/) \ud328\ud0a4\uc9c0 \ucc38\uc870"
     ]
    },
    {
     "cell_type": "markdown",
     "metadata": {},
     "source": [
      "## 2.19 \uac04\ub2e8\ud55c \uc7ac\uadc0 \ud30c\uc11c \uc791\uc131\n",
      "\n",
      "### \ubb38\uc81c\n",
      "\n",
      "- \uc8fc\uc5b4\uc9c4 \ubb38\ubc95 \uaddc\uce59\uc5d0 \ub530\ub77c \ud14d\uc2a4\ud2b8\ub97c \ud30c\uc2f1\ud558\uace0 \ub3d9\uc791\uc744 \uc218\ud589\ud558\uac70\ub098 \uc785\ub825\ub41c \ud14d\uc2a4\ud2b8\ub97c \ucd94\uc0c1 \uc2e0\ud0dd\uc2a4 \ud2b8\ub9ac\ub85c \ub098\ud0c0\ub0b4\uc57c \ud55c\ub2e4. \ubb38\ubc95\uc740 \uac04\ub2e8\ud558\uc9c0\ub9cc \ud504\ub808\uc784\uc6cc\ud06c\ub97c \uc0ac\uc6a9\ud558\uc9c0 \uc54a\uace0 \ud30c\uc11c\ub97c \uc9c1\uc811 \uc791\uc131\ud558\uace0 \uc2f6\ub2e4.\n",
      "\n",
      "### \ud574\uacb0\n",
      "\n",
      "- \uc774 \ubb38\uc81c\ub294 \ud2b9\uc815 \ubb38\ubc95\uc5d0 \ub530\ub77c \ud14d\uc2a4\ud2b8\ub97c \ud30c\uc2f1\ud558\ub294\ub370 \uc9d1\uc911\ud55c\ub2e4.\n",
      "- \uc6b0\uc120 \ubb38\ubc95\uc758 \uc815\uaddc \uc2a4\ud399\uc744 BNF\ub098 EBNF\ub85c \ud558\ub294\ub370\uc11c \uc2dc\uc791\ud55c\ub2e4. \uc608\ub97c \ub4e4\uc5b4 \uac04\ub2e8\ud55c \uc0b0\uc220 \ud45c\ud604\uc2dd\uc744 \ub2e4\uc74c\uacfc \uac19\uc774 \ub098\ud0c0\ub0bc \uc218 \uc788\ub2e4.\n",
      "\n"
     ]
    },
    {
     "cell_type": "markdown",
     "metadata": {},
     "source": [
      "    expr ::= expr + term\n",
      "        |    expr - term\n",
      "        |    term\n",
      "        \n",
      "    term ::= term * factor\n",
      "        |    term / factor\n",
      "        |    factor\n",
      "        \n",
      "    factor ::= ( expr )\n",
      "           |   NUM"
     ]
    },
    {
     "cell_type": "markdown",
     "metadata": {},
     "source": [
      "- \ud639\uc740 EBNF \ud615\uc2dd\uc73c\ub85c \ub098\ud0c0\ub0c4\n",
      "- [BNF and EBNF](http://condor.depaul.edu/ichu/csc447/notes/wk3/BNF.pdf)\n",
      "- [BNF/EBNF variants](http://www.cs.man.ac.uk/~pjj/bnf/ebnf.html)\n",
      "- [Backus\u2013Naur Form - Wikipedia, the free encyclopedia](http://en.wikipedia.org/wiki/Backus%E2%80%93Naur_Form)\n",
      "- [Extended Backus\u2013Naur Form - Wikipedia, the free encyclopedia](http://en.wikipedia.org/wiki/Extended_Backus%E2%80%93Naur_Form)\n",
      "\n",
      "#### Pass - \uc774\uac74 \ub098\uc911\uc5d0 \ub2e4\uc2dc \ud55c \ubc88 \uc0b4\ud3b4\ubcf4\uc790. \ub0b4\uac8c \ub2f9\uc7a5\uc740 \ud544\uc694\ud55c \uae30\uc220\uc774 \uc544\ub2c8\ub2e4. \uadf8\ub9ac\uace0 \uc808\ub300\ub85c \uac04\ub2e8\ud558\uc9c0 \uc54a\ub2e4!"
     ]
    },
    {
     "cell_type": "markdown",
     "metadata": {},
     "source": [
      "## 2.20 \ubc14\uc774\ud2b8 \ubb38\uc790\uc5f4\uc5d0 \ud14d\uc2a4\ud2b8 \uc5f0\uc0b0 \uc218\ud589\n",
      "\n",
      "### \ubb38\uc81c\n",
      "\n",
      "- byte string\uc5d0 \uc77c\ubc18\uc801\uc778 \ud14d\uc2a4\ud2b8 \uc5f0\uc0b0(\uc798\ub77c\ub0b4\uae30, \uac80\uc0c9, \uce58\ud658 \ub4f1)\uc744 \uc218\ud589\ud558\uace0 \uc2f6\ub2e4\n",
      "\n",
      "### \ud574\uacb0\n",
      "\n",
      "- \ubc14\uc774\ud2b8 \ubb38\uc790\uc5f4\ub3c4 \ud14d\uc2a4\ud2b8 \ubb38\uc790\uc5f4\uacfc \ub9c8\ucc2c\uac00\uc9c0\ub85c \ub300\ubd80\ubd84\uc758 \uc5f0\uc0b0\uc744 \ub0b4\uc7a5\ud558\uace0 \uc788\uc74c"
     ]
    },
    {
     "cell_type": "code",
     "collapsed": false,
     "input": [
      "data = b'Hello World'"
     ],
     "language": "python",
     "metadata": {},
     "outputs": [],
     "prompt_number": 101
    },
    {
     "cell_type": "code",
     "collapsed": false,
     "input": [
      "data[0:5]"
     ],
     "language": "python",
     "metadata": {},
     "outputs": [
      {
       "metadata": {},
       "output_type": "pyout",
       "prompt_number": 102,
       "text": [
        "b'Hello'"
       ]
      }
     ],
     "prompt_number": 102
    },
    {
     "cell_type": "code",
     "collapsed": false,
     "input": [
      "data.startswith(b'Hello')"
     ],
     "language": "python",
     "metadata": {},
     "outputs": [
      {
       "metadata": {},
       "output_type": "pyout",
       "prompt_number": 103,
       "text": [
        "True"
       ]
      }
     ],
     "prompt_number": 103
    },
    {
     "cell_type": "code",
     "collapsed": false,
     "input": [
      "data.split()"
     ],
     "language": "python",
     "metadata": {},
     "outputs": [
      {
       "metadata": {},
       "output_type": "pyout",
       "prompt_number": 104,
       "text": [
        "[b'Hello', b'World']"
       ]
      }
     ],
     "prompt_number": 104
    },
    {
     "cell_type": "code",
     "collapsed": false,
     "input": [
      "data.replace(b'Hello', b'Hello Cruel')"
     ],
     "language": "python",
     "metadata": {},
     "outputs": [
      {
       "metadata": {},
       "output_type": "pyout",
       "prompt_number": 105,
       "text": [
        "b'Hello Cruel World'"
       ]
      }
     ],
     "prompt_number": 105
    },
    {
     "cell_type": "markdown",
     "metadata": {},
     "source": [
      "- \uc774\ub7f0 \ub3d9\uc791\uc740 \ubc14\uc774\ud2b8 \ubc30\uc5f4\uc5d0\ub3c4 \uc0ac\uc6a9"
     ]
    },
    {
     "cell_type": "code",
     "collapsed": false,
     "input": [
      "data = bytearray(b'Hello World')"
     ],
     "language": "python",
     "metadata": {},
     "outputs": [],
     "prompt_number": 106
    },
    {
     "cell_type": "code",
     "collapsed": false,
     "input": [
      "data"
     ],
     "language": "python",
     "metadata": {},
     "outputs": [
      {
       "metadata": {},
       "output_type": "pyout",
       "prompt_number": 107,
       "text": [
        "bytearray(b'Hello World')"
       ]
      }
     ],
     "prompt_number": 107
    },
    {
     "cell_type": "code",
     "collapsed": false,
     "input": [
      "data[0:5]"
     ],
     "language": "python",
     "metadata": {},
     "outputs": [
      {
       "metadata": {},
       "output_type": "pyout",
       "prompt_number": 108,
       "text": [
        "bytearray(b'Hello')"
       ]
      }
     ],
     "prompt_number": 108
    },
    {
     "cell_type": "code",
     "collapsed": false,
     "input": [
      "data.startswith(b'Hello')"
     ],
     "language": "python",
     "metadata": {},
     "outputs": [
      {
       "metadata": {},
       "output_type": "pyout",
       "prompt_number": 109,
       "text": [
        "True"
       ]
      }
     ],
     "prompt_number": 109
    },
    {
     "cell_type": "code",
     "collapsed": false,
     "input": [
      "data.split()"
     ],
     "language": "python",
     "metadata": {},
     "outputs": [
      {
       "metadata": {},
       "output_type": "pyout",
       "prompt_number": 110,
       "text": [
        "[bytearray(b'Hello'), bytearray(b'World')]"
       ]
      }
     ],
     "prompt_number": 110
    },
    {
     "cell_type": "code",
     "collapsed": false,
     "input": [
      "data.replace(b'Hello', b'Hello Cruel')"
     ],
     "language": "python",
     "metadata": {},
     "outputs": [
      {
       "metadata": {},
       "output_type": "pyout",
       "prompt_number": 111,
       "text": [
        "bytearray(b'Hello Cruel World')"
       ]
      }
     ],
     "prompt_number": 111
    },
    {
     "cell_type": "markdown",
     "metadata": {},
     "source": [
      "- \ubc14\uc774\ud2b8 \ubb38\uc790\uc5f4 \ud328\ud134 \ub9e4\uce6d\uc5d0 \uc815\uaddc \ud45c\ud604\uc2dd\uc744 \uc801\uc6a9\ud560 \uc218 \uc788\ub2e4.\n",
      "- \ud558\uc9c0\ub9cc \ud328\ud134 \uc790\uccb4\ub3c4 \ubc14\uc774\ud2b8\ub85c \ub098\ud0c0\ub0b4\uc57c \ud568"
     ]
    },
    {
     "cell_type": "code",
     "collapsed": false,
     "input": [
      "data = b'FOO:BAR,SPAM'"
     ],
     "language": "python",
     "metadata": {},
     "outputs": [],
     "prompt_number": 112
    },
    {
     "cell_type": "code",
     "collapsed": false,
     "input": [
      "import re"
     ],
     "language": "python",
     "metadata": {},
     "outputs": [],
     "prompt_number": 113
    },
    {
     "cell_type": "code",
     "collapsed": false,
     "input": [
      "re.split('[:,]', data)"
     ],
     "language": "python",
     "metadata": {},
     "outputs": [
      {
       "ename": "TypeError",
       "evalue": "can't use a string pattern on a bytes-like object",
       "output_type": "pyerr",
       "traceback": [
        "\u001b[0;31m---------------------------------------------------------------------------\u001b[0m\n\u001b[0;31mTypeError\u001b[0m                                 Traceback (most recent call last)",
        "\u001b[0;32m<ipython-input-117-0326dd50671e>\u001b[0m in \u001b[0;36m<module>\u001b[0;34m()\u001b[0m\n\u001b[0;32m----> 1\u001b[0;31m \u001b[0mre\u001b[0m\u001b[0;34m.\u001b[0m\u001b[0msplit\u001b[0m\u001b[0;34m(\u001b[0m\u001b[0;34m'[:,]'\u001b[0m\u001b[0;34m,\u001b[0m \u001b[0mdata\u001b[0m\u001b[0;34m)\u001b[0m\u001b[0;34m\u001b[0m\u001b[0m\n\u001b[0m",
        "\u001b[0;32m/Users/re4lfl0w/virtualenv/python3_test/lib/python3.4/re.py\u001b[0m in \u001b[0;36msplit\u001b[0;34m(pattern, string, maxsplit, flags)\u001b[0m\n\u001b[1;32m    194\u001b[0m     \u001b[0;32mand\u001b[0m \u001b[0mthe\u001b[0m \u001b[0mremainder\u001b[0m \u001b[0mof\u001b[0m \u001b[0mthe\u001b[0m \u001b[0mstring\u001b[0m \u001b[0;32mis\u001b[0m \u001b[0mreturned\u001b[0m \u001b[0;32mas\u001b[0m \u001b[0mthe\u001b[0m \u001b[0mfinal\u001b[0m \u001b[0melement\u001b[0m\u001b[0;34m\u001b[0m\u001b[0m\n\u001b[1;32m    195\u001b[0m     of the list.\"\"\"\n\u001b[0;32m--> 196\u001b[0;31m     \u001b[0;32mreturn\u001b[0m \u001b[0m_compile\u001b[0m\u001b[0;34m(\u001b[0m\u001b[0mpattern\u001b[0m\u001b[0;34m,\u001b[0m \u001b[0mflags\u001b[0m\u001b[0;34m)\u001b[0m\u001b[0;34m.\u001b[0m\u001b[0msplit\u001b[0m\u001b[0;34m(\u001b[0m\u001b[0mstring\u001b[0m\u001b[0;34m,\u001b[0m \u001b[0mmaxsplit\u001b[0m\u001b[0;34m)\u001b[0m\u001b[0;34m\u001b[0m\u001b[0m\n\u001b[0m\u001b[1;32m    197\u001b[0m \u001b[0;34m\u001b[0m\u001b[0m\n\u001b[1;32m    198\u001b[0m \u001b[0;32mdef\u001b[0m \u001b[0mfindall\u001b[0m\u001b[0;34m(\u001b[0m\u001b[0mpattern\u001b[0m\u001b[0;34m,\u001b[0m \u001b[0mstring\u001b[0m\u001b[0;34m,\u001b[0m \u001b[0mflags\u001b[0m\u001b[0;34m=\u001b[0m\u001b[0;36m0\u001b[0m\u001b[0;34m)\u001b[0m\u001b[0;34m:\u001b[0m\u001b[0;34m\u001b[0m\u001b[0m\n",
        "\u001b[0;31mTypeError\u001b[0m: can't use a string pattern on a bytes-like object"
       ]
      }
     ],
     "prompt_number": 117
    },
    {
     "cell_type": "code",
     "collapsed": false,
     "input": [
      "# \ud328\ud134\ub3c4 \ubc14\uc774\ud2b8\ub85c \ub098\ud0c0\ub0b4\uc57c \ub428\n",
      "re.split(b'[:,]', data)"
     ],
     "language": "python",
     "metadata": {},
     "outputs": [
      {
       "metadata": {},
       "output_type": "pyout",
       "prompt_number": 118,
       "text": [
        "[b'FOO', b'BAR', b'SPAM']"
       ]
      }
     ],
     "prompt_number": 118
    },
    {
     "cell_type": "markdown",
     "metadata": {},
     "source": [
      "### \ud1a0\ub860\n",
      "\n",
      "- \ub300\uac1c\uc758 \uacbd\uc6b0 \ud14d\uc2a4\ud2b8 \ubb38\uc790\uc5f4\uc5d0 \uc788\ub294 \uc5f0\uc0b0 \uae30\ub2a5\uc740 \ubc14\uc774\ud2b8 \ubb38\uc790\uc5f4\uc5d0\ub3c4 \ub0b4\uc7a5\n",
      "- \ud558\uc9c0\ub9cc \uc8fc\uc758\ud574\uc57c \ud560 \ucc28\uc774\uc810\uc774 \uba87\uac00\uc9c0 \uc874\uc7ac\n",
      "- \uccab\uc9f8\ub85c **\ubc14\uc774\ud2b8 \ubb38\uc790\uc5f4\uc5d0 \uc778\ub371\uc2a4**\ub97c \uc0ac\uc6a9\ud558\uba74 \uac1c\ubcc4 \ubb38\uc790\uac00 \uc544\ub2c8\ub77c **\uc815\uc218**\ub97c \uac00\ub9ac\ud0b4"
     ]
    },
    {
     "cell_type": "code",
     "collapsed": false,
     "input": [
      "a = 'Hello World'"
     ],
     "language": "python",
     "metadata": {},
     "outputs": [],
     "prompt_number": 119
    },
    {
     "cell_type": "code",
     "collapsed": false,
     "input": [
      "a[0]"
     ],
     "language": "python",
     "metadata": {},
     "outputs": [
      {
       "metadata": {},
       "output_type": "pyout",
       "prompt_number": 120,
       "text": [
        "'H'"
       ]
      }
     ],
     "prompt_number": 120
    },
    {
     "cell_type": "code",
     "collapsed": false,
     "input": [
      "a[1]"
     ],
     "language": "python",
     "metadata": {},
     "outputs": [
      {
       "metadata": {},
       "output_type": "pyout",
       "prompt_number": 121,
       "text": [
        "'e'"
       ]
      }
     ],
     "prompt_number": 121
    },
    {
     "cell_type": "code",
     "collapsed": false,
     "input": [
      "b = b'Hello World'"
     ],
     "language": "python",
     "metadata": {},
     "outputs": [],
     "prompt_number": 122
    },
    {
     "cell_type": "code",
     "collapsed": false,
     "input": [
      "b[0]"
     ],
     "language": "python",
     "metadata": {},
     "outputs": [
      {
       "metadata": {},
       "output_type": "pyout",
       "prompt_number": 123,
       "text": [
        "72"
       ]
      }
     ],
     "prompt_number": 123
    },
    {
     "cell_type": "code",
     "collapsed": false,
     "input": [
      "b[1]"
     ],
     "language": "python",
     "metadata": {},
     "outputs": [
      {
       "metadata": {},
       "output_type": "pyout",
       "prompt_number": 124,
       "text": [
        "101"
       ]
      }
     ],
     "prompt_number": 124
    },
    {
     "cell_type": "markdown",
     "metadata": {},
     "source": [
      "- \uc774 \ucc28\uc774\ub85c \uc778\ud574 \uce90\ub9ad\ud130 \uae30\ubc18\uc758 \ub370\uc774\ud130\ub97c \ubc14\uc774\ud2b8 \uae30\uc900\uc73c\ub85c \uc811\uadfc\ud558\ub294 \ud504\ub85c\uadf8\ub798\ubc0d\uc5d0 \uc601\ud5a5\uc744 \uc8fc\uae30\ub3c4 \ud568\n",
      "- \ub458\uc9f8\ub85c \ubc14\uc774\ud2b8 \ubb38\uc790\uc5f4\uc740 \ubcf4\uae30 \uc88b\uc740 \ud45c\ud604\uc2dd\uc744 \uc9c0\uc6d0\ud558\uc9c0 \uc54a\uc73c\uba70, \ud14d\uc2a4\ud2b8 \ubb38\uc790\uc5f4\ub85c \ubcc0\ud658\ud558\uc9c0 \uc54a\uc73c\uba74 \uae54\ub054\ud558\uac8c \ucd9c\ub825\ud560 \uc218\ub3c4 \uc5c6\ub2e4."
     ]
    },
    {
     "cell_type": "code",
     "collapsed": false,
     "input": [
      "s = b'Helllo World'"
     ],
     "language": "python",
     "metadata": {},
     "outputs": [],
     "prompt_number": 125
    },
    {
     "cell_type": "code",
     "collapsed": false,
     "input": [
      "print(s)"
     ],
     "language": "python",
     "metadata": {},
     "outputs": [
      {
       "output_type": "stream",
       "stream": "stdout",
       "text": [
        "b'Helllo World'\n"
       ]
      }
     ],
     "prompt_number": 126
    },
    {
     "cell_type": "code",
     "collapsed": false,
     "input": [
      "print(s.decode('ascii'))"
     ],
     "language": "python",
     "metadata": {},
     "outputs": [
      {
       "output_type": "stream",
       "stream": "stdout",
       "text": [
        "Helllo World\n"
       ]
      }
     ],
     "prompt_number": 127
    },
    {
     "cell_type": "markdown",
     "metadata": {},
     "source": [
      "- \ub610\ud55c \ubc14\uc774\ud2b8 \ubb38\uc790\uc5f4\uc740 formatting\ub97c \uc9c0\uc6d0\ud558\uc9c0 \uc54a\ub294\ub2e4."
     ]
    },
    {
     "cell_type": "code",
     "collapsed": false,
     "input": [
      "b'%10s %10d %10.2f' % (b'ACME', 100, 490.1)"
     ],
     "language": "python",
     "metadata": {},
     "outputs": [
      {
       "ename": "TypeError",
       "evalue": "unsupported operand type(s) for %: 'bytes' and 'tuple'",
       "output_type": "pyerr",
       "traceback": [
        "\u001b[0;31m---------------------------------------------------------------------------\u001b[0m\n\u001b[0;31mTypeError\u001b[0m                                 Traceback (most recent call last)",
        "\u001b[0;32m<ipython-input-128-c3fbe9c67b8a>\u001b[0m in \u001b[0;36m<module>\u001b[0;34m()\u001b[0m\n\u001b[0;32m----> 1\u001b[0;31m \u001b[0;34mb'%10s %10d %10.2f'\u001b[0m \u001b[0;34m%\u001b[0m \u001b[0;34m(\u001b[0m\u001b[0;34mb'ACME'\u001b[0m\u001b[0;34m,\u001b[0m \u001b[0;36m100\u001b[0m\u001b[0;34m,\u001b[0m \u001b[0;36m490.1\u001b[0m\u001b[0;34m)\u001b[0m\u001b[0;34m\u001b[0m\u001b[0m\n\u001b[0m",
        "\u001b[0;31mTypeError\u001b[0m: unsupported operand type(s) for %: 'bytes' and 'tuple'"
       ]
      }
     ],
     "prompt_number": 128
    },
    {
     "cell_type": "code",
     "collapsed": false,
     "input": [
      "b'{} {} {}'.format(b'ACME', 100, 490.1)"
     ],
     "language": "python",
     "metadata": {},
     "outputs": [
      {
       "ename": "AttributeError",
       "evalue": "'bytes' object has no attribute 'format'",
       "output_type": "pyerr",
       "traceback": [
        "\u001b[0;31m---------------------------------------------------------------------------\u001b[0m\n\u001b[0;31mAttributeError\u001b[0m                            Traceback (most recent call last)",
        "\u001b[0;32m<ipython-input-129-0442c2c2ecdc>\u001b[0m in \u001b[0;36m<module>\u001b[0;34m()\u001b[0m\n\u001b[0;32m----> 1\u001b[0;31m \u001b[0;34mb'{} {} {}'\u001b[0m\u001b[0;34m.\u001b[0m\u001b[0mformat\u001b[0m\u001b[0;34m(\u001b[0m\u001b[0;34mb'ACME'\u001b[0m\u001b[0;34m,\u001b[0m \u001b[0;36m100\u001b[0m\u001b[0;34m,\u001b[0m \u001b[0;36m490.1\u001b[0m\u001b[0;34m)\u001b[0m\u001b[0;34m\u001b[0m\u001b[0m\n\u001b[0m",
        "\u001b[0;31mAttributeError\u001b[0m: 'bytes' object has no attribute 'format'"
       ]
      }
     ],
     "prompt_number": 129
    },
    {
     "cell_type": "markdown",
     "metadata": {},
     "source": [
      "- \ubc14\uc774\ud2b8 \ubb38\uc790\uc5f4\uc5d0 \uc11c\uc2dd\ud654\ub97c \uc801\uc6a9\ud558\uace0 \uc2f6\uc73c\uba74 \uc77c\ubc18 \ud14d\uc2a4\ud2b8 \ubb38\uc790\uc5f4\uacfc \uc778\ucf54\ub529\uc744 \uc0ac\uc6a9\ud574\uc57c \ud568"
     ]
    },
    {
     "cell_type": "code",
     "collapsed": false,
     "input": [
      "'{:10s} {:10d} {:10.2f}'.format('ACME', 100, 490.1).encode('ascii')"
     ],
     "language": "python",
     "metadata": {},
     "outputs": [
      {
       "metadata": {},
       "output_type": "pyout",
       "prompt_number": 132,
       "text": [
        "b'ACME              100     490.10'"
       ]
      }
     ],
     "prompt_number": 132
    },
    {
     "cell_type": "markdown",
     "metadata": {},
     "source": [
      "- \ub9c8\uc9c0\ub9c9\uc73c\ub85c, \ubc14\uc774\ud2b8 \ubb38\uc790\uc5f4\uc744 \uc0ac\uc6a9\ud558\uba74 \ud2b9\uc815 \uc5f0\uc0b0\uc758 \ubb38\ubc95\uc5d0 \uc601\ud5a5\uc744 \uc8fc\uae30\ub3c4 \ud568\n",
      "- \ud2b9\ud788 \ud30c\uc77c \uc2dc\uc2a4\ud15c\uc5d0 \uc601\ud5a5\uc774 \ub9ce\uc74c\n",
      "- \uc608\ub97c \ub4e4\uc5b4, \ud30c\uc77c \uc774\ub984\uc744 \ud14d\uc2a4\ud2b8 \ubb38\uc790\uc5f4\uc774 \uc544\ub2c8\ub77c \ubc14\uc774\ud2b8 \ubb38\uc790\uc5f4\ub85c \uc81c\uacf5\ud558\uba74, \ub300\uac1c \ud30c\uc77c \uc774\ub984\uc774 \uc778\ucf54\ub529/\ub514\ucf54\ub529\uc744 \uc0ac\uc6a9\ud560 \uc218 \uc5c6\uc74c"
     ]
    },
    {
     "cell_type": "code",
     "collapsed": false,
     "input": [
      "# utf-8 \ud30c\uc77c \uc774\ub984 \uc791\uc131\n",
      "with open('02/jalape\\xf1o.txt', 'w') as f:\n",
      "    f.write('spicy')"
     ],
     "language": "python",
     "metadata": {},
     "outputs": [],
     "prompt_number": 137
    },
    {
     "cell_type": "code",
     "collapsed": false,
     "input": [
      "#\ub514\ub809\ud1a0\ub9ac \ub9ac\uc2a4\ud2b8 \uad6c\ud558\uae30\n",
      "os.listdir('02/')"
     ],
     "language": "python",
     "metadata": {},
     "outputs": [
      {
       "metadata": {},
       "output_type": "pyout",
       "prompt_number": 138,
       "text": [
        "['combining_and_concatenating_strings',\n",
        " 'hybrid.txt',\n",
        " 'jalape\u00f1o.txt',\n",
        " 'matching_and_searching_for_text_patterns_using_regular_expressions',\n",
        " 'matching_strings_using_shell_wildcard_patterns',\n",
        " 'normalizing_unicode_text_to_a_standard_representation',\n",
        " 'reformatting_text_to_fixed_number_of_columns',\n",
        " 'sanitizing_and_cleaning_up_text',\n",
        " 'searching_and_replacing_text',\n",
        " 'specifying_a_regular_expression_for_the_shortest_match',\n",
        " 'splitting_strings_on_any_of_multiple_delimiters',\n",
        " 'test.py',\n",
        " 'test2.py',\n",
        " 'tokenizing_text',\n",
        " 'variable_interpolation_in_strings',\n",
        " 'writing_a_regular_expression_for_multiline_patterns',\n",
        " 'writing_a_simple_recursive_descent_parser',\n",
        " 'yield.txt']"
       ]
      }
     ],
     "prompt_number": 138
    },
    {
     "cell_type": "code",
     "collapsed": false,
     "input": [
      "os.listdir(b'02/')"
     ],
     "language": "python",
     "metadata": {},
     "outputs": [
      {
       "metadata": {},
       "output_type": "pyout",
       "prompt_number": 140,
       "text": [
        "[b'combining_and_concatenating_strings',\n",
        " b'hybrid.txt',\n",
        " b'jalapen\\xcc\\x83o.txt',\n",
        " b'matching_and_searching_for_text_patterns_using_regular_expressions',\n",
        " b'matching_strings_using_shell_wildcard_patterns',\n",
        " b'normalizing_unicode_text_to_a_standard_representation',\n",
        " b'reformatting_text_to_fixed_number_of_columns',\n",
        " b'sanitizing_and_cleaning_up_text',\n",
        " b'searching_and_replacing_text',\n",
        " b'specifying_a_regular_expression_for_the_shortest_match',\n",
        " b'splitting_strings_on_any_of_multiple_delimiters',\n",
        " b'test.py',\n",
        " b'test2.py',\n",
        " b'tokenizing_text',\n",
        " b'variable_interpolation_in_strings',\n",
        " b'writing_a_regular_expression_for_multiline_patterns',\n",
        " b'writing_a_simple_recursive_descent_parser',\n",
        " b'yield.txt']"
       ]
      }
     ],
     "prompt_number": 140
    },
    {
     "cell_type": "markdown",
     "metadata": {},
     "source": [
      "- \ub514\ub809\ud1a0\ub9ac \uc774\ub984\uc5d0 \ubc14\uc774\ud2b8 \ubb38\uc790\uc5f4\uc744 \uc0ac\uc6a9\ud558\uba74 \uacb0\uacfc \ud30c\uc77c \uc774\ub984\uc774 \ub514\ucf54\ub529\ub418\uc9c0 \uc54a\uc740 \ubc14\uc774\ud2b8\ub85c \ubc18\ud658\ub428\n",
      "- \ub514\ub809\ud1a0\ub9ac \ub9ac\uc2a4\ud2b8\uc758 \ud30c\uc77c \uc774\ub984\uc740 raw UTF-8 \uc778\ucf54\ub529\uc744 \ud3ec\ud568\n",
      "- \ud30c\uc77c \uc774\ub984\uacfc \uad00\ub828\ub41c \uc774\uc288\ub97c \uc54c\uc544\ubcf4\ub824\uba74 \ub808\uc2dc\ud53c 5.15 \ucc38\uace0\n",
      "\n",
      "\n",
      "- \uadf8\ub9ac\uace0 \uc131\ub2a5 \ubb38\uc81c\ub97c \uace0\ub824\ud574 \ud14d\uc2a4\ud2b8 \ubb38\uc790\uc5f4\ubcf4\ub2e4 \ubc14\uc774\ud2b8 \ubb38\uc790\uc5f4\uc744 \uc120\ud638\ud558\ub294 \ud504\ub85c\uadf8\ub798\uba38\ub4e4\uc774 \uc788\ub2e4.\n",
      "- \ud504\ub85c\uadf8\ub7a8\uc5d0 **\ud14d\uc2a4\ud2b8 \uc791\uc5c5\uc774 \ud544\uc694**\ud558\ub2e4\uba74 **\ud14d\uc2a4\ud2b8 \ubb38\uc790\uc5f4**\uc744 **\uc0ac\uc6a9**\ud558\ub3c4\ub85d \ud558\uc790. \ubc14\uc774\ud2b8 \ubb38\uc790\uc5f4\uc740 \uc62c\ubc14\ub978 \uc120\ud0dd\uc774 \uc544\ub2c8\ub2e4."
     ]
    }
   ],
   "metadata": {}
  }
 ]
}
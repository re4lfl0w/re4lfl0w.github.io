{
 "metadata": {
  "name": "",
  "signature": "sha256:9eace6d5667b6ce5a75e104e01532caba5a7be10b3cc8811144425456416ae58"
 },
 "nbformat": 3,
 "nbformat_minor": 0,
 "worksheets": [
  {
   "cells": [
    {
     "cell_type": "markdown",
     "metadata": {},
     "source": [
      "## 3.11 \uc784\uc758\uc758 \uc694\uc18c \ubf51\uae30\n",
      "\n",
      "### \ubb38\uc81c\n",
      "\n",
      "- \uc2dc\ud000\uc2a4\uc5d0\uc11c \uc784\uc758\uc758 \uc544\uc774\ud15c\uc744 \uace0\ub974\uac70\ub098 \ub09c\uc218\ub97c \uc0dd\uc131\ud558\uace0 \uc2f6\ub2e4.\n",
      "\n",
      "### \ud574\uacb0\n",
      "\n",
      "- random \ubaa8\ub4c8\uc5d0\ub294 \uc774 \uc6a9\ub3c4\uc5d0 \uc0ac\uc6a9\ud560 \uc218 \uc788\ub294 \ub9ce\uc740 \ud568\uc218\uac00 \uc874\uc7ac\n",
      "- \uc608\ub97c \ub4e4\uc5b4 \uc2dc\ud000\uc2a4\uc5d0\uc11c \uc784\uc758\uc758 \uc544\uc774\ud15c\uc744 \uc120\ud0dd\ud558\ub824\uba74 random.choice()\ub97c \uc0ac\uc6a9"
     ]
    },
    {
     "cell_type": "code",
     "collapsed": false,
     "input": [
      "import random"
     ],
     "language": "python",
     "metadata": {},
     "outputs": [],
     "prompt_number": 1
    },
    {
     "cell_type": "code",
     "collapsed": false,
     "input": [
      "values = [1, 2, 3, 4, 5, 6]"
     ],
     "language": "python",
     "metadata": {},
     "outputs": [],
     "prompt_number": 2
    },
    {
     "cell_type": "code",
     "collapsed": false,
     "input": [
      "random.choice(values)"
     ],
     "language": "python",
     "metadata": {},
     "outputs": [
      {
       "metadata": {},
       "output_type": "pyout",
       "prompt_number": 3,
       "text": [
        "1"
       ]
      }
     ],
     "prompt_number": 3
    },
    {
     "cell_type": "code",
     "collapsed": false,
     "input": [
      "random.choice(values)"
     ],
     "language": "python",
     "metadata": {},
     "outputs": [
      {
       "metadata": {},
       "output_type": "pyout",
       "prompt_number": 4,
       "text": [
        "2"
       ]
      }
     ],
     "prompt_number": 4
    },
    {
     "cell_type": "code",
     "collapsed": false,
     "input": [
      "random.choice(values)"
     ],
     "language": "python",
     "metadata": {},
     "outputs": [
      {
       "metadata": {},
       "output_type": "pyout",
       "prompt_number": 5,
       "text": [
        "4"
       ]
      }
     ],
     "prompt_number": 5
    },
    {
     "cell_type": "code",
     "collapsed": false,
     "input": [
      "random.choice(values)"
     ],
     "language": "python",
     "metadata": {},
     "outputs": [
      {
       "metadata": {},
       "output_type": "pyout",
       "prompt_number": 6,
       "text": [
        "2"
       ]
      }
     ],
     "prompt_number": 6
    },
    {
     "cell_type": "code",
     "collapsed": false,
     "input": [
      "random.choice(values)"
     ],
     "language": "python",
     "metadata": {},
     "outputs": [
      {
       "metadata": {},
       "output_type": "pyout",
       "prompt_number": 7,
       "text": [
        "2"
       ]
      }
     ],
     "prompt_number": 7
    },
    {
     "cell_type": "markdown",
     "metadata": {},
     "source": [
      "- \uc784\uc758\uc758 \uc544\uc774\ud15c\uc744 N\uac1c \ubf51\uc544\uc11c \uc0ac\uc6a9\ud558\uace0 \ubc84\ub9b4 \ubaa9\uc801\uc774\ub77c\uba74 random.sample()\uc744 \uc0ac\uc6a9"
     ]
    },
    {
     "cell_type": "code",
     "collapsed": false,
     "input": [
      "random.sample(values, 2)"
     ],
     "language": "python",
     "metadata": {},
     "outputs": [
      {
       "metadata": {},
       "output_type": "pyout",
       "prompt_number": 8,
       "text": [
        "[2, 4]"
       ]
      }
     ],
     "prompt_number": 8
    },
    {
     "cell_type": "code",
     "collapsed": false,
     "input": [
      "random.sample(values, 2)"
     ],
     "language": "python",
     "metadata": {},
     "outputs": [
      {
       "metadata": {},
       "output_type": "pyout",
       "prompt_number": 9,
       "text": [
        "[5, 2]"
       ]
      }
     ],
     "prompt_number": 9
    },
    {
     "cell_type": "code",
     "collapsed": false,
     "input": [
      "random.sample(values, 3)"
     ],
     "language": "python",
     "metadata": {},
     "outputs": [
      {
       "metadata": {},
       "output_type": "pyout",
       "prompt_number": 11,
       "text": [
        "[1, 4, 2]"
       ]
      }
     ],
     "prompt_number": 11
    },
    {
     "cell_type": "code",
     "collapsed": false,
     "input": [
      "random.sample(values, 3)"
     ],
     "language": "python",
     "metadata": {},
     "outputs": [
      {
       "metadata": {},
       "output_type": "pyout",
       "prompt_number": 12,
       "text": [
        "[3, 6, 4]"
       ]
      }
     ],
     "prompt_number": 12
    },
    {
     "cell_type": "markdown",
     "metadata": {},
     "source": [
      "- \ub2e8\uc21c\ud788 \uc2dc\ud000\uc2a4\uc758 \uc544\uc774\ud15c\uc744 \ubb34\uc791\uc704\ub85c \uc11e\uc73c\ub824\uba74 random.shuffle()\uc744 \uc0ac\uc6a9"
     ]
    },
    {
     "cell_type": "code",
     "collapsed": false,
     "input": [
      "random.shuffle(values)"
     ],
     "language": "python",
     "metadata": {},
     "outputs": [],
     "prompt_number": 16
    },
    {
     "cell_type": "code",
     "collapsed": false,
     "input": [
      "values"
     ],
     "language": "python",
     "metadata": {},
     "outputs": [
      {
       "metadata": {},
       "output_type": "pyout",
       "prompt_number": 17,
       "text": [
        "[2, 1, 4, 6, 3, 5]"
       ]
      }
     ],
     "prompt_number": 17
    },
    {
     "cell_type": "code",
     "collapsed": false,
     "input": [
      "random.shuffle(values)"
     ],
     "language": "python",
     "metadata": {},
     "outputs": [],
     "prompt_number": 18
    },
    {
     "cell_type": "code",
     "collapsed": false,
     "input": [
      "values"
     ],
     "language": "python",
     "metadata": {},
     "outputs": [
      {
       "metadata": {},
       "output_type": "pyout",
       "prompt_number": 19,
       "text": [
        "[2, 1, 5, 3, 6, 4]"
       ]
      }
     ],
     "prompt_number": 19
    },
    {
     "cell_type": "markdown",
     "metadata": {},
     "source": [
      "- \uc784\uc758\uc758 \uc815\uc218\ub97c \uc0dd\uc131\ud558\ub824\uba74 random.randint()\ub97c \uc0ac\uc6a9"
     ]
    },
    {
     "cell_type": "code",
     "collapsed": false,
     "input": [
      "random.randint(0, 10)"
     ],
     "language": "python",
     "metadata": {},
     "outputs": [
      {
       "metadata": {},
       "output_type": "pyout",
       "prompt_number": 20,
       "text": [
        "6"
       ]
      }
     ],
     "prompt_number": 20
    },
    {
     "cell_type": "code",
     "collapsed": false,
     "input": [
      "random.randint(0, 10)"
     ],
     "language": "python",
     "metadata": {},
     "outputs": [
      {
       "metadata": {},
       "output_type": "pyout",
       "prompt_number": 21,
       "text": [
        "9"
       ]
      }
     ],
     "prompt_number": 21
    },
    {
     "cell_type": "code",
     "collapsed": false,
     "input": [
      "random.randint(0, 10)"
     ],
     "language": "python",
     "metadata": {},
     "outputs": [
      {
       "metadata": {},
       "output_type": "pyout",
       "prompt_number": 22,
       "text": [
        "3"
       ]
      }
     ],
     "prompt_number": 22
    },
    {
     "cell_type": "code",
     "collapsed": false,
     "input": [
      "random.randint(0, 10)"
     ],
     "language": "python",
     "metadata": {},
     "outputs": [
      {
       "metadata": {},
       "output_type": "pyout",
       "prompt_number": 23,
       "text": [
        "6"
       ]
      }
     ],
     "prompt_number": 23
    },
    {
     "cell_type": "code",
     "collapsed": false,
     "input": [
      "random.randint(0, 10)"
     ],
     "language": "python",
     "metadata": {},
     "outputs": [
      {
       "metadata": {},
       "output_type": "pyout",
       "prompt_number": 24,
       "text": [
        "6"
       ]
      }
     ],
     "prompt_number": 24
    },
    {
     "cell_type": "markdown",
     "metadata": {},
     "source": [
      "- 0\uacfc 1\uc0ac\uc774\uc758 \uade0\ub4f1 \ubd80\ub3d9 \uc18c\uc218\uc810 \uac12\uc744 \uc0dd\uc131\ud558\ub824\uba74 random.random()\uc744 \uc0ac\uc6a9"
     ]
    },
    {
     "cell_type": "code",
     "collapsed": false,
     "input": [
      "random.random()"
     ],
     "language": "python",
     "metadata": {},
     "outputs": [
      {
       "metadata": {},
       "output_type": "pyout",
       "prompt_number": 25,
       "text": [
        "0.28420609510473227"
       ]
      }
     ],
     "prompt_number": 25
    },
    {
     "cell_type": "code",
     "collapsed": false,
     "input": [
      "random.random()"
     ],
     "language": "python",
     "metadata": {},
     "outputs": [
      {
       "metadata": {},
       "output_type": "pyout",
       "prompt_number": 26,
       "text": [
        "0.8506378288833534"
       ]
      }
     ],
     "prompt_number": 26
    },
    {
     "cell_type": "code",
     "collapsed": false,
     "input": [
      "random.random()"
     ],
     "language": "python",
     "metadata": {},
     "outputs": [
      {
       "metadata": {},
       "output_type": "pyout",
       "prompt_number": 27,
       "text": [
        "0.32323869683272966"
       ]
      }
     ],
     "prompt_number": 27
    },
    {
     "cell_type": "markdown",
     "metadata": {},
     "source": [
      "- N\ube44\ud2b8\ub85c \ud45c\ud604\ub41c \uc815\uc218\ub97c \ub9cc\ub4dc\ub9ad \uc704\ud574\uc11c\ub294 random.getrandbits()\ub97c \uc0ac\uc6a9"
     ]
    },
    {
     "cell_type": "code",
     "collapsed": false,
     "input": [
      "random.getrandbits(200)"
     ],
     "language": "python",
     "metadata": {},
     "outputs": [
      {
       "metadata": {},
       "output_type": "pyout",
       "prompt_number": 36,
       "text": [
        "1431162863491578620967250507415810462771226079478831792915421"
       ]
      }
     ],
     "prompt_number": 36
    },
    {
     "cell_type": "code",
     "collapsed": false,
     "input": [
      "bit = 5\n",
      "for i in range(10):\n",
      "    print(random.getrandbits(bit))"
     ],
     "language": "python",
     "metadata": {},
     "outputs": [
      {
       "output_type": "stream",
       "stream": "stdout",
       "text": [
        "31\n",
        "6\n",
        "6\n",
        "22\n",
        "26\n",
        "2\n",
        "14\n",
        "14\n",
        "3\n",
        "27\n"
       ]
      }
     ],
     "prompt_number": 39
    },
    {
     "cell_type": "code",
     "collapsed": false,
     "input": [
      "2 ** 5"
     ],
     "language": "python",
     "metadata": {},
     "outputs": [
      {
       "metadata": {},
       "output_type": "pyout",
       "prompt_number": 34,
       "text": [
        "32"
       ]
      }
     ],
     "prompt_number": 34
    },
    {
     "cell_type": "code",
     "collapsed": false,
     "input": [
      "bit = 4\n",
      "for i in range(10):\n",
      "    print(random.getrandbits(bit))"
     ],
     "language": "python",
     "metadata": {},
     "outputs": [
      {
       "output_type": "stream",
       "stream": "stdout",
       "text": [
        "12\n",
        "1\n",
        "9\n",
        "15\n",
        "3\n",
        "5\n",
        "10\n",
        "8\n",
        "6\n",
        "1\n"
       ]
      }
     ],
     "prompt_number": 43
    },
    {
     "cell_type": "code",
     "collapsed": false,
     "input": [
      "2 ** 4"
     ],
     "language": "python",
     "metadata": {},
     "outputs": [
      {
       "metadata": {},
       "output_type": "pyout",
       "prompt_number": 45,
       "text": [
        "16"
       ]
      }
     ],
     "prompt_number": 45
    },
    {
     "cell_type": "markdown",
     "metadata": {},
     "source": [
      "### \ud1a0\ub860\n",
      "\n",
      "- random \ubaa8\ub4c8\uc740 Mersenne Twister \uc54c\uace0\ub9ac\uc998\uc744 \uc0ac\uc6a9\ud574 \ub09c\uc218\ub97c \ubc1c\uc0dd\uc2dc\ud0b4\n",
      "- \uc774 \uc54c\uace0\ub9ac\uc998\uc740 \uc815\ud574\uc9c4 \uac83\uc774\uc9c0\ub9cc, random.seed() \ud568\uc218\ub85c \uc2dc\ub4dc\uac12 \ubcc0\uacbd \uac00\ub2a5"
     ]
    },
    {
     "cell_type": "code",
     "collapsed": false,
     "input": [
      "# \uc2dc\uc2a4\ud15c \uc2dc\uac04\uc774\ub098 os.urandom() \uc2dc\ub4dc\n",
      "random.seed()"
     ],
     "language": "python",
     "metadata": {},
     "outputs": [],
     "prompt_number": 46
    },
    {
     "cell_type": "code",
     "collapsed": false,
     "input": [
      "# \uc8fc\uc5b4\uc9c4 \uc815\uc218\ud615 \uc2dc\ub4dc\n",
      "random.seed(12345)"
     ],
     "language": "python",
     "metadata": {},
     "outputs": [],
     "prompt_number": 47
    },
    {
     "cell_type": "code",
     "collapsed": false,
     "input": [
      "# \ubc14\uc774\ud2b8 \ub370\uc774\ud130 \uc2dc\ub4dc\n",
      "random.seed(b'bytedata')"
     ],
     "language": "python",
     "metadata": {},
     "outputs": [],
     "prompt_number": 48
    },
    {
     "cell_type": "markdown",
     "metadata": {},
     "source": [
      "- random()\uc5d0\ub294 \uc720\ub2c8\ud3fc, \uac00\uc6b0\uc2dc\uac04, \ud655\ub960 \ubd84\ud3ec \uad00\ub828 \ud568\uc218\ub3c4 \ud3ec\ud568\ub418\uc5b4 \uc788\ub2e4.\n",
      "- \uc608\ub97c \ub4e4\uc5b4 random.uniform()\uc740 \uade0\ub4f1 \ubd84\ud3ec \uc22b\uc790\ub97c \uacc4\uc0b0\n",
      "- random.gauss()\ub294 \uc815\uaddc \ubd84\ud3ec \uc22b\uc790\ub97c \uacc4\uc0b0\n",
      "- random()\uc758 \ud568\uc218\ub294 \uc554\ud638\ud654 \uad00\ub828 \ud504\ub85c\uadf8\ub7a8\uc5d0\uc11c \uc0ac\uc6a9\ud558\uc9c0 \ub9d0\uc544\uc57c \ud568\n",
      "- \uadf8\ub7f0 \uae30\ub2a5\uc774 \ud544\uc694\ud558\ub2e4\uba74 ssl \ubaa8\ub4c8\uc744 \uc0ac\uc6a9\n",
      "- ssl.RAND_bytes()\ub294 \ubcf4\uc548\uc0c1 \uc548\uc804\ud55c \uc784\uc758\uc758 \ubc14\uc774\ud2b8 \uc2dc\ud000\uc2a4\ub97c \uc0dd\uc131"
     ]
    },
    {
     "cell_type": "markdown",
     "metadata": {},
     "source": [
      "## 3.12 \uc2dc\uac04 \ub2e8\uc704 \ubcc0\ud658\n",
      "\n",
      "### \ubb38\uc81c\n",
      "\n",
      "- \ub0a0\uc9dc\ub97c \ucd08\ub85c, \uc2dc\uac04\uc744 \ubd84\uc73c\ub85c\ucc98\ub7fc \uc2dc\uac04 \ub2e8\uc704 \ubcc0\ud658\uc744 \ud574\uc57c \ud568\n",
      "\n",
      "### \ud574\uacb0\n",
      "\n",
      "- \ub2e8\uc704 \ubcc0\ud658\uc774\ub098 \ub2e8\uc704\uac00 \ub2e4\ub978 \uac12\uc5d0 \ub300\ud55c \uacc4\uc0b0\uc744 \ud558\ub824\uba74 datetime \ubaa8\ub4c8 \uc0ac\uc6a9\n",
      "- \uc608\ub97c \ub4e4\uc5b4 \uc2dc\uac04\uc758 \uac04\uaca9\uc744 \ub098\ud0c0\ub0b4\uae30 \uc704\ud574\uc11c\ub294 timedelta \uc778\uc2a4\ud134\uc2a4\ub97c \uc0dd\uc131"
     ]
    },
    {
     "cell_type": "code",
     "collapsed": false,
     "input": [
      "from datetime import timedelta"
     ],
     "language": "python",
     "metadata": {},
     "outputs": [],
     "prompt_number": 49
    },
    {
     "cell_type": "code",
     "collapsed": false,
     "input": [
      "a = timedelta(days=2, hours=6)"
     ],
     "language": "python",
     "metadata": {},
     "outputs": [],
     "prompt_number": 50
    },
    {
     "cell_type": "code",
     "collapsed": false,
     "input": [
      "b = timedelta(hours=4.5)"
     ],
     "language": "python",
     "metadata": {},
     "outputs": [],
     "prompt_number": 51
    },
    {
     "cell_type": "code",
     "collapsed": false,
     "input": [
      "c = a + b"
     ],
     "language": "python",
     "metadata": {},
     "outputs": [],
     "prompt_number": 52
    },
    {
     "cell_type": "code",
     "collapsed": false,
     "input": [
      "c.days"
     ],
     "language": "python",
     "metadata": {},
     "outputs": [
      {
       "metadata": {},
       "output_type": "pyout",
       "prompt_number": 53,
       "text": [
        "2"
       ]
      }
     ],
     "prompt_number": 53
    },
    {
     "cell_type": "code",
     "collapsed": false,
     "input": [
      "c.seconds"
     ],
     "language": "python",
     "metadata": {},
     "outputs": [
      {
       "metadata": {},
       "output_type": "pyout",
       "prompt_number": 54,
       "text": [
        "37800"
       ]
      }
     ],
     "prompt_number": 54
    },
    {
     "cell_type": "code",
     "collapsed": false,
     "input": [
      "c.seconds / 3600"
     ],
     "language": "python",
     "metadata": {},
     "outputs": [
      {
       "metadata": {},
       "output_type": "pyout",
       "prompt_number": 55,
       "text": [
        "10.5"
       ]
      }
     ],
     "prompt_number": 55
    },
    {
     "cell_type": "code",
     "collapsed": false,
     "input": [
      "c.total_seconds() / 3600"
     ],
     "language": "python",
     "metadata": {},
     "outputs": [
      {
       "metadata": {},
       "output_type": "pyout",
       "prompt_number": 56,
       "text": [
        "58.5"
       ]
      }
     ],
     "prompt_number": 56
    },
    {
     "cell_type": "markdown",
     "metadata": {},
     "source": [
      "- \ud2b9\uc815 \ub0a0\uc9dc\uc640 \uc2dc\uac04\uc744 \ud45c\ud604\ud558\ub824\uba74 datetime \uc778\uc2a4\ud134\uc2a4\ub97c \ub9cc\ub4e4\uace0 \ud45c\uc900 \uc218\ud559 \uc5f0\uc0b0"
     ]
    },
    {
     "cell_type": "code",
     "collapsed": false,
     "input": [
      "from datetime import datetime"
     ],
     "language": "python",
     "metadata": {},
     "outputs": [],
     "prompt_number": 57
    },
    {
     "cell_type": "code",
     "collapsed": false,
     "input": [
      "a = datetime(2012, 9, 23)"
     ],
     "language": "python",
     "metadata": {},
     "outputs": [],
     "prompt_number": 58
    },
    {
     "cell_type": "code",
     "collapsed": false,
     "input": [
      "print(a + timedelta(days=10))"
     ],
     "language": "python",
     "metadata": {},
     "outputs": [
      {
       "output_type": "stream",
       "stream": "stdout",
       "text": [
        "2012-10-03 00:00:00\n"
       ]
      }
     ],
     "prompt_number": 59
    },
    {
     "cell_type": "code",
     "collapsed": false,
     "input": [
      "b = datetime(2012, 12, 21)"
     ],
     "language": "python",
     "metadata": {},
     "outputs": [],
     "prompt_number": 60
    },
    {
     "cell_type": "code",
     "collapsed": false,
     "input": [
      "d = b - a"
     ],
     "language": "python",
     "metadata": {},
     "outputs": [],
     "prompt_number": 61
    },
    {
     "cell_type": "code",
     "collapsed": false,
     "input": [
      "d"
     ],
     "language": "python",
     "metadata": {},
     "outputs": [
      {
       "metadata": {},
       "output_type": "pyout",
       "prompt_number": 62,
       "text": [
        "datetime.timedelta(89)"
       ]
      }
     ],
     "prompt_number": 62
    },
    {
     "cell_type": "code",
     "collapsed": false,
     "input": [
      "d.days"
     ],
     "language": "python",
     "metadata": {},
     "outputs": [
      {
       "metadata": {},
       "output_type": "pyout",
       "prompt_number": 63,
       "text": [
        "89"
       ]
      }
     ],
     "prompt_number": 63
    },
    {
     "cell_type": "code",
     "collapsed": false,
     "input": [
      "now = datetime.today()\n",
      "now"
     ],
     "language": "python",
     "metadata": {},
     "outputs": [
      {
       "metadata": {},
       "output_type": "pyout",
       "prompt_number": 64,
       "text": [
        "datetime.datetime(2014, 10, 4, 6, 24, 43, 910304)"
       ]
      }
     ],
     "prompt_number": 64
    },
    {
     "cell_type": "code",
     "collapsed": false,
     "input": [
      "now + timedelta(minutes=10)"
     ],
     "language": "python",
     "metadata": {},
     "outputs": [
      {
       "metadata": {},
       "output_type": "pyout",
       "prompt_number": 65,
       "text": [
        "datetime.datetime(2014, 10, 4, 6, 34, 43, 910304)"
       ]
      }
     ],
     "prompt_number": 65
    },
    {
     "cell_type": "markdown",
     "metadata": {},
     "source": [
      "- \uacc4\uc0b0\uc744 \ud560\ub54c\ub294, datetime\uc774 \uc724\ub144\uc744 \uc778\uc2dd\ud55c\ub2e4\ub294 \uc810\uc5d0 \uc8fc\ubaa9"
     ]
    },
    {
     "cell_type": "code",
     "collapsed": false,
     "input": [
      "a = datetime(2012, 3, 1)"
     ],
     "language": "python",
     "metadata": {},
     "outputs": [],
     "prompt_number": 78
    },
    {
     "cell_type": "code",
     "collapsed": false,
     "input": [
      "b = datetime(2012, 2, 28)"
     ],
     "language": "python",
     "metadata": {},
     "outputs": [],
     "prompt_number": 67
    },
    {
     "cell_type": "code",
     "collapsed": false,
     "input": [
      "a - b"
     ],
     "language": "python",
     "metadata": {},
     "outputs": [
      {
       "metadata": {},
       "output_type": "pyout",
       "prompt_number": 68,
       "text": [
        "datetime.timedelta(2)"
       ]
      }
     ],
     "prompt_number": 68
    },
    {
     "cell_type": "code",
     "collapsed": false,
     "input": [
      "(a - b).days"
     ],
     "language": "python",
     "metadata": {},
     "outputs": [
      {
       "metadata": {},
       "output_type": "pyout",
       "prompt_number": 69,
       "text": [
        "2"
       ]
      }
     ],
     "prompt_number": 69
    },
    {
     "cell_type": "code",
     "collapsed": false,
     "input": [
      "c = datetime(2013, 3, 1)"
     ],
     "language": "python",
     "metadata": {},
     "outputs": [],
     "prompt_number": 70
    },
    {
     "cell_type": "code",
     "collapsed": false,
     "input": [
      "d = datetime(2013, 2, 28)"
     ],
     "language": "python",
     "metadata": {},
     "outputs": [],
     "prompt_number": 71
    },
    {
     "cell_type": "code",
     "collapsed": false,
     "input": [
      "(c - d).days"
     ],
     "language": "python",
     "metadata": {},
     "outputs": [
      {
       "metadata": {},
       "output_type": "pyout",
       "prompt_number": 72,
       "text": [
        "1"
       ]
      }
     ],
     "prompt_number": 72
    },
    {
     "cell_type": "markdown",
     "metadata": {},
     "source": [
      "### \ud1a0\ub860\n",
      "\n",
      "- \ub300\ubd80\ubd84\uc758 \ub0a0\uc9dc, \uc2dc\uac04 \uacc4\uc0b0 \ubb38\uc81c\ub294 datetime \ubaa8\ub4c8\ub85c \ud574\uacb0\n",
      "- time zone \uc774\ub098 fuzzy time range, \uacf5\ud734\uc77c \uacc4\uc0b0 \ub4f1\uc758 \ub354\uc6b1 \ubcf5\uc7a1\ud55c \ub0a0\uc9dc \uacc4\uc0b0\uc774 \ud544\uc694\ud558\ub2e4\uba74 deteutil \ubaa8\ub4c8 \ud655\uc778\n",
      "\n",
      "\n",
      "- \ub300\ubd80\ubd84\uc758 \ube44\uc2b7\ud55c \uc2dc\uac04 \uacc4\uc0b0\uc740 dateutil.relativedelta() \ud568\uc218\ub85c \uc218\ud589 \uac00\ub2a5\n",
      "- \ud558\uc9c0\ub9cc \ud55c \uac00\uc9c0 \uc8fc\ubaa9\ud560 \ub9cc\ud55c \uae30\ub2a5\uc73c\ub85c \ub2ec\uc744 \ucc98\ub9ac\ud558\uae30 \uc704\ud574 \ucc28\uc774(\uadf8\ub9ac\uace0 \uc11c\ub85c \ub2e4\ub978 \ub0a0\uc9dc \ucc28\uc774)\ub97c \ucc44\uc6cc\uc8fc\ub294 \uac83\uc774 \uc874\uc7ac\n",
      "- [python-dateutil - Labix](http://labix.org/python-dateutil)\n",
      "> pip install python-dateutil"
     ]
    },
    {
     "cell_type": "code",
     "collapsed": false,
     "input": [
      "a = datetime(2012, 9, 23)"
     ],
     "language": "python",
     "metadata": {},
     "outputs": [],
     "prompt_number": 81
    },
    {
     "cell_type": "code",
     "collapsed": false,
     "input": [
      "a + timedelta(months=1)"
     ],
     "language": "python",
     "metadata": {},
     "outputs": [
      {
       "ename": "TypeError",
       "evalue": "'months' is an invalid keyword argument for this function",
       "output_type": "pyerr",
       "traceback": [
        "\u001b[0;31m---------------------------------------------------------------------------\u001b[0m\n\u001b[0;31mTypeError\u001b[0m                                 Traceback (most recent call last)",
        "\u001b[0;32m<ipython-input-82-8ba71fa4f0e5>\u001b[0m in \u001b[0;36m<module>\u001b[0;34m()\u001b[0m\n\u001b[0;32m----> 1\u001b[0;31m \u001b[0ma\u001b[0m \u001b[0;34m+\u001b[0m \u001b[0mtimedelta\u001b[0m\u001b[0;34m(\u001b[0m\u001b[0mmonths\u001b[0m\u001b[0;34m=\u001b[0m\u001b[0;36m1\u001b[0m\u001b[0;34m)\u001b[0m\u001b[0;34m\u001b[0m\u001b[0m\n\u001b[0m",
        "\u001b[0;31mTypeError\u001b[0m: 'months' is an invalid keyword argument for this function"
       ]
      }
     ],
     "prompt_number": 82
    },
    {
     "cell_type": "code",
     "collapsed": false,
     "input": [
      "from dateutil.relativedelta import relativedelta"
     ],
     "language": "python",
     "metadata": {},
     "outputs": [],
     "prompt_number": 83
    },
    {
     "cell_type": "code",
     "collapsed": false,
     "input": [
      "a + relativedelta(months=+1)"
     ],
     "language": "python",
     "metadata": {},
     "outputs": [
      {
       "metadata": {},
       "output_type": "pyout",
       "prompt_number": 84,
       "text": [
        "datetime.datetime(2012, 10, 23, 0, 0)"
       ]
      }
     ],
     "prompt_number": 84
    },
    {
     "cell_type": "code",
     "collapsed": false,
     "input": [
      "a + timedelta(days=30)"
     ],
     "language": "python",
     "metadata": {},
     "outputs": [
      {
       "metadata": {},
       "output_type": "pyout",
       "prompt_number": 87,
       "text": [
        "datetime.datetime(2012, 10, 23, 0, 0)"
       ]
      }
     ],
     "prompt_number": 87
    },
    {
     "cell_type": "code",
     "collapsed": false,
     "input": [
      "a + relativedelta(months=+2)"
     ],
     "language": "python",
     "metadata": {},
     "outputs": [
      {
       "metadata": {},
       "output_type": "pyout",
       "prompt_number": 88,
       "text": [
        "datetime.datetime(2012, 11, 23, 0, 0)"
       ]
      }
     ],
     "prompt_number": 88
    },
    {
     "cell_type": "code",
     "collapsed": false,
     "input": [
      "# \ucc28\uc774\uac00 \ub098\ub124.. days\ub85c \uacc4\uc0b0\ud558\uba74 30\uc77c \uc815\ub7c9\uc774\uc9c0\ub9cc \uac01 \uc6d4\ub9c8\ub2e4 28, 29, 30, 31 \ub2e4\ub974\uc796\uc544.\n",
      "a + timedelta(days=60)"
     ],
     "language": "python",
     "metadata": {},
     "outputs": [
      {
       "metadata": {},
       "output_type": "pyout",
       "prompt_number": 89,
       "text": [
        "datetime.datetime(2012, 11, 22, 0, 0)"
       ]
      }
     ],
     "prompt_number": 89
    },
    {
     "cell_type": "code",
     "collapsed": false,
     "input": [
      "# \ub450 \ub0a0\uc9dc \uc0ac\uc774\uc758 \uc2dc\uac04\n",
      "b = datetime(2012, 12, 21)"
     ],
     "language": "python",
     "metadata": {},
     "outputs": [],
     "prompt_number": 90
    },
    {
     "cell_type": "code",
     "collapsed": false,
     "input": [
      "d = b - a"
     ],
     "language": "python",
     "metadata": {},
     "outputs": [],
     "prompt_number": 91
    },
    {
     "cell_type": "code",
     "collapsed": false,
     "input": [
      "d"
     ],
     "language": "python",
     "metadata": {},
     "outputs": [
      {
       "metadata": {},
       "output_type": "pyout",
       "prompt_number": 92,
       "text": [
        "datetime.timedelta(89)"
       ]
      }
     ],
     "prompt_number": 92
    },
    {
     "cell_type": "code",
     "collapsed": false,
     "input": [
      "d = relativedelta(b, a)"
     ],
     "language": "python",
     "metadata": {},
     "outputs": [],
     "prompt_number": 93
    },
    {
     "cell_type": "code",
     "collapsed": false,
     "input": [
      "d"
     ],
     "language": "python",
     "metadata": {},
     "outputs": [
      {
       "metadata": {},
       "output_type": "pyout",
       "prompt_number": 94,
       "text": [
        "relativedelta(months=+2, days=+28)"
       ]
      }
     ],
     "prompt_number": 94
    },
    {
     "cell_type": "code",
     "collapsed": false,
     "input": [
      "d.months"
     ],
     "language": "python",
     "metadata": {},
     "outputs": [
      {
       "metadata": {},
       "output_type": "pyout",
       "prompt_number": 95,
       "text": [
        "2"
       ]
      }
     ],
     "prompt_number": 95
    },
    {
     "cell_type": "code",
     "collapsed": false,
     "input": [
      "d.days"
     ],
     "language": "python",
     "metadata": {},
     "outputs": [
      {
       "metadata": {},
       "output_type": "pyout",
       "prompt_number": 97,
       "text": [
        "28"
       ]
      }
     ],
     "prompt_number": 97
    },
    {
     "cell_type": "markdown",
     "metadata": {},
     "source": [
      "## 3.13 \ub9c8\uc9c0\ub9c9 \uae08\uc694\uc77c \ub0a0\uc9dc \uad6c\ud558\uae30\n",
      "\n",
      "### \ubb38\uc81c\n",
      "\n",
      "- \ud55c \uc8fc\uc758 \ub9c8\uc9c0\ub9c9\uc5d0 \ub098\ud0c0\ub09c \ub0a0\uc758 \ub0a0\uc9dc\ub97c \uad6c\ud558\ub294 \uc77c\ubc18\uc801\uc778 \ud574\uacb0\ucc45\uc744 \ub9cc\ub4e4\uace0 \uc2f6\ub2e4. \uc608\ub97c \ub4e4\uc5b4 \ub9c8\uc9c0\ub9c9 \uae08\uc694\uc77c\uc774 \uba70\uce60\uc778\uc9c0 \uad81\uae08\ud558\ub2e4\n",
      "\n",
      "### \ud574\uacb0\n",
      "\n",
      "- \ud30c\uc774\uc36c\uc758 datetime \ubaa8\ub4c8\uc5d0 \uc774\ub7f0 \uacc4\uc0b0\uc744 \ub3c4\uc640\uc8fc\ub294 \ud074\ub798\uc2a4\uc640 \ud568\uc218\uac00 \uc788\ub2e4."
     ]
    },
    {
     "cell_type": "code",
     "collapsed": false,
     "input": [
      "from datetime import datetime, timedelta"
     ],
     "language": "python",
     "metadata": {},
     "outputs": [],
     "prompt_number": 98
    },
    {
     "cell_type": "code",
     "collapsed": false,
     "input": [
      "import calendar"
     ],
     "language": "python",
     "metadata": {},
     "outputs": [],
     "prompt_number": 118
    },
    {
     "cell_type": "code",
     "collapsed": false,
     "input": [
      "weekdays = [day_name for day_name in calendar.day_name if day_name]\n",
      "weekdays"
     ],
     "language": "python",
     "metadata": {},
     "outputs": [
      {
       "metadata": {},
       "output_type": "pyout",
       "prompt_number": 146,
       "text": [
        "['Monday', 'Tuesday', 'Wednesday', 'Thursday', 'Friday', 'Saturday', 'Sunday']"
       ]
      }
     ],
     "prompt_number": 146
    },
    {
     "cell_type": "code",
     "collapsed": false,
     "input": [
      "def get_previous_byday(dayname, start_date=None):\n",
      "    if start_date is None:\n",
      "        start_date = datetime.today()\n",
      "    day_num = start_date.weekday()\n",
      "    day_num_target = weekdays.index(dayname)\n",
      "    days_ago = (7 + day_num - day_num_target) % 7\n",
      "    if days_ago == 0:\n",
      "        days_ago = 7\n",
      "    target_date = start_date - timedelta(days=days_ago)\n",
      "    return target_date"
     ],
     "language": "python",
     "metadata": {},
     "outputs": [],
     "prompt_number": 162
    },
    {
     "cell_type": "code",
     "collapsed": false,
     "input": [
      "datetime.today()"
     ],
     "language": "python",
     "metadata": {},
     "outputs": [
      {
       "metadata": {},
       "output_type": "pyout",
       "prompt_number": 163,
       "text": [
        "datetime.datetime(2014, 10, 4, 7, 58, 42, 42058)"
       ]
      }
     ],
     "prompt_number": 163
    },
    {
     "cell_type": "code",
     "collapsed": false,
     "input": [
      "get_previous_byday('Monday')"
     ],
     "language": "python",
     "metadata": {},
     "outputs": [
      {
       "metadata": {},
       "output_type": "pyout",
       "prompt_number": 164,
       "text": [
        "datetime.datetime(2014, 9, 29, 7, 58, 42, 367883)"
       ]
      }
     ],
     "prompt_number": 164
    },
    {
     "cell_type": "code",
     "collapsed": false,
     "input": [
      "get_previous_byday('Friday')"
     ],
     "language": "python",
     "metadata": {},
     "outputs": [
      {
       "metadata": {},
       "output_type": "pyout",
       "prompt_number": 165,
       "text": [
        "datetime.datetime(2014, 10, 3, 7, 58, 57, 348526)"
       ]
      }
     ],
     "prompt_number": 165
    },
    {
     "cell_type": "code",
     "collapsed": false,
     "input": [
      "# \uc800\ubc88 \uc8fc. \uc624\ub298 \uc544\ub2d8\n",
      "get_previous_byday('Saturday')"
     ],
     "language": "python",
     "metadata": {},
     "outputs": [
      {
       "metadata": {},
       "output_type": "pyout",
       "prompt_number": 175,
       "text": [
        "datetime.datetime(2014, 9, 27, 8, 54, 8, 741318)"
       ]
      }
     ],
     "prompt_number": 175
    },
    {
     "cell_type": "code",
     "collapsed": false,
     "input": [
      "get_previous_byday('Sunda')"
     ],
     "language": "python",
     "metadata": {},
     "outputs": [
      {
       "ename": "ValueError",
       "evalue": "'Sunda' is not in list",
       "output_type": "pyerr",
       "traceback": [
        "\u001b[0;31m---------------------------------------------------------------------------\u001b[0m\n\u001b[0;31mValueError\u001b[0m                                Traceback (most recent call last)",
        "\u001b[0;32m<ipython-input-169-b846c4ca4647>\u001b[0m in \u001b[0;36m<module>\u001b[0;34m()\u001b[0m\n\u001b[0;32m----> 1\u001b[0;31m \u001b[0mget_previous_byday\u001b[0m\u001b[0;34m(\u001b[0m\u001b[0;34m'Sunda'\u001b[0m\u001b[0;34m)\u001b[0m\u001b[0;34m\u001b[0m\u001b[0m\n\u001b[0m",
        "\u001b[0;32m<ipython-input-162-692f1907ccde>\u001b[0m in \u001b[0;36mget_previous_byday\u001b[0;34m(dayname, start_date)\u001b[0m\n\u001b[1;32m      3\u001b[0m         \u001b[0mstart_date\u001b[0m \u001b[0;34m=\u001b[0m \u001b[0mdatetime\u001b[0m\u001b[0;34m.\u001b[0m\u001b[0mtoday\u001b[0m\u001b[0;34m(\u001b[0m\u001b[0;34m)\u001b[0m\u001b[0;34m\u001b[0m\u001b[0m\n\u001b[1;32m      4\u001b[0m     \u001b[0mday_num\u001b[0m \u001b[0;34m=\u001b[0m \u001b[0mstart_date\u001b[0m\u001b[0;34m.\u001b[0m\u001b[0mweekday\u001b[0m\u001b[0;34m(\u001b[0m\u001b[0;34m)\u001b[0m\u001b[0;34m\u001b[0m\u001b[0m\n\u001b[0;32m----> 5\u001b[0;31m     \u001b[0mday_num_target\u001b[0m \u001b[0;34m=\u001b[0m \u001b[0mweekdays\u001b[0m\u001b[0;34m.\u001b[0m\u001b[0mindex\u001b[0m\u001b[0;34m(\u001b[0m\u001b[0mdayname\u001b[0m\u001b[0;34m)\u001b[0m\u001b[0;34m\u001b[0m\u001b[0m\n\u001b[0m\u001b[1;32m      6\u001b[0m     \u001b[0mdays_ago\u001b[0m \u001b[0;34m=\u001b[0m \u001b[0;34m(\u001b[0m\u001b[0;36m7\u001b[0m \u001b[0;34m+\u001b[0m \u001b[0mday_num\u001b[0m \u001b[0;34m-\u001b[0m \u001b[0mday_num_target\u001b[0m\u001b[0;34m)\u001b[0m \u001b[0;34m%\u001b[0m \u001b[0;36m7\u001b[0m\u001b[0;34m\u001b[0m\u001b[0m\n\u001b[1;32m      7\u001b[0m     \u001b[0;32mif\u001b[0m \u001b[0mdays_ago\u001b[0m \u001b[0;34m==\u001b[0m \u001b[0;36m0\u001b[0m\u001b[0;34m:\u001b[0m\u001b[0;34m\u001b[0m\u001b[0m\n",
        "\u001b[0;31mValueError\u001b[0m: 'Sunda' is not in list"
       ]
      }
     ],
     "prompt_number": 169
    },
    {
     "cell_type": "markdown",
     "metadata": {},
     "source": [
      "- \uc120\ud0dd\uc801\uc73c\ub85c \uc124\uc815 \uac00\ub2a5\ud55c start_date\uc5d0\ub294 \ub610 \ub2e4\ub978 datetime \uc778\uc2a4\ud134\uc2a4 \uc81c\uacf5"
     ]
    },
    {
     "cell_type": "code",
     "collapsed": false,
     "input": [
      "get_previous_byday('Sunday', datetime(2014, 10, 9))"
     ],
     "language": "python",
     "metadata": {},
     "outputs": [
      {
       "metadata": {},
       "output_type": "pyout",
       "prompt_number": 172,
       "text": [
        "datetime.datetime(2014, 10, 5, 0, 0)"
       ]
      }
     ],
     "prompt_number": 172
    },
    {
     "cell_type": "markdown",
     "metadata": {},
     "source": [
      "### \ud1a0\ub860\n",
      "\n",
      "- \uc774\ubc88 \ub808\uc2dc\ud53c\ub294 \uc2dc\uc791 \ub0a0\uc9dc\uc640 \ubaa9\ud45c \ub0a0\uc9dc\ub97c \uad00\ub828\uc788\ub294 \uc22b\uc790 \uc704\uce58\uc5d0 \ub9e4\ud551\ud558\ub294 \ub370\uc5d0\uc11c \uc2dc\uc791\ud55c\ub2e4.(\uc6d4\uc694\uc77c\ubd80\ud130 0)\n",
      "- \ubaa8\ub4c8\ub7ec \uc5f0\uc0b0\uc744 \uc0ac\uc6a9\ud574 \ubaa9\ud45c \uc77c\uc790\uac00 \ub098\ud0c0\ub098\uace0 \uba70\uce60\uc774 \uc9c0\ub0ac\ub294\uc9c0 \uc54c\uc544\ub0b8\ub2e4.\n",
      "- \uc774\uc81c \uc2dc\uc791 \uc77c\uc790\uc5d0\uc11c \uc801\uc808\ud55c timedelta \uc778\uc2a4\ud134\uc2a4\ub97c \ube7c\uc11c \uc6d0\ud558\ub294 \ub0a0\uc9dc\ub97c \uacc4\uc2fc\n",
      "- \uc774\uc640 \uac19\uc740 \ub0a0\uc9dc \uacc4\uc0b0\uc744 \ub9ce\uc774 \uc218\ud589\ud55c\ub2e4\uba74 python-dateutil \ud328\ud0a4\uc9c0\ub97c \uc124\uce58\ud558\ub294 \uac83\uc774 \uc88b\uc74c"
     ]
    },
    {
     "cell_type": "code",
     "collapsed": false,
     "input": [
      "from datetime import datetime"
     ],
     "language": "python",
     "metadata": {},
     "outputs": [],
     "prompt_number": 176
    },
    {
     "cell_type": "code",
     "collapsed": false,
     "input": [
      "from dateutil.relativedelta import relativedelta"
     ],
     "language": "python",
     "metadata": {},
     "outputs": [],
     "prompt_number": 177
    },
    {
     "cell_type": "code",
     "collapsed": false,
     "input": [
      "from dateutil.rrule import *"
     ],
     "language": "python",
     "metadata": {},
     "outputs": [],
     "prompt_number": 178
    },
    {
     "cell_type": "code",
     "collapsed": false,
     "input": [
      "d = datetime.now()\n",
      "print(d)"
     ],
     "language": "python",
     "metadata": {},
     "outputs": [
      {
       "output_type": "stream",
       "stream": "stdout",
       "text": [
        "2014-10-04 08:55:54.139647\n"
       ]
      }
     ],
     "prompt_number": 180
    },
    {
     "cell_type": "code",
     "collapsed": false,
     "input": [
      "# \ub2e4\uc74c \uae08\uc694\uc77c\n",
      "print(d + relativedelta(weekday=FR))"
     ],
     "language": "python",
     "metadata": {},
     "outputs": [
      {
       "output_type": "stream",
       "stream": "stdout",
       "text": [
        "2014-10-10 08:55:54.139647\n"
       ]
      }
     ],
     "prompt_number": 184
    },
    {
     "cell_type": "code",
     "collapsed": false,
     "input": [
      "# \ub9c8\uc9c0\ub9c9 \uae08\uc694\uc77c\n",
      "print(d + relativedelta(weekday=FR(-1)))"
     ],
     "language": "python",
     "metadata": {},
     "outputs": [
      {
       "output_type": "stream",
       "stream": "stdout",
       "text": [
        "2014-10-03 08:55:54.139647\n"
       ]
      }
     ],
     "prompt_number": 187
    },
    {
     "cell_type": "markdown",
     "metadata": {},
     "source": [
      "## 3.14 \ud604\uc7ac \ub2ec\uc758 \ub0a0\uc9dc \ubc94\uc704 \ucc3e\uae30\n",
      "\n",
      "### \ubb38\uc81c\n",
      "\n",
      "- \ud604\ub300 \ub2ec\uc758 \ub0a0\uc9dc\ub97c \uc21c\ud658\ud574\uc57c \ud558\ub294 \ucf54\ub4dc\uac00 \uc788\uace0, \uadf8 \ub0a0\uc9dc \ubc94\uc704\ub97c \uacc4\uc0b0\ud558\ub294 \ud6a8\uc728\uc801\uc778 \ubc29\ubc95\uc774 \ud544\uc694\ud568\n",
      "\n",
      "### \ud574\uacb0\n",
      "\n",
      "- \ub0a0\uc9dc\ub97c \uc21c\ud658\ud558\uae30 \uc704\ud574 \ubaa8\ub4e0 \ub0a0\uc9dc\ub97c \ub9ac\uc2a4\ud2b8\ub85c \ub9cc\ub4e4 \ud544\uc694\uac00 \uc5c6\uc74c\n",
      "- \ub300\uc2e0 \ubc94\uc704\uc758 \uc2dc\uc791 \uc77c\uc790\uc640 \ub9c8\uc9c0\ub9c9 \ub0a0\uc9dc\ub9cc \uacc4\uc0b0\ud558\uace0 datetime.timedelta \uac1d\uccb4\ub97c \uc0ac\uc6a9\ud574\uc11c \ub0a0\uc9dc\ub97c \uc99d\uac00\uc2dc\ud0a4\uba74 \ub428\n",
      "- datetime \uac1d\uccb4\ub97c \ubc1b\uc544\uc11c \uadf8 \ub2ec\uc758 \uccab \ubc88\uc9f8 \ub0a0\uc9dc\uc640 \ub2e4\uc74c \ub2ec\uc758 \uc2dc\uc791 \ub0a0\uc9dc\ub97c \ubc18\ud658\ud558\ub294 \ud568\uc218 \ucf54\ub4dc\ub294 \ub2e4\uc74c\uacfc \uac19\ub2e4."
     ]
    },
    {
     "cell_type": "code",
     "collapsed": false,
     "input": [
      "from datetime import datetime, date, timedelta"
     ],
     "language": "python",
     "metadata": {},
     "outputs": [],
     "prompt_number": 188
    },
    {
     "cell_type": "code",
     "collapsed": false,
     "input": [
      "import calendar"
     ],
     "language": "python",
     "metadata": {},
     "outputs": [],
     "prompt_number": 189
    },
    {
     "cell_type": "code",
     "collapsed": false,
     "input": [
      "date.today()"
     ],
     "language": "python",
     "metadata": {},
     "outputs": [
      {
       "metadata": {},
       "output_type": "pyout",
       "prompt_number": 194,
       "text": [
        "datetime.date(2014, 10, 4)"
       ]
      }
     ],
     "prompt_number": 194
    },
    {
     "cell_type": "code",
     "collapsed": false,
     "input": [
      "# \uccab\ubc88\uc9f8\ub0a0 \uad6c\ud558\uae30\n",
      "start_date = date.today().replace(day=1)\n",
      "start_date"
     ],
     "language": "python",
     "metadata": {},
     "outputs": [
      {
       "metadata": {},
       "output_type": "pyout",
       "prompt_number": 196,
       "text": [
        "datetime.date(2014, 10, 1)"
       ]
      }
     ],
     "prompt_number": 196
    },
    {
     "cell_type": "code",
     "collapsed": false,
     "input": [
      "start_date.year"
     ],
     "language": "python",
     "metadata": {},
     "outputs": [
      {
       "metadata": {},
       "output_type": "pyout",
       "prompt_number": 197,
       "text": [
        "2014"
       ]
      }
     ],
     "prompt_number": 197
    },
    {
     "cell_type": "code",
     "collapsed": false,
     "input": [
      "start_date.month"
     ],
     "language": "python",
     "metadata": {},
     "outputs": [
      {
       "metadata": {},
       "output_type": "pyout",
       "prompt_number": 198,
       "text": [
        "10"
       ]
      }
     ],
     "prompt_number": 198
    },
    {
     "cell_type": "code",
     "collapsed": false,
     "input": [
      "# \ub9c8\uc9c0\ub9c9 \ub0a0 \uad6c\ud558\uae30\n",
      "calendar.monthrange(start_date.year, start_date.month)"
     ],
     "language": "python",
     "metadata": {},
     "outputs": [
      {
       "metadata": {},
       "output_type": "pyout",
       "prompt_number": 199,
       "text": [
        "(2, 31)"
       ]
      }
     ],
     "prompt_number": 199
    },
    {
     "cell_type": "code",
     "collapsed": false,
     "input": [
      "calendar.monthrange(2014, 9)"
     ],
     "language": "python",
     "metadata": {},
     "outputs": [
      {
       "metadata": {},
       "output_type": "pyout",
       "prompt_number": 205,
       "text": [
        "(0, 30)"
       ]
      }
     ],
     "prompt_number": 205
    },
    {
     "cell_type": "code",
     "collapsed": false,
     "input": [
      "calendar.monthrange(2014, 11)"
     ],
     "language": "python",
     "metadata": {},
     "outputs": [
      {
       "metadata": {},
       "output_type": "pyout",
       "prompt_number": 203,
       "text": [
        "(5, 30)"
       ]
      }
     ],
     "prompt_number": 203
    },
    {
     "cell_type": "code",
     "collapsed": false,
     "input": [
      "c = calendar.TextCalendar(calendar.SUNDAY)"
     ],
     "language": "python",
     "metadata": {},
     "outputs": [],
     "prompt_number": 208
    },
    {
     "cell_type": "code",
     "collapsed": false,
     "input": [
      "c.prmonth(2014, 10)"
     ],
     "language": "python",
     "metadata": {},
     "outputs": [
      {
       "output_type": "stream",
       "stream": "stdout",
       "text": [
        "    October 2014\n",
        "Su Mo Tu We Th Fr Sa\n",
        "          1  2  3  4\n",
        " 5  6  7  8  9 10 11\n",
        "12 13 14 15 16 17 18\n",
        "19 20 21 22 23 24 25\n",
        "26 27 28 29 30 31\n",
        " "
       ]
      }
     ],
     "prompt_number": 209
    },
    {
     "cell_type": "code",
     "collapsed": false,
     "input": [
      "# \uccab\ubc88\uc9f8 \ub0a0\uc9dc\uc758 \uc694\uc77c index, \ub9c8\uc9c0\ub9c9 \ub0a0\uc9dc\n",
      "# Returns weekday of first day of the month and number of days in month, \n",
      "# for the specified year and month.\n",
      "help(calendar.monthrange)"
     ],
     "language": "python",
     "metadata": {},
     "outputs": [
      {
       "output_type": "stream",
       "stream": "stdout",
       "text": [
        "Help on function monthrange in module calendar:\n",
        "\n",
        "monthrange(year, month)\n",
        "    Return weekday (0-6 ~ Mon-Sun) and number of days (28-31) for\n",
        "    year, month.\n",
        "\n"
       ]
      }
     ],
     "prompt_number": 200
    },
    {
     "cell_type": "code",
     "collapsed": false,
     "input": [
      "def get_month_range(start_date=None):\n",
      "    if start_date is None:\n",
      "        start_date = date.today().replace(day=1)\n",
      "    # \uc544.. \uc5ec\uae30 \uc55e\uc5d0 _ \uc774\uac8c \uad1c\ud788 \ub4e4\uc5b4\uac00 \uc788\ub294\uac8c \uc544\ub2c8\ub124. \uccab\ubc88\uc9f8 \ub0a0\uc9dc\uc758 \uc694\uc77c index\ub294 \ud544\uc694\uc5c6\uc73c\ub2c8\n",
      "    # \uc548\uc4f0\uaca0\ub2e4\ub294 \uc758\ubbf8\uc600\ub294\ub370..\n",
      "    _, days_in_month = calendar.monthrange(start_date.year, start_date.month)\n",
      "    end_date = start_date + timedelta(days=days_in_month)\n",
      "    return (start_date, end_date)"
     ],
     "language": "python",
     "metadata": {},
     "outputs": [],
     "prompt_number": 210
    },
    {
     "cell_type": "code",
     "collapsed": false,
     "input": [
      "a_day = timedelta(days=1)"
     ],
     "language": "python",
     "metadata": {},
     "outputs": [],
     "prompt_number": 211
    },
    {
     "cell_type": "code",
     "collapsed": false,
     "input": [
      "a_day"
     ],
     "language": "python",
     "metadata": {},
     "outputs": [
      {
       "metadata": {},
       "output_type": "pyout",
       "prompt_number": 212,
       "text": [
        "datetime.timedelta(1)"
       ]
      }
     ],
     "prompt_number": 212
    },
    {
     "cell_type": "code",
     "collapsed": false,
     "input": [
      "first_day, last_day = get_month_range()\n",
      "first_day, last_day"
     ],
     "language": "python",
     "metadata": {},
     "outputs": [
      {
       "metadata": {},
       "output_type": "pyout",
       "prompt_number": 214,
       "text": [
        "(datetime.date(2014, 10, 1), datetime.date(2014, 11, 1))"
       ]
      }
     ],
     "prompt_number": 214
    },
    {
     "cell_type": "code",
     "collapsed": false,
     "input": [
      "# \ub0a0\uc9dc \ubc94\uc704 \uc21c\ud68c\n",
      "while first_day < last_day:\n",
      "    print(first_day)\n",
      "    first_day += a_day"
     ],
     "language": "python",
     "metadata": {},
     "outputs": [
      {
       "output_type": "stream",
       "stream": "stdout",
       "text": [
        "2014-10-01\n",
        "2014-10-02\n",
        "2014-10-03\n",
        "2014-10-04\n",
        "2014-10-05\n",
        "2014-10-06\n",
        "2014-10-07\n",
        "2014-10-08\n",
        "2014-10-09\n",
        "2014-10-10\n",
        "2014-10-11\n",
        "2014-10-12\n",
        "2014-10-13\n",
        "2014-10-14\n",
        "2014-10-15\n",
        "2014-10-16\n",
        "2014-10-17\n",
        "2014-10-18\n",
        "2014-10-19\n",
        "2014-10-20\n",
        "2014-10-21\n",
        "2014-10-22\n",
        "2014-10-23\n",
        "2014-10-24\n",
        "2014-10-25\n",
        "2014-10-26\n",
        "2014-10-27\n",
        "2014-10-28\n",
        "2014-10-29\n",
        "2014-10-30\n",
        "2014-10-31\n"
       ]
      }
     ],
     "prompt_number": 215
    },
    {
     "cell_type": "markdown",
     "metadata": {},
     "source": [
      "### \ud1a0\ub860\n",
      "\n",
      "- \uc774\ubc88 \ub808\uc2dc\ud53c\ub294 \uc6b0\uc120 \uc6d4\uc758 \uccab \ubc88\uc9f8 \ub0a0\uc744 \uacc4\uc0b0\ud558\ub294 \ub370\uc11c \uc2dc\uc791\n",
      "- \uccab\uc9f8 \ub0a0\uc744 \uac04\ub2e8\ud788 \uad6c\ud558\uae30 \uc704\ud574\uc11c date\uc758 replace() \uba54\uc18c\ub4dc\uc5d0 days \uc18d\uc131\uc744 1\ub85c \uc124\uc815\n",
      "- replace() \uba54\uc18c\ub4dc\ub294 \uc2dc\uc791\ud55c \uac83\uacfc \ub3d9\uc77c\ud55c \uac1d\uccb4\ub97c \ub9cc\ub4e0\ub2e4\ub294 \uc810\uc774 \uc88b\ub2e4.\n",
      "- \ub530\ub77c\uc11c date \uc778\uc2a4\ud134\uc2a4\ub97c \uc785\ub825\ud558\uba74 \uadf8 \uacb0\uacfc\ub3c4 date\uac00 \ub41c\ub2e4.\n",
      "- \ub9c8\ucc2c\uac00\uc9c0\ub85c datetime \uc778\uc2a4\ud134\uc2a4\ub97c \ub123\uc73c\uba74 datetime \uc778\uc2a4\ud134\uc2a4\ub97c \uc5bb\ub294\ub2e4.\n",
      "\n",
      "\n",
      "- \uadf8 \ud6c4\uc5d0, calendar.monthrange() \ud568\uc218\ub85c \uc8fc\uc5b4\uc9c4 \uc6d4\uc5d0 \ub0a0\uc9dc\uac00 \uba87 \uac1c \uc788\ub294\uc9c0 \ucc3e\ub294\ub2e4.\n",
      "- \ub2ec\ub825\uc5d0 \ub300\ud55c \uae30\ubcf8\uc801\uc778 \uc815\ubcf4\uac00 \ud544\uc694\ud560 \ub54c calendar \ubaa8\ub4c8\uc740 \uc5b8\uc81c\ub098 \uc720\uc6a9\n",
      "- monthrange()\ub294 \uc6d4\uc5d0 \ud3ec\ud568\ub41c \ub0a0\uc9dc \uc218\uc640 \uc8fc\uc758 \ub0a0\uc9dc\ub97c \ud3ec\ud568\ud55c \ud29c\ud50c\uc744 \ubc18\ud658\ud558\ub294 \uc720\uc77c\ud55c \ud568\uc218\n",
      "\n",
      "\n",
      "- \uc6d4\uc758 \ub0a0\uc9dc \uc218\ub97c \uad6c\ud558\uace0 \ub098\uba74 \uc2dc\uc791 \ub0a0\uc9dc\uc5d0 \uc801\uc808\ud55c timedelta\ub97c \ub354\ud574\uc11c \ub9c8\uc9c0\ub9c9 \ub0a0\uc744 \uad6c\ud558\ub09f.\n",
      "- \ubbf8\ubb18\ud55c \ubd80\ubd84\uc774\uc9c0\ub9cc, \ub9c8\uc9c0\ub9c9 \ub0a0\uc9dc\ub294 \ubc94\uc704\uc5d0 \ud3ec\ud568\ub418\uc9c0 \uc54a\ub294\ub2e4\ub294 \uac83\uc774 \uc911\uc694(\uc5c4\ubc00\ud788 \ub9d0\ud558\uba74 \ub9c8\uc9c0\ub9c9 \ub0a0\uc9dc\uac00 \uc544\ub2c8\ub77c \ub2e4\uc74c \ub2ec\uc758 \uc2dc\uc791 \ub0a0\uc9dc)\n",
      "- \uc774 \uaddc\uce59\uc740 \ub9c8\uc9c0\ub9c9 \uc810\uc744 \ud3ec\ud568\ud558\uc9c0 \uc54a\ub294 \ud30c\uc774\uc36c\uc758 \uc2ac\ub77c\uc774\uc2a4\uc640 \ubc94\uc704 \uc5f0\uc0b0\uc790\uc640 \ub3d9\uc77c\n",
      "\n",
      "\n",
      "- \ub0a0\uc9dc \ubc94\uc704\ub97c \uc21c\ud658\ud558\ub824\uba74 **\ud45c\uc900 \uc218\ud559**\uacfc **\ube44\uad50 \uc5f0\uc0b0\uc790**\ub97c \uc0ac\uc6a9\n",
      "- \uc608\ub97c \ub4e4\uc5b4 \ub0a0\uc9dc\ub97c \uc99d\uac00\uc2dc\ud0a4\uae30 \uc704\ud574\uc11c **timedelta** \uc778\uc2a4\ud134\uc2a4\ub97c \uc0ac\uc6a9\n",
      "- < \uc5f0\uc0b0\uc790\ub85c \ub0a0\uc9dc\uac00 \ub9c8\uc9c0\ub9c9 \ub0a0\uc9dc\ubcf4\ub2e4 \ube60\ub978\uc9c0 \ube44\uad50\n",
      "- \uc774\uc0c1\uc801\uc73c\ub85c\ub294 \ub0b4\uc7a5 \ud568\uc218 **range()**\ucc98\ub7fc \ub3d9\uc791\ud558\ub294 \ud568\uc218\ub97c \ub9cc\ub4dc\ub294 \uac83\uc774 \uc88b\uc74c\n",
      "- **generator**\ub97c \uc0ac\uc6a9\ud558\uba74 \uc544\uc8fc \uc27d\uac8c \uad6c\ud604"
     ]
    },
    {
     "cell_type": "code",
     "collapsed": false,
     "input": [
      "def date_range(start, stop, step):\n",
      "    while start < stop:\n",
      "        yield start\n",
      "        start += step"
     ],
     "language": "python",
     "metadata": {},
     "outputs": [],
     "prompt_number": 216
    },
    {
     "cell_type": "code",
     "collapsed": false,
     "input": [
      "for d in date_range(datetime(2012, 9, 1), datetime(2012, 9, 5),\n",
      "                    timedelta(hours=6)):\n",
      "    print(d)"
     ],
     "language": "python",
     "metadata": {},
     "outputs": [
      {
       "output_type": "stream",
       "stream": "stdout",
       "text": [
        "2012-09-01 00:00:00\n",
        "2012-09-01 06:00:00\n",
        "2012-09-01 12:00:00\n",
        "2012-09-01 18:00:00\n",
        "2012-09-02 00:00:00\n",
        "2012-09-02 06:00:00\n",
        "2012-09-02 12:00:00\n",
        "2012-09-02 18:00:00\n",
        "2012-09-03 00:00:00\n",
        "2012-09-03 06:00:00\n",
        "2012-09-03 12:00:00\n",
        "2012-09-03 18:00:00\n",
        "2012-09-04 00:00:00\n",
        "2012-09-04 06:00:00\n",
        "2012-09-04 12:00:00\n",
        "2012-09-04 18:00:00\n"
       ]
      }
     ],
     "prompt_number": 219
    },
    {
     "cell_type": "markdown",
     "metadata": {},
     "source": [
      "- \ub2e4\uc2dc \ud55c \ubc88 \uac15\uc870\ud558\uc9c0\ub9cc **\uad6c\ud604\uc774 \uc5b4\ub835\uc9c0 \uc54a\uc558\ub358 \uac00\uc7a5 \ud070 \uc774\uc720**\ub294 **\ub0a0\uc9dc\uc640 \uc2dc\uac04\uc744 \ud45c\uc900 \uc218\ud559\uacfc \ube44\uad50 \uc5f0\uc0b0\uc790\ub85c \ucc98\ub9ac**\ud560 \uc218 \uc788\uc5c8\uae30 \ub54c\ubb38"
     ]
    },
    {
     "cell_type": "markdown",
     "metadata": {},
     "source": [
      "## 3.15 \ubb38\uc790\uc5f4\uc744 \uc2dc\uac04\uc73c\ub85c \ubcc0\ud658\n",
      "\n",
      "### \ubb38\uc81c\n",
      "\n",
      "- \ubb38\uc790\uc5f4 \ud615\uc2dd\uc758 \uc2dc\uac04 \ub370\uc774\ud130\ub97c datetime \uac1d\uccb4\ub85c \ubcc0\ud658\ud558\uace0 \uc2f6\ub2e4.\n",
      "\n",
      "### \ud574\uacb0\n",
      "\n",
      "- \ud30c\uc774\uc36c\uc758 datetime \ubaa8\ub4c8\uc744 \uc0ac\uc6a9\ud558\uba74 \uc0c1\ub300\uc801\uc73c\ub85c \uc27d\uac8c \uc774 \ubb38\uc81c \ud574\uacb0"
     ]
    },
    {
     "cell_type": "code",
     "collapsed": false,
     "input": [
      "from datetime import datetime"
     ],
     "language": "python",
     "metadata": {},
     "outputs": [],
     "prompt_number": 220
    },
    {
     "cell_type": "code",
     "collapsed": false,
     "input": [
      "text = '2014-09-20'"
     ],
     "language": "python",
     "metadata": {},
     "outputs": [],
     "prompt_number": 228
    },
    {
     "cell_type": "code",
     "collapsed": false,
     "input": [
      "# string\uc5d0\uc11c datetime\uc744 parse \ud55c\ub2e4.\n",
      "help(datetime.strptime)"
     ],
     "language": "python",
     "metadata": {},
     "outputs": [
      {
       "output_type": "stream",
       "stream": "stdout",
       "text": [
        "Help on built-in function strptime:\n",
        "\n",
        "strptime(...) method of builtins.type instance\n",
        "    string, format -> new datetime parsed from a string (like time.strptime()).\n",
        "\n"
       ]
      }
     ],
     "prompt_number": 236
    },
    {
     "cell_type": "code",
     "collapsed": false,
     "input": [
      "y = datetime.strptime(text, '%Y-%m-%d')\n",
      "y"
     ],
     "language": "python",
     "metadata": {},
     "outputs": [
      {
       "metadata": {},
       "output_type": "pyout",
       "prompt_number": 229,
       "text": [
        "datetime.datetime(2014, 9, 20, 0, 0)"
       ]
      }
     ],
     "prompt_number": 229
    },
    {
     "cell_type": "code",
     "collapsed": false,
     "input": [
      "z = datetime.now()\n",
      "z"
     ],
     "language": "python",
     "metadata": {},
     "outputs": [
      {
       "metadata": {},
       "output_type": "pyout",
       "prompt_number": 230,
       "text": [
        "datetime.datetime(2014, 10, 4, 10, 13, 17, 311791)"
       ]
      }
     ],
     "prompt_number": 230
    },
    {
     "cell_type": "code",
     "collapsed": false,
     "input": [
      "diff = z - y"
     ],
     "language": "python",
     "metadata": {},
     "outputs": [],
     "prompt_number": 231
    },
    {
     "cell_type": "code",
     "collapsed": false,
     "input": [
      "diff"
     ],
     "language": "python",
     "metadata": {},
     "outputs": [
      {
       "metadata": {},
       "output_type": "pyout",
       "prompt_number": 232,
       "text": [
        "datetime.timedelta(14, 36797, 311791)"
       ]
      }
     ],
     "prompt_number": 232
    },
    {
     "cell_type": "markdown",
     "metadata": {},
     "source": [
      "### \ud1a0\ub860\n",
      "\n",
      "- datetime.strptime() \uba54\uc18c\ub4dc\ub294 \ub124 \uc790\ub9ac \uc5f0\ub3c4 \ud45c\uc2dc\ub97c \uc704\ud55c %Y, \ub450\uc790\ub9ac \uc6d4 \ud45c\uc2dc\ub97c \uc704\ud55c %m\uacfc \uac19\uc740 \uc11c\uc2dd\uc744 \uc9c0\uc6d0\n",
      "- \ub610\ud55c datetime \uac1d\uccb4\ub97c \ubb38\uc790\uc5f4\ub85c \ud45c\uc2dc\ud558\uae30 \uc704\ud574\uc11c \uc774 \uc11c\uc2dd\uc744 \uc0ac\uc6a9 \uac00\ub2a5\n",
      "- \uc608\ub97c \ub4e4\uc5b4 datetime \uac1d\uccb4\ub97c \uc0dd\uc131\ud558\ub294 \ucf54\ub4dc\uac00 \uc788\ub294\ub370, \uc774\ub97c \uc0ac\ub78c\uc774 \uc774\ud574\ud558\uae30 \uc26c\uc6b4 \ud615\ud0dc\ub85c \ubcc0\ud658\ud558\uace0\uc790 \ud55c\ub2e4\uba74 \ub2e4\uc74c \ucf54\ub4dc \uc0ac\uc6a9"
     ]
    },
    {
     "cell_type": "code",
     "collapsed": false,
     "input": [
      "z"
     ],
     "language": "python",
     "metadata": {},
     "outputs": [
      {
       "metadata": {},
       "output_type": "pyout",
       "prompt_number": 233,
       "text": [
        "datetime.datetime(2014, 10, 4, 10, 13, 17, 311791)"
       ]
      }
     ],
     "prompt_number": 233
    },
    {
     "cell_type": "code",
     "collapsed": false,
     "input": [
      "# Return a string representing the date, controlled by \n",
      "# an explicit format string. \n",
      "# Format codes referring to hours, minutes or seconds will see 0 values. \n",
      "# For a complete list of formatting directives, see section strftime() and \n",
      "# strptime() Behavior.\n",
      "# string\uc73c\ub85c \uc7ac\ud45c\ud604\ud55c date \ubc18\ud658. \n",
      "# \uc0ac\ub78c\uc774 \uc774\ud574\ud558\uae30 \uc26c\uc6b4 \ud615\ud0dc\ub85c \ubc18\ud658\n",
      "help(datetime.strftime)"
     ],
     "language": "python",
     "metadata": {},
     "outputs": [
      {
       "output_type": "stream",
       "stream": "stdout",
       "text": [
        "Help on method_descriptor:\n",
        "\n",
        "strftime(...)\n",
        "    format -> strftime() style string.\n",
        "\n"
       ]
      }
     ],
     "prompt_number": 237
    },
    {
     "cell_type": "code",
     "collapsed": false,
     "input": [
      "nice_z = datetime.strftime(z, '%A %B %d, %Y')"
     ],
     "language": "python",
     "metadata": {},
     "outputs": [],
     "prompt_number": 234
    },
    {
     "cell_type": "code",
     "collapsed": false,
     "input": [
      "nice_z"
     ],
     "language": "python",
     "metadata": {},
     "outputs": [
      {
       "metadata": {},
       "output_type": "pyout",
       "prompt_number": 235,
       "text": [
        "'Saturday October 04, 2014'"
       ]
      }
     ],
     "prompt_number": 235
    },
    {
     "cell_type": "markdown",
     "metadata": {},
     "source": [
      "- strptime()\uc740 \uc21c\uc218 \ud30c\uc774\uc36c\ub9cc\uc744 \uc0ac\uc6a9\ud574\uc11c \uad6c\ud604\ud588\uace0, \uc2dc\uc2a4\ud15c \uc124\uc815\uacfc \uac19\uc740 \uc138\uc138\ud55c \ubd80\ubd84\uc744 \ubaa8\ub450 \ucc98\ub9ac\ud574\uc57c \ud558\ubbc0\ub85c \uc608\uc0c1\ubcf4\ub2e4 \uc2e4\ud589 \uc18d\ub3c4\uac00 \ub290\ub9b0 \uacbd\uc6b0\uac00 \ub9ce\ub2e4.\n",
      "- \ub9cc\uc57d \ucf54\ub4dc\uc5d0\uc11c \ucc98\ub9ac\ud574\uc57c \ud558\ub294 \ub0a0\uc9dc\uac00 \uc544\uc8fc \ub9ce\uc740\ub370 \uadf8 \ub0a0\uc9dc \ud615\uc2dd\uc744 \uc815\ud655\ud788 \uc54c\uace0 \uc788\ub2e4\uba74 \ud574\uacb0\ucc45\uc744 \uc9c1\uc811 \uad6c\ud604\ud558\ub294 \uac83\uc774 \uc18d\ub3c4 \uce21\uba74\uc5d0\uc11c \ud6e8\uc52c \uc720\ub9ac\ud788\ub2e4.\n",
      "- \uc608\ub97c \ub4e4\uc5b4 \ub0a0\uc9dc \ud615\uc2dd\uc774 'YYYY-MM-DD' \ub77c\ub294 \uac83\uc774 \ubd84\uba85\ud558\ub2e4\uba74 \ub2e4\uc74c\uacfc \uac19\uc740 \ud568\uc218 \uc791\uc131"
     ]
    },
    {
     "cell_type": "code",
     "collapsed": false,
     "input": [
      "from datetime import datetime"
     ],
     "language": "python",
     "metadata": {},
     "outputs": [],
     "prompt_number": 238
    },
    {
     "cell_type": "code",
     "collapsed": false,
     "input": [
      "def parse_ymd(s):\n",
      "    year_s, mon_s, day_s = s.split('-')\n",
      "    return datetime(int(year_s), int(mon_s), int(day_s))"
     ],
     "language": "python",
     "metadata": {},
     "outputs": [],
     "prompt_number": 239
    },
    {
     "cell_type": "code",
     "collapsed": false,
     "input": [
      "def parse_ymd_strptime(s):\n",
      "    return datetime.strptime(s, '%Y-%m-%d')"
     ],
     "language": "python",
     "metadata": {},
     "outputs": [],
     "prompt_number": 241
    },
    {
     "cell_type": "code",
     "collapsed": false,
     "input": [
      "%timeit parse_ymd(text)"
     ],
     "language": "python",
     "metadata": {},
     "outputs": [
      {
       "output_type": "stream",
       "stream": "stdout",
       "text": [
        "1000000 loops, best of 3: 1.55 \u00b5s per loop\n"
       ]
      }
     ],
     "prompt_number": 245
    },
    {
     "cell_type": "code",
     "collapsed": false,
     "input": [
      "%timeit parse_ymd_strptime(text)"
     ],
     "language": "python",
     "metadata": {},
     "outputs": [
      {
       "output_type": "stream",
       "stream": "stdout",
       "text": [
        "100000 loops, best of 3: 14.4 \u00b5s per loop\n"
       ]
      }
     ],
     "prompt_number": 261
    },
    {
     "cell_type": "markdown",
     "metadata": {},
     "source": [
      "- datetime.strptime()\uc744 \uc0ac\uc6a9\ud558\ub294 \uac83\ubcf4\ub2e4 \ub300\ub7b5 7\ubc30 \uac00\ub7c9 \ube68\ub790\ub2e4.\n",
      "- \ub0a0\uc9dc\uc640 \uad00\ub828\ub41c \ucc98\ub9ac\ud574\uc57c \ud560 \ub370\uc774\ud130\uac00 \uc544\uc8fc \ub9ce\ub2e4\uba74 \uace0\ub824"
     ]
    },
    {
     "cell_type": "markdown",
     "metadata": {},
     "source": [
      "## 3.16 \uc2dc\uac04\ub300 \uad00\ub828 \ub0a0\uc9dc \ucc98\ub9ac\n",
      "\n",
      "### \ubb38\uc81c\n",
      "\n",
      "- Chicago \uc2dc\uac04\uc73c\ub85c 2012\ub144 12\uc6d4 21\uc77c \uc624\uc804 9\uc2dc 30\ubd84\uc5d0 \ud654\uc0c1 \ud68c\uc758\uac00 \uc608\uc815\ub418\uc5b4 \uc788\ub2e4. \uadf8\ub807\ub2e4\uba74 \uc778\ub3c4\uc758 \ubc29\uac08\ub85c\ub974\uc5d0 \uc788\ub294 \uce5c\uad6c\ub294 \uba87 \uc2dc\uc5d0 \ud68c\uc758\uc2e4\uc5d0 \uc640\uc57c \ud560\uae4c?\n",
      "\n",
      "### \ud574\uacb0\n",
      "\n",
      "- **\uc2dc\uac04\ub300\uc640 \uad00\ub828\uc788\ub294 \uac70\uc758 \ubaa8\ub4e0 \ubb38\uc81c**\ub294 **pytz** \ubaa8\ub4c8\ub85c \ud574\uacb0\n",
      "- \uc774 \ud328\ud0a4\uc9c0\ub294 **\ub9ce\uc740 \uc5b8\uc5b4**\uc640 **\uc6b4\uc601 \uccb4\uc81c**\uc5d0\uc11c **\uae30\ubcf8\uc801\uc73c\ub85c \uc0ac\uc6a9**\ud558\ub294 Olson \uc2dc\uac04\ub300 \ub370\uc774\ud130\ubca0\uc774\uc2a4 \uc81c\uacf5\n",
      "- pytz\ub294 \uc8fc\ub85c datetime \ub77c\uc774\ube0c\ub7ec\ub9ac\uc5d0\uc11c \uc0dd\uc131\ud55c \ub0a0\uc9dc\ub97c **\ud604\uc9c0\ud654**\ud560 \ub54c \uc0ac\uc6a9\n",
      "\n",
      "> pip install pytz"
     ]
    },
    {
     "cell_type": "code",
     "collapsed": false,
     "input": [
      "from datetime import datetime"
     ],
     "language": "python",
     "metadata": {},
     "outputs": [],
     "prompt_number": 262
    },
    {
     "cell_type": "code",
     "collapsed": false,
     "input": [
      "from pytz import timezone"
     ],
     "language": "python",
     "metadata": {},
     "outputs": [],
     "prompt_number": 264
    },
    {
     "cell_type": "code",
     "collapsed": false,
     "input": [
      "d = datetime(2012, 12, 21, 9, 30, 0)"
     ],
     "language": "python",
     "metadata": {},
     "outputs": [],
     "prompt_number": 265
    },
    {
     "cell_type": "code",
     "collapsed": false,
     "input": [
      "print(d)"
     ],
     "language": "python",
     "metadata": {},
     "outputs": [
      {
       "output_type": "stream",
       "stream": "stdout",
       "text": [
        "2012-12-21 09:30:00\n"
       ]
      }
     ],
     "prompt_number": 266
    },
    {
     "cell_type": "code",
     "collapsed": false,
     "input": [
      "# \uc2dc\uce74\uace0\uc5d0 \ub9de\uac8c \ud604\uc9c0\ud654\n",
      "central = timezone('US/Central')"
     ],
     "language": "python",
     "metadata": {},
     "outputs": [],
     "prompt_number": 267
    },
    {
     "cell_type": "code",
     "collapsed": false,
     "input": [
      "loc_d = central.localize(d)"
     ],
     "language": "python",
     "metadata": {},
     "outputs": [],
     "prompt_number": 268
    },
    {
     "cell_type": "code",
     "collapsed": false,
     "input": [
      "print(loc_d)"
     ],
     "language": "python",
     "metadata": {},
     "outputs": [
      {
       "output_type": "stream",
       "stream": "stdout",
       "text": [
        "2012-12-21 09:30:00-06:00\n"
       ]
      }
     ],
     "prompt_number": 269
    },
    {
     "cell_type": "markdown",
     "metadata": {},
     "source": [
      "#### timezone list"
     ]
    },
    {
     "cell_type": "code",
     "collapsed": false,
     "input": [
      "from pytz import common_timezones\n",
      "from pprint import pprint"
     ],
     "language": "python",
     "metadata": {},
     "outputs": [],
     "prompt_number": 277
    },
    {
     "cell_type": "code",
     "collapsed": false,
     "input": [
      "# timezone list\n",
      "pprint(common_timezones[:10])"
     ],
     "language": "python",
     "metadata": {},
     "outputs": [
      {
       "output_type": "stream",
       "stream": "stdout",
       "text": [
        "['Africa/Abidjan',\n",
        " 'Africa/Accra',\n",
        " 'Africa/Addis_Ababa',\n",
        " 'Africa/Algiers',\n",
        " 'Africa/Asmara',\n",
        " 'Africa/Bamako',\n",
        " 'Africa/Bangui',\n",
        " 'Africa/Banjul',\n",
        " 'Africa/Bissau',\n",
        " 'Africa/Blantyre']\n"
       ]
      }
     ],
     "prompt_number": 282
    },
    {
     "cell_type": "code",
     "collapsed": false,
     "input": [
      "'Africa' in common_timezones"
     ],
     "language": "python",
     "metadata": {},
     "outputs": [
      {
       "metadata": {},
       "output_type": "pyout",
       "prompt_number": 286,
       "text": [
        "False"
       ]
      }
     ],
     "prompt_number": 286
    },
    {
     "cell_type": "code",
     "collapsed": false,
     "input": [
      "'Africa/Abidjan' in common_timezones"
     ],
     "language": "python",
     "metadata": {},
     "outputs": [
      {
       "metadata": {},
       "output_type": "pyout",
       "prompt_number": 287,
       "text": [
        "True"
       ]
      }
     ],
     "prompt_number": 287
    },
    {
     "cell_type": "code",
     "collapsed": false,
     "input": [
      "#### Seoul Timezone \ucc3e\uc544\ub0b4\uae30"
     ],
     "language": "python",
     "metadata": {},
     "outputs": [],
     "prompt_number": 290
    },
    {
     "cell_type": "code",
     "collapsed": false,
     "input": [
      "search = 'Seoul'\n",
      "[name for name in common_timezones if search in name]"
     ],
     "language": "python",
     "metadata": {},
     "outputs": [
      {
       "metadata": {},
       "output_type": "pyout",
       "prompt_number": 291,
       "text": [
        "['Asia/Seoul']"
       ]
      }
     ],
     "prompt_number": 291
    },
    {
     "cell_type": "markdown",
     "metadata": {},
     "source": [
      "- \ub0a0\uc9dc\ub97c \ud604\uc9c0\ud654\ud558\uace0 \ub098\uba74, \ub2e4\ub978 \uc2dc\uac04\ub300\ub85c \ubcc0\ud658\ud560 \uc218 \uc788\uc74c\n",
      "- \ubc29\uac08\ub85c\ub974\uc758 \ub3d9\uc77c \uc2dc\uac04\uc744 \uad6c\ud558\ub824\uba74 \ub2e4\uc74c\uacfc \uac19\uc774 \ud568"
     ]
    },
    {
     "cell_type": "code",
     "collapsed": false,
     "input": [
      "help(loc_d.astimezone)"
     ],
     "language": "python",
     "metadata": {},
     "outputs": [
      {
       "output_type": "stream",
       "stream": "stdout",
       "text": [
        "Help on built-in function astimezone:\n",
        "\n",
        "astimezone(...) method of datetime.datetime instance\n",
        "    tz -> convert to local time in new timezone tz\n",
        "\n"
       ]
      }
     ],
     "prompt_number": 294
    },
    {
     "cell_type": "code",
     "collapsed": false,
     "input": [
      "# \ubc29\uac08\ub85c\ub974 \uc2dc\uac04\uc73c\ub85c \ubcc0\ud658\n",
      "bang_d = loc_d.astimezone(timezone('Asia/Kolkata'))\n",
      "bang_d"
     ],
     "language": "python",
     "metadata": {},
     "outputs": [
      {
       "metadata": {},
       "output_type": "pyout",
       "prompt_number": 293,
       "text": [
        "datetime.datetime(2012, 12, 21, 21, 0, tzinfo=<DstTzInfo 'Asia/Kolkata' IST+5:30:00 STD>)"
       ]
      }
     ],
     "prompt_number": 293
    },
    {
     "cell_type": "code",
     "collapsed": false,
     "input": [
      "print(bang_d)"
     ],
     "language": "python",
     "metadata": {},
     "outputs": [
      {
       "output_type": "stream",
       "stream": "stdout",
       "text": [
        "2012-12-21 21:00:00+05:30\n"
       ]
      }
     ],
     "prompt_number": 295
    },
    {
     "cell_type": "markdown",
     "metadata": {},
     "source": [
      "- \ubcc0\ud658\ud55c \ub0a0\uc9dc\uc5d0 \uc0b0\uc220 \uc5f0\uc0b0\uc744 \ud558\ub824\uba74 daylight saving time \ub4f1\uc744 \uc54c\uace0 \uc788\uc5b4\uc57c \ud55c\ub2e4.\n",
      "- \uc608\ub97c \ub4e4\uc5b4 2013\ub144 \ubbf8\uad6d\uc5d0\uc11c \ud45c\uc900 \uc11c\uba38\ud0c0\uc784\uc740 3\uc6d4 13\uc77c \uc624\uc804 2\uc2dc\uc5d0 \uc2dc\uc791\ud55c\ub2e4(\uc5ec\uae30\uc11c \ud55c\uc2dc\uac04 \uc0dd\ub7b5\ub41c\ub2e4)\n",
      "- \uc774\ub97c \uace0\ub824\ud558\uc9c0 \uc54a\uace0 \uacc4\uc0b0\ud558\uba74 \uacc4\uc0b0 \uacb0\uacfc\uac00 \uc798\ubabb\ub41c\ub2e4."
     ]
    },
    {
     "cell_type": "code",
     "collapsed": false,
     "input": [
      "d = datetime(2013, 3, 10, 1, 45)"
     ],
     "language": "python",
     "metadata": {},
     "outputs": [],
     "prompt_number": 296
    },
    {
     "cell_type": "code",
     "collapsed": false,
     "input": [
      "loc_d = central.localize(d)"
     ],
     "language": "python",
     "metadata": {},
     "outputs": [],
     "prompt_number": 297
    },
    {
     "cell_type": "code",
     "collapsed": false,
     "input": [
      "print(loc_d)"
     ],
     "language": "python",
     "metadata": {},
     "outputs": [
      {
       "output_type": "stream",
       "stream": "stdout",
       "text": [
        "2013-03-10 01:45:00-06:00\n"
       ]
      }
     ],
     "prompt_number": 298
    },
    {
     "cell_type": "code",
     "collapsed": false,
     "input": [
      "later = loc_d + timedelta(minutes=30)"
     ],
     "language": "python",
     "metadata": {},
     "outputs": [],
     "prompt_number": 299
    },
    {
     "cell_type": "code",
     "collapsed": false,
     "input": [
      "# \ud2c0\ub9bc! \ud2c0\ub9bc!\n",
      "print(later)"
     ],
     "language": "python",
     "metadata": {},
     "outputs": [
      {
       "output_type": "stream",
       "stream": "stdout",
       "text": [
        "2013-03-10 02:15:00-06:00\n"
       ]
      }
     ],
     "prompt_number": 300
    },
    {
     "cell_type": "markdown",
     "metadata": {},
     "source": [
      "- \ub2f5\uc774 \ud2c0\ub838\ub294\ub370 \uc774\ub294 1\uc2dc\uac04\uc774 \uc0dd\ub7b5\ub41c \uc11c\uba38\ud0c0\uc784\uc744 \uace0\ub824\ud558\uc9c0 \uc54a\uc558\uae30 \ub54c\ubb38\n",
      "- \uc774\ub97c \uc218\uc815\ud558\ub824\uba74 normalize() \uba54\uc18c\ub4dc\ub97c \uc0ac\uc6a9"
     ]
    },
    {
     "cell_type": "code",
     "collapsed": false,
     "input": [
      "from datetime import timedelta"
     ],
     "language": "python",
     "metadata": {},
     "outputs": [],
     "prompt_number": 301
    },
    {
     "cell_type": "code",
     "collapsed": false,
     "input": [
      "later = central.normalize(loc_d + timedelta(minutes=30))"
     ],
     "language": "python",
     "metadata": {},
     "outputs": [],
     "prompt_number": 302
    },
    {
     "cell_type": "code",
     "collapsed": false,
     "input": [
      "print(later)"
     ],
     "language": "python",
     "metadata": {},
     "outputs": [
      {
       "output_type": "stream",
       "stream": "stdout",
       "text": [
        "2013-03-10 03:15:00-05:00\n"
       ]
      }
     ],
     "prompt_number": 304
    },
    {
     "cell_type": "code",
     "collapsed": false,
     "input": [
      "help(central.normalize)"
     ],
     "language": "python",
     "metadata": {},
     "outputs": [
      {
       "output_type": "stream",
       "stream": "stdout",
       "text": [
        "Help on method normalize in module pytz.tzinfo:\n",
        "\n",
        "normalize(dt) method of pytz.tzfile.US/Central instance\n",
        "    Correct the timezone information on the given datetime\n",
        "    \n",
        "    If date arithmetic crosses DST boundaries, the tzinfo\n",
        "    is not magically adjusted. This method normalizes the\n",
        "    tzinfo to the correct one.\n",
        "    \n",
        "    To test, first we need to do some setup\n",
        "    \n",
        "    >>> from pytz import timezone\n",
        "    >>> utc = timezone('UTC')\n",
        "    >>> eastern = timezone('US/Eastern')\n",
        "    >>> fmt = '%Y-%m-%d %H:%M:%S %Z (%z)'\n",
        "    \n",
        "    We next create a datetime right on an end-of-DST transition point,\n",
        "    the instant when the wallclocks are wound back one hour.\n",
        "    \n",
        "    >>> utc_dt = datetime(2002, 10, 27, 6, 0, 0, tzinfo=utc)\n",
        "    >>> loc_dt = utc_dt.astimezone(eastern)\n",
        "    >>> loc_dt.strftime(fmt)\n",
        "    '2002-10-27 01:00:00 EST (-0500)'\n",
        "    \n",
        "    Now, if we subtract a few minutes from it, note that the timezone\n",
        "    information has not changed.\n",
        "    \n",
        "    >>> before = loc_dt - timedelta(minutes=10)\n",
        "    >>> before.strftime(fmt)\n",
        "    '2002-10-27 00:50:00 EST (-0500)'\n",
        "    \n",
        "    But we can fix that by calling the normalize method\n",
        "    \n",
        "    >>> before = eastern.normalize(before)\n",
        "    >>> before.strftime(fmt)\n",
        "    '2002-10-27 01:50:00 EDT (-0400)'\n",
        "    \n",
        "    The supported method of converting between timezones is to use\n",
        "    datetime.astimezone(). Currently, normalize() also works:\n",
        "    \n",
        "    >>> th = timezone('Asia/Bangkok')\n",
        "    >>> am = timezone('Europe/Amsterdam')\n",
        "    >>> dt = th.localize(datetime(2011, 5, 7, 1, 2, 3))\n",
        "    >>> fmt = '%Y-%m-%d %H:%M:%S %Z (%z)'\n",
        "    >>> am.normalize(dt).strftime(fmt)\n",
        "    '2011-05-06 20:02:03 CEST (+0200)'\n",
        "\n"
       ]
      }
     ],
     "prompt_number": 305
    },
    {
     "cell_type": "markdown",
     "metadata": {},
     "source": [
      "### \ud1a0\ub860\n",
      "\n",
      "- \ud604\uc9c0\ud654\ub41c \ub0a0\uc9dc\ub97c \uc870\uae08 \ub354 \uc27d\uac8c \ub2e4\ub8e8\uae30 \uc704\ud55c \ud55c \uac00\uc9c0 \uc804\ub7b5\uc73c\ub85c, **\ubaa8\ub4e0 \ub0a0\uc9dc**\ub97c **UTC \uc2dc\uac04\uc73c\ub85c \ubcc0\ud658\ud574 \ub193\uace0 \uc0ac\uc6a9**\ud558\ub294 \uac83"
     ]
    },
    {
     "cell_type": "code",
     "collapsed": false,
     "input": [
      "print(loc_d)"
     ],
     "language": "python",
     "metadata": {},
     "outputs": [
      {
       "output_type": "stream",
       "stream": "stdout",
       "text": [
        "2013-03-10 01:45:00-06:00\n"
       ]
      }
     ],
     "prompt_number": 306
    },
    {
     "cell_type": "code",
     "collapsed": false,
     "input": [
      "import pytz"
     ],
     "language": "python",
     "metadata": {},
     "outputs": [],
     "prompt_number": 308
    },
    {
     "cell_type": "code",
     "collapsed": false,
     "input": [
      "utc_d = loc_d.astimezone(pytz.utc)"
     ],
     "language": "python",
     "metadata": {},
     "outputs": [],
     "prompt_number": 312
    },
    {
     "cell_type": "code",
     "collapsed": false,
     "input": [
      "print(utc_d)"
     ],
     "language": "python",
     "metadata": {},
     "outputs": [
      {
       "output_type": "stream",
       "stream": "stdout",
       "text": [
        "2013-03-10 07:45:00+00:00\n"
       ]
      }
     ],
     "prompt_number": 313
    },
    {
     "cell_type": "markdown",
     "metadata": {},
     "source": [
      "- UTC\uc5d0\uc11c\ub294 \uc11c\uba38\ud0c0\uc784\uacfc \uac19\uc740 \uc790\uc798\ud55c \ubb38\uc81c\ub97c \uc2e0\uacbd\uc4f0\uc9c0 \uc54a\uc544\ub3c4 \ub428\n",
      "- \ub530\ub77c\uc11c \uc77c\ubc18\uc801\uc778 \uc0b0\uc220 \uc5f0\uc0b0\uc744 \ub0a0\uc9dc\uc5d0 \uc0ac\uc6a9\ud574\ub3c4 \uc544\ubb34\ub7f0 \ubb38\uc81c\uac00 \uc5c6\uc74c\n",
      "- \ud604\uc9c0\ud654 \uc2dc\uac04\uc744 \ucd9c\ub825\ud574\uc57c \ud55c\ub2e4\uba74 \ubaa8\ub4e0 \uacc4\uc0b0\uc744 \ub9c8\uce5c \ud6c4\uc5d0 \uc6d0\ud558\ub294 \uc2dc\uac04\ub300\ub85c \ubcc0\ud658"
     ]
    },
    {
     "cell_type": "code",
     "collapsed": false,
     "input": [
      "later_utc = utc_d + timedelta(minutes=30)"
     ],
     "language": "python",
     "metadata": {},
     "outputs": [],
     "prompt_number": 314
    },
    {
     "cell_type": "code",
     "collapsed": false,
     "input": [
      "print(later_utc.astimezone(central))"
     ],
     "language": "python",
     "metadata": {},
     "outputs": [
      {
       "output_type": "stream",
       "stream": "stdout",
       "text": [
        "2013-03-10 03:15:00-05:00\n"
       ]
      }
     ],
     "prompt_number": 315
    },
    {
     "cell_type": "markdown",
     "metadata": {},
     "source": [
      "- \uc2dc\uac04\ub300 \uad00\ub828 \uc791\uc5c5 \uc911 \uc0dd\uae30\ub294 \ubb38\uc81c \uc911 \ud55c \uac00\uc9c0\ub85c, \uc5b4\ub5a4 \uc774\ub984\uc744 \uc0ac\uc6a9\ud560\uc9c0 \uacb0\uc815\ud558\ub294 \uac83\n",
      "- \uc608\ub97c \ub4e4\uc5b4 \uc774\ubc88 \ub808\uc2dc\ud53c\uc5d0\uc11c \uc778\ub3c4\uc758 \uc2dc\uac04\ub300 \uc774\ub984\uc774 'Asia/Kolkata' \ub77c\ub294 \uac83\uc744 \uc5b4\ub5bb\uac8c \uc54c\uc558\uc744\uae4c?\n",
      "- \uc774\ub97c \uc54c\uc544\ub0b4\uae30 \uc704\ud574\uc11c pytz_country_timezones \ub515\uc154\ub108\ub9ac \uc0ac\uc6a9\n",
      "- \uc774\ub54c\uc758 \ud0a4\uac12\uc73c\ub85c\ub294 [ISO 3166](http://ko.wikipedia.org/wiki/ISO_3166) \uad6d\uac00 \ucf54\ub4dc \uc0ac\uc6a9: \uc774\ub7f0\uac83\ub3c4 \uc0ac\uc6a9\ud558\ub294\uad6c\ub098\n",
      "\n",
      "\n",
      "- \ub3c5\uc790\uac00 \uc774 \ucc45\uc744 \uc77d\uace0 \uc788\uc744 \ub54c \uc988\uc74c\uc774\uba74 \ub354 \ub098\uc740 \uc2dc\uac04\ub300 \uc9c0\uc6d0\uc744 \uc704\ud574 pytz \ubaa8\ub4c8\uc758 \uc9c0\uc6d0\uc774 \uc911\ub2e8\ub420 \uac00\ub2a5\uc131\uc774 \uc788\ub2e4(PEP 431)\n",
      "- \ud558\uc9c0\ub9cc UTC \ub0a0\uc9dc \uc0ac\uc6a9 \uc870\uc5b8 \ub4f1 \ub9ce\uc740 \uc774\uc288\ub294 \uadf8\ub300\ub85c \uc801\uc6a9\ub420 \uac83"
     ]
    }
   ],
   "metadata": {}
  }
 ]
}
{
 "metadata": {
  "name": "",
  "signature": "sha256:660a1b5d3e6a0272e30a2a0d9c9568a70a63da93fe199cabc26fda354ec65ae3"
 },
 "nbformat": 3,
 "nbformat_minor": 0,
 "worksheets": [
  {
   "cells": [
    {
     "cell_type": "markdown",
     "metadata": {},
     "source": [
      "# 10. \ubaa8\ub4c8\uacfc \ud328\ud0a4\uc9c0\n",
      "\n",
      "- start: 2014-10-10\n",
      "- end: \n",
      "\n",
      "- \ucee4\ub2e4\ub780 \ud504\ub85c\uc81d\ud2b8\ub098 \ud30c\uc774\uc36c \uc124\uce58\uc5d0 \uc788\uc5b4 \ubaa8\ub4c8\uacfc \ud328\ud0a4\uc9c0\ub294 \ud575\uc2ec\uc774 \ub428\n",
      "- \uc774\ubc88 \uc7a5\uc740 \ubaa8\ub4c8\uacfc \ud328\ud0a4\uc9c0\uc5d0 \uad00\ub828\ub41c \ud328\ud0a4\uc9c0 \uad6c\uc131, \uac70\ub300\ud55c \ubaa8\ub4c8\uc744 \uc5ec\ub7ec \ud30c\uc77c\ub85c \ucabc\uac1c\uae30, \ub124\uc784\uc2a4\ud398\uc774\uc2a4 \ud328\ud0a4\uc9c0 \uc0dd\uc131 \ub4f1 \uc77c\ubc18\uc801\uc778 \ud504\ub85c\uadf8\ub798\ubc0d \uae30\uc220\uc5d0 \ucd08\uc810\uc744 \ub9de\ucd98\ub2e4.\n",
      "- \uadf8\ub9ac\uace0 import \uad6c\ubb38 \uc790\uccb4\ub97c \ucee4\uc2a4\ud130\ub9c8\uc774\uc9d5 \ud558\ub294 \ub808\uc2dc\ud53c\ub3c4 \uc81c\uacf5"
     ]
    },
    {
     "cell_type": "markdown",
     "metadata": {},
     "source": [
      "## 10.1 \ubaa8\ub4c8\uc758 \uacc4\uce35\uc801 \ud328\ud0a4\uc9c0 \ub9cc\ub4e4\uae30\n",
      "\n",
      "### \ubb38\uc81c\n",
      "\n",
      "- \ucf54\ub4dc\ub97c, \ubaa8\ub4c8\uc744 \uacc4\uce35\uc801\uc73c\ub85c \uad6c\uc131\ud558\ub294 \ud328\ud0a4\uc9c0\ub85c \uc815\ub9ac\ud558\uace0 \uc2f6\ub2e4.\n",
      "\n",
      "### \ud574\uacb0\n",
      "\n",
      "- \ud328\ud0a4\uc9c0 \uad6c\uc870\ub97c \ub9cc\ub4e4\uae30\ub294 \uac04\ub2e8\ud558\ub2e4. \ud30c\uc77c \uc2dc\uc2a4\ud15c\uc5d0\uc11c \uc6d0\ud558\ub294 \ub300\ub85c \ucf54\ub4dc\ub97c \uad6c\uc131\ud558\uace0 \ubaa8\ub4e0 \ub514\ub809\ud1a0\ub9ac\uc5d0 \\_\\_init\\_\\_.py \ud30c\uc77c\uc744 \uc815\uc758\ud55c\ub2e4."
     ]
    },
    {
     "cell_type": "code",
     "collapsed": false,
     "input": [
      "!tree 10/graphics/"
     ],
     "language": "python",
     "metadata": {},
     "outputs": [
      {
       "output_type": "stream",
       "stream": "stdout",
       "text": [
        "10/graphics/\r\n",
        "\u251c\u2500\u2500 __init__.py\r\n",
        "\u251c\u2500\u2500 formats\r\n",
        "\u2502\u00a0\u00a0 \u251c\u2500\u2500 __init__.py\r\n",
        "\u2502\u00a0\u00a0 \u251c\u2500\u2500 jpg.py\r\n",
        "\u2502\u00a0\u00a0 \u2514\u2500\u2500 png.py\r\n",
        "\u2514\u2500\u2500 primitive\r\n",
        "    \u251c\u2500\u2500 __init__.py\r\n",
        "    \u251c\u2500\u2500 fill.py\r\n",
        "    \u251c\u2500\u2500 line.py\r\n",
        "    \u2514\u2500\u2500 text.py\r\n",
        "\r\n",
        "2 directories, 8 files\r\n"
       ]
      }
     ],
     "prompt_number": 15
    },
    {
     "cell_type": "markdown",
     "metadata": {},
     "source": [
      "- \uc774\ub807\uac8c \ud558\uace0 \ub09c \ud6c4\uc5d0 \ub2e4\uc74c\uacfc \uac19\uc774 \ub2e4\uc591\ud55c import \uad6c\ubb38\uc744 \uc0ac\uc6a9\ud560 \uc218 \uc788\ub2e4."
     ]
    },
    {
     "cell_type": "code",
     "collapsed": false,
     "input": [
      "%cd 10"
     ],
     "language": "python",
     "metadata": {},
     "outputs": [
      {
       "output_type": "stream",
       "stream": "stdout",
       "text": [
        "/Users/re4lfl0w/Documents/ipython/books/python_cookbook/10\n"
       ]
      }
     ],
     "prompt_number": 2
    },
    {
     "cell_type": "code",
     "collapsed": false,
     "input": [
      "import graphics.primitive.line\n",
      "from graphics.primitive import line\n",
      "import graphics.formats.jpg as jpg"
     ],
     "language": "python",
     "metadata": {},
     "outputs": [],
     "prompt_number": 17
    },
    {
     "cell_type": "markdown",
     "metadata": {},
     "source": [
      "### \ud1a0\ub860\n",
      "\n",
      "- \uacc4\uce35\uc801 \ubaa8\ub4c8\uc744 \ub9cc\ub4dc\ub294 \uac83\uc740 \ud30c\uc77c \uc2dc\uc2a4\ud15c\uc5d0\uc11c \ub514\ub809\ud1a0\ub9ac\ub97c \uad6c\uc131\ud558\ub294 \uac83\ub9cc\ud07c\uc774\ub098 \uc27d\ub2e4. \\_\\_init\\_\\_.py \ud30c\uc77c\uc740 \uc11c\ub85c \ub2e4\ub978 \ud328\ud0a4\uc9c0 \ub808\ubca8\uc5d0 \ub300\ud574 \ucd94\uac00\uc801\uc778 \ucd08\uae30\ud654 \ucf54\ub4dc\ub97c \uc2e4\ud589\ud558\uae30 \uc704\ud574 \uc874\uc7ac\ud55c\ub2e4.\n",
      "- \uc608\ub97c \ub4e4\uc5b4 import graphics \ub77c\ub294 \ucf54\ub4dc\uac00 \uc788\uc73c\uba74 graphics/\\_\\_init\\_\\_.py \ud30c\uc77c\uc774 \uc784\ud3ec\ud2b8 \ub418\uace0 graphics \ub124\uc784\uc2a4\ud398\uc774\uc2a4\ub97c \ud615\uc131\ud568\n",
      "- import graphics.formats.jpg\uc640 \uac19\uc774 \uc784\ud3ec\ud2b8\ud558\uba74 \ucd5c\uc885\uc801\uc73c\ub85c graphics/formats/jpg.py \ud30c\uc77c\uc744 \uc784\ud3ec\ud2b8\ud558\uae30 \uc804\uc5d0 graphics/\\_\\_init\\_\\_.py\uc640 graphics/formats/\\_\\_init\\_\\_.py\uac00 \ubaa8\ub450 \uc784\ud3ec\ud2b8 \ub428\n",
      "- \ub300\uac1c\uc758 \uacbd\uc6b0 \\_\\_init\\_\\_.py \ud30c\uc77c\uc744 \ube48 \ud30c\uc77c\ub85c \ub9cc\ub4e4\uc5b4\ub3c4 \uc0c1\uad00 \uc5c6\uc9c0\ub9cc, \ud2b9\uc815 \uc0c1\ud669\uc5d0\ub294 \ucf54\ub4dc\ub97c \ub123\uc5b4\uc57c \ud568. \uc608\ub97c \ub4e4\uc5b4 \\_\\_init\\_\\_.py \ud30c\uc77c\uc774 \uc11c\ube0c\ubaa8\ub4c8\uc744 \uc790\ub3d9\uc801\uc73c\ub85c \ub85c\ub529\ud558\ub3c4\ub85d \ub9cc\ub4e4 \uc218 \uc788\uc74c"
     ]
    },
    {
     "cell_type": "code",
     "collapsed": false,
     "input": [
      "%%writefile graphics/formats/__init__.py\n",
      "from . import jpg\n",
      "from . import png"
     ],
     "language": "python",
     "metadata": {},
     "outputs": [
      {
       "output_type": "stream",
       "stream": "stdout",
       "text": [
        "Overwriting graphics/formats/__init__.py\n"
       ]
      }
     ],
     "prompt_number": 20
    },
    {
     "cell_type": "markdown",
     "metadata": {},
     "source": [
      "- \uc774 \ud30c\uc77c\uc758 \uacbd\uc6b0 \uc0ac\uc6a9\uc790\uac00 graphics.formats.jpg\uc640 graphics.formats.png\ub97c \uc77c\uc77c\uc774 \uc784\ud3ec\ud2b8\ud558\uc9c0 \uc54a\uace0 import graphics.formats \ub9cc \uc2e4\ud589\ud558\uba74 \ub098\uba38\uc9c0\ub294 \uc790\ub3d9\uc73c\ub85c \ucc98\ub9ac\ub428\n",
      "- \ub610\ud55c \ubaa8\ub4c8\uc744 \ub098\ub204\uae30 \uc704\ud574 \uc0ac\uc6a9\ud55c \uc5ec\ub7ec \ud30c\uc77c\uc758 \uc815\uc758\ub97c \ud558\ub098\uc758 \ub124\uc784\uc2a4\ud398\uc774\uc2a4\ub85c \ud1b5\ud569\ud560 \ub54c\ub3c4 \\_\\_init\\_\\_.py\uc5d0 \ucf54\ub4dc\ub97c \ub123\ub294\ub2e4. \uc774 \ub0b4\uc6a9\uc740 \ub808\uc2dc\ud53c 10.4\uc5d0\uc11c \ub2e4\ub8f8\n",
      "- \uc601\ub9ac\ud55c \ud504\ub85c\uadf8\ub798\uba38\ub77c\uba74 \ud30c\uc774\uc36c 3.3\uc5d0\uc11c\ub294 \\_\\_init\\_\\_.py \ud30c\uc77c\uc774 \uc5c6\uc5b4\ub3c4 \ud328\ud0a4\uc9c0 \uc784\ud3ec\ud2b8\uac00 \uc798 \uc218\ud589\ub41c\ub2e4\ub294 \uac83\uc744 \uc54c\uc544\ucc28\ub838\uc744 \uac83\uc774\ub2e4.\n",
      "- \\_\\_init\\_\\_.py \ud30c\uc77c\uc744 \uc815\uc758\ud558\uc9c0 \uc54a\uc73c\uba74 \"namespace package\"\ub85c \uc54c\ub824\uc9c4 \uac83\uc744 \uc0dd\uc131\ud558\uac8c \ub428\n",
      "- \uc774 \ub0b4\uc694\uc740 \ub808\uc2dc\ud53c 10.5\uc5d0 \ub098\uc628\ub2e4. \uc8fc\uc5b4\uc9c4 \ubaa8\ub4e0 \uc0c1\ud669\uc774 \ub3d9\uc77c\ud558\ub2e4\uba74 \uc0c8\ub85c\uc6b4 \ud328\ud0a4\uc9c0\ub97c \ub9cc\ub4e4 \ub54c \\_\\_init\\_\\_.py \ud30c\uc77c\uc744 \ub123\ub3c4\ub85d \ud558\uc790"
     ]
    },
    {
     "cell_type": "markdown",
     "metadata": {},
     "source": [
      "## 10.2 \uc77c\uad04 \uc784\ud3ec\ud2b8 \uc81c\uc5b4\n",
      "\n",
      "### \ubb38\uc81c\n",
      "\n",
      "- \uc0ac\uc6a9\uc790\uac00 from module import * \uad6c\ubb38\uc73c\ub85c \ubaa8\ub4e0 \uac83\uc744 \uc784\ud3ec\ud2b8\ud558\ub824 \ud560 \ub54c \uc138\uc138\ud55c \ub0b4\uc6a9\uc744 \uc81c\uc5b4\ud558\uace0 \uc2f6\ub2e4.\n",
      "\n",
      "### \ud574\uacb0\n",
      "\n",
      "- \ubaa8\ub4c8\uc5d0 \ub0b4\ubcf4\ub0bc \uc774\ub984\uc744 \ub2f4\uc740 \ub9ac\uc2a4\ud2b8\ub97c \\_\\_all\\_\\_ \ubcc0\uc218\uc5d0 \uba85\uc2dc"
     ]
    },
    {
     "cell_type": "code",
     "collapsed": false,
     "input": [
      "%%writefile somemodule.py\n",
      "def spam():\n",
      "    print('spam method')\n",
      "\n",
      "def grok():\n",
      "    print('grok method')\n",
      "\n",
      "blah = 42\n",
      "\n",
      "# 'spam'\uacfc 'grok'\ub9cc \ub0b4\ubcf4\ub0b8\ub2e4.\n",
      "__all__ = ['spam', 'grok', 'blah']"
     ],
     "language": "python",
     "metadata": {},
     "outputs": [
      {
       "output_type": "stream",
       "stream": "stdout",
       "text": [
        "Overwriting somemodule.py\n"
       ]
      }
     ],
     "prompt_number": 88
    },
    {
     "cell_type": "code",
     "collapsed": false,
     "input": [
      "del spam, grok"
     ],
     "language": "python",
     "metadata": {},
     "outputs": [],
     "prompt_number": 89
    },
    {
     "cell_type": "code",
     "collapsed": false,
     "input": [
      "from somemodule import *"
     ],
     "language": "python",
     "metadata": {},
     "outputs": [],
     "prompt_number": 90
    },
    {
     "cell_type": "code",
     "collapsed": false,
     "input": [
      "spam()"
     ],
     "language": "python",
     "metadata": {},
     "outputs": [],
     "prompt_number": 91
    },
    {
     "cell_type": "code",
     "collapsed": false,
     "input": [
      "grok()"
     ],
     "language": "python",
     "metadata": {},
     "outputs": [],
     "prompt_number": 92
    },
    {
     "cell_type": "code",
     "collapsed": false,
     "input": [
      "blah"
     ],
     "language": "python",
     "metadata": {},
     "outputs": [
      {
       "metadata": {},
       "output_type": "pyout",
       "prompt_number": 93,
       "text": [
        "42"
       ]
      }
     ],
     "prompt_number": 93
    },
    {
     "cell_type": "markdown",
     "metadata": {},
     "source": [
      "### \ud1a0\ub860\n",
      "\n",
      "- from module import \\*\uc744 \uc0ac\uc6a9\ud558\ub294 \uac83\uc740 \ub300\ubd80\ubd84\uc758 \uacbd\uc6b0\uc5d0 \uad8c\uc7a5\ud558\uc9c0 \uc54a\uc9c0\ub9cc, \ubaa8\ub4c8\uc5d0 \ub9ce\uc740 \ub0b4\uc6a9\uc774 \uc815\uc758\ub418\uc5b4 \uc788\ub294 \uacbd\uc6b0 \uc774\ub807\uac8c \uc784\ud3ec\ud2b8\ud558\ub294 \uc0ac\uc6a9\uc790\uac00 \uc5ec\uc804\ud788 \ub9ce\ub2e4.\n",
      "- \uc55e\uc5d0 \ub098\uc628 \ucc98\ub9ac\ub97c \ud558\uc9c0 \uc54a\uc73c\uba74 \ubc11\uc904\ub85c \uc2dc\uc791\ud558\uc9c0 \uc54a\ub294 \ubaa8\ub4e0 \uc774\ub984\uc744 \ub0b4\ubcf4\ub0b8\ub2e4.\n",
      "- \ud558\uc9c0\ub9cc \\_\\_all\\_\\_\uc744 \uc815\uc758\ud574 \ub193\ub294\ub2e4\uba74 \uc6b0\ub9ac\uac00 \uc6d0\ud558\ub294 \uac83\ub9cc \uc784\ud3ec\ud2b8\ud558\ub3c4\ub85d \uc81c\uc5b4\uac00 \uac00\ub2a5\n",
      "- \\_\\_all\\_\\_\uc744 \ube48 \ub9ac\uc2a4\ud2b8\ub85c \ub0a8\uaca8\ub450\uba74 \uc544\ubb34\uac83\ub3c4 \ub0b4\ubcf4\ub0b4\uc9c0 \uc54a\uc74c\n",
      "- \ub9cc\uc57d \uc815\uc758\ud558\uc9c0 \uc54a\uc740 \uc774\ub984\uc744 \\_\\_all\\_\\_\uc5d0 \ub123\uc73c\uba74 AttributeError \uc608\uc678\uac00 \ubc1c\uc0dd\ud568: \uc774\uac74 \uc548\ub418\ub294\ub4ef..."
     ]
    },
    {
     "cell_type": "markdown",
     "metadata": {},
     "source": [
      "## 10.3 \uc0c1\ub300 \uacbd\ub85c \ud328\ud0a4\uc9c0 \uc11c\ube0c\ubaa8\ub4c8 \uc784\ud3ec\ud2b8\n",
      "\n",
      "### \ubb38\uc81c\n",
      "\n",
      "- \ud328\ud0a4\uc9c0\ub85c \uad6c\uc131\ub41c \ucf54\ub4dc\uac00 \uc788\uace0, \ud328\ud0a4\uc9c0 \uc774\ub984\uc744 \ud558\ub4dc\ucf54\ub529\ud558\uc9c0 \uc54a\uace0 \ub2e4\ub978 \ud328\ud0a4\uc9c0 \uc11c\ube0c\ubaa8\ub4c8\uc744 \uc784\ud3ec\ud2b8\ud558\uace0 \uc2f6\ub2e4.\n",
      "\n",
      "### \ud574\uacb0\n",
      "\n",
      "- \ub2e4\ub978 \ud328\ud0a4\uc9c0\uc758 \ubaa8\ub4c8\uc744 \uc784\ud3ec\ud2b8\ud558\ub824\uba74 \ud328\ud0a4\uc9c0 \uc0c1\ud0dc \uc784\ud3ec\ud2b8(package relative import)\ub97c \uc0ac\uc6a9\ud558\ub09f.\n",
      "- \uc608\ub97c \ub4e4\uc5b4 \ud30c\uc77c \uc2dc\uc2a4\ud15c\uc5d0 \ub2e4\uc74c\uacfc \uac19\uc774 \uad6c\uc131\ub41c mypackage\uac00 \uc788\ub2e4\uace0 \uac00\uc815\ud574 \ubcf4\uc790."
     ]
    },
    {
     "cell_type": "code",
     "collapsed": false,
     "input": [
      "!tree mypackage/"
     ],
     "language": "python",
     "metadata": {},
     "outputs": [
      {
       "output_type": "stream",
       "stream": "stdout",
       "text": [
        "mypackage/\r\n",
        "\u251c\u2500\u2500 A\r\n",
        "\u2502\u00a0\u00a0 \u251c\u2500\u2500 __init__.py\r\n",
        "\u2502\u00a0\u00a0 \u251c\u2500\u2500 grok.py\r\n",
        "\u2502\u00a0\u00a0 \u2514\u2500\u2500 spam.py\r\n",
        "\u251c\u2500\u2500 B\r\n",
        "\u2502\u00a0\u00a0 \u251c\u2500\u2500 __init__.py\r\n",
        "\u2502\u00a0\u00a0 \u2514\u2500\u2500 bar.py\r\n",
        "\u2514\u2500\u2500 __init__.py\r\n",
        "\r\n",
        "2 directories, 6 files\r\n"
       ]
      }
     ],
     "prompt_number": 105
    },
    {
     "cell_type": "markdown",
     "metadata": {},
     "source": [
      "- \ubaa8\ub4c8 mypackage.A.spam \uc774 \ub3d9\uc77c\ud55c \ub514\ub809\ud1a0\ub9ac\uc758 grok \ubaa8\ub4c8\uc744 \uc784\ud3ec\ud2b8\ud558\ub824\uba74 \ub2e4\uc74c\uacfc \uac19\uc774 \ud558\uba74 \ub428"
     ]
    },
    {
     "cell_type": "code",
     "collapsed": false,
     "input": [
      "# mypackage/A/spam.py\n",
      "\n",
      "from . import grok"
     ],
     "language": "python",
     "metadata": {},
     "outputs": []
    },
    {
     "cell_type": "markdown",
     "metadata": {},
     "source": [
      "- \ub3d9\uc77c\ud55c \ubaa8\ub4c8\uc774 \ub2e4\ub978 \ub514\ub809\ud1a0\ub9ac\uc5d0 \uc788\ub294 B.bar \ubaa8\ub4c8\uc744 \uc784\ud3ec\ud2b8\ud558\uace0 \uc2f6\uc73c\uba74 \ub2e4\uc74c\uacfc \uac19\uc774 \ud568"
     ]
    },
    {
     "cell_type": "code",
     "collapsed": false,
     "input": [
      "# mypackage/A/spam.py\n",
      "\n",
      "from ..B import bar"
     ],
     "language": "python",
     "metadata": {},
     "outputs": []
    },
    {
     "cell_type": "markdown",
     "metadata": {},
     "source": [
      "- 2 \ubc29\uc2dd \ubaa8\ub450 spam.py \ud30c\uc77c\uc5d0 \uc0c1\ub300\uc801\uc778 \uacbd\ub85c\ub85c \uc811\uadfc\ud558\uace0 \uc0c1\uc704 \ub808\ubca8 \ud328\ud0a4\uc9c0 \uc774\ub984\uc744 \uc0ac\uc6a9\ud558\uc9c0 \uc54a\uc558\ub2e4."
     ]
    },
    {
     "cell_type": "markdown",
     "metadata": {},
     "source": [
      "### \ud1a0\ub860\n",
      "\n",
      "- \ud328\ud0a4\uc9c0 \ub0b4\ubd80\uc5d0\uc11c \ub3d9\uc77c\ud55c \ud328\ud0a4\uc9c0\uc758 \ubaa8\ub4c8\uc744 \uc784\ud3ec\ud2b8\ud560 \ub54c \uc808\ub300 \uacbd\ub85c\ub97c \ubaa8\ub450 \uba85\uc2dc\ud574\ub3c4 \ub418\uace0, \uc55e\uc758 \uc608\uc81c\uc5d0 \ub098\uc628\ub300\ub85c \uc0c1\ub300 \uacbd\ub85c\ub97c \uc0ac\uc6a9\ud574\ub3c4 \ub41c\ub2e4."
     ]
    },
    {
     "cell_type": "code",
     "collapsed": false,
     "input": [
      "# mypackage/A/spam.py\n",
      "\n",
      "from mypackage.A import grok\n",
      "from . import grok\n",
      "import grok # Error(\ucc3e\uc744 \uc218 \uc5c6\uc74c))"
     ],
     "language": "python",
     "metadata": {},
     "outputs": [],
     "prompt_number": 106
    },
    {
     "cell_type": "markdown",
     "metadata": {},
     "source": [
      "- mypckage.A\uc640 \uac19\uc774 \uc808\ub300 \uacbd\ub85c\ub97c \uc0ac\uc6a9\ud558\uba74 \uc18c\uc2a4 \ucf54\ub4dc\uc5d0 \uc0c1\uc704 \ub808\ubca8 \ud328\ud0a4\uc9c0 \uc774\ub984\uc744 **\ud558\ub4dc\ucf54\ub529**\ud55c\ub2e4\ub294 \ub2e8\uc810\uc774 \uc0dd\uae40\n",
      "- \ub530\ub77c\uc11c \ucf54\ub4dc\uc758 \uc548\uc815\uc131\uc774 \ub5a8\uc5b4\uc9c0\uace0 \uad6c\uc870\ub97c \ubc14\uafb8\uae30\ub77c\ub3c4 \ud55c\ub2e4\uba74 \ud6e8\uc52c \uc5b4\ub824\uc6b4 \uc791\uc5c5\uc744 \ud574\uc57c \ud55c\ub2e4.\n",
      "- \uc608\ub97c \ub4e4\uc5b4 \ud328\ud0a4\uc9c0\uc758 \uc774\ub984\uc744 \ubc14\uafb8\ub294 \uacbd\uc6b0\uc5d0 \ubaa8\ub4e0 \ud30c\uc77c\uc744 \uc77c\uc77c\uc774 \uc5f4\uc5b4\uc11c \uc18c\uc2a4\ucf54\ub4dc\ub97c \uc218\uc815\ud574\uc57c \ud55c\ub2e4.\n",
      "- \uc774\uc640 \uc720\uc0ac\ud558\uac8c \ud558\ub4dc\ucf54\ub529\ud55c \uc774\ub984\uc740 \ub2e4\ub978 \uc0ac\ub78c\uc774 \ucf54\ub4dc\ub97c \uc62e\uae38 \ub54c\ub3c4 \uc5b4\ub824\uc6c0\uc744 \uc57c\uae30\ud568\n",
      "- \ub204\uad70\uac00 \ub450 \ud328\ud0a4\uc9c0\uc758 \uc11c\ub85c \ub2e4\ub978 \ubc84\uc804\uc744 \uc124\uce58\ud558\uba70 \uc774\ub984\uc73c\ub85c\ub9cc \uad6c\ubd84\ud558\uba74 \uc0c1\ub300 \uacbd\ub85c\ub294 \uadf8\ub300\ub85c \uc798 \ub3d9\uc791\ud558\uc9c0\ub9cc \uc808\ub300 \uacbd\ub85c\ub97c \ubaa8\ub4e0 \uac83\uc774 \ubb38\uc81c\uac00 \ub428\n",
      "\n",
      "\n",
      "- .: \ud604\uc7ac \ub514\ub809\ud1a0\ub9ac\n",
      "- ..: \uc0c1\uc704 \ub514\ub809\ud1a0\ub9ac\n",
      "- \uc774 \uad6c\ubb38\uc740 \uc784\ud3ec\ud2b8\uc758 from \uad6c\ubb38\uc5d0\ub9cc \ub3d9\uc791\ud568\n",
      "\n",
      "\n",
      "- \uc0c1\ub300 \uc784\ud3ec\ud2b8\ub97c \uc0ac\uc6a9\ud574\uc11c \ud30c\uc77c \uc2dc\uc2a4\ud15c\uc744 \uc5ec\uae30 \uc800\uae30 \uc5f4\uc5b4\ubcfc \uc218 \uc788\uc744 \uac83 \uac19\uc774 \ub290\uaef4\uc9c0\uaca0\uc9c0\ub9cc, \ud328\ud0a4\uc9c0\ub97c \uc815\uc758\ud55c \ub514\ub809\ud1a0\ub9ac\ub97c \ubc97\uc5b4\ub098\ub294 \uac83\uc740 \ubd88\uac00\ub2a5\n",
      "- \uc810\uc744 \ubd99\uc778 \uc774\ub984\uc73c\ub85c \ud328\ud0a4\uc9c0\uac00 \uc544\ub2cc \ub514\ub809\ud1a0\ub9ac\uc5d0 \uc811\uadfc\ud574\uc11c \ud30c\uc77c\uc744 \uc784\ud3ec\ud2b8\ud558\ub294 \uc0c1\ud669\uc744 \ubc29\uc9c0\ud558\uae30 \uc704\ud568\n",
      "\n",
      "\n",
      "- \ub9c8\uc9c0\ub9c9\uc73c\ub85c, \uc0c1\ub300 \uacbd\ub85c\ub85c \uc784\ud3ec\ud2b8\ud558\uae30\ub294 \uc62c\ubc14\ub978 \ud328\ud0a4\uc9c0 \ub0b4\ubd80\uc5d0 \uc704\uce58\ud55c \ubaa8\ub4c8\uc5d0\ub9cc \ub3d9\uc791\ud55c\ub2e4\ub294 \uc810 \uae30\uc5b5\n",
      "- \uc815\ud655\ud788 \ub9d0\ud574\uc11c \uc0c1\uc704 \ub808\ubca8 \uc2a4\ud06c\ub9bd\ud2b8\uc5d0 \uc788\ub294 \uac04\ub2e8\ud55c \ubaa8\ub4c8\uc5d0\ub294 \uc0ac\uc6a9\ud560 \uc218 \uc5c6\uc74c\n",
      "- \uadf8\ub9ac\uace0 \ud328\ud0a4\uc9c0\uc758 \uc77c\ubd80\uac00 \uc2a4\ud06c\ub9bd\ud2b8\ub3c4 \uc9c1\uc811 \uc2e4\ud589\ub418\ub294 \uacbd\uc6b0\uc5d0\ub3c4 \uc0ac\uc6a9\ud560 \uc218 \uc5c6\uc74c"
     ]
    },
    {
     "cell_type": "code",
     "collapsed": false,
     "input": [
      "# \uc0c1\ub300\uc801 \uc784\ud3ec\ud2b8\uac00 \uc2e4\ud328\ud568\n",
      "!python mypackage/A/spam.py"
     ],
     "language": "python",
     "metadata": {},
     "outputs": [],
     "prompt_number": 109
    },
    {
     "cell_type": "code",
     "collapsed": false,
     "input": [
      "# \uc0c1\ub300\uc801 \uc784\ud3ec\ud2b8\uac00 \ub3d9\uc791\n",
      "!python -m mypackage.A.spam"
     ],
     "language": "python",
     "metadata": {},
     "outputs": [],
     "prompt_number": 111
    },
    {
     "cell_type": "markdown",
     "metadata": {},
     "source": [
      "- \uc0c1\ub300\uc801 \ud328\ud0a4\uc9c0 \uc784\ud3ec\ud2b8 [PEP 328](http://legacy.python.org/dev/peps/pep-0328/)"
     ]
    },
    {
     "cell_type": "markdown",
     "metadata": {},
     "source": [
      "## 10.4 \ubaa8\ub4c8\uc744 \uc5ec\ub7ec \ud30c\uc77c\ub85c \ub098\ub204\uae30\n",
      "\n",
      "### \ubb38\uc81c\n",
      "\n",
      "- \uc5ec\ub7ec \ud30c\uc77c\ub85c \ub098\ub204\uace0 \uc2f6\uc740 \ubaa8\ub4c8\uc774 \uc788\ub2e4. \ud558\uc9c0\ub9cc \uae30\uc874 \ucf54\ub4dc\ub97c \uae68\uc9c0 \uc54a\uace0 \ubcc4\ub3c4\uc758 \ud30c\uc77c\uc744 \ud558\ub098\uc758 \ubaa8\ub4c8\ub85c \uc720\uc9c0\ud558\uace0 \uc2f6\ub2e4.\n",
      "\n",
      "### \ud574\uacb0\n",
      "\n",
      "- \ud504\ub85c\uadf8\ub7a8 \ubaa8\ub4c8\uc744 \ud328\ud0a4\uc9c0\ub85c \ubcc0\ud658\ud558\uba74 \uc5ec\ub7ec \ud30c\uc77c\ub85c \ub098\ub20c \uc218 \uc788\uc74c"
     ]
    },
    {
     "cell_type": "code",
     "collapsed": false,
     "input": [
      "# mymodule.py\n",
      "\n",
      "class A:\n",
      "    def spam(self):\n",
      "        print('A.spam')\n",
      "        \n",
      "class B(A):\n",
      "    def bar(self):\n",
      "        print('B.bar')"
     ],
     "language": "python",
     "metadata": {},
     "outputs": [],
     "prompt_number": 113
    },
    {
     "cell_type": "markdown",
     "metadata": {},
     "source": [
      "- mymodule.py \ud30c\uc77c\uc744 2\uac1c\ub85c \ub098\ub204\uace0 \ud30c\uc77c\ub9c8\ub2e4 \ud074\ub798\uc2a4 \uc815\uc758\ub97c \ub123\uace0 \uc2f6\ub2e4\uba74 \uc5b4\ub5bb\uac8c \ud574\uc57c \ud560\uae4c?\n",
      "- \uc6b0\uc120 mymodule.py \ud30c\uc77c\uc744 mymodule \ub514\ub809\ud1a0\ub9ac\ub85c \uce58\ud658\n",
      "- \uadf8\ub9ac\uace0 \uadf8 \ub514\ub809\ud1a0\ub9ac\uc5d0 \ub2e4\uc74c\uacfc \uac19\uc774 \ud30c\uc77c\uc744 \uc0dd\uc131\ud568"
     ]
    },
    {
     "cell_type": "code",
     "collapsed": false,
     "input": [
      "!tree mymodule/"
     ],
     "language": "python",
     "metadata": {},
     "outputs": [
      {
       "output_type": "stream",
       "stream": "stdout",
       "text": [
        "mymodule/\r\n",
        "\u251c\u2500\u2500 __init__.py\r\n",
        "\u251c\u2500\u2500 a.py\r\n",
        "\u2514\u2500\u2500 b.py\r\n",
        "\r\n",
        "0 directories, 3 files\r\n"
       ]
      }
     ],
     "prompt_number": 119
    },
    {
     "cell_type": "code",
     "collapsed": false,
     "input": [
      "%%writefile mymodule/a.py\n",
      "class A:\n",
      "    def spam(self):\n",
      "        print('A.spam')"
     ],
     "language": "python",
     "metadata": {},
     "outputs": [
      {
       "output_type": "stream",
       "stream": "stdout",
       "text": [
        "Overwriting mymodule/a.py\n"
       ]
      }
     ],
     "prompt_number": 120
    },
    {
     "cell_type": "code",
     "collapsed": false,
     "input": [
      "%%writefile mymodule/b.py\n",
      "from .a import A\n",
      "\n",
      "class B(A):\n",
      "    def bar(self):\n",
      "        print('B.bar')"
     ],
     "language": "python",
     "metadata": {},
     "outputs": [
      {
       "output_type": "stream",
       "stream": "stdout",
       "text": [
        "Overwriting mymodule/b.py\n"
       ]
      }
     ],
     "prompt_number": 121
    },
    {
     "cell_type": "code",
     "collapsed": false,
     "input": [
      "%%writefile mymodule/__init__.py\n",
      "from .a import A\n",
      "from .b import B"
     ],
     "language": "python",
     "metadata": {},
     "outputs": [
      {
       "output_type": "stream",
       "stream": "stdout",
       "text": [
        "Overwriting mymodule/__init__.py\n"
       ]
      }
     ],
     "prompt_number": 122
    },
    {
     "cell_type": "markdown",
     "metadata": {},
     "source": [
      "- \uc55e\uc5d0 \ub098\uc628 \ub2e8\uacc4\ub97c \uc218\ud589\ud558\uace0 \ub098\uba74 \ud558\ub098\uc758 \ubaa8\ub4c8\ub85c mymodule \ud328\ud0a4\uc9c0\uac00 \ub098\ud0c0\ub0a8"
     ]
    },
    {
     "cell_type": "code",
     "collapsed": false,
     "input": [
      "import mymodule"
     ],
     "language": "python",
     "metadata": {},
     "outputs": [],
     "prompt_number": 123
    },
    {
     "cell_type": "code",
     "collapsed": false,
     "input": [
      "a = mymodule.A()"
     ],
     "language": "python",
     "metadata": {},
     "outputs": [],
     "prompt_number": 124
    },
    {
     "cell_type": "code",
     "collapsed": false,
     "input": [
      "a.spam()"
     ],
     "language": "python",
     "metadata": {},
     "outputs": [
      {
       "output_type": "stream",
       "stream": "stdout",
       "text": [
        "A.spam\n"
       ]
      }
     ],
     "prompt_number": 125
    },
    {
     "cell_type": "code",
     "collapsed": false,
     "input": [
      "b = mymodule.B()"
     ],
     "language": "python",
     "metadata": {},
     "outputs": [],
     "prompt_number": 126
    },
    {
     "cell_type": "code",
     "collapsed": false,
     "input": [
      "b.bar()"
     ],
     "language": "python",
     "metadata": {},
     "outputs": [
      {
       "output_type": "stream",
       "stream": "stdout",
       "text": [
        "B.bar\n"
       ]
      }
     ],
     "prompt_number": 127
    },
    {
     "cell_type": "markdown",
     "metadata": {},
     "source": [
      "### \ud1a0\ub860\n",
      "\n",
      "- \uc774\ubc88 \ub808\uc2dc\ud53c\uc5d0\uc11c \uac00\uc7a5 \uc911\uc694\ud55c \ubd80\ubd84\uc740 \uc0ac\uc6a9\uc790\uac00 \uc218\ub9ce\uc740 \uc791\uc740 \ubaa8\ub4c8\uc744 \uac00\uc9c0\uace0 \uc791\uc5c5\ud558\uac8c \ud560\uc9c0, \uc544\ub2c8\uba74 \ud558\ub098\uc758 \ubaa8\ub4c8\ub9cc \uc0ac\uc6a9\ud558\uac8c \ud560\uc9c0\ub97c \ub514\uc790\uc778 \uce21\uba74\uc5d0\uc11c \uacb0\uc815\ud558\ub294 \uac83\n",
      "- \uc608\ub97c \ub4e4\uc5b4 \ubc29\ub300\ud55c \ucf54\ub4dc \ubca0\uc774\uc2a4\uc5d0\uc11c \ubaa8\ub4e0 \uac83\uc744 \ubcc3\ub863\uc758 \ud30c\uc77c\ub85c \ub098\ub204\uace0 \uc0ac\uc6a9\uc790\uac00 \ub2e4\uc74c\uacfc \uac19\uc774 \uc218\ub9ce\uc740 import \uad6c\ubb38\uc744 \uc4f0\uac8c \ub9cc\ub4e4 \uc218 \uc788\uc74c"
     ]
    },
    {
     "cell_type": "markdown",
     "metadata": {},
     "source": [
      "    from mymodule.a import A\n",
      "    from mymodule.b import B"
     ]
    },
    {
     "cell_type": "markdown",
     "metadata": {},
     "source": [
      "- \uc774\ub807\uac8c \ud574\ub3c4 \ub3d9\uc791\uc740 \ud558\uc9c0\ub9cc \uc0ac\uc6a9\uc790\uc758 \ubd80\ub2f4\uc774 \ucee4\uc9c4\ub2e4\ub294 \ub2e8\uc810 \uc874\uc7ac\n",
      "- \ub2e4\uc74c\uacfc \uac19\uc774 import \uad6c\ubb38\uc744 \ud558\ub098\ub9cc \uc0ac\uc6a9\ud574\uc11c \uc784\ud3ec\ud2b8\ud558\ub294 \uac04\ud3b8\ud55c \ubc29\ubc95\ub3c4 \uc874\uc7ac"
     ]
    },
    {
     "cell_type": "markdown",
     "metadata": {},
     "source": [
      "    from mymodule import A, B"
     ]
    },
    {
     "cell_type": "markdown",
     "metadata": {},
     "source": [
      "- \ud6c4\uc790\uc758 \uacbd\uc6b0, mymodule\uc744 \ud558\ub098\uc758 \ucee4\ub2e4\ub780 \uc18c\uc2a4 \ud30c\uc77c\ub85c \uc0dd\uac01\ud558\ub294 \uac83\uc774 \uc77c\ubc18\uc801\n",
      "- \ud558\uc9c0\ub9cc \uc774 \ub808\uc2dc\ud53c\ub294 \uc5ec\ub7ec \ud30c\uc77c\uc744 \ud569\uccd0\uc11c \ud558\ub098\uc758 \ub124\uc784\uc2a4\ud398\uc774\uc2a4\ub85c \ub9cc\ub4dc\ub294 \ubc29\ubc95\uc744 \ub2e4\ub8e8\uc5c8\uc74c\n",
      "- \uc774\ub807\uac8c \ud558\uae30\uc704\ud574\uc11c \ud328\ud0a4\uc9c0 \ub514\ub809\ud1a0\ub9ac\ub97c \ud558\ub098 \ub9cc\ub4e4\uace0 \\_\\_init\\_\\_.py \ud30c\uc77c\ub85c \ud569\uce58\ub294 \uac83\uc774 \ud575\uc2ec\n",
      "\n",
      "\n",
      "- \ubaa8\ub4c8\uc744 \ub098\ub204\uba74 \uc11c\ub85c\ub97c \ucc38\uc870\ud558\ub294 \uacbd\uc6b0\uc5d0 \uc8fc\uc758\ub97c \uae30\uc6b8\uc5ec\uc57c \ud568\n",
      "- \uc608\ub97c \ub4e4\uc5b4 \uc774\ubc88 \ub808\uc2dc\ud53c\uc5d0\uc11c B\ud074\ub798\uc2a4\ub294 \ubca0\uc774\uc2a4 \ud074\ub798\uc2a4 A\uc5d0 \uc811\uadfc\ud574\uc57c \ud568\n",
      "- \ud328\ud0a4\uc9c0 \uc0c1\ub300\uc801 \uc784\ud3ec\ud2b8 from .a import A\ub85c \uc774\uac83\uc744 \uc5bb\uc74c\n",
      "\n",
      "\n",
      "- \uc774\ubc88 \ub808\uc2dc\ud53c\uc5d0\uc11c\ub294 \uc0c1\uc704 \ub808\ubca8 \uc774\ub984\uc5d0 \uc811\uadfc\ud560 \ub54c \ud558\ub4dc\ucf54\ub529\uc744 \ud53c\ud558\uae30 \uc704\ud574 **\ud328\ud0a4\uc9c0 \uc0c1\ub300\uc801 \uc784\ud3ec\ud2b8**\ub97c \uc0ac\uc6a9\n",
      "- \uc774 \ubc29\uc2dd\uc740 \ucd94\ud6c4 **\ubaa8\ub4c8 \uc774\ub984 \ubcc0\uacbd**\uc774\ub098 **\ucf54\ub4dc \uc774\ub3d9**\uc5d0 **\uc774\uc810**. \ub808\uc2dc\ud53c 10.3 \ucc38\uace0\n",
      "\n",
      "\n",
      "- \ub808\uc2dc\ud53c \ub0b4\uc6a9\uc744 \ud655\uc7a5\ud574 lazy \uc784\ud3ec\ud2b8\ub97c \uc218\ud589\ud560 \uc218\ub3c4 \uc788\uc74c\n",
      "- \\_\\_init\\_\\_.py \ud30c\uc77c\uc740 \ud544\uc694\ud55c \ubaa8\ub4e0 \ubd80\ud488\uc744 \ud55c \ubc88\uc5d0 \uc784\ud3ec\ud2b8 \ud568\n",
      "- \ud558\uc9c0\ub9cc \uc544\uc8fc \ud070 \ubaa8\ub4c8\uc758 \uacbd\uc6b0 \ud544\uc694\ud55c \uacbd\uc6b0\uc5d0\ub9cc \ubd80\ud488\uc744 \ubd88\ub7ec\uc624\uace0 \uc2f6\uc744 \uac83"
     ]
    },
    {
     "cell_type": "code",
     "collapsed": false,
     "input": [
      "%%writefile mymodule/__init__.py\n",
      "def A():\n",
      "    from .a import A\n",
      "    return A()\n",
      "\n",
      "def B():\n",
      "    from .b import B\n",
      "    return B()"
     ],
     "language": "python",
     "metadata": {},
     "outputs": [
      {
       "output_type": "stream",
       "stream": "stdout",
       "text": [
        "Overwriting mymodule/__init__.py\n"
       ]
      }
     ],
     "prompt_number": 132
    },
    {
     "cell_type": "markdown",
     "metadata": {},
     "source": [
      "- \uc774\ubc88 \ubc84\uc804\uc5d0\uc11c A\uc640 B \ud074\ub798\uc2a4\ub294 \ucc98\uc74c \uc811\uadfc\ud588\uc744 \ub54c \uc6d0\ud558\ub294 \ud074\ub798\uc2a4\ub97c \ubd88\ub7ec\uc624\ub294 \ud568\uc218\ub85c \uce58\ud658\ud588\uc74c. \uc0ac\uc6a9\uc790\uc5d0\uac8c\ub294 \ubcc4\ub2e4\ub978 \ucc28\uc774\uc810\uc774 \uc5c6\ub2e4."
     ]
    },
    {
     "cell_type": "code",
     "collapsed": false,
     "input": [
      "del mymodule"
     ],
     "language": "python",
     "metadata": {},
     "outputs": [],
     "prompt_number": 136
    },
    {
     "cell_type": "code",
     "collapsed": false,
     "input": [
      "import mymodule\n",
      "a = mymodule.A()\n",
      "a.spam()"
     ],
     "language": "python",
     "metadata": {},
     "outputs": [
      {
       "output_type": "stream",
       "stream": "stdout",
       "text": [
        "A.spam\n"
       ]
      }
     ],
     "prompt_number": 137
    },
    {
     "cell_type": "markdown",
     "metadata": {},
     "source": [
      "- \uac8c\uc73c\ub978 \ub85c\ub529\uc740 \uc0c1\uc18d\uacfc \ud0c0\uc785 \ud655\uc778\uacfc \uac19\uc740 \ucf54\ub4dc\uc5d0\uc11c \ubb38\uc81c\uac00 \ub41c\ub2e4\ub294 \ub2e8\uc810\uc774 \uc788\uc74c\n",
      "- \uc608\ub97c \ub4e4\uc5b4 \ub2e4\uc74c\uacfc \uac19\uc774 \ucf54\ub4dc\ub97c \uc870\uae08 \ub354 \uc218\uc815\ud574\uc57c \ud568"
     ]
    },
    {
     "cell_type": "code",
     "collapsed": false,
     "input": [
      "# Error\n",
      "# if isinstance(x, mymodule.A):\n",
      "#     pass\n",
      "\n",
      "# Ok\n",
      "# if isinstance(x, mymodule.a.A):\n",
      "#     pass"
     ],
     "language": "python",
     "metadata": {},
     "outputs": [],
     "prompt_number": 139
    },
    {
     "cell_type": "markdown",
     "metadata": {},
     "source": [
      "- \uc2e4\uc81c\ub85c \uac8c\uc73c\ub978 \ub85c\ub529\uc744 \ud558\ub294 \uc608\uc81c\ub97c \ubcf4\ub824\uba74 \ud45c\uc900 \ub77c\uc774\ube0c\ub7ec\ub9ac\uc758 [multiprocessing/\\_\\_init\\_\\_.py](http://svn.python.org/projects/python/branches/release26-maint/Lib/multiprocessing/__init__.py) \ud30c\uc77c \ucc38\uace0"
     ]
    },
    {
     "cell_type": "markdown",
     "metadata": {},
     "source": [
      "## 10.5 \uacf5\ud1b5\ub41c \ub124\uc784\uc2a4\ud398\uc774\uc2a4\uc5d0 \ucf54\ub4dc \uc784\ud3ec\ud2b8 \ub514\ub809\ud1a0\ub9ac \ub9cc\ub4e4\uae30\n",
      "\n",
      "### \ubb38\uc81c\n",
      "\n",
      "- \uc5ec\ub7ec \uc0ac\ub78c\uc774 \uad00\ub9ac\ud558\uace0 \ubc30\ud3ec\ud574\uc57c \ud558\ub294 \ucee4\ub2e4\ub780 \ucf54\ub4dc\uac00 \uc788\ub2e4.\n",
      "- \ubaa8\ub4e0 \ubd80\ubd84\uc740 \ud30c\uc77c\uc758 \ub514\ub809\ud1a0\ub9ac\ub85c \uad6c\uc131\ub418\uc5b4 \uc788\uc74c\n",
      "- \ud558\uc9c0\ub9cc \uac01 \ubd80\ubd84\uc744 \ubcc4\ub3c4\uc758 \uc774\ub984\uc788\ub294 \ud328\ud0a4\uc9c0\ub85c \uc124\uce58\ud558\uc9c0 \uc54a\uace0 \ubaa8\ub4e0 \ubd80\ubd84\uc744 \uacf5\ud1b5\ub41c \ud328\ud0a4\uc9c0 \uc811\ub450\uc5b4\ub85c \ud569\uce58\uace0 \uc2f6\ub2e4.\n",
      "\n",
      "### \ud574\uacb0\n",
      "\n",
      "- \uc6b0\uc120, \uc774 \ubb38\uc81c\ub97c \ud574\uacb0\ud558\uae30 \uc704\ud574\uc11c \ubcc4\ub3c4\ub85c \uad00\ub9ac\ub418\ub294 \uc11c\ube0c\ud328\ud0a4\uc9c0\uc5d0 \ub300\ud55c \ub124\uc784\uc2a4\ud398\uc774\uc2a4\ub85c \ub3d9\uc791\ud558\ub294 \uc0c1\uc704 \ub808\ubca8 \ud30c\uc774\uc36c \ud328\ud0a4\uc9c0\ub97c \uc815\uc758\ud574\uc57c \ud568.\n",
      "- \uc774\ub7f0 \ubb38\uc81c\ub294 \ucee4\ub2e4\ub780 \uc560\ud50c\ub9ac\ucf00\uc774\uc158 \ud504\ub808\uc784\uc6cc\ud06c\uc5d0\uc11c \uc0ac\uc6a9\uc790\uac00 \uc9c1\uc811 \ud50c\ub7ec\uadf8\uc778\uc774\ub098 add-on\uc744 \ubc30\ud3ec\ud558\ub3c4\ub85d \ud558\uace0 \uc2f6\uc744 \ub54c \uc885\uc885 \ubc1c\uc0dd\ud568\n",
      "\n",
      "\n",
      "- \ubcc4\ub3c4\uc758 \ub514\ub809\ud1a0\ub9ac\ub97c \uacf5\ud1b5\ub41c \ub124\uc784\uc2a4\ud398\uc774\uc2a4\ub85c \ud569\uce58\uae30 \uc704\ud574\uc11c\ub294, \ubcf4\ud1b5 \ud30c\uc774\uc36c \ud328\ud0a4\uc9c0\uc640 \uac19\uc740 \ucf54\ub4dc\ub97c \uad6c\uc131\ud574\uc57c \ud558\ub294\ub370, \uc694\uc18c\ub97c \ud569\uce58\ub824\uace0 \ud558\ub294 \ub514\ub809\ud1a0\ub9ac\uc5d0\ub294 \\_\\_init\\_\\_.py \ud30c\uc77c\uc744 \uc0dd\ub7b5\ud574\uc57c \ud568\n",
      "- \uc774\ud574\ub97c \ub3d5\uae30 \uc704\ud574 \ub2e4\uc74c\uacfc \uac19\uc774 2\uac1c\uc758 \ud30c\uc774\uc36c \ucf54\ub4dc \ub514\ub809\ud1a0\ub9ac\uac00 \uc788\ub2e4\uace0 \uac00\uc815\ud574 \ubcf4\uc790."
     ]
    },
    {
     "cell_type": "code",
     "collapsed": false,
     "input": [
      "!tree foo-package/"
     ],
     "language": "python",
     "metadata": {},
     "outputs": [
      {
       "output_type": "stream",
       "stream": "stdout",
       "text": [
        "foo-package/\r\n",
        "\u2514\u2500\u2500 spam\r\n",
        "    \u2514\u2500\u2500 blah.py\r\n",
        "\r\n",
        "1 directory, 1 file\r\n"
       ]
      }
     ],
     "prompt_number": 144
    },
    {
     "cell_type": "code",
     "collapsed": false,
     "input": [
      "!tree bar-package/"
     ],
     "language": "python",
     "metadata": {},
     "outputs": [
      {
       "output_type": "stream",
       "stream": "stdout",
       "text": [
        "bar-package/\r\n",
        "\u2514\u2500\u2500 spam\r\n",
        "    \u2514\u2500\u2500 grok.py\r\n",
        "\r\n",
        "1 directory, 1 file\r\n"
       ]
      }
     ],
     "prompt_number": 145
    },
    {
     "cell_type": "markdown",
     "metadata": {},
     "source": [
      "- \uc774 \ub514\ub809\ud1a0\ub9ac\uc5d0 spam\uc774 \uacf5\ud1b5 \ub124\uc784\uc2a4\ud398\uc774\uc2a4\ub85c \uc0ac\uc6a9\ub428\n",
      "- \ubaa8\ub4e0 \ub514\ub809\ud1a0\ub9ac\uc5d0 \\_\\_init\\_\\_.py \ud30c\uc77c\uc774 \uc5c6\uc74c\uc5d0 \uc8fc\ubaa9\n",
      "\n",
      "\n",
      "- \uc774\uc81c foo-package\uc640 bar-package\ub97c \ud30c\uc774\uc36c \ubaa8\ub4c8 \uacbd\ub85c\uc5d0 \ucd94\uac00\ud588\uc744 \ub54c \uc5b4\ub5a4 \uc77c\uc774 \uc0dd\uae30\ub294\uc9c0 \uc0b4\ud3b4\ubcf4\uc790"
     ]
    },
    {
     "cell_type": "code",
     "collapsed": false,
     "input": [
      "import sys\n",
      "sys.path.extend(['foo-package', 'bar-package'])"
     ],
     "language": "python",
     "metadata": {},
     "outputs": [],
     "prompt_number": 148
    },
    {
     "cell_type": "code",
     "collapsed": false,
     "input": [
      "import spam.blah"
     ],
     "language": "python",
     "metadata": {},
     "outputs": [],
     "prompt_number": 149
    },
    {
     "cell_type": "code",
     "collapsed": false,
     "input": [
      "import spam.grok"
     ],
     "language": "python",
     "metadata": {},
     "outputs": [],
     "prompt_number": 150
    },
    {
     "cell_type": "code",
     "collapsed": false,
     "input": [
      "sys.path"
     ],
     "language": "python",
     "metadata": {},
     "outputs": [
      {
       "metadata": {},
       "output_type": "pyout",
       "prompt_number": 151,
       "text": [
        "['',\n",
        " '/Users/re4lfl0w/Documents/ipython_private/scripts',\n",
        " '/Users/re4lfl0w/virtualenv/python3_test/lib/python34.zip',\n",
        " '/Users/re4lfl0w/virtualenv/python3_test/lib/python3.4',\n",
        " '/Users/re4lfl0w/virtualenv/python3_test/lib/python3.4/plat-darwin',\n",
        " '/Users/re4lfl0w/virtualenv/python3_test/lib/python3.4/lib-dynload',\n",
        " '/usr/local/Cellar/python3/3.4.1/Frameworks/Python.framework/Versions/3.4/lib/python3.4',\n",
        " '/usr/local/Cellar/python3/3.4.1/Frameworks/Python.framework/Versions/3.4/lib/python3.4/plat-darwin',\n",
        " '/Users/re4lfl0w/virtualenv/python3_test/lib/python3.4/site-packages',\n",
        " '/Users/re4lfl0w/virtualenv/python3_test/lib/python3.4/site-packages/IPython/extensions',\n",
        " '/Users/re4lfl0w/.ipython',\n",
        " '/Users/re4lfl0w/Documents/ipython_private/scripts/',\n",
        " 'foo-package',\n",
        " 'bar-package']"
       ]
      }
     ],
     "prompt_number": 151
    },
    {
     "cell_type": "markdown",
     "metadata": {},
     "source": [
      "- \ubcf4\uc774\ub294 \uac83\ucc98\ub7fc, \ub9c8\uce58 \ub9c8\ubc95\ucc98\ub7fc \ub450 \ud328\ud0a4\uc9c0 \ub514\ub809\ud1a0\ub9ac\uac00 \ud558\ub098\ub85c \ud569\uccd0\uc9c0\uace0 spam.blah\ub098 spam.grok\uc744 \uc784\ud3ec\ud2b8\ud560 \uc218 \uc788\ub2e4."
     ]
    },
    {
     "cell_type": "markdown",
     "metadata": {},
     "source": [
      "### \ud1a0\ub860\n",
      "\n",
      "- \uc5ec\uae30\uc5d0 \ub098\uc628 \uae30\ub2a5\uc740 namespace package \ub77c \ubd88\ub9b0\ub2e4.\n",
      "- \ub124\uc784\uc2a4\ud398\uc774\uc2a4 \ud328\ud0a4\uc9c0\ub294 \ud2b9\ubcc4\ud55c \uc885\ub958\uc758 \ud328\ud0a4\uc9c0\ub85c\uc11c, \uc11c\ub85c \ub2e4\ub978 \ucf54\ub4dc \ub514\ub809\ud1a0\ub9ac\ub97c \ud558\ub098\uc758 \ub124\uc784\uc2a4\ud398\uc774\uc2a4\ub85c \ud569\uce58\ub294 \uc5ed\ud560\uc744 \ud568\n",
      "- \ubc29\ub300\ud55c \ud504\ub808\uc784\uc6cc\ud06c\uc5d0\uc11c \uc774 \uae30\ub2a5\uc774 \uc720\uc6a9\ud55c\ub370, \ud504\ub808\uc784\uc6cc\ud06c\uc758 \uc5ec\ub7ec \ubd80\ubd84\uc744 \ubcc4\ub3c4\uc758 \ub514\ub809\ud1a0\ub9ac\uc5d0 \uc124\uce58\ud560 \uc218 \uc788\uae30 \ub54c\ubb38\n",
      "- \ub610\ud55c \uc0ac\ub78c\ub4e4\uc774 third-party \uc560\ub4dc\uc628\uc774\ub098 \ud50c\ub7ec\uadf8\uc778\uc744 \ub9cc\ub4e4\uace0 \ubc30\ud3ec\ud558\uae30\ub3c4 \uc27d\ub2e4.\n",
      "\n",
      "\n",
      "- \ub124\uc784\uc2a4\ud398\uc774\uc2a4 \ud328\ud0a4\uc9c0\ub97c \ub9cc\ub4e4 \ub54c \uacf5\ud1b5\ub41c \ub124\uc784\uc2a4\ud398\uc774\uc2a4\uac00 \ub418\ub294 \uc0c1\uc704 \ub808\ubca8 \ub514\ub809\ud1a0\ub9ac\uc5d0 \\_\\_init\\_\\_.py \ud30c\uc77c\uc744 \ub9cc\ub4e4\uc9c0 \uc54a\ub294 \uac83\uc774 \uc911\uc694\ud558\ub2e4.\n",
      "- \\_\\_init\\_\\_.py \ud30c\uc77c\uc744 \ub123\uc9c0 \uc54a\uc73c\uba74 \ud328\ud0a4\uc9c0 \uc784\ud3ec\ud2b8\uc5d0\uc11c \ud765\ubbf8\ub85c\uc6b4 \uc77c\uc774 \uc0dd\uae40\n",
      "- \uc5d0\ub7ec\uac00 \ubc1c\uc0dd\ud558\uc9c0 \uc54a\uace0 \uc778\ud130\ud504\ub9ac\ud130\uac00 \ud328\ud0a4\uc9c0 \uc774\ub984\uc744 \ud3ec\ud568\ud558\ub294 \ubaa8\ub4e0 \ub514\ub809\ud1a0\ub9ac\uc758 \ub9ac\uc2a4\ud2b8\ub97c \uc0dd\uc131\ud558\uae30 \uc2dc\uc791\ud568\n",
      "- \uadf8\ub9ac\uace0 \ud2b9\ubcc4\ud55c \ub124\uc784\uc2a4\ud398\uc774\uc2a4 \ud328\ud0a4\uc9c0 \ubaa8\ub4c8\uc774 \uc0dd\uc131\ub418\uace0 \ub514\ub809\ud1a0\ub9ac\uc758 \uc77d\uae30 \uc804\uc6a9 \ubcf5\uc0ac\ubcf8\uc774 \\_\\_path\\_\\_ \ubcc0\uc218\uc5d0 \uc800\uc7a5\ub428"
     ]
    },
    {
     "cell_type": "code",
     "collapsed": false,
     "input": [
      "import spam"
     ],
     "language": "python",
     "metadata": {},
     "outputs": [],
     "prompt_number": 152
    },
    {
     "cell_type": "code",
     "collapsed": false,
     "input": [
      "spam.__path__"
     ],
     "language": "python",
     "metadata": {},
     "outputs": [
      {
       "metadata": {},
       "output_type": "pyout",
       "prompt_number": 153,
       "text": [
        "_NamespacePath(['foo-package/spam', 'bar-package/spam'])"
       ]
      }
     ],
     "prompt_number": 153
    },
    {
     "cell_type": "markdown",
     "metadata": {},
     "source": [
      "- \\_\\_path\\_\\_\uc5d0 \uc788\ub294 \ub514\ub809\ud1a0\ub9ac\ub294 \ud328\ud0a4\uc9c0 \ubd80\uc18d\uc744 \ucc3e\uc744 \ub54c \uc0ac\uc6a9\ud568(\uc608: spam.grok \uc774\ub098 spam.blah\ub97c \uc784\ud3ec\ud2b8\ud560 \ub54c)\n",
      "- \ub124\uc784\uc2a4\ud398\uc774\uc2a4 \ud328\ud0a4\uc9c0\uc758 \uc911\uc694\ud55c \uae30\ub2a5\uc740 \ub204\uad6c\ub77c\ub3c4 \ub124\uc784\uc2a4\ud398\uc774\uc2a4\ub97c \ud655\uc7a5\ud560 \uc218 \uc788\ub2e4\ub294 \uc810\n",
      "- \uc608\ub97c \ub4e4\uc5b4 \ub2e4\uc74c\uacfc \uac19\uc740 \ucf54\ub4dc \ub514\ub809\ud1a0\ub9ac\ub97c \ub9cc\ub4e4\uc5c8\ub2e4\uace0 \uac00\uc815\ud574 \ubcf4\uc790."
     ]
    },
    {
     "cell_type": "code",
     "collapsed": false,
     "input": [
      "!tree my-package"
     ],
     "language": "python",
     "metadata": {},
     "outputs": [
      {
       "output_type": "stream",
       "stream": "stdout",
       "text": [
        "my-package\r\n",
        "\u2514\u2500\u2500 spam\r\n",
        "    \u2514\u2500\u2500 custom.py\r\n",
        "\r\n",
        "1 directory, 1 file\r\n"
       ]
      }
     ],
     "prompt_number": 156
    },
    {
     "cell_type": "markdown",
     "metadata": {},
     "source": [
      "- \ub9cc\uc57d \uc774 \ucf54\ub4dc\ub97c sys.path\uc5d0 \ub2e4\ub978 \ud328\ud0a4\uc9c0\uc640 \ud568\uaed8 \ucd94\uac00\ud5c0\ub2e4\uba74, \ub2e4\ub978 spam \ud328\ud0a4\uc9c0 \ub514\ub809\ud1a0\ub9ac\uc640 \ub9c8\ucc2c\uac00\uc9c0\ub85c \ud558\ub098\ub85c \ubcd1\ud569\ub428"
     ]
    },
    {
     "cell_type": "code",
     "collapsed": false,
     "input": [
      "sys.path"
     ],
     "language": "python",
     "metadata": {},
     "outputs": [
      {
       "metadata": {},
       "output_type": "pyout",
       "prompt_number": 158,
       "text": [
        "['',\n",
        " '/Users/re4lfl0w/Documents/ipython_private/scripts',\n",
        " '/Users/re4lfl0w/virtualenv/python3_test/lib/python34.zip',\n",
        " '/Users/re4lfl0w/virtualenv/python3_test/lib/python3.4',\n",
        " '/Users/re4lfl0w/virtualenv/python3_test/lib/python3.4/plat-darwin',\n",
        " '/Users/re4lfl0w/virtualenv/python3_test/lib/python3.4/lib-dynload',\n",
        " '/usr/local/Cellar/python3/3.4.1/Frameworks/Python.framework/Versions/3.4/lib/python3.4',\n",
        " '/usr/local/Cellar/python3/3.4.1/Frameworks/Python.framework/Versions/3.4/lib/python3.4/plat-darwin',\n",
        " '/Users/re4lfl0w/virtualenv/python3_test/lib/python3.4/site-packages',\n",
        " '/Users/re4lfl0w/virtualenv/python3_test/lib/python3.4/site-packages/IPython/extensions',\n",
        " '/Users/re4lfl0w/.ipython',\n",
        " '/Users/re4lfl0w/Documents/ipython_private/scripts/',\n",
        " 'foo-package',\n",
        " 'bar-package']"
       ]
      }
     ],
     "prompt_number": 158
    },
    {
     "cell_type": "code",
     "collapsed": false,
     "input": [
      "import spam.custom"
     ],
     "language": "python",
     "metadata": {},
     "outputs": [
      {
       "ename": "ImportError",
       "evalue": "No module named 'spam.custom'",
       "output_type": "pyerr",
       "traceback": [
        "\u001b[0;31m---------------------------------------------------------------------------\u001b[0m\n\u001b[0;31mImportError\u001b[0m                               Traceback (most recent call last)",
        "\u001b[0;32m<ipython-input-157-bfec4a60ec95>\u001b[0m in \u001b[0;36m<module>\u001b[0;34m()\u001b[0m\n\u001b[0;32m----> 1\u001b[0;31m \u001b[0;32mimport\u001b[0m \u001b[0mspam\u001b[0m\u001b[0;34m.\u001b[0m\u001b[0mcustom\u001b[0m\u001b[0;34m\u001b[0m\u001b[0m\n\u001b[0m",
        "\u001b[0;31mImportError\u001b[0m: No module named 'spam.custom'"
       ]
      }
     ],
     "prompt_number": 157
    },
    {
     "cell_type": "code",
     "collapsed": false,
     "input": [
      "sys.path.append('my-package')"
     ],
     "language": "python",
     "metadata": {},
     "outputs": [],
     "prompt_number": 159
    },
    {
     "cell_type": "code",
     "collapsed": false,
     "input": [
      "sys.path"
     ],
     "language": "python",
     "metadata": {},
     "outputs": [
      {
       "metadata": {},
       "output_type": "pyout",
       "prompt_number": 161,
       "text": [
        "['',\n",
        " '/Users/re4lfl0w/Documents/ipython_private/scripts',\n",
        " '/Users/re4lfl0w/virtualenv/python3_test/lib/python34.zip',\n",
        " '/Users/re4lfl0w/virtualenv/python3_test/lib/python3.4',\n",
        " '/Users/re4lfl0w/virtualenv/python3_test/lib/python3.4/plat-darwin',\n",
        " '/Users/re4lfl0w/virtualenv/python3_test/lib/python3.4/lib-dynload',\n",
        " '/usr/local/Cellar/python3/3.4.1/Frameworks/Python.framework/Versions/3.4/lib/python3.4',\n",
        " '/usr/local/Cellar/python3/3.4.1/Frameworks/Python.framework/Versions/3.4/lib/python3.4/plat-darwin',\n",
        " '/Users/re4lfl0w/virtualenv/python3_test/lib/python3.4/site-packages',\n",
        " '/Users/re4lfl0w/virtualenv/python3_test/lib/python3.4/site-packages/IPython/extensions',\n",
        " '/Users/re4lfl0w/.ipython',\n",
        " '/Users/re4lfl0w/Documents/ipython_private/scripts/',\n",
        " 'foo-package',\n",
        " 'bar-package',\n",
        " 'my-package']"
       ]
      }
     ],
     "prompt_number": 161
    },
    {
     "cell_type": "code",
     "collapsed": false,
     "input": [
      "import spam.custom"
     ],
     "language": "python",
     "metadata": {},
     "outputs": [],
     "prompt_number": 160
    },
    {
     "cell_type": "code",
     "collapsed": false,
     "input": [
      "import spam.grok"
     ],
     "language": "python",
     "metadata": {},
     "outputs": [],
     "prompt_number": 162
    },
    {
     "cell_type": "code",
     "collapsed": false,
     "input": [
      "import spam.blah"
     ],
     "language": "python",
     "metadata": {},
     "outputs": [],
     "prompt_number": 163
    },
    {
     "cell_type": "markdown",
     "metadata": {},
     "source": [
      "- \ub514\ubc84\uae45 \ub3c4\uad6c\ub85c\uc130, \uc5b4\ub5a4 \ud328\ud0a4\uc9c0\uac00 \ub124\uc784\uc2a4\ud398\uc774\uc2a4 \ud328\ud0a4\uc9c0\ub85c \ub3d9\uc791\ud558\ub294\uc9c0 \uc54c\uc544\ubcf4\ub294 \ubc29\ubc95\uc740 \\_\\_file\\_\\_ \uc18d\uc131\uc744 \ud655\uc778\ud558\ub294 \uac83\n",
      "- \uc774\uac83\uc744 \ucc3e\uc744 \uc218 \uc5c6\uc73c\uba74 \uc774 \ud328\ud0a4\uc9c0\ub294 \ub124\uc784\uc2a4\ud398\uc774\uc2a4\uc774\ub2e4.\n",
      "- \ub610\ud55c \ud45c\ud604 \ubb38\uc790\uc5f4\uc5d0 \"namespace\" \ub77c\ub294 \ub2e8\uc5b4\ub3c4 \ub098\ud0c0\ub0a8"
     ]
    },
    {
     "cell_type": "code",
     "collapsed": false,
     "input": [
      "spam.__file__"
     ],
     "language": "python",
     "metadata": {},
     "outputs": [
      {
       "ename": "AttributeError",
       "evalue": "'module' object has no attribute '__file__'",
       "output_type": "pyerr",
       "traceback": [
        "\u001b[0;31m---------------------------------------------------------------------------\u001b[0m\n\u001b[0;31mAttributeError\u001b[0m                            Traceback (most recent call last)",
        "\u001b[0;32m<ipython-input-164-745dacaf6c82>\u001b[0m in \u001b[0;36m<module>\u001b[0;34m()\u001b[0m\n\u001b[0;32m----> 1\u001b[0;31m \u001b[0mspam\u001b[0m\u001b[0;34m.\u001b[0m\u001b[0m__file__\u001b[0m\u001b[0;34m\u001b[0m\u001b[0m\n\u001b[0m",
        "\u001b[0;31mAttributeError\u001b[0m: 'module' object has no attribute '__file__'"
       ]
      }
     ],
     "prompt_number": 164
    },
    {
     "cell_type": "code",
     "collapsed": false,
     "input": [
      "spam"
     ],
     "language": "python",
     "metadata": {},
     "outputs": [
      {
       "metadata": {},
       "output_type": "pyout",
       "prompt_number": 165,
       "text": [
        "<module 'spam' (namespace)>"
       ]
      }
     ],
     "prompt_number": 165
    },
    {
     "cell_type": "markdown",
     "metadata": {},
     "source": [
      "- \ud45c\uc900\ub77c\uc774\ube0c\ub7ec\ub9ac import\uc2dc"
     ]
    },
    {
     "cell_type": "code",
     "collapsed": false,
     "input": [
      "import re\n",
      "re.__file__"
     ],
     "language": "python",
     "metadata": {},
     "outputs": [
      {
       "metadata": {},
       "output_type": "pyout",
       "prompt_number": 166,
       "text": [
        "'/Users/re4lfl0w/virtualenv/python3_test/lib/python3.4/re.py'"
       ]
      }
     ],
     "prompt_number": 166
    },
    {
     "cell_type": "code",
     "collapsed": false,
     "input": [
      "re"
     ],
     "language": "python",
     "metadata": {},
     "outputs": [
      {
       "metadata": {},
       "output_type": "pyout",
       "prompt_number": 167,
       "text": [
        "<module 're' from '/Users/re4lfl0w/virtualenv/python3_test/lib/python3.4/re.py'>"
       ]
      }
     ],
     "prompt_number": 167
    },
    {
     "cell_type": "markdown",
     "metadata": {},
     "source": [
      "- \ub124\uc784\uc2a4\ud398\uc774\uc2a4 \ud328\ud0a4\uc9c0\uc5d0 \ub300\ud55c \uc790\uc138\ud55c \ub0b4\uc6a9\uc740 [PEP 420](http://legacy.python.org/dev/peps/pep-0420/)\uc5d0 \ub098\uc634"
     ]
    },
    {
     "cell_type": "markdown",
     "metadata": {},
     "source": [
      "## 10.6 \ubaa8\ub4c8 \ub9ac\ub85c\ub4dc\n",
      "\n",
      "### \ubb38\uc81c\n",
      "\n",
      "- \uc18c\uc2a4 \ucf54\ub4dc\uc5d0 \uc218\uc815\uc744 \ud588\uae30 \ub54c\ubb38\uc5d0 \uc774\ubbf8 \ubd88\ub7ec\uc628 \ubaa8\ub4c8\uc744 \ub2e4\uc2dc \ubd88\ub7ec\uc624\uace0 \uc2f6\ub2e4.\n",
      "\n",
      "### \ud574\uacb0\n",
      "\n",
      "- \uc774\ubbf8 \ubd88\ub7ec\uc628 \ubaa8\ub4c8\uc744 \ub2e4\uc2dc \ubd88\ub7ec\uc624\ub824\uba74 imp.reload()\ub97c \uc0ac\uc6a9\ud568\n",
      "- python 2.7\uc5d0\uc11c\ub294 \uadf8\ub0e5 reload(re) \ud558\uba74 \ub428"
     ]
    },
    {
     "cell_type": "code",
     "collapsed": false,
     "input": [
      "import spam"
     ],
     "language": "python",
     "metadata": {},
     "outputs": [],
     "prompt_number": 171
    },
    {
     "cell_type": "code",
     "collapsed": false,
     "input": [
      "# This module provides the components needed to build your own __import__\n",
      "# function.  Undocumented functions are obsolete.\n",
      "\n",
      "# In most cases it is preferred you consider using the importlib module's\n",
      "# functionality over this module.\n",
      "\n",
      "# help(imp)"
     ],
     "language": "python",
     "metadata": {},
     "outputs": [],
     "prompt_number": 202
    },
    {
     "cell_type": "code",
     "collapsed": false,
     "input": [
      "import imp"
     ],
     "language": "python",
     "metadata": {},
     "outputs": [],
     "prompt_number": 172
    },
    {
     "cell_type": "code",
     "collapsed": false,
     "input": [
      "imp.reload(spam)"
     ],
     "language": "python",
     "metadata": {},
     "outputs": [
      {
       "metadata": {},
       "output_type": "pyout",
       "prompt_number": 173,
       "text": [
        "<module 'spam' (namespace)>"
       ]
      }
     ],
     "prompt_number": 173
    },
    {
     "cell_type": "markdown",
     "metadata": {},
     "source": [
      "### \ud1a0\ub860\n",
      "\n",
      "- \ub514\ubc84\uae45\uc774\ub098 \uac1c\ubc1c \ub3c4\uc911\uc5d0 \ubaa8\ub4c8 \ub2e4\uc2dc \ubd88\ub7ec\uc624\uae30\ub97c \uc720\uc6a9\ud558\uac8c \uc0ac\uc6a9\ud55c\ub2e4. \ud558\uc9c0\ub9cc \uc2e4\uc81c \uc560\ud50c\ub9ac\ucf00\uc774\uc158\uc5d0 \uc0ac\uc6a9\ud558\uae30\uc5d0\ub294 \ub108\ubb34 \uc704\ud5d8\ud558\uace0 \uc608\uc0c1\ub300\ub85c \ub3d9\uc791\ud558\uc9c0 \uc54a\ub294 \uacbd\uc6b0\uac00 \ub9ce\ub2e4.\n",
      "- \ub0b4\ubd80\uc801\uc73c\ub85c reload()\ub294 \ubaa8\ub4c8\uc758 \uae30\ubc18 \ub515\uc154\ub108\ub9ac\uc5d0 \uc788\ub294 \ub0b4\uc6a9\uc744 \ubaa8\ub450 \uc9c0\uc6b0\uace0 \ubaa8\ub4c8\uc758 \uc18c\uc2a4 \ucf54\ub4dc\ub97c \ub2e4\uc2dc \uc2e4\ud589\ud55c\ub2e4. \ubaa8\ub4c8 \uac1d\uccb4\uc758 \ub3c5\uc790\uc131 \uc790\uccb4\uc5d0\ub294 \ubcc0\ud568\uc774 \uc5c6\uc74c. \ub530\ub77c\uc11c \uc774\ub807\uac8c \ud558\uba74 \ud504\ub85c\uadf8\ub7a8\uc5d0\uc11c \uc784\ud3ec\ud2b8\ud55c \ubaa8\ub4c8 \uc804\uccb4\ub97c \uac31\uc2e0\ud568\n",
      "- \ud558\uc9c0\ub9cc reload()\ub294 from module import name\uacfc \uac19\uc740 \uad6c\ubb38\uc73c\ub85c \uc784\ud3ec\ud2b8\ud55c \uc815\uc758\ub294 \uac31\uc2e0\ud558\uc9c0 \uc54a\ub294\ub2e4."
     ]
    },
    {
     "cell_type": "code",
     "collapsed": false,
     "input": [
      "%%writefile spam2.py\n",
      "def bar():\n",
      "    print('bar')\n",
      "    \n",
      "def grok():\n",
      "    print('grok')"
     ],
     "language": "python",
     "metadata": {},
     "outputs": [
      {
       "output_type": "stream",
       "stream": "stdout",
       "text": [
        "Overwriting spam2.py\n"
       ]
      }
     ],
     "prompt_number": 191
    },
    {
     "cell_type": "code",
     "collapsed": false,
     "input": [
      "import spam2"
     ],
     "language": "python",
     "metadata": {},
     "outputs": [],
     "prompt_number": 186
    },
    {
     "cell_type": "code",
     "collapsed": false,
     "input": [
      "from spam2 import grok"
     ],
     "language": "python",
     "metadata": {},
     "outputs": [],
     "prompt_number": 187
    },
    {
     "cell_type": "code",
     "collapsed": false,
     "input": [
      "spam2.bar()"
     ],
     "language": "python",
     "metadata": {},
     "outputs": [
      {
       "output_type": "stream",
       "stream": "stdout",
       "text": [
        "bar\n"
       ]
      }
     ],
     "prompt_number": 188
    },
    {
     "cell_type": "code",
     "collapsed": false,
     "input": [
      "grok()"
     ],
     "language": "python",
     "metadata": {},
     "outputs": [
      {
       "output_type": "stream",
       "stream": "stdout",
       "text": [
        "grok\n"
       ]
      }
     ],
     "prompt_number": 190
    },
    {
     "cell_type": "markdown",
     "metadata": {},
     "source": [
      "- \ud30c\uc774\uc36c\uc744 \uc885\ub8cc\ud558\uc9c0 \uc54a\uace0, spam.py \ud30c\uc77c\uc744 \ub2e4\uc74c\uacfc \uac19\uc774 \uc218\uc815\ud568"
     ]
    },
    {
     "cell_type": "code",
     "collapsed": false,
     "input": [
      "%%writefile spam2.py\n",
      "def bar():\n",
      "    print('bar')\n",
      "    \n",
      "def grok():\n",
      "    print('New grok')"
     ],
     "language": "python",
     "metadata": {},
     "outputs": [
      {
       "output_type": "stream",
       "stream": "stdout",
       "text": [
        "Overwriting spam2.py\n"
       ]
      }
     ],
     "prompt_number": 192
    },
    {
     "cell_type": "markdown",
     "metadata": {},
     "source": [
      "- \uc774\uc81c \uc778\ud130\ub809\ud2f0\ube0c \uc138\uc158\uc73c\ub85c \ub3cc\uc544\uac00\uc11c \ubaa8\ub4c8\uc744 \ub2e4\uc2dc \ubd88\ub7ec\uc624\uace0 \uc2e4\ud5d8\uc744 \ud574\ubcf4\uc790"
     ]
    },
    {
     "cell_type": "code",
     "collapsed": false,
     "input": [
      "import imp"
     ],
     "language": "python",
     "metadata": {},
     "outputs": [],
     "prompt_number": 193
    },
    {
     "cell_type": "code",
     "collapsed": false,
     "input": [
      "imp.reload(spam2)"
     ],
     "language": "python",
     "metadata": {},
     "outputs": [
      {
       "metadata": {},
       "output_type": "pyout",
       "prompt_number": 196,
       "text": [
        "<module 'spam2' from '/Users/re4lfl0w/Documents/ipython/books/python_cookbook/10/spam2.py'>"
       ]
      }
     ],
     "prompt_number": 196
    },
    {
     "cell_type": "code",
     "collapsed": false,
     "input": [
      "spam2.bar()"
     ],
     "language": "python",
     "metadata": {},
     "outputs": [
      {
       "output_type": "stream",
       "stream": "stdout",
       "text": [
        "bar\n"
       ]
      }
     ],
     "prompt_number": 197
    },
    {
     "cell_type": "code",
     "collapsed": false,
     "input": [
      "# \uae30\uc874 \ucd9c\ub825\n",
      "grok()"
     ],
     "language": "python",
     "metadata": {},
     "outputs": [
      {
       "output_type": "stream",
       "stream": "stdout",
       "text": [
        "grok\n"
       ]
      }
     ],
     "prompt_number": 198
    },
    {
     "cell_type": "code",
     "collapsed": false,
     "input": [
      "# \uc0c8\ub85c\uc6b4 \ucd9c\ub825\n",
      "spam2.grok()"
     ],
     "language": "python",
     "metadata": {},
     "outputs": [
      {
       "output_type": "stream",
       "stream": "stdout",
       "text": [
        "New grok\n"
       ]
      }
     ],
     "prompt_number": 199
    },
    {
     "cell_type": "markdown",
     "metadata": {},
     "source": [
      "- \uc774 \uc608\uc81c\uc5d0\uc11c 2 \uc885\ub958\uc758 grok() \ud568\uc218\uac00 \ub85c\ub529\ub41c \uac83\uc744 \ubcfc \uc218 \uc788\uc74c\n",
      "- \uc77c\ubc18\uc801\uc73c\ub85c \uc774\ub7f0 \ub3d9\uc791\uc131\uc740 \uc6d0\ud558\uc9c0\ub3c4 \uc54a\uace0 \uacb0\uad6d\uc5d0\ub294 \uace8\uce58 \uc544\ud508 \ubb38\uc81c\ub9cc \uc57c\uae30\ud568\n",
      "- \uc774\ub7f0 \uc774\uc720\ub85c \ubaa8\ub4c8 \ub2e4\uc2dc \ubd88\ub7ec\uc624\uae30\ub294 \uc2e4\uc81c \uc560\ud50c\ub9ac\ucf00\uc774\uc158\uc5d0 \uc0ac\uc6a9\ud558\uc9c0 \uc54a\ub294 \uac83\uc774 \uc88b\uc74c\n",
      "- \uadf8\ubcf4\ub2e4\ub294 \ub514\ubc84\uae45 \uc6a9\ub3c4\ub098 \uc778\ud130\ub809\ud2f0\ube0c \uc138\uc158\uc5d0\uc11c \uc778\ud130\ud504\ub9ac\ud130\ub97c \uc2e4\ud5d8\ud560 \ub54c \uc0ac\uc6a9\ud558\ub3c4\ub85d \ud558\uc790"
     ]
    },
    {
     "cell_type": "markdown",
     "metadata": {},
     "source": [
      "## 10.7 \ub514\ub809\ud1a0\ub9ac\ub098 Zip \ud30c\uc77c\uc744 \uc2e4\ud589 \uac00\ub2a5\ud558\uac8c \ub9cc\ub4e4\uae30\n",
      "\n",
      "### \ubb38\uc81c\n",
      "\n",
      "- \uac04\ub2e8\ud55c \uc2a4\ud06c\ub9bd\ud2b8\ub85c\ub294 \ud574\uacb0\ud560 \uc218 \uc5c6\uc5b4 \uc5ec\ub7ec \ud30c\uc77c\ub85c \ub098\ub204\uc5b4\uc57c \ud558\ub294 \ud504\ub85c\uadf8\ub7a8\uc744 \uc791\uc131\ud558\ub294 \uc911\uc774\ub2e4.\n",
      "- \uc774\ub54c \uc0ac\uc6a9\uc790\uac00 \uc27d\uac8c \ud504\ub85c\uadf8\ub7a8\uc744 \uc2e4\ud589\ud558\ub294 \ubc29\ubc95\uc744 \uc81c\uacf5\ud558\uace0 \uc2f6\ub2e4.\n",
      "\n",
      "### \ud574\uacb0\n",
      "\n",
      "- \ud504\ub85c\uadf8\ub7a8\uc774 \uc5ec\ub7ec \ud30c\uc77c\ub85c \ub098\ub204\uc5b4\uc57c \ud560 \uc815\ub3c4\ub85c \ubc29\ub300\ud574\uc84c\ub2e4\uba74 \ud504\ub85c\uadf8\ub7a8 \ub514\ub809\ud1a0\ub9ac\uc5d0 \ud30c\uc77c\uc744 \ub123\uace0 \\_\\_main\\_\\_.py \ud30c\uc77c\uc744 \ucd94\uac00\ud558\uba74 \ub41c\ub2e4. \uc608\ub97c \ub4e4\uc5b4 \ub2e4\uc74c\uacfc \uac19\uc774 \ub514\ub809\ud1a0\ub9ac\ub97c \ub9cc\ub4e0\ub2e4."
     ]
    },
    {
     "cell_type": "code",
     "collapsed": false,
     "input": [
      "!tree myapplication/"
     ],
     "language": "python",
     "metadata": {},
     "outputs": [
      {
       "output_type": "stream",
       "stream": "stdout",
       "text": [
        "myapplication/\r\n",
        "\u251c\u2500\u2500 __main__.py\r\n",
        "\u251c\u2500\u2500 __pycache__\r\n",
        "\u2502\u00a0\u00a0 \u2514\u2500\u2500 __main__.cpython-34.pyc\r\n",
        "\u251c\u2500\u2500 bar.py\r\n",
        "\u251c\u2500\u2500 grok.py\r\n",
        "\u2514\u2500\u2500 spam.py\r\n",
        "\r\n",
        "1 directory, 5 files\r\n"
       ]
      }
     ],
     "prompt_number": 208
    },
    {
     "cell_type": "markdown",
     "metadata": {},
     "source": [
      "- \\_\\_main\\_\\_.py \ud30c\uc77c\uc774 \uc788\uc73c\uba74, \ub2e4\uc74c\uacfc \uac19\uc774 \uac04\ub2e8\ud788 \ud30c\uc774\uc36c \uc778\ud130\ud504\ub9ac\ud130\ub97c \uc2e4\ud589\ud560 \uc218 \uc788\uc74c"
     ]
    },
    {
     "cell_type": "code",
     "collapsed": false,
     "input": [
      "!python3 myapplication/"
     ],
     "language": "python",
     "metadata": {},
     "outputs": [],
     "prompt_number": 209
    },
    {
     "cell_type": "markdown",
     "metadata": {},
     "source": [
      "- \uadf8\ub7ec\uba74 \uc778\ud130\ud504\ub9ac\ud130\uac00 \\_\\_main\\_\\_.py \ud30c\uc77c\uc744 \uba54\uc778\uc73c\ub85c \uc2e4\ud589\ud568\n",
      "- \ubaa8\ub4e0 \ucf54\ub4dc\ub97c zip \ud30c\uc77c\uc5d0 \ub2f4\uc544 \ub450\uc5b4\ub3c4 \ub3d9\uc77c\ud558\uac8c \ub3d9\uc791\ud568"
     ]
    },
    {
     "cell_type": "code",
     "collapsed": false,
     "input": [
      "!ls myapplication/"
     ],
     "language": "python",
     "metadata": {},
     "outputs": [
      {
       "output_type": "stream",
       "stream": "stdout",
       "text": [
        "__main__.py \u001b[34m__pycache__\u001b[m\u001b[m bar.py      grok.py     spam.py\r\n"
       ]
      }
     ],
     "prompt_number": 210
    },
    {
     "cell_type": "code",
     "collapsed": false,
     "input": [
      "!zip -r myapplication/myapp.zip myapplication/*.py"
     ],
     "language": "python",
     "metadata": {},
     "outputs": [
      {
       "output_type": "stream",
       "stream": "stdout",
       "text": [
        "  adding: myapplication/__main__.py (stored 0%)\r\n",
        "  adding: myapplication/bar.py (stored 0%)\r\n",
        "  adding: myapplication/grok.py (stored 0%)\r\n",
        "  adding: myapplication/spam.py (stored 0%)\r\n"
       ]
      }
     ],
     "prompt_number": 211
    },
    {
     "cell_type": "code",
     "collapsed": false,
     "input": [
      "!ls -l myapplication/"
     ],
     "language": "python",
     "metadata": {},
     "outputs": [
      {
       "output_type": "stream",
       "stream": "stdout",
       "text": [
        "total 8\r\n",
        "-rw-r--r--  1 re4lfl0w  staff    0 10 11 12:01 __main__.py\r\n",
        "drwxr-xr-x  3 re4lfl0w  staff  102 10 11 12:03 \u001b[34m__pycache__\u001b[m\u001b[m\r\n",
        "-rw-r--r--  1 re4lfl0w  staff    0 10 11 12:01 bar.py\r\n",
        "-rw-r--r--  1 re4lfl0w  staff    0 10 11 12:01 grok.py\r\n",
        "-rw-r--r--  1 re4lfl0w  staff  708 10 11 12:06 myapp.zip\r\n",
        "-rw-r--r--  1 re4lfl0w  staff    0 10 11 12:01 spam.py\r\n"
       ]
      }
     ],
     "prompt_number": 213
    },
    {
     "cell_type": "code",
     "collapsed": false,
     "input": [
      "!python3 myapplication/myapp.zip"
     ],
     "language": "python",
     "metadata": {},
     "outputs": [
      {
       "output_type": "stream",
       "stream": "stdout",
       "text": [
        "/Users/re4lfl0w/virtualenv/python3_test/bin/python3: can't find '__main__' module in 'myapplication/myapp.zip'\r\n"
       ]
      }
     ],
     "prompt_number": 214
    },
    {
     "cell_type": "markdown",
     "metadata": {},
     "source": [
      "### \ud1a0\ub860\n",
      "\n",
      "- \ub514\ub809\ud1a0\ub9ac\ub098 zip \ud30c\uc77c\uc744 \ub9cc\ub4e4\uace0 \\_\\_main\\_\\_.py \ud30c\uc774\uc744 \ucd94\uac00\ud558\uba74 \ucee4\ub2e4\ub780 \ud30c\uc774\uc36c \uc560\ud50c\ub9ac\ucf00\uc774\uc158\uc744 \uc27d\uac8c \ubc30\ud3ec\ud560 \uc218 \uc788\uc74c\n",
      "- \uc774\ub294 \ud30c\uc774\uc36c \ub77c\uc774\ube0c\ub7ec\ub9ac\uc5d0 \uc124\uce58\ub418\uc5b4 \ud45c\uc900 \ub77c\uc774\ube0c\ub7ec\ub9ac \ubaa8\ub4c8\ub85c \uc0ac\uc6a9\ud558\ub3c4\ub85d \ud55c \ud328\ud0a4\uc9c0 \ucf54\ub4dc\uc640\ub294 \uc870\uae08 \ub2e4\ub984\n",
      "- \ub2e8\uc9c0 \ub204\uad70\uac00\uc758 \uc2e4\ud589\uc744 \ub3d5\uae30 \uc704\ud574 \ub9cc\ub4e4\uc5b4 \ub0b8 \ucf54\ub4dc \ubc88\ub4e4\uc774\ub77c\uace0 \uc0dd\uac01\ud558\uba74 \ub428\n",
      "- \ub514\ub809\ud1a0\ub9ac\uc640 zip \ud30c\uc77c\uc740 \uc77c\ubc18\uc801\uc778 \ud30c\uc77c\uacfc\ub294 \uc870\uae08 \ub2e4\ub974\ubbc0\ub85c, \uc880 \ub354 \uc26c\uc6b4 \uc2e4\ud589\uc744 \uc704\ud574 \uc9c0\uc6d0 shell script \ub97c \ucd94\uac00\ud560 \uc218 \uc788\uc74c\n",
      "- myapp.zip \ud30c\uc77c\uc5d0 \ucf54\ub4dc\uac00 \ub4e4\uc5b4 \uc788\uc73c\uba74 \uc0c1\uc704 \ub808\ubca8 \uc2a4\ud06c\ub9bd\ud2b8\ub97c \ub2e4\uc74c\uacfc \uac19\uc774 \ub9cc\ub4e4 \uc218 \uc788\uc74c"
     ]
    },
    {
     "cell_type": "markdown",
     "metadata": {},
     "source": [
      "    #!/usr/bin/env python3 /usr/local/bin/myapp.zip"
     ]
    },
    {
     "cell_type": "markdown",
     "metadata": {},
     "source": [
      "## 10.8 \ud328\ud0a4\uc9c0\uc758 \ub370\uc774\ud130 \ud30c\uc77c \uc77d\uae30\n",
      "\n",
      "### \ubb38\uc81c\n",
      "\n",
      "- \ud328\ud0a4\uc9c0\uc5d0 \ud3ec\ud568\ub418\uc5b4 \uc788\ub294 \ub370\uc774\ud130 \ud30c\uc77c\uc744 \uc77d\uc5b4\uc57c \ud55c\ub2e4. \uac00\ub2a5\ud558\uba74 \ud638\ud658\uc131\uc774 \ub192\uc740 \ubc29\uc2dd\uc73c\ub85c \uc77d\uace0 \uc2f6\ub2e4.\n",
      "\n",
      "### \ud574\uacb0\n",
      "\n",
      "- \ub2e4\uc74c\uacfc \uac19\uc774 \uad6c\uc131\ub418\uc5b4 \uc788\ub294 \ud328\ud0a4\uc9c0 \ud30c\uc77c\uc774 \uc788\ub2e4\uace0 \uac00\uc815\ud574 \ubcf4\uc790"
     ]
    },
    {
     "cell_type": "code",
     "collapsed": false,
     "input": [
      "!tree mypackage_10_8/"
     ],
     "language": "python",
     "metadata": {},
     "outputs": [
      {
       "output_type": "stream",
       "stream": "stdout",
       "text": [
        "mypackage_10_8/\r\n",
        "\u251c\u2500\u2500 __init__.py\r\n",
        "\u251c\u2500\u2500 somedata.dat\r\n",
        "\u2514\u2500\u2500 spam.py\r\n",
        "\r\n",
        "0 directories, 3 files\r\n"
       ]
      }
     ],
     "prompt_number": 221
    },
    {
     "cell_type": "markdown",
     "metadata": {},
     "source": [
      "- \uc774\uc81c spam.py \ud30c\uc77c\uc774 somedata.dat \ud30c\uc77c\uc758 \ub370\uc774\ud130\ub97c \uc77d\uc5b4\uc57c \ud55c\ub2e4. \uc774\ub54c \ub2f9\ubbc0\uacfc \uac19\uc740 \ucf54\ub4dc\ub97c \uc791\uc131\ud55c\ub2e4."
     ]
    },
    {
     "cell_type": "code",
     "collapsed": false,
     "input": [
      "%%writefile mypackage_10_8/spam.py\n",
      "\n",
      "import pkgutil\n",
      "data = pkgutil.get_data(__package__, 'somedata.dat')"
     ],
     "language": "python",
     "metadata": {},
     "outputs": [
      {
       "output_type": "stream",
       "stream": "stdout",
       "text": [
        "Overwriting mypackage_10_8/spam.py\n"
       ]
      }
     ],
     "prompt_number": 222
    },
    {
     "cell_type": "markdown",
     "metadata": {},
     "source": [
      "### \ud1a0\ub860\n",
      "\n",
      "- \ub370\uc774\ud130 \ud30c\uc77c\uc744 \uc77d\uae30 \uc704\ud574 open()\uacfc \uac19\uc774 \ub0b4\uc7a5\ub418\uc5b4 \uc788\ub294 \uc785\ucd9c\ub825 \ud568\uc218\ub97c \uc0ac\uc6a9\ud558\uace0 \uc2f6\uc744 \uac83\uc774\ub2e4. \ud558\uc9c0\ub9cc \uc774 \ubc29\uc2dd\uc5d0\ub294 \uba87 \uac00\uc9c0 \ubb38\uc81c\uc810\uc774 \uc874\uc7ac\n",
      "\n",
      "\n",
      "- \uccab\uc9f8, \ud328\ud0a4\uc9c0\ub294 \uc778\ud130\ud504\ub9ac\ud130\uc5d0\uc11c \ud604\uc7ac \uc791\uc5c5 \uc911\uc778 \ub514\ub809\ud1a0\ub9ac\uc5d0 \ub300\ud55c \uc81c\uc5b4 \ub2a5\ub825\uc774 \uadf9\ud788 \ubd80\uc871\ud558\ub2e4. \ub530\ub77c\uc11c \ubaa8\ub4e0 \uc785\ucd9c\ub825 \ub3d9\uc791\uc740 \uc808\ub300 \uacbd\ub85c \ud30c\uc77c \uc774\ub984\uc744 \uc0ac\uc6a9\ud574\uc57c \ud568. \ubaa8\ub4e0 \ubaa8\ub4c8\uc5d0 \\_\\_file\\_\\_ \ubcc0\uc218\uac00 \uc81c\uacf5\ub418\ubbc0\ub85c \ubd88\uac00\ub2a5\ud55c \uac83\uc740 \uc544\ub2c8\uc9c0\ub9cc, \ucf54\ub4dc\uac00 \uad49\uc7a5\ud788 \ubcf5\uc7a1\ud574\uc9d0\n",
      "- \ub458\uc9f8, \ud328\ud0a4\uc9c0\ub294 \uc885\uc885 zip \uc774\ub098 .egg \ud30c\uc77c\ub85c \uc124\uce58\ub418\uc5b4 \uc788\uc5b4 \uc77c\ubc18\uc801\uc778 \ud30c\uc77c \uc2dc\uc2a4\ud15c \ub514\ub809\ud1a0\ub9ac\uc758 \ud30c\uc77c\uacfc\ub294 \uc870\uae08 \ub2e4\ub974\ub2e4. \ub9cc\uc57d open()\uc73c\ub85c \ub370\uc774\ud130 \ud30c\uc77c\uc744 \uc5f4\ub824\uace0 \uc2dc\ub3c4\ud558\uba74 \uc81c\ub300\ub85c \ub3d9\uc791\ud558\uc9c0 \uc54a\ub294\ub2e4.\n",
      "- pkgutil.get_data() \ud568\uc218\ub294 \ud328\ud0a4\uc9c0\uac00 \uc5b4\ub5bb\uac8c \uc124\uce58\ub418\uc5c8\ub294\uc9c0, \uc5b4\ub514\uc5d0 \uc124\uce58\ub418\uc5c8\ub294\uc9c0\uc5d0 \uc0c1\uad00\uc5c6\uc774 \ub370\uc774\ud130 \ud30c\uc77c\uc744 \uc5bb\ub294 \uc0c1\uc704 \ub808\ubca8 \ub3c4\uad6c\ub85c \uc0ac\uc6a9\ud558\ub3c4\ub85d \ub514\uc790\uc778\ub418\uc5c8\uc74c. \ud30c\uc77c\uc758 \ub0b4\uc6a9\uc744 \ubc14\uc774\ud2b8 \ubb38\uc790\uc5f4\ub85c \ubc18\ud658\ud558\ub294 \ub3d9\uc791\uc744 \uac04\ub2e8\ud788 \"\uc218\ud589\ud55c\ub2e4.\"\n",
      "- get\\_data()\uc758 \uccab\ubc88\uc9f8 \uc778\uc790\ub294 \ud328\ud0a4\uc9c0 \uc774\ub984\uc744 \ub2f4\uc740 \ubb38\uc790\uc5f4\uc774\ub2e4. \uc9c1\uc811 \uc774\ub984\uc744 \uc81c\uacf5\ud558\uac70\ub098 \\_\\_package\\_\\_\uc640 \uac19\uc740 \ud2b9\ubcc4 \ubcc0\uc218\ub97c \ub123\ub294\ub2e4. \ub450\ubc88\uc9f8 \uc778\uc790\ub294 \ud328\ud0a4\uc9c0 \ud30c\uc77c\uc758 \uc0c1\ub300\uc801 \uacbd\ub85c \uc774\ub984\uc774\ub2e4. \ud544\uc694\ud558\ub2e4\uba74 \ud45c\uc900 Unix \ud30c\uc77c \uc774\ub984 \uaddc\uce59\uc73c\ub85c \ub2e4\ub978 \ub514\ub809\ud1a0\ub9ac\uc5d0 \uc811\uadfc\ud560 \uc218\ub3c4 \uc788\uc74c. \ub2e8 \uc774\ub54c, \ud30c\uc77c\uc774 \ub3d9\uc77c\ud55c \ud328\ud0a4\uc9c0\uc5d0 \uc704\uce58\ud558\uace0 \uc788\uc5b4\uc57c \ud568"
     ]
    },
    {
     "cell_type": "markdown",
     "metadata": {},
     "source": [
      "## 10.9 sys.path\uc5d0 \ub514\ub809\ud1a0\ub9ac \ucd94\uac00\n",
      "\n",
      "### \ubb38\uc81c\n",
      "\n",
      "- sys.path\uc5d0 \ud3ec\ud568\ub418\uc5b4 \uc788\uc9c0 \uc54a\uc544\uc11c \uc784\ud3ec\ud2b8\ud560 \uc218 \uc5c6\ub294 \ud30c\uc774\uc36c \ucf54\ub4dc\uac00 \uc788\ub2e4. \uc0c8\ub85c\uc6b4 \ub514\ub809\ud1a0\ub9ac\ub97c \ud30c\uc774\uc36c \uacbd\ub85c\uc5d0 \ucd94\uac00\ud558\uace0 \uc2f6\uc9c0\ub9cc \ud558\ub4dc\ucf54\ub529\uc740 \ud53c\ud558\uace0 \uc2f6\ub2e4.\n",
      "\n",
      "### \ud574\uacb0\n",
      "\n",
      "- \uc0c8\ub85c\uc6b4 \ub514\ub809\ud1a0\ub9ac\ub97c sys.path\uc5d0 \ucd94\uac00\ud558\ub294 \uc77c\ubc18\uc801\uc778 \ubc29\ubc95\uc774 2\uac00\uc9c0 \uc788\ub2e4.\n",
      "- \uccab\uc9f8, \uc774 \uc774\ub984\uc744 PYTHONPATH \ud658\uacbd\ubcc0\uc218\uc5d0 \ucd94\uac00\ud55c\ub2e4."
     ]
    },
    {
     "cell_type": "code",
     "collapsed": false,
     "input": [
      "!echo $PYTHONPATH"
     ],
     "language": "python",
     "metadata": {},
     "outputs": [
      {
       "output_type": "stream",
       "stream": "stdout",
       "text": [
        "/Users/re4lfl0w/Documents/ipython_private/scripts/\r\n"
       ]
      }
     ],
     "prompt_number": 29
    },
    {
     "cell_type": "code",
     "collapsed": false,
     "input": [
      "!ls -l /Users/re4lfl0w/Documents/ipython/books/python_cookbook/10/mymodule/"
     ],
     "language": "python",
     "metadata": {},
     "outputs": [
      {
       "output_type": "stream",
       "stream": "stdout",
       "text": [
        "total 24\r\n",
        "-rw-r--r--  1 re4lfl0w  staff   90 10 11 11:02 __init__.py\r\n",
        "drwxr-xr-x  5 re4lfl0w  staff  170 10 11 10:53 \u001b[34m__pycache__\u001b[m\u001b[m\r\n",
        "-rw-r--r--  1 re4lfl0w  staff   52 10 11 10:53 a.py\r\n",
        "-rw-r--r--  1 re4lfl0w  staff   71 10 11 10:53 b.py\r\n"
       ]
      }
     ],
     "prompt_number": 26
    },
    {
     "cell_type": "markdown",
     "metadata": {},
     "source": [
      "- \ucee4\uc2a4\ud140 \uc560\ud50c\ub9ac\ucf00\uc774\uc158\uc5d0\uc11c \uc774 \ud658\uacbd\ubcc0\uc218\ub294 \ud504\ub85c\uadf8\ub7a8\uc744 \uc2e4\ud589\ud560 \ub54c\ub098 \uc258 \uc2a4\ud06c\ub9bd\ud130\ub97c \ud1b5\ud574\uc11c \uc124\uc815\ud560 \uc218 \uc788\uc74c"
     ]
    },
    {
     "cell_type": "markdown",
     "metadata": {},
     "source": [
      "- [fish user documentation](http://fishshell.com/docs/current/index.html#variables)"
     ]
    },
    {
     "cell_type": "code",
     "collapsed": false,
     "input": [
      "# fish shell\n",
      "!set PYTHONPATH $PYTHONPATH ~/tmp/"
     ],
     "language": "python",
     "metadata": {},
     "outputs": [],
     "prompt_number": 28
    },
    {
     "cell_type": "markdown",
     "metadata": {},
     "source": [
      "- 2\ubc88\uc9f8 \ubc29\uc2dd\uc740 \ub2e4\uc74c\uacfc \uac00\uc774 \ub514\ub809\ud1a0\ub9ac\ub97c \ub9ac\uc2a4\ud305\ud558\ub294 .pth \ud30c\uc77c\uc744 \ub9cc\ub4dc\ub294 \uac83"
     ]
    },
    {
     "cell_type": "code",
     "collapsed": false,
     "input": [
      "# pth \uc124\uc815\n",
      "!cat /Users/re4lfl0w/virtualenv/python3_test/lib/python3.4/site-packages/myapplication.pth"
     ],
     "language": "python",
     "metadata": {},
     "outputs": [
      {
       "output_type": "stream",
       "stream": "stdout",
       "text": [
        "/Users/re4lfl0w/Documents/ipython/books/python_cookbook/10/mypackage\r\n"
       ]
      }
     ],
     "prompt_number": 4
    },
    {
     "cell_type": "markdown",
     "metadata": {},
     "source": [
      "- \uc774 .pth \ud30c\uc77c\uc740 \ud30c\uc774\uc36c\uc758 site-package \ub514\ub809\ud1a0\ub9ac\uc5d0 \ub123\uc5b4\uc57c \ud568\n",
      "- \uc77c\ubc18\uc801\uc73c\ub85c /usr/local/lib/python3.3/site-packages\ub098 ~/.local/lib/python3.3/site-packages\uc5d0 \uc704\uce58\ud558\uace0 \uc788\ub2e4.\n",
      "- \uc778\ud130\ud504\ub9ac\ud130\ub97c \uc2dc\uc791\ud560 \ub54c, .pth \ud30c\uc77c\uc5d0 \ub9ac\uc2a4\ud305\ub41c \ub514\ub809\ud1a0\ub9ac\uac00 sys.path\uc5d0 \ucd94\uac00\ub428(\ud30c\uc77c \uc2dc\uc2a4\ud15c\uc5d0 \uc874\uc7ac\ud574\uc57c \ud568)\n",
      "- \ub9cc\uc57d \uc774 \ud30c\uc77c\uc774 \uc2dc\uc2a4\ud15c\uc5d0 \uc601\ud5a5\uc744 \uc8fc\ub294 \ud30c\uc774\uc36c \uc778\ud130\ud504\ub9ac\ud130\uc5d0 \ucd94\uac00\ub418\ub294 \uacbd\uc6b0\uc5d0\ub294 \uad00\ub9ac\uc790 \uad8c\ud55c\uc744 \uc694\uad6c\ud560 \uc218\ub3c4 \uc788\ub2e4."
     ]
    },
    {
     "cell_type": "markdown",
     "metadata": {},
     "source": [
      "### \ud1a0\ub860\n",
      "\n",
      "- \ud30c\uc77c \uc704\uce58 \uad00\ub828 \ubb38\uc81c\ub97c \ud574\uacb0\ud558\uae30 \uc704\ud574 sys.path\ub97c \uc9c1\uc811 \uc218\uc815\ud558\ub294 \ucf54\ub4dc\ub97c \uc791\uc131\ud560 \uc218\ub3c4 \uc788\uc9c0 \uc54a\uc744\uae4c?"
     ]
    },
    {
     "cell_type": "code",
     "collapsed": false,
     "input": [
      "# import sys\n",
      "# sys.path.insert(0, '/some/dir')\n",
      "# sys.path.insert(0, '/other/dir')"
     ],
     "language": "python",
     "metadata": {},
     "outputs": [],
     "prompt_number": 30
    },
    {
     "cell_type": "markdown",
     "metadata": {},
     "source": [
      "- \uc774 \ubc29\uc2dd\uc774 \ub3d9\uc791\ud558\uae30\ub294 \ud558\uc9c0\ub9cc, \uc2e4\uc81c\ub85c \uad49\uc7a5\ud788 \uc704\ud5d8\ud55c \uc811\uadfc\ubc95\uc774\ubbc0\ub85c \uac00\ub2a5\ud558\ub2e4\uba74 \uc0ac\uc6a9\ud558\uc9c0 \uc54a\ub3c4\ub85d \ud568\n",
      "- \uc6b0\uc120 \uc18c\uc2a4\uc5d0 \ud558\ub4dc\ucf54\ub529\ub41c \ub514\ub809\ud1a0\ub9ac \uc774\ub984\uc744 \ucd94\uac00\ud55c\ub2e4\ub294 \ubb38\uc81c\n",
      "- \ucf54\ub4dc\ub97c \uc0c8\ub85c\uc6b4 \uc704\uce58\ub85c \uc62e\uae30\uac70\ub098 \ud560 \ub54c \uad00\ub9ac\uac00 \uc5b4\ub824\uc6cc\uc9d0\n",
      "- \uc124\uc815\ud558\ub294 \uacf3\uc744 \ub2e4\ub978 \uacf3\uc73c\ub85c \ube7c\uc11c \uc18c\uc2a4 \ucf54\ub4dc\ub97c \uc218\uc815\ud558\uc9c0 \uc54a\uace0 \uc870\uc808\ud558\ub294 \ubc29\ubc95\uc744 \uc81c\uacf5\ud558\ub294 \uac83\uc774 \ub354 \uc88b\uc74c\n",
      "\n",
      "\n",
      "- \ub54c\ub85c\ub294 \\_\\_file\\_\\_\uacfc \uac19\uc774 \ubaa8\ub4c8 \ub808\ubca8 \ubcc0\uc218\ub97c \uc0ac\uc6a9\ud55c \uc808\ub300 \uacbd\ub85c\ub97c \uc62c\ubc14\ub974\uac8c \ub9cc\ub4e4\uba74 \ud558\ub4dc\ucf54\ub529\ub41c \ub514\ub809\ud1a0\ub9ac \uc0ac\uc6a9\uc744 \ud53c\ud560 \uc218 \uc788\ub2e4."
     ]
    },
    {
     "cell_type": "code",
     "collapsed": false,
     "input": [
      "sys.path"
     ],
     "language": "python",
     "metadata": {},
     "outputs": [
      {
       "metadata": {},
       "output_type": "pyout",
       "prompt_number": 3,
       "text": [
        "['',\n",
        " '/Users/re4lfl0w/Documents/ipython_private/scripts',\n",
        " '/Users/re4lfl0w/virtualenv/python3_test/lib/python34.zip',\n",
        " '/Users/re4lfl0w/virtualenv/python3_test/lib/python3.4',\n",
        " '/Users/re4lfl0w/virtualenv/python3_test/lib/python3.4/plat-darwin',\n",
        " '/Users/re4lfl0w/virtualenv/python3_test/lib/python3.4/lib-dynload',\n",
        " '/usr/local/Cellar/python3/3.4.1/Frameworks/Python.framework/Versions/3.4/lib/python3.4',\n",
        " '/usr/local/Cellar/python3/3.4.1/Frameworks/Python.framework/Versions/3.4/lib/python3.4/plat-darwin',\n",
        " '/Users/re4lfl0w/virtualenv/python3_test/lib/python3.4/site-packages',\n",
        " '/Users/re4lfl0w/Documents/ipython/books/python_cookbook/10/mypackage',\n",
        " '/Users/re4lfl0w/virtualenv/python3_test/lib/python3.4/site-packages/IPython/extensions',\n",
        " '/Users/re4lfl0w/.ipython',\n",
        " '/Users/re4lfl0w/Documents/ipython_private/scripts/']"
       ]
      }
     ],
     "prompt_number": 3
    },
    {
     "cell_type": "code",
     "collapsed": false,
     "input": [
      "import sys\n",
      "from os.path import abspath, join, dirname"
     ],
     "language": "python",
     "metadata": {},
     "outputs": [],
     "prompt_number": 5
    },
    {
     "cell_type": "code",
     "collapsed": false,
     "input": [
      "dirname('__file__')"
     ],
     "language": "python",
     "metadata": {},
     "outputs": [
      {
       "metadata": {},
       "output_type": "pyout",
       "prompt_number": 6,
       "text": [
        "''"
       ]
      }
     ],
     "prompt_number": 6
    },
    {
     "cell_type": "code",
     "collapsed": false,
     "input": [
      "join(dirname('__file__'), 'src')"
     ],
     "language": "python",
     "metadata": {},
     "outputs": [
      {
       "metadata": {},
       "output_type": "pyout",
       "prompt_number": 9,
       "text": [
        "'src'"
       ]
      }
     ],
     "prompt_number": 9
    },
    {
     "cell_type": "code",
     "collapsed": false,
     "input": [
      "abspath(join(dirname('__file__'), 'src'))"
     ],
     "language": "python",
     "metadata": {},
     "outputs": [
      {
       "metadata": {},
       "output_type": "pyout",
       "prompt_number": 10,
       "text": [
        "'/Users/re4lfl0w/Documents/ipython/books/python_cookbook/10/src'"
       ]
      }
     ],
     "prompt_number": 10
    },
    {
     "cell_type": "code",
     "collapsed": false,
     "input": [
      "sys.path.insert(0, abspath(join(dirname('__file__'), 'src')))"
     ],
     "language": "python",
     "metadata": {},
     "outputs": [],
     "prompt_number": 11
    },
    {
     "cell_type": "code",
     "collapsed": false,
     "input": [
      "sys.path"
     ],
     "language": "python",
     "metadata": {},
     "outputs": [
      {
       "metadata": {},
       "output_type": "pyout",
       "prompt_number": 31,
       "text": [
        "['/Users/re4lfl0w/Documents/ipython/books/python_cookbook/10/src',\n",
        " '',\n",
        " '/Users/re4lfl0w/Documents/ipython_private/scripts',\n",
        " '/Users/re4lfl0w/virtualenv/python3_test/lib/python34.zip',\n",
        " '/Users/re4lfl0w/virtualenv/python3_test/lib/python3.4',\n",
        " '/Users/re4lfl0w/virtualenv/python3_test/lib/python3.4/plat-darwin',\n",
        " '/Users/re4lfl0w/virtualenv/python3_test/lib/python3.4/lib-dynload',\n",
        " '/usr/local/Cellar/python3/3.4.1/Frameworks/Python.framework/Versions/3.4/lib/python3.4',\n",
        " '/usr/local/Cellar/python3/3.4.1/Frameworks/Python.framework/Versions/3.4/lib/python3.4/plat-darwin',\n",
        " '/Users/re4lfl0w/virtualenv/python3_test/lib/python3.4/site-packages',\n",
        " '/Users/re4lfl0w/Documents/ipython/books/python_cookbook/10/mypackage',\n",
        " '/Users/re4lfl0w/virtualenv/python3_test/lib/python3.4/site-packages/IPython/extensions',\n",
        " '/Users/re4lfl0w/.ipython',\n",
        " '/Users/re4lfl0w/Documents/ipython_private/scripts/']"
       ]
      }
     ],
     "prompt_number": 31
    },
    {
     "cell_type": "markdown",
     "metadata": {},
     "source": [
      "- \uc774\ub807\uac8c \ud558\uba74 \uc0bd\uc785 \uacfc\uc815\uc744 \uc2e4\ud589\ud558\ub294 \ucf54\ub4dc\uac00 \uc704\uce58\ud55c \ub514\ub809\ud1a0\ub9ac \uc704\uce58\uc5d0 src \ub514\ub809\ud1a0\ub9ac\ub97c \ucd94\uac00\ud55c\ub2e4.\n",
      "- site-packages \ub514\ub809\ud1a0\ub9ac\ub294 \uc77c\ubc18\uc801\uc73c\ub85c \uc11c\ub4dc\ud30c\ud2f0 \ubaa8\ub4c8\uacfc \ud328\ud0a4\uc9c0\uac00 \uc124\uce58\ub418\ub294 \uacf3\n",
      "- \ucf54\ub4dc\ub97c \uc774\ub7f0 \ubc29\uc2dd\uc73c\ub85c \uc124\uce58\ud588\ub2e4\uba74 \ubc14\ub85c \uc5ec\uae30\uc5d0 \uc704\uce58\ud558\uac8c \ub428\n",
      "- \ud658\uacbd \uc124\uc815\uc744 \uc704\ud55c .pth \ud30c\uc77c\uc774 site-packages \uc5d0 \ub098\ud0c0\ub098\uc57c \ud558\uc9c0\ub9cc, \uc6d0\ud55c\ub2e4\uba74 \uc2dc\uc2a4\ud15c\uc758 \uc5b4\ub5a4 \ub514\ub809\ud1a0\ub9ac\ub3c4 \ucc38\uc870\ud558\ub3c4\ub85d \ud560 \uc218 \uc788\uc74c\n",
      "- \ub530\ub77c\uc11c .pth \ud30c\uc77c\uc5d0 \ud3ec\ud568\ub418\uc5b4 \uc788\uae30\ub9cc \ud558\ub2e4\uba74 \uc804\ud600 \ub2e4\ub978 \ub514\ub808\uace0\ub9ac \uc9d1\ud569\uc744 \uace0\ub974\ub3c4\ub85d \ucf54\ub4dc\uc5d0 \uc9c0\uc2dc\ud560 \uc218 \uc788\uc74c"
     ]
    },
    {
     "cell_type": "markdown",
     "metadata": {},
     "source": [
      "## 10.10 \ubb38\uc790\uc5f4\ub85c \uc8fc\uc5b4\uc9c4 \ubaa8\ub4c8 \uc774\ub984 \uc784\ud3ec\ud2b8\n",
      "\n",
      "### \ubb38\uc81c\n",
      "\n",
      "- \uc784\ud3ec\ud2b8\ud558\uace0 \uc2f6\uc740 \ubaa8\ub4c8 \uc774\ub984\uc744 \ubb38\uc790\uc5f4 \ud615\ud0dc\ub85c \uac00\uc9c0\uace0 \uc788\ub2e4. \uc774 \ubb38\uc790\uc5f4\uc5d0 import\ub97c \uc2e4\ud589\ud558\uace0 \uc2f6\ub2e4.\n",
      "\n",
      "### \ud574\uacb0\n",
      "\n",
      "- importlib.import_module() \ud568\uc218\ub85c, \ubb38\uc790\uc5f4\ub85c \uc8fc\uc5b4\uc9c4 \ubaa8\ub4c8\uc774\ub098 \ud328\ud0a4\uc9c0 \uc774\ub984\uc744 \uc784\ud3ec\ud2b8\ud560 \uc218 \uc788\ub2e4."
     ]
    },
    {
     "cell_type": "code",
     "collapsed": false,
     "input": [
      "import importlib"
     ],
     "language": "python",
     "metadata": {},
     "outputs": [],
     "prompt_number": 32
    },
    {
     "cell_type": "code",
     "collapsed": false,
     "input": [
      "math = importlib.import_module('math')"
     ],
     "language": "python",
     "metadata": {},
     "outputs": [],
     "prompt_number": 33
    },
    {
     "cell_type": "code",
     "collapsed": false,
     "input": [
      "math.sin(2)"
     ],
     "language": "python",
     "metadata": {},
     "outputs": [
      {
       "metadata": {},
       "output_type": "pyout",
       "prompt_number": 34,
       "text": [
        "0.9092974268256817"
       ]
      }
     ],
     "prompt_number": 34
    },
    {
     "cell_type": "code",
     "collapsed": false,
     "input": [
      "mod = importlib.import_module('urllib.request')"
     ],
     "language": "python",
     "metadata": {},
     "outputs": [],
     "prompt_number": 35
    },
    {
     "cell_type": "code",
     "collapsed": false,
     "input": [
      "u = mod.urlopen('http://www.python.org')"
     ],
     "language": "python",
     "metadata": {},
     "outputs": [],
     "prompt_number": 36
    },
    {
     "cell_type": "markdown",
     "metadata": {},
     "source": [
      "- import_module\uc740 import\uc640 \ub3d9\uc77c\ud55c \uacfc\uc815\uc744 \uc218\ud589\ud558\uc9c0\ub9cc \uacb0\uacfc \ubaa8\ub4c8 \uac1d\uccb4\ub97c \ubc18\ud658\ub2e8\ub2e4\ub294 \uc810\uc774 \ub2e4\ub974\ub2e4. \uc774\uac83\uc744 \ubcc0\uc218\ub85c \uc800\uc7a5\ud558\uace0 \ucd94\ud6c4 \uc77c\ubc18\uc801\uc778 \ubaa8\ub4c8\ucc98\ub7fc \uc0ac\uc6a9\ud560 \uc218 \uc788\uc74c\n",
      "- \ud328\ud0a4\uc9c0\ub97c \uac00\uc9c0\uace0 \uc791\uc5c5\uc911\uc774\ub77c\uba74 import_module()\ub85c \uc0c1\ub300\uc801 \uacbd\ub85c\ub97c \uc784\ud3ec\ud2b8\ud560 \uc218 \uc788\uc74c\n",
      "- \ud558\uc9c0\ub9cc \ub2e4\uc74c\uacfc \uac19\uc774 \ucd94\uac00\uc801\uc778 \uc778\uc790\ub97c \ub123\uc5b4\uc57c \ud568"
     ]
    },
    {
     "cell_type": "code",
     "collapsed": false,
     "input": [
      "import importlib"
     ],
     "language": "python",
     "metadata": {},
     "outputs": [],
     "prompt_number": 37
    },
    {
     "cell_type": "code",
     "collapsed": false,
     "input": [
      "# 'from . import b'\uc640 \ub3d9\uc77c\n",
      "# . \ub123\uc73c\uba74 \uc548\ub418\ub124\n",
      "# .\uc740 __init__\uc5d0\uc11c\ub9cc \uc0ac\uc6a9 \uac00\ub2a5\ud55c\uac74\uac00??\n",
      "# \ub098\uc911\uc5d0 \ub2e4\uc2dc \ud55c \ubc88 \ucc3e\uc544\ubcf4\uc790..\n",
      "b = importlib.import_module('spam2', __package__)"
     ],
     "language": "python",
     "metadata": {},
     "outputs": [],
     "prompt_number": 67
    },
    {
     "cell_type": "code",
     "collapsed": false,
     "input": [
      "!cat somemodule.py"
     ],
     "language": "python",
     "metadata": {},
     "outputs": [
      {
       "output_type": "stream",
       "stream": "stdout",
       "text": [
        "def spam():\r\n",
        "    print('spam method')\r\n",
        "\r\n",
        "def grok():\r\n",
        "    print('grok method')\r\n",
        "\r\n",
        "blah = 42\r\n",
        "\r\n",
        "# 'spam'\uacfc 'grok'\ub9cc \ub0b4\ubcf4\ub0b8\ub2e4.\r\n",
        "__all__ = ['spam', 'grok', 'blah']"
       ]
      }
     ],
     "prompt_number": 51
    },
    {
     "cell_type": "code",
     "collapsed": false,
     "input": [
      "from mymodule import A"
     ],
     "language": "python",
     "metadata": {},
     "outputs": [],
     "prompt_number": 60
    },
    {
     "cell_type": "code",
     "collapsed": false,
     "input": [
      "__package__"
     ],
     "language": "python",
     "metadata": {},
     "outputs": [],
     "prompt_number": 39
    },
    {
     "cell_type": "markdown",
     "metadata": {},
     "source": [
      "### \ud1a0\ub860\n",
      "\n",
      "- import_module()\uc744 \uc0ac\uc6a9\ud574\uc11c \ubaa8\ub4c8\uc744 \uc218\ub3d9\uc73c\ub85c \uc0ac\uc6a9\ud560 \ub54c \ubc1c\uc0dd\ud558\ub294 \ubb38\uc81c\ub294 \ub300\uac1c \ubaa8\ub4c8\uc744 \uac10\uc2f8\uac70\ub098 \uc218\uc815\ud558\ub294 \ucf54\ub4dc\ub97c \uc791\uc131\ud560 \ub54c \ubc1c\uc0dd\ud55c\ub2e4.\n",
      "- \uc608\ub97c \ub4e4\uc5b4, \ubaa8\ub4c8\uc744 \uc774\ub984\uc73c\ub85c \ubd88\ub7ec\uc624\uace0 \ub85c\ub529\ud55c \ucf54\ub4dc\uc5d0 \ud328\uce58\ub97c \ud558\ub294 \ucee4\uc2a4\ud140 \uc784\ud3ec\ud305 \uba54\ucee4\ub2c8\uc998\uc744 \uad6c\ud604\ud558\ub294 \uc911\uc774\ub77c\uace0 \uac00\uc815\ud574 \ubcf4\uc790.\n",
      "- \uc624\ub798\ub41c \ucf54\ub4dc\uc5d0\uc11c \ub0b4\uc7a5\ub41c \\_\\_import\\_\\_() \ud568\uc218\ub85c \uc784\ud3ec\ud2b8\ub97c \uc218\ud589\ud558\ub294 \uac83\uc744 \ubcfc \uc218 \uc788\ub2e4. \uc774 \ubc29\uc2dd\ub3c4 \ub3d9\uc791\uc740 \ud558\uc9c0\ub9cc, \ub300\uac1c\ub294 importlib.import_module()\uc744 \uc0ac\uc6a9\ud558\ub294 \uac83\uc774 \ub354 \uc27d\ub2e4.\n",
      "- \uc784\ud3ec\ud2b8 \ucc98\ub9ac\ub97c \ucee4\uc2a4\ud130\ub9c8\uc774\uc988\ud558\ub294 \uace0\uae09 \uc608\uc81c\ub294 \ub808\uc2dc\ud53c 10.11 \ucc38\uace0"
     ]
    }
   ],
   "metadata": {}
  }
 ]
}
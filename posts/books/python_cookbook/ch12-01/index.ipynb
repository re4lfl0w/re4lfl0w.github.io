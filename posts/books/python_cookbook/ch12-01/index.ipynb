{
 "metadata": {
  "name": "",
  "signature": "sha256:bce279673a5d4f22eb807ae94436a81238d5d18cb7b36ce1dcf110575c6011d7"
 },
 "nbformat": 3,
 "nbformat_minor": 0,
 "worksheets": [
  {
   "cells": [
    {
     "cell_type": "markdown",
     "metadata": {},
     "source": [
      "# 12. \ubcd1\ub82c \ucc98\ub9ac\n",
      "\n",
      "- \ud30c\uc774\uc36c\uc740 **\uc4f0\ub808\ub4dc \ud504\ub85c\uadf8\ub798\ubc0d, \uc11c\ube0c \ud504\ub85c\uc138\uc2a4 \uc2e4\ud589, \uc81c\ub108\ub808\uc774\ud130 \ud568\uc218\ub97c \uc0ac\uc6a9\ud55c \ud2b8\ub9ad** \ub4f1 \uc5ec\ub7ec\uac00\uc9c0 \ubcd1\ub82c \ud504\ub85c\uadf8\ub798\ubc0d \ubc29\uc2dd\uc744 \uc9c0\uc6d0\ud568\n",
      "- \uc774\ubc88 \uc7a5\uc5d0\uc11c\ub294 \uc774\ub7f0 \ubcd1\ub82c \ud504\ub85c\uadf8\ub798\ubc0d \ub0b4\uc6a9\uc744 \ub2e4\ub8e8\uba70, \uc77c\ubc18\uc801\uc778 \uc4f0\ub808\ub4dc \ud504\ub85c\uadf8\ub798\ubc0d \uae30\ubc95\uacfc \ubcd1\ub82c \ucc98\ub9ac \ubc29\uc2dd\ub3c4 \ubc30\uc6c0\n",
      "- \uc219\ub828\ub41c \ud504\ub85c\uadf8\ub798\uba38\ub77c\uba74, \ubcd1\ub82c \ud504\ub85c\uadf8\ub798\ubc0d\uc5d0 \uc218 \ub9ce\uc740 \uc704\ud5d8\uc774 \uc788\ub2e4\ub294 \uac83\uc744 \uc798 \uc54c\uace0 \uc788\uc74c\n",
      "- \ub530\ub77c\uc11c \uc774\ubc88 \uc7a5\uc758 \ub808\uc2dc\ud53c\ub4e4\uc740 \uc880 \ub354 \uc2e0\ub8b0\uc131 \ub192\uace0 \ub514\ubc84\uae45 \uac00\ub2a5\ud55c \ucf54\ub4dc\uc5d0 \ucd08\uc810\uc744 \ub9de\ucda4"
     ]
    },
    {
     "cell_type": "markdown",
     "metadata": {},
     "source": [
      "## 12.1 \uc4f0\ub808\ub4dc \uc2dc\uc791\uacfc \uc815\uc9c0\n",
      "\n",
      "### \ubb38\uc81c\n",
      "\n",
      "- \ucf54\ub4dc\ub97c \ubcd1\ub82c\uc801\uc73c\ub85c \uc2e4\ud589\ud558\uae30 \uc704\ud574\uc11c \uc4f0\ub808\ub4dc\ub97c \ub9cc\ub4e4\uac70\ub098 \uc5c6\uc560\uace0 \uc2f6\ub2e4\n",
      "\n",
      "### \ud574\uacb0\n",
      "\n",
      "- threading \ub77c\uc774\ube0c\ub7ec\ub9ac\ub294 \ud30c\uc774\uc36c\uc758 \ud638\ucd9c \uac00\ub2a5\ud55c \uac83\uc744 \uc2a4\uc2a4\ub85c \uc4f0\ub808\ub4dc\uc5d0\uc11c \uc2e4\ud589\ud558\ub3c4\ub85d \ud568\n",
      "- Thread \uc778\uc2a4\ud134\uc2a4\ub97c \ub9cc\ub4e4\uace0 \uc2e4\ud589\ud558\uace0 \uc2f6\uc740 \uac83\uc744 \ub123\uc73c\uba74 \ub428"
     ]
    },
    {
     "cell_type": "code",
     "collapsed": false,
     "input": [
      "# \uac1c\ubcc4 \uc4f0\ub808\ub4dc\uc5d0\uc11c \uc2e4\ud589\ud560 \ucf54\ub4dc\n",
      "import time\n",
      "def countdown(n):\n",
      "    while n > 0:\n",
      "        print('T-minus', n)\n",
      "        n -= 1\n",
      "        time.sleep(5)\n",
      "        \n",
      "from threading import Thread\n",
      "t = Thread(target=countdown, args=(10,))\n",
      "t.start()"
     ],
     "language": "python",
     "metadata": {},
     "outputs": [
      {
       "output_type": "stream",
       "stream": "stdout",
       "text": [
        "T-minus 10\n"
       ]
      },
      {
       "output_type": "stream",
       "stream": "stdout",
       "text": [
        "T-minus 9\n",
        "T-minus 8\n"
       ]
      },
      {
       "output_type": "stream",
       "stream": "stdout",
       "text": [
        "T-minus 7\n",
        "T-minus 6\n"
       ]
      },
      {
       "output_type": "stream",
       "stream": "stdout",
       "text": [
        "T-minus 5\n",
        "T-minus 4\n"
       ]
      },
      {
       "output_type": "stream",
       "stream": "stdout",
       "text": [
        "T-minus 3\n",
        "T-minus 2\n"
       ]
      }
     ],
     "prompt_number": 15
    },
    {
     "cell_type": "code",
     "collapsed": false,
     "input": [
      "if t.is_alive():\n",
      "    print('Still running')\n",
      "else:\n",
      "    print('Completed')"
     ],
     "language": "python",
     "metadata": {},
     "outputs": [
      {
       "output_type": "stream",
       "stream": "stdout",
       "text": [
        "T-minus 1\n",
        "Completed"
       ]
      },
      {
       "output_type": "stream",
       "stream": "stdout",
       "text": [
        "\n"
       ]
      }
     ],
     "prompt_number": 16
    },
    {
     "cell_type": "code",
     "collapsed": false,
     "input": [
      "help(t.start)"
     ],
     "language": "python",
     "metadata": {},
     "outputs": [
      {
       "output_type": "stream",
       "stream": "stdout",
       "text": [
        "Help on method start in module threading:\n",
        "\n",
        "start() method of threading.Thread instance\n",
        "    Start the thread's activity.\n",
        "    \n",
        "    It must be called at most once per thread object. It arranges for the\n",
        "    object's run() method to be invoked in a separate thread of control.\n",
        "    \n",
        "    This method will raise a RuntimeError if called more than once on the\n",
        "    same thread object.\n",
        "\n"
       ]
      }
     ],
     "prompt_number": 19
    },
    {
     "cell_type": "code",
     "collapsed": false,
     "input": [
      "help(t.join)"
     ],
     "language": "python",
     "metadata": {},
     "outputs": [
      {
       "output_type": "stream",
       "stream": "stdout",
       "text": [
        "Help on method join in module threading:\n",
        "\n",
        "join(timeout=None) method of threading.Thread instance\n",
        "    Wait until the thread terminates.\n",
        "    \n",
        "    This blocks the calling thread until the thread whose join() method is\n",
        "    called terminates -- either normally or through an unhandled exception\n",
        "    or until the optional timeout occurs.\n",
        "    \n",
        "    When the timeout argument is present and not None, it should be a\n",
        "    floating point number specifying a timeout for the operation in seconds\n",
        "    (or fractions thereof). As join() always returns None, you must call\n",
        "    isAlive() after join() to decide whether a timeout happened -- if the\n",
        "    thread is still alive, the join() call timed out.\n",
        "    \n",
        "    When the timeout argument is not present or None, the operation will\n",
        "    block until the thread terminates.\n",
        "    \n",
        "    A thread can be join()ed many times.\n",
        "    \n",
        "    join() raises a RuntimeError if an attempt is made to join the current\n",
        "    thread as that would cause a deadlock. It is also an error to join() a\n",
        "    thread before it has been started and attempts to do so raises the same\n",
        "    exception.\n",
        "\n"
       ]
      }
     ],
     "prompt_number": 17
    },
    {
     "cell_type": "markdown",
     "metadata": {},
     "source": [
      "- \uc2a4\ub808\ub4dc\uc5d0 \uc870\uc778(join) \ud558\ub3c4\ub85d \uc694\uccad\uc744 \ubcf4\ub0bc \uc218\ub3c4 \uc788\uc73c\uba70, \uc885\ub8cc\ud560 \ub54c\uae4c\uc9c0 \uae30\ub2e4\ub9bc\n",
      "\n",
      "```python\n",
      "t.join()\n",
      "```\n",
      "\n",
      "- \uc778\ud130\ud504\ub9ac\ud130\ub294 \uc2a4\ub808\ub4dc\uac00 \uc885\ub8cc\ub420 \ub54c\uae4c\uc9c0 \uc2e4\ud589 \uc0c1\ud0dc\ub85c \ub0a8\uc74c\n",
      "- \uc624\ub7ab\ub3d9\uc548 \uc2e4\ud589\ub418\ub294 \uc2a4\ub808\ub4dc\ub098 \ubc31\uadf8\ub77c\uc6b4\ub4dc\uc5d0\uc11c \uc601\uc6d0\ud788 \uc2e4\ud589\ud558\ub294 \uc2a4\ub808\ub4dc\ub294 \ub370\ubaac\uc73c\ub85c \ub9cc\ub4dc\ub294 \uac83\uc744 \uace0\ub824\ud574 \ubcf4\uc790\n",
      "\n",
      "```python\n",
      "t = Thread(target=countdown, args=(10,), daemon=True)\n",
      "t.start()\n",
      "```\n",
      "\n",
      "- \ub370\ubaac \uc2a4\ub808\ub4dc\ub294 \uc870\uc778 \ubd88\uac00\n",
      "- \ud558\uc9c0\ub9cc \uba54\uc778 \uc2a4\ub808\ub4dc\uac00 \uc885\ub8cc\ub420 \ub54c \uc790\ub3d9\uc73c\ub85c \uc0ac\ub77c\uc9c4\ub2e4\ub294 \ud2b9\uc9d5\n",
      "\n",
      "\n",
      "- \uc55e\uc5d0 \ub098\uc628 2\uac00\uc9c0 \ub3d9\uc791 \uc678\uc5d0 \uc2a4\ub808\ub4dc\ub97c \uac00\uc9c0\uace0 \ud560 \uc218 \uc788\ub294 \uc77c\uc774 \ub9ce\uc9c0 \uc54a\uc74c\n",
      "- \uc608\ub97c \ub4e4\uc5b4 \uc2a4\ub808\ub4dc\ub97c \uc885\ub8cc\ud558\ub3c4\ub85d \uc9c0\uc2dc\ud558\uac70\ub098, \uc2a4\ub808\ub4dc\uc5d0 \uc2e0\ud638\ub97c \ubcf4\ub0b4\uac70\ub098 \uc2a4\ucf00\uc974\ub9c1\ud558\ub294 \ub4f1 \uc0c1\uc704 \ub808\ubca8 \ub3d9\uc791\uc774 \ubd88\uac00\ub2a5\ud568\n",
      "- \uc774\ub7f0 \uae30\ub2a5\uc774 \ud544\uc694\ud558\ub2e4\uba74 \ub3c5\uc790 \uc2a4\uc2a4\ub85c \ub9cc\ub4e4\uc5b4 \uc368\uc57c \ud568\n",
      "- \uc2a4\ub808\ub4dc\ub97c \uc885\ub8cc\ud558\uace0 \uc2f6\ub2e4\uba74, \uc2a4\ub808\ub4dc\uac00 \uc120\ud0dd\ud55c \uc9c0\uc810\uc5d0\uc11c \ud3f4(poll) \ud558\ub3c4\ub85d \ud504\ub85c\uadf8\ub798\ubc0d\ud574\uc57c \ud568\n",
      "- \uc608\ub97c \ub4e4\uc5b4 \ub2e4\uc74c\uacfc \uac19\uc740 \ud074\ub798\uc2a4\uc5d0 \uc2a4\ub808\ub4dc\ub97c \ub123\uc744 \uc218 \uc788\uc74c"
     ]
    },
    {
     "cell_type": "code",
     "collapsed": false,
     "input": [
      "class CountdownTask:\n",
      "    def __init__(self):\n",
      "        self._running = True\n",
      "        \n",
      "    def terminate(self):\n",
      "        self._running = False\n",
      "        \n",
      "    def run(self, n):\n",
      "        while self._running and n > 0:\n",
      "            print('T-minus', n)\n",
      "            n -= 1\n",
      "            time.sleep(5)\n",
      "            \n",
      "c = CountdownTask()\n",
      "t = Thread(target=c.run, args=(10,))\n",
      "t.start()"
     ],
     "language": "python",
     "metadata": {},
     "outputs": [
      {
       "output_type": "stream",
       "stream": "stdout",
       "text": [
        "T-minus 10\n"
       ]
      }
     ],
     "prompt_number": 24
    },
    {
     "cell_type": "code",
     "collapsed": false,
     "input": [
      "time.sleep(20)\n",
      "print('About to terminate')\n",
      "c.terminate() # \uc885\ub8cc \uc9c0\uc2dc\n",
      "t.join() # \uc2e4\uc81c \uc885\ub8cc\uae4c\uc9c0 \uae30\ub2e4\ub9bc(\ud544\uc694\ud55c \uacbd\uc6b0)\n",
      "print('Terminated')"
     ],
     "language": "python",
     "metadata": {},
     "outputs": [
      {
       "output_type": "stream",
       "stream": "stdout",
       "text": [
        "T-minus 9\n",
        "T-minus 8\n",
        "T-minus 7\n",
        "T-minus 6\n",
        "About to terminate"
       ]
      },
      {
       "output_type": "stream",
       "stream": "stdout",
       "text": [
        "\n",
        "Terminated"
       ]
      },
      {
       "output_type": "stream",
       "stream": "stdout",
       "text": [
        "\n"
       ]
      }
     ],
     "prompt_number": 25
    },
    {
     "cell_type": "markdown",
     "metadata": {},
     "source": [
      "- \uc2a4\ub808\ub4dc \uc885\ub8cc\uc5d0 \ub300\ud55c \ud3f4\ub9c1\uc740 \uc785\ucd9c\ub825\uacfc \uac19\uc740 \uc2e4\ud589\uc774 \uba48\ucd94\ub294 \uc791\uc5c5\uacfc \uad00\ub828 \uc788\ub294 \uacbd\uc6b0\uc5d0 \ub9e4\uc6b0 \ubcf5\uc7a1\ud574\uc9d0\n",
      "- \uc608\ub97c \ub4e4\uc5b4 \uc2a4\ub808\ub4dc\uac00 \uc785\ucd9c\ub825 \ub3d9\uc791\uc5d0 \uc601\uc6d0\ud788 \uba48\ucdb0\uc788\ub294 \uacbd\uc6b0\uc5d0\ub294 \uc885\ub8cc \uc5ec\ubd80\ub97c \ud655\uc778\ud558\uae30 \uc704\ud574 \ubc18\ud658\ub420 \uc218 \uc5c6\uc74c\n",
      "- \uc774 \uc774\uc288\ub97c \ud574\uacb0\ud558\uae30 \uc704\ud574\uc11c \uc2a4\ub808\ub4dc\uc5d0 \uc870\uc2ec\uc2a4\ub7fd\uac8c \ud0c0\uc784\uc544\uc6c3 \ub8e8\ud504\ub97c \ub123\uc5b4\uc57c \ud568\n",
      "\n",
      "```python\n",
      "class IOTask:\n",
      "    def terminate(self):\n",
      "        self._running = False\n",
      "        \n",
      "    def run(self, sock):\n",
      "        # sock\uc740 \uc18c\ucf13\uc774\ub2e4\n",
      "        sock.settimeout(5) # \ud0c0\uc784\uc544\uc6c3 \uc2dc\uac04 \uc124\uc815\n",
      "        while self._running:\n",
      "            # \uc2e4\ud589\uc774 \uba48\ucd94\ub294 \uc785\ucd9c\ub825\uc744 \ud0c0\uc784\uc544\uc6c3\uacfc \ud568\uaed8 \uc218\ud589\n",
      "            try:\n",
      "                data = sock.recv(8192)\n",
      "                break\n",
      "            except socket.timeout:\n",
      "                continue\n",
      "            # \uacc4\uc18d \ub41c \ucc98\ub9ac\n",
      "            ...\n",
      "        # \uc885\ub8cc\n",
      "        return\n",
      "```"
     ]
    },
    {
     "cell_type": "markdown",
     "metadata": {},
     "source": [
      "### \ud1a0\ub860\n",
      "\n",
      "- \uc804\uc5ed \uc778\ud130\ud504\ub9ac\ud130 \ub77d(global interpreter lock, GIL)\uc73c\ub85c \uc778\ud574, \ud30c\uc774\uc36c\uc740 \uc778\ud130\ud504\ub9ac\ud130\uc5d0\uc11c \ub3d9\uc2dc\uc5d0 \ud558\ub098\uc758 \uc2a4\ub808\ub4dc\ub9cc \uc2e4\ud589\ud560 \uc218 \uc788\uc74c\n",
      "- \uc774\ub85c \uc778\ud574 \ud30c\uc774\uc36c \uc2a4\ub808\ub4dc\ub294 \uc5ec\ub7ec CPU\uc5d0 \ubcd1\ub82c\uc801\uc73c\ub85c \ub3d9\uc791\ud558\ub294 \ubcf5\uc7a1\ud55c \uc791\uc5c5\uc5d0\ub294 \uc0ac\uc6a9\ud558\uc9c0 \uc54a\ub294 \uac83\uc774 \uc88b\uc74c\n",
      "- \uc774\ubcf4\ub2e4\ub294 \uc785\ucd9c\ub825 \ucc98\ub9ac\uc640 \uc2e4\ud589\uc774 \uba48\ucd94\ub294 \uc791\uc5c5(\uc785\ucd9c\ub825 \uae30\ub2e4\ub9ac\uae30, \ub370\uc774\ud130\ubca0\uc774\uc2a4 \uacb0\uacfc \uae30\ub2e4\ub9ac\uae30 \ub4f1)\uc744 \uc218\ud589\ud558\ub294 \ucf54\ub4dc\uc5d0\uc11c \ubcd1\ub82c\uc801 \uc2e4\ud589\uc744 \ucc98\ub9ac\ud558\ub294 \uac83\uc774 \ub354 \uc54c\ub9de\uc74c\n",
      "- Thread \ud074\ub798\uc2a4\ub97c \uc0c1\uc18d \ubc1b\uc544 \uc2a4\ub808\ub4dc\ub97c \uc815\uc758\ud560 \ub54c\uac00 \uc788\uc74c"
     ]
    },
    {
     "cell_type": "code",
     "collapsed": false,
     "input": [
      "from threading import Thread\n",
      "\n",
      "class CountdownThread(Thread):\n",
      "    def __init__(self, n):\n",
      "        super().__init__()\n",
      "        self.n = n\n",
      "        \n",
      "    def run(self):\n",
      "        while self.n > 0:\n",
      "            print('T-minus', self.n)\n",
      "            self.n -= 1\n",
      "            time.sleep(2)\n",
      "            \n",
      "c = CountdownThread(5)\n",
      "c.start()"
     ],
     "language": "python",
     "metadata": {},
     "outputs": [
      {
       "output_type": "stream",
       "stream": "stdout",
       "text": [
        "T-minus 5\n"
       ]
      },
      {
       "output_type": "stream",
       "stream": "stdout",
       "text": [
        "T-minus 4\n",
        "T-minus 3\n"
       ]
      },
      {
       "output_type": "stream",
       "stream": "stdout",
       "text": [
        "T-minus 2\n",
        "T-minus 1\n"
       ]
      }
     ],
     "prompt_number": 46
    },
    {
     "cell_type": "markdown",
     "metadata": {},
     "source": [
      "- \uc774\ub807\uac8c \ud574\ub3c4 \ub3d9\uc791\ud558\uae30\ub294 \ud558\uc9c0\ub9cc, \ucf54\ub4dc\uc640 threading \ub77c\uc774\ube0c\ub7ec\ub9ac \uc0ac\uc774\uc5d0 **\ubd88\ud544\uc694\ud55c \uc758\uc874\uc131**\uc774 \uc0dd\uae40\n",
      "- \uc989, \uc55e\uc5d0 \ub098\uc628 \uae30\uc220\uc744 \uc0ac\uc6a9\ud558\uba74 threading\uc5d0 \ub300\ud55c \uc544\ubb34\ub7f0 \uc758\uc874\uc131\uc774 \uc5c6\uc9c0\ub9cc, Threading \ud074\ub798\uc2a4\ub97c \uc0c1\uc18d \ubc1b\uc73c\uba74 \uc2a4\ub808\ub4dc \ucf58\ud0dd\uc2a4\ud2b8\uc758 \uacb0\uacfc \ucf54\ub4dc\ub9cc \uc0ac\uc6a9 \uac00\ub2a5\n",
      "- \uc774\ub7f0 \uc758\uc874\uc131\uc5d0\uc11c \uc790\uc720\ub85c\uc6cc\uc9c0\uba74 \ub2e4\ub978 \ucf58\ud0dd\uc2a4\ud2b8\uc5d0\uc11c\ub3c4 \uc880 \ub354 \uc720\uc6a9\ud558\uac8c \uc0ac\uc6a9 \uac00\ub2a5\n",
      "- \uc608\ub97c \ub4e4\uc5b4, \ub2e4\uc74c\uacfc \uac19\uc774 multiprocessing \ubaa8\ub4c8\uc744 \uc0ac\uc6a9\ud574\uc11c \uc791\uc131\ud55c \ucf54\ub4dc\ub97c \ubcc4\ub3c4\uc758 \ud504\ub85c\uc138\uc2a4\uc5d0\uc11c \uc2e4\ud589 \uac00\ub2a5"
     ]
    },
    {
     "cell_type": "code",
     "collapsed": false,
     "input": [
      "import multiprocessing\n",
      "c = CountdownTask()\n",
      "p = multiprocessing.Process(target=c.run, args=(10,))\n",
      "p.start()"
     ],
     "language": "python",
     "metadata": {},
     "outputs": [],
     "prompt_number": 49
    },
    {
     "cell_type": "code",
     "collapsed": false,
     "input": [
      "print(1)"
     ],
     "language": "python",
     "metadata": {},
     "outputs": [
      {
       "output_type": "stream",
       "stream": "stdout",
       "text": [
        "1\n",
        "T-minus 6\n",
        "T-minus 5\n",
        "T-minus 4\n",
        "T-minus 3\n",
        "T-minus 2\n",
        "T-minus 1\n"
       ]
      }
     ],
     "prompt_number": 52
    },
    {
     "cell_type": "markdown",
     "metadata": {},
     "source": [
      "- \ub2e4\uc2dc \ud55c \ubc88 \ub9d0\ud558\uc9c0\ub9cc, \uc774 \ucf54\ub4dc\ub294 CountdownTask \ud074\ub798\uc2a4\uac00 **\uc2e4\uc81c \ubcd1\ub82c\uc131**(\uc2a4\ub808\ub4dc, \ud504\ub85c\uc138\uc2a4 \ub4f1)\uc5d0 **\uc911\ub9bd\uc801\uc73c\ub85c \uad6c\ud604\ub418\uc5b4 \uc788\uc5b4\uc57c\ub9cc \ub3d9\uc791\ud568**"
     ]
    },
    {
     "cell_type": "markdown",
     "metadata": {},
     "source": [
      "## 12.2 \uc2a4\ub808\ub4dc\uac00 \uc2dc\uc791\ud588\ub294\uc9c0 \ud310\ub2e8\ud558\uae30\n",
      "\n",
      "### \ubb38\uc81c\n",
      "\n",
      "- \uc2a4\ub808\ub4dc\ub97c \ub9cc\ub4e4\uc5c8\ub294\ub370, \uc2e4\uc81c\ub85c \uc2e4\ud589\uc744 \uc2dc\uc791\ud588\ub294\uc9c0 \ud655\uc778\ud558\uace0 \uc2f6\ub2e4\n",
      "\n",
      "### \ud574\uacb0\n",
      "\n",
      "- \uc2a4\ub808\ub4dc\uc758 \ud575\uc2ec \uae30\ub2a5\uc740 \ub3c5\ub9bd\uc801, \ube44\uacb0\uc815\uc801\uc73c\ub85c \uc2e4\ud589\ub41c\ub2e4\ub294 \uac83\n",
      "- \ub530\ub77c\uc11c \ud504\ub85c\uadf8\ub7a8\uc758 \ub2e4\ub978 \uc2a4\ub808\ub4dc\uac00 \ud2b9\uc815 \uc2a4\ub808\ub4dc\uac00 \ud2b9\uc815 \uc9c0\uc810\uc5d0 \ub3c4\ub2ec\ud588\ub294\uc9c0 \uc54c\uc544\uc57c \ud558\ub294 \uacbd\uc6b0\uc5d0 \ubcf5\uc7a1\ud55c \ub3d9\uae30\ud654 \ubb38\uc81c\uac00 \uc0dd\uae30\uae30\ub3c4 \ud568\n",
      "- \uc774 \ubb38\uc81c\ub97c \ud574\uacb0\ud558\ub824\uba74 threading \ub77c\uc774\ube0c\ub7ec\ub9ac\uc758 Event \uac1d\uccb4\ub97c \uc0ac\uc6a9\ud568\n",
      "- Event \uc778\uc2a4\ud134\uc2a4\ub294 \uc2a4\ub808\ub4dc\uac00 \uc5b4\ub5a4 \uc77c\uc774 \ubc1c\uc0dd\ud560 \ub54c\uae4c\uc9c0 \uae30\ub2e4\ub9ac\ub3c4\ub85d \ud558\ub294 \"\ubd99\uc5b4 \uc788\ub294\" \ud50c\ub798\uadf8\uc640 \uc720\uc0ac\ud568\n",
      "- \uc6b0\uc120 \uc774 \uc774\ubca4\ud2b8\ub294 0\uc73c\ub85c \uc124\uc815\ud568\n",
      "- \ub9cc\uc57d \uc774\ubca4\ud2b8\ub97c \uc124\uc815\ud558\uc9c0 \uc54a\uace0 \uc2a4\ub808\ub4dc\uac00 \uc774\ubca4\ud2b8\ub97c \uae30\ub2e4\ub9ac\ub294 \uc911\uc774\ub77c\uba74 \uc124\uc815\ud560 \ub54c\uae4c\uc9c0 \uc2e4\ud589\uc744 \uba48\ucda4(sleep \uc0c1\ud0dc)\n",
      "- \uc774\ubca4\ud2b8\ub97c \uc124\uc815\ud558\ub294 \uc2a4\ub808\ub4dc\ub294 \uae30\ub2e4\ub9ac\uace0 \uc788\ub294 \ubaa8\ub4e0 \uc2a4\ub808\ub4dc\ub97c \uae68\uc6c0\n",
      "- \uc2a4\ub808\ub4dc\uc5d0\uc11c \uc774\ubbf8 \uc124\uc815\ub41c \uc774\ubca4\ud2b8\ub97c \uae30\ub2e4\ub9ac\uace0 \uc788\ub2e4\uba74, \ub2e8\uc21c\ud788 \uc774\ub97c \ubb34\uc2dc\ud558\uace0 \uc2e4\ud589\uc744 \uacc4\uc18d\ud568\n",
      "- \ub2e4\uc74c\uc740 Event\ub97c \uc0ac\uc6a9\ud574 \uc2a4\ub808\ub4dc\ub97c \uc2dc\uc791\ud558\ub294 \ucf54\ub4dc \uc0d8\ud50c"
     ]
    },
    {
     "cell_type": "code",
     "collapsed": false,
     "input": [
      "from threading import Thread, Event\n",
      "import time\n",
      "\n",
      "# \ub3c5\ub9bd\ub41c \uc2a4\ub808\ub4dc\uc5d0\uc11c \uc2e4\ud589\ud560 \ucf54\ub4dc\n",
      "def countdown(n, started_evt):\n",
      "    print('countdown starting')\n",
      "    started_evt.set()\n",
      "    while n > 0:\n",
      "        print('T-minus', n)\n",
      "        n -= 1\n",
      "        time.sleep(3)\n",
      "    \n",
      "# \uc2dc\uc791\uc744 \ud638\ucd9c\ud558\ub294\ub370 \uc0ac\uc6a9\ud560 \uc774\ubca4\ud2b8 \uac1d\uccb4\ub97c \uc0dd\uc131\n",
      "started_evt = Event()\n",
      "\n",
      "# \uc2a4\ub808\ub4dc\ub97c \uc2e4\ud589\ud558\uace0 \uc2dc\uc791 \uc774\ubca4\ud2b8\uc5d0 \uc804\ub2ec\n",
      "print('Launching countdown')\n",
      "t = Thread(target=countdown, args=(10, started_evt))\n",
      "t.start()\n",
      "\n",
      "# \uc2a4\ub808\ub4dc\uac00 \uc2dc\uc791\ud558\uae30\ub97c \uae30\ub2e4\ub9bc\n",
      "started_evt.wait()\n",
      "print('countdown is running')"
     ],
     "language": "python",
     "metadata": {},
     "outputs": [
      {
       "output_type": "stream",
       "stream": "stdout",
       "text": [
        "Launching countdown\n",
        "countdown starting\n",
        "T-minus 10\n",
        "countdown is running\n"
       ]
      },
      {
       "output_type": "stream",
       "stream": "stdout",
       "text": [
        "T-minus 9\n",
        "T-minus 8\n"
       ]
      },
      {
       "output_type": "stream",
       "stream": "stdout",
       "text": [
        "T-minus 7\n",
        "T-minus 6\n"
       ]
      },
      {
       "output_type": "stream",
       "stream": "stdout",
       "text": [
        "T-minus 5\n",
        "T-minus 4\n"
       ]
      },
      {
       "output_type": "stream",
       "stream": "stdout",
       "text": [
        "T-minus 3\n",
        "T-minus 2\n"
       ]
      }
     ],
     "prompt_number": 53
    },
    {
     "cell_type": "code",
     "collapsed": false,
     "input": [
      "print(1)"
     ],
     "language": "python",
     "metadata": {},
     "outputs": [
      {
       "output_type": "stream",
       "stream": "stdout",
       "text": [
        "T-minus 1\n",
        "1"
       ]
      },
      {
       "output_type": "stream",
       "stream": "stdout",
       "text": [
        "\n"
       ]
      }
     ],
     "prompt_number": 54
    },
    {
     "cell_type": "code",
     "collapsed": false,
     "input": [
      "# \uc2dc\uc791\uc744 \ud638\ucd9c\ud558\ub294\ub370 \uc0ac\uc6a9\ud560 \uc774\ubca4\ud2b8 \uac1d\uccb4\ub97c \uc0dd\uc131\n",
      "started_evt = Event()\n",
      "\n",
      "# \uc2a4\ub808\ub4dc\ub97c \uc2e4\ud589\ud558\uace0 \uc2dc\uc791 \uc774\ubca4\ud2b8\uc5d0 \uc804\ub2ec\n",
      "print('Launching countdown')\n",
      "t = Thread(target=countdown, args=(10, started_evt))\n",
      "t.start()\n",
      "\n",
      "# \uc2a4\ub808\ub4dc\uac00 \uc2dc\uc791\ud558\uae30\ub97c \uae30\ub2e4\ub9bc\n",
      "# started_evt.wait()\n",
      "# \uadf8\ub798\ub3c4 running\uc774 \ub4a4\uc5d0 \ub098\uc624\ub124.\n",
      "# t.start()\uac00 \ub354 \ube68\ub77c\uc11c \uadf8\ub7f0\ub4ef\n",
      "print('countdown is running')"
     ],
     "language": "python",
     "metadata": {},
     "outputs": [
      {
       "output_type": "stream",
       "stream": "stdout",
       "text": [
        "Launching countdown\n",
        "countdown starting\n",
        "T-minus 10\n",
        "countdown is running\n"
       ]
      },
      {
       "output_type": "stream",
       "stream": "stdout",
       "text": [
        "T-minus 9\n",
        "T-minus 8\n"
       ]
      },
      {
       "output_type": "stream",
       "stream": "stdout",
       "text": [
        "T-minus 7\n",
        "T-minus 6\n"
       ]
      },
      {
       "output_type": "stream",
       "stream": "stdout",
       "text": [
        "T-minus 5\n",
        "T-minus 4\n"
       ]
      },
      {
       "output_type": "stream",
       "stream": "stdout",
       "text": [
        "T-minus 3\n",
        "T-minus 2\n"
       ]
      }
     ],
     "prompt_number": 55
    },
    {
     "cell_type": "markdown",
     "metadata": {},
     "source": [
      "- \uc774 \ucf54\ub4dc\ub97c \uc2e4\ud589\ud558\uba74 \ud56d\uc0c1 \"countdown starting\" \uba54\uc2dc\uc9c0 \uc774\ud6c4\uc5d0 \"countdown is running\" \uba54\uc2dc\uc9c0\uac00 \ucd9c\ub825 \ub428\n",
      "- \uc774\ub294 \uba54\uc778 \uc2a4\ub808\ub4dc\uac00 \uc2dc\uc791 \uba54\uc2dc\uc9c0\ub97c \ucd9c\ub825\ud558\ub294 countdown() \ud568\uc218\ub97c \uae30\ub2e4\ub9ac\ub3c4\ub85d \ud558\ub294 \uc774\ubca4\ud2b8 \ub54c\ubb38\uc5d0 \ub098\ud0c0\ub09c \ud604\uc0c1"
     ]
    },
    {
     "cell_type": "markdown",
     "metadata": {},
     "source": [
      "### \ud1a0\ub860\n",
      "\n",
      "- Event \uac1d\uccb4\ub294 \uc77c\ud68c\uc131 \uc774\ubca4\ud2b8\uc5d0 \uc5b4\uc6b8\ub9bc\n",
      "- \uc989, \uc6b0\ub9ac\ub294 \uc774\ubca4\ud2b8\ub97c \ub9cc\ub4e4\uace0, \uc2a4\ub808\ub4dc\ub294 \uc774\ubca4\ud2b8\uac00 \uc124\uc815\ub418\uae30\ub97c \uae30\ub2e4\ub9ac\uace0, \uc124\uc815\uc744 \ub9c8\uce58\uace0 \ub098\uba74 Event\ub97c \ubc84\ub9bc\n",
      "- \ubb3c\ub860 clear() \uba54\uc18c\ub4dc\ub85c \uc774\ubca4\ud2b8\ub97c \uc81c\uac70\ud560 \uc218\ub3c4 \uc788\uc9c0\ub9cc, \uc548\uc804\ud558\uac8c \uc774\ubca4\ud2b8\ub97c \uc81c\uac70\ud558\uace0 \ub2e4\uc2dc \uc124\uc815\ub418\uae30\ub97c \uae30\ub2e4\ub9ac\ub294 \uac83\uc740 \uc27d\uc9c0 \uc54a\uc73c\uba70, \uc774\ubca4\ud2b8 \ubd84\uc2e4, \ub370\ub4dc\ub77d \ub4f1\uc758 \ubb38\uc81c\uac00 \ubc1c\uc0dd\ud558\ub294 \uc6d0\uc778(\uc2e4\uc81c\ub85c, \uc774\ubca4\ud2b8\ub97c \uc124\uc815\ud55c \ud6c4\uc5d0 \uc81c\uac70\ud558\ub77c\ub294 \uc694\uccad\uc774, \ud574\uc81c\ub41c \uc2a4\ub808\ub4dc\uac00 \ub2e4\uc2dc \uc774\ubca4\ud2b8\ub97c \uae30\ub2e4\ub9ac\uae30 \uc2dc\uc791\ud558\uae30 \uc804\uc5d0 \uc218\ud589\ub418\ub9ac\ub77c\uace0 \ubcf4\uc7a5\ud560 \uc218 \uc5c6\uc74c)\n",
      "- \ub9cc\uc57d \uc2a4\ub808\ub4dc\uac00 \uc774\ubca4\ud2b8\ub97c \uc9c0\uc18d\uc801\uc73c\ub85c \ubc1c\uc0dd\uc2dc\ud0ac \uc608\uc815\uc774\ub77c\uba74 Condition \uac1d\uccb4 \uc0ac\uc6a9\uc744 \uace0\ub824\ud574 \ubcf4\uc790\n",
      "- \uc608\ub97c \ub4e4\uc5b4 \ub2e4\uc74c \ucf54\ub4dc\ub294 \ub2e4\ub978 \uc2a4\ub808\ub4dc\uc758 \ud0c0\uc774\uba38\uac00 \ub9cc\ub8cc\ub418\uc9c0 \uc54a\uc558\ub294\uc9c0 \uc9c0\uc18d\uc801\uc73c\ub85c \ud655\uc778\ud558\ub294 \uc608\uc81c"
     ]
    },
    {
     "cell_type": "code",
     "collapsed": false,
     "input": [
      "print('clear')"
     ],
     "language": "python",
     "metadata": {},
     "outputs": [
      {
       "output_type": "stream",
       "stream": "stdout",
       "text": [
        "ok\n"
       ]
      }
     ],
     "prompt_number": 57
    },
    {
     "cell_type": "code",
     "collapsed": false,
     "input": [
      "import threading\n",
      "import time\n",
      "\n",
      "class PeriodicTimer:\n",
      "    def __init__(self, interval):\n",
      "        self._interval = interval\n",
      "        self._flag = 0\n",
      "        self._cv = threading.Condition()\n",
      "        \n",
      "    def start(self):\n",
      "        t = threading.Thread(target=self.run)\n",
      "        t.daemon = True\n",
      "        t.start()\n",
      "        \n",
      "    def run(self):\n",
      "        '''\n",
      "        \ud0c0\uc774\uba38\ub97c \uc2e4\ud589\ud558\uace0 \uad6c\uac04\ub9c8\ub2e4 \uae30\ub2e4\ub9ac\ub294 \uc2a4\ub808\ub4dc\uc5d0\uac8c \uc54c\ub9bc\n",
      "        '''\n",
      "        while True:\n",
      "            time.sleep(self._interval)\n",
      "            with self._cv:\n",
      "                self._flag ^= 1\n",
      "                self._cv.notify_all()\n",
      "                \n",
      "    def wait_for_tick(self):\n",
      "        '''\n",
      "        \ud0c0\uc774\uba38\uc758 \ub2e4\uc74c \ud2f1\uc744 \uae30\ub2e4\ub9bc\n",
      "        '''\n",
      "        with self._cv:\n",
      "            last_flag = self._flag\n",
      "            while last_flag == self._flag:\n",
      "                self._cv.wait()\n",
      "                \n",
      "# \ud0c0\uc774\uba38 \uc0ac\uc6a9 \uc608\uc81c\n",
      "ptimer = PeriodicTimer(5)\n",
      "ptimer.start()\n",
      "\n",
      "# \ud0c0\uc774\uba38\uc5d0 \uc2f1\ud06c\ud558\ub294 \ub450 \uc2a4\ub808\ub4dc\n",
      "def countdown(nticks):\n",
      "    while nticks > 0:\n",
      "        ptimer.wait_for_tick()\n",
      "        print('T-minus', nticks)\n",
      "        nticks -= 1\n",
      "        \n",
      "def countup(last):\n",
      "    n = 0\n",
      "    while n < last:\n",
      "        ptimer.wait_for_tick()\n",
      "        print('Counting', n)\n",
      "        n += 1\n",
      "        \n",
      "threading.Thread(target=countdown, args=(10,)).start()\n",
      "threading.Thread(target=countup, args=(5,)).start()"
     ],
     "language": "python",
     "metadata": {},
     "outputs": [
      {
       "output_type": "stream",
       "stream": "stdout",
       "text": [
        "Counting 0\n",
        "T-minus 10\n",
        "Counting 1\n",
        "T-minus 9\n"
       ]
      },
      {
       "output_type": "stream",
       "stream": "stdout",
       "text": [
        "T-minus 8\n",
        "Counting 2\n",
        "T-minus 7\n",
        "Counting 3\n"
       ]
      },
      {
       "output_type": "stream",
       "stream": "stdout",
       "text": [
        "Counting 4\n",
        "T-minus 6\n",
        "T-minus 5\n"
       ]
      },
      {
       "output_type": "stream",
       "stream": "stdout",
       "text": [
        "T-minus 4\n",
        "T-minus 3\n"
       ]
      },
      {
       "output_type": "stream",
       "stream": "stdout",
       "text": [
        "T-minus 2\n",
        "T-minus 1\n"
       ]
      }
     ],
     "prompt_number": 58
    },
    {
     "cell_type": "code",
     "collapsed": false,
     "input": [
      "# xor \ud14c\uc2a4\ud2b8\n",
      "b = 0b101\n",
      "b ^= 0b1\n",
      "print(bin(b))\n",
      "b ^= 0b1\n",
      "print(bin(b))\n",
      "b ^= 0b1\n",
      "print(bin(b))"
     ],
     "language": "python",
     "metadata": {},
     "outputs": [
      {
       "output_type": "stream",
       "stream": "stdout",
       "text": [
        "0b100\n",
        "0b101\n",
        "0b100\n"
       ]
      }
     ],
     "prompt_number": 82
    },
    {
     "cell_type": "markdown",
     "metadata": {},
     "source": [
      "- Event \uac1d\uccb4\uc758 \ud575\uc2ec \uae30\ub2a5\uc740 \uae30\ub2e4\ub9ac\uace0 \uc788\ub294 \ubaa8\ub4e0 \uc2a4\ub808\ub4dc\ub97c \uae68\uc6b4\ub2e4\ub294 \uc810\n",
      "- \ub9cc\uc57d \uae30\ub2e4\ub9ac\ub294 \uc2a4\ub808\ub4dc\uc911 \ud558\ub098\ub9cc \uae68\uc6b0\ub294 \ud504\ub85c\uadf8\ub7a8\uc744 \ub9cc\ub4e4\uace0 \uc2f6\ub2e4\uba74 Semaphore\ub098 Condition \uac1d\uccb4\ub97c \uc0ac\uc6a9\ud558\ub294 \uac83\uc774 \ub354 \uc88b\uc74c"
     ]
    },
    {
     "cell_type": "code",
     "collapsed": false,
     "input": [
      "# \uc6cc\ucee4 \uc2a4\ub808\ub4dc\n",
      "def worker(n, sema):\n",
      "    # \ud638\ucd9c\uc744 \uae30\ub2e4\ub9bc\n",
      "    sema.acquire()\n",
      "    # \uba54\uc2dc\uc9c0 \ucd9c\ub825\n",
      "    print('Working', n)\n",
      "    \n",
      "# \uc2a4\ub808\ub4dc \uc0dd\uc131\n",
      "sema = threading.Semaphore(0)\n",
      "nworkers = 10\n",
      "for n in range(nworkers):\n",
      "    t = threading.Thread(target=worker, args=(n, sema,))\n",
      "    t.start()"
     ],
     "language": "python",
     "metadata": {},
     "outputs": [],
     "prompt_number": 84
    },
    {
     "cell_type": "markdown",
     "metadata": {},
     "source": [
      "- \uc55e\uc5d0 \ub098\uc628 \ucf54\ub4dc\ub97c \uc2e4\ud589\ud558\uba74 \uc2a4\ub808\ub4dc \ud480\uc774 \uc2dc\uc791\ub418\uc9c0\ub9cc, \ubaa8\ub450 \uc138\ub9c8\ud3ec\uc5b4(semaphore)\ub97c \ud68d\ub4dd\ud558\ub824\uace0 \uc9c4\ud589\uc774 \ub9c9\ud600 \uc788\uc5b4\uc11c \uc544\ubb34 \uc77c\ub3c4 \uc77c\uc5b4\ub098\uc9c0 \uc54a\uc74c\n",
      "- \uc138\ub9c8\ud3ec\uc5b4\uac00 \ud574\uc81c\ub420 \ub54c\ub9c8\ub2e4 \ud558\ub098\uc758 \uc6cc\ucee4\ub9cc \uae68\uc5b4\ub098\uc11c \uc2e4\ud589\ub428"
     ]
    },
    {
     "cell_type": "code",
     "collapsed": false,
     "input": [
      "sema.release()"
     ],
     "language": "python",
     "metadata": {},
     "outputs": [
      {
       "output_type": "stream",
       "stream": "stdout",
       "text": [
        "Working 0\n"
       ]
      }
     ],
     "prompt_number": 85
    },
    {
     "cell_type": "code",
     "collapsed": false,
     "input": [
      "sema.release()"
     ],
     "language": "python",
     "metadata": {},
     "outputs": [
      {
       "output_type": "stream",
       "stream": "stdout",
       "text": [
        "Working 1\n"
       ]
      }
     ],
     "prompt_number": 86
    },
    {
     "cell_type": "code",
     "collapsed": false,
     "input": [
      "sema.release()"
     ],
     "language": "python",
     "metadata": {},
     "outputs": [
      {
       "output_type": "stream",
       "stream": "stdout",
       "text": [
        "Working 2\n"
       ]
      }
     ],
     "prompt_number": 87
    },
    {
     "cell_type": "markdown",
     "metadata": {},
     "source": [
      "- \uc2a4\ub808\ub4dc \uac04 \ub3d9\uae30\ud654\uac00 \uad00\ub828\ub41c \ubcf5\uc7a1\ud55c \ucf54\ub4dc\ub97c \uc791\uc131\ud558\ub2e4 \ubcf4\uba74 \uba38\ub9ac\uac00 \ud130\uc9c0\ub3c4\ub85d \uc544\ud50c \uac83\n",
      "- \uc774\ubcf4\ub2e4\ub294 queue\ub098 actor\ub97c \uc0ac\uc6a9\ud574\uc11c \uc2a4\ub808\ub4dc\ub07c\ub9ac \ud1b5\uc2e0\ud558\ub3c4\ub85d \ub9cc\ub4e4\uc5b4 \uc8fc\ub294 \uac83\uc774 \uc870\uae08 \ub354 \uc0c1\uc2dd\uc801\uc778 \uc811\uadfc\ubc95\n",
      "- \ud050\ub294 \ubc14\ub85c \ub2e4\uc74c \ub808\uc2dc\ud53c\uc5d0, \uc561\ud130\ub294 \ub808\uc2dc\ud53c 12.10\uc5d0\uc11c \uc790\uc138\ud788 \uc124\uba85\ud568\n",
      "\n",
      "#### \uc544.. \ubcd1\ub82c\uc131\uc774\ub798\uc11c \uc7ac\ubc0c\uc744 \uc904 \uc54c\uc558\ub354\ub2c8 \uc7ac\ubbf8\uc5c6\ub124. \ucc28\ub77c\ub9ac \ud30c\uc774\ucf582014\uc5d0\uc11c \ubc1c\ud45c\ud55c \ub3d9\uc2dc\uc131 \uc138\uc158\uc774 \ub354 \uc7ac\ubc0c\ub2e4. 11\uc7a5 \uba3c\uc800 \ud558\uace0 \ub118\uc5b4\uc640\uc57c\uaca0\ub2e4. \n"
     ]
    },
    {
     "cell_type": "code",
     "collapsed": false,
     "input": [],
     "language": "python",
     "metadata": {},
     "outputs": []
    }
   ],
   "metadata": {}
  }
 ]
}
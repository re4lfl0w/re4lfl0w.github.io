{
 "metadata": {
  "name": "",
  "signature": "sha256:d1d290fe055aaf4502d36dafc567adf77950f6fa6437f60854344a3620adb0bc"
 },
 "nbformat": 3,
 "nbformat_minor": 0,
 "worksheets": [
  {
   "cells": [
    {
     "cell_type": "markdown",
     "metadata": {},
     "source": [
      "# 5. \ud30c\uc77c\uacfc \uc785\ucd9c\ub825\n",
      "\n",
      "- start: 2014-10-05\n",
      "- end: 2014-10-06\n",
      "\n",
      "\n",
      "- \ubaa8\ub4e0 \ud504\ub85c\uadf8\ub7a8\uc740 **\uc785\ub825**\uacfc **\ucd9c\ub825**\uc744 \ud544\uc694\ub85c \ud568\n",
      "- \uc5ec\ub7ec \uc885\ub958\uc758 \ud30c\uc77c(\ud14d\uc2a4\ud2b8, \ubc14\uc774\ub108\ub9ac, \ud30c\uc77c \uc778\ucf54\ub529 \ub4f1)\uc744 \ub2e4\ub8e8\ub294 \uc77c\ubc18\uc801\uc778 \ubc29\ubc95\uc744 \ub2e4\ub8f8\n",
      "- \ub610\ud55c \ud30c\uc77c \uc774\ub984\uacfc \ub514\ub809\ud1a0\ub9ac\ub97c \uc218\uc815\ud558\ub294 \ubc29\ubc95\ub3c4 \ubc30\uc6c0"
     ]
    },
    {
     "cell_type": "markdown",
     "metadata": {},
     "source": [
      "## 5.1 \ud14d\uc2a4\ud2b8 \ub370\uc774\ud130 \uc77d\uace0 \uc4f0\uae30\n",
      "\n",
      "### \ubb38\uc81c\n",
      "\n",
      "- \ud14d\uc2a4\ud2b8 \ub370\uc774\ud130\ub97c \uc77d\uac70\ub098 \uc368\uc57c \ud558\ub294\ub370 ASCII, UTF-8, UTF-16\uacfc \uac19\uc774 \uc11c\ub85c \ub2e4\ub978 \uc778\ucf54\ub529\uc744 \uc0ac\uc6a9\ud574\uc57c \ud568\n",
      "\n",
      "### \ud574\uacb0\n",
      "\n",
      "- \ud14d\uc2a4\ud2b8 \ud30c\uc77c\uc744 \uc77d\uae30 \uc704\ud574 open() \ud568\uc218\uc5d0 rt \ubaa8\ub4dc\ub97c \uc0ac\uc6a9"
     ]
    },
    {
     "cell_type": "code",
     "collapsed": false,
     "input": [
      "# \ud30c\uc77c \uc804\uccb4\ub97c \ud558\ub098\uc758 \ubb38\uc790\uc5f4\ub85c \uc77d\uc74c\n",
      "# with open('somefile.txt', 'rt') as f:\n",
      "#     data = f.read()"
     ],
     "language": "python",
     "metadata": {},
     "outputs": [],
     "prompt_number": 1
    },
    {
     "cell_type": "code",
     "collapsed": false,
     "input": [
      "# \ud30c\uc77c\uc758 \uc904\uc744 \uc21c\ud658\n",
      "# with open('somefile.txt', 'rt') as f:\n",
      "#     for line in f:\n",
      "        # \ub77c\uc778 \ucc98\ub9ac"
     ],
     "language": "python",
     "metadata": {},
     "outputs": [],
     "prompt_number": 2
    },
    {
     "cell_type": "markdown",
     "metadata": {},
     "source": [
      "- \ub9c8\ucc2c\uac00\uc9c0\ub85c \ud14d\uc2a4\ud2b8 \ud30c\uc77c\uc744 \uc4f0\ub824\uba74 wt \ubaa8\ub4dc\ub97c \uc0ac\uc6a9\n",
      "- \uc774 \ubaa8\ub4dc\ub97c \uc0ac\uc6a9\ud558\uba74 \ubaa8\ub4e0 \ub0b4\uc6a9\uc744 \uc9c0\uc6b0\uace0 \uc0c8\ub85c\uc6b4 \ub0b4\uc6a9\uc73c\ub85c \ub36e\uc5b4\uc500"
     ]
    },
    {
     "cell_type": "code",
     "collapsed": false,
     "input": [
      "# \ud14d\uc2a4\ud2b8 \ub370\uc774\ud130 \uc4f0\uae30\n",
      "# with open('somefile.txt', 'wt') as f:\n",
      "#     f.write(text1)\n",
      "#     f.write(text2)"
     ],
     "language": "python",
     "metadata": {},
     "outputs": [],
     "prompt_number": 3
    },
    {
     "cell_type": "code",
     "collapsed": false,
     "input": [
      "# \ub9ac\ub2e4\uc774\ub809\ud2b8\ud55c print\ubb38\n",
      "# with open('somefile.txt', 'wt') as f:\n",
      "#     print(line1, file=f)\n",
      "#     print(line2, file=f)"
     ],
     "language": "python",
     "metadata": {},
     "outputs": [],
     "prompt_number": 4
    },
    {
     "cell_type": "markdown",
     "metadata": {},
     "source": [
      "- \ud30c\uc77c\uc758 \ub05d\uc5d0 \ub0b4\uc6a9\uc744 \ucd94\uac00\ud558\ub824\uba74 at \ubaa8\ub4dc\ub85c open()\uc744 \uc0ac\uc6a9\ud568\n",
      "- \uae30\ubcf8\uc801\uc73c\ub85c \ud30c\uc77c\uc744 \uc77d\uace0 \uc4f8 \ub54c sys.getdefaultencoding()\uc73c\ub85c \ud655\uc778\ud560 \uc218 \uc788\ub294 \uc2dc\uc2a4\ud15c \uae30\ubcf8 \uc778\ucf54\ub529\uc744 \uc0ac\uc6a9\ud568\n",
      "- \ub300\ubd80\ubd84\uc758 \ucef4\ud4e8\ud130\ub294 \uc774 \uae30\ubcf8 \uc778\ucf54\ub529\uc73c\ub85c utf-8\uc744 \uc0ac\uc6a9\n",
      "- \uc77d\uace0 \uc4f8 \ud14d\uc2a4\ud2b8\uac00 \ub2e4\ub978 \uc778\ucf54\ub529\uc744 \uc0ac\uc6a9\ud55c\ub2e4\uba74 open()\uc5d0 \ucd94\uac00\uc801\uc778 encoding \uc778\uc790\ub97c \uc804\ub2ec"
     ]
    },
    {
     "cell_type": "code",
     "collapsed": false,
     "input": [
      "# with open('somefile.txt', 'rt', encoding='latin-1') as f:"
     ],
     "language": "python",
     "metadata": {},
     "outputs": [],
     "prompt_number": 5
    },
    {
     "cell_type": "markdown",
     "metadata": {},
     "source": [
      "- \ud30c\uc774\uc36c\uc774 \uc774\ud574\ud560 \uc218 \uc788\ub294 \ud14d\uc2a4\ud2b8 \uc778\ucf54\ub529 \uc885\ub958\ub294 \uc218\ubc31 \uac00\uc9c0\uc5d0 \uc774\ub984\n",
      "- \ud558\uc9c0\ub9cc \uc77c\ubc18\uc801\uc73c\ub85c \uc0ac\uc6a9\ud558\ub294 \uc778\ucf54\ub529\uc740 ascii, latin-1, utf-8, utf-16\uc774\ub2e4.\n",
      "- \uc6f9 \uc560\ud50c\ub9ac\ucf00\uc774\uc158\uc744 \ub9cc\ub4e0\ub2e4\uba74 UTF-8\uc774 \uc548\uc804\ud55c \ud615\uc2dd\n",
      "- ascii\ub294 U+0000\uc5d0\uc11c U+007F \ubc94\uc704\uc758 7\ube44\ud2b8 \ubb38\uc790\uc5d0 \uc77c\uce58\n",
      "- latin-1\uc740 0-255\ubc14\uc774\ud2b8\ub97c \uc720\ub2c8\ucf54\ub4dc U+0000\uc5d0\uc11c U+00FF\ub85c \ub9e4\ud551\n",
      "- latin-1 \uc778\ucf54\ub529\uc740 \uc778\ucf54\ub529\uc758 \uc885\ub958\ub97c \ubaa8\ub974\ub294 \ud14d\uc2a4\ud2b8\ub97c \uc77d\uc744 \ub54c \uc808\ub300 \uc5d0\ub7ec\uac00 \ubc1c\uc0dd\ud558\uc9c0 \uc54a\ub294\ub2e4\ub294 \uc810\uc774 \uc911\uc694\n",
      "- \ud30c\uc77c\uc744 latin-1\uc73c\ub85c \uc77d\uc73c\uba74 \uc644\ubcbd\ud558\uac8c \uc62c\ubc14\ub978 \ud14d\uc2a4\ud2b8 \ub514\ucf54\ub529\uc744 \ub9cc\ub4e4\uc5b4 \ub0b4\uc9c0 \ubabb\ud560 \uc218\ub3c4 \uc788\ub2e4. \ud558\uc9c0\ub9cc \uc5ec\uc804\ud788 \uc720\uc6a9\ud55c \ub370\uc774\ud130\ub97c \ucd94\ucd9c\ud560 \uac83\n",
      "- \ub610\ud55c \ub370\uc774\ud130\ub97c \ub2e4\uc2dc \ub3cc\ub824\ubcf4\ub0bc \ub54c \uc6d0\ubcf8 \uc785\ub825\uc744 \ubcf4\uc874\ud568"
     ]
    },
    {
     "cell_type": "markdown",
     "metadata": {},
     "source": [
      "### \ud1a0\ub860\n",
      "\n",
      "- \ud14c\uae0b\ud2b8 \ud30c\uc77c\uc744 \uc77d\uace0 \uc4f0\ub294 \uacfc\uc815\uc740 \uadf8\ub2e4\uc9c0 \uc5b4\ub835\uc9c0 \uc54a\uc74c\n",
      "- \ud558\uc9c0\ub9cc \uba87 \uac00\uc9c0 \uc8fc\uc758\ud574\uc57c \ud560 \uc810\n",
      "- \uc6b0\uc120 \uc608\uc81c\uc5d0\uc11c \uc0ac\uc6a9\ud55c with \ubb38\uc774 \ud30c\uc77c\uc744 \uc0ac\uc6a9\ud560 \ucf58\ud0dd\uc2a4\ud2b8\ub97c \ub9cc\ub4e0\ub2e4.\n",
      "- \ucee8\ud2b8\ub864\uc774 with \ube14\ub85d\uc744 \ub5a0\ub098\uba74 \ud30c\uc77c\uc774 \uc790\ub3d9\uc73c\ub85c \ub2eb\ud78c\ub2e4.\n",
      "- with \ubb38\uc744 \uaf2d \uc0ac\uc6a9\ud558\uc9c0 \uc54a\uc544\ub3c4 \ub418\uc9c0\ub9cc, \uadf8\ub7f4\ub54c\ub294 \ubc18\ub4dc\uc2dc \ud30c\uc77c\uc744 \ub2eb\uc544\uc57c \ud568"
     ]
    },
    {
     "cell_type": "code",
     "collapsed": false,
     "input": [
      "f = open('05/getting_a_directory_listing/example.py', 'rt')\n",
      "data = f.read()\n",
      "f.close"
     ],
     "language": "python",
     "metadata": {},
     "outputs": [
      {
       "metadata": {},
       "output_type": "pyout",
       "prompt_number": 7,
       "text": [
        "<function TextIOWrapper.close>"
       ]
      }
     ],
     "prompt_number": 7
    },
    {
     "cell_type": "markdown",
     "metadata": {},
     "source": [
      "- \uadf8\ub9ac\uace0 Unix\uc640 Windows\uc5d0\uc11c \uc11c\ub85c \ub2e4\ub978 \uc904\ubc14\uafc8 \ubb38\uc790\uc5d0 \uc8fc\uc758(\\n\uacfc \\r\\n)\n",
      "- \uae30\ubcf8\uc801\uc73c\ub85c \ud30c\uc774\uc36c\uc740 universal newline \ubaa8\ub4dc\ub85c \ub3d9\uc791\n",
      "- \uc774 \ubaa8\ub4dc\ub294 \uc77c\ubc18\uc801\uc778 \ubaa8\ub4e0 \uc904\ubc14\uafc8\uc744 \uc54c\uc544\ubcf4\uace0, \uc77d\uc744 \ub54c \ubaa8\ub4e0 \uc904\ubc14\uafc8 \ubb38\uc790\ub97c \\n\uc73c\ub85c \ubcc0\ud658\n",
      "- \ucd9c\ub825\uc2dc\uc5d0\ub294 \uc904\ubc14\uafc8 \ubb38\uc790\ub97c \\n\uc744 \uc2dc\uc2a4\ud15c \uae30\ubcf8 \ubb38\uc790\ub85c \ubcc0\ud658\ud55c\ub2e4.\n",
      "- \uc774\ub7f0 \uc790\ub3d9 \ubcc0\ud658\uc744 \uc6d0\ud558\uc9c0 \uc54a\ub294\ub2e4\uba74 newline='' \uc778\uc790\ub97c open()\uc5d0 \ub123\uc5b4\uc900\ub2e4."
     ]
    },
    {
     "cell_type": "code",
     "collapsed": false,
     "input": [
      "# \uc904\ubc14\uafc8 \ubb38\uc790 \uc5c6\uc774 \uc77d\uae30\n",
      "# with open('somefile.txt', 'rt', newline='') as f:"
     ],
     "language": "python",
     "metadata": {},
     "outputs": [],
     "prompt_number": 8
    },
    {
     "cell_type": "markdown",
     "metadata": {},
     "source": [
      "- \ucc28\uc774\uc810\uc744 \ubcf4\uae30 \uc704\ud574 Unix \ucef4\ud4e8\ud130\uc5d0\uc11c Windows \ud615\uc2dd\uc73c\ub85c \uc778\ucf54\ub529\ub41c \ud14d\uc2a4\ud2b8 \ud30c\uc77c\uc744 \uc77d\uc5b4 \ubcf4\uaca0\ub2e4."
     ]
    },
    {
     "cell_type": "code",
     "collapsed": false,
     "input": [
      "!cat 05/hello_windows.txt"
     ],
     "language": "python",
     "metadata": {},
     "outputs": [
      {
       "output_type": "stream",
       "stream": "stdout",
       "text": [
        "Hello World!\r",
        "\r\n",
        "second line"
       ]
      }
     ],
     "prompt_number": 44
    },
    {
     "cell_type": "code",
     "collapsed": false,
     "input": [
      "f = open('05/hello_windows.txt', 'rt')\n",
      "repr(f.read())\n",
      "# print(f.read())"
     ],
     "language": "python",
     "metadata": {},
     "outputs": [
      {
       "metadata": {},
       "output_type": "pyout",
       "prompt_number": 42,
       "text": [
        "\"'Hello World!\\\\nsecond line'\""
       ]
      }
     ],
     "prompt_number": 42
    },
    {
     "cell_type": "code",
     "collapsed": false,
     "input": [
      "# \uc904\ubc14\uafc8 \ubcc0\ud658 \ubbf8\uc0ac\uc6a9\n",
      "g = open('05/hello_windows.txt', 'rt', newline='')\n",
      "repr(g.read())\n",
      "# print(g.read())"
     ],
     "language": "python",
     "metadata": {},
     "outputs": [
      {
       "metadata": {},
       "output_type": "pyout",
       "prompt_number": 43,
       "text": [
        "\"'Hello World!\\\\r\\\\nsecond line'\""
       ]
      }
     ],
     "prompt_number": 43
    },
    {
     "cell_type": "markdown",
     "metadata": {},
     "source": [
      "- \ub9c8\uc9c0\ub9c9\uc73c\ub85c \ud14d\uc2a4\ud2b8 \ud30c\uc77c\uc758 \uc778\ucf54\ub529 \uc5d0\ub7ec\ub97c \uc8fc\uc758\ud574\uc57c \ud568\n",
      "- \ud14d\uc2a4\ud2b8 \ud30c\uc77c\uc744 \uc77d\uac70\ub098 \uc4f8 \ub54c, \uc778\ucf54\ub529\uc774\ub098 \ub514\ucf54\ub529 \uc5d0\ub7ec\uac00 \ubc1c\uc0dd\ud560 \uc218\ub3c4 \uc788\uc74c"
     ]
    },
    {
     "cell_type": "code",
     "collapsed": false,
     "input": [
      "%%writefile 05/hello.txt\n",
      "\uc548\ub155\ud558\uc138\uc694.\n",
      "Hello World!"
     ],
     "language": "python",
     "metadata": {},
     "outputs": [
      {
       "output_type": "stream",
       "stream": "stdout",
       "text": [
        "Overwriting 05/hello.txt\n"
       ]
      }
     ],
     "prompt_number": 47
    },
    {
     "cell_type": "code",
     "collapsed": false,
     "input": [
      "f = open('05/hello.txt', 'rt', encoding='ascii')"
     ],
     "language": "python",
     "metadata": {},
     "outputs": [],
     "prompt_number": 48
    },
    {
     "cell_type": "code",
     "collapsed": false,
     "input": [
      "f.read()"
     ],
     "language": "python",
     "metadata": {},
     "outputs": [
      {
       "ename": "UnicodeDecodeError",
       "evalue": "'ascii' codec can't decode byte 0xec in position 0: ordinal not in range(128)",
       "output_type": "pyerr",
       "traceback": [
        "\u001b[0;31m---------------------------------------------------------------------------\u001b[0m\n\u001b[0;31mUnicodeDecodeError\u001b[0m                        Traceback (most recent call last)",
        "\u001b[0;32m<ipython-input-49-bacd0e0f09a3>\u001b[0m in \u001b[0;36m<module>\u001b[0;34m()\u001b[0m\n\u001b[0;32m----> 1\u001b[0;31m \u001b[0mf\u001b[0m\u001b[0;34m.\u001b[0m\u001b[0mread\u001b[0m\u001b[0;34m(\u001b[0m\u001b[0;34m)\u001b[0m\u001b[0;34m\u001b[0m\u001b[0m\n\u001b[0m",
        "\u001b[0;32m/Users/re4lfl0w/virtualenv/python3_test/lib/python3.4/encodings/ascii.py\u001b[0m in \u001b[0;36mdecode\u001b[0;34m(self, input, final)\u001b[0m\n\u001b[1;32m     24\u001b[0m \u001b[0;32mclass\u001b[0m \u001b[0mIncrementalDecoder\u001b[0m\u001b[0;34m(\u001b[0m\u001b[0mcodecs\u001b[0m\u001b[0;34m.\u001b[0m\u001b[0mIncrementalDecoder\u001b[0m\u001b[0;34m)\u001b[0m\u001b[0;34m:\u001b[0m\u001b[0;34m\u001b[0m\u001b[0m\n\u001b[1;32m     25\u001b[0m     \u001b[0;32mdef\u001b[0m \u001b[0mdecode\u001b[0m\u001b[0;34m(\u001b[0m\u001b[0mself\u001b[0m\u001b[0;34m,\u001b[0m \u001b[0minput\u001b[0m\u001b[0;34m,\u001b[0m \u001b[0mfinal\u001b[0m\u001b[0;34m=\u001b[0m\u001b[0;32mFalse\u001b[0m\u001b[0;34m)\u001b[0m\u001b[0;34m:\u001b[0m\u001b[0;34m\u001b[0m\u001b[0m\n\u001b[0;32m---> 26\u001b[0;31m         \u001b[0;32mreturn\u001b[0m \u001b[0mcodecs\u001b[0m\u001b[0;34m.\u001b[0m\u001b[0mascii_decode\u001b[0m\u001b[0;34m(\u001b[0m\u001b[0minput\u001b[0m\u001b[0;34m,\u001b[0m \u001b[0mself\u001b[0m\u001b[0;34m.\u001b[0m\u001b[0merrors\u001b[0m\u001b[0;34m)\u001b[0m\u001b[0;34m[\u001b[0m\u001b[0;36m0\u001b[0m\u001b[0;34m]\u001b[0m\u001b[0;34m\u001b[0m\u001b[0m\n\u001b[0m\u001b[1;32m     27\u001b[0m \u001b[0;34m\u001b[0m\u001b[0m\n\u001b[1;32m     28\u001b[0m \u001b[0;32mclass\u001b[0m \u001b[0mStreamWriter\u001b[0m\u001b[0;34m(\u001b[0m\u001b[0mCodec\u001b[0m\u001b[0;34m,\u001b[0m\u001b[0mcodecs\u001b[0m\u001b[0;34m.\u001b[0m\u001b[0mStreamWriter\u001b[0m\u001b[0;34m)\u001b[0m\u001b[0;34m:\u001b[0m\u001b[0;34m\u001b[0m\u001b[0m\n",
        "\u001b[0;31mUnicodeDecodeError\u001b[0m: 'ascii' codec can't decode byte 0xec in position 0: ordinal not in range(128)"
       ]
      }
     ],
     "prompt_number": 49
    },
    {
     "cell_type": "markdown",
     "metadata": {},
     "source": [
      "- \uc774 \uc5d0\ub7ec\ub294 \ub300\uac1c \uc798\ubabb\ub41c \uc778\ucf54\ub529\uc744 \uc0ac\uc6a9\ud588\uc744 \ub54c \ubc1c\uc0dd\ud568\n",
      "- \uc774\ub54c\ub294 \uc77d\uc73c\ub824\ub294 \ud30c\uc77c\uc758 \uc2a4\ud399\uc744 \uc798 \uc77d\uc5b4\ubcf4\uace0 \uc778\ucf54\ub529\uc744 \uc62c\ubc14\ub974\uac8c \uc0ac\uc6a9\ud588\ub294\uc9c0 \ud655\uc778\ud568(Latin-1\uc744 \uc0ac\uc6a9\ud574\uc57c \ud558\ub294\ub370 UTF-8\uc744 \uc0ac\uc6a9\ud558\uc9c0\ub294 \uc54a\uc558\ub294\uc9c0 \ub4f1)\n",
      "- \uadf8\ub798\ub3c4 \uc778\ucf54\ub529 \uc5d0\ub7ec\uac00 \uc0ac\ub77c\uc9c0\uc9c0 \uc54a\ub294\ub2e4\uba74 open()\uc5d0 erros \uc778\uc790\ub97c \uc804\ub2ec\ud574\uc11c \uc5d0\ub7ec\ub97c \ucc98\ub9ac\ud55c\ub2e4. \uc77c\ubc18\uc801\uc778 \uc5d0\ub7ec \ucc98\ub9ac \ubc29\uc2dd\uc744 \ubcf4\uc790"
     ]
    },
    {
     "cell_type": "code",
     "collapsed": false,
     "input": [
      "# \uc54c \uc218 \uc5c6\ub294 \ubb38\uc790\ub97c \uc720\ub2c8\ucf54\ub4dc U+fffd\ub85c \uce58\ud658\n",
      "f = open('05/hello.txt', 'rt', encoding='ascii', errors='replace')\n",
      "f.read()"
     ],
     "language": "python",
     "metadata": {},
     "outputs": [
      {
       "metadata": {},
       "output_type": "pyout",
       "prompt_number": 52,
       "text": [
        "'\ufffd\ufffd\ufffd\ufffd\ufffd\ufffd\ufffd\ufffd\ufffd\ufffd\ufffd\ufffd\ufffd\ufffd\ufffd.\\nHello World!'"
       ]
      }
     ],
     "prompt_number": 52
    },
    {
     "cell_type": "code",
     "collapsed": false,
     "input": [
      "# \uc54c \uc218 \uc5c6\ub294 \ubb38\uc790\ub97c \ubb34\uc2dc\n",
      "f = open('05/hello.txt', 'rt', encoding='ascii', errors='ignore')\n",
      "f.read()"
     ],
     "language": "python",
     "metadata": {},
     "outputs": [
      {
       "metadata": {},
       "output_type": "pyout",
       "prompt_number": 53,
       "text": [
        "'.\\nHello World!'"
       ]
      }
     ],
     "prompt_number": 53
    },
    {
     "cell_type": "markdown",
     "metadata": {},
     "source": [
      "- \ud504\ub85c\uadf8\ub798\ubc0d\uc744 \ud558\uba74\uc11c errors\uc640 encoding \uc778\uc790\ub85c \uc138\uc138\ud55c \uc870\uc728\uc744 \ub108\ubb34 \ub9ce\uc774 \ud558\uace0 \uc788\ub2e4\uba74, \ud544\uc694 \uc774\uc0c1\uc73c\ub85c \uc5b4\ub824\uc6b4 \uc791\uc5c5\uc744 \ud558\uace0 \uc788\uc744 \ud655\ub960\uc774 \ud06c\ub2e4.\n",
      "- \ud14d\uc2a4\ud2b8\ub97c \ub2e4\ub8f0 \ub54c\ub294 \uc5b8\uc81c\ub098 \uc62c\ubc14\ub978 \uc778\ucf54\ub529\uc744 \uc0ac\uc6a9\ud574\uc57c \ud55c\ub2e4\ub294 \uac83\uc774 \uac00\uc7a5 \uc911\uc694\n",
      "- \uc5b4\ub5a4 \uc778\ucf54\ub529\uc744 \uc0ac\uc6a9\ud574\uc57c \ud560\uc9c0 \ubaa8\ub974\uaca0\ub2e4\uba74 \uae30\ubcf8 \uc124\uc815(\uc77c\ubc18\uc801\uc73c\ub85c UTF-8)\uc744 \uc0ac\uc6a9\ud558\ub3c4\ub85d \ud568"
     ]
    },
    {
     "cell_type": "markdown",
     "metadata": {},
     "source": [
      "## 5.2 \ud30c\uc77c\uc5d0 \ucd9c\ub825\n",
      "\n",
      "### \ubb38\uc81c\n",
      "\n",
      "- print() \ud568\uc218\uc758 \uacb0\uacfc\ub97c \ud30c\uc77c\uc5d0 \ucd9c\ub825\n",
      "\n",
      "### \ud574\uacb0\n",
      "\n",
      "- print()\uc5d0 file \ud0a4\uc6cc\ub4dc \uc778\uc790 \uc0ac\uc6a9"
     ]
    },
    {
     "cell_type": "code",
     "collapsed": false,
     "input": [
      "!cat 05/hello_windows.txt"
     ],
     "language": "python",
     "metadata": {},
     "outputs": [
      {
       "output_type": "stream",
       "stream": "stdout",
       "text": [
        "Hello World!\r\n",
        "Hello World2!"
       ]
      }
     ],
     "prompt_number": 66
    },
    {
     "cell_type": "code",
     "collapsed": false,
     "input": [
      "with open('05/hello_windows.txt', 'wt') as f:\n",
      "    print('Hello World!', file=f)\n",
      "    # f.write\ub791 \ubb34\uc2a8 \ucc28\uc774\ub0d0..?\n",
      "    f.write('Hello World2!')"
     ],
     "language": "python",
     "metadata": {},
     "outputs": [],
     "prompt_number": 65
    },
    {
     "cell_type": "markdown",
     "metadata": {},
     "source": [
      "### \ud1a0\ub860\n",
      "\n",
      "- \ud30c\uc77c\uc5d0 \ucd9c\ub825\ud558\uae30\uc5d0\uc11c \uc774 \uc774\uc0c1\uc758 \ub0b4\uc6a9\uc740 \uc5c6\uc74c\n",
      "- \ud558\uc9c0\ub9cc \ud30c\uc77c\uc744 \ud14d\uc2a4\ud2b8 \ubaa8\ub4dc\ub85c \uc5f4\uc5c8\ub294\uc9c0 \uaf2d \ud655\uc778\ud574\uc57c \ud568\n",
      "- \ubc14\uc774\ub108\ub9ac \ubaa8\ub4dc\ub85c \ud30c\uc77c\uc744 \uc5f4\uba74 \ucd9c\ub825\uc5d0 \uc2e4\ud328\ud568"
     ]
    },
    {
     "cell_type": "markdown",
     "metadata": {},
     "source": [
      "## 5.3 \uad6c\ubcc4\uc790\ub098 \uc885\ub2e8 \ubd80\ud638 \ubc14\uafb8\uae30\n",
      "\n",
      "### \ubb38\uc81c\n",
      "\n",
      "- print()\ub97c \uc0ac\uc6a9\ud574 \ub370\uc774\ud130\ub97c \ucd9c\ub825\ud560 \ub54c \uad6c\ubd84\uc790\ub098 \uc885\ub2e8 \ubd80\ud638(line ending)\ub97c \ubc14\uafb8\uace0 \uc2f6\ub2e4.\n",
      "\n",
      "### \ud574\uacb0\n",
      "\n",
      "- print()\uc5d0 sep\uacfc end \ud0a4\uc6cc\ub4dc \uc778\uc790 \uc0ac\uc6a9"
     ]
    },
    {
     "cell_type": "code",
     "collapsed": false,
     "input": [
      "print('ACME', 50, 91.5)"
     ],
     "language": "python",
     "metadata": {},
     "outputs": [
      {
       "output_type": "stream",
       "stream": "stdout",
       "text": [
        "ACME 50 91.5\n"
       ]
      }
     ],
     "prompt_number": 67
    },
    {
     "cell_type": "code",
     "collapsed": false,
     "input": [
      "print('ACME', 50, 91.5, sep=',')"
     ],
     "language": "python",
     "metadata": {},
     "outputs": [
      {
       "output_type": "stream",
       "stream": "stdout",
       "text": [
        "ACME,50,91.5\n"
       ]
      }
     ],
     "prompt_number": 68
    },
    {
     "cell_type": "code",
     "collapsed": false,
     "input": [
      "print('ACME', 50, 91.5, sep=',', end='!!\\n')"
     ],
     "language": "python",
     "metadata": {},
     "outputs": [
      {
       "output_type": "stream",
       "stream": "stdout",
       "text": [
        "ACME,50,91.5!!\n"
       ]
      }
     ],
     "prompt_number": 70
    },
    {
     "cell_type": "code",
     "collapsed": false,
     "input": [
      "for i in range(5):\n",
      "    print(i)"
     ],
     "language": "python",
     "metadata": {},
     "outputs": [
      {
       "output_type": "stream",
       "stream": "stdout",
       "text": [
        "0\n",
        "1\n",
        "2\n",
        "3\n",
        "4\n"
       ]
      }
     ],
     "prompt_number": 71
    },
    {
     "cell_type": "code",
     "collapsed": false,
     "input": [
      "for i in range(5):\n",
      "    print(i, end=' ')"
     ],
     "language": "python",
     "metadata": {},
     "outputs": [
      {
       "output_type": "stream",
       "stream": "stdout",
       "text": [
        "0 1 2 3 4 "
       ]
      }
     ],
     "prompt_number": 72
    },
    {
     "cell_type": "markdown",
     "metadata": {},
     "source": [
      "### \ud1a0\ub860\n",
      "\n",
      "- print()\ub85c \ucd9c\ub825 \uc2dc \uc544\uc774\ud15c\uc744 \uad6c\ubd84\ud558\ub294 \ubb38\uc790\ub97c \uc2a4\ud398\uc774\uc2a4 \uacf5\ubc31\ubb38 \uc774\uc678\ub85c \ubc14\uafb8\ub294 \uac00\uc7a5 \uc26c\uc6b4 \ubc29\ubc95\uc740 \uad6c\ubcc4\uc790\ub97c \uc9c0\uc815\ud558\ub294 \uac83\n",
      "- \uc5b4\ub5a4 \ud504\ub85c\uadf8\ub798\uba38\ub294 \ub3d9\uc77c\ud55c \ubaa9\uc801\uc73c\ub85c str.join()\uc744 \uc0ac\uc6a9\ud558\uae30\ub3c4 \ud568"
     ]
    },
    {
     "cell_type": "code",
     "collapsed": false,
     "input": [
      "','.join(('ACME', '50', '91.5'))"
     ],
     "language": "python",
     "metadata": {},
     "outputs": [
      {
       "metadata": {},
       "output_type": "pyout",
       "prompt_number": 81,
       "text": [
        "'ACME,50,91.5'"
       ]
      }
     ],
     "prompt_number": 81
    },
    {
     "cell_type": "markdown",
     "metadata": {},
     "source": [
      "- \ud558\uc9c0\ub9cc str.join()\uc740 \ubb38\uc790\uc5f4\uc5d0\ub9cc \ub3d9\uc791\ud55c\ub2e4\ub294 \ubb38\uc81c\uc810 \uc874\uc7ac\n",
      "- \ubb38\uc790\uc5f4\uc774 \uc544\ub2cc \ub370\uc774\ud130\uc5d0 \uc0ac\uc6a9\ud558\ub824\uba74 \uadc0\ucc2e\uc740 \uc791\uc5c5\uc744 \uba3c\uc800 \uc801\uc6a9"
     ]
    },
    {
     "cell_type": "code",
     "collapsed": false,
     "input": [
      "row = ('ACME', 50, 91.5)"
     ],
     "language": "python",
     "metadata": {},
     "outputs": [],
     "prompt_number": 82
    },
    {
     "cell_type": "code",
     "collapsed": false,
     "input": [
      "print(','.join(row))"
     ],
     "language": "python",
     "metadata": {},
     "outputs": [
      {
       "ename": "TypeError",
       "evalue": "sequence item 1: expected str instance, int found",
       "output_type": "pyerr",
       "traceback": [
        "\u001b[0;31m---------------------------------------------------------------------------\u001b[0m\n\u001b[0;31mTypeError\u001b[0m                                 Traceback (most recent call last)",
        "\u001b[0;32m<ipython-input-83-f9437b58ff85>\u001b[0m in \u001b[0;36m<module>\u001b[0;34m()\u001b[0m\n\u001b[0;32m----> 1\u001b[0;31m \u001b[0mprint\u001b[0m\u001b[0;34m(\u001b[0m\u001b[0;34m','\u001b[0m\u001b[0;34m.\u001b[0m\u001b[0mjoin\u001b[0m\u001b[0;34m(\u001b[0m\u001b[0mrow\u001b[0m\u001b[0;34m)\u001b[0m\u001b[0;34m)\u001b[0m\u001b[0;34m\u001b[0m\u001b[0m\n\u001b[0m",
        "\u001b[0;31mTypeError\u001b[0m: sequence item 1: expected str instance, int found"
       ]
      }
     ],
     "prompt_number": 83
    },
    {
     "cell_type": "code",
     "collapsed": false,
     "input": [
      "print(','.join(str(x) for x in row))"
     ],
     "language": "python",
     "metadata": {},
     "outputs": [
      {
       "output_type": "stream",
       "stream": "stdout",
       "text": [
        "ACME,50,91.5\n"
       ]
      }
     ],
     "prompt_number": 85
    },
    {
     "cell_type": "code",
     "collapsed": false,
     "input": [
      "# \ud558\uc9c0\ub9cc \uad6c\ubcc4\uc790\ub294 \uc0ac\uc6a9\ud558\uba74 \ud6e8\uc52c \uac04\ub2e8\n",
      "print(*row, sep=',')"
     ],
     "language": "python",
     "metadata": {},
     "outputs": [
      {
       "output_type": "stream",
       "stream": "stdout",
       "text": [
        "ACME,50,91.5\n"
       ]
      }
     ],
     "prompt_number": 86
    },
    {
     "cell_type": "markdown",
     "metadata": {},
     "source": [
      "## 5.4 \ubc14\uc774\ub108\ub9ac \ub370\uc774\ud130 \uc77d\uace0 \uc4f0\uae30\n",
      "\n",
      "### \ubb38\uc81c\n",
      "\n",
      "- \uc774\ubbf8\uc9c0\ub098 \uc0ac\uc6b4\ub4dc \ud30c\uc77c \ub4f1 \ubc14\uc774\ub108\ub9ac \ub370\uc774\ud130\ub97c \uc77d\uace0 \uc368\uc57c \ud568\n",
      "\n",
      "### \ud574\uacb0\n",
      "\n",
      "- open \ud568\uc218\uc5d0 rb\uc640 wb\ubaa8\ub4dc\ub97c \uc0ac\uc6a9\ud574 \ubc14\uc774\ub108\ub9ac \ub370\uc774\ud130\ub97c \uc77d\uac70\ub098 \uc4f4\ub2e4."
     ]
    },
    {
     "cell_type": "code",
     "collapsed": false,
     "input": [
      "# \ud30c\uc77c \uc804\uccb4\ub97c \ud558\ub098\uc758 \ubc14\uc774\ud2b8 \ubb38\uc790\uc5f4\ub85c \uc77d\uace0\n",
      "with open('05/hello.txt', 'rb') as f:\n",
      "    data = f.read()\n",
      "data"
     ],
     "language": "python",
     "metadata": {},
     "outputs": [
      {
       "metadata": {},
       "output_type": "pyout",
       "prompt_number": 89,
       "text": [
        "b'\\xec\\x95\\x88\\xeb\\x85\\x95\\xed\\x95\\x98\\xec\\x84\\xb8\\xec\\x9a\\x94.\\nHello World!'"
       ]
      }
     ],
     "prompt_number": 89
    },
    {
     "cell_type": "code",
     "collapsed": false,
     "input": [
      "with open('05/hello_wb.txt', 'wb') as f:\n",
      "    f.write(b'Hello World')"
     ],
     "language": "python",
     "metadata": {},
     "outputs": [],
     "prompt_number": 90
    },
    {
     "cell_type": "code",
     "collapsed": false,
     "input": [
      "!cat 05/hello_wb.txt"
     ],
     "language": "python",
     "metadata": {},
     "outputs": [
      {
       "output_type": "stream",
       "stream": "stdout",
       "text": [
        "Hello World"
       ]
      }
     ],
     "prompt_number": 91
    },
    {
     "cell_type": "markdown",
     "metadata": {},
     "source": [
      "- \ubc14\uc774\ub108\ub9ac\ub97c \uc77d\uc744 \ub54c, \ubc18\ud658\ub41c \ubaa8\ub4e0 \ub370\uc774\ud130\uac00 \ud14d\uc2a4\ud2b8 \ubb38\uc790\uc5f4 \ud615\uc2dd\uc774 \uc544\ub2c8\ub77c \ubc14\uc774\ud2b8 \ubb38\uc790\uc5f4 \ud615\uc2dd\uc774 \ub41c\ub2e4\ub294 \uc810 \uae30\uc5b5\n",
      "- \ub9c8\ucc2c\uac00\uc9c0\ub85c \ub370\uc774\ud130\ub97c \uc4f8 \ub54c\ub3c4 \ubc14\uc774\ud2b8\ub85c \ud45c\ud604\ud560 \uc218 \uc788\ub294 \ud615\uc2dd\uc758 \uac1d\uccb4\ub97c \uc81c\uacf5\ud574\uc57c \ud55c\ub2e4(\ubc14\uc774\ud2b8 \ubb38\uc790\uc5f4, bytearray \uac1d\uccb4 \ub4f1)"
     ]
    },
    {
     "cell_type": "markdown",
     "metadata": {},
     "source": [
      "### \ud1a0\ub860\n",
      "\n",
      "- \ubc14\uc774\ub108\ub9ac \ub370\uc774\ud130\ub97c \uc77d\uc744 \ub54c, \ubc14\uc774\ub108\ub9ac \ubb38\uc790\uc5f4\uacfc \ud14d\uc2a4\ud2b8 \ubb38\uc790\uc5f4 \uc0ac\uc774\uc5d0 \ubbf8\ubb18\ud55c \ubb38\ubc95 \ucc28\uc774\uac00 \uc788\ub2e4.\n",
      "- \uc790\uc138\ud788 \ub9d0\ud558\uc790\uba74, \ub370\uc774\ud130 \uc778\ub371\uc2a4\ub098 \uc21c\ud658\uc73c\ub85c \ubc18\ud658\ud55c \uac12\uc740 \ubc14\uc774\ud2b8 \ubb38\uc790\uc5f4\uc774 \uc544\ub2cc \uc815\uc218 \ubc14\uc774\ud2b8 \uac12\uc774 \ub428"
     ]
    },
    {
     "cell_type": "code",
     "collapsed": false,
     "input": [
      "# \ud14d\uc2a4\ud2b8 \ubb38\uc790\uc5f4\n",
      "t = 'Hello World'"
     ],
     "language": "python",
     "metadata": {},
     "outputs": [],
     "prompt_number": 92
    },
    {
     "cell_type": "code",
     "collapsed": false,
     "input": [
      "t[0]"
     ],
     "language": "python",
     "metadata": {},
     "outputs": [
      {
       "metadata": {},
       "output_type": "pyout",
       "prompt_number": 93,
       "text": [
        "'H'"
       ]
      }
     ],
     "prompt_number": 93
    },
    {
     "cell_type": "code",
     "collapsed": false,
     "input": [
      "for c in t:\n",
      "    print(c)"
     ],
     "language": "python",
     "metadata": {},
     "outputs": [
      {
       "output_type": "stream",
       "stream": "stdout",
       "text": [
        "H\n",
        "e\n",
        "l\n",
        "l\n",
        "o\n",
        " \n",
        "W\n",
        "o\n",
        "r\n",
        "l\n",
        "d\n"
       ]
      }
     ],
     "prompt_number": 94
    },
    {
     "cell_type": "code",
     "collapsed": false,
     "input": [
      "# \ubc14\uc774\ud2b8 \ubb38\uc790\uc5f4\n",
      "b = b'Hello World!'"
     ],
     "language": "python",
     "metadata": {},
     "outputs": [],
     "prompt_number": 95
    },
    {
     "cell_type": "code",
     "collapsed": false,
     "input": [
      "b[0]"
     ],
     "language": "python",
     "metadata": {},
     "outputs": [
      {
       "metadata": {},
       "output_type": "pyout",
       "prompt_number": 96,
       "text": [
        "72"
       ]
      }
     ],
     "prompt_number": 96
    },
    {
     "cell_type": "code",
     "collapsed": false,
     "input": [
      "for c in b:\n",
      "    print(c)"
     ],
     "language": "python",
     "metadata": {},
     "outputs": [
      {
       "output_type": "stream",
       "stream": "stdout",
       "text": [
        "72\n",
        "101\n",
        "108\n",
        "108\n",
        "111\n",
        "32\n",
        "87\n",
        "111\n",
        "114\n",
        "108\n",
        "100\n",
        "33\n"
       ]
      }
     ],
     "prompt_number": 97
    },
    {
     "cell_type": "markdown",
     "metadata": {},
     "source": [
      "- \ubc14\uc774\ub108\ub9ac \ubaa8\ub4dc \ud30c\uc77c\ub85c\ubd80\ud130 \ud14d\uc2a4\ud2b8\ub97c \uc77d\uac70\ub098 \uc4f0\ub824\uba74 \uc778\ucf54\ub529\uc774\ub098 \ub514\ucf54\ub529 \uacfc\uc815\uc774 \uaf2d \ud544\uc694"
     ]
    },
    {
     "cell_type": "code",
     "collapsed": false,
     "input": [
      "with open('05/hello_wb.txt', 'rb') as f:\n",
      "    data = f.read(16)\n",
      "    text = data.decode('utf-8')"
     ],
     "language": "python",
     "metadata": {},
     "outputs": [],
     "prompt_number": 98
    },
    {
     "cell_type": "code",
     "collapsed": false,
     "input": [
      "data"
     ],
     "language": "python",
     "metadata": {},
     "outputs": [
      {
       "metadata": {},
       "output_type": "pyout",
       "prompt_number": 99,
       "text": [
        "b'Hello World'"
       ]
      }
     ],
     "prompt_number": 99
    },
    {
     "cell_type": "code",
     "collapsed": false,
     "input": [
      "text"
     ],
     "language": "python",
     "metadata": {},
     "outputs": [
      {
       "metadata": {},
       "output_type": "pyout",
       "prompt_number": 100,
       "text": [
        "'Hello World'"
       ]
      }
     ],
     "prompt_number": 100
    },
    {
     "cell_type": "code",
     "collapsed": false,
     "input": [
      "with open('05/hello_wb_encode.txt', 'wb') as f:\n",
      "    text = 'Hello World'\n",
      "    f.write(text.encode('utf-8'))"
     ],
     "language": "python",
     "metadata": {},
     "outputs": [],
     "prompt_number": 101
    },
    {
     "cell_type": "code",
     "collapsed": false,
     "input": [
      "!cat 05/hello_wb.txt"
     ],
     "language": "python",
     "metadata": {},
     "outputs": [
      {
       "output_type": "stream",
       "stream": "stdout",
       "text": [
        "Hello World"
       ]
      }
     ],
     "prompt_number": 102
    },
    {
     "cell_type": "code",
     "collapsed": false,
     "input": [
      "!cat 05/hello_wb_encode.txt"
     ],
     "language": "python",
     "metadata": {},
     "outputs": [
      {
       "output_type": "stream",
       "stream": "stdout",
       "text": [
        "Hello World"
       ]
      }
     ],
     "prompt_number": 104
    },
    {
     "cell_type": "markdown",
     "metadata": {},
     "source": [
      "- \ubc14\uc774\ub108\ub9ac \uc785\ucd9c\ub825 \uc2dc \uc798 \uc54c\ub824\uc9c0\uc9c0 \uc54a\uc740 \uae30\ub2a5\uc73c\ub85c \ubc30\uc5f4\uc774\ub098 C \uad6c\uc870\uccb4\uc640 \uac19\uc740 \uac1d\uccb4\ub97c bytes \uac1d\uccb4\ub85c \ubcc0\ud658\ud558\uc9c0 \uc54a\uace0 \ubc14\ub85c \uc4f8 \uc218 \uc788\ub2e4\ub294 \uc810"
     ]
    },
    {
     "cell_type": "code",
     "collapsed": false,
     "input": [
      "import array\n",
      "nums = array.array('i', [1, 2, 3, 4])\n",
      "with open('05/data.bin', 'wb') as f:\n",
      "    f.write(nums)"
     ],
     "language": "python",
     "metadata": {},
     "outputs": [],
     "prompt_number": 105
    },
    {
     "cell_type": "code",
     "collapsed": false,
     "input": [
      "nums"
     ],
     "language": "python",
     "metadata": {},
     "outputs": [
      {
       "metadata": {},
       "output_type": "pyout",
       "prompt_number": 110,
       "text": [
        "array('i', [1, 2, 3, 4])"
       ]
      }
     ],
     "prompt_number": 110
    },
    {
     "cell_type": "code",
     "collapsed": false,
     "input": [
      "!cat 05/data.bin"
     ],
     "language": "python",
     "metadata": {},
     "outputs": [
      {
       "output_type": "stream",
       "stream": "stdout",
       "text": [
        "\u0001\u0000\u0000\u0000\u0002\u0000\u0000\u0000\u0003\u0000\u0000\u0000\u0004\u0000\u0000\u0000"
       ]
      }
     ],
     "prompt_number": 106
    },
    {
     "cell_type": "markdown",
     "metadata": {},
     "source": [
      "- \uc774 \uae30\ub2a5\uc740 \uc18c\uc704 buffer interface\ub85c \uad6c\ud604\ub418\uc5b4 \uc788\ub294 \uac1d\uccb4\uc5d0 \ubaa8\ub450 \uc801\uc6a9\ub428\n",
      "- \uc774\ub7f0 \uac1d\uccb4\ub294 \uae30\ubc18 \uba54\ubaa8\ub9ac \ubc84\ud37c\ub97c \ubc14\ub85c \uc791\uc5c5\uc5d0 \ub178\ucd9c\uc2dc\ucf1c \uc791\uc5c5 \uac00\ub2a5\n",
      "- \ubc14\uc774\ub108\ub9ac \ub370\uc774\ud130\ub97c \uc4f0\ub294 \uac83\ub3c4 \uc774\ub7f0 \uc791\uc5c5\uc758 \uc885\ub958\n",
      "- \ub610\ud55c \ud30c\uc77c\uc758 readinto() \uba54\uc18c\ub4dc\ub97c \uc0ac\uc6a9\ud558\uba74 \uc5ec\ub7ec \uac1d\uccb4\uc758 \ubc14\uc774\ub108\ub9ac \ub370\uc774\ud130\ub97c \uc9c1\uc811 \uba54\ubaa8\ub9ac\uc5d0 \uc77d\uc5b4 \ub4e4\uc77c \uc218 \uc788\uc74c"
     ]
    },
    {
     "cell_type": "code",
     "collapsed": false,
     "input": [
      "import array\n",
      "a = array.array('i', [0, 0, 0, 0, 0, 0, 0, 0])\n",
      "with open('05/data.bin', 'rb') as f:\n",
      "    f.readinto(a)\n",
      "a"
     ],
     "language": "python",
     "metadata": {},
     "outputs": [
      {
       "metadata": {},
       "output_type": "pyout",
       "prompt_number": 115,
       "text": [
        "array('i', [1, 2, 3, 4, 0, 0, 0, 0])"
       ]
      }
     ],
     "prompt_number": 115
    },
    {
     "cell_type": "markdown",
     "metadata": {},
     "source": [
      "- \ud558\uc9c0\ub9cc \uc774 \uae30\uc220\uc744 \uc0ac\uc6a9\ud560 \ub54c\ub294 \uac01\ubcc4\ud55c \uc8fc\uc758\n",
      "- \uad6c\ud604\ubc95\uc774 \ud50c\ub7ab\ud3fc\uc5d0 \ub530\ub77c \ub2e4\ub974\uae30\ub3c4 \ud558\uace0 \ub2e8\uc5b4\uc758 \ud06c\uae30\uc640 \ubc14\uc774\ud2b8 \uc21c\uc11c(big endian, little endian) \ub4f1\uc5d0 \uc758\uc874\n",
      "- \ubc14\uc774\ub108\ub9ac \ub370\uc774\ud130 \ub54c \uc218\uc815 \uac00\ub2a5\ud55c \ubc84\ud37c\uc5d0 \uc77d\uc5b4 \ub4e4\uc774\ub294 \ub2e4\ub978 \uc608\ub294 \ub808\uc2dc\ud53c 5.9 \ucc38\uace0"
     ]
    },
    {
     "cell_type": "markdown",
     "metadata": {},
     "source": [
      "## 5.5 \uc874\uc7ac\ud558\uc9c0 \uc54a\ub294 \ud30c\uc77c\uc5d0 \uc4f0\uae30\n",
      "\n",
      "### \ubb38\uc81c\n",
      "\n",
      "- \ud30c\uc77c\uc774 \ud30c\uc77c \uc2dc\uc2a4\ud15c\uc5d0 \uc874\uc7ac\ud558\uc9c0 \uc54a\uc744 \ub54c, \ub370\uc774\ud130\ub97c \ud30c\uc77c\uc5d0 \uc4f0\uace0 \uc2f6\ub2e4.\n",
      "\n",
      "### \ud574\uacb0\n",
      "\n",
      "- \uc774 \ubb38\uc81c\ub294 open()\uc5d0 x\ubaa8\ub4dc\ub97c \uc0ac\uc6a9\ud574\uc11c \ud574\uacb0\n",
      "- w \ubaa8\ub4dc\uc640 \ub2e4\ub974\uac8c x \ubaa8\ub4dc\ub294 \uc798 \uc54c\ub824\uc9c0\uc9c0 \uc54a\uc74c"
     ]
    },
    {
     "cell_type": "code",
     "collapsed": false,
     "input": [
      "with open('05/xmode.txt', 'wt') as f:\n",
      "    f.write('Hello\\n')"
     ],
     "language": "python",
     "metadata": {},
     "outputs": [],
     "prompt_number": 116
    },
    {
     "cell_type": "code",
     "collapsed": false,
     "input": [
      "with open('05/xmode.txt', 'xt') as f:\n",
      "    f.write('Hello\\n')"
     ],
     "language": "python",
     "metadata": {},
     "outputs": [
      {
       "ename": "FileExistsError",
       "evalue": "[Errno 17] File exists: '05/xmode.txt'",
       "output_type": "pyerr",
       "traceback": [
        "\u001b[0;31m---------------------------------------------------------------------------\u001b[0m\n\u001b[0;31mFileExistsError\u001b[0m                           Traceback (most recent call last)",
        "\u001b[0;32m<ipython-input-117-593972591abc>\u001b[0m in \u001b[0;36m<module>\u001b[0;34m()\u001b[0m\n\u001b[0;32m----> 1\u001b[0;31m \u001b[0;32mwith\u001b[0m \u001b[0mopen\u001b[0m\u001b[0;34m(\u001b[0m\u001b[0;34m'05/xmode.txt'\u001b[0m\u001b[0;34m,\u001b[0m \u001b[0;34m'xt'\u001b[0m\u001b[0;34m)\u001b[0m \u001b[0;32mas\u001b[0m \u001b[0mf\u001b[0m\u001b[0;34m:\u001b[0m\u001b[0;34m\u001b[0m\u001b[0m\n\u001b[0m\u001b[1;32m      2\u001b[0m     \u001b[0mf\u001b[0m\u001b[0;34m.\u001b[0m\u001b[0mwrite\u001b[0m\u001b[0;34m(\u001b[0m\u001b[0;34m'Hello\\n'\u001b[0m\u001b[0;34m)\u001b[0m\u001b[0;34m\u001b[0m\u001b[0m\n",
        "\u001b[0;31mFileExistsError\u001b[0m: [Errno 17] File exists: '05/xmode.txt'"
       ]
      }
     ],
     "prompt_number": 117
    },
    {
     "cell_type": "code",
     "collapsed": false,
     "input": [
      "with open('05/xmode2.txt', 'xt') as f:\n",
      "    f.write('Hello\\n')"
     ],
     "language": "python",
     "metadata": {},
     "outputs": [],
     "prompt_number": 118
    },
    {
     "cell_type": "markdown",
     "metadata": {},
     "source": [
      "- \ud30c\uc77c\uc774 \ubc14\uc774\ub108\ub9ac \ubaa8\ub4dc\uc774\uba74 xt \ub300\uc2e0 xb\ub97c \uc0ac\uc6a9"
     ]
    },
    {
     "cell_type": "markdown",
     "metadata": {},
     "source": [
      "### \ud1a0\ub860\n",
      "\n",
      "- \uc774 \ub808\uc2dc\ud53c\ub294 \ud30c\uc77c\uc744 \uc4f8 \ub54c \ubc1c\uc0dd\ud560 \uc218 \uc788\ub294 \ubb38\uc81c\uc810(\uc2e4\uc218\ub85c \ud30c\uc77c\uc744 \ub36e\uc5b4\uc4f0\ub294 \ub4f1)\uc744 \uc544\uc8fc \uc6b0\uc544\ud558\uac8c \ud53c\ud574\uac00\ub294 \ubc95\uc744 \uc54c\ub824\uc90c"
     ]
    },
    {
     "cell_type": "code",
     "collapsed": false,
     "input": [
      "import os\n",
      "if not os.path.exists('05/xmode.txt'):\n",
      "    with open('05/xmode.txt', 'wt') as f:\n",
      "        f.write('Hello\\n')\n",
      "else:\n",
      "    print('File already exists!')"
     ],
     "language": "python",
     "metadata": {},
     "outputs": [
      {
       "output_type": "stream",
       "stream": "stdout",
       "text": [
        "File already exists!\n"
       ]
      }
     ],
     "prompt_number": 121
    },
    {
     "cell_type": "markdown",
     "metadata": {},
     "source": [
      "- \ud655\uc2e4\ud788 x \ubaa8\ub4dc\ub97c \uc0ac\uc6a9\ud558\ub294 \uac83\uc774 \ud6e8\uc52c \uae54\ub054\n",
      "- x \ubaa8\ub4dc\ub294 \ud30c\uc774\uc36c3\uc758 \ud655\uc7a5 \uae30\ub2a5\uc784\uc744 \uae30\uc5b5\n",
      "- \uc774\uc804 \ubc84\uc804\uc758 \ud30c\uc774\uc36c\uc774\ub098 \ud30c\uc774\uc36c \uad6c\ud604\uc5d0\uc11c \uc0ac\uc6a9\ud558\ub294 C \ub77c\uc774\ube0c\ub7ec\ub9ac\ub294 \uc774 \ubaa8\ub4dc\ub97c \uc9c0\uc6d0\ud558\uc9c0 \uc54a\uc74c"
     ]
    },
    {
     "cell_type": "markdown",
     "metadata": {},
     "source": [
      "## 5.6 \ubb38\uc790\uc5f4\uc5d0 \uc785\ucd9c\ub825 \uc791\uc5c5\ud558\uae30\n",
      "\n",
      "### \ubb38\uc81c\n",
      "\n",
      "- \ud30c\uc77c\uac19\uc740 \uac1d\uccb4\uc5d0 \ub3d9\uc791\ud558\ub3c4\ub85d \uc791\uc131\ud55c \ucf54\ub4dc\uc5d0 \ud14d\uc2a4\ud2b8\ub098 \ubc14\uc774\ub108\ub9ac \ubb38\uc790\uc5f4\uc744 \uc81c\uacf5\ud558\uace0 \uc2f6\ub2e4.\n",
      "\n",
      "### \ud574\uacb0\n",
      "\n",
      "- io.StringIO()\uc640 io.BytesIO() \ud074\ub798\uc2a4\ub85c \ubb38\uc790\uc5f4 \ub370\uc774\ud130\uc5d0 \ub3d9\uc791\ud558\ub294 \ud30c\uc77c \uac19\uc740 \uac1d\uccb4\ub97c \uc0dd\uc131"
     ]
    },
    {
     "cell_type": "code",
     "collapsed": false,
     "input": [
      "import io"
     ],
     "language": "python",
     "metadata": {},
     "outputs": [],
     "prompt_number": 122
    },
    {
     "cell_type": "code",
     "collapsed": false,
     "input": [
      "s = io.StringIO()"
     ],
     "language": "python",
     "metadata": {},
     "outputs": [],
     "prompt_number": 123
    },
    {
     "cell_type": "code",
     "collapsed": false,
     "input": [
      "s.write('Hello World\\n')"
     ],
     "language": "python",
     "metadata": {},
     "outputs": [
      {
       "metadata": {},
       "output_type": "pyout",
       "prompt_number": 124,
       "text": [
        "12"
       ]
      }
     ],
     "prompt_number": 124
    },
    {
     "cell_type": "code",
     "collapsed": false,
     "input": [
      "print('This is a test', file=s)"
     ],
     "language": "python",
     "metadata": {},
     "outputs": [],
     "prompt_number": 127
    },
    {
     "cell_type": "code",
     "collapsed": false,
     "input": [
      "# \uae30\ub85d\ud55c \ubaa8\ub4e0 \ub370\uc774\ud130 \uc5bb\uae30\n",
      "s.getvalue()"
     ],
     "language": "python",
     "metadata": {},
     "outputs": [
      {
       "metadata": {},
       "output_type": "pyout",
       "prompt_number": 128,
       "text": [
        "'Hello World\\nThis is a test\\n'"
       ]
      }
     ],
     "prompt_number": 128
    },
    {
     "cell_type": "code",
     "collapsed": false,
     "input": [
      "# \uae30\uc874 \ubb38\uc790\uc5f4\uc744 \ud30c\uc77c \uc778\ud130\ud398\uc774\uc2a4\ub85c \uac10\uc2f8\uae30\n",
      "s = io.StringIO('Hello\\nWorld\\n')"
     ],
     "language": "python",
     "metadata": {},
     "outputs": [],
     "prompt_number": 129
    },
    {
     "cell_type": "code",
     "collapsed": false,
     "input": [
      "s.read(4)"
     ],
     "language": "python",
     "metadata": {},
     "outputs": [
      {
       "metadata": {},
       "output_type": "pyout",
       "prompt_number": 130,
       "text": [
        "'Hell'"
       ]
      }
     ],
     "prompt_number": 130
    },
    {
     "cell_type": "code",
     "collapsed": false,
     "input": [
      "s.read()"
     ],
     "language": "python",
     "metadata": {},
     "outputs": [
      {
       "metadata": {},
       "output_type": "pyout",
       "prompt_number": 131,
       "text": [
        "'o\\nWorld\\n'"
       ]
      }
     ],
     "prompt_number": 131
    },
    {
     "cell_type": "markdown",
     "metadata": {},
     "source": [
      "- io.StringIO \ud074\uc0c8\ub290\ub290 \ud14d\uc2a4\ud2b8\uc5d0\ub9cc \uc0ac\uc6a9\ud574\uc57c \ud568\n",
      "- \ubc14\uc774\ub108\ub9ac \ub370\uc774\ud130\ub97c \ub2e4\ub8f0 \ub54c\ub294 io.BytesIO \ud074\ub798\uc2a4 \uc0ac\uc6a9"
     ]
    },
    {
     "cell_type": "code",
     "collapsed": false,
     "input": [
      "s = io.BytesIO()"
     ],
     "language": "python",
     "metadata": {},
     "outputs": [],
     "prompt_number": 132
    },
    {
     "cell_type": "code",
     "collapsed": false,
     "input": [
      "s.write(b'binary data')"
     ],
     "language": "python",
     "metadata": {},
     "outputs": [
      {
       "metadata": {},
       "output_type": "pyout",
       "prompt_number": 133,
       "text": [
        "11"
       ]
      }
     ],
     "prompt_number": 133
    },
    {
     "cell_type": "code",
     "collapsed": false,
     "input": [
      "s.getvalue()"
     ],
     "language": "python",
     "metadata": {},
     "outputs": [
      {
       "metadata": {},
       "output_type": "pyout",
       "prompt_number": 134,
       "text": [
        "b'binary data'"
       ]
      }
     ],
     "prompt_number": 134
    },
    {
     "cell_type": "markdown",
     "metadata": {},
     "source": [
      "### \ud1a0\ub860\n",
      "\n",
      "- \uc77c\ubc18 \ud30c\uc77c \uae30\ub2a5\uc744 \ud749\ub0b4 \ub0b4\ub824 \ud560 \ub54c StringIO\uc640 BytesIO \ud074\ub798\uc2a4\uac00 \uac00\uc7a5 \uc720\uc6a9\n",
      "- \uc608\ub97c \ub4e4\uc5b4 **\uc720\ub2db \ud14c\uc2a4\ud2b8**\ub97c \ud560 \ub54c, **StringIO\ub85c \ud14c\uc2a4\ud2b8 \ub370\uc774\ud130\ub97c \ub2f4\uace0 \uc788\ub294 \uac1d\uccb4**\ub97c \ub9cc\ub4e4\uc5b4 **\uc77c\ubc18 \ud30c\uc77c\uc5d0 \ub3d9\uc791\ud558\ub294 \ud568\uc218**\uc5d0 \uc0ac\uc6a9\n",
      "- StringIO\uc640 BytesIO \uc778\uc2a4\ud134\uc2a4\uac00 \uc62c\ubc14\ub978 \uc815\uc218 file-descriptor\ub97c \uac00\uc9c0\uace0 \uc788\uc9c0 \uc54a\ub2e4\ub294 \uc810\uc744 \uae30\uc5b5\n",
      "- \ub530\ub77c\uc11c file, pipe, socket \ub4f1 \uc2e4\uc81c \uc2dc\uc2a4\ud15c \ub808\ubca8 \ud30c\uc77c\uc744 \uc694\uad6c\ud558\ub294 \ucf54\ub4dc\uc5d0\ub294 \uc0ac\uc6a9\ud560 \uc218 \uc5c6\uc74c"
     ]
    },
    {
     "cell_type": "markdown",
     "metadata": {},
     "source": [
      "## 5.7 \uc555\ucd95\ub41c \ub370\uc774\ud130 \ud30c\uc77c \uc77d\uace0 \uc4f0\uae30\n",
      "\n",
      "### \ubb38\uc81c\n",
      "\n",
      "- gzip\uc774\ub098 bz2\ub85c \uc555\ucd95\ud55c \ud30c\uc77c\uc744 \uc77d\uac70\ub098 \uc368\uc57c \ud55c\ub2e4.\n",
      "\n",
      "### \ud574\uacb0\n",
      "\n",
      "- gzip\uacfc bz2 \ubaa8\ub4c8\uc744 \uc0ac\uc6a9\ud558\uba74 \uac04\ub2e8\ud788 \ud574\uacb0 \uac00\ub2a5\n",
      "- \uc774 \ubaa8\ub4c8\uc740 open()\uc744 \uc0ac\uc6a9\ud558\ub294 \uad6c\ud604\ubc95\uc758 \ub300\uc548 \uc81c\uacf5\n",
      "- \uc608\ub97c \ub4e4\uc5b4 \uc555\ucd95\ub41c \ud30c\uc77c\uc744 \ud14d\uc2a4\ud2b8\ub85c \uc77d\uc73c\ub824\uba74 \ub2e4\uc74c\uacfc \uac19\uc774 \ud568"
     ]
    },
    {
     "cell_type": "code",
     "collapsed": false,
     "input": [
      "# gzip \uc555\ucd95\n",
      "import gzip\n",
      "with gzip.open(\n",
      "'04/creating_data_processing_pipelines/www/foo/access-log-0108.gz') as f:\n",
      "    text = f.read()\n",
      "text[:200]"
     ],
     "language": "python",
     "metadata": {},
     "outputs": [
      {
       "metadata": {},
       "output_type": "pyout",
       "prompt_number": 138,
       "text": [
        "b'140.180.132.213 - - [24/Feb/2008:00:08:59 -0600] \"GET /ply/ply.html HTTP/1.1\" 200 97238\\n140.180.132.213 - - [24/Feb/2008:00:08:59 -0600] \"GET /favicon.ico HTTP/1.1\" 404 133\\n75.54.118.139 - - [24/Feb/2'"
       ]
      }
     ],
     "prompt_number": 138
    },
    {
     "cell_type": "code",
     "collapsed": false,
     "input": [
      "# bz2 \uc555\ucd95\n",
      "import bz2\n",
      "with bz2.open(\n",
      "'04/creating_data_processing_pipelines/www/bar/access-log-0108.bz2') as f:\n",
      "    text = f.read()\n",
      "text[:200]"
     ],
     "language": "python",
     "metadata": {},
     "outputs": [
      {
       "metadata": {},
       "output_type": "pyout",
       "prompt_number": 139,
       "text": [
        "b'140.180.132.213 - - [24/Feb/2008:00:08:59 -0600] \"GET /ply/ply.html HTTP/1.1\" 200 97238\\n140.180.132.213 - - [24/Feb/2008:00:08:59 -0600] \"GET /favicon.ico HTTP/1.1\" 404 133\\n75.54.118.139 - - [24/Feb/2'"
       ]
      }
     ],
     "prompt_number": 139
    },
    {
     "cell_type": "markdown",
     "metadata": {},
     "source": [
      "- \uc555\ucd95\ud55c \ub370\uc774\ud130\ub97c \uc4f0\ub294 \ubc29\ubc95"
     ]
    },
    {
     "cell_type": "code",
     "collapsed": false,
     "input": [
      "text = '''Hello World\n",
      "Hello World                                                   \n",
      "Hello World                  \n",
      "Hello World       \n",
      "Nice Job\n",
      "Nice Job\n",
      "                                                                    \n",
      "                                                                    \n",
      "                                                                    \n",
      "                                                                    \n",
      "                                                                    \n",
      "                                                                    \n",
      "                                                                    \n",
      "                                                                    \n",
      "                                                                    \n",
      "                                                                    \n",
      "                                                                    \n",
      "                                                                    \n",
      "                                                                    \n",
      "                                                                    \n",
      "                                                                    \n",
      "                                                                    \n",
      "\n",
      "\n",
      "\n",
      "Nice Job'''"
     ],
     "language": "python",
     "metadata": {},
     "outputs": [],
     "prompt_number": 175
    },
    {
     "cell_type": "code",
     "collapsed": false,
     "input": [
      "# gzip \uc555\ucd95\n",
      "import gzip\n",
      "with gzip.open('05/somefile.gz', 'wt') as f:\n",
      "    f.write(text)"
     ],
     "language": "python",
     "metadata": {},
     "outputs": [],
     "prompt_number": 176
    },
    {
     "cell_type": "code",
     "collapsed": false,
     "input": [
      "!file 05/somefile.gz"
     ],
     "language": "python",
     "metadata": {},
     "outputs": [
      {
       "output_type": "stream",
       "stream": "stdout",
       "text": [
        "05/somefile.gz: gzip compressed data, was \"somefile\", last modified: Mon Oct  6 06:03:34 2014, max compression\r\n"
       ]
      }
     ],
     "prompt_number": 177
    },
    {
     "cell_type": "code",
     "collapsed": false,
     "input": [
      "!ls -l 05/somefile.gz"
     ],
     "language": "python",
     "metadata": {},
     "outputs": [
      {
       "output_type": "stream",
       "stream": "stdout",
       "text": [
        "-rw-r--r--  1 re4lfl0w  staff  86 10  6 06:03 05/somefile.gz\r\n"
       ]
      }
     ],
     "prompt_number": 178
    },
    {
     "cell_type": "code",
     "collapsed": false,
     "input": [
      "# bz2 \uc555\ucd95\n",
      "import bz2\n",
      "with bz2.open('05/somefile.bz2', 'wt') as f:\n",
      "    f.write(text)"
     ],
     "language": "python",
     "metadata": {},
     "outputs": [],
     "prompt_number": 143
    },
    {
     "cell_type": "code",
     "collapsed": false,
     "input": [
      "!file 05/somefile.bz2"
     ],
     "language": "python",
     "metadata": {},
     "outputs": [
      {
       "output_type": "stream",
       "stream": "stdout",
       "text": [
        "05/somefile.bz2: bzip2 compressed data, block size = 900k\r\n"
       ]
      }
     ],
     "prompt_number": 144
    },
    {
     "cell_type": "markdown",
     "metadata": {},
     "source": [
      "- \uc55e\uc5d0\uc11c \uc0b4\ud3b4\ubcf8 \ub300\ub85c, \ubaa8\ub4e0 \uc785\ucd9c\ub825\uc740 \ud14d\uc2a4\ud2b8\ub97c \uc0ac\uc6a9\ud558\uace0 Unicode \uc778\ucf54\ub529/\ub514\ucf54\ub529 \uc218\ud589\n",
      "- \ubc14\uc774\ub108\ub9ac \ub370\uc774\ud130\ub97c \uc0ac\uc6a9\ud558\uace0 \uc2f6\ub2e4\uba74 rb \ub610\ub294 wb \ubaa8\ub4dc\ub97c \uc0ac\uc6a9\ud558\ub3c4\ub85d \ud558\uc790"
     ]
    },
    {
     "cell_type": "markdown",
     "metadata": {},
     "source": [
      "### \ud1a0\ub860\n",
      "\n",
      "- \uc555\ucd95\ud55c \ub370\uc774\ud130\ub97c \uc77d\uac70\ub098 \uc4f0\uae30\uac00 \uc5b4\ub835\uc9c0\ub294 \uc54a\uc74c\n",
      "- \ud558\uc9c0\ub9cc, \uc62c\ubc14\ub978 \ud30c\uc77c \ubaa8\ub4dc\ub97c \uc120\ud0dd\ud558\ub294 \uac83\uc740 \uc0c1\ub2f9\ud788 \uc911\uc694\n",
      "- **\ubaa8\ub4dc\ub97c \uba85\uc2dc\ud558\uc9c0 \uc54a\uc73c\uba74** \uae30\ubcf8\uc801\uc73c\ub85c **\ubc14\uc774\ub108\ub9ac \ubaa8\ub4dc**\uac00 \ub428\n",
      "- \ud14d\uc2a4\ud2b8 \ud30c\uc77c\uc744 \ubc1b\uc744 \uac83\uc774\ub77c\uace0 \uac00\uc815\ud55c \ud504\ub85c\uadf8\ub7a8\uc5d0\ub294 \ubb38\uc81c\uac00 \ubc1c\uc0dd\n",
      "- gzip.open()\uacfc bz2.open()\uc740 encoding, errors, newline\uacfc \uac19\uc774 \ub0b4\uc7a5\ud568\uc218 open()\uacfc \ub3d9\uc77c\ud55c \uc778\uc790\ub97c \ubc1b\uc74c\n",
      "- \uc555\ucd95\ud55c \ub370\uc774\ud130\ub97c \uc4f8 \ub54c\ub294 compresslevel \uc778\uc790\ub85c \uc555\ucd95 \uc815\ub3c4\ub97c \uc9c0\uc815 \uac00\ub2a5"
     ]
    },
    {
     "cell_type": "code",
     "collapsed": false,
     "input": [
      "with gzip.open('05/somefile.gz', 'wt', compresslevel=9) as f:\n",
      "    f.write(text)\n",
      "!ls -l 05/somefile.gz"
     ],
     "language": "python",
     "metadata": {},
     "outputs": [
      {
       "output_type": "stream",
       "stream": "stdout",
       "text": [
        "-rw-r--r--  1 re4lfl0w  staff  86 10  6 06:03 05/somefile.gz\r\n"
       ]
      }
     ],
     "prompt_number": 180
    },
    {
     "cell_type": "code",
     "collapsed": false,
     "input": [
      "with gzip.open('05/somefile.gz', 'wt', compresslevel=5) as f:\n",
      "    f.write(text)\n",
      "!ls -l 05/somefile.gz"
     ],
     "language": "python",
     "metadata": {},
     "outputs": [
      {
       "output_type": "stream",
       "stream": "stdout",
       "text": [
        "-rw-r--r--  1 re4lfl0w  staff  90 10  6 06:03 05/somefile.gz\r\n"
       ]
      }
     ],
     "prompt_number": 179
    },
    {
     "cell_type": "code",
     "collapsed": false,
     "input": [
      "with gzip.open('05/somefile.gz', 'wt', compresslevel=1) as f:\n",
      "    f.write(text)\n",
      "!ls -l 05/somefile.gz"
     ],
     "language": "python",
     "metadata": {},
     "outputs": [
      {
       "output_type": "stream",
       "stream": "stdout",
       "text": [
        "-rw-r--r--  1 re4lfl0w  staff  100 10  6 06:03 05/somefile.gz\r\n"
       ]
      }
     ],
     "prompt_number": 181
    },
    {
     "cell_type": "code",
     "collapsed": false,
     "input": [
      "help(gzip.open)"
     ],
     "language": "python",
     "metadata": {},
     "outputs": [
      {
       "output_type": "stream",
       "stream": "stdout",
       "text": [
        "Help on function open in module gzip:\n",
        "\n",
        "open(filename, mode='rb', compresslevel=9, encoding=None, errors=None, newline=None)\n",
        "    Open a gzip-compressed file in binary or text mode.\n",
        "    \n",
        "    The filename argument can be an actual filename (a str or bytes object), or\n",
        "    an existing file object to read from or write to.\n",
        "    \n",
        "    The mode argument can be \"r\", \"rb\", \"w\", \"wb\", \"x\", \"xb\", \"a\" or \"ab\" for\n",
        "    binary mode, or \"rt\", \"wt\", \"xt\" or \"at\" for text mode. The default mode is\n",
        "    \"rb\", and the default compresslevel is 9.\n",
        "    \n",
        "    For binary mode, this function is equivalent to the GzipFile constructor:\n",
        "    GzipFile(filename, mode, compresslevel). In this case, the encoding, errors\n",
        "    and newline arguments must not be provided.\n",
        "    \n",
        "    For text mode, a GzipFile object is created, and wrapped in an\n",
        "    io.TextIOWrapper instance with the specified encoding, error handling\n",
        "    behavior, and line ending(s).\n",
        "\n"
       ]
      }
     ],
     "prompt_number": 155
    },
    {
     "cell_type": "markdown",
     "metadata": {},
     "source": [
      "- \uae30\ubcf8 \ub808\ubca8\uc740 9\ub85c, \uac00\uc7a5 \ub192\uc740 \uc555\ucd95\ub960 \uae30\ub9ac\ud0b4\n",
      "- \ub9c8\uc9c0\ub9c9\uc73c\ub85c, \uc798 \uc54c\ub824\uc9c0\uc9c0 \uc54a\uc740 \uae30\ub2a5\uc778 gzip.open()\uacfc bz2.open()\uc744 \uae30\uc874\uc5d0 \uc5f4\ub824\uc788\ub294 \ubc14\uc774\ub108\ub9ac \ud30c\uc77c\uc758 \uc0c1\uc704\uc5d0 \uc704\uce58\uc2dc\ud0a4\ub294 \uac83\uc744 \ubcf4\uc790"
     ]
    },
    {
     "cell_type": "code",
     "collapsed": false,
     "input": [
      "import gzip\n",
      "f = open('05/somefile.gz', 'rb')\n",
      "with gzip.open(f, 'rt') as g:\n",
      "    text = g.read()\n",
      "text"
     ],
     "language": "python",
     "metadata": {},
     "outputs": [
      {
       "metadata": {},
       "output_type": "pyout",
       "prompt_number": 184,
       "text": [
        "'Hello World\\nHello World                                                   \\nHello World                  \\nHello World       \\nNice Job\\nNice Job\\n                                                                    \\n                                                                    \\n                                                                    \\n                                                                    \\n                                                                    \\n                                                                    \\n                                                                    \\n                                                                    \\n                                                                    \\n                                                                    \\n                                                                    \\n                                                                    \\n                                                                    \\n                                                                    \\n                                                                    \\n                                                                    \\n\\n\\n\\nNice Job'"
       ]
      }
     ],
     "prompt_number": 184
    },
    {
     "cell_type": "code",
     "collapsed": false,
     "input": [
      "# \uc774\uac70\ub791 \ubb34\uc2a8 \ucc28\uc774\ub0d0??\n",
      "import gzip\n",
      "with gzip.open('05/somefile.gz') as f:\n",
      "    text = f.read()\n",
      "text"
     ],
     "language": "python",
     "metadata": {},
     "outputs": [
      {
       "metadata": {},
       "output_type": "pyout",
       "prompt_number": 185,
       "text": [
        "b'Hello World\\nHello World                                                   \\nHello World                  \\nHello World       \\nNice Job\\nNice Job\\n                                                                    \\n                                                                    \\n                                                                    \\n                                                                    \\n                                                                    \\n                                                                    \\n                                                                    \\n                                                                    \\n                                                                    \\n                                                                    \\n                                                                    \\n                                                                    \\n                                                                    \\n                                                                    \\n                                                                    \\n                                                                    \\n\\n\\n\\nNice Job'"
       ]
      }
     ],
     "prompt_number": 185
    },
    {
     "cell_type": "markdown",
     "metadata": {},
     "source": [
      "- \uc774\ub807\uac8c \ud558\uba74 gzip\uacfc bz2 \ubaa8\ub4c8\uc774 \ud30c\uc77c \uac19\uc740 \uac1d\uccb4(\uc18c\ucf13, \ud30c\uc774\ud504, \uba54\ubaa8\ub9ac \ud30c\uc77c \ub4f1)\uacfc \uac19\uc774 \uc791\uc5c5\ud560 \uc218 \uc788\uc74c\n",
      "- \uc774\uac8c \uc5b4\ub5a4\uc810\uc774 \uc774\ub4dd\uc778\uc9c0 \uc774\ud574\uac00 \uc798 \uc548\ub428.."
     ]
    },
    {
     "cell_type": "markdown",
     "metadata": {},
     "source": [
      "## 5.8 \uace0\uc815 \ud06c\uae30 \ub808\ucf54\ub4dc \uc21c\ud658\n",
      "\n",
      "### \ubb38\uc81c\n",
      "\n",
      "- \ud30c\uc77c\uc744 \uc904 \ub2e8\uc704\ub85c \uc21c\ud658\ud558\uc9c0 \uc54a\uace0, \ud06c\uae30\ub97c \uc9c0\uc815\ud574\uc11c \uadf8 \ub2e8\uc704\ubcc4\ub85c \uc21c\ud658\ud558\uace0 \uc2f6\ub2e4.\n",
      "\n",
      "### \ud574\uacb0\n",
      "\n",
      "- iter() \ud568\uc218\uc640 functools.partial()\uc744 \uc0ac\uc6a9"
     ]
    },
    {
     "cell_type": "code",
     "collapsed": false,
     "input": [
      "with open('05/data2.bin', 'wb') as f:\n",
      "    f.write(text)"
     ],
     "language": "python",
     "metadata": {},
     "outputs": [],
     "prompt_number": 190
    },
    {
     "cell_type": "code",
     "collapsed": false,
     "input": [
      "from functools import partial"
     ],
     "language": "python",
     "metadata": {},
     "outputs": [],
     "prompt_number": 191
    },
    {
     "cell_type": "code",
     "collapsed": false,
     "input": [
      "RECORD_SIZE = 32"
     ],
     "language": "python",
     "metadata": {},
     "outputs": [],
     "prompt_number": 192
    },
    {
     "cell_type": "code",
     "collapsed": false,
     "input": [
      "with open('05/data2.bin', 'rb') as f:\n",
      "    records = iter(partial(f.read, RECORD_SIZE), b'')\n",
      "    for r in records:\n",
      "        print(r)"
     ],
     "language": "python",
     "metadata": {},
     "outputs": [
      {
       "output_type": "stream",
       "stream": "stdout",
       "text": [
        "b'Hello World\\nHello World         '\n",
        "b'                                '\n",
        "b'          \\nHello World          '\n",
        "b'        \\nHello World       \\nNice'\n",
        "b' Job\\nNice Job\\n                  '\n",
        "b'                                '\n",
        "b'                  \\n             '\n",
        "b'                                '\n",
        "b'                       \\n        '\n",
        "b'                                '\n",
        "b'                            \\n   '\n",
        "b'                                '\n",
        "b'                                '\n",
        "b' \\n                              '\n",
        "b'                                '\n",
        "b'      \\n                         '\n",
        "b'                                '\n",
        "b'           \\n                    '\n",
        "b'                                '\n",
        "b'                \\n               '\n",
        "b'                                '\n",
        "b'                     \\n          '\n",
        "b'                                '\n",
        "b'                          \\n     '\n",
        "b'                                '\n",
        "b'                               \\n'\n",
        "b'                                '\n",
        "b'                                '\n",
        "b'    \\n                           '\n",
        "b'                                '\n",
        "b'         \\n                      '\n",
        "b'                                '\n",
        "b'              \\n                 '\n",
        "b'                                '\n",
        "b'                   \\n            '\n",
        "b'                                '\n",
        "b'                        \\n       '\n",
        "b'                                '\n",
        "b'                             \\n\\n\\n'\n",
        "b'\\nNice Job'\n"
       ]
      }
     ],
     "prompt_number": 194
    },
    {
     "cell_type": "markdown",
     "metadata": {},
     "source": [
      "- \uc774 \uc608\uc81c\uc758 records \uac1d\uccb4\ub294 \ud30c\uc77c\uc758 \ub9c8\uc9c0\ub9c9\uc5d0 \ub3c4\ub2ec\ud560 \ub54c\uae4c\uc9c0 \uace0\uc815 \ud06c\uae30\uc758 \ub370\uc774\ud130\ub97c \uc0dd\uc0b0\ud558\ub294 \uc21c\ud658 \uac1d\uccb4\n",
      "- \ud558\uc9c0\ub9cc \ud30c\uc77c\uc758 \ud06c\uae30\uac00 \uc9c0\uc815\ud55c \ud06c\uae30\uc758 \uc815\ud655\ud55c \ubc30\uc218\uac00 \uc544\ub2cc \uacbd\uc6b0 \ub9c8\uc9c0\ub9c9 \uc544\uc774\ud15c\uc758 \ud06c\uae30\uac00 \uc608\uc0c1\ubcf4\ub2e4 \uc791\uc744 \uc218 \uc788\uc74c"
     ]
    },
    {
     "cell_type": "markdown",
     "metadata": {},
     "source": [
      "### \ud1a0\ub860\n",
      "\n",
      "- iter() \ud568\uc218\uc5d0 \uc798 \uc54c\ub824\uc9c0\uc9c0 \uc54a\uc740 \uae30\ub2a5\uc73c\ub85c, **\ud638\ucd9c \uac00\ub2a5 \uac1d\uccb4**\uc640 **\uc885\ub8cc\uac12**\uc744 \uc804\ub2ec\ud558\uba74 \uc774\ud130\ub808\uc774\ud130\ub97c \ub9cc\ub4dc\ub294 \uac83\n",
      "- \uadf8 \uc774\ud130\ub808\uc774\ud130\ub294 \uc81c\uacf5\ubc1b\uc740 \ud638\ucd9c \uac00\ub2a5 \uac1d\uccb4\ub97c \ubc18\ubcf5\uc801\uc73c\ub85c \ud638\ucd9c\ud558\uba70 \uc885\ub8cc\uac12\uc744 \ubc18\ud658\ud560 \ub54c \uc21c\ud658\uc744 \uba48\ucd98\ub2e4.\n",
      "- \uc774 \ud574\uacb0\ucc45\uc5d0\uc11c functools.partial\ub85c \ud30c\uc77c\uc5d0\uc11c \uace0\uc815 \ud06c\uae30 \ubc14\uc774\ud2b8\ub97c \uc77d\uac70 \ud638\ucd9c \uac00\ub2a5 \uac1d\uccb4\ub97c \uc0dd\uc131\ud588\ub2e4. \ud30c\uc77c\uc744 \uc77d\uc5c8\uc9c0\ub9cc \ub9c8\uc9d0\uac00\uc5d0 \ub3c4\ub2ec\ud588\ub2e4\uba74 \uc885\ub8cc\uac12\uc778 b''\ub97c \ubc18\ud658\n",
      "- \ub9c8\uc9c0\ub9c9\uc73c\ub85c \uc774 \uc608\uc81c\uc5d0\uc11c \ud30c\uc77c\uc744 **\ubc14\uc774\ub108\ub9ac \ubaa8\ub4dc**\ub85c \uc5f4\uc5c8\uc74c\uc5d0 **\uc8fc\ubaa9**\n",
      "- \uace0\uc815 \ud06c\uae30 \ub808\ucf54\ub4dc\ub97c \uc77d\uae30 \uc704\ud574\uc11c \uc774\uac83\uc774 \uac00\uc7a5 \uc77c\ubc18\uc801\n",
      "- **\ud14d\uc2a4\ud2b8 \ud30c\uc77c**\uc758 \uacbd\uc6b0\uc5d0\ub294 **\uc904 \ub2e8\uc704**\ub85c \uc77d\ub294 \uacbd\uc6b0\uac00 \ub354 \ub9ce\ub2e4."
     ]
    },
    {
     "cell_type": "markdown",
     "metadata": {},
     "source": [
      "## 5.9 \ubc14\uc774\ub108\ub9ac \ub370\uc774\ud130\ub97c \uc218\uc815 \uac00\ub2a5\ud55c \ubc84\ud37c\uc5d0 \ub123\uae30\n",
      "\n",
      "### \ubb38\uc81c\n",
      "\n",
      "- \ubc14\uc774\ub108\ub9ac \ub370\uc774\ud130\ub97c \uc77d\uc5b4 \uc218\uc815 \uac00\ub2a5 \ubc84\ud37c(mutable buffer)\uc5d0 \ub123\uc744 \ub54c \uc5b4\ub5a0\ud55c \ubcf5\uc0ac \uacfc\uc815\ub3c4 \uac70\uce58\uace0 \uc2f6\uc9c0 \uc54a\ub2e4. \uadf8\ub9ac\uace0 \uadf8 \ub370\uc774\ud130\ub97c \ubcc0\ud615\ud55c \ud6c4 \ud30c\uc77c\uc5d0 \ub2e4\uc2dc \uc368\uc57c \ud560\uc9c0\ub3c4 \ubaa8\ub978\ub2e4.\n",
      "\n",
      "### \ud574\uacb0\n",
      "\n",
      "- \ub370\uc774\ud130\ub97c \uc77d\uc5b4 \uc218\uc815 \uac00\ub2a5\ud55c \ubc30\uc5f4\uc5d0 \ub123\uc73c\ub824\uba74 readinto() \uba54\uc18c\ub4dc \uc0ac\uc6a9"
     ]
    },
    {
     "cell_type": "code",
     "collapsed": false,
     "input": [
      "import os.path\n",
      "\n",
      "def read_into_buffer(filename):\n",
      "    buf = bytearray(os.path.getsize(filename))\n",
      "    with open(filename, 'rb') as f:\n",
      "        f.readinto(buf)\n",
      "    return buf"
     ],
     "language": "python",
     "metadata": {},
     "outputs": [],
     "prompt_number": 202
    },
    {
     "cell_type": "code",
     "collapsed": false,
     "input": [
      "# \uc0d8\ud50c \ud30c\uc77c \uc4f0\uae30\n",
      "with open('05/data3.bin', 'wb') as f:\n",
      "    f.write(b'Hello World')"
     ],
     "language": "python",
     "metadata": {},
     "outputs": [],
     "prompt_number": 203
    },
    {
     "cell_type": "code",
     "collapsed": false,
     "input": [
      "buf = read_into_buffer('05/data3.bin')"
     ],
     "language": "python",
     "metadata": {},
     "outputs": [],
     "prompt_number": 204
    },
    {
     "cell_type": "code",
     "collapsed": false,
     "input": [
      "buf"
     ],
     "language": "python",
     "metadata": {},
     "outputs": [
      {
       "metadata": {},
       "output_type": "pyout",
       "prompt_number": 205,
       "text": [
        "bytearray(b'Hello World')"
       ]
      }
     ],
     "prompt_number": 205
    },
    {
     "cell_type": "code",
     "collapsed": false,
     "input": [
      "buf[0:5] = b'Hallo'"
     ],
     "language": "python",
     "metadata": {},
     "outputs": [],
     "prompt_number": 207
    },
    {
     "cell_type": "code",
     "collapsed": false,
     "input": [
      "buf"
     ],
     "language": "python",
     "metadata": {},
     "outputs": [
      {
       "metadata": {},
       "output_type": "pyout",
       "prompt_number": 208,
       "text": [
        "bytearray(b'Hallo World')"
       ]
      }
     ],
     "prompt_number": 208
    },
    {
     "cell_type": "code",
     "collapsed": false,
     "input": [
      "with open('05/newsample.bin', 'wb') as f:\n",
      "    f.write(buf)"
     ],
     "language": "python",
     "metadata": {},
     "outputs": [],
     "prompt_number": 209
    },
    {
     "cell_type": "code",
     "collapsed": false,
     "input": [
      "buf2 = read_into_buffer('05/newsample.bin')\n",
      "buf2"
     ],
     "language": "python",
     "metadata": {},
     "outputs": [
      {
       "metadata": {},
       "output_type": "pyout",
       "prompt_number": 210,
       "text": [
        "bytearray(b'Hallo World')"
       ]
      }
     ],
     "prompt_number": 210
    },
    {
     "cell_type": "markdown",
     "metadata": {},
     "source": [
      "### \ud1a0\ub860\n",
      "\n",
      "- readinto() \uba54\uc18c\ub4dc\ub97c \uc0ac\uc6a9\ud574\uc11c \ubbf8\ub9ac \ud560\ub2f9\ud574 \ub193\uc740 \ubc30\uc5f4\uc5d0 \ub370\uc774\ud130\ub97c \ucc44\uc6cc \ub123\uc744 \uc218 \uc788\uc74c\n",
      "- \uc774\ub54c array \ubaa8\ub4c8\uc774\ub098 numpy\uc640 \uac19\uc740 \ub77c\uc774\ube0c\ub7ec\ub9ac\ub97c \uc0ac\uc6a9\ud574\uc11c \uc0dd\uc131\ud55c \ubc30\uc5f4\uc744 \uc0ac\uc6a9\ud560 \uc218\ub3c4 \uc788\uc74c\n",
      "- \uc0c8\ub85c\uc6b4 \uac1d\uccb4\ub97c \ud560\ub2f9\ud558\uace0 \ubc18\ud658\ud558\ub294 \uc77c\ubc18\uc801\uc778 read() \uba54\uc18c\ub4dc\uc640\ub294 \ub2e4\ub974\uac8c readinto() \uba54\uc18c\ub4dc\ub294 **\uae30\uc874\uc758 \ubc84\ud37c\uc5d0 \ub0b4\uc6a9\uc744 \ucc44\uc6cc\ub123\uc74c**\n",
      "- \ub530\ub77c\uc11c **\ubd88\ud544\uc694\ud55c \uba54\ubaa8\ub9ac \ud560\ub2f9**\uc744 **\ud53c\ud560** \uc218 \uc788\uc74c\n",
      "- \ub808\ucf54\ub4dc \ud06c\uae30\uac00 \uace0\uc815\uc801\uc778 \ubc14\uc774\ub108\ub7ec \ud30c\uc77c\uc744 \uc77d\ub294\ub2e4\uba74 \ub2e4\uc74c\uacfc \uac19\uc740 \ucf54\ub4dc \uc791\uc131 \uac00\ub2a5"
     ]
    },
    {
     "cell_type": "code",
     "collapsed": false,
     "input": [
      "# \ub808\ucf54\ub4dc\uc758 \ud06c\uae30(\uac12\uc744 \uc870\uc808)\n",
      "record_size = 32 "
     ],
     "language": "python",
     "metadata": {},
     "outputs": [],
     "prompt_number": 211
    },
    {
     "cell_type": "code",
     "collapsed": false,
     "input": [
      "buf = bytearray(record_size)\n",
      "buf"
     ],
     "language": "python",
     "metadata": {},
     "outputs": [
      {
       "metadata": {},
       "output_type": "pyout",
       "prompt_number": 213,
       "text": [
        "bytearray(b'\\x00\\x00\\x00\\x00\\x00\\x00\\x00\\x00\\x00\\x00\\x00\\x00\\x00\\x00\\x00\\x00\\x00\\x00\\x00\\x00\\x00\\x00\\x00\\x00\\x00\\x00\\x00\\x00\\x00\\x00\\x00\\x00')"
       ]
      }
     ],
     "prompt_number": 213
    },
    {
     "cell_type": "code",
     "collapsed": false,
     "input": [
      "with open('05/data2.bin', 'rb') as f:\n",
      "    while True:\n",
      "        n = f.readinto(buf)\n",
      "        print(n)\n",
      "        print(buf)\n",
      "        if n < record_size:\n",
      "            print('break')\n",
      "            break\n",
      "        # buf \ub0b4\uc6a9\uc744 \uc0ac\uc6a9"
     ],
     "language": "python",
     "metadata": {},
     "outputs": [
      {
       "output_type": "stream",
       "stream": "stdout",
       "text": [
        "32\n",
        "bytearray(b'Hello World\\nHello World         ')\n",
        "32\n",
        "bytearray(b'                                ')\n",
        "32\n",
        "bytearray(b'          \\nHello World          ')\n",
        "32\n",
        "bytearray(b'        \\nHello World       \\nNice')\n",
        "32\n",
        "bytearray(b' Job\\nNice Job\\n                  ')\n",
        "32\n",
        "bytearray(b'                                ')\n",
        "32\n",
        "bytearray(b'                  \\n             ')\n",
        "32\n",
        "bytearray(b'                                ')\n",
        "32\n",
        "bytearray(b'                       \\n        ')\n",
        "32\n",
        "bytearray(b'                                ')\n",
        "32\n",
        "bytearray(b'                            \\n   ')\n",
        "32\n",
        "bytearray(b'                                ')\n",
        "32\n",
        "bytearray(b'                                ')\n",
        "32\n",
        "bytearray(b' \\n                              ')\n",
        "32\n",
        "bytearray(b'                                ')\n",
        "32\n",
        "bytearray(b'      \\n                         ')\n",
        "32\n",
        "bytearray(b'                                ')\n",
        "32\n",
        "bytearray(b'           \\n                    ')\n",
        "32\n",
        "bytearray(b'                                ')\n",
        "32\n",
        "bytearray(b'                \\n               ')\n",
        "32\n",
        "bytearray(b'                                ')\n",
        "32\n",
        "bytearray(b'                     \\n          ')\n",
        "32\n",
        "bytearray(b'                                ')\n",
        "32\n",
        "bytearray(b'                          \\n     ')\n",
        "32\n",
        "bytearray(b'                                ')\n",
        "32\n",
        "bytearray(b'                               \\n')\n",
        "32\n",
        "bytearray(b'                                ')\n",
        "32\n",
        "bytearray(b'                                ')\n",
        "32\n",
        "bytearray(b'    \\n                           ')\n",
        "32\n",
        "bytearray(b'                                ')\n",
        "32\n",
        "bytearray(b'         \\n                      ')\n",
        "32\n",
        "bytearray(b'                                ')\n",
        "32\n",
        "bytearray(b'              \\n                 ')\n",
        "32\n",
        "bytearray(b'                                ')\n",
        "32\n",
        "bytearray(b'                   \\n            ')\n",
        "32\n",
        "bytearray(b'                                ')\n",
        "32\n",
        "bytearray(b'                        \\n       ')\n",
        "32\n",
        "bytearray(b'                                ')\n",
        "32\n",
        "bytearray(b'                             \\n\\n\\n')\n",
        "9\n",
        "bytearray(b'\\nNice Job                    \\n\\n\\n')\n",
        "break\n"
       ]
      }
     ],
     "prompt_number": 219
    },
    {
     "cell_type": "markdown",
     "metadata": {},
     "source": [
      "- \ud765\ubbf8\ub85c\uc6b4 \uae30\ub2a5\uc778 memoryview\ub3c4 \uc0ac\uc6a9\ud574\ubcf4\uc790\n",
      "- \uae30\uc874 \ubc84\ud37c\uc758 zero-copy \uc870\uac01\uc744 \ub9cc\ub4e4 \uc218 \uc788\uace0 \uae30\uc874\uc758 \ub0b4\uc6a9\uc740 \uc218\uc815\ud558\uc9c0 \uc54a\uc74c"
     ]
    },
    {
     "cell_type": "code",
     "collapsed": false,
     "input": [
      "buf"
     ],
     "language": "python",
     "metadata": {},
     "outputs": [
      {
       "metadata": {},
       "output_type": "pyout",
       "prompt_number": 220,
       "text": [
        "bytearray(b'\\nNice Job                    \\n\\n\\n')"
       ]
      }
     ],
     "prompt_number": 220
    },
    {
     "cell_type": "code",
     "collapsed": false,
     "input": [
      "m1 = memoryview(buf)\n",
      "m1"
     ],
     "language": "python",
     "metadata": {},
     "outputs": [
      {
       "metadata": {},
       "output_type": "pyout",
       "prompt_number": 222,
       "text": [
        "<memory at 0x1030adf20>"
       ]
      }
     ],
     "prompt_number": 222
    },
    {
     "cell_type": "code",
     "collapsed": false,
     "input": [
      "m2 = m1[-5:]"
     ],
     "language": "python",
     "metadata": {},
     "outputs": [],
     "prompt_number": 223
    },
    {
     "cell_type": "code",
     "collapsed": false,
     "input": [
      "m2"
     ],
     "language": "python",
     "metadata": {},
     "outputs": [
      {
       "metadata": {},
       "output_type": "pyout",
       "prompt_number": 224,
       "text": [
        "<memory at 0x1030add90>"
       ]
      }
     ],
     "prompt_number": 224
    },
    {
     "cell_type": "code",
     "collapsed": false,
     "input": [
      "m2[:] = b'WORLD'"
     ],
     "language": "python",
     "metadata": {},
     "outputs": [],
     "prompt_number": 225
    },
    {
     "cell_type": "code",
     "collapsed": false,
     "input": [
      "buf"
     ],
     "language": "python",
     "metadata": {},
     "outputs": [
      {
       "metadata": {},
       "output_type": "pyout",
       "prompt_number": 226,
       "text": [
        "bytearray(b'\\nNice Job                  WORLD')"
       ]
      }
     ],
     "prompt_number": 226
    },
    {
     "cell_type": "markdown",
     "metadata": {},
     "source": [
      "- f.readinto()\ub97c \uc0ac\uc6a9\ud560 \ub54c \ubc18\ud658 \ucf54\ub4dc\ub97c \ubc18\ub4dc\uc2dc \ud655\uc778\n",
      "- \ubc18\ud658 \ucf54\ub4dc\ub294 \uc2e4\uc81c\ub85c \uc77d\uc740 \ubc14\uc774\ud2b8 \uc218\uac00 \ub428\n",
      "- \ubc14\uc774\ud2b8 \uc218\uac00 \uc81c\uc2dc\ud55c \ubc84\ud37c\uc758 \ud06c\uae30\ubcf4\ub2e4 \uc791\ub2e4\uba74 \ub370\uc774\ud130\uc5d0 \uc774\uc0c1\uc774 \uc788\uac70\ub098 \ubb34\uc5b8\uac00 \uc798\ub824 \ub098\uac14\uc74c\uc744 \uc758\ubbf8(\uc608: \uc815\ud655\ud788 \uc5b4\ub5a4 \ubc14\uc774\ud2b8\ub97c \uc77d\uc73c\ub824\uace0 \ud588\ub294\ub370 \uadf8\ubcf4\ub2e4 \uc791\uc740 \uacbd\uc6b0)\n",
      "- \ub9c8\uc9c0\ub9c9\uc73c\ub85c \"into\" \ud615\uc2dd\uc758 \ub2e4\ub978 \ud568\uc218\uc5d0\ub3c4 \uad00\uc2ec\uc744 \uac16\ub3c4\ub85d \ud558\uc790(recv_into(), pack_into() \ub4f1)\n",
      "- \ud30c\uc774\uc36c\uc5d0\ub294 readinto() \uc678\uc5d0\ub3c4 \uc9c1\uc811 \uc785\ucd9c\ub825 \ud639\uc740 \ubc30\uc5f4, \ubc84\ud37c\ub97c \ucc44\uc6b0\uac70\ub098 \uc218\uc815\ud558\ub294 \ub370 \uc0ac\uc6a9\ud560 \uc218 \uc788\ub3c4\ub85d \ub370\uc774\ud130\uc5d0 \ub300\ud55c \uc811\uadfc\uc744 \uc9c0\uc6d0\ud558\ub294 \uac83\uc774 \ub9ce\ub2e4.\n",
      "- \ubc14\uc774\ub108\ub9ac \uad6c\uc870\uccb4\ub97c \ud574\uc11d\ud558\uace0 \uba54\ubaa8\ub9ac\ubdf0\ub97c \uc0ac\uc6a9\ud558\ub294 \ub354 \uc790\uc138\ud55c \uc608\ub294 \ub808\uc2dc\ud53c 6.12 \ucc38\uace0"
     ]
    },
    {
     "cell_type": "markdown",
     "metadata": {},
     "source": [
      "## 5.10 \ubc14\uc774\ub108\ub9ac \ud30c\uc77c \uba54\ubaa8\ub9ac \ub9e4\ud551\n",
      "\n",
      "### \ubb38\uc81c\n",
      "\n",
      "- \ubc14\uc774\ub108\ub9ac \ud30c\uc77c\uc744 \uc218\uc815 \uac00\ub2a5\ud55c \ubc14\uc774\ud2b8 \ubc30\uc5f4\uc5d0 \ub9e4\ud551\ud558\uace0, \ub0b4\uc6a9\uc5d0 \uc811\uadfc\ud558\uac70\ub098 \uc218\uc815\ud558\uace0 \uc2f6\ub2e4.\n",
      "\n",
      "### \ud574\uacb0\n",
      "\n",
      "- mmap \ubaa8\ub4c8\uc744 \uc0ac\uc6a9\ud574\uc11c \ud30c\uc77c\u3147\ub974 \uba54\ubaa8\ub9ac \ub9e4\ud551\ud55c\ub2e4. \ud30c\uc77c\uc744 \uc5f4\uace0 \uba54\ubaa8\ub9ac \ub9e4\ud551\ud558\ub294 \uc608\ub97c \ucc38\uace0\ud558\uc790"
     ]
    },
    {
     "cell_type": "markdown",
     "metadata": {},
     "source": [
      "- [Python os.open() Method](http://www.tutorialspoint.com/python/os_open.htm)"
     ]
    },
    {
     "cell_type": "code",
     "collapsed": false,
     "input": [
      "# open for reading and writing\n",
      "os.O_RDWR"
     ],
     "language": "python",
     "metadata": {},
     "outputs": [
      {
       "metadata": {},
       "output_type": "pyout",
       "prompt_number": 255,
       "text": [
        "2"
       ]
      }
     ],
     "prompt_number": 255
    },
    {
     "cell_type": "code",
     "collapsed": false,
     "input": [
      "import os\n",
      "import mmap\n",
      "\n",
      "def memory_map(filename, access=mmap.ACCESS_WRITE):\n",
      "    size = os.path.getsize(filename)\n",
      "    fd = os.open(filename, os.O_RDWR)\n",
      "    return mmap.mmap(fd, size, access=access)"
     ],
     "language": "python",
     "metadata": {},
     "outputs": [],
     "prompt_number": 232
    },
    {
     "cell_type": "markdown",
     "metadata": {},
     "source": [
      "- open\uc744 \ud558\ub294\ub370 reading and writing \uac00\ub2a5\ud558\uac8c \ud558\uace0\n",
      "- memory map\uc744 \ud558\ub294\ub370 size\ub9cc\ud07c mapping \ud558\uba70 access \uad8c\ud55c\uc740 write\n",
      "\n",
      "- \uc774 \ud568\uc218\ub97c \uc0ac\uc6a9\ud558\ub824\uba74, \ub370\uc774\ud130\ub85c \ucc44\uc6cc\uc9c4 \ud30c\uc77c\uc774 \uc788\uc5b4\uc57c \ud568\n",
      "- \ud30c\uc77c\uc744 \uc0dd\uc131\ud558\uace0 \uc6d0\ud558\ub294 \ud06c\uae30\ub85c \ud655\uc7a5\ud558\ub294 \uc608\ub294 \ub2e4\uc74c\uacfc \uac19\uc74c"
     ]
    },
    {
     "cell_type": "code",
     "collapsed": false,
     "input": [
      "size = 1000000"
     ],
     "language": "python",
     "metadata": {},
     "outputs": [],
     "prompt_number": 233
    },
    {
     "cell_type": "code",
     "collapsed": false,
     "input": [
      "with open('05/data', 'wb') as f:\n",
      "    f.seek(size-1)\n",
      "    f.write(b'\\x00')"
     ],
     "language": "python",
     "metadata": {},
     "outputs": [],
     "prompt_number": 234
    },
    {
     "cell_type": "markdown",
     "metadata": {},
     "source": [
      "- \uc774\uc81c memory_map() \ud568\uc218\ub85c \ud30c\uc77c\uc744 \uba54\ubaa8\ub9ac \ub9e4\ud551\ud574 \ubcf4\uc790"
     ]
    },
    {
     "cell_type": "code",
     "collapsed": false,
     "input": [
      "m = memory_map('05/data')"
     ],
     "language": "python",
     "metadata": {},
     "outputs": [],
     "prompt_number": 235
    },
    {
     "cell_type": "code",
     "collapsed": false,
     "input": [
      "len(m)"
     ],
     "language": "python",
     "metadata": {},
     "outputs": [
      {
       "metadata": {},
       "output_type": "pyout",
       "prompt_number": 236,
       "text": [
        "1000000"
       ]
      }
     ],
     "prompt_number": 236
    },
    {
     "cell_type": "code",
     "collapsed": false,
     "input": [
      "m[0:10]"
     ],
     "language": "python",
     "metadata": {},
     "outputs": [
      {
       "metadata": {},
       "output_type": "pyout",
       "prompt_number": 237,
       "text": [
        "b'\\x00\\x00\\x00\\x00\\x00\\x00\\x00\\x00\\x00\\x00'"
       ]
      }
     ],
     "prompt_number": 237
    },
    {
     "cell_type": "code",
     "collapsed": false,
     "input": [
      "m[0]"
     ],
     "language": "python",
     "metadata": {},
     "outputs": [
      {
       "metadata": {},
       "output_type": "pyout",
       "prompt_number": 238,
       "text": [
        "0"
       ]
      }
     ],
     "prompt_number": 238
    },
    {
     "cell_type": "code",
     "collapsed": false,
     "input": [
      "# \uc2ac\ub77c\uc774\uc2a4 \uc7ac\ud560\ub2f9\n",
      "m[0:11] = b'Hello World'\n",
      "m.close()"
     ],
     "language": "python",
     "metadata": {},
     "outputs": [],
     "prompt_number": 239
    },
    {
     "cell_type": "code",
     "collapsed": false,
     "input": [
      "# \uc218\uc815 \uac80\uc99d\n",
      "with open('05/data', 'rb') as f:\n",
      "    d = f.read(11)\n",
      "    assert d == b'Hello World'"
     ],
     "language": "python",
     "metadata": {},
     "outputs": [],
     "prompt_number": 252
    },
    {
     "cell_type": "markdown",
     "metadata": {},
     "source": [
      "----\n",
      "\n",
      "- assert\uc744 print \ub300\uc2e0 \uc0ac\uc6a9\ud574\uc11c \ucd5c\ub300\ud55c \uc0ac\ub78c\uc774 \uc218\uc791\uc5c5\uc73c\ub85c \ud655\uc778\ud574\uc57c \ud558\ub294 \uac78 \ud53c\ud558\uc790\n",
      "- print\uc744 \uc0ac\uc6a9\ud558\uac8c \ub418\uba74 \uc0ac\uc6a9\uc790\uac00 \ud55c \ubc88 \ub354 \uacb0\uacfc\ub97c \ubd10\uc11c \ud655\uc778\uc744 \ud574\uc57c\ub418\uc796\uc544?\n",
      "- \uadf8\ub7f0\ub370 assert\ub97c \uc0ac\uc6a9\ud558\uac8c \ub418\uba74 \uc790\ub3d9\uc73c\ub85c \uacb0\uacfc\uac12\uc774 \ud655\uc778\uc774 \ub418\uace0 \uacb0\uacfc\uac12\uc774 \uc608\uc0c1\uac12\uacfc \ub2ec\ub790\uc744 \uacbd\uc6b0\uc5d0\ub9cc \ub098\uc5d0\uac8c \uc54c\ub824\uc8fc\ub2c8 \ud6e8\uc52c \ud3b8\ud558\ub2e4.\n",
      "----"
     ]
    },
    {
     "cell_type": "markdown",
     "metadata": {},
     "source": [
      "- mmap()\uc5d0 \ubc18\ud658\ud55c mmap \uac1d\uccb4\ub97c context manager\ub85c \uc0ac\uc6a9\ud560 \uc218 \uc788\ub2e4. \uadf8\ub807\uac8c \ud558\uba74 \ud30c\uc77c \uc0ac\uc6a9\uc774 \ub05d\ub098\uba74 \uc790\ub3d9\uc73c\ub85c \ub2eb\uc74c"
     ]
    },
    {
     "cell_type": "code",
     "collapsed": false,
     "input": [
      "with memory_map('05/data') as m:\n",
      "    print(len(m))\n",
      "    print(m[0:11])"
     ],
     "language": "python",
     "metadata": {},
     "outputs": [
      {
       "output_type": "stream",
       "stream": "stdout",
       "text": [
        "1000000\n",
        "b'Hello World'\n"
       ]
      }
     ],
     "prompt_number": 258
    },
    {
     "cell_type": "markdown",
     "metadata": {},
     "source": [
      "- \uae30\ubcf4\uc801\uc73c\ub85c memory_map() \ud568\uc218\ub294 \ud30c\uc77c\uc744 \uc77d\uae30/\uc4f0\uae30 \ubaa8\ub4dc\ub85c \uc5f4\uace0, \ub370\uc774\ud130\uc5d0 \uc218\uc815\uc744 \ud558\uba74 \ubaa8\ub450 \uc6d0\ubcf8 \ud30c\uc77c\uc5d0 \ubcf5\uc0ac\ub428\n",
      "- \uc774\ub807\uac8c \ud558\uc9c0 \uc54a\uace0 \uc77d\uae30 \uc804\uc6a9\uc73c\ub85c \ud30c\uc77c\uc744 \uc5f4\uace0 \uc2f6\ub2e4\uba74 mmap.ACCESS_READ\ub97c access \uc778\uc790\uc5d0 \uc804\ub2ec"
     ]
    },
    {
     "cell_type": "code",
     "collapsed": false,
     "input": [
      "# m = memory_map(filename, mmap.ACCESS_READ)"
     ],
     "language": "python",
     "metadata": {},
     "outputs": [],
     "prompt_number": 259
    },
    {
     "cell_type": "markdown",
     "metadata": {},
     "source": [
      "- \ub370\uc774\ud130\ub97c \uc9c0\uc5ed \ub808\ubca8\uc5d0\uc11c \uc218\uc815\ud558\uace0, \uc6d0\ubcf8\uc5d0\ub294 \uc601\ud5a5\uc744 \uc8fc\uace0 \uc2f6\uc9c0 \uc54a\ub2e4\uba74 mmap.ACCESS_COPY \uc0ac\uc6a9"
     ]
    },
    {
     "cell_type": "code",
     "collapsed": false,
     "input": [
      "# m = memory_map(filename, mmap.ACCESS_COPY)"
     ],
     "language": "python",
     "metadata": {},
     "outputs": [],
     "prompt_number": 260
    },
    {
     "cell_type": "markdown",
     "metadata": {},
     "source": [
      "### \ud1a0\ub860\n",
      "\n",
      "- mmap\uc73c\ub85c **\ud30c\uc77c\uc744 \uba54\ubaa8\ub9ac\uc5d0 \ub9e4\ud551**\ud558\uba74 **\ud30c\uc77c \ub0b4\uc6a9\uc5d0 \ub9e4\uc6b0 \ud6a8\uc728\uc801\uc73c\ub85c \ubb34\uc791\uc704\ub85c \uc811\uadfc**\n",
      "- \uc608\ub97c \ub4e4\uc5b4 \ud30c\uc77c\uc744 \uc5f4\uace0 seek(), read(), write() \ud638\ucd9c\uc744 \ubc88\uac08\uc544 \uac00\uba70 \ud574\uc57c \ud560 \uc77c\uc744 **\ud30c\uc77c\uc5d0 \ub9e4\ud551**\ud574 \ub193\uace0 **\uc790\ub974\uae30 \uc5f0\uc0b0**\uc73c\ub85c \uc27d\uac8c \ud574\uacb0\n",
      "- \uc77c\ubc18\uc801\uc73c\ub85c mmap()\uc5d0 \ub178\ucd9c\ub41c \uba54\ubaa8\ub9ac\ub294 bytearray \uac1d\uccb4\ucc98\ub7fc \ubcf4\uc778\ub2e4. \ud558\uc9c0\ub9cc, \uba54\ubaa8\ub9ac\ubdf0\ub97c \uc0ac\uc6a9\ud574\uc11c \ub370\uc774\ud130\ub97c \ub2e4\ub974\uac8c \ud574\uc11d\ud560 \uc218 \uc788\uc74c"
     ]
    },
    {
     "cell_type": "code",
     "collapsed": false,
     "input": [
      "m = memory_map('05/data')"
     ],
     "language": "python",
     "metadata": {},
     "outputs": [],
     "prompt_number": 333
    },
    {
     "cell_type": "code",
     "collapsed": false,
     "input": [
      "# \ubd80\ud638 \uc5c6\ub294 \uc815\uc218\ud615(unsigned interger)\uc758 \uba54\ubaa8\ub9ac\ubdf0\n",
      "v = memoryview(m).cast('I')\n",
      "v"
     ],
     "language": "python",
     "metadata": {},
     "outputs": [
      {
       "metadata": {},
       "output_type": "pyout",
       "prompt_number": 334,
       "text": [
        "<memory at 0x1044c8818>"
       ]
      }
     ],
     "prompt_number": 334
    },
    {
     "cell_type": "code",
     "collapsed": false,
     "input": [
      "v[0]"
     ],
     "language": "python",
     "metadata": {},
     "outputs": [
      {
       "metadata": {},
       "output_type": "pyout",
       "prompt_number": 335,
       "text": [
        "263"
       ]
      }
     ],
     "prompt_number": 335
    },
    {
     "cell_type": "code",
     "collapsed": false,
     "input": [
      "m[0]"
     ],
     "language": "python",
     "metadata": {},
     "outputs": [
      {
       "metadata": {},
       "output_type": "pyout",
       "prompt_number": 336,
       "text": [
        "7"
       ]
      }
     ],
     "prompt_number": 336
    },
    {
     "cell_type": "code",
     "collapsed": false,
     "input": [
      "v[0] = 7"
     ],
     "language": "python",
     "metadata": {},
     "outputs": [],
     "prompt_number": 337
    },
    {
     "cell_type": "code",
     "collapsed": false,
     "input": [
      "v[0]"
     ],
     "language": "python",
     "metadata": {},
     "outputs": [
      {
       "metadata": {},
       "output_type": "pyout",
       "prompt_number": 338,
       "text": [
        "7"
       ]
      }
     ],
     "prompt_number": 338
    },
    {
     "cell_type": "code",
     "collapsed": false,
     "input": [
      "m[0:4]"
     ],
     "language": "python",
     "metadata": {},
     "outputs": [
      {
       "metadata": {},
       "output_type": "pyout",
       "prompt_number": 339,
       "text": [
        "b'\\x07\\x00\\x00\\x00'"
       ]
      }
     ],
     "prompt_number": 339
    },
    {
     "cell_type": "code",
     "collapsed": false,
     "input": [
      "m[0:4] = b'\\x06\\x01\\x00\\x00'"
     ],
     "language": "python",
     "metadata": {},
     "outputs": [],
     "prompt_number": 341
    },
    {
     "cell_type": "code",
     "collapsed": false,
     "input": [
      "m[0:4]"
     ],
     "language": "python",
     "metadata": {},
     "outputs": [
      {
       "metadata": {},
       "output_type": "pyout",
       "prompt_number": 342,
       "text": [
        "b'\\x06\\x01\\x00\\x00'"
       ]
      }
     ],
     "prompt_number": 342
    },
    {
     "cell_type": "code",
     "collapsed": false,
     "input": [
      "v[0]"
     ],
     "language": "python",
     "metadata": {},
     "outputs": [
      {
       "metadata": {},
       "output_type": "pyout",
       "prompt_number": 343,
       "text": [
        "262"
       ]
      }
     ],
     "prompt_number": 343
    },
    {
     "cell_type": "markdown",
     "metadata": {},
     "source": [
      "- m[0]\uc740 \uc6d0\ub798 encoding\uc774\uace0 v\ub294 unsigned integer \ub2e4.\n",
      "- \uadf8\ub798\uc11c unsigned integer \ud615\ud0dc\ub85c\ub3c4 \ubcf4\uc5ec\uc904 \uc218 \uc788\ub2e4\ub77c\ub294\uac78 \ub9d0\ud558\uace0 \uc2f6\uc740\ub4ef\n",
      "\n",
      "\n",
      "- \ud30c\uc77c\uc744 \uba54\ubaa8\ub9ac \ub9e4\ud551\ud574\ub3c4 \ud30c\uc77c \uc804\uccb4\uac00 \uba54\ubaa8\ub9ac\uc5d0 \uc77d\uc5b4 \ub4e4\uc5ec\uc9c0\uc9c0 \uc54a\ub290\ub2e4\ub294 \uc810\uc744 \uae30\uc5b5\n",
      "- \uc774\ub9d0\uc778\uc989\uc2a8,\uba54\ubaa8\ub9ac \ubc84\ud37c\ub098 \ubc30\uc5f4\uc5d0 \ubcf5\uc0ac\ud558\uc9c0 \uc54a\ub294\ub2e4\ub294 \uc758\ubbf8\n",
      "- \uc6b4\uc601\uccb4\uc81c\ub294 \uadf8 \ub300\uc2e0 \ud30c\uc77c \ub0b4\uc6a9\uc744 \uc704\ud55c \uac00\uc0c1 \uba54\ubaa8\ub9ac \uc139\uc158\uc744 \uc900\ube44\ud574 \ub193\uc74c\n",
      "- \uc11c\ub85c \ub2e4\ub978 \uc9c0\uc5ed\uc5d0 \uc811\uadfc\ud558\uba74 \ud30c\uc77c\uc758 \uadf8 \ubd80\ubd84\uc744 \uc77d\uace0 \uba54\ubaa8\ub9ac\uc5d0 \ub9e4\ud551\ud55c\ub2e4.\n",
      "- \ud558\uc9c0\ub9cc \uc808\ub300 \uc811\uadfc\ud558\uc9c0 \uc54a\ub294 \ud30c\uc77c\uc758 \ub2e4\ub978 \ubd80\ubd84\uc740 \uadf8\ub300\ub85c \ub514\uc2a4\ud06c\uc5d0 \ub0a8\uc544 \uc788\uc74c. \uc774\ub7f0 \uacfc\uc815\uc740 \ubaa8\ub450 \uc790\ub3d9\n",
      "- \ud558\ub098 \uc774\uc0c1\uc758 \ud30c\uc774\uc36c \uc778\ud130\ud504\ub9ac\ud130\uac00 \ub3d9\uc77c\ud55c \ud30c\uc77c\uc744 \ub9e4\ud551\ud558\uba74, mmap \uac1d\uccb4\ub85c \uc778\ud130\ud504\ub9ac\ud130 \uac04 \ub370\uc774\ud130\ub97c \uad50\ud658 \uac00\ub2a5\n",
      "- \ub530\ub77c\uc11c \ubaa8\ub4e0 \uc778\ud130\ud504\ub9ac\ud130\uac00 \ub370\uc774\ud130\ub97c \ub3d9\uc2dc\uc5d0 \uc77d\uace0 \uc4f8 \uc218 \uc788\uace0, \ud55c \ucabd \uc778\ud130\ud504\ub9ac\ud130\uc5d0\uc11c \ub370\uc774\ud130\ub97c \uc218\uc815\ud558\uba74 \ub2e4\ub978 \ucabd\uc5d0 \uc790\ub3d9\uc73c\ub85c \uadf8 \ub0b4\uc6a9\uc774 \ubc18\uc601\ub428.\n",
      "- \ubb3c\ub860 \ub3d9\uae30\ud654\ub97c \uc704\ud574 \uc2e0\uacbd\uc368\uc57c \ud560 \ubd80\ubd84\uc774 \uc5c6\uc9c0\ub294 \uc54a\uc9c0\ub9cc, \uc774\ub7f0 \uc811\uadfc\ubc95\uc740 \ud30c\uc774\ud504\ub098 \uc18c\ucf13\uc5d0\uc11c \uba54\uc2dc\uc9c0\ub97c \uc8fc\uace0\ubc1b\ub294 \ub300\uc548\uc73c\ub85c \uc0ac\uc6a9\ub428\n",
      "- Unix\uc640 Windows\uc5d0\uc11c \ubaa8\ub450 \ub3d9\uc791\ud558\ub3c4\ub85d \uc77c\ubc18\uc801\uc778 \ubaa9\uc801\uc73c\ub85c \uc791\uc131\ub428\n",
      "- \ud558\uc9c0\ub9cc mmap() \ud638\ucd9c\ud560 \ub54c \ud50c\ub7ab\ud3fc\ub9c8\ub2e4 \uc57d\uac04 \ub2e4\ub978 \uc810\uc774 \uc788\uc74c\uc5d0 \uc8fc\uc758\n",
      "- \ucd94\uac00\uc801\uc73c\ub85c, \uc775\uba85\uc73c\ub85c \ub9e4\ud551\ub41c \uba54\ubaa8\ub9ac \uc9c0\uc5ed\uc744 \ub9cc\ub4dc\ub294 \uc635\uc158\uc774 \uc788\ub2e4. \uc774\uac8c \uad81\uae08\ud558\uba74 \ucc3e\uc544\ubd10!\n",
      "- [16.7. mmap \u00e2\u0080\u0094 Memory-mapped file support \u2014 Python 2.7.8 documentation](https://docs.python.org/2/library/mmap.html): anonymous"
     ]
    },
    {
     "cell_type": "markdown",
     "metadata": {},
     "source": [
      "### [5. \ud30c\uc77c\uacfc \uc785\ucd9c\ub82502](http://nbviewer.ipython.org/github/re4lfl0w/ipython/blob/master/books/python_cookbook/ch05_02.ipynb)"
     ]
    }
   ],
   "metadata": {}
  }
 ]
}
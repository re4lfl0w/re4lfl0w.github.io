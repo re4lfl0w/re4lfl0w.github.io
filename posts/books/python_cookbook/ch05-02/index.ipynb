{
 "metadata": {
  "name": "",
  "signature": "sha256:4bbe48635469ef3ffa663d35d7dfe500ecf0bb252ee620c0eee4dde4c3d49cfc"
 },
 "nbformat": 3,
 "nbformat_minor": 0,
 "worksheets": [
  {
   "cells": [
    {
     "cell_type": "markdown",
     "metadata": {},
     "source": [
      "## 5.11 \uacbd\ub85c \ub2e4\ub8e8\uae30\n",
      "\n",
      "### \ubb38\uc81c\n",
      "\n",
      "- \uae30\ubcf8 \ud30c\uc77c \uc774\ub984, \ub514\ub809\ud1a0\ub9ac \uc774\ub984, \uc808\ub300 \uacbd\ub85c \ub4f1\uc744 \ucc3e\uae30 \uc704\ud574 \uacbd\ub85c\ub97c \ub2e4\ub8e8\uc5b4\uc57c \ud568\n",
      "\n",
      "### \ud574\uacb0\n",
      "\n",
      "- \uacbd\ub85c\ub97c \ub2e4\ub8e8\uae30 \uc704\ud574\uc11c os.path \ubaa8\ub4c8\uc758 \ud568\uc218\ub97c \uc0ac\uc6a9"
     ]
    },
    {
     "cell_type": "code",
     "collapsed": false,
     "input": [
      "import os"
     ],
     "language": "python",
     "metadata": {},
     "outputs": [],
     "prompt_number": 1
    },
    {
     "cell_type": "code",
     "collapsed": false,
     "input": [
      "path = '/Users/beazley/Data/data.csv'"
     ],
     "language": "python",
     "metadata": {},
     "outputs": [],
     "prompt_number": 2
    },
    {
     "cell_type": "code",
     "collapsed": false,
     "input": [
      "# \uacbd\ub85c\uc758 \ub9c8\uc9c0\ub9c9 \ubd80\ubd84 \uad6c\ud558\uae30\n",
      "os.path.basename(path)"
     ],
     "language": "python",
     "metadata": {},
     "outputs": [
      {
       "metadata": {},
       "output_type": "pyout",
       "prompt_number": 4,
       "text": [
        "'data.csv'"
       ]
      }
     ],
     "prompt_number": 4
    },
    {
     "cell_type": "code",
     "collapsed": false,
     "input": [
      "# \ub514\ub809\ud1a0\ub9ac \uc774\ub984 \uad6c\ud558\uae30\n",
      "os.path.dirname(path)"
     ],
     "language": "python",
     "metadata": {},
     "outputs": [
      {
       "metadata": {},
       "output_type": "pyout",
       "prompt_number": 5,
       "text": [
        "'/Users/beazley/Data'"
       ]
      }
     ],
     "prompt_number": 5
    },
    {
     "cell_type": "code",
     "collapsed": false,
     "input": [
      "# \uac01 \ubd80\ubd84\uc744 \ud569\uce58\uae301\n",
      "os.path.join('tmp', 'data', os.path.basename(path))"
     ],
     "language": "python",
     "metadata": {},
     "outputs": [
      {
       "metadata": {},
       "output_type": "pyout",
       "prompt_number": 6,
       "text": [
        "'tmp/data/data.csv'"
       ]
      }
     ],
     "prompt_number": 6
    },
    {
     "cell_type": "code",
     "collapsed": false,
     "input": [
      "# \uac01 \ubd80\ubd84\uc744 \ud569\uce58\uae302\n",
      "os.path.join('/', 'tmp', 'data', os.path.basename(path))"
     ],
     "language": "python",
     "metadata": {},
     "outputs": [
      {
       "metadata": {},
       "output_type": "pyout",
       "prompt_number": 7,
       "text": [
        "'/tmp/data/data.csv'"
       ]
      }
     ],
     "prompt_number": 7
    },
    {
     "cell_type": "code",
     "collapsed": false,
     "input": [
      "# \uc0ac\uc6a9\uc790\uc758 \ud648 \ub514\ub809\ud1a0\ub9ac \ud3bc\uce58\uae30\n",
      "path = '~/Data/data.csv'\n",
      "os.path.expanduser(path)"
     ],
     "language": "python",
     "metadata": {},
     "outputs": [
      {
       "metadata": {},
       "output_type": "pyout",
       "prompt_number": 9,
       "text": [
        "'/Users/re4lfl0w/Data/data.csv'"
       ]
      }
     ],
     "prompt_number": 9
    },
    {
     "cell_type": "code",
     "collapsed": false,
     "input": [
      "# \ud30c\uc77c \ud655\uc7a5\uc790 \ub098\ub204\uae30\n",
      "os.path.splitext(path)"
     ],
     "language": "python",
     "metadata": {},
     "outputs": [
      {
       "metadata": {},
       "output_type": "pyout",
       "prompt_number": 10,
       "text": [
        "('~/Data/data', '.csv')"
       ]
      }
     ],
     "prompt_number": 10
    },
    {
     "cell_type": "code",
     "collapsed": false,
     "input": [
      "help(os.path.splitext)"
     ],
     "language": "python",
     "metadata": {},
     "outputs": [
      {
       "output_type": "stream",
       "stream": "stdout",
       "text": [
        "Help on function splitext in module posixpath:\n",
        "\n",
        "splitext(p)\n",
        "    Split the extension from a pathname.\n",
        "    \n",
        "    Extension is everything from the last dot to the end, ignoring\n",
        "    leading dots.  Returns \"(root, ext)\"; ext may be empty.\n",
        "\n"
       ]
      }
     ],
     "prompt_number": 11
    },
    {
     "cell_type": "code",
     "collapsed": false,
     "input": [
      "os.path.splitext('~/Data/data.csv.bak')"
     ],
     "language": "python",
     "metadata": {},
     "outputs": [
      {
       "metadata": {},
       "output_type": "pyout",
       "prompt_number": 12,
       "text": [
        "('~/Data/data.csv', '.bak')"
       ]
      }
     ],
     "prompt_number": 12
    },
    {
     "cell_type": "markdown",
     "metadata": {},
     "source": [
      "### \ud1a0\ub860\n",
      "\n",
      "- \ud30c\uc77c \uc774\ub984\uc744 \ub2e4\ub8e8\uae30 \uc704\ud574\uc11c \ubb38\uc790\uc5f4\uc5d0 \uad00\ub828\ub41c \ucf54\ub4dc\ub97c \uc9c1\uc811 \uc791\uc131\ud558\uc9c0 \ub9d0\uace0 os.path \ubaa8\ub4c8\uc744 \uc0ac\uc6a9\ud574\uc57c \ud568\n",
      "- \uc774\ub294 \uc774\uc2dd\uc131\uacfc\ub3c4 \uc5b4\ub290 \uc815\ub3c4 \uad00\ub828\uc774 \uc788\uc74c\n",
      "- os.path \ubaa8\ub4c8\uc740 Unix\uc640 Windows\uc758 \ucc28\uc774\uc810\uc744 \uc54c\uace0 Data/data.csv\uc640 Data\\data.csv\uc758 \ucc28\uc774\uc810\uc744 \uc790\ub3d9\uc73c\ub85c \ucc98\ub9ac\ud55c\ub2e4.\n",
      "- \uadf8\ub9ac\uace0 **\uc790\ub3d9\ucc28\ub97c \ub9cc\ub4e4\uaca0\ub2e4\uace0 \ubc14\ud034\ubd80\ud130 \uac1c\ubc1c\ud574\uc57c \ud560 \uc774\uc720\uac00 \uc5c6\ub2e4.** \uc774\ubbf8 \uc788\ub294 \uae30\ub2a5\uc774\ub77c\uba74 \uac00\uc838\ub2e4 \uc0ac\uc6a9\ud558\ub294 \ud3b8\uc774 \ud604\uba85\ud558\ub2e4."
     ]
    },
    {
     "cell_type": "markdown",
     "metadata": {},
     "source": [
      "## 5.12 \ud30c\uc77c \uc874\uc7ac \uc5ec\ubd80 \ud655\uc778\n",
      "\n",
      "### \ubb38\uc81c\n",
      "\n",
      "- \ud30c\uc77c\uc774\ub098 \ub514\ub809\ud1a0\ub9ac\uac00 \uc874\uc7ac\ud558\ub294\uc9c0 \ud655\uc778\ud574\uc57c \ud55c\ub2e4\n",
      "\n",
      "### \ud574\uacb0\n",
      "\n",
      "- \ud30c\uc77c\uc774\ub098 \ub514\ub809\ud1a0\ub9ac\uc758 \uc874\uc7ac \uc5ec\ubd80\ub97c \ud655\uc778\ud558\uae30 \uc704\ud574\uc11c os.path \ubaa8\ub4c8 \uc0ac\uc6a9"
     ]
    },
    {
     "cell_type": "code",
     "collapsed": false,
     "input": [
      "import os"
     ],
     "language": "python",
     "metadata": {},
     "outputs": [],
     "prompt_number": 13
    },
    {
     "cell_type": "code",
     "collapsed": false,
     "input": [
      "os.path.exists('/etc/passwd')"
     ],
     "language": "python",
     "metadata": {},
     "outputs": [
      {
       "metadata": {},
       "output_type": "pyout",
       "prompt_number": 14,
       "text": [
        "True"
       ]
      }
     ],
     "prompt_number": 14
    },
    {
     "cell_type": "code",
     "collapsed": false,
     "input": [
      "os.path.exists('/tmp/spam')"
     ],
     "language": "python",
     "metadata": {},
     "outputs": [
      {
       "metadata": {},
       "output_type": "pyout",
       "prompt_number": 15,
       "text": [
        "False"
       ]
      }
     ],
     "prompt_number": 15
    },
    {
     "cell_type": "markdown",
     "metadata": {},
     "source": [
      "- \ucd94\uac00\uc801\uc73c\ub85c \ud30c\uc77c\uc758 \uc885\ub958\uac00 \ubb34\uc5c7\uc778\uc9c0 \ud655\uc778\ud560 \uc218 \uc788\uc74c\n",
      "- \ud30c\uc77c\uc774 \uc5c6\ub294 \uacbd\uc6b0 False\ub97c \ubc18\ud658"
     ]
    },
    {
     "cell_type": "code",
     "collapsed": false,
     "input": [
      "# \uc77c\ubc18 \ud30c\uc77c\uc778\uc9c0 \ud655\uc778\n",
      "os.path.isfile('/etc/passwd')"
     ],
     "language": "python",
     "metadata": {},
     "outputs": [
      {
       "metadata": {},
       "output_type": "pyout",
       "prompt_number": 16,
       "text": [
        "True"
       ]
      }
     ],
     "prompt_number": 16
    },
    {
     "cell_type": "code",
     "collapsed": false,
     "input": [
      "# \ub514\ub809\ud1a0\ub9ac\uc778\uc9c0 \ud655\uc778\n",
      "os.path.isdir('/etc/passwd')"
     ],
     "language": "python",
     "metadata": {},
     "outputs": [
      {
       "metadata": {},
       "output_type": "pyout",
       "prompt_number": 17,
       "text": [
        "False"
       ]
      }
     ],
     "prompt_number": 17
    },
    {
     "cell_type": "code",
     "collapsed": false,
     "input": [
      "# \uc2ec\ubcfc\ub9ad \ub9c1\ud06c\uc778\uc9c0 \ud655\uc778\n",
      "os.path.islink('/usr/local/bin/python3')"
     ],
     "language": "python",
     "metadata": {},
     "outputs": [
      {
       "metadata": {},
       "output_type": "pyout",
       "prompt_number": 18,
       "text": [
        "True"
       ]
      }
     ],
     "prompt_number": 18
    },
    {
     "cell_type": "code",
     "collapsed": false,
     "input": [
      "# \uc5f0\uacb0\ub41c \ud30c\uc77c \uc5bb\uae30\n",
      "os.path.realpath('/usr/local/bin/python3')"
     ],
     "language": "python",
     "metadata": {},
     "outputs": [
      {
       "metadata": {},
       "output_type": "pyout",
       "prompt_number": 19,
       "text": [
        "'/usr/local/Cellar/python3/3.4.1/Frameworks/Python.framework/Versions/3.4/bin/python3.4'"
       ]
      }
     ],
     "prompt_number": 19
    },
    {
     "cell_type": "markdown",
     "metadata": {},
     "source": [
      "- \uba54\ud0c0\ub370\uc774\ud130(\ud30c\uc77c \ud06c\uae30, \uc218\uc815 \ub0a0\uc9dc) \ub4f1\uc774 \ud544\uc694\ud560 \ub54c\ub3c4 os.path \ubaa8\ub4c8 \uc0ac\uc6a9"
     ]
    },
    {
     "cell_type": "code",
     "collapsed": false,
     "input": [
      "os.path.getsize('/etc/passwd')"
     ],
     "language": "python",
     "metadata": {},
     "outputs": [
      {
       "metadata": {},
       "output_type": "pyout",
       "prompt_number": 20,
       "text": [
        "4962"
       ]
      }
     ],
     "prompt_number": 20
    },
    {
     "cell_type": "code",
     "collapsed": false,
     "input": [
      "os.path.getmtime('/etc/passwd')"
     ],
     "language": "python",
     "metadata": {},
     "outputs": [
      {
       "metadata": {},
       "output_type": "pyout",
       "prompt_number": 21,
       "text": [
        "1374560580.0"
       ]
      }
     ],
     "prompt_number": 21
    },
    {
     "cell_type": "code",
     "collapsed": false,
     "input": [
      "import time\n",
      "time.ctime(os.path.getmtime('/etc/passwd'))"
     ],
     "language": "python",
     "metadata": {},
     "outputs": [
      {
       "metadata": {},
       "output_type": "pyout",
       "prompt_number": 22,
       "text": [
        "'Tue Jul 23 15:23:00 2013'"
       ]
      }
     ],
     "prompt_number": 22
    },
    {
     "cell_type": "markdown",
     "metadata": {},
     "source": [
      "### \ud1a0\ub860\n",
      "\n",
      "- os.path\ub97c \uc0ac\uc6a9\ud558\uba74 \ud30c\uc77c \ud14c\uc2a4\ud305\uc740 \uadf8\ub9ac \uc5b4\ub835\uc9c0 \uc54a\uc74c\n",
      "- \uc720\uc758\ud574\uc57c \ud560 \uc810\uc740 \uc544\ub9c8\ub3c4 \ud30c\uc77c \uad8c\ud55c\uc5d0 \uad00\ub828\ub41c \uac83\ubfd0\n",
      "- \ud2b9\ud788 \uba54\ud0c0\ub370\uc774\ud130\uc5d0 \uc811\uadfc\ud560 \ub54c\ub294 \uad8c\ud55c\uc5d0 \uc8fc\uc758"
     ]
    },
    {
     "cell_type": "markdown",
     "metadata": {},
     "source": [
      "    PermissionError: [Errno 13] Permission denied: '/Users/guido/Desktop/fo.txt'"
     ]
    },
    {
     "cell_type": "markdown",
     "metadata": {},
     "source": [
      "## 5.13 \ub514\ub809\ud1a0\ub9ac \ub9ac\uc2a4\ud305 \uad6c\ud558\uae30\n",
      "\n",
      "### \ubb38\uc81c\n",
      "\n",
      "- \ub514\ub809\ud1a0\ub9ac\ub098 \ud30c\uc77c \uc2dc\uc2a4\ud15c \ub0b4\ubd80\uc758 \ud30c\uc77c \ub9ac\uc2a4\ud2b8\ub97c \uad6c\ud558\uace0 \uc2f6\ub2e4.\n",
      "\n",
      "### \ud574\uacb0\n",
      "\n",
      "- os.listdir() \ud568\uc218\ub85c \ub514\ub809\ud1a0\ub9ac \ub0b4\uc5d0\uc11c \ud30c\uc77c \ub9ac\uc2a4\ud2b8\ub97c \uc5bb\ub294\ub2e4."
     ]
    },
    {
     "cell_type": "code",
     "collapsed": false,
     "input": [
      "import os\n",
      "names = os.listdir('.')\n",
      "names"
     ],
     "language": "python",
     "metadata": {},
     "outputs": [
      {
       "metadata": {},
       "output_type": "pyout",
       "prompt_number": 29,
       "text": [
        "['.DS_Store',\n",
        " '.ipynb_checkpoints',\n",
        " '01',\n",
        " '02',\n",
        " '03',\n",
        " '04',\n",
        " '05',\n",
        " '06',\n",
        " '07',\n",
        " '08',\n",
        " '09',\n",
        " '10',\n",
        " '11',\n",
        " '12',\n",
        " '13',\n",
        " '14',\n",
        " '15',\n",
        " 'ch01.ipynb',\n",
        " 'ch02_01.ipynb',\n",
        " 'ch02_02.ipynb',\n",
        " 'ch03_01.ipynb',\n",
        " 'ch03_02.ipynb',\n",
        " 'ch04.ipynb',\n",
        " 'ch05_01.ipynb',\n",
        " 'ch05_02.ipynb',\n",
        " 'images',\n",
        " 'README.md',\n",
        " 'Untitled0.ipynb',\n",
        " 'Untitled1.ipynb']"
       ]
      }
     ],
     "prompt_number": 29
    },
    {
     "cell_type": "markdown",
     "metadata": {},
     "source": [
      "- \uc774\ub807\uac8c \ud558\uba74 \ub514\ub809\ud1a0\ub9ac\uc640 \ud30c\uc77c, \uc11c\ube0c\ub514\ub809\ud1a0\ub9ac, \uc2ec\ubcfc\ub9ad \ub9c1\ud06c \ub4f1 \ubaa8\ub4e0 \uac83\uc744 \uad6c\ud560 \uc218 \uc788\uc74c\n",
      "- \ub9cc\uc57d \ub370\uc774\ud130\ub97c \uac78\ub7ec\ub0b4\uc57c \ud55c\ub2e4\uba74 os.path \ub77c\uc774\ube0c\ub7ec\ub9ac\uc758 \ud30c\uc77c\uc5d0 list comprehension\uc744 \uc0ac\uc6a9"
     ]
    },
    {
     "cell_type": "code",
     "collapsed": false,
     "input": [
      "import os.path"
     ],
     "language": "python",
     "metadata": {},
     "outputs": [],
     "prompt_number": 30
    },
    {
     "cell_type": "code",
     "collapsed": false,
     "input": [
      "# \uc77c\ubc18 \ud30c\uc77c \ubaa8\ub450 \uad6c\ud558\uae30\n",
      "names = [name for name in os.listdir('.')\n",
      "         if os.path.isfile(os.path.join('.', name))]\n",
      "names"
     ],
     "language": "python",
     "metadata": {},
     "outputs": [
      {
       "metadata": {},
       "output_type": "pyout",
       "prompt_number": 37,
       "text": [
        "['.DS_Store',\n",
        " 'ch01.ipynb',\n",
        " 'ch02_01.ipynb',\n",
        " 'ch02_02.ipynb',\n",
        " 'ch03_01.ipynb',\n",
        " 'ch03_02.ipynb',\n",
        " 'ch04.ipynb',\n",
        " 'ch05_01.ipynb',\n",
        " 'ch05_02.ipynb',\n",
        " 'README.md',\n",
        " 'Untitled0.ipynb',\n",
        " 'Untitled1.ipynb']"
       ]
      }
     ],
     "prompt_number": 37
    },
    {
     "cell_type": "code",
     "collapsed": false,
     "input": [
      "# \ub514\ub809\ud1a0\ub9ac \ubaa8\ub450 \uad6c\ud558\uae30\n",
      "dirnames = [name for name in os.listdir('.')\n",
      "            if os.path.isdir(os.path.join('.', name))]\n",
      "dirnames"
     ],
     "language": "python",
     "metadata": {},
     "outputs": [
      {
       "metadata": {},
       "output_type": "pyout",
       "prompt_number": 39,
       "text": [
        "['.ipynb_checkpoints',\n",
        " '01',\n",
        " '02',\n",
        " '03',\n",
        " '04',\n",
        " '05',\n",
        " '06',\n",
        " '07',\n",
        " '08',\n",
        " '09',\n",
        " '10',\n",
        " '11',\n",
        " '12',\n",
        " '13',\n",
        " '14',\n",
        " '15',\n",
        " 'images']"
       ]
      }
     ],
     "prompt_number": 39
    },
    {
     "cell_type": "markdown",
     "metadata": {},
     "source": [
      "- \ubb38\uc790\uc5f4\uc758 startswith()\uc640 endswith() \uba54\uc18c\ub4dc\ub97c \uc0ac\uc6a9\ud558\uba74 \ub514\ub809\ud1a0\ub9ac\uc758 \ub0b4\uc6a9\uc744 \uac78\ub7ec\ub0b4\uae30 \uc720\uc6a9"
     ]
    },
    {
     "cell_type": "code",
     "collapsed": false,
     "input": [
      "pyfiles = [name for name in os.listdir('.')\n",
      "           if name.endswith('.ipynb')]\n",
      "pyfiles"
     ],
     "language": "python",
     "metadata": {},
     "outputs": [
      {
       "metadata": {},
       "output_type": "pyout",
       "prompt_number": 41,
       "text": [
        "['ch01.ipynb',\n",
        " 'ch02_01.ipynb',\n",
        " 'ch02_02.ipynb',\n",
        " 'ch03_01.ipynb',\n",
        " 'ch03_02.ipynb',\n",
        " 'ch04.ipynb',\n",
        " 'ch05_01.ipynb',\n",
        " 'ch05_02.ipynb',\n",
        " 'Untitled0.ipynb',\n",
        " 'Untitled1.ipynb']"
       ]
      }
     ],
     "prompt_number": 41
    },
    {
     "cell_type": "markdown",
     "metadata": {},
     "source": [
      "- \ud30c\uc77c \uc774\ub984 \ub9fb\uc774\uc744 \ud558\uae30 \uc704\ud574 glob \uc774\ub098 fnmatch \ubaa8\ub4c8\uc744 \uc0c1\uc694"
     ]
    },
    {
     "cell_type": "code",
     "collapsed": false,
     "input": [
      "import glob\n",
      "pyfiles = glob.glob('*.ipynb')\n",
      "print(pyfiles)\n",
      "\n",
      "print('')\n",
      "\n",
      "from fnmatch import fnmatch\n",
      "pyfiles = [name for name in os.listdir('.')\n",
      "           if fnmatch(name, '*.ipynb')]\n",
      "print(pyfiles)"
     ],
     "language": "python",
     "metadata": {},
     "outputs": [
      {
       "output_type": "stream",
       "stream": "stdout",
       "text": [
        "['ch01.ipynb', 'ch02_01.ipynb', 'ch02_02.ipynb', 'ch03_01.ipynb', 'ch03_02.ipynb', 'ch04.ipynb', 'ch05_01.ipynb', 'ch05_02.ipynb', 'Untitled0.ipynb', 'Untitled1.ipynb']\n",
        "\n",
        "['ch01.ipynb', 'ch02_01.ipynb', 'ch02_02.ipynb', 'ch03_01.ipynb', 'ch03_02.ipynb', 'ch04.ipynb', 'ch05_01.ipynb', 'ch05_02.ipynb', 'Untitled0.ipynb', 'Untitled1.ipynb']\n"
       ]
      }
     ],
     "prompt_number": 45
    },
    {
     "cell_type": "markdown",
     "metadata": {},
     "source": [
      "### \ud1a0\ub860\n",
      "\n",
      "- \ub514\ub809\ud1a0\ub9ac \ub9ac\uc2a4\ud2b8\ub97c \uad6c\ud558\uae30\ub294 \uc27d\uc9c0\ub9cc, \uc55e\uc5d0 \ub098\uc628 \ubc29\ubc95\uc73c\ub85c\ub294 \uc5d4\ud2b8\ub9ac\uc758 \uc774\ub984\ub9cc \uc5bb\uc744 \uc218 \uc788\uc74c\n",
      "- \ub9cc\uc57d \ud30c\uc77c \ud06c\uae30\ub098 \uc218\uc815 \ub0a0\uc9dc \ub4f1 \uba54\ud0c0\ub370\uc774\ud130\uac00 \ud544\uc694\ud558\ub2e4\uba74 os.path \ubaa8\ub4c8\uc758 \ucd94\uac00\uc801\uc778 \ud568\uc218\ub97c \uc0ac\uc6a9\ud558\uac70\ub098 os.stat() \ud568\uc218\ub97c \uc0ac\uc6a9"
     ]
    },
    {
     "cell_type": "code",
     "collapsed": false,
     "input": [
      "# \ub514\ub809\ud1a0\ub9ac \ub9ac\uc2a4\ud2b8 \uad6c\ud558\uae30\n",
      "import os\n",
      "import os.path\n",
      "import glob\n",
      "\n",
      "pyfiles = glob.glob('*.ipynb')\n",
      "\n",
      "# \ud30c\uc77c \ud06c\uae30\uc640 \uc218\uc815 \ub0a0\uc9dc \uad6c\ud558\uae30\n",
      "name_sz_date = [(name, os.path.getsize(name), os.path.getmtime(name))\n",
      "                 for name in pyfiles]\n",
      "for name, size, mtime in name_sz_date:\n",
      "    print(name, size, mtime)\n",
      "    \n",
      "print('')\n",
      "\n",
      "# \ub300\uc548 \ud30c\uc77c \uba54\ud0c0\ub370\uc774\ud130 \uad6c\ud558\uae30\n",
      "file_metadata = [(name, os.stat(name)) for name in pyfiles]\n",
      "for name, meta in file_metadata:\n",
      "    print(name, meta.st_size, meta.st_mtime)"
     ],
     "language": "python",
     "metadata": {},
     "outputs": [
      {
       "output_type": "stream",
       "stream": "stdout",
       "text": [
        "ch01.ipynb 245557 1412210179.0\n",
        "ch02_01.ipynb 96768 1412395649.0\n",
        "ch02_02.ipynb 138497 1412398456.0\n",
        "ch03_01.ipynb 117053 1412392955.0\n",
        "ch03_02.ipynb 78895 1412388879.0\n",
        "ch04.ipynb 157082 1412504109.0\n",
        "ch05_01.ipynb 95395 1412548900.0\n",
        "ch05_02.ipynb 21035 1412550469.0\n",
        "Untitled0.ipynb 56215 1412458009.0\n",
        "Untitled1.ipynb 2145 1412281641.0\n",
        "\n",
        "ch01.ipynb 245557 1412210179.0\n",
        "ch02_01.ipynb 96768 1412395649.0\n",
        "ch02_02.ipynb 138497 1412398456.0\n",
        "ch03_01.ipynb 117053 1412392955.0\n",
        "ch03_02.ipynb 78895 1412388879.0\n",
        "ch04.ipynb 157082 1412504109.0\n",
        "ch05_01.ipynb 95395 1412548900.0\n",
        "ch05_02.ipynb 21035 1412550469.0\n",
        "Untitled0.ipynb 56215 1412458009.0\n",
        "Untitled1.ipynb 2145 1412281641.0\n"
       ]
      }
     ],
     "prompt_number": 48
    },
    {
     "cell_type": "markdown",
     "metadata": {},
     "source": [
      "- \ub9c8\uc9c0\ub9c9\uc73c\ub85c, \ud30c\uc77c \uc774\ub984\uc744 \ub2e4\ub8f0 \ub54c **\uc778\ucf54\ub529**\uacfc \uad00\ub828\ub41c \ubb38\uc81c\uac00 \ubc1c\uc0dd\ud560 \uc218 \uc788\uc74c\n",
      "- \uc77c\ubc18\uc801\uc73c\ub85c os.listdir()\uc640 \uac19\uc740 \ud568\uc218\uac00 \ubc18\ud658\ud558\ub294 \uc5d4\ud2b8\ub9ac\ub294 **\ud30c\uc77c \uc2dc\uc2a4\ud15c\uc758 \uae30\ubcf8 \uc778\ucf54\ub529\uc73c\ub85c \ub514\ucf54\ub4dc**\ub41c\ub2e4. \ud558\uc9c0\ub9cc, \ud2b9\uc815 \uc0c1\ud669\uc5d0\uc11c\ub294 \ud30c\uc77c \uc774\ub984\uc744 \ub514\ucf54\ub529\ud558\ub294 \uac83\uc774 \ubd88\uac00\ub2a5 \ud560 \uc218\ub3c4 \uc788\uc74c\n",
      "- \uc774\ub7f0 \uc774\ub984\uacfc \uad00\ub828\ub41c \uc0ac\ud56d\uc740 \ub808\uc2dc\ud53c 5.14\uc640 5.15\uc5d0\uc11c \ub354 \uc790\uc138\ud788 \ub2e4\ub8f8"
     ]
    },
    {
     "cell_type": "markdown",
     "metadata": {},
     "source": [
      "## 5.14 \ud30c\uc77c \uc774\ub984 \uc778\ucf54\ub529 \uc6b0\ud68c\n",
      "\n",
      "### \ubb38\uc81c\n",
      "\n",
      "- \uc2dc\uc2a4\ud15c\uc758 \uae30\ubcf8 \uc778\ucf54\ub529\uc73c\ub85c \ub514\ucf54\ub529 \ud639\uc740 \uc778\ucf54\ub529\ub418\uc9c0 \uc54a\uc740 \ud30c\uc77c \uc774\ub984\uc5d0 \uc785\ucd9c\ub825 \uc791\uc5c5\uc744 \uc218\ud589\ud574\uc57c \ud568\n",
      "\n",
      "### \ud574\uacb0\n",
      "\n",
      "- \uae30\ubcf8\uc801\uc73c\ub85c \ubaa8\ub4e0 \ud30c\uc77c \uc774\ub984\uc740 sys.getfilesystemencoding()\uc774 \ubc18\ud658\ud558\ub294 \ud14d\uc2a4\ud2b8 \uc778\ucf54\ub529 \uac12\uc73c\ub85c \ub514\ucf54\ub529 \ud639\uc740 \uc778\ucf54\ub529\ub418\uc5b4 \uc788\uc74c"
     ]
    },
    {
     "cell_type": "code",
     "collapsed": false,
     "input": [
      "sys.getfilesystemencoding()"
     ],
     "language": "python",
     "metadata": {},
     "outputs": [
      {
       "metadata": {},
       "output_type": "pyout",
       "prompt_number": 49,
       "text": [
        "'utf-8'"
       ]
      }
     ],
     "prompt_number": 49
    },
    {
     "cell_type": "markdown",
     "metadata": {},
     "source": [
      "- \ud558\uc9c0\ub9cc \uc774 \uc778\ucf54\ub529\uc744 \uc6b0\ud68c\ud558\uae38 \ubc14\ub780\ub2e4\uba74 raw \ubc14\uc774\ud2b8 \ubb38\uc790\uc5f4\ub85c \ud30c\uc77c \uc774\ub984\uc744 \uba85\uc2dc\ud574\uc57c \ud568"
     ]
    },
    {
     "cell_type": "code",
     "collapsed": false,
     "input": [
      "# \uc720\ub2c8\ucf54\ub4dc\ub85c \ud30c\uc77c \uc774\ub984\uc744 \uc4f4\ub2e4.\n",
      "with open('05/jalape\\xf10.txt', 'w') as f:\n",
      "    f.write('Spicy!')"
     ],
     "language": "python",
     "metadata": {},
     "outputs": [],
     "prompt_number": 53
    },
    {
     "cell_type": "code",
     "collapsed": false,
     "input": [
      "!ls -l 05/ja*"
     ],
     "language": "python",
     "metadata": {},
     "outputs": [
      {
       "output_type": "stream",
       "stream": "stdout",
       "text": [
        "-rw-r--r--  1 re4lfl0w  staff  6 10  6 08:11 05/jalape\u00f10.txt\r\n"
       ]
      }
     ],
     "prompt_number": 55
    },
    {
     "cell_type": "code",
     "collapsed": false,
     "input": [
      "# \ub514\ub809\ud1a0\ub9ac \ub9ac\uc2a4\ud2b8(\ub514\ucf54\ub529\ub428)\n",
      "import os\n",
      "[name for name in os.listdir('05') if 'ja' in name]"
     ],
     "language": "python",
     "metadata": {},
     "outputs": [
      {
       "metadata": {},
       "output_type": "pyout",
       "prompt_number": 59,
       "text": [
        "['jalape\u00f10.txt']"
       ]
      }
     ],
     "prompt_number": 59
    },
    {
     "cell_type": "code",
     "collapsed": false,
     "input": [
      "# \ub514\ub809\ud1a0\ub9ac \ub9ac\uc2a4\ud2f0(\ub514\ucf54\ub529\ub418\uc9c0 \uc54a\uc74c)\n",
      "[name for name in os.listdir(b'05') if b'ja' in name]"
     ],
     "language": "python",
     "metadata": {},
     "outputs": [
      {
       "metadata": {},
       "output_type": "pyout",
       "prompt_number": 62,
       "text": [
        "[b'jalapen\\xcc\\x830.txt']"
       ]
      }
     ],
     "prompt_number": 62
    },
    {
     "cell_type": "code",
     "collapsed": false,
     "input": [
      "# \ub85c\uc6b0 \ud30c\uc77c \uc774\ub984\uc73c\ub85c \ud30c\uc77c \uc5f4\uae30\n",
      "with open(b'05/jalapen\\xcc\\x830.txt') as f:\n",
      "    print(f.read())"
     ],
     "language": "python",
     "metadata": {},
     "outputs": [
      {
       "output_type": "stream",
       "stream": "stdout",
       "text": [
        "Spicy!\n"
       ]
      }
     ],
     "prompt_number": 63
    },
    {
     "cell_type": "code",
     "collapsed": false,
     "input": [
      "!ls -l 05"
     ],
     "language": "python",
     "metadata": {},
     "outputs": [
      {
       "output_type": "stream",
       "stream": "stdout",
       "text": [
        "total 2072\r\n",
        "drwxr-xr-x  3 re4lfl0w  staff      102 10  1 07:01 \u001b[34madding_or_changing_the_encoding_of_an_already_open_file\u001b[m\u001b[m\r\n",
        "-rw-r--r--  1 re4lfl0w  staff  1000000 10  6 06:48 data\r\n",
        "-rw-r--r--  1 re4lfl0w  staff       16 10  6 05:36 data \ubcf5\uc0ac\ubcf8.txt\r\n",
        "-rw-r--r--  1 re4lfl0w  staff       16 10  6 05:36 data.bin\r\n",
        "-rw-r--r--  1 re4lfl0w  staff     1257 10  6 06:19 data2.bin\r\n",
        "-rw-r--r--  1 re4lfl0w  staff       11 10  6 06:28 data3.bin\r\n",
        "drwxr-xr-x  3 re4lfl0w  staff      102 10  1 07:01 \u001b[34mgetting_a_directory_listing\u001b[m\u001b[m\r\n",
        "-rw-r--r--  1 re4lfl0w  staff       29 10  5 19:39 hello.txt\r\n",
        "-rw-r--r--  1 re4lfl0w  staff       11 10  6 05:23 hello_wb.txt\r\n",
        "-rw-r--r--  1 re4lfl0w  staff       11 10  6 05:34 hello_wb_encode.txt\r\n",
        "-rw-r--r--  1 re4lfl0w  staff       26 10  5 23:01 hello_windows.txt\r\n",
        "drwxr-xr-x  4 re4lfl0w  staff      136 10  1 07:01 \u001b[34miterating_over_fixed-sized_records\u001b[m\u001b[m\r\n",
        "-rw-r--r--  1 re4lfl0w  staff        6 10  6 08:11 jalape\u00f10.txt\r\n",
        "-rw-r--r--  1 re4lfl0w  staff       11 10  6 06:30 newsample.bin\r\n",
        "drwxr-xr-x  4 re4lfl0w  staff      136 10  1 07:01 \u001b[34mreading_and_writing_text_data\u001b[m\u001b[m\r\n",
        "-rw-r--r--  1 re4lfl0w  staff       61 10  6 05:57 somefile.bz2\r\n",
        "-rw-r--r--  1 re4lfl0w  staff      100 10  6 06:03 somefile.gz\r\n",
        "drwxr-xr-x  3 re4lfl0w  staff      102 10  1 07:01 \u001b[34mwrapping_an_existing_file_descriptor_as_a_file_object\u001b[m\u001b[m\r\n",
        "drwxr-xr-x  3 re4lfl0w  staff      102 10  1 07:01 \u001b[34mwriting_bytes_to_a_text_file\u001b[m\u001b[m\r\n",
        "-rw-r--r--  1 re4lfl0w  staff        6 10  6 05:42 xmode.txt\r\n",
        "-rw-r--r--  1 re4lfl0w  staff        6 10  6 05:44 xmode2.txt\r\n"
       ]
      }
     ],
     "prompt_number": 64
    },
    {
     "cell_type": "code",
     "collapsed": false,
     "input": [
      "[name for name in os.listdir('05')]"
     ],
     "language": "python",
     "metadata": {},
     "outputs": [
      {
       "metadata": {},
       "output_type": "pyout",
       "prompt_number": 65,
       "text": [
        "['.DS_Store',\n",
        " 'adding_or_changing_the_encoding_of_an_already_open_file',\n",
        " 'data',\n",
        " 'data \ubcf5\uc0ac\ubcf8.txt',\n",
        " 'data.bin',\n",
        " 'data2.bin',\n",
        " 'data3.bin',\n",
        " 'getting_a_directory_listing',\n",
        " 'hello.txt',\n",
        " 'hello_wb.txt',\n",
        " 'hello_wb_encode.txt',\n",
        " 'hello_windows.txt',\n",
        " 'iterating_over_fixed-sized_records',\n",
        " 'jalape\u00f10.txt',\n",
        " 'newsample.bin',\n",
        " 'reading_and_writing_text_data',\n",
        " 'somefile.bz2',\n",
        " 'somefile.gz',\n",
        " 'wrapping_an_existing_file_descriptor_as_a_file_object',\n",
        " 'writing_bytes_to_a_text_file',\n",
        " 'xmode.txt',\n",
        " 'xmode2.txt']"
       ]
      }
     ],
     "prompt_number": 65
    },
    {
     "cell_type": "code",
     "collapsed": false,
     "input": [
      "[name for name in os.listdir(b'05')]"
     ],
     "language": "python",
     "metadata": {},
     "outputs": [
      {
       "metadata": {},
       "output_type": "pyout",
       "prompt_number": 66,
       "text": [
        "[b'.DS_Store',\n",
        " b'adding_or_changing_the_encoding_of_an_already_open_file',\n",
        " b'data',\n",
        " b'data \\xe1\\x84\\x87\\xe1\\x85\\xa9\\xe1\\x86\\xa8\\xe1\\x84\\x89\\xe1\\x85\\xa1\\xe1\\x84\\x87\\xe1\\x85\\xa9\\xe1\\x86\\xab.txt',\n",
        " b'data.bin',\n",
        " b'data2.bin',\n",
        " b'data3.bin',\n",
        " b'getting_a_directory_listing',\n",
        " b'hello.txt',\n",
        " b'hello_wb.txt',\n",
        " b'hello_wb_encode.txt',\n",
        " b'hello_windows.txt',\n",
        " b'iterating_over_fixed-sized_records',\n",
        " b'jalapen\\xcc\\x830.txt',\n",
        " b'newsample.bin',\n",
        " b'reading_and_writing_text_data',\n",
        " b'somefile.bz2',\n",
        " b'somefile.gz',\n",
        " b'wrapping_an_existing_file_descriptor_as_a_file_object',\n",
        " b'writing_bytes_to_a_text_file',\n",
        " b'xmode.txt',\n",
        " b'xmode2.txt']"
       ]
      }
     ],
     "prompt_number": 66
    },
    {
     "cell_type": "markdown",
     "metadata": {},
     "source": [
      "- \ud55c\uae00 \uae68\uc9c0\ub124\n",
      "- \ub9c8\uc9c0\ub9c9 \ub450 \uc791\uc5c5\uc5d0 \ub098\uc628 \uac83\ucc98\ub7fc, open()\uc774\ub098 os.listdir()\uc640 \uac19\uc740 \ud30c\uc77c \uad00\ub828 \ud568\uc218\uc5d0 \ubc14\uc774\ud2b8 \ubb38\uc790\uc5f4\uc744 \ub123\uc5c8\u3147\ub974 \ub54c \ud30c\uc77c \uc774\ub984 \ucc98\ub9ac\ub294 \uac70\uc758 \ubcc0\ud558\uc9c0 \uc54a\uc74c"
     ]
    },
    {
     "cell_type": "markdown",
     "metadata": {},
     "source": [
      "### \ud1a0\ub860\n",
      "\n",
      "- \uc77c\ubc18\uc801\uc778 \ud658\uacbd\uc5d0\uc11c \ud30c\uc77c \uc774\ub984 \uc778\ucf54\ub529, \ub514\ucf54\ub529\uc5d0 \ub300\ud574 \uac71\uc815\ud560 \ud544\uc694\ub294 \uc5c6\uc74c\n",
      "- \ub300\ubd80\ubd84\uc758 \uacbd\uc6b0\uc5d0\ub294 \ubb34\ub9ac\uc5c6\uc774 \uc798 \ub3d9\uc791\n",
      "- \ud558\uc9c0\ub9cc \ub9ce\uc740 \uc6b4\uc601\uccb4\uc81c\uc5d0\uc11c \uc0ac\uc6a9\uc790\ub294 \uc2e4\uc218\ub85c \ud639\uc740 \uc545\uc758\uc801\uc73c\ub85c \uc778\ucf54\ub529 \uaddc\uce59\uc744 \ub530\ub974\uc9c0 \uc54a\ub294 \ud30c\uc77c \uc774\ub984\uc744 \uc0dd\uc131\ud560 \uc218 \uc788\uc74c\n",
      "- \uc774\ub7f0 \ud30c\uc77c \uc774\ub984\uc740 \ub9ce\uc740 \ud30c\uc77c\uc744 \ub2e4\ub8e8\ub294 \ud30c\uc774\uc36c \ud504\ub85c\uadf8\ub7a8\uc744 \ub9dd\uac00\ud2b8\ub9b4 \uc218 \uc788\uc74c\n",
      "- \ud30c\uc77c \uc774\ub984\uacfc \ub514\ub809\ud1a0\ub9ac\ub97c \uc77d\uc744 \ub54c \ub514\ucf54\ub529\ub418\uc9c0 \uc54a\uc740 raw \ubc14\uc774\ud2b8\ub97c \uc774\ub984\uc73c\ub85c \uc0ac\uc6a9\ud558\uba74 \ud504\ub85c\uadf8\ub798\ubc0d \uacfc\uc815\uc740 \uc870\uae08 \uadc0\ucc2e\uaca0\uc9c0\ub9cc \uc774\ub7f0 \ubb38\uc81c\uc810\uc744 \ud53c\ud574\uac08 \uc218 \uc788\uc74c\n",
      "- \ub514\ucf54\ub529\ub418\uc9c0 \uc54a\uc740 \ud30c\uc77c \uc774\ub984\uc744 \ucd9c\ub825\ud558\ub294 \ubc29\ubc95\uc744 \ub808\uc2dc\ud53c 5.15\uc5d0\uc11c \uc54c\uc544\ubcf8\ub2e4."
     ]
    },
    {
     "cell_type": "markdown",
     "metadata": {},
     "source": [
      "## 5.15 \ub9dd\uac00\uc9c4 \ud30c\uc77c \uc774\ub984 \ucd9c\ub825\n",
      "\n",
      "### \ubb38\uc81c\n",
      "\n",
      "- \ud504\ub85c\uadf8\ub7a8\uc5d0\uc11c \ub514\ub809\ud1a0\ub9ac \ub9ac\uc2a4\ud2b8\ub97c \ubc1b\uc544 \ud30c\uc77c \uc774\ub984\uc744 \ucd9c\ub825\ud558\ub824\uace0 \ud560 \ub54c, UnicodeEncodeError \uc608\uc678\uc640 \"surrogates not allowed\" \uba54\uc2dc\uc9c0\uac00 \ubc1c\uc0dd\ud558\uba74\uc11c \ud504\ub85c\uadf8\ub7a8\uc774 \uc8fd\uc5b4\ubc84\ub9bc\n",
      "\n",
      "### \ud574\uacb0\n",
      "\n",
      "- \ucd9c\ucc98\ub97c \uc54c \uc218 \uc5c6\ub294 \ud30c\uc77c \uc774\ub984\uc744 \ucd9c\ub825\ud560 \ub54c, \ub2e4\uc74c \ucf54\ub4dc\ub85c \uc5d0\ub7ec \ubc29\uc9c0"
     ]
    },
    {
     "cell_type": "code",
     "collapsed": false,
     "input": [
      "def bad_filename(filename):\n",
      "    return repr(filename)[1:-1]"
     ],
     "language": "python",
     "metadata": {},
     "outputs": [],
     "prompt_number": 67
    },
    {
     "cell_type": "code",
     "collapsed": false,
     "input": [
      "filename = b'jalapen\\xcc\\x830.txt'"
     ],
     "language": "python",
     "metadata": {},
     "outputs": [],
     "prompt_number": 73
    },
    {
     "cell_type": "code",
     "collapsed": false,
     "input": [
      "try: \n",
      "    print(filename)\n",
      "except UnicodeError:\n",
      "    print('error')\n",
      "    print(bad_filename(filename))"
     ],
     "language": "python",
     "metadata": {},
     "outputs": [
      {
       "output_type": "stream",
       "stream": "stdout",
       "text": [
        "b'jalapen\\xcc\\x830.txt'\n"
       ]
      }
     ],
     "prompt_number": 76
    },
    {
     "cell_type": "code",
     "collapsed": false,
     "input": [
      "names = [name for name in os.listdir('05')]\n",
      "names"
     ],
     "language": "python",
     "metadata": {},
     "outputs": [
      {
       "metadata": {},
       "output_type": "pyout",
       "prompt_number": 80,
       "text": [
        "['.DS_Store',\n",
        " 'adding_or_changing_the_encoding_of_an_already_open_file',\n",
        " 'data',\n",
        " 'data \ubcf5\uc0ac\ubcf8.txt',\n",
        " 'data.bin',\n",
        " 'data2.bin',\n",
        " 'data3.bin',\n",
        " 'getting_a_directory_listing',\n",
        " 'hello.txt',\n",
        " 'hello_wb.txt',\n",
        " 'hello_wb_encode.txt',\n",
        " 'hello_windows.txt',\n",
        " 'iterating_over_fixed-sized_records',\n",
        " 'jalape\u00f10.txt',\n",
        " 'newsample.bin',\n",
        " 'reading_and_writing_text_data',\n",
        " 'somefile.bz2',\n",
        " 'somefile.gz',\n",
        " 'wrapping_an_existing_file_descriptor_as_a_file_object',\n",
        " 'writing_bytes_to_a_text_file',\n",
        " 'xmode.txt',\n",
        " 'xmode2.txt']"
       ]
      }
     ],
     "prompt_number": 80
    },
    {
     "cell_type": "code",
     "collapsed": false,
     "input": [
      "sys.getfilesystemencoding()"
     ],
     "language": "python",
     "metadata": {},
     "outputs": [
      {
       "metadata": {},
       "output_type": "pyout",
       "prompt_number": 82,
       "text": [
        "'utf-8'"
       ]
      }
     ],
     "prompt_number": 82
    },
    {
     "cell_type": "markdown",
     "metadata": {},
     "source": [
      "- [python - Python3 - reload() can not be called on __import__ object? - Stack Overflow](http://stackoverflow.com/questions/18249459/python3-reload-can-not-be-called-on-import-object)\n"
     ]
    },
    {
     "cell_type": "code",
     "collapsed": false,
     "input": [
      "for filename in names:\n",
      "    try: \n",
      "        print(filename)\n",
      "    except UnicodeError:\n",
      "        print('error')\n",
      "        print(bad_filename(filename))"
     ],
     "language": "python",
     "metadata": {},
     "outputs": [
      {
       "output_type": "stream",
       "stream": "stdout",
       "text": [
        ".DS_Store\n",
        "adding_or_changing_the_encoding_of_an_already_open_file\n",
        "data\n",
        "data \ubcf5\uc0ac\ubcf8.txt\n",
        "data.bin\n",
        "data2.bin\n",
        "data3.bin\n",
        "getting_a_directory_listing\n",
        "hello.txt\n",
        "hello_wb.txt\n",
        "hello_wb_encode.txt\n",
        "hello_windows.txt\n",
        "iterating_over_fixed-sized_records\n",
        "jalape\u00f10.txt\n",
        "newsample.bin\n",
        "reading_and_writing_text_data\n",
        "somefile.bz2\n",
        "somefile.gz\n",
        "wrapping_an_existing_file_descriptor_as_a_file_object\n",
        "writing_bytes_to_a_text_file\n",
        "xmode.txt\n",
        "xmode2.txt\n"
       ]
      }
     ],
     "prompt_number": 81
    },
    {
     "cell_type": "markdown",
     "metadata": {},
     "source": [
      "### \ud1a0\ub860\n",
      "\n",
      "- \uc774\ubc88 \ub808\uc2dc\ud53c\ub294 \uc790\uc8fc \ubc1c\uc0dd\ud558\uc9c0\ub294 \uc54a\uc9c0\ub9cc \ud30c\uc77c \uc2dc\uc2a4\ud15c\uc5d0 \ubc1c\uc0dd\ud560 \uc218 \uc788\ub294 \uc544\uc8fc \uadc0\ucc2e\uc740 \ubb38\uc81c\ub97c \ub2e4\ub8f8\n",
      "- \uae30\ubcf8\uc801\uc73c\ub85c \ud30c\uc774\uc36c\uc740 \ubaa8\ub4e0 \ud30c\uc77c \uc774\ub984\uc774 sys.getfilesystemencoding()\uc774 \ubc18\ud658\ud558\ub294 \uac12\uc73c\ub85c \uc778\ucf54\ub529\ub418\uc5b4 \uc788\uc74c\n",
      "- \ud558\uc9c0\ub9cc \ud2b9\uc815 \ud30c\uc77c \uc2dc\uc2a4\ud15c\uc740 \uc778\ucf54\ub529 \uaddc\uce59\uc744 \ub530\ub974\ub3c4\ub85d \uac15\uc81c\ud558\uc9c0 \uc54a\uc544\uc11c \uc62c\ubc14\ub974\uc9c0 \uc54a\uc740 \uc778\ucf54\ub529\uc744 \uc0ac\uc6a9\ud55c \ud30c\uc77c \uc774\ub984\uc774 \uc0dd\uae30\uae30\ub3c4 \ud568\n",
      "- \uc774\ub7f0 \uc77c\uc774 \ube44\uc77c\ube44\uc7ac\ud558\uac8c \ubc1c\uc0dd\ud558\uc9c0\ub294 \uc54a\uc9c0\ub9cc \uc138\uc0c1\uc5d0\ub294 \uc6b0\ub9ac\uac00 \uc608\uce21\ud558\uc9c0 \ubabb\ud558\ub294 \ub3d9\uc791\uc744 \ud558\ub294 \uc0ac\uc6a9\uc790\uac00 \uc5b4\ub514\uc5d0\ub098 \uc788\uc73c\ub2c8 \uc870\uc2ec\ud574\uc57c \ud568(open()\uc5d0 \uc2e4\uc218\ub85c \uc798\ubabb\ub41c \ud30c\uc77c \uc774\ub984\uc744 \uc804\ub2ec\ud558\ub294 \uacbd\uc6b0\uc5d0 \uc774\ub7f0 \uc5d0\ub7ec\uac00 \ubc1c\uc0dd\ud560 \uc218 \uc788\ub2e4.)\n",
      "- os.listdir()\uc640 \uac19\uc740 \uba85\ub839\uc744 \uc2e4\ud589\ud560 \ub54c, \ub9dd\uac00\uc9c4 \ud30c\uc77c \uc774\ub984\uc744 \uc0ac\uc6a9\ud558\uba74 \ud30c\uc774\uc36c\uc5d0 \ubb38\uc81c\uac00 \uc0dd\uae40\n",
      "- \ud55c\ud3b8\uc73c\ub85c \uc798\ubabb\ub41c \uc774\ub984\uc774\ub77c\uace0 \ub2e8\uc21c\ud788 \ubb34\uc2dc\ud574 \ubc8c\ub9ac \uc218 \uc5c6\uc74c\n",
      "- \ubc18\uba74 \uc774 \uc774\ub984\uc744 \uc62c\ubc14\ub978 \ud14d\uc2a4\ud2b8 \ubb38\uc790\uc5f4\ub85c \ubcc0\ud658\ud560 \uc218\ub3c4 \uc5c6\uc74c\n",
      "- \ud30c\uc774\uc36c\uc758 \ud574\uacb0\ucc45\uc740 \ub514\ucf54\ub529\ud560 \uc218 \uc5c6\ub294 \ubc14\uc774\ud2b8 \uac12 \\xhh\ub97c Unicode \ubb38\uc790 \\udchh\ub85c \ud45c\ud604\ud558\ub294 \uc18c\uc704 \ub300\ub9ac \uc778\ucf54\ub529(surrogate encoding)\uc73c\ub85c \ub9e4\ud551\ud558\ub294 \uac83\n",
      "- UTF-8 \uc774 \uc544\ub2cc Latin-1 \uc73c\ub85c \uc778\ucf54\ub529\ud55c bad.txt\ub97c \ud3ec\ud568\ud55c \ub514\ub809\ud1a0\ub9ac \ub9ac\uc2a4\ud2b8\uac00 \uc5b4\ub5bb\uac8c \ubcf4\uc774\ub294\uc9c0 \uc608\uc81c\ub97c \ubcf4\uc790"
     ]
    },
    {
     "cell_type": "code",
     "collapsed": false,
     "input": [
      "import os\n",
      "files = os.listdir('05')\n",
      "files"
     ],
     "language": "python",
     "metadata": {},
     "outputs": [
      {
       "metadata": {},
       "output_type": "pyout",
       "prompt_number": 105,
       "text": [
        "['.DS_Store',\n",
        " 'adding_or_changing_the_encoding_of_an_already_open_file',\n",
        " 'b%E4d.txt',\n",
        " 'data',\n",
        " 'data \ubcf5\uc0ac\ubcf8.txt',\n",
        " 'data.bin',\n",
        " 'data2.bin',\n",
        " 'data3.bin',\n",
        " 'getting_a_directory_listing',\n",
        " 'hello.txt',\n",
        " 'hello_wb.txt',\n",
        " 'hello_wb_encode.txt',\n",
        " 'hello_windows.txt',\n",
        " 'iterating_over_fixed-sized_records',\n",
        " 'jalape\u00f10.txt',\n",
        " 'newsample.bin',\n",
        " 'reading_and_writing_text_data',\n",
        " 'somefile.bz2',\n",
        " 'somefile.gz',\n",
        " 'test_latin.txt',\n",
        " 'wrapping_an_existing_file_descriptor_as_a_file_object',\n",
        " 'writing_bytes_to_a_text_file',\n",
        " 'xmode.txt',\n",
        " 'xmode2.txt']"
       ]
      }
     ],
     "prompt_number": 105
    },
    {
     "cell_type": "markdown",
     "metadata": {},
     "source": [
      "- \ud30c\uc77c \uc774\ub984\uc744 \ub2e4\ub8e8\uac70\ub098 open()\uacfc \uac19\uc740 \ud568\uc218\uc5d0 \uc804\ub2ec\ud558\ub294 \ucf54\ub4dc\uac00 \uc788\ub2e4\uba74 \ubaa8\ub450 \uc815\uc0c1\uc801\uc73c\ub85c \ub3d9\uc791\n",
      "- \uc774 \ud30c\uc77c \uc774\ub984\uc744 \ucd9c\ub825\ud558\ub824\uace0 \ud560 \ub54c\ub9cc \ubb38\uc81c\uac00 \ubc1c\uc0dd(\ud654\uba74\uc5d0 \ucd9c\ub825\ud558\uac70\ub098 \ub85c\uadf8\ub97c \ub0a8\uae30\ub294 \ub4f1)\n",
      "- \ud2b9\ud788 \uc120\ud589 \ub9ac\uc2a4\ud2b8\ub97c \ucd9c\ub825 \ud558\ub824\uace0 \ud558\uba74 \ud504\ub85c\uadf8\ub7a8\uc774 \ube44\uc815\uc0c1\uc801\uc73c\ub85c \uc885\ub8cc"
     ]
    },
    {
     "cell_type": "code",
     "collapsed": false,
     "input": [
      "# \uc5ec\uae30\uc11c\ub294 \uc548\uc8fd\ub294\ub2e4..\n",
      "# \uc8fd\uac8c \ub178\ub825\ud574\ubd24\ub294\ub370 \uc548\ub418\ub354\ub77c.\n",
      "for name in files:\n",
      "    print(name)"
     ],
     "language": "python",
     "metadata": {},
     "outputs": [
      {
       "output_type": "stream",
       "stream": "stdout",
       "text": [
        ".DS_Store\n",
        "adding_or_changing_the_encoding_of_an_already_open_file\n",
        "b%E4d.txt\n",
        "data\n",
        "data \ubcf5\uc0ac\ubcf8.txt\n",
        "data.bin\n",
        "data2.bin\n",
        "data3.bin\n",
        "getting_a_directory_listing\n",
        "hello.txt\n",
        "hello_wb.txt\n",
        "hello_wb_encode.txt\n",
        "hello_windows.txt\n",
        "iterating_over_fixed-sized_records\n",
        "jalape\u00f10.txt\n",
        "newsample.bin\n",
        "reading_and_writing_text_data\n",
        "somefile.bz2\n",
        "somefile.gz\n",
        "test_latin.txt\n",
        "wrapping_an_existing_file_descriptor_as_a_file_object\n",
        "writing_bytes_to_a_text_file\n",
        "xmode.txt\n",
        "xmode2.txt\n"
       ]
      }
     ],
     "prompt_number": 106
    },
    {
     "cell_type": "markdown",
     "metadata": {},
     "source": [
      "- \ud504\ub85c\uadf8\ub7a8\uc774 \uc8fd\ub294 \uc774\uc720\ub294 \\udce4\uac00 \uc798\ubabb\ub41c Unicode \uc774\uae30 \ub54c\ubb38\n",
      "- \ub300\ub9ac\uc9dd(surrogate pair)\uc73c\ub85c \uc54c\ub824\uc9c4 \ubb38\uc790 2\uac1c\uc758 \uc870\ud569\n",
      "- \ud558\uc9c0\ub9cc \uccab\ubc88\uc9f8 \ubc18\ucabd\uc774 \uc5c6\uae30 \ub54c\ubb38\uc5d0 \uc62c\ubc14\ub978 Unicode\ub77c \ud560 \uc218 \uc5c6\uc74c\n",
      "- \ub530\ub77c\uc11c \uc62c\ubc14\ub978 \ucd9c\ub825\uc744 \ud558\ub824\uba74 \ub9dd\uac00\uc9c4 \ud30c\uc77c \uc774\ub984\uc744 \ubc1c\uacac\ud588\uc744 \ub54c \uad50\uc815 \uc791\uc5c5\uc744 \ud574\uc57c \ud568"
     ]
    },
    {
     "cell_type": "code",
     "collapsed": false,
     "input": [
      "for name in files:\n",
      "    try:\n",
      "        print(name)\n",
      "    except UnicodeEncodeError:\n",
      "        print(bad_filename(name))"
     ],
     "language": "python",
     "metadata": {},
     "outputs": [
      {
       "output_type": "stream",
       "stream": "stdout",
       "text": [
        ".DS_Store\n",
        "adding_or_changing_the_encoding_of_an_already_open_file\n",
        "b%E4d.txt\n",
        "data\n",
        "data \ubcf5\uc0ac\ubcf8.txt\n",
        "data.bin\n",
        "data2.bin\n",
        "data3.bin\n",
        "getting_a_directory_listing\n",
        "hello.txt\n",
        "hello_wb.txt\n",
        "hello_wb_encode.txt\n",
        "hello_windows.txt\n",
        "iterating_over_fixed-sized_records\n",
        "jalape\u00f10.txt\n",
        "newsample.bin\n",
        "reading_and_writing_text_data\n",
        "somefile.bz2\n",
        "somefile.gz\n",
        "test_latin.txt\n",
        "wrapping_an_existing_file_descriptor_as_a_file_object\n",
        "writing_bytes_to_a_text_file\n",
        "xmode.txt\n",
        "xmode2.txt\n"
       ]
      }
     ],
     "prompt_number": 107
    },
    {
     "cell_type": "markdown",
     "metadata": {},
     "source": [
      "- bad_filename() \ud568\uc218\ub97c \uc5b4\ub5bb\uac8c \ucc98\ub9ac\ud560\uc9c0\ub294 \ubaa8\ub450 \ud504\ub85c\uadf8\ub798\uba38\uc5d0\uac8c \ub2ec\ub824 \uc788\ub2e4. \ud639\uc740 \uadf8 \uac12\uc744 \ub2e4\uc74c\uacfc \uac19\uc774 \uc7ac\uc778\ucf54\ub529\ud560 \uc218\ub3c4 \uc788\ub2e4."
     ]
    },
    {
     "cell_type": "code",
     "collapsed": false,
     "input": [
      "def bad_filename(filename):\n",
      "    temp = filename.encode(sys.getfilesystemencoding(), \n",
      "                           errors='surrogateescape')\n",
      "    return temp.decode('latin-1')"
     ],
     "language": "python",
     "metadata": {},
     "outputs": [],
     "prompt_number": 108
    },
    {
     "cell_type": "code",
     "collapsed": false,
     "input": [
      "for name in files:\n",
      "    try:\n",
      "        print(name)\n",
      "    except UnicodeEncodeError:\n",
      "        print(bad_filename(name))"
     ],
     "language": "python",
     "metadata": {},
     "outputs": [
      {
       "output_type": "stream",
       "stream": "stdout",
       "text": [
        ".DS_Store\n",
        "adding_or_changing_the_encoding_of_an_already_open_file\n",
        "b%E4d.txt\n",
        "data\n",
        "data \ubcf5\uc0ac\ubcf8.txt\n",
        "data.bin\n",
        "data2.bin\n",
        "data3.bin\n",
        "getting_a_directory_listing\n",
        "hello.txt\n",
        "hello_wb.txt\n",
        "hello_wb_encode.txt\n",
        "hello_windows.txt\n",
        "iterating_over_fixed-sized_records\n",
        "jalape\u00f10.txt\n",
        "newsample.bin\n",
        "reading_and_writing_text_data\n",
        "somefile.bz2\n",
        "somefile.gz\n",
        "test_latin.txt\n",
        "wrapping_an_existing_file_descriptor_as_a_file_object\n",
        "writing_bytes_to_a_text_file\n",
        "xmode.txt\n",
        "xmode2.txt\n"
       ]
      }
     ],
     "prompt_number": 109
    },
    {
     "cell_type": "markdown",
     "metadata": {},
     "source": [
      "- \uc774 \ub808\uc2dc\ud53c\ub97c **\ubb34\uc2dc**\ud560 \ub3c5\uc790\ub4e4\uc774 \ub9ce\uc744 \uac83\uc774\ub77c \uc0dd\uac01\ud55c\ub2e4.\n",
      "- \ud558\uc9c0\ub9cc \ud30c\uc77c \uc774\ub984\uacfc \ud30c\uc77c \uc2dc\uc2a4\ud15c\uc5d0 \uc2e0\ub8b0\ud560 \uc218 \uc788\uac8c \ub3d9\uc791\ud558\ub294 \ud504\ub85c\uadf8\ub7a8\uc744 \uc791\uc131\ud558\ub824\uba74 \uace0\ub824\ud574\uc57c \ud560 \ubb38\uc81c\n",
      "- \uadf8\ub807\uc9c0 \uc54a\uc73c\uba74 \uc8fc\ub9d0\uc5d0 \uc0ac\ubb34\uc2e4\uc5d0 \ubd88\ub824 \ub098\uc640 \uc54c \uc218 \uc5c6\ub294 \ubc84\uadf8\ub97c \uace0\uce58\uace0 \uc788\uc5b4\uc57c \ud560\uc9c0\ub3c4 \ubaa8\ub984"
     ]
    },
    {
     "cell_type": "markdown",
     "metadata": {},
     "source": [
      "## 5.16 \uc774\ubbf8 \uc5f4\ub824\uc788\ub294 \ud30c\uc77c\uc758 \uc778\ucf54\ub529\uc744 \uc218\uc815\ud558\uac70\ub098 \ucd94\uac00\ud558\uae30\n",
      "\n",
      "### \ubb38\uc81c\n",
      "\n",
      "- \uc774\ubbf8 \uc5f4\ub824\uc788\ub294 \ud30c\uc77c\uc744 \ub2eb\uc9c0 \uc54a\uace0 Unicode \uc778\ucf54\ub529\uc744 \ucd94\uac00\ud558\uac70\ub098 \ubcc0\uacbd\ud558\uace0 \uc2f6\ub2e4\n",
      "\n",
      "### \ud574\uacb0\n",
      "\n",
      "- \ubc14\uc774\ub108\ub9ac \ubaa8\ub4dc\ub85c \uc774\ubbf8 \uc5f4\ub824\uc788\ub294 \ud30c\uc77c \uac1d\uccb4\ub97c \ub2eb\uc9c0\uc54a\uace0 Unicode \uc778\ucf54\ub529/\ub514\ucf54\ub529\uc744 \ucd94\uac00\ud558\uace0 \uc2f6\ub2e4\uba74 \uadf8 \uac1d\uccb4\ub97c io.TextIOWrapper() \uac1d\uccb4\ub85c \uac10\uc2fc\ub2e4."
     ]
    },
    {
     "cell_type": "code",
     "collapsed": false,
     "input": [
      "import urllib.request\n",
      "import io"
     ],
     "language": "python",
     "metadata": {},
     "outputs": [],
     "prompt_number": 4
    },
    {
     "cell_type": "code",
     "collapsed": false,
     "input": [
      "u = urllib.request.urlopen('http://www.python.org')"
     ],
     "language": "python",
     "metadata": {},
     "outputs": [],
     "prompt_number": 5
    },
    {
     "cell_type": "code",
     "collapsed": false,
     "input": [
      "f = io.TextIOWrapper(u, encoding='utf-8')"
     ],
     "language": "python",
     "metadata": {},
     "outputs": [],
     "prompt_number": 6
    },
    {
     "cell_type": "code",
     "collapsed": false,
     "input": [
      "text = f.read()\n",
      "text[:200]"
     ],
     "language": "python",
     "metadata": {},
     "outputs": [
      {
       "metadata": {},
       "output_type": "pyout",
       "prompt_number": 7,
       "text": [
        "'<!doctype html>\\n<!--[if lt IE 7]>   <html class=\"no-js ie6 lt-ie7 lt-ie8 lt-ie9\">   <![endif]-->\\n<!--[if IE 7]>      <html class=\"no-js ie7 lt-ie8 lt-ie9\">          <![endif]-->\\n<!--[if IE 8]>      <h'"
       ]
      }
     ],
     "prompt_number": 7
    },
    {
     "cell_type": "markdown",
     "metadata": {},
     "source": [
      "- \ud14d\uc2a4\ud2b8 \ubaa8\ub4dc\ub85c \uc5f4\ub9b0 \ud30c\uc77c\uc758 \uc778\ucf54\ub529\uc744 \ubcc0\uacbd\ud558\ub824\uba74 detach() \uba54\uc18c\ub4dc\ub85c \ud14d\uc2a4\ud2b8 \uc778\ucf54\ub529 \ub808\uc774\uc5b4\ub97c \uc81c\uac70\ud558\uace0 \ub2e4\ub978 \uac83\uc73c\ub85c \uce58\ud658\ub41c\ub2e4.\n",
      "- sys.stdout\uc758 \uc778\ucf54\ub529\uc744 \ubc14\uafb8\ub294 \ubc29\ubc95\uc744 \ubcf4\uc790"
     ]
    },
    {
     "cell_type": "code",
     "collapsed": false,
     "input": [
      "import sys\n",
      "sys.stdout.encoding"
     ],
     "language": "python",
     "metadata": {},
     "outputs": [
      {
       "metadata": {},
       "output_type": "pyout",
       "prompt_number": 8,
       "text": [
        "'UTF-8'"
       ]
      }
     ],
     "prompt_number": 8
    },
    {
     "cell_type": "code",
     "collapsed": false,
     "input": [
      "# \uc544\ub9c8 ipython \uc774\ub77c \uc548\ub418\ub294\uac83 \uac19\ub2e4.\n",
      "# ipython\uc5d0\uc11c \ubb54\uac00 \uc870\uc791\uc744 \ud558\ub294\ub4ef\n",
      "sys.stdout = io.TextIOWrapper(sys.stdout.detach(), encoding='latin-1')"
     ],
     "language": "python",
     "metadata": {},
     "outputs": [
      {
       "ename": "AttributeError",
       "evalue": "'OutStream' object has no attribute 'detach'",
       "output_type": "pyerr",
       "traceback": [
        "\u001b[0;31m---------------------------------------------------------------------------\u001b[0m\n\u001b[0;31mAttributeError\u001b[0m                            Traceback (most recent call last)",
        "\u001b[0;32m<ipython-input-9-13d5d4c96894>\u001b[0m in \u001b[0;36m<module>\u001b[0;34m()\u001b[0m\n\u001b[0;32m----> 1\u001b[0;31m \u001b[0msys\u001b[0m\u001b[0;34m.\u001b[0m\u001b[0mstdout\u001b[0m \u001b[0;34m=\u001b[0m \u001b[0mio\u001b[0m\u001b[0;34m.\u001b[0m\u001b[0mTextIOWrapper\u001b[0m\u001b[0;34m(\u001b[0m\u001b[0msys\u001b[0m\u001b[0;34m.\u001b[0m\u001b[0mstdout\u001b[0m\u001b[0;34m.\u001b[0m\u001b[0mdetach\u001b[0m\u001b[0;34m(\u001b[0m\u001b[0;34m)\u001b[0m\u001b[0;34m,\u001b[0m \u001b[0mencoding\u001b[0m\u001b[0;34m=\u001b[0m\u001b[0;34m'latin-1'\u001b[0m\u001b[0;34m)\u001b[0m\u001b[0;34m\u001b[0m\u001b[0m\n\u001b[0m",
        "\u001b[0;31mAttributeError\u001b[0m: 'OutStream' object has no attribute 'detach'"
       ]
      }
     ],
     "prompt_number": 9
    },
    {
     "cell_type": "code",
     "collapsed": false,
     "input": [
      "sys.stdout.encoding"
     ],
     "language": "python",
     "metadata": {},
     "outputs": [
      {
       "metadata": {},
       "output_type": "pyout",
       "prompt_number": 10,
       "text": [
        "'UTF-8'"
       ]
      }
     ],
     "prompt_number": 10
    },
    {
     "cell_type": "markdown",
     "metadata": {},
     "source": [
      "- \uc774 \ucf54\ub4dc\ub97c \uc2e4\ud589\ud558\uba74 \ud130\ubbf8\ub110\uc758 \ucd9c\ub825\uc774 \ub9dd\uac00\uc9c8 \uc218\ub3c4 \uc788\ub2e4. \ub2e8\uc21c\ud788 \uc608\ub97c \uc704\ud55c \ubaa9\uc801\uc73c\ub85c\ub9cc \ubcf4\uc790"
     ]
    },
    {
     "cell_type": "markdown",
     "metadata": {},
     "source": [
      "### \ud1a0\ub860\n",
      "\n",
      "- I/O \uc2dc\uc2a4\ud15c\uc740 \uc5ec\ub7ec \ub808\uc774\uc5b4\ub85c \ub9cc\ub4e4\uc5b4\uc838 \uc788\ub2e4. \ub2e4\uc74c \uac04\ub2e8\ud55c \ucf54\ub4dc\ub97c \ud1b5\ud574 \ub808\uc774\uc5b4\ub97c \ubcfc \uc218 \uc788\ub2e4."
     ]
    },
    {
     "cell_type": "code",
     "collapsed": false,
     "input": [
      "f = open('05/test_io', 'w')"
     ],
     "language": "python",
     "metadata": {},
     "outputs": [],
     "prompt_number": 19
    },
    {
     "cell_type": "code",
     "collapsed": false,
     "input": [
      "f"
     ],
     "language": "python",
     "metadata": {},
     "outputs": [
      {
       "metadata": {},
       "output_type": "pyout",
       "prompt_number": 20,
       "text": [
        "<_io.TextIOWrapper name='05/test_io' mode='w' encoding='UTF-8'>"
       ]
      }
     ],
     "prompt_number": 20
    },
    {
     "cell_type": "code",
     "collapsed": false,
     "input": [
      "f.buffer"
     ],
     "language": "python",
     "metadata": {},
     "outputs": [
      {
       "metadata": {},
       "output_type": "pyout",
       "prompt_number": 21,
       "text": [
        "<_io.BufferedWriter name='05/test_io'>"
       ]
      }
     ],
     "prompt_number": 21
    },
    {
     "cell_type": "code",
     "collapsed": false,
     "input": [
      "f.buffer.raw"
     ],
     "language": "python",
     "metadata": {},
     "outputs": [
      {
       "metadata": {},
       "output_type": "pyout",
       "prompt_number": 22,
       "text": [
        "<_io.FileIO name='05/test_io' mode='wb'>"
       ]
      }
     ],
     "prompt_number": 22
    },
    {
     "cell_type": "markdown",
     "metadata": {},
     "source": [
      "- io.TextIOWrapper: Unicode\ub97c \uc778\ucf54\ub529/\ub514\ucf54\ub529\ud558\ub294 \ud14d\uc2a4\ud2b8 \ucc98\ub9ac \ub808\uc774\uc5b4\n",
      "- io.BufferedWriter: \ubc14\uc774\ub108\ub9ac \ub370\uc774\ud130\ub97c \ucc98\ub9ac\ud558\ub294 \ubc84\ud37c I/O \ub808\uc774\uc5b4\n",
      "- io.FileIO: \uc6b4\uc601\uccb4\uc81c\uc5d0\uc11c \ud558\uc704 \ub808\ubca8 \ud30c\uc77c \ub514\uc2a4\ud06c\ub9bd\ud130\ub97c \ud45c\ud604\ud558\ub294 raw file\n",
      "- \ud14d\uc2a4\ud2b8 \uc778\ucf54\ub529\uc758 \ucd94\uac00, \uc218\uc815\uc5d0\ub294 \ucd5c\uc0c1\ub2e8 \ub808\uc774\uc5b4\uc778 io.TextIOWrapper\uc758 \ucd94\uac00, \uc218\uc815\uc774 \ud3ec\ud568\ub428\n",
      "\n",
      "\n",
      "- \uc77c\ubc18\uc801\uc73c\ub85c \uc55e\uc5d0 \ub098\ud0c0\ub09c \uc18d\uc131\uc5d0 \uc811\uadfc\ud574 \ub808\uc774\uc5b4\ub97c \uc9c1\uc811 \uc218\uc815\ud558\ub294 \uac83\uc740 \uc548\uc804\ud558\uc9c0 \uc54a\uc74c\n",
      "- \uc774 \uae30\uc220\uc744 \uc0ac\uc6a9\ud574 \uc778\ucf54\ub529\uc744 \ubcc0\uacbd\ud588\uc744 \ub54c \ubb34\uc2a8 \uc77c\uc774 \ubc8c\uc5b4\uc9c0\ub294\uc9c0 \uc0b4\ud3b4\ubcf4\uc790"
     ]
    },
    {
     "cell_type": "code",
     "collapsed": false,
     "input": [
      "f"
     ],
     "language": "python",
     "metadata": {},
     "outputs": [
      {
       "metadata": {},
       "output_type": "pyout",
       "prompt_number": 23,
       "text": [
        "<_io.TextIOWrapper name='05/test_io' mode='w' encoding='UTF-8'>"
       ]
      }
     ],
     "prompt_number": 23
    },
    {
     "cell_type": "code",
     "collapsed": false,
     "input": [
      "f = io.TextIOWrapper(f.buffer, encoding='latin-1')"
     ],
     "language": "python",
     "metadata": {},
     "outputs": [],
     "prompt_number": 24
    },
    {
     "cell_type": "code",
     "collapsed": false,
     "input": [
      "f"
     ],
     "language": "python",
     "metadata": {},
     "outputs": [
      {
       "metadata": {},
       "output_type": "pyout",
       "prompt_number": 25,
       "text": [
        "<_io.TextIOWrapper name='05/test_io' encoding='latin-1'>"
       ]
      }
     ],
     "prompt_number": 25
    },
    {
     "cell_type": "code",
     "collapsed": false,
     "input": [
      "# \uc81c\ub300\ub85c \uc368\uc9c0\ub294\ub370..?\n",
      "f.write('Hello')"
     ],
     "language": "python",
     "metadata": {},
     "outputs": [
      {
       "metadata": {},
       "output_type": "pyout",
       "prompt_number": 26,
       "text": [
        "5"
       ]
      }
     ],
     "prompt_number": 26
    },
    {
     "cell_type": "markdown",
     "metadata": {},
     "source": [
      "- f\uc758 \uc6d0\ubcf8\uac12\uc774 \ud30c\uad34\ub418\uace0 \ud504\ub85c\uc138\uc2a4\uc758 \uae30\uc800 \ud30c\uc77c\uc744 \ub2eb\uc558\uae30 \ub54c\ubb38\uc5d0 \uc81c\ub300\ub85c \ub3d9\uc791\ud558\uc9c0 \uc54a\ub294\ub2e4.\n",
      "- detach() \uba54\uc18c\ub4dc\ub294 \ud30c\uc77c\uc758 \ucd5c\uc0c1\ub2e8 \ub808\uc774\uc5b4\ub97c \ub04a\uace0 \uadf8 \ub2e4\uc74c \ub808\uc774\uc5b4\ub97c \ubc18\ud658\ud55c\ub2e4. \uadf8 \ub2e4\uc74c\uc5d0 \uc0c1\ub2e8 \ub808\uc774\uc5b4\ub97c \ub354 \uc774\uc0c1 \uc0ac\uc6a9\ud560 \uc218 \uc5c6\ub2e4."
     ]
    },
    {
     "cell_type": "code",
     "collapsed": false,
     "input": [
      "f = open('05/test_io', 'w')"
     ],
     "language": "python",
     "metadata": {},
     "outputs": [],
     "prompt_number": 27
    },
    {
     "cell_type": "code",
     "collapsed": false,
     "input": [
      "f"
     ],
     "language": "python",
     "metadata": {},
     "outputs": [
      {
       "metadata": {},
       "output_type": "pyout",
       "prompt_number": 28,
       "text": [
        "<_io.TextIOWrapper name='05/test_io' mode='w' encoding='UTF-8'>"
       ]
      }
     ],
     "prompt_number": 28
    },
    {
     "cell_type": "code",
     "collapsed": false,
     "input": [
      "b = f.detach()"
     ],
     "language": "python",
     "metadata": {},
     "outputs": [],
     "prompt_number": 29
    },
    {
     "cell_type": "code",
     "collapsed": false,
     "input": [
      "b"
     ],
     "language": "python",
     "metadata": {},
     "outputs": [
      {
       "metadata": {},
       "output_type": "pyout",
       "prompt_number": 30,
       "text": [
        "<_io.BufferedWriter name='05/test_io'>"
       ]
      }
     ],
     "prompt_number": 30
    },
    {
     "cell_type": "code",
     "collapsed": false,
     "input": [
      "f.write('hello')"
     ],
     "language": "python",
     "metadata": {},
     "outputs": [
      {
       "ename": "ValueError",
       "evalue": "underlying buffer has been detached",
       "output_type": "pyerr",
       "traceback": [
        "\u001b[0;31m---------------------------------------------------------------------------\u001b[0m\n\u001b[0;31mValueError\u001b[0m                                Traceback (most recent call last)",
        "\u001b[0;32m<ipython-input-31-0ec9cf64e174>\u001b[0m in \u001b[0;36m<module>\u001b[0;34m()\u001b[0m\n\u001b[0;32m----> 1\u001b[0;31m \u001b[0mf\u001b[0m\u001b[0;34m.\u001b[0m\u001b[0mwrite\u001b[0m\u001b[0;34m(\u001b[0m\u001b[0;34m'hello'\u001b[0m\u001b[0;34m)\u001b[0m\u001b[0;34m\u001b[0m\u001b[0m\n\u001b[0m",
        "\u001b[0;31mValueError\u001b[0m: underlying buffer has been detached"
       ]
      }
     ],
     "prompt_number": 31
    },
    {
     "cell_type": "markdown",
     "metadata": {},
     "source": [
      "- \ud558\uc9c0\ub9cc \uc5f0\uacb0\uc744 \ub04a\uc740 \ud6c4\uc5d0\ub294, \ubc18\ud658\ub41c \uacb0\uacfc\uc5d0 \uc0c8\ub85c\uc6b4 \uc0c1\ub2e8 \ub808\uc774\uc5b4\ub97c \ucd94\uac00\ud560 \uc218 \uc788\uc74c"
     ]
    },
    {
     "cell_type": "code",
     "collapsed": false,
     "input": [
      "f = io.TextIOWrapper(b, encoding='latin-1')\n",
      "f"
     ],
     "language": "python",
     "metadata": {},
     "outputs": [
      {
       "metadata": {},
       "output_type": "pyout",
       "prompt_number": 32,
       "text": [
        "<_io.TextIOWrapper name='05/test_io' encoding='latin-1'>"
       ]
      }
     ],
     "prompt_number": 32
    },
    {
     "cell_type": "markdown",
     "metadata": {},
     "source": [
      "- \uc778\ucf54\ub529\uc744 \ubcc0\uacbd\ud558\ub294 \ubc29\ubc95\uc744 \ubcf4\uc600\uc9c0\ub9cc, \uc774 \uae30\uc220\uc744 \ub77c\uc778 \ucc98\ub9ac, \uc5d0\ub7ec \uaddc\uce59 \ub4f1 \ud30c\uc77c \ucc98\ub9ac\uc758 \ub2e4\ub978 \uce21\uba74\uc5d0 \ud65c\uc6a9"
     ]
    },
    {
     "cell_type": "code",
     "collapsed": false,
     "input": [
      "# \uc798 \uc548\ub428..\n",
      "sys.stdout = io.TextIOWrapper(sys.stdout.detach(), encoding='ascii',\n",
      "                              errors='xmlcharrefreplace')"
     ],
     "language": "python",
     "metadata": {},
     "outputs": [
      {
       "ename": "AttributeError",
       "evalue": "'OutStream' object has no attribute 'detach'",
       "output_type": "pyerr",
       "traceback": [
        "\u001b[0;31m---------------------------------------------------------------------------\u001b[0m\n\u001b[0;31mAttributeError\u001b[0m                            Traceback (most recent call last)",
        "\u001b[0;32m<ipython-input-33-de12fd09c003>\u001b[0m in \u001b[0;36m<module>\u001b[0;34m()\u001b[0m\n\u001b[0;32m----> 1\u001b[0;31m sys.stdout = io.TextIOWrapper(sys.stdout.detach(), encoding='ascii',\n\u001b[0m\u001b[1;32m      2\u001b[0m                               errors='xmlcharrefreplace')\n",
        "\u001b[0;31mAttributeError\u001b[0m: 'OutStream' object has no attribute 'detach'"
       ]
      }
     ],
     "prompt_number": 33
    },
    {
     "cell_type": "code",
     "collapsed": false,
     "input": [
      "print('Jalepe\\u00f1o')"
     ],
     "language": "python",
     "metadata": {},
     "outputs": [
      {
       "output_type": "stream",
       "stream": "stdout",
       "text": [
        "Jalepe\u00f1o\n"
       ]
      }
     ],
     "prompt_number": 34
    },
    {
     "cell_type": "markdown",
     "metadata": {},
     "source": [
      "- \ucd9c\ub825\ubd80\uc5d0\uc11c ASCII\uac00 \uc544\ub2cc n \ubb38\uc790\uac00 &#241;\ub85c \uce58\ud658\ub418\uc5c8\ub2e4."
     ]
    },
    {
     "cell_type": "markdown",
     "metadata": {},
     "source": [
      "## 5.17 \ud14d\uc2a4\ud2b8 \ud30c\uc77c\uc5d0 \ubc14\uc774\ud2b8 \uc4f0\uae30\n",
      "\n",
      "### \ubb38\uc81c\n",
      "\n",
      "- \ud14d\uc2a4\ud2b8 \ubaa8\ub4dc\ub85c \uc5f0 \ud30c\uc77c\uc5d0 \ub85c\uc6b0 \ubc14\uc774\ud2b8\ub97c \uc4f0\uace0 \uc2f6\ub2e4.\n",
      "\n",
      "### \ud574\uacb0\n",
      "\n",
      "- \ub2e8\uc21c\ud788 \ubc14\uc774\ud2b8 \ub370\uc774\ud130\ub97c buffer\uc5d0 \uc500"
     ]
    },
    {
     "cell_type": "code",
     "collapsed": false,
     "input": [
      "import sys"
     ],
     "language": "python",
     "metadata": {},
     "outputs": [],
     "prompt_number": 35
    },
    {
     "cell_type": "code",
     "collapsed": false,
     "input": [
      "# \ucc45\uacfc \uc0c1\uc774\n",
      "sys.stdout.write(b'Hello\\n')"
     ],
     "language": "python",
     "metadata": {},
     "outputs": [
      {
       "output_type": "stream",
       "stream": "stdout",
       "text": [
        "Hello\n"
       ]
      }
     ],
     "prompt_number": 36
    },
    {
     "cell_type": "code",
     "collapsed": false,
     "input": [
      "# \ucc45\uacfc \uc0c1\uc774\n",
      "sys.stdout.buffer.write(b'Hello\\n')"
     ],
     "language": "python",
     "metadata": {},
     "outputs": [
      {
       "ename": "AttributeError",
       "evalue": "'OutStream' object has no attribute 'buffer'",
       "output_type": "pyerr",
       "traceback": [
        "\u001b[0;31m---------------------------------------------------------------------------\u001b[0m\n\u001b[0;31mAttributeError\u001b[0m                            Traceback (most recent call last)",
        "\u001b[0;32m<ipython-input-37-635b121f7e0e>\u001b[0m in \u001b[0;36m<module>\u001b[0;34m()\u001b[0m\n\u001b[0;32m----> 1\u001b[0;31m \u001b[0msys\u001b[0m\u001b[0;34m.\u001b[0m\u001b[0mstdout\u001b[0m\u001b[0;34m.\u001b[0m\u001b[0mbuffer\u001b[0m\u001b[0;34m.\u001b[0m\u001b[0mwrite\u001b[0m\u001b[0;34m(\u001b[0m\u001b[0;34mb'Hello\\n'\u001b[0m\u001b[0;34m)\u001b[0m\u001b[0;34m\u001b[0m\u001b[0m\n\u001b[0m",
        "\u001b[0;31mAttributeError\u001b[0m: 'OutStream' object has no attribute 'buffer'"
       ]
      }
     ],
     "prompt_number": 37
    },
    {
     "cell_type": "markdown",
     "metadata": {},
     "source": [
      "- \uc774\uc640 \uc720\uc0ac\ud558\uac8c, \ud14d\uc2a4\ud2b8 \ud30c\uc77c\uc758 buffer \uc18d\uc131\uc5d0\uc11c \ubc14\uc774\ub108\ub9ac \ub370\uc774\ud130\ub97c \uc77d\uc744 \uc218\ub3c4 \uc788\uc74c"
     ]
    },
    {
     "cell_type": "markdown",
     "metadata": {},
     "source": [
      "### \ud1a0\ub860\n",
      "\n",
      "- I/O \uc2dc\uc2a4\ud15c\uc740 \ub808\uc774\uc5b4\ub85c\ubd80\ud130 \ub9cc\ub4e4\uc5b4\uc9d0\n",
      "- \ud14d\uc2a4\ud2b8 \ud30c\uc77c\uc740 \ubc84\ud37c \ubc14\uc774\ub108\ub9ac \ubaa8\ub4dc \ud30c\uc77c \uc0c1\ub2e8\uc5d0 Unicode \uc778\ucf54\ub529/\ub514\ucf54\ub529 \ub808\uc774\uc5b4\ub97c \ucd94\uac00\ud574\uc11c \uc0dd\uc131\n",
      "- buffer \uc18d\uc131\uc740 \ubc14\ub85c \uc774 \ud30c\uc77c \uc544\ub798 \ubd80\ubd84\uc744 \uac00\ub9ac\ud0b4\n",
      "- \uc5ec\uae30\uc5d0 \uc811\uadfc\ud558\uba74 \ud14d\uc2a4\ud2b8 \uc778\ucf54\ub529/\ub514\ucf54\ub529 \ub808\uc774\uc5b4 \uc6b0\ud68c \uac00\ub2a5\n",
      "- \uae30\ubcf8\uc801\uc73c\ub85c sys.stdout\uc740 \uc5b8\uc81c\ub098 \ud14d\uc2a4\ud2b8 \ubaa8\ub4dc\ub85c \uc5f4\ub824 \uc788\uc74c\n",
      "- \ud558\uc9c0\ub9cc \ubc14\uc774\ub108\ub9ac \ub370\uc774\ud130\ub97c \ud45c\uc900 \ucd9c\ub825\uc5d0 \ucd9c\ub825\ud558\ub294 \uc2a4\ud06c\ub9bd\ud2b8\ub97c \uc791\uc131\ud55c\ub2e4\uba74 \uc774 \uae30\uc220\uc744 \uc0ac\uc6a9\ud574 \ud14d\uc2a4\ud2b8 \uc778\ucf54\ub529\uc744 \uc6b0\ud68c\ud560 \uc218 \uc788\uc74c"
     ]
    },
    {
     "cell_type": "markdown",
     "metadata": {},
     "source": [
      "## 5.18 \uae30\uc874 \ud30c\uc77c \ub514\uc2a4\ud06c\ub9bd\ud130\ub97c \ud30c\uc77c \uac1d\uccb4\ub85c \uac10\uc2f8\uae30\n",
      "\n",
      "### \ubb38\uc81c\n",
      "\n",
      "- \uc6b4\uc601\uccb4\uc81c \uc0c1\uc5d0\uc11c \uc774\ubbf8 \uc5f4\ub824\uc788\ub294 I/O \ucc44\ub110\uc5d0 \uc77c\uce58\ud558\ub294 \uc815\uc218\ud615 \ud30c\uc77c \ub514\uc2a4\ud06c\ub9bd\ud130\ub97c \uac00\uc9c0\uace0 \uc788\uace0(file, pipe, socket \ub4f1), \uc774\ub97c \uc0c1\uc704 \ub808\ubca8 \ud30c\uc774\uc36c \ud30c\uc77c \uac1d\uccb4\ub85c \uac10\uc2f8\uace0 \uc2f6\uc74c\n",
      "\n",
      "### \ud574\uacb0\n",
      "\n",
      "- \ud30c\uc77c \ub514\uc2a4\ud06c\ub9bd\ud130\ub294 \uc6b4\uc601\uccb4\uc81c\uac00 \ud560\ub2f9\ud55c \uc815\uc218\ud615 \ud578\ub4e4\ub85c \uc2dc\uc2a4\ud15c I/O \ucc44\ub110 \ub4f1\uc744 \ucc38\uc870\ud558\uae30 \uc704\ud55c \ubaa9\uc801\uc73c\ub85c\uc368 \uc77c\ubc18 \ud30c\uc77c\uacfc\ub294 \ub2e4\ub974\ub2e4.\n",
      "- \ud30c\uc77c \ub514\uc2a4\ud06c\ub9bd\ud130\uac00 \uc788\uc744\ub54c open() \ud568\uc218\ub97c \uc0ac\uc6a9\ud574 \ud30c\uc774\uc36c \ud30c\uc77c \uac1d\uccb4\ub85c \uac10\uc300 \uc218 \uc788\ub2e4. \ud558\uc9c0\ub9cc \uc774\ub54c \ud30c\uc77c \uc774\ub984 \ub300\uc2e0 \uc815\uc218\ud615 \ud30c\uc77c \ub514\uc2a4\ud06c\ub9bd\ud130\ub97c \uba3c\uc800 \uc804\ub2ec\ud574\uc57c \ud568"
     ]
    },
    {
     "cell_type": "code",
     "collapsed": false,
     "input": [
      "# \ud558\uc704 \ub808\ubca8 \ud30c\uc77c \ub514\uc2a4\ud06c\ub9bd\ud130 \uc5f4\uae30\n",
      "import os\n",
      "fd = os.open('05/data.bin', os.O_WRONLY | os.O_CREAT)"
     ],
     "language": "python",
     "metadata": {},
     "outputs": [],
     "prompt_number": 64
    },
    {
     "cell_type": "code",
     "collapsed": false,
     "input": [
      "# \uc62c\ubc14\ub978 \ud30c\uc77c\ub85c \ubc14\uafb8\uae30\n",
      "f = open(fd, 'wt')"
     ],
     "language": "python",
     "metadata": {},
     "outputs": [],
     "prompt_number": 65
    },
    {
     "cell_type": "code",
     "collapsed": false,
     "input": [
      "f.write('hello world\\n')"
     ],
     "language": "python",
     "metadata": {},
     "outputs": [
      {
       "metadata": {},
       "output_type": "pyout",
       "prompt_number": 66,
       "text": [
        "12"
       ]
      }
     ],
     "prompt_number": 66
    },
    {
     "cell_type": "code",
     "collapsed": false,
     "input": [
      "f.close()"
     ],
     "language": "python",
     "metadata": {},
     "outputs": [],
     "prompt_number": 67
    },
    {
     "cell_type": "markdown",
     "metadata": {},
     "source": [
      "- \uc0c1\uc704 \ub808\ubca8 \ud30c\uc77c \uac1d\uccb4\uac00 \ub2eb\ud614\uac70\ub098 \ud30c\uad34\ub418\uc5c8\ub2e4\uba74, \uadf8 \ud558\ub2e8 \ud30c\uc77c \ub514\uc2a4\ud06c\ub9bd\ud130 \uc5ed\uc2dc \ub2eb\ud798\n",
      "- \uc774\ub7f0 \ub3d9\uc791\uc744 \uc6d0\ud558\uc9c0 \uc54a\ub294\ub2e4\uba74 closefd = False \uc778\uc790\ub97c open()\uc5d0 \uc804\ub2ec\ud574\uc57c \ud568"
     ]
    },
    {
     "cell_type": "code",
     "collapsed": false,
     "input": [
      "# \ud30c\uc77c \uac1d\uccb4\ub97c \uc0dd\uc131\ud558\uc9c0\ub9cc, \uc0ac\uc6a9\uc774 \ub05d\ub0ac\uc744 \ub54c fd\ub97c \ub2eb\uc9c0 \uc54a\uc74c\n",
      "# f = open(fd, 'wt', closefd=False)"
     ],
     "language": "python",
     "metadata": {},
     "outputs": [],
     "prompt_number": 63
    },
    {
     "cell_type": "markdown",
     "metadata": {},
     "source": [
      "### \ud1a0\ub860\n",
      "\n",
      "- Unix \uc2dc\uc2a4\ud15c \uc0c1\uc5d0\uc11c \uc774 \uae30\uc220\uc744 \uc0ac\uc6a9\ud558\uba74 \uae30\uc874 I/O \ucc44\ub110(pipe, socket \ub4f1)\uc744 \uac10\uc2f8 \ud30c\uc77c\uacfc \uac19\uc740 \uc778\ud130\ud398\uc774\uc2a4\ub85c \uc0ac\uc6a9\ud560 \uc218 \uc788\ub294 \uc26c\uc6b4 \uae38\uc774 \uc5f4\ub9bc"
     ]
    },
    {
     "cell_type": "code",
     "collapsed": false,
     "input": [
      "from socket import socket, AF_INET, SOCK_STREAM"
     ],
     "language": "python",
     "metadata": {},
     "outputs": [],
     "prompt_number": 50
    },
    {
     "cell_type": "code",
     "collapsed": false,
     "input": [
      "def echo_client(client_sock, addr):\n",
      "    print('Got connection from', addr)\n",
      "    \n",
      "    # \uc77d\uae30/\uc4f0\uae30\ub97c \uc704\ud574 \uc18c\ucf13\uc5d0 \ub300\ud55c \ud14d\uc2a4\ud2b8 \ubaa8\ub4dc \ud30c\uc77c wrapper\ub97c \ub9cc\ub4e0\ub2e4.\n",
      "    client_in = open(client_sock.fileno(), 'rt', encoding='latin-1',\n",
      "                     closefd=False)\n",
      "    client_out = open(client_sock.fileno(), 'wt', encoding='latin-1',\n",
      "                      closefd=False)\n",
      "    \n",
      "    # \ud30c\uc77c I/O\ub97c \uc0ac\uc6a9\ud574 \ud074\ub77c\uc774\uc5b8\ud2b8\uc5d0 \ub77c\uc778\uc744 \uc5d0\ucf54\ud55c\ub2e4.\n",
      "    for line in client_in:\n",
      "        client_out.write(line)\n",
      "        client_out.flush()\n",
      "    client_sock.close()\n",
      "    \n",
      "def echo_server(address):\n",
      "    sock = socket(AF_INET, SOCK_STREAM)\n",
      "    sock.bind(address)\n",
      "    sock.listen(1)\n",
      "    while True:\n",
      "        client, addr = sock.accept()\n",
      "        echo_client(client, addr)"
     ],
     "language": "python",
     "metadata": {},
     "outputs": [],
     "prompt_number": 52
    },
    {
     "cell_type": "markdown",
     "metadata": {},
     "source": [
      "- \uc55e\uc758 \ub098\uc628 \uc608\uc81c\ub294 \ub0b4\uc7a5 \ud568\uc218 open()\uc758 \uae30\ub2a5\uc744 \ubcf4\uc774\uae30 \uc704\ud55c \ubaa9\uc801\n",
      "- Unix \uae30\ubc18 \uc2dc\uc2a4\ud15c\uc5d0\uc11c\ub9cc \ub3d9\uc791\n",
      "- \uc18c\ucf13\uc5d0 \ub300\ud55c \ud30c\uc77c\uac19\uc740 \uc778\ud130\ud398\uc774\uc2a4\uac00 \ud544\uc694\n",
      "- \ud06c\ub85c\uc2a4 \ud50c\ub7ab\ud3fc \ucf54\ub4dc\uac00 \ud544\uc694\ud558\ub2e4\uba74 \uc18c\ucf13\uc758 makefile() \uba54\uc18c\ub4dc\ub97c \uc0ac\uc6a9\ud574\uc57c \ud568\n",
      "- \ud558\uc9c0\ub9cc \uc774\uc2dd\uc131\uc744 \uc2e0\uacbd\uc4f0\uc9c0 \uc54a\ub294\ub2e4\uba74 makefile()\uc744 \uc0ac\uc6a9\ud558\ub294 \uac83\ubcf4\ub2e4 \uc55e\uc5d0 \ub098\uc628 \uc608\uc81c\uac00 \uc131\ub2a5 \uba74\uc5d0\uc11c \ud6e8\uc52c \ub6f0\uc5b4\ub0a8\n",
      "- \uc774\ubbf8 \uc5f4\ub824\uc788\ub294 \ud30c\uc77c\uc744 \uac00\ub9ac\ud0a4\ub294 alias\ub97c \ub9cc\ub4e4\uc5b4 \ucc98\uc74c\uacfc \uc870\uae08 \ub2e4\ub978 \ubc29\ubc95\uc73c\ub85c \uc0ac\uc6a9\ud558\uc600\ub294\ub370 \uc774 \uae30\uc220\uc744 \uc0ac\uc6a9\ud560 \uc218\ub3c4 \uc788\uc74c\n",
      "- \uc608\ub97c \ub4e4\uc5b4 stdout(\uc77c\ubc18\uc801\uc73c\ub85c \ud14d\uc2a4\ud2b8 \ubaa8\ub4dc\ub85c \uc5f4\ub824 \uc788\ub2e4)\uc5d0 \ubc14\uc774\ub108\ub9ac \ub370\uc774\ud130\ub97c \ub123\uae30 \uc704\ud55c \ud30c\uc775 \uac1d\uccb4\ub97c \ub9cc\ub4dc\ub294 \ubc29\ubc95\uc744 \ubcf4\uc790"
     ]
    },
    {
     "cell_type": "code",
     "collapsed": false,
     "input": [
      "# \uc81c\ub300\ub85c \ub3d9\uc791 \uc548\ub428\n",
      "import sys\n",
      "# stdout\uc5d0 \ub300\ud55c \ubc14\uc774\ub108\ub9ac \ubaa8\ub4dc \ud30c\uc77c \ub9cc\ub4e4\uae30\n",
      "bstdout = open(sys.stdout.fileno(), 'wb', closefd=False)\n",
      "bstdout.write(b'Hello World\\n')\n",
      "bstdout.flush()"
     ],
     "language": "python",
     "metadata": {},
     "outputs": [
      {
       "ename": "UnsupportedOperation",
       "evalue": "IOStream has no fileno.",
       "output_type": "pyerr",
       "traceback": [
        "\u001b[0;31m---------------------------------------------------------------------------\u001b[0m\n\u001b[0;31mUnsupportedOperation\u001b[0m                      Traceback (most recent call last)",
        "\u001b[0;32m<ipython-input-69-1844da0dccec>\u001b[0m in \u001b[0;36m<module>\u001b[0;34m()\u001b[0m\n\u001b[1;32m      2\u001b[0m \u001b[0;32mimport\u001b[0m \u001b[0msys\u001b[0m\u001b[0;34m\u001b[0m\u001b[0m\n\u001b[1;32m      3\u001b[0m \u001b[0;31m# stdout\uc5d0 \ub300\ud55c \ubc14\uc774\ub108\ub9ac \ubaa8\ub4dc \ud30c\uc77c \ub9cc\ub4e4\uae30\u001b[0m\u001b[0;34m\u001b[0m\u001b[0;34m\u001b[0m\u001b[0m\n\u001b[0;32m----> 4\u001b[0;31m \u001b[0mbstdout\u001b[0m \u001b[0;34m=\u001b[0m \u001b[0mopen\u001b[0m\u001b[0;34m(\u001b[0m\u001b[0msys\u001b[0m\u001b[0;34m.\u001b[0m\u001b[0mstdout\u001b[0m\u001b[0;34m.\u001b[0m\u001b[0mfileno\u001b[0m\u001b[0;34m(\u001b[0m\u001b[0;34m)\u001b[0m\u001b[0;34m,\u001b[0m \u001b[0;34m'wb'\u001b[0m\u001b[0;34m,\u001b[0m \u001b[0mclosefd\u001b[0m\u001b[0;34m=\u001b[0m\u001b[0;32mFalse\u001b[0m\u001b[0;34m)\u001b[0m\u001b[0;34m\u001b[0m\u001b[0m\n\u001b[0m\u001b[1;32m      5\u001b[0m \u001b[0mbstdout\u001b[0m\u001b[0;34m.\u001b[0m\u001b[0mwrite\u001b[0m\u001b[0;34m(\u001b[0m\u001b[0;34mb'Hello World\\n'\u001b[0m\u001b[0;34m)\u001b[0m\u001b[0;34m\u001b[0m\u001b[0m\n\u001b[1;32m      6\u001b[0m \u001b[0mbstdout\u001b[0m\u001b[0;34m.\u001b[0m\u001b[0mflush\u001b[0m\u001b[0;34m(\u001b[0m\u001b[0;34m)\u001b[0m\u001b[0;34m\u001b[0m\u001b[0m\n",
        "\u001b[0;32m/Users/re4lfl0w/virtualenv/python3_test/lib/python3.4/site-packages/IPython/kernel/zmq/iostream.py\u001b[0m in \u001b[0;36mfileno\u001b[0;34m(self)\u001b[0m\n\u001b[1;32m    192\u001b[0m \u001b[0;34m\u001b[0m\u001b[0m\n\u001b[1;32m    193\u001b[0m     \u001b[0;32mdef\u001b[0m \u001b[0mfileno\u001b[0m\u001b[0;34m(\u001b[0m\u001b[0mself\u001b[0m\u001b[0;34m)\u001b[0m\u001b[0;34m:\u001b[0m\u001b[0;34m\u001b[0m\u001b[0m\n\u001b[0;32m--> 194\u001b[0;31m         \u001b[0;32mraise\u001b[0m \u001b[0mUnsupportedOperation\u001b[0m\u001b[0;34m(\u001b[0m\u001b[0;34m\"IOStream has no fileno.\"\u001b[0m\u001b[0;34m)\u001b[0m\u001b[0;34m\u001b[0m\u001b[0m\n\u001b[0m\u001b[1;32m    195\u001b[0m \u001b[0;34m\u001b[0m\u001b[0m\n\u001b[1;32m    196\u001b[0m     \u001b[0;32mdef\u001b[0m \u001b[0mwrite\u001b[0m\u001b[0;34m(\u001b[0m\u001b[0mself\u001b[0m\u001b[0;34m,\u001b[0m \u001b[0mstring\u001b[0m\u001b[0;34m)\u001b[0m\u001b[0;34m:\u001b[0m\u001b[0;34m\u001b[0m\u001b[0m\n",
        "\u001b[0;31mUnsupportedOperation\u001b[0m: IOStream has no fileno."
       ]
      }
     ],
     "prompt_number": 69
    },
    {
     "cell_type": "markdown",
     "metadata": {},
     "source": [
      "- \uae30\uc874 \ud30c\uc77c \ub514\uc2a4\ud06c\ub9bd\ud130\ub97c \ud30c\uc77c\ub85c \uac10\uc2f8\ub294 \uac83\ub3c4 \uac00\ub2a5\ud558\uc9c0\ub9cc, \ubaa8\ub4e0 \ud30c\uc77c \ubaa8\ub4dc\ub97c \uc9c0\uc6d0\ud558\uc9c0 \uc54a\uc744 \uc218 \uc788\uace0 \uc774\ub7f0 \ud30c\uc77c \ub514\uc2a4\ud06c\ub9bd\ud130\uc5d0 \uc608\uc0c1\uce58 \ubabb\ud55c \ubd80\uc791\uc6a9\uc774 \uc0dd\uae38 \uc218 \uc788\uc74c(\uc5d0\ub7ec \ucc98\ub9ac, \ud30c\uc77c \ub05d \ucc3e\uae30 \ub4f1\uc5d0\uc11c \ud2b9\ud788 \uc704\ud5d8)\n",
      "- \ub610\ud55c \ub3d9\uc791\uc131\uc774 \uc6b4\uc601\uccb4\uc81c\uc5d0 \ub530\ub77c \ub2ec\ub77c\uc9c0\uae30\ub3c4 \ud568\n",
      "- \uc55e\uc5d0\uc11c \ub098\uc628 \ubaa8\ub4e0 \uc608\uc81c\ub294 Unix\uac00 \uc544\ub2cc \uc2dc\uc2a4\ud15c\uc5d0\uc11c \uc544\ub9c8\ub3c4 \ub3d9\uc791\ud558\uc9c0 \uc54a\uc744 \uac83\uc774\ub2e4.\n",
      "- \uacb0\uacfc\uc801\uc73c\ub85c \uad6c\ud604\ubb3c\uc774 \uc798 \ub3d9\uc791\ud558\ub294\uc9c0 \uaf3c\uaf3c\ud788 \ud14c\uc2a4\ud2b8\ud574 \ubcf4\ub294 \uc218\ubc16\uc5d0 \uc5c6\ub2e4"
     ]
    },
    {
     "cell_type": "markdown",
     "metadata": {},
     "source": [
      "## 5.19 \uc784\uc2dc \ud30c\uc77c\uacfc \ub514\ub809\ud1a0\ub9ac \ub9cc\ub4e4\uae30\n",
      "\n",
      "### \ubb38\uc81c\n",
      "\n",
      "- \uc784\uc2dc \ud30c\uc77c\uc774\ub098 \ub514\ub809\ud1a0\ub9ac\ub97c \ub9cc\ub4e4\uc5b4 \ud504\ub85c\uadf8\ub7a8\uc5d0 \uc0ac\uc6a9\ud574\uc57c \ud568\n",
      "- \uadf8 \ud6c4\uc5d0 \ud30c\uc77c\uc774\ub098 \ub514\ub809\ud1a0\ub9ac\ub294 \uc544\ub9c8\ub3c4 \ud30c\uae30\ud560 \uc0dd\uac01\n",
      "\n",
      "### \ud574\uacb0\n",
      "\n",
      "- tempfile \ubaa8\ub4c8\uc5d0 \uc774\ub7f0 \ubaa9\uc801\uc758 \ud568\uc218\uac00 \ub9ce\uc774 \uc788\uc74c\n",
      "- \uc774\ub984\uc5c6\ub294 \uc784\uc2dc \ud30c\uc77c\uc744 \ub9cc\ub4e4\uae30 \uc704\ud574\uc11c tempfile.TemporaryFile \uc0ac\uc6a9"
     ]
    },
    {
     "cell_type": "code",
     "collapsed": false,
     "input": [
      "from tempfile import TemporaryFile"
     ],
     "language": "python",
     "metadata": {},
     "outputs": [],
     "prompt_number": 70
    },
    {
     "cell_type": "code",
     "collapsed": false,
     "input": [
      "with TemporaryFile('w+t') as f:\n",
      "    # \ud30c\uc77c\uc5d0\uc11c \uc77d\uae30/\uc4f0\uae30\n",
      "    f.write('Hello World\\n')\n",
      "    f.write('Testing\\n')\n",
      "    \n",
      "    # \ucc98\uc74c\uc73c\ub85c \uc774\ub3d9\ud574 \ub370\uc774\ud130\ub97c \uc77d\ub294\ub2e4.\n",
      "    f.seek(0)\n",
      "    data = f.read()\n",
      "    \n",
      "# \uc784\uc2dc \ud30c\uc77c\uc740 \ud30c\uad34\ub41c\ub2e4."
     ],
     "language": "python",
     "metadata": {},
     "outputs": [],
     "prompt_number": 71
    },
    {
     "cell_type": "code",
     "collapsed": false,
     "input": [
      "data"
     ],
     "language": "python",
     "metadata": {},
     "outputs": [
      {
       "metadata": {},
       "output_type": "pyout",
       "prompt_number": 72,
       "text": [
        "'Hello World\\nTesting\\n'"
       ]
      }
     ],
     "prompt_number": 72
    },
    {
     "cell_type": "code",
     "collapsed": false,
     "input": [
      "f = TemporaryFile('w+t')\n",
      "# \uc784\uc2dc \ud30c\uc77c \uc0ac\uc6a9\n",
      "f.close()\n",
      "# \ud30c\uc77c \ud30c\uae30"
     ],
     "language": "python",
     "metadata": {},
     "outputs": [],
     "prompt_number": 73
    },
    {
     "cell_type": "markdown",
     "metadata": {},
     "source": [
      "- TemporaryFile()\uc5d0 \uc804\ub2ec\ud558\ub294 \uccab \ubc88\uc9f8 \uc778\uc790\ub294 \ud30c\uc77c \ubaa8\ub4dc\uc774\uace0, \ud14d\uc2a4\ud2b8 \ubaa8\ub4dc\uc5d0\ub294 \ub300\uac1c w+t\ub97c, \ubc14\uc774\ub108\ub9ac \ubaa8\ub4dc\uc5d0\ub294 w+b\ub97c \uc0ac\uc6a9\ud55c\ub2e4.\n",
      "- \uc774 \ubaa8\ub4dc\ub294 \uc77d\uae30\uc640 \uc4f0\uae30\ub97c \ub3d9\uc2dc\uc5d0 \uc9c0\uc6d0\ud558\uae30 \ub54c\ubb38\uc5d0 \ubaa8\ub4dc \ubcc0\uacbd\uc744 \uc704\ud574 \ud30c\uc77c\uc744 \ub2eb\uc73c\uba74 \uc2e4\uc81c\ub85c \ud30c\uae30\ud558\ubbc0\ub85c \uc720\uc6a9\n",
      "- TemporaryFile()\uc740 \ucd94\uac00\uc801\uc73c\ub85c \ub0b4\uc7a5 \ud568\uc218 open()\uacfc \ub3d9\uc77c\ud55c \uc778\uc790\ub97c \ubc1b\uc74c"
     ]
    },
    {
     "cell_type": "code",
     "collapsed": false,
     "input": [
      "# with TemporaryFile('w+t', encoding='utf-8', erros='ignore') as f:\n",
      "    #"
     ],
     "language": "python",
     "metadata": {},
     "outputs": [],
     "prompt_number": 74
    },
    {
     "cell_type": "markdown",
     "metadata": {},
     "source": [
      "- \ub300\uac8c Unix \uc2dc\uc2a4\ud15c\uc5d0\uc11c TemporaryFile()\ub85c \uc0dd\uc131\ud55c \ud30c\uc77c\uc5d0 \uc774\ub984\uc774 \uc5c6\uace0 \ub514\ub809\ud1a0\ub9ac \uc5d4\ud2b8\ub9ac\ub3c4 \uac16\uc9c0 \uc54a\ub294\ub2e4.\n",
      "- \uc774 \uc81c\ud55c\uc744 \uc5c6\uc560\uace0 \uc2f6\uc73c\uba74 NamedTemporaryFile()\uc744 \uc0ac\uc6a9\ud558\uba74 \ub3c4\ub2c8\ub2e4."
     ]
    },
    {
     "cell_type": "code",
     "collapsed": false,
     "input": [
      "from tempfile import NamedTemporaryFile"
     ],
     "language": "python",
     "metadata": {},
     "outputs": [],
     "prompt_number": 75
    },
    {
     "cell_type": "code",
     "collapsed": false,
     "input": [
      "with NamedTemporaryFile('w+t') as f:\n",
      "    print('filename is:', f.name)\n",
      "    \n",
      "# \ud30c\uc77c\uc774 \uc790\ub3d9\uc73c\ub85c \ud30c\uae30\ub41c\ub2e4."
     ],
     "language": "python",
     "metadata": {},
     "outputs": [
      {
       "output_type": "stream",
       "stream": "stdout",
       "text": [
        "filename is: /var/folders/7m/8grmt2yn73sbggnyzcg5phq80000gn/T/tmp9y6stc5b\n"
       ]
      }
     ],
     "prompt_number": 76
    },
    {
     "cell_type": "code",
     "collapsed": false,
     "input": [
      "!ls -l /var/folders/7m/8grmt2yn73sbggnyzcg5phq80000gn/T/tmp9y6stc5b"
     ],
     "language": "python",
     "metadata": {},
     "outputs": [
      {
       "output_type": "stream",
       "stream": "stdout",
       "text": [
        "ls: /var/folders/7m/8grmt2yn73sbggnyzcg5phq80000gn/T/tmp9y6stc5b: No such file or directory\r\n"
       ]
      }
     ],
     "prompt_number": 77
    },
    {
     "cell_type": "markdown",
     "metadata": {},
     "source": [
      "- f.name \uc18d\uc131\uc5d0 \uc784\uc2dc \ud30c\uc77c\uc758 \ud30c\uc77c \uc774\ub984\uc774 \ub2f4\uaca8 \uc788\ub2e4. \ub2e4\ub978 \ucf54\ub4dc\uc5d0 \uc774 \ud30c\uc77c\uc744 \uc804\ub2ec\ud574\uc57c \ud560 \ud544\uc694\uac00 \uc0dd\uacbc\uc744 \ub54c \uc774 \uc18d\uc131\uc744 \uc720\ud6a8\ud558\uac8c \uc0ac\uc6a9\ud560 \uc218 \uc788\ub2e4.\n",
      "- TemporaryFile()\uacfc \ub9c8\ucc2c\uac00\uc9c0\ub85c \uc0dd\uc131\ub41c \ud30c\uc77c\uc758 \uc0ac\uc6a9\uc774 \ub05d\ub0ac\uc744 \ub584 \uc790\ub3d9\uc73c\ub85c \uc0ad\uc81c\ub41c\ub2e4. \uc774\ub7f0 \ub3d9\uc791\uc744 \uc6d0\ud558\uc9c0 \uc54a\ub294\ub2e4\uba74 delete=False \ud0a4\uc6cc\ub4dc \uc778\uc790\ub97c \uc0ac\uc6a9\ud55c\ub2e4."
     ]
    },
    {
     "cell_type": "code",
     "collapsed": false,
     "input": [
      "with NamedTemporaryFile('w+t', delete=False) as f:\n",
      "    print('filename is:', f.name)"
     ],
     "language": "python",
     "metadata": {},
     "outputs": [
      {
       "output_type": "stream",
       "stream": "stdout",
       "text": [
        "filename is: /var/folders/7m/8grmt2yn73sbggnyzcg5phq80000gn/T/tmpiwe_8w0z\n"
       ]
      }
     ],
     "prompt_number": 78
    },
    {
     "cell_type": "code",
     "collapsed": false,
     "input": [
      "!ls -l /var/folders/7m/8grmt2yn73sbggnyzcg5phq80000gn/T/tmpiwe_8w0z"
     ],
     "language": "python",
     "metadata": {},
     "outputs": [
      {
       "output_type": "stream",
       "stream": "stdout",
       "text": [
        "-rw-------  1 re4lfl0w  staff  0 10  6 11:01 /var/folders/7m/8grmt2yn73sbggnyzcg5phq80000gn/T/tmpiwe_8w0z\r\n"
       ]
      }
     ],
     "prompt_number": 79
    },
    {
     "cell_type": "markdown",
     "metadata": {},
     "source": [
      "- \uc784\uc2dc \ub514\ub809\ud1a0\ub9ac\ub97c \ub9cc\ub4e4\uae30 \uc704\ud574\uc11c\ub294 tempfile.TemporaryDirectory()\ub97c \uc0ac\uc6a9\ud55c\ub2e4."
     ]
    },
    {
     "cell_type": "code",
     "collapsed": false,
     "input": [
      "from tempfile import TemporaryDirectory"
     ],
     "language": "python",
     "metadata": {},
     "outputs": [],
     "prompt_number": 80
    },
    {
     "cell_type": "code",
     "collapsed": false,
     "input": [
      "with TemporaryDirectory() as dirname:\n",
      "    print('dirname is:', dirname)\n",
      "    # Use the directory\n",
      "    \n",
      "# \ub514\ub809\ud1a0\ub9ac\uc640 \ubaa8\ub4e0 \ub0b4\uc6a9\ubb3c\uc774 \ud30c\uad34\ub41c\ub2e4."
     ],
     "language": "python",
     "metadata": {},
     "outputs": [
      {
       "output_type": "stream",
       "stream": "stdout",
       "text": [
        "dirname is: /var/folders/7m/8grmt2yn73sbggnyzcg5phq80000gn/T/tmpkthphxqz\n"
       ]
      }
     ],
     "prompt_number": 81
    },
    {
     "cell_type": "markdown",
     "metadata": {},
     "source": [
      "### \ud1a0\ub860\n",
      "\n",
      "- \uc784\uc2dc \ud30c\uc77c\uacfc \ub514\ub809\ud1a0\ub9ac\ub97c \ub9cc\ub4e4 \ub54c TemporaryFile(), NamedTemporaryFile(), TemporaryDirectory() \ud568\uc218\uac00 \uac00\uc7a5 \uc26c\uc6b4 \ubc29\ubc95\n",
      "- \uc774 \ud568\uc218\ub294 \uc0dd\uc131\uacfc \ucd94\ud6c4 \ud30c\uae30\uae4c\uc9c0 \ubaa8\ub450 \uc790\ub3d9\uc73c\ub85c \ucc98\ub9ac\n",
      "- \ub354 \ud558\uc704 \ub808\ubca8\ub85c \ub0b4\ub824\uac00\uba74 mkstemp()\uc640 mkdtemp()\ub85c \uc784\uc2dc \ud30c\uc77c\uacfc \ub514\ub809\ud1a0\ub9ac\ub97c \ub9cc\ub4e4 \uc218 \uc788\uc74c"
     ]
    },
    {
     "cell_type": "code",
     "collapsed": false,
     "input": [
      "import tempfile"
     ],
     "language": "python",
     "metadata": {},
     "outputs": [],
     "prompt_number": 82
    },
    {
     "cell_type": "code",
     "collapsed": false,
     "input": [
      "tempfile.mkstemp()"
     ],
     "language": "python",
     "metadata": {},
     "outputs": [
      {
       "metadata": {},
       "output_type": "pyout",
       "prompt_number": 83,
       "text": [
        "(58, '/var/folders/7m/8grmt2yn73sbggnyzcg5phq80000gn/T/tmpg0x1bhfd')"
       ]
      }
     ],
     "prompt_number": 83
    },
    {
     "cell_type": "code",
     "collapsed": false,
     "input": [
      "tempfile.mkdtemp()"
     ],
     "language": "python",
     "metadata": {},
     "outputs": [
      {
       "metadata": {},
       "output_type": "pyout",
       "prompt_number": 84,
       "text": [
        "'/var/folders/7m/8grmt2yn73sbggnyzcg5phq80000gn/T/tmpinm5ydkn'"
       ]
      }
     ],
     "prompt_number": 84
    },
    {
     "cell_type": "markdown",
     "metadata": {},
     "source": [
      "- \ud558\uc9c0\ub9cc \uc774 \ud568\uc218\ub294 \uadf8 \uc774\uc0c1 \uad00\ub9ac\ub97c \ucc45\uc784\uc9c0\uc9c0 \uc54a\uc74c\n",
      "- mkstemp() \ud568\uc218\ub294 \ub2e8\uc21c\ud788 raw OS \ud30c\uc77c \ub514\uc2a4\ud06c\ub9bd\ud138\ub974 \ubc18\ud658\ud560 \ubfd0 \uc774\ub97c \uc62c\ubc14\ub978 \ud30c\uc77c\ub85c \ubc14\uafb8\ub294 \uac83\uc740 \ud504\ub85c\uadf8\ub798\uba38\uc758 \uc5ed\ud560\ub85c \ub0a8\uaca8\ub460. \uc774\uc640 \uc720\uc0ac\ud558\uac8c \ud30c\uc77c\uc744 \uc81c\uac70\ud558\ub294 \uac83\ub3c4 \ub3c5\uc790\uc5d0\uac8c \ub2ec\ub824\uc788\uc74c\n",
      "- \uc77c\ubc18\uc801\uc73c\ub85c \uc784\uc2dc \ud30c\uc77c\uc740 /var/tmp\uc640 \uac19\uc740 \uc2dc\uc2a4\ud15c\uc758 \uae30\ubcf8 \uc704\uce58\uc5d0 \uc0dd\uc131\n",
      "- \uc2e4\uc81c \uc704\uce58\ub97c \ucc3e\uc73c\ub824\uba74 tempfile.gettempdir() \ud568\uc218 \uc0ac\uc6a9"
     ]
    },
    {
     "cell_type": "code",
     "collapsed": false,
     "input": [
      "tempfile.gettempdir()"
     ],
     "language": "python",
     "metadata": {},
     "outputs": [
      {
       "metadata": {},
       "output_type": "pyout",
       "prompt_number": 95,
       "text": [
        "'/var/folders/7m/8grmt2yn73sbggnyzcg5phq80000gn/T'"
       ]
      }
     ],
     "prompt_number": 95
    },
    {
     "cell_type": "markdown",
     "metadata": {},
     "source": [
      "- \ubaa8\ub4e0 \uc784\uc2dc \ud30c\uc77c \uad00\ub828 \ud568\uc218\ub294 \ub514\ub809\ud1a0\ub9ac\uc640 \uc774\ub984 \uaddc\uce59\uc744 \uc624\ubc84\ub77c\uc774\ub4dc \ud560 \uc218 \uc788\ub3c4\ub85d \ud568\n",
      "- prefix, suffix, dir \ud0a4\uc6cc\ub4dc \uc778\uc790\ub97c \uc0ac\uc6a9\ud558\uba74 \ub428"
     ]
    },
    {
     "cell_type": "code",
     "collapsed": false,
     "input": [
      "f = NamedTemporaryFile(prefix='mytemp_', suffix='.txt', dir='/tmp')\n",
      "f.name"
     ],
     "language": "python",
     "metadata": {},
     "outputs": [
      {
       "metadata": {},
       "output_type": "pyout",
       "prompt_number": 87,
       "text": [
        "'/tmp/mytemp_1dgbtfay.txt'"
       ]
      }
     ],
     "prompt_number": 87
    },
    {
     "cell_type": "code",
     "collapsed": false,
     "input": [
      "help(NamedTemporaryFile)"
     ],
     "language": "python",
     "metadata": {},
     "outputs": [
      {
       "output_type": "stream",
       "stream": "stdout",
       "text": [
        "Help on function NamedTemporaryFile in module tempfile:\n",
        "\n",
        "NamedTemporaryFile(mode='w+b', buffering=-1, encoding=None, newline=None, suffix='', prefix='tmp', dir=None, delete=True)\n",
        "    Create and return a temporary file.\n",
        "    Arguments:\n",
        "    'prefix', 'suffix', 'dir' -- as for mkstemp.\n",
        "    'mode' -- the mode argument to io.open (default \"w+b\").\n",
        "    'buffering' -- the buffer size argument to io.open (default -1).\n",
        "    'encoding' -- the encoding argument to io.open (default None)\n",
        "    'newline' -- the newline argument to io.open (default None)\n",
        "    'delete' -- whether the file is deleted on close (default True).\n",
        "    The file is created as mkstemp() would do it.\n",
        "    \n",
        "    Returns an object with a file-like interface; the name of the file\n",
        "    is accessible as file.name.  The file will be automatically deleted\n",
        "    when it is closed unless the 'delete' argument is set to False.\n",
        "\n"
       ]
      }
     ],
     "prompt_number": 88
    },
    {
     "cell_type": "markdown",
     "metadata": {},
     "source": [
      "- \ub9c8\uc9c0\ub9c9\uc73c\ub85c tempfile()\uc740 \uac00\uc7a5 \uc548\uc804\ud55c \ubc29\uc2dd\uc73c\ub85c \ud30c\uc77c\uc744 \uc0dd\uc131\ud55c\ub2e4\ub294 \uc810 \uae30\uc5b5\n",
      "- \ud30c\uc77c\uc5d0 \uc811\uadfc\ud560 \uc218 \uc788\ub294 \uad8c\ud55c\uc740 \ud604\uc7ac \uc0ac\uc6a9\uc790\uc5d0\uac8c\ub9cc \uc8fc\uace0, \ud30c\uc77c \uc0dd\uc131\uc5d0\uc11c \ub808\uc774\uc2a4 \ucee8\ub514\uc158\uc774 \ubc1c\uc0dd\ud558\uc9c0 \uc54a\ub3c4\ub85d \ud568"
     ]
    },
    {
     "cell_type": "markdown",
     "metadata": {},
     "source": [
      "## 5.20 \uc2dc\ub9ac\uc5bc \ud3ec\ud2b8\uc640 \ud1b5\uc2e0\n",
      "\n",
      "### \ubb38\uc81c\n",
      "\n",
      "- \uc2dc\ub9ac\uc5bc \ud3ec\ud2b8\ub97c \ud1b5\ud574 \ud558\ub4dc\uc6e8\uc5b4 \ub514\ubc14\uc774\uc2a4(\ub85c\ubd07, \uc13c\uc11c \ub4f1)\uc640 \ud1b5\uc2e0\ud558\uace0 \uc2f6\ub2e4.\n",
      "\n",
      "### \ud574\uacb0\n",
      "\n",
      "- \ud30c\uc774\uc36c\uc758 \ub0b4\uc7a5 \uae30\ub2a5\uc73c\ub85c \uc9c1\uc811 \ud574\uacb0\ud560 \uc218\ub3c4 \uc788\uc9c0\ub9cc, \uadf8\ubcf4\ub2e4\ub294 pySerial \ud328\ud0a4\uc9c0\ub97c \uc0ac\uc6a9\ud558\ub294 \uac83\uc774 \ub354 \uc88b\uc74c\n",
      "- \ud328\ud0a4\uc9c0 \uc0ac\uc6a9\uc744 \uc2dc\uc791\ud558\uae30\ub294 \uc544\uc8fc \uc26c\uc6c0\n",
      "\n",
      "> pip install pyserial"
     ]
    },
    {
     "cell_type": "code",
     "collapsed": false,
     "input": [
      "import serial"
     ],
     "language": "python",
     "metadata": {},
     "outputs": [],
     "prompt_number": 97
    },
    {
     "cell_type": "code",
     "collapsed": false,
     "input": [
      "ser = serial.Serial('/dev/tty.Bluetooth-Serial-1', #  elqkdltm dlfmadms ekffkwlsek.\n",
      "                    baudrate=9600,\n",
      "                    bytesize=8,\n",
      "                    parity='N',\n",
      "                    stopbits=1)"
     ],
     "language": "python",
     "metadata": {},
     "outputs": [],
     "prompt_number": 100
    },
    {
     "cell_type": "code",
     "collapsed": false,
     "input": [
      "!ls -l /dev | grep Serial"
     ],
     "language": "python",
     "metadata": {},
     "outputs": [
      {
       "output_type": "stream",
       "stream": "stdout",
       "text": [
        "crw-rw-rw-  1 root      wheel        33,   1 10  4 16:29 cu.Bluetooth-Serial-1\r\n",
        "crw-rw-rw-  1 root      wheel        33,   3 10  4 16:29 cu.Bluetooth-Serial-2\r\n",
        "crw-rw-rw-  1 root      wheel        33,   0 10  4 16:29 tty.Bluetooth-Serial-1\r\n",
        "crw-rw-rw-  1 root      wheel        33,   2 10  4 16:29 tty.Bluetooth-Serial-2\r\n"
       ]
      }
     ],
     "prompt_number": 103
    },
    {
     "cell_type": "markdown",
     "metadata": {},
     "source": [
      "- \ub514\ubc14\uc774\uc2a4 \uc774\ub984\uc740 \ub514\ubc14\uc774\uc2a4\uc758 \uc885\ub958\ub098 \uc6b4\uc601\uccb4\uc81c\uc5d0 \ub530\ub77c \ub2ec\ub77c\uc9d0\n",
      "- Windows\uc5d0\uc11c 0, 1 \ub4f1\uc744 \uc0ac\uc6a9\ud574\uc11c \"COM0\", \"COM1\" \uacfc \uac19\uc740 \ud3ec\ud2b8\ub97c \uc5f0\ub2e4.\n",
      "- \uc5f4\uace0 \ub098\uc11c read(), readline(), write() \ud638\ucd9c\ub85c \ub370\uc774\ud130\ub97c \uc77d\uace0 \uc4f4\ub2e4."
     ]
    },
    {
     "cell_type": "code",
     "collapsed": false,
     "input": [
      "ser.write(b'G1 X50 Y50\\r\\n')"
     ],
     "language": "python",
     "metadata": {},
     "outputs": [
      {
       "metadata": {},
       "output_type": "pyout",
       "prompt_number": 104,
       "text": [
        "12"
       ]
      }
     ],
     "prompt_number": 104
    },
    {
     "cell_type": "code",
     "collapsed": false,
     "input": [
      "resp = ser.readline()"
     ],
     "language": "python",
     "metadata": {},
     "outputs": [
      {
       "ename": "KeyboardInterrupt",
       "evalue": "",
       "output_type": "pyerr",
       "traceback": [
        "\u001b[0;31m---------------------------------------------------------------------------\u001b[0m\n\u001b[0;31mKeyboardInterrupt\u001b[0m                         Traceback (most recent call last)",
        "\u001b[0;32m<ipython-input-105-12aebcd5007d>\u001b[0m in \u001b[0;36m<module>\u001b[0;34m()\u001b[0m\n\u001b[0;32m----> 1\u001b[0;31m \u001b[0mresp\u001b[0m \u001b[0;34m=\u001b[0m \u001b[0mser\u001b[0m\u001b[0;34m.\u001b[0m\u001b[0mreadline\u001b[0m\u001b[0;34m(\u001b[0m\u001b[0;34m)\u001b[0m\u001b[0;34m\u001b[0m\u001b[0m\n\u001b[0m",
        "\u001b[0;32m/Users/re4lfl0w/virtualenv/python3_test/lib/python3.4/site-packages/serial/serialposix.py\u001b[0m in \u001b[0;36mread\u001b[0;34m(self, size)\u001b[0m\n\u001b[1;32m    459\u001b[0m         \u001b[0;32mwhile\u001b[0m \u001b[0mlen\u001b[0m\u001b[0;34m(\u001b[0m\u001b[0mread\u001b[0m\u001b[0;34m)\u001b[0m \u001b[0;34m<\u001b[0m \u001b[0msize\u001b[0m\u001b[0;34m:\u001b[0m\u001b[0;34m\u001b[0m\u001b[0m\n\u001b[1;32m    460\u001b[0m             \u001b[0;32mtry\u001b[0m\u001b[0;34m:\u001b[0m\u001b[0;34m\u001b[0m\u001b[0m\n\u001b[0;32m--> 461\u001b[0;31m                 \u001b[0mready\u001b[0m\u001b[0;34m,\u001b[0m\u001b[0m_\u001b[0m\u001b[0;34m,\u001b[0m\u001b[0m_\u001b[0m \u001b[0;34m=\u001b[0m \u001b[0mselect\u001b[0m\u001b[0;34m.\u001b[0m\u001b[0mselect\u001b[0m\u001b[0;34m(\u001b[0m\u001b[0;34m[\u001b[0m\u001b[0mself\u001b[0m\u001b[0;34m.\u001b[0m\u001b[0mfd\u001b[0m\u001b[0;34m]\u001b[0m\u001b[0;34m,\u001b[0m\u001b[0;34m[\u001b[0m\u001b[0;34m]\u001b[0m\u001b[0;34m,\u001b[0m\u001b[0;34m[\u001b[0m\u001b[0;34m]\u001b[0m\u001b[0;34m,\u001b[0m \u001b[0mself\u001b[0m\u001b[0;34m.\u001b[0m\u001b[0m_timeout\u001b[0m\u001b[0;34m)\u001b[0m\u001b[0;34m\u001b[0m\u001b[0m\n\u001b[0m\u001b[1;32m    462\u001b[0m                 \u001b[0;31m# If select was used with a timeout, and the timeout occurs, it\u001b[0m\u001b[0;34m\u001b[0m\u001b[0;34m\u001b[0m\u001b[0m\n\u001b[1;32m    463\u001b[0m                 \u001b[0;31m# returns with empty lists -> thus abort read operation.\u001b[0m\u001b[0;34m\u001b[0m\u001b[0;34m\u001b[0m\u001b[0m\n",
        "\u001b[0;31mKeyboardInterrupt\u001b[0m: "
       ]
      }
     ],
     "prompt_number": 105
    },
    {
     "cell_type": "markdown",
     "metadata": {},
     "source": [
      "- \ub300\uac1c\uc758 \uacbd\uc6b0 \uc774 \uc2dc\uc810\ubd80\ud130 \uc2dc\ub9ac\uc5bc \ud1b5\uc2e0\uc740 \uc544\uc8fc \uac04\ub2e8\ud558\ub2e4."
     ]
    },
    {
     "cell_type": "markdown",
     "metadata": {},
     "source": [
      "### \ud1a0\ub860\n",
      "\n",
      "- \uac89\ubcf4\uae30\uc5d0\ub294 \uc2dc\ub9ac\uc5bc \ud1b5\uc2e0\uc774 \uac04\ub2e8\ud574 \ubcf4\uc774\uc9c0\ub9cc \ub54c\ub85c \ubcf5\uc7a1\ud574\uc9c0\ub294 \uacbd\uc6b0\uac00 \uc788\uc74c\n",
      "- pySerial\uacfc \uac19\uc740 \ud328\ud0a4\uc9c0\ub97c \uc0ac\uc6a9\ud574\uc57c \ud558\ub294 \uc774\uc720\ub85c \uace0\uae09 \uae30\ub2a5(\ud0c0\uc784\uc544\uc6c3, \ucee8\ud2b8\ub864 \ud50c\ub85c\uc6b0, \ubc84\ud37c \ud50c\ub7ec\uc2f1, \ud578\ub4dc\uc250\uc774\ud0b9 \ub4f1)\uc744 \uc9c0\uc6d0\ud55c\ub2e4\ub294 \uc810\n",
      "- \uc608\ub97c \ub4e4\uc5b4 RTS-CTS handshaking\uc744 \ud65c\uc131\ud654\ud558\uae30 \uc704\ud574 Serial()\uc5d0 rtscts=True \uc778\uc790\ub97c \uc804\ub2ec\ud558\uae30\ub9cc \ud558\uba74 \ub428\n",
      "- **\uc81c\uacf5\ub418\ub294 \ubb38\uc11c\ub3c4 \uc644\ubcbd**\ud558\uae30 \ub54c\ubb38\uc5d0 \uc5ec\uae30\uc11c **\uc2dc\uac04\uc744 \ud5c8\ube44\ud560 \uc774\uc720\uac00 \uc5c6\uc5b4 \ubcf4\uc778\ub2e4.**\n",
      "- \uc2dc\ub9ac\uc5bc \ud3ec\ud2b8\uc640 \uad00\ub828\ub41c \ubaa8\ub4e0 \uc785\ucd9c\ub825\uc740 \ubc14\uc774\ub108\ub9ac\uc784\uc744 \uae30\uc5b5\ud558\uc790.\n",
      "- \ub530\ub77c\uc11c \ucf54\ub4dc\ub97c \uc791\uc131\ud560 \ub584 \ud14d\uc2a4\ud2b8\uac00 \uc544\ub2cc \ubc14\uc774\ud2b8\ub97c \uc0ac\uc6a9\ud558\ub3c4\ub85d \ud574\uc57c \ud55c\ub2e4.(\ud639\uc740 \ud544\uc694\ud558\ub2e4\uba74 \uc62c\ubc14\ub978 \ud14d\uc2a4\ud2b8 \uc778\ucf54\ub529/\ub514\ucf54\ub529\uc744 \uc218\ud589)\n",
      "- \ubc14\uc774\ub108\ub9ac \ucf54\ub4dc \uba85\ub839\uc5b4\ub098 \ud328\ud0b7\uc744 \ub9cc\ub4e4 \ub54c struct \ubaa8\ub4c8\uc744 \uc0ac\uc6a9\ud558\uba74 \ud3b8\ub9ac"
     ]
    },
    {
     "cell_type": "markdown",
     "metadata": {},
     "source": [
      "## 5.21 \ud30c\uc774\uc36c \uac1d\uccb4\ub97c \uc9c1\ub82c\ud654\ud558\uae30\n",
      "\n",
      "- pass\n",
      "- pickle\uc740 array \ubaa8\ub4c8\uc774\ub098 numpy\uc640 \uac19\uc740 \ub77c\uc774\ube0c\ub7ec\ub9ac\uac00 \ub9cc\ub4e4\uc5b4 \ub0b8 \uac70\ub300\ud55c \uc790\ub8cc \uad6c\uc870\uc5d0 \uc0ac\uc6a9\ud558\uae30\uc5d0 \ud6a8\uc728\uc801\uc778 \uc778\ucf54\ub529 \ubc29\uc2dd\uc774 \uc544\ub2c8\ub2e4.\n",
      "- \ubc45\ub300\ud55c \uc790\ub8cc\ub97c \uc774\ub3d9\ud574\uc57c \ud55c\ub2e4\uba74 bulk \ubc30\uc5f4\uc744 \ud30c\uc77c\uc5d0 \uc800\uc7a5\ud558\uac70\ub098 HDF5(\uc11c\ub4dc\ud30c\ud2f0 \ub77c\uc774\ube0c\ub7ec\ub9ac\uac00 \uc9c0\uc6d0)\uc640 \uac19\uc740 \uc880 \ub354 \ud45c\uc900\ud654\ub41c \uc778\ucf54\ub529\uc744 \uc0ac\uc6a9\ud558\ub294 \uac83\uc774 \uc88b\uc74c\n",
      "- \uc194\uc9c1\ud788 \ub9d0\ud574\uc11c \ub370\uc774\ud130\ubca0\uc774\uc2a4\uc5d0 \uc790\ub8cc\ub97c \uc800\uc7a5\ud558\uac70\ub098 \ud560 \ub54c XML, CSV, JSON\uacfc \uac19\uc740 \uc880 \ub354 \ud45c\uc900\uc801\uc778 \ub370\uc774\ud130 \uc778\ucf54\ub529\uc744 \uc0ac\uc6a9\ud558\ub294 \uac83\uc774 \ub354 \uc88b\uc74c"
     ]
    }
   ],
   "metadata": {}
  }
 ]
}
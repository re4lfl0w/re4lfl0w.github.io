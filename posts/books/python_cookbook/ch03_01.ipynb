{
 "metadata": {
  "name": "",
  "signature": "sha256:80476cc9dcaec5c59a38e5a4bdddaad58cec2c782e7791cc0d16bdfef354f681"
 },
 "nbformat": 3,
 "nbformat_minor": 0,
 "worksheets": [
  {
   "cells": [
    {
     "cell_type": "markdown",
     "metadata": {},
     "source": [
      "# 3. \uc22b\uc790, \ub0a0\uc9dc, \uc2dc\uac04\n",
      "\n",
      "- start: 2014-10-03\n",
      "- end: 2014-10-04\n",
      "\n",
      "\n",
      "- \ud30c\uc774\uc36c\uc5d0\uc11c \uc815\uc218\uc640 \ubd80\ub3d9 \uc18c\uc218\uc810\uc744 \uc368\uc11c \uc218\ud559\uc801\uc73c\ub85c \uacc4\uc0b0\ud558\uae30\ub294 \uc5b4\ub835\uc9c0 \uc54a\uc74c\n",
      "- \ud558\uc9c0\ub9cc \ubd84\uc218, \ubc30\uc5f4, \ub0a0\uc9dc, \uc2dc\uac04 \uacc4\uc0b0\uc740 \uc870\uae08 \ubcf5\uc7a1\n",
      "\n",
      "## 3.1 \ubc18\uc62c\ub9bc\n",
      "\n",
      "### \ubb38\uc81c\n",
      "\n",
      "- \ubd80\ub3d9 \uc18c\uc218\uc810 \uac12\uc744 10\uc9c4\uc218\ub85c \ubc18\uc62c\ub9bc\ud558\uace0 \uc2f6\ub2e4.\n",
      "\n",
      "### \ud574\uacb0\n",
      "\n",
      "- \uac04\ub2e8\ud55c \ubc18\uc62c\ub9bc\uc740 \ub0b4\uc7a5 \ud568\uc218\uc778 round(value, ndigits) \ud568\uc218 \uc0ac\uc6a9"
     ]
    },
    {
     "cell_type": "code",
     "collapsed": false,
     "input": [
      "round(1.23, 1)"
     ],
     "language": "python",
     "metadata": {},
     "outputs": [
      {
       "metadata": {},
       "output_type": "pyout",
       "prompt_number": 1,
       "text": [
        "1.2"
       ]
      }
     ],
     "prompt_number": 1
    },
    {
     "cell_type": "code",
     "collapsed": false,
     "input": [
      "round(1.27, 1)"
     ],
     "language": "python",
     "metadata": {},
     "outputs": [
      {
       "metadata": {},
       "output_type": "pyout",
       "prompt_number": 2,
       "text": [
        "1.3"
       ]
      }
     ],
     "prompt_number": 2
    },
    {
     "cell_type": "code",
     "collapsed": false,
     "input": [
      "round(-1.27, 1)"
     ],
     "language": "python",
     "metadata": {},
     "outputs": [
      {
       "metadata": {},
       "output_type": "pyout",
       "prompt_number": 3,
       "text": [
        "-1.3"
       ]
      }
     ],
     "prompt_number": 3
    },
    {
     "cell_type": "code",
     "collapsed": false,
     "input": [
      "round(1.25361, 3)"
     ],
     "language": "python",
     "metadata": {},
     "outputs": [
      {
       "metadata": {},
       "output_type": "pyout",
       "prompt_number": 4,
       "text": [
        "1.254"
       ]
      }
     ],
     "prompt_number": 4
    },
    {
     "cell_type": "markdown",
     "metadata": {},
     "source": [
      "- \uac12\uc774 \uc815\ud655\ud788 \ub450 \uc120\ud0dd\uc9c0\uc758 \uac00\uc6b4\ub370 \uc788\uc73c\uba74 \ub354 \uac00\uae4c\uc6b4 \uc9dd\uc218\uac00 \ub428\n",
      "- \uc608\ub97c \ub4e4\uc5b4 1.5\uc640 2.5\ub294 \ubaa8\ub450 2\uac00 \ub428\n",
      "\n",
      "\n",
      "- round(0\uc5d0 \uc804\ub2ec\ud558\ub294 \uc790\ub9bf\uc218\ub294 \uc74c\uc218\uac00 \ub420 \uc218 \uc788\uc74c\n",
      "- \uc774 \uacbd\uc6b0\uc5d0\ub294 10\uc758 \uc790\ub9ac, 100\uc758 \uc790\ub9ac \ub4f1\uc758 \uc21c\uc73c\ub85c \uc790\ub9bf\uc218\uac00 \uacb0\uc815\ub428\n"
     ]
    },
    {
     "cell_type": "code",
     "collapsed": false,
     "input": [
      "a = 1627731"
     ],
     "language": "python",
     "metadata": {},
     "outputs": [],
     "prompt_number": 5
    },
    {
     "cell_type": "code",
     "collapsed": false,
     "input": [
      "round(a, -1)"
     ],
     "language": "python",
     "metadata": {},
     "outputs": [
      {
       "metadata": {},
       "output_type": "pyout",
       "prompt_number": 6,
       "text": [
        "1627730"
       ]
      }
     ],
     "prompt_number": 6
    },
    {
     "cell_type": "code",
     "collapsed": false,
     "input": [
      "round(a, -2)"
     ],
     "language": "python",
     "metadata": {},
     "outputs": [
      {
       "metadata": {},
       "output_type": "pyout",
       "prompt_number": 9,
       "text": [
        "1627700"
       ]
      }
     ],
     "prompt_number": 9
    },
    {
     "cell_type": "code",
     "collapsed": false,
     "input": [
      "round(a, -3)"
     ],
     "language": "python",
     "metadata": {},
     "outputs": [
      {
       "metadata": {},
       "output_type": "pyout",
       "prompt_number": 10,
       "text": [
        "1628000"
       ]
      }
     ],
     "prompt_number": 10
    },
    {
     "cell_type": "markdown",
     "metadata": {},
     "source": [
      "### \ud1a0\ub860\n",
      "\n",
      "- \ubc18\uc62c\ub9bc\uacfc \uc11c\uc2dd\ud654\ub97c \ud5f7\uac00\ub9b4\uc9c0 \uc54a\ub3c4\ub85d \uc8fc\uc758\ud558\uc790\n",
      "- \ud2b9\uc815 \uc790\ub9bf\uc218\uae4c\uc9c0 \uc22b\uc790\ub97c \ud45c\ud604\ud558\ub294 \uac83\uc774 \ubaa9\uc801\uc774\ub77c\uba74 round()\ub97c \uc0ac\uc6a9\ud558\ub294 \uac83\uc774 \uc544\ub2c8\ub77c \uc11c\uc2dd\ud654\ub97c \uba85\uc2dc\ud558\uae30\ub9cc \ud558\uba74 \ub428"
     ]
    },
    {
     "cell_type": "code",
     "collapsed": false,
     "input": [
      "x = 1.23456"
     ],
     "language": "python",
     "metadata": {},
     "outputs": [],
     "prompt_number": 11
    },
    {
     "cell_type": "code",
     "collapsed": false,
     "input": [
      "format(x, '0.2f')"
     ],
     "language": "python",
     "metadata": {},
     "outputs": [
      {
       "metadata": {},
       "output_type": "pyout",
       "prompt_number": 12,
       "text": [
        "'1.23'"
       ]
      }
     ],
     "prompt_number": 12
    },
    {
     "cell_type": "code",
     "collapsed": false,
     "input": [
      "format(x, '0.3f')"
     ],
     "language": "python",
     "metadata": {},
     "outputs": [
      {
       "metadata": {},
       "output_type": "pyout",
       "prompt_number": 13,
       "text": [
        "'1.235'"
       ]
      }
     ],
     "prompt_number": 13
    },
    {
     "cell_type": "code",
     "collapsed": false,
     "input": [
      "'value is {:0.3f}'.format(x)"
     ],
     "language": "python",
     "metadata": {},
     "outputs": [
      {
       "metadata": {},
       "output_type": "pyout",
       "prompt_number": 14,
       "text": [
        "'value is 1.235'"
       ]
      }
     ],
     "prompt_number": 14
    },
    {
     "cell_type": "markdown",
     "metadata": {},
     "source": [
      "- \ub610\ud55c \uc815\ud655\ub3c4 \ubb38\uc81c\ub97c \"\uc218\uc815\ud558\ub824\uace0\" \ubd80\ub3d9 \uc18c\uc218\uc810\uc744 \ubc18\uc62c\ub9bc\ud558\ub294 \ubc29\ubc95\ub3c4 \uc9c0\uc591"
     ]
    },
    {
     "cell_type": "code",
     "collapsed": false,
     "input": [
      "a = 2.1"
     ],
     "language": "python",
     "metadata": {},
     "outputs": [],
     "prompt_number": 16
    },
    {
     "cell_type": "code",
     "collapsed": false,
     "input": [
      "b = 4.2"
     ],
     "language": "python",
     "metadata": {},
     "outputs": [],
     "prompt_number": 17
    },
    {
     "cell_type": "code",
     "collapsed": false,
     "input": [
      "c = a + b"
     ],
     "language": "python",
     "metadata": {},
     "outputs": [],
     "prompt_number": 18
    },
    {
     "cell_type": "code",
     "collapsed": false,
     "input": [
      "c"
     ],
     "language": "python",
     "metadata": {},
     "outputs": [
      {
       "metadata": {},
       "output_type": "pyout",
       "prompt_number": 19,
       "text": [
        "6.300000000000001"
       ]
      }
     ],
     "prompt_number": 19
    },
    {
     "cell_type": "code",
     "collapsed": false,
     "input": [
      "c = round(c, 2)\n",
      "c"
     ],
     "language": "python",
     "metadata": {},
     "outputs": [
      {
       "metadata": {},
       "output_type": "pyout",
       "prompt_number": 21,
       "text": [
        "6.3"
       ]
      }
     ],
     "prompt_number": 21
    },
    {
     "cell_type": "markdown",
     "metadata": {},
     "source": [
      "- \ubd80\ub3d9 \uc18c\uc218\uc810 \uacc4\uc0b0\uc744 \ud558\ub294 \ub300\ubd80\ubd84\uc758 \uc560\ud50c\ub9ac\ucf00\uc774\uc158\uc5d0\uc11c \uc774\uc640 \uac19\uc740 \ucf54\ub4dc\ub294 \ubd88\ud544\uc694\n",
      "- \uacc4\uc0b0\uc5d0\uc11c \uc791\uc740 \uc624\ub958\uac00 \ubc1c\uc0dd\ud588\uc9c0\ub9cc \uc774 \uc815\ub3c4 \uc624\ub958\ub294 \uc6a9\uc778\ud560 \ub9cc\ud55c \uac83\n",
      "- \ud558\uc9c0\ub9cc \uc774\ub7f0 \uc624\ub958\ub97c \uc808\ub300\uc801\uc73c\ub85c \ud53c\ud574\uc57c \ud55c\ub2e4\uba74(\uae08\uc735 \uc560\ud50c\ub9ac\ucf00\uc774\uc158 \ub4f1) decimal \ubaa8\ub4c8\uc744 \uc0ac\uc6a9\ud558\ub294 \uac83\uc774 \uc88b\ub2e4."
     ]
    },
    {
     "cell_type": "markdown",
     "metadata": {},
     "source": [
      "## 3.2 \uc815\ud655\ud55c 10\uc9c4\uc218 \uacc4\uc0b0\n",
      "\n",
      "### \ubb38\uc81c\n",
      "\n",
      "- \uc815\ud655\ud55c 10\uc9c4\uc218 \uacc4\uc0b0\uc744 \ud574\uc57c \ud558\uace0, \ubd80\ub3d9 \uc18c\uc218\uc810\uc744 \uc0ac\uc6a9\ud560 \ub54c \ubc1c\uc0dd\ud558\ub294 \uc791\uc740 \uc624\ub958\ub97c \ud53c\ud558\uace0 \uc2f6\ub2e4\n",
      "\n",
      "### \ud574\uacb0\n",
      "\n",
      "- \ubd80\ub3d9 \uc18c\uc218\uc810 \uac12\uc5d0\ub294 10\uc9c4\uc218\ub97c \uc544\uc8fc \uc815\ud655\ud788 \ud45c\ud604\ud558\uc9c0 \ubabb\ud55c\ub2e4\ub294 \ubb38\uc81c \ubc1c\uc0dd"
     ]
    },
    {
     "cell_type": "code",
     "collapsed": false,
     "input": [
      "a = 4.2"
     ],
     "language": "python",
     "metadata": {},
     "outputs": [],
     "prompt_number": 22
    },
    {
     "cell_type": "code",
     "collapsed": false,
     "input": [
      "b = 2.1"
     ],
     "language": "python",
     "metadata": {},
     "outputs": [],
     "prompt_number": 23
    },
    {
     "cell_type": "code",
     "collapsed": false,
     "input": [
      "a + b"
     ],
     "language": "python",
     "metadata": {},
     "outputs": [
      {
       "metadata": {},
       "output_type": "pyout",
       "prompt_number": 24,
       "text": [
        "6.300000000000001"
       ]
      }
     ],
     "prompt_number": 24
    },
    {
     "cell_type": "code",
     "collapsed": false,
     "input": [
      "(a + b) == 6.3"
     ],
     "language": "python",
     "metadata": {},
     "outputs": [
      {
       "metadata": {},
       "output_type": "pyout",
       "prompt_number": 25,
       "text": [
        "False"
       ]
      }
     ],
     "prompt_number": 25
    },
    {
     "cell_type": "markdown",
     "metadata": {},
     "source": [
      "- \uc774\ub7f0 \uc624\ub958\ub294 CPU\uc640 IEEE 754\ub85c \ubd80\ub3d9 \uc18c\uc218\uc810 \uc22b\uc790 \uacc4\uc0b0\uc744 \ud560 \ub54c \ud544\uc5f0\uc801\uc73c\ub85c \ubc1c\uc0dd\n",
      "- \ud30c\uc774\uc36c\uc758 \ubd80\ub3d9 \uc18c\uc218\uc810 \uac12\uc774 \ubc14\ub85c \uc774 \ud45c\ud604\uc2dd\uc744 \uc0ac\uc6a9\ud558\uae30 \ub54c\ubb38\uc5d0 float\ub97c \uc0ac\uc6a9\ud574\uc11c\ub294 \uc774 \uc624\ub958\ub97c \ud53c\ud560 \uc218 \uc788\ub294 \ubc29\ubc95\uc774 \uc5c6\ub2e4.\n",
      "- \ud558\uc9c0\ub9cc \uc880 \ub354 \uc815\ud655\ud55c \uacc4\uc0b0\uc744 \ud558\uace0 \uc2f6\ub2e4\uba74(\uc131\ub2a5 \uce21\uba74\uc744 \ud76c\uc0dd\ud560 \uc6a9\uc758\uac00 \uc788\ub2e4\uba74), decimal \ubaa8\ub4c8\uc744 \uc0ac\uc6a9\ud574\uc57c \ud568"
     ]
    },
    {
     "cell_type": "code",
     "collapsed": false,
     "input": [
      "from decimal import Decimal"
     ],
     "language": "python",
     "metadata": {},
     "outputs": [],
     "prompt_number": 26
    },
    {
     "cell_type": "code",
     "collapsed": false,
     "input": [
      "a = Decimal('4.2')"
     ],
     "language": "python",
     "metadata": {},
     "outputs": [],
     "prompt_number": 27
    },
    {
     "cell_type": "code",
     "collapsed": false,
     "input": [
      "b = Decimal('2.1')"
     ],
     "language": "python",
     "metadata": {},
     "outputs": [],
     "prompt_number": 28
    },
    {
     "cell_type": "code",
     "collapsed": false,
     "input": [
      "a + b"
     ],
     "language": "python",
     "metadata": {},
     "outputs": [
      {
       "metadata": {},
       "output_type": "pyout",
       "prompt_number": 29,
       "text": [
        "Decimal('6.3')"
       ]
      }
     ],
     "prompt_number": 29
    },
    {
     "cell_type": "code",
     "collapsed": false,
     "input": [
      "print(a + b)"
     ],
     "language": "python",
     "metadata": {},
     "outputs": [
      {
       "output_type": "stream",
       "stream": "stdout",
       "text": [
        "6.3\n"
       ]
      }
     ],
     "prompt_number": 30
    },
    {
     "cell_type": "code",
     "collapsed": false,
     "input": [
      "(a + b) == Decimal('6.3')"
     ],
     "language": "python",
     "metadata": {},
     "outputs": [
      {
       "metadata": {},
       "output_type": "pyout",
       "prompt_number": 31,
       "text": [
        "True"
       ]
      }
     ],
     "prompt_number": 31
    },
    {
     "cell_type": "code",
     "collapsed": false,
     "input": [
      "(a + b) == 6.3"
     ],
     "language": "python",
     "metadata": {},
     "outputs": [
      {
       "metadata": {},
       "output_type": "pyout",
       "prompt_number": 32,
       "text": [
        "False"
       ]
      }
     ],
     "prompt_number": 32
    },
    {
     "cell_type": "markdown",
     "metadata": {},
     "source": [
      "- \uc22b\uc790\ub97c \ubb38\uc790\uc5f4\ub85c \ud45c\ud604\ud558\ub294 \uc774 \ubaa8\ub4c8\uc774 \uc774\uc0c1\ud558\uac8c \ubcf4\uc77c\uc9c0\ub3c4 \ubaa8\ub974\uaca0\ub2e4.\n",
      "- \ud558\uc9c0\ub9cc Decimal \uac1d\uccb4\ub294 \uc6b0\ub9ac\uac00 \uae30\ub300\ud558\ub294 \ubaa8\ub4e0 \ub3d9\uc791(\uc22b\uc790 \uacc4\uc0b0 \ud3ec\ud568)\uc744 \uc815\ud655\ud788 \uc218\ud589\n",
      "- \ubb38\uc790\uc5f4 \uc11c\uc2dd\ud654 \ud568\uc218\uc5d0 \uc0ac\uc6a9\ud558\uac70\ub098 \ucd9c\ub825\ud558\uba74 \ub9c8\uce58 \uc77c\ubc18\uc801\uc778 \uc22b\uc790\uc778 \uac83\ucc98\ub7fc \ubcf4\uc778\ub2e4.\n",
      "- decimal\uc758 \uc911\uc694\ud55c \uae30\ub2a5\uc73c\ub85c **\ubc18\uc62c\ub9bc\uc758 \uc790\ub9bf\uc218**\uc640 \uac19\uc740 \uacc4\uc0b0\uc801 \uce21\uba74\uc744 \uc870\uc808\ud560 \uc218 \uc788\ub2e4\ub294 \uc810\n",
      "- [\uc5ec\uc790\ub9cc \ubcc0\uc2e0\ud558\ub0d0? \ud30c\uc774\uc36c\ub3c4 \ubcc0\uc2e0\ud574 \ubcf4\uc790!](http://nbviewer.ipython.org/github/re4lfl0w/ipython/blob/master/articles/Transforming_code_into_Beautiful_Idiomatic_Python.ipynb): context\uac00 \ubb54\uc9c0 \uc774\ud574\uac00 \uc548\ub418\uc11c \uac80\uc0c9\ud588\ub354\ub2c8 \ub0b4\uac00 \ubc88\uc5ed\ud55c \ubb38\uc11c\uac00 \ub098\uc624\ub124.. \uadf8\ub54c \uc791\uc131\ud588\uc744 \ub54c\ub294 \ub2e4 \uc774\ud574\ud588\ub2e4\uace0 \uc0dd\uac01\ud588\uc9c0\ub9cc \uadf8\uac8c \uc544\ub2c8\uc5c8\ub2e4!\n"
     ]
    },
    {
     "cell_type": "code",
     "collapsed": false,
     "input": [
      "# context: \ud658\uacbd\uc124\uc815\n",
      "from decimal import localcontext"
     ],
     "language": "python",
     "metadata": {},
     "outputs": [],
     "prompt_number": 33
    },
    {
     "cell_type": "code",
     "collapsed": false,
     "input": [
      "a = Decimal('1.3')"
     ],
     "language": "python",
     "metadata": {},
     "outputs": [],
     "prompt_number": 34
    },
    {
     "cell_type": "code",
     "collapsed": false,
     "input": [
      "b = Decimal('1.7')"
     ],
     "language": "python",
     "metadata": {},
     "outputs": [],
     "prompt_number": 35
    },
    {
     "cell_type": "code",
     "collapsed": false,
     "input": [
      "print(a / b)"
     ],
     "language": "python",
     "metadata": {},
     "outputs": [
      {
       "output_type": "stream",
       "stream": "stdout",
       "text": [
        "0.7647058823529411764705882353\n"
       ]
      }
     ],
     "prompt_number": 36
    },
    {
     "cell_type": "code",
     "collapsed": false,
     "input": [
      "with localcontext() as ctx:\n",
      "    # precision: \uc815\ud655\ub3c4\n",
      "    ctx.prec = 3\n",
      "    print(a / b)"
     ],
     "language": "python",
     "metadata": {},
     "outputs": [
      {
       "output_type": "stream",
       "stream": "stdout",
       "text": [
        "0.765\n"
       ]
      }
     ],
     "prompt_number": 37
    },
    {
     "cell_type": "code",
     "collapsed": false,
     "input": [
      "help(localcontext)"
     ],
     "language": "python",
     "metadata": {},
     "outputs": [
      {
       "output_type": "stream",
       "stream": "stdout",
       "text": [
        "Help on built-in function localcontext in module decimal:\n",
        "\n",
        "localcontext(...)\n",
        "    localcontext(ctx=None) - Return a context manager that will set the default\n",
        "    context to a copy of ctx on entry to the with-statement and restore the\n",
        "    previous default context when exiting the with-statement. If no context is\n",
        "    specified, a copy of the current default context is used.\n",
        "\n"
       ]
      }
     ],
     "prompt_number": 38
    },
    {
     "cell_type": "code",
     "collapsed": false,
     "input": [
      "with localcontext() as ctx:\n",
      "    ctx.prec = 50\n",
      "    print(a / b)"
     ],
     "language": "python",
     "metadata": {},
     "outputs": [
      {
       "output_type": "stream",
       "stream": "stdout",
       "text": [
        "0.76470588235294117647058823529411764705882352941176\n"
       ]
      }
     ],
     "prompt_number": 42
    },
    {
     "cell_type": "markdown",
     "metadata": {},
     "source": [
      "### \ud1a0\ub860\n",
      "\n",
      "- decimal \ubaa8\ub4c8\uc740 IBM\uc758 [\"General Decimal Arithmetic Specification\"](http://speleotrove.com/decimal/decarith.html)\uc744 \uad6c\ud604. \ubb3c\ub860 \uc774 \ucc45\uc5d0\uc11c \ub2e4 \ub2e4\ub8f0 \uc218 \uc5c6\ub294 \ubc29\ub300\ud55c \uc591\uc758 \uc635\uc158\uc774 \uc874\uc7ac\n",
      "- float\uac00 \uc81c\uacf5\ud558\ub294 17\uc790\ub9ac \uc815\ud655\ub3c4\ub85c \ud45c\ud604 \ubabb\ud560 \uac83\uc740 \uc5c6\uc744\uac83. decimal\uc740 \uc18d\ub3c4 \ub290\ub9ac\ub2c8 \ub418\ub3c4\ub85d \uc4f0\uc9c0 \ub9d0\uac83\n",
      "- \uc624\ub958\ub97c \uc644\uc804\ud788 \ubb34\uc2dc\ud560 \uc218\ub294 \uc5c6\ub2e4.\n",
      "- \uc544\uc8fc \ud06c\uace0 \uc791\uc740 \uc22b\uc790\ub97c \ub354\ud560 \ub54c \ubc1c\uc0dd\ud558\ub294 \uc624\ub958\ub3c4 \uc870\uc2ec"
     ]
    },
    {
     "cell_type": "code",
     "collapsed": false,
     "input": [
      "nums = [1.23e+18, 1, -1.23e+18]"
     ],
     "language": "python",
     "metadata": {},
     "outputs": [],
     "prompt_number": 43
    },
    {
     "cell_type": "code",
     "collapsed": false,
     "input": [
      "# 1\uc774 \uc0ac\ub77c\uc9c4\ub2e4.\n",
      "sum(nums)"
     ],
     "language": "python",
     "metadata": {},
     "outputs": [
      {
       "metadata": {},
       "output_type": "pyout",
       "prompt_number": 45,
       "text": [
        "0.0"
       ]
      }
     ],
     "prompt_number": 45
    },
    {
     "cell_type": "code",
     "collapsed": false,
     "input": [
      "nums2 = [1.23e+18, 1]\n",
      "sum(nums2)"
     ],
     "language": "python",
     "metadata": {},
     "outputs": [
      {
       "metadata": {},
       "output_type": "pyout",
       "prompt_number": 46,
       "text": [
        "1.23e+18"
       ]
      }
     ],
     "prompt_number": 46
    },
    {
     "cell_type": "code",
     "collapsed": false,
     "input": [
      "# math.fsum()\uc744 \uc0ac\uc6a9\ud558\uba74 \ub354 \uc815\ud655\ud55c \uacc4\uc0b0\n",
      "import math\n",
      "print(math.fsum(nums))\n",
      "print(math.fsum(nums2))"
     ],
     "language": "python",
     "metadata": {},
     "outputs": [
      {
       "output_type": "stream",
       "stream": "stdout",
       "text": [
        "1.0\n",
        "1.23e+18\n"
       ]
      }
     ],
     "prompt_number": 47
    },
    {
     "cell_type": "markdown",
     "metadata": {},
     "source": [
      "- \ud558\uc9c0\ub9cc \ub610 \ub2e4\ub978 \uc54c\uace0\ub9ac\uc998\uc5d0\uc11c \uc5b4\ub5a4 \uc624\ub958\uac00 \ubc1c\uc0dd\ud560\uc9c0 \uc54c \uc218 \uc5c6\ub294 \ubb38\uc81c\uc774\ubbc0\ub85c \ubbf8\ub9ac\ubbf8\ub9ac \uacf5\ubd80\ud574\uc57c \ud568\n",
      "\n",
      "\n",
      "- decimal \ubaa8\ub4c8\uc744 \uc0ac\uc6a9\ud558\ub294 \uac00\uc7a5 \ud070 \uc774\uc720: \uc5ec\ub7ec \ubb38\uc81c\ub97c \ud53c\ud558\uae30 \uc704\ud574\uc11c\n",
      "  - \uae08\uc735 \ub4f1 \uc22b\uc790 \uacc4\uc0b0\uc744 \ucca0\uc800\ud788 \ud558\ub294 \ud504\ub85c\uadf8\ub7a8\uc5d0\uc11c \uc624\ub958\uac00 \ubc1c\uc0dd\ud558\uba74 \uce58\uba85\uc801\n",
      "- \ub530\ub77c\uc11c \uae08\uc735 \uc560\ud50c\ub9ac\ucf00\uc774\uc158\uc5d0\uc11c\ub294 \ubc18\ub4dc\uc2dc decimal \ubaa8\ub4c8 \uc0ac\uc6a9\n",
      "- \ub610\ud55c \ub370\uc774\ud130\ubca0\uc774\uc2a4\ub97c \ub2e4\ub8e8\ub294 \ud30c\uc774\uc36c \uc778\ud130\ud398\uc774\uc2a4\ub3c4 Decimal \uac1d\uccb4\ub97c \ube48\ubc88\ud558\uac8c \uc0ac\uc6a9"
     ]
    },
    {
     "cell_type": "markdown",
     "metadata": {},
     "source": [
      "## 3.3 \ucd9c\ub825\uc744 \uc704\ud55c \uc22b\uc790 \uc11c\uc2dd\ud654\n",
      "\n",
      "### \ubb38\uc81c\n",
      "\n",
      "- \ucd9c\ub825\uc744 \uc704\ud574 \uc790\ub9bf\uc218, \uc815\ub82c, \ucc9c \ub2e8\uc704 \uad6c\ubd84 \ub4f1 \uc22b\uc790\ub97c \uc11c\uc2dd\ud654\ud558\uace0 \uc2f6\ub2e4.\n",
      "\n",
      "### \ud574\uacb0\n",
      "\n",
      "- \ucd9c\ub825\uc744 \uc704\ud574 \uc22b\uc790\ub97c \uc11c\uc2dd\ud654\ud558\ub824\uba74 \ub0b4\uc7a5 \ud568\uc218\uc778 format()\uc744 \uc0ac\uc6a9"
     ]
    },
    {
     "cell_type": "code",
     "collapsed": false,
     "input": [
      "x = 1234.56789"
     ],
     "language": "python",
     "metadata": {},
     "outputs": [],
     "prompt_number": 48
    },
    {
     "cell_type": "code",
     "collapsed": false,
     "input": [
      "# \uc18c\uc218\uc810 \ub458\uc9f8 \uc790\ub9ac \uc815\ud655\ub3c4\n",
      "format(x, '0.2f')"
     ],
     "language": "python",
     "metadata": {},
     "outputs": [
      {
       "metadata": {},
       "output_type": "pyout",
       "prompt_number": 49,
       "text": [
        "'1234.57'"
       ]
      }
     ],
     "prompt_number": 49
    },
    {
     "cell_type": "code",
     "collapsed": false,
     "input": [
      "# \uc18c\uc218\uc810 \ud55c \uc790\ub9ac \uc815\ud655\ub3c4\ub85c \ubb38\uc790 10\uac1c \uae30\uc900 \uc624\ub978\ucabd\uc5d0\uc11c \uc815\ub82c\n",
      "format(x, '>10.1f')"
     ],
     "language": "python",
     "metadata": {},
     "outputs": [
      {
       "metadata": {},
       "output_type": "pyout",
       "prompt_number": 50,
       "text": [
        "'    1234.6'"
       ]
      }
     ],
     "prompt_number": 50
    },
    {
     "cell_type": "code",
     "collapsed": false,
     "input": [
      "# \uc67c\ucabd\uc5d0\uc11c \uc815\ub82c\n",
      "format(x, '<10.1f')"
     ],
     "language": "python",
     "metadata": {},
     "outputs": [
      {
       "metadata": {},
       "output_type": "pyout",
       "prompt_number": 51,
       "text": [
        "'1234.6    '"
       ]
      }
     ],
     "prompt_number": 51
    },
    {
     "cell_type": "code",
     "collapsed": false,
     "input": [
      "# \uac00\uc6b4\ub370 \uc815\ub82c\n",
      "format(x, '^10.1f')"
     ],
     "language": "python",
     "metadata": {},
     "outputs": [
      {
       "metadata": {},
       "output_type": "pyout",
       "prompt_number": 52,
       "text": [
        "'  1234.6  '"
       ]
      }
     ],
     "prompt_number": 52
    },
    {
     "cell_type": "code",
     "collapsed": false,
     "input": [
      "# \ucc9c \ub2e8\uc704 \uad6c\ubd84\uc790 \ub123\uae30\n",
      "format(x, ',')"
     ],
     "language": "python",
     "metadata": {},
     "outputs": [
      {
       "metadata": {},
       "output_type": "pyout",
       "prompt_number": 53,
       "text": [
        "'1,234.56789'"
       ]
      }
     ],
     "prompt_number": 53
    },
    {
     "cell_type": "code",
     "collapsed": false,
     "input": [
      "format(x, '0,.1f')"
     ],
     "language": "python",
     "metadata": {},
     "outputs": [
      {
       "metadata": {},
       "output_type": "pyout",
       "prompt_number": 54,
       "text": [
        "'1,234.6'"
       ]
      }
     ],
     "prompt_number": 54
    },
    {
     "cell_type": "markdown",
     "metadata": {},
     "source": [
      "- \uc9c0\uc218 \ud45c\ud604\ubc95\uc744 \uc0ac\uc6a9\ud558\ub824\uba74 f\ub098 e\ub098 E\ub85c \ubc14\uafb8\uba74 \ub428"
     ]
    },
    {
     "cell_type": "code",
     "collapsed": false,
     "input": [
      "format(x, 'e')"
     ],
     "language": "python",
     "metadata": {},
     "outputs": [
      {
       "metadata": {},
       "output_type": "pyout",
       "prompt_number": 55,
       "text": [
        "'1.234568e+03'"
       ]
      }
     ],
     "prompt_number": 55
    },
    {
     "cell_type": "code",
     "collapsed": false,
     "input": [
      "format(x, '0.2E')"
     ],
     "language": "python",
     "metadata": {},
     "outputs": [
      {
       "metadata": {},
       "output_type": "pyout",
       "prompt_number": 56,
       "text": [
        "'1.23E+03'"
       ]
      }
     ],
     "prompt_number": 56
    },
    {
     "cell_type": "markdown",
     "metadata": {},
     "source": [
      "- \ub108\ube44\uc640 \uc790\ub9bf\uc218\ub97c \ub098\ud0c0\ub0b4\ub294 \uc77c\ubc18\uc801\uc778 \ud615\uc2dd\uc740 '[<>^]?\ub108\ube44[,]?(.\uc790\ub9bf\uc218)?'\uc774\ub2e4.\n",
      "- \uc774\ub54c \ub108\ube44\uc640 \uc790\ub9bf\uc218\ub294 \uc815\uc218\ud615\uc73c\ub85c \ud45c\uc2dc\ud558\uace0 ?\ub294 \uc120\ud0dd\uc0ac\ud56d\uc784\uc744 \uc758\ubbf8\n",
      "- .format() \uba54\uc18c\ub4dc\uc5d0\ub3c4 \ub3d9\uc77c\ud55c \uc11c\uc2dd\uc744 \uc0ac\uc6a9"
     ]
    },
    {
     "cell_type": "code",
     "collapsed": false,
     "input": [
      "'The value is {:0,.2f}'.format(x)"
     ],
     "language": "python",
     "metadata": {},
     "outputs": [
      {
       "metadata": {},
       "output_type": "pyout",
       "prompt_number": 57,
       "text": [
        "'The value is 1,234.57'"
       ]
      }
     ],
     "prompt_number": 57
    },
    {
     "cell_type": "code",
     "collapsed": false,
     "input": [
      "'The value is {:0.2f}'.format(x)"
     ],
     "language": "python",
     "metadata": {},
     "outputs": [
      {
       "metadata": {},
       "output_type": "pyout",
       "prompt_number": 58,
       "text": [
        "'The value is 1234.57'"
       ]
      }
     ],
     "prompt_number": 58
    },
    {
     "cell_type": "markdown",
     "metadata": {},
     "source": [
      "### \ud1a0\ub860\n",
      "\n",
      "- \ucd9c\ub825\uc744 \uc704\ud55c \uc22b\uc790 \uc11c\uc2dd\ud654\ub294 \ub301 \uac04\ub2e8\n",
      "- \uc55e\uc5d0 \uc18c\uac1c\ud55c \uae30\uc220\uc740 \ubd80\ub3d9 \uc18c\uc218\uc810 \uac12\uacfc decimal \ubaa8\ub4c8\uc758 \uc22b\uc790\uc5d0 \ubaa8\ub450 \uc798 \ub3d9\uc791\n",
      "- \uc790\ub9bf\uc218\ub97c \uc81c\ud55c\ud558\uba74 round() \ud568\uc218\uc640 \ub3d9\uc77c\ud55c \uaddc\uce59\uc73c\ub85c \ubc18\uc62c\ub9bc"
     ]
    },
    {
     "cell_type": "code",
     "collapsed": false,
     "input": [
      "x"
     ],
     "language": "python",
     "metadata": {},
     "outputs": [
      {
       "metadata": {},
       "output_type": "pyout",
       "prompt_number": 59,
       "text": [
        "1234.56789"
       ]
      }
     ],
     "prompt_number": 59
    },
    {
     "cell_type": "code",
     "collapsed": false,
     "input": [
      "format(x, '0.1f')"
     ],
     "language": "python",
     "metadata": {},
     "outputs": [
      {
       "metadata": {},
       "output_type": "pyout",
       "prompt_number": 60,
       "text": [
        "'1234.6'"
       ]
      }
     ],
     "prompt_number": 60
    },
    {
     "cell_type": "code",
     "collapsed": false,
     "input": [
      "format(-x, '0.1f')"
     ],
     "language": "python",
     "metadata": {},
     "outputs": [
      {
       "metadata": {},
       "output_type": "pyout",
       "prompt_number": 61,
       "text": [
        "'-1234.6'"
       ]
      }
     ],
     "prompt_number": 61
    },
    {
     "cell_type": "markdown",
     "metadata": {},
     "source": [
      "- \ucc9c \ub2e8\uc704 \uad6c\ubd84\uc790\ub294 \uc9c0\uc5ed \ud45c\uae30\ubc95\uc744 \ub530\ub974\uc9c0 \uc54a\ub294\ub2e4.\n",
      "- \uc774\ub97c \uc5fc\ub450\uc5d0 \ub454\ub2e4\uba74 locale \ubaa8\ub4c8\uc758 \ud568\uc218\ub97c \uc0ac\uc6a9\ud574\uc57c \ud568\n",
      "- \ubb38\uc790\uc5f4\uc758 translate() \uba54\uc18c\ub4dc\ub97c \uc0ac\uc6a9\ud558\uba74 \uad6c\ubd84\uc790 \ubb38\uc790\ub97c \ubcc0\uacbd\ud560 \uc218\ub3c4 \uc788\uc74c"
     ]
    },
    {
     "cell_type": "code",
     "collapsed": false,
     "input": [
      "swap_separators = { ord('.'):',', \n",
      "                    ord(','):'.' }"
     ],
     "language": "python",
     "metadata": {},
     "outputs": [],
     "prompt_number": 64
    },
    {
     "cell_type": "code",
     "collapsed": false,
     "input": [
      "format(x, ',').translate(swap_separators)"
     ],
     "language": "python",
     "metadata": {},
     "outputs": [
      {
       "metadata": {},
       "output_type": "pyout",
       "prompt_number": 65,
       "text": [
        "'1.234,56789'"
       ]
      }
     ],
     "prompt_number": 65
    },
    {
     "cell_type": "code",
     "collapsed": false,
     "input": [
      "'%0.2f' % x"
     ],
     "language": "python",
     "metadata": {},
     "outputs": [
      {
       "metadata": {},
       "output_type": "pyout",
       "prompt_number": 66,
       "text": [
        "'1234.57'"
       ]
      }
     ],
     "prompt_number": 66
    },
    {
     "cell_type": "code",
     "collapsed": false,
     "input": [
      "'%10.1f' % x"
     ],
     "language": "python",
     "metadata": {},
     "outputs": [
      {
       "metadata": {},
       "output_type": "pyout",
       "prompt_number": 67,
       "text": [
        "'    1234.6'"
       ]
      }
     ],
     "prompt_number": 67
    },
    {
     "cell_type": "code",
     "collapsed": false,
     "input": [
      "'%-10.1f' % x"
     ],
     "language": "python",
     "metadata": {},
     "outputs": [
      {
       "metadata": {},
       "output_type": "pyout",
       "prompt_number": 68,
       "text": [
        "'1234.6    '"
       ]
      }
     ],
     "prompt_number": 68
    },
    {
     "cell_type": "markdown",
     "metadata": {},
     "source": [
      "- \uc774 \ubc29\uc2dd\uc744 \uc0ac\uc6a9\ud574\ub3c4 \uad1c\ucc2e\uc9c0\ub9cc format()\uc744 \uc0ac\uc6a9\ud558\ub294 \uac83\ub9cc\ud07c \uae30\ub2a5\uc774 \ub9ce\uc9c0\ub294 \uc54a\uc74c\n",
      "- \uc608\ub97c \ub4e4\uc5b4 \ucc9c \ub2e8\uc704 \uad6c\ubd84\uc790\ub97c \ub123\ub294 \ub4f1\uc758 \uae30\ub2a5\uc740 %\uc5f0\uc0b0\uc790\uac00 \uc9c0\uc6d0\ud558\uc9c0 \uc54a\uc74c"
     ]
    },
    {
     "cell_type": "markdown",
     "metadata": {},
     "source": [
      "## 3.4 2\uc9c4\uc218, 8\uc9c4\uc218, 16\uc9c4\uc218 \uc791\uc5c5\n",
      "\n",
      "### \ubb38\uc81c\n",
      "\n",
      "- \uc22b\uc790\ub97c 2\uc9c4\uc218, 8\uc9c4\uc218, 16\uc9c4\uc218\ub85c \ucd9c\ub825\ud574\uc57c \ud55c\ub2e4.\n",
      "\n",
      "### \ud574\uacb0\n",
      "\n",
      "- \uc815\uc218 -> 2\uc9c4\uc218: bin()\n",
      "- 8\uc9c4\uc218 -> oct()\n",
      "- 16\uc9c4\uc218 -> hex()"
     ]
    },
    {
     "cell_type": "code",
     "collapsed": false,
     "input": [
      "x = 1234"
     ],
     "language": "python",
     "metadata": {},
     "outputs": [],
     "prompt_number": 69
    },
    {
     "cell_type": "code",
     "collapsed": false,
     "input": [
      "bin(x)"
     ],
     "language": "python",
     "metadata": {},
     "outputs": [
      {
       "metadata": {},
       "output_type": "pyout",
       "prompt_number": 70,
       "text": [
        "'0b10011010010'"
       ]
      }
     ],
     "prompt_number": 70
    },
    {
     "cell_type": "code",
     "collapsed": false,
     "input": [
      "oct(x)"
     ],
     "language": "python",
     "metadata": {},
     "outputs": [
      {
       "metadata": {},
       "output_type": "pyout",
       "prompt_number": 71,
       "text": [
        "'0o2322'"
       ]
      }
     ],
     "prompt_number": 71
    },
    {
     "cell_type": "code",
     "collapsed": false,
     "input": [
      "hex(x)"
     ],
     "language": "python",
     "metadata": {},
     "outputs": [
      {
       "metadata": {},
       "output_type": "pyout",
       "prompt_number": 72,
       "text": [
        "'0x4d2'"
       ]
      }
     ],
     "prompt_number": 72
    },
    {
     "cell_type": "markdown",
     "metadata": {},
     "source": [
      "- \uc55e\uc5d0 0b, 0o, 0x\uac00 \ubd99\ub294 \uac83\uc774 \uc2eb\uc73c\uba74 format() \ud568\uc218\ub97c \uc0ac\uc6a9\ud574\ub3c4 \ub428"
     ]
    },
    {
     "cell_type": "code",
     "collapsed": false,
     "input": [
      "format(x, 'b')"
     ],
     "language": "python",
     "metadata": {},
     "outputs": [
      {
       "metadata": {},
       "output_type": "pyout",
       "prompt_number": 73,
       "text": [
        "'10011010010'"
       ]
      }
     ],
     "prompt_number": 73
    },
    {
     "cell_type": "code",
     "collapsed": false,
     "input": [
      "format(x, 'o')"
     ],
     "language": "python",
     "metadata": {},
     "outputs": [
      {
       "metadata": {},
       "output_type": "pyout",
       "prompt_number": 74,
       "text": [
        "'2322'"
       ]
      }
     ],
     "prompt_number": 74
    },
    {
     "cell_type": "code",
     "collapsed": false,
     "input": [
      "format(x, 'x')"
     ],
     "language": "python",
     "metadata": {},
     "outputs": [
      {
       "metadata": {},
       "output_type": "pyout",
       "prompt_number": 75,
       "text": [
        "'4d2'"
       ]
      }
     ],
     "prompt_number": 75
    },
    {
     "cell_type": "markdown",
     "metadata": {},
     "source": [
      "- \uc815\uc218\ud615\uc740 \ubd80\ud638\uac00 \uc788\ub294 \uc22b\uc790\uc774\ubbc0\ub85c, \uc74c\uc218\ub97c \uc0ac\uc6a9\ud558\uba74 \uacb0\uacfc\ubb3c\uc5d0\ub3c4 \ubd80\ud638\uac00 \ubd99\ub294\ub2e4."
     ]
    },
    {
     "cell_type": "code",
     "collapsed": false,
     "input": [
      "x = -1234"
     ],
     "language": "python",
     "metadata": {},
     "outputs": [],
     "prompt_number": 76
    },
    {
     "cell_type": "code",
     "collapsed": false,
     "input": [
      "format(x, 'b')"
     ],
     "language": "python",
     "metadata": {},
     "outputs": [
      {
       "metadata": {},
       "output_type": "pyout",
       "prompt_number": 77,
       "text": [
        "'-10011010010'"
       ]
      }
     ],
     "prompt_number": 77
    },
    {
     "cell_type": "code",
     "collapsed": false,
     "input": [
      "format(x, 'x')"
     ],
     "language": "python",
     "metadata": {},
     "outputs": [
      {
       "metadata": {},
       "output_type": "pyout",
       "prompt_number": 78,
       "text": [
        "'-4d2'"
       ]
      }
     ],
     "prompt_number": 78
    },
    {
     "cell_type": "markdown",
     "metadata": {},
     "source": [
      "- \ubd80\ud638\uac00 \uc5c6\ub294 \uac12\uc744 \uc0ac\uc6a9\ud558\ub824\uba74 maximum\uc744 \ub354\ud574\uc11c \ube44\ud2b8 \uae38\uc774\ub97c \uc124\uc800\uc560\ud5a5 \ud568\n",
      "- \uc608\ub97c \ub4e4\uc5b4 32\ube44\ud2b8 \uac12\uc744 \ubcf4\uc5ec\uc8fc\ub824\uba74"
     ]
    },
    {
     "cell_type": "code",
     "collapsed": false,
     "input": [
      "x = -1234"
     ],
     "language": "python",
     "metadata": {},
     "outputs": [],
     "prompt_number": 79
    },
    {
     "cell_type": "code",
     "collapsed": false,
     "input": [
      "format(2**32, 'b')"
     ],
     "language": "python",
     "metadata": {},
     "outputs": [
      {
       "metadata": {},
       "output_type": "pyout",
       "prompt_number": 80,
       "text": [
        "'100000000000000000000000000000000'"
       ]
      }
     ],
     "prompt_number": 80
    },
    {
     "cell_type": "code",
     "collapsed": false,
     "input": [
      "format(2**32 + x, 'b')"
     ],
     "language": "python",
     "metadata": {},
     "outputs": [
      {
       "metadata": {},
       "output_type": "pyout",
       "prompt_number": 81,
       "text": [
        "'11111111111111111111101100101110'"
       ]
      }
     ],
     "prompt_number": 81
    },
    {
     "cell_type": "code",
     "collapsed": false,
     "input": [
      "format(2**32 + x, 'x')"
     ],
     "language": "python",
     "metadata": {},
     "outputs": [
      {
       "metadata": {},
       "output_type": "pyout",
       "prompt_number": 82,
       "text": [
        "'fffffb2e'"
       ]
      }
     ],
     "prompt_number": 82
    },
    {
     "cell_type": "markdown",
     "metadata": {},
     "source": [
      "- \ub2e4\ub978 \uc9c4\ubc95\uc758 \uc22b\uc790\ub97c \uc815\uc218\ud615\uc73c\ub85c \ubcc0\ud658\ud558\ub824\uba74 int() \ud568\uc218\uc5d0 \uc801\uc808\ud55c \uc778\uc218 \uc804\ub2ec"
     ]
    },
    {
     "cell_type": "code",
     "collapsed": false,
     "input": [
      "int('4d2', 16)"
     ],
     "language": "python",
     "metadata": {},
     "outputs": [
      {
       "metadata": {},
       "output_type": "pyout",
       "prompt_number": 83,
       "text": [
        "1234"
       ]
      }
     ],
     "prompt_number": 83
    },
    {
     "cell_type": "code",
     "collapsed": false,
     "input": [
      "int('10011010010', 2)"
     ],
     "language": "python",
     "metadata": {},
     "outputs": [
      {
       "metadata": {},
       "output_type": "pyout",
       "prompt_number": 84,
       "text": [
        "1234"
       ]
      }
     ],
     "prompt_number": 84
    },
    {
     "cell_type": "markdown",
     "metadata": {},
     "source": [
      "### \ud1a0\ub860\n",
      "\n",
      "- 2\uc9c4\uc218, 8\uc9c4\uc218, 16\uc9c4\uc218 \ubcc0\ud658\uc740 \ub300\uac1c \uac04\ub2e8\ud788 \ud574\uacb0\n",
      "- \uc22b\uc790\uc640 \ubb38\uc790 \ud45c\ud604\uc2dd \uc0ac\uc774\uc758 \ubcc0\ud658\uc744 \u315c\uc774\ud574 \uc774\ub7ec\ud55c \ubcc0\ud658\ubc95\uc774 \uc874\uc7ac\ud55c\ub2e4\ub294 \uc810\ub9cc \uae30\uc5b5\n",
      "- \uae30\ubcf8\uc801\uc73c\ub85c\ub294 \ubaa8\ub450 \ub2e8\uc77c \uc815\uc218\ud615\n",
      "- 8\uc9c4\ubc95\uc744 \uc0ac\uc6a9\ud560 \ub54c\ub294 \ud504\ub85c\uadf8\ub798\uba38 \uc8fc\uc758"
     ]
    },
    {
     "cell_type": "code",
     "collapsed": false,
     "input": [
      "import os"
     ],
     "language": "python",
     "metadata": {},
     "outputs": [],
     "prompt_number": 85
    },
    {
     "cell_type": "code",
     "collapsed": false,
     "input": [
      "!touch 03/test.txt"
     ],
     "language": "python",
     "metadata": {},
     "outputs": [],
     "prompt_number": 86
    },
    {
     "cell_type": "code",
     "collapsed": false,
     "input": [
      "os.chmod('./03/test.txt', 0755)"
     ],
     "language": "python",
     "metadata": {},
     "outputs": [
      {
       "ename": "SyntaxError",
       "evalue": "invalid token (<ipython-input-87-0ddc7745ffdf>, line 1)",
       "output_type": "pyerr",
       "traceback": [
        "\u001b[0;36m  File \u001b[0;32m\"<ipython-input-87-0ddc7745ffdf>\"\u001b[0;36m, line \u001b[0;32m1\u001b[0m\n\u001b[0;31m    os.chmod('./03/test.txt', 0755)\u001b[0m\n\u001b[0m                                 ^\u001b[0m\n\u001b[0;31mSyntaxError\u001b[0m\u001b[0;31m:\u001b[0m invalid token\n"
       ]
      }
     ],
     "prompt_number": 87
    },
    {
     "cell_type": "code",
     "collapsed": false,
     "input": [
      "os.chmod('./03/test.txt', 0o755)"
     ],
     "language": "python",
     "metadata": {},
     "outputs": [],
     "prompt_number": 88
    },
    {
     "cell_type": "code",
     "collapsed": false,
     "input": [
      "!ls -l 03/test.txt"
     ],
     "language": "python",
     "metadata": {},
     "outputs": [
      {
       "output_type": "stream",
       "stream": "stdout",
       "text": [
        "-rwxr-xr-x  1 re4lfl0w  staff  0 10  4 03:34 \u001b[31m03/test.txt\u001b[m\u001b[m\r\n"
       ]
      }
     ],
     "prompt_number": 89
    },
    {
     "cell_type": "markdown",
     "metadata": {},
     "source": [
      "## 3.5 \ubc14\uc774\ud2b8\uc5d0\uc11c \ud070 \uc22b\uc790\ub97c \ud328\ud0b9/\uc5b8\ud328\ud0b9\n",
      "\n",
      "### \ubb38\uc81c\n",
      "\n",
      "- \ubc14\uc774\ud2b8 \ubb38\uc790\uc5f4\uc744 unpacking \ud574\uc11c \uc815\uc218\uac12\uc73c\ub85c \ub9cc\ub4e4\uc5b4\uc57c \ud568\n",
      "- \ub9e4\uc6b0 \ud070 \uc815\uc218\uac12\uc744 \ubc14\uc774\ud2b8 \ubb38\uc790\uc5f4\ub85c \ubcc0\ud658\ud574\uc57c \ud568\n",
      "\n",
      "### \ud574\uacb0\n",
      "\n",
      "- \ud504\ub85c\uadf8\ub7a8\uc5d0\uc11c 128\ube44\ud2b8 \uc815\uc218\uac12\uc744 \ub2f4\uc744 \uc218 \uc788\ub294 \uae38\uc774 16\ubc14\uc774\ud2b8 \ubb38\uc790\uc5f4\uc744 \ub2e4\ub8e8\uc5b4\uc57c \ud55c\ub2e4\uace0 \uac00\uc815"
     ]
    },
    {
     "cell_type": "code",
     "collapsed": false,
     "input": [
      "data = b'\\x00\\x124V\\x00x\\x90\\xab\\x00\\xcd\\xef\\x01\\x00#\\x004'"
     ],
     "language": "python",
     "metadata": {},
     "outputs": [],
     "prompt_number": 101
    },
    {
     "cell_type": "markdown",
     "metadata": {},
     "source": [
      "- \ubc14\uc774\ud2b8\ub97c \uc815\uc218\ud615\uc73c\ub85c \ubcc0\ud658\ud558\ub824\uba74 int.from_bytes() \uc0ac\uc6a9\ud558\uace0 \ubc14\uc774\ud2b8 \uc21c\uc11c\ub97c \uba85\uc2dc"
     ]
    },
    {
     "cell_type": "code",
     "collapsed": false,
     "input": [
      "len(data)"
     ],
     "language": "python",
     "metadata": {},
     "outputs": [
      {
       "metadata": {},
       "output_type": "pyout",
       "prompt_number": 102,
       "text": [
        "16"
       ]
      }
     ],
     "prompt_number": 102
    },
    {
     "cell_type": "code",
     "collapsed": false,
     "input": [
      "int.from_bytes(data, 'little')"
     ],
     "language": "python",
     "metadata": {},
     "outputs": [
      {
       "metadata": {},
       "output_type": "pyout",
       "prompt_number": 103,
       "text": [
        "69120565665751139577663547927094891008"
       ]
      }
     ],
     "prompt_number": 103
    },
    {
     "cell_type": "code",
     "collapsed": false,
     "input": [
      "int.from_bytes(data, 'big')"
     ],
     "language": "python",
     "metadata": {},
     "outputs": [
      {
       "metadata": {},
       "output_type": "pyout",
       "prompt_number": 104,
       "text": [
        "94522842520747284487117727783387188"
       ]
      }
     ],
     "prompt_number": 104
    },
    {
     "cell_type": "markdown",
     "metadata": {},
     "source": [
      "- \ud070 \uc815\uc218\uac12\uc744 \ubc14\uc774\ud2b8 \ubb38\uc790\uc5f4\ub85c \ubcc0\ud658\ud558\ub824\uba74 int.to_bytes() \uba54\uc18c\ub4dc\ub97c \uc0ac\uc6a9\ud558\uace0, \ubc14\uc774\ud2b8 \uae38\uc774\uc640 \uc21c\uc11c\ub97c \uba85\uc2dc\ud55c\ub2e4."
     ]
    },
    {
     "cell_type": "code",
     "collapsed": false,
     "input": [
      "x = 94522842520747284487117727783387188"
     ],
     "language": "python",
     "metadata": {},
     "outputs": [],
     "prompt_number": 105
    },
    {
     "cell_type": "code",
     "collapsed": false,
     "input": [
      "x.to_bytes(16, 'big')"
     ],
     "language": "python",
     "metadata": {},
     "outputs": [
      {
       "metadata": {},
       "output_type": "pyout",
       "prompt_number": 106,
       "text": [
        "b'\\x00\\x124V\\x00x\\x90\\xab\\x00\\xcd\\xef\\x01\\x00#\\x004'"
       ]
      }
     ],
     "prompt_number": 106
    },
    {
     "cell_type": "code",
     "collapsed": false,
     "input": [
      "x.to_bytes(16, 'little')"
     ],
     "language": "python",
     "metadata": {},
     "outputs": [
      {
       "metadata": {},
       "output_type": "pyout",
       "prompt_number": 107,
       "text": [
        "b'4\\x00#\\x00\\x01\\xef\\xcd\\x00\\xab\\x90x\\x00V4\\x12\\x00'"
       ]
      }
     ],
     "prompt_number": 107
    },
    {
     "cell_type": "markdown",
     "metadata": {},
     "source": [
      "### \ud1a0\ub860\n",
      "\n",
      "- \uc815\uc218\ud615 \uac12\uacfc \ubc14\uc774\ud2b8 \ubb38\uc790\uc5f4 \uac04\uc758 \ubcc0\ud658\uc740 \uc77c\ubc18\uc801\uc778 \uc791\uc5c5\uc774 \uc544\ub2c8\ub2e4. \ud558\uc9c0\ub9cc \ub124\ud2b8\uc6cc\ud06c\ub098 \uc554\ud638\ud654\uac00 \ud544\uc694\ud55c \ud2b9\uc815 \uc560\ud50c\ub9ac\ucf00\uc774\uc158\uc5d0\uc11c \uc0ac\uc6a9\ud558\ub294 \uacbd\uc6b0\uac00 \uc874\uc7ac\n",
      "- \uc608\ub97c \ub4e4\uc5b4 IPv6 \ub124\ud2b8\uc6cc\ud06c \uc8fc\uc18c\ub294 128\ube44\ud2b8 \uc815\uc218\ud615\uc73c\ub85c \ud45c\uc2dc\ub428\n",
      "- \uc774 \uac12\uc744 \ub370\uc774\ud130 \ub808\ucf54\ub4dc\uc5d0\uc11c \ucd94\ucd9c\ud558\ub294 \ucf54\ub4dc\ub97c \uc791\uc131\ud55c\ub2e4\uba74 \uc55e\uc5d0 \ub098\uc628 \uae30\uc220\uc744 \uc0ac\uc6a9\ud574\uc57c \ud568\n",
      "- \ub808\uc2dc\ud53c 6.11\uc5d0 \ub098\uc624\ub294 struct \ubaa8\ub4c8\uc744 \uc0ac\uc6a9\ud560 \uc218\ub3c4 \uc788\uc74c. \uc774 \ubc29\uc2dd\ub3c4 \uc798 \ub3d9\uc791\ud558\uc9c0\ub9cc, struct\ub85c \uc5b8\ud328\ud0b9\ud560 \uc218 \uc788\ub294 \uc815\uc218\ud615\uc758 \ud06c\uae30\uac00 \uc81c\ud55c\uc801. \ub530\ub77c\uc11c \uc5b8\ud329\uc744 \uc5ec\ub7ec \ubc88\ud558\uace0 \uacb0\uacfc \uac12\uc744 \ud569\uccd0\uc57c \ud568"
     ]
    },
    {
     "cell_type": "code",
     "collapsed": false,
     "input": [
      "data"
     ],
     "language": "python",
     "metadata": {},
     "outputs": [
      {
       "metadata": {},
       "output_type": "pyout",
       "prompt_number": 108,
       "text": [
        "b'\\x00\\x124V\\x00x\\x90\\xab\\x00\\xcd\\xef\\x01\\x00#\\x004'"
       ]
      }
     ],
     "prompt_number": 108
    },
    {
     "cell_type": "code",
     "collapsed": false,
     "input": [
      "import struct"
     ],
     "language": "python",
     "metadata": {},
     "outputs": [],
     "prompt_number": 109
    },
    {
     "cell_type": "code",
     "collapsed": false,
     "input": [
      "hi, lo = struct.unpack('>QQ', data)"
     ],
     "language": "python",
     "metadata": {},
     "outputs": [],
     "prompt_number": 110
    },
    {
     "cell_type": "code",
     "collapsed": false,
     "input": [
      "(hi << 64) + lo"
     ],
     "language": "python",
     "metadata": {},
     "outputs": [
      {
       "metadata": {},
       "output_type": "pyout",
       "prompt_number": 111,
       "text": [
        "94522842520747284487117727783387188"
       ]
      }
     ],
     "prompt_number": 111
    },
    {
     "cell_type": "markdown",
     "metadata": {},
     "source": [
      "- \ubc14\uc774\ud2b8 \uc21c\uc11c\ub294(little \ub610\ub294 big)\ub294 \uc815\uc218\ud615\uc744 \uc774\ub8e8\ub294 \ubc14\uc774\ud2b8\uac00 \uac00\uc7a5 \uc791\uc740 \uac83\ubd80\ud130 \ud45c\uc2dc\ub418\uc5c8\ub294\uc9c0 \ud639\uc740 \uac00\uc7a5 \ud070 \uac83\ubd80\ud130 \ud45c\uc2dc\ub418\uc5c8\ub294\uc9c0\ub97c \ub098\ud0c0\ub0c4\n",
      "- 16\uc9c4\uc218 \uac12\uc744 \uc0ac\uc6a9\ud574\uc11c \uc774\uc5d0 \ub300\ud55c \uc608\ub97c \ub4e4\uc5c8\ub2e4."
     ]
    },
    {
     "cell_type": "code",
     "collapsed": false,
     "input": [
      "x = 0x01020304"
     ],
     "language": "python",
     "metadata": {},
     "outputs": [],
     "prompt_number": 114
    },
    {
     "cell_type": "code",
     "collapsed": false,
     "input": [
      "x.to_bytes(4, 'big')"
     ],
     "language": "python",
     "metadata": {},
     "outputs": [
      {
       "metadata": {},
       "output_type": "pyout",
       "prompt_number": 115,
       "text": [
        "b'\\x01\\x02\\x03\\x04'"
       ]
      }
     ],
     "prompt_number": 115
    },
    {
     "cell_type": "code",
     "collapsed": false,
     "input": [
      "x.to_bytes(4, 'little')"
     ],
     "language": "python",
     "metadata": {},
     "outputs": [
      {
       "metadata": {},
       "output_type": "pyout",
       "prompt_number": 116,
       "text": [
        "b'\\x04\\x03\\x02\\x01'"
       ]
      }
     ],
     "prompt_number": 116
    },
    {
     "cell_type": "markdown",
     "metadata": {},
     "source": [
      "- \uc815\uc218\ud615 \uac12\uc744 \ubc14\uc774\ud2b8 \ubb38\uc790\uc5f4\ub85c \ubcc0\ud658\ud558\ub824\ub294\ub370 \uc9c0\uc815\ud55c \uae38\uc774\uc5d0 \ub2e4 \ub4e4\uc5b4\uac00\uc9c0 \uc54a\ub294 \uacbd\uc6b0\uc5d0\ub294 \uc5d0\ub7ec\uac00 \ubc1c\uc0dd\n",
      "- \uc774\ub97c \ubc29\uc9c0\ud558\uae30 \uc704\ud574\uc11c int.bit_length() \uba54\uc18c\ub4dc\ub85c \uc5bc\ub9c8\ub098 \ub9ce\uc740 \ube44\ud2b8\uac00 \ud544\uc694\ud55c\uc9c0 \ubbf8\ub9ac \uac80\uc0ac\ud560 \uc218 \uc788\uc74c"
     ]
    },
    {
     "cell_type": "code",
     "collapsed": false,
     "input": [
      "x = 523 ** 23"
     ],
     "language": "python",
     "metadata": {},
     "outputs": [],
     "prompt_number": 117
    },
    {
     "cell_type": "code",
     "collapsed": false,
     "input": [
      "x"
     ],
     "language": "python",
     "metadata": {},
     "outputs": [
      {
       "metadata": {},
       "output_type": "pyout",
       "prompt_number": 118,
       "text": [
        "335381300113661875107536852714019056160355655333978849017944067"
       ]
      }
     ],
     "prompt_number": 118
    },
    {
     "cell_type": "code",
     "collapsed": false,
     "input": [
      "x.to_bytes(16, 'little')"
     ],
     "language": "python",
     "metadata": {},
     "outputs": [
      {
       "ename": "OverflowError",
       "evalue": "int too big to convert",
       "output_type": "pyerr",
       "traceback": [
        "\u001b[0;31m---------------------------------------------------------------------------\u001b[0m\n\u001b[0;31mOverflowError\u001b[0m                             Traceback (most recent call last)",
        "\u001b[0;32m<ipython-input-119-dcbe82b381e5>\u001b[0m in \u001b[0;36m<module>\u001b[0;34m()\u001b[0m\n\u001b[0;32m----> 1\u001b[0;31m \u001b[0mx\u001b[0m\u001b[0;34m.\u001b[0m\u001b[0mto_bytes\u001b[0m\u001b[0;34m(\u001b[0m\u001b[0;36m16\u001b[0m\u001b[0;34m,\u001b[0m \u001b[0;34m'little'\u001b[0m\u001b[0;34m)\u001b[0m\u001b[0;34m\u001b[0m\u001b[0m\n\u001b[0m",
        "\u001b[0;31mOverflowError\u001b[0m: int too big to convert"
       ]
      }
     ],
     "prompt_number": 119
    },
    {
     "cell_type": "code",
     "collapsed": false,
     "input": [
      "x.bit_length()"
     ],
     "language": "python",
     "metadata": {},
     "outputs": [
      {
       "metadata": {},
       "output_type": "pyout",
       "prompt_number": 120,
       "text": [
        "208"
       ]
      }
     ],
     "prompt_number": 120
    },
    {
     "cell_type": "code",
     "collapsed": false,
     "input": [
      "help(divmod)"
     ],
     "language": "python",
     "metadata": {},
     "outputs": [
      {
       "output_type": "stream",
       "stream": "stdout",
       "text": [
        "Help on built-in function divmod in module builtins:\n",
        "\n",
        "divmod(...)\n",
        "    divmod(x, y) -> (div, mod)\n",
        "    \n",
        "    Return the tuple ((x-x%y)/y, x%y).  Invariant: div*y + mod == x.\n",
        "\n"
       ]
      }
     ],
     "prompt_number": 126
    },
    {
     "cell_type": "code",
     "collapsed": false,
     "input": [
      "divmod(10, 3)"
     ],
     "language": "python",
     "metadata": {},
     "outputs": [
      {
       "metadata": {},
       "output_type": "pyout",
       "prompt_number": 127,
       "text": [
        "(3, 1)"
       ]
      }
     ],
     "prompt_number": 127
    },
    {
     "cell_type": "code",
     "collapsed": false,
     "input": [
      "nbytes, rem = divmod(x.bit_length(), 8)"
     ],
     "language": "python",
     "metadata": {},
     "outputs": [],
     "prompt_number": 121
    },
    {
     "cell_type": "code",
     "collapsed": false,
     "input": [
      "nbytes, rem"
     ],
     "language": "python",
     "metadata": {},
     "outputs": [
      {
       "metadata": {},
       "output_type": "pyout",
       "prompt_number": 122,
       "text": [
        "(26, 0)"
       ]
      }
     ],
     "prompt_number": 122
    },
    {
     "cell_type": "code",
     "collapsed": false,
     "input": [
      "if rem:\n",
      "    nybytes += 1"
     ],
     "language": "python",
     "metadata": {},
     "outputs": [],
     "prompt_number": 123
    },
    {
     "cell_type": "code",
     "collapsed": false,
     "input": [
      "nbytes"
     ],
     "language": "python",
     "metadata": {},
     "outputs": [
      {
       "metadata": {},
       "output_type": "pyout",
       "prompt_number": 124,
       "text": [
        "26"
       ]
      }
     ],
     "prompt_number": 124
    },
    {
     "cell_type": "code",
     "collapsed": false,
     "input": [
      "x.to_bytes(nbytes, 'little')"
     ],
     "language": "python",
     "metadata": {},
     "outputs": [
      {
       "metadata": {},
       "output_type": "pyout",
       "prompt_number": 125,
       "text": [
        "b'\\x03X\\xf1\\x82iT\\x96\\xac\\xc7c\\x16\\xf3\\xb9\\xcf\\x18\\xee\\xec\\x91\\xd1\\x98\\xa2\\xc8\\xd9R\\xb5\\xd0'"
       ]
      }
     ],
     "prompt_number": 125
    },
    {
     "cell_type": "code",
     "collapsed": false,
     "input": [
      "x.to_bytes(nbytes-1, 'little')"
     ],
     "language": "python",
     "metadata": {},
     "outputs": [
      {
       "ename": "OverflowError",
       "evalue": "int too big to convert",
       "output_type": "pyerr",
       "traceback": [
        "\u001b[0;31m---------------------------------------------------------------------------\u001b[0m\n\u001b[0;31mOverflowError\u001b[0m                             Traceback (most recent call last)",
        "\u001b[0;32m<ipython-input-128-7ee46be33900>\u001b[0m in \u001b[0;36m<module>\u001b[0;34m()\u001b[0m\n\u001b[0;32m----> 1\u001b[0;31m \u001b[0mx\u001b[0m\u001b[0;34m.\u001b[0m\u001b[0mto_bytes\u001b[0m\u001b[0;34m(\u001b[0m\u001b[0mnbytes\u001b[0m\u001b[0;34m-\u001b[0m\u001b[0;36m1\u001b[0m\u001b[0;34m,\u001b[0m \u001b[0;34m'little'\u001b[0m\u001b[0;34m)\u001b[0m\u001b[0;34m\u001b[0m\u001b[0m\n\u001b[0m",
        "\u001b[0;31mOverflowError\u001b[0m: int too big to convert"
       ]
      }
     ],
     "prompt_number": 128
    },
    {
     "cell_type": "code",
     "collapsed": false,
     "input": [
      "x.to_bytes(nbytes+1, 'little')"
     ],
     "language": "python",
     "metadata": {},
     "outputs": [
      {
       "metadata": {},
       "output_type": "pyout",
       "prompt_number": 129,
       "text": [
        "b'\\x03X\\xf1\\x82iT\\x96\\xac\\xc7c\\x16\\xf3\\xb9\\xcf\\x18\\xee\\xec\\x91\\xd1\\x98\\xa2\\xc8\\xd9R\\xb5\\xd0\\x00'"
       ]
      }
     ],
     "prompt_number": 129
    },
    {
     "cell_type": "code",
     "collapsed": false,
     "input": [
      "x.to_bytes(nbytes+10, 'little')"
     ],
     "language": "python",
     "metadata": {},
     "outputs": [
      {
       "metadata": {},
       "output_type": "pyout",
       "prompt_number": 130,
       "text": [
        "b'\\x03X\\xf1\\x82iT\\x96\\xac\\xc7c\\x16\\xf3\\xb9\\xcf\\x18\\xee\\xec\\x91\\xd1\\x98\\xa2\\xc8\\xd9R\\xb5\\xd0\\x00\\x00\\x00\\x00\\x00\\x00\\x00\\x00\\x00\\x00'"
       ]
      }
     ],
     "prompt_number": 130
    },
    {
     "cell_type": "markdown",
     "metadata": {},
     "source": [
      "## 3.6 \ubcf5\uc18c\uc218 \uacc4\uc0b0\n",
      "\n",
      "### \ubb38\uc81c\n",
      "\n",
      "- \ucd5c\uc2e0 \uc6f9 \uc778\uc99d\uc744 \uc0ac\uc6a9\ud558\ub294 \ucf54\ub4dc\ub97c \uc791\uc131\ud558\ub358 \ub3c4\uc911\uc5d0 \ud2b9\uc774\uc810\uc744 \ubc1c\uacac\ud558\uace0 \ubcf5\uc18c\uc218 \ud3c9\uba74\uc744 \uc0ac\uc6a9\ud560 \uc218 \ubc16\uc5d0 \uc5c6\ub294 \uc0c1\ud669\uc5d0 \ucc98\ud588\ub2e4. \ud639\uc740 \ubcf5\uc18c\uc218\ub97c \uc0ac\uc6a9\ud558\uc5ec \uacc4\uc0b0\uc744 \ud574\uc57c \ud55c\ub2e4.\n",
      "\n",
      "### \ud574\uacb0\n",
      "\n",
      "- \ubcf5\uc18c\uc218\ub294 complex(real, imag) \ud568\uc218\ub97c \uc0ac\uc6a9\ud558\uac70\ub098 j\ub97c \ubd99\uc778 \ubd80\ub3d9 \uc18c\uc218\uc810 \uac12\uc73c\ub85c \ud45c\ud604\ud560 \uc218 \uc788\ub2e4."
     ]
    },
    {
     "cell_type": "code",
     "collapsed": false,
     "input": [
      "a = complex(2, 4)"
     ],
     "language": "python",
     "metadata": {},
     "outputs": [],
     "prompt_number": 131
    },
    {
     "cell_type": "code",
     "collapsed": false,
     "input": [
      "b = 3 - 5j"
     ],
     "language": "python",
     "metadata": {},
     "outputs": [],
     "prompt_number": 132
    },
    {
     "cell_type": "code",
     "collapsed": false,
     "input": [
      "a"
     ],
     "language": "python",
     "metadata": {},
     "outputs": [
      {
       "metadata": {},
       "output_type": "pyout",
       "prompt_number": 133,
       "text": [
        "(2+4j)"
       ]
      }
     ],
     "prompt_number": 133
    },
    {
     "cell_type": "code",
     "collapsed": false,
     "input": [
      "b"
     ],
     "language": "python",
     "metadata": {},
     "outputs": [
      {
       "metadata": {},
       "output_type": "pyout",
       "prompt_number": 134,
       "text": [
        "(3-5j)"
       ]
      }
     ],
     "prompt_number": 134
    },
    {
     "cell_type": "markdown",
     "metadata": {},
     "source": [
      "- \uc2e4\uc218, \ud5c8\uc218, \ucf24\ub808 \ubcf5\uc18c\uc218\ub97c \uad6c\ud558\ub294 \ubc29\ubc95\n",
      "- [\ud5c8\uc218 - \uc5d4\ud558\uc704\ud0a4 \ubbf8\ub7ec](https://mirror.enha.kr/wiki/%ED%97%88%EC%88%98)\n",
      "- [\ud5c8\uc218 - \uc704\ud0a4\ubc31\uacfc, \uc6b0\ub9ac \ubaa8\ub450\uc758 \ubc31\uacfc\uc0ac\uc804](http://ko.wikipedia.org/wiki/%ED%97%88%EC%88%98)\n",
      "- [\ubcf5\uc18c\uc218 - \uc704\ud0a4\ubc31\uacfc, \uc6b0\ub9ac \ubaa8\ub450\uc758 \ubc31\uacfc\uc0ac\uc804](http://ko.wikipedia.org/wiki/%EB%B3%B5%EC%86%8C%EC%88%98)\n",
      "- [\ubcf5\uc18c\uc218 \uc2e0\ud638\ub780 \ub3c4\ub300\uccb4 \ubb34\uc2a8 \ub73b?](http://www.rfdh.com/bas_rf/begin/complex.htm): RF\uc5d0\uc11c \uc0ac\uc6a9\ub418\ub294 \ubcf5\uc18c\uc218.. \uc774\uac8c \uadf8\ub098\ub9c8 \uc774\ud574\ud558\uae30\uac00 \uac00\uc7a5 \uc26c\uc6b4\ub4ef\n",
      "- [\ubcf5\uc18c\uc218, \ud5c8\uc218\uc640 \ud5c8\uc218\ub2e8\uc704 | \uc218\ud559\ubc29](http://mathbang.net/303)\n"
     ]
    },
    {
     "cell_type": "code",
     "collapsed": false,
     "input": [
      "a.real"
     ],
     "language": "python",
     "metadata": {},
     "outputs": [
      {
       "metadata": {},
       "output_type": "pyout",
       "prompt_number": 135,
       "text": [
        "2.0"
       ]
      }
     ],
     "prompt_number": 135
    },
    {
     "cell_type": "code",
     "collapsed": false,
     "input": [
      "a.imag"
     ],
     "language": "python",
     "metadata": {},
     "outputs": [
      {
       "metadata": {},
       "output_type": "pyout",
       "prompt_number": 136,
       "text": [
        "4.0"
       ]
      }
     ],
     "prompt_number": 136
    },
    {
     "cell_type": "code",
     "collapsed": false,
     "input": [
      "a.conjugate()"
     ],
     "language": "python",
     "metadata": {},
     "outputs": [
      {
       "metadata": {},
       "output_type": "pyout",
       "prompt_number": 137,
       "text": [
        "(2-4j)"
       ]
      }
     ],
     "prompt_number": 137
    },
    {
     "cell_type": "markdown",
     "metadata": {},
     "source": [
      "- \ub610\ud55c \uc77c\ubc18\uc801\uc778 \uc218\ud559 \uacc4\uc0b0\ub3c4 \uc798 \ub3d9\uc791"
     ]
    },
    {
     "cell_type": "code",
     "collapsed": false,
     "input": [
      "a + b"
     ],
     "language": "python",
     "metadata": {},
     "outputs": [
      {
       "metadata": {},
       "output_type": "pyout",
       "prompt_number": 138,
       "text": [
        "(5-1j)"
       ]
      }
     ],
     "prompt_number": 138
    },
    {
     "cell_type": "code",
     "collapsed": false,
     "input": [
      "a * b"
     ],
     "language": "python",
     "metadata": {},
     "outputs": [
      {
       "metadata": {},
       "output_type": "pyout",
       "prompt_number": 139,
       "text": [
        "(26+2j)"
       ]
      }
     ],
     "prompt_number": 139
    },
    {
     "cell_type": "code",
     "collapsed": false,
     "input": [
      "a / b"
     ],
     "language": "python",
     "metadata": {},
     "outputs": [
      {
       "metadata": {},
       "output_type": "pyout",
       "prompt_number": 140,
       "text": [
        "(-0.4117647058823529+0.6470588235294118j)"
       ]
      }
     ],
     "prompt_number": 140
    },
    {
     "cell_type": "code",
     "collapsed": false,
     "input": [
      "abs(a)"
     ],
     "language": "python",
     "metadata": {},
     "outputs": [
      {
       "metadata": {},
       "output_type": "pyout",
       "prompt_number": 141,
       "text": [
        "4.47213595499958"
       ]
      }
     ],
     "prompt_number": 141
    },
    {
     "cell_type": "markdown",
     "metadata": {},
     "source": [
      "- \uc0ac\uc778, \ucf54\uc0ac\uc778, \uc81c\uacf1 \ub4f1 cmath \ubaa8\ub4c8 \uc0ac\uc6a9"
     ]
    },
    {
     "cell_type": "code",
     "collapsed": false,
     "input": [
      "import cmath"
     ],
     "language": "python",
     "metadata": {},
     "outputs": [],
     "prompt_number": 142
    },
    {
     "cell_type": "code",
     "collapsed": false,
     "input": [
      "# This module is always available. It provides access to mathematical\n",
      "#     functions for complex numbers.\n",
      "# help(cmath)"
     ],
     "language": "python",
     "metadata": {},
     "outputs": [],
     "prompt_number": 144
    },
    {
     "cell_type": "code",
     "collapsed": false,
     "input": [
      "cmath.sin(a)"
     ],
     "language": "python",
     "metadata": {},
     "outputs": [
      {
       "metadata": {},
       "output_type": "pyout",
       "prompt_number": 145,
       "text": [
        "(24.83130584894638-11.356612711218174j)"
       ]
      }
     ],
     "prompt_number": 145
    },
    {
     "cell_type": "code",
     "collapsed": false,
     "input": [
      "cmath.cos(a)"
     ],
     "language": "python",
     "metadata": {},
     "outputs": [
      {
       "metadata": {},
       "output_type": "pyout",
       "prompt_number": 146,
       "text": [
        "(-11.36423470640106-24.814651485634187j)"
       ]
      }
     ],
     "prompt_number": 146
    },
    {
     "cell_type": "code",
     "collapsed": false,
     "input": [
      "cmath.exp(a)"
     ],
     "language": "python",
     "metadata": {},
     "outputs": [
      {
       "metadata": {},
       "output_type": "pyout",
       "prompt_number": 147,
       "text": [
        "(-4.829809383269385-5.5920560936409816j)"
       ]
      }
     ],
     "prompt_number": 147
    },
    {
     "cell_type": "markdown",
     "metadata": {},
     "source": [
      "### \ud1a0\ub860\n",
      "\n",
      "- \ud30c\uc774\uc36c\uc758 \uc218\ud559 \uad00\ub828 \ubaa8\ub4c8\uc740 \ub300\uac1c \ubcf5\uc18c\uc218\ub97c \uc778\uc2dd\n",
      "- \uc608\ub97c \ub4e4\uc5b4, numpy\ub97c \uc0ac\uc6a9\ud558\uba74 \uc5b4\ub835\uc9c0 \uc54a\uac8c \ubcf5\uc18c\uc218 \ubc30\uc5f4\uc744 \ub9cc\ub4e4\uace0 \uacc4\uc0b0"
     ]
    },
    {
     "cell_type": "code",
     "collapsed": false,
     "input": [
      "import numpy as np"
     ],
     "language": "python",
     "metadata": {},
     "outputs": [],
     "prompt_number": 148
    },
    {
     "cell_type": "code",
     "collapsed": false,
     "input": [
      "a = np.array([2+3j, 4+5j, 6-7j, 8+9j])"
     ],
     "language": "python",
     "metadata": {},
     "outputs": [],
     "prompt_number": 149
    },
    {
     "cell_type": "code",
     "collapsed": false,
     "input": [
      "a"
     ],
     "language": "python",
     "metadata": {},
     "outputs": [
      {
       "metadata": {},
       "output_type": "pyout",
       "prompt_number": 150,
       "text": [
        "array([ 2.+3.j,  4.+5.j,  6.-7.j,  8.+9.j])"
       ]
      }
     ],
     "prompt_number": 150
    },
    {
     "cell_type": "code",
     "collapsed": false,
     "input": [
      "a + 2"
     ],
     "language": "python",
     "metadata": {},
     "outputs": [
      {
       "metadata": {},
       "output_type": "pyout",
       "prompt_number": 151,
       "text": [
        "array([  4.+3.j,   6.+5.j,   8.-7.j,  10.+9.j])"
       ]
      }
     ],
     "prompt_number": 151
    },
    {
     "cell_type": "code",
     "collapsed": false,
     "input": [
      "np.sin(a)"
     ],
     "language": "python",
     "metadata": {},
     "outputs": [
      {
       "metadata": {},
       "output_type": "pyout",
       "prompt_number": 152,
       "text": [
        "array([    9.15449915  -4.16890696j,   -56.16227422 -48.50245524j,\n",
        "        -153.20827755-526.47684926j,  4008.42651446-589.49948373j])"
       ]
      }
     ],
     "prompt_number": 152
    },
    {
     "cell_type": "markdown",
     "metadata": {},
     "source": [
      "- \ud558\uc9c0\ub9cc \ud30c\uc774\uc36c\uc758 \ud45c\uc900 \uc218\ud559 \ud568\uc218\ub294 \uae30\ubcf8\uc801\uc73c\ub85c \ubcf5\uc18c\uc218 \uac12\uc744 \ub9cc\ub4e4\uc9c0 \uc54a\uc74c\n",
      "- \ub530\ub77c\uc11c \ucf54\ub4dc\uc5d0\uc11c \uc774\ub7f0 \uac12\uc774 \uc608\uc0c1\uce58 \uc54a\uac8c \ubc1c\uc0dd\ud558\uc9c0\ub294 \uc54a\uc74c"
     ]
    },
    {
     "cell_type": "code",
     "collapsed": false,
     "input": [
      "import math"
     ],
     "language": "python",
     "metadata": {},
     "outputs": [],
     "prompt_number": 153
    },
    {
     "cell_type": "code",
     "collapsed": false,
     "input": [
      "math.sqrt(-1)"
     ],
     "language": "python",
     "metadata": {},
     "outputs": [
      {
       "ename": "ValueError",
       "evalue": "math domain error",
       "output_type": "pyerr",
       "traceback": [
        "\u001b[0;31m---------------------------------------------------------------------------\u001b[0m\n\u001b[0;31mValueError\u001b[0m                                Traceback (most recent call last)",
        "\u001b[0;32m<ipython-input-154-5234f21f3b4d>\u001b[0m in \u001b[0;36m<module>\u001b[0;34m()\u001b[0m\n\u001b[0;32m----> 1\u001b[0;31m \u001b[0mmath\u001b[0m\u001b[0;34m.\u001b[0m\u001b[0msqrt\u001b[0m\u001b[0;34m(\u001b[0m\u001b[0;34m-\u001b[0m\u001b[0;36m1\u001b[0m\u001b[0;34m)\u001b[0m\u001b[0;34m\u001b[0m\u001b[0m\n\u001b[0m",
        "\u001b[0;31mValueError\u001b[0m: math domain error"
       ]
      }
     ],
     "prompt_number": 154
    },
    {
     "cell_type": "markdown",
     "metadata": {},
     "source": [
      "- \uacc4\uc0b0 \uacb0\uacfc\ub85c \ubcf5\uc18c\uc218\ub97c \uc5bb\uc73c\ub824\uba74 \uba85\uc2dc\uc801\uc73c\ub85c cmath\ub97c \uc0ac\uc6a9\ud558\uac70\ub098 \ub77c\uc774\ube0c\ub7ec\ub9ac\uc5d0\uc11c \ubcf5\uc18c\uc218 \uc0ac\uc6a9\uc744 \uc120\uc5b8\ud574\uc57c \ud568"
     ]
    },
    {
     "cell_type": "code",
     "collapsed": false,
     "input": [
      "import cmath"
     ],
     "language": "python",
     "metadata": {},
     "outputs": [],
     "prompt_number": 155
    },
    {
     "cell_type": "code",
     "collapsed": false,
     "input": [
      "cmath.sqrt(-1)"
     ],
     "language": "python",
     "metadata": {},
     "outputs": [
      {
       "metadata": {},
       "output_type": "pyout",
       "prompt_number": 156,
       "text": [
        "1j"
       ]
      }
     ],
     "prompt_number": 156
    },
    {
     "cell_type": "markdown",
     "metadata": {},
     "source": [
      "## 3.7 \ubb34\ud55c\ub300\uc640 NaN \uc0ac\uc6a9\n",
      "\n",
      "### \ubb38\uc81c\n",
      "\n",
      "- \ubd80\ub3d9 \uc18c\uc218\uc810 \uac12\uc758 \ubb34\ud55c\ub300, \uc74c\uc758 \ubb34\ud55c\ub300, NaN(not a number)\uc744 \uac80\uc0ac\n",
      "\n",
      "### \ud574\uacb0\n",
      "\n",
      "- \uc774\uc640 \uac19\uc740 \ud2b9\ubcc4\ud55c \ubd80\ub3d9 \uc18c\uc218\uc810 \uac12\uc744 \ud45c\ud604\ud558\ub294 \ud30c\uc774\uc36c \ubb38\ubc95\uc740 \uc5c6\uc9c0\ub9cc float()\uc744 \uc0ac\uc6a9\ud574\uc11c \ub9cc\ub4e4 \uc218 \uc788\uc74c"
     ]
    },
    {
     "cell_type": "code",
     "collapsed": false,
     "input": [
      "a = float('inf')"
     ],
     "language": "python",
     "metadata": {},
     "outputs": [],
     "prompt_number": 157
    },
    {
     "cell_type": "code",
     "collapsed": false,
     "input": [
      "b = float('inf')"
     ],
     "language": "python",
     "metadata": {},
     "outputs": [],
     "prompt_number": 158
    },
    {
     "cell_type": "code",
     "collapsed": false,
     "input": [
      "c = float('nan')"
     ],
     "language": "python",
     "metadata": {},
     "outputs": [],
     "prompt_number": 159
    },
    {
     "cell_type": "code",
     "collapsed": false,
     "input": [
      "a"
     ],
     "language": "python",
     "metadata": {},
     "outputs": [
      {
       "metadata": {},
       "output_type": "pyout",
       "prompt_number": 160,
       "text": [
        "inf"
       ]
      }
     ],
     "prompt_number": 160
    },
    {
     "cell_type": "code",
     "collapsed": false,
     "input": [
      "b"
     ],
     "language": "python",
     "metadata": {},
     "outputs": [
      {
       "metadata": {},
       "output_type": "pyout",
       "prompt_number": 161,
       "text": [
        "inf"
       ]
      }
     ],
     "prompt_number": 161
    },
    {
     "cell_type": "code",
     "collapsed": false,
     "input": [
      "c"
     ],
     "language": "python",
     "metadata": {},
     "outputs": [
      {
       "metadata": {},
       "output_type": "pyout",
       "prompt_number": 162,
       "text": [
        "nan"
       ]
      }
     ],
     "prompt_number": 162
    },
    {
     "cell_type": "code",
     "collapsed": false,
     "input": [
      "# \ud655\uc778\n",
      "math.isinf(a)"
     ],
     "language": "python",
     "metadata": {},
     "outputs": [
      {
       "metadata": {},
       "output_type": "pyout",
       "prompt_number": 163,
       "text": [
        "True"
       ]
      }
     ],
     "prompt_number": 163
    },
    {
     "cell_type": "code",
     "collapsed": false,
     "input": [
      "math.isnan(c)"
     ],
     "language": "python",
     "metadata": {},
     "outputs": [
      {
       "metadata": {},
       "output_type": "pyout",
       "prompt_number": 164,
       "text": [
        "True"
       ]
      }
     ],
     "prompt_number": 164
    },
    {
     "cell_type": "markdown",
     "metadata": {},
     "source": [
      "### \ud1a0\ub860\n",
      "\n",
      "- \uc55e\uc758 \ub098\uc628 \ud2b9\ubcc4\ud55c \ubd80\ub3d9 \uc18c\uc218\uc810 \uac12\uc5d0 \ub300\ud55c \ub354 \ub9ce\uc740 \uc815\ubcf4\ub97c \uc6d0\ud55c\ub2e4\uba74 [IEEE 754](http://ko.wikipedia.org/wiki/IEEE_754) \uc2a4\ud399 \ud655\uc778\n",
      "- \uadf8 \uc911 \uc8fc\uc758\ud574\uc57c \ud560 \uac83\uc774 \uba87 \uac00\uc9c0 \uc788\uc74c\n",
      "- \ud2b9\ud788 \ube44\uad50\uc640 \uc5f0\uc0b0\uc790 \ubd80\ubd84\uc5d0 \uad00\ub828\n",
      "- \ubb34\ud55c\ub300 \uac12\uc740 \uc77c\ubc18\uc801\uc778 \uc218\ud559 \uacc4\uc0b0\ubc95 \ub530\ub984"
     ]
    },
    {
     "cell_type": "code",
     "collapsed": false,
     "input": [
      "a = float('inf')"
     ],
     "language": "python",
     "metadata": {},
     "outputs": [],
     "prompt_number": 165
    },
    {
     "cell_type": "code",
     "collapsed": false,
     "input": [
      "a + 45"
     ],
     "language": "python",
     "metadata": {},
     "outputs": [
      {
       "metadata": {},
       "output_type": "pyout",
       "prompt_number": 166,
       "text": [
        "inf"
       ]
      }
     ],
     "prompt_number": 166
    },
    {
     "cell_type": "code",
     "collapsed": false,
     "input": [
      "a * 10"
     ],
     "language": "python",
     "metadata": {},
     "outputs": [
      {
       "metadata": {},
       "output_type": "pyout",
       "prompt_number": 167,
       "text": [
        "inf"
       ]
      }
     ],
     "prompt_number": 167
    },
    {
     "cell_type": "code",
     "collapsed": false,
     "input": [
      "10 / a"
     ],
     "language": "python",
     "metadata": {},
     "outputs": [
      {
       "metadata": {},
       "output_type": "pyout",
       "prompt_number": 168,
       "text": [
        "0.0"
       ]
      }
     ],
     "prompt_number": 168
    },
    {
     "cell_type": "markdown",
     "metadata": {},
     "source": [
      "- \ud558\uc9c0\ub9cc \ud2b9\uc815 \uc5f0\uc0b0\uc790\uc758 \uacc4\uc0b0\uc740 \uc815\uc758\ub418\uc5b4 \uc788\uc9c0 \uc54a\uace0 NaN\uc744 \ubc1c\uc0dd"
     ]
    },
    {
     "cell_type": "code",
     "collapsed": false,
     "input": [
      "a = float('inf')"
     ],
     "language": "python",
     "metadata": {},
     "outputs": [],
     "prompt_number": 169
    },
    {
     "cell_type": "code",
     "collapsed": false,
     "input": [
      "a/a"
     ],
     "language": "python",
     "metadata": {},
     "outputs": [
      {
       "metadata": {},
       "output_type": "pyout",
       "prompt_number": 170,
       "text": [
        "nan"
       ]
      }
     ],
     "prompt_number": 170
    },
    {
     "cell_type": "code",
     "collapsed": false,
     "input": [
      "b = float('-inf')"
     ],
     "language": "python",
     "metadata": {},
     "outputs": [],
     "prompt_number": 171
    },
    {
     "cell_type": "code",
     "collapsed": false,
     "input": [
      "a + b"
     ],
     "language": "python",
     "metadata": {},
     "outputs": [
      {
       "metadata": {},
       "output_type": "pyout",
       "prompt_number": 172,
       "text": [
        "nan"
       ]
      }
     ],
     "prompt_number": 172
    },
    {
     "cell_type": "markdown",
     "metadata": {},
     "source": [
      "- NaN \uac12\uc740 \ubaa8\ub4e0 \uc5f0\uc0b0\uc790\uc5d0 \ub300\ud574 \uc608\uc678\ub97c \ubc1c\uc0dd\uc2dc\ud0a4\uc9c0 \uc54a\uc74c"
     ]
    },
    {
     "cell_type": "code",
     "collapsed": false,
     "input": [
      "c = float('nan')"
     ],
     "language": "python",
     "metadata": {},
     "outputs": [],
     "prompt_number": 173
    },
    {
     "cell_type": "code",
     "collapsed": false,
     "input": [
      "c + 23"
     ],
     "language": "python",
     "metadata": {},
     "outputs": [
      {
       "metadata": {},
       "output_type": "pyout",
       "prompt_number": 174,
       "text": [
        "nan"
       ]
      }
     ],
     "prompt_number": 174
    },
    {
     "cell_type": "code",
     "collapsed": false,
     "input": [
      "c / 2"
     ],
     "language": "python",
     "metadata": {},
     "outputs": [
      {
       "metadata": {},
       "output_type": "pyout",
       "prompt_number": 175,
       "text": [
        "nan"
       ]
      }
     ],
     "prompt_number": 175
    },
    {
     "cell_type": "code",
     "collapsed": false,
     "input": [
      "c * 2"
     ],
     "language": "python",
     "metadata": {},
     "outputs": [
      {
       "metadata": {},
       "output_type": "pyout",
       "prompt_number": 176,
       "text": [
        "nan"
       ]
      }
     ],
     "prompt_number": 176
    },
    {
     "cell_type": "code",
     "collapsed": false,
     "input": [
      "math.sqrt(c)"
     ],
     "language": "python",
     "metadata": {},
     "outputs": [
      {
       "metadata": {},
       "output_type": "pyout",
       "prompt_number": 177,
       "text": [
        "nan"
       ]
      }
     ],
     "prompt_number": 177
    },
    {
     "cell_type": "markdown",
     "metadata": {},
     "source": [
      "- NaN\uc5d0\uc11c \uc8fc\uc758\ud574\uc57c \ud560 \uc810\uc740, \uc774 \uac12\uc740 \uc808\ub300\ub85c \ube44\uad50 \uacb0\uacfc\uac00 \uc77c\uce58\ud558\uc9c0 \uc54a\ub294\ub2e4\ub294 \uc810"
     ]
    },
    {
     "cell_type": "code",
     "collapsed": false,
     "input": [
      "c = float('nan')"
     ],
     "language": "python",
     "metadata": {},
     "outputs": [],
     "prompt_number": 178
    },
    {
     "cell_type": "code",
     "collapsed": false,
     "input": [
      "d = float('nan')"
     ],
     "language": "python",
     "metadata": {},
     "outputs": [],
     "prompt_number": 179
    },
    {
     "cell_type": "code",
     "collapsed": false,
     "input": [
      "c == d"
     ],
     "language": "python",
     "metadata": {},
     "outputs": [
      {
       "metadata": {},
       "output_type": "pyout",
       "prompt_number": 180,
       "text": [
        "False"
       ]
      }
     ],
     "prompt_number": 180
    },
    {
     "cell_type": "code",
     "collapsed": false,
     "input": [
      "c is d"
     ],
     "language": "python",
     "metadata": {},
     "outputs": [
      {
       "metadata": {},
       "output_type": "pyout",
       "prompt_number": 181,
       "text": [
        "False"
       ]
      }
     ],
     "prompt_number": 181
    },
    {
     "cell_type": "markdown",
     "metadata": {},
     "source": [
      "- \ub530\ub77c\uc11c NaN\uc744 \ube44\uad50\ud558\ub294 \ubc29\ubc95\uc740 math.isnan()\uc744 \uc0ac\uc6a9\ud558\ub294 \uac83 \ubfd0\n",
      "- \ud30c\uc774\uc36c \ud504\ub85c\uadf8\ub798\uba38\ub4e4\uc740 \ub54c\ub54c\ub85c NaN\uc774\ub098 \ubb34\ud55c\ub300 \uac12\uc774 \ub098\uc654\uc744 \ub54c \uc608\uc678\ub97c \ubc1c\uc0dd\uc2dc\ud0a4\uace0 \uc2f6\uc5b4\ud55c\ub2e4.\n",
      "- \uc774\ub7f4\ub54c\ub294 fpectl \ubaa8\ub4c8\uc744 \uc0ac\uc6a9\ud558\uba74 \ub418\uc9c0\ub9cc \uc774 \ubaa8\ub4c8\uc740 \ud45c\uc900 \ud30c\uc774\uc36c \ube4c\ub4dc\uc5d0 \uae30\ubcf8\uc73c\ub85c \ud65c\uc131\ud654\ub418\uc5b4 \uc788\uc9c0 \uc54a\uc73c\uba70 \ud50c\ub7ab\ud3fc\uc5d0 \ub530\ub77c \ub3d9\uc791\uc131\uc774 \ub2e4\ub974\ub2e4.\n",
      "- \uc0ac\uc2e4 \uc774 \ubaa8\ub4c8\uc740 \uc219\ub828\ub41c \ud504\ub85c\uadf8\ub798\uba38\ub4e4\ub9cc \uc0ac\uc6a9\ud558\ub3c4\ub85d \uc758\ub3c4\ub41c \uac83"
     ]
    },
    {
     "cell_type": "markdown",
     "metadata": {},
     "source": [
      "## 3.8 \ubd84\uc218 \uacc4\uc0b0\n",
      "\n",
      "### \ubb38\uc81c\n",
      "\n",
      "- \ud0c0\uc784\uba38\uc2e0\uc5d0 \ud0d1\uc2b9\ud588\ub294\ub370 \uac11\uc790\uae30 \ubd84\uc218 \uacc4\uc0b0\uc744 \ud558\ub294 \ucd08\ub4f1\ud559\uc0dd\uc774 \ub418\uc5b4 \ubc84\ub838\ub2e4. \ud639\uc740 \ubaa9\uacf5\uc18c\uc5d0\uc11c \ub9cc\ub4e0 \uce21\ub7c9\uae30\uc5d0 \uad00\ub828\ub41c \uacc4\uc0b0\uc744 \ud558\ub294 \ucf54\ub4dc\ub97c \uc791\uc11c\uc57b\uc57c \ud568\n",
      "\n",
      "### \ud574\uacb0\n",
      "\n",
      "- \ubd84\uc218 \uad00\ub828 \uacc4\uc0b0\uc744 \uc704\ud574 fractions \ubaa8\ub4c8\uc744 \uc0ac\uc6a9"
     ]
    },
    {
     "cell_type": "code",
     "collapsed": false,
     "input": [
      "from fractions import Fraction"
     ],
     "language": "python",
     "metadata": {},
     "outputs": [],
     "prompt_number": 182
    },
    {
     "cell_type": "code",
     "collapsed": false,
     "input": [
      "a = Fraction(5, 4)"
     ],
     "language": "python",
     "metadata": {},
     "outputs": [],
     "prompt_number": 183
    },
    {
     "cell_type": "code",
     "collapsed": false,
     "input": [
      "b = Fraction(7, 16)"
     ],
     "language": "python",
     "metadata": {},
     "outputs": [],
     "prompt_number": 184
    },
    {
     "cell_type": "code",
     "collapsed": false,
     "input": [
      "print(a + b)"
     ],
     "language": "python",
     "metadata": {},
     "outputs": [
      {
       "output_type": "stream",
       "stream": "stdout",
       "text": [
        "27/16\n"
       ]
      }
     ],
     "prompt_number": 185
    },
    {
     "cell_type": "code",
     "collapsed": false,
     "input": [
      "a"
     ],
     "language": "python",
     "metadata": {},
     "outputs": [
      {
       "metadata": {},
       "output_type": "pyout",
       "prompt_number": 186,
       "text": [
        "Fraction(5, 4)"
       ]
      }
     ],
     "prompt_number": 186
    },
    {
     "cell_type": "code",
     "collapsed": false,
     "input": [
      "b"
     ],
     "language": "python",
     "metadata": {},
     "outputs": [
      {
       "metadata": {},
       "output_type": "pyout",
       "prompt_number": 187,
       "text": [
        "Fraction(7, 16)"
       ]
      }
     ],
     "prompt_number": 187
    },
    {
     "cell_type": "code",
     "collapsed": false,
     "input": [
      "print(a * b)"
     ],
     "language": "python",
     "metadata": {},
     "outputs": [
      {
       "output_type": "stream",
       "stream": "stdout",
       "text": [
        "35/64\n"
       ]
      }
     ],
     "prompt_number": 188
    },
    {
     "cell_type": "code",
     "collapsed": false,
     "input": [
      "# \ubd84\uc790 / \ubd84\ubaa8 \uad6c\ud558\uae30\n",
      "c = a * b"
     ],
     "language": "python",
     "metadata": {},
     "outputs": [],
     "prompt_number": 194
    },
    {
     "cell_type": "code",
     "collapsed": false,
     "input": [
      "c.numerator"
     ],
     "language": "python",
     "metadata": {},
     "outputs": [
      {
       "metadata": {},
       "output_type": "pyout",
       "prompt_number": 191,
       "text": [
        "35"
       ]
      }
     ],
     "prompt_number": 191
    },
    {
     "cell_type": "code",
     "collapsed": false,
     "input": [
      "c.denominator"
     ],
     "language": "python",
     "metadata": {},
     "outputs": [
      {
       "metadata": {},
       "output_type": "pyout",
       "prompt_number": 192,
       "text": [
        "64"
       ]
      }
     ],
     "prompt_number": 192
    },
    {
     "cell_type": "code",
     "collapsed": false,
     "input": [
      "# \uc18c\uc218\ub85c \ubcc0\ud658\n",
      "float(c)"
     ],
     "language": "python",
     "metadata": {},
     "outputs": [
      {
       "metadata": {},
       "output_type": "pyout",
       "prompt_number": 193,
       "text": [
        "0.546875"
       ]
      }
     ],
     "prompt_number": 193
    },
    {
     "cell_type": "code",
     "collapsed": false,
     "input": [
      "# \ubd84\uc790\ub97c \ud2b9\uc815 \uac12\uc73c\ub85c \uc81c\ud55c\n",
      "print(c.limit_denominator(8))"
     ],
     "language": "python",
     "metadata": {},
     "outputs": [
      {
       "output_type": "stream",
       "stream": "stdout",
       "text": [
        "4/7\n"
       ]
      }
     ],
     "prompt_number": 195
    },
    {
     "cell_type": "code",
     "collapsed": false,
     "input": [
      "print(c.limit_denominator(10))"
     ],
     "language": "python",
     "metadata": {},
     "outputs": [
      {
       "output_type": "stream",
       "stream": "stdout",
       "text": [
        "5/9\n"
       ]
      }
     ],
     "prompt_number": 196
    },
    {
     "cell_type": "code",
     "collapsed": false,
     "input": [
      "print(c.limit_denominator(64))"
     ],
     "language": "python",
     "metadata": {},
     "outputs": [
      {
       "output_type": "stream",
       "stream": "stdout",
       "text": [
        "35/64\n"
       ]
      }
     ],
     "prompt_number": 197
    },
    {
     "cell_type": "code",
     "collapsed": false,
     "input": [
      "print(c.limit_denominator(10))"
     ],
     "language": "python",
     "metadata": {},
     "outputs": [
      {
       "output_type": "stream",
       "stream": "stdout",
       "text": [
        "5/9\n"
       ]
      }
     ],
     "prompt_number": 199
    },
    {
     "cell_type": "code",
     "collapsed": false,
     "input": [
      "print(c.limit_denominator(20))"
     ],
     "language": "python",
     "metadata": {},
     "outputs": [
      {
       "output_type": "stream",
       "stream": "stdout",
       "text": [
        "6/11\n"
       ]
      }
     ],
     "prompt_number": 200
    },
    {
     "cell_type": "code",
     "collapsed": false,
     "input": [
      "# \uc18c\uc218\ub97c \ubd84\uc218\ub85c \ubcc0\ud658\n",
      "x = 3.75"
     ],
     "language": "python",
     "metadata": {},
     "outputs": [],
     "prompt_number": 201
    },
    {
     "cell_type": "code",
     "collapsed": false,
     "input": [
      "y = Fraction(*x.as_integer_ratio())"
     ],
     "language": "python",
     "metadata": {},
     "outputs": [],
     "prompt_number": 202
    },
    {
     "cell_type": "code",
     "collapsed": false,
     "input": [
      "y"
     ],
     "language": "python",
     "metadata": {},
     "outputs": [
      {
       "metadata": {},
       "output_type": "pyout",
       "prompt_number": 203,
       "text": [
        "Fraction(15, 4)"
       ]
      }
     ],
     "prompt_number": 203
    },
    {
     "cell_type": "code",
     "collapsed": false,
     "input": [
      "print(y)"
     ],
     "language": "python",
     "metadata": {},
     "outputs": [
      {
       "output_type": "stream",
       "stream": "stdout",
       "text": [
        "15/4\n"
       ]
      }
     ],
     "prompt_number": 204
    },
    {
     "cell_type": "markdown",
     "metadata": {},
     "source": [
      "### \ud1a0\ub860\n",
      "\n",
      "- \uc0ac\uc2e4 \ud504\ub85c\uadf8\ub798\uba38\ub4e4\uc774 \ubd84\uc218 \uacc4\uc0b0\uc744 \ub9cc\ud79d \ud558\uc9c0\ub294 \uc54a\ub294\ub2e4.\n",
      "- \ud558\uc9c0\ub9cc \ubd84\uc18c\ub97c \uc0ac\uc6a9\ud558\ub294 \uac83\uc774 \ub354 \uc88b\uc740 \uc0c1\ud669\ub3c4 \uc788\ub2e4.\n",
      "- \ud504\ub85c\uadf8\ub7a8\uc5d0\uc11c \uce58\uc218 \ub2e8\uc704\ub97c \ubd84\uc218\ub85c \ubc1b\uc544\uc11c \uacc4\uc0b0\uc744 \ud558\ub294 \uac83\uc774 \uc0ac\uc6a9\uc790\uac00 \uc18c\uc218\ub85c \uc9c1\uc811 \ubcc0\ud658\ud558\uace0 \uacc4\uc0b0\ud558\ub294 \uac83\ubcf4\ub2e4 \ub354 \ud3b8\ub9ac\ud560 \uc218 \uc788\uc74c"
     ]
    },
    {
     "cell_type": "markdown",
     "metadata": {},
     "source": [
      "## 3.9 \ud070 \ubc30\uc5f4 \uacc4\uc0b0\n",
      "\n",
      "### \ubb38\uc81c\n",
      "\n",
      "- \ubc30\uc5f4\uc774\ub098 grid\uc640 \uac19\uc774 \ucee4\ub2e4\ub780 \uc22b\uc790 dataset\uc5d0 \uacc4\uc0b0\uc744 \ud574\uc57c \ud55c\ub2e4.\n",
      "\n",
      "### \ud574\uacb0\n",
      "\n",
      "- \ubc30\uc5f4\uc774 \uad00\ub828\ub41c \ucee4\ub2e4\ub780 \uacc4\uc0b0\uc744 \ud558\ub824\uba74 NumPy \ub77c\uc774\ube0c\ub7ec\ub9ac\ub97c \uc0ac\uc6a9\ud568\n",
      "- NumPy\ub97c \uc0ac\uc6a9\ud558\uba74 \ud45c\uc900 \ud30c\uc774\uc36c \ub9ac\uc2a4\ud2b8\ub97c \uc0ac\uc6a9\ud558\ub294 \uac83\ubcf4\ub2e4 \uc218\ud559 \uacc4\uc0b0\uc5d0 \uc788\uc5b4 \ud6e8\uc52c \ud6a8\uc728\uc801\n",
      "- \ud30c\uc774\uc36c \ub9ac\uc2a4\ud2b8\uc640 NumPy\uc758 \ucc28\uc774\uc810\uc744 \ubcf4\uc5ec\uc8fc\ub294 \uac04\ub2e8\ud55c \uc608\ub97c \uc900\ube44"
     ]
    },
    {
     "cell_type": "code",
     "collapsed": false,
     "input": [
      "# \ud30c\uc774\uc36c \ub9ac\uc2a4\ud2b8\n",
      "x = [1, 2, 3, 4]"
     ],
     "language": "python",
     "metadata": {},
     "outputs": [],
     "prompt_number": 205
    },
    {
     "cell_type": "code",
     "collapsed": false,
     "input": [
      "y = [5, 6, 7, 8]"
     ],
     "language": "python",
     "metadata": {},
     "outputs": [],
     "prompt_number": 206
    },
    {
     "cell_type": "code",
     "collapsed": false,
     "input": [
      "x * 2"
     ],
     "language": "python",
     "metadata": {},
     "outputs": [
      {
       "metadata": {},
       "output_type": "pyout",
       "prompt_number": 207,
       "text": [
        "[1, 2, 3, 4, 1, 2, 3, 4]"
       ]
      }
     ],
     "prompt_number": 207
    },
    {
     "cell_type": "code",
     "collapsed": false,
     "input": [
      "x + 10"
     ],
     "language": "python",
     "metadata": {},
     "outputs": [
      {
       "ename": "TypeError",
       "evalue": "can only concatenate list (not \"int\") to list",
       "output_type": "pyerr",
       "traceback": [
        "\u001b[0;31m---------------------------------------------------------------------------\u001b[0m\n\u001b[0;31mTypeError\u001b[0m                                 Traceback (most recent call last)",
        "\u001b[0;32m<ipython-input-208-f51880e8756d>\u001b[0m in \u001b[0;36m<module>\u001b[0;34m()\u001b[0m\n\u001b[0;32m----> 1\u001b[0;31m \u001b[0mx\u001b[0m \u001b[0;34m+\u001b[0m \u001b[0;36m10\u001b[0m\u001b[0;34m\u001b[0m\u001b[0m\n\u001b[0m",
        "\u001b[0;31mTypeError\u001b[0m: can only concatenate list (not \"int\") to list"
       ]
      }
     ],
     "prompt_number": 208
    },
    {
     "cell_type": "code",
     "collapsed": false,
     "input": [
      "x + y"
     ],
     "language": "python",
     "metadata": {},
     "outputs": [
      {
       "metadata": {},
       "output_type": "pyout",
       "prompt_number": 209,
       "text": [
        "[1, 2, 3, 4, 5, 6, 7, 8]"
       ]
      }
     ],
     "prompt_number": 209
    },
    {
     "cell_type": "code",
     "collapsed": false,
     "input": [
      "# Numpy \ubc30\uc5f4\n",
      "import numpy as np"
     ],
     "language": "python",
     "metadata": {},
     "outputs": [],
     "prompt_number": 210
    },
    {
     "cell_type": "code",
     "collapsed": false,
     "input": [
      "ax = np.array([1, 2, 3, 4])"
     ],
     "language": "python",
     "metadata": {},
     "outputs": [],
     "prompt_number": 211
    },
    {
     "cell_type": "code",
     "collapsed": false,
     "input": [
      "ay = np.array([5, 6, 7, 8])"
     ],
     "language": "python",
     "metadata": {},
     "outputs": [],
     "prompt_number": 212
    },
    {
     "cell_type": "code",
     "collapsed": false,
     "input": [
      "ax * 2"
     ],
     "language": "python",
     "metadata": {},
     "outputs": [
      {
       "metadata": {},
       "output_type": "pyout",
       "prompt_number": 213,
       "text": [
        "array([2, 4, 6, 8])"
       ]
      }
     ],
     "prompt_number": 213
    },
    {
     "cell_type": "code",
     "collapsed": false,
     "input": [
      "ax + 10"
     ],
     "language": "python",
     "metadata": {},
     "outputs": [
      {
       "metadata": {},
       "output_type": "pyout",
       "prompt_number": 214,
       "text": [
        "array([11, 12, 13, 14])"
       ]
      }
     ],
     "prompt_number": 214
    },
    {
     "cell_type": "code",
     "collapsed": false,
     "input": [
      "ax + ay"
     ],
     "language": "python",
     "metadata": {},
     "outputs": [
      {
       "metadata": {},
       "output_type": "pyout",
       "prompt_number": 215,
       "text": [
        "array([ 6,  8, 10, 12])"
       ]
      }
     ],
     "prompt_number": 215
    },
    {
     "cell_type": "code",
     "collapsed": false,
     "input": [
      "ax * ay"
     ],
     "language": "python",
     "metadata": {},
     "outputs": [
      {
       "metadata": {},
       "output_type": "pyout",
       "prompt_number": 216,
       "text": [
        "array([ 5, 12, 21, 32])"
       ]
      }
     ],
     "prompt_number": 216
    },
    {
     "cell_type": "markdown",
     "metadata": {},
     "source": [
      "- \uc55e\uc5d0 \ub098\uc628\ub300\ub85c \uae30\ubcf8\uc801\uc778 \uc218\ud559 \uacc4\uc0b0\uc5d0 \uc788\uc5b4 \ub9ce\uc740 \ucc28\uc774\ub97c \ubcf4\uc784\n",
      "- \ud2b9\ud788 scalar \uc5f0\uc0b0(ax * 2 \ub610\ub294 ax + 10)\uc774 \uc694\uc18c \uae30\ubc18\uc73c\ub85c \uc801\uc6a9\ub428\n",
      "- \ub610\ud55c \ubc30\uc5f4\uacfc \ubc30\uc5f4 \uac04 \uacc4\uc0b0\uc744 \ud558\uba74 \uc5f0\uc0b0\uc790\uac00 \ubaa8\ub4e0 \uc694\uc18c\uc5d0 \uc801\uc6a9\ub418\uace0 \uc0c8\ub85c\uc6b4 \ubc30\uc5f4\uc744 \uc0dd\uc131\n",
      "- \uc218\ud559 \uc5f0\uc0b0\uc774 \ubaa8\ub4e0 \uc694\uc18c\uc5d0 \ub3d9\uc2dc \uc801\uc6a9\ub41c\ub2e4\ub294 \uc810\uc73c\ub85c \uc778\ud574 \ub9e4\uc6b0 \ube60\ub974\uace0 \uc26c\uc6b4 \ubc30\uc5f4 \uacc4\uc0b0\uc744 \ud560 \uc218 \uc788\uc74c\n",
      "- \ub2e4\ud56d\uc2dd \uacc4\uc0b0\uc758 \uc608"
     ]
    },
    {
     "cell_type": "code",
     "collapsed": false,
     "input": [
      "def f(x):\n",
      "    return 3*x**2 - 2*x + 7"
     ],
     "language": "python",
     "metadata": {},
     "outputs": [],
     "prompt_number": 217
    },
    {
     "cell_type": "code",
     "collapsed": false,
     "input": [
      "f(ax)"
     ],
     "language": "python",
     "metadata": {},
     "outputs": [
      {
       "metadata": {},
       "output_type": "pyout",
       "prompt_number": 218,
       "text": [
        "array([ 8, 15, 28, 47])"
       ]
      }
     ],
     "prompt_number": 218
    },
    {
     "cell_type": "code",
     "collapsed": false,
     "input": [
      "ax"
     ],
     "language": "python",
     "metadata": {},
     "outputs": [
      {
       "metadata": {},
       "output_type": "pyout",
       "prompt_number": 219,
       "text": [
        "array([1, 2, 3, 4])"
       ]
      }
     ],
     "prompt_number": 219
    },
    {
     "cell_type": "code",
     "collapsed": false,
     "input": [
      "ax**2"
     ],
     "language": "python",
     "metadata": {},
     "outputs": [
      {
       "metadata": {},
       "output_type": "pyout",
       "prompt_number": 224,
       "text": [
        "array([ 1,  4,  9, 16])"
       ]
      }
     ],
     "prompt_number": 224
    },
    {
     "cell_type": "code",
     "collapsed": false,
     "input": [
      "3*ax**2"
     ],
     "language": "python",
     "metadata": {},
     "outputs": [
      {
       "metadata": {},
       "output_type": "pyout",
       "prompt_number": 223,
       "text": [
        "array([ 3, 12, 27, 48])"
       ]
      }
     ],
     "prompt_number": 223
    },
    {
     "cell_type": "code",
     "collapsed": false,
     "input": [
      "2*ax"
     ],
     "language": "python",
     "metadata": {},
     "outputs": [
      {
       "metadata": {},
       "output_type": "pyout",
       "prompt_number": 226,
       "text": [
        "array([2, 4, 6, 8])"
       ]
      }
     ],
     "prompt_number": 226
    },
    {
     "cell_type": "code",
     "collapsed": false,
     "input": [
      "2*ax + 7"
     ],
     "language": "python",
     "metadata": {},
     "outputs": [
      {
       "metadata": {},
       "output_type": "pyout",
       "prompt_number": 227,
       "text": [
        "array([ 9, 11, 13, 15])"
       ]
      }
     ],
     "prompt_number": 227
    },
    {
     "cell_type": "code",
     "collapsed": false,
     "input": [
      "3*ax**2 - 2*ax + 7"
     ],
     "language": "python",
     "metadata": {},
     "outputs": [
      {
       "metadata": {},
       "output_type": "pyout",
       "prompt_number": 229,
       "text": [
        "array([ 8, 15, 28, 47])"
       ]
      }
     ],
     "prompt_number": 229
    },
    {
     "cell_type": "markdown",
     "metadata": {},
     "source": [
      "- NumPy\ub294 \ubc30\uc5f4\uc5d0 \uc0ac\uc6a9 \uac00\ub2a5\ud55c universal function\uc744 \uc81c\uacf5\n",
      "- math \ubaa8\ub4c8\uc774 \uc81c\uacf5\ud558\ub294 \ud568\uc218\uc640 \ube44\uc2b7"
     ]
    },
    {
     "cell_type": "code",
     "collapsed": false,
     "input": [
      "np.sqrt(ax)"
     ],
     "language": "python",
     "metadata": {},
     "outputs": [
      {
       "metadata": {},
       "output_type": "pyout",
       "prompt_number": 230,
       "text": [
        "array([ 1.        ,  1.41421356,  1.73205081,  2.        ])"
       ]
      }
     ],
     "prompt_number": 230
    },
    {
     "cell_type": "code",
     "collapsed": false,
     "input": [
      "np.cos(ax)"
     ],
     "language": "python",
     "metadata": {},
     "outputs": [
      {
       "metadata": {},
       "output_type": "pyout",
       "prompt_number": 231,
       "text": [
        "array([ 0.54030231, -0.41614684, -0.9899925 , -0.65364362])"
       ]
      }
     ],
     "prompt_number": 231
    },
    {
     "cell_type": "markdown",
     "metadata": {},
     "source": [
      "- \uc77c\ubc18 \ud568\uc218\ub294 \ubc30\uc5f4 \uc694\uc18c\ub97c \uc21c\ud658\ud558\uba70 \uc694\uc18c\ub9c8\ub2e4 math \ubaa8\ub4c8 \ud568\uc218\ub85c \uacc4\uc0b0\ud558\ub294 \uac83\ubcf4\ub2e4 \uc218\ubc31 \ubc30 \ube60\ub974\ub2e4. \uac00\ub2a5\ud558\uba74 \uc77c\ubc18 \ud568\uc218\ub97c \uc0ac\uc6a9\ud558\ub3c4\ub85d \ud558\uc790\n",
      "\n",
      "\n",
      "- NumPy \ubc30\uc5f4\uc740 C\ub098 Fortran\uacfc \ub3d9\uc77c\ud55c \ubc29\uc2dd\uc73c\ub85c \ud560\ub2f9\n",
      "- \ub2e4\uc2dc \ub9d0\ud574, \ub3d9\uc77c\ud55c \ub370\uc774\ud130 \ud0c0\uc785\uc744 \uba54\ubaa8\ub9ac\uc5d0 \uc5f0\uc18d\uc73c\ub85c \ub098\uc5f4\n",
      "- \ub530\ub77c\uc11c \ud30c\uc774\uc36c \ub9ac\uc2a4\ud2b8\ubcf4\ub2e4 \ud6e8\uc52c \ub354 \ud070 \ubc30\uc5f4\uc744 \ub9cc\ub4e4 \uc218 \uc788\uc74c\n",
      "- \uc608\ub97c \ub4e4\uc5b4 \uc18c\uc218\ub97c \ub2f4\ub294 10,000 * 10,0000 2\ucc28\uc6d0\uc758 \uadf8\ub9ac\ub4dc\ub97c \ub9cc\ub4e4\uace0 \uc2f6\ub2e4\uba74 \uac04\ub2e8\ud788 \ub2e4\uc74c\uacfc \uac19\uc774 \ud558\uba74 \ub428"
     ]
    },
    {
     "cell_type": "code",
     "collapsed": false,
     "input": [
      "grid = np.zeros(shape=(10000, 10000), dtype=float)"
     ],
     "language": "python",
     "metadata": {},
     "outputs": [],
     "prompt_number": 233
    },
    {
     "cell_type": "code",
     "collapsed": false,
     "input": [
      "grid"
     ],
     "language": "python",
     "metadata": {},
     "outputs": [
      {
       "metadata": {},
       "output_type": "pyout",
       "prompt_number": 234,
       "text": [
        "array([[ 0.,  0.,  0., ...,  0.,  0.,  0.],\n",
        "       [ 0.,  0.,  0., ...,  0.,  0.,  0.],\n",
        "       [ 0.,  0.,  0., ...,  0.,  0.,  0.],\n",
        "       ..., \n",
        "       [ 0.,  0.,  0., ...,  0.,  0.,  0.],\n",
        "       [ 0.,  0.,  0., ...,  0.,  0.,  0.],\n",
        "       [ 0.,  0.,  0., ...,  0.,  0.,  0.]])"
       ]
      }
     ],
     "prompt_number": 234
    },
    {
     "cell_type": "markdown",
     "metadata": {},
     "source": [
      "- \ub9c8\ucc2c\uac00\uc9c0\ub85c \ubaa8\ub4e0 \uc5f0\uc0b0\uc740 \ubaa8\ub4e0 \uc694\uc18c\uc5d0 \ub3d9\uc2dc \uc801\uc6a9"
     ]
    },
    {
     "cell_type": "code",
     "collapsed": false,
     "input": [
      "grid += 10"
     ],
     "language": "python",
     "metadata": {},
     "outputs": [],
     "prompt_number": 235
    },
    {
     "cell_type": "code",
     "collapsed": false,
     "input": [
      "grid"
     ],
     "language": "python",
     "metadata": {},
     "outputs": [
      {
       "metadata": {},
       "output_type": "pyout",
       "prompt_number": 236,
       "text": [
        "array([[ 10.,  10.,  10., ...,  10.,  10.,  10.],\n",
        "       [ 10.,  10.,  10., ...,  10.,  10.,  10.],\n",
        "       [ 10.,  10.,  10., ...,  10.,  10.,  10.],\n",
        "       ..., \n",
        "       [ 10.,  10.,  10., ...,  10.,  10.,  10.],\n",
        "       [ 10.,  10.,  10., ...,  10.,  10.,  10.],\n",
        "       [ 10.,  10.,  10., ...,  10.,  10.,  10.]])"
       ]
      }
     ],
     "prompt_number": 236
    },
    {
     "cell_type": "code",
     "collapsed": false,
     "input": [
      "np.sin(grid)"
     ],
     "language": "python",
     "metadata": {},
     "outputs": [
      {
       "metadata": {},
       "output_type": "pyout",
       "prompt_number": 237,
       "text": [
        "array([[-0.54402111, -0.54402111, -0.54402111, ..., -0.54402111,\n",
        "        -0.54402111, -0.54402111],\n",
        "       [-0.54402111, -0.54402111, -0.54402111, ..., -0.54402111,\n",
        "        -0.54402111, -0.54402111],\n",
        "       [-0.54402111, -0.54402111, -0.54402111, ..., -0.54402111,\n",
        "        -0.54402111, -0.54402111],\n",
        "       ..., \n",
        "       [-0.54402111, -0.54402111, -0.54402111, ..., -0.54402111,\n",
        "        -0.54402111, -0.54402111],\n",
        "       [-0.54402111, -0.54402111, -0.54402111, ..., -0.54402111,\n",
        "        -0.54402111, -0.54402111],\n",
        "       [-0.54402111, -0.54402111, -0.54402111, ..., -0.54402111,\n",
        "        -0.54402111, -0.54402111]])"
       ]
      }
     ],
     "prompt_number": 237
    },
    {
     "cell_type": "markdown",
     "metadata": {},
     "source": [
      "- NumPy\uac00 \ud30c\uc774\uc36c\uc758 \ub9ac\uc2a4\ud2b8, \uadf8 \uc911\uc5d0\uc11c\ub3c4 \ub2e4\ucc28\uc6d0 \ubc30\uc5f4\uc758 \uc778\ub371\uc2f1 \uae30\ub2a5\uc744 \ud655\uc7a5\ud558\uace0 \uc788\ub2e4\ub294 \uc810\uc740 \ud2b8\uae4b \uc8fc\ubaa9\n",
      "- \uac04\ub2e8\ud55c 2\ucc28\uc6d0 \ubc30\uc5f4\uc744 \ub9cc\ub4e4\uace0 \uba87 \uac00\uc9c0 \uc608\ub97c \ub4e4\uaca0\uc74c"
     ]
    },
    {
     "cell_type": "code",
     "collapsed": false,
     "input": [
      "a = np.array([[1, 2, 3, 4], [5, 6, 7, 8], [9, 10, 11, 12]])"
     ],
     "language": "python",
     "metadata": {},
     "outputs": [],
     "prompt_number": 238
    },
    {
     "cell_type": "code",
     "collapsed": false,
     "input": [
      "a"
     ],
     "language": "python",
     "metadata": {},
     "outputs": [
      {
       "metadata": {},
       "output_type": "pyout",
       "prompt_number": 239,
       "text": [
        "array([[ 1,  2,  3,  4],\n",
        "       [ 5,  6,  7,  8],\n",
        "       [ 9, 10, 11, 12]])"
       ]
      }
     ],
     "prompt_number": 239
    },
    {
     "cell_type": "code",
     "collapsed": false,
     "input": [
      "# \uccab\ubc88\uc9f8 \ud589 \uc120\ud0dd\n",
      "a[1]"
     ],
     "language": "python",
     "metadata": {},
     "outputs": [
      {
       "metadata": {},
       "output_type": "pyout",
       "prompt_number": 240,
       "text": [
        "array([5, 6, 7, 8])"
       ]
      }
     ],
     "prompt_number": 240
    },
    {
     "cell_type": "code",
     "collapsed": false,
     "input": [
      "# \uccab\ubc88\uc9f8 \uc5f4 \uc120\ud0dd\n",
      "a[:, 1]"
     ],
     "language": "python",
     "metadata": {},
     "outputs": [
      {
       "metadata": {},
       "output_type": "pyout",
       "prompt_number": 241,
       "text": [
        "array([ 2,  6, 10])"
       ]
      }
     ],
     "prompt_number": 241
    },
    {
     "cell_type": "code",
     "collapsed": false,
     "input": [
      "# \uc9c0\uc5ed\uc744 \uc120\ud0dd \ud6c4 \ubcc0\uacbd\n",
      "a[1:3, 1:3]"
     ],
     "language": "python",
     "metadata": {},
     "outputs": [
      {
       "metadata": {},
       "output_type": "pyout",
       "prompt_number": 242,
       "text": [
        "array([[ 6,  7],\n",
        "       [10, 11]])"
       ]
      }
     ],
     "prompt_number": 242
    },
    {
     "cell_type": "code",
     "collapsed": false,
     "input": [
      "a[1:3]"
     ],
     "language": "python",
     "metadata": {},
     "outputs": [
      {
       "metadata": {},
       "output_type": "pyout",
       "prompt_number": 243,
       "text": [
        "array([[ 5,  6,  7,  8],\n",
        "       [ 9, 10, 11, 12]])"
       ]
      }
     ],
     "prompt_number": 243
    },
    {
     "cell_type": "code",
     "collapsed": false,
     "input": [
      "a[1:2]"
     ],
     "language": "python",
     "metadata": {},
     "outputs": [
      {
       "metadata": {},
       "output_type": "pyout",
       "prompt_number": 246,
       "text": [
        "array([[5, 6, 7, 8]])"
       ]
      }
     ],
     "prompt_number": 246
    },
    {
     "cell_type": "code",
     "collapsed": false,
     "input": [
      "# \uc5c6\ub294 \ud589 \uc778\ub371\uc2a4\ub3c4 \uc5d0\ub7ec\uc5c6\uc774 \ud45c\ud604\ud574 \uc8fc\ub124\n",
      "a[1:4]"
     ],
     "language": "python",
     "metadata": {},
     "outputs": [
      {
       "metadata": {},
       "output_type": "pyout",
       "prompt_number": 247,
       "text": [
        "array([[ 5,  6,  7,  8],\n",
        "       [ 9, 10, 11, 12]])"
       ]
      }
     ],
     "prompt_number": 247
    },
    {
     "cell_type": "code",
     "collapsed": false,
     "input": [
      "a[:, 1:2]"
     ],
     "language": "python",
     "metadata": {},
     "outputs": [
      {
       "metadata": {},
       "output_type": "pyout",
       "prompt_number": 248,
       "text": [
        "array([[ 2],\n",
        "       [ 6],\n",
        "       [10]])"
       ]
      }
     ],
     "prompt_number": 248
    },
    {
     "cell_type": "code",
     "collapsed": false,
     "input": [
      "a[:, 1:4]"
     ],
     "language": "python",
     "metadata": {},
     "outputs": [
      {
       "metadata": {},
       "output_type": "pyout",
       "prompt_number": 249,
       "text": [
        "array([[ 2,  3,  4],\n",
        "       [ 6,  7,  8],\n",
        "       [10, 11, 12]])"
       ]
      }
     ],
     "prompt_number": 249
    },
    {
     "cell_type": "code",
     "collapsed": false,
     "input": [
      "# \uc5c6\ub294 \uc5f4 \uc778\ub371\uc2a4\ub3c4 \uc5d0\ub7ec\uc5c6\uc774 \ud45c\ud604\ud574 \uc8fc\ub124\n",
      "a[:, 1:5]"
     ],
     "language": "python",
     "metadata": {},
     "outputs": [
      {
       "metadata": {},
       "output_type": "pyout",
       "prompt_number": 250,
       "text": [
        "array([[ 2,  3,  4],\n",
        "       [ 6,  7,  8],\n",
        "       [10, 11, 12]])"
       ]
      }
     ],
     "prompt_number": 250
    },
    {
     "cell_type": "code",
     "collapsed": false,
     "input": [
      "a[1:3, 1:3] += 10"
     ],
     "language": "python",
     "metadata": {},
     "outputs": [],
     "prompt_number": 251
    },
    {
     "cell_type": "code",
     "collapsed": false,
     "input": [
      "a"
     ],
     "language": "python",
     "metadata": {},
     "outputs": [
      {
       "metadata": {},
       "output_type": "pyout",
       "prompt_number": 252,
       "text": [
        "array([[ 1,  2,  3,  4],\n",
        "       [ 5, 16, 17,  8],\n",
        "       [ 9, 20, 21, 12]])"
       ]
      }
     ],
     "prompt_number": 252
    },
    {
     "cell_type": "code",
     "collapsed": false,
     "input": [
      "# \ud589 \ubca1\ud130\ub97c \ubaa8\ub4e0 \ud589 \uc5f0\uc0b0\uc5d0 \uc801\uc6a9\n",
      "a + [100, 101, 102, 103]"
     ],
     "language": "python",
     "metadata": {},
     "outputs": [
      {
       "metadata": {},
       "output_type": "pyout",
       "prompt_number": 254,
       "text": [
        "array([[101, 103, 105, 107],\n",
        "       [105, 117, 119, 111],\n",
        "       [109, 121, 123, 115]])"
       ]
      }
     ],
     "prompt_number": 254
    },
    {
     "cell_type": "code",
     "collapsed": false,
     "input": [
      "a"
     ],
     "language": "python",
     "metadata": {},
     "outputs": [
      {
       "metadata": {},
       "output_type": "pyout",
       "prompt_number": 255,
       "text": [
        "array([[ 1,  2,  3,  4],\n",
        "       [ 5, 16, 17,  8],\n",
        "       [ 9, 20, 21, 12]])"
       ]
      }
     ],
     "prompt_number": 255
    },
    {
     "cell_type": "code",
     "collapsed": false,
     "input": [
      "a + [100, 101]"
     ],
     "language": "python",
     "metadata": {},
     "outputs": [
      {
       "ename": "ValueError",
       "evalue": "operands could not be broadcast together with shapes (3,4) (2,) ",
       "output_type": "pyerr",
       "traceback": [
        "\u001b[0;31m---------------------------------------------------------------------------\u001b[0m\n\u001b[0;31mValueError\u001b[0m                                Traceback (most recent call last)",
        "\u001b[0;32m<ipython-input-256-b4dc434804ff>\u001b[0m in \u001b[0;36m<module>\u001b[0;34m()\u001b[0m\n\u001b[0;32m----> 1\u001b[0;31m \u001b[0ma\u001b[0m \u001b[0;34m+\u001b[0m \u001b[0;34m[\u001b[0m\u001b[0;36m100\u001b[0m\u001b[0;34m,\u001b[0m \u001b[0;36m101\u001b[0m\u001b[0;34m]\u001b[0m\u001b[0;34m\u001b[0m\u001b[0m\n\u001b[0m",
        "\u001b[0;31mValueError\u001b[0m: operands could not be broadcast together with shapes (3,4) (2,) "
       ]
      }
     ],
     "prompt_number": 256
    },
    {
     "cell_type": "code",
     "collapsed": false,
     "input": [
      "# \uc870\uac74\uc774 \uc788\ub294 \ud560\ub2f9\n",
      "np.where(a < 10, a, 10)"
     ],
     "language": "python",
     "metadata": {},
     "outputs": [
      {
       "metadata": {},
       "output_type": "pyout",
       "prompt_number": 257,
       "text": [
        "array([[ 1,  2,  3,  4],\n",
        "       [ 5, 10, 10,  8],\n",
        "       [ 9, 10, 10, 10]])"
       ]
      }
     ],
     "prompt_number": 257
    },
    {
     "cell_type": "markdown",
     "metadata": {},
     "source": [
      "### \ud1a0\ub860\n",
      "\n",
      "- NumPy\ub294 \ud30c\uc774\uc36c\uc758 \uc218\ub9ce\uc740 \uacfc\ud559, \uacf5\ud559 \ub77c\uc774\ube0c\ub7ec\ub9ac\uc758 \uae30\ucd08\uac00 \ub428\n",
      "- \ub610\ud55c \uad11\ubc94\uc704\ud558\uac8c \uc0ac\uc6a9\ub418\ub294 \ubaa8\ub4c8 \uc911 \uac00\uc7a5 \ubcf5\uc7a1\ud558\uace0 \ubc29\ub300\ud55c \uac83 \uc911 \ud558\ub098\n",
      "- \uadf8\ub7ec\ubbc0\ub85c \uac04\ub2e8\ud55c \uc608\uc81c\ubd80\ud130 \uc2dc\uc791\ud574\ub3c4 NumPy\uc5d0\uc11c \ubc30\uc6b8\uc810\uc774 \uc788\uc744 \uac83\n",
      "- \uc55e\uc758 \uc608\uc81c\uc5d0 \ub098\uc628\ub300\ub85c import numpy as np\ub77c\ub294 \uad6c\ubb38\uc744 \uc77c\ubc18\uc801\uc73c\ub85c \uc0ac\uc6a9\ud55c\ub2e4\ub294 \uc810\ub3c4 \uc8fc\ubaa9\n",
      "- [NumPy](http://www.numpy.org)"
     ]
    },
    {
     "cell_type": "markdown",
     "metadata": {},
     "source": [
      "## 3.10 \ud589\ub82c\uacfc \uc120\ud615 \ub300\uc218 \uacc4\uc0b0\n",
      "\n",
      "### \ubb38\uc81c\n",
      "\n",
      "- \ud589\ub82c \uacf1\uc148, \ud589\ub82c\uc2dd \ucc3e\uae30, \uc120\ud615 \ubc29\uc815\uc2dd \ud480\uae30 \ub4f1 \ud589\ub82c\uc774\ub098 \uc120\ud615 \ub300\uc218 \uacc4\uc0b0\uc744 \ud574\uc57c\ud568\n",
      "\n",
      "### \ud574\uacb0\n",
      "\n",
      "- NumPy \ub77c\uc774\ube0c\ub7ec\ub9ac\uc5d0 \uc774\ub7f0 \uc6a9\ub3c4\ub85c \uc0ac\uc6a9\ud560 \uc218 \uc788\ub294 matrix \uac1d\uccb4\uac00 \uc788\uc74c\n",
      "- \ud589\ub82c\uc740 \ub808\uc2dc\ud53c 3.9\uc5d0 \ub098\uc654\ub358 \ubc30\uc5f4 \uac1d\uccb4\uc640 \ube44\uc2b7\ud55c \uba74\uc774 \uc788\uc9c0\ub9cc, \uacc4\uc0b0\ud560 \ub54c\ub294 \uc120\ud615 \ub300\uc218 \uacc4\uc0b0\ubc95\uc744 \ub530\ub978\ub2e4."
     ]
    },
    {
     "cell_type": "code",
     "collapsed": false,
     "input": [
      "import numpy as np"
     ],
     "language": "python",
     "metadata": {},
     "outputs": [],
     "prompt_number": 258
    },
    {
     "cell_type": "code",
     "collapsed": false,
     "input": [
      "m = np.matrix([[1, -2, 3], [0, 4, 5], [7, 8, -9]])"
     ],
     "language": "python",
     "metadata": {},
     "outputs": [],
     "prompt_number": 259
    },
    {
     "cell_type": "code",
     "collapsed": false,
     "input": [
      "m"
     ],
     "language": "python",
     "metadata": {},
     "outputs": [
      {
       "metadata": {},
       "output_type": "pyout",
       "prompt_number": 260,
       "text": [
        "matrix([[ 1, -2,  3],\n",
        "        [ 0,  4,  5],\n",
        "        [ 7,  8, -9]])"
       ]
      }
     ],
     "prompt_number": 260
    },
    {
     "cell_type": "code",
     "collapsed": false,
     "input": [
      "# \uc804\uce58 \ud589\ub82c(transpose)\n",
      "m.T"
     ],
     "language": "python",
     "metadata": {},
     "outputs": [
      {
       "metadata": {},
       "output_type": "pyout",
       "prompt_number": 261,
       "text": [
        "matrix([[ 1,  0,  7],\n",
        "        [-2,  4,  8],\n",
        "        [ 3,  5, -9]])"
       ]
      }
     ],
     "prompt_number": 261
    },
    {
     "cell_type": "code",
     "collapsed": false,
     "input": [
      "# \uc5ed\ud589\ub82c(inverse)\n",
      "m.I"
     ],
     "language": "python",
     "metadata": {},
     "outputs": [
      {
       "metadata": {},
       "output_type": "pyout",
       "prompt_number": 262,
       "text": [
        "matrix([[ 0.33043478, -0.02608696,  0.09565217],\n",
        "        [-0.15217391,  0.13043478,  0.02173913],\n",
        "        [ 0.12173913,  0.09565217, -0.0173913 ]])"
       ]
      }
     ],
     "prompt_number": 262
    },
    {
     "cell_type": "code",
     "collapsed": false,
     "input": [
      "# \ubca1\ud130\ub97c \ub9cc\ub4e4\uace0 \uacf1\ud558\uae30\n",
      "v = np.matrix([[2], [3], [4]])"
     ],
     "language": "python",
     "metadata": {},
     "outputs": [],
     "prompt_number": 263
    },
    {
     "cell_type": "code",
     "collapsed": false,
     "input": [
      "v"
     ],
     "language": "python",
     "metadata": {},
     "outputs": [
      {
       "metadata": {},
       "output_type": "pyout",
       "prompt_number": 264,
       "text": [
        "matrix([[2],\n",
        "        [3],\n",
        "        [4]])"
       ]
      }
     ],
     "prompt_number": 264
    },
    {
     "cell_type": "code",
     "collapsed": false,
     "input": [
      "m * v"
     ],
     "language": "python",
     "metadata": {},
     "outputs": [
      {
       "metadata": {},
       "output_type": "pyout",
       "prompt_number": 265,
       "text": [
        "matrix([[ 8],\n",
        "        [32],\n",
        "        [ 2]])"
       ]
      }
     ],
     "prompt_number": 265
    },
    {
     "cell_type": "markdown",
     "metadata": {},
     "source": [
      "- numpy.lingalg \uc11c\ube0c \ud328\ud0a4\uc9c0\uc5d0 \ub354 \ub9ce\uc740 \uc5f0\uc0b0 \uc874\uc7ac"
     ]
    },
    {
     "cell_type": "code",
     "collapsed": false,
     "input": [
      "import numpy.linalg"
     ],
     "language": "python",
     "metadata": {},
     "outputs": [],
     "prompt_number": 271
    },
    {
     "cell_type": "code",
     "collapsed": false,
     "input": [
      "# Determinant\n",
      "numpy.linalg.det(m)"
     ],
     "language": "python",
     "metadata": {},
     "outputs": [
      {
       "metadata": {},
       "output_type": "pyout",
       "prompt_number": 272,
       "text": [
        "-229.99999999999983"
       ]
      }
     ],
     "prompt_number": 272
    },
    {
     "cell_type": "code",
     "collapsed": false,
     "input": [
      "# Eigenvalues\n",
      "numpy.linalg.eigvals(m)"
     ],
     "language": "python",
     "metadata": {},
     "outputs": [
      {
       "metadata": {},
       "output_type": "pyout",
       "prompt_number": 274,
       "text": [
        "array([-13.11474312,   2.75956154,   6.35518158])"
       ]
      }
     ],
     "prompt_number": 274
    },
    {
     "cell_type": "code",
     "collapsed": false,
     "input": [
      "# mx = v\uc5d0\uc11c x \ud480\uae30\n",
      "x = numpy.linalg.solve(m, v)"
     ],
     "language": "python",
     "metadata": {},
     "outputs": [],
     "prompt_number": 276
    },
    {
     "cell_type": "code",
     "collapsed": false,
     "input": [
      "x"
     ],
     "language": "python",
     "metadata": {},
     "outputs": [
      {
       "metadata": {},
       "output_type": "pyout",
       "prompt_number": 277,
       "text": [
        "matrix([[ 0.96521739],\n",
        "        [ 0.17391304],\n",
        "        [ 0.46086957]])"
       ]
      }
     ],
     "prompt_number": 277
    },
    {
     "cell_type": "code",
     "collapsed": false,
     "input": [
      "m * x"
     ],
     "language": "python",
     "metadata": {},
     "outputs": [
      {
       "metadata": {},
       "output_type": "pyout",
       "prompt_number": 278,
       "text": [
        "matrix([[ 2.],\n",
        "        [ 3.],\n",
        "        [ 4.]])"
       ]
      }
     ],
     "prompt_number": 278
    },
    {
     "cell_type": "code",
     "collapsed": false,
     "input": [
      "v"
     ],
     "language": "python",
     "metadata": {},
     "outputs": [
      {
       "metadata": {},
       "output_type": "pyout",
       "prompt_number": 279,
       "text": [
        "matrix([[2],\n",
        "        [3],\n",
        "        [4]])"
       ]
      }
     ],
     "prompt_number": 279
    },
    {
     "cell_type": "markdown",
     "metadata": {},
     "source": [
      "- \uc120\ud615 \ub300\uc218\uc758 \ubc94\uc704\ub294 \ub108\ubb34 \ubc29\ub300\ud574\uc11c \uc774 \ucc45\uc5d0\uc11c \ub2e4 \ub2e4\ub8f0 \uc218 \uc5c6\uc74c\n",
      "- \ud558\uc9c0\ub9cc \ud589\ub82c\uacfc \ubca1\ud130\ub97c \ub2e4\ub8e8\uc5b4\uc57c \ud55c\ub2e4\uba74 NumPy\ubd80\ud130 \uc2dc\uc791\ud558\ub3c4\ub85d \ud558\uc790\n",
      "- [NumPy](http://www.numpy.org)"
     ]
    },
    {
     "cell_type": "markdown",
     "metadata": {},
     "source": [
      "### [3. \uc22b\uc790, \ub0a0\uc528, \uc2dc\uac04 02](http://nbviewer.ipython.org/github/re4lfl0w/ipython/blob/master/books/python_cookbook/ch03_02.ipynb)"
     ]
    }
   ],
   "metadata": {}
  }
 ]
}
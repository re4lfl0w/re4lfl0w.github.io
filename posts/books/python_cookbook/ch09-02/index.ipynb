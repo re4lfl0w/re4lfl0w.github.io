{
 "metadata": {
  "name": "",
  "signature": "sha256:46cd56fd1fb49b0c530acc93d04eba681b615fe9d7d42629e9ea2e1ac710e05a"
 },
 "nbformat": 3,
 "nbformat_minor": 0,
 "worksheets": [
  {
   "cells": [
    {
     "cell_type": "markdown",
     "metadata": {},
     "source": [
      "## 9.11 \uac10\uc2fc \ud568\uc218\uc5d0 \ub9e4\uac1c\ubcc0\uc218\ub97c \ucd94\uac00\ud558\ub294 \ub370\ucf54\ub808\uc774\ud130 \uc791\uc131\n",
      "\n",
      "### \ubb38\uc81c\n",
      "\n",
      "- \uac10\uc2fc \ud568\uc218\uc758 \ud638\ucd9c \uc2dc\uadf8\ub2c8\ucc98\uc5d0 \ub9e4\uac1c\ubcc0\uc218\ub97c \ucd94\uac00\ud558\ub294 \ub370\ucf54\ub808\uc774\ud130\ub97c \uc791\uc131\ud558\uace0 \uc2f6\ub2e4.\n",
      "- \ud558\uc9c0\ub9cc \ucd94\uac00\ud55c \ub9e4\uac1c\ubcc0\uc218\ub294 \uae30\uc874 \ud568\uc218\uc758 \ud638\ucd9c \ubc29\uc2dd\uacfc \ud568\uaed8 \uc0ac\uc6a9 \ubd88\uac00\n",
      "\n",
      "### \ud574\uacb0\n",
      "\n",
      "- \ud0a4\uc6cc\ub4dc\ub85c\ub9cc \ub123\uc744 \uc218 \uc788\ub294 \uc778\uc790(keyword-only argument)\ub97c \uc0ac\uc6a9\ud558\uba74 \ud638\ucd9c \uc2dc\uadf8\ub2c8\ucc98\uc5d0 \ub9e4\uac1c\ubcc0\uc218 \ucd94\uac00 \uac00\ub2a5"
     ]
    },
    {
     "cell_type": "code",
     "collapsed": false,
     "input": [],
     "language": "python",
     "metadata": {},
     "outputs": []
    }
   ],
   "metadata": {}
  }
 ]
}
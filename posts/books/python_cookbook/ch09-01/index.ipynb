{
 "metadata": {
  "name": "",
  "signature": "sha256:ee552ebe998e133eca63e1e2788b685b379036990172a8d8011f251de62313c3"
 },
 "nbformat": 3,
 "nbformat_minor": 0,
 "worksheets": [
  {
   "cells": [
    {
     "cell_type": "markdown",
     "metadata": {},
     "source": [
      "# 9. \uba54\ud0c0 \ud504\ub85c\uadf8\ub798\ubc0d\n",
      "\n",
      "- start: 2014-10-24\n",
      "- end: 2014-10-\n",
      "\n",
      "\n",
      "- \uc18c\ud504\ud2b8\uc6e8\uc5b4 \uac1c\ubc1c\uc5d0\ub294 **\"\uc808\ub300\ub85c \uc2a4\uc2a4\ub85c \ubc18\ubcf5 \uc791\uc5c5\uc744 \ud558\uc9c0 \ub9c8\ub77c\"** \ub77c\ub294 \uaca9\uc5b8 \uc874\uc7ac\n",
      "- \ub9e4\uc6b0 \ubc18\ubcf5\uc801\uc73c\ub85c \ub418\ud480\uc774\ub418\ub294 \ucf54\ub4dc\ub97c \uc791\uc131\ud560 \ub54c\ub294(\ud639\uc740 \uc18c\uc2a4 \ucf54\ub4dc\ub97c \uc790\ub974\uac70\ub098 \ubd99\uc5ec\ub123\uc744 \ub54c) \ub300\uac8c \uadf8\ubcf4\ub2e4 \ub354 \ud604\uba85\ud55c \ud574\uacb0\ucc45\uc774 \uc874\uc7ac\ud55c\ub2e4\ub294 \ub9d0\n",
      "- \ud30c\uc774\uc36c\uc740 \uc774\ub7f0 \ubb38\uc81c\ub97c **\"\uba54\ud0c0 \ud504\ub85c\uadf8\ub798\ubc0d(meta programming)\"** \uc774\ub77c\ub294 \uce74\ud14c\uace0\ub9ac\ub85c \ubd84\ub958\n",
      "- \uba54\ud0c0\ud504\ub85c\uadf8\ub798\ubc0d\n",
      "  - \ucf54\ub4dc\ub97c \ub2e4\ub8e8\ub294(\uc218\uc815, \uc0dd\uc131, \uae30\uc874 \ucf54\ub4dc \uac10\uc2f8\uae30 \ub4f1) \ud568\uc218\ub098 \ud074\ub798\uc2a4\ub97c \ub9cc\ub4dc\ub294 \uac83\n",
      "  - \ub370\ucf54\ub808\uc774\ud130\n",
      "  - \ud074\ub798\uc2a4 \ub370\ucf54\ub808\uc774\ud130\n",
      "  - \uba54\ud0c0 \ud074\ub798\uc2a4\n",
      "  - signature object\n",
      "  - exec()\ub85c \ucf54\ub4dc \uc2e4\ud589\n",
      "  - \ud074\ub798\uc2a4\uc640 \ud568\uc218 \ub0b4\ubd80 \uc870\uc0ac\n",
      "- \ubaa9\ud45c: \uba54\ud0c0\ud504\ub85c\uadf8\ub798\ubc0d\uc758 \uc5ec\ub7ec \uae30\uc220\uc744 \ubc30\uc6b0\uace0 \ud30c\uc774\uc36c \uae30\ub2a5\uc744 \ucee4\uc2a4\ud130\ub9c8\uc774\uc988\ud574\uc11c \uc0ac\uc6a9\ud558\ub294 \uc608\uc81c\ub97c \uc81c\uacf5\ud558\ub294 \uac83"
     ]
    },
    {
     "cell_type": "markdown",
     "metadata": {},
     "source": [
      "## 9.1 \ud568\uc218 \uac10\uc2f8\uae30\n",
      "\n",
      "### \ubb38\uc81c\n",
      "\n",
      "- \ud568\uc218\uc5d0 \ucd94\uac00\uc801\uc778 \ucc98\ub9ac(\ub85c\uae45, \ud0c0\uc774\ubc0d \ub4f1)\ub97c \ud558\ub294 wrapper layer\ub97c \ub123\uace0 \uc2f6\ub2e4.\n",
      "\n",
      "### \ud574\uacb0\n",
      "\n",
      "- \ud568\uc218\uc5d0 \ucd94\uac00\uc801\uc778 \ucf54\ub4dc\ub97c \uac10\uc2f8\ub824\uba74 \ub370\ucf54\ub808\uc774\ud130 \ud568\uc218\ub97c \uc815\uc758"
     ]
    },
    {
     "cell_type": "code",
     "collapsed": false,
     "input": [
      "import time\n",
      "from functools import wraps\n",
      "\n",
      "def timethis(func):\n",
      "    '''\n",
      "    \uc2e4\ud589 \uc2dc\uac04\uc744 \ubcf4\uace0\ud558\ub294 \ub370\ucf54\ub808\uc774\ud130\n",
      "    '''\n",
      "    @wraps(func)\n",
      "    def wrapper(*args, **kwargs):\n",
      "        start = time.time()\n",
      "        result = func(*args, **kwargs)\n",
      "        end = time.time()\n",
      "        print(func.__name__, end-start)\n",
      "        return result\n",
      "    return wrapper"
     ],
     "language": "python",
     "metadata": {},
     "outputs": [],
     "prompt_number": 1
    },
    {
     "cell_type": "code",
     "collapsed": false,
     "input": [
      "@timethis\n",
      "def countdown(n):\n",
      "    '''\n",
      "    Counts down\n",
      "    '''\n",
      "    while n > 0:\n",
      "        n -= 1"
     ],
     "language": "python",
     "metadata": {},
     "outputs": [],
     "prompt_number": 2
    },
    {
     "cell_type": "code",
     "collapsed": false,
     "input": [
      "countdown(1000000)"
     ],
     "language": "python",
     "metadata": {},
     "outputs": [
      {
       "output_type": "stream",
       "stream": "stdout",
       "text": [
        "countdown 0.08946681022644043\n"
       ]
      }
     ],
     "prompt_number": 8
    },
    {
     "cell_type": "code",
     "collapsed": false,
     "input": [
      "countdown(10000000)"
     ],
     "language": "python",
     "metadata": {},
     "outputs": [
      {
       "output_type": "stream",
       "stream": "stdout",
       "text": [
        "countdown 0.7282190322875977\n"
       ]
      }
     ],
     "prompt_number": 7
    },
    {
     "cell_type": "markdown",
     "metadata": {},
     "source": [
      "### \ud1a0\ub860\n",
      "\n",
      "- \ub370\ucf54\ub808\uc774\ud130\ub294 \uc785\ub825\uc73c\ub85c \ud568\uc218\ub97c \ubc1b\uace0 \uc0c8\ub85c\uc6b4 \ud568\uc218\ub97c \ubc18\ud658"
     ]
    },
    {
     "cell_type": "code",
     "collapsed": false,
     "input": [
      "# @timethis\n",
      "# def countdown(n):\n",
      "#     ..."
     ],
     "language": "python",
     "metadata": {},
     "outputs": [],
     "prompt_number": 9
    },
    {
     "cell_type": "markdown",
     "metadata": {},
     "source": [
      "- \ub2e4\uc74c\uacfc \uac19\uc774 \ubcc4\ub3c4\uc758 \ub2e8\uacc4\ub97c \uc218\ud589\ud55c \uac83\uacfc \ub3d9\uc77c\ud568"
     ]
    },
    {
     "cell_type": "code",
     "collapsed": false,
     "input": [
      "# def countdown(n):\n",
      "#     ...\n",
      "# countdown = timethis(countdown)"
     ],
     "language": "python",
     "metadata": {},
     "outputs": [],
     "prompt_number": 10
    },
    {
     "cell_type": "markdown",
     "metadata": {},
     "source": [
      "- @staticmethod, @classmethod, @property \uc640 \uac19\uc740 \ub0b4\uc7a5\ub41c \ub370\ucf54\ub808\uc774\ud130\ub3c4 \ub3d9\uc77c\ud558\uac8c \ub3d9\uc791\ud568"
     ]
    },
    {
     "cell_type": "code",
     "collapsed": false,
     "input": [
      "class A:\n",
      "    @classmethod\n",
      "    def method(cls):\n",
      "        pass\n",
      "    \n",
      "class B:\n",
      "    # \ub3d9\uc77c\ud55c \ud074\ub798\uc2a4 \uba54\uc18c\ub4dc \uc815\uc758\n",
      "    def method(cls):\n",
      "        pass\n",
      "    method = classmethod(method)"
     ],
     "language": "python",
     "metadata": {},
     "outputs": [],
     "prompt_number": 11
    },
    {
     "cell_type": "markdown",
     "metadata": {},
     "source": [
      "- \ub370\ucf54\ub808\uc774\ud130 \ub0b4\ubd80 \ucf54\ub4dc\ub294 \uc774\ubc88 \ub808\uc2dc\ud53c wrapper() \ud568\uc218\uc5d0 \ub098\uc654\ub358 \uac83\ucc98\ub7fc \ub300\uac8c \\*args\uc640 \\*\\*kwargs\ub85c \ub9e4\uac1c\ubcc0\uc218\ub97c \ubc1b\ub294 \uc0c8\ub85c\uc6b4 \ud568\uc218\ub97c \uc0dd\uc131\ud558\ub294 \uac83\uacfc \uad00\ub828\uc774 \uc788\uc74c\n",
      "- \uc774 \ud568\uc218\uc5d0\uc11c \uc6d0\ubcf8 \uc785\ub825 \ud568\uc218\ub97c \ud638\ucd9c\ud558\uace0 \uacb0\uacfc\ub97c \ubc18\ud658\ud568\n",
      "- \ud558\uc9c0\ub9cc, \ucd94\uac00\uc801\uc778 \ucf54\ub4dc(\ud0c0\uc774\ubc0d \ub4f1)\ub97c \ubd99\uc77c \uc218 \uc788\uc74c\n",
      "- \uc0c8\ub86d\uac8c \uc0dd\uc131\ud55c \ud568\uc218 wrapper\uac00 \uacb0\uacfc\ub85c \ubc18\ud658\ub418\uace0 \uc6d0\ubcf8 \ud568\uc218\ub97c \ub300\uc2e0\ud568\n",
      "\n",
      "\n",
      "- \ub370\ucf54\ub808\uc774\ud130\ub294 \uc77c\ubc18\uc801\uc73c\ub85c \ud638\ucd9c \uc2dc\uadf8\ub2c8\ucc98\ub098 **\uac10\uc2f8\uace0 \uc788\ub294 \ud568\uc218\uc758 \ubc18\ud658\uac12\uc744 \uc218\uc815\ud558\uc9c0 \uc54a\ub294\ub2e4\ub294 \uc810\uc774 \uc911\uc694**\n",
      "- \uc5b4\ub5a0\ud55c \uc785\ub825 \uc778\uc790\ub77c\ub3c4 \ubc1b\uc744 \uc218 \uc788\ub3c4\ub85d \\*args\uc640 \\*\\*kwargs\ub97c \uc0ac\uc6a9\ud588\uc74c\n",
      "- \ub370\ucf54\ub808\uc774\ud130\uc758 \ubc18\ud658\uac12\uc744 \ub300\ubd80\ubd84 func(\\*args, \\*\\*kwargs)\ub97c \ud638\ucd9c\ud55c \uacb0\uacfc\uac12\uc774 \ub418\uace0, \uc774\ub54c func\ub294 \uac10\uc2f8\uc9c0 \uc54a\uc740 \uc6d0\ubcf8 \ud568\uc218\n",
      "\n",
      "\n",
      "- \ub370\ucf54\ub808\uc774\ud130\ub97c \ucc98\uc74c \ubc30\uc6b8 \ub54c \uc55e\uc5d0 \ub098\uc628 \uac83\uacfc \uac19\uc774 **\uac04\ub2e8\ud55c \uc608\uc81c\ub85c \uc2dc\uc791**\ud558\ub294 \uac83\uc774 \uc88b\ub2e4.\n",
      "- \ud558\uc9c0\ub9cc \uc2e4\uc81c \ud504\ub85c\uadf8\ub7a8\uc5d0 \ub370\ucf54\ub808\uc774\ud130\ub97c \uc0ac\uc6a9\ud558\ub824\uba74 **\uace0\ub824\ud574\uc57c \ud560 \ubd80\ubd84**\uc774 \uc870\uae08 \ub354 \uc788\ub2e4.\n",
      "- \uc608\ub97c \ub4e4\uc5b4 \uc55e\uc5d0 \ub098\uc628 @wraps(func)\ub294 \uac04\uacfc\ud558\uae30 \uc26c\uc6b4 \ubd80\ubd84\uc774\uc9c0\ub9cc **\ud568\uc218\uc758 \uba54\ud0c0\ub370\uc774\ud130\ub97c \ubcf4\uc804**\ud558\ub294 \uac83\uacfc \uc911\uc694\ud55c \uad00\ub828\uc774 \uc788\uc74c\n",
      "- \uc774 \ubd80\ubd84\uc740 \ub2e4\uc74c \ub808\uc2dc\ud53c\uc5d0\uc11c \uc790\uc138\ud788 \uc124\uba85\n",
      "- \uc774\uc81c\ubd80\ud130 \ub098\uc624\ub294 \uba87 \uac00\uc9c0 \ub808\uc2dc\ud53c\ub294 \ub370\ucf54\ub808\uc774\ud130\ub97c \uc2e4\uc81c \ud504\ub85c\uadf8\ub7a8\uc5d0 \uc0ac\uc6a9\ud560 \ub54c \uc54c\uc544\uc57c \ud558\ub294 \uc911\uc694\ud55c \ub0b4\uc6a9\uc744 \ub2e4\ub8f8"
     ]
    },
    {
     "cell_type": "markdown",
     "metadata": {},
     "source": [
      "## 9.2 \ub370\ucf54\ub808\uc774\ud130 \uc791\uc131\uc2dc \ud568\uc218 \uba54\ud0c0\ub370\uc774\ud130 \ubcf4\uc874\n",
      "\n",
      "### \ubb38\uc81c\n",
      "\n",
      "- decorator\ub97c \uc791\uc131\ud588\uc74c\n",
      "- \ud558\uc9c0\ub9cc \ud568\uc218\uc5d0 \uc801\uc6a9\ud560 \ub54c \uc774\ub984, doc string, \uc8fc\uc11d, \ud638\ucd9c \uc2dc\uadf8\ub2c8\ucc98\uc640 \uac19\uc740 \uc8fc\uc694 \uba54\ud0c0\ub370\uc774\ud130\uac00 \uc0ac\ub77c\uc9d0\n",
      "\n",
      "### \ud574\uacb0\n",
      "\n",
      "- \ub370\ucf54\ub808\uc774\ud130\ub97c \uc791\uc131\ud560 \ub54c\ub294 \uc5b8\uc81c\ub098 functools \ub77c\uc774\ube0c\ub7ec\ub9ac\uc758 @wraps \ub370\ucf54\ub808\uc774\ud130\ub97c \ub798\ud37c \ud568\uc218\uc5d0 \uc801\uc6a9\ud574\uc57c \ud568"
     ]
    },
    {
     "cell_type": "code",
     "collapsed": false,
     "input": [
      "import time\n",
      "from functools import wraps\n",
      "\n",
      "def timethis(func):\n",
      "    '''\n",
      "    \uc2e4\ud589 \uc2dc\uac04\uc744 \ubcf4\uace0\ud558\ub294 \ub370\ucf54\ub808\uc774\ud130\n",
      "    '''\n",
      "    @wraps(func)\n",
      "    def wrapper(*args, **kwargs):\n",
      "        start = time.time()\n",
      "        result = func(*args, **kwargs)\n",
      "        end = time.time()\n",
      "        print(func.__name__, end-start)\n",
      "        return result\n",
      "    return wrapper"
     ],
     "language": "python",
     "metadata": {},
     "outputs": [],
     "prompt_number": 21
    },
    {
     "cell_type": "markdown",
     "metadata": {},
     "source": [
      "- \ub370\ucf54\ub808\uc774\ud130 \uc0ac\uc6a9\ud558\ub294 \uc608\uc81c. \ud568\uc218 \uba54\ud0c0\ub370\uc774\ud130\ub97c \ud655\uc778\ud574 \ubcf4\uc790"
     ]
    },
    {
     "cell_type": "code",
     "collapsed": false,
     "input": [
      "@timethis\n",
      "def countdown(n:int):\n",
      "    '''\n",
      "    Counts down\n",
      "    '''\n",
      "    while n > 0:\n",
      "        n -= 1"
     ],
     "language": "python",
     "metadata": {},
     "outputs": [],
     "prompt_number": 22
    },
    {
     "cell_type": "code",
     "collapsed": false,
     "input": [
      "countdown(100000)"
     ],
     "language": "python",
     "metadata": {},
     "outputs": [
      {
       "output_type": "stream",
       "stream": "stdout",
       "text": [
        "countdown 0.009376049041748047\n"
       ]
      }
     ],
     "prompt_number": 23
    },
    {
     "cell_type": "code",
     "collapsed": false,
     "input": [
      "countdown.__name__"
     ],
     "language": "python",
     "metadata": {},
     "outputs": [
      {
       "metadata": {},
       "output_type": "pyout",
       "prompt_number": 24,
       "text": [
        "'countdown'"
       ]
      }
     ],
     "prompt_number": 24
    },
    {
     "cell_type": "code",
     "collapsed": false,
     "input": [
      "countdown.__doc__"
     ],
     "language": "python",
     "metadata": {},
     "outputs": [
      {
       "metadata": {},
       "output_type": "pyout",
       "prompt_number": 25,
       "text": [
        "'\\n    Counts down\\n    '"
       ]
      }
     ],
     "prompt_number": 25
    },
    {
     "cell_type": "code",
     "collapsed": false,
     "input": [
      "countdown.__annotations__"
     ],
     "language": "python",
     "metadata": {},
     "outputs": [
      {
       "metadata": {},
       "output_type": "pyout",
       "prompt_number": 26,
       "text": [
        "{'n': int}"
       ]
      }
     ],
     "prompt_number": 26
    },
    {
     "cell_type": "markdown",
     "metadata": {},
     "source": [
      "### \ud1a0\ub860\n",
      "\n",
      "- \ub370\ucf54\ub808\uc774\ud130 \uba54\ud0c0\ub370\uc774\ud130 \ubcf5\uc0ac\ud558\uae30\ub294 \ub370\ucf54\ub808\uc774\ud130\ub97c \uc791\uc131\ud560 \ub54c \uc911\uc694\ud55c \ubd80\ubd84\n",
      "- **@wraps\ub97c \uc78a\uc73c\uba74 \ub370\ucf54\ub808\uc774\ud130 \ud568\uc218\uac00 \uc911\uc694\ud55c \uc815\ubcf4\ub97c \ubaa8\ub450 \uc0c1\uc2e4**\ud558\uac8c \ub428\n",
      "- \uc608\ub97c \ub4e4\uc5b4 @wraps\ub97c \uc0dd\ub7b5\ud588\uc744 \ub54c \ub9c8\uc9c0\ub9c9 \uc608\uc81c\uc758 \uba54\ud0c0\ub370\uc774\ud130\ub294 \ub2e4\uc74c\ucc98\ub7fc \ubcf4\uc784"
     ]
    },
    {
     "cell_type": "code",
     "collapsed": false,
     "input": [
      "import time\n",
      "from functools import wraps\n",
      "\n",
      "def timethis2(func):\n",
      "    '''\n",
      "    \uc2e4\ud589 \uc2dc\uac04\uc744 \ubcf4\uace0\ud558\ub294 \ub370\ucf54\ub808\uc774\ud130\n",
      "    '''\n",
      "    def wrapper(*args, **kwargs):\n",
      "        start = time.time()\n",
      "        result = func(*args, **kwargs)\n",
      "        end = time.time()\n",
      "        print(func.__name__, end-start)\n",
      "        return result\n",
      "    return wrapper"
     ],
     "language": "python",
     "metadata": {},
     "outputs": [],
     "prompt_number": 27
    },
    {
     "cell_type": "code",
     "collapsed": false,
     "input": [
      "@timethis2\n",
      "def countdown2(n:int):\n",
      "    '''\n",
      "    Counts down\n",
      "    '''\n",
      "    while n > 0:\n",
      "        n -= 1"
     ],
     "language": "python",
     "metadata": {},
     "outputs": [],
     "prompt_number": 28
    },
    {
     "cell_type": "code",
     "collapsed": false,
     "input": [
      "countdown2.__name__"
     ],
     "language": "python",
     "metadata": {},
     "outputs": [
      {
       "metadata": {},
       "output_type": "pyout",
       "prompt_number": 29,
       "text": [
        "'wrapper'"
       ]
      }
     ],
     "prompt_number": 29
    },
    {
     "cell_type": "code",
     "collapsed": false,
     "input": [
      "countdown2.__doc__"
     ],
     "language": "python",
     "metadata": {},
     "outputs": [],
     "prompt_number": 30
    },
    {
     "cell_type": "code",
     "collapsed": false,
     "input": [
      "countdown2.__annotations__"
     ],
     "language": "python",
     "metadata": {},
     "outputs": [
      {
       "metadata": {},
       "output_type": "pyout",
       "prompt_number": 31,
       "text": [
        "{}"
       ]
      }
     ],
     "prompt_number": 31
    },
    {
     "cell_type": "markdown",
     "metadata": {},
     "source": [
      "- \uac10\uc2fc \ud568\uc218\ub97c \\_\\_wrapped\\_\\_ \uc18d\uc131\uc73c\ub85c \uc811\uadfc\ud560 \uc218 \uc788\ub294 \uc810\uc740 @wraps \ub370\ucf54\ub808\uc774\ud130\uc758 \uc911\uc694\ud55c \uae30\ub2a5\n",
      "- \uc608\ub97c \ub4e4\uc5b4 \uac10\uc2fc \ud568\uc218\uc5d0 \uc9c1\uc811 \uc811\uadfc\ud558\ub824\uba74 \ub2e4\uc74c\uacfc \uac19\uc774 \ud568"
     ]
    },
    {
     "cell_type": "code",
     "collapsed": false,
     "input": [
      "countdown.__wrapped__(100000)"
     ],
     "language": "python",
     "metadata": {},
     "outputs": [],
     "prompt_number": 33
    },
    {
     "cell_type": "code",
     "collapsed": false,
     "input": [
      "countdown2.__wrapped__(100000)"
     ],
     "language": "python",
     "metadata": {},
     "outputs": [
      {
       "ename": "AttributeError",
       "evalue": "'function' object has no attribute '__wrapped__'",
       "output_type": "pyerr",
       "traceback": [
        "\u001b[0;31m---------------------------------------------------------------------------\u001b[0m\n\u001b[0;31mAttributeError\u001b[0m                            Traceback (most recent call last)",
        "\u001b[0;32m<ipython-input-34-48bf5863ab5b>\u001b[0m in \u001b[0;36m<module>\u001b[0;34m()\u001b[0m\n\u001b[0;32m----> 1\u001b[0;31m \u001b[0mcountdown2\u001b[0m\u001b[0;34m.\u001b[0m\u001b[0m__wrapped__\u001b[0m\u001b[0;34m(\u001b[0m\u001b[0;36m100000\u001b[0m\u001b[0;34m)\u001b[0m\u001b[0;34m\u001b[0m\u001b[0m\n\u001b[0m",
        "\u001b[0;31mAttributeError\u001b[0m: 'function' object has no attribute '__wrapped__'"
       ]
      }
     ],
     "prompt_number": 34
    },
    {
     "cell_type": "markdown",
     "metadata": {},
     "source": [
      "- \\_\\_wrapped\\_\\_ \uc18d\uc131\uc774 \uc788\uc5b4\uc11c \ub370\ucf54\ub808\uc774\ud2b8\ud55c \ud568\uc218\uac00 \uae30\ubc18 \uc2dc\uadf8\ub2c8\ucc98\ub97c \uac10\uc2fc \ud568\uc218\uc5d0\uac8c \ub178\ucd9c\ud560 \uc218 \uc788\uae30\ub3c4 \ud568"
     ]
    },
    {
     "cell_type": "code",
     "collapsed": false,
     "input": [
      "from inspect import signature"
     ],
     "language": "python",
     "metadata": {},
     "outputs": [],
     "prompt_number": 35
    },
    {
     "cell_type": "code",
     "collapsed": false,
     "input": [
      "print(signature(countdown))"
     ],
     "language": "python",
     "metadata": {},
     "outputs": [
      {
       "output_type": "stream",
       "stream": "stdout",
       "text": [
        "(n:int)\n"
       ]
      }
     ],
     "prompt_number": 36
    },
    {
     "cell_type": "markdown",
     "metadata": {},
     "source": [
      "- \ub370\ucf54\ub808\uc774\ud130\uc640 \uad00\ub828\ud574\uc11c, \uc5b4\ub5bb\uac8c \ub370\ucf54\ub808\uc774\ud130\uac00 \uc9c1\uc811\uc801\uc73c\ub85c \uc6d0\ubcf8 \ud568\uc218\uc758 \ud638\ucd9c \uc2dc\uadf8\ub2c8\ucc98\ub97c \ubcf5\uc0ac\ud558\ub294\uc9c0(\\*args\uc640 \\*\\*kwargs\ub97c \uc0ac\uc6a9\ud558\uc9c0 \uc54a\uace0)\uc5d0 \ub300\ud55c \uc9c8\ubb38\uc774 \uc77c\ubc18\uc801\uc73c\ub85c \ub098\uc634\n",
      "- \ubcf4\ud1b5\uc740 \ucf54\ub4dc \ubb38\uc790\uc5f4\uc758 \uc81c\ub108\ub808\uc774\ud130\uc640 exec()\uc640 \uad00\ub828\ub41c \ubcf5\uc7a1\ud55c \uae30\uc220\uc5c6\uc774\ub294 \uc774\ub97c \uad6c\ud604\ud558\uae30\uac00 \uc27d\uc9c0 \uc54a\uc74c\n",
      "- \uc194\uc9c1\ud788 @wraps\ub97c \uc0ac\uc6a9\ud558\uace0 \uae30\ubc18 \ud568\uc218 \uc2dc\uadf8\ub2c8\ucc98\ub294 \\_\\_wrapped\\_\\_ \uc18d\uc131\uc73c\ub85c \uc811\uadfc\ud558\ub294 \ubc29\ubc95\uc774 \ub300\uac1c\uc758 \uacbd\uc6b0 \ucd5c\uc120\n",
      "- \uc2dc\uadf8\ub2c8\ucc98\uc5d0 \ub300\ud55c \uc790\uc138\ud55c \uc124\uba85\uc740 \ub808\uc2dc\ud53c 9.16\uc5d0 \ub098\uc634"
     ]
    },
    {
     "cell_type": "markdown",
     "metadata": {},
     "source": [
      "## 9.3 \ub370\ucf54\ub808\uc774\ud130 \ud480\uae30\n",
      "\n",
      "### \ubb38\uc81c\n",
      "\n",
      "- \ud568\uc218\uc5d0 \ub370\ucf54\ub808\uc774\ud130\ub97c \uc801\uc6a9\ud588\ub294\ub370, \uc774\ub97c \"\ucde8\uc18c\"\ud558\uace0 \uc6d0\ubcf8 \ud568\uc218\uc5d0 \uc811\uadfc\ud558\uace0 \uc2f6\ub2e4.\n",
      "\n",
      "### \ud574\uacb0\n",
      "\n",
      "- @wraps\ub97c \uc0ac\uc6a9\ud574\uc11c \ub370\ucf54\ub808\uc774\ud130\ub97c \uc62c\ubc14\ub974\uac8c \uad6c\ud604\ud588\ub2e4\uace0 \uac00\uc815\ud558\uba74(\ub808\uc2dc\ud53c 9.2 \ucc38\uace0), \uc6d0\ubcf8 \ud568\uc218\uc5d0\ub294 \\_\\_wrapped\\_\\_ \uc18d\uc131\uc73c\ub85c \uc811\uadfc \uac00\ub2a5"
     ]
    },
    {
     "cell_type": "code",
     "collapsed": false,
     "input": [
      "@timethis\n",
      "def add(x, y):\n",
      "    return x + y"
     ],
     "language": "python",
     "metadata": {},
     "outputs": [],
     "prompt_number": 37
    },
    {
     "cell_type": "code",
     "collapsed": false,
     "input": [
      "add(3, 4)"
     ],
     "language": "python",
     "metadata": {},
     "outputs": [
      {
       "output_type": "stream",
       "stream": "stdout",
       "text": [
        "add 2.1457672119140625e-06\n"
       ]
      },
      {
       "metadata": {},
       "output_type": "pyout",
       "prompt_number": 39,
       "text": [
        "7"
       ]
      }
     ],
     "prompt_number": 39
    },
    {
     "cell_type": "code",
     "collapsed": false,
     "input": [
      "orig_add = add.__wrapped__\n",
      "orig_add(3, 4)"
     ],
     "language": "python",
     "metadata": {},
     "outputs": [
      {
       "metadata": {},
       "output_type": "pyout",
       "prompt_number": 38,
       "text": [
        "7"
       ]
      }
     ],
     "prompt_number": 38
    },
    {
     "cell_type": "markdown",
     "metadata": {},
     "source": [
      "### \ud1a0\ub860\n",
      "\n",
      "- \ub370\ucf54\ub808\uc774\ud130\uac00 \uac10\uc2fc \ud568\uc218\uc5d0 **\uc9c1\uc811 \uc811\uadfc**\ud558\uac8c \ub418\uba74 **\ub514\ubc84\uae45, \ucf54\ub4dc \uac80\uc0ac, \ud568\uc218 \uad00\ub828 \uc6b4\uc601** \ub4f1\uc5d0 **\ub9e4\uc6b0 \uc720\uc6a9**\n",
      "- \ud558\uc9c0\ub9cc \uc774 \ub808\uc2dc\ud53c\uc5d0 \ub098\uc624\ub294 \ubc29\ubc95\uc740 \ub370\ucf54\ub808\uc774\ud130 \uad6c\ud604\uc774 **functions \ubaa8\ub4c8\uc758 @wraps\ub97c \uc0ac\uc6a9**\ud574 \uba54\ud0c0\ub370\uc774\ud130\ub97c \uc62c\ubc14\ub974\uac8c \ubcf5\uc0ac\ud588\uac70\ub098 **\\_\\_wrapped\\_\\_ \uc18d\uc131\uc744 \uc124\uc815\ud55c \uacbd\uc6b0\uc5d0\ub9cc** \ub3d9\uc791\n",
      "- \ud568\uc218\uc5d0 \uc5ec\ub7ec \ub370\ucf54\ub808\uc774\ud130\ub97c \uc801\uc6a9\ud588\ub2e4\uba74 \\_\\_wrapped\\_\\_ \uc5d0 \uc811\uadfc\ud560 \ub54c \ubb34\uc2a8 \uc77c\uc774 \ubc1c\uc0dd\ud560\uc9c0 \uc608\uc0c1\ud560 \uc218 \uc5c6\uc5b4 \uc774\uc640 \uac19\uc774 \uc0ac\uc6a9\ud558\uc9c0 \ub9d0\uc544\uc57c \ud568\n",
      "- \ud30c\uc774\uc36c 3.3\uc5d0\uc11c\ub294 \ubaa8\ub4e0 \ub808\uc774\uc5b4\ub97c \ud53c\ud574 \uac10"
     ]
    },
    {
     "cell_type": "code",
     "collapsed": false,
     "input": [
      "from functools import wraps\n",
      "\n",
      "def decorator1(func):\n",
      "    @wraps(func)\n",
      "    def wrapper(*args, **kwargs):\n",
      "        print('Decorator 1')\n",
      "        return func(*args, **kwargs)\n",
      "    return wrapper\n",
      "\n",
      "def decorator2(func):\n",
      "    @wraps(func)\n",
      "    def wrapper(*args, **kwargs):\n",
      "        print('Decorator 2')\n",
      "        return func(*args, **kwargs)\n",
      "    return wrapper\n",
      "\n",
      "@decorator1\n",
      "@decorator2\n",
      "def add(x, y):\n",
      "    return x + y"
     ],
     "language": "python",
     "metadata": {},
     "outputs": [],
     "prompt_number": 40
    },
    {
     "cell_type": "markdown",
     "metadata": {},
     "source": [
      "- \ub370\ucf54\ub808\uc774\ud130\ud55c \ud568\uc218\ub97c \ud638\ucd9c\ud558\uace0 \\_\\_wrapped\\_\\_\ub85c \ud568\uc218 \uc6d0\ubcf8\uc5d0 \uc811\uadfc\ud558\uba74 \ub2e4\uc74c\uacfc \uac19\uc774 \ub428"
     ]
    },
    {
     "cell_type": "code",
     "collapsed": false,
     "input": [
      "add(2, 3)"
     ],
     "language": "python",
     "metadata": {},
     "outputs": [
      {
       "output_type": "stream",
       "stream": "stdout",
       "text": [
        "Decorator 1\n",
        "Decorator 2\n"
       ]
      },
      {
       "metadata": {},
       "output_type": "pyout",
       "prompt_number": 41,
       "text": [
        "5"
       ]
      }
     ],
     "prompt_number": 41
    },
    {
     "cell_type": "code",
     "collapsed": false,
     "input": [
      "add.__wrapped__(2, 3)"
     ],
     "language": "python",
     "metadata": {},
     "outputs": [
      {
       "output_type": "stream",
       "stream": "stdout",
       "text": [
        "Decorator 2\n"
       ]
      },
      {
       "metadata": {},
       "output_type": "pyout",
       "prompt_number": 42,
       "text": [
        "5"
       ]
      }
     ],
     "prompt_number": 42
    },
    {
     "cell_type": "markdown",
     "metadata": {},
     "source": [
      "- \ud558\uc9c0\ub9cc \uc774\ub294 \ubc84\uadf8\ub85c \ub4f1\ub85d\ub418\uc5b4 \uc788\uc73c\uba70(http://bugs.python.org/issue17482) \ucd94\ud6c4 \uc218\uc815\ub420 \uc218 \uc788\ub294 \uc0ac\ud56d. \uc218\uc815\ub41c\ub4ef? \ucc45\uc5d0\ub294 \ubc14\ub85c 5\uac00 \ub5a8\uc5b4\uc84c\ub294\ub370 \uc5ec\uae30\uc11c\ub294 Decorator2\uac00 \ub098\uc654\uc73c\ub2c8\n",
      "- \ub9c8\uc9c0\ub9c9\uc73c\ub85c \ubaa8\ub4e0 \ub370\ucf54\ub808\uc774\ud130\uac00 @wraps\ub97c \uc0ac\uc6a9\ud558\uc9c0\ub294 \uc54a\uc73c\uba70, \ub530\ub77c\uc11c \uc55e\uc5d0 \ub098\uc628 \uc124\uba85\ub300\ub85c \ub3d9\uc791\ud558\uc9c0 \uc54a\uc744 \uc218\ub3c4 \uc788\ub2e4\ub294 \uc810\uc744 \uae30\uc5b5\ud574\uc57c \ud568\n",
      "- \uc2e4\uc81c\ub85c @staticmethod, @classmethod\uc640 \uac19\uc774 \ub0b4\uc7a5\ub41c \ub370\ucf54\ub808\uc774\ud130\ub294 \uc774\ub7f0 \uaddc\uce59\uc744 \ub530\ub974\uc9c0 \uc54a\uc74c(\uadf8 \ub300\uc2e0 \ud568\uc218 \uc6d0\ubcf8\uc744 \\_\\_func\\_\\_ \uc18d\uc131\uc5d0 \uac00\uc9c0\uace0 \uc788\ub2e4). **\uc0c1\ud669\uc5d0 \ub9de\uac8c \uc0ac\uc6a9\ud558\ub3c4\ub85d \ud558\uc790**"
     ]
    },
    {
     "cell_type": "markdown",
     "metadata": {},
     "source": [
      "## 9.4 \ub9e4\uac1c\ubcc0\uc218\ub97c \ubc1b\ub294 \ub370\ucf54\ub808\uc774\ud130 \uc815\uc758\n",
      "\n",
      "### \ubb38\uc81c\n",
      "\n",
      "- \ub9e4\uac1c\ubcc0\uc218\ub97c \ubc1b\ub294 \ub370\ucf54\ub808\uc774\ud130\ub97c \uc791\uc131\ud558\uace0 \uc2f6\uc74c\n",
      "\n",
      "### \ud574\uacb0\n",
      "\n",
      "- \uc608\uc81c\ub97c \ud1b5\ud574 \ub9e4\uac1c\ubcc0\uc218\ub97c \ubc1b\ub294 \uacfc\uc815\uc744 \uc0b4\ud3b4\ubcf4\uc790. \n",
      "- \ud568\uc218\uc5d0 \ub85c\uae45\uc744 \ucd94\uac00\ud558\ub294 \ub370\ucf54\ub808\uc774\ud130\ub97c \uc791\uc131\ud588\ub2e4\uace0 \uac00\uc815\n",
      "- \ud558\uc9c0\ub9cc \uc0ac\uc6a9\uc790\uac00 \ub85c\uae45 \ub808\ubca8\uacfc \uac19\uc740 \uc0ac\ud56d\uc744 \ub9e4\uac1c\ubcc0\uc218\ub85c \uba85\uc2dc\ud558\ub3c4\ub85d \ud558\uace0 \uc2f6\ub2e4.\n",
      "- \uc774\ub54c\ub294 \ub2e4\uc74c\uacfc \uac19\uc774 \ub370\ucf54\ub808\uc774\ud130\ub97c \uc815\uc758\ud568"
     ]
    },
    {
     "cell_type": "code",
     "collapsed": false,
     "input": [
      "from functools import wraps\n",
      "import logging\n",
      "\n",
      "def logged(level, name=None, message=None): # \uc774\uac74 \ub370\ucf54\ub808\uc774\ud130 \uc778\uc790\ubc1b\uae30 \uc704\ud55c \uaecd\ub370\uae30\n",
      "    '''\n",
      "    \ud568\uc218\uc5d0 \ub85c\uae45 \ucd94\uac00. \n",
      "    level\uc740 \ub85c\uae45 \ub808\ubca8\n",
      "    name\uc740 \ub85c\uac70 \uc774\ub984\n",
      "    message\ub294 \ub85c\uadf8 \uba54\uc2dc\uc9c0\n",
      "    name\uacfc message\uac00 \uba85\uc2dc\ub418\uc9c0 \uc54a\uc73c\uba74 \ud568\uc218\uc758 \ubaa8\ub4c8 \uc774\ub984\uc744 \uae30\ubcf8 \uac12\uc73c\ub85c \ud568\n",
      "    '''\n",
      "    def decorate(func): # \uc2e4\uc81c \ub85c\uae45\ud558\ub294 \ub370\ucf54\ub808\uc774\ud130\n",
      "        logname = name if name else func.__module__\n",
      "        log = logging.getLogger(logname)\n",
      "        logmsg = message if message else func.__name__\n",
      "        \n",
      "        @wraps(func)\n",
      "        def wrapper(*args, **kwargs):\n",
      "            log.log(level, logmsg)\n",
      "            return func(*args, **kwargs)\n",
      "        return wrapper\n",
      "    return decorate"
     ],
     "language": "python",
     "metadata": {},
     "outputs": [],
     "prompt_number": 43
    },
    {
     "cell_type": "code",
     "collapsed": false,
     "input": [
      "# \uc0ac\uc6a9 \uc608\n",
      "@logged(logging.DEBUG)\n",
      "def add(x, y):\n",
      "    return x + y\n",
      "\n",
      "@logged(logging.CRITICAL, 'example')\n",
      "def spam():\n",
      "    print('Spam!')"
     ],
     "language": "python",
     "metadata": {},
     "outputs": [],
     "prompt_number": 45
    },
    {
     "cell_type": "code",
     "collapsed": false,
     "input": [
      "add(2, 3)"
     ],
     "language": "python",
     "metadata": {},
     "outputs": [
      {
       "metadata": {},
       "output_type": "pyout",
       "prompt_number": 46,
       "text": [
        "5"
       ]
      }
     ],
     "prompt_number": 46
    },
    {
     "cell_type": "code",
     "collapsed": false,
     "input": [
      "spam()"
     ],
     "language": "python",
     "metadata": {},
     "outputs": [
      {
       "output_type": "stream",
       "stream": "stderr",
       "text": [
        "CRITICAL:example:spam\n"
       ]
      },
      {
       "output_type": "stream",
       "stream": "stdout",
       "text": [
        "Spam!\n"
       ]
      }
     ],
     "prompt_number": 48
    },
    {
     "cell_type": "markdown",
     "metadata": {},
     "source": [
      "- \uc5bc\ud54f\ubcf4\uba74 \uc774 \uad6c\ud604\uc774 \uaf64 \uc5b4\ub824\uc6cc \ubcf4\uc774\uc9c0\ub9cc \uac04\ub2e8\ud55c \uc544\uc774\ub514\uc5b4\ub85c \uc791\uc131\ud55c \uac83\n",
      "- \uac00\uc7a5 \uc678\ubd80\uc5d0 \uc788\ub294 logged() \ud568\uc218\ub294 \ub9e4\uac1c\ubcc0\uc218 \uc778\uc790\ub97c \ubc1b\uace0 \uc774\ub97c \uac00\uc9c0\uace0 \ub0b4\ubd80 \ub370\ucf54\ub808\uc774\ud130 \ud568\uc218\uc5d0\uc11c \uc0ac\uc6a9\ud558\uac8c \ud568\n",
      "- \ub0b4\ubd80 \ud568\uc218 decorate()\ub294 \ud568\uc218\ub97c \ubc1b\uace0 \uc774\ub97c \uac10\uc308\n",
      "- \uc911\uc694\ud55c \ubd80\ubd84\uc740 **\uc774 wrapper\uac00 logged()\uc5d0 \uc804\ub2ec\ub41c \ub9e4\uac1c\ubcc0\uc218\ub97c \uc0ac\uc6a9**\ud560 \uc218 \uc788\ub2e4\ub294 \uc810"
     ]
    },
    {
     "cell_type": "markdown",
     "metadata": {},
     "source": [
      "### \ud1a0\ub860\n",
      "\n",
      "- \ub9e4\uac1c\ubcc0\uc218\ub97c \ubc1b\ub294 \ub370\ucf54\ub808\uc774\ud130\ub97c \uc791\uc131\ud558\ub294 \uac83\uc740 \ub0b4\ubd80 \ud638\ucd9c \uacfc\uc815\uc774 \ud3ec\ud568\ub418\uc5b4 \uc788\uc5b4 \uc27d\uc9c0 \uc54a\ub2e4.\n",
      "- \ud2b9\ud788 \ub2e4\uc74c\uacfc \uac19\uc774 \ucf54\ub4dc\uac00 \uc788\ub2e4\uba74,"
     ]
    },
    {
     "cell_type": "markdown",
     "metadata": {},
     "source": [
      "```python\n",
      "@decorator(x, y, z)\n",
      "def func(a, b):\n",
      "    pass\n",
      "```"
     ]
    },
    {
     "cell_type": "markdown",
     "metadata": {},
     "source": [
      "- \ub370\ucf54\ub808\uc774\ud2b8 \uacfc\uc815\uc740 \ub2e4\uc74c\uacfc \uac19\uc774 \uc9c4\ud589\ub428"
     ]
    },
    {
     "cell_type": "markdown",
     "metadata": {},
     "source": [
      "```python\n",
      "def func(a, b):\n",
      "    pass\n",
      "   \n",
      "func = decorator(x, y, z)(func)\n",
      "```"
     ]
    },
    {
     "cell_type": "markdown",
     "metadata": {},
     "source": [
      "## 9.5 \uc0ac\uc6a9\uc790\uac00 \uc870\uc808 \uac00\ub2a5\ud55c \uc18d\uc131\uc744 \uac00\uc9c4 \ub370\ucf54\ub808\uc774\ud130 \uc815\uc758\n",
      "\n",
      "### \ubb38\uc81c\n",
      "\n",
      "- \ud568\uc218\ub97c \uac10\uc2f8\ub294 \ub370\ucf54\ub808\uc774\ud130 \ud568\uc218\ub97c \uc791\uc131\ud558\ub294\ub370, \uc0ac\uc6a9\uc790\uac00 \uc2e4\ud589 \uc2dc\uac04\uc5d0 \ub3d9\uc791\uc131\uc744 \ubcc0\uacbd\ud560 \uc218 \uc788\ub3c4\ub85d \uc18d\uc131\uc744 \uc870\uc808\ud558\ub3c4\ub85d \ud558\uace0 \uc2f6\ub2e4.\n",
      "\n",
      "### \ud574\uacb0\n",
      "\n",
      "- \ub9c8\uc9c0\ub9c9 \ub808\uc2dc\ud53c\ub97c \ud655\uc7a5\ud574\uc11c nonlocal \ubcc0\uc218 \uc120\uc5b8\uc744 \ud1b5\ud574 \ub0b4\ubd80 \ubcc0\uc218\ub97c \ubc14\uafb8\ub294 \uc811\uadfc\uc790 \ud568\uc218(accessor function)\uc744 \ub9cc\ub4e4\uc5b4 \ubcf4\uc790.\n",
      "- \uadf8\ub9ac\uace0 \uc811\uadfc\uc790 \ud568\uc218\ub294 \ub798\ud37c \ud568\uc218\uc5d0 \ud568\uc218 \uc18d\uc131\uc744 \ucca8\ubd80 \ub428"
     ]
    },
    {
     "cell_type": "code",
     "collapsed": false,
     "input": [
      "from functools import wraps, partial\n",
      "import logging\n",
      "\n",
      "# obj\uc758 \uc18d\uc131\uc73c\ub85c \ud568\uc218\uc5d0 \ubd99\uc774\ub294 \uc720\ud2f8\ub9ac\ud2f0 \ub370\ucf54\ub808\uc774\ud130\n",
      "def attach_wrapper(obj, func=None):\n",
      "    if func is None:\n",
      "        return partial(attach_wrapper, obj)\n",
      "    setattr(obj, func.__name__, func)\n",
      "    return func\n",
      "\n",
      "def logged(level, name=None, message=None):\n",
      "    '''\n",
      "    \ud568\uc218\uc5d0 \ub85c\uae45 \ucd94\uac00.\n",
      "    level\uc740 \ub85c\uae45 \ub808\ubca8\n",
      "    name\uc740 \ub85c\uac70 \uc774\ub984\n",
      "    message\ub294 \ub85c\uadf8 \uba54\uc2dc\uc9c0\n",
      "    name\uacfc message\uac00 \uba85\uc2dc\ub418\uc9c0 \uc54a\uc73c\uba74 \ud568\uc218\uc758 \uc774\ub984\uc744 \uae30\ubcf8\uac12\uc73c\ub85c \ud568\n",
      "    '''\n",
      "    def decorate(func):\n",
      "        logname = name if name else func.__module__\n",
      "        log = logging.getLogger(logname)\n",
      "        logmsg = message if message else func.__name__\n",
      "        \n",
      "        @wraps(func)\n",
      "        def wrapper(*args, **kwargs):\n",
      "            log.log(level, logmsg)\n",
      "            return func(*args, **kwargs)\n",
      "        \n",
      "        # \uc138\ud130 \ud568\uc218 \ucca8\ubd80\n",
      "        @attach_wrapper(wrapper)\n",
      "        def set_level(newlevel):\n",
      "            nonlocal level\n",
      "            level = newlevel\n",
      "            \n",
      "        @attach_wrapper(wrapper)\n",
      "        def set_message(newmsg):\n",
      "            nonlocal logmsg\n",
      "            logmsg = newmsg\n",
      "            \n",
      "        return wrapper\n",
      "    return decorate"
     ],
     "language": "python",
     "metadata": {},
     "outputs": [],
     "prompt_number": 51
    },
    {
     "cell_type": "code",
     "collapsed": false,
     "input": [
      "# \uc0ac\uc6a9 \uc608\n",
      "@logged(logging.DEBUG)\n",
      "def add(x, y):\n",
      "    return x + y\n",
      "\n",
      "@logged(logging.CRITICAL, 'example')\n",
      "def spam():\n",
      "    print('Spam!')"
     ],
     "language": "python",
     "metadata": {},
     "outputs": [],
     "prompt_number": 52
    },
    {
     "cell_type": "markdown",
     "metadata": {},
     "source": [
      "- \uc815\uc758 \ud6c4 \uc5ec\ub7ec \uc18d\uc131\uc744 \ubc14\uafb8\ub294 \uc138\uc158\uc758 \uc608"
     ]
    },
    {
     "cell_type": "code",
     "collapsed": false,
     "input": [
      "import logging\n",
      "logging.basicConfig(level=logging.DEBUG)\n",
      "add(2, 3)"
     ],
     "language": "python",
     "metadata": {},
     "outputs": [
      {
       "metadata": {},
       "output_type": "pyout",
       "prompt_number": 53,
       "text": [
        "5"
       ]
      }
     ],
     "prompt_number": 53
    },
    {
     "cell_type": "code",
     "collapsed": false,
     "input": [
      "# Change the log message\n",
      "add.set_message('Add called')\n",
      "add(2, 3)"
     ],
     "language": "python",
     "metadata": {},
     "outputs": [
      {
       "metadata": {},
       "output_type": "pyout",
       "prompt_number": 54,
       "text": [
        "5"
       ]
      }
     ],
     "prompt_number": 54
    },
    {
     "cell_type": "code",
     "collapsed": false,
     "input": [
      "# Change the log level\n",
      "add.set_level(logging.WARNING)\n",
      "add(2, 3)"
     ],
     "language": "python",
     "metadata": {},
     "outputs": [
      {
       "output_type": "stream",
       "stream": "stderr",
       "text": [
        "WARNING:__main__:Add called\n"
       ]
      },
      {
       "metadata": {},
       "output_type": "pyout",
       "prompt_number": 55,
       "text": [
        "5"
       ]
      }
     ],
     "prompt_number": 55
    },
    {
     "cell_type": "markdown",
     "metadata": {},
     "source": [
      "### \ud1a0\ub860\n",
      "\n",
      "- \uc774\ubc88 \ub808\uc2dc\ud53c\uc5d0\uc11c \uc911\uc694\ud55c \ubd80\ubd84\uc740 \ub808\ud37c\uc5d0 \uc18d\uc131\uc73c\ub85c \ubd99\uc774\ub294 \uc811\uadfc\uc790 \ud568\uc218[set_message()\uc640 set_level() \ub4f1]\uc5d0 \uc788\ub2e4.\n",
      "- \ubaa8\ub4e0 \uc811\uadfc\uc790\ub294 \ub0b4\ubd80 \ud30c\ub77c\ubbf8\ud130\ub97c nonlocal \ud560\ub2f9\uc744 \uc0ac\uc6a9\ud558\uc5ec \uc870\uc808\ud558\ub3c4\ub85d \ud568\n",
      "- \uc774\ubc88\uc5d0 \ubc30\uc6b4 \ub0b4\uc6a9\uc5d0\uc11c \ub180\ub77c\uc6b4 \uae30\ub2a5\uc740 \uc811\uadfc\uc790 \ud568\uc218\uac00 \uc5ec\ub7ec \ub808\ubca8\uc758 \ub370\ucf54\ub808\uc774\uc158\uc5d0 \uc804\ud30c\ub41c\ub2e4\ub294 \uc810(\ubaa8\ub4e0 \ub370\ucf54\ub808\uc774\ud130\uac00 @functools.wraps\ub97c \uc0ac\uc6a9\ud574\uc57c \ud568)\n",
      "- \uc608\ub97c \ub4e4\uc5b4 \ub808\uc2dc\ud53c 9.2\uc5d0 \ub098\uc628 @timethis\uc640 \uac19\uc774 \ucd94\uac00\uc801\uc778 \ub370\ucf54\ub808\uc774\ud130\ub97c \uc0ac\uc6a9\ud558\uba74 \ub2e4\uc74c\uacfc \uac19\uc74c"
     ]
    },
    {
     "cell_type": "code",
     "collapsed": false,
     "input": [
      "@timethis\n",
      "@logged(logging.DEBUG)\n",
      "def countdown(n):\n",
      "    while n > 0:\n",
      "        n -= 1"
     ],
     "language": "python",
     "metadata": {},
     "outputs": [],
     "prompt_number": 66
    },
    {
     "cell_type": "markdown",
     "metadata": {},
     "source": [
      "- \uc811\uadfc\uc790 \uba54\uc18c\ub4dc\ub294 \uc5ec\uc804\ud788 \uc798 \ub3d9\uc791"
     ]
    },
    {
     "cell_type": "code",
     "collapsed": false,
     "input": [
      "countdown(10000000)"
     ],
     "language": "python",
     "metadata": {},
     "outputs": [
      {
       "output_type": "stream",
       "stream": "stdout",
       "text": [
        "countdown 0.7241628170013428\n"
       ]
      }
     ],
     "prompt_number": 67
    },
    {
     "cell_type": "code",
     "collapsed": false,
     "input": [
      "countdown.set_level(logging.WARNING)"
     ],
     "language": "python",
     "metadata": {},
     "outputs": [],
     "prompt_number": 68
    },
    {
     "cell_type": "code",
     "collapsed": false,
     "input": [
      "countdown.set_message('Countint down to zero')"
     ],
     "language": "python",
     "metadata": {},
     "outputs": [],
     "prompt_number": 69
    },
    {
     "cell_type": "code",
     "collapsed": false,
     "input": [
      "countdown(10000000)"
     ],
     "language": "python",
     "metadata": {},
     "outputs": [
      {
       "output_type": "stream",
       "stream": "stderr",
       "text": [
        "WARNING:__main__:Countint down to zero\n"
       ]
      },
      {
       "output_type": "stream",
       "stream": "stdout",
       "text": [
        "countdown 0.7216660976409912\n"
       ]
      }
     ],
     "prompt_number": 70
    },
    {
     "cell_type": "markdown",
     "metadata": {},
     "source": [
      "- \ub370\ucf54\ub808\uc774\ud130\ub97c \uc815 \ubc18\ub300\uc758 \uc21c\uc11c\ub85c \uad6c\uc131\ud55c\ub2e4 \ud574\ub3c4 \uc5ec\uc804\ud788 \ub3d9\uc77c\ud558\uac8c \uc798 \ub3d9\uc791\ud568"
     ]
    },
    {
     "cell_type": "code",
     "collapsed": false,
     "input": [
      "@logged(logging.DEBUG)\n",
      "@timethis\n",
      "def countdown(n):\n",
      "    while n > 0:\n",
      "        n -= 1"
     ],
     "language": "python",
     "metadata": {},
     "outputs": [],
     "prompt_number": 71
    },
    {
     "cell_type": "markdown",
     "metadata": {},
     "source": [
      "- \uc5ec\uae30\uc5d0 \ub098\uc624\uc9c0\ub294 \uc54a\uc558\uc9c0\ub9cc, \uc811\uadfc\uc790 \ud568\uc218\uac00 \uc5ec\ub7ec \uc124\uc815\uac12\uc744 \ubc18\ud658\ud558\ub3c4\ub85d \ud558\ub824\uba74 \ub2e4\uc74c\uacfc \uac19\uc774 \uac04\ub2e8\ud558\uac8c \ucf54\ub4dc \ucd94\uac00"
     ]
    },
    {
     "cell_type": "code",
     "collapsed": false,
     "input": [
      "from functools import wraps, partial\n",
      "import logging\n",
      "\n",
      "# obj\uc758 \uc18d\uc131\uc73c\ub85c \ud568\uc218\uc5d0 \ubd99\uc774\ub294 \uc720\ud2f8\ub9ac\ud2f0 \ub370\ucf54\ub808\uc774\ud130\n",
      "def attach_wrapper(obj, func=None):\n",
      "    if func is None:\n",
      "        return partial(attach_wrapper, obj)\n",
      "    setattr(obj, func.__name__, func)\n",
      "    return func\n",
      "\n",
      "def logged(level, name=None, message=None):\n",
      "    '''\n",
      "    \ud568\uc218\uc5d0 \ub85c\uae45 \ucd94\uac00.\n",
      "    level\uc740 \ub85c\uae45 \ub808\ubca8\n",
      "    name\uc740 \ub85c\uac70 \uc774\ub984\n",
      "    message\ub294 \ub85c\uadf8 \uba54\uc2dc\uc9c0\n",
      "    name\uacfc message\uac00 \uba85\uc2dc\ub418\uc9c0 \uc54a\uc73c\uba74 \ud568\uc218\uc758 \uc774\ub984\uc744 \uae30\ubcf8\uac12\uc73c\ub85c \ud568\n",
      "    '''\n",
      "    def decorate(func):\n",
      "        logname = name if name else func.__module__\n",
      "        log = logging.getLogger(logname)\n",
      "        logmsg = message if message else func.__name__\n",
      "        \n",
      "        @wraps(func)\n",
      "        def wrapper(*args, **kwargs):\n",
      "            log.log(level, logmsg)\n",
      "            return func(*args, **kwargs)\n",
      "        \n",
      "        # \uc138\ud130 \ud568\uc218 \ucca8\ubd80\n",
      "        @attach_wrapper(wrapper)\n",
      "        def set_level(newlevel):\n",
      "            nonlocal level\n",
      "            level = newlevel\n",
      "            \n",
      "        @attach_wrapper(wrapper)\n",
      "        def set_message(newmsg):\n",
      "            nonlocal logmsg\n",
      "            logmsg = newmsg\n",
      "            \n",
      "        @attach_wrapper(wrapper)\n",
      "        def get_level():\n",
      "            return level\n",
      "            \n",
      "        return wrapper\n",
      "    return decorate"
     ],
     "language": "python",
     "metadata": {},
     "outputs": [],
     "prompt_number": 72
    },
    {
     "cell_type": "code",
     "collapsed": false,
     "input": [
      "@timethis\n",
      "@logged(logging.DEBUG)\n",
      "def countdown(n):\n",
      "    while n > 0:\n",
      "        n -= 1"
     ],
     "language": "python",
     "metadata": {},
     "outputs": [],
     "prompt_number": 73
    },
    {
     "cell_type": "code",
     "collapsed": false,
     "input": [
      "countdown.get_level()"
     ],
     "language": "python",
     "metadata": {},
     "outputs": [
      {
       "metadata": {},
       "output_type": "pyout",
       "prompt_number": 75,
       "text": [
        "10"
       ]
      }
     ],
     "prompt_number": 75
    },
    {
     "cell_type": "code",
     "collapsed": false,
     "input": [
      "countdown.set_level(logging.DEBUG)\n",
      "countdown.get_level()"
     ],
     "language": "python",
     "metadata": {},
     "outputs": [
      {
       "metadata": {},
       "output_type": "pyout",
       "prompt_number": 77,
       "text": [
        "10"
       ]
      }
     ],
     "prompt_number": 77
    },
    {
     "cell_type": "code",
     "collapsed": false,
     "input": [
      "countdown.set_level(logging.WARNING)\n",
      "countdown.get_level()"
     ],
     "language": "python",
     "metadata": {},
     "outputs": [
      {
       "metadata": {},
       "output_type": "pyout",
       "prompt_number": 78,
       "text": [
        "30"
       ]
      }
     ],
     "prompt_number": 78
    },
    {
     "cell_type": "markdown",
     "metadata": {},
     "source": [
      "```python\n",
      "# Alternative\n",
      "wrapper.get_level = lambda: level\n",
      "...\n",
      "```"
     ]
    },
    {
     "cell_type": "markdown",
     "metadata": {},
     "source": [
      "- \uc774\ubc88 \ub808\uc2dc\ud53c\uc5d0\uc11c \uc544\uc8fc \ubbf8\ubb18\ud55c \uce21\uba74\uc740 \uc811\uadfc\uc790 \ud568\uc218\ub97c \ucc98\uc74c\uc5d0 \uc4f8 \uac83\uc778\uac00\uc5d0 \ub300\ud55c \ubd80\ubd84\n",
      "- \uc608\ub97c \ub4e4\uc5b4 \ud568\uc218 \uc18d\uc131\uc5d0 \uc9c1\uc811 \uc811\uadfc\ud558\ub294 \ubc29\uc2dd\uc5d0 \uae30\ubc18\ud55c \uad6c\ud604\uc744 \uace0\ub824\ud560 \uc218\ub3c4 \uc788\uc74c"
     ]
    },
    {
     "cell_type": "markdown",
     "metadata": {},
     "source": [
      "```python\n",
      "...\n",
      "@wraps(func)\n",
      "def wrapper(*args, **kwargs):\n",
      "    wrapper.log.log(wrapper.level, wrapper.logmsg)\n",
      "    return func(*args, **kwargs)\n",
      "    \n",
      "# \uc870\uc808 \uac00\ub2a5\ud55c \uc18d\uc131 \ucd94\uac00\n",
      "wrapper.level = level\n",
      "wrapper.logmsg = logmsg\n",
      "wrapper.log = log\n",
      "...\n",
      "```"
     ]
    },
    {
     "cell_type": "markdown",
     "metadata": {},
     "source": [
      "- \uc774 \ubc29\uc2dd\ub3c4 \ub3d9\uc791\ud558\uae30\ub294 \ud558\uc9c0\ub9cc, \ub370\ucf54\ub808\uc774\ud130\uac00 \ucd5c\uc0c1\ub2e8\uc5d0 \uc788\uc5b4\uc57c\ub9cc \ud568\n",
      "- \uc774\ubcf4\ub2e4 \ub354 \uc704\uc5d0 \ub370\ucf54\ub808\uc774\ud130\ub97c \uc801\uc6a9\ud558\uba74(\uc608\uc81c\uc758 @timethis\uc640 \uac19\uc774), \uae30\ubc18\uc758 \uc18d\uc131\uc744 \uac00\ub824 \ubc84\ub9ac\uace0 \ub354 \uc774\uc0c1 \uc811\uadfc\uc774 \ubd88\uac00\ub2a5 \ud568\n",
      "- \ud558\uc9c0\ub9cc \uc811\uadfc\uc790 \ud568\uc218\ub97c \uc0ac\uc6a9\ud558\uba74 \uc774 \uac19\uc740 \ubb38\uc81c\ub97c \ud53c\ud560 \uc218 \uc788\uc74c\n",
      "\n",
      "\n",
      "- \ub9c8\uc9c0\ub9c9\uc73c\ub85c \uc55e\uc5d0 \ub098\uc628 \ud574\uacb0\ucc45\uc740 \ud074\ub798\uc2a4\ub85c \uc815\uc758\ud55c \ub370\ucf54\ub808\uc774\ud130\uc758 \ub300\uc548\uc774 \ub420 \uc218\ub3c4 \uc788\uc74c\n",
      "- \uc790\uc138\ud55c \ub0b4\uc6a9\uc740 \ub808\uc2dc\ud53c 9.9\uc5d0 \ub098\uc634"
     ]
    },
    {
     "cell_type": "markdown",
     "metadata": {},
     "source": [
      "## 9.6 \uc635\uc158 \ub9e4\uac1c\ubcc0\uc218\ub97c \ubc1b\ub294 \ub370\ucf54\ub808\uc774\ud130 \uc815\uc758\n",
      "\n",
      "### \ubb38\uc81c\n",
      "\n",
      "- @decorator\uc640 \uac19\uc774 \ub9e4\uac1c\ubcc0\uc218\uac00 \uc5c6\uac70\ub098 @decorator(x, y, z)\uc640 \uac19\uc774 \uc635\uc158 \ub9e4\uac1c\ubcc0\uc218\uac00 \uc788\ub294 \ub370\ucf54\ub808\uc774\ud130 \ud558\ub098\ub97c \uc791\uc131\ud558\uace0 \uc2f6\ub2e4. \ud558\uc9c0\ub9cc \ud638\ucd9c \ubc29\uc2dd\uc774 \uc11c\ub85c \ub2ec\ub77c\uc11c \ub370\ucf54\ub808\uc774\ud130 \ud558\ub098\ub85c \ub9cc\ub4e4 \uc218 \uc788\ub294 \ub2e8\uc21c\ud55c \ubc29\ubc95\uc774 \uc5c6\uc5b4 \ubcf4\uc784\n",
      "\n",
      "### \ud574\uacb0\n",
      "\n",
      "- \ub808\uc2dc\ud53c 9.5\uc5d0 \ub098\uc628 \ub85c\uae45 \ucf54\ub4dc\ub97c \uc218\uc815\ud574\uc11c \uc55e\uc758 \uc124\uba85\uc5d0 \ub098\uc628 \ub370\ucf54\ub808\uc774\ud130\ub97c \uc815\uc758\ud588\uc74c"
     ]
    },
    {
     "cell_type": "code",
     "collapsed": false,
     "input": [
      "from functools import wraps, partial\n",
      "import logging\n",
      "\n",
      "def logged(func=None, *, level=logging.DEBUG, name=None, message=None):\n",
      "    if func is None:\n",
      "        return partial(logged, level=level, name=name, message=message)\n",
      "    \n",
      "    logname = name if name else func.__module__\n",
      "    log = logging.getLogger(logname)\n",
      "    logmsg = message if message else func.__name__\n",
      "    \n",
      "    @wraps(func)\n",
      "    def wrapper(*args, **kwargs):\n",
      "        log.log(level, logmsg)\n",
      "        return func(*args, **kwargs)\n",
      "    return wrapper"
     ],
     "language": "python",
     "metadata": {},
     "outputs": [],
     "prompt_number": 80
    },
    {
     "cell_type": "code",
     "collapsed": false,
     "input": [
      "# \uc0ac\uc6a9 \uc608\n",
      "@logged\n",
      "def add(x, y):\n",
      "    return x + y\n",
      "\n",
      "@logged(level=logging.CRITICAL, name='example')\n",
      "def spam():\n",
      "    print('Spam')"
     ],
     "language": "python",
     "metadata": {},
     "outputs": [],
     "prompt_number": 81
    },
    {
     "cell_type": "code",
     "collapsed": false,
     "input": [
      "add(4, 5)"
     ],
     "language": "python",
     "metadata": {},
     "outputs": [
      {
       "metadata": {},
       "output_type": "pyout",
       "prompt_number": 84,
       "text": [
        "9"
       ]
      }
     ],
     "prompt_number": 84
    },
    {
     "cell_type": "code",
     "collapsed": false,
     "input": [
      "spam()"
     ],
     "language": "python",
     "metadata": {},
     "outputs": [
      {
       "output_type": "stream",
       "stream": "stderr",
       "text": [
        "CRITICAL:example:spam\n"
       ]
      },
      {
       "output_type": "stream",
       "stream": "stdout",
       "text": [
        "Spam\n"
       ]
      }
     ],
     "prompt_number": 83
    },
    {
     "cell_type": "markdown",
     "metadata": {},
     "source": [
      "### \ud1a0\ub860\n",
      "\n",
      "- \uc774\ubc88 \ub808\uc2dc\ud53c\uc5d0 \ub098\uc628 \ubb38\uc81c\ub294 \ud504\ub85c\uadf8\ub798\ubc0d \uc77c\uad00\uc131\uacfc \ub9e4\uc6b0 \uad00\ub828\uc774 \uae4a\uc74c\n",
      "- \ub370\ucf54\ub808\uc774\ud130\ub97c \uc0ac\uc6a9\ud560 \ub54c \ub9ce\uc740 \ud504\ub85c\uadf8\ub798\uba38\ub4e4\uc740 **\ub9e4\uac1c\ubcc0\uc218\ub97c \uc804\ud600 \uc0ac\uc6a9\ud558\uc9c0 \uc54a\uac70\ub098**, \uc5d0\uc81c\uc5d0 \ub098\uc628 \uac83\ucc98\ub7fc **\ub9e4\uac1c\ubcc0\uc218\ub97c \uc0ac\uc6a9**\n",
      "- \uae30\uc220\uc801\uc73c\ub85c \ub9d0\ud558\uc790\uba74 \ubaa8\ub450 \uc635\uc158\uc774 \ub418\ub294 \ub9e4\uac1c\ubcc0\uc218\ub97c \ubc1b\ub294 \ub370\ucf54\ub808\uc774\ud130\ub3c4 \uc801\uc6a9 \uac00\ub2a5"
     ]
    },
    {
     "cell_type": "markdown",
     "metadata": {},
     "source": [
      "```python\n",
      "@logged()\n",
      "def add(x, y):\n",
      "    return x + y\n",
      "```"
     ]
    },
    {
     "cell_type": "markdown",
     "metadata": {},
     "source": [
      "- \ud558\uc9c0\ub9cc \uc774\ub294 \uc77c\ubc18\uc801\uc774\uc9c0 \uc54a\uc740 \ud615\uc2dd\uc774\uace0, \uc0ac\uc6a9\ud558\ub294 \ud504\ub85c\uadf8\ub798\uba38\uac00 \ucd94\uac00\uc801\uc778 \uad04\ud638\ub97c \uc78a\uc744 \ub54c \ubc1c\uc0dd\ud568\n",
      "- \uc774 \ub808\uc2dc\ud53c\ub294 \ub370\ucf54\ub808\uc774\ud130\uac00 \uad04\ud638 \uc5c6\uc774\ub3c4 \uc798 \ub3d9\uc791\ud558\ub3c4\ub85d \ud568\n",
      "- **\ucf54\ub4dc\uac00 \uc5b4\ub5bb\uac8c \ub3d9\uc791**\ud558\ub294\uc9c0 \uc774\ud574\ud558\ub824\uba74 **\ub370\ucf54\ub808\uc774\ud130\uac00 \uc5b4\ub5bb\uac8c \ud568\uc218\uc5d0 \uc801\uc6a9\ub418\ub294\uc9c0**\uc640 **\ud638\ucd9c \uc21c\uc11c\ub97c \uc798 \uc54c\uace0 \uc788\uc5b4\uc57c** \ud568"
     ]
    },
    {
     "cell_type": "code",
     "collapsed": false,
     "input": [
      "# \uc0ac\uc6a9 \uc608\n",
      "@logged\n",
      "def add(x, y):\n",
      "    return x + y"
     ],
     "language": "python",
     "metadata": {},
     "outputs": [],
     "prompt_number": 85
    },
    {
     "cell_type": "markdown",
     "metadata": {},
     "source": [
      "- \ud638\ucd9c \uc21c\uc11c\ub294 \ub2e4\uc74c\uacfc \uac19\ub2e4."
     ]
    },
    {
     "cell_type": "code",
     "collapsed": false,
     "input": [
      "def add(x, y):\n",
      "    return x + y\n",
      "add = logged(add)\n",
      "add(5, 4)"
     ],
     "language": "python",
     "metadata": {},
     "outputs": [
      {
       "metadata": {},
       "output_type": "pyout",
       "prompt_number": 89,
       "text": [
        "9"
       ]
      }
     ],
     "prompt_number": 89
    },
    {
     "cell_type": "markdown",
     "metadata": {},
     "source": [
      "- \uc774 \uacbd\uc6b0, \uac10\uc2f8\uc904 \ud568\uc218\ub97c logged\uc5d0 \uccab \ubc88\uc9f8 \ub9e4\uac1c\ubcc0\uc218\ub85c \ub118\uae34\ub2e4.\n",
      "- \uadf8\ub9ac\uace0 \uc55e\uc758 \ucf54\ub4dc\uc5d0\uc11c logged()\uc758 \uccab \ubc88\uc9f8 \ub9e4\uac1c\ubcc0\uc218\ub294 \uac10\uc2f8\uc904 \ud568\uc218\uc774\ub2e4.\n",
      "- \uadf8 \uc678\uc5d0 \ubaa8\ub4e0 \ub9e4\uac1c\ubcc0\uc218\ub97c \uae30\ubcf8\uac12\uc744 \uc18c\uc720\ud574\uc57c \ud568\n",
      "\n",
      "\n",
      "- \ub370\ucf54\ub808\uc774\ud130\ub294 \ub2e4\uc74c\uacfc \uac19\uc774 \ub9e4\uac1c\ubcc0\uc218\ub97c \ubc1b\uc74c"
     ]
    },
    {
     "cell_type": "code",
     "collapsed": false,
     "input": [
      "@logged(level=logging.CRITICAL, name='example')\n",
      "def spam():\n",
      "    print('Spam')"
     ],
     "language": "python",
     "metadata": {},
     "outputs": [],
     "prompt_number": 90
    },
    {
     "cell_type": "markdown",
     "metadata": {},
     "source": [
      "- \ub2e4\uc74c\uacfc \uac19\uc774 \ud638\ucd9c\ud568"
     ]
    },
    {
     "cell_type": "code",
     "collapsed": false,
     "input": [
      "def spam():\n",
      "    print('Spam!')\n",
      "spam = logged(level=logging.CRITICAL, name='example')(spam)\n",
      "spam()"
     ],
     "language": "python",
     "metadata": {},
     "outputs": [
      {
       "output_type": "stream",
       "stream": "stderr",
       "text": [
        "CRITICAL:example:spam\n"
       ]
      },
      {
       "output_type": "stream",
       "stream": "stdout",
       "text": [
        "Spam!\n"
       ]
      }
     ],
     "prompt_number": 91
    },
    {
     "cell_type": "markdown",
     "metadata": {},
     "source": [
      "- logged()\ub97c \ucc98\uc74c \ud638\ucd9c\ud560 \ub54c, \uac10\uc300 \ud568\uc218\ub294 \uc804\ub2ec\ud558\uc9c0 \uc54a\uc74c\n",
      "- \ub530\ub77c\uc11c, \ub370\ucf54\ub808\uc774\ud130\uc5d0\uc11c\ub294 \uc635\uc158\uc774 \ub418\uc5b4\uc57c \ud568\n",
      "- \uacb0\uacfc\uc801\uc73c\ub85c \ub2e4\ub978 \ub9e4\uac1c\ubcc0\uc218\ub294 \ud0a4\uc6cc\ub4dc\ub85c \uba85\uc2dc\ud574\uc57c\ub9cc \ud568\n",
      "- \ub9e4\uac1c\ubcc0\uc218\ub97c \uc804\ub2ec\ud588\uc744 \ub54c, \ub370\ucf54\ub808\uc774\ud130\ub294 \ud568\uc218\ub97c \ubc1b\ub294 \ud568\uc218\ub97c \ubc18\ud658\ud558\uace0 \uac10\uc2f8\uc57c \ud568(\ub808\uc2dc\ud53c 9.5 \ucc38\uace0)\n",
      "- \uc774\ub807\uac8c \ud558\uae30 \uc704\ud574\uc11c\ub294 functools.partial\uc744 \ud3ec\ud568\ud574\uc11c \ud604\uba85\ud558\uac8c \uad6c\ud604\ud574\uc57c \ud568\n",
      "- \ud2b9\ud788, **\uac10\uc2f8\uc57c \ud560 \ud568\uc218\ub97c \uc81c\uc678\ud558\uace0\ub294 \ubaa8\ub4e0 \ub9e4\uac1c\ubcc0\uc218\ub294 \uace0\uc815**\ub418\uc5b4 \uc788\uc73c\uba70 \uc774\ub807\uac8c **\ubd80\ubd84 \uc801\uc6a9\ub41c \uc790\uae30 \uc790\uc2e0\uc744 \ubc18\ud658\ud574\uc57c \ud568**\n",
      "- partial()\uc744 \uc0ac\uc6a9\ud558\ub294 \ubc29\ubc95\uc740 \ub808\uc2dc\ud53c 7.8\uc5d0 \uc798 \ub098\uc634"
     ]
    },
    {
     "cell_type": "markdown",
     "metadata": {},
     "source": [
      "## 9.7 \ub370\ucf54\ub808\uc774\ud130\ub97c \uc0ac\uc6a9\ud574\uc11c \ud568\uc218\uc5d0\uc11c \ud0c0\uc785 \ud655\uc778 \uac15\uc81c\n",
      "\n",
      "### \ubb38\uc81c\n",
      "\n",
      "- \ud568\uc218 \ub9e4\uac1c\ubcc0\uc218\uc758 \ud0c0\uc785\uc744 \uac15\uc81c\uc801\uc73c\ub85c \ud655\uc778\ud558\ub294 \uae30\ub2a5\uc744 \uad6c\ud604\ud558\uace0 \uc2f6\uc74c\n",
      "\n",
      "### \ud574\uacb0\n",
      "\n",
      "- \ud574\uacb0 \ucf54\ub4dc\ub97c \ubcf4\uae30 \uc804\uc5d0, \uc774\ubc88 \ub808\uc2dc\ud53c\uc758 \ubaa9\uc801\uc774 **\uc785\ub825 \ub9e4\uac1c\ubcc0\uc218\uc5d0 \ub300\ud55c \ud0c0\uc785 \ud655\uc778 \uac15\uc81c**\uc5d0 \uc788\uc74c\uc744 \uae30\uc5b5"
     ]
    },
    {
     "cell_type": "code",
     "collapsed": false,
     "input": [
      "# @typeassert decorator\n",
      "from inspect import signature\n",
      "from functools import wraps\n",
      "\n",
      "def typeassert(*ty_args, **ty_kwargs):\n",
      "    def decorate(func):\n",
      "        # \ub514\ubc84\uadf8 \ubaa8\ub4dc\uac00 \uc544\ub2c8\uba74 \ud0c0\uc785 \ud655\uc778\uc744 \ube44\ud65c\uc131\ud654\ud55c\ub2e4.\n",
      "        if not __debug__:\n",
      "            return func\n",
      "        \n",
      "        # \ub9e4\uac1c\ubcc0\uc218 \uc774\ub984\uc744 \uc9c0\uc6d0\ud560 \ud0c0\uc785\uc5d0 \ub9e4\ud551\ud55c\ub2e4.\n",
      "        sig = signature(func)\n",
      "        bound_types = sig.bind_partial(*ty_args, **ty_kwargs).arguments\n",
      "        \n",
      "        @wraps(func)\n",
      "        def wrapper(*args, **kwargs):\n",
      "            bound_values = sig.bind(*args, **kwargs)\n",
      "            # \uc9c0\uc6d0\ud558\ub294 \ub9e4\uac1c\ubcc0\uc218\ub9cc \uc0ac\uc6a9\ud558\ub3c4\ub85d \uac15\uc81c\ud55c\ub2e4.\n",
      "            for name, value in bound_values.arguments.items():\n",
      "                if name in bound_types:\n",
      "                    if not isinstance(value, bound_types[name]):\n",
      "                        raise TypeError(\n",
      "            'Argument {} must be {}'.format(name, bound_types[name])\n",
      "                        )\n",
      "            return func(*args, **kwargs)\n",
      "        return wrapper\n",
      "    return decorate"
     ],
     "language": "python",
     "metadata": {},
     "outputs": [],
     "prompt_number": 95
    },
    {
     "cell_type": "code",
     "collapsed": false,
     "input": [
      "@typeassert(int, int)\n",
      "def add(x, y):\n",
      "    return x + y"
     ],
     "language": "python",
     "metadata": {},
     "outputs": [],
     "prompt_number": 96
    },
    {
     "cell_type": "code",
     "collapsed": false,
     "input": [
      "add(2, 3)"
     ],
     "language": "python",
     "metadata": {},
     "outputs": [
      {
       "metadata": {},
       "output_type": "pyout",
       "prompt_number": 97,
       "text": [
        "5"
       ]
      }
     ],
     "prompt_number": 97
    },
    {
     "cell_type": "code",
     "collapsed": false,
     "input": [
      "add(2, 'hello')"
     ],
     "language": "python",
     "metadata": {},
     "outputs": [
      {
       "ename": "TypeError",
       "evalue": "Argument y must be <class 'int'>",
       "output_type": "pyerr",
       "traceback": [
        "\u001b[0;31m---------------------------------------------------------------------------\u001b[0m\n\u001b[0;31mTypeError\u001b[0m                                 Traceback (most recent call last)",
        "\u001b[0;32m<ipython-input-98-cadccec04575>\u001b[0m in \u001b[0;36m<module>\u001b[0;34m()\u001b[0m\n\u001b[0;32m----> 1\u001b[0;31m \u001b[0madd\u001b[0m\u001b[0;34m(\u001b[0m\u001b[0;36m2\u001b[0m\u001b[0;34m,\u001b[0m \u001b[0;34m'hello'\u001b[0m\u001b[0;34m)\u001b[0m\u001b[0;34m\u001b[0m\u001b[0m\n\u001b[0m",
        "\u001b[0;32m<ipython-input-95-f2f2aeae1c4d>\u001b[0m in \u001b[0;36mwrapper\u001b[0;34m(*args, **kwargs)\u001b[0m\n\u001b[1;32m     21\u001b[0m                     \u001b[0;32mif\u001b[0m \u001b[0;32mnot\u001b[0m \u001b[0misinstance\u001b[0m\u001b[0;34m(\u001b[0m\u001b[0mvalue\u001b[0m\u001b[0;34m,\u001b[0m \u001b[0mbound_types\u001b[0m\u001b[0;34m[\u001b[0m\u001b[0mname\u001b[0m\u001b[0;34m]\u001b[0m\u001b[0;34m)\u001b[0m\u001b[0;34m:\u001b[0m\u001b[0;34m\u001b[0m\u001b[0m\n\u001b[1;32m     22\u001b[0m                         raise TypeError(\n\u001b[0;32m---> 23\u001b[0;31m             \u001b[0;34m'Argument {} must be {}'\u001b[0m\u001b[0;34m.\u001b[0m\u001b[0mformat\u001b[0m\u001b[0;34m(\u001b[0m\u001b[0mname\u001b[0m\u001b[0;34m,\u001b[0m \u001b[0mbound_types\u001b[0m\u001b[0;34m[\u001b[0m\u001b[0mname\u001b[0m\u001b[0;34m]\u001b[0m\u001b[0;34m)\u001b[0m\u001b[0;34m\u001b[0m\u001b[0m\n\u001b[0m\u001b[1;32m     24\u001b[0m                         )\n\u001b[1;32m     25\u001b[0m             \u001b[0;32mreturn\u001b[0m \u001b[0mfunc\u001b[0m\u001b[0;34m(\u001b[0m\u001b[0;34m*\u001b[0m\u001b[0margs\u001b[0m\u001b[0;34m,\u001b[0m \u001b[0;34m**\u001b[0m\u001b[0mkwargs\u001b[0m\u001b[0;34m)\u001b[0m\u001b[0;34m\u001b[0m\u001b[0m\n",
        "\u001b[0;31mTypeError\u001b[0m: Argument y must be <class 'int'>"
       ]
      }
     ],
     "prompt_number": 98
    },
    {
     "cell_type": "markdown",
     "metadata": {},
     "source": [
      "- \ubaa8\ub4e0 \ub9e4\uac1c\ubcc0\uc218\uc5d0 \ub300\ud574\uc11c \ud0c0\uc785\uc744 \uba85\uc2dc\ud558\uac70\ub098 \ud639\uc740 \ubd80\ubd84\ub9cc \uc9c0\uc815 \uac00\ub2a5\n",
      "- \ub370\ucf54\ub808\uc774\ud130\uac00 \uc5b4\ub290 \uc815\ub3c4 \uc720\uc5f0\ud558\ub2e4\ub294 \uc810 \ud655\uc778\n",
      "- \ud0c0\uc785\uc740 \uc704\uce58 \ud639\uc740 \ud0a4\uc6cc\ub4dc\ub85c \uba85\uc2dc \uac00\ub2a5"
     ]
    },
    {
     "cell_type": "code",
     "collapsed": false,
     "input": [
      "@typeassert(int, z=int)\n",
      "def spam(x, y, z=42):\n",
      "    print(x, y, z)"
     ],
     "language": "python",
     "metadata": {},
     "outputs": [],
     "prompt_number": 101
    },
    {
     "cell_type": "code",
     "collapsed": false,
     "input": [
      "spam(1, 2, 3)"
     ],
     "language": "python",
     "metadata": {},
     "outputs": [
      {
       "output_type": "stream",
       "stream": "stdout",
       "text": [
        "1 2 3\n"
       ]
      }
     ],
     "prompt_number": 102
    },
    {
     "cell_type": "code",
     "collapsed": false,
     "input": [
      "spam(1, 'hello', 3)"
     ],
     "language": "python",
     "metadata": {},
     "outputs": [
      {
       "output_type": "stream",
       "stream": "stdout",
       "text": [
        "1 hello 3\n"
       ]
      }
     ],
     "prompt_number": 103
    },
    {
     "cell_type": "code",
     "collapsed": false,
     "input": [
      "spam(1, 'hello', 'world')"
     ],
     "language": "python",
     "metadata": {},
     "outputs": [
      {
       "ename": "TypeError",
       "evalue": "Argument z must be <class 'int'>",
       "output_type": "pyerr",
       "traceback": [
        "\u001b[0;31m---------------------------------------------------------------------------\u001b[0m\n\u001b[0;31mTypeError\u001b[0m                                 Traceback (most recent call last)",
        "\u001b[0;32m<ipython-input-104-9f1ccdabe91b>\u001b[0m in \u001b[0;36m<module>\u001b[0;34m()\u001b[0m\n\u001b[0;32m----> 1\u001b[0;31m \u001b[0mspam\u001b[0m\u001b[0;34m(\u001b[0m\u001b[0;36m1\u001b[0m\u001b[0;34m,\u001b[0m \u001b[0;34m'hello'\u001b[0m\u001b[0;34m,\u001b[0m \u001b[0;34m'world'\u001b[0m\u001b[0;34m)\u001b[0m\u001b[0;34m\u001b[0m\u001b[0m\n\u001b[0m",
        "\u001b[0;32m<ipython-input-95-f2f2aeae1c4d>\u001b[0m in \u001b[0;36mwrapper\u001b[0;34m(*args, **kwargs)\u001b[0m\n\u001b[1;32m     21\u001b[0m                     \u001b[0;32mif\u001b[0m \u001b[0;32mnot\u001b[0m \u001b[0misinstance\u001b[0m\u001b[0;34m(\u001b[0m\u001b[0mvalue\u001b[0m\u001b[0;34m,\u001b[0m \u001b[0mbound_types\u001b[0m\u001b[0;34m[\u001b[0m\u001b[0mname\u001b[0m\u001b[0;34m]\u001b[0m\u001b[0;34m)\u001b[0m\u001b[0;34m:\u001b[0m\u001b[0;34m\u001b[0m\u001b[0m\n\u001b[1;32m     22\u001b[0m                         raise TypeError(\n\u001b[0;32m---> 23\u001b[0;31m             \u001b[0;34m'Argument {} must be {}'\u001b[0m\u001b[0;34m.\u001b[0m\u001b[0mformat\u001b[0m\u001b[0;34m(\u001b[0m\u001b[0mname\u001b[0m\u001b[0;34m,\u001b[0m \u001b[0mbound_types\u001b[0m\u001b[0;34m[\u001b[0m\u001b[0mname\u001b[0m\u001b[0;34m]\u001b[0m\u001b[0;34m)\u001b[0m\u001b[0;34m\u001b[0m\u001b[0m\n\u001b[0m\u001b[1;32m     24\u001b[0m                         )\n\u001b[1;32m     25\u001b[0m             \u001b[0;32mreturn\u001b[0m \u001b[0mfunc\u001b[0m\u001b[0;34m(\u001b[0m\u001b[0;34m*\u001b[0m\u001b[0margs\u001b[0m\u001b[0;34m,\u001b[0m \u001b[0;34m**\u001b[0m\u001b[0mkwargs\u001b[0m\u001b[0;34m)\u001b[0m\u001b[0;34m\u001b[0m\u001b[0m\n",
        "\u001b[0;31mTypeError\u001b[0m: Argument z must be <class 'int'>"
       ]
      }
     ],
     "prompt_number": 104
    },
    {
     "cell_type": "markdown",
     "metadata": {},
     "source": [
      "### \ud1a0\ub860\n",
      "\n",
      "- \uc774\ubc88 \ub808\uc2dc\ud53c\uc5d0\ub294 **\uace0\uae09 \ub370\ucf54\ub808\uc774\ud130**\uc758 **\uc911\uc694**\ud558\uace0 **\uc720\uc6a9**\ud55c \uae30\uc220\uc774 \ub9ce\uc774 \uc18c\uac1c\ub428\n",
      "- \uccab\uc9f8, \ub370\ucf54\ub808\uc774\ud130\uc758 \ud55c \uac00\uc9c0 \uce21\uba74\uc73c\ub85c **\ud568\uc218\ub97c \uc815\uc758\ud560 \ub54c \ub2e8 \ud55c \ubc88\ub9cc \uc801\uc6a9**\ub41c\ub2e4\ub294 \uc810\n",
      "- \ud2b9\uc815\ud55c \uacbd\uc6b0\uc5d0 **\ub370\ucf54\ub808\uc774\ud130\uac00 \ucd94\uac00\ud55c \uae30\ub2a5\uc744 \ube44\ud65c\uc131\ud654**\ud558\uace0 \uc2f6\uc744\ub54c\n",
      "- \uc774\ub807\uac8c \ud558\uae30 \uc704\ud574\uc11c\ub294 **\ub370\ucf54\ub808\uc774\ud130 \ud568\uc218\uac00 \uac10\uc2f8\uc9c0 \uc54a\uc740\ud568\uc218\ub97c \ubc18\ud658**\ud558\ub3c4\ub85d \ud558\uba74 \ub428\n",
      "- \uc55e\uc5d0 \ub098\uc628 \ud574\uacb0\ucc45\uc5d0\uc11c\ub294 \uc804\uc5ed \ubcc0\uc218 **\\_\\_debug\\_\\_\uac00 False**\ub85c \uc124\uc815\ub41c \uacbd\uc6b0 \ub2e4\uc74c \ucf54\ub4dc\uac00 **\uc218\uc815\ub418\uc9c0 \uc54a\uc740 \ud568\uc218\ub97c \ubc18\ud658**(\ud30c\uc774\uc36c\uc744 -O \ud638\uae0d\u3134 -OO \uc635\uc158\uc73c\ub85c \ucd5c\uc801\ud654 \ubaa8\ub4dc\ub85c \uc2e4\ud589\ud55c \uacbd\uc6b0)"
     ]
    },
    {
     "cell_type": "markdown",
     "metadata": {},
     "source": [
      "```python\n",
      "...\n",
      "def decorate(func):\n",
      "    # \ucd5c\uc801\ud654 \ubaa8\ub4dc\uc5d0\uc11c\ub294 \ud0c0\uc785 \ud655\uc778\uc744 \ud558\uc9c0 \uc54a\ub294\ub2e4.\n",
      "    if not __debug__:\n",
      "        return func\n",
      "...\n",
      "```"
     ]
    },
    {
     "cell_type": "markdown",
     "metadata": {},
     "source": [
      "#### \uc774 \ub370\ucf54\ub808\uc774\ud130\ub97c \uc791\uc131\ud560 \ub54c **\uc5b4\ub824\uc6b4 \uc810**\n",
      "\n",
      "- \uac10\uc2fc \ud568\uc218\uc758 \ub9e4\uac1c\ubcc0\uc218 \uc2dc \uc2dc\uadf8\ub2c8\ucc98\uc640 \ud568\uaed8 \ub3d9\uc791\ud574\uc57c \ud558\ub294 \ubd80\ubd84\n",
      "- \uc774\ub54c\ub294 inspect.signature() \ud568\uc218\ub97c \uc0ac\uc6a9\ud574\uc57c \ud568\n",
      "- \uac04\ub2e8\ud788 \ub9d0\ud574\uc11c, \uc774 \ud568\uc218\ub294 \ud638\ucd9c \uac00\ub2a5 \uac1d\uccb4\uc5d0\uc11c \uc2dc\uadf8\ub2c8\ucc98 \uc815\ubcf4\ub97c \ucd94\ucd9c\ud568"
     ]
    },
    {
     "cell_type": "code",
     "collapsed": false,
     "input": [
      "from inspect import signature\n",
      "def spam(x, y, z=42):\n",
      "    pass"
     ],
     "language": "python",
     "metadata": {},
     "outputs": [],
     "prompt_number": 106
    },
    {
     "cell_type": "code",
     "collapsed": false,
     "input": [
      "sig = signature(spam)"
     ],
     "language": "python",
     "metadata": {},
     "outputs": [],
     "prompt_number": 107
    },
    {
     "cell_type": "code",
     "collapsed": false,
     "input": [
      "print(sig)"
     ],
     "language": "python",
     "metadata": {},
     "outputs": [
      {
       "output_type": "stream",
       "stream": "stdout",
       "text": [
        "(x, y, z=42)\n"
       ]
      }
     ],
     "prompt_number": 108
    },
    {
     "cell_type": "code",
     "collapsed": false,
     "input": [
      "sig.parameters"
     ],
     "language": "python",
     "metadata": {},
     "outputs": [
      {
       "metadata": {},
       "output_type": "pyout",
       "prompt_number": 109,
       "text": [
        "mappingproxy(OrderedDict([('x', <Parameter at 0x10e09a3a8 'x'>), ('y', <Parameter at 0x10e071750 'y'>), ('z', <Parameter at 0x10e0aa900 'z'>)]))"
       ]
      }
     ],
     "prompt_number": 109
    },
    {
     "cell_type": "code",
     "collapsed": false,
     "input": [
      "sig.parameters['z'].name"
     ],
     "language": "python",
     "metadata": {},
     "outputs": [
      {
       "metadata": {},
       "output_type": "pyout",
       "prompt_number": 110,
       "text": [
        "'z'"
       ]
      }
     ],
     "prompt_number": 110
    },
    {
     "cell_type": "code",
     "collapsed": false,
     "input": [
      "sig.parameters['z'].default"
     ],
     "language": "python",
     "metadata": {},
     "outputs": [
      {
       "metadata": {},
       "output_type": "pyout",
       "prompt_number": 111,
       "text": [
        "42"
       ]
      }
     ],
     "prompt_number": 111
    },
    {
     "cell_type": "code",
     "collapsed": false,
     "input": [
      "sig.parameters['z'].kind"
     ],
     "language": "python",
     "metadata": {},
     "outputs": [
      {
       "metadata": {},
       "output_type": "pyout",
       "prompt_number": 112,
       "text": [
        "<_ParameterKind: 'POSITIONAL_OR_KEYWORD'>"
       ]
      }
     ],
     "prompt_number": 112
    },
    {
     "cell_type": "code",
     "collapsed": false,
     "input": [
      "sig.parameters['x'].name"
     ],
     "language": "python",
     "metadata": {},
     "outputs": [
      {
       "metadata": {},
       "output_type": "pyout",
       "prompt_number": 114,
       "text": [
        "'x'"
       ]
      }
     ],
     "prompt_number": 114
    },
    {
     "cell_type": "code",
     "collapsed": false,
     "input": [
      "sig.parameters['x'].default"
     ],
     "language": "python",
     "metadata": {},
     "outputs": [
      {
       "metadata": {},
       "output_type": "pyout",
       "prompt_number": 115,
       "text": [
        "inspect._empty"
       ]
      }
     ],
     "prompt_number": 115
    },
    {
     "cell_type": "code",
     "collapsed": false,
     "input": [
      "sig.parameters['x'].kind"
     ],
     "language": "python",
     "metadata": {},
     "outputs": [
      {
       "metadata": {},
       "output_type": "pyout",
       "prompt_number": 113,
       "text": [
        "<_ParameterKind: 'POSITIONAL_OR_KEYWORD'>"
       ]
      }
     ],
     "prompt_number": 113
    },
    {
     "cell_type": "markdown",
     "metadata": {},
     "source": [
      "- \ub370\ucf54\ub808\uc774\ud130 \uccab \ubd80\ubd84\uc5d0\uc11c, \ub9e4\uac1c\ubcc0\uc218 \uc774\ub984\uc5d0 \uc81c\uacf5\ubc1b\uc740 \ud0c0\uc785\uc758 \ubd80\ubd84 \ubc14\uc778\ub529(partial binding)\uc744 \uc218\ud589\ud558\uae30 \uc704\ud574 \uc2dc\uadf8\ub2c8\ucc98\uc758 bind_partial() \uba54\uc18c\ub4dc \uc0ac\uc6a9"
     ]
    },
    {
     "cell_type": "code",
     "collapsed": false,
     "input": [
      "bound_types = sig.bind_partial(int, z=int)"
     ],
     "language": "python",
     "metadata": {},
     "outputs": [],
     "prompt_number": 116
    },
    {
     "cell_type": "code",
     "collapsed": true,
     "input": [
      "bound_types"
     ],
     "language": "python",
     "metadata": {},
     "outputs": [
      {
       "metadata": {},
       "output_type": "pyout",
       "prompt_number": 117,
       "text": [
        "<inspect.BoundArguments at 0x10e0a7278>"
       ]
      }
     ],
     "prompt_number": 117
    },
    {
     "cell_type": "code",
     "collapsed": true,
     "input": [
      "bound_types.arguments"
     ],
     "language": "python",
     "metadata": {},
     "outputs": [
      {
       "metadata": {},
       "output_type": "pyout",
       "prompt_number": 118,
       "text": [
        "OrderedDict([('x', <class 'int'>), ('z', <class 'int'>)])"
       ]
      }
     ],
     "prompt_number": 118
    },
    {
     "cell_type": "markdown",
     "metadata": {},
     "source": [
      "- \ubd80\ubd84 \ubc14\uc778\ub529\uc5d0\uc11c, \ube60\uc9c4 \uc778\uc790 \ubd80\ubd84\uc740 \ub2e8\uc21c\ud788 \ubb34\uc2dc\ud568(\uc608\ub97c \ub4e4\uc5b4 y\uc5d0 \ubb36\uc778 \uac12\uc740 \uc5c6\ub2e4)\n",
      "- \ud558\uc9c0\ub9cc \ubc14\uc778\ub529\uc5d0\uc11c **\uac00\uc7a5 \uc911\uc694\ud55c \ubd80\ubd84**\uc740 **\uc815\ub82c\ub41c \ub515\uc154\ub108\ub9ac bound_types.arguments\ub97c \uc0dd\uc131**\ud558\ub294 \uc810\n",
      "- \uc774 \ub515\uc154\ub108\ub9ac\ub294 \ub9e4\uac1c\ubcc0\uc218 \uc774\ub984\uc744 \uc9c0\uc6d0\ud558\ub294 \uac12\uc5d0 \ud568\uc218 \uc2dc\uadf8\ub2c8\ucc98\uc640 \ub3d9\uc77c\ud55c \uc21c\uc11c\ub85c \ub9e4\ud551\ud568\n",
      "- \uc6b0\ub9ac\uac00 \ub9cc\ub4e0 \ub370\ucf54\ub808\uc774\ud130\uc758 \uacbd\uc6b0, \uc774 \ub9e4\ud551\uc5d0 \uac15\uc81c\ud560 \ud0c0\uc785\uc744 \ub2f4\uace0 \uc788\uc74c\n",
      "\n",
      "\n",
      "- \uc2e4\uc81c\ub85c \ub370\ucf54\ub808\uc774\ud130\uac00 \ub9cc\ub4e0 \ub798\ud37c \ud568\uc218\uc5d0\uc11c sig.bind() \uba54\uc18c\ub4dc\ub97c \uc0ac\uc6a9\ud568\n",
      "- bind()\ub294 bind_partial()\uacfc \ube44\uc2b7\ud558\uac8c \ub3d9\uc791\ud558\uc9c0\ub9cc \ub9e4\uac1c\ubcc0\uc218\ub97c \uc0dd\ub7b5\ud560 \uc218 \uc5c6\ub2e4\ub294 \uc810\uc774 \ub2e4\ub974\ub2e4."
     ]
    },
    {
     "cell_type": "code",
     "collapsed": false,
     "input": [
      "bound_values = sig.bind(1, 2, 3)"
     ],
     "language": "python",
     "metadata": {},
     "outputs": [],
     "prompt_number": 132
    },
    {
     "cell_type": "code",
     "collapsed": false,
     "input": [
      "bound_values.arguments"
     ],
     "language": "python",
     "metadata": {},
     "outputs": [
      {
       "metadata": {},
       "output_type": "pyout",
       "prompt_number": 133,
       "text": [
        "OrderedDict([('x', 1), ('y', 2), ('z', 3)])"
       ]
      }
     ],
     "prompt_number": 133
    },
    {
     "cell_type": "code",
     "collapsed": false,
     "input": [
      "for key, value in bound_vavlues.arguments.items():\n",
      "    print(key, value)"
     ],
     "language": "python",
     "metadata": {},
     "outputs": [
      {
       "output_type": "stream",
       "stream": "stdout",
       "text": [
        "x 1\n",
        "y 2\n",
        "z 3\n"
       ]
      }
     ],
     "prompt_number": 123
    },
    {
     "cell_type": "markdown",
     "metadata": {},
     "source": [
      "- \uc774 \ub9e4\ud551\uc744 \uc0ac\uc6a9\ud558\uba74 \uc0c1\ub300\uc801\uc73c\ub85c \uc27d\uac8c \uc694\uad6c \uc870\uac74\uc73c \uac15\uc81c\ud560 \uc218 \uc788\uc74c"
     ]
    },
    {
     "cell_type": "code",
     "collapsed": false,
     "input": [
      "for name, value in bound_values.arguments.items():\n",
      "    print(name, value)\n",
      "    if name in bound_types.arguments:\n",
      "        if not isinstance(value, bound_types.arguments[name]):\n",
      "            raise TypeError()"
     ],
     "language": "python",
     "metadata": {},
     "outputs": [
      {
       "output_type": "stream",
       "stream": "stdout",
       "text": [
        "x 1\n",
        "y 2\n",
        "z 3\n"
       ]
      }
     ],
     "prompt_number": 138
    },
    {
     "cell_type": "markdown",
     "metadata": {},
     "source": [
      "#### Error version"
     ]
    },
    {
     "cell_type": "code",
     "collapsed": false,
     "input": [
      "bound_values = sig.bind('hello', 2, 3)"
     ],
     "language": "python",
     "metadata": {},
     "outputs": [],
     "prompt_number": 145
    },
    {
     "cell_type": "code",
     "collapsed": false,
     "input": [
      "bound_values.arguments"
     ],
     "language": "python",
     "metadata": {},
     "outputs": [
      {
       "metadata": {},
       "output_type": "pyout",
       "prompt_number": 146,
       "text": [
        "OrderedDict([('x', 'hello'), ('y', 2), ('z', 3)])"
       ]
      }
     ],
     "prompt_number": 146
    },
    {
     "cell_type": "code",
     "collapsed": false,
     "input": [
      "for name, value in bound_values.arguments.items():\n",
      "    print(name, value)\n",
      "    if name in bound_types.arguments:\n",
      "        if not isinstance(value, bound_types.arguments[name]):\n",
      "            raise TypeError()"
     ],
     "language": "python",
     "metadata": {},
     "outputs": [
      {
       "output_type": "stream",
       "stream": "stdout",
       "text": [
        "x hello\n"
       ]
      },
      {
       "ename": "TypeError",
       "evalue": "",
       "output_type": "pyerr",
       "traceback": [
        "\u001b[0;31m---------------------------------------------------------------------------\u001b[0m\n\u001b[0;31mTypeError\u001b[0m                                 Traceback (most recent call last)",
        "\u001b[0;32m<ipython-input-147-4f52d998e0dd>\u001b[0m in \u001b[0;36m<module>\u001b[0;34m()\u001b[0m\n\u001b[1;32m      3\u001b[0m     \u001b[0;32mif\u001b[0m \u001b[0mname\u001b[0m \u001b[0;32min\u001b[0m \u001b[0mbound_types\u001b[0m\u001b[0;34m.\u001b[0m\u001b[0marguments\u001b[0m\u001b[0;34m:\u001b[0m\u001b[0;34m\u001b[0m\u001b[0m\n\u001b[1;32m      4\u001b[0m         \u001b[0;32mif\u001b[0m \u001b[0;32mnot\u001b[0m \u001b[0misinstance\u001b[0m\u001b[0;34m(\u001b[0m\u001b[0mvalue\u001b[0m\u001b[0;34m,\u001b[0m \u001b[0mbound_types\u001b[0m\u001b[0;34m.\u001b[0m\u001b[0marguments\u001b[0m\u001b[0;34m[\u001b[0m\u001b[0mname\u001b[0m\u001b[0;34m]\u001b[0m\u001b[0;34m)\u001b[0m\u001b[0;34m:\u001b[0m\u001b[0;34m\u001b[0m\u001b[0m\n\u001b[0;32m----> 5\u001b[0;31m             \u001b[0;32mraise\u001b[0m \u001b[0mTypeError\u001b[0m\u001b[0;34m(\u001b[0m\u001b[0;34m)\u001b[0m\u001b[0;34m\u001b[0m\u001b[0m\n\u001b[0m",
        "\u001b[0;31mTypeError\u001b[0m: "
       ]
      }
     ],
     "prompt_number": 147
    },
    {
     "cell_type": "markdown",
     "metadata": {},
     "source": [
      ">Note: Test Note. \uc774\uc81c \uc5ec\uae30\uc5d0 \ub0b4 \uc758\uacac\uc744 \uc801\uc5b4\uc57c\uaca0\uad70."
     ]
    },
    {
     "cell_type": "markdown",
     "metadata": {},
     "source": [
      "- \uc5ec\uae30\uc11c \ud55c \uac00\uc9c0 \ubbf8\ubb18\ud55c \uc810\uc774 \uc788\ub2e4. \ub9e4\uac1c\ubcc0\uc218\ub97c \uae30\ubcf8\uac12\uc73c\ub85c \ube44\uc6cc\ub450\uba74 assert\uac00 \uc801\uc6a9\ub418\uc9c0 \uc54a\ub294\ub2e4\ub294 \uc810\n",
      "- \uc608\ub97c\ub4e4\uc5b4 items\uc758 \uae30\ubcf8\uac12\uc774 \"\ud2c0\ub9b0\" \ud0c0\uc785\uc774\uc9c0\ub9cc \ub2e4\uc74c \ucf54\ub4dc\ub294 \ub3d9\uc791\ud568"
     ]
    },
    {
     "cell_type": "code",
     "collapsed": false,
     "input": [
      "@typeassert(int, list)\n",
      "def bar(x, items=None):\n",
      "    if items is None:\n",
      "        items = []\n",
      "    items.append(x)\n",
      "    return items"
     ],
     "language": "python",
     "metadata": {},
     "outputs": [],
     "prompt_number": 151
    },
    {
     "cell_type": "code",
     "collapsed": false,
     "input": [
      "bar(2)"
     ],
     "language": "python",
     "metadata": {},
     "outputs": [
      {
       "metadata": {},
       "output_type": "pyout",
       "prompt_number": 152,
       "text": [
        "[2]"
       ]
      }
     ],
     "prompt_number": 152
    },
    {
     "cell_type": "code",
     "collapsed": false,
     "input": [
      "bar(2, 3)"
     ],
     "language": "python",
     "metadata": {},
     "outputs": [
      {
       "ename": "TypeError",
       "evalue": "Argument items must be <class 'list'>",
       "output_type": "pyerr",
       "traceback": [
        "\u001b[0;31m---------------------------------------------------------------------------\u001b[0m\n\u001b[0;31mTypeError\u001b[0m                                 Traceback (most recent call last)",
        "\u001b[0;32m<ipython-input-153-e665ea80684f>\u001b[0m in \u001b[0;36m<module>\u001b[0;34m()\u001b[0m\n\u001b[0;32m----> 1\u001b[0;31m \u001b[0mbar\u001b[0m\u001b[0;34m(\u001b[0m\u001b[0;36m2\u001b[0m\u001b[0;34m,\u001b[0m \u001b[0;36m3\u001b[0m\u001b[0;34m)\u001b[0m\u001b[0;34m\u001b[0m\u001b[0m\n\u001b[0m",
        "\u001b[0;32m<ipython-input-95-f2f2aeae1c4d>\u001b[0m in \u001b[0;36mwrapper\u001b[0;34m(*args, **kwargs)\u001b[0m\n\u001b[1;32m     21\u001b[0m                     \u001b[0;32mif\u001b[0m \u001b[0;32mnot\u001b[0m \u001b[0misinstance\u001b[0m\u001b[0;34m(\u001b[0m\u001b[0mvalue\u001b[0m\u001b[0;34m,\u001b[0m \u001b[0mbound_types\u001b[0m\u001b[0;34m[\u001b[0m\u001b[0mname\u001b[0m\u001b[0;34m]\u001b[0m\u001b[0;34m)\u001b[0m\u001b[0;34m:\u001b[0m\u001b[0;34m\u001b[0m\u001b[0m\n\u001b[1;32m     22\u001b[0m                         raise TypeError(\n\u001b[0;32m---> 23\u001b[0;31m             \u001b[0;34m'Argument {} must be {}'\u001b[0m\u001b[0;34m.\u001b[0m\u001b[0mformat\u001b[0m\u001b[0;34m(\u001b[0m\u001b[0mname\u001b[0m\u001b[0;34m,\u001b[0m \u001b[0mbound_types\u001b[0m\u001b[0;34m[\u001b[0m\u001b[0mname\u001b[0m\u001b[0;34m]\u001b[0m\u001b[0;34m)\u001b[0m\u001b[0;34m\u001b[0m\u001b[0m\n\u001b[0m\u001b[1;32m     24\u001b[0m                         )\n\u001b[1;32m     25\u001b[0m             \u001b[0;32mreturn\u001b[0m \u001b[0mfunc\u001b[0m\u001b[0;34m(\u001b[0m\u001b[0;34m*\u001b[0m\u001b[0margs\u001b[0m\u001b[0;34m,\u001b[0m \u001b[0;34m**\u001b[0m\u001b[0mkwargs\u001b[0m\u001b[0;34m)\u001b[0m\u001b[0;34m\u001b[0m\u001b[0m\n",
        "\u001b[0;31mTypeError\u001b[0m: Argument items must be <class 'list'>"
       ]
      }
     ],
     "prompt_number": 153
    },
    {
     "cell_type": "code",
     "collapsed": false,
     "input": [
      "bar(4, [1,2,3])"
     ],
     "language": "python",
     "metadata": {},
     "outputs": [
      {
       "metadata": {},
       "output_type": "pyout",
       "prompt_number": 154,
       "text": [
        "[1, 2, 3, 4]"
       ]
      }
     ],
     "prompt_number": 154
    },
    {
     "cell_type": "markdown",
     "metadata": {},
     "source": [
      "- \ub9c8\uc9c0\ub9c9\uc73c\ub85c \ub370\ucf54\ub808\uc774\ud130 \ub9e4\uac1c\ubcc0\uc218\uc640 \ud568\uc218 \uc8fc\uc11d(function annotations)\uc911 \uc5b4\ub290 \uac83\uc744 \uc0ac\uc6a9\ud560\uc9c0\uc5d0 \ub300\ud574 \uace0\ubbfc\ud574\ubcf4\uc790\n",
      "- \uc608\ub97c \ub4e4\uc5b4 \uc65c \ub2e4\uc74c\uacfc \uac19\uc774 \ub370\ucf54\ub808\uc774\ud130\uac00 \uc8fc\uc11d\uc744 \ubcf4\ub3c4\ub85d \ub9cc\ub4e4\uc9c0 \uc54a\uc744\uae4c?"
     ]
    },
    {
     "cell_type": "markdown",
     "metadata": {},
     "source": [
      "```python\n",
      "@typeassert\n",
      "def spam(x:int, y, z:int = 42):\n",
      "    print(x,y,z)\n",
      "```"
     ]
    },
    {
     "cell_type": "markdown",
     "metadata": {},
     "source": [
      "- \uc8fc\uc11d\uc744 \uc0ac\uc6a9\ud558\uc9c0 \uc54a\ub294 \ud55c \uac00\uc9c0 \uc774\uc720\ub85c **\ud568\uc218\uc758 \ubaa8\ub4e0 \ub9e4\uac1c\ubcc0\uc218\uac00 \ub2e8 \ud558\ub098\uc758 \uc8fc\uc11d\ub9cc \uac00\uc9c8** \uc218 \uc788\ub2e4\ub294 \uc810\n",
      "- \ud0c0\uc785 \ud655\uc778\uc5d0 \uc8fc\uc11d\uc744 \uc0ac\uc6a9\ud558\uba74, \uadf8 \uc774\uc678\uc758 \uc6a9\ub3c4\ub85c\ub294 \uc0ac\uc6a9\ud560 \uc218 \uc5c6\uac8c \ub428\n",
      "- \ub9c8\ucc2c\uac00\uc9c0\ub85c @typeassert \ub370\ucf54\ub808\uc774\ud130\ub294 **\ub2e4\ub978 \ubaa9\uc801\uc73c\ub85c \uc8fc\uc11d\uc744 \uc0ac\uc6a9\ud558\ub294 \ud568\uc218\uc5d0 \uc0ac\uc6a9\ubd88\uac00**\n",
      "- \ub370\ucf54\ub808\uc774\ud130 \ub9e4\uac1c\ubcc0\uc218\ub97c \uc0ac\uc6a9\ud558\uba74, **\uc8fc\uc11d\uc744 \uc0ac\uc6a9\ud558\ub294 \ud568\uc218\ub97c \ud3ec\ud568\ud574 \ud6e8\uc52c \uc77c\ubc18\uc801\uc778 \ubaa9\uc801\uc73c\ub85c \uc0ac\uc6a9 \uac00\ub2a5**\n",
      "- \ud568\uc218 \uc2dc\uadf8\ub2c8\ucc98 \uac1d\uccb4\uc5d0 \ub300\ud55c \uc790\uc138\ud55c \uc815\ubcf4\ub294 [PEP 362](http://legacy.python.org/dev/peps/pep-0362/) [inspect](https://docs.python.org/2/library/inspect.html) \ubaa8\ub4c8\uc758 \uc628\ub77c\uc778 \ubb38\uc11c\uc5d0 \uc798 \ub098\uc634. \ub808\uc2dc\ud53c 9.16\uc5d0\ub3c4 \uc608\uc81c\uac00 \uc880 \ub354 \ub098\uc634"
     ]
    },
    {
     "cell_type": "markdown",
     "metadata": {},
     "source": [
      "## 9.8 \ub370\ucf54\ub808\uc774\ud130\ub97c \ud074\ub798\uc2a4\uc758 \uc77c\ubd80\ub85c \uc815\uc758\n",
      "\n",
      "### \ubb38\uc81c\n",
      "\n",
      "- \ub370\ucf54\ub808\uc774\ud130\ub97c \ud074\ub798\uc2a4 \uc815\uc758 \ub0b4\ubd80\uc5d0 \uc815\uc758\ud558\uace0 \ub2e4\ub978 \ud568\uc218\ub098 \uba54\uc18c\ub4dc\uc5d0 \uc801\uc6a9\ud558\uace0 \uc2f6\ub2e4.\n",
      "\n",
      "### \ud574\uacb0\n",
      "\n",
      "- \ub370\ucf54\ub808\uc774\ud130\ub97c \ud074\ub798\uc2a4 \ub0b4\ubd80\uc5d0 \uc815\uc758\ud558\uae30\ub294 \uc5b4\ub835\uc9c0 \uc54a\uc9c0\ub9cc, \uc5b4\ub5a4 \ub370\ucf54\ub808\uc774\ud130\ub97c \uc801\uc6a9\ud560\uc9c0 \uc21c\uc11c\ub97c \uba3c\uc800 \uc815\ub82c\ud574\uc57c \ud568\n",
      "- \uad6c\uccb4\uc801\uc73c\ub85c \uc124\uba85\ud558\uc790\uba74, \uc778\uc2a4\ud134\uc2a4\ub85c \uc801\uc6a9\ud560\uc9c0 \ud074\ub798\uc2a4 \uba54\uc18c\ub4dc\ub85c \uc801\uc6a9\ud560\uc9c0\uc5d0 \ub300\ud55c \ubd80\ubd84\n",
      "- \uc774 \ub458\uc758 \ucc28\uc774\uc810\uc744 \ub2e4\uc74c \ucf54\ub4dc\uc5d0\uc11c \ud655\uc778\ud574 \ubcf4\uc790"
     ]
    },
    {
     "cell_type": "code",
     "collapsed": false,
     "input": [
      "from functools import wraps\n",
      "\n",
      "class A:\n",
      "    # \uc778\uc2a4\ud134\uc2a4 \uba54\uc18c\ub4dc \ub370\ucf54\ub808\uc774\ud130\n",
      "    def decorator1(self, func):\n",
      "        @wraps(func)\n",
      "        def wrapper(*args, **kwargs):\n",
      "            print('Decorator 1')\n",
      "            return func(*args, **kwargs)\n",
      "        return wrapper\n",
      "    \n",
      "    # \ud074\ub798\uc2a4 \uba54\uc18c\ub4dc \ub370\ucf54\ub808\uc774\ud130\n",
      "    @classmethod\n",
      "    def decorator2(cls, func):\n",
      "        @wraps(func)\n",
      "        def wrapper(*args, **kwargs):\n",
      "            print('Decorator 2')\n",
      "            return func(*args, **kwargs)\n",
      "        return wrapper"
     ],
     "language": "python",
     "metadata": {},
     "outputs": [],
     "prompt_number": 8
    },
    {
     "cell_type": "code",
     "collapsed": false,
     "input": [
      "# \uc778\uc2a4\ud134\uc2a4 \uba54\uc18c\ub4dc\ub85c\n",
      "a = A()\n",
      "\n",
      "@a.decorator1\n",
      "def spam():\n",
      "    pass\n",
      "\n",
      "# \ud074\ub798\uc2a4 \uba54\uc18c\ub4dc\ub85c\n",
      "@A.decorator2\n",
      "def grok():\n",
      "    pass"
     ],
     "language": "python",
     "metadata": {},
     "outputs": [],
     "prompt_number": 9
    },
    {
     "cell_type": "code",
     "collapsed": false,
     "input": [
      "spam()"
     ],
     "language": "python",
     "metadata": {},
     "outputs": [
      {
       "output_type": "stream",
       "stream": "stdout",
       "text": [
        "Decorator 1\n"
       ]
      }
     ],
     "prompt_number": 10
    },
    {
     "cell_type": "code",
     "collapsed": false,
     "input": [
      "grok()"
     ],
     "language": "python",
     "metadata": {},
     "outputs": [
      {
       "output_type": "stream",
       "stream": "stdout",
       "text": [
        "Decorator 2\n"
       ]
      }
     ],
     "prompt_number": 11
    },
    {
     "cell_type": "markdown",
     "metadata": {},
     "source": [
      "- \uc790\uc138\ud788 \ubcf4\uba74 \ud558\ub098\ub294 **\uc778\uc2a4\ud134\uc2a4 a\ub85c\ubd80\ud130**, \ub450 \ubc88\uc9f8\ub294 **\ud074\ub798\uc2a4 A\ub85c\ubd80\ud130** \uc801\uc6a9"
     ]
    },
    {
     "cell_type": "markdown",
     "metadata": {},
     "source": [
      "### \ud1a0\ub860\n",
      "\n",
      "- \ud074\ub798\uc2a4 \ub0b4\ubd80\uc5d0 \ub370\ucf54\ub808\uc774\ud130\ub97c \uc815\uc758\ud558\ub294 \uac83\uc774 \uc774\uc0c1\ud574 \ubcf4\uc77c \uc218\ub3c4 \uc788\uc74c\n",
      "- \ud558\uc9c0\ub9cc \uc774 \ubc29\uc2dd\uc740 \ud45c\uc900 \ub77c\uc774\ube0c\ub7ec\ub9ac\uc5d0\uc11c\ub3c4 \uc0ac\uc6a9\n",
      "- \ub0b4\uc7a5 \ub370\ucf54\ub808\uc774\ud130 @property\ub294 \uc2e4\uc81c\ub85c getter(), setter(), deletter() \uba54\uc18c\ub4dc\ub97c \uac00\uc9c4 \ud074\ub798\uc2a4\uc774\uace0 \ub370\ucf54\ub808\uc774\ud130\ucc98\ub7fc \ub3d9\uc791\ud568"
     ]
    },
    {
     "cell_type": "code",
     "collapsed": false,
     "input": [
      "class Person:\n",
      "    # \ud504\ub85c\ud37c\ud2f0 \uc778\uc2a4\ud134\uc2a4 \uc0dd\uc131\n",
      "    first_name = property()\n",
      "    \n",
      "    # \ub370\ucf54\ub808\uc774\ud130 \uba54\uc18c\ub4dc \uc801\uc6a9\n",
      "    @first_name.getter\n",
      "    def first_name(self):\n",
      "        return self._first_name\n",
      "    \n",
      "    @first_name.setter\n",
      "    def first_name(self, value):\n",
      "        if not isinstance(value, str):\n",
      "            raise TypeError('Expected a string')\n",
      "        # \uc5ec\uae30\uc5d0\uc11c self._first_name\uc5d0 \ud560\ub2f9\uc744 \ud574\uc57c getter\uc5d0\uc11c self._first_name\uc744\n",
      "        # \ud638\ucd9c \uac00\ub2a5\n",
      "        self._first_name = value"
     ],
     "language": "python",
     "metadata": {},
     "outputs": [],
     "prompt_number": 12
    },
    {
     "cell_type": "code",
     "collapsed": false,
     "input": [
      "p = Person()"
     ],
     "language": "python",
     "metadata": {},
     "outputs": [],
     "prompt_number": 16
    },
    {
     "cell_type": "code",
     "collapsed": false,
     "input": [
      "p.first_name"
     ],
     "language": "python",
     "metadata": {},
     "outputs": [
      {
       "ename": "AttributeError",
       "evalue": "'Person' object has no attribute '_first_name'",
       "output_type": "pyerr",
       "traceback": [
        "\u001b[0;31m---------------------------------------------------------------------------\u001b[0m\n\u001b[0;31mAttributeError\u001b[0m                            Traceback (most recent call last)",
        "\u001b[0;32m<ipython-input-17-72635f77d554>\u001b[0m in \u001b[0;36m<module>\u001b[0;34m()\u001b[0m\n\u001b[0;32m----> 1\u001b[0;31m \u001b[0mp\u001b[0m\u001b[0;34m.\u001b[0m\u001b[0mfirst_name\u001b[0m\u001b[0;34m\u001b[0m\u001b[0m\n\u001b[0m",
        "\u001b[0;32m<ipython-input-12-4ed419abb161>\u001b[0m in \u001b[0;36mfirst_name\u001b[0;34m(self)\u001b[0m\n\u001b[1;32m      6\u001b[0m     \u001b[0;34m@\u001b[0m\u001b[0mfirst_name\u001b[0m\u001b[0;34m.\u001b[0m\u001b[0mgetter\u001b[0m\u001b[0;34m\u001b[0m\u001b[0m\n\u001b[1;32m      7\u001b[0m     \u001b[0;32mdef\u001b[0m \u001b[0mfirst_name\u001b[0m\u001b[0;34m(\u001b[0m\u001b[0mself\u001b[0m\u001b[0;34m)\u001b[0m\u001b[0;34m:\u001b[0m\u001b[0;34m\u001b[0m\u001b[0m\n\u001b[0;32m----> 8\u001b[0;31m         \u001b[0;32mreturn\u001b[0m \u001b[0mself\u001b[0m\u001b[0;34m.\u001b[0m\u001b[0m_first_name\u001b[0m\u001b[0;34m\u001b[0m\u001b[0m\n\u001b[0m\u001b[1;32m      9\u001b[0m \u001b[0;34m\u001b[0m\u001b[0m\n\u001b[1;32m     10\u001b[0m     \u001b[0;34m@\u001b[0m\u001b[0mfirst_name\u001b[0m\u001b[0;34m.\u001b[0m\u001b[0msetter\u001b[0m\u001b[0;34m\u001b[0m\u001b[0m\n",
        "\u001b[0;31mAttributeError\u001b[0m: 'Person' object has no attribute '_first_name'"
       ]
      }
     ],
     "prompt_number": 17
    },
    {
     "cell_type": "code",
     "collapsed": false,
     "input": [
      "p.first_name = 'test first'"
     ],
     "language": "python",
     "metadata": {},
     "outputs": [],
     "prompt_number": 18
    },
    {
     "cell_type": "code",
     "collapsed": false,
     "input": [
      "p.first_name"
     ],
     "language": "python",
     "metadata": {},
     "outputs": [
      {
       "metadata": {},
       "output_type": "pyout",
       "prompt_number": 19,
       "text": [
        "'test first'"
       ]
      }
     ],
     "prompt_number": 19
    },
    {
     "cell_type": "markdown",
     "metadata": {},
     "source": [
      "- \uc774\ub807\uac8c \uc815\uc758\ud55c \uc8fc\ub41c \uc774\uc720\ub294 \uc5ec\ub7ec \ub370\ucf54\ub808\uc774\ud130 \uba54\uc18c\ub4dc\uac00 property \uc778\uc2a4\ud134\uc2a4 \uad00\ub828 \uc0c1\ud0dc\ub97c \uc218\uc815\ud558\uae30 \ub54c\ubb38\n",
      "- \uadf8\ub807\uae30 \ub54c\ubb38\uc5d0 \ub9cc\uc57d \ub370\ucf54\ub808\uc774\ud130\uac00 \uae30\ubc18 \uc815\ubcf4\ub97c \uae30\ub85d\ud558\uac70\ub098 \ud569\uccd0\uc57c \ud558\ub294 \uacbd\uc6b0, \uc774 \ubc29\uc2dd\uc774 \uc62c\ubc14\ub984\n",
      "\n",
      "\n",
      "- \ud074\ub798\uc2a4 \ub0b4\ubd80\uc5d0 \ub370\ucf54\ub808\uc774\ud130\ub97c \uc791\uc131\ud560 \ub54c, \ucf54\ub4dc \uc790\uccb4\uc5d0 self \ub610\ub294 cls \uc778\uc790\ub97c \uc62c\ubc14\ub974\uac8c \uc0ac\uc6a9\ud558\ub294 \ubc29\uc2dd\uc5d0 \ub300\ud55c \ud63c\ub780\uc774 \uc0dd\uae40\n",
      "- \uac00\uc7a5 \uc678\ubd80\uc5d0 \uc788\ub294 decorator1() \ub610\ub294 decorator2()\uc640 \uac19\uc740 \ud568\uc218\ub294 self\ub098 cls \uc778\uc790\ub97c \uc81c\uacf5\ud574\uc57c \ud558\uc9c0\ub9cc(\uc65c\ub0d0\ud558\uba74 **\ud074\ub798\uc2a4\uc758 \uc77c\ubd80**\uc774\uae30 \ub54c\ubb38)\n",
      "- \ub0b4\ubd80\uc5d0\uc11c \uc0dd\uc131\ud55c \ub798\ud37c \ud568\uc218\uc5d0\uc11c\ub294 \uadf8\ub807\uac8c \ud560 \ud544\uc694\uac00 \uc5c6\uc74c\n",
      "- \uc591\uc871 \ub370\ucf54\ub808\uc774\ud130\uc5d0\uc11c \uc0dd\uc131\ud55c wrapper() \ud568\uc218\uac00 self \uc778\uc790\ub97c \uc0ac\uc6a9\ud558\uc9c0 \uc54a\ub294 \uc774\uc720\uac00 \ubc14\ub85c \uc774\uac83\n",
      "- \ub798\ud37c \ub0b4\ubd80\uc5d0\uc11c \uc778\uc2a4\ud134\uc2a4\uc758 \uc77c\ubd80\uc5d0 \uc811\uadfc\ud558\ub824 \ud560 \ub54c\ub9cc \uc774\ub7f0 \uc778\uc790\ub97c \uc0ac\uc6a9\ud568. \uadf8 \uc774\uc678\uc758 \uacbd\uc6b0\uc5d0\ub294 \uc2e0\uacbd\uc4f0\uc9c0 \uc54a\uc544\ub3c4 \uad1c\ucc2e\uc74c\n",
      "\n",
      "\n",
      "- \ud074\ub798\uc2a4 \ub0b4\ubd80\uc5d0 \ub370\ucf54\ub808\uc774\ud130\ub97c \uc815\uc758\ud560 \ub54c \uc0c1\uc18d \ubd80\ubd84\uc5d0\ub3c4 \uc8fc\uc758\ud574\uc57c \ud568\n",
      "- \uc608\ub97c \ub4e4\uc5b4 \ud074\ub798\uc2a4 A\uc5d0 \uc815\uc758\ud55c \ub370\ucf54\ub808\uc774\ud130\ub97c \uc11c\ube0c\ud074\ub798\uc2a4 B\uc5d0\ub3c4 \uc801\uc6a9\ud558\uace0 \uc2f6\ub2e4\uba74 \ub2e4\uc74c\uacfc \uac19\uc774 \ud574\uc57c\ud568"
     ]
    },
    {
     "cell_type": "code",
     "collapsed": false,
     "input": [
      "class B(A):\n",
      "    @A.decorator2\n",
      "    def bar(self):\n",
      "        pass"
     ],
     "language": "python",
     "metadata": {},
     "outputs": [],
     "prompt_number": 28
    },
    {
     "cell_type": "code",
     "collapsed": false,
     "input": [
      "b = B()\n",
      "b.bar()"
     ],
     "language": "python",
     "metadata": {},
     "outputs": [
      {
       "output_type": "stream",
       "stream": "stdout",
       "text": [
        "Decorator 2\n"
       ]
      }
     ],
     "prompt_number": 29
    },
    {
     "cell_type": "markdown",
     "metadata": {},
     "source": [
      "- \uc2e4\uc81c\ub85c \uc774 \uacbd\uc6b0\uc5d0\ub294 \ub370\ucf54\ub808\uc774\ud130\ub97c \ud074\ub798\uc2a4 \uba54\uc18c\ub4dc\ub85c \uc815\uc758\ud574\uc57c \ud558\uace0 \uc11c\ube0c\ud074\ub798\uc2a4\uc5d0\uc11c \uc288\ud37c\ud074\ub798\uc2a4\uc758 \uc774\ub984A\ub97c \uba85\uc2dc\uc801\uc73c\ub85c \uc0ac\uc6a9\ud574\uc57c\ub9cc \ud568\n",
      "- \uba54\uc18c\ub4dc\ub97c \uc815\uc758\ud558\ub294 \uc2dc\uc810\uc5d0 \ud074\ub798\uc2a4 B\ub294 \uc544\uc9c1 \uc0dd\uc131\ub418\uc9c0 \uc54a\uc558\uc73c\ubbc0\ub85c @B.decorator2\uc640 \uac19\uc740 \uc774\ub984\uc740 \uc0ac\uc6a9\ud560 \uc218 \uc5c6\uc74c"
     ]
    },
    {
     "cell_type": "code",
     "collapsed": false,
     "input": [
      "s = 'str1'"
     ],
     "language": "python",
     "metadata": {},
     "outputs": [],
     "prompt_number": 20
    },
    {
     "cell_type": "code",
     "collapsed": false,
     "input": [
      "isinstance(s, str)"
     ],
     "language": "python",
     "metadata": {},
     "outputs": [
      {
       "metadata": {},
       "output_type": "pyout",
       "prompt_number": 21,
       "text": [
        "True"
       ]
      }
     ],
     "prompt_number": 21
    },
    {
     "cell_type": "code",
     "collapsed": false,
     "input": [
      "isinstance(str, s)"
     ],
     "language": "python",
     "metadata": {},
     "outputs": [
      {
       "ename": "TypeError",
       "evalue": "isinstance() arg 2 must be a type or tuple of types",
       "output_type": "pyerr",
       "traceback": [
        "\u001b[0;31m---------------------------------------------------------------------------\u001b[0m\n\u001b[0;31mTypeError\u001b[0m                                 Traceback (most recent call last)",
        "\u001b[0;32m<ipython-input-22-b59800573405>\u001b[0m in \u001b[0;36m<module>\u001b[0;34m()\u001b[0m\n\u001b[0;32m----> 1\u001b[0;31m \u001b[0misinstance\u001b[0m\u001b[0;34m(\u001b[0m\u001b[0mstr\u001b[0m\u001b[0;34m,\u001b[0m \u001b[0ms\u001b[0m\u001b[0;34m)\u001b[0m\u001b[0;34m\u001b[0m\u001b[0m\n\u001b[0m",
        "\u001b[0;31mTypeError\u001b[0m: isinstance() arg 2 must be a type or tuple of types"
       ]
      }
     ],
     "prompt_number": 22
    },
    {
     "cell_type": "code",
     "collapsed": false,
     "input": [
      "help(isinstance)"
     ],
     "language": "python",
     "metadata": {},
     "outputs": [
      {
       "output_type": "stream",
       "stream": "stdout",
       "text": [
        "Help on built-in function isinstance in module builtins:\n",
        "\n",
        "isinstance(...)\n",
        "    isinstance(object, class-or-type-or-tuple) -> bool\n",
        "    \n",
        "    Return whether an object is an instance of a class or of a subclass thereof.\n",
        "    With a type as second argument, return whether that is the object's type.\n",
        "    The form using a tuple, isinstance(x, (A, B, ...)), is a shortcut for\n",
        "    isinstance(x, A) or isinstance(x, B) or ... (etc.).\n",
        "\n"
       ]
      }
     ],
     "prompt_number": 23
    },
    {
     "cell_type": "markdown",
     "metadata": {},
     "source": [
      "## 9.9 \ud074\ub798\uc2a4 \ub370\ucf54\ub808\uc774\ud130 \uc815\uc758\n",
      "\n",
      "### \ubb38\uc81c\n",
      "\n",
      "- \ud568\uc218\ub97c \ub370\ucf54\ub808\uc774\ud130\ub85c \uac10\uc2f8\uace0 \uc2f6\uc9c0\ub9cc, \uadf8 \uacb0\uacfc\ub294 \ud638\ucd9c \uac00\ub2a5 \uc778\uc2a4\ud134\uc2a4\uac00 \ub418\ub3c4\ub85d \ud558\uace0 \uc2f6\ub2e4.\n",
      "- \ub370\ucf54\ub808\uc774\ud130\ub97c \ud074\ub798\uc2a4 \uc815\uc758 \ub0b4\ubd80\uc640 \uc678\ubd80\uc5d0\uc11c \ubaa8\ub450 \uc0ac\uc6a9\ud558\uace0 \uc2f6\ub2e4.\n",
      "\n",
      "### \ud574\uacb0\n",
      "\n",
      "- \ub370\ucf54\ub808\uc774\ud130\ub97c \uc778\uc2a4\ud134\uc2a4\ub85c \uc815\uc758\ud558\ub824\uba74 \\_\\_call\\_\\_()\uacfc \\_\\_get\\_\\_() \uba54\uc18c\ub4dc\ub97c \ubc18\ub4dc\uc2dc \uad6c\ud604\ud574\uc57c \ud568\n",
      "- \ub2e4\uc74c\ucf54\ub4dc\ub294 \ud568\uc218\uc5d0 \uac04\ub2e8\ud55c \ud504\ub85c\ud30c\uc77c\uacfc \ub808\uc774\uc5b4\ub97c \ub123\ub294 \ud074\ub798\uc2a4\ub97c \uc815\uc758\ud55c\ub2e4."
     ]
    },
    {
     "cell_type": "code",
     "collapsed": false,
     "input": [
      "import types\n",
      "from functools import wraps\n",
      "\n",
      "class Profiled:\n",
      "    def __init__(self, func):\n",
      "        wraps(func)(self)\n",
      "        self.ncalls = 0\n",
      "        \n",
      "    def __call__(self, *args, **kwargs):\n",
      "        self.ncalls += 1\n",
      "        return self.__wrapped__(*args, **kwargs)\n",
      "    \n",
      "    def __get__(self, instance, cls):\n",
      "        if instance is None:\n",
      "            return self\n",
      "        else:\n",
      "            return types.MethodType(self, instance)"
     ],
     "language": "python",
     "metadata": {},
     "outputs": [],
     "prompt_number": 30
    },
    {
     "cell_type": "markdown",
     "metadata": {},
     "source": [
      "- \uc774 \ud074\ub798\uc2a4\ub97c \uc0ac\uc6a9\ud558\ub824\uba74, \ud074\ub798\uc2a4 \ub0b4\ubd80, \uc678\ubd80\uc5d0\uc11c \ubaa8\ub450 \ubcf4\ud1b5\uc758 \ub370\ucf54\ub808\uc774\ud130\ucc98\ub7fc \uc0ac\uc6a9\ud558\uba74 \ub428"
     ]
    },
    {
     "cell_type": "code",
     "collapsed": false,
     "input": [
      "@Profiled\n",
      "def add(x, y):\n",
      "    return x + y\n",
      "\n",
      "class Spam:\n",
      "    @Profiled\n",
      "    def bar(self, x):\n",
      "        print(self, x)"
     ],
     "language": "python",
     "metadata": {},
     "outputs": [],
     "prompt_number": 40
    },
    {
     "cell_type": "markdown",
     "metadata": {},
     "source": [
      "- \uc774 \ud568\uc218\uac00 \ub3d9\uc791\ud558\ub294 \uc608\uc81c\ub294 \ub2e4\uc74c\uacfc \uac19\uc74c"
     ]
    },
    {
     "cell_type": "code",
     "collapsed": false,
     "input": [
      "add(2, 3)"
     ],
     "language": "python",
     "metadata": {},
     "outputs": [
      {
       "metadata": {},
       "output_type": "pyout",
       "prompt_number": 41,
       "text": [
        "5"
       ]
      }
     ],
     "prompt_number": 41
    },
    {
     "cell_type": "code",
     "collapsed": false,
     "input": [
      "add(4, 5)"
     ],
     "language": "python",
     "metadata": {},
     "outputs": [
      {
       "metadata": {},
       "output_type": "pyout",
       "prompt_number": 42,
       "text": [
        "9"
       ]
      }
     ],
     "prompt_number": 42
    },
    {
     "cell_type": "code",
     "collapsed": false,
     "input": [
      "add.ncalls"
     ],
     "language": "python",
     "metadata": {},
     "outputs": [
      {
       "metadata": {},
       "output_type": "pyout",
       "prompt_number": 43,
       "text": [
        "2"
       ]
      }
     ],
     "prompt_number": 43
    },
    {
     "cell_type": "code",
     "collapsed": false,
     "input": [
      "s = Spam()"
     ],
     "language": "python",
     "metadata": {},
     "outputs": [],
     "prompt_number": 44
    },
    {
     "cell_type": "code",
     "collapsed": false,
     "input": [
      "s.bar(1)"
     ],
     "language": "python",
     "metadata": {},
     "outputs": [
      {
       "output_type": "stream",
       "stream": "stdout",
       "text": [
        "<__main__.Spam object at 0x10ccf5f98> 1\n"
       ]
      }
     ],
     "prompt_number": 45
    },
    {
     "cell_type": "code",
     "collapsed": false,
     "input": [
      "s.bar(2)"
     ],
     "language": "python",
     "metadata": {},
     "outputs": [
      {
       "output_type": "stream",
       "stream": "stdout",
       "text": [
        "<__main__.Spam object at 0x10ccf5f98> 2\n"
       ]
      }
     ],
     "prompt_number": 46
    },
    {
     "cell_type": "code",
     "collapsed": false,
     "input": [
      "s.bar(3)"
     ],
     "language": "python",
     "metadata": {},
     "outputs": [
      {
       "output_type": "stream",
       "stream": "stdout",
       "text": [
        "<__main__.Spam object at 0x10ccf5f98> 3\n"
       ]
      }
     ],
     "prompt_number": 47
    },
    {
     "cell_type": "code",
     "collapsed": false,
     "input": [
      "Spam.bar.ncalls"
     ],
     "language": "python",
     "metadata": {},
     "outputs": [
      {
       "metadata": {},
       "output_type": "pyout",
       "prompt_number": 48,
       "text": [
        "3"
       ]
      }
     ],
     "prompt_number": 48
    },
    {
     "cell_type": "markdown",
     "metadata": {},
     "source": [
      "### \ud1a0\ub860\n",
      "\n",
      "- \ub370\ucf54\ub808\uc774\ud130\ub97c \ud074\ub798\uc2a4\ub85c \uc815\uc758\ud558\uae30\ub294 \uac04\ub2e8\ud568. \ud558\uc9c0\ub9cc, \uc870\uae08 \ub354 \uc124\uba85\uc774 \ud544\uc694\ud55c \ubd80\ubd84\uc774 \uc788\uc74c\n",
      "- \ud2b9\ud788 \ub370\ucf54\ub808\uc774\ud130\ub97c \uc778\uc2a4\ud134\uc2a4 \uba54\uc18c\ub4dc\uc5d0 \uc801\uc6a9\ud560 \uacc4\ud68d\uc774\ub77c\uba74 \uc8fc\uc758\uae4a\uac8c \uc77d\ub3c4\ub85d \ud568\n",
      "- \uccab\uc9f8, \uc77c\ubc18\uc801\uc778 \ub370\ucf54\ub808\uc774\ud130\uc640 \uac19\uc740 \ubaa9\uc801\uc73c\ub85c \uc8fc\uc694 \uba54\ud0c0\ub370\uc774\ud130 \ubcf5\uc0ac\ub97c \uc704\ud574 functools.wraps() \ud568\uc218\ub97c \uc0ac\uc6a9\ud588\uc74c\n",
      "- \ub458\uc9f8, \ud574\uacb0\ucc45\uc5d0 \ub098\uc628 \\_\\_get\\_\\_() \uba54\uc18c\ub4dc\ub97c \uac04\uacfc\ud558\uae30 \uc26c\uc6c0\n",
      "- \ub2e4\ub978 \ucf54\ub4dc\ub294 \ubaa8\ub450 \uadf8\ub300\ub85c \ub450\uace0 \\_\\_get\\_\\_()\uc744 \uc0dd\ub7b5\ud55c \ucc44\ub85c \ub370\ucf54\ub808\uc774\ud130\ub97c \uc778\uc2a4\ud134\uc2a4 \uba54\uc18c\ub4dc\uc5d0 \uc801\uc6a9\ud558\uba74 \uc774\uc0c1\ud55c \uc77c\uc774 \ubc1c\uc0dd\ud568"
     ]
    },
    {
     "cell_type": "code",
     "collapsed": false,
     "input": [
      "import types\n",
      "from functools import wraps\n",
      "\n",
      "class Profiled2:\n",
      "    def __init__(self, func):\n",
      "        wraps(func)(self)\n",
      "        self.ncalls = 0\n",
      "        \n",
      "    def __call__(self, *args, **kwargs):\n",
      "        self.ncalls += 1\n",
      "        return self.__wrapped__(*args, **kwargs)\n",
      "    \n",
      "class Spam2:\n",
      "    @Profiled2\n",
      "    def bar(self, x):\n",
      "        print(self, x)"
     ],
     "language": "python",
     "metadata": {},
     "outputs": [],
     "prompt_number": 56
    },
    {
     "cell_type": "code",
     "collapsed": false,
     "input": [
      "s2 = Spam2()"
     ],
     "language": "python",
     "metadata": {},
     "outputs": [],
     "prompt_number": 57
    },
    {
     "cell_type": "code",
     "collapsed": false,
     "input": [
      "s2.bar(3)"
     ],
     "language": "python",
     "metadata": {},
     "outputs": [
      {
       "ename": "TypeError",
       "evalue": "bar() missing 1 required positional argument: 'x'",
       "output_type": "pyerr",
       "traceback": [
        "\u001b[0;31m---------------------------------------------------------------------------\u001b[0m\n\u001b[0;31mTypeError\u001b[0m                                 Traceback (most recent call last)",
        "\u001b[0;32m<ipython-input-58-bb3d6a0ada8a>\u001b[0m in \u001b[0;36m<module>\u001b[0;34m()\u001b[0m\n\u001b[0;32m----> 1\u001b[0;31m \u001b[0ms2\u001b[0m\u001b[0;34m.\u001b[0m\u001b[0mbar\u001b[0m\u001b[0;34m(\u001b[0m\u001b[0;36m3\u001b[0m\u001b[0;34m)\u001b[0m\u001b[0;34m\u001b[0m\u001b[0m\n\u001b[0m",
        "\u001b[0;32m<ipython-input-56-8c4b2c3b7265>\u001b[0m in \u001b[0;36m__call__\u001b[0;34m(self, *args, **kwargs)\u001b[0m\n\u001b[1;32m      9\u001b[0m     \u001b[0;32mdef\u001b[0m \u001b[0m__call__\u001b[0m\u001b[0;34m(\u001b[0m\u001b[0mself\u001b[0m\u001b[0;34m,\u001b[0m \u001b[0;34m*\u001b[0m\u001b[0margs\u001b[0m\u001b[0;34m,\u001b[0m \u001b[0;34m**\u001b[0m\u001b[0mkwargs\u001b[0m\u001b[0;34m)\u001b[0m\u001b[0;34m:\u001b[0m\u001b[0;34m\u001b[0m\u001b[0m\n\u001b[1;32m     10\u001b[0m         \u001b[0mself\u001b[0m\u001b[0;34m.\u001b[0m\u001b[0mncalls\u001b[0m \u001b[0;34m+=\u001b[0m \u001b[0;36m1\u001b[0m\u001b[0;34m\u001b[0m\u001b[0m\n\u001b[0;32m---> 11\u001b[0;31m         \u001b[0;32mreturn\u001b[0m \u001b[0mself\u001b[0m\u001b[0;34m.\u001b[0m\u001b[0m__wrapped__\u001b[0m\u001b[0;34m(\u001b[0m\u001b[0;34m*\u001b[0m\u001b[0margs\u001b[0m\u001b[0;34m,\u001b[0m \u001b[0;34m**\u001b[0m\u001b[0mkwargs\u001b[0m\u001b[0;34m)\u001b[0m\u001b[0;34m\u001b[0m\u001b[0m\n\u001b[0m\u001b[1;32m     12\u001b[0m \u001b[0;34m\u001b[0m\u001b[0m\n\u001b[1;32m     13\u001b[0m \u001b[0;32mclass\u001b[0m \u001b[0mSpam2\u001b[0m\u001b[0;34m:\u001b[0m\u001b[0;34m\u001b[0m\u001b[0m\n",
        "\u001b[0;31mTypeError\u001b[0m: bar() missing 1 required positional argument: 'x'"
       ]
      }
     ],
     "prompt_number": 58
    },
    {
     "cell_type": "markdown",
     "metadata": {},
     "source": [
      "- \ubb38\uc81c\uac00 \ubc1c\uc0dd\ud558\ub294 \uc774\uc720\ub294, \ud074\ub798\uc2a4\uc5d0\uc11c \uba54\uc18c\ub4dc\ub97c \uad6c\ud604\ud560 \ud568\uc218\ub97c \ucc3e\uc744 \ub54c \ub514\uc2a4\ud06c\ub9bd\ud130 \ud504\ub85c\ud1a0\ucf5c\ub85c \\_\\_get\\_\\_() \uba54\uc18c\ub4dc\ub97c \uba3c\uc800 \ud638\ucd9c\ud558\uae30 \ub54c\ubb38(\ub808\uc2dc\ud53c 8.9 \ucc38\uace0)\n",
      "- \uc774 \uacbd\uc6b0 \\_\\_get\\_\\_()\uc758 \ubaa9\uc801\uc740 **\uba54\uc18c\ub4dc \uac1d\uccb4\ub97c \uc0dd\uc131\ud558\ub294 \uac83**(\uadf8\ub9ac\uace0 \uc774\uac83\uc740 \uba54\uc18c\ub4dc\uc5d0 self \uc778\uc790\ub97c \ub118\uae34\ub2e4)\n",
      "- \uc774\ud574\ub97c \ub3d5\uae30 \uc704\ud55c \uc608\uc81c\ub97c \ubcf4\uc790"
     ]
    },
    {
     "cell_type": "code",
     "collapsed": false,
     "input": [
      "s = Spam()\n",
      "def grok(self, x):\n",
      "    pass"
     ],
     "language": "python",
     "metadata": {},
     "outputs": [],
     "prompt_number": 59
    },
    {
     "cell_type": "code",
     "collapsed": false,
     "input": [
      "grok.__get__(s, Spam)"
     ],
     "language": "python",
     "metadata": {},
     "outputs": [
      {
       "metadata": {},
       "output_type": "pyout",
       "prompt_number": 60,
       "text": [
        "<bound method Spam.grok of <__main__.Spam object at 0x10ccec9e8>>"
       ]
      }
     ],
     "prompt_number": 60
    },
    {
     "cell_type": "markdown",
     "metadata": {},
     "source": [
      "- \uc774 \ub808\uc2dc\ud53c\uc5d0\uc11c **\\_\\_get\\_\\_() \uba54\uc18c\ub4dc**\ub294 **\ubc14\uc6b4\ub4dc \uba54\uc18c\ub4dc \uac1d\uccb4\uc758 \uc62c\ubc14\ub978 \uc0dd\uc131\uc744 \ubcf4\uc7a5**\ud558\uae30 \uc704\ud574 \uc874\uc7ac\n",
      "- type.MethodType()\uc740 \uc5ec\uae30\uc5d0 \uc0ac\uc6a9\ud558\uae30 \uc704\ud574 **\ubc14\uc6b4\ub4dc \uba54\uc18c\ub4dc\ub97c \uc218\ub3d9\uc73c\ub85c \uc0dd\uc131**\ud55c\ub2e4.\n",
      "- \ubc14\uc628\ub4dc \uba54\uc18c\ub4dc\ub294 \uc778\uc2a4\ud134\uc2a4\ub97c \uc0ac\uc6a9\ud560 \ub54c\ub9cc \uc0dd\uc131\ub428\n",
      "- \uba54\uc18c\ub4dc\ub97c \ud074\ub798\uc2a4\uc5d0\uc11c \uc811\uadfc\ud558\uba74 \\_\\_get\\_\\_()\uc758 instance \uc778\uc790\ub294 None\uc73c\ub85c \uc124\uc815\ub428\n",
      "- Profiled \uc778\uc2a4\ud134\uc2a4 \uc790\uccb4\ub97c \ubc18\ud658\ud568\n",
      "- \ub530\ub77c\uc11c \uc0ac\uc6a9\uc790\uac00 ncalls \uc18d\uc131\uc5d0 \uc811\uadfc \uac00\ub2a5\n",
      "\n",
      "\n",
      "- \uc774\ub7f0 \ubcf5\uc7a1\ud55c \uacfc\uc815\uc774 \ub9c8\uc74c\uc5d0 \ub4e4\uc9c0 \uc54a\ub294\ub2e4\uba74 **\ud074\ub85c\uc800**\uc640 **nonlocal \ubcc0\uc218**\ub97c \uc0ac\uc6a9\ud558\ub294 **\ub370\ucf54\ub808\uc774\ud130**\ub97c \uace0\ub824\ud574 \ubcf4\uc790"
     ]
    },
    {
     "cell_type": "code",
     "collapsed": false,
     "input": [
      "import types\n",
      "from functools import wraps\n",
      "\n",
      "def profiled(func):\n",
      "    ncalls = 0\n",
      "    @wraps(func)\n",
      "    def wrapper(*args, **kwargs):\n",
      "        nonlocal ncalls\n",
      "        ncalls += 1\n",
      "        return func(*args, **kwargs)\n",
      "    wrapper.ncalls = lambda: ncalls\n",
      "    return wrapper"
     ],
     "language": "python",
     "metadata": {},
     "outputs": [],
     "prompt_number": 61
    },
    {
     "cell_type": "code",
     "collapsed": false,
     "input": [
      "# \uc608\uc81c\n",
      "@profiled\n",
      "def add(x, y):\n",
      "    return x + y"
     ],
     "language": "python",
     "metadata": {},
     "outputs": [],
     "prompt_number": 62
    },
    {
     "cell_type": "markdown",
     "metadata": {},
     "source": [
      "- \uc774 \uc608\uc81c\ub294 **ncalls\uc5d0 \ub300\ud55c \uc811\uadfc**\uc774 **\ud568\uc218 \uc18d\uc131\uc73c\ub85c \ucca8\ubd80\ub41c \ud568\uc218\ub97c \ud1b5\ud574 \uc81c\uacf5**\ub41c\ub2e4\ub294 \uc810\uc744 \uc81c\uc678\ud558\uba74 \ub098\uba38\uc9c0 \ubd80\ubd84\uc740 \uc644\uc804\ud788 \ub3d9\uc77c\ud558\uac8c \ub3d9\uc791\ud568"
     ]
    },
    {
     "cell_type": "code",
     "collapsed": false,
     "input": [
      "add(2, 3)"
     ],
     "language": "python",
     "metadata": {},
     "outputs": [
      {
       "metadata": {},
       "output_type": "pyout",
       "prompt_number": 63,
       "text": [
        "5"
       ]
      }
     ],
     "prompt_number": 63
    },
    {
     "cell_type": "code",
     "collapsed": false,
     "input": [
      "add(4, 5)"
     ],
     "language": "python",
     "metadata": {},
     "outputs": [
      {
       "metadata": {},
       "output_type": "pyout",
       "prompt_number": 64,
       "text": [
        "9"
       ]
      }
     ],
     "prompt_number": 64
    },
    {
     "cell_type": "code",
     "collapsed": false,
     "input": [
      "add.ncalls()"
     ],
     "language": "python",
     "metadata": {},
     "outputs": [
      {
       "metadata": {},
       "output_type": "pyout",
       "prompt_number": 65,
       "text": [
        "2"
       ]
      }
     ],
     "prompt_number": 65
    },
    {
     "cell_type": "markdown",
     "metadata": {},
     "source": [
      "## 9.10 \ud074\ub798\uc2a4\uc640 \uc2a4\ud0dc\ud2f1 \uba54\uc18c\ub4dc\uc5d0 \ub370\ucf54\ub808\uc774\ud130 \uc801\uc6a9\n",
      "\n",
      "### \ubb38\uc81c\n",
      "\n",
      "- \ud074\ub798\uc2a4\ub098 \uc2a4\ud0dc\ud2f1 \uba54\uc18c\ub4dc\uc5d0 \ub370\ucf54\ub808\uc774\ud130\ub97c \uc801\uc6a9\ud558\uace0 \uc2f6\ub2e4.\n",
      "\n",
      "### \ud574\uacb0\n",
      "\n",
      "- \ud074\ub798\uc2a4\uc640 \uc2a4\ud0dc\ud2f1 \uba54\uc18c\ub4dc\uc5d0 \ub370\ucf54\ub808\uc774\ud130\ub97c \uc801\uc6a9\ud558\uae30\ub294 \uac04\ub2e8\ud558\uc9c0\ub9cc, \ub370\ucf54\ub808\uc774\ud130\ub97c @class method Ehsms @staticmethod **\uc55e\uc5d0 \uc801\uc6a9**\ud558\ub3c4\ub85d \uc8fc\uc758"
     ]
    },
    {
     "cell_type": "code",
     "collapsed": false,
     "input": [
      "import time\n",
      "from functools import wraps\n",
      "\n",
      "# \uac04\ub2e8\ud55c \ub370\ucf54\ub808\uc774\ud130\n",
      "def timethis(func):\n",
      "    @wraps(func)\n",
      "    def wrapper(*args, **kwargs):\n",
      "        start = time.time()\n",
      "        r = func(*args, **kwargs)\n",
      "        end = time.time()\n",
      "        print(end-start)\n",
      "        return r\n",
      "    return wrapper\n",
      "\n",
      "# \uc11c\ub85c \ub2e4\ub978 \uba54\uc18c\ub4dc\uc5d0 \ub370\ucf54\ub808\uc774\ud130\ub97c \uc801\uc6a9\ud558\ub294 \ubaa8\uc2b5\uc744 \ubcf4\uc5ec\uc8fc\uae30 \uc704\ud55c \ud074\ub798\uc2a4\n",
      "class Spam:\n",
      "    @timethis\n",
      "    def instance_method(self, n):\n",
      "        print(self, n)\n",
      "        while n > 0:\n",
      "            n -= 1\n",
      "            \n",
      "    @classmethod\n",
      "    @timethis\n",
      "    def class_method(cls, n):\n",
      "        print(cls, n)\n",
      "        while n > 0:\n",
      "            n -= 1\n",
      "            \n",
      "    @staticmethod\n",
      "    @timethis\n",
      "    def static_method(n):\n",
      "        print(n)\n",
      "        while n > 0:\n",
      "            n -= 1"
     ],
     "language": "python",
     "metadata": {},
     "outputs": [],
     "prompt_number": 66
    },
    {
     "cell_type": "markdown",
     "metadata": {},
     "source": [
      "- \uacb0\uacfc\uc801\uc73c\ub85c \ud074\ub798\uc2a4\uc640 \uc2a4\ud0dc\ud2f1 \uba54\uc18c\ub4dc\ub294 \uc798 \ub3d9\uc791\ud558\uc9c0\ub9cc \ucd94\uac00\uc801\uc778 \ud0c0\uc774\ubc0d\uc774 \uc0dd\uae40"
     ]
    },
    {
     "cell_type": "code",
     "collapsed": false,
     "input": [
      "s = Spam()"
     ],
     "language": "python",
     "metadata": {},
     "outputs": [],
     "prompt_number": 67
    },
    {
     "cell_type": "code",
     "collapsed": false,
     "input": [
      "s.instance_method(1000000)"
     ],
     "language": "python",
     "metadata": {},
     "outputs": [
      {
       "output_type": "stream",
       "stream": "stdout",
       "text": [
        "<__main__.Spam object at 0x10cd1d080> 1000000\n",
        "0.07774806022644043"
       ]
      },
      {
       "output_type": "stream",
       "stream": "stdout",
       "text": [
        "\n"
       ]
      }
     ],
     "prompt_number": 70
    },
    {
     "cell_type": "code",
     "collapsed": false,
     "input": [
      "Spam.class_method(1000000)"
     ],
     "language": "python",
     "metadata": {},
     "outputs": [
      {
       "output_type": "stream",
       "stream": "stdout",
       "text": [
        "<class '__main__.Spam'> 1000000\n",
        "0.07573294639587402"
       ]
      },
      {
       "output_type": "stream",
       "stream": "stdout",
       "text": [
        "\n"
       ]
      }
     ],
     "prompt_number": 72
    },
    {
     "cell_type": "code",
     "collapsed": false,
     "input": [
      "Spam.static_method(1000000)"
     ],
     "language": "python",
     "metadata": {},
     "outputs": [
      {
       "output_type": "stream",
       "stream": "stdout",
       "text": [
        "1000000\n",
        "0.07357406616210938"
       ]
      },
      {
       "output_type": "stream",
       "stream": "stdout",
       "text": [
        "\n"
       ]
      }
     ],
     "prompt_number": 73
    },
    {
     "cell_type": "markdown",
     "metadata": {},
     "source": [
      "### \ud1a0\ub860\n",
      "\n",
      "- **\ub370\ucf54\ub808\uc774\ud130\uc758 \uc21c\uc11c**\ub97c **\uc798\ubabb \uc124\uc815**\ud558\uba74 **\uc5d0\ub7ec**\uac00 \ubc1c\uc0dd\ud568\n",
      "- \uc608\ub97c \ub4e4\uc5b4 \ub2e4\uc74c\uacfc \uac19\uc740 \uc21c\uc11c\ub85c \uc2e4\ud589\ud558\uba74"
     ]
    },
    {
     "cell_type": "code",
     "collapsed": false,
     "input": [
      "class Spam:\n",
      "    @timethis\n",
      "    def instance_method(self, n):\n",
      "        print(self, n)\n",
      "        while n > 0:\n",
      "            n -= 1\n",
      "            \n",
      "    @timethis\n",
      "    @classmethod\n",
      "    def class_method(cls, n):\n",
      "        print(cls, n)\n",
      "        while n > 0:\n",
      "            n -= 1\n",
      "            \n",
      "    @timethis\n",
      "    @staticmethod\n",
      "    def static_method(n):\n",
      "        print(n)\n",
      "        while n > 0:\n",
      "            n -= 1"
     ],
     "language": "python",
     "metadata": {},
     "outputs": [],
     "prompt_number": 74
    },
    {
     "cell_type": "markdown",
     "metadata": {},
     "source": [
      "- static method\uc5d0\uc11c Crash \ubc1c\uc0dd"
     ]
    },
    {
     "cell_type": "code",
     "collapsed": false,
     "input": [
      "Spam.static_method(1000000)"
     ],
     "language": "python",
     "metadata": {},
     "outputs": [
      {
       "ename": "TypeError",
       "evalue": "'staticmethod' object is not callable",
       "output_type": "pyerr",
       "traceback": [
        "\u001b[0;31m---------------------------------------------------------------------------\u001b[0m\n\u001b[0;31mTypeError\u001b[0m                                 Traceback (most recent call last)",
        "\u001b[0;32m<ipython-input-75-4d1d33e12ecf>\u001b[0m in \u001b[0;36m<module>\u001b[0;34m()\u001b[0m\n\u001b[0;32m----> 1\u001b[0;31m \u001b[0mSpam\u001b[0m\u001b[0;34m.\u001b[0m\u001b[0mstatic_method\u001b[0m\u001b[0;34m(\u001b[0m\u001b[0;36m1000000\u001b[0m\u001b[0;34m)\u001b[0m\u001b[0;34m\u001b[0m\u001b[0m\n\u001b[0m",
        "\u001b[0;32m<ipython-input-66-e01cd96fddc1>\u001b[0m in \u001b[0;36mwrapper\u001b[0;34m(*args, **kwargs)\u001b[0m\n\u001b[1;32m      7\u001b[0m     \u001b[0;32mdef\u001b[0m \u001b[0mwrapper\u001b[0m\u001b[0;34m(\u001b[0m\u001b[0;34m*\u001b[0m\u001b[0margs\u001b[0m\u001b[0;34m,\u001b[0m \u001b[0;34m**\u001b[0m\u001b[0mkwargs\u001b[0m\u001b[0;34m)\u001b[0m\u001b[0;34m:\u001b[0m\u001b[0;34m\u001b[0m\u001b[0m\n\u001b[1;32m      8\u001b[0m         \u001b[0mstart\u001b[0m \u001b[0;34m=\u001b[0m \u001b[0mtime\u001b[0m\u001b[0;34m.\u001b[0m\u001b[0mtime\u001b[0m\u001b[0;34m(\u001b[0m\u001b[0;34m)\u001b[0m\u001b[0;34m\u001b[0m\u001b[0m\n\u001b[0;32m----> 9\u001b[0;31m         \u001b[0mr\u001b[0m \u001b[0;34m=\u001b[0m \u001b[0mfunc\u001b[0m\u001b[0;34m(\u001b[0m\u001b[0;34m*\u001b[0m\u001b[0margs\u001b[0m\u001b[0;34m,\u001b[0m \u001b[0;34m**\u001b[0m\u001b[0mkwargs\u001b[0m\u001b[0;34m)\u001b[0m\u001b[0;34m\u001b[0m\u001b[0m\n\u001b[0m\u001b[1;32m     10\u001b[0m         \u001b[0mend\u001b[0m \u001b[0;34m=\u001b[0m \u001b[0mtime\u001b[0m\u001b[0;34m.\u001b[0m\u001b[0mtime\u001b[0m\u001b[0;34m(\u001b[0m\u001b[0;34m)\u001b[0m\u001b[0;34m\u001b[0m\u001b[0m\n\u001b[1;32m     11\u001b[0m         \u001b[0mprint\u001b[0m\u001b[0;34m(\u001b[0m\u001b[0mend\u001b[0m\u001b[0;34m-\u001b[0m\u001b[0mstart\u001b[0m\u001b[0;34m)\u001b[0m\u001b[0;34m\u001b[0m\u001b[0m\n",
        "\u001b[0;31mTypeError\u001b[0m: 'staticmethod' object is not callable"
       ]
      }
     ],
     "prompt_number": 75
    },
    {
     "cell_type": "markdown",
     "metadata": {},
     "source": [
      "- \uc5ec\uae30\uc11c \ubb38\uc81c\ub294 **@classmethod**\uc640 **@staticmethod**\uac00 **\uc2e4\uc81c\ub85c \uc9c1\uc811 \ud638\ucd9c \uac00\ub2a5\ud55c \uac1d\uccb4\ub97c \uc0dd\uc131\ud558\uc9c0 \uc54a\ub294\ub2e4**\ub294 \uc810\n",
      "- \uadf8 \ub300\uc2e0, \ub808\uc2dc\ud53c 8.9\uc5d0\uc11c \uc124\uba85\ud55c \ud2b9\ubcc4\ud55c \ub514\uc2a4\ud06c\ub9bd\ud130 \uac1d\uccb4\ub97c \ub9cc\ub4ec\n",
      "- \ub530\ub77c\uc11c \ub2e4\ub978 \ub370\ucf54\ub808\uc774\ud130\uc758 \ud568\uc218\uc640 \uac19\uc740 \uc21c\uc11c\ub85c \uc0ac\uc6a9\ud558\ub824\uace0 \ud558\uba74 \ud06c\ub798\uc2dc\uac00 \ubc1c\uc0dd\n",
      "- \ubc18\ub4dc\uc2dc \ub370\ucf54\ub808\uc774\ud130 \ub9ac\uc2a4\ud2b8\uc5d0 \uc774 \ub370\ucf54\ub808\uc774\ud130\uac00 **\ucc98\uc74c\uc73c\ub85c \ub098\uc624\uac8c** \ud574\uc57c \ud568\n",
      "\n",
      "\n",
      "- \uc774\ubc88 \ub808\uc2dc\ud53c\uc5d0\uc11c \uc124\uba85\ud55c \ub0b4\uc6a9\uc774 **\uc544\uc8fc \uc911\uc694\ud558\uac8c \uc791\uc6a9**\ud558\ub294 \ud55c \uac00\uc9c0 \uc0c1\ud669\uc73c\ub85c \ub808\uc2dc\ud53c 8.12\uc5d0\uc11c \uc124\uba85\ud588\ub358 **\ucd94\uc0c1 \ubca0\uc774\uc2a4 \ud074\ub798\uc2a4\uc758 \ud074\ub798\uc2a4**\uc640 **\uc2a4\ud0dc\ud2f1 \uba54\uc18c\ub4dc \uc815\uc758**\ub97c \ub4e4 \uc218 \uc788\uc74c\n",
      "- \ucd94\uc0c1 \ud074\ub798\uc2a4 \uba54\uc18c\ub4dc\ub97c \uc815\uc758\ud558\uace0 \uc2f6\ub2e4\uba74 \ub2e4\uc74c \ucf54\ub4dc\ub97c \uc0ac\uc6a9"
     ]
    },
    {
     "cell_type": "code",
     "collapsed": false,
     "input": [
      "from abc import ABCMeta, abstractmethod\n",
      "\n",
      "class A(metaclass=ABCMeta):\n",
      "    @classmethod\n",
      "    @abstractmethod\n",
      "    def method(cls):\n",
      "        pass"
     ],
     "language": "python",
     "metadata": {},
     "outputs": [],
     "prompt_number": 77
    },
    {
     "cell_type": "code",
     "collapsed": false,
     "input": [
      "# \ucd94\uc0c1 \ubca0\uc774\uc2a4 \ud074\ub798\uc2a4\ub294 instance\ub97c \ub9cc\ub4e4 \uc218 \uc5c6\uc74c\n",
      "a = A()"
     ],
     "language": "python",
     "metadata": {},
     "outputs": [
      {
       "ename": "TypeError",
       "evalue": "Can't instantiate abstract class A with abstract methods method",
       "output_type": "pyerr",
       "traceback": [
        "\u001b[0;31m---------------------------------------------------------------------------\u001b[0m\n\u001b[0;31mTypeError\u001b[0m                                 Traceback (most recent call last)",
        "\u001b[0;32m<ipython-input-78-144b248f218a>\u001b[0m in \u001b[0;36m<module>\u001b[0;34m()\u001b[0m\n\u001b[0;32m----> 1\u001b[0;31m \u001b[0ma\u001b[0m \u001b[0;34m=\u001b[0m \u001b[0mA\u001b[0m\u001b[0;34m(\u001b[0m\u001b[0;34m)\u001b[0m\u001b[0;34m\u001b[0m\u001b[0m\n\u001b[0m",
        "\u001b[0;31mTypeError\u001b[0m: Can't instantiate abstract class A with abstract methods method"
       ]
      }
     ],
     "prompt_number": 78
    },
    {
     "cell_type": "markdown",
     "metadata": {},
     "source": [
      "- \uc55e\uc5d0 \ub098\uc628 \ucf54\ub4dc\uc5d0\uc11c @classmethod\uc640 @abstractmethod\uc758 **\uc21c\uc11c\uac00 \uc911\uc694**\n",
      "- \ub9cc\uc57d \ub450 \ub370\ucf54\ub808\uc774\ud130\uc758 \uc21c\uc11c\ub97c \ubc14\uafb8\uba74 \ubaa8\ub4e0 \uac83\uc774 \ub9dd\uac00\uc9d0"
     ]
    }
   ],
   "metadata": {}
  }
 ]
}
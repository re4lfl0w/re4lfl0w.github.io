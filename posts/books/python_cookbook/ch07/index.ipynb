{
 "metadata": {
  "name": "",
  "signature": "sha256:e195d7fa28c3b8e267fd7cd3c359095140a483e47c6d6024d6fdcaf4a8f0575a"
 },
 "nbformat": 3,
 "nbformat_minor": 0,
 "worksheets": [
  {
   "cells": [
    {
     "cell_type": "markdown",
     "metadata": {},
     "source": [
      "# 7. \ud568\uc218\n",
      "\n",
      "- def \uad6c\ubb38\uc73c\ub85c \ud568\uc218\ub97c \uc815\uc758\ud558\ub294 \uac83\uc740 \ubaa8\ub4e0 \ud504\ub85c\uadf8\ub7a8\uc758 \uae30\ucd08\n",
      "- \uc774\ubc88 \uc7a5\uc5d0\uc11c\ub294 \uc880 \ub354 \uace0\uae09 \uae30\ub2a5\uacfc \uc798 \uc0ac\uc6a9\ud558\uc9c0 \uc54a\ub294 \ud568\uc218 \uc815\uc758, \uc0ac\uc6a9 \ud328\ud134\uc5d0 \ub300\ud574 \uc54c\uc544\ubd04\n",
      "- \uae30\ubcf8 \uc778\uc790, \uc778\uc790 \uc218\uc5d0 \uad6c\uc560 \ubc1b\uc9c0 \uc54a\ub294 \ud568\uc218, \ud0a4\uc6cc\ub4dc \uc778\uc790, \uc8fc\uc11d, closure \ub4f1\uc774 \uc8fc\uc81c\uc5d0 \ud3ec\ud568\n",
      "- \ub610\ud55c \ubcf5\uc7a1\ud55c control flow\uc640 callback \ud568\uc218\ub97c \uc0ac\uc6a9\ud55c \ub370\uc774\ud130 \uc804\ub2ec \ubb38\uc81c \ub4f1\ub3c4 \ub2e4\ub8f8"
     ]
    },
    {
     "cell_type": "markdown",
     "metadata": {},
     "source": [
      "## 7.1 \ub9e4\uac1c\ubcc0\uc218 \uac1c\uc218\uc5d0 \uad6c\uc560 \ubc1b\uc9c0 \uc54a\ub294 \ud568\uc218 \uc791\uc131\n",
      "\n",
      "### \ubb38\uc81c\n",
      "\n",
      "- \uc785\ub825 \ub9e4\uac1c\ubcc0\uc218 \uac1c\uc218\uc5d0 \uc81c\ud55c\uc774 \uc5c6\ub294 \ud568\uc218\ub97c \uc791\uc131\ud558\uace0 \uc2f6\ub2e4.\n",
      "\n",
      "### \ud574\uacb0\n",
      "\n",
      "- \uc704\uce58 \ub9e4\uac1c\ubcc0\uc218\uc758 \uac1c\uc218\uc5d0 \uc81c\ud55c\uc774 \uc5c6\ub294 \ud568\uc218\ub97c \uc791\uc131\ud558\ub824\uba74 \\* \uc778\uc790\ub97c \uc0ac\uc6a9"
     ]
    },
    {
     "cell_type": "code",
     "collapsed": false,
     "input": [
      "def avg(first, *rest):\n",
      "    return (first + sum(rest)) / (1 + len(rest))"
     ],
     "language": "python",
     "metadata": {},
     "outputs": [],
     "prompt_number": 1
    },
    {
     "cell_type": "code",
     "collapsed": false,
     "input": [
      "avg(1, 2)"
     ],
     "language": "python",
     "metadata": {},
     "outputs": [
      {
       "metadata": {},
       "output_type": "pyout",
       "prompt_number": 2,
       "text": [
        "1.5"
       ]
      }
     ],
     "prompt_number": 2
    },
    {
     "cell_type": "code",
     "collapsed": false,
     "input": [
      "avg(1, 2, 3, 4)"
     ],
     "language": "python",
     "metadata": {},
     "outputs": [
      {
       "metadata": {},
       "output_type": "pyout",
       "prompt_number": 3,
       "text": [
        "2.5"
       ]
      }
     ],
     "prompt_number": 3
    },
    {
     "cell_type": "code",
     "collapsed": false,
     "input": [
      "1 + len([2,3,4])"
     ],
     "language": "python",
     "metadata": {},
     "outputs": [
      {
       "metadata": {},
       "output_type": "pyout",
       "prompt_number": 9,
       "text": [
        "4"
       ]
      }
     ],
     "prompt_number": 9
    },
    {
     "cell_type": "markdown",
     "metadata": {},
     "source": [
      "- \uc774 \uc608\uc81c\uc5d0\uc11c rest\uc5d0 \ucd94\uac00\uc801 \uc704\uce58 \ub9e4\uac1c\ubcc0\uc218\uac00 \ud29c\ud50c\ub85c \ub4e4\uc5b4\uac10\n",
      "- \ucf54\ub4dc\ub294 \ucd94\ud6c4 \uc791\uc5c5\uc5d0\uc11c \ud558\ub098\uc758 \uc2dc\ud000\uc2a4\ub85c \ub2e4\ub8f8\n",
      "- \ud0a4\uc6cc\ub4dc \ub9e4\uac1c\ubcc0\uc218 \uc218\uc5d0 \uc81c\ud55c\uc774 \uc5c6\ub294 \ud568\uc218\ub97c \uc791\uc131\ud558\ub824\uba74 \\*\\*\ub85c \uc2dc\uc791\ud558\ub294 \uc778\uc790 \uc0ac\uc6a9"
     ]
    },
    {
     "cell_type": "code",
     "collapsed": false,
     "input": [
      "import html\n",
      "\n",
      "def make_element(name, value, **attrs):\n",
      "    keyvals = [' %s=\"%s\"' % item for item in attrs.items()]\n",
      "    attr_str = ''.join(keyvals)\n",
      "    element = '<{name}{attrs}>{value}</{name}>'.format(\n",
      "                name=name,\n",
      "                attrs=attr_str,\n",
      "                value=html.escape(value))\n",
      "    return element"
     ],
     "language": "python",
     "metadata": {},
     "outputs": [],
     "prompt_number": 10
    },
    {
     "cell_type": "code",
     "collapsed": false,
     "input": [
      "# \uc608\uc81c\n",
      "# '<item size=\"large\" quantity=\"6\">Albatross</item>' \uc0dd\uc131\n",
      "make_element('item', 'Albatross', size='alrge', quantity=6)"
     ],
     "language": "python",
     "metadata": {},
     "outputs": [
      {
       "metadata": {},
       "output_type": "pyout",
       "prompt_number": 11,
       "text": [
        "'<item size=\"alrge\" quantity=\"6\">Albatross</item>'"
       ]
      }
     ],
     "prompt_number": 11
    },
    {
     "cell_type": "code",
     "collapsed": false,
     "input": [
      "# '<p>&lt;spam&gt;</p>' \uc0dd\uc131\n",
      "make_element('p', '<spam>')"
     ],
     "language": "python",
     "metadata": {},
     "outputs": [
      {
       "metadata": {},
       "output_type": "pyout",
       "prompt_number": 12,
       "text": [
        "'<p>&lt;spam&gt;</p>'"
       ]
      }
     ],
     "prompt_number": 12
    },
    {
     "cell_type": "markdown",
     "metadata": {},
     "source": [
      "- attrs\uc740 \uc804\ub2ec \ubc1b\uc740 \ud0a4\uc6cc\ub4dc \ub9e4\uac1c\ubcc0\uc218(\uc788\ub2e4\uba74)\ub97c \uc800\uc7a5\ud558\ub294 \ub515\uc154\ub108\ub9ac\n",
      "- \uc704\uce58 \ub9e4\uac1c\ubcc0\uc218\uc640 \ud0a4\uc6cc\ub4dc \ub9e4\uac1c\ubcc0\uc218\ub97c \ub3d9\uc2dc\uc5d0 \ubc1b\ub294 \ud568\uc218\ub97c \uc791\uc131\ud558\ub824\uba74, \\*\uc640 \\*\\*\ub97c \ud568\uaed8 \uc0ac\uc6a9\ud558\uba74 \ub428"
     ]
    },
    {
     "cell_type": "code",
     "collapsed": false,
     "input": [
      "def anyargs(*args, **kwargs):\n",
      "    print(args) # \ud29c\ud50c\n",
      "    print(kwargs) # \ub515\uc154\ub108\ub9ac"
     ],
     "language": "python",
     "metadata": {},
     "outputs": [],
     "prompt_number": 13
    },
    {
     "cell_type": "code",
     "collapsed": false,
     "input": [
      "anyargs(1, 2, 'tuple', d='dictionary', k='nice')"
     ],
     "language": "python",
     "metadata": {},
     "outputs": [
      {
       "output_type": "stream",
       "stream": "stdout",
       "text": [
        "(1, 2, 'tuple')\n",
        "{'k': 'nice', 'd': 'dictionary'}\n"
       ]
      }
     ],
     "prompt_number": 14
    },
    {
     "cell_type": "markdown",
     "metadata": {},
     "source": [
      "- \uc774 \ud568\uc218\uc5d0\uc11c \ubaa8\ub4e0 \uc704\uce58 \ub9e4\uac1c\ubcc0\uc218\ub294 \ud29c\ud50c args\n",
      "- \ubaa8\ub4e0 \ud0a4\uc6cc\ub4dc \ub9e4\uac1c\ubcc0\uc218\ub294 \ub515\uc154\ub108\ub9ac kwargs"
     ]
    },
    {
     "cell_type": "markdown",
     "metadata": {},
     "source": [
      "### \ud1a0\ub860\n",
      "\n",
      "- \\*\ub294 \ud568\uc218 \uc815\uc758\uc758 \ub9c8\uc9c0\ub9c9 \uc704\uce58 \ub9e4\uac1c\ubcc0\uc218 \uc790\ub9ac\uc5d0\ub9cc \uc62c \uc218 \uc788\ub2e4.\n",
      "- \\*\\*\ub294 \ub9c8\uc9c0\ub9c9 \ub9e4\uac1c\ubcc0\uc218 \uc790\ub9ac\uc5d0\ub9cc \uc62c \uc218 \uc788\ub2e4.\n",
      "- \uadf8\ub9ac\uace0 \\* \ub4a4\uc5d0\ub3c4 \ub9e4\uac1c\ubcc0\uc218\uac00 \ub610 \ub098\uc62c \uc218 \uc788\ub2e4\ub294 \uac70\uc2f1 \ud568\uc218 \uc815\uc758\uc758 \ubbf8\ubb18\ud55c \uc810"
     ]
    },
    {
     "cell_type": "code",
     "collapsed": false,
     "input": [
      "def a(x, *args, y):\n",
      "    pass"
     ],
     "language": "python",
     "metadata": {},
     "outputs": [],
     "prompt_number": 16
    },
    {
     "cell_type": "code",
     "collapsed": false,
     "input": [
      "def b(x, *args, y, **kwargs):\n",
      "    pass"
     ],
     "language": "python",
     "metadata": {},
     "outputs": [],
     "prompt_number": 17
    },
    {
     "cell_type": "markdown",
     "metadata": {},
     "source": [
      "- \uc774\ub7f0 \ub9e4\uac1c\ubcc0\uc218\ub294 \ud0a4\uc6cc\ub4dc\ub85c\ub9cc \ub123\uc744 \uc218 \uc788\ub294(keyword-only) \uc778\uc790\ub85c \ubd80\ub974\uace0 \ub808\uc2dc\ud53c 7.2\uc5d0\uc11c \uc790\uc138\ud788 \ub2e4\ub8f8"
     ]
    },
    {
     "cell_type": "markdown",
     "metadata": {},
     "source": [
      "## 7.2 \ud0a4\uc6cc\ub4dc \ub9e4\uac1c\ubcc0\uc218\ub9cc \ubc1b\ub294 \ud568\uc218 \uc791\uc131\n",
      "\n",
      "### \ubb38\uc81c\n",
      "\n",
      "- \ud0a4\uc6cc\ub4dc\ub85c \uc9c0\uc815\ud55c \ud2b9\uc815 \ub9e4\uac1c\ubcc0\uc218\ub9cc \ubc1b\ub294 \ud568\uc218\uac00 \ud544\uc694\ud558\ub2e4.\n",
      "\n",
      "### \ud574\uacb0\n",
      "\n",
      "- \uc774 \uae30\ub2a5\uc740 \ud0a4\uc6cc\ub4dc \ub9e4\uac1c\ubcc0\uc218\ub97c \\* \ub4a4\uc5d0 \ub123\uac70\ub098 \uc774\ub984\uc5c6\uc774 \\*\ub9cc \uc0ac\uc6a9\ud558\uba74 \uac04\ub2e8\ud788 \uad6c\ud604 \uac00\ub2a5"
     ]
    },
    {
     "cell_type": "code",
     "collapsed": false,
     "input": [
      "def recv(maxsize, *, block):\n",
      "    'Receives a message'\n",
      "    pass"
     ],
     "language": "python",
     "metadata": {},
     "outputs": [],
     "prompt_number": 18
    },
    {
     "cell_type": "code",
     "collapsed": false,
     "input": [
      "# TypeError\n",
      "recv(1024, True)"
     ],
     "language": "python",
     "metadata": {},
     "outputs": [
      {
       "ename": "TypeError",
       "evalue": "recv() takes 1 positional argument but 2 were given",
       "output_type": "pyerr",
       "traceback": [
        "\u001b[0;31m---------------------------------------------------------------------------\u001b[0m\n\u001b[0;31mTypeError\u001b[0m                                 Traceback (most recent call last)",
        "\u001b[0;32m<ipython-input-19-8e61db2ef94b>\u001b[0m in \u001b[0;36m<module>\u001b[0;34m()\u001b[0m\n\u001b[0;32m----> 1\u001b[0;31m \u001b[0mrecv\u001b[0m\u001b[0;34m(\u001b[0m\u001b[0;36m1024\u001b[0m\u001b[0;34m,\u001b[0m \u001b[0;32mTrue\u001b[0m\u001b[0;34m)\u001b[0m\u001b[0;34m\u001b[0m\u001b[0m\n\u001b[0m",
        "\u001b[0;31mTypeError\u001b[0m: recv() takes 1 positional argument but 2 were given"
       ]
      }
     ],
     "prompt_number": 19
    },
    {
     "cell_type": "code",
     "collapsed": false,
     "input": [
      "# Ok\n",
      "recv(1024, block=True)"
     ],
     "language": "python",
     "metadata": {},
     "outputs": [],
     "prompt_number": 20
    },
    {
     "cell_type": "code",
     "collapsed": false,
     "input": [
      "recv(1024, 1, 1)"
     ],
     "language": "python",
     "metadata": {},
     "outputs": [
      {
       "ename": "TypeError",
       "evalue": "recv() takes 1 positional argument but 3 were given",
       "output_type": "pyerr",
       "traceback": [
        "\u001b[0;31m---------------------------------------------------------------------------\u001b[0m\n\u001b[0;31mTypeError\u001b[0m                                 Traceback (most recent call last)",
        "\u001b[0;32m<ipython-input-24-e9138eed21fe>\u001b[0m in \u001b[0;36m<module>\u001b[0;34m()\u001b[0m\n\u001b[0;32m----> 1\u001b[0;31m \u001b[0mrecv\u001b[0m\u001b[0;34m(\u001b[0m\u001b[0;36m1024\u001b[0m\u001b[0;34m,\u001b[0m \u001b[0;36m1\u001b[0m\u001b[0;34m,\u001b[0m \u001b[0;36m1\u001b[0m\u001b[0;34m)\u001b[0m\u001b[0;34m\u001b[0m\u001b[0m\n\u001b[0m",
        "\u001b[0;31mTypeError\u001b[0m: recv() takes 1 positional argument but 3 were given"
       ]
      }
     ],
     "prompt_number": 24
    },
    {
     "cell_type": "code",
     "collapsed": false,
     "input": [
      "recv(1024, 1, block=True)"
     ],
     "language": "python",
     "metadata": {},
     "outputs": [
      {
       "ename": "TypeError",
       "evalue": "recv() takes 1 positional argument but 2 positional arguments (and 1 keyword-only argument) were given",
       "output_type": "pyerr",
       "traceback": [
        "\u001b[0;31m---------------------------------------------------------------------------\u001b[0m\n\u001b[0;31mTypeError\u001b[0m                                 Traceback (most recent call last)",
        "\u001b[0;32m<ipython-input-25-4b60b7ba2ae5>\u001b[0m in \u001b[0;36m<module>\u001b[0;34m()\u001b[0m\n\u001b[0;32m----> 1\u001b[0;31m \u001b[0mrecv\u001b[0m\u001b[0;34m(\u001b[0m\u001b[0;36m1024\u001b[0m\u001b[0;34m,\u001b[0m \u001b[0;36m1\u001b[0m\u001b[0;34m,\u001b[0m \u001b[0mblock\u001b[0m\u001b[0;34m=\u001b[0m\u001b[0;32mTrue\u001b[0m\u001b[0;34m)\u001b[0m\u001b[0;34m\u001b[0m\u001b[0m\n\u001b[0m",
        "\u001b[0;31mTypeError\u001b[0m: recv() takes 1 positional argument but 2 positional arguments (and 1 keyword-only argument) were given"
       ]
      }
     ],
     "prompt_number": 25
    },
    {
     "cell_type": "code",
     "collapsed": false,
     "input": [
      "recv(1024, a=True, block=True)"
     ],
     "language": "python",
     "metadata": {},
     "outputs": [
      {
       "ename": "TypeError",
       "evalue": "recv() got an unexpected keyword argument 'a'",
       "output_type": "pyerr",
       "traceback": [
        "\u001b[0;31m---------------------------------------------------------------------------\u001b[0m\n\u001b[0;31mTypeError\u001b[0m                                 Traceback (most recent call last)",
        "\u001b[0;32m<ipython-input-26-58ee6ac1bb7e>\u001b[0m in \u001b[0;36m<module>\u001b[0;34m()\u001b[0m\n\u001b[0;32m----> 1\u001b[0;31m \u001b[0mrecv\u001b[0m\u001b[0;34m(\u001b[0m\u001b[0;36m1024\u001b[0m\u001b[0;34m,\u001b[0m \u001b[0ma\u001b[0m\u001b[0;34m=\u001b[0m\u001b[0;32mTrue\u001b[0m\u001b[0;34m,\u001b[0m \u001b[0mblock\u001b[0m\u001b[0;34m=\u001b[0m\u001b[0;32mTrue\u001b[0m\u001b[0;34m)\u001b[0m\u001b[0;34m\u001b[0m\u001b[0m\n\u001b[0m",
        "\u001b[0;31mTypeError\u001b[0m: recv() got an unexpected keyword argument 'a'"
       ]
      }
     ],
     "prompt_number": 26
    },
    {
     "cell_type": "markdown",
     "metadata": {},
     "source": [
      "- \uc774 \uae30\uc220\ub85c \uc22b\uc790\uac00 \ub2e4\ub978 \uc704\uce58 \ub9e4\uac1c\ubcc0\uc218\ub97c \ubc1b\ub294 \ud568\uc218\uc5d0 \ud0a4\uc6cc\ub4dc \ub9e4\uac1c\ubcc0\uc218\ub97c \uba85\uc2dc\ud560 \ub54c \uc0ac\uc6a9 \uac00\ub2a5"
     ]
    },
    {
     "cell_type": "code",
     "collapsed": false,
     "input": [
      "def minimum(*values, clip=None):\n",
      "    m = min(values)\n",
      "    if clip is not None:\n",
      "        m = clip if clip > m else m\n",
      "    return m"
     ],
     "language": "python",
     "metadata": {},
     "outputs": [],
     "prompt_number": 21
    },
    {
     "cell_type": "code",
     "collapsed": false,
     "input": [
      "# -5 \ubc18\ud658\n",
      "minimum(1, 5, 2, -5, 10)"
     ],
     "language": "python",
     "metadata": {},
     "outputs": [
      {
       "metadata": {},
       "output_type": "pyout",
       "prompt_number": 22,
       "text": [
        "-5"
       ]
      }
     ],
     "prompt_number": 22
    },
    {
     "cell_type": "code",
     "collapsed": false,
     "input": [
      "# 0 \ubc18\ud658\n",
      "minimum(1, 5, 2, -5, 10, clip=0)"
     ],
     "language": "python",
     "metadata": {},
     "outputs": [
      {
       "metadata": {},
       "output_type": "pyout",
       "prompt_number": 23,
       "text": [
        "0"
       ]
      }
     ],
     "prompt_number": 23
    },
    {
     "cell_type": "markdown",
     "metadata": {},
     "source": [
      "### \ud1a0\ub860\n",
      "\n",
      "- keyword-only \uc778\uc790\ub294 \ucd94\uac00\uc801 \ud568\uc218 \uc778\uc790\ub97c \uba85\uc2dc\ud560 \ub54c \ucf54\ub4dc\uc758 \uac00\ub3c5\uc131\uc744 \ub192\uc774\ub294 \uc88b\uc740 \uc218\ub2e8"
     ]
    },
    {
     "cell_type": "code",
     "collapsed": false,
     "input": [
      "# msg = recv(1024, False)"
     ],
     "language": "python",
     "metadata": {},
     "outputs": [],
     "prompt_number": 28
    },
    {
     "cell_type": "markdown",
     "metadata": {},
     "source": [
      "- recv()\uac00 \uc5b4\ub5bb\uac8c \ub3d9\uc791\ud558\ub294\uc9c0 \uc798 \ubaa8\ub974\ub294 \uc0ac\ub78c\uc774 \uc788\ub2e4\uba74 **False \uc778\uc790**\uac00 **\ubb34\uc5c7\uc744 \uc758\ubbf8\ud558\ub294\uc9c0 \ubaa8\ub97c \uac83**\n",
      "- \ub530\ub77c\uc11c \ud638\ucd9c\ud558\ub294 \uce21\uc5d0\uc11c \ub2e4\uc74c\uacfc \uac19\uc740 \uc2dd\uc73c\ub85c \ud45c\uc2dc\ud574 \uc900\ub2e4\uba74 \uc774\ud574\ud558\uae30 \ud6e8\uc52c \uc27d\ub2e4."
     ]
    },
    {
     "cell_type": "code",
     "collapsed": false,
     "input": [
      "# msg = recv(1024, block=False)"
     ],
     "language": "python",
     "metadata": {},
     "outputs": [],
     "prompt_number": 29
    },
    {
     "cell_type": "markdown",
     "metadata": {},
     "source": [
      "- \ud0a4\uc6cc\ub4dc\ub9cc \ub123\uc744 \uc218 \uc788\ub294 \uc778\uc790\ub294 \\*\\*kwargs\uc640 \uad00\ub828\ub41c \uac83\uc5d0 \uc0ac\uc6a9\uc790\uac00 \ub3c4\uc6c0\uc744 \uc694\uccad\ud558\uba74 \ub3c4\uc6c0\ub9d0 \ud654\uba74\uc5d0 \ub098\ud0c0\ub0a8"
     ]
    },
    {
     "cell_type": "code",
     "collapsed": false,
     "input": [
      "help(recv)"
     ],
     "language": "python",
     "metadata": {},
     "outputs": [
      {
       "output_type": "stream",
       "stream": "stdout",
       "text": [
        "Help on function recv in module __main__:\n",
        "\n",
        "recv(maxsize, *, block)\n",
        "    Receives a message\n",
        "\n"
       ]
      }
     ],
     "prompt_number": 30
    },
    {
     "cell_type": "markdown",
     "metadata": {},
     "source": [
      "- \ud0a4\uc6cc\ub4dc\ub85c\ub9cc \ub123\uc744 \uc218 \uc788\ub294 \uc778\uc790\ub294 \ub354 \uace0\uae09 \uae30\ub2a5\ub3c4 \uac00\uc9c0\uace0 \uc788\ub2e4.\n",
      "- \uc608\ub97c \ub4e4\uc5b4, \\*args\uc640 \\*\\*kwargs \ubc29\uc2dd\uc744 \ud65c\uc6a9\ud558\ub294 \ud568\uc218\uc5d0 \uc778\uc790\ub97c \ub123\uc744 \ub54c \ud65c\uc6a9 \uac00\ub2a5\n",
      "- \uc608\uc81c\ub294 \ub808\uc2dc\ud53c 9.11\uc5d0 \ub098\uc634"
     ]
    },
    {
     "cell_type": "markdown",
     "metadata": {},
     "source": [
      "## 7.3 \ud568\uc218 \uc778\uc790\uc5d0 \uba54\ud0c0\ub370\uc774\ud130 \ub123\uae30\n",
      "\n",
      "### \ubb38\uc81c\n",
      "\n",
      "- \ud568\uc218\ub97c \uc791\uc131\ud588\ub2e4.\n",
      "- \uc774\ub54c \uc778\uc790\uc5d0 \uc815\ubcf4\ub97c \ucd94\uac00\ud574\uc11c \ub2e4\ub978 \uc0ac\ub78c\uc774 \ud568\uc218\ub97c \uc5b4\ub5bb\uac8c \uc0ac\uc6a9\ud574\uc57c \ud558\ub294\uc9c0 \uc54c \uc218 \uc788\ub3c4\ub85d \ud558\uace0 \uc2f6\ub2e4.\n",
      "\n",
      "### \ud574\uacb0\n",
      "\n",
      "- \ud568\uc218 \uc778\uc790 \uc8fc\uc11d(function argument annotation)\uc73c\ub85c \ud504\ub85c\uadf8\ub798\uba38\uc5d0\uac8c \uc774 \ud568\uc218\ub97c \uc5b4\ub5bb\uac8c \uc0ac\uc6a9\ud574\uc57c \ud560\uc9c0 \uc815\ubcf4\ub97c \uc904 \uc218 \uc788\ub2e4."
     ]
    },
    {
     "cell_type": "code",
     "collapsed": false,
     "input": [
      "def add(x:int, y:int) -> int:\n",
      "    return x + y"
     ],
     "language": "python",
     "metadata": {},
     "outputs": [],
     "prompt_number": 31
    },
    {
     "cell_type": "markdown",
     "metadata": {},
     "source": [
      "- \ud30c\uc774\uc36c \uc778\ud130\ud504\ub9ac\ud130\ub294 \uc8fc\uc11d\uc5d0 \uc5b4\ub5a0\ud55c \uc758\ubbf8\ub3c4 \ubd80\uc5ec\ud558\uc9c0 \uc54a\uc74c\n",
      "- \ud0c0\uc785\uc744 \ud655\uc778\ud558\uc9c0\ub3c4 \uc54a\uace0, \ud30c\uc774\uc36c\uc758 \uc2e4\ud589 \ubc29\uc2dd\uc774 \ub2ec\ub77c\uc9c0\uc9c0\ub3c4 \uc54a\ub294\ub2e4.\n",
      "- \ub2e8\uc9c0 \uc18c\uc2a4\ucf5b\ub974\ub974 \uc77d\ub294 \uc0ac\ub78c\uc774 \uc774\ud574\ud558\uae30 \uc27d\ub3c4\ub85d \uc124\uba85\ud560 \ubfd0\n",
      "- \uc11c\ub4dc\ud30c\ud2f0 \ub3c4\uad6c\uc640 \ud504\ub808\uc784\uc6cc\ud06c\uc5d0\ub3c4 \uc8fc\uc11d\uc774 \ub4e4\uc5b4\uac00\uace0\ub294 \ud55c\ub2e4. \uadf8\ub9ac\uace0 \ubb38\uc11c\uc5d0\ub3c4 \ub098\ud0c0\ub09c\ub2e4."
     ]
    },
    {
     "cell_type": "code",
     "collapsed": false,
     "input": [
      "help(add)"
     ],
     "language": "python",
     "metadata": {},
     "outputs": [
      {
       "output_type": "stream",
       "stream": "stdout",
       "text": [
        "Help on function add in module __main__:\n",
        "\n",
        "add(x:int, y:int) -> int\n",
        "\n"
       ]
      }
     ],
     "prompt_number": 32
    },
    {
     "cell_type": "markdown",
     "metadata": {},
     "source": [
      "### \ud1a0\ub860\n",
      "\n",
      "- \ud568\uc218 \uc8fc\uc11d\uc740 \ud568\uc218\uc758 \\_\\_annotations\\_\\_ \uc18d\uc131\uc5d0 \uc800\uc7a5\ub428"
     ]
    },
    {
     "cell_type": "code",
     "collapsed": false,
     "input": [
      "add.__annotations__"
     ],
     "language": "python",
     "metadata": {},
     "outputs": [
      {
       "metadata": {},
       "output_type": "pyout",
       "prompt_number": 33,
       "text": [
        "{'x': int, 'return': int, 'y': int}"
       ]
      }
     ],
     "prompt_number": 33
    },
    {
     "cell_type": "markdown",
     "metadata": {},
     "source": [
      "- \uc8fc\uc11d\uc744 \ud65c\uc6a9\ud560 \uc218 \uc788\ub294 \ubc29\ubc95\uc740 \ub9ce\uc9c0\ub9cc, \uae30\ubcf8\uc801\uc73c\ub85c **\ubb38\uc11c\ud654**\uc5d0 **\ub3c4\uc6c0**\uc744 \uc8fc\uae30 \uc704\ud574 \uc0ac\uc6a9\n",
      "- \ud30c\uc774\uc36c\uc774 \ud0c0\uc785 \uc120\uc5b8\uc744 \uc9c0\uc6d0\ud558\uc9c0 \uc54a\uc544\uc11c \uc18c\uc2a4\ucf54\ub4dc\ub9cc \uc77d\uc5b4\uc11c\ub294 \ud568\uc218\uc5d0 \uc5b4\ub5a4 \ud0c0\uc785\uc744 \ub123\uc5b4\uc57c \ud560\uc9c0 \uc54c\uae30 \uc5b4\ub835\ub2e4. \uc774\ub54c \uc8fc\uc11d\uc774 \ub3c4\uc6c0\n",
      "- \ub808\uc2dc\ud53c 9.20\uc5d0 \uc8fc\uc11d\uc744 \ud65c\uc6a9\ud55c \uace0\uae09 \uad6c\ud604\ubc95 \uc608\uc81c\uac00 \ub098\uc634(\ud568\uc218 \uc624\ubc84\ub85c\ub4dc \ub4f1)"
     ]
    },
    {
     "cell_type": "markdown",
     "metadata": {},
     "source": [
      "## 7.4 \ud568\uc218\uc5d0\uc11c \uc5ec\ub7ec\uac12\uc744 \ubc18\ud658\n",
      "\n",
      "### \ubb38\uc81c\n",
      "\n",
      "- \ud568\uc218\uc5d0 \uac12\uc744 \uc5ec\ub7ec \uac1c \ubc18\ud658\ud558\uace0 \uc2f6\ub2e4.\n",
      "\n",
      "### \ud574\uacb0\n",
      "\n",
      "- \ud568\uc218\uc5d0\uc11c \uac12\uc744 \uc5ec\ub7ec \uac1c \ubc18\ud658\ud558\uace0 \uc2f6\ub2e4\uba74 \uac04\ub2e8\ud788 \ud29c\ud50c\uc744 \uc0ac\uc6a9\ud558\uba74 \ub428"
     ]
    },
    {
     "cell_type": "code",
     "collapsed": false,
     "input": [
      "def myfun():\n",
      "    return 1, 2, 3"
     ],
     "language": "python",
     "metadata": {},
     "outputs": [],
     "prompt_number": 34
    },
    {
     "cell_type": "code",
     "collapsed": false,
     "input": [
      "a, b, c = myfun()"
     ],
     "language": "python",
     "metadata": {},
     "outputs": [],
     "prompt_number": 35
    },
    {
     "cell_type": "code",
     "collapsed": false,
     "input": [
      "a"
     ],
     "language": "python",
     "metadata": {},
     "outputs": [
      {
       "metadata": {},
       "output_type": "pyout",
       "prompt_number": 36,
       "text": [
        "1"
       ]
      }
     ],
     "prompt_number": 36
    },
    {
     "cell_type": "code",
     "collapsed": false,
     "input": [
      "b"
     ],
     "language": "python",
     "metadata": {},
     "outputs": [
      {
       "metadata": {},
       "output_type": "pyout",
       "prompt_number": 37,
       "text": [
        "2"
       ]
      }
     ],
     "prompt_number": 37
    },
    {
     "cell_type": "code",
     "collapsed": false,
     "input": [
      "c"
     ],
     "language": "python",
     "metadata": {},
     "outputs": [
      {
       "metadata": {},
       "output_type": "pyout",
       "prompt_number": 38,
       "text": [
        "3"
       ]
      }
     ],
     "prompt_number": 38
    },
    {
     "cell_type": "markdown",
     "metadata": {},
     "source": [
      "### \ud1a0\ub860\n",
      "\n",
      "- myfun()\uc774 \uac12\uc744 \uc5ec\ub7ec \uac1c \ubc18\ud658\ud558\ub294 \uac83\ucc98\ub7fc \ubcf4\uc774\uc9c0\ub9cc, \uc0ac\uc2e4\uc740 \ud29c\ud50c \ud558\ub098\ub97c \ubc18\ud658\ud55c \uac83\n",
      "- \uc870\uae08 \uc774\uc0c1\ud574 \ubcf4\uc774\uc9c0\ub9cc, \uc2e4\uc81c\ub85c \ud29c\ud50c\uc744 \uc0dd\uc131\ud558\ub294 \uac83\uc740 \uc27c\ud45c\uc9c0 \uad04\ud638\uac00 \uc544\ub2c8\ub2e4."
     ]
    },
    {
     "cell_type": "code",
     "collapsed": false,
     "input": [
      "# \uad04\ud638 \uc0ac\uc6a9\n",
      "a = (1, 2)"
     ],
     "language": "python",
     "metadata": {},
     "outputs": [],
     "prompt_number": 39
    },
    {
     "cell_type": "code",
     "collapsed": false,
     "input": [
      "a"
     ],
     "language": "python",
     "metadata": {},
     "outputs": [
      {
       "metadata": {},
       "output_type": "pyout",
       "prompt_number": 40,
       "text": [
        "(1, 2)"
       ]
      }
     ],
     "prompt_number": 40
    },
    {
     "cell_type": "code",
     "collapsed": false,
     "input": [
      "# \uad04\ud638 \ubbf8\uc0ac\uc6a9\n",
      "b = 1, 2"
     ],
     "language": "python",
     "metadata": {},
     "outputs": [],
     "prompt_number": 41
    },
    {
     "cell_type": "code",
     "collapsed": false,
     "input": [
      "b"
     ],
     "language": "python",
     "metadata": {},
     "outputs": [
      {
       "metadata": {},
       "output_type": "pyout",
       "prompt_number": 42,
       "text": [
        "(1, 2)"
       ]
      }
     ],
     "prompt_number": 42
    },
    {
     "cell_type": "markdown",
     "metadata": {},
     "source": [
      "- \ud29c\ud50c\uc744 \ubc18\ud658\ud558\ub294 \ud568\uc218\ub97c \ud638\ucd9c\ud560 \ub54c, \uacb0\uacfc \uac12\uc744 \uc5ec\ub7ec \uac1c\uc758 \ubcc0\uc218\uc5d0 \ub123\ub294 \uac83\uc774 \uc77c\ubc18\uc801\n",
      "- \uc774\ub294 \ub808\uc2dc\ud53c 1.1\uc5d0 \ub098\uc654\ub358 \ud29c\ud50c \uc5b8\ud328\ud0b9\uc774\ub2e4.\n",
      "- \ubc18\ud658\uac12\uc744 \ubcc0\uc218 \ud558\ub098\uc5d0 \ud560\ub2f9\ud560 \uc218\ub3c4 \uc788\uc74c"
     ]
    },
    {
     "cell_type": "code",
     "collapsed": false,
     "input": [
      "x = myfun()"
     ],
     "language": "python",
     "metadata": {},
     "outputs": [],
     "prompt_number": 43
    },
    {
     "cell_type": "code",
     "collapsed": false,
     "input": [
      "x"
     ],
     "language": "python",
     "metadata": {},
     "outputs": [
      {
       "metadata": {},
       "output_type": "pyout",
       "prompt_number": 44,
       "text": [
        "(1, 2, 3)"
       ]
      }
     ],
     "prompt_number": 44
    },
    {
     "cell_type": "code",
     "collapsed": false,
     "input": [
      "def sub(a:int, b:int) -> int:\n",
      "    return a - b"
     ],
     "language": "python",
     "metadata": {},
     "outputs": [],
     "prompt_number": 45
    },
    {
     "cell_type": "code",
     "collapsed": false,
     "input": [
      "sub(5, 1)"
     ],
     "language": "python",
     "metadata": {},
     "outputs": [
      {
       "metadata": {},
       "output_type": "pyout",
       "prompt_number": 47,
       "text": [
        "4"
       ]
      }
     ],
     "prompt_number": 47
    },
    {
     "cell_type": "code",
     "collapsed": false,
     "input": [
      "help(sub)"
     ],
     "language": "python",
     "metadata": {},
     "outputs": [
      {
       "output_type": "stream",
       "stream": "stdout",
       "text": [
        "Help on function sub in module __main__:\n",
        "\n",
        "sub(a:int, b:int) -> int\n",
        "\n"
       ]
      }
     ],
     "prompt_number": 48
    },
    {
     "cell_type": "markdown",
     "metadata": {},
     "source": [
      "## 7.5 \uae30\ubcf8 \uc778\uc790\ub97c \uc0ac\uc6a9\ud558\ub294 \ud568\uc218 \uc815\uc758\n",
      "\n",
      "### \ubb38\uc81c\n",
      "\n",
      "- \ud568\uc218\ub098 \uba54\uc18c\ub4dc\ub97c \uc815\uc758\ud560 \ub54c \ud558\ub098 \ud639\uc740 \uadf8 \uc774\uc0c1 \uc778\uc790\uc5d0 \uae30\ubcf8\uac12\uc744 \ub123\uc5b4 \uc120\ud0dd\uc801\uc73c\ub85c \uc0ac\uc6a9\ud560 \uc218 \uc788\ub3c4\ub85d \ud558\uace0 \uc2f6\ub2e4.\n",
      "\n",
      "### \ud574\uacb0\n",
      "\n",
      "- \ud45c\uba74\uc801\uc73c\ub85c \uc120\ud0dd\uc801 \uc778\uc790\ub97c \uc0ac\uc6a9\ud558\ub294 \ud568\uc218\ub97c \uc815\uc758\ud558\uae30\ub294 \uc27d\ub2e4.\n",
      "- \ud568\uc218 \uc815\uc758\ubd80\uc5d0 \uac12\uc744 \ud560\ub2f9\ud558\uace0 \uac00\uc7a5 \ub4a4\uc5d0 \uc774\ub97c \uc704\uce58\uc2dc\ud0a4\uae30\ub9cc \ud558\uba74 \ub428"
     ]
    },
    {
     "cell_type": "code",
     "collapsed": false,
     "input": [
      "def spam(a, b=42):\n",
      "    print(a, b)"
     ],
     "language": "python",
     "metadata": {},
     "outputs": [],
     "prompt_number": 49
    },
    {
     "cell_type": "code",
     "collapsed": false,
     "input": [
      "spam(1)"
     ],
     "language": "python",
     "metadata": {},
     "outputs": [
      {
       "output_type": "stream",
       "stream": "stdout",
       "text": [
        "1 42\n"
       ]
      }
     ],
     "prompt_number": 50
    },
    {
     "cell_type": "code",
     "collapsed": false,
     "input": [
      "spam(1, 2)"
     ],
     "language": "python",
     "metadata": {},
     "outputs": [
      {
       "output_type": "stream",
       "stream": "stdout",
       "text": [
        "1 2\n"
       ]
      }
     ],
     "prompt_number": 51
    },
    {
     "cell_type": "markdown",
     "metadata": {},
     "source": [
      "- \uae30\ubcf8\uac12\uc774 \ub9ac\uc2a4\ud2b8, \uc138\ud2b8, \ub515\uc154\ub108\ub9ac \ub4f1 \uc218\uc815 \uac00\ub2a5\ud55c \ucee8\ud14c\uc774\ub108\uc5ec\uc57c \ud55c\ub2e4\uba74 None\uc744 \uc0ac\uc6a9\ud574 \ub2e4\uc74c\uacfc \uac19\uc740 \ucf54\ub4dc \uc791\uc131"
     ]
    },
    {
     "cell_type": "code",
     "collapsed": false,
     "input": [
      "# \uae30\ubcf8 \uac12\uc73c\ub85c \ub9ac\uc2a4\ud2b8 \uc0ac\uc6a9\n",
      "def spam(a, b=None):\n",
      "    b = []"
     ],
     "language": "python",
     "metadata": {},
     "outputs": [],
     "prompt_number": 58
    },
    {
     "cell_type": "markdown",
     "metadata": {},
     "source": [
      "- \uae30\ubcf8\uac12\uc744 \uc81c\uacf5\ud558\ub294 \ub300\uc2e0 \ud568\uc218\uac00 \ubc1b\uc740 \uac12\uc774 \ud2b9\uc815\uac12\uc778\uc9c0 \uc544\ub2cc\uc9c0 \ud655\uc778\ud558\ub824\uba74"
     ]
    },
    {
     "cell_type": "code",
     "collapsed": false,
     "input": [
      "_no_value = object()"
     ],
     "language": "python",
     "metadata": {},
     "outputs": [],
     "prompt_number": 59
    },
    {
     "cell_type": "code",
     "collapsed": false,
     "input": [
      "def spam(a, b=_no_value):\n",
      "    if b is _no_value:\n",
      "        print('No b value supplied')"
     ],
     "language": "python",
     "metadata": {},
     "outputs": [],
     "prompt_number": 60
    },
    {
     "cell_type": "code",
     "collapsed": false,
     "input": [
      "spam(1)"
     ],
     "language": "python",
     "metadata": {},
     "outputs": [
      {
       "output_type": "stream",
       "stream": "stdout",
       "text": [
        "No b value supplied\n"
       ]
      }
     ],
     "prompt_number": 61
    },
    {
     "cell_type": "code",
     "collapsed": false,
     "input": [
      "# b = 2\n",
      "spam(1, 2)"
     ],
     "language": "python",
     "metadata": {},
     "outputs": [],
     "prompt_number": 62
    },
    {
     "cell_type": "code",
     "collapsed": false,
     "input": [
      "# b = None\n",
      "spam(1, None)"
     ],
     "language": "python",
     "metadata": {},
     "outputs": [],
     "prompt_number": 63
    },
    {
     "cell_type": "markdown",
     "metadata": {},
     "source": [
      "- \uc55e\uc758 \ub098\uc628 \uc608\uc81c\uc5d0\uc11c \uc544\ubb34\ub7f0 \uac12\uc744 \uc804\ub2ec\ud558\uc9c0 \uc54a\uc558\uc744 \ub54c\uc640 None \uac12\uc744 \uc804\ub2ec\ud588\uc744 \ub54c\uc758 \ucc28\uc774\uc810\uc5d0 \uc8fc\ubaa9\ud558\uc790"
     ]
    },
    {
     "cell_type": "markdown",
     "metadata": {},
     "source": [
      "### \ud1a0\ub860\n",
      "\n",
      "- \uae30\ubcf8 \uc778\uc790\ub97c \uac00\uc9c0\ub294 \ud568\uc218\ub97c \uc815\uc758\ud558\uae30\ub294 \uac04\ub2e8\ud558\uc9c0\ub9cc, \ub208\uc5d0 \ubcf4\uc774\ub294 \uac83 \uc678\uc5d0 \uc2e0\uacbd\uc368\uc57c \ud560 \ubd80\ubd84\uc774 \uc870\uae08 \uc788\uc74c\n",
      "- \uccab\uc9f8\ub85c, \ud560\ub2f9\ud558\ub294 \uae30\ubcf8\uac12\uc740 \ud568\uc218\ub97c \uc815\uc758\ud560 \ub54c \ud55c\ubc88\ub9cc \uc815\ud574\uc9c0\uace0 \uadf8 \uc774\ud6c4\uc5d0\ub294 \ubcc0\ud558\uc9c0 \uc54a\uc74c"
     ]
    },
    {
     "cell_type": "code",
     "collapsed": false,
     "input": [
      "x = 42"
     ],
     "language": "python",
     "metadata": {},
     "outputs": [],
     "prompt_number": 64
    },
    {
     "cell_type": "code",
     "collapsed": false,
     "input": [
      "def spam(a, b=x):\n",
      "    print(a, b)"
     ],
     "language": "python",
     "metadata": {},
     "outputs": [],
     "prompt_number": 65
    },
    {
     "cell_type": "code",
     "collapsed": false,
     "input": [
      "spam(1)"
     ],
     "language": "python",
     "metadata": {},
     "outputs": [
      {
       "output_type": "stream",
       "stream": "stdout",
       "text": [
        "1 42\n"
       ]
      }
     ],
     "prompt_number": 66
    },
    {
     "cell_type": "code",
     "collapsed": false,
     "input": [
      "x = 23 # \ud6a8\uacfc \uc5c6\uc74c"
     ],
     "language": "python",
     "metadata": {},
     "outputs": [],
     "prompt_number": 67
    },
    {
     "cell_type": "code",
     "collapsed": false,
     "input": [
      "spam(1)"
     ],
     "language": "python",
     "metadata": {},
     "outputs": [
      {
       "output_type": "stream",
       "stream": "stdout",
       "text": [
        "1 42\n"
       ]
      }
     ],
     "prompt_number": 68
    },
    {
     "cell_type": "markdown",
     "metadata": {},
     "source": [
      "- \ubcc0\uc218 x(\uae30\ubcf8 \uac12\uc73c\ub85c \uc0ac\uc6a9\ud588\ub2e4)\uc758 \uac12\uc744 \ubc14\uafb8\uc5b4\ub3c4 \uadf8 \uc774\ud6c4\uc5d0 \uae30\ubcf8\uac12\uc774 \ubcc0\ud558\uc9c0 \uc54a\uc74c\n",
      "- \uae30\ubcf8\uac12\uc740 \ud568\uc218\ub97c \uc815\uc758\ud560 \ub54c \uc815\ud574\uc9c0\uae30 \ub54c\ubb38\n",
      "- 2\ubc88\uc9f8\ub85c \uae30\ubcf8\uac12\uc73c\ub85c \uc0ac\uc6a9\ud558\ub294 \uac12\uc740 None, True, False, \uc22b\uc790, \ubb38\uc790\uc5f4 \uac19\uc774 \ud56d\uc0c1 \ubcc0\ud558\uc9c0 \uc54a\ub294 \uac1d\uccb4\ub97c \uc0ac\uc6a9\ud574\uc57c \ud568\n",
      "- \ud2b9\ud788 \ub2e4\uc74c\uacfc \uac19\uc740 \ucf54\ub4dc\ub294 \uc808\ub300 \uc0ac\uc6a9\ud558\uc9c0 \uc54a\ub294\ub2e4."
     ]
    },
    {
     "cell_type": "code",
     "collapsed": false,
     "input": [
      "# No!\n",
      "# def spam(a, b=[]):"
     ],
     "language": "python",
     "metadata": {},
     "outputs": [],
     "prompt_number": 69
    },
    {
     "cell_type": "markdown",
     "metadata": {},
     "source": [
      "- \uc774\ub807\uac8c \ud558\uba74 \uae30\ubcf8\uac12\uc774 \ud568\uc218\ub97c \ubc97\uc5b4\ub098\uc11c \uc218\uc815\ub418\ub294 \uc21c\uac04 \ub9ce\uc740 \ubb38\uc81c\uac00 \ubc1c\uc0dd\n",
      "- \uac12\uc774 \ubcc0\ud558\uba74 \uae30\ubcf8\uac12\uc774 \ubcc0\ud558\uac8c \ub418\uace0 \ucd94\ud6c4 \ud568\uc218 \ud638\ucd9c\uc5d0 \uc601\ud5a5\uc744 \uc90c"
     ]
    },
    {
     "cell_type": "code",
     "collapsed": false,
     "input": [
      "def spam(a, b=[]):\n",
      "    print(b)\n",
      "    return b"
     ],
     "language": "python",
     "metadata": {},
     "outputs": [],
     "prompt_number": 70
    },
    {
     "cell_type": "code",
     "collapsed": false,
     "input": [
      "x = spam(1)"
     ],
     "language": "python",
     "metadata": {},
     "outputs": [
      {
       "output_type": "stream",
       "stream": "stdout",
       "text": [
        "[]\n"
       ]
      }
     ],
     "prompt_number": 71
    },
    {
     "cell_type": "code",
     "collapsed": false,
     "input": [
      "x"
     ],
     "language": "python",
     "metadata": {},
     "outputs": [
      {
       "metadata": {},
       "output_type": "pyout",
       "prompt_number": 72,
       "text": [
        "[]"
       ]
      }
     ],
     "prompt_number": 72
    },
    {
     "cell_type": "code",
     "collapsed": false,
     "input": [
      "x.append(99)\n",
      "x.append('Yow!')"
     ],
     "language": "python",
     "metadata": {},
     "outputs": [],
     "prompt_number": 73
    },
    {
     "cell_type": "code",
     "collapsed": false,
     "input": [
      "x"
     ],
     "language": "python",
     "metadata": {},
     "outputs": [
      {
       "metadata": {},
       "output_type": "pyout",
       "prompt_number": 74,
       "text": [
        "[99, 'Yow!']"
       ]
      }
     ],
     "prompt_number": 74
    },
    {
     "cell_type": "code",
     "collapsed": false,
     "input": [
      "spam(1)"
     ],
     "language": "python",
     "metadata": {},
     "outputs": [
      {
       "output_type": "stream",
       "stream": "stdout",
       "text": [
        "[99, 'Yow!']\n"
       ]
      },
      {
       "metadata": {},
       "output_type": "pyout",
       "prompt_number": 75,
       "text": [
        "[99, 'Yow!']"
       ]
      }
     ],
     "prompt_number": 75
    },
    {
     "cell_type": "markdown",
     "metadata": {},
     "source": [
      "- \uc774\ub7f0 \ubd80\uc791\uc6a9\uc744 \ud53c\ud558\ub824\uba74 \uc55e\uc758 \uc608\uc81c\uc5d0 \ub098\uc654\ub4ef\uc774 \uae30\ubcf8\uac12\uc73c\ub85c None\uc744 \ud560\ub2f9\ud558\uace0 \ud568\uc218 \ub0b4\ubd80\uc5d0\uc11c \uc774\ub97c \ud655\uc778\ud558\ub294 \uac83\uc774 \uc88b\uc74c\n",
      "- **None\uc744 \ud655\uc778**\ud560 \ub54c **is \uc5f0\uc0b0\uc790**\ub97c \uc0ac\uc6a9\ud558\ub294 \uac83\uc774 **\ub9e4\uc6b0 \uc911\uc694**"
     ]
    },
    {
     "cell_type": "code",
     "collapsed": false,
     "input": [
      "def spam(a, b=None):\n",
      "    if not b: # \uc8fc\uc758! 'b is None\"\uc744 \uc0ac\uc6a9\ud574\uc57c \ud55c\ub2e4.\n",
      "        b = []"
     ],
     "language": "python",
     "metadata": {},
     "outputs": [],
     "prompt_number": 76
    },
    {
     "cell_type": "markdown",
     "metadata": {},
     "source": [
      "- \uc5ec\uae30\uc11c \ubb38\uc81c\ub294 None\uc774 False\ub85c \ud3c9\uac00\ub418\uc9c0\ub9cc, \uadf8 \uc678\uc5d0 \ub2e4\ub978 \uac1d\uccb4(\uc608: \uae38\uc774\uac00 0\uc778 \ubb38\uc790\uc5f4, \ub9ac\uc2a4\ud2b8, \ud29c\ud50c, \ub515\uc154\ub108\ub9ac \ub4f1)\ub3c4 False\ub85c \ud3c9\uac00\ub41c\ub2e4\ub294 \uc810\n",
      "- \ub530\ub77c\uc11c \ud2b9\uc815 \uc785\ub825\uc744 \uc5c6\ub2e4\uace0 \ud310\ub2e8\ud558\uac8c \ub428"
     ]
    },
    {
     "cell_type": "code",
     "collapsed": false,
     "input": [
      "# \uc62c\ubc14\ub984\n",
      "spam(1)"
     ],
     "language": "python",
     "metadata": {},
     "outputs": [],
     "prompt_number": 77
    },
    {
     "cell_type": "code",
     "collapsed": false,
     "input": [
      "x = []"
     ],
     "language": "python",
     "metadata": {},
     "outputs": [],
     "prompt_number": 78
    },
    {
     "cell_type": "code",
     "collapsed": false,
     "input": [
      "# \uc5d0\ub7ec. x\uac12\uc774 \uae30\ubcf8\uc73c\ub85c \ub36e\uc5b4 \uc50c\uc5ec\uc9c4\ub2e4.\n",
      "spam(1, x)"
     ],
     "language": "python",
     "metadata": {},
     "outputs": [],
     "prompt_number": 79
    },
    {
     "cell_type": "code",
     "collapsed": false,
     "input": [
      "# \uc5d0\ub7ec. 0\uc774 \ubb34\uc2dc\ub41c\ub2e4.\n",
      "spam(1, 0)"
     ],
     "language": "python",
     "metadata": {},
     "outputs": [],
     "prompt_number": 80
    },
    {
     "cell_type": "code",
     "collapsed": false,
     "input": [
      "# \uc5d0\ub7ec. ''\uc774 \ubb34\uc2dc\ub41c\ub2e4.\n",
      "spam(1, '')"
     ],
     "language": "python",
     "metadata": {},
     "outputs": [],
     "prompt_number": 81
    },
    {
     "cell_type": "markdown",
     "metadata": {},
     "source": [
      "- \uc774\ubc88 \ub808\uc2dc\ud53c\uc758 \ub9c8\uc9c0\ub9c9 \ubd80\ubd84\uc740 \uc5b4\uca4c\uba74 \uc0ac\uc18c\ud55c \uac83\uc778\ub370, \ud568\uc218\uac00 \ucd94\uac00\uc801 \ub9e4\uac1c\ubcc0\uc218 \uc704\uce58\uc5d0 \uc788\ub294\uc9c0 \uc5c6\ub294\uc9c0 \ud310\ub2e8\ud558\ub294 \uac83\n",
      "- \uc5ec\uae30\uc11c \uc27d\uc9c0 \uc54a\uc740 \uc810\uc740 \uc0ac\uc6a9\uc790\uac00 \uc778\uc790\ub97c \ub123\uc5c8\ub294\uc9c0 \ud655\uc778\ud560 \ub54c \uae30\ubcf8 \uac12\uc73c\ub85c None, 0 \ub610\ub294 False\ub97c \uc0ac\uc6a9\ud560 \uc218 \uc5c6\ub2e4\ub294 \uc810\n",
      "- \uc65c\ub0d0\ud558\uba74 \uc0ac\uc6a9\uc790\uac00 \ubc14\ub85c \uc774\uac12\uc744 \uc778\uc790\ub85c \ub123\uc744 \uc218\ub3c4 \uc788\uae30 \ub54c\ubb38. \ub530\ub77c\uc11c \ub2e4\ub978 \ubc29\ubc95\uc73c\ub85c \ud655\uc778\uc744 \ud574\uc57c \ud568\n",
      "\n",
      "\n",
      "- \uc774 \ubb38\uc81c\ub97c \ud574\uacb0\ud558\uae30 \uc704\ud574\uc11c\ub294 \uc55e\uc758 \uc608\uc81c(\\_no\\_value \ubcc0\uc218)\uc5d0 \ub098\uc628 \uac83\ucc98\ub7fc object\uc758 \uc720\uc77c\ud55c \uc778\uc2a4\ud134\uc2a4\ub97c \ub9cc\ub4e4\uc5b4\uc57c \ud55c\ub2e4.\n",
      "- \uadf8\ub9ac\uace0\ud568\uc218\uc5d0\uc11c \uc774 \ud2b9\ubcc4\ud55c \uac12\uacfc \ub4e4\uc5b4\uc628 \uc774\ub0ae\ub97c \ube44\uad50\ud574\uc11c \uc778\uc790\uac00 \uc788\ub294\uc9c0 \uc5c6\ub294\uc9c0 \uc54c \uc218 \uc788\ub2e4.\n",
      "- \uc774\ub54c \uc0ac\uc6a9\uc790\uac00 \\_no\\_value \uc778\uc2a4\ud134\uc2a4\ub97c \uc785\ub825\uac12\uc73c\ub85c \uc804\ub2ec\ud560 \ud655\ub960\uc774 \uc9c0\uadf9\ud788 \uc801\ub2e4. \ub530\ub77c\uc11c \uac12\uc774 \uc788\ub294\uc9c0 \uc5c6\ub294\uc9c0 \ud655\uc778\ud558\ub294 \ub370 \uc774 \uc778\uc2a4\ud134\uc2a4\ub97c \uc0ac\uc6a9\ud574\ub3c4 \uc548\uc804\ud558\ub2e4.\n",
      "\n",
      "\n",
      "- **object()**\ub97c \uc0ac\uc6a9\ud558\ub294 \uac83\uc774 \uc77c\ubc18\uc801\uc774\uc9c0 \uc54a\uc544 \ubcf4\uc778\ub2e4. object\ub294 \ud30c\uc774\uc36c\uc5d0\uc11c \uac70\uc758 \ubaa8\ub4e0 \uac1d\uccb4\uc758 \ubca0\uc774\uc2a4 \ud074\ub798\uc2a4 \uc5ed\ud560\uc744 \ud55c\ub2e4.\n",
      "- object\uc758 \uc778\uc2a4\ud134\uc2a4\ub97c \ub9cc\ub4e4 \uc218 \uc788\uc9c0\ub9cc, \uc5ec\uae30\uc5d0\ub294 \uc5b4\ub5a4 \uba54\uc18c\ub4dc\ub098 \uc778\uc2a4\ud134\uc2a4 \ub370\uc774\ud130\uac00 \uc5c6\uc5b4\uc11c \uadf8\ub300\ub85c \uc0ac\uc6a9\ud558\uc9c0\ub294 \uc54a\ub294\ub2e4(\uc778\uc2a4\ud134\uc2a4 \ub515\uc154\ub108\ub9ac\uac00 \uc5c6\uc5b4\uc11c \uc18d\uc131\uc744 \uc124\uc815\ud560 \uc218\ub3c4 \uc5c6\ub2e4)\n",
      "- \uc774\uac83\uc744 \uac00\uc9c0\uace0\ub294 **\ub3d9\uc77c\uc131\uc744 \ud655\uc778\ud558\ub294 \uac83** \uc678\uc5d0\ub294 \ud560 \uc218 \uc788\ub294 \uac83\uc774 \uc5c6\uc5b4\uc11c \uc55e\uc758 \uc608\uc81c\uc5d0 \ub098\uc628 \uac83\ucc98\ub7fc **\ud2b9\ubcc4\uac12\uc744 \ub9cc\ub4e4 \ub54c \uc720\uc6a9**"
     ]
    },
    {
     "cell_type": "markdown",
     "metadata": {},
     "source": [
      "## 7.6 \uc774\ub984\uc5c6\ub294 \ud568\uc218\uc640 \uc778\ub77c\uc778 \ud568\uc218 \uc815\uc758\n",
      "\n",
      "### \ubb38\uc81c\n",
      "\n",
      "- sort() \ub4f1\uc5d0 \uc0ac\uc6a9\ud560 \uc9e7\uc740 \ucf5c\ubc31 \ud568\uc218\ub97c \ub9cc\ub4e4\uc5b4\uc57c \ud558\ub294\ub370, \ud55c\uc904\uc9dc\ub9ac \ud568\uc218\ub97c \ub9cc\ub4e4\uba74\uc11c def \uad6c\ubb38\uae4c\uc9c0 \uc0ac\uc6a9\ud558\uace0 \uc2f6\uc9c0\ub294 \uc54a\uc74c\n",
      "- \uadf8 \ub300\uc2e0 in line \uc774\ub77c \ubd88\ub9ac\ub294 \uc9e7\uc740 \ud568\uc218\ub97c \ub9cc\ub4e4\uace0 \uc2f6\ub2e4.\n",
      "\n",
      "### \ud574\uacb0\n",
      "\n",
      "- \ud45c\ud604\uc2dd \uacc4\uc0b0 \uc678\uc5d0 \uc544\ubb34 \uc77c\ub3c4 \ud558\uc9c0 \uc54a\ub294 \uac04\ub2e8\ud55c \ud568\uc218\ub294 lambda\ub85c \uce58\ud658 \uac00\ub2a5"
     ]
    },
    {
     "cell_type": "code",
     "collapsed": false,
     "input": [
      "add = lambda x, y: x + y"
     ],
     "language": "python",
     "metadata": {},
     "outputs": [],
     "prompt_number": 82
    },
    {
     "cell_type": "code",
     "collapsed": false,
     "input": [
      "add(2, 3)"
     ],
     "language": "python",
     "metadata": {},
     "outputs": [
      {
       "metadata": {},
       "output_type": "pyout",
       "prompt_number": 83,
       "text": [
        "5"
       ]
      }
     ],
     "prompt_number": 83
    },
    {
     "cell_type": "code",
     "collapsed": false,
     "input": [
      "add('hello', 'world')"
     ],
     "language": "python",
     "metadata": {},
     "outputs": [
      {
       "metadata": {},
       "output_type": "pyout",
       "prompt_number": 84,
       "text": [
        "'helloworld'"
       ]
      }
     ],
     "prompt_number": 84
    },
    {
     "cell_type": "markdown",
     "metadata": {},
     "source": [
      "- \uc55e\uc5d0 \ub098\uc628 lambda\ub294 \ub2e4\uc74c\uc758 \uc608\uc81c \ucf54\ub4dc\uc640 \uc644\uc804\ud788 \ub3d9\uc77c"
     ]
    },
    {
     "cell_type": "code",
     "collapsed": false,
     "input": [
      "def add(x, y):\n",
      "    return x + y"
     ],
     "language": "python",
     "metadata": {},
     "outputs": [],
     "prompt_number": 85
    },
    {
     "cell_type": "code",
     "collapsed": false,
     "input": [
      "add(2, 3)"
     ],
     "language": "python",
     "metadata": {},
     "outputs": [
      {
       "metadata": {},
       "output_type": "pyout",
       "prompt_number": 86,
       "text": [
        "5"
       ]
      }
     ],
     "prompt_number": 86
    },
    {
     "cell_type": "markdown",
     "metadata": {},
     "source": [
      "- \uc77c\ubc18\uc801\uc73c\ub85c lambda\ub294 \uc815\ub82c\uc774\ub098 \ub370\uc774\ud130 \uc904\uc774\uae30 \ub4f1 \ub2e4\ub978 \uc791\uc5c5\uc5d0 \uc0ac\uc6a9\ud560 \ub54c \ub9ce\uc774 \uc500"
     ]
    },
    {
     "cell_type": "code",
     "collapsed": false,
     "input": [
      "names = ['David Beazley', 'Brian Jones', \n",
      "         'Raymond Hettinger', 'Ned Batchelder']"
     ],
     "language": "python",
     "metadata": {},
     "outputs": [],
     "prompt_number": 87
    },
    {
     "cell_type": "code",
     "collapsed": false,
     "input": [
      "sorted(names, key=lambda name: name.split()[-1].lower())"
     ],
     "language": "python",
     "metadata": {},
     "outputs": [
      {
       "metadata": {},
       "output_type": "pyout",
       "prompt_number": 88,
       "text": [
        "['Ned Batchelder', 'David Beazley', 'Raymond Hettinger', 'Brian Jones']"
       ]
      }
     ],
     "prompt_number": 88
    },
    {
     "cell_type": "code",
     "collapsed": false,
     "input": [
      "names[0].split()[-1]"
     ],
     "language": "python",
     "metadata": {},
     "outputs": [
      {
       "metadata": {},
       "output_type": "pyout",
       "prompt_number": 90,
       "text": [
        "'Beazley'"
       ]
      }
     ],
     "prompt_number": 90
    },
    {
     "cell_type": "markdown",
     "metadata": {},
     "source": [
      "### \ud1a0\ub860\n",
      "\n",
      "- lambda\ub97c \uc0ac\uc6a9\ud574\uc11c \uac04\ub2e8\ud55c \ud568\uc218\ub97c \uc815\uc758\ud560 \uc218 \uc788\uc9c0\ub9cc, \uc81c\uc57d\uc774 \uc544\uc8fc \ub9ce\uc74c\n",
      "- \uc6b0\uc120 \ud45c\ud604\uc2dd\uc744 \ud558\ub098\ub9cc \uc0ac\uc6a9\ud574\uc57c \ud558\uace0 \uadf8 \uacb0\uacfc\uac00 \ubc18\ud658 \uac12\uc774 \ub41c\ub2e4. \ub530\ub77c\uc11c \uba85\ub839\ubb38\uc744 \uc5ec\ub7ec \uac1c \uc4f4\ub2e4\uac70\ub098 \uc870\uac74\ubb38, \uc21c\ud658\ubb38, \uc5d0\ub7ec \ucc98\ub9ac \ub4f1\uc744 \ub123\uc744 \uc218 \uc5c6\ub2e4.\n",
      "- \ud30c\uc774\uc36c \ucf54\ub4dc\ub97c \uc791\uc131\ud558\uba74\uc11c lambda\ub97c \uc0ac\uc6a9\ud558\uc9c0 \uc54a\uc544\ub3c4 \uc544\ubb34 \uc0c1\uad00\uc774 \uc5c6\uc9c0\ub9cc, \uc5ec\ub7ec \uac00\uc9c0 \ud45c\ud604\uc2dd\uc744 \uacc4\uc0b0\ud558\ub294 \uc791\uc740 \ud568\uc218\ub97c \ub9ce\uc774 \uc0ac\uc6a9\ud558\uac70\ub098 \ucf5c\ubc31 \ud568\uc218\ub97c \uc0ac\uc6a9\ud558\ub294 \ud504\ub85c\uadf8\ub7a8\uc5d0\uc11c \uc885\uc885 lambda\ub97c \ubc1c\uacac\ud558\uac8c \ub428"
     ]
    },
    {
     "cell_type": "markdown",
     "metadata": {},
     "source": [
      "## 7.7 \uc774\ub984\uc5c6\ub294 \ud568\uc218\uc5d0\uc11c \ubcc0\uc218 \uace0\uc815\n",
      "\n",
      "### \ubb38\uc81c\n",
      "\n",
      "- lambda\ub97c \uc0ac\uc6a9\ud574\uc11c \uc774\ub984\uc5c6\ub294 \ud568\uc218\ub97c \uc815\uc758\ud588\ub294\ub370, \uc815\uc758\ud560 \ub54c \ud2b9\uc815 \ubcc0\uc218\uc758 \uac12\uc744 \uace0\uc815\ud558\uace0 \uc2f6\ub2e4.\n",
      "\n",
      "### \ud574\uacb0\n",
      "\n",
      "- \ub2e4\uc74c \ucf54\ub4dc\uc758 \ub3d9\uc791\uc131 \uace0\ub824"
     ]
    },
    {
     "cell_type": "code",
     "collapsed": false,
     "input": [
      "x = 10"
     ],
     "language": "python",
     "metadata": {},
     "outputs": [],
     "prompt_number": 91
    },
    {
     "cell_type": "code",
     "collapsed": false,
     "input": [
      "a = lambda y: x + y"
     ],
     "language": "python",
     "metadata": {},
     "outputs": [],
     "prompt_number": 92
    },
    {
     "cell_type": "code",
     "collapsed": false,
     "input": [
      "x = 20"
     ],
     "language": "python",
     "metadata": {},
     "outputs": [],
     "prompt_number": 93
    },
    {
     "cell_type": "code",
     "collapsed": false,
     "input": [
      "b = lambda y: x + y"
     ],
     "language": "python",
     "metadata": {},
     "outputs": [],
     "prompt_number": 94
    },
    {
     "cell_type": "markdown",
     "metadata": {},
     "source": [
      "- \uc774\uc81c \uc2a4\uc2a4\ub85c \uc9c8\ubb38\uc744 \ub358\uc838\ubcf4\uc790.\n",
      "- a(10)\uacfc b(10)\uc758 \uac12\uc740 \ubb34\uc5c7\uc774 \ub420\uae4c?\n",
      "- \uc544\ub9c8\ub3c4 20, 30\uc77c \uc0dd\uac01\ud588\uc744\uc9c0 \ubaa8\ub974\uaca0\uc9c0\ub9cc \uc633\uc9c0 \uc54a\ub2e4."
     ]
    },
    {
     "cell_type": "code",
     "collapsed": false,
     "input": [
      "a(10)"
     ],
     "language": "python",
     "metadata": {},
     "outputs": [
      {
       "metadata": {},
       "output_type": "pyout",
       "prompt_number": 95,
       "text": [
        "30"
       ]
      }
     ],
     "prompt_number": 95
    },
    {
     "cell_type": "code",
     "collapsed": false,
     "input": [
      "b(10)"
     ],
     "language": "python",
     "metadata": {},
     "outputs": [
      {
       "metadata": {},
       "output_type": "pyout",
       "prompt_number": 96,
       "text": [
        "30"
       ]
      }
     ],
     "prompt_number": 96
    },
    {
     "cell_type": "markdown",
     "metadata": {},
     "source": [
      "- \uc5ec\uae30\uc11c \ubb38\uc81c\ub294 lambda\uc5d0\uc11c \uc0ac\uc6a9\ud55c x\uac12\uc774 \uc2e4\ud589 \uc2dc\uac04\uc5d0 \ub2ec\ub77c\uc9c0\ub294 \ubcc0\uc218\ub77c\ub294 \uc810\n",
      "- \ub530\ub77c\uc11c \ub78c\ub2e4 \ud45c\ud604\uc2dd\uc758 x\uc758 \uac12\uc740 \uadf8 \ud568\uc218\ub97c \uc2e4\ud589\ud560 \ub54c\uc758 \uac12\uc774 \ub428"
     ]
    },
    {
     "cell_type": "code",
     "collapsed": false,
     "input": [
      "x = 15"
     ],
     "language": "python",
     "metadata": {},
     "outputs": [],
     "prompt_number": 97
    },
    {
     "cell_type": "code",
     "collapsed": false,
     "input": [
      "a(10)"
     ],
     "language": "python",
     "metadata": {},
     "outputs": [
      {
       "metadata": {},
       "output_type": "pyout",
       "prompt_number": 98,
       "text": [
        "25"
       ]
      }
     ],
     "prompt_number": 98
    },
    {
     "cell_type": "code",
     "collapsed": false,
     "input": [
      "x = 3"
     ],
     "language": "python",
     "metadata": {},
     "outputs": [],
     "prompt_number": 99
    },
    {
     "cell_type": "code",
     "collapsed": false,
     "input": [
      "a(10)"
     ],
     "language": "python",
     "metadata": {},
     "outputs": [
      {
       "metadata": {},
       "output_type": "pyout",
       "prompt_number": 100,
       "text": [
        "13"
       ]
      }
     ],
     "prompt_number": 100
    },
    {
     "cell_type": "markdown",
     "metadata": {},
     "source": [
      "- \uc774\ub984\uc5c6\ub294 \ud568\uc218\ub97c \uc815\uc758\ud560 \ub54c \ud2b9\uc815\uac12\uc744 \uace0\uc815\ud558\uace0 \uc2f6\uc73c\uba74 \uadf8 \uac12\uc744 \uae30\ubcf8\uac12\uc73c\ub85c \uc9c0\uc815\ud558\uba74 \ub428"
     ]
    },
    {
     "cell_type": "code",
     "collapsed": false,
     "input": [
      "x = 10"
     ],
     "language": "python",
     "metadata": {},
     "outputs": [],
     "prompt_number": 101
    },
    {
     "cell_type": "code",
     "collapsed": false,
     "input": [
      "a = lambda y, x=x: x + y"
     ],
     "language": "python",
     "metadata": {},
     "outputs": [],
     "prompt_number": 102
    },
    {
     "cell_type": "code",
     "collapsed": false,
     "input": [
      "x = 20"
     ],
     "language": "python",
     "metadata": {},
     "outputs": [],
     "prompt_number": 103
    },
    {
     "cell_type": "code",
     "collapsed": false,
     "input": [
      "b = lambda y, x=x: x + y"
     ],
     "language": "python",
     "metadata": {},
     "outputs": [],
     "prompt_number": 104
    },
    {
     "cell_type": "code",
     "collapsed": false,
     "input": [
      "a(10)"
     ],
     "language": "python",
     "metadata": {},
     "outputs": [
      {
       "metadata": {},
       "output_type": "pyout",
       "prompt_number": 105,
       "text": [
        "20"
       ]
      }
     ],
     "prompt_number": 105
    },
    {
     "cell_type": "code",
     "collapsed": false,
     "input": [
      "b(10)"
     ],
     "language": "python",
     "metadata": {},
     "outputs": [
      {
       "metadata": {},
       "output_type": "pyout",
       "prompt_number": 106,
       "text": [
        "30"
       ]
      }
     ],
     "prompt_number": 106
    },
    {
     "cell_type": "markdown",
     "metadata": {},
     "source": [
      "### \ud1a0\ub860\n",
      "\n",
      "- \uc774\ubc88 \ub808\uc2dc\ud53c\uc5d0 \ub098\uc628 \ubb38\uc81c\ub294, \ub78c\ub2e4 \ud568\uc218\ub97c \uc870\uae08 \ub354 \ud604\uba85\ud558\uac8c \uc0ac\uc6a9\ud558\ub824\ub2e4\uac00 \ubc1c\uc0dd\ud558\ub294 \uacbd\uc6b0\uac00 \ub9ce\uc74c\n",
      "- \uc608\ub97c \ub4e4\uc5b4 list comprehension \uc774\ub098 \ubc18\ubcf5\ubb38\uc5d0\uc11c \ub78c\ub2e4 \ud45c\ud604\uc2dd\uc744 \uc0dd\uc131\ud558\uace0 \ub78c\ub2e4 \ud568\uc218\uac00 \uc21c\ud658 \ubcc0\uc218\ub97c \uae30\uc5b5\ud558\ub824\uace0 \ud560 \ub54c \ubc1c\uc0dd\ud558\uae30 \uc26c\uc6c0"
     ]
    },
    {
     "cell_type": "code",
     "collapsed": false,
     "input": [
      "funcs = [lambda x: x+n for n in range(5)]"
     ],
     "language": "python",
     "metadata": {},
     "outputs": [],
     "prompt_number": 107
    },
    {
     "cell_type": "code",
     "collapsed": false,
     "input": [
      "# \uc800\ubc88\uc774\ub791 \ub611\uac19\uc740 \uacbd\uc6b0\ub124..\n",
      "# n\uc774 4\uae4c\uc9c0 \uc99d\uac00\ud55c \uc0c1\ud669\uc5d0\uc11c f\ub97c \ud638\ucd9c\ud558\ub2c8 n\uc740 4\uac00 \ub420 \uc218 \ubc16\uc5d0..\n",
      "# n = 0\n",
      "# n = 1\n",
      "# n = 2\n",
      "# n = 3\n",
      "# n = 4\n",
      "# \uc774\ub807\uac8c \ub41c\ub2e4!\n",
      "for f in funcs:\n",
      "    print(f(0))"
     ],
     "language": "python",
     "metadata": {},
     "outputs": [
      {
       "output_type": "stream",
       "stream": "stdout",
       "text": [
        "4\n",
        "4\n",
        "4\n",
        "4\n",
        "4\n"
       ]
      }
     ],
     "prompt_number": 108
    },
    {
     "cell_type": "markdown",
     "metadata": {},
     "source": [
      "- \ud504\ub85c\uadf8\ub798\uba38\ub294 n\uac12\uc774 \ubcc0\ud560 \uac83\uc774\ub77c\uace0 \uae30\ub300\ud5c0\ub290\uc9c0\ub9cc \ub78c\ub2e4 \ud568\uc218\ub294 \uac00\uc7a5 \ub9c8\uc9c0\ub9c9 \uac12\uc744 \uc0ac\uc6a9\ud588\uc74c"
     ]
    },
    {
     "cell_type": "code",
     "collapsed": false,
     "input": [
      "# n\uc744 \ucc98\uc74c\ubd80\ud130 \ud560\ub2f9\ud558\uace0 \uc2dc\uc791\ud558\uc790\n",
      "# \uadf8\ub807\uac8c \ub418\uba74 \ub098\uc911\uc5d0 \ud568\uc218\ub97c \ud638\ucd9c\ud558\ub354\ub77c\ub3c4 n\uac12\uc740 \uc774\ubbf8 \uc124\uc815\ub418\uc5c8\uae30 \ub54c\ubb38\uc5d0 \ubc14\ub00c\uc9c0 \uc54a\ub294\ub2e4.\n",
      "funcs = [lambda x, n=n: x+n for n in range(5)]"
     ],
     "language": "python",
     "metadata": {},
     "outputs": [],
     "prompt_number": 109
    },
    {
     "cell_type": "code",
     "collapsed": false,
     "input": [
      "for f in funcs:\n",
      "    print(f(0))"
     ],
     "language": "python",
     "metadata": {},
     "outputs": [
      {
       "output_type": "stream",
       "stream": "stdout",
       "text": [
        "0\n",
        "1\n",
        "2\n",
        "3\n",
        "4\n"
       ]
      }
     ],
     "prompt_number": 110
    },
    {
     "cell_type": "markdown",
     "metadata": {},
     "source": [
      "- \uc774\uc81c **n\uac12\uc744 \ud568\uc218\ub97c \uc815\uc758\ud558\ub294 \uc2dc\uc810\uc758 \uac12**\uc73c\ub85c **\uace0\uc815**\ud574 \ub193\uace0 \uc0ac\uc6a9\ud55c\ub2e4."
     ]
    },
    {
     "cell_type": "markdown",
     "metadata": {},
     "source": [
      "## 7.8 \uc778\uc790\ub97c N\uac1c \ubc1b\ub294 \ud568\uc218\ub97c \ub354 \uc801\uc740 \uc778\uc790\ub85c \uc0ac\uc6a9\n",
      "\n",
      "### \ubb38\uc81c\n",
      "\n",
      "- \ud30c\uc774\uc36c \ucf54\ub4dc\uc5d0 \ucf5c\ubc31 \ud568\uc218\ub098 \ud578\ub4e4\ub7ec\ub85c \uc0ac\uc6a9\ud560 \ud638\ucd9c\uccb4\uac00 \uc788\uc74c\n",
      "- \ud558\uc9c0\ub9cc \ud568\uc218\uc758 \uc778\uc790\uac00 \ub108\ubb34 \ub9ce\uace0 \ud638\ucd9c\ud588\uc744 \ub54c \uc608\uc678\uac00 \ubc1c\uc0dd\ud568\n",
      "\n",
      "### \ud574\uacb0\n",
      "\n",
      "- \ud568\uc218\uc758 \uc778\uc790 \uac1c\uc218\ub97c \uc904\uc774\ub824\uba74 functools.partial()\uc744 \uc0ac\uc6a9\ud574\uc57c \ud568\n",
      "- partial() \ud568\uc218\ub97c \uc0ac\uc6a9\ud558\uba74 \ud568\uc218\uc758 \uc778\uc790\uc5d0 \uace0\uc815\uac12\uc744 \ud560\ub2f9\ud560 \uc218 \uc788\uace0, \ub530\ub77c\uc11c \ud638\ucd9c\ud560 \ub54c \ub123\uc5b4\uc57c \ud558\ub294 \uc778\uc790\uc218\ub97c \uc904\uc77c \uc218 \uc788\uc74c"
     ]
    },
    {
     "cell_type": "code",
     "collapsed": false,
     "input": [
      "def spam(a, b, c, d):\n",
      "    print(a, b, c, d)"
     ],
     "language": "python",
     "metadata": {},
     "outputs": [],
     "prompt_number": 21
    },
    {
     "cell_type": "markdown",
     "metadata": {},
     "source": [
      "- \uc774\uc81c partial()\ub85c \ud2b9\uc815\uac12\uc744 \uace0\uc815"
     ]
    },
    {
     "cell_type": "code",
     "collapsed": false,
     "input": [
      "from functools import partial"
     ],
     "language": "python",
     "metadata": {},
     "outputs": [],
     "prompt_number": 15
    },
    {
     "cell_type": "code",
     "collapsed": false,
     "input": [
      "help(partial)"
     ],
     "language": "python",
     "metadata": {},
     "outputs": [
      {
       "output_type": "stream",
       "stream": "stdout",
       "text": [
        "Help on class partial in module functools:\n",
        "\n",
        "class partial(builtins.object)\n",
        " |  partial(func, *args, **keywords) - new function with partial application\n",
        " |  of the given arguments and keywords.\n",
        " |  \n",
        " |  Methods defined here:\n",
        " |  \n",
        " |  __call__(self, /, *args, **kwargs)\n",
        " |      Call self as a function.\n",
        " |  \n",
        " |  __delattr__(self, name, /)\n",
        " |      Implement delattr(self, name).\n",
        " |  \n",
        " |  __getattribute__(self, name, /)\n",
        " |      Return getattr(self, name).\n",
        " |  \n",
        " |  __new__(*args, **kwargs) from builtins.type\n",
        " |      Create and return a new object.  See help(type) for accurate signature.\n",
        " |  \n",
        " |  __reduce__(...)\n",
        " |  \n",
        " |  __repr__(self, /)\n",
        " |      Return repr(self).\n",
        " |  \n",
        " |  __setattr__(self, name, value, /)\n",
        " |      Implement setattr(self, name, value).\n",
        " |  \n",
        " |  __setstate__(...)\n",
        " |  \n",
        " |  ----------------------------------------------------------------------\n",
        " |  Data descriptors defined here:\n",
        " |  \n",
        " |  __dict__\n",
        " |  \n",
        " |  args\n",
        " |      tuple of arguments to future partial calls\n",
        " |  \n",
        " |  func\n",
        " |      function object to use in future partial calls\n",
        " |  \n",
        " |  keywords\n",
        " |      dictionary of keyword arguments to future partial calls\n",
        "\n"
       ]
      }
     ],
     "prompt_number": 23
    },
    {
     "cell_type": "code",
     "collapsed": false,
     "input": [
      "# a = 1\n",
      "# partial(\ud568\uc218, \ud568\uc218\uc5d0 \ubcf4\ub0bc \uc778\uc790\uac12)\n",
      "s1 = partial(spam, 1) "
     ],
     "language": "python",
     "metadata": {},
     "outputs": [],
     "prompt_number": 24
    },
    {
     "cell_type": "code",
     "collapsed": false,
     "input": [
      "s1(2, 3, 4)"
     ],
     "language": "python",
     "metadata": {},
     "outputs": [
      {
       "output_type": "stream",
       "stream": "stdout",
       "text": [
        "1 2 3 4\n"
       ]
      }
     ],
     "prompt_number": 25
    },
    {
     "cell_type": "code",
     "collapsed": false,
     "input": [
      "s1(4, 5, 6)"
     ],
     "language": "python",
     "metadata": {},
     "outputs": [
      {
       "output_type": "stream",
       "stream": "stdout",
       "text": [
        "1 4 5 6\n"
       ]
      }
     ],
     "prompt_number": 26
    },
    {
     "cell_type": "code",
     "collapsed": false,
     "input": [
      "# d = 42\n",
      "s2 = partial(spam, d=42) "
     ],
     "language": "python",
     "metadata": {},
     "outputs": [],
     "prompt_number": 27
    },
    {
     "cell_type": "code",
     "collapsed": false,
     "input": [
      "s2(1, 2, 3)"
     ],
     "language": "python",
     "metadata": {},
     "outputs": [
      {
       "output_type": "stream",
       "stream": "stdout",
       "text": [
        "1 2 3 42\n"
       ]
      }
     ],
     "prompt_number": 28
    },
    {
     "cell_type": "code",
     "collapsed": false,
     "input": [
      "s2(4, 5, 5)"
     ],
     "language": "python",
     "metadata": {},
     "outputs": [
      {
       "output_type": "stream",
       "stream": "stdout",
       "text": [
        "4 5 5 42\n"
       ]
      }
     ],
     "prompt_number": 29
    },
    {
     "cell_type": "code",
     "collapsed": false,
     "input": [
      "# d\ub294 \uc774\ubbf8 \ud560\ub2f9\uc774 \ub410\ub2e4\ub294 \uac74\uac00?\n",
      "# 4\uac1c \uc778\uc790\ub9cc \ubc1b\uc544\uc57c \ub418\uba70, \uc774\ubbf8 d 1\uac1c\ub294 \ud560\ub2f9\uc774 \ub41c \uc0c1\ud0dc\n",
      "s2(4, 5, 5, 5)"
     ],
     "language": "python",
     "metadata": {},
     "outputs": [
      {
       "ename": "TypeError",
       "evalue": "spam() got multiple values for argument 'd'",
       "output_type": "pyerr",
       "traceback": [
        "\u001b[0;31m---------------------------------------------------------------------------\u001b[0m\n\u001b[0;31mTypeError\u001b[0m                                 Traceback (most recent call last)",
        "\u001b[0;32m<ipython-input-30-4872ae172b17>\u001b[0m in \u001b[0;36m<module>\u001b[0;34m()\u001b[0m\n\u001b[1;32m      1\u001b[0m \u001b[0;31m# d\ub294 \uc774\ubbf8 \ud560\ub2f9\uc774 \ub410\ub2e4\ub294 \uac74\uac00?\u001b[0m\u001b[0;34m\u001b[0m\u001b[0;34m\u001b[0m\u001b[0m\n\u001b[1;32m      2\u001b[0m \u001b[0;31m# 4\uac1c \uc778\uc790\ub9cc \ubc1b\uc544\uc57c \ub418\uba70, \uc774\ubbf8 d 1\uac1c\ub294 \ud560\ub2f9\uc774 \ub41c \uc0c1\ud0dc\u001b[0m\u001b[0;34m\u001b[0m\u001b[0;34m\u001b[0m\u001b[0m\n\u001b[0;32m----> 3\u001b[0;31m \u001b[0ms2\u001b[0m\u001b[0;34m(\u001b[0m\u001b[0;36m4\u001b[0m\u001b[0;34m,\u001b[0m \u001b[0;36m5\u001b[0m\u001b[0;34m,\u001b[0m \u001b[0;36m5\u001b[0m\u001b[0;34m,\u001b[0m \u001b[0;36m5\u001b[0m\u001b[0;34m)\u001b[0m\u001b[0;34m\u001b[0m\u001b[0m\n\u001b[0m",
        "\u001b[0;31mTypeError\u001b[0m: spam() got multiple values for argument 'd'"
       ]
      }
     ],
     "prompt_number": 30
    },
    {
     "cell_type": "code",
     "collapsed": false,
     "input": [
      "# a = 1, b = 2, d = 42\n",
      "s3 = partial(spam, 1, 2, d=42)"
     ],
     "language": "python",
     "metadata": {},
     "outputs": [],
     "prompt_number": 31
    },
    {
     "cell_type": "code",
     "collapsed": false,
     "input": [
      "s3(3)"
     ],
     "language": "python",
     "metadata": {},
     "outputs": [
      {
       "output_type": "stream",
       "stream": "stdout",
       "text": [
        "1 2 3 42\n"
       ]
      }
     ],
     "prompt_number": 32
    },
    {
     "cell_type": "code",
     "collapsed": false,
     "input": [
      "s3(4)"
     ],
     "language": "python",
     "metadata": {},
     "outputs": [
      {
       "output_type": "stream",
       "stream": "stdout",
       "text": [
        "1 2 4 42\n"
       ]
      }
     ],
     "prompt_number": 33
    },
    {
     "cell_type": "code",
     "collapsed": false,
     "input": [
      "s3(5)"
     ],
     "language": "python",
     "metadata": {},
     "outputs": [
      {
       "output_type": "stream",
       "stream": "stdout",
       "text": [
        "1 2 5 42\n"
       ]
      }
     ],
     "prompt_number": 34
    },
    {
     "cell_type": "markdown",
     "metadata": {},
     "source": [
      "- partial()\uc774 \ud2b9\uc815 \uc778\uc790\uc758 \uac12\uc744 \uace0\uc815\ud558\uace0 \uc0c8\ub85c\uc6b4 \ud638\ucd9c\uccb4\ub97c \ubc18\ud658\ud568\n",
      "- \uc774 \uc0c8\ub85c\uc6b4 \ud638\ucd9c\uccb4\ub294 \ud560\ub2f9\ud558\uc9c0 \uc54a\uc740 \uc778\uc798\ub974 \ubc1b\uace0, partial()\uc5d0 \uc8fc\uc5b4\uc9c4 \uc778\uc790\uc640 \ud569\uce5c \ud6c4 \uc6d0\ubcf8 \ud568\uc218\uc5d0 \uc804\ub2ec\ud568"
     ]
    },
    {
     "cell_type": "markdown",
     "metadata": {},
     "source": [
      "### \ud1a0\ub860\n",
      "\n",
      "- \uc774\ubc88 \ub808\uc2dc\ud53c\ub294 \uac89\uc73c\ub85c \ubcf4\uae30\uc5d0 \ud638\ud658\ub418\uc9c0 \uc54a\uc744 \uac83 \uac19\uc740 \ucf54\ub4dc\ub97c \ud568\uaed8 \ub3d9\uc791\ud558\ub3c4\ub85d \ud558\ub294 \ubb38\uc81c\uc640 \uad00\ub828\n",
      "- \uc6b0\uc120 (x, y) \ud29c\ud50c\ub85c \ub098\ud0c0\ub0b8 \uc88c\ud45c \ub9ac\uc2a4\ud2b8\n",
      "- \ub2e4\uc74c \ud568\uc218\ub97c \uc0ac\uc6a9\ud574\uc11c \ub450 \uc810 \uc0ac\uc774\uc758 \uac70\ub9ac\ub97c \uad6c\ud560 \uc218 \uc788\uc74c"
     ]
    },
    {
     "cell_type": "code",
     "collapsed": false,
     "input": [
      "points = [(1,2), (3,4), (5,6), (7,8)]"
     ],
     "language": "python",
     "metadata": {},
     "outputs": [],
     "prompt_number": 6
    },
    {
     "cell_type": "code",
     "collapsed": false,
     "input": [
      "import math"
     ],
     "language": "python",
     "metadata": {},
     "outputs": [],
     "prompt_number": 7
    },
    {
     "cell_type": "code",
     "collapsed": false,
     "input": [
      "def distance(p1, p2):\n",
      "    x1, y1 = p1\n",
      "    x2, y2 = p2\n",
      "    return math.hypot(x2-x1, y2-y1)"
     ],
     "language": "python",
     "metadata": {},
     "outputs": [],
     "prompt_number": 8
    },
    {
     "cell_type": "code",
     "collapsed": false,
     "input": [
      "# hypot \ubb50\uc758 \uc57d\uc790\ub0d0?!\n",
      "help(math.hypot)"
     ],
     "language": "python",
     "metadata": {},
     "outputs": [
      {
       "output_type": "stream",
       "stream": "stdout",
       "text": [
        "Help on built-in function hypot in module math:\n",
        "\n",
        "hypot(...)\n",
        "    hypot(x, y)\n",
        "    \n",
        "    Return the Euclidean distance, sqrt(x*x + y*y).\n",
        "\n"
       ]
      }
     ],
     "prompt_number": 9
    },
    {
     "cell_type": "markdown",
     "metadata": {},
     "source": [
      "- \uc774\uc81c \uc5b4\ub5a4 \uc810\uc5d0\uc11c\ubd80\ud130 \uc774 \uc810\uae4c\uc9c0\uc758 \uac70\ub9ac\uc5d0 \ub530\ub77c \uc815\ub82c\uc744 \ud574\uc57c \ud55c\ub2e4\uba74 \uc5b4\ub5bb\uac8c \ud560\uae4c?\n",
      "- \ub9ac\uc2a4\ud2b8\uc758 sort() \uba54\uc18c\ub4dc\ub294 key \uc778\uc790\ub97c \ubc1b\uc544\uc11c \uc815\ub82c\uc5d0 \uc0ac\uc6a9\ud558\uc9c0\ub9cc \uc778\uc790\uac00 \ud558\ub098\uc778 \ud568\uc218\uc5d0\ub9cc \ub3d9\uc791\ud55c\ub2e4(\ub530\ub77c\uc11c distance()\ub294 \uc801\ub2f9\ud558\uc9c0 \uc54a\ub2e4)\n",
      "- \uc774\ub54c partial()\ub85c \uc774 \ubb38\uc81c\ub97c \ud574\uacb0\ud55c\ub2e4."
     ]
    },
    {
     "cell_type": "code",
     "collapsed": false,
     "input": [
      "pt = (4, 3)"
     ],
     "language": "python",
     "metadata": {},
     "outputs": [],
     "prompt_number": 16
    },
    {
     "cell_type": "code",
     "collapsed": false,
     "input": [
      "# distance \ud568\uc218, pt=(4,3)\uc744 \ub123\uc5b4 sort\ub97c \ud55c\ub2e4.\n",
      "# ponits\uc758 list\uac12\ub4e4\uc774 \uc120\ud68c\ud558\uba70 pt=(4,3)\uacfc \ucc28\uc774\ub098\ub294 \uc21c\uc11c\ub300\ub85c \uc815\ub82c\ub428\n",
      "points.sort(key=partial(distance, pt))"
     ],
     "language": "python",
     "metadata": {},
     "outputs": [],
     "prompt_number": 17
    },
    {
     "cell_type": "code",
     "collapsed": false,
     "input": [
      "distance(pt, (3,4))"
     ],
     "language": "python",
     "metadata": {},
     "outputs": [
      {
       "metadata": {},
       "output_type": "pyout",
       "prompt_number": 18,
       "text": [
        "1.4142135623730951"
       ]
      }
     ],
     "prompt_number": 18
    },
    {
     "cell_type": "code",
     "collapsed": false,
     "input": [
      "distance(pt, (1,2))"
     ],
     "language": "python",
     "metadata": {},
     "outputs": [
      {
       "metadata": {},
       "output_type": "pyout",
       "prompt_number": 19,
       "text": [
        "3.1622776601683795"
       ]
      }
     ],
     "prompt_number": 19
    },
    {
     "cell_type": "code",
     "collapsed": false,
     "input": [
      "distance(pt, (5,6))"
     ],
     "language": "python",
     "metadata": {},
     "outputs": [
      {
       "metadata": {},
       "output_type": "pyout",
       "prompt_number": 20,
       "text": [
        "3.1622776601683795"
       ]
      }
     ],
     "prompt_number": 20
    },
    {
     "cell_type": "code",
     "collapsed": false,
     "input": [
      "distance(pt, (7,8))"
     ],
     "language": "python",
     "metadata": {},
     "outputs": [
      {
       "metadata": {},
       "output_type": "pyout",
       "prompt_number": 21,
       "text": [
        "5.830951894845301"
       ]
      }
     ],
     "prompt_number": 21
    },
    {
     "cell_type": "code",
     "collapsed": false,
     "input": [
      "points"
     ],
     "language": "python",
     "metadata": {},
     "outputs": [
      {
       "metadata": {},
       "output_type": "pyout",
       "prompt_number": 22,
       "text": [
        "[(3, 4), (1, 2), (5, 6), (7, 8)]"
       ]
      }
     ],
     "prompt_number": 22
    },
    {
     "cell_type": "markdown",
     "metadata": {},
     "source": [
      "- \uc774 \ubc1c\uc0c1\uc744 \ud655\uc7a5\ud574\uc11c, \ub2e4\ub978 \ub77c\uc774\ube0c\ub7ec\ub9ac\uc5d0\uc11c \uc0ac\uc6a9\ud558\ub294 \ucf5c\ubc31 \ud568\uc218\uc758 \ub9e4\uac1c\ubcc0\uc218 \uc124\uba85\uc744 \ubcc0\uacbd\ud558\ub294\ub370 partial()\uc744 \uc0ac\uc6a9\ud560 \uc218\ub3c4 \uc788\uc74c\n",
      "- \uc608\ub97c \ub4e4\uc5b4 multiprocessing\uc744 \uc0ac\uc6a9\ud574\uc11c \ube44\ub3d9\uae30\uc2dd\uc73c\ub85c \uacb0\uacfc\ub97c \uacc4\uc0b0\ud558\uace0, \uacb0\uacfc\uac12\uacfc \ub85c\uae45 \uc778\uc790\ub97c \ubc1b\ub294 \ucf5c\ubc31 \ud568\uc218\uc5d0 \uadf8 \uacb0\uacfc\ub97c \uc804\ub2ec\ud558\ub294 \ucf54\ub4dc\uac00 \uc788\uc74c"
     ]
    },
    {
     "cell_type": "code",
     "collapsed": false,
     "input": [
      "def output_result(result, log=None):\n",
      "    if log is not None:\n",
      "        log.debug('Got: %r', result)\n",
      "        \n",
      "# \uc0d8\ud50c \ud568\uc218\n",
      "def add(x, y):\n",
      "    return x + y\n",
      "\n",
      "if __name__ == '__main__':\n",
      "    import logging\n",
      "    from multiprocessing import Pool\n",
      "    from functools import partial\n",
      "\n",
      "    logging.basicConfig(level=logging.DEBUG)\n",
      "    log = logging.getLogger('test')\n",
      "\n",
      "    p = Pool()\n",
      "    p.apply_async(add, (3, 4), callback=partial(output_result, log=log))\n",
      "    p.close()\n",
      "    p.join"
     ],
     "language": "python",
     "metadata": {},
     "outputs": [],
     "prompt_number": 23
    },
    {
     "cell_type": "markdown",
     "metadata": {},
     "source": [
      "- apply_async()\ub85c \ucf5c\ubc31 \ud568\uc218\ub97c \uc9c0\uc6d0\ud560 \ub54c, partial()\uc744 \uc0ac\uc6a9\ud574\uc11c \ucd94\uac00\uc801\uc778 \ub85c\uae45 \uc778\uc790\ub97c \ub123\uc5c8\ub2e4.\n",
      "- multiprocessing\uc740 \ud558\ub098\uc758 \uac12\uc73c\ub85c \ucf5c\ubc31 \ud568\uc218\ub97c \ud638\ucd9c\ud558\uac8c \ub418\ub294 \uac83\n",
      "\n",
      "\n",
      "- \uc720\uc0ac\ud55c \uc608\uc81c\ub85c \ub124\ud2b8\uc6cc\ud06c \uc11c\ubc84\ub97c \uc791\uc131\ud55c\ub2e4\uace0 \uc0dd\uac01\ud574 \ubcf4\uc790.\n",
      "- socketserver \ubaa8\ub4c8\uc744 \uc0ac\uc6a9\ud558\uba74 \uc0c1\ub300\uc801\uc73c\ub85c \ud3b8\ud558\uac8c \uc791\uc5c5\ud560 \uc218 \uc788\uc74c\n",
      "- \uc608\ub97c \ub4e4\uc5b4 \ub2e4\uc74c \ucf54\ub4dc\ub294 \uac04\ub2e8\ud55c \uc5d0\ucf54 \uc11c\ubc84\ub97c \uad6c\ud604\ud568"
     ]
    },
    {
     "cell_type": "code",
     "collapsed": false,
     "input": [
      "from socketserver import StreamRequestHandler, TCPServer"
     ],
     "language": "python",
     "metadata": {},
     "outputs": [],
     "prompt_number": 24
    },
    {
     "cell_type": "code",
     "collapsed": false,
     "input": [
      "class EchoHandler(StreamRequestHandler):\n",
      "    def handle(self):\n",
      "        for line in self.rfile:\n",
      "            self.wfile.write(b'GOT:' + line)"
     ],
     "language": "python",
     "metadata": {},
     "outputs": [],
     "prompt_number": 25
    },
    {
     "cell_type": "code",
     "collapsed": false,
     "input": [
      "serv = TCPServer(('', 15000), EchoHandler)\n",
      "serv.serve_forever()"
     ],
     "language": "python",
     "metadata": {},
     "outputs": [
      {
       "ename": "KeyboardInterrupt",
       "evalue": "",
       "output_type": "pyerr",
       "traceback": [
        "\u001b[0;31m---------------------------------------------------------------------------\u001b[0m\n\u001b[0;31mKeyboardInterrupt\u001b[0m                         Traceback (most recent call last)",
        "\u001b[0;32m<ipython-input-4-91fb7158f643>\u001b[0m in \u001b[0;36m<module>\u001b[0;34m()\u001b[0m\n\u001b[1;32m      1\u001b[0m \u001b[0mserv\u001b[0m \u001b[0;34m=\u001b[0m \u001b[0mTCPServer\u001b[0m\u001b[0;34m(\u001b[0m\u001b[0;34m(\u001b[0m\u001b[0;34m''\u001b[0m\u001b[0;34m,\u001b[0m \u001b[0;36m15000\u001b[0m\u001b[0;34m)\u001b[0m\u001b[0;34m,\u001b[0m \u001b[0mEchoHandler\u001b[0m\u001b[0;34m)\u001b[0m\u001b[0;34m\u001b[0m\u001b[0m\n\u001b[0;32m----> 2\u001b[0;31m \u001b[0mserv\u001b[0m\u001b[0;34m.\u001b[0m\u001b[0mserve_forever\u001b[0m\u001b[0;34m(\u001b[0m\u001b[0;34m)\u001b[0m\u001b[0;34m\u001b[0m\u001b[0m\n\u001b[0m",
        "\u001b[0;32m/usr/local/Cellar/python3/3.4.1/Frameworks/Python.framework/Versions/3.4/lib/python3.4/socketserver.py\u001b[0m in \u001b[0;36mserve_forever\u001b[0;34m(self, poll_interval)\u001b[0m\n\u001b[1;32m    234\u001b[0m                 \u001b[0;31m# shutdown request and wastes cpu at all other times.\u001b[0m\u001b[0;34m\u001b[0m\u001b[0;34m\u001b[0m\u001b[0m\n\u001b[1;32m    235\u001b[0m                 r, w, e = _eintr_retry(select.select, [self], [], [],\n\u001b[0;32m--> 236\u001b[0;31m                                        poll_interval)\n\u001b[0m\u001b[1;32m    237\u001b[0m                 \u001b[0;32mif\u001b[0m \u001b[0mself\u001b[0m \u001b[0;32min\u001b[0m \u001b[0mr\u001b[0m\u001b[0;34m:\u001b[0m\u001b[0;34m\u001b[0m\u001b[0m\n\u001b[1;32m    238\u001b[0m                     \u001b[0mself\u001b[0m\u001b[0;34m.\u001b[0m\u001b[0m_handle_request_noblock\u001b[0m\u001b[0;34m(\u001b[0m\u001b[0;34m)\u001b[0m\u001b[0;34m\u001b[0m\u001b[0m\n",
        "\u001b[0;32m/usr/local/Cellar/python3/3.4.1/Frameworks/Python.framework/Versions/3.4/lib/python3.4/socketserver.py\u001b[0m in \u001b[0;36m_eintr_retry\u001b[0;34m(func, *args)\u001b[0m\n\u001b[1;32m    152\u001b[0m     \u001b[0;32mwhile\u001b[0m \u001b[0;32mTrue\u001b[0m\u001b[0;34m:\u001b[0m\u001b[0;34m\u001b[0m\u001b[0m\n\u001b[1;32m    153\u001b[0m         \u001b[0;32mtry\u001b[0m\u001b[0;34m:\u001b[0m\u001b[0;34m\u001b[0m\u001b[0m\n\u001b[0;32m--> 154\u001b[0;31m             \u001b[0;32mreturn\u001b[0m \u001b[0mfunc\u001b[0m\u001b[0;34m(\u001b[0m\u001b[0;34m*\u001b[0m\u001b[0margs\u001b[0m\u001b[0;34m)\u001b[0m\u001b[0;34m\u001b[0m\u001b[0m\n\u001b[0m\u001b[1;32m    155\u001b[0m         \u001b[0;32mexcept\u001b[0m \u001b[0mOSError\u001b[0m \u001b[0;32mas\u001b[0m \u001b[0me\u001b[0m\u001b[0;34m:\u001b[0m\u001b[0;34m\u001b[0m\u001b[0m\n\u001b[1;32m    156\u001b[0m             \u001b[0;32mif\u001b[0m \u001b[0me\u001b[0m\u001b[0;34m.\u001b[0m\u001b[0merrno\u001b[0m \u001b[0;34m!=\u001b[0m \u001b[0merrno\u001b[0m\u001b[0;34m.\u001b[0m\u001b[0mEINTR\u001b[0m\u001b[0;34m:\u001b[0m\u001b[0;34m\u001b[0m\u001b[0m\n",
        "\u001b[0;31mKeyboardInterrupt\u001b[0m: "
       ]
      }
     ],
     "prompt_number": 4
    },
    {
     "cell_type": "code",
     "collapsed": false,
     "input": [
      "class EchoHandler(StreamRequestHandler):\n",
      "    def __init__(self, *args, ack, **kwargs):\n",
      "        self.ack = ack\n",
      "        super().__init__(*args, **kwargs)\n",
      "        \n",
      "    def handle(self):\n",
      "        for line in self.rfile:\n",
      "            self.wfile.write(b'GOT:' + line)"
     ],
     "language": "python",
     "metadata": {},
     "outputs": [],
     "prompt_number": 26
    },
    {
     "cell_type": "markdown",
     "metadata": {},
     "source": [
      "- \uc774\ub807\uac8c \uc218\uc815\ud558\uba74 TCPServer \ud074\ub798\uc2a4\uc5d0 \ub123\uc744 \uc218 \uc788\ub294 \ub69c\ub837\ud55c \ubc29\ubc95\uc774 \uc0ac\ub77c\uc9d0\n",
      "- \uc774\uc81c \ucf54\ub4dc\ub97c \uc2e4\ud589\ud558\uba74 \ub2e4\uc74c\uacfc \uac19\uc740 \uc608\uc678\uac00 \ubc1c\uc0dd\ud568\n",
      "- \uc5bc\ud54f \ubcf4\uae30\uc5d0 socketserver\ub97c \uc218\uc815\ud558\uac70\ub098 \uc774\uc0c1\ud55c \ud574\uacb0\ucc45\uc744 \uc0ac\uc6a9\ud558\uc9c0 \uc54a\ub294 \ud55c \uc774 \ucf54\ub4dc\ub97c \uace0\uce58\uae30\uac00 \ubd88\uac00\ub2a5\ud560 \uac83\ucc98\ub7fc \ub290\uaef4\uc9c4\ub2e4. \ud558\uc9c0\ub9cc partial()\uc744 \uc0ac\uc6a9\ud574\uc11c ack \uc778\uc790\uc5d0 \uac12\uc744 \ub123\uc5b4\uc8fc\uba74 \uac04\ub2e8\ud788 \ud574\uacb0\ub428"
     ]
    },
    {
     "cell_type": "code",
     "collapsed": false,
     "input": [
      "from functools import partial\n",
      "serv = TCPServer(('', 15000), partial(EchoHandler, ack=b'RECEIVED:'))\n",
      "serv.serve_forever()"
     ],
     "language": "python",
     "metadata": {},
     "outputs": [
      {
       "ename": "KeyboardInterrupt",
       "evalue": "",
       "output_type": "pyerr",
       "traceback": [
        "\u001b[0;31m---------------------------------------------------------------------------\u001b[0m\n\u001b[0;31mKeyboardInterrupt\u001b[0m                         Traceback (most recent call last)",
        "\u001b[0;32m<ipython-input-3-cdc61449f80f>\u001b[0m in \u001b[0;36m<module>\u001b[0;34m()\u001b[0m\n\u001b[1;32m      1\u001b[0m \u001b[0;32mfrom\u001b[0m \u001b[0mfunctools\u001b[0m \u001b[0;32mimport\u001b[0m \u001b[0mpartial\u001b[0m\u001b[0;34m\u001b[0m\u001b[0m\n\u001b[1;32m      2\u001b[0m \u001b[0mserv\u001b[0m \u001b[0;34m=\u001b[0m \u001b[0mTCPServer\u001b[0m\u001b[0;34m(\u001b[0m\u001b[0;34m(\u001b[0m\u001b[0;34m''\u001b[0m\u001b[0;34m,\u001b[0m \u001b[0;36m15000\u001b[0m\u001b[0;34m)\u001b[0m\u001b[0;34m,\u001b[0m \u001b[0mpartial\u001b[0m\u001b[0;34m(\u001b[0m\u001b[0mEchoHandler\u001b[0m\u001b[0;34m,\u001b[0m \u001b[0mack\u001b[0m\u001b[0;34m=\u001b[0m\u001b[0;34mb'RECEIVED:'\u001b[0m\u001b[0;34m)\u001b[0m\u001b[0;34m)\u001b[0m\u001b[0;34m\u001b[0m\u001b[0m\n\u001b[0;32m----> 3\u001b[0;31m \u001b[0mserv\u001b[0m\u001b[0;34m.\u001b[0m\u001b[0mserve_forever\u001b[0m\u001b[0;34m(\u001b[0m\u001b[0;34m)\u001b[0m\u001b[0;34m\u001b[0m\u001b[0m\n\u001b[0m",
        "\u001b[0;32m/usr/local/Cellar/python3/3.4.1/Frameworks/Python.framework/Versions/3.4/lib/python3.4/socketserver.py\u001b[0m in \u001b[0;36mserve_forever\u001b[0;34m(self, poll_interval)\u001b[0m\n\u001b[1;32m    234\u001b[0m                 \u001b[0;31m# shutdown request and wastes cpu at all other times.\u001b[0m\u001b[0;34m\u001b[0m\u001b[0;34m\u001b[0m\u001b[0m\n\u001b[1;32m    235\u001b[0m                 r, w, e = _eintr_retry(select.select, [self], [], [],\n\u001b[0;32m--> 236\u001b[0;31m                                        poll_interval)\n\u001b[0m\u001b[1;32m    237\u001b[0m                 \u001b[0;32mif\u001b[0m \u001b[0mself\u001b[0m \u001b[0;32min\u001b[0m \u001b[0mr\u001b[0m\u001b[0;34m:\u001b[0m\u001b[0;34m\u001b[0m\u001b[0m\n\u001b[1;32m    238\u001b[0m                     \u001b[0mself\u001b[0m\u001b[0;34m.\u001b[0m\u001b[0m_handle_request_noblock\u001b[0m\u001b[0;34m(\u001b[0m\u001b[0;34m)\u001b[0m\u001b[0;34m\u001b[0m\u001b[0m\n",
        "\u001b[0;32m/usr/local/Cellar/python3/3.4.1/Frameworks/Python.framework/Versions/3.4/lib/python3.4/socketserver.py\u001b[0m in \u001b[0;36m_eintr_retry\u001b[0;34m(func, *args)\u001b[0m\n\u001b[1;32m    152\u001b[0m     \u001b[0;32mwhile\u001b[0m \u001b[0;32mTrue\u001b[0m\u001b[0;34m:\u001b[0m\u001b[0;34m\u001b[0m\u001b[0m\n\u001b[1;32m    153\u001b[0m         \u001b[0;32mtry\u001b[0m\u001b[0;34m:\u001b[0m\u001b[0;34m\u001b[0m\u001b[0m\n\u001b[0;32m--> 154\u001b[0;31m             \u001b[0;32mreturn\u001b[0m \u001b[0mfunc\u001b[0m\u001b[0;34m(\u001b[0m\u001b[0;34m*\u001b[0m\u001b[0margs\u001b[0m\u001b[0;34m)\u001b[0m\u001b[0;34m\u001b[0m\u001b[0m\n\u001b[0m\u001b[1;32m    155\u001b[0m         \u001b[0;32mexcept\u001b[0m \u001b[0mOSError\u001b[0m \u001b[0;32mas\u001b[0m \u001b[0me\u001b[0m\u001b[0;34m:\u001b[0m\u001b[0;34m\u001b[0m\u001b[0m\n\u001b[1;32m    156\u001b[0m             \u001b[0;32mif\u001b[0m \u001b[0me\u001b[0m\u001b[0;34m.\u001b[0m\u001b[0merrno\u001b[0m \u001b[0;34m!=\u001b[0m \u001b[0merrno\u001b[0m\u001b[0;34m.\u001b[0m\u001b[0mEINTR\u001b[0m\u001b[0;34m:\u001b[0m\u001b[0;34m\u001b[0m\u001b[0m\n",
        "\u001b[0;31mKeyboardInterrupt\u001b[0m: "
       ]
      }
     ],
     "prompt_number": 3
    },
    {
     "cell_type": "markdown",
     "metadata": {},
     "source": [
      "- \uc774 \uc608\uc81c\uc5d0\uc11c \\_\\_init\\_\\_ \uba54\uc18c\ub4dc\uc5d0 **ack \uc778\uc790\ub97c \uba85\uc2dc**\ud558\ub294 \uac83\uc774 **\uc6b0\uc2b5\uac8c** \ubcf4\uc77c \uc218 \uc788\uc9c0\ub9cc, \ud0a4\uc6cc\ub4dc\ub85c\ub9cc \ub123\uc744 \uc218 \uc788\ub294 \uc778\uc790\ub77c\uc11c \uadf8\ub807\ub2e4. \uc790\uc138\ud55c \ub0b4\uc6a9\uc740 \ub808\uc2dc\ud53c 7.2\uc5d0\uc11c \ub2e4\ub8f8\n",
      "- partial()\uc758 \uae30\ub2a5\uc744 lambda \ud45c\ud604\uc2dd\uc73c\ub85c \ub300\uc2e0\ud558\uae30\ub3c4 \ud568\n",
      "- \uc608\ub97c \ub4e4\uc5b4 \uc55e\uc5d0 \ub098\uc628 \uc608\uc81c\ub97c \ub2e4\uc74c\uacfc \uac19\uc774 \uc791\uc131\ud560 \uc218 \uc788\ub2e4."
     ]
    },
    {
     "cell_type": "code",
     "collapsed": false,
     "input": [
      "points.sort(key=lambda p: distance(pt, p))\n",
      "p.apply_async(add, (3, 4), callback=lambda result: output_result(result, log))\n",
      "serv = TCPServer(('', 15000),\n",
      "                 lambda *args, **kwargs: EchoHandler(*args,\n",
      "                                                     ack=b'RECEIVED:',\n",
      "                                                     **kwargs))"
     ],
     "language": "python",
     "metadata": {},
     "outputs": [
      {
       "ename": "ValueError",
       "evalue": "Pool not running",
       "output_type": "pyerr",
       "traceback": [
        "\u001b[0;31m---------------------------------------------------------------------------\u001b[0m\n\u001b[0;31mValueError\u001b[0m                                Traceback (most recent call last)",
        "\u001b[0;32m<ipython-input-27-442db0cdae08>\u001b[0m in \u001b[0;36m<module>\u001b[0;34m()\u001b[0m\n\u001b[1;32m      1\u001b[0m \u001b[0mpoints\u001b[0m\u001b[0;34m.\u001b[0m\u001b[0msort\u001b[0m\u001b[0;34m(\u001b[0m\u001b[0mkey\u001b[0m\u001b[0;34m=\u001b[0m\u001b[0;32mlambda\u001b[0m \u001b[0mp\u001b[0m\u001b[0;34m:\u001b[0m \u001b[0mdistance\u001b[0m\u001b[0;34m(\u001b[0m\u001b[0mpt\u001b[0m\u001b[0;34m,\u001b[0m \u001b[0mp\u001b[0m\u001b[0;34m)\u001b[0m\u001b[0;34m)\u001b[0m\u001b[0;34m\u001b[0m\u001b[0m\n\u001b[0;32m----> 2\u001b[0;31m \u001b[0mp\u001b[0m\u001b[0;34m.\u001b[0m\u001b[0mapply_async\u001b[0m\u001b[0;34m(\u001b[0m\u001b[0madd\u001b[0m\u001b[0;34m,\u001b[0m \u001b[0;34m(\u001b[0m\u001b[0;36m3\u001b[0m\u001b[0;34m,\u001b[0m \u001b[0;36m4\u001b[0m\u001b[0;34m)\u001b[0m\u001b[0;34m,\u001b[0m \u001b[0mcallback\u001b[0m\u001b[0;34m=\u001b[0m\u001b[0;32mlambda\u001b[0m \u001b[0mresult\u001b[0m\u001b[0;34m:\u001b[0m \u001b[0moutput_result\u001b[0m\u001b[0;34m(\u001b[0m\u001b[0mresult\u001b[0m\u001b[0;34m,\u001b[0m \u001b[0mlog\u001b[0m\u001b[0;34m)\u001b[0m\u001b[0;34m)\u001b[0m\u001b[0;34m\u001b[0m\u001b[0m\n\u001b[0m\u001b[1;32m      3\u001b[0m serv = TCPServer(('', 15000),\n\u001b[1;32m      4\u001b[0m                  lambda *args, **kwargs: EchoHandler(*args,\n\u001b[1;32m      5\u001b[0m                                                      \u001b[0mack\u001b[0m\u001b[0;34m=\u001b[0m\u001b[0;34mb'RECEIVED:'\u001b[0m\u001b[0;34m,\u001b[0m\u001b[0;34m\u001b[0m\u001b[0m\n",
        "\u001b[0;32m/usr/local/Cellar/python3/3.4.1/Frameworks/Python.framework/Versions/3.4/lib/python3.4/multiprocessing/pool.py\u001b[0m in \u001b[0;36mapply_async\u001b[0;34m(self, func, args, kwds, callback, error_callback)\u001b[0m\n\u001b[1;32m    320\u001b[0m         '''\n\u001b[1;32m    321\u001b[0m         \u001b[0;32mif\u001b[0m \u001b[0mself\u001b[0m\u001b[0;34m.\u001b[0m\u001b[0m_state\u001b[0m \u001b[0;34m!=\u001b[0m \u001b[0mRUN\u001b[0m\u001b[0;34m:\u001b[0m\u001b[0;34m\u001b[0m\u001b[0m\n\u001b[0;32m--> 322\u001b[0;31m             \u001b[0;32mraise\u001b[0m \u001b[0mValueError\u001b[0m\u001b[0;34m(\u001b[0m\u001b[0;34m\"Pool not running\"\u001b[0m\u001b[0;34m)\u001b[0m\u001b[0;34m\u001b[0m\u001b[0m\n\u001b[0m\u001b[1;32m    323\u001b[0m         \u001b[0mresult\u001b[0m \u001b[0;34m=\u001b[0m \u001b[0mApplyResult\u001b[0m\u001b[0;34m(\u001b[0m\u001b[0mself\u001b[0m\u001b[0;34m.\u001b[0m\u001b[0m_cache\u001b[0m\u001b[0;34m,\u001b[0m \u001b[0mcallback\u001b[0m\u001b[0;34m,\u001b[0m \u001b[0merror_callback\u001b[0m\u001b[0;34m)\u001b[0m\u001b[0;34m\u001b[0m\u001b[0m\n\u001b[1;32m    324\u001b[0m         \u001b[0mself\u001b[0m\u001b[0;34m.\u001b[0m\u001b[0m_taskqueue\u001b[0m\u001b[0;34m.\u001b[0m\u001b[0mput\u001b[0m\u001b[0;34m(\u001b[0m\u001b[0;34m(\u001b[0m\u001b[0;34m[\u001b[0m\u001b[0;34m(\u001b[0m\u001b[0mresult\u001b[0m\u001b[0;34m.\u001b[0m\u001b[0m_job\u001b[0m\u001b[0;34m,\u001b[0m \u001b[0;32mNone\u001b[0m\u001b[0;34m,\u001b[0m \u001b[0mfunc\u001b[0m\u001b[0;34m,\u001b[0m \u001b[0margs\u001b[0m\u001b[0;34m,\u001b[0m \u001b[0mkwds\u001b[0m\u001b[0;34m)\u001b[0m\u001b[0;34m]\u001b[0m\u001b[0;34m,\u001b[0m \u001b[0;32mNone\u001b[0m\u001b[0;34m)\u001b[0m\u001b[0;34m)\u001b[0m\u001b[0;34m\u001b[0m\u001b[0m\n",
        "\u001b[0;31mValueError\u001b[0m: Pool not running"
       ]
      }
     ],
     "prompt_number": 27
    },
    {
     "cell_type": "markdown",
     "metadata": {},
     "source": [
      "- \uc774 \ucf54\ub4dc\ub3c4 \ub3d9\uc791\ud558\uae30\ub294 \ud558\uc9c0\ub9cc, \uac00\ub3c5\uc131\uc774 \ub5a8\uc5b4\uc9c0\uace0 \ub098\uc911\uc5d0 \uc18c\uc2a4 \ucf54\ub4dc\ub97c \uc77d\ub294 \uc0ac\ub78c\uc774 \ud5f7\uac08\ub9b4 \ud655\ub960\uc774 \ub354 \ud06c\ub2e4.\n",
      "- partial()\uc744 \uc0ac\uc6a9\ud558\uba74 \uc870\uae08 \ub354 \uc791\uc131\uc790\uc758 \uc758\ub3c4\ub97c \ud30c\uc545\ud558\uae30 \uc27d\ub2e4.(\uba87\uba87 \ub9e4\uac1c\ubcc0\uc218\uc5d0 \uac12\uc744 \ub123\ub294\ub2e4)\n",
      "\n",
      "\n",
      "### \uc798 \uc548\ub41c\ub2e4... \uc774\uac74 \ub098\uc911\uc5d0 \ub2e4\uc2dc \ud55c \ubc88 \ud655\uc778\ud574 \ubd10\uc57c \ud560\ub4ef"
     ]
    },
    {
     "cell_type": "markdown",
     "metadata": {},
     "source": [
      "## 7.9 \uba54\uc18c\ub4dc\uac00 \ud558\ub098\uc778 \ud074\ub798\uc2a4\ub97c \ud568\uc218\ub85c \uce58\ud658\n",
      "\n",
      "### \ubb38\uc81c\n",
      "\n",
      "- \\_\\_init\\_\\_() \uc678\uc5d0 \uba54\uc18c\ub4dc\uac00 \ud558\ub098\ubfd0\uc778 \ud074\ub798\uc2a4\uac00 \uc788\ub294\ub370, \ucf54\ub4dc\ub97c \uac04\uacb0\ud558\uac8c \ub9cc\ub4e4\uae30 \uc704\ud574 \uc774\ub97c \ud558\ub098\uc758 \ud568\uc218\ub85c \ubc14\uafb8\uace0 \uc2f6\ub2e4.\n",
      "\n",
      "### \ud574\uacb0\n",
      "\n",
      "- \ub9ce\uc740 \uacbd\uc6b0 \uba54\uc18c\ub4dc\uac00 \ud558\ub098\ubfd0\uc778 \ud074\ub798\uc2a4\ub294 closure\ub97c \uc0ac\uc6a9\ud574\uc11c \ud568\uc218\ub85c \ubc14\uafc0 \uc218 \uc788\uc74c\n",
      "- \ud15c\ud50c\ub9bf \uc2a4\ud0b4\uc744 \uc0ac\uc6a9\ud574\uc11c URL\uc744 \ucd94\ucd9c\ud558\ub294, \ub2e4\uc74c \ud074\ub798\uc2a4\ub97c \uc608\ub85c \ub4e4\uc5b4\ubcf4\uc790."
     ]
    },
    {
     "cell_type": "code",
     "collapsed": false,
     "input": [
      "from urllib.request import urlopen"
     ],
     "language": "python",
     "metadata": {},
     "outputs": [],
     "prompt_number": 30
    },
    {
     "cell_type": "code",
     "collapsed": false,
     "input": [
      "class UrlTemplate:\n",
      "    def __init__(self, template):\n",
      "        self.template = template\n",
      "    \n",
      "    def open(self, **kwargs):\n",
      "        return urlopen(self.template.format_map(kwargs))"
     ],
     "language": "python",
     "metadata": {},
     "outputs": [],
     "prompt_number": 31
    },
    {
     "cell_type": "code",
     "collapsed": false,
     "input": [
      "# \uc0ac\uc6a9\ubc95. \uc57c\ud6c4\uc5d0\uc11c \uc8fc\uc2dd \ub370\uc774\ud130\ub97c \ubc1b\ub294\ub2e4.\n",
      "yahoo = UrlTemplate('http://finance.yahoo.com/d/quotes.csv?s={names}&f={fields}')\n",
      "for line in yahoo.open(names='IBM,AAPL,FB', fields='sl1c1v'):\n",
      "    print(line.decode('utf-8'))"
     ],
     "language": "python",
     "metadata": {},
     "outputs": [
      {
       "output_type": "stream",
       "stream": "stdout",
       "text": [
        "\"IBM\",185.71,-3.33,2994065\r\n",
        "\n",
        "\"AAPL\",98.75,-0.87,42094184\r\n",
        "\n",
        "\"FB\",76.29,-1.265,25317488\r\n",
        "\n"
       ]
      }
     ],
     "prompt_number": 33
    },
    {
     "cell_type": "markdown",
     "metadata": {},
     "source": [
      "- \ud074\ub798\uc2a4\ub97c \ud6e8\uc52c \uac04\ub2e8\ud55c \ud568\uc218\ub85c \uce58\ud658\ud560 \uc218 \uc788\uc74c"
     ]
    },
    {
     "cell_type": "code",
     "collapsed": false,
     "input": [
      "def urltemplate(template):\n",
      "    def opener(**kwargs):\n",
      "        return urlopen(template.format_map(kwargs))\n",
      "    return opener"
     ],
     "language": "python",
     "metadata": {},
     "outputs": [],
     "prompt_number": 34
    },
    {
     "cell_type": "code",
     "collapsed": false,
     "input": [
      "# \uc0ac\uc6a9\ubc95\n",
      "yahoo = urltemplate('http://finance.yahoo.com/d/quotes.csv?s={names}&f={fields}')\n",
      "for line in yahoo(names='IBM,AAPL,FB', fields='sl1c1v'):\n",
      "    print(line.decode('utf-8'))"
     ],
     "language": "python",
     "metadata": {},
     "outputs": [
      {
       "output_type": "stream",
       "stream": "stdout",
       "text": [
        "\"IBM\",185.71,-3.33,2994065\r\n",
        "\n",
        "\"AAPL\",98.75,-0.87,42094184\r\n",
        "\n",
        "\"FB\",76.29,-1.265,25317488\r\n",
        "\n"
       ]
      }
     ],
     "prompt_number": 35
    },
    {
     "cell_type": "code",
     "collapsed": false,
     "input": [
      "template = 'http://finance.yahoo.com/d/quotes.csv?s={names}&f={fields}'"
     ],
     "language": "python",
     "metadata": {},
     "outputs": [],
     "prompt_number": 39
    },
    {
     "cell_type": "code",
     "collapsed": false,
     "input": [
      "# \uc0dd\uac01\uc5c6\uc774 \uadf8\ub0e5 \ub300\ucda9 \ub07c\uc6cc\ub123\uc73c\ub824\uace0 \ud558\uc9c0 \ub9d0\uc790\n",
      "# \uc0dd\uac01\uc744 \ud574\ubcf4\uba74 dictionary \uc77c\uac70\ub77c\uace0 \ucda9\ubd84\ud788 \uc608\uc0c1\ud560 \uc218 \uc788\uc796\uc544.\n",
      "# \uc65c \ud29c\ud50c \ud615\uc2dd, keyword \uc778\uc790 \ud615\uc2dd\uc73c\ub85c \uc0dd\uac01\ud588\uc9c0? \uc880 \ub354 \uace0\ubbfc\ud574 \ubcf4\uc790.\n",
      "template.format_map({'names': 'Guido', 'fields':'ok'})"
     ],
     "language": "python",
     "metadata": {},
     "outputs": [
      {
       "metadata": {},
       "output_type": "pyout",
       "prompt_number": 55,
       "text": [
        "'http://finance.yahoo.com/d/quotes.csv?s=Guido&f=ok'"
       ]
      }
     ],
     "prompt_number": 55
    },
    {
     "cell_type": "markdown",
     "metadata": {},
     "source": [
      "### \ud1a0\ub860\n",
      "\n",
      "- \ub300\uac1c\uc758 \uacbd\uc6b0 \uba54\uc18c\ub4dc\uac00 \ud558\ub098\ubfd0\uc778 \ud074\ub798\uc2a4\uac00 \ud544\uc694\ud560 \ub54c\ub294 \ucd94\uac00\uc801\uc778 \uc0c1\ud0dc\ub97c \uba54\uc18c\ub4dc\uc5d0 \uc800\uc7a5\ud560 \ub54c\ubfd0\uc774\ub2e4.\n",
      "- \uc608\ub97c \ub4e4\uc5b4 **UrlTemplate \ud074\ub798\uc2a4\uc758 \ubaa9\uc801**\uc740 open() \uba54\uc18c\ub4dc\uc5d0\uc11c \uc0ac\uc6a9\ud558\uae30 \uc704\ud574 **template \uac12\uc744 \uc800\uc7a5\ud574 \ub193\uc73c\ub824\ub294 \uac83\ubfd0**\n",
      "\n",
      "\n",
      "- \ub0b4\ubd80 \ud568\uc218\ub098 \ud074\ub85c\uc800\ub97c \uc0ac\uc6a9\ud558\uba74 \uc880 \ub354 \ubcf4\uae30 \uc88b\uac8c \ucf54\ub4dc\ub97c \uc791\uc131\ud560 \uc218 \uc788\uc74c\n",
      "- \ub2e8\uc21c\ud788 \uc0dd\uac01\ud574\uc11c \ud074\ub85c\uc800\ub294 \ud568\uc218\ub77c\uace0 \ub9d0\ud560 \uc218 \uc788\uc9c0\ub9cc \ud568\uc218 \ub0b4\ubd80\uc5d0\uc11c \uc0ac\uc6a9\ud558\ub294 \ubcc0\uc218\uc758 \ucd94\uac00\uc801\uc778 \ud658\uacbd\uc774 \uc788\ub2e4.\n",
      "- \ud074\ub85c\uc800\uc758 \uc8fc\uc694 \uae30\ub2a5\uc740 **\uc815\uc758\ud560 \ub54c\uc758 \ud658\uacbd\uc744 \uae30\uc5b5\ud55c\ub2e4**\ub294 \uac83\uc774\ub2e4. \ub530\ub77c\uc11c \uc55e\uc758 \uc608\uc81c\uc5d0\uc11c opener() \ud568\uc218\uac00 **template \uc778\uc790\uc758 \uac12\uc744 \uae30\uc5b5**\ud558\uace0 **\ucd94\ud6c4 \ud638\ucd9c\uc5d0 \uc0ac\uc6a9**\ud55c\ub2e4.\n",
      "- \ucf54\ub4dc\ub97c \uc791\uc131\ud558\ub2e4\uac00 **\ud568\uc218\uc5d0 \ucd94\uac00\uc801\uc778 \uc0c1\ud0dc\ub97c \ucca8\ubd80**\ud574\uc57c \ud558\ub294 \ubb38\uc81c\uac00 \ubc1c\uc0dd\ud558\uba74 \ud074\ub85c\uc800\ub97c \uace0\ub824\ud574 \ubcf4\uc790.\n",
      "- **\ud074\ub85c\uc800**\ub294 \ud074\ub798\uc2a4\ub97c \uc0ac\uc6a9\ud558\ub294 \uac83\ubcf4\ub2e4 **\ud6e8\uc52c \uc6b0\uc544**\ud558\uac8c \ubb38\uc81c\ub97c \ud574\uacb0\ud558\ub294 \uacbd\uc6b0\uac00 \ub9ce\ub2e4."
     ]
    },
    {
     "cell_type": "code",
     "collapsed": false,
     "input": [
      "class Url:\n",
      "    def __init__(self, template):\n",
      "        self.template = template\n",
      "        \n",
      "    def open(self, **kwargs):\n",
      "        return urlopen(template.format_map(kwargs))"
     ],
     "language": "python",
     "metadata": {},
     "outputs": [],
     "prompt_number": 64
    },
    {
     "cell_type": "code",
     "collapsed": false,
     "input": [
      "yahoo = Url('http://finance.yahoo.com/d/quotes.csv?s={names}&f={fields}')"
     ],
     "language": "python",
     "metadata": {},
     "outputs": [],
     "prompt_number": 65
    },
    {
     "cell_type": "code",
     "collapsed": false,
     "input": [
      "list(yahoo.open(names='ibm', fields='sl1c1v'))"
     ],
     "language": "python",
     "metadata": {},
     "outputs": [
      {
       "metadata": {},
       "output_type": "pyout",
       "prompt_number": 70,
       "text": [
        "[b'\"IBM\",185.71,-3.33,2994065\\r\\n']"
       ]
      }
     ],
     "prompt_number": 70
    },
    {
     "cell_type": "code",
     "collapsed": false,
     "input": [
      "for line in yahoo.open(names='IBM,AAPL,FB', fields='sl1c1v'):\n",
      "    print(line.decode('utf-8'), end='')"
     ],
     "language": "python",
     "metadata": {},
     "outputs": [
      {
       "output_type": "stream",
       "stream": "stdout",
       "text": [
        "\"IBM\",185.71,-3.33,2994065\r\n",
        "\"AAPL\",98.75,-0.87,42094184\r\n",
        "\"FB\",76.29,-1.265,25317488\r\n"
       ]
      }
     ],
     "prompt_number": 73
    },
    {
     "cell_type": "code",
     "collapsed": false,
     "input": [
      "def url2(template):\n",
      "    def inner(**kwargs):\n",
      "        return urlopen(template.format_map(kwargs))\n",
      "    return inner\n",
      "    \n",
      "def url3(template):\n",
      "    def inner(**kwargs):\n",
      "        return urlopen(template.format_map(kwargs))\n",
      "    return inner"
     ],
     "language": "python",
     "metadata": {},
     "outputs": [],
     "prompt_number": 84
    },
    {
     "cell_type": "code",
     "collapsed": false,
     "input": [
      "yahoo = url3('http://finance.yahoo.com/d/quotes.csv?s={names}&f={fields}')"
     ],
     "language": "python",
     "metadata": {},
     "outputs": [],
     "prompt_number": 85
    },
    {
     "cell_type": "code",
     "collapsed": false,
     "input": [
      "list(yahoo(names='IBM', fields='sl1c1v'))"
     ],
     "language": "python",
     "metadata": {},
     "outputs": [
      {
       "metadata": {},
       "output_type": "pyout",
       "prompt_number": 87,
       "text": [
        "[b'\"IBM\",185.71,-3.33,2994065\\r\\n']"
       ]
      }
     ],
     "prompt_number": 87
    },
    {
     "cell_type": "markdown",
     "metadata": {},
     "source": [
      "## 7.10 \ucf5c\ubc31 \ud568\uc218\uc5d0 \ucd94\uac00\uc801 \uc0c1\ud0dc \ub123\uae30\n",
      "\n",
      "### \ubb38\uc81c\n",
      "\n",
      "- \ucf5c\ubc31 \ud568\uc218\ub97c \uc0ac\uc6a9\ud558\ub294 \ucf54\ub4dc\ub97c \uc791\uc131 \uc911\uc774\ub2e4(\uc774\ubca4\ud2b8 \ud578\ub4e4\ub7ec, \uc644\ub8cc \ucf5c\ubc31 \ub4f1).\n",
      "- \uc774\ub54c \ucf5c\ubc31 \ud568\uc218\uc5d0 \ucd94\uac00 \uc0c1\ud0dc\ub97c \ub123\uace0 \ub0b4\ubd80 \ud638\ucd9c\uc5d0 \uc0ac\uc6a9\ud558\uace0 \uc2f6\ub2e4.\n",
      "\n",
      "### \ud574\uacb0\n",
      "\n",
      "- \uc774 \ub808\uc2dc\ud53c\ub294 **\ub9ce\uc740 \ub77c\uc774\ube0c\ub7ec\ub9ac**\uc640 **\ud504\ub808\uc784\uc6cc\ud06c**(\ud2b9\ud788 **\ube44\ub3d9\uae30 \ucc98\ub9ac**\uc5d0 \uad00\ub828\uc788\ub294)\uc5d0\uc11c \ucc3e\uc744 \uc218 \uc788\ub294 **\ucf5c\ubc31 \ud568\uc218\uc758 \ud65c\uc6a9**\uc744 \uc54c\uc544\ubcf8\ub2e4. \uc608\uc81c\ub97c \uc704\ud574 \ucf5c\ubc31 \ud568\uc218\ub97c \ud638\ucd9c\ud558\ub294 \ub2e4\uc74c \ud568\uc218\ub97c \uc815\uc758\ud55c\ub2e4."
     ]
    },
    {
     "cell_type": "code",
     "collapsed": false,
     "input": [
      "def apply_async(func, args, *, callback):\n",
      "    # \uacb0\uacfc \uacc4\uc0b0\n",
      "    result = func(*args)\n",
      "    # \uacb0\uacfc \uac12\uc73c\ub85c \ucf5c\ubc31 \ud568\uc218 \ud638\ucd9c\n",
      "    callback(result)"
     ],
     "language": "python",
     "metadata": {},
     "outputs": [],
     "prompt_number": 88
    },
    {
     "cell_type": "markdown",
     "metadata": {},
     "source": [
      "- \uc2e4\uc81c \uc560\ud50c\ub9ac\ucf00\uc774\uc158\uc774\ub77c\uba74 \uc774\ub7f0 \ucf54\ub4dc\uc5d0\uc11c\ub294 \uc4f0\ub808\ub4dc, \ud504\ub85c\uc138\uc2a4, \ud0c0\uc774\uba38 \ub4f1\uacfc \uad00\ub828\uc788\ub294 \uace0\uae09 \ub3d9\uc791\uc744 \uad6c\ud604\ud558\uaca0\uc9c0\ub9cc, \uc5ec\uae30\uc11c\ub294 \uadf8\ub7f0 \uac83\uc774 \uc911\uc694\ud558\uc9c0 \uc54a\uc73c\ubbc0\ub85c \uac74\ub108\ub6f0\uace0, **\ucf5c\ubc31 \ud638\ucd9c \uc790\uccb4**\uc5d0\ub9cc \uc9d1\uc911\ud55c\ub2e4."
     ]
    },
    {
     "cell_type": "code",
     "collapsed": false,
     "input": [
      "def print_result(result):\n",
      "    print('Got:', result)"
     ],
     "language": "python",
     "metadata": {},
     "outputs": [],
     "prompt_number": 89
    },
    {
     "cell_type": "code",
     "collapsed": false,
     "input": [
      "def add(x, y):\n",
      "    return x + y"
     ],
     "language": "python",
     "metadata": {},
     "outputs": [],
     "prompt_number": 90
    },
    {
     "cell_type": "code",
     "collapsed": false,
     "input": [
      "apply_async(add, (2, 3), callback=print_result)"
     ],
     "language": "python",
     "metadata": {},
     "outputs": [
      {
       "output_type": "stream",
       "stream": "stdout",
       "text": [
        "Got: 5\n"
       ]
      }
     ],
     "prompt_number": 91
    },
    {
     "cell_type": "code",
     "collapsed": false,
     "input": [
      "apply_async(add, ('hello', 'world'), callback=print_result)"
     ],
     "language": "python",
     "metadata": {},
     "outputs": [
      {
       "output_type": "stream",
       "stream": "stdout",
       "text": [
        "Got: helloworld\n"
       ]
      }
     ],
     "prompt_number": 92
    },
    {
     "cell_type": "markdown",
     "metadata": {},
     "source": [
      "- print_result() \ud568\uc218\ub294 \uacb0\uacfc\uac12\ub9cc \ud558\ub098\uc758 \uc778\uc790\ub85c \ubc1b\ub294\ub2e4. \ub2e4\ub978 \uc5b4\ub5a0\ud55c \uc815\ubcf4\ub3c4 \uc804\ub2ec\ubc1b\uc9c0 \uc54a\ub294\ub2e4.\n",
      "- \uc774\ub807\uac8c \ubd80\uc871\ud55c \uc815\ubcf4\ub85c \uc778\ud574 \ucf5c\ubc31 \ud568\uc218\uac00 \ub2e4\ub978 \ubcc0\uc218\ub098 \ud638\ub098\uacbd \ub4f1\uacfc \ud1b5\uc2e0\ud560 \ub54c \ubb38\uc81c\uac00 \ubc1c\uc0dd\ud558\uae30\ub3c4 \ud568\n",
      "- \ucf5c\ubc31 \ud568\uc218\uc5d0 \ucd94\uac00 \uc815\ubcf4\ub97c \ub123\ub294 \ud55c \uac00\uc9c0 \ubc29\ubc95\uc740 \ud558\ub098\uc758 \ud568\uc218 \ub300\uc2e0 bound-method\ub97c \uc0ac\uc6a9\ud558\ub294 \uac83\n",
      "- \uc608\ub97c \ub4e4\uc5b4 \uc774 \ud074\ub798\uc2a4\ub294 \uacb0\uacfc\uac12\uc744 \ubc1b\uc744 \ub54c\ub9c8\ub2e4 \ub298\uc5b4\ub098\ub294 \ub0b4\ubd80 \uc2dc\ud000\uc2a4 \uc22b\uc790\ub97c \uac00\uc9c0\uace0 \uc788\uc74c"
     ]
    },
    {
     "cell_type": "code",
     "collapsed": false,
     "input": [
      "class ResultHandler:\n",
      "    def __init__(self):\n",
      "        self.sequence = 0\n",
      "    def handler(self, result):\n",
      "        self.sequence += 1\n",
      "        print('[{}] Got: {}'.format(self.sequence, result))"
     ],
     "language": "python",
     "metadata": {},
     "outputs": [],
     "prompt_number": 93
    },
    {
     "cell_type": "code",
     "collapsed": false,
     "input": [
      "r = ResultHandler()"
     ],
     "language": "python",
     "metadata": {},
     "outputs": [],
     "prompt_number": 94
    },
    {
     "cell_type": "code",
     "collapsed": false,
     "input": [
      "apply_async(add, (2, 3), callback=r.handler)"
     ],
     "language": "python",
     "metadata": {},
     "outputs": [
      {
       "output_type": "stream",
       "stream": "stdout",
       "text": [
        "[1] Got: 5\n"
       ]
      }
     ],
     "prompt_number": 95
    },
    {
     "cell_type": "code",
     "collapsed": false,
     "input": [
      "apply_async(add, ('hello', 'world'), callback=r.handler)"
     ],
     "language": "python",
     "metadata": {},
     "outputs": [
      {
       "output_type": "stream",
       "stream": "stdout",
       "text": [
        "[2] Got: helloworld\n"
       ]
      }
     ],
     "prompt_number": 96
    },
    {
     "cell_type": "markdown",
     "metadata": {},
     "source": [
      "- \ud074\ub798\uc2a4\uc758 \ub300\uc548\uc73c\ub85c \ud074\ub85c\uc800\ub97c \uc0ac\uc6a9\ud574\uc11c \uc0c1\ud0dc\ub97c \uc800\uc7a5\ud574\ub3c4 \ub428"
     ]
    },
    {
     "cell_type": "code",
     "collapsed": false,
     "input": [
      "def make_handler():\n",
      "    sequence = 0\n",
      "    def handler(result):\n",
      "        nonlocal sequence\n",
      "        sequence += 1\n",
      "        print('[{}] Got: {}'.format(sequence, result))\n",
      "    return handler"
     ],
     "language": "python",
     "metadata": {},
     "outputs": [],
     "prompt_number": 100
    },
    {
     "cell_type": "markdown",
     "metadata": {},
     "source": [
      "- \uc774 \ubc29\ubc95\uc758 \uc608\uc81c\ub294 \ub2e4\uc74c"
     ]
    },
    {
     "cell_type": "code",
     "collapsed": false,
     "input": [
      "handler = make_handler()"
     ],
     "language": "python",
     "metadata": {},
     "outputs": [],
     "prompt_number": 101
    },
    {
     "cell_type": "code",
     "collapsed": false,
     "input": [
      "apply_async(add, (2, 3), callback=handler)"
     ],
     "language": "python",
     "metadata": {},
     "outputs": [
      {
       "output_type": "stream",
       "stream": "stdout",
       "text": [
        "[1] Got: 5\n"
       ]
      }
     ],
     "prompt_number": 102
    },
    {
     "cell_type": "code",
     "collapsed": false,
     "input": [
      "apply_async(add, ('hello', 'world'), callback=handler)"
     ],
     "language": "python",
     "metadata": {},
     "outputs": [
      {
       "output_type": "stream",
       "stream": "stdout",
       "text": [
        "[2] Got: helloworld\n"
       ]
      }
     ],
     "prompt_number": 103
    },
    {
     "cell_type": "markdown",
     "metadata": {},
     "source": [
      "- \uc774\ubc88 \ud14c\ub9c8\uc640\ub294 \ub2e4\ub974\uc9c0\ub9cc, coroutine \uc744 \uc0ac\uc6a9\ud560 \uc218\ub3c4 \uc788\uc74c"
     ]
    },
    {
     "cell_type": "code",
     "collapsed": false,
     "input": [
      "def make_handler():\n",
      "    sequence = 0\n",
      "    while True:\n",
      "        result = yield\n",
      "        sequence += 1\n",
      "        print('[{}] Got: {}'.format(sequence, result))"
     ],
     "language": "python",
     "metadata": {},
     "outputs": [],
     "prompt_number": 108
    },
    {
     "cell_type": "code",
     "collapsed": false,
     "input": [
      "handler = make_handler()"
     ],
     "language": "python",
     "metadata": {},
     "outputs": [],
     "prompt_number": 109
    },
    {
     "cell_type": "code",
     "collapsed": false,
     "input": [
      "next(handler)"
     ],
     "language": "python",
     "metadata": {},
     "outputs": [],
     "prompt_number": 110
    },
    {
     "cell_type": "code",
     "collapsed": false,
     "input": [
      "apply_async(add, (2, 3), callback=handler.send)"
     ],
     "language": "python",
     "metadata": {},
     "outputs": [
      {
       "output_type": "stream",
       "stream": "stdout",
       "text": [
        "[1] Got: 5\n"
       ]
      }
     ],
     "prompt_number": 111
    },
    {
     "cell_type": "code",
     "collapsed": false,
     "input": [
      "apply_async(add, ('hello', 'world'), callback=handler.send)"
     ],
     "language": "python",
     "metadata": {},
     "outputs": [
      {
       "output_type": "stream",
       "stream": "stdout",
       "text": [
        "[2] Got: helloworld\n"
       ]
      }
     ],
     "prompt_number": 112
    },
    {
     "cell_type": "markdown",
     "metadata": {},
     "source": [
      "- \ub9c8\uc9c0\ub9c9\uc73c\ub85c, \ucd94\uac00\uc801\uc778 \uc778\uc790\uc640 partial function \uc560\ud50c\ub9ac\ucf00\uc774\uc158\uc73c\ub85c \ucf5c\ubc31\uc5d0 \uc0c1\ud0dc\ub97c \ub123\uc744 \uc218 \uc788\uc74c"
     ]
    },
    {
     "cell_type": "code",
     "collapsed": false,
     "input": [
      "class SequenceNo:\n",
      "    def __init__(self):\n",
      "        self.sequence = 0"
     ],
     "language": "python",
     "metadata": {},
     "outputs": [],
     "prompt_number": 113
    },
    {
     "cell_type": "code",
     "collapsed": false,
     "input": [
      "def handler(result, seq):\n",
      "    seq.sequence += 1\n",
      "    print('[{}] Got: {}'.format(seq.sequence, result))"
     ],
     "language": "python",
     "metadata": {},
     "outputs": [],
     "prompt_number": 114
    },
    {
     "cell_type": "code",
     "collapsed": false,
     "input": [
      "seq = SequenceNo()"
     ],
     "language": "python",
     "metadata": {},
     "outputs": [],
     "prompt_number": 115
    },
    {
     "cell_type": "code",
     "collapsed": false,
     "input": [
      "from functools import partial"
     ],
     "language": "python",
     "metadata": {},
     "outputs": [],
     "prompt_number": 116
    },
    {
     "cell_type": "code",
     "collapsed": false,
     "input": [
      "apply_async(add, (2, 3), callback=partial(handler, seq=seq))"
     ],
     "language": "python",
     "metadata": {},
     "outputs": [
      {
       "output_type": "stream",
       "stream": "stdout",
       "text": [
        "[1] Got: 5\n"
       ]
      }
     ],
     "prompt_number": 117
    },
    {
     "cell_type": "code",
     "collapsed": false,
     "input": [
      "apply_async(add, ('hello', 'world'), callback=partial(handler, seq=seq))"
     ],
     "language": "python",
     "metadata": {},
     "outputs": [
      {
       "output_type": "stream",
       "stream": "stdout",
       "text": [
        "[2] Got: helloworld\n"
       ]
      }
     ],
     "prompt_number": 118
    },
    {
     "cell_type": "markdown",
     "metadata": {},
     "source": [
      "### \ud1a0\ub860\n",
      "\n",
      "- \ucf5c\ubc31 \ud568\uc218\ub97c \uc0ac\uc6a9\ud558\ub294 \ud504\ub85c\uadf8\ub7a8\uc740 \uc5c9\ub9dd\uc73c\ub85c \ub9dd\uac00\uc9c8 \uc704\ud5d8 \uc694\uc18c\ub97c \uc548\uace0 \uc788\uc74c\n",
      "- \ud55c\uac00\uc9c0 \ubb38\uc81c\uc810\uc740 \ucf5c\ubc31 \uc2e4\ud589\uc73c\ub85c \uc774\ub044\ub294 \ucd08\uae30 \uc694\uccad \ucf54\ub4dc\uc640 \ucf5c\ubc31 \ud568\uc218\uac00 \ub04a\uc5b4\uc9c4\ub2e4\ub294 \uc810\n",
      "- \uacb0\uacfc\uc801\uc73c\ub85c \uc694\uccad\uc744 \ud55c \uacf3\uacfc \ucc98\ub9ac\ud558\ub294 \uacf3\uc774 \uc11c\ub85c\ub97c \ucc3e\uc9c0 \ubabb\ud558\uac8c \ub428\n",
      "- \ucf5c\ubc31 \ud568\uc218\uac00 \uc5ec\ub7ec \ub2e8\uacc4\uc5d0 \uac78\uccd0 \uc2e4\ud589\uc744 \uacc4\uc18d\ud558\ub3c4\ub85d \ub9cc\ub4e4\uae30 \uc704\ud574\uc11c\ub294 \uc5b4\ub5bb\uac8c \uad00\ub828 \uc0c1\ud0dc\ub97c \uc800\uc7a5\ud558\uace0 \ubd88\ub7ec\uc62c\uc9c0 \uc815\ud574\uc57c \ud568\n",
      "\n",
      "\n",
      "- \uc0c1\ud0dc\ub97c \uace0\uc815 \uc2dc\ud0a4\uace0 \uc800\uc7a5\ud558\ub294 \ubc29\uc2dd\uc5d0\ub294 \ud06c\uac8c 2\uac00\uc9c0\n",
      "- \uc778\uc2a4\ud134\uc2a4\uc5d0 \uc0c1\ud0dc\ub97c \uc800\uc7a5\ud558\uac70\ub098(\uc544\ub9c8\ub3c4 \ubc14\uc6b4\uc2a4 \uba54\uc18c\ub4dc\ub85c \ucca8\ubd80\ub418\uc5c8\uc744 \uac83) \ud639\uc740 \ud074\ub85c\uc800\uc5d0 \uc800\uc7a5\ud55c\ub2e4(\ub0b4\ubd80 \ud568\uc218)\n",
      "- 2\uac00\uc9c0 \uae30\uc220 \uc911\uc5d0\uc11c\ub294 \ud568\uc218\uc5d0 \uae30\ubc18\ud574\uc11c \ub9cc\ub4dc\ub294 \ud074\ub85c\uc800\uac00 \uc870\uae08 \ub354 \uac00\ubccd\uace0 \uc790\uc5f0\uc2a4\ub7ec\uc6c0\n",
      "- \ud074\ub85c\uc800\ub294 \uc790\ub3d9\uc73c\ub85c \uc0ac\uc6a9\ud558\ub294 \ubcc0\uc218\ub97c \uace0\uc815\uc2dc\ud0a4\uae30 \ub54c\ubb38\uc5d0, \uc800\uc7a5\ud574\uc57c \ud558\ub294 \uc815\ud655\ud55c \uc0c1\ud0dc\ub97c \uac71\uc815\ud558\uc9c0 \uc54a\uc544\ub3c4 \ub428(\ucf54\ub4dc\uc5d0\uc11c \uc790\ub3d9\uc73c\ub85c \uacb0\uc815\ub428)\n",
      "- \ud074\ub85c\uc800\ub97c \uc0ac\uc6a9\ud558\uba74 \uc218\uc815 \uac00\ub2a5\ud55c \ubcc0\uc218\ub97c \uc870\uc2ec\ud574\uc11c \uc0ac\uc6a9\n",
      "- nonlocal \uc120\uc5b8\uc740 sequence \ubcc0\uc218\uac00 \ucf5c\ubc31 \ub0b4\ubd80\uc5d0\uc11c \uc218\uc815\ub428\uc744 \uac00\ub9ac\ud0b4\n",
      "- \uc774 \uc120\uc5b8\uc774 \uc5c6\uc73c\uba74 \uc5d0\ub7ec\uac00 \ubc1c\uc0dd\n",
      "- \ucf5c\ubc31 \ud578\ub4e4\ub7ec\ub85c \ucf54\ub8e8\ud2f4\uc744 \uc0ac\uc6a9\ud558\ub294 \uac83\uc740 \ud074\ub85c\uc800 \ubc29\uc2dd\uacfc \ubc00\uc811\ud55c \uad00\ub828\uc774 \uc788\uc74c\n",
      "- \ucf54\ub8e8\ud2f4\uc740 \ub2e8\uc21c\ud788 \ud558\ub098\uc758 \ud568\uc218\ub85c \uc774\ub8e8\uc5b4\uc838 \uc788\uae30 \ub54c\ubb38\uc5d0 \ub354 \uae54\ub054\ud558\ub2e4\uace0 \ubcfc \uc218 \uc788\uc74c\n",
      "- \uac8c\ub2e4\uac00 nonlocal \uc120\uc5b8 \uc5c6\uc774\ub3c4 \uc790\uc720\ub86d\uac8c \ubcc0\uc218\ub97c \uc218\uc815\ud560 \uc218 \uc788\uc74c\n",
      "- \ucf54\ub8e8\ud2f4\uc758 \uc7a0\uc7ac\uc801 \ub2e8\uc810\uc740 \ud30c\uc774\uc36c\uc758 \uae30\ub2a5\uc73c\ub85c \ubc1b\uc544\ub4e4\uc5ec\uc9c0\uc9c0 \uc54a\uc744 \ub54c\uac00 \uc788\ub2e4\ub294 \uac83\n",
      "- \ub610\ud55c \ucf54\ub8e8\ud2f4\uc744 \uc0ac\uc6a9\ud558\uae30 \uc804\uc5d0 next()\ub97c \ud638\ucd9c\ud574\uc57c \ud55c\ub2e4\ub294 \uc810\ub3c4 \uc788\uc74c. \uc774\ub97c \ub9dd\uac01\ud558\uae30 \uc27d\ub2e4.\n",
      "- \uadf8\ub807\uae30\ub294 \ud558\uc9c0\ub9cc, \uc778\ub77c\uc778 \ucf5c\ubc31\uc758 \uc815\uc758\uc640 \uac19\uc774 \ucf54\ub8e8\ud2f4\uc744 \uc0ac\uc6a9\ud558\uae30 \uc88b\uc740 \uacbd\uc6b0\ub3c4 \uc788\uc74c\n",
      "- partial() \uad00\ub828 \ub9c8\uc9c0\ub9c9 \uae30\uc220\uc740, \ud574\uc57c \ud558\ub294 \uc791\uc5c5\uc774 \ucd94\uac00\uc801\uc778 \uac12\uc744 \ucf5c\ubc31\uc5d0 \uc804\ub2ec\ud558\ub294 \uac83\ubfd0\uc77c \ub54c \uc720\uc6a9\n",
      "- partial()\uc744 \uc0ac\uc6a9\ud558\uc9c0 \uc54a\uc73c\uba74 \ub3d9\uc77c\ud55c \uc791\uc5c5\uc744 lambda\ub85c \ud574\uacb0"
     ]
    },
    {
     "cell_type": "code",
     "collapsed": false,
     "input": [
      "apply_async(add, (2, 3), callback=lambda r: handler(r, seq))"
     ],
     "language": "python",
     "metadata": {},
     "outputs": [
      {
       "output_type": "stream",
       "stream": "stdout",
       "text": [
        "[3] Got: 5\n"
       ]
      }
     ],
     "prompt_number": 119
    },
    {
     "cell_type": "markdown",
     "metadata": {},
     "source": [
      "- partial()\ub85c \ub9e4\uac1c\ubcc0\uc218\ub97c \ubc14\uafb8\ub294 \ub354 \ub9ce\uc740 \uc608\uc81c\ub294 \ub808\uc2dc\ud53c 7.8\uc5d0 \ub098\uc634"
     ]
    },
    {
     "cell_type": "markdown",
     "metadata": {},
     "source": [
      "## 7.11 \uc778\ub77c\uc778 \ucf5c\ubc31 \ud568\uc218\n",
      "\n",
      "### \ubb38\uc81c\n",
      "\n",
      "- \ucf5c\ubc31 \ud568\uc218\ub97c \uc0ac\uc6a9\ud558\ub294 \ucf54\ub4dc\ub97c \uc791\uc131\ud558\ub290\ub12b, \ud06c\uae30\uac00 \uc791\uc740 \ud568\uc218\ub97c \ub108\ubb34 \ub9ce\uc774 \ub9cc\ub4e4\uc5b4 \ub0bc\uae4c \uac71\uc815\uc774 \ub428\n",
      "- \ucf54\ub4dc\uac00 \uc880 \ub354 \uc815\uc0c1\uc801\uc778 \uc808\ucc28\uc801 \ub2e8\uacc4\ub97c \uac70\uce58\ub3c4\ub85d \ud558\uace0 \uc2f6\ub2e4.\n",
      "\n",
      "### \ud574\uacb0\n",
      "\n",
      "- generator\uc640 coroutine\uc744 \uc0ac\uc6a9\ud558\uba74 \ucf5c\ubc31 \ud568\uc218\ub97c \ud568\uc218 \ub0b4\ubd80\uc5d0 \ub123\uc744 \uc218 \uc788\uc74c\n",
      "- \uc608\ub97c \ub4e4\uc5b4 \uc5b4\ub5a4 \uc791\uc5c5\uc744 \ud558\uace0 \ucf5c\ubc31\uc744 \ud638\ucd9c\ud558\ub294 \ub2e4\uc74c \ucf54\ub4dc\ub97c \ubcf4\uc790(\ub808\uc2dc\ud53c 7.10)"
     ]
    },
    {
     "cell_type": "code",
     "collapsed": false,
     "input": [
      "def apply_async(func, args, *, callback):\n",
      "    # \uacb0\uacfc \uacc4\uc0b0\n",
      "    result = func(*args)\n",
      "    \n",
      "    # \uacb0\uacfc\uac12\uc73c\ub85c \ucf5c\ubc31 \ud568\uc218 \ud638\ucd9c\n",
      "    callback(result)"
     ],
     "language": "python",
     "metadata": {},
     "outputs": [],
     "prompt_number": 120
    },
    {
     "cell_type": "markdown",
     "metadata": {},
     "source": [
      "- \uc774\uc81c Async \ud074\ub798\uc2a4\uc640 inlined_async \ub370\ucf54\ub808\uc774\ud130\ub97c \ud3ec\ud568\ud558\uace0 \uc788\ub294 \uc9c0\uc6d0 \ucf54\ub4dc\ub97c \ubcf4\uc790"
     ]
    },
    {
     "cell_type": "code",
     "collapsed": false,
     "input": [
      "from queue import Queue\n",
      "from functools import wraps"
     ],
     "language": "python",
     "metadata": {},
     "outputs": [],
     "prompt_number": 121
    },
    {
     "cell_type": "code",
     "collapsed": false,
     "input": [
      "class Async:\n",
      "    def __init__(self, func, args):\n",
      "        self.func = func\n",
      "        self.args = args\n",
      "        \n",
      "def inlined_async(func):\n",
      "    @wraps(func)\n",
      "    def wrapper(*args):\n",
      "        f = func(*args)\n",
      "        result_queue = Queue()\n",
      "        result_queue.put(None)\n",
      "        while True:\n",
      "            result = result_queue.get()\n",
      "            try:\n",
      "                a = f.send(result)\n",
      "                apply_async(a.func, a.args, callback=result_queue.put)\n",
      "            except StopIteration:\n",
      "                break\n",
      "    # return wrapper\ub9cc \ud558\uae30 \ub54c\ubb38\uc5d0 ()\ub97c \uc5f0 \ud6c4\uc5d0 \uc778\uc790\uac12\uc744 \ub123\uc5b4\uc8fc\uba74 wrapper\uc758 \uc778\uc790\ub85c\n",
      "    # \uc804\ub2ec\ub428..\n",
      "    # \uadf8\ub807\uac8c \ud574\uc11c closure \ud568\uc218\uac00 \uc778\uc790\ub97c \ubc1b\uc73c \uc218 \uc788\uac8c \ub418\ub294 \uac70\ub2e4!!!\n",
      "    return wrapper"
     ],
     "language": "python",
     "metadata": {},
     "outputs": [],
     "prompt_number": 125
    },
    {
     "cell_type": "markdown",
     "metadata": {},
     "source": [
      "#### closure \ud568\uc218\uac00 \uc778\uc790\ub97c \ubc1b\ub294 \ubc29\ubc95"
     ]
    },
    {
     "cell_type": "markdown",
     "metadata": {},
     "source": [
      "- 2\uac1c\uc758 \ucf54\ub4dc \uc870\uac01\uc774 \uc788\uc73c\uba74 yield \uad6c\ubb38\uc73c\ub85c \ucf5c\ubc31 \ub2e8\uacc4\ub97c inline \ud560 \uc218 \uc788\ub2e4."
     ]
    },
    {
     "cell_type": "code",
     "collapsed": false,
     "input": [
      "def add(x, y):\n",
      "    return x + y"
     ],
     "language": "python",
     "metadata": {},
     "outputs": [],
     "prompt_number": 126
    },
    {
     "cell_type": "code",
     "collapsed": false,
     "input": [
      "@inlined_async\n",
      "def test():\n",
      "    r = yield Async(add, (2, 3))\n",
      "    print(r)\n",
      "    r = yield Async(add, ('hello', 'world'))\n",
      "    print(r)\n",
      "    for n in range(10):\n",
      "        r = yield Async(add, (n, n))\n",
      "        print(r)\n",
      "    print('Goodbye')"
     ],
     "language": "python",
     "metadata": {},
     "outputs": [],
     "prompt_number": 127
    },
    {
     "cell_type": "code",
     "collapsed": false,
     "input": [
      "test()"
     ],
     "language": "python",
     "metadata": {},
     "outputs": [
      {
       "output_type": "stream",
       "stream": "stdout",
       "text": [
        "5\n",
        "helloworld\n",
        "0\n",
        "2\n",
        "4\n",
        "6\n",
        "8\n",
        "10\n",
        "12\n",
        "14\n",
        "16\n",
        "18\n",
        "Goodbye\n"
       ]
      }
     ],
     "prompt_number": 128
    },
    {
     "cell_type": "markdown",
     "metadata": {},
     "source": [
      "- \ud2b9\ubcc4 \ub370\ucf54\ub808\uc774\ud130\uc640 yield\ub97c \uc81c\uc678\ud558\uace0\ub294 \uc544\ubb34\ub7f0 \ucf5c\ubc31 \ud568\uc218\uac00 \ub098\ud0c0\ub098\uc9c0 \uc54a\uc558\uc74c\uc744 \ud655\uc778\ud560 \uc218 \uc788\ub2e4."
     ]
    },
    {
     "cell_type": "markdown",
     "metadata": {},
     "source": [
      "### \ud1a0\ub860\n",
      "\n",
      "- \uc774\ubc88 \ub808\uc2dc\ud53c\ub97c \ud1b5\ud574 \ucf5c\ubc31 \ud568\uc218, \uc81c\ub108\ub808\uc774\ud130, \ucee8\ud2b8\ub864 \ud50c\ub85c\uc6b0\ub97c \uc5bc\ub9c8\ub098 \uc798 \uc774\ud574\ud558\uace0 \uc788\ub294\uc9c0 \uc54c \uc218 \uc788\uc74c\n",
      "- \uccab\uc9f8\ub85c, \ucf5c\ubc31\uacfc \uad00\ub828\uc788\ub294 \ucf54\ub4dc\uc5d0\uc11c \ud604\uc7ac \uc5f0\uc0b0\uc774 \ubaa8\ub450 \uc5f0\uae30\ub418\uace0 \ud2b9\uc815 \ud3ec\uc778\ud2b8\uc5d0\uc11c \uc7ac\uc2dc\uc791\ud55c\ub2e4\ub294 \uc810(\uc608: \ube44\ub3d9\uae30\uc2dd)\uc774 \ud3ec\uc778\ud2b8\n",
      "- \uc5f0\uc0b0\uc774 \uc7ac\uc2dc\uc791\ud558\uba74 \ud504\ub85c\uc138\uc2f1\uc744 \uc704\ud574 \ucf5c\ubc31\uc774 \uc2e4\ud589\ub41c\ub2e4.\n",
      "- apply_async() \ud568\uc218\ub294 \ucf5c\ubc31 \uc2e4\ud589\uc758 \ud544\uc218 \ubd80\uc704\ub97c \ubcf4\uc5ec\uc8fc\ub294\ub370, \uc0ac\uc2e4 \uc2e4\uc81c \ud504\ub85c\uadf8\ub7a8\uc5d0\uc11c\ub294 \uc2a4\ub808\ub4dc, \ud504\ub85c\uc138\uc2a4, \uc774\ubca4\ud2b8 \ud578\ub4e4\ub7ec \ub4f1\uc774 \uc5f0\uad00\ub418\uba74\uc11c \ud6e8\uc52c \ubcf5\uc7a1\n",
      "- \ud504\ub85c\uadf8\ub7a8 \uc2e4\ud589\uc774 \uc5f0\uae30\ub418\uace0 \uc7ac\uc2dc\uc791\ud558\ub294 \ubc1c\uc0c1\uc740 \uc790\uc5f0\uc2a4\ub7fd\uac8c \uc81c\ub108\ub808\uc774\ud130 \ud568\uc218\uc758 \uc2e4\ud589 \ubaa8\ub378\uacfc \ub9e4\ud551\ub428\n",
      "- \ud2b9\ud788 yield \uc5f0\uc0b0\uc740 \uc81c\ub108\ub808\uc774\ud130 \ud568\uc218\uac00 \uac12\uc744 \ubd84\ucd9c\ud558\uace0 \uc5f0\uae30\ud558\ub3c4\ub85d \ud568\n",
      "- \ub4a4\uc774\uc5b4 \\_\\_next\\_\\_()\ub098 send() \uba54\uc18c\ub4dc\ub97c \ud638\ucd9c\ud558\uba74\uc11c \ub2e4\uc2dc \uc2e4\ud589\ub428\n",
      "\n",
      "\n",
      "- \uc774 \ubd80\ubd84\uc744 \uba85\uc2ec\ud558\uace0, \uc774\ubc88 \ub808\uc2dc\ud53c\uc758 \ud575\uc2ec\uc740 inline_async() \ub370\ucf54\ub808\uc774\ud130 \ud568\uc218\uc5d0 \uc788\uc74c\n",
      "- \ud0a4\ud3ec\uc778\ud2b8\ub294 \ub370\ucf54\ub808\uc774\ud130\uac00 yield \uad6c\ubb38\uc744 \ud1b5\ud574 \uc81c\ub108\ub808\uc774\ud130 \ud568\uc218\ub97c \ud558\ub098\uc529 \ub3c8\ub2e4\ub294 \uac83\n",
      "- \uc774\ub97c \uc704\ud574 \uaca8\ub85c\uac00 \ud050\ub97c \ub9cc\ub4e4\uace0 \ucd5c\uc18c\ub85c None\uc744 \ub123\ub294\ub2e4.\n",
      "- \uadf8\ub9ac\uace0 \uc21c\ud658\ubb38\uc744 \ub3cc\uba70 \uacb0\uacfc\ub97c \ud050\uc5d0\uc11c \uaebc\ub0b4 \uc81c\ub108\ub808\uc774\ud130\ub85c \ubcf4\ub0b8\ub2e4.\n",
      "- \uc5ec\uae30\uc11c \ub2e4\uc74c \uc0dd\uc131\uc73c\ub85c \ub118\uc5b4\uac00\uace0 Async \uc778\uc2a4\ud134\uc2a4\ub97c \ubc1b\ub294\ub2e4.\n",
      "- \uc21c\ud658\ubb38\uc740 \ud568\uc218\uc640 \uc778\uc790\ub97c \ubcf4\uace0 \ube44\ub3d9\uae30 \uacc4\uc0b0\uc778 apply_async()\ub97c \uc2dc\uc791\ud568\n",
      "- \ud558\uc9c0\ub9cc \uc5ec\uae30\uc11c \uac00\uc7a5 \uc8fc\uc758\ud574\uc57c \ud560 \ubd80\ubd84\uc740 \uc774 \ub3d9\uc791\uc774 \uc77c\ubc18\uc801\uc778 \ucf5c\ubc31 \ud568\uc218\ub97c \uc0ac\uc6a9\ud574\uc11c \uc774\ub8e8\uc5b4\uc9c4 \uac83\uc774 \uc544\ub2c8\ub77c, \ucf5c\ubc31\uc774 \ud050 put() \uba54\uc18c\ub4dc\uc5d0 \uc124\uc815\ub418\uc5c8\ub2e4\ub294 \uac83\n",
      "\n",
      "\n",
      "- \uc774\uc81c \uc815\ud655\ud788 \uc5b4\ub5a4 \uc77c\uc774 \ubc8c\uc5b4\uc84c\ub294\uc9c0\ub294 \uc5b4\ub290 \uc815\ub3c4 \uc5f4\ub9b0 \uc0c1\ud0dc\uc774\ub2e4.\n",
      "- \uba54\uc778 \ub8e8\ud504\ub294 \uc989\uc2dc \ucd5c\uc0c1\ub2e8\uc73c\ub85c \ub3cc\uc544\uac00\uace0 \ud050\uc758 get()\uc744 \uc2e4\ud589\ud568\n",
      "- \ub370\uc774\ud130\uac00 \uc788\uc73c\uba74 put() \ucf5c\ubc31\uc774 \ub123\uc740 \uacb0\uacfc\uc77c \uac83\n",
      "- \uc544\ubb34\uac83\ub3c4 \uc5c6\ub2e4\uba74 \uc5f0\uc0b0\uc774 \uba48\ucd94\uc5c8\uace0, \uacb0\uacfc\uac12\uc774 \ub3c4\ucc29\ud558\uae38 \uae30\ub2e4\ub9ac\uace0 \uc788\ub294 \uac83\n",
      "- \uc2e4\ud589 \uacb0\uacfc\ub294 apply_async() \ud568\uc218\uc758 \uc815\ud655\ud55c \uad6c\ud604\uc5d0 \ub530\ub77c \ub2ec\ub77c\uc9d0\n",
      "- \uc815\ub9d0 \uc774 \ucf54\ub4dc\uac00 \uc798 \ub3d9\uc791\ud560\uc9c0 \uc758\ubb38\uc774 \ub4e0\ub2e4\uba74, \uba40\ud2f0\ud504\ub85c\uc138\uc2f1 \ub77c\uc774\ube0c\ub7ec\ub9ac\uc640 \ube44\ub3c4\uc775 \uc5f0\uc0b0\uc744 \uc0ac\uc6a9\ud574 \uc5ec\ub7ec \ud504\ub85c\uc138\uc2a4\uc5d0\uc11c \uc2e4\ud589\ud574 \ubcf4\uba74 \ub428"
     ]
    },
    {
     "cell_type": "code",
     "collapsed": false,
     "input": [
      "if __name__ == '__main__':\n",
      "    import multiprocessing\n",
      "    pool = multiprocessing.Pool()\n",
      "    apply_async = pool.apply_async\n",
      "    \n",
      "    # \ud14c\uc2a4\ud2b8 \ud568\uc218 \uc2e4\ud589\n",
      "    test()"
     ],
     "language": "python",
     "metadata": {},
     "outputs": [
      {
       "output_type": "stream",
       "stream": "stdout",
       "text": [
        "5\n",
        "helloworld\n",
        "0\n",
        "2\n",
        "4\n",
        "6\n",
        "8\n",
        "10\n",
        "12\n",
        "14\n",
        "16\n",
        "18\n",
        "Goodbye\n"
       ]
      }
     ],
     "prompt_number": 129
    },
    {
     "cell_type": "markdown",
     "metadata": {},
     "source": [
      "- \uacb0\uad6d \ub3d9\uc791\ud558\ub294 \uac83\uc744 \ud655\uc778\ud588\ub294\ub370, control flow\uac00 \uc5b4\ub5bb\uac8c \ub418\ub294\uc9c0 \uc774\ud574\uac00 \uc798 \ub418\uc9c0 \uc54a\ub294\ub2e4\uba74 \uc870\uae08 \ub354 \uace0\ubbfc\uc758 \uc2dc\uac04\uc744 \uac00\uc838\uc57c \ud55c\ub2e4.\n",
      "- **\ubcf5\uc7a1\ud55c \ucee8\ud2b8\ub864 \ud50c\ub85c\uc6b0**\ub97c **\uc81c\ub108\ub808\uc774\ud130 \ud568\uc218\uc5d0 \uc228\uae30\ub294 \uac83**\uc740 \ud45c\uc900 \ub77c\uc774\ube0c\ub7ec\ub9ac\uc640 \uc11c\ub4dc\ud30c\ud2f0 \ud328\ud0a4\uc9c0\uc5d0\uc11c \uc27d\uac8c \ucc3e\uc744 \uc218 \uc788\uc74c\n",
      "- \uc608\ub97c \ub4e4\uc5b4 **contextlib\uc758 @contextmanager \ub370\ucf54\ub808\uc774\ud130**\ub294 **yield \uad6c\ubb38\uc744 \ud1b5\ud574 \uc2dc\uc791\uc810\uacfc \uc885\ub8cc\uc810\uc744 \ud558\ub098\ub85c \ud569\uce58\ub294 \ud2b8\ub9ad\uc744 \uc218\ud589**\n",
      "- \uc720\uba85\ud55c \ud328\ud0a4\uc9c0\uc778 Twisted package \uc5d0\ub3c4 \uc720\uc0ac\ud55c \ucf5c\ubc31\uc774 \ud3ec\ud568\ub418\uc5b4 \uc788\uc74c"
     ]
    },
    {
     "cell_type": "markdown",
     "metadata": {},
     "source": [
      "## 7.12 \ud074\ub85c\uc800 \ub0b4\ubd80\uc5d0\uc11c \uc815\uc758\ud55c \ubcc0\uc218\uc5d0 \uc811\uadfc\n",
      "\n",
      "### \ubb38\uc81c\n",
      "\n",
      "- \ud074\ub85c\uc800\ub294 \ud655\uc7a5\ud574\uc11c \ub0b4\ubd80 \ubcc0\uc218\uc5d0 \uc811\uadfc\ud558\uace0 \uc218\uc815\ud558\uace0 \uc2f6\ub2e4.\n",
      "\n",
      "### \ud574\uacb0\n",
      "\n",
      "- \uc77c\ubc18\uc801\uc73c\ub85c \ud074\ub85c\uc800 \ub0b4\ubd80 \ubcc0\uc218\ub294 \uc678\ubd80\uc640 \uc644\uc804\ud788 \ub2e8\uc808\ub418\uc5b4 \uc788\uc74c\n",
      "- \ud558\uc9c0\ub9cc \uc811\uadfc \ud568\uc218\ub97c \ub9cc\ub4e4\uace0 \ud074\ub85c\uc800\uc5d0 \ud568\uc218 \uc18d\uc131\uc73c\ub85c \ubd99\uc774\uba74 \ub0b4\ubd80 \ubcc0\uc218\uc5d0 \uc811\uadfc \uac00\ub2a5"
     ]
    },
    {
     "cell_type": "code",
     "collapsed": false,
     "input": [
      "def sample():\n",
      "    n = 0\n",
      "    # \ud074\ub85c\uc800 \ud568\uc218\n",
      "    def func():\n",
      "        print('n=', n)\n",
      "        \n",
      "    # n\uc5d0 \ub300\ud55c \uc811\uadfc \uba54\uc18c\ub4dc\n",
      "    def get_n():\n",
      "        return n\n",
      "\n",
      "    def set_n(value):\n",
      "        nonlocal n\n",
      "        n = value\n",
      "\n",
      "    # \ud568\uc218 \uc18d\uc131\uc73c\ub85c \ud074\ub85c\uc800\uc5d0 \ubd99\uc784\n",
      "    func.get_n = get_n\n",
      "    func.set_n = set_n\n",
      "    return func"
     ],
     "language": "python",
     "metadata": {},
     "outputs": [],
     "prompt_number": 148
    },
    {
     "cell_type": "code",
     "collapsed": false,
     "input": [
      "f = sample()"
     ],
     "language": "python",
     "metadata": {},
     "outputs": [],
     "prompt_number": 149
    },
    {
     "cell_type": "code",
     "collapsed": false,
     "input": [
      "f()"
     ],
     "language": "python",
     "metadata": {},
     "outputs": [
      {
       "output_type": "stream",
       "stream": "stdout",
       "text": [
        "n= 0\n"
       ]
      }
     ],
     "prompt_number": 150
    },
    {
     "cell_type": "code",
     "collapsed": false,
     "input": [
      "f.set_n(10)"
     ],
     "language": "python",
     "metadata": {},
     "outputs": [],
     "prompt_number": 151
    },
    {
     "cell_type": "code",
     "collapsed": false,
     "input": [
      "f()"
     ],
     "language": "python",
     "metadata": {},
     "outputs": [
      {
       "output_type": "stream",
       "stream": "stdout",
       "text": [
        "n= 10\n"
       ]
      }
     ],
     "prompt_number": 152
    },
    {
     "cell_type": "code",
     "collapsed": false,
     "input": [
      "f.get_n()"
     ],
     "language": "python",
     "metadata": {},
     "outputs": [
      {
       "metadata": {},
       "output_type": "pyout",
       "prompt_number": 153,
       "text": [
        "10"
       ]
      }
     ],
     "prompt_number": 153
    },
    {
     "cell_type": "code",
     "collapsed": false,
     "input": [
      "f()"
     ],
     "language": "python",
     "metadata": {},
     "outputs": [
      {
       "output_type": "stream",
       "stream": "stdout",
       "text": [
        "n= 10\n"
       ]
      }
     ],
     "prompt_number": 154
    },
    {
     "cell_type": "markdown",
     "metadata": {},
     "source": [
      "### \ud1a0\ub860\n",
      "\n",
      "- \uc774\ubc88 \ub808\uc2dc\ud53c\ub97c \uc774\ub8e8\ub294 2\uac00\uc9c0 \uc8fc\uc694 \uae30\ub2a5\n",
      "- \uccab\ubc88\uc9f8\ub294 nonlocal \uc120\uc5b8\uc73c\ub85c \ub0b4\ubd80 \ubcc0\uc218\ub97c \uc218\uc815\ud558\ub294 \ud568\uc218\ub97c \uc791\uc131\ud558\ub294 \uac83\n",
      "- \ub450\ubc88\uc9f8\ub294 \uc811\uadfc \uba54\uc18c\ub4dc\ub97c \ud074\ub85c\uc800 \ud568\uc218\uc5d0 \ubd99\uc5ec \ub9c8\uce58 \uc778\uc2a4\ud134\uc2a4 \uba54\uc18c\ub4dc\uc778 \uac83\ucc98\ub7fc \ub3d9\uc791\ud558\ub294 \uac83(\ud074\ub798\uc2a4\uc640\ub294 \uc544\ubb34\ub7f0 \uc5f0\uad00\uc774 \uc5c6\ub2e4)\n",
      "- \uc774\ubc88 \ub808\uc2dc\ud53c\ub97c \uc870\uae08 \ud655\uc7a5\ud574\uc11c \ud074\ub85c\uc800\ub294 \ub9c8\uce58 \ud074\ub798\uc2a4\uc758 \uc778\uc2a4\ud134\uc2a4\uc778 \uac83\ucc98\ub7fc \ub3d9\uc791\ud558\uac8c \ub9cc\ub4e4 \uc218 \uc788\uc74c\n",
      "- \ub0b4\ubd80 \ud568\uc218\ub97c \uc778\uc2a4\ud134\uc2a4 \ub515\uc154\ub108\ub9ac\uc5d0 \ubcf5\uc0ac\ud558\uace0 \ubc18\ud658\ud558\uae30\ub9cc \ud558\uba74 \ub428"
     ]
    },
    {
     "cell_type": "code",
     "collapsed": false,
     "input": [
      "import sys\n",
      "\n",
      "class ClosureInstance:\n",
      "    def __init__(self, locals=None):\n",
      "        if locals is None:\n",
      "            locals = sys._getframe(1).f_locals\n",
      "            \n",
      "        # \uc778\uc2a4\ud134\uc2a4 \ub515\uc154\ub108\ub9ac\ub97c \ud638\ucd9c\uccb4\ub85c \uac31\uc2e0\n",
      "        self.__dict__.update((key, value) for key, value in locals.items()\n",
      "                             if callable(value))\n",
      "        \n",
      "    # \ud2b9\ubcc4 \uba54\uc18c\ub4dc \ub9ac\ub2e4\uc774\ub809\ud2b8(redirect)\n",
      "    def __len__(self):\n",
      "        return self.__dict__['__len__']()\n",
      "    \n",
      "# \uc0ac\uc6a9 \uc608\uc81c\n",
      "def Stack():\n",
      "    items = []\n",
      "    \n",
      "    def push(item):\n",
      "        items.append(item)\n",
      "        \n",
      "    def pop():\n",
      "        return items.pop()\n",
      "    \n",
      "    def __len__():\n",
      "        return len(items)\n",
      "    \n",
      "    return ClosureInstance()"
     ],
     "language": "python",
     "metadata": {},
     "outputs": [],
     "prompt_number": 156
    },
    {
     "cell_type": "code",
     "collapsed": false,
     "input": [
      "s = Stack()"
     ],
     "language": "python",
     "metadata": {},
     "outputs": [],
     "prompt_number": 157
    },
    {
     "cell_type": "code",
     "collapsed": false,
     "input": [
      "s"
     ],
     "language": "python",
     "metadata": {},
     "outputs": [
      {
       "metadata": {},
       "output_type": "pyout",
       "prompt_number": 158,
       "text": [
        "<__main__.ClosureInstance at 0x108314748>"
       ]
      }
     ],
     "prompt_number": 158
    },
    {
     "cell_type": "code",
     "collapsed": false,
     "input": [
      "s.push(10)"
     ],
     "language": "python",
     "metadata": {},
     "outputs": [],
     "prompt_number": 159
    },
    {
     "cell_type": "code",
     "collapsed": false,
     "input": [
      "s.push(20)"
     ],
     "language": "python",
     "metadata": {},
     "outputs": [],
     "prompt_number": 160
    },
    {
     "cell_type": "code",
     "collapsed": false,
     "input": [
      "s.push('Hello')"
     ],
     "language": "python",
     "metadata": {},
     "outputs": [],
     "prompt_number": 161
    },
    {
     "cell_type": "code",
     "collapsed": false,
     "input": [
      "len(s)"
     ],
     "language": "python",
     "metadata": {},
     "outputs": [
      {
       "metadata": {},
       "output_type": "pyout",
       "prompt_number": 162,
       "text": [
        "3"
       ]
      }
     ],
     "prompt_number": 162
    },
    {
     "cell_type": "code",
     "collapsed": false,
     "input": [
      "s.pop()"
     ],
     "language": "python",
     "metadata": {},
     "outputs": [
      {
       "metadata": {},
       "output_type": "pyout",
       "prompt_number": 163,
       "text": [
        "'Hello'"
       ]
      }
     ],
     "prompt_number": 163
    },
    {
     "cell_type": "code",
     "collapsed": false,
     "input": [
      "s.pop()"
     ],
     "language": "python",
     "metadata": {},
     "outputs": [
      {
       "metadata": {},
       "output_type": "pyout",
       "prompt_number": 164,
       "text": [
        "20"
       ]
      }
     ],
     "prompt_number": 164
    },
    {
     "cell_type": "code",
     "collapsed": false,
     "input": [
      "s.pop()"
     ],
     "language": "python",
     "metadata": {},
     "outputs": [
      {
       "metadata": {},
       "output_type": "pyout",
       "prompt_number": 165,
       "text": [
        "10"
       ]
      }
     ],
     "prompt_number": 165
    },
    {
     "cell_type": "markdown",
     "metadata": {},
     "source": [
      "- \ud765\ubbf8\ub86d\uac8c\ub3c4 \uc774 \ucf54\ub4dc\ub294 \uc77c\ubc18 \ud074\ub798\uc2a4 \uc815\uc758\ubcf4\ub2e4 \uc2e4\ud589 \uc18d\ub3c4\uac00 \ub354 \ube60\ub984\n",
      "- \uc774 \ud074\ub798\uc2a4\uc640 \uc18d\ub3c4\ub97c \ube44\uad50\ud574 \ubcfc \uc218 \uc788\uc74c"
     ]
    },
    {
     "cell_type": "code",
     "collapsed": false,
     "input": [
      "class Stack2:\n",
      "    def __init__(self):\n",
      "        self.items = []\n",
      "        \n",
      "    def push(self, item):\n",
      "        self.items.append(item)\n",
      "        \n",
      "    def pop(self):\n",
      "        return self.items.pop()\n",
      "    \n",
      "    def __len__(self):\n",
      "        return len(self.items)"
     ],
     "language": "python",
     "metadata": {},
     "outputs": [],
     "prompt_number": 166
    },
    {
     "cell_type": "code",
     "collapsed": false,
     "input": [
      "from timeit import timeit"
     ],
     "language": "python",
     "metadata": {},
     "outputs": [],
     "prompt_number": 167
    },
    {
     "cell_type": "code",
     "collapsed": false,
     "input": [
      "# \ud074\ub85c\uc800\n",
      "s = Stack()"
     ],
     "language": "python",
     "metadata": {},
     "outputs": [],
     "prompt_number": 168
    },
    {
     "cell_type": "code",
     "collapsed": false,
     "input": [
      "timeit('s.push(1);s.pop()', 'from __main__ import s')"
     ],
     "language": "python",
     "metadata": {},
     "outputs": [
      {
       "metadata": {},
       "output_type": "pyout",
       "prompt_number": 169,
       "text": [
        "0.7697624979991815"
       ]
      }
     ],
     "prompt_number": 169
    },
    {
     "cell_type": "code",
     "collapsed": false,
     "input": [
      "# \ud074\ub798\uc2a4\n",
      "s = Stack2()"
     ],
     "language": "python",
     "metadata": {},
     "outputs": [],
     "prompt_number": 172
    },
    {
     "cell_type": "code",
     "collapsed": false,
     "input": [
      "timeit('s.push(1);s.pop()', 'from __main__ import s')"
     ],
     "language": "python",
     "metadata": {},
     "outputs": [
      {
       "metadata": {},
       "output_type": "pyout",
       "prompt_number": 173,
       "text": [
        "0.8331443809984194"
       ]
      }
     ],
     "prompt_number": 173
    },
    {
     "cell_type": "markdown",
     "metadata": {},
     "source": [
      "- \uc55e\uc5d0 \ub098\uc628\ub300\ub85c \ud074\ub85c\uc800\uc758 \uc2e4\ud589 \uc18d\ub3c4\uac00 \uc57d 8% \ub354 \ube60\ub974\ub2e4. \uc778\uc2a4\ud134\uc2a4 \ubcc0\uc218\uc5d0 \uc811\uadfc\ud558\ub294 \uc18d\ub3c4\uac00 \ube60\ub974\uae30 \ub54c\ubb38\uc5d0 \uc774\uc640 \uac19\uc740 \uacb0\uacfc\uac00 \ub098\uc634\n",
      "- \ucd94\uac00\uc801\uc778 self \ubcc0\uc218\ub97c \uc0ac\uc6a9\ud558\uc9c0 \uc54a\uc544\uc11c \ud074\ub85c\uc800\uc758 \uc2e4\ud589 \uc18d\ub3c4\uac00 \ub354 \ube60\ub984\n",
      "- Raymond Hettinger\ub294 \uc774\ubcf4\ub2e4 \ub354 \uadf9\ub2e8\uc801\uc778 \ubc1c\uc0c1\uc744 \ucc3d\uc548\n",
      "- \ud558\uc9c0\ub9cc \uc815\uc0c1\uc801\uc778 \ud074\ub798\uc2a4\ub97c \ub450\uace0 \uc774\ub7f0 \uc694\uc0c1\ud55c \ucf54\ub4dc\ub97c \uc2e4\uc81c \ud504\ub85c\uadf8\ub798\ubc0d \uacfc\uc815\uc5d0 \uc0ac\uc6a9\ud560 \uc0ac\ub78c\uc774 \uc5bc\ub9c8\ub098 \ub420\uae4c?\n",
      "- \uc608\ub97c \ub4e4\uc5b4 \uc0c1\uc18d, \ud504\ub85c\ud37c\ud2f0, \ub514\uc2a4\ud06c\ub9bd\ud130, \ud074\ub798\uc2a4 \uba54\uc18c\ub4dc\uc640 \uac19\uc740 \uc8fc\uc694 \uae30\ub2a5\uc744 \uc0ac\uc6a9\ud560 \uc218\ub3c4 \uc5c6\ub2e4.\n",
      "- \ub610 \uba87\uba87 \ud2b9\ubcc4 \uba54\uc18c\ub4dc\ub97c \uc0ac\uc6a9\ud558\uae30 \uc704\ud574\uc11c \ube44\uc815\uc0c1\uc801\uc778 \ucf54\ub4dc\ub97c \uc791\uc131\ud560 \ud544\uc694\ub3c4 \uc0dd\uae34\ub2e4.(ClosureInstance\uc758 \\_\\_len\\_\\_() \uad6c\ud604 \ucc38\uace0)\n",
      "- \ub9c8\uc9c0\ub9c9\uc73c\ub85c, \ucf54\ub4dc\ub97c \uc77d\ub294 \ub2e4\ub978 \uc0ac\ub78c\ub4e4\uc774 \uc774 \uad34\uc0c1\ud55c \ud074\ub798\uc2a4\uac00 \ubb34\uc5c7\uc778\uc9c0 \ud63c\ub780\uc5d0 \ube60\uc9c8 \uc704\ud5d8\uc131\ub3c4 \uc788\ub2e4.(\uadf8\ub9ac\uace0 \ub3c4\ub300\uccb4 \uc65c \uc774 \ucf54\ub4dc\uac00 \ube60\ub978\uc9c0\ub3c4 \uad81\uae08\ud574 \ud560 \uac83)\n",
      "- \uadf8\ub807\uc9c0\ub9cc \ud074\ub85c\uc800\uc758 \ub0b4\ubd80\uc5d0 \uc811\uadfc\ud558\uae30 \uc704\ud574\uc11c \uc5b4\ub5a4 \uc791\uc5c5\uc744 \ud574\uc57c \ud558\ub294\uc9c0 \uc790\uccb4\uac00 \ud765\ubbf8\ub85c\uc6b4 \uc608\uc81c\n",
      "- \uc804\uccb4\uc801\uc73c\ub85c \ubcf4\uba74, \ub0b4\ubd80 \uc0c1\ud0dc \uc7ac\uc124\uc815, \ubc84\ud37c \ud50c\ub7ec\uc2dc, \uce90\uc2dc \uc0ad\uc81c, \ud53c\ub4dc\ubc31 \uba54\ucee4\ub2c8\uc998 \uc81c\uacf5 \ub4f1\uc758 \uc791\uc5c5\uc744 \ud558\uace0 \uc2f6\uc744\ub54c \ud074\ub85c\uc800\uc5d0 \uba54\uc18c\ub4dc\ub97c \ucd94\uac00\ud558\uba74 \ub354 \ub9ce\uc740 \uae30\ub2a5 \uc81c\uacf5"
     ]
    }
   ],
   "metadata": {}
  }
 ]
}
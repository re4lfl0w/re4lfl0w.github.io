{
 "metadata": {
  "name": "",
  "signature": "sha256:c2accb7a6c954985110418a94201adaf5362587240727067a6aa317cd1c55ef9"
 },
 "nbformat": 3,
 "nbformat_minor": 0,
 "worksheets": [
  {
   "cells": [
    {
     "cell_type": "markdown",
     "metadata": {},
     "source": [
      "# 6. \ub370\uc774\ud130 \uc778\ucf54\ub529\uacfc \ud504\ub85c\uc138\uc2f1\n",
      "\n",
      "- start: 2014-10-07\n",
      "- end: 2014-10\n",
      "\n",
      "\n",
      "- CSV, JSON, XML, \ubc14\uc774\ub108\ub9ac \ub808\ucf54\ub4dc \ub4f1\uc73c\ub85c \ud45c\ud604\ub41c \ub370\uc774\ud130\ub97c \ub2e4\ub8e8\ub294 \ubc29\ubc95\uc744 \uc54c\uc544\ubd04\n",
      "- \ud2b9\uc815 \uc54c\uace0\ub9ac\uc998\uc774 \uc544\ub2cc \ud504\ub85c\uadf8\ub7a8\uc5d0 \ub370\uc774\ud130\ub97c \ub123\uace0 \ube7c\ub294 \ubc29\ubc95\uc5d0 \uc9d1\uc911"
     ]
    },
    {
     "cell_type": "markdown",
     "metadata": {},
     "source": [
      "## 6.1 CSV \ub370\uc774\ud130 \uc77d\uace0 \uc4f0\uae30\n",
      "\n",
      "### \ubb38\uc81c\n",
      "\n",
      "- CSV \ud30c\uc77c\ub85c \uc778\ucf54\ub529\ub41c \ub370\uc774\ud130\ub97c \uc77d\uac70\ub098 \uc4f0\uace0 \uc2f6\ub2e4.\n",
      "\n",
      "### \ud574\uacb0\n",
      "\n",
      "- \ub300\ubd80\ubd84\uc758 CSV \ub370\uc774\ud130\ub294 csv \ub77c\uc774\ube0c\ub7ec\ub9ac\ub97c \uc0ac\uc6a9\n",
      "- shocks.csv \ud30c\uc77c\uc5d0 \ub2f4\uaca8\uc788\ub294 \uc8fc\uc2dd \uc2dc\uc7a5 \uc815\ubcf4\uac00 \uc788\ub2e4\uace0 \uac00\uc815"
     ]
    },
    {
     "cell_type": "code",
     "collapsed": false,
     "input": [
      "!cat 06/reading_and_writing_csv_data/stocks.csv"
     ],
     "language": "python",
     "metadata": {},
     "outputs": [
      {
       "output_type": "stream",
       "stream": "stdout",
       "text": [
        "Symbol,Price,Date,Time,Change,Volume\r\n",
        "\"AA\",39.48,\"6/11/2007\",\"9:36am\",-0.18,181800\r\n",
        "\"AIG\",71.38,\"6/11/2007\",\"9:36am\",-0.15,195500\r\n",
        "\"AXP\",62.58,\"6/11/2007\",\"9:36am\",-0.46,935000\r\n",
        "\"BA\",98.31,\"6/11/2007\",\"9:36am\",+0.12,104800\r\n",
        "\"C\",53.08,\"6/11/2007\",\"9:36am\",-0.25,360900\r\n",
        "\"CAT\",78.29,\"6/11/2007\",\"9:36am\",-0.23,225400\r\n"
       ]
      }
     ],
     "prompt_number": 1
    },
    {
     "cell_type": "code",
     "collapsed": false,
     "input": [
      "import csv\n",
      "with open('06/reading_and_writing_csv_data/stocks.csv') as f:\n",
      "    f_csv = csv.reader(f)\n",
      "    headers = next(f_csv)\n",
      "    print(headers)\n",
      "    for row in f_csv:\n",
      "        print(row)"
     ],
     "language": "python",
     "metadata": {},
     "outputs": [
      {
       "output_type": "stream",
       "stream": "stdout",
       "text": [
        "['Symbol', 'Price', 'Date', 'Time', 'Change', 'Volume']\n",
        "['AA', '39.48', '6/11/2007', '9:36am', '-0.18', '181800']\n",
        "['AIG', '71.38', '6/11/2007', '9:36am', '-0.15', '195500']\n",
        "['AXP', '62.58', '6/11/2007', '9:36am', '-0.46', '935000']\n",
        "['BA', '98.31', '6/11/2007', '9:36am', '+0.12', '104800']\n",
        "['C', '53.08', '6/11/2007', '9:36am', '-0.25', '360900']\n",
        "['CAT', '78.29', '6/11/2007', '9:36am', '-0.23', '225400']\n"
       ]
      }
     ],
     "prompt_number": 5
    },
    {
     "cell_type": "markdown",
     "metadata": {},
     "source": [
      "- \u001e",
      "\n",
      "\uc55e\uc5d0 \ub098\uc628 \ucf54\ub4dc\uc5d0\uc11c row\ub294 \ud29c\ud50c\uc774 \ub428\n",
      "\n",
      "- \ub530\ub77c\uc11c \ud2b9\uc815 \ud544\ub4dc\uc5d0 \uc811\uadfc\ud558\ub824\uba74 row\\[0\\](Symbol), row\\[4\\](Change)\uc640 \uac19\uc774 \uc778\ub371\uc2a4\ub97c \uc0ac\uc6a9\ud574\uc57c \ud568\n",
      "\n",
      "- \uc778\ub371\uc2a4 \uc0ac\uc6a9\uc774 \ub584\ub54c\ub85c \ud5f7\uac08\ub9ac\uae30 \ub54c\ubb38\uc5d0 named tuple\uc744 \uace0\ub824"
     ]
    },
    {
     "cell_type": "code",
     "collapsed": false,
     "input": [
      "from collections import namedtuple\n",
      "with open('06/reading_and_writing_csv_data/stocks.csv') as f:\n",
      "    f_csv = csv.reader(f)\n",
      "    headings = next(f_csv)\n",
      "    Row = namedtuple('Row', headings)\n",
      "    print(Row)\n",
      "    print(Row(*r))"
     ],
     "language": "python",
     "metadata": {},
     "outputs": [
      {
       "output_type": "stream",
       "stream": "stdout",
       "text": [
        "<class '__main__.Row'>\n",
        "Row(Symbol='CAT', Price='78.29', Date='6/11/2007', Time='9:36am', Change='-0.23', Volume='225400')\n"
       ]
      }
     ],
     "prompt_number": 9
    },
    {
     "cell_type": "code",
     "collapsed": false,
     "input": [
      "from collections import namedtuple\n",
      "with open('06/reading_and_writing_csv_data/stocks.csv') as f:\n",
      "    f_csv = csv.reader(f)\n",
      "    headings = next(f_csv)\n",
      "    Row = namedtuple('Row', headings)\n",
      "    for r in f_csv:\n",
      "        row = Row(*r)\n",
      "        print(row)\n",
      "        print(row.Symbol, row.Price, row.Date)\n",
      "        print('')"
     ],
     "language": "python",
     "metadata": {},
     "outputs": [
      {
       "output_type": "stream",
       "stream": "stdout",
       "text": [
        "Row(Symbol='AA', Price='39.48', Date='6/11/2007', Time='9:36am', Change='-0.18', Volume='181800')\n",
        "AA 39.48 6/11/2007\n",
        "\n",
        "Row(Symbol='AIG', Price='71.38', Date='6/11/2007', Time='9:36am', Change='-0.15', Volume='195500')\n",
        "AIG 71.38 6/11/2007\n",
        "\n",
        "Row(Symbol='AXP', Price='62.58', Date='6/11/2007', Time='9:36am', Change='-0.46', Volume='935000')\n",
        "AXP 62.58 6/11/2007\n",
        "\n",
        "Row(Symbol='BA', Price='98.31', Date='6/11/2007', Time='9:36am', Change='+0.12', Volume='104800')\n",
        "BA 98.31 6/11/2007\n",
        "\n",
        "Row(Symbol='C', Price='53.08', Date='6/11/2007', Time='9:36am', Change='-0.25', Volume='360900')\n",
        "C 53.08 6/11/2007\n",
        "\n",
        "Row(Symbol='CAT', Price='78.29', Date='6/11/2007', Time='9:36am', Change='-0.23', Volume='225400')\n",
        "CAT 78.29 6/11/2007\n",
        "\n"
       ]
      }
     ],
     "prompt_number": 14
    },
    {
     "cell_type": "markdown",
     "metadata": {},
     "source": [
      "- \uc774\ub807\uac8c \ud558\uba74 row.Symbol \uc774\ub098 row.Change\uc640 \uac19\uc774 \uc5f4 \ud5e4\ub354\ub97c \uc0ac\uc6a9\ud560 \uc218 \uc788\uc74c\n",
      "- \ub2e4\ub9cc \uc5f4 \ud5e4\ub354\uac00 \uc720\ud6a8\ud55c \ud30c\uc774\uc36c \uc2dd\ubcc4\uc790\uc5ec\uc57c \ud55c\ub2e4.\n",
      "- \uadf8\ub807\uc9c0 \uc54a\uc73c\uba74 initial heading\uc5d0 \uba54\uc2dc\uc9c0\ub97c \ubcf4\ub0b4\uc11c \uc2dd\ubcc4\uc790\uac00 \uc544\ub2cc \ubb38\uc790\ub97c \ubc11\uc904\uc774\ub098 \uc720\uc0ac\ud55c \uac83\uc73c\ub85c \ubcc0\uacbd\ud574\uc57c \ud560\uc9c0\ub3c4 \ubaa8\ub984"
     ]
    },
    {
     "cell_type": "code",
     "collapsed": false,
     "input": [
      "import csv\n",
      "with open('06/reading_and_writing_csv_data/stocks.csv') as f:\n",
      "    # Dictionary Reader\n",
      "    f_csv = csv.DictReader(f)\n",
      "    for row in f_csv:\n",
      "        print(row)"
     ],
     "language": "python",
     "metadata": {},
     "outputs": [
      {
       "output_type": "stream",
       "stream": "stdout",
       "text": [
        "{'Date': '6/11/2007', 'Change': '-0.18', 'Volume': '181800', 'Price': '39.48', 'Symbol': 'AA', 'Time': '9:36am'}\n",
        "{'Date': '6/11/2007', 'Change': '-0.15', 'Volume': '195500', 'Price': '71.38', 'Symbol': 'AIG', 'Time': '9:36am'}\n",
        "{'Date': '6/11/2007', 'Change': '-0.46', 'Volume': '935000', 'Price': '62.58', 'Symbol': 'AXP', 'Time': '9:36am'}\n",
        "{'Date': '6/11/2007', 'Change': '+0.12', 'Volume': '104800', 'Price': '98.31', 'Symbol': 'BA', 'Time': '9:36am'}\n",
        "{'Date': '6/11/2007', 'Change': '-0.25', 'Volume': '360900', 'Price': '53.08', 'Symbol': 'C', 'Time': '9:36am'}\n",
        "{'Date': '6/11/2007', 'Change': '-0.23', 'Volume': '225400', 'Price': '78.29', 'Symbol': 'CAT', 'Time': '9:36am'}\n"
       ]
      }
     ],
     "prompt_number": 15
    },
    {
     "cell_type": "markdown",
     "metadata": {},
     "source": [
      "- \uc774 \ubc84\uc804\uc758 \uacbd\uc6b0, \uac01 \ud589\uc758 \uc694\uc18c\uc5d0 \uc811\uadfc\ud558\uae30 \uc704\ud574\uc11c \ud589 \ud5e4\ub354\ub97c \uc0ac\uc6a9\ud568\n",
      "- \uc608\ub97c \ub4e4\uc5b4 row['Symbol'] \ub610\ub294 row['Change'] \ub4f1\uacfc \uac19\uc774 \ud568\n",
      "- CSV \ub370\uc774\ud130\ub97c \uc4f0\ub824\uba74, csv \ubaa8\ub4c8\uc744 \uc0ac\uc6a9\ud574\uc11c \uc4f0\uae30 \uac1d\uccb4\ub97c \uc0dd\uc131\ud568"
     ]
    },
    {
     "cell_type": "code",
     "collapsed": false,
     "input": [
      "headers = ['Symbol', 'Price', 'Date', 'Time', 'Change', 'Volume']"
     ],
     "language": "python",
     "metadata": {},
     "outputs": [],
     "prompt_number": 17
    },
    {
     "cell_type": "code",
     "collapsed": false,
     "input": [
      "rows = [\n",
      "('AA', '39.48', '6/11/2007', '9:36am', '-0.18', '181800'),\n",
      "('AIG', '71.38', '6/11/2007', '9:36am', '-0.15', '195500'),\n",
      "('AXP', '62.58', '6/11/2007', '9:36am', '-0.46', '935000'),\n",
      "('BA', '98.31', '6/11/2007', '9:36am', '+0.12', '104800'),\n",
      "('C', '53.08', '6/11/2007', '9:36am', '-0.25', '360900'),\n",
      "('CAT', '78.29', '6/11/2007', '9:36am', '-0.23', '225400'),\n",
      "]"
     ],
     "language": "python",
     "metadata": {},
     "outputs": [],
     "prompt_number": 20
    },
    {
     "cell_type": "code",
     "collapsed": false,
     "input": [
      "with open('06/reading_and_writing_csv_data/stocks_mytuple.csv', 'w') as f:\n",
      "    f_csv = csv.writer(f)\n",
      "    f_csv.writerow(headers)\n",
      "    f_csv.writerows(rows)"
     ],
     "language": "python",
     "metadata": {},
     "outputs": [],
     "prompt_number": 25
    },
    {
     "cell_type": "code",
     "collapsed": false,
     "input": [
      "!cat 06/reading_and_writing_csv_data/stocks_mytuple.csv"
     ],
     "language": "python",
     "metadata": {},
     "outputs": [
      {
       "output_type": "stream",
       "stream": "stdout",
       "text": [
        "Symbol,Price,Date,Time,Change,Volume\r",
        "\r\n",
        "AA,39.48,6/11/2007,9:36am,-0.18,181800\r",
        "\r\n",
        "AIG,71.38,6/11/2007,9:36am,-0.15,195500\r",
        "\r\n",
        "AXP,62.58,6/11/2007,9:36am,-0.46,935000\r",
        "\r\n",
        "BA,98.31,6/11/2007,9:36am,+0.12,104800\r",
        "\r\n",
        "C,53.08,6/11/2007,9:36am,-0.25,360900\r",
        "\r\n",
        "CAT,78.29,6/11/2007,9:36am,-0.23,225400\r",
        "\r\n"
       ]
      }
     ],
     "prompt_number": 26
    },
    {
     "cell_type": "code",
     "collapsed": false,
     "input": [
      "rows = [\n",
      "{'Date': '6/11/2007', 'Change': '-0.18', 'Volume': '181800', \n",
      " 'Price': '39.48', 'Symbol': 'AA', 'Time': '9:36am'},\n",
      "{'Date': '6/11/2007', 'Change': '-0.15', 'Volume': '195500', \n",
      " 'Price': '71.38', 'Symbol': 'AIG', 'Time': '9:36am'},\n",
      "{'Date': '6/11/2007', 'Change': '-0.46', 'Volume': '935000', \n",
      " 'Price': '62.58', 'Symbol': 'AXP', 'Time': '9:36am'},\n",
      "{'Date': '6/11/2007', 'Change': '+0.12', 'Volume': '104800', \n",
      " 'Price': '98.31', 'Symbol': 'BA', 'Time': '9:36am'},\n",
      "{'Date': '6/11/2007', 'Change': '-0.25', 'Volume': '360900', \n",
      " 'Price': '53.08', 'Symbol': 'C', 'Time': '9:36am'},\n",
      "{'Date': '6/11/2007', 'Change': '-0.23', 'Volume': '225400', \n",
      " 'Price': '78.29', 'Symbol': 'CAT', 'Time': '9:36am'}]"
     ],
     "language": "python",
     "metadata": {},
     "outputs": [],
     "prompt_number": 28
    },
    {
     "cell_type": "code",
     "collapsed": false,
     "input": [
      "with open('06/reading_and_writing_csv_data/stocks_mydict.csv', 'w') as f:\n",
      "    f_csv = csv.DictWriter(f, headers)\n",
      "    f_csv.writeheader()\n",
      "    f_csv.writerows(rows)"
     ],
     "language": "python",
     "metadata": {},
     "outputs": [],
     "prompt_number": 30
    },
    {
     "cell_type": "code",
     "collapsed": false,
     "input": [
      "!cat 06/reading_and_writing_csv_data/stocks_mydict.csv"
     ],
     "language": "python",
     "metadata": {},
     "outputs": [
      {
       "output_type": "stream",
       "stream": "stdout",
       "text": [
        "Symbol,Price,Date,Time,Change,Volume\r",
        "\r\n",
        "AA,39.48,6/11/2007,9:36am,-0.18,181800\r",
        "\r\n",
        "AIG,71.38,6/11/2007,9:36am,-0.15,195500\r",
        "\r\n",
        "AXP,62.58,6/11/2007,9:36am,-0.46,935000\r",
        "\r\n",
        "BA,98.31,6/11/2007,9:36am,+0.12,104800\r",
        "\r\n",
        "C,53.08,6/11/2007,9:36am,-0.25,360900\r",
        "\r\n",
        "CAT,78.29,6/11/2007,9:36am,-0.23,225400\r",
        "\r\n"
       ]
      }
     ],
     "prompt_number": 31
    },
    {
     "cell_type": "markdown",
     "metadata": {},
     "source": [
      "### \ud1a0\ub860\n",
      "\n",
      "- csv \ub370\uc774\ud130\ub97c \uc218\ub3d9\uc73c\ub85c \ub2e4\ub8e8\ub294 \ud504\ub85c\uadf8\ub7a8\uc744 \uc791\uc131\ud558\uae30\ubcf4\ub2e4\ub294 csv \ubaa8\ub4c8\uc744 \uc0ac\uc6a9\ud558\ub294 \uac83\uc774 \ud6e8\uc52c \ub098\uc740 \uc120\ud0dd"
     ]
    },
    {
     "cell_type": "code",
     "collapsed": false,
     "input": [
      "# \uc774\ub807\uac8c \ud558\uba74 \ud504\ub85c\uadf8\ub798\uba38\uac00 \uc77c\uc77c\uc774 \ucc98\ub9ac\ud574\uc57c \ud560 \uc810\uc774 \ub9ce\uc544\uc9c4\ub2e4.\n",
      "with open('06/reading_and_writing_csv_data/stocks.csv') as f:\n",
      "    for line in f:\n",
      "        row = line.split(',')\n",
      "        print(row)"
     ],
     "language": "python",
     "metadata": {},
     "outputs": [
      {
       "output_type": "stream",
       "stream": "stdout",
       "text": [
        "['Symbol', 'Price', 'Date', 'Time', 'Change', 'Volume\\n']\n",
        "['\"AA\"', '39.48', '\"6/11/2007\"', '\"9:36am\"', '-0.18', '181800\\n']\n",
        "['\"AIG\"', '71.38', '\"6/11/2007\"', '\"9:36am\"', '-0.15', '195500\\n']\n",
        "['\"AXP\"', '62.58', '\"6/11/2007\"', '\"9:36am\"', '-0.46', '935000\\n']\n",
        "['\"BA\"', '98.31', '\"6/11/2007\"', '\"9:36am\"', '+0.12', '104800\\n']\n",
        "['\"C\"', '53.08', '\"6/11/2007\"', '\"9:36am\"', '-0.25', '360900\\n']\n",
        "['\"CAT\"', '78.29', '\"6/11/2007\"', '\"9:36am\"', '-0.23', '225400\\n']\n"
       ]
      }
     ],
     "prompt_number": 33
    },
    {
     "cell_type": "markdown",
     "metadata": {},
     "source": [
      "- \uc608\ub97c \ub4e4\uc5b4 \ud544\ub4dc\uac00 \ub530\uc634\ud45c\ub85c \ub458\ub7ec\uc2f8\uc778 \uacbd\uc6b0 \uc774 \ub530\uc634\ud45c\ub97c \uc798\ub77c\ub0b4\uc57c \ud55c\ub2e4.\n",
      "- \ub610\ud55c \uc778\uc6a9 \ud544\ub4dc\uc5d0 \uc27c\ud45c\uac00 \uc788\uc73c\uba74 \ud589 \ud06c\uae30\ub97c \uc798\ubabb \uc778\uc2dd\ud574\uc11c \ucf54\ub4dc\uac00 \ub9dd\uac00\uc9d0\n",
      "- \uae30\ubcf8\uc801\uc73c\ub85c csv \ub77c\uc774\ube0c\ub7ec\ub9ac\ub294 Microsoft Excel \uc5d0\uc11c \uc0ac\uc6a9\ud558\ub294 CSV \uc778\ucf54\ub529 \uaddc\uce59\uc744 \uc774\ud574\ud558\ub3c4\ub85d \ud504\ub85c\uadf8\ub7a8\ub418\uc5b4 \uc788\ub2e4.\n",
      "- \uc774 \ubc29\uc2dd\uc774 \uac00\uc7a5 \uc77c\ubc18\uc801\uc774\uace0 \uc774\uc2dd\uc131\ub3c4 \uac00\uc7a5 \uc88b\ub2e4. \ud558\uc9c0\ub9cc csv\uc758 \ubb38\uc11c\ub97c \ubcf4\uba74 \uc778\ucf54\ub529\uc744 \ub2e4\ub978 \ud615\uc2dd\uc73c\ub85c \ubc14\uafb8\ub294 \ubc29\ubc95(\uad6c\ubd84\uc790\ub97c \ub2e4\ub978 \ubb38\uc790\ub85c \ubc14\uafb8\ub294 \ub4f1)\uc774 \ub098\uc640 \uc788\uc74c\n",
      "- \uc608\ub97c \ub4e4\uc5b4 \ud0ed\uc73c\ub85c \ub098\ub204\uc5b4\uc9c4 \ub370\uc774\ud130\ub97c \uc77d\uace0 \uc2f6\uc73c\uba74 \ub2e4\uc74c\uacfc \uac19\uc774 \ud568"
     ]
    },
    {
     "cell_type": "code",
     "collapsed": false,
     "input": [
      "!cat 06/reading_and_writing_csv_data/stocks.tsv"
     ],
     "language": "python",
     "metadata": {},
     "outputs": [
      {
       "output_type": "stream",
       "stream": "stdout",
       "text": [
        "Symbol\tPrice\tDate\tTime\tChange\tVolume\r\n",
        "\"AA\"\t39.48\t\"6/11/2007\"\t\"9:36am\"\t-0.18\t181800\r\n",
        "\"AIG\"\t71.38\t\"6/11/2007\"\t\"9:36am\"\t-0.15\t195500\r\n",
        "\"AXP\"\t62.58\t\"6/11/2007\"\t\"9:36am\"\t-0.46\t935000\r\n",
        "\"BA\"\t98.31\t\"6/11/2007\"\t\"9:36am\"\t+0.12\t104800\r\n",
        "\"C\"\t53.08\t\"6/11/2007\"\t\"9:36am\"\t-0.25\t360900\r\n",
        "\"CAT\"\t78.29\t\"6/11/2007\"\t\"9:36am\"\t-0.23\t225400\r\n"
       ]
      }
     ],
     "prompt_number": 36
    },
    {
     "cell_type": "code",
     "collapsed": false,
     "input": [
      "# \ud0ed\uc73c\ub85c \uad6c\ubd84\ud55c \uac12 \uc77d\uae30 \uc608\uc81c\n",
      "with open('06/reading_and_writing_csv_data/stocks.tsv') as f:\n",
      "    f_tsv = csv.reader(f, delimiter='\\t')\n",
      "    for row in f_tsv:\n",
      "        print(row)"
     ],
     "language": "python",
     "metadata": {},
     "outputs": [
      {
       "output_type": "stream",
       "stream": "stdout",
       "text": [
        "['Symbol', 'Price', 'Date', 'Time', 'Change', 'Volume']\n",
        "['AA', '39.48', '6/11/2007', '9:36am', '-0.18', '181800']\n",
        "['AIG', '71.38', '6/11/2007', '9:36am', '-0.15', '195500']\n",
        "['AXP', '62.58', '6/11/2007', '9:36am', '-0.46', '935000']\n",
        "['BA', '98.31', '6/11/2007', '9:36am', '+0.12', '104800']\n",
        "['C', '53.08', '6/11/2007', '9:36am', '-0.25', '360900']\n",
        "['CAT', '78.29', '6/11/2007', '9:36am', '-0.23', '225400']\n"
       ]
      }
     ],
     "prompt_number": 35
    },
    {
     "cell_type": "markdown",
     "metadata": {},
     "source": [
      "- CSV \ub370\uc774\ud130\ub97c \uc77d\uace0 \ub124\uc784\ub4dc \ud29c\ud50c\ub85c \ubcc0\ud658\ud55c\ub2e4\uba74 \uc5f4 \ud5e4\ub354\ub97c \uac80\uc99d\ud560 \ub54c \uc8fc\uc758\ud574\uc57c \ud568\n",
      "- \uc608\ub97c \ub4e4\uc5b4 CSV \ud30c\uc77c\uc5d0 \ub2e4\uc74c\uacfc \uac19\uc774 \uc720\ud6a8\ud558\uc9c0 \uc54a\uc740 \uc2dd\ubcc4 \ubb38\uc790\uac00 \ub4e4\uc5b4 \uc788\uc744 \uc218 \uc788\uc74c"
     ]
    },
    {
     "cell_type": "code",
     "collapsed": false,
     "input": [
      "%%writefile 06/reading_and_writing_csv_data/stocks_re.csv\n",
      "Street Address, Num-Premises, Latitude, Longitude\n",
      "5412 N CLARK, 10, 41.980262, -87.668452"
     ],
     "language": "python",
     "metadata": {},
     "outputs": [
      {
       "output_type": "stream",
       "stream": "stdout",
       "text": [
        "Writing 06/reading_and_writing_csv_data/stocks_re.csv\n"
       ]
      }
     ],
     "prompt_number": 37
    },
    {
     "cell_type": "markdown",
     "metadata": {},
     "source": [
      "- \uc2e4\uc81c\ub85c \uc55e\uc5d0 \ub098\uc628 \ub370\uc774\ud130\ub85c namedtuple\uc744 \ub9cc\ub4e4 \ub54c ValueError \uc608\uc678\uac00 \ubc1c\uc0dd\ud568"
     ]
    },
    {
     "cell_type": "code",
     "collapsed": false,
     "input": [
      "from collections import namedtuple\n",
      "with open('06/reading_and_writing_csv_data/stocks_re.csv') as f:\n",
      "    f_csv = csv.reader(f)\n",
      "    headings = next(f_csv)\n",
      "    Row = namedtuple('Row', headings)\n",
      "    for r in f_csv:\n",
      "        row = Row(*r)\n",
      "        print(row)\n",
      "        print('')"
     ],
     "language": "python",
     "metadata": {},
     "outputs": [
      {
       "ename": "ValueError",
       "evalue": "Type names and field names must be valid identifiers: 'Street Address'",
       "output_type": "pyerr",
       "traceback": [
        "\u001b[0;31m---------------------------------------------------------------------------\u001b[0m\n\u001b[0;31mValueError\u001b[0m                                Traceback (most recent call last)",
        "\u001b[0;32m<ipython-input-41-1421d40babee>\u001b[0m in \u001b[0;36m<module>\u001b[0;34m()\u001b[0m\n\u001b[1;32m      3\u001b[0m     \u001b[0mf_csv\u001b[0m \u001b[0;34m=\u001b[0m \u001b[0mcsv\u001b[0m\u001b[0;34m.\u001b[0m\u001b[0mreader\u001b[0m\u001b[0;34m(\u001b[0m\u001b[0mf\u001b[0m\u001b[0;34m)\u001b[0m\u001b[0;34m\u001b[0m\u001b[0m\n\u001b[1;32m      4\u001b[0m     \u001b[0mheadings\u001b[0m \u001b[0;34m=\u001b[0m \u001b[0mnext\u001b[0m\u001b[0;34m(\u001b[0m\u001b[0mf_csv\u001b[0m\u001b[0;34m)\u001b[0m\u001b[0;34m\u001b[0m\u001b[0m\n\u001b[0;32m----> 5\u001b[0;31m     \u001b[0mRow\u001b[0m \u001b[0;34m=\u001b[0m \u001b[0mnamedtuple\u001b[0m\u001b[0;34m(\u001b[0m\u001b[0;34m'Row'\u001b[0m\u001b[0;34m,\u001b[0m \u001b[0mheadings\u001b[0m\u001b[0;34m)\u001b[0m\u001b[0;34m\u001b[0m\u001b[0m\n\u001b[0m\u001b[1;32m      6\u001b[0m     \u001b[0;32mfor\u001b[0m \u001b[0mr\u001b[0m \u001b[0;32min\u001b[0m \u001b[0mf_csv\u001b[0m\u001b[0;34m:\u001b[0m\u001b[0;34m\u001b[0m\u001b[0m\n\u001b[1;32m      7\u001b[0m         \u001b[0mrow\u001b[0m \u001b[0;34m=\u001b[0m \u001b[0mRow\u001b[0m\u001b[0;34m(\u001b[0m\u001b[0;34m*\u001b[0m\u001b[0mr\u001b[0m\u001b[0;34m)\u001b[0m\u001b[0;34m\u001b[0m\u001b[0m\n",
        "\u001b[0;32m/Users/re4lfl0w/virtualenv/python3_test/lib/python3.4/collections/__init__.py\u001b[0m in \u001b[0;36mnamedtuple\u001b[0;34m(typename, field_names, verbose, rename)\u001b[0m\n\u001b[1;32m    336\u001b[0m         \u001b[0;32mif\u001b[0m \u001b[0;32mnot\u001b[0m \u001b[0mname\u001b[0m\u001b[0;34m.\u001b[0m\u001b[0misidentifier\u001b[0m\u001b[0;34m(\u001b[0m\u001b[0;34m)\u001b[0m\u001b[0;34m:\u001b[0m\u001b[0;34m\u001b[0m\u001b[0m\n\u001b[1;32m    337\u001b[0m             raise ValueError('Type names and field names must be valid '\n\u001b[0;32m--> 338\u001b[0;31m                              'identifiers: %r' % name)\n\u001b[0m\u001b[1;32m    339\u001b[0m         \u001b[0;32mif\u001b[0m \u001b[0m_iskeyword\u001b[0m\u001b[0;34m(\u001b[0m\u001b[0mname\u001b[0m\u001b[0;34m)\u001b[0m\u001b[0;34m:\u001b[0m\u001b[0;34m\u001b[0m\u001b[0m\n\u001b[1;32m    340\u001b[0m             raise ValueError('Type names and field names cannot be a '\n",
        "\u001b[0;31mValueError\u001b[0m: Type names and field names must be valid identifiers: 'Street Address'"
       ]
      }
     ],
     "prompt_number": 41
    },
    {
     "cell_type": "markdown",
     "metadata": {},
     "source": [
      "\n",
      "    ---------------------------------------------------------------------------\n",
      "    ValueError                                Traceback (most recent call last)\n",
      "    <ipython-input-41-1421d40babee> in <module>()\n",
      "          3     f_csv = csv.reader(f)\n",
      "          4     headings = next(f_csv)\n",
      "    ----> 5     Row = namedtuple('Row', headings)\n",
      "          6     for r in f_csv:\n",
      "          7         row = Row(*r)\n",
      "\n",
      "    /Users/re4lfl0w/virtualenv/python3_test/lib/python3.4/collections/__init__.py in namedtuple(typename, field_names, verbose, rename)\n",
      "        336         if not name.isidentifier():\n",
      "        337             raise ValueError('Type names and field names must be valid '\n",
      "    --> 338                              'identifiers: %r' % name)\n",
      "        339         if _iskeyword(name):\n",
      "        340             raise ValueError('Type names and field names cannot be a '\n",
      "\n",
      "    ValueError: Type names and field names must be valid identifiers: 'Street Address'"
     ]
    },
    {
     "cell_type": "code",
     "collapsed": false,
     "input": [
      "help(namedtuple)"
     ],
     "language": "python",
     "metadata": {},
     "outputs": [
      {
       "output_type": "stream",
       "stream": "stdout",
       "text": [
        "Help on function namedtuple in module collections:\n",
        "\n",
        "namedtuple(typename, field_names, verbose=False, rename=False)\n",
        "    Returns a new subclass of tuple with named fields.\n",
        "    \n",
        "    >>> Point = namedtuple('Point', ['x', 'y'])\n",
        "    >>> Point.__doc__                   # docstring for the new class\n",
        "    'Point(x, y)'\n",
        "    >>> p = Point(11, y=22)             # instantiate with positional args or keywords\n",
        "    >>> p[0] + p[1]                     # indexable like a plain tuple\n",
        "    33\n",
        "    >>> x, y = p                        # unpack like a regular tuple\n",
        "    >>> x, y\n",
        "    (11, 22)\n",
        "    >>> p.x + p.y                       # fields also accessable by name\n",
        "    33\n",
        "    >>> d = p._asdict()                 # convert to a dictionary\n",
        "    >>> d['x']\n",
        "    11\n",
        "    >>> Point(**d)                      # convert from a dictionary\n",
        "    Point(x=11, y=22)\n",
        "    >>> p._replace(x=100)               # _replace() is like str.replace() but targets named fields\n",
        "    Point(x=100, y=22)\n",
        "\n"
       ]
      }
     ],
     "prompt_number": 65
    },
    {
     "cell_type": "code",
     "collapsed": false,
     "input": [
      "from collections import namedtuple\n",
      "import re\n",
      "\n",
      "with open('06/reading_and_writing_csv_data/stocks_re.csv') as f:\n",
      "    f_csv = csv.reader(f)\n",
      "    # h.strip()\uc744 \ud574\uc900 \uc0c1\ud0dc\ub85c \uc815\uaddc\ud45c\ud604\uc2dd \uc801\uc6a9\uc774 \ub418\uc57c \uacf5\ubc31\uc774 _\ub85c \ubc14\ub00c\uc9c0 \uc54a\ub294\ub2e4.\n",
      "    # \ucc45\uc5d0\ub294 \uacf5\ubc31\uc774 \uc5c6\uc774 \ub098\uc654\ub294\ub370 \ub0b4\uac00 \uc784\uc758\ub85c \ub123\uc5b4\uc11c \uadf8\ub807\ub124.\n",
      "    headings = [re.sub('[^a-zA-Z_]', '_', h.strip()) for h in next(f_csv)]\n",
      "    print(headings)\n",
      "    Row = namedtuple('Row112', headings)\n",
      "    for r in f_csv:\n",
      "        print(r)\n",
      "        for i, a in enumerate(r):\n",
      "            r[i] = a.strip()\n",
      "        row = Row(*r)\n",
      "        print(row)\n",
      "        print('')"
     ],
     "language": "python",
     "metadata": {},
     "outputs": [
      {
       "output_type": "stream",
       "stream": "stdout",
       "text": [
        "['Street_Address', 'Num_Premises', 'Latitude', 'Longitude']\n",
        "['5412 N CLARK', ' 10', ' 41.980262', ' -87.668452']\n",
        "Row112(Street_Address='5412 N CLARK', Num_Premises='10', Latitude='41.980262', Longitude='-87.668452')\n",
        "\n"
       ]
      }
     ],
     "prompt_number": 71
    },
    {
     "cell_type": "code",
     "collapsed": false,
     "input": [
      "l = range(5)"
     ],
     "language": "python",
     "metadata": {},
     "outputs": [],
     "prompt_number": 76
    },
    {
     "cell_type": "code",
     "collapsed": false,
     "input": [
      "def test(*args):\n",
      "    return sum(args)"
     ],
     "language": "python",
     "metadata": {},
     "outputs": [],
     "prompt_number": 79
    },
    {
     "cell_type": "code",
     "collapsed": false,
     "input": [
      "# \uc6d0\uc18c \ud558\ub098\uc529 \uac01 \uc790\ub9ac\uc5d0 \ub9e4\uce6d\n",
      "# 0, 1, 2, 3, 4\n",
      "test(*l)"
     ],
     "language": "python",
     "metadata": {},
     "outputs": [
      {
       "metadata": {},
       "output_type": "pyout",
       "prompt_number": 85,
       "text": [
        "10"
       ]
      }
     ],
     "prompt_number": 85
    },
    {
     "cell_type": "code",
     "collapsed": false,
     "input": [
      "test(l)"
     ],
     "language": "python",
     "metadata": {},
     "outputs": [
      {
       "ename": "TypeError",
       "evalue": "unsupported operand type(s) for +: 'int' and 'range'",
       "output_type": "pyerr",
       "traceback": [
        "\u001b[0;31m---------------------------------------------------------------------------\u001b[0m\n\u001b[0;31mTypeError\u001b[0m                                 Traceback (most recent call last)",
        "\u001b[0;32m<ipython-input-86-7fe4e9895749>\u001b[0m in \u001b[0;36m<module>\u001b[0;34m()\u001b[0m\n\u001b[0;32m----> 1\u001b[0;31m \u001b[0mtest\u001b[0m\u001b[0;34m(\u001b[0m\u001b[0ml\u001b[0m\u001b[0;34m)\u001b[0m\u001b[0;34m\u001b[0m\u001b[0m\n\u001b[0m",
        "\u001b[0;32m<ipython-input-79-dec58629daf7>\u001b[0m in \u001b[0;36mtest\u001b[0;34m(*args)\u001b[0m\n\u001b[1;32m      1\u001b[0m \u001b[0;32mdef\u001b[0m \u001b[0mtest\u001b[0m\u001b[0;34m(\u001b[0m\u001b[0;34m*\u001b[0m\u001b[0margs\u001b[0m\u001b[0;34m)\u001b[0m\u001b[0;34m:\u001b[0m\u001b[0;34m\u001b[0m\u001b[0m\n\u001b[0;32m----> 2\u001b[0;31m     \u001b[0;32mreturn\u001b[0m \u001b[0msum\u001b[0m\u001b[0;34m(\u001b[0m\u001b[0margs\u001b[0m\u001b[0;34m)\u001b[0m\u001b[0;34m\u001b[0m\u001b[0m\n\u001b[0m",
        "\u001b[0;31mTypeError\u001b[0m: unsupported operand type(s) for +: 'int' and 'range'"
       ]
      }
     ],
     "prompt_number": 86
    },
    {
     "cell_type": "markdown",
     "metadata": {},
     "source": [
      "- \ub610\ud55c csv\ub294 \ub370\uc774\ud130\ub97c \ud574\uc11d\ud558\ub824 \ud558\uac70\ub098 \ubb38\uc790\uc5f4\uc774 \uc544\ub2cc \ud615\uc2dd\uc73c\ub85c \ubcc0\ud658\ud558\ub824 \ud558\uc9c0 \uc54a\ub294\ub2e4\ub294 \uc810\uc774 \uc911\uc694\n",
      "- \uadf8\ub7f0 \ubcc0\ud658\uc774 \uc911\uc694\ud558\ub2e4\uba74 \ud504\ub85c\uadf8\ub798\uba38\uac00 \uc2a4\uc2a4\ub85c \ud574\uc57c\ud568\n",
      "- CSV \ub370\uc774\ud130\uc5d0 \ub300\ud574\uc11c \ucd94\uac00\uc801\uc778 \ud615\uc2dd \ubcc0\ud658\uc744 \ud558\ub294 \uc608\uc81c"
     ]
    },
    {
     "cell_type": "code",
     "collapsed": false,
     "input": [
      "col_types = [str, float, str, str, float, int]"
     ],
     "language": "python",
     "metadata": {},
     "outputs": [],
     "prompt_number": 56
    },
    {
     "cell_type": "code",
     "collapsed": false,
     "input": [
      "with open('06/reading_and_writing_csv_data/stocks.csv') as f:\n",
      "    f_csv = csv.reader(f)\n",
      "    headers = next(f_csv)\n",
      "    for row in f_csv:\n",
      "        # \ud589 \uc544\uc774\ud15c\uc5d0 \ubcc0\ud658 \uc801\uc6a9\n",
      "        row = tuple(convert(value) for convert, value in zip(col_types, row))\n",
      "        print(row)"
     ],
     "language": "python",
     "metadata": {},
     "outputs": [
      {
       "output_type": "stream",
       "stream": "stdout",
       "text": [
        "('AA', 39.48, '6/11/2007', '9:36am', -0.18, 181800)\n",
        "('AIG', 71.38, '6/11/2007', '9:36am', -0.15, 195500)\n",
        "('AXP', 62.58, '6/11/2007', '9:36am', -0.46, 935000)\n",
        "('BA', 98.31, '6/11/2007', '9:36am', 0.12, 104800)\n",
        "('C', 53.08, '6/11/2007', '9:36am', -0.25, 360900)\n",
        "('CAT', 78.29, '6/11/2007', '9:36am', -0.23, 225400)\n"
       ]
      }
     ],
     "prompt_number": 58
    },
    {
     "cell_type": "markdown",
     "metadata": {},
     "source": [
      "- \ub515\uc154\ub108\ub9ac\uc5d0\uc11c \uc120\ud0dd\ud55c \ud544\ub4dc\ub9cc \ubcc0\ud658\ud558\ub294 \uc608\uc81c"
     ]
    },
    {
     "cell_type": "code",
     "collapsed": false,
     "input": [
      "print('Reading as dicts with type conversion')\n",
      "field_types = [('Price', float),\n",
      "               ('Change', float),\n",
      "               ('Volume', int)]"
     ],
     "language": "python",
     "metadata": {},
     "outputs": [
      {
       "output_type": "stream",
       "stream": "stdout",
       "text": [
        "Reading as dicts with type conversion\n"
       ]
      }
     ],
     "prompt_number": 87
    },
    {
     "cell_type": "code",
     "collapsed": false,
     "input": [
      "with open('06/reading_and_writing_csv_data/stocks.csv') as f:\n",
      "    for row in csv.DictReader(f):\n",
      "        row.update((key, conversion(row[key]))\n",
      "                   for key, conversion in field_types)\n",
      "        print(row)"
     ],
     "language": "python",
     "metadata": {},
     "outputs": [
      {
       "output_type": "stream",
       "stream": "stdout",
       "text": [
        "{'Date': '6/11/2007', 'Change': -0.18, 'Volume': 181800, 'Price': 39.48, 'Symbol': 'AA', 'Time': '9:36am'}\n",
        "{'Date': '6/11/2007', 'Change': -0.15, 'Volume': 195500, 'Price': 71.38, 'Symbol': 'AIG', 'Time': '9:36am'}\n",
        "{'Date': '6/11/2007', 'Change': -0.46, 'Volume': 935000, 'Price': 62.58, 'Symbol': 'AXP', 'Time': '9:36am'}\n",
        "{'Date': '6/11/2007', 'Change': 0.12, 'Volume': 104800, 'Price': 98.31, 'Symbol': 'BA', 'Time': '9:36am'}\n",
        "{'Date': '6/11/2007', 'Change': -0.25, 'Volume': 360900, 'Price': 53.08, 'Symbol': 'C', 'Time': '9:36am'}\n",
        "{'Date': '6/11/2007', 'Change': -0.23, 'Volume': 225400, 'Price': 78.29, 'Symbol': 'CAT', 'Time': '9:36am'}\n"
       ]
      }
     ],
     "prompt_number": 88
    },
    {
     "cell_type": "markdown",
     "metadata": {},
     "source": [
      "- \uc774\ub7f0 \ubcc0\ud658\uc744 \ud560 \ub54c\ub294 \uc8fc\uc758\ub97c \uae30\uc6b8\uc5ec\uc57c \ud568\n",
      "- \uc2e4\uc81c \ud504\ub85c\uadf8\ub7a8\uc744 \uc791\uc131\ud560 \ub54c CSV \ud30c\uc77c\uc5d0 \uac12\uc774 \ube60\uc9c0\uac70\ub098 \ub370\uc774\ud130\uac00 \ub9dd\uac00\uc838 \uc788\ub294 \ub4f1 **\ud0c0\uc785 \ubcc0\ud658\uc5d0\uc11c \ubb38\uc81c\uac00 \ub420 \ub9cc\ud55c \uc774\uc288**\uac00 \ub9ce\ub2e4.\n",
      "- \ub530\ub77c\uc11c \ub370\uc774\ud130\uc5d0 \uc5d0\ub7ec\uac00 \uc5c6\ub2e4\uace0 \ubcf4\uc7a5\ud558\uc9c0 \uc54a\ub294 \uc774\uc0c1\uc740 \ud56d\uc0c1 \uc774 \ubd80\ubd84\uc744 \uace0\ub824\ud574\uc57c \ud55c\ub2e4.(**\uc801\uc808\ud55c \uc608\uc678\ucc98\ub9ac \ucf54\ub4dc**\ub97c \ub123\ub294 \uac83\uc774 \uc88b\ub2e4.)\n",
      "- \ub9c8\uc9c0\ub9c9\uc73c\ub85c, CSV \ub370\uc774\ud130\ub97c \uc77d\uc5b4 \ub370\uc774\ud130 \ubd84\uc11d\uc774\ub098 \ud1b5\uacc4\uc5d0 \ud65c\uc6a9\ud558\ub824\ub294 \uacbd\uc6b0 pandas \ud328\ud0a4\uc9c0 \uc0ac\uc6a9 \uace0\ub824\n",
      "- pandas\uc758 pandas.read_csv() \ud568\uc218\ub974 \uc0ac\uc6a9\ud558\uba74 CSV \ub370\uc774\ud130\ub97c DataFrame \uac1d\uccb4\uc5d0 \ubd88\ub7ec\uc62c \uc218 \uc788\uc74c\n",
      "- \uadf8 \ud6c4\uc5d0 \ub370\uc774\ud130\ub97c \uac78\ub7ec\ub0b4\uac70\ub098 \ud1b5\uacc4 \uc694\uc57d\uc744 \ubcf4\ub294 \ub4f1 \uc0c1\uc704 \ub808\ubca8 \uc791\uc5c5\uc744 \uc218\ud589\ud560 \uc218 \uc788\uc74c. \uc608\uc81c\ub294 \ub808\uc2dc\ud53c 6.13 \ucc38\uace0"
     ]
    },
    {
     "cell_type": "markdown",
     "metadata": {},
     "source": [
      "## 6.2 JSON \ub370\uc774\ud130 \uc77d\uace0 \uc4f0\uae30\n",
      "\n",
      "### \ubb38\uc81c\n",
      "\n",
      "- JSON(JavaScript Object Notation)\uc73c\ub85c \uc778\ucf54\ub529\ub41c \ub370\uc774\ud130\ub97c \uc77d\uac70\ub098 \uc4f0\uace0 \uc2f6\ub2e4.\n",
      "\n",
      "### \ud574\uacb0\n",
      "\n",
      "- JSON\uc73c\ub85c \ub370\uc774\ud130\ub97c \uc778\ucf54\ub529, \ub514\ucf54\ub529\ud558\ub294 \uc26c\uc6b4 \ubc29\ubc95\uc740 json \ubaa8\ub4c8\uc744 \uc0ac\uc6a9\ud558\ub294 \uac83\n",
      "- \uc8fc\uc694 \ud568\uc218\ub294 json.dumps()\uc640 json.loads()\uc774\uace0, pickle\uacfc \uac19\uc740 \uc9c1\ub82c\ud654 \ub77c\uc774\ube0c\ub7ec\ub9ac\uc5d0\uc11c \uc0ac\uc6a9\ud55c \uac83\uacfc \uc778\ud130\ud398\uc774\uc2a4\ub294 \ub3d9\uc77c\n",
      "- \ud30c\uc774\uc36c \ub370\uc774\ud130\ub97c JSON\uc73c\ub85c \ubcc0\ud658\ud558\ub294 \ucf54\ub4dc\ub97c \ubcf4\uc790"
     ]
    },
    {
     "cell_type": "code",
     "collapsed": false,
     "input": [
      "import json\n",
      "data = {\n",
      "'name': 'ACME',\n",
      "'shares': 100,\n",
      "'price': 542.23\n",
      "}"
     ],
     "language": "python",
     "metadata": {},
     "outputs": [],
     "prompt_number": 89
    },
    {
     "cell_type": "markdown",
     "metadata": {},
     "source": [
      "- \ub2e4\uc74c\uc740 JSON \uc778\ucf54\ub529\ub41c \ubb38\uc790\uc5f4\uc744 \ud30c\uc774\uc36c \uc790\ub8cc \uad6c\uc870\ub85c \ub3cc\ub9ac\ub294 \ubc29\ubc95"
     ]
    },
    {
     "cell_type": "code",
     "collapsed": false,
     "input": [
      "json_str = json.dumps(data)\n",
      "json_str"
     ],
     "language": "python",
     "metadata": {},
     "outputs": [
      {
       "metadata": {},
       "output_type": "pyout",
       "prompt_number": 91,
       "text": [
        "'{\"name\": \"ACME\", \"shares\": 100, \"price\": 542.23}'"
       ]
      }
     ],
     "prompt_number": 91
    },
    {
     "cell_type": "markdown",
     "metadata": {},
     "source": [
      "- \ubb38\uc790\uc5f4\uc774 \uc544\ub2cc \ud30c\uc77c\ub85c \uc791\uc5c5\ud55c\ub2e4\uba74 json.dump()\uc640 json.load()\ub97c \uc0ac\uc6a9\ud574\uc11c JSON \ub370\uc774\ud130\ub97c \uc778\ucf54\ub529/\ub514\ucf54\ub529 \ud55c\ub2e4."
     ]
    },
    {
     "cell_type": "code",
     "collapsed": false,
     "input": [
      "# JSON \ub370\uc774\ud130 \uc4f0\uae30\n",
      "with open('06/data.json', 'w') as f:\n",
      "    json.dump(data, f)"
     ],
     "language": "python",
     "metadata": {},
     "outputs": [],
     "prompt_number": 92
    },
    {
     "cell_type": "code",
     "collapsed": false,
     "input": [
      "!cat 06/data.json"
     ],
     "language": "python",
     "metadata": {},
     "outputs": [
      {
       "output_type": "stream",
       "stream": "stdout",
       "text": [
        "{\"name\": \"ACME\", \"shares\": 100, \"price\": 542.23}"
       ]
      }
     ],
     "prompt_number": 93
    },
    {
     "cell_type": "code",
     "collapsed": false,
     "input": [
      "# \ub370\uc774\ud130 \ub2e4\uc2dc \uc77d\uae30\n",
      "with open('06/data.json', 'r') as f:\n",
      "    data = json.load(f)\n",
      "data"
     ],
     "language": "python",
     "metadata": {},
     "outputs": [
      {
       "metadata": {},
       "output_type": "pyout",
       "prompt_number": 94,
       "text": [
        "{'name': 'ACME', 'shares': 100, 'price': 542.23}"
       ]
      }
     ],
     "prompt_number": 94
    },
    {
     "cell_type": "markdown",
     "metadata": {},
     "source": [
      "### \ud1a0\ub860\n",
      "\n",
      "- JSON \uc778\ucf54\ub529\uc740 None, bool, int, float, str\uacfc \uac19\uc740 \uae30\ubcf8 \ud0c0\uc785\uacfc \ud568\uaed8 \ub9ac\uc2a4\ud2b8, \ud29c\ud50c, \ub515\uc154\ub108\ub9ac\uc640 \uac19\uc740 \ucee8\ud14c\uc774\ub108 \ud0c0\uc785\uc744 \uc9c0\uc6d0\n",
      "- \ub515\uc154\ub108\ub9ac\uc758 \uacbd\uc6b0 \ud0a4\ub294 \ubb38\uc790\uc5f4\ub85c \uac00\uc815(\ubb38\uc790\uc5f4\uc774 \uc544\ub2cc \ud0a4\ub294 \uc778\ucf54\ub529 \uacfc\uc815\uc5d0\uc11c \ubb38\uc790\uc5f4\ub85c \ubcc0\ud658\ub428)\n",
      "- JSON \uc2a4\ud399\uc744 \ub530\ub974\uae30 \uc704\ud574\uc11c \ud30c\uc774\uc36c \ub9ac\uc2a4\ud2b8\uc640 \ub515\uc154\ub108\ub9ac\ub9cc \uc778\ucf54\ub529\ud574\uc57c \ud568\n",
      "- \uc6f9 \uc560\ud50c\ub9ac\ucf00\uc774\uc158\uc758 \uacbd\uc6b0\uc5d0\ub294 \uc0c1\uc704 \ub808\ubca8 \uac1d\uccb4\ub294 \ub515\uc154\ub108\ub9ac\ub85c \ud558\ub294 \uac83\uc774 \ud45c\uc900\n",
      "- JSON \uc778\ucf54\ub529 \ud3ec\ub9f7\uc740 \uc57d\uac04\uc758 \ucc28\uc774\uc810\uc744 \uc81c\uc678\ud558\uace0\ub294 \ud30c\uc774\uc36c \ubb38\ubc95\uacfc \uac70\uc758 \ub3d9\uc77c\n",
      "- True\ub294 true\ub85c False\ub294 false\ub85c None\uc740 null\ub85c \ub9e4\ud551\ub428\n",
      "- \uc5b4\ub5a4 \uc2dd\uc73c\ub85c \uc778\ucf54\ub529\ub418\ub294\uc9c0 \ub2e4\uc74c \ucf54\ub4dc\ub97c \ucc38\uace0"
     ]
    },
    {
     "cell_type": "code",
     "collapsed": false,
     "input": [
      "json.dumps(False)"
     ],
     "language": "python",
     "metadata": {},
     "outputs": [
      {
       "metadata": {},
       "output_type": "pyout",
       "prompt_number": 95,
       "text": [
        "'false'"
       ]
      }
     ],
     "prompt_number": 95
    },
    {
     "cell_type": "code",
     "collapsed": false,
     "input": [
      "d = {'a': True,\n",
      "     'b': 'Hello',\n",
      "     'c': None}"
     ],
     "language": "python",
     "metadata": {},
     "outputs": [],
     "prompt_number": 96
    },
    {
     "cell_type": "code",
     "collapsed": false,
     "input": [
      "json.dumps(d)"
     ],
     "language": "python",
     "metadata": {},
     "outputs": [
      {
       "metadata": {},
       "output_type": "pyout",
       "prompt_number": 97,
       "text": [
        "'{\"c\": null, \"a\": true, \"b\": \"Hello\"}'"
       ]
      }
     ],
     "prompt_number": 97
    },
    {
     "cell_type": "markdown",
     "metadata": {},
     "source": [
      "- JSON\uc5d0\uc11c \ub514\ucf54\ub529\ud55c \ub370\uc774\ud130\ub97c \uc870\uc0ac\ud574\uc57c \ud55c\ub2e4\uba74, \ub2e8\uc21c\ud788 \ucd9c\ub825\ud574\uc11c \uad6c\uc870\ub97c \uc54c\uc544\ub0b4\uae30\ub294 \uc27d\uc9c0 \uc54a\uc74c\n",
      "- \ud2b9\ud788 \ub370\uc774\ud130\uc5d0 \uc911\ucca9\uc774 \uc2ec\ud558\uac8c \ub41c \uad6c\uc870\uccb4\uac00 \ud3ec\ud568\ub418\uc5b4 \uc788\uac70\ub098 \ud544\ub4dc\uac00 \ub9ce\ub2e4\uba74 \ub354 \uc5b4\ub835\ub2e4\n",
      "- pprint \ubaa8\ub4c8\uc758 pprint() \ud568\uc218\ub97c \uc0ac\uc6a9\ud574 \ubcf4\uc790\n",
      "- \uc774 \ud568\uc218\ub294 \ud0a4\ub97c \uc54c\ud30c\ubcb3 \uc21c\uc73c\ub85c \ub098\uc5f4\ud558\uace0 \ub515\uc154\ub108\ub9ac\ub97c \uc880 \ub354 \ubcf4\uae30 \uc88b\uac8c \ucd9c\ub825\ud568\n",
      "- \ub2e4\uc74c \ucf54\ub4dc\ub97c \ud1b5\ud574 \ud2b8\uc704\ud130\uc758 \uac80\uc0c9 \uacb0\uacfc\ub97c \ub354 \uc608\uc058\uac8c \ucd9c\ub825\ud558\ub294 \ubc29\ubc95\uc744 \ubcf4\uc790\n",
      "- pprint \uc0ac\uc6a9\ud558\uba74 \ub428"
     ]
    },
    {
     "cell_type": "markdown",
     "metadata": {},
     "source": [
      "- \uc77c\ubc18\uc801\uc73c\ub85c JSON \ub514\ucf54\ub529\uc740 \uc81c\uacf5\ubc1b\uc740 \ub370\uc774\ud130\ub85c\ubd80\ud130 \ub515\uc154\ub108\ub9ac\ub098 \ub9ac\uc2a4\ud2b8\ub97c \uc0dd\uc131\n",
      "- \ub2e4\ub978 \uc885\ub958\uc758 \uac1d\uccb4\ub97c \ub9cc\ub4e4\uace0 \uc2f6\ub2e4\uba74 json.loads()\uc5d0 object pairs hook\ub098 object hook\ub97c \ub123\uc74c\n",
      "- OrderedDict\uc758 \uc21c\uc11c\ub97c \uc9c0\ud0a4\uba74\uc11c JSON \ub370\uc774\ud130\ub97c \ub514\ucf54\ub529\ud558\ub824\uba74?"
     ]
    },
    {
     "cell_type": "code",
     "collapsed": false,
     "input": [
      "# JSON\uc740 \"\ub9cc \ud070\ub530\uc634\ud45c\ub85c \uc778\uc2dd\ud55c\ub2e4.\n",
      "# string\uc774\ub2e4. \n",
      "s = '{\"name\": \"ACME\", \"shares\": 50, \"price\": 490.1}'"
     ],
     "language": "python",
     "metadata": {},
     "outputs": [],
     "prompt_number": 109
    },
    {
     "cell_type": "code",
     "collapsed": false,
     "input": [
      "from collections import OrderedDict"
     ],
     "language": "python",
     "metadata": {},
     "outputs": [],
     "prompt_number": 110
    },
    {
     "cell_type": "code",
     "collapsed": false,
     "input": [
      "s"
     ],
     "language": "python",
     "metadata": {},
     "outputs": [
      {
       "metadata": {},
       "output_type": "pyout",
       "prompt_number": 111,
       "text": [
        "'{\"name\": \"ACME\", \"shares\": 50, \"price\": 490.1}'"
       ]
      }
     ],
     "prompt_number": 111
    },
    {
     "cell_type": "code",
     "collapsed": false,
     "input": [
      "data = json.loads(s, object_pairs_hook=OrderedDict)\n",
      "data"
     ],
     "language": "python",
     "metadata": {},
     "outputs": [
      {
       "metadata": {},
       "output_type": "pyout",
       "prompt_number": 113,
       "text": [
        "OrderedDict([('name', 'ACME'), ('shares', 50), ('price', 490.1)])"
       ]
      }
     ],
     "prompt_number": 113
    },
    {
     "cell_type": "markdown",
     "metadata": {},
     "source": [
      "- \ub2e4\uc74c\uc740 JSON \ub515\uc154\ub108\ub9ac\ub97c \ud30c\uc774\uc36c \uac1d\uccb4\ub85c \ubc14\uafb8\ub294 \uc608\uc2dc"
     ]
    },
    {
     "cell_type": "code",
     "collapsed": false,
     "input": [
      "class JSONObject:\n",
      "    def __init__(self, d):\n",
      "        self.__dict__ = d"
     ],
     "language": "python",
     "metadata": {},
     "outputs": [],
     "prompt_number": 114
    },
    {
     "cell_type": "code",
     "collapsed": false,
     "input": [
      "data = json.loads(s, object_hook=JSONObject)\n",
      "data"
     ],
     "language": "python",
     "metadata": {},
     "outputs": [
      {
       "metadata": {},
       "output_type": "pyout",
       "prompt_number": 117,
       "text": [
        "<__main__.JSONObject at 0x10c73bf60>"
       ]
      }
     ],
     "prompt_number": 117
    },
    {
     "cell_type": "code",
     "collapsed": false,
     "input": [
      "data.name"
     ],
     "language": "python",
     "metadata": {},
     "outputs": [
      {
       "metadata": {},
       "output_type": "pyout",
       "prompt_number": 118,
       "text": [
        "'ACME'"
       ]
      }
     ],
     "prompt_number": 118
    },
    {
     "cell_type": "code",
     "collapsed": false,
     "input": [
      "data.shares"
     ],
     "language": "python",
     "metadata": {},
     "outputs": [
      {
       "metadata": {},
       "output_type": "pyout",
       "prompt_number": 119,
       "text": [
        "50"
       ]
      }
     ],
     "prompt_number": 119
    },
    {
     "cell_type": "code",
     "collapsed": false,
     "input": [
      "data.price"
     ],
     "language": "python",
     "metadata": {},
     "outputs": [
      {
       "metadata": {},
       "output_type": "pyout",
       "prompt_number": 120,
       "text": [
        "490.1"
       ]
      }
     ],
     "prompt_number": 120
    },
    {
     "cell_type": "markdown",
     "metadata": {},
     "source": [
      "- \ub9c8\uc9c0\ub9c9 \uc608\uc81c\uc5d0\uc11c, JSON \ub370\uc774\ud130\ub97c \ub514\ucf54\ub529\ud558\uc5ec \uc0dd\uc131\ud55c \ub515\uc154\ub108\ub9ac\ub97c \\_\\_init\\_\\_()\uc5d0 \uc778\uc790\ub85c \uc804\ub2ec\n",
      "- \uc5ec\uae30\ubd80\ud130\ub294 \uac1d\uccb4\uc758 \ub515\uc154\ub108\ub9ac \uc778\uc2a4\ud134\uc2a4\uc778 \uac83\ucc98\ub7fc \uc790\uc720\ub86d\uac8c \uc0ac\uc6a9\ud574\ub3c4 \uc88b\uc74c\n",
      "- JSON\uc744 \uc778\ucf54\ub529\ud560 \ub54c \uc720\uc6a9\ud55c \uc635\uc158\n",
      "- \ucd9c\ub825\uc744 \ub354 \ubcf4\uae30 \uc88b\uac8c \ud558\ub824\uba74 json.dumps()\uc5d0 indent \uc778\uc790\ub97c \uc0ac\uc6a9\n",
      "- \uadf8\ub807\uac8c \ud558\uba74 pprint() \ud568\uc218\ub97c \uc0ac\uc6a9\ud55c \uac83\ucc98\ub7fc \ubcf4\uae30 \uc88b\uac8c \ub4e4\uc5ec\uc4f0\uae30 \ub428"
     ]
    },
    {
     "cell_type": "code",
     "collapsed": false,
     "input": [
      "data = json.loads(s, object_pairs_hook=OrderedDict)\n",
      "data"
     ],
     "language": "python",
     "metadata": {},
     "outputs": [
      {
       "metadata": {},
       "output_type": "pyout",
       "prompt_number": 122,
       "text": [
        "OrderedDict([('name', 'ACME'), ('shares', 50), ('price', 490.1)])"
       ]
      }
     ],
     "prompt_number": 122
    },
    {
     "cell_type": "code",
     "collapsed": false,
     "input": [
      "print(json.dumps(data))"
     ],
     "language": "python",
     "metadata": {},
     "outputs": [
      {
       "output_type": "stream",
       "stream": "stdout",
       "text": [
        "{\"name\": \"ACME\", \"shares\": 50, \"price\": 490.1}\n"
       ]
      }
     ],
     "prompt_number": 123
    },
    {
     "cell_type": "code",
     "collapsed": false,
     "input": [
      "print(json.dumps(data, indent=4))"
     ],
     "language": "python",
     "metadata": {},
     "outputs": [
      {
       "output_type": "stream",
       "stream": "stdout",
       "text": [
        "{\n",
        "    \"name\": \"ACME\",\n",
        "    \"shares\": 50,\n",
        "    \"price\": 490.1\n",
        "}\n"
       ]
      }
     ],
     "prompt_number": 124
    },
    {
     "cell_type": "markdown",
     "metadata": {},
     "source": [
      "- \ucd9c\ub825\uc5d0\uc11c \ud0a4\ub97c \uc815\ub82c\ud558\uace0 \uc2f6\ub2e4\uba74 sort_keys \uc778\uc790 \uc0ac\uc6a9"
     ]
    },
    {
     "cell_type": "code",
     "collapsed": false,
     "input": [
      "print(json.dumps(data, sort_keys=True))"
     ],
     "language": "python",
     "metadata": {},
     "outputs": [
      {
       "output_type": "stream",
       "stream": "stdout",
       "text": [
        "{\"name\": \"ACME\", \"price\": 490.1, \"shares\": 50}\n"
       ]
      }
     ],
     "prompt_number": 126
    },
    {
     "cell_type": "code",
     "collapsed": false,
     "input": [
      "print(json.dumps(data, indent=4, sort_keys=True))"
     ],
     "language": "python",
     "metadata": {},
     "outputs": [
      {
       "output_type": "stream",
       "stream": "stdout",
       "text": [
        "{\n",
        "    \"name\": \"ACME\",\n",
        "    \"price\": 490.1,\n",
        "    \"shares\": 50\n",
        "}\n"
       ]
      }
     ],
     "prompt_number": 128
    },
    {
     "cell_type": "markdown",
     "metadata": {},
     "source": [
      "- \uc778\uc2a4\ud134\uc2a4\ub294 \uc77c\ubc18\uc801\uc73c\ub85c JSON\uc73c\ub85c \uc9c1\ub82c\ud654\ud558\uc9c0 \uc54a\uc74c"
     ]
    },
    {
     "cell_type": "code",
     "collapsed": false,
     "input": [
      "class Point:\n",
      "    def __init__(self, x, y):\n",
      "        self.x = x\n",
      "        self.y = y"
     ],
     "language": "python",
     "metadata": {},
     "outputs": [],
     "prompt_number": 171
    },
    {
     "cell_type": "code",
     "collapsed": false,
     "input": [
      "p = Point(2, 3)"
     ],
     "language": "python",
     "metadata": {},
     "outputs": [],
     "prompt_number": 172
    },
    {
     "cell_type": "code",
     "collapsed": false,
     "input": [
      "json.dumps(p)"
     ],
     "language": "python",
     "metadata": {},
     "outputs": [
      {
       "ename": "TypeError",
       "evalue": "<__main__.Point object at 0x10c7a70f0> is not JSON serializable",
       "output_type": "pyerr",
       "traceback": [
        "\u001b[0;31m---------------------------------------------------------------------------\u001b[0m\n\u001b[0;31mTypeError\u001b[0m                                 Traceback (most recent call last)",
        "\u001b[0;32m<ipython-input-173-d449655131f5>\u001b[0m in \u001b[0;36m<module>\u001b[0;34m()\u001b[0m\n\u001b[0;32m----> 1\u001b[0;31m \u001b[0mjson\u001b[0m\u001b[0;34m.\u001b[0m\u001b[0mdumps\u001b[0m\u001b[0;34m(\u001b[0m\u001b[0mp\u001b[0m\u001b[0;34m)\u001b[0m\u001b[0;34m\u001b[0m\u001b[0m\n\u001b[0m",
        "\u001b[0;32m/usr/local/Cellar/python3/3.4.1/Frameworks/Python.framework/Versions/3.4/lib/python3.4/json/__init__.py\u001b[0m in \u001b[0;36mdumps\u001b[0;34m(obj, skipkeys, ensure_ascii, check_circular, allow_nan, cls, indent, separators, default, sort_keys, **kw)\u001b[0m\n\u001b[1;32m    228\u001b[0m         \u001b[0mcls\u001b[0m \u001b[0;32mis\u001b[0m \u001b[0;32mNone\u001b[0m \u001b[0;32mand\u001b[0m \u001b[0mindent\u001b[0m \u001b[0;32mis\u001b[0m \u001b[0;32mNone\u001b[0m \u001b[0;32mand\u001b[0m \u001b[0mseparators\u001b[0m \u001b[0;32mis\u001b[0m \u001b[0;32mNone\u001b[0m \u001b[0;32mand\u001b[0m\u001b[0;34m\u001b[0m\u001b[0m\n\u001b[1;32m    229\u001b[0m         default is None and not sort_keys and not kw):\n\u001b[0;32m--> 230\u001b[0;31m         \u001b[0;32mreturn\u001b[0m \u001b[0m_default_encoder\u001b[0m\u001b[0;34m.\u001b[0m\u001b[0mencode\u001b[0m\u001b[0;34m(\u001b[0m\u001b[0mobj\u001b[0m\u001b[0;34m)\u001b[0m\u001b[0;34m\u001b[0m\u001b[0m\n\u001b[0m\u001b[1;32m    231\u001b[0m     \u001b[0;32mif\u001b[0m \u001b[0mcls\u001b[0m \u001b[0;32mis\u001b[0m \u001b[0;32mNone\u001b[0m\u001b[0;34m:\u001b[0m\u001b[0;34m\u001b[0m\u001b[0m\n\u001b[1;32m    232\u001b[0m         \u001b[0mcls\u001b[0m \u001b[0;34m=\u001b[0m \u001b[0mJSONEncoder\u001b[0m\u001b[0;34m\u001b[0m\u001b[0m\n",
        "\u001b[0;32m/usr/local/Cellar/python3/3.4.1/Frameworks/Python.framework/Versions/3.4/lib/python3.4/json/encoder.py\u001b[0m in \u001b[0;36mencode\u001b[0;34m(self, o)\u001b[0m\n\u001b[1;32m    190\u001b[0m         \u001b[0;31m# exceptions aren't as detailed.  The list call should be roughly\u001b[0m\u001b[0;34m\u001b[0m\u001b[0;34m\u001b[0m\u001b[0m\n\u001b[1;32m    191\u001b[0m         \u001b[0;31m# equivalent to the PySequence_Fast that ''.join() would do.\u001b[0m\u001b[0;34m\u001b[0m\u001b[0;34m\u001b[0m\u001b[0m\n\u001b[0;32m--> 192\u001b[0;31m         \u001b[0mchunks\u001b[0m \u001b[0;34m=\u001b[0m \u001b[0mself\u001b[0m\u001b[0;34m.\u001b[0m\u001b[0miterencode\u001b[0m\u001b[0;34m(\u001b[0m\u001b[0mo\u001b[0m\u001b[0;34m,\u001b[0m \u001b[0m_one_shot\u001b[0m\u001b[0;34m=\u001b[0m\u001b[0;32mTrue\u001b[0m\u001b[0;34m)\u001b[0m\u001b[0;34m\u001b[0m\u001b[0m\n\u001b[0m\u001b[1;32m    193\u001b[0m         \u001b[0;32mif\u001b[0m \u001b[0;32mnot\u001b[0m \u001b[0misinstance\u001b[0m\u001b[0;34m(\u001b[0m\u001b[0mchunks\u001b[0m\u001b[0;34m,\u001b[0m \u001b[0;34m(\u001b[0m\u001b[0mlist\u001b[0m\u001b[0;34m,\u001b[0m \u001b[0mtuple\u001b[0m\u001b[0;34m)\u001b[0m\u001b[0;34m)\u001b[0m\u001b[0;34m:\u001b[0m\u001b[0;34m\u001b[0m\u001b[0m\n\u001b[1;32m    194\u001b[0m             \u001b[0mchunks\u001b[0m \u001b[0;34m=\u001b[0m \u001b[0mlist\u001b[0m\u001b[0;34m(\u001b[0m\u001b[0mchunks\u001b[0m\u001b[0;34m)\u001b[0m\u001b[0;34m\u001b[0m\u001b[0m\n",
        "\u001b[0;32m/usr/local/Cellar/python3/3.4.1/Frameworks/Python.framework/Versions/3.4/lib/python3.4/json/encoder.py\u001b[0m in \u001b[0;36miterencode\u001b[0;34m(self, o, _one_shot)\u001b[0m\n\u001b[1;32m    248\u001b[0m                 \u001b[0mself\u001b[0m\u001b[0;34m.\u001b[0m\u001b[0mkey_separator\u001b[0m\u001b[0;34m,\u001b[0m \u001b[0mself\u001b[0m\u001b[0;34m.\u001b[0m\u001b[0mitem_separator\u001b[0m\u001b[0;34m,\u001b[0m \u001b[0mself\u001b[0m\u001b[0;34m.\u001b[0m\u001b[0msort_keys\u001b[0m\u001b[0;34m,\u001b[0m\u001b[0;34m\u001b[0m\u001b[0m\n\u001b[1;32m    249\u001b[0m                 self.skipkeys, _one_shot)\n\u001b[0;32m--> 250\u001b[0;31m         \u001b[0;32mreturn\u001b[0m \u001b[0m_iterencode\u001b[0m\u001b[0;34m(\u001b[0m\u001b[0mo\u001b[0m\u001b[0;34m,\u001b[0m \u001b[0;36m0\u001b[0m\u001b[0;34m)\u001b[0m\u001b[0;34m\u001b[0m\u001b[0m\n\u001b[0m\u001b[1;32m    251\u001b[0m \u001b[0;34m\u001b[0m\u001b[0m\n\u001b[1;32m    252\u001b[0m def _make_iterencode(markers, _default, _encoder, _indent, _floatstr,\n",
        "\u001b[0;32m/usr/local/Cellar/python3/3.4.1/Frameworks/Python.framework/Versions/3.4/lib/python3.4/json/encoder.py\u001b[0m in \u001b[0;36mdefault\u001b[0;34m(self, o)\u001b[0m\n\u001b[1;32m    171\u001b[0m \u001b[0;34m\u001b[0m\u001b[0m\n\u001b[1;32m    172\u001b[0m         \"\"\"\n\u001b[0;32m--> 173\u001b[0;31m         \u001b[0;32mraise\u001b[0m \u001b[0mTypeError\u001b[0m\u001b[0;34m(\u001b[0m\u001b[0mrepr\u001b[0m\u001b[0;34m(\u001b[0m\u001b[0mo\u001b[0m\u001b[0;34m)\u001b[0m \u001b[0;34m+\u001b[0m \u001b[0;34m\" is not JSON serializable\"\u001b[0m\u001b[0;34m)\u001b[0m\u001b[0;34m\u001b[0m\u001b[0m\n\u001b[0m\u001b[1;32m    174\u001b[0m \u001b[0;34m\u001b[0m\u001b[0m\n\u001b[1;32m    175\u001b[0m     \u001b[0;32mdef\u001b[0m \u001b[0mencode\u001b[0m\u001b[0;34m(\u001b[0m\u001b[0mself\u001b[0m\u001b[0;34m,\u001b[0m \u001b[0mo\u001b[0m\u001b[0;34m)\u001b[0m\u001b[0;34m:\u001b[0m\u001b[0;34m\u001b[0m\u001b[0m\n",
        "\u001b[0;31mTypeError\u001b[0m: <__main__.Point object at 0x10c7a70f0> is not JSON serializable"
       ]
      }
     ],
     "prompt_number": 173
    },
    {
     "cell_type": "markdown",
     "metadata": {},
     "source": [
      "- \uc778\ud130\ud398\uc774\uc2a4\ub97c \uc9c1\ub82c\ud654\ud558\uace0 \uc2f6\ub2e4\uba74 \uc778\uc2a4\ud134\uc2a4\ub97c \uc785\ub825\uc73c\ub85c \ubc1b\uc544 \uc9c1\ub82c\ud654 \uac00\ub2a5\ud55c \ub515\uc154\ub108\ub9ac\ub97c \ubc18\ud658\ud558\ub294 \ud568\uc218 \uc81c\uacf5"
     ]
    },
    {
     "cell_type": "code",
     "collapsed": false,
     "input": [
      "def serialize_instance(obj):\n",
      "    d = { '__classname__': type(obj).__name__ }\n",
      "    d.update(vars(obj))\n",
      "    return d"
     ],
     "language": "python",
     "metadata": {},
     "outputs": [],
     "prompt_number": 174
    },
    {
     "cell_type": "markdown",
     "metadata": {},
     "source": [
      "- \uc778\uc2a4\ud134\uc2a4\ub97c \ub3cc\ub824\ubc1b\uace0 \uc2f6\ub2e4\uba74 \ub2e4\uc74c\uacfc \uac19\uc740 \ucf54\ub4dc \uc791\uc131"
     ]
    },
    {
     "cell_type": "code",
     "collapsed": false,
     "input": [
      "# \uc54c\ub824\uc9c0\uc9c0 \uc54a\uc740 \ud074\ub798\uc2a4\uc5d0 \uc774\ub984\uc744 \ub9e4\ud551\ud558\ub294 \ub515\uc154\ub108\ub9ac\n",
      "classes = {\n",
      "'Point': Point\n",
      "}"
     ],
     "language": "python",
     "metadata": {},
     "outputs": [],
     "prompt_number": 175
    },
    {
     "cell_type": "code",
     "collapsed": false,
     "input": [
      "def unserialize_object(d):\n",
      "    clsname = d.pop('__classname__', None)\n",
      "    if clsname:\n",
      "        cls = classes[clsname]\n",
      "        obj = cls.__new__(cls) # __init__\uc744 \ud638\ucd9c\ud558\uc9c0 \uc54a\uace0 \uc778\uc2a4\ud134\uc2a4 \ub9cc\ub4e4\uae30\n",
      "        for key, value in d.items():\n",
      "            setattr(obj, key, value)\n",
      "        # \uc544 \uc774 \uc904 \ucc3e\uc544 \uc0bc\ub9cc\ub9ac \ud588\uc796\uc544. \ucc45\uc5d0\ub294 \ub4e4\uc5ec\uc4f0\uae30\uac00 \ub418\uc5b4\uc788\uc5c8\ub2e4..\n",
      "        # \uadf8\ub7ec\ub2c8 x\ub9cc setting\ud558\uace0 obj\ub97c \ub3cc\ub824\uc8fc\ub2c8 y\uac00 \uc788\uc744 \uc218\uac00 \uc788\ub098...\n",
      "        return obj\n",
      "    else:\n",
      "        return d"
     ],
     "language": "python",
     "metadata": {},
     "outputs": [],
     "prompt_number": 192
    },
    {
     "cell_type": "code",
     "collapsed": false,
     "input": [
      "p = Point(2, 3)"
     ],
     "language": "python",
     "metadata": {},
     "outputs": [],
     "prompt_number": 193
    },
    {
     "cell_type": "code",
     "collapsed": false,
     "input": [
      "s = json.dumps(p, default=serialize_instance)"
     ],
     "language": "python",
     "metadata": {},
     "outputs": [],
     "prompt_number": 194
    },
    {
     "cell_type": "code",
     "collapsed": false,
     "input": [
      "s "
     ],
     "language": "python",
     "metadata": {},
     "outputs": [
      {
       "metadata": {},
       "output_type": "pyout",
       "prompt_number": 195,
       "text": [
        "'{\"x\": 2, \"y\": 3, \"__classname__\": \"Point\"}'"
       ]
      }
     ],
     "prompt_number": 195
    },
    {
     "cell_type": "code",
     "collapsed": false,
     "input": [
      "a = json.loads(s, object_hook=unserialize_object)"
     ],
     "language": "python",
     "metadata": {},
     "outputs": [],
     "prompt_number": 196
    },
    {
     "cell_type": "code",
     "collapsed": false,
     "input": [
      "a"
     ],
     "language": "python",
     "metadata": {},
     "outputs": [
      {
       "metadata": {},
       "output_type": "pyout",
       "prompt_number": 197,
       "text": [
        "<__main__.Point at 0x10c744860>"
       ]
      }
     ],
     "prompt_number": 197
    },
    {
     "cell_type": "code",
     "collapsed": false,
     "input": [
      "a.x"
     ],
     "language": "python",
     "metadata": {},
     "outputs": [
      {
       "metadata": {},
       "output_type": "pyout",
       "prompt_number": 198,
       "text": [
        "2"
       ]
      }
     ],
     "prompt_number": 198
    },
    {
     "cell_type": "code",
     "collapsed": false,
     "input": [
      "a.y"
     ],
     "language": "python",
     "metadata": {},
     "outputs": [
      {
       "metadata": {},
       "output_type": "pyout",
       "prompt_number": 199,
       "text": [
        "3"
       ]
      }
     ],
     "prompt_number": 199
    },
    {
     "cell_type": "markdown",
     "metadata": {},
     "source": [
      "- json \ubaa8\ub4c8\uc5d0\ub294 \uc22b\uc790, NaN\uacfc \uac19\uc740 \ud2b9\ubcc4\uac12 \ub4f1 \ud558\uc704 \ub808\ubca8 \uc870\uc808\uc744 \uc704\ud55c \ub9ce\uc740 \uc635\uc158\uc774 \uc788\uc74c\n",
      "- \uc790\uc138\ud55c \ub0b4\uc6a9\uc740 \uacf5\uc2dd \ubb38\uc11c \ucc38\uace0"
     ]
    },
    {
     "cell_type": "markdown",
     "metadata": {},
     "source": [
      "## 6.3 \ub2e8\uc21c\ud55c XML \ub370\uc774\ud130 \ud30c\uc2f1\n",
      "\n",
      "### \ubb38\uc81c\n",
      "\n",
      "- \ub2e8\uc21c\ud55c XML \ubb38\uc11c\uc5d0\uc11c \ub370\uc774\ud130\ub97c \uc5bb\uace0 \uc2f6\ub2e4.\n",
      "\n",
      "### \ud574\uacb0\n",
      "\n",
      "- \ub2e8\uc21c\ud55c XML \ubb38\uc11c\uc5d0\uc11c \ub370\uc774\ud130\ub97c \uc5bb\uae30 \uc704\ud574 xml.etree.ElementTree \ubaa8\ub4c8\uc744 \uc0ac\uc6a9\ud558\uba74 \ub428\n",
      "- Planet Python\uc5d0\uc11c RSS \ud53c\ub4dc\ub97c \ubc1b\uc544 \ud30c\uc2f1\uc744 \ud574\uc57c \ud55c\ub2e4\uace0 \uac00\uc815"
     ]
    },
    {
     "cell_type": "code",
     "collapsed": false,
     "input": [
      "from urllib.request import urlopen\n",
      "from xml.etree.ElementTree import parse\n",
      "import copy"
     ],
     "language": "python",
     "metadata": {},
     "outputs": [],
     "prompt_number": 210
    },
    {
     "cell_type": "code",
     "collapsed": false,
     "input": [
      "# RSS \ud53c\ub4dc\ub97c \ub2e4\uc6b4\ub85c\ub4dc\ud558\uace0 \ud30c\uc2f1\ud55c\ub2e4.\n",
      "u = urlopen('http://planet.python.org/rss20.xml')\n",
      "doc = parse(u)\n",
      "\n",
      "# \uad00\uc2ec\uc788\ub294 \ud0dc\uadf8\ub97c \ubf51\uc544\uc11c \ucd9c\ub825\ud55c\ub2e4.\n",
      "for item in doc.iterfind('channel/item'):\n",
      "    title = item.findtext('title')\n",
      "    date = item.findtext('pubDate')\n",
      "    link = item.findtext('link')\n",
      "    \n",
      "    print(title)\n",
      "    print(date)\n",
      "    print(link)\n",
      "    print()"
     ],
     "language": "python",
     "metadata": {},
     "outputs": [
      {
       "output_type": "stream",
       "stream": "stdout",
       "text": [
        "Vasudev Ram: New: The Hacker News API (with Python support)\n",
        "Tue, 07 Oct 2014 21:45:56 +0000\n",
        "http://jugad2.blogspot.com/2014/10/new-hacker-news-api-with-python-support.html\n",
        "\n",
        "Martin Fitzpatrick: Pathomx v3.0.0 Release Candidate\u00a02\n",
        "Tue, 07 Oct 2014 19:47:24 +0000\n",
        "http://martinfitzpatrick.name/article/pathomx-v3.0.0rc2-for-windows-and-mac/\n",
        "\n",
        "Machinalis: Embedding Interactive Maps into an IPython Notebook\n",
        "Tue, 07 Oct 2014 16:07:31 +0000\n",
        "http://www.machinalis.com/blog/embedding-interactive-maps-into-an-ipython-nb/\n",
        "\n",
        "Calvin Spealman: The Lessons of Vim\n",
        "Tue, 07 Oct 2014 13:00:00 +0000\n",
        "http://techblog.ironfroggy.com/2014/10/the-lessons-of-vim.html\n",
        "\n",
        "Catalin George Festila: Windows all modules for python 3.4\n",
        "Tue, 07 Oct 2014 08:53:23 +0000\n",
        "http://python-catalin.blogspot.com/2014/10/windows-all-modules-for-python-34.html\n",
        "\n",
        "Glyph Lefkowitz: Thank You Lennart\n",
        "Tue, 07 Oct 2014 08:32:00 +0000\n",
        "https://glyph.twistedmatrix.com/2014/10/thanks-lennart.html\n",
        "\n",
        "PyCon PL Conference: Attendees registration on PyCon PL 2014 is closed!\n",
        "Tue, 07 Oct 2014 08:18:00 +0000\n",
        "http://pl.pycon.org/2014/en/aktualnosci,Attendees-registration-on-PyCon-PL-2014-is-closed-,31\n",
        "\n",
        "Denis Kurov: Django Authentication Workflow\n",
        "Tue, 07 Oct 2014 00:49:46 +0000\n",
        "http://makkalot-opensource.blogspot.com/2014/10/django-authentication-workflow.html\n",
        "\n",
        "Stefan Behnel: Faster Fractions\n",
        "Mon, 06 Oct 2014 18:46:28 +0000\n",
        "http://blog.behnel.de/posts/faster-fractions.html\n",
        "\n",
        "Mike C. Fletcher: Back to React Learning\n",
        "Mon, 06 Oct 2014 17:45:54 +0000\n",
        "http://blog.vrplumber.com/b/2014/10/06/back-react-learning/\n",
        "\n",
        "A. Jesse Jiryu Davis: reStructured Text With Chrome And LiveReload\n",
        "Mon, 06 Oct 2014 15:41:12 +0000\n",
        "http://emptysqua.re/blog/restructured-text-chrome-livereload/\n",
        "\n",
        "Calvin Spealman: The Year I Didn't Attend A Conference\n",
        "Mon, 06 Oct 2014 15:00:00 +0000\n",
        "http://techblog.ironfroggy.com/2014/10/the-year-i-didnt-attend-conference.html\n",
        "\n",
        "Carl Trachte: Event report:  pycon.za\n",
        "Mon, 06 Oct 2014 10:24:00 +0000\n",
        "http://pyright.blogspot.com/2014/10/event-report-pyconza.html\n",
        "\n",
        "Kay Hayen: Nuitka Release 0.5.5\n",
        "Sun, 05 Oct 2014 21:15:00 +0000\n",
        "http://nuitka.net/posts/nuitka-release-055.html\n",
        "\n",
        "Julien Tayon: An opinionated versioning system based on mapping versions string to numbers in weird base\n",
        "Sun, 05 Oct 2014 20:52:23 +0000\n",
        "http://beauty-of-imagination.blogspot.com/2014/10/an-opinionated-versioning-system-based.html\n",
        "\n",
        "Chris Moffitt: Using Sets for Data\u00a0Analysis\n",
        "Sun, 05 Oct 2014 17:15:00 +0000\n",
        "http://pbpython.com/data-analysis-with-sets.html\n",
        "\n",
        "Paul Everitt: Recent work with RelStorage\n",
        "Sun, 05 Oct 2014 16:19:09 +0000\n",
        "http://pauleveritt.wordpress.com/2014/10/05/recent-work-with-relstorage/\n",
        "\n",
        "Vasudev Ram: Flattening an arbitrarily nested list in Python\n",
        "Sun, 05 Oct 2014 04:53:42 +0000\n",
        "http://jugad2.blogspot.com/2014/10/flattening-arbitrarily-nested-list-in.html\n",
        "\n",
        "Calvin Spealman: The Uselessness of HTML Imports\n",
        "Sun, 05 Oct 2014 02:23:00 +0000\n",
        "http://techblog.ironfroggy.com/2014/10/the-uselessness-of-html-imports.html\n",
        "\n",
        "Calvin Spealman: Duckling, A Date-Parsing Library That Makes Me Rethink About Parsing\n",
        "Sun, 05 Oct 2014 01:45:00 +0000\n",
        "http://techblog.ironfroggy.com/2014/10/ducking-date-parsing-library-that-makes.html\n",
        "\n",
        "A. Jesse Jiryu Davis: Motor 0.3.3 Released\n",
        "Sun, 05 Oct 2014 00:47:26 +0000\n",
        "http://emptysqua.re/blog/motor-0-3-3-released/\n",
        "\n",
        "Django Weblog: Update to Django Community Code of Conduct\n",
        "Sat, 04 Oct 2014 12:45:00 +0000\n",
        "https://www.djangoproject.com/weblog/2014/oct/04/update-django-community-code-conduct/\n",
        "\n",
        "Malthe Borch: DIY Background Tasks on EC2\n",
        "Sat, 04 Oct 2014 09:30:00 +0000\n",
        "https://maltheborch.com/2014/10/diy-background-tasks-on-ec2.html\n",
        "\n",
        "Kushal Das: Event report: PyCon India 2014\n",
        "Fri, 03 Oct 2014 18:26:00 +0000\n",
        "http://kushaldas.in/posts/event-report-pycon-india-2014.html\n",
        "\n",
        "PyCharm: Feature Spotlight: Tracking code changes with Local History\n",
        "Fri, 03 Oct 2014 16:45:21 +0000\n",
        "http://feedproxy.google.com/~r/Pycharm/~3/5ntDdUJaeoc/\n",
        "\n"
       ]
      }
     ],
     "prompt_number": 221
    },
    {
     "cell_type": "markdown",
     "metadata": {},
     "source": [
      "- \ub354 \ub9ce\uc740 \uc791\uc5c5\uc744 \uc6d0\ud55c\ub2e4\uba74 print()\ubb38\uc744 \ub354 \ud765\ubbf8\ub85c\uc6b4 \uac83\uc73c\ub85c \ubc14\uafb8\ubcf4\uc790"
     ]
    },
    {
     "cell_type": "markdown",
     "metadata": {},
     "source": [
      "### \ud1a0\ub860\n",
      "\n",
      "- \ub9ce\uc740 \uc560\ud50c\ub9ac\ucf00\uc774\uc158\uc5d0\uc11c XML\ub85c \uc778\ucf54\ub529\ub41c \ub370\uc774\ud130\ub97c \ub2e4\ub8f8\n",
      "- \uc778\ud130\ub137 \uc0c1\uc5d0\uc11c \ub370\uc774\ud130\ub97c \uc8fc\uace0 \ubc1b\uc744 \ub54c XML\uc744 \uc0ac\uc6a9\ud558\ub294 \uacf3\uc774 \ub9ce\uae30\ub3c4 \ud558\uc9c0\ub9cc, \uc560\ud50c\ub9ac\ucf00\uc774\uc158 \ub370\uc774\ud130(\uc6cc\ub4dc \ud504\ub85c\uc138\uc2f1, \uc74c\uc545 \ub77c\uc774\ube0c\ub7ec\ub9ac \ub4f1)\ub97c \uc800\uc7a5\ud560 \ub54c\ub3c4 \uc77c\ubc18\uc801\uc73c\ub85c \uc0ac\uc6a9\ud558\ub294 \ud615\uc2dd\n",
      "- \ub9ce\uc740 \uacbd\uc6b0, XML\uc774 \ub370\uc774\ud130\ub97c \uc800\uc7a5\ud560 \ub54c \uc0ac\uc6a9\ub418\uba74 \ubb38\uc11c \uad6c\uc870\ub294 \ub2e8\uc21c\ud558\uace0 \uc774\ud574\ud558\uae30 \uc26c\uc6c0"
     ]
    },
    {
     "cell_type": "code",
     "collapsed": false,
     "input": [
      "from xml.etree.ElementTree import dump\n",
      "from urllib.parse import unquote\n",
      "import html\n",
      "# d = str(dump(doc))\n",
      "# d[:100]"
     ],
     "language": "python",
     "metadata": {},
     "outputs": [],
     "prompt_number": 250
    },
    {
     "cell_type": "code",
     "collapsed": false,
     "input": [
      "# \uc774\uac74 \ub418\ub294\ub370..\n",
      "s = '''<description>&lt;br /&gt;&lt;p&gt;&lt;/p&gt;By &lt;a href=\"http://www.dancingbison.com\"&gt;Vasudev Ram&lt;/a&gt;&lt;br /&gt;&lt;br /&gt;&lt;div class=\"separator\"&gt;&lt;a href='''"
     ],
     "language": "python",
     "metadata": {},
     "outputs": [],
     "prompt_number": 241
    },
    {
     "cell_type": "code",
     "collapsed": false,
     "input": [
      "html.unescape(s)"
     ],
     "language": "python",
     "metadata": {},
     "outputs": [
      {
       "metadata": {},
       "output_type": "pyout",
       "prompt_number": 242,
       "text": [
        "'<description><br /><p></p>By <a href=\"http://www.dancingbison.com\">Vasudev Ram</a><br /><br /><div class=\"separator\"><a href='"
       ]
      }
     ],
     "prompt_number": 242
    },
    {
     "cell_type": "markdown",
     "metadata": {},
     "source": [
      "- xml.etree.ElementTree.parse() \ud568\uc218\uac00 XML \ubb38\uc11c\ub97c \ud30c\uc2f1\ud558\uace0 \ubb38\uc11c \uac1d\uccb4\ub85c \ub9cc\u3137\ub984\n",
      "- \uc5ec\uae30\uc11c\ubd80\ud130 \ud2b9\uc815 XML \uc694\uc18c\ub97c \ucc3e\uae30 \uc704\ud574 find(), iterfind(), findtext()\uc640 \uac19\uc740 \ud568\uc218\ub97c \uc0ac\uc6a9\ud55c\ub2e4.\n",
      "- \ud568\uc218\uc5d0\uc11c \uc0ac\uc6a9\ud558\ub294 \uc778\uc790\ub294 channel/item \ub610\ub294 title\uacfc \uac19\uc774 \ud2b9\uc815 \ud0dc\uadf8\uc758 \uc774\ub984\uc744 \uc0ac\uc6a9\ud568\n",
      "\n",
      "\n",
      "- \ud0dc\uadf8\ub97c \uba85\uc2dc\ud560 \ub54c, \uc804\uccb4 \ubb38\uc11c \uad6c\uc870\uccb4\ub97c \uace0\ub824\ud574\uc57c \ud568\n",
      "- \ubaa8\ub4e0 \ucc3e\uae30 \uc791\uc5c5\uc740 \uc2dc\uc791 \uc694\uc18c\uc5d0 \uc0c1\ub300\uc801\uc73c\ub85c \ubc1c\uc0dd\ud568\n",
      "- \ub9c8\ucc2c\uac00\uc9c0\ub85c \ud568\uc218\uc5d0 \uc804\ub2ec\ud558\ub294 \ud0dc\uadf8 \uc774\ub984 \uc5ed\uc2dc \uc2dc\uc791\uc5d0 \uc0c1\ub300\uc801\n",
      "- \uc608\ub97c \ub4e4\uc5b4, doc.iterfind('channel/item') \ud638\ucd9c\uc740 'channel' \uc694\uc18c\uc758 'item' \uc694\uc18c\ub97c \ucc3e\ub294\ub2e4.\n",
      "- doc\uc740 \ubb38\uc11c\uc758 \uc0c1\ub2e8\uc744 \ub098\ud0c0\ub0c4(\uc0c1\uc704 \ub808\ubca8 \"rss\" \uc694\uc18c). \uadf8 \uc774\ud6c4 item.findtext() \ud638\ucd9c\uc740 \"item\" \uc694\uc18c\ub97c \ucc3e\uc740 \uacf3\uc5d0\uc11c \uc0c1\ub300\uc801\uc73c\ub85c \ubc1c\uc0dd\n",
      "- ElementTree \ubaa8\ub4c8\uc774 \ub098\ud0c0\ub0b4\ub294 \ubaa8\ub4e0 \uc694\uc18c\ub294 \ud30c\uc2f1\uc5d0 \uc720\uc6a9\ud55c \uc694\uc18c\uc640 \uba54\uc18c\ub4dc\ub97c \uc57d\uac04 \uac00\uc9c0\uace0 \uc788\uc74c\n",
      "- tag\uc694\uc18c\uc5d0\ub294 \ud0dc\uadf8\uc758 \uc774\ub984, text \uc694\uc18c\uc5d0\ub294 \ub2f4\uaca8\uc788\ub294 \ud14d\uc2a4\ud2b8\uac00 \ud3ec\ud568\ub418\uc5b4 \uc788\uace0, \ud544\uc694\ud55c \uacbd\uc6b0 get() \uba54\uc18c\ub4dc\ub85c \uc694\uc18c\ub97c \uc5bb\uc744 \uc218 \uc788\uc74c"
     ]
    },
    {
     "cell_type": "code",
     "collapsed": false,
     "input": [
      "doc"
     ],
     "language": "python",
     "metadata": {},
     "outputs": [
      {
       "metadata": {},
       "output_type": "pyout",
       "prompt_number": 251,
       "text": [
        "<xml.etree.ElementTree.ElementTree at 0x10caaf518>"
       ]
      }
     ],
     "prompt_number": 251
    },
    {
     "cell_type": "code",
     "collapsed": false,
     "input": [
      "e = doc.find('channel/title')"
     ],
     "language": "python",
     "metadata": {},
     "outputs": [],
     "prompt_number": 252
    },
    {
     "cell_type": "code",
     "collapsed": false,
     "input": [
      "e"
     ],
     "language": "python",
     "metadata": {},
     "outputs": [
      {
       "metadata": {},
       "output_type": "pyout",
       "prompt_number": 253,
       "text": [
        "<Element 'title' at 0x10cc65138>"
       ]
      }
     ],
     "prompt_number": 253
    },
    {
     "cell_type": "code",
     "collapsed": false,
     "input": [
      "e.tag"
     ],
     "language": "python",
     "metadata": {},
     "outputs": [
      {
       "metadata": {},
       "output_type": "pyout",
       "prompt_number": 254,
       "text": [
        "'title'"
       ]
      }
     ],
     "prompt_number": 254
    },
    {
     "cell_type": "code",
     "collapsed": false,
     "input": [
      "e.text"
     ],
     "language": "python",
     "metadata": {},
     "outputs": [
      {
       "metadata": {},
       "output_type": "pyout",
       "prompt_number": 255,
       "text": [
        "'Planet Python'"
       ]
      }
     ],
     "prompt_number": 255
    },
    {
     "cell_type": "code",
     "collapsed": false,
     "input": [
      "e.get('some_attribute')"
     ],
     "language": "python",
     "metadata": {},
     "outputs": [],
     "prompt_number": 256
    },
    {
     "cell_type": "markdown",
     "metadata": {},
     "source": [
      "- XML \ud30c\uc2f1\uc5d0 xml.etree.ElementTree \ub9d0\uace0 \ub2e4\ub978 \uac83\uc744 \uc0ac\uc6a9\ud560 \uc218 \uc788\uc74c\n",
      "- \uc880 \ub354 \uace0\uae09 \uc560\ud50c\ub9ac\ucf00\uc774\uc158\uc744 \uac1c\ubc1c\uc911\uc774\ub77c\uba74 lxml \uc0ac\uc6a9 \uace0\ub824\n",
      "- ElementTree\uc640 \ub3d9\uc77c\ud55c \uc778\ud130\ud398\uc774\uc2a4\ub97c \uc0ac\uc6a9\ud558\uae30 \ub54c\ubb38\uc5d0 \uc774\ubc88 \ub808\uc2dc\ud53c\uc5d0 \uc0ac\uc6a9\ud55c \uc608\uc81c\ub97c \ub3d9\uc77c\ud558\uac8c \uc0ac\uc6a9 \uac00\ub2a5\n",
      "- \ub2e8\uc21c\ud788 \ucc98\uc74c \uc784\ud3ec\ud2b8 \uad6c\ubb38\ub9cc from xml.etree import parse\ub85c \ubc14\uafb8\uba74 \ub428\n",
      "- lxml\uc740 XML \ud45c\uc900\uacfc \uc644\ubcbd\ud788 \ub3d9\uc77c\ud55c \ud5e4\ud0dd\uc744 \uc81c\uacf5\n",
      "- \ub610\ud55c \ub9e4\uc6b0 \ube60\ub974\uace0 \uac80\uc99d, XSLT, XPath\uc640 \uac19\uc740 \ubaa8\ub4e0 \uae30\ub2a5 \uc81c\uacf5"
     ]
    },
    {
     "cell_type": "markdown",
     "metadata": {},
     "source": [
      "## 6.4 \ub9e4\uc6b0 \ud070 XML \ud30c\uc77c \uc99d\ubd84 \ud30c\uc2f1\ud558\uae30\n",
      "\n",
      "- Pass\n",
      "- \ud604\uc7ac \ub0b4\uac00 \ud558\uace0\uc790 \ud558\ub294\uac83\uacfc \uc5b4\uc6b8\ub9ac\uc9c0 \uc54a\uc74c\n",
      "- \uadf8\ub9ac\uace0 \uc7ac\ubbf8\uac00 \uc5c6\uc74c..\n",
      "- \ub098\uc911\uc5d0 \ub2e4\uc2dc \ud55c \ubc88 \ucc3e\uc544\ubcf4\uaca0\uc74c\n",
      "\n",
      "## 6.5 \ub515\uc154\ub108\ub9ac\ub97c XML\ub85c \ubc14\uafb8\uae30\n",
      "\n",
      "## 6.6 XML \ud30c\uc2f1, \uc218\uc815, \uc800\uc7a5\n",
      "\n",
      "## 6.7 \ub124\uc784\uc2a4\ud398\uc774\uc2a4\ub85c XML \ubb38\uc11c \ud30c\uc2f1\n",
      "\n",
      "## 6.8 \uad00\uacc4\ud615 \ub370\uc774\ud130\ubca0\uc774\uc2a4 \uc791\uc5c5\n",
      "\n",
      "## 6.9 16\uc9c4\uc218 \uc778\ucf54\ub529, \ub514\ucf54\ub529\n",
      "\n",
      "## 6.10 Base64 \uc778\ucf54\ub529, \ub514\ucf54\ub529\n",
      "\n",
      "### \ubb38\uc81c\n",
      "\n",
      "- Base64\ub97c \uc0ac\uc6a9\ud55c \ubc14\uc774\ub108\ub9ac \ub370\uc774\ud130\ub97c \uc778\ucf54\ub529, \ub514\ucf54\ub529\ud574\uc57c \ud568\n",
      "\n",
      "### \ud574\uacb0\n",
      "\n",
      "- base64 \ubaa8\ub4c8\uc5d0 b64encode()\uc640 b64decode() \ud568\uc218\ub97c \uc0ac\uc6a9\ud558\uba74 \uc774 \ubb38\uc81c\ub97c \ud574\uacb0"
     ]
    },
    {
     "cell_type": "code",
     "collapsed": false,
     "input": [
      "# \ubc14\uc774\ud2b8 \ub370\uc774\ud130\n",
      "s = b'hello'"
     ],
     "language": "python",
     "metadata": {},
     "outputs": [],
     "prompt_number": 258
    },
    {
     "cell_type": "code",
     "collapsed": false,
     "input": [
      "# Base64\ub85c \uc778\ucf54\ub529\n",
      "import base64\n",
      "a = base64.b64encode(s)\n",
      "a"
     ],
     "language": "python",
     "metadata": {},
     "outputs": [
      {
       "metadata": {},
       "output_type": "pyout",
       "prompt_number": 259,
       "text": [
        "b'aGVsbG8='"
       ]
      }
     ],
     "prompt_number": 259
    },
    {
     "cell_type": "code",
     "collapsed": false,
     "input": [
      "# Base64\ub97c \ub514\ucf54\ub529\n",
      "base64.b64decode(a)"
     ],
     "language": "python",
     "metadata": {},
     "outputs": [
      {
       "metadata": {},
       "output_type": "pyout",
       "prompt_number": 260,
       "text": [
        "b'hello'"
       ]
      }
     ],
     "prompt_number": 260
    },
    {
     "cell_type": "markdown",
     "metadata": {},
     "source": [
      "### \ud1a0\ub860\n",
      "\n",
      "- Base64 \uc778\ucf54\ub529\uc740 \ubc14\uc774\ud2b8 \ubb38\uc790\uc5f4\uacfc \ubc14\uc774\ud2b8 \ubc30\uc5f4\uacfc \uac19\uc740 \ubc14\uc774\ud2b8 \ub370\uc774\ud130\uc5d0\ub9cc \uc0ac\uc6a9\ud558\ub3c4\ub85d \ub514\uc790\uc778\n",
      "- \ub610\ud55c \uc778\ucf54\ub529\uc758 \uacb0\uacfc\ubb3c\uc740 \ud56d\uc0c1 \ubc14\uc774\ud2b8 \ubb38\uc790\uc5f4\uc774 \ub428\n",
      "- Base64 \uc778\ucf54\ub529 \ub370\uc774\ud130\uc640 \uc720\ub2c8\ucf54\ub4dc \ud14d\uc2a4\ud2b8\ub97c \ud568\uaed8 \uc0ac\uc6a9\ud558\ub824\uba74 \ucd94\uac00\uc801\uc778 \ub514\ucf54\ub529 \uc791\uc5c5\uc744 \uac70\uccd0\uc57c \ud568"
     ]
    },
    {
     "cell_type": "code",
     "collapsed": false,
     "input": [
      "a = base64.b64encode(s).decode('ascii')\n",
      "a"
     ],
     "language": "python",
     "metadata": {},
     "outputs": [
      {
       "metadata": {},
       "output_type": "pyout",
       "prompt_number": 262,
       "text": [
        "'aGVsbG8='"
       ]
      }
     ],
     "prompt_number": 262
    },
    {
     "cell_type": "markdown",
     "metadata": {},
     "source": [
      "- Base64\ub97c \ub514\ucf54\ub529\ud560 \ub54c \ubc14\uc774\ud06c \ubb38\uc790\uc5f4\uacfc \uc720\ub2c8\ucf54\ub4dc \ud14d\uc2a4\ud2b8\ub97c \uc0ac\uc6a9\ud560 \uc218 \uc788\uc74c. \ud558\uc9c0\ub9cc \uc720\ub2c8\ucf54\ub4dc \ubb38\uc790\uc5f4\uc5d0\ub294 ASCII \ubb38\uc790\ub9cc \ud3ec\ud568\ud574\uc57c \ud568"
     ]
    },
    {
     "cell_type": "markdown",
     "metadata": {},
     "source": [
      "## 6.11 \ubc14\uc774\ub108\ub9ac \ubc30\uc5f4 \uad6c\uc870\uccb4 \uc77d\uace0 \uc4f0\uae30\n",
      "\n",
      "### \ubb38\uc81c\n",
      "\n",
      "- \ubc14\uc774\ub108\ub9ac \ubc30\uc5f4 \uad6c\uc870\ub97c \ud30c\uc774\uc36c \ud29c\ud50c\ub85c \uc77d\uac70\ub098 \uc4f0\uace0 \uc2f6\ub2e4.\n",
      "\n",
      "### \ud574\uacb0\n",
      "\n",
      "- \ubc14\uc774\ub108\ub9ac \ub370\uc774\ud130\ub97c \ub2e4\ub8e8\uae30 \uc704\ud574\uc11c struct \ubaa8\ub4c8 \uc0ac\uc6a9\n",
      "- struct\ub97c \uc0ac\uc6a9\ud574\uc11c \ud29c\ud50c\uc744 \uc778\ucf54\ub529\ud558\ub294 \uc2dd\uc73c\ub85c \ud30c\uc774\uc36c \ud29c\ud50c\uc744 \ubc14\uc774\ub108\ub9ac \ud30c\uc77c\uc5d0 \uc368\ubcf4\uc790.\n",
      "- [7.3. struct \u00e2\u0080\u0094 Interpret strings as packed binary data \u2014 Python 2.7.8 documentation](https://docs.python.org/2/library/struct.html)"
     ]
    },
    {
     "cell_type": "code",
     "collapsed": false,
     "input": [
      "from struct import Struct"
     ],
     "language": "python",
     "metadata": {},
     "outputs": [],
     "prompt_number": 1
    },
    {
     "cell_type": "code",
     "collapsed": false,
     "input": [
      "def write_records(records, format, f):\n",
      "    '''\uc77c\ub828\uc758 \ud29c\ud50c\uc744 \uad6c\uc870\uccb4\uc758 \ubc14\uc774\ub108\ub9ac \ud30c\uc77c\uc5d0 \uae30\ub85d'''\n",
      "    record_struct = Struct(format)\n",
      "    for r in records:\n",
      "        f.write(record_struct.pack(*r))\n",
      "        \n",
      "if __name__ == '__main__':\n",
      "    records = [ (1, 2.3, 4.5),\n",
      "               (6, 7.8, 9.0),\n",
      "               (12, 13.4, 56.7)]\n",
      "    \n",
      "    with open('06/data.b', 'wb') as f:\n",
      "        write_records(records, '<idd', f)"
     ],
     "language": "python",
     "metadata": {},
     "outputs": [],
     "prompt_number": 3
    },
    {
     "cell_type": "code",
     "collapsed": false,
     "input": [
      "!cat 06/data.b"
     ],
     "language": "python",
     "metadata": {},
     "outputs": [
      {
       "output_type": "stream",
       "stream": "stdout",
       "text": [
        "\u0001\u0000\u0000\u0000ffffff\u0002@\u0000\u0000\u0000\u0000\u0000\u0000\u0012@\u0006\u0000\u0000\u0000333333\u001f@\u0000\u0000\u0000\u0000\u0000\u0000\"@\f",
        "\u0000\u0000\u0000\ufffd\ufffd\ufffd\ufffd\ufffd\ufffd*@\ufffd\ufffd\ufffd\ufffd\ufffdYL@"
       ]
      }
     ],
     "prompt_number": 4
    },
    {
     "cell_type": "markdown",
     "metadata": {},
     "source": [
      "- \uc774 \ud30c\uc77c\uc744 \ud29c\ud50c \ub9ac\uc2a4\ud2b8\ub85c \uc77d\uc5b4 \ub4e4\uc774\ub294 \ubc29\ubc95\uc740 \uc5ec\ub7ec\uac00\uc9c0\n",
      "- 1: \ud30c\uc77c\uc744 \uc870\uac01 \uc870\uac01 \uc77d\uc5b4 \ub4e4\uc77c \uc0dd\uac01\uc774\ub77c\uba74 \ub2e4\uc74c \ucf54\ub4dc \uc0ac\uc6a9"
     ]
    },
    {
     "cell_type": "code",
     "collapsed": false,
     "input": [
      "from struct import Struct\n",
      "\n",
      "def read_records(format, f):\n",
      "    record_struct = Struct(format)\n",
      "    chunks = iter(lambda: f.read(record_struct.size), b'')\n",
      "    return (record_struct.unpack(chunk) for chunk in chunks)\n",
      "\n",
      "if __name__ == '__main__':\n",
      "    with open('06/data.b', 'rb') as f:\n",
      "        for rec in read_records('<idd', f):\n",
      "            print(rec)"
     ],
     "language": "python",
     "metadata": {},
     "outputs": [
      {
       "output_type": "stream",
       "stream": "stdout",
       "text": [
        "(1, 2.3, 4.5)\n",
        "(6, 7.8, 9.0)\n",
        "(12, 13.4, 56.7)\n"
       ]
      }
     ],
     "prompt_number": 6
    },
    {
     "cell_type": "markdown",
     "metadata": {},
     "source": [
      "- \ud30c\uc77c\uc744 \ubc14\uc774\ud2b8 \ubb38\uc790\uc5f4\uc5d0 \ud55c \ubc88\uc5d0 \uc77d\uc5b4 \ub4e4\uc774\uace0 \ucd94\ud6c4 \uc5ec\ub7ec \uc870\uac01\uc73c\ub85c \ubcc0\ud658"
     ]
    },
    {
     "cell_type": "code",
     "collapsed": false,
     "input": [
      "from struct import Struct\n",
      "\n",
      "def unpack_records(format, data):\n",
      "    record_struct = Struct(format)\n",
      "    return (record_struct.unpack_from(data, offset)\n",
      "            for offset in range(0, len(data), record_struct.size))\n",
      "\n",
      "\n",
      "if __name__ == '__main__':\n",
      "    with open('06/data.b', 'rb') as f:\n",
      "        data = f.read()\n",
      "        \n",
      "    for rec in unpack_records('<idd', data):\n",
      "        print(rec)"
     ],
     "language": "python",
     "metadata": {},
     "outputs": [
      {
       "output_type": "stream",
       "stream": "stdout",
       "text": [
        "(1, 2.3, 4.5)\n",
        "(6, 7.8, 9.0)\n",
        "(12, 13.4, 56.7)\n"
       ]
      }
     ],
     "prompt_number": 9
    },
    {
     "cell_type": "markdown",
     "metadata": {},
     "source": [
      "### Skip \ub098\uc911\uc5d0 \ub2e4\uc2dc \ubcf4\uc790"
     ]
    },
    {
     "cell_type": "markdown",
     "metadata": {},
     "source": [
      "## 6.13 \ub370\uc774\ud130 \uc6a9\uc57d\uacfc \ud1b5\uacc4 \uc218\ud589\n",
      "\n",
      "### \ubb38\uc81c\n",
      "\n",
      "- \ucee4\ub2e4\ub780 dataset\ub97c \uc694\uc57d\ud558\uac70\ub098 \ud1b5\uacc4\ub97c \ub0b4\uace0 \uc2f6\ub2e4.\n",
      "\n",
      "### \ud574\uacb0\n",
      "\n",
      "- \ud1b5\uacc4, \uc2dc\uacc4\uc5f4 \ub4f1\uacfc \uc5f0\uad00\uc788\ub294 \ub370\uc774\ud130 \ubd84\uc11d\uc744 \ud558\ub824\uba74 Pandas \ub77c\uc774\ube0c\ub7ec\ub9ac\ub97c \uc54c\uc544\ubd10\uc57c \ud568\n",
      "- [\uc2dc\uce74\uace0\uc758 \uc950\uc640 \uc124\uce58\ub958 \ub370\uc774\ud130\ubca0\uc774\uc2a4](https://data.cityofchicago.org/Service-Requests/311-Service-Requests-Rodent-Baiting/97t6-zrhs)(google \uac80\uc0c9\ud574\uc11c \ucc3e\uc74c)\ub97c Pandas\ub85c \ubd84\uc11d\ud558\ub294 \uc608\uc81c\ub97c \ud1b5\ud574 \ub9db\ubcf4\uae30\ub97c \ud574\ubcf4\uc790.\n",
      "- \uae00\uc744 \uc4f0\uace0 \uc788\ub294 \ud604\uc7ac \uc774 \uc790\ub8cc\ub97c \uc5f4\uba74 CSV \ud30c\uc77c\uc5d0 74,000 \uac1c\uc758 \ub370\uc774\ud130\uac00 \ub4e4\uc5b4\uc788\ub2e4."
     ]
    },
    {
     "cell_type": "markdown",
     "metadata": {},
     "source": [
      "> pip install pandas"
     ]
    },
    {
     "cell_type": "code",
     "collapsed": false,
     "input": [
      "import pandas"
     ],
     "language": "python",
     "metadata": {},
     "outputs": [],
     "prompt_number": 10
    },
    {
     "cell_type": "code",
     "collapsed": false,
     "input": [
      "rats = pandas.read_csv('06/rats.csv')"
     ],
     "language": "python",
     "metadata": {},
     "outputs": [],
     "prompt_number": 13
    },
    {
     "cell_type": "code",
     "collapsed": false,
     "input": [
      "rats"
     ],
     "language": "python",
     "metadata": {},
     "outputs": [
      {
       "html": [
        "<div style=\"max-height:1000px;max-width:1500px;overflow:auto;\">\n",
        "<table border=\"1\" class=\"dataframe\">\n",
        "  <thead>\n",
        "    <tr style=\"text-align: right;\">\n",
        "      <th></th>\n",
        "      <th>Creation Date</th>\n",
        "      <th>Status</th>\n",
        "      <th>Completion Date</th>\n",
        "      <th>Service Request Number</th>\n",
        "      <th>Type of Service Request</th>\n",
        "      <th>Number of Premises Baited</th>\n",
        "      <th>Number of Premises with Garbage</th>\n",
        "      <th>Number of Premises with Rats</th>\n",
        "      <th>Current Activity</th>\n",
        "      <th>Most Recent Action</th>\n",
        "      <th>Street Address</th>\n",
        "      <th>ZIP Code</th>\n",
        "      <th>X Coordinate</th>\n",
        "      <th>Y Coordinate</th>\n",
        "      <th>Ward</th>\n",
        "      <th>Police District</th>\n",
        "      <th>Community Area</th>\n",
        "      <th>Latitude</th>\n",
        "      <th>Longitude</th>\n",
        "      <th>Location</th>\n",
        "    </tr>\n",
        "  </thead>\n",
        "  <tbody>\n",
        "    <tr>\n",
        "      <th>0     </th>\n",
        "      <td> 10/06/2014</td>\n",
        "      <td>            Open</td>\n",
        "      <td>        NaN</td>\n",
        "      <td>            14-01708674</td>\n",
        "      <td> Rodent Baiting/Rat Complaint</td>\n",
        "      <td>NaN</td>\n",
        "      <td>NaN</td>\n",
        "      <td>NaN</td>\n",
        "      <td>              NaN</td>\n",
        "      <td>                                     NaN</td>\n",
        "      <td>    4908 W HUTCHINSON ST</td>\n",
        "      <td> 60641</td>\n",
        "      <td> 1142946.950001</td>\n",
        "      <td> 1927808.160332</td>\n",
        "      <td> 45</td>\n",
        "      <td> 16</td>\n",
        "      <td> 15</td>\n",
        "      <td> 41.957953</td>\n",
        "      <td>-87.749872</td>\n",
        "      <td> (41.957952909185856, -87.74987175876076)</td>\n",
        "    </tr>\n",
        "    <tr>\n",
        "      <th>1     </th>\n",
        "      <td> 10/06/2014</td>\n",
        "      <td>            Open</td>\n",
        "      <td>        NaN</td>\n",
        "      <td>            14-01708613</td>\n",
        "      <td> Rodent Baiting/Rat Complaint</td>\n",
        "      <td>NaN</td>\n",
        "      <td>NaN</td>\n",
        "      <td>NaN</td>\n",
        "      <td>              NaN</td>\n",
        "      <td>                                     NaN</td>\n",
        "      <td>        6915 S BISHOP ST</td>\n",
        "      <td> 60636</td>\n",
        "      <td> 1167859.632111</td>\n",
        "      <td> 1858888.135675</td>\n",
        "      <td> 17</td>\n",
        "      <td>  7</td>\n",
        "      <td> 67</td>\n",
        "      <td> 41.768329</td>\n",
        "      <td>-87.660270</td>\n",
        "      <td>  (41.768328601514455, -87.6602704707055)</td>\n",
        "    </tr>\n",
        "    <tr>\n",
        "      <th>2     </th>\n",
        "      <td> 10/06/2014</td>\n",
        "      <td>            Open</td>\n",
        "      <td>        NaN</td>\n",
        "      <td>            14-01707402</td>\n",
        "      <td> Rodent Baiting/Rat Complaint</td>\n",
        "      <td>NaN</td>\n",
        "      <td>NaN</td>\n",
        "      <td>NaN</td>\n",
        "      <td>              NaN</td>\n",
        "      <td>                                     NaN</td>\n",
        "      <td>        1500 N AVERS AVE</td>\n",
        "      <td> 60651</td>\n",
        "      <td> 1150433.825895</td>\n",
        "      <td> 1909696.767409</td>\n",
        "      <td> 30</td>\n",
        "      <td> 25</td>\n",
        "      <td> 23</td>\n",
        "      <td> 41.908111</td>\n",
        "      <td>-87.722821</td>\n",
        "      <td> (41.908110540569005, -87.72282129792974)</td>\n",
        "    </tr>\n",
        "    <tr>\n",
        "      <th>3     </th>\n",
        "      <td> 10/06/2014</td>\n",
        "      <td>            Open</td>\n",
        "      <td>        NaN</td>\n",
        "      <td>            14-01707381</td>\n",
        "      <td> Rodent Baiting/Rat Complaint</td>\n",
        "      <td>NaN</td>\n",
        "      <td>NaN</td>\n",
        "      <td>NaN</td>\n",
        "      <td>              NaN</td>\n",
        "      <td>                                     NaN</td>\n",
        "      <td>        1400 N AVERS AVE</td>\n",
        "      <td> 60651</td>\n",
        "      <td> 1150455.039795</td>\n",
        "      <td> 1909041.263606</td>\n",
        "      <td> 30</td>\n",
        "      <td> 25</td>\n",
        "      <td> 23</td>\n",
        "      <td> 41.906311</td>\n",
        "      <td>-87.722761</td>\n",
        "      <td>  (41.90631136039996, -87.72276050861144)</td>\n",
        "    </tr>\n",
        "    <tr>\n",
        "      <th>4     </th>\n",
        "      <td> 10/06/2014</td>\n",
        "      <td>            Open</td>\n",
        "      <td>        NaN</td>\n",
        "      <td>            14-01708605</td>\n",
        "      <td> Rodent Baiting/Rat Complaint</td>\n",
        "      <td>NaN</td>\n",
        "      <td>NaN</td>\n",
        "      <td>NaN</td>\n",
        "      <td>              NaN</td>\n",
        "      <td>                                     NaN</td>\n",
        "      <td>      5003 S KEDVALE AVE</td>\n",
        "      <td> 60632</td>\n",
        "      <td> 1149546.979381</td>\n",
        "      <td> 1871115.957791</td>\n",
        "      <td> 14</td>\n",
        "      <td>  8</td>\n",
        "      <td> 57</td>\n",
        "      <td> 41.802257</td>\n",
        "      <td>-87.727080</td>\n",
        "      <td>  (41.80225730577933, -87.72707981049875)</td>\n",
        "    </tr>\n",
        "    <tr>\n",
        "      <th>5     </th>\n",
        "      <td> 10/06/2014</td>\n",
        "      <td>            Open</td>\n",
        "      <td>        NaN</td>\n",
        "      <td>            14-01707939</td>\n",
        "      <td> Rodent Baiting/Rat Complaint</td>\n",
        "      <td>NaN</td>\n",
        "      <td>NaN</td>\n",
        "      <td>NaN</td>\n",
        "      <td>              NaN</td>\n",
        "      <td>                                     NaN</td>\n",
        "      <td>     4228 N LAWNDALE AVE</td>\n",
        "      <td> 60618</td>\n",
        "      <td> 1150966.422794</td>\n",
        "      <td> 1927849.117493</td>\n",
        "      <td> 39</td>\n",
        "      <td> 17</td>\n",
        "      <td> 16</td>\n",
        "      <td> 41.957912</td>\n",
        "      <td>-87.720388</td>\n",
        "      <td> (41.957911681241406, -87.72038806227229)</td>\n",
        "    </tr>\n",
        "    <tr>\n",
        "      <th>6     </th>\n",
        "      <td> 10/06/2014</td>\n",
        "      <td>            Open</td>\n",
        "      <td>        NaN</td>\n",
        "      <td>            14-01707412</td>\n",
        "      <td> Rodent Baiting/Rat Complaint</td>\n",
        "      <td>NaN</td>\n",
        "      <td>NaN</td>\n",
        "      <td>NaN</td>\n",
        "      <td>              NaN</td>\n",
        "      <td>                                     NaN</td>\n",
        "      <td> 5129 N CENTRAL PARK AVE</td>\n",
        "      <td> 60625</td>\n",
        "      <td> 1151461.600423</td>\n",
        "      <td> 1933842.899970</td>\n",
        "      <td> 39</td>\n",
        "      <td> 17</td>\n",
        "      <td> 13</td>\n",
        "      <td> 41.974349</td>\n",
        "      <td>-87.718409</td>\n",
        "      <td> (41.974349283846536, -87.71840945909008)</td>\n",
        "    </tr>\n",
        "    <tr>\n",
        "      <th>7     </th>\n",
        "      <td> 10/06/2014</td>\n",
        "      <td>            Open</td>\n",
        "      <td>        NaN</td>\n",
        "      <td>            14-01707409</td>\n",
        "      <td> Rodent Baiting/Rat Complaint</td>\n",
        "      <td>NaN</td>\n",
        "      <td>NaN</td>\n",
        "      <td>NaN</td>\n",
        "      <td>              NaN</td>\n",
        "      <td>                                     NaN</td>\n",
        "      <td>     680 N LAKE SHORE DR</td>\n",
        "      <td> 60611</td>\n",
        "      <td> 1179659.954073</td>\n",
        "      <td> 1905017.250129</td>\n",
        "      <td> 42</td>\n",
        "      <td> 18</td>\n",
        "      <td>  8</td>\n",
        "      <td> 41.894649</td>\n",
        "      <td>-87.615604</td>\n",
        "      <td>  (41.89464875944979, -87.61560417245973)</td>\n",
        "    </tr>\n",
        "    <tr>\n",
        "      <th>8     </th>\n",
        "      <td> 10/06/2014</td>\n",
        "      <td>            Open</td>\n",
        "      <td>        NaN</td>\n",
        "      <td>            14-01707407</td>\n",
        "      <td> Rodent Baiting/Rat Complaint</td>\n",
        "      <td>NaN</td>\n",
        "      <td>NaN</td>\n",
        "      <td>NaN</td>\n",
        "      <td>              NaN</td>\n",
        "      <td>                                     NaN</td>\n",
        "      <td>       6223 N LE MAI AVE</td>\n",
        "      <td> 60646</td>\n",
        "      <td> 1140366.422315</td>\n",
        "      <td> 1941009.134206</td>\n",
        "      <td> 45</td>\n",
        "      <td> 16</td>\n",
        "      <td> 12</td>\n",
        "      <td> 41.994225</td>\n",
        "      <td>-87.759033</td>\n",
        "      <td>  (41.99422528183371, -87.75903344019028)</td>\n",
        "    </tr>\n",
        "    <tr>\n",
        "      <th>9     </th>\n",
        "      <td> 10/06/2014</td>\n",
        "      <td>            Open</td>\n",
        "      <td>        NaN</td>\n",
        "      <td>            14-01707841</td>\n",
        "      <td> Rodent Baiting/Rat Complaint</td>\n",
        "      <td>NaN</td>\n",
        "      <td>NaN</td>\n",
        "      <td>NaN</td>\n",
        "      <td>              NaN</td>\n",
        "      <td>                                     NaN</td>\n",
        "      <td>        6631 N MOZART ST</td>\n",
        "      <td> 60645</td>\n",
        "      <td> 1156129.162233</td>\n",
        "      <td> 1943863.671887</td>\n",
        "      <td> 50</td>\n",
        "      <td> 24</td>\n",
        "      <td>  2</td>\n",
        "      <td> 42.001754</td>\n",
        "      <td>-87.700973</td>\n",
        "      <td>  (42.00175352887489, -87.70097332471786)</td>\n",
        "    </tr>\n",
        "    <tr>\n",
        "      <th>10    </th>\n",
        "      <td> 10/06/2014</td>\n",
        "      <td>            Open</td>\n",
        "      <td>        NaN</td>\n",
        "      <td>            14-01707424</td>\n",
        "      <td> Rodent Baiting/Rat Complaint</td>\n",
        "      <td>NaN</td>\n",
        "      <td>NaN</td>\n",
        "      <td>NaN</td>\n",
        "      <td>              NaN</td>\n",
        "      <td>                                     NaN</td>\n",
        "      <td>         11225 S TROY ST</td>\n",
        "      <td> 60655</td>\n",
        "      <td> 1157363.428932</td>\n",
        "      <td> 1830008.682474</td>\n",
        "      <td> 19</td>\n",
        "      <td> 22</td>\n",
        "      <td> 74</td>\n",
        "      <td> 41.689297</td>\n",
        "      <td>-87.699524</td>\n",
        "      <td>  (41.68929742981148, -87.69952381260245)</td>\n",
        "    </tr>\n",
        "    <tr>\n",
        "      <th>11    </th>\n",
        "      <td> 10/06/2014</td>\n",
        "      <td>            Open</td>\n",
        "      <td>        NaN</td>\n",
        "      <td>            14-01707631</td>\n",
        "      <td> Rodent Baiting/Rat Complaint</td>\n",
        "      <td>NaN</td>\n",
        "      <td>NaN</td>\n",
        "      <td>NaN</td>\n",
        "      <td>              NaN</td>\n",
        "      <td>                                     NaN</td>\n",
        "      <td>        1240 W BARRY AVE</td>\n",
        "      <td> 60657</td>\n",
        "      <td> 1167484.356217</td>\n",
        "      <td> 1920717.586612</td>\n",
        "      <td> 32</td>\n",
        "      <td> 19</td>\n",
        "      <td>  6</td>\n",
        "      <td> 41.938002</td>\n",
        "      <td>-87.659869</td>\n",
        "      <td>  (41.93800218559503, -87.65986853469147)</td>\n",
        "    </tr>\n",
        "    <tr>\n",
        "      <th>12    </th>\n",
        "      <td> 10/06/2014</td>\n",
        "      <td>            Open</td>\n",
        "      <td>        NaN</td>\n",
        "      <td>            14-01707536</td>\n",
        "      <td> Rodent Baiting/Rat Complaint</td>\n",
        "      <td>NaN</td>\n",
        "      <td>NaN</td>\n",
        "      <td>NaN</td>\n",
        "      <td>              NaN</td>\n",
        "      <td>                                     NaN</td>\n",
        "      <td>      9516 S OGLESBY AVE</td>\n",
        "      <td> 60617</td>\n",
        "      <td> 1193753.869877</td>\n",
        "      <td> 1842362.443233</td>\n",
        "      <td>  7</td>\n",
        "      <td>  4</td>\n",
        "      <td> 51</td>\n",
        "      <td> 41.722385</td>\n",
        "      <td>-87.565897</td>\n",
        "      <td>  (41.72238546736288, -87.56589719418255)</td>\n",
        "    </tr>\n",
        "    <tr>\n",
        "      <th>13    </th>\n",
        "      <td> 10/06/2014</td>\n",
        "      <td>            Open</td>\n",
        "      <td>        NaN</td>\n",
        "      <td>            14-01708547</td>\n",
        "      <td> Rodent Baiting/Rat Complaint</td>\n",
        "      <td>NaN</td>\n",
        "      <td>NaN</td>\n",
        "      <td>NaN</td>\n",
        "      <td>              NaN</td>\n",
        "      <td>                                     NaN</td>\n",
        "      <td>       4350 N CICERO AVE</td>\n",
        "      <td> 60641</td>\n",
        "      <td> 1143584.306419</td>\n",
        "      <td> 1928578.821227</td>\n",
        "      <td> 45</td>\n",
        "      <td> 16</td>\n",
        "      <td> 15</td>\n",
        "      <td> 41.960056</td>\n",
        "      <td>-87.747509</td>\n",
        "      <td>  (41.96005573563926, -87.74750921768275)</td>\n",
        "    </tr>\n",
        "    <tr>\n",
        "      <th>14    </th>\n",
        "      <td> 10/06/2014</td>\n",
        "      <td>            Open</td>\n",
        "      <td>        NaN</td>\n",
        "      <td>            14-01708358</td>\n",
        "      <td> Rodent Baiting/Rat Complaint</td>\n",
        "      <td>NaN</td>\n",
        "      <td>NaN</td>\n",
        "      <td>NaN</td>\n",
        "      <td>              NaN</td>\n",
        "      <td>                                     NaN</td>\n",
        "      <td>   11447 S CHAMPLAIN AVE</td>\n",
        "      <td> 60628</td>\n",
        "      <td> 1182622.317169</td>\n",
        "      <td> 1829179.763628</td>\n",
        "      <td>  9</td>\n",
        "      <td>  5</td>\n",
        "      <td> 50</td>\n",
        "      <td> 41.686476</td>\n",
        "      <td>-87.607077</td>\n",
        "      <td>  (41.68647557183858, -87.60707728549757)</td>\n",
        "    </tr>\n",
        "    <tr>\n",
        "      <th>15    </th>\n",
        "      <td> 10/06/2014</td>\n",
        "      <td>            Open</td>\n",
        "      <td>        NaN</td>\n",
        "      <td>            14-01708287</td>\n",
        "      <td> Rodent Baiting/Rat Complaint</td>\n",
        "      <td>NaN</td>\n",
        "      <td>NaN</td>\n",
        "      <td>NaN</td>\n",
        "      <td>              NaN</td>\n",
        "      <td>                                     NaN</td>\n",
        "      <td>       4544 N MOBILE AVE</td>\n",
        "      <td> 60630</td>\n",
        "      <td> 1133526.838073</td>\n",
        "      <td> 1929663.931429</td>\n",
        "      <td> 38</td>\n",
        "      <td> 16</td>\n",
        "      <td> 15</td>\n",
        "      <td> 41.963216</td>\n",
        "      <td>-87.784460</td>\n",
        "      <td>  (41.96321611063977, -87.78446024221064)</td>\n",
        "    </tr>\n",
        "    <tr>\n",
        "      <th>16    </th>\n",
        "      <td> 10/06/2014</td>\n",
        "      <td>            Open</td>\n",
        "      <td>        NaN</td>\n",
        "      <td>            14-01707967</td>\n",
        "      <td> Rodent Baiting/Rat Complaint</td>\n",
        "      <td>NaN</td>\n",
        "      <td>NaN</td>\n",
        "      <td>NaN</td>\n",
        "      <td>              NaN</td>\n",
        "      <td>                                     NaN</td>\n",
        "      <td>     4232 N LAWNDALE AVE</td>\n",
        "      <td> 60618</td>\n",
        "      <td> 1150965.622794</td>\n",
        "      <td> 1927876.017493</td>\n",
        "      <td> 39</td>\n",
        "      <td> 17</td>\n",
        "      <td> 16</td>\n",
        "      <td> 41.957986</td>\n",
        "      <td>-87.720390</td>\n",
        "      <td>  (41.95798551245732, -87.72039029600587)</td>\n",
        "    </tr>\n",
        "    <tr>\n",
        "      <th>17    </th>\n",
        "      <td> 10/06/2014</td>\n",
        "      <td>            Open</td>\n",
        "      <td>        NaN</td>\n",
        "      <td>            14-01708077</td>\n",
        "      <td> Rodent Baiting/Rat Complaint</td>\n",
        "      <td>NaN</td>\n",
        "      <td>NaN</td>\n",
        "      <td>NaN</td>\n",
        "      <td>              NaN</td>\n",
        "      <td>                                     NaN</td>\n",
        "      <td>     4222 N LAWNDALE AVE</td>\n",
        "      <td> 60618</td>\n",
        "      <td> 1150967.622794</td>\n",
        "      <td> 1927808.917493</td>\n",
        "      <td> 39</td>\n",
        "      <td> 17</td>\n",
        "      <td> 16</td>\n",
        "      <td> 41.957801</td>\n",
        "      <td>-87.720385</td>\n",
        "      <td> (41.957801346026415, -87.72038470773528)</td>\n",
        "    </tr>\n",
        "    <tr>\n",
        "      <th>18    </th>\n",
        "      <td> 10/06/2014</td>\n",
        "      <td>            Open</td>\n",
        "      <td>        NaN</td>\n",
        "      <td>            14-01708524</td>\n",
        "      <td> Rodent Baiting/Rat Complaint</td>\n",
        "      <td>NaN</td>\n",
        "      <td>NaN</td>\n",
        "      <td>NaN</td>\n",
        "      <td>              NaN</td>\n",
        "      <td>                                     NaN</td>\n",
        "      <td>      5105 W OAKDALE AVE</td>\n",
        "      <td> 60641</td>\n",
        "      <td> 1141830.490628</td>\n",
        "      <td> 1919133.826884</td>\n",
        "      <td> 31</td>\n",
        "      <td> 25</td>\n",
        "      <td> 19</td>\n",
        "      <td> 41.934171</td>\n",
        "      <td>-87.754192</td>\n",
        "      <td> (41.934170511750004, -87.75419177686257)</td>\n",
        "    </tr>\n",
        "    <tr>\n",
        "      <th>19    </th>\n",
        "      <td> 10/06/2014</td>\n",
        "      <td>            Open</td>\n",
        "      <td>        NaN</td>\n",
        "      <td>            14-01708469</td>\n",
        "      <td> Rodent Baiting/Rat Complaint</td>\n",
        "      <td>NaN</td>\n",
        "      <td>NaN</td>\n",
        "      <td>NaN</td>\n",
        "      <td>              NaN</td>\n",
        "      <td>                                     NaN</td>\n",
        "      <td>            157 N ADA ST</td>\n",
        "      <td> 60607</td>\n",
        "      <td> 1167406.064126</td>\n",
        "      <td> 1901226.677618</td>\n",
        "      <td> 27</td>\n",
        "      <td> 12</td>\n",
        "      <td> 28</td>\n",
        "      <td> 41.884520</td>\n",
        "      <td>-87.660718</td>\n",
        "      <td>  (41.88451962489873, -87.66071801603259)</td>\n",
        "    </tr>\n",
        "    <tr>\n",
        "      <th>20    </th>\n",
        "      <td> 10/06/2014</td>\n",
        "      <td>            Open</td>\n",
        "      <td>        NaN</td>\n",
        "      <td>            14-01708515</td>\n",
        "      <td> Rodent Baiting/Rat Complaint</td>\n",
        "      <td>NaN</td>\n",
        "      <td>NaN</td>\n",
        "      <td>NaN</td>\n",
        "      <td>              NaN</td>\n",
        "      <td>                                     NaN</td>\n",
        "      <td>      5100 W OAKDALE AVE</td>\n",
        "      <td> 60641</td>\n",
        "      <td> 1141864.190628</td>\n",
        "      <td> 1919134.626884</td>\n",
        "      <td> 31</td>\n",
        "      <td> 25</td>\n",
        "      <td> 19</td>\n",
        "      <td> 41.934172</td>\n",
        "      <td>-87.754068</td>\n",
        "      <td>  (41.93417208227522, -87.75406790849907)</td>\n",
        "    </tr>\n",
        "    <tr>\n",
        "      <th>21    </th>\n",
        "      <td> 10/06/2014</td>\n",
        "      <td>            Open</td>\n",
        "      <td>        NaN</td>\n",
        "      <td>            14-01708487</td>\n",
        "      <td> Rodent Baiting/Rat Complaint</td>\n",
        "      <td>NaN</td>\n",
        "      <td>NaN</td>\n",
        "      <td>NaN</td>\n",
        "      <td>              NaN</td>\n",
        "      <td>                                     NaN</td>\n",
        "      <td>      2968 W CORTLAND ST</td>\n",
        "      <td> 60647</td>\n",
        "      <td> 1156082.406796</td>\n",
        "      <td> 1912475.909782</td>\n",
        "      <td> 35</td>\n",
        "      <td> 14</td>\n",
        "      <td> 22</td>\n",
        "      <td> 41.915625</td>\n",
        "      <td>-87.701996</td>\n",
        "      <td>  (41.91562454305178, -87.70199606944088)</td>\n",
        "    </tr>\n",
        "    <tr>\n",
        "      <th>22    </th>\n",
        "      <td> 10/06/2014</td>\n",
        "      <td>            Open</td>\n",
        "      <td>        NaN</td>\n",
        "      <td>            14-01708852</td>\n",
        "      <td> Rodent Baiting/Rat Complaint</td>\n",
        "      <td>NaN</td>\n",
        "      <td>NaN</td>\n",
        "      <td>NaN</td>\n",
        "      <td>              NaN</td>\n",
        "      <td>                                     NaN</td>\n",
        "      <td>     5909 N CALDWELL AVE</td>\n",
        "      <td> 60646</td>\n",
        "      <td> 1143646.655702</td>\n",
        "      <td> 1938819.072178</td>\n",
        "      <td> 39</td>\n",
        "      <td> 17</td>\n",
        "      <td> 12</td>\n",
        "      <td> 41.988155</td>\n",
        "      <td>-87.747022</td>\n",
        "      <td> (41.988154601191624, -87.74702232204947)</td>\n",
        "    </tr>\n",
        "    <tr>\n",
        "      <th>23    </th>\n",
        "      <td> 10/06/2014</td>\n",
        "      <td>            Open</td>\n",
        "      <td>        NaN</td>\n",
        "      <td>            14-01709769</td>\n",
        "      <td> Rodent Baiting/Rat Complaint</td>\n",
        "      <td>NaN</td>\n",
        "      <td>NaN</td>\n",
        "      <td>NaN</td>\n",
        "      <td>              NaN</td>\n",
        "      <td>                                     NaN</td>\n",
        "      <td>      4633 W HARRISON ST</td>\n",
        "      <td> 60644</td>\n",
        "      <td> 1145592.447469</td>\n",
        "      <td> 1896953.515994</td>\n",
        "      <td> 24</td>\n",
        "      <td> 11</td>\n",
        "      <td> 25</td>\n",
        "      <td> 41.873235</td>\n",
        "      <td>-87.740929</td>\n",
        "      <td>  (41.87323478970172, -87.74092940501316)</td>\n",
        "    </tr>\n",
        "    <tr>\n",
        "      <th>24    </th>\n",
        "      <td> 10/06/2014</td>\n",
        "      <td>            Open</td>\n",
        "      <td>        NaN</td>\n",
        "      <td>            14-01708704</td>\n",
        "      <td> Rodent Baiting/Rat Complaint</td>\n",
        "      <td>NaN</td>\n",
        "      <td>NaN</td>\n",
        "      <td>NaN</td>\n",
        "      <td>              NaN</td>\n",
        "      <td>                                     NaN</td>\n",
        "      <td>    917 N LEAMINGTON AVE</td>\n",
        "      <td> 60651</td>\n",
        "      <td> 1141857.169506</td>\n",
        "      <td> 1905615.879690</td>\n",
        "      <td> 37</td>\n",
        "      <td> 15</td>\n",
        "      <td> 25</td>\n",
        "      <td> 41.897075</td>\n",
        "      <td>-87.754429</td>\n",
        "      <td>  (41.89707530531422, -87.75442905943434)</td>\n",
        "    </tr>\n",
        "    <tr>\n",
        "      <th>25    </th>\n",
        "      <td> 10/06/2014</td>\n",
        "      <td>            Open</td>\n",
        "      <td>        NaN</td>\n",
        "      <td>            14-01708740</td>\n",
        "      <td> Rodent Baiting/Rat Complaint</td>\n",
        "      <td>NaN</td>\n",
        "      <td>NaN</td>\n",
        "      <td>NaN</td>\n",
        "      <td>              NaN</td>\n",
        "      <td>                                     NaN</td>\n",
        "      <td>           938 W 31ST PL</td>\n",
        "      <td> 60608</td>\n",
        "      <td> 1170564.615678</td>\n",
        "      <td> 1884008.799922</td>\n",
        "      <td> 11</td>\n",
        "      <td>  9</td>\n",
        "      <td> 60</td>\n",
        "      <td> 41.837204</td>\n",
        "      <td>-87.649623</td>\n",
        "      <td>  (41.83720388653583, -87.64962296601966)</td>\n",
        "    </tr>\n",
        "    <tr>\n",
        "      <th>26    </th>\n",
        "      <td> 10/06/2014</td>\n",
        "      <td>            Open</td>\n",
        "      <td>        NaN</td>\n",
        "      <td>            14-01708731</td>\n",
        "      <td> Rodent Baiting/Rat Complaint</td>\n",
        "      <td>NaN</td>\n",
        "      <td>NaN</td>\n",
        "      <td>NaN</td>\n",
        "      <td>              NaN</td>\n",
        "      <td>                                     NaN</td>\n",
        "      <td>      4917 N KEDVALE AVE</td>\n",
        "      <td> 60630</td>\n",
        "      <td> 1147833.775395</td>\n",
        "      <td> 1932352.027521</td>\n",
        "      <td> 39</td>\n",
        "      <td> 17</td>\n",
        "      <td> 14</td>\n",
        "      <td> 41.970329</td>\n",
        "      <td>-87.731789</td>\n",
        "      <td> (41.970328908371066, -87.73178863263537)</td>\n",
        "    </tr>\n",
        "    <tr>\n",
        "      <th>27    </th>\n",
        "      <td> 10/06/2014</td>\n",
        "      <td>            Open</td>\n",
        "      <td>        NaN</td>\n",
        "      <td>            14-01708865</td>\n",
        "      <td> Rodent Baiting/Rat Complaint</td>\n",
        "      <td>NaN</td>\n",
        "      <td>NaN</td>\n",
        "      <td>NaN</td>\n",
        "      <td>              NaN</td>\n",
        "      <td>                                     NaN</td>\n",
        "      <td>        3736 W PIPPIN ST</td>\n",
        "      <td> 60652</td>\n",
        "      <td> 1152766.583769</td>\n",
        "      <td> 1853410.092421</td>\n",
        "      <td> 18</td>\n",
        "      <td>  8</td>\n",
        "      <td> 70</td>\n",
        "      <td> 41.753607</td>\n",
        "      <td>-87.715738</td>\n",
        "      <td>  (41.75360674492404, -87.71573839632325)</td>\n",
        "    </tr>\n",
        "    <tr>\n",
        "      <th>28    </th>\n",
        "      <td> 10/06/2014</td>\n",
        "      <td>            Open</td>\n",
        "      <td>        NaN</td>\n",
        "      <td>            14-01709673</td>\n",
        "      <td> Rodent Baiting/Rat Complaint</td>\n",
        "      <td>NaN</td>\n",
        "      <td>NaN</td>\n",
        "      <td>NaN</td>\n",
        "      <td>              NaN</td>\n",
        "      <td>                                     NaN</td>\n",
        "      <td>        1939 W NELSON ST</td>\n",
        "      <td> 60657</td>\n",
        "      <td> 1162881.847868</td>\n",
        "      <td> 1920264.945468</td>\n",
        "      <td> 32</td>\n",
        "      <td> 19</td>\n",
        "      <td>  5</td>\n",
        "      <td> 41.936858</td>\n",
        "      <td>-87.676796</td>\n",
        "      <td>  (41.93685808352693, -87.67679637933988)</td>\n",
        "    </tr>\n",
        "    <tr>\n",
        "      <th>29    </th>\n",
        "      <td> 10/06/2014</td>\n",
        "      <td>            Open</td>\n",
        "      <td>        NaN</td>\n",
        "      <td>            14-01709543</td>\n",
        "      <td> Rodent Baiting/Rat Complaint</td>\n",
        "      <td>NaN</td>\n",
        "      <td>NaN</td>\n",
        "      <td>NaN</td>\n",
        "      <td>              NaN</td>\n",
        "      <td>                                     NaN</td>\n",
        "      <td>      2448 W SHERWIN AVE</td>\n",
        "      <td> 60645</td>\n",
        "      <td> 1158611.719992</td>\n",
        "      <td> 1948725.540029</td>\n",
        "      <td> 50</td>\n",
        "      <td> 24</td>\n",
        "      <td>  2</td>\n",
        "      <td> 42.015044</td>\n",
        "      <td>-87.691706</td>\n",
        "      <td>   (42.01504397458928, -87.6917062515062)</td>\n",
        "    </tr>\n",
        "    <tr>\n",
        "      <th>...</th>\n",
        "      <td>...</td>\n",
        "      <td>...</td>\n",
        "      <td>...</td>\n",
        "      <td>...</td>\n",
        "      <td>...</td>\n",
        "      <td>...</td>\n",
        "      <td>...</td>\n",
        "      <td>...</td>\n",
        "      <td>...</td>\n",
        "      <td>...</td>\n",
        "      <td>...</td>\n",
        "      <td>...</td>\n",
        "      <td>...</td>\n",
        "      <td>...</td>\n",
        "      <td>...</td>\n",
        "      <td>...</td>\n",
        "      <td>...</td>\n",
        "      <td>...</td>\n",
        "      <td>...</td>\n",
        "      <td>...</td>\n",
        "    </tr>\n",
        "    <tr>\n",
        "      <th>135514</th>\n",
        "      <td> 10/04/2010</td>\n",
        "      <td> Completed - Dup</td>\n",
        "      <td> 01/07/2011</td>\n",
        "      <td>            10-01611595</td>\n",
        "      <td> Rodent Baiting/Rat Complaint</td>\n",
        "      <td>NaN</td>\n",
        "      <td>NaN</td>\n",
        "      <td>NaN</td>\n",
        "      <td>              NaN</td>\n",
        "      <td>                                     NaN</td>\n",
        "      <td>     5836 S ARTESIAN AVE</td>\n",
        "      <td> 60629</td>\n",
        "      <td> 1161035.872799</td>\n",
        "      <td> 1865896.970369</td>\n",
        "      <td> 16</td>\n",
        "      <td>  8</td>\n",
        "      <td> 63</td>\n",
        "      <td> 41.787706</td>\n",
        "      <td>-87.685089</td>\n",
        "      <td>  (41.78770562679793, -87.68508927571739)</td>\n",
        "    </tr>\n",
        "    <tr>\n",
        "      <th>135515</th>\n",
        "      <td> 10/03/2010</td>\n",
        "      <td> Completed - Dup</td>\n",
        "      <td> 01/07/2011</td>\n",
        "      <td>            10-01605954</td>\n",
        "      <td> Rodent Baiting/Rat Complaint</td>\n",
        "      <td>NaN</td>\n",
        "      <td>NaN</td>\n",
        "      <td>NaN</td>\n",
        "      <td>              NaN</td>\n",
        "      <td>                                     NaN</td>\n",
        "      <td>       2426 W PRATT BLVD</td>\n",
        "      <td> 60645</td>\n",
        "      <td> 1158807.060017</td>\n",
        "      <td> 1945072.383824</td>\n",
        "      <td> 50</td>\n",
        "      <td> 24</td>\n",
        "      <td>  2</td>\n",
        "      <td> 42.005016</td>\n",
        "      <td>-87.691088</td>\n",
        "      <td>  (42.00501558156435, -87.69108831828841)</td>\n",
        "    </tr>\n",
        "    <tr>\n",
        "      <th>135516</th>\n",
        "      <td> 09/25/2010</td>\n",
        "      <td> Completed - Dup</td>\n",
        "      <td> 01/07/2011</td>\n",
        "      <td>            10-01561251</td>\n",
        "      <td> Rodent Baiting/Rat Complaint</td>\n",
        "      <td>NaN</td>\n",
        "      <td>NaN</td>\n",
        "      <td>NaN</td>\n",
        "      <td>              NaN</td>\n",
        "      <td>                                     NaN</td>\n",
        "      <td>       1428 S HAMLIN AVE</td>\n",
        "      <td> 60623</td>\n",
        "      <td> 1151278.490102</td>\n",
        "      <td> 1892801.067007</td>\n",
        "      <td> 24</td>\n",
        "      <td> 10</td>\n",
        "      <td> 29</td>\n",
        "      <td> 41.861730</td>\n",
        "      <td>-87.720162</td>\n",
        "      <td>  (41.86173040969119, -87.72016189317569)</td>\n",
        "    </tr>\n",
        "    <tr>\n",
        "      <th>135517</th>\n",
        "      <td> 09/23/2010</td>\n",
        "      <td> Completed - Dup</td>\n",
        "      <td> 01/07/2011</td>\n",
        "      <td>            10-01552578</td>\n",
        "      <td> Rodent Baiting/Rat Complaint</td>\n",
        "      <td>NaN</td>\n",
        "      <td>NaN</td>\n",
        "      <td>NaN</td>\n",
        "      <td>              NaN</td>\n",
        "      <td>                                     NaN</td>\n",
        "      <td>     1341 N LOCKWOOD AVE</td>\n",
        "      <td> 60651</td>\n",
        "      <td> 1140777.668819</td>\n",
        "      <td> 1908526.860010</td>\n",
        "      <td> 37</td>\n",
        "      <td> 25</td>\n",
        "      <td> 25</td>\n",
        "      <td> 41.905083</td>\n",
        "      <td>-87.758322</td>\n",
        "      <td>  (41.90508329625724, -87.75832229923284)</td>\n",
        "    </tr>\n",
        "    <tr>\n",
        "      <th>135518</th>\n",
        "      <td> 09/22/2010</td>\n",
        "      <td>       Completed</td>\n",
        "      <td> 01/07/2011</td>\n",
        "      <td>            10-01545326</td>\n",
        "      <td> Rodent Baiting/Rat Complaint</td>\n",
        "      <td>  1</td>\n",
        "      <td>  0</td>\n",
        "      <td>  1</td>\n",
        "      <td>    Dispatch Crew</td>\n",
        "      <td>                    Inspected and baited</td>\n",
        "      <td>      1011 N LARAMIE AVE</td>\n",
        "      <td> 60651</td>\n",
        "      <td> 1141508.457520</td>\n",
        "      <td> 1906237.199904</td>\n",
        "      <td> 37</td>\n",
        "      <td> 15</td>\n",
        "      <td> 25</td>\n",
        "      <td> 41.898787</td>\n",
        "      <td>-87.755694</td>\n",
        "      <td>   (41.89878673057768, -87.7556944800398)</td>\n",
        "    </tr>\n",
        "    <tr>\n",
        "      <th>135519</th>\n",
        "      <td> 09/14/2010</td>\n",
        "      <td> Completed - Dup</td>\n",
        "      <td> 01/07/2011</td>\n",
        "      <td>            10-01483769</td>\n",
        "      <td> Rodent Baiting/Rat Complaint</td>\n",
        "      <td>NaN</td>\n",
        "      <td>NaN</td>\n",
        "      <td>NaN</td>\n",
        "      <td>              NaN</td>\n",
        "      <td>                                     NaN</td>\n",
        "      <td>       7530 S WABASH AVE</td>\n",
        "      <td> 60619</td>\n",
        "      <td> 1178021.518474</td>\n",
        "      <td> 1855100.707677</td>\n",
        "      <td>  6</td>\n",
        "      <td>  6</td>\n",
        "      <td> 69</td>\n",
        "      <td> 41.757711</td>\n",
        "      <td>-87.623137</td>\n",
        "      <td>  (41.75771122728605, -87.62313707074553)</td>\n",
        "    </tr>\n",
        "    <tr>\n",
        "      <th>135520</th>\n",
        "      <td> 09/14/2010</td>\n",
        "      <td> Completed - Dup</td>\n",
        "      <td> 01/07/2011</td>\n",
        "      <td>            10-01486023</td>\n",
        "      <td> Rodent Baiting/Rat Complaint</td>\n",
        "      <td>NaN</td>\n",
        "      <td>NaN</td>\n",
        "      <td>NaN</td>\n",
        "      <td>              NaN</td>\n",
        "      <td>                                     NaN</td>\n",
        "      <td>        5959 S LAFLIN ST</td>\n",
        "      <td> 60636</td>\n",
        "      <td> 1167354.393020</td>\n",
        "      <td> 1865213.788830</td>\n",
        "      <td> 16</td>\n",
        "      <td>  7</td>\n",
        "      <td> 67</td>\n",
        "      <td> 41.785698</td>\n",
        "      <td>-87.661941</td>\n",
        "      <td> (41.785697828520156, -87.66194139257287)</td>\n",
        "    </tr>\n",
        "    <tr>\n",
        "      <th>135521</th>\n",
        "      <td> 09/13/2010</td>\n",
        "      <td> Completed - Dup</td>\n",
        "      <td> 01/07/2011</td>\n",
        "      <td>            10-01476446</td>\n",
        "      <td> Rodent Baiting/Rat Complaint</td>\n",
        "      <td>NaN</td>\n",
        "      <td>NaN</td>\n",
        "      <td>NaN</td>\n",
        "      <td>              NaN</td>\n",
        "      <td>                                     NaN</td>\n",
        "      <td>    9553 S PRINCETON AVE</td>\n",
        "      <td> 60628</td>\n",
        "      <td> 1175964.048381</td>\n",
        "      <td> 1841578.557199</td>\n",
        "      <td> 21</td>\n",
        "      <td>  5</td>\n",
        "      <td> 49</td>\n",
        "      <td> 41.720651</td>\n",
        "      <td>-87.631082</td>\n",
        "      <td>  (41.72065109536011, -87.63108179029372)</td>\n",
        "    </tr>\n",
        "    <tr>\n",
        "      <th>135522</th>\n",
        "      <td> 09/01/2010</td>\n",
        "      <td> Completed - Dup</td>\n",
        "      <td> 01/07/2011</td>\n",
        "      <td>            10-01409020</td>\n",
        "      <td> Rodent Baiting/Rat Complaint</td>\n",
        "      <td>NaN</td>\n",
        "      <td>NaN</td>\n",
        "      <td>NaN</td>\n",
        "      <td>              NaN</td>\n",
        "      <td>                                     NaN</td>\n",
        "      <td>          1111 E 93RD ST</td>\n",
        "      <td> 60619</td>\n",
        "      <td> 1185291.743719</td>\n",
        "      <td> 1843539.750299</td>\n",
        "      <td>  8</td>\n",
        "      <td>  4</td>\n",
        "      <td> 47</td>\n",
        "      <td> 41.725819</td>\n",
        "      <td>-87.596855</td>\n",
        "      <td>  (41.72581895961811, -87.59685549830274)</td>\n",
        "    </tr>\n",
        "    <tr>\n",
        "      <th>135523</th>\n",
        "      <td> 09/01/2010</td>\n",
        "      <td> Completed - Dup</td>\n",
        "      <td> 01/07/2011</td>\n",
        "      <td>            10-01412884</td>\n",
        "      <td> Rodent Baiting/Rat Complaint</td>\n",
        "      <td>NaN</td>\n",
        "      <td>NaN</td>\n",
        "      <td>NaN</td>\n",
        "      <td>              NaN</td>\n",
        "      <td>                                     NaN</td>\n",
        "      <td>          3913 W 57TH PL</td>\n",
        "      <td> 60629</td>\n",
        "      <td> 1151266.356900</td>\n",
        "      <td> 1866188.264604</td>\n",
        "      <td> 13</td>\n",
        "      <td>  8</td>\n",
        "      <td> 62</td>\n",
        "      <td> 41.788702</td>\n",
        "      <td>-87.720903</td>\n",
        "      <td>  (41.78870152820766, -87.72090280848239)</td>\n",
        "    </tr>\n",
        "    <tr>\n",
        "      <th>135524</th>\n",
        "      <td> 08/30/2010</td>\n",
        "      <td> Completed - Dup</td>\n",
        "      <td> 01/07/2011</td>\n",
        "      <td>            10-01390101</td>\n",
        "      <td> Rodent Baiting/Rat Complaint</td>\n",
        "      <td>NaN</td>\n",
        "      <td>NaN</td>\n",
        "      <td>NaN</td>\n",
        "      <td>              NaN</td>\n",
        "      <td>                                     NaN</td>\n",
        "      <td>    7551 N CLAREMONT AVE</td>\n",
        "      <td> 60645</td>\n",
        "      <td> 1159347.169967</td>\n",
        "      <td> 1949994.101985</td>\n",
        "      <td> 49</td>\n",
        "      <td> 24</td>\n",
        "      <td>  2</td>\n",
        "      <td> 42.018510</td>\n",
        "      <td>-87.688965</td>\n",
        "      <td>   (42.01850978301388, -87.6889649223713)</td>\n",
        "    </tr>\n",
        "    <tr>\n",
        "      <th>135525</th>\n",
        "      <td> 08/24/2010</td>\n",
        "      <td> Completed - Dup</td>\n",
        "      <td> 01/07/2011</td>\n",
        "      <td>            10-01357763</td>\n",
        "      <td> Rodent Baiting/Rat Complaint</td>\n",
        "      <td>NaN</td>\n",
        "      <td>NaN</td>\n",
        "      <td>NaN</td>\n",
        "      <td>              NaN</td>\n",
        "      <td>                                     NaN</td>\n",
        "      <td>    2428 N MAPLEWOOD AVE</td>\n",
        "      <td> 60647</td>\n",
        "      <td> 1158960.340079</td>\n",
        "      <td> 1916052.316975</td>\n",
        "      <td>  1</td>\n",
        "      <td> 14</td>\n",
        "      <td> 22</td>\n",
        "      <td> 41.925380</td>\n",
        "      <td>-87.691324</td>\n",
        "      <td> (41.925379847343194, -87.69132439131293)</td>\n",
        "    </tr>\n",
        "    <tr>\n",
        "      <th>135526</th>\n",
        "      <td> 08/12/2010</td>\n",
        "      <td> Completed - Dup</td>\n",
        "      <td> 01/07/2011</td>\n",
        "      <td>            10-01283620</td>\n",
        "      <td> Rodent Baiting/Rat Complaint</td>\n",
        "      <td>NaN</td>\n",
        "      <td>NaN</td>\n",
        "      <td>NaN</td>\n",
        "      <td>              NaN</td>\n",
        "      <td>                                     NaN</td>\n",
        "      <td>      1718 W LE MOYNE ST</td>\n",
        "      <td> 60622</td>\n",
        "      <td> 1164664.151207</td>\n",
        "      <td> 1910153.949810</td>\n",
        "      <td>  1</td>\n",
        "      <td> 14</td>\n",
        "      <td> 24</td>\n",
        "      <td> 41.909075</td>\n",
        "      <td>-87.670533</td>\n",
        "      <td>  (41.90907525072416, -87.67053340310254)</td>\n",
        "    </tr>\n",
        "    <tr>\n",
        "      <th>135527</th>\n",
        "      <td> 08/08/2010</td>\n",
        "      <td> Completed - Dup</td>\n",
        "      <td> 01/07/2011</td>\n",
        "      <td>            10-01247571</td>\n",
        "      <td> Rodent Baiting/Rat Complaint</td>\n",
        "      <td>NaN</td>\n",
        "      <td>NaN</td>\n",
        "      <td>NaN</td>\n",
        "      <td>              NaN</td>\n",
        "      <td>                                     NaN</td>\n",
        "      <td>      1410 W BERTEAU AVE</td>\n",
        "      <td> 60613</td>\n",
        "      <td> 1166079.712721</td>\n",
        "      <td> 1928002.330313</td>\n",
        "      <td> 47</td>\n",
        "      <td> 19</td>\n",
        "      <td>  6</td>\n",
        "      <td> 41.958022</td>\n",
        "      <td>-87.664822</td>\n",
        "      <td> (41.958022022585844, -87.66482204074649)</td>\n",
        "    </tr>\n",
        "    <tr>\n",
        "      <th>135528</th>\n",
        "      <td> 08/05/2010</td>\n",
        "      <td>       Completed</td>\n",
        "      <td> 02/22/2013</td>\n",
        "      <td>            10-01233874</td>\n",
        "      <td> Rodent Baiting/Rat Complaint</td>\n",
        "      <td>NaN</td>\n",
        "      <td>NaN</td>\n",
        "      <td>NaN</td>\n",
        "      <td>    Dispatch Crew</td>\n",
        "      <td> Area inspected, no cause and no baiting</td>\n",
        "      <td>        3315 W OGDEN AVE</td>\n",
        "      <td> 60623</td>\n",
        "      <td> 1154509.572975</td>\n",
        "      <td> 1891077.149085</td>\n",
        "      <td> 24</td>\n",
        "      <td> 10</td>\n",
        "      <td> 29</td>\n",
        "      <td> 41.856936</td>\n",
        "      <td>-87.708347</td>\n",
        "      <td>  (41.85693584874869, -87.70834713693091)</td>\n",
        "    </tr>\n",
        "    <tr>\n",
        "      <th>135529</th>\n",
        "      <td> 08/05/2010</td>\n",
        "      <td> Completed - Dup</td>\n",
        "      <td> 01/07/2011</td>\n",
        "      <td>            10-01232122</td>\n",
        "      <td> Rodent Baiting/Rat Complaint</td>\n",
        "      <td>NaN</td>\n",
        "      <td>NaN</td>\n",
        "      <td>NaN</td>\n",
        "      <td>              NaN</td>\n",
        "      <td>                                     NaN</td>\n",
        "      <td>       7530 S WABASH AVE</td>\n",
        "      <td> 60619</td>\n",
        "      <td> 1178021.518474</td>\n",
        "      <td> 1855100.707677</td>\n",
        "      <td>  6</td>\n",
        "      <td>  6</td>\n",
        "      <td> 69</td>\n",
        "      <td> 41.757711</td>\n",
        "      <td>-87.623137</td>\n",
        "      <td>  (41.75771122728605, -87.62313707074553)</td>\n",
        "    </tr>\n",
        "    <tr>\n",
        "      <th>135530</th>\n",
        "      <td> 07/30/2010</td>\n",
        "      <td> Completed - Dup</td>\n",
        "      <td> 01/07/2011</td>\n",
        "      <td>            10-01195231</td>\n",
        "      <td> Rodent Baiting/Rat Complaint</td>\n",
        "      <td>NaN</td>\n",
        "      <td>NaN</td>\n",
        "      <td>NaN</td>\n",
        "      <td>              NaN</td>\n",
        "      <td>                                     NaN</td>\n",
        "      <td>    2755 N SPAULDING AVE</td>\n",
        "      <td> 60647</td>\n",
        "      <td> 1153780.944531</td>\n",
        "      <td> 1918191.014328</td>\n",
        "      <td> 35</td>\n",
        "      <td> 14</td>\n",
        "      <td> 22</td>\n",
        "      <td> 41.931353</td>\n",
        "      <td>-87.710299</td>\n",
        "      <td>  (41.93135343973727, -87.71029893507783)</td>\n",
        "    </tr>\n",
        "    <tr>\n",
        "      <th>135531</th>\n",
        "      <td> 07/20/2010</td>\n",
        "      <td> Completed - Dup</td>\n",
        "      <td> 01/07/2011</td>\n",
        "      <td>            10-01112346</td>\n",
        "      <td> Rodent Baiting/Rat Complaint</td>\n",
        "      <td>NaN</td>\n",
        "      <td>NaN</td>\n",
        "      <td>NaN</td>\n",
        "      <td>              NaN</td>\n",
        "      <td>                                     NaN</td>\n",
        "      <td>    7939 S HERMITAGE AVE</td>\n",
        "      <td> 60620</td>\n",
        "      <td> 1166060.102880</td>\n",
        "      <td> 1852046.485427</td>\n",
        "      <td> 21</td>\n",
        "      <td>  6</td>\n",
        "      <td> 71</td>\n",
        "      <td> 41.749593</td>\n",
        "      <td>-87.667061</td>\n",
        "      <td>  (41.74959262320285, -87.66706085160479)</td>\n",
        "    </tr>\n",
        "    <tr>\n",
        "      <th>135532</th>\n",
        "      <td> 07/20/2010</td>\n",
        "      <td> Completed - Dup</td>\n",
        "      <td> 01/07/2011</td>\n",
        "      <td>            10-01115674</td>\n",
        "      <td> Rodent Baiting/Rat Complaint</td>\n",
        "      <td>NaN</td>\n",
        "      <td>NaN</td>\n",
        "      <td>NaN</td>\n",
        "      <td>              NaN</td>\n",
        "      <td>                                     NaN</td>\n",
        "      <td>       5637 S KEELER AVE</td>\n",
        "      <td> 60629</td>\n",
        "      <td> 1149331.611090</td>\n",
        "      <td> 1866765.049984</td>\n",
        "      <td> 13</td>\n",
        "      <td>  8</td>\n",
        "      <td> 62</td>\n",
        "      <td> 41.790322</td>\n",
        "      <td>-87.727982</td>\n",
        "      <td>  (41.79032191699322, -87.72798203264237)</td>\n",
        "    </tr>\n",
        "    <tr>\n",
        "      <th>135533</th>\n",
        "      <td> 07/19/2010</td>\n",
        "      <td> Completed - Dup</td>\n",
        "      <td> 01/07/2011</td>\n",
        "      <td>            10-01110565</td>\n",
        "      <td> Rodent Baiting/Rat Complaint</td>\n",
        "      <td>NaN</td>\n",
        "      <td>NaN</td>\n",
        "      <td>NaN</td>\n",
        "      <td>              NaN</td>\n",
        "      <td>                                     NaN</td>\n",
        "      <td>     6925 S ARTESIAN AVE</td>\n",
        "      <td> 60629</td>\n",
        "      <td> 1161237.257799</td>\n",
        "      <td> 1858665.025277</td>\n",
        "      <td> 17</td>\n",
        "      <td>  8</td>\n",
        "      <td> 66</td>\n",
        "      <td> 41.767856</td>\n",
        "      <td>-87.684551</td>\n",
        "      <td>  (41.76785599857217, -87.68455093042334)</td>\n",
        "    </tr>\n",
        "    <tr>\n",
        "      <th>135534</th>\n",
        "      <td> 07/19/2010</td>\n",
        "      <td> Completed - Dup</td>\n",
        "      <td> 01/07/2011</td>\n",
        "      <td>            10-01109534</td>\n",
        "      <td> Rodent Baiting/Rat Complaint</td>\n",
        "      <td>NaN</td>\n",
        "      <td>NaN</td>\n",
        "      <td>NaN</td>\n",
        "      <td>              NaN</td>\n",
        "      <td>                                     NaN</td>\n",
        "      <td>    7252 S HERMITAGE AVE</td>\n",
        "      <td> 60636</td>\n",
        "      <td> 1165936.695291</td>\n",
        "      <td> 1856601.580785</td>\n",
        "      <td> 17</td>\n",
        "      <td>  7</td>\n",
        "      <td> 67</td>\n",
        "      <td> 41.762095</td>\n",
        "      <td>-87.667384</td>\n",
        "      <td>  (41.76209506261827, -87.66738386159072)</td>\n",
        "    </tr>\n",
        "    <tr>\n",
        "      <th>135535</th>\n",
        "      <td> 07/15/2010</td>\n",
        "      <td> Completed - Dup</td>\n",
        "      <td> 01/07/2011</td>\n",
        "      <td>            10-01079944</td>\n",
        "      <td> Rodent Baiting/Rat Complaint</td>\n",
        "      <td>NaN</td>\n",
        "      <td>NaN</td>\n",
        "      <td>NaN</td>\n",
        "      <td>              NaN</td>\n",
        "      <td>                                     NaN</td>\n",
        "      <td>    4350 W CONGRESS PKWY</td>\n",
        "      <td> 60624</td>\n",
        "      <td> 1147309.510033</td>\n",
        "      <td> 1897326.930003</td>\n",
        "      <td> 24</td>\n",
        "      <td> 11</td>\n",
        "      <td> 26</td>\n",
        "      <td> 41.874227</td>\n",
        "      <td>-87.734616</td>\n",
        "      <td>  (41.87422678972962, -87.73461560327037)</td>\n",
        "    </tr>\n",
        "    <tr>\n",
        "      <th>135536</th>\n",
        "      <td> 07/15/2010</td>\n",
        "      <td> Completed - Dup</td>\n",
        "      <td> 01/07/2011</td>\n",
        "      <td>            10-01084116</td>\n",
        "      <td> Rodent Baiting/Rat Complaint</td>\n",
        "      <td>NaN</td>\n",
        "      <td>NaN</td>\n",
        "      <td>NaN</td>\n",
        "      <td>              NaN</td>\n",
        "      <td>                                     NaN</td>\n",
        "      <td>   3727 N MARSHFIELD AVE</td>\n",
        "      <td> 60613</td>\n",
        "      <td> 1164658.235513</td>\n",
        "      <td> 1924811.151620</td>\n",
        "      <td> 47</td>\n",
        "      <td> 19</td>\n",
        "      <td>  6</td>\n",
        "      <td> 41.949296</td>\n",
        "      <td>-87.670139</td>\n",
        "      <td>  (41.94929559096112, -87.67013866169015)</td>\n",
        "    </tr>\n",
        "    <tr>\n",
        "      <th>135537</th>\n",
        "      <td> 07/12/2010</td>\n",
        "      <td> Completed - Dup</td>\n",
        "      <td> 01/07/2011</td>\n",
        "      <td>            10-01055770</td>\n",
        "      <td> Rodent Baiting/Rat Complaint</td>\n",
        "      <td>NaN</td>\n",
        "      <td>NaN</td>\n",
        "      <td>NaN</td>\n",
        "      <td>              NaN</td>\n",
        "      <td>                                     NaN</td>\n",
        "      <td>       2614 N RACINE AVE</td>\n",
        "      <td> 60614</td>\n",
        "      <td> 1167856.483594</td>\n",
        "      <td> 1917561.186392</td>\n",
        "      <td> 32</td>\n",
        "      <td> 19</td>\n",
        "      <td>  7</td>\n",
        "      <td> 41.929333</td>\n",
        "      <td>-87.658592</td>\n",
        "      <td>  (41.92933283716873, -87.65859219580943)</td>\n",
        "    </tr>\n",
        "    <tr>\n",
        "      <th>135538</th>\n",
        "      <td> 07/06/2010</td>\n",
        "      <td> Completed - Dup</td>\n",
        "      <td> 01/07/2011</td>\n",
        "      <td>            10-01010108</td>\n",
        "      <td> Rodent Baiting/Rat Complaint</td>\n",
        "      <td>NaN</td>\n",
        "      <td>NaN</td>\n",
        "      <td>NaN</td>\n",
        "      <td>              NaN</td>\n",
        "      <td>                                     NaN</td>\n",
        "      <td> 2659 N CENTRAL PARK AVE</td>\n",
        "      <td> 60647</td>\n",
        "      <td> 1151929.608121</td>\n",
        "      <td> 1917447.313431</td>\n",
        "      <td> 35</td>\n",
        "      <td> 14</td>\n",
        "      <td> 22</td>\n",
        "      <td> 41.929349</td>\n",
        "      <td>-87.717122</td>\n",
        "      <td>   (41.92934937797203, -87.7171219455323)</td>\n",
        "    </tr>\n",
        "    <tr>\n",
        "      <th>135539</th>\n",
        "      <td> 07/05/2010</td>\n",
        "      <td> Completed - Dup</td>\n",
        "      <td> 01/07/2011</td>\n",
        "      <td>            10-01008721</td>\n",
        "      <td> Rodent Baiting/Rat Complaint</td>\n",
        "      <td>NaN</td>\n",
        "      <td>NaN</td>\n",
        "      <td>NaN</td>\n",
        "      <td>              NaN</td>\n",
        "      <td>                                     NaN</td>\n",
        "      <td>     3650 N MAGNOLIA AVE</td>\n",
        "      <td> 60613</td>\n",
        "      <td> 1167317.220021</td>\n",
        "      <td> 1924042.110595</td>\n",
        "      <td> 44</td>\n",
        "      <td> 19</td>\n",
        "      <td>  6</td>\n",
        "      <td> 41.947128</td>\n",
        "      <td>-87.660387</td>\n",
        "      <td>  (41.94712843446327, -87.66038686997513)</td>\n",
        "    </tr>\n",
        "    <tr>\n",
        "      <th>135540</th>\n",
        "      <td> 06/15/2010</td>\n",
        "      <td> Completed - Dup</td>\n",
        "      <td> 01/07/2011</td>\n",
        "      <td>            10-00860089</td>\n",
        "      <td> Rodent Baiting/Rat Complaint</td>\n",
        "      <td>NaN</td>\n",
        "      <td>NaN</td>\n",
        "      <td>NaN</td>\n",
        "      <td>              NaN</td>\n",
        "      <td>                                     NaN</td>\n",
        "      <td>     4742 N MAGNOLIA AVE</td>\n",
        "      <td>   NaN</td>\n",
        "      <td> 1167037.166277</td>\n",
        "      <td> 1931628.084181</td>\n",
        "      <td> 46</td>\n",
        "      <td> 23</td>\n",
        "      <td>  3</td>\n",
        "      <td> 41.967951</td>\n",
        "      <td>-87.661198</td>\n",
        "      <td>  (41.967950674945655, -87.6611975602135)</td>\n",
        "    </tr>\n",
        "    <tr>\n",
        "      <th>135541</th>\n",
        "      <td> 01/20/2010</td>\n",
        "      <td> Completed - Dup</td>\n",
        "      <td> 01/07/2011</td>\n",
        "      <td>            10-00083362</td>\n",
        "      <td> Rodent Baiting/Rat Complaint</td>\n",
        "      <td>NaN</td>\n",
        "      <td>NaN</td>\n",
        "      <td>NaN</td>\n",
        "      <td>              NaN</td>\n",
        "      <td>                                     NaN</td>\n",
        "      <td>          1111 E 93RD ST</td>\n",
        "      <td> 60619</td>\n",
        "      <td> 1185291.743719</td>\n",
        "      <td> 1843539.750299</td>\n",
        "      <td>  8</td>\n",
        "      <td>  4</td>\n",
        "      <td> 47</td>\n",
        "      <td> 41.725819</td>\n",
        "      <td>-87.596855</td>\n",
        "      <td>  (41.72581895961811, -87.59685549830274)</td>\n",
        "    </tr>\n",
        "    <tr>\n",
        "      <th>135542</th>\n",
        "      <td> 11/29/1999</td>\n",
        "      <td>       Completed</td>\n",
        "      <td> 12/26/2013</td>\n",
        "      <td>            99-01925037</td>\n",
        "      <td> Rodent Baiting/Rat Complaint</td>\n",
        "      <td>NaN</td>\n",
        "      <td>NaN</td>\n",
        "      <td>NaN</td>\n",
        "      <td>    Dispatch Crew</td>\n",
        "      <td> Area inspected, no cause and no baiting</td>\n",
        "      <td>         5501 S WOODLAWN</td>\n",
        "      <td>   NaN</td>\n",
        "      <td> 1185160.809228</td>\n",
        "      <td> 1868767.031107</td>\n",
        "      <td>  5</td>\n",
        "      <td> 21</td>\n",
        "      <td> 41</td>\n",
        "      <td> 41.795048</td>\n",
        "      <td>-87.596544</td>\n",
        "      <td>  (41.79504811489318, -87.59654363354196)</td>\n",
        "    </tr>\n",
        "    <tr>\n",
        "      <th>135543</th>\n",
        "      <td>        NaN</td>\n",
        "      <td>          STATUS</td>\n",
        "      <td>        NaN</td>\n",
        "      <td> SERVICE REQUEST NUMBER</td>\n",
        "      <td>      TYPE OF SERVICE REQUEST</td>\n",
        "      <td>NaN</td>\n",
        "      <td>NaN</td>\n",
        "      <td>NaN</td>\n",
        "      <td> CURRENT ACTIVITY</td>\n",
        "      <td>                      MOST RECENT ACTION</td>\n",
        "      <td>          STREET ADDRESS</td>\n",
        "      <td>   NaN</td>\n",
        "      <td>            NaN</td>\n",
        "      <td>            NaN</td>\n",
        "      <td>NaN</td>\n",
        "      <td>NaN</td>\n",
        "      <td>NaN</td>\n",
        "      <td>       NaN</td>\n",
        "      <td>       NaN</td>\n",
        "      <td>                                      NaN</td>\n",
        "    </tr>\n",
        "  </tbody>\n",
        "</table>\n",
        "<p>135544 rows \u00d7 20 columns</p>\n",
        "</div>"
       ],
       "metadata": {},
       "output_type": "pyout",
       "prompt_number": 14,
       "text": [
        "       Creation Date           Status Completion Date  Service Request Number  \\\n",
        "0         10/06/2014             Open             NaN             14-01708674   \n",
        "1         10/06/2014             Open             NaN             14-01708613   \n",
        "2         10/06/2014             Open             NaN             14-01707402   \n",
        "3         10/06/2014             Open             NaN             14-01707381   \n",
        "4         10/06/2014             Open             NaN             14-01708605   \n",
        "5         10/06/2014             Open             NaN             14-01707939   \n",
        "6         10/06/2014             Open             NaN             14-01707412   \n",
        "7         10/06/2014             Open             NaN             14-01707409   \n",
        "8         10/06/2014             Open             NaN             14-01707407   \n",
        "9         10/06/2014             Open             NaN             14-01707841   \n",
        "10        10/06/2014             Open             NaN             14-01707424   \n",
        "11        10/06/2014             Open             NaN             14-01707631   \n",
        "12        10/06/2014             Open             NaN             14-01707536   \n",
        "13        10/06/2014             Open             NaN             14-01708547   \n",
        "14        10/06/2014             Open             NaN             14-01708358   \n",
        "15        10/06/2014             Open             NaN             14-01708287   \n",
        "16        10/06/2014             Open             NaN             14-01707967   \n",
        "17        10/06/2014             Open             NaN             14-01708077   \n",
        "18        10/06/2014             Open             NaN             14-01708524   \n",
        "19        10/06/2014             Open             NaN             14-01708469   \n",
        "20        10/06/2014             Open             NaN             14-01708515   \n",
        "21        10/06/2014             Open             NaN             14-01708487   \n",
        "22        10/06/2014             Open             NaN             14-01708852   \n",
        "23        10/06/2014             Open             NaN             14-01709769   \n",
        "24        10/06/2014             Open             NaN             14-01708704   \n",
        "25        10/06/2014             Open             NaN             14-01708740   \n",
        "26        10/06/2014             Open             NaN             14-01708731   \n",
        "27        10/06/2014             Open             NaN             14-01708865   \n",
        "28        10/06/2014             Open             NaN             14-01709673   \n",
        "29        10/06/2014             Open             NaN             14-01709543   \n",
        "...              ...              ...             ...                     ...   \n",
        "135514    10/04/2010  Completed - Dup      01/07/2011             10-01611595   \n",
        "135515    10/03/2010  Completed - Dup      01/07/2011             10-01605954   \n",
        "135516    09/25/2010  Completed - Dup      01/07/2011             10-01561251   \n",
        "135517    09/23/2010  Completed - Dup      01/07/2011             10-01552578   \n",
        "135518    09/22/2010        Completed      01/07/2011             10-01545326   \n",
        "135519    09/14/2010  Completed - Dup      01/07/2011             10-01483769   \n",
        "135520    09/14/2010  Completed - Dup      01/07/2011             10-01486023   \n",
        "135521    09/13/2010  Completed - Dup      01/07/2011             10-01476446   \n",
        "135522    09/01/2010  Completed - Dup      01/07/2011             10-01409020   \n",
        "135523    09/01/2010  Completed - Dup      01/07/2011             10-01412884   \n",
        "135524    08/30/2010  Completed - Dup      01/07/2011             10-01390101   \n",
        "135525    08/24/2010  Completed - Dup      01/07/2011             10-01357763   \n",
        "135526    08/12/2010  Completed - Dup      01/07/2011             10-01283620   \n",
        "135527    08/08/2010  Completed - Dup      01/07/2011             10-01247571   \n",
        "135528    08/05/2010        Completed      02/22/2013             10-01233874   \n",
        "135529    08/05/2010  Completed - Dup      01/07/2011             10-01232122   \n",
        "135530    07/30/2010  Completed - Dup      01/07/2011             10-01195231   \n",
        "135531    07/20/2010  Completed - Dup      01/07/2011             10-01112346   \n",
        "135532    07/20/2010  Completed - Dup      01/07/2011             10-01115674   \n",
        "135533    07/19/2010  Completed - Dup      01/07/2011             10-01110565   \n",
        "135534    07/19/2010  Completed - Dup      01/07/2011             10-01109534   \n",
        "135535    07/15/2010  Completed - Dup      01/07/2011             10-01079944   \n",
        "135536    07/15/2010  Completed - Dup      01/07/2011             10-01084116   \n",
        "135537    07/12/2010  Completed - Dup      01/07/2011             10-01055770   \n",
        "135538    07/06/2010  Completed - Dup      01/07/2011             10-01010108   \n",
        "135539    07/05/2010  Completed - Dup      01/07/2011             10-01008721   \n",
        "135540    06/15/2010  Completed - Dup      01/07/2011             10-00860089   \n",
        "135541    01/20/2010  Completed - Dup      01/07/2011             10-00083362   \n",
        "135542    11/29/1999        Completed      12/26/2013             99-01925037   \n",
        "135543           NaN           STATUS             NaN  SERVICE REQUEST NUMBER   \n",
        "\n",
        "             Type of Service Request  Number of Premises Baited  \\\n",
        "0       Rodent Baiting/Rat Complaint                        NaN   \n",
        "1       Rodent Baiting/Rat Complaint                        NaN   \n",
        "2       Rodent Baiting/Rat Complaint                        NaN   \n",
        "3       Rodent Baiting/Rat Complaint                        NaN   \n",
        "4       Rodent Baiting/Rat Complaint                        NaN   \n",
        "5       Rodent Baiting/Rat Complaint                        NaN   \n",
        "6       Rodent Baiting/Rat Complaint                        NaN   \n",
        "7       Rodent Baiting/Rat Complaint                        NaN   \n",
        "8       Rodent Baiting/Rat Complaint                        NaN   \n",
        "9       Rodent Baiting/Rat Complaint                        NaN   \n",
        "10      Rodent Baiting/Rat Complaint                        NaN   \n",
        "11      Rodent Baiting/Rat Complaint                        NaN   \n",
        "12      Rodent Baiting/Rat Complaint                        NaN   \n",
        "13      Rodent Baiting/Rat Complaint                        NaN   \n",
        "14      Rodent Baiting/Rat Complaint                        NaN   \n",
        "15      Rodent Baiting/Rat Complaint                        NaN   \n",
        "16      Rodent Baiting/Rat Complaint                        NaN   \n",
        "17      Rodent Baiting/Rat Complaint                        NaN   \n",
        "18      Rodent Baiting/Rat Complaint                        NaN   \n",
        "19      Rodent Baiting/Rat Complaint                        NaN   \n",
        "20      Rodent Baiting/Rat Complaint                        NaN   \n",
        "21      Rodent Baiting/Rat Complaint                        NaN   \n",
        "22      Rodent Baiting/Rat Complaint                        NaN   \n",
        "23      Rodent Baiting/Rat Complaint                        NaN   \n",
        "24      Rodent Baiting/Rat Complaint                        NaN   \n",
        "25      Rodent Baiting/Rat Complaint                        NaN   \n",
        "26      Rodent Baiting/Rat Complaint                        NaN   \n",
        "27      Rodent Baiting/Rat Complaint                        NaN   \n",
        "28      Rodent Baiting/Rat Complaint                        NaN   \n",
        "29      Rodent Baiting/Rat Complaint                        NaN   \n",
        "...                              ...                        ...   \n",
        "135514  Rodent Baiting/Rat Complaint                        NaN   \n",
        "135515  Rodent Baiting/Rat Complaint                        NaN   \n",
        "135516  Rodent Baiting/Rat Complaint                        NaN   \n",
        "135517  Rodent Baiting/Rat Complaint                        NaN   \n",
        "135518  Rodent Baiting/Rat Complaint                          1   \n",
        "135519  Rodent Baiting/Rat Complaint                        NaN   \n",
        "135520  Rodent Baiting/Rat Complaint                        NaN   \n",
        "135521  Rodent Baiting/Rat Complaint                        NaN   \n",
        "135522  Rodent Baiting/Rat Complaint                        NaN   \n",
        "135523  Rodent Baiting/Rat Complaint                        NaN   \n",
        "135524  Rodent Baiting/Rat Complaint                        NaN   \n",
        "135525  Rodent Baiting/Rat Complaint                        NaN   \n",
        "135526  Rodent Baiting/Rat Complaint                        NaN   \n",
        "135527  Rodent Baiting/Rat Complaint                        NaN   \n",
        "135528  Rodent Baiting/Rat Complaint                        NaN   \n",
        "135529  Rodent Baiting/Rat Complaint                        NaN   \n",
        "135530  Rodent Baiting/Rat Complaint                        NaN   \n",
        "135531  Rodent Baiting/Rat Complaint                        NaN   \n",
        "135532  Rodent Baiting/Rat Complaint                        NaN   \n",
        "135533  Rodent Baiting/Rat Complaint                        NaN   \n",
        "135534  Rodent Baiting/Rat Complaint                        NaN   \n",
        "135535  Rodent Baiting/Rat Complaint                        NaN   \n",
        "135536  Rodent Baiting/Rat Complaint                        NaN   \n",
        "135537  Rodent Baiting/Rat Complaint                        NaN   \n",
        "135538  Rodent Baiting/Rat Complaint                        NaN   \n",
        "135539  Rodent Baiting/Rat Complaint                        NaN   \n",
        "135540  Rodent Baiting/Rat Complaint                        NaN   \n",
        "135541  Rodent Baiting/Rat Complaint                        NaN   \n",
        "135542  Rodent Baiting/Rat Complaint                        NaN   \n",
        "135543       TYPE OF SERVICE REQUEST                        NaN   \n",
        "\n",
        "        Number of Premises with Garbage  Number of Premises with Rats  \\\n",
        "0                                   NaN                           NaN   \n",
        "1                                   NaN                           NaN   \n",
        "2                                   NaN                           NaN   \n",
        "3                                   NaN                           NaN   \n",
        "4                                   NaN                           NaN   \n",
        "5                                   NaN                           NaN   \n",
        "6                                   NaN                           NaN   \n",
        "7                                   NaN                           NaN   \n",
        "8                                   NaN                           NaN   \n",
        "9                                   NaN                           NaN   \n",
        "10                                  NaN                           NaN   \n",
        "11                                  NaN                           NaN   \n",
        "12                                  NaN                           NaN   \n",
        "13                                  NaN                           NaN   \n",
        "14                                  NaN                           NaN   \n",
        "15                                  NaN                           NaN   \n",
        "16                                  NaN                           NaN   \n",
        "17                                  NaN                           NaN   \n",
        "18                                  NaN                           NaN   \n",
        "19                                  NaN                           NaN   \n",
        "20                                  NaN                           NaN   \n",
        "21                                  NaN                           NaN   \n",
        "22                                  NaN                           NaN   \n",
        "23                                  NaN                           NaN   \n",
        "24                                  NaN                           NaN   \n",
        "25                                  NaN                           NaN   \n",
        "26                                  NaN                           NaN   \n",
        "27                                  NaN                           NaN   \n",
        "28                                  NaN                           NaN   \n",
        "29                                  NaN                           NaN   \n",
        "...                                 ...                           ...   \n",
        "135514                              NaN                           NaN   \n",
        "135515                              NaN                           NaN   \n",
        "135516                              NaN                           NaN   \n",
        "135517                              NaN                           NaN   \n",
        "135518                                0                             1   \n",
        "135519                              NaN                           NaN   \n",
        "135520                              NaN                           NaN   \n",
        "135521                              NaN                           NaN   \n",
        "135522                              NaN                           NaN   \n",
        "135523                              NaN                           NaN   \n",
        "135524                              NaN                           NaN   \n",
        "135525                              NaN                           NaN   \n",
        "135526                              NaN                           NaN   \n",
        "135527                              NaN                           NaN   \n",
        "135528                              NaN                           NaN   \n",
        "135529                              NaN                           NaN   \n",
        "135530                              NaN                           NaN   \n",
        "135531                              NaN                           NaN   \n",
        "135532                              NaN                           NaN   \n",
        "135533                              NaN                           NaN   \n",
        "135534                              NaN                           NaN   \n",
        "135535                              NaN                           NaN   \n",
        "135536                              NaN                           NaN   \n",
        "135537                              NaN                           NaN   \n",
        "135538                              NaN                           NaN   \n",
        "135539                              NaN                           NaN   \n",
        "135540                              NaN                           NaN   \n",
        "135541                              NaN                           NaN   \n",
        "135542                              NaN                           NaN   \n",
        "135543                              NaN                           NaN   \n",
        "\n",
        "        Current Activity                       Most Recent Action  \\\n",
        "0                    NaN                                      NaN   \n",
        "1                    NaN                                      NaN   \n",
        "2                    NaN                                      NaN   \n",
        "3                    NaN                                      NaN   \n",
        "4                    NaN                                      NaN   \n",
        "5                    NaN                                      NaN   \n",
        "6                    NaN                                      NaN   \n",
        "7                    NaN                                      NaN   \n",
        "8                    NaN                                      NaN   \n",
        "9                    NaN                                      NaN   \n",
        "10                   NaN                                      NaN   \n",
        "11                   NaN                                      NaN   \n",
        "12                   NaN                                      NaN   \n",
        "13                   NaN                                      NaN   \n",
        "14                   NaN                                      NaN   \n",
        "15                   NaN                                      NaN   \n",
        "16                   NaN                                      NaN   \n",
        "17                   NaN                                      NaN   \n",
        "18                   NaN                                      NaN   \n",
        "19                   NaN                                      NaN   \n",
        "20                   NaN                                      NaN   \n",
        "21                   NaN                                      NaN   \n",
        "22                   NaN                                      NaN   \n",
        "23                   NaN                                      NaN   \n",
        "24                   NaN                                      NaN   \n",
        "25                   NaN                                      NaN   \n",
        "26                   NaN                                      NaN   \n",
        "27                   NaN                                      NaN   \n",
        "28                   NaN                                      NaN   \n",
        "29                   NaN                                      NaN   \n",
        "...                  ...                                      ...   \n",
        "135514               NaN                                      NaN   \n",
        "135515               NaN                                      NaN   \n",
        "135516               NaN                                      NaN   \n",
        "135517               NaN                                      NaN   \n",
        "135518     Dispatch Crew                     Inspected and baited   \n",
        "135519               NaN                                      NaN   \n",
        "135520               NaN                                      NaN   \n",
        "135521               NaN                                      NaN   \n",
        "135522               NaN                                      NaN   \n",
        "135523               NaN                                      NaN   \n",
        "135524               NaN                                      NaN   \n",
        "135525               NaN                                      NaN   \n",
        "135526               NaN                                      NaN   \n",
        "135527               NaN                                      NaN   \n",
        "135528     Dispatch Crew  Area inspected, no cause and no baiting   \n",
        "135529               NaN                                      NaN   \n",
        "135530               NaN                                      NaN   \n",
        "135531               NaN                                      NaN   \n",
        "135532               NaN                                      NaN   \n",
        "135533               NaN                                      NaN   \n",
        "135534               NaN                                      NaN   \n",
        "135535               NaN                                      NaN   \n",
        "135536               NaN                                      NaN   \n",
        "135537               NaN                                      NaN   \n",
        "135538               NaN                                      NaN   \n",
        "135539               NaN                                      NaN   \n",
        "135540               NaN                                      NaN   \n",
        "135541               NaN                                      NaN   \n",
        "135542     Dispatch Crew  Area inspected, no cause and no baiting   \n",
        "135543  CURRENT ACTIVITY                       MOST RECENT ACTION   \n",
        "\n",
        "                 Street Address  ZIP Code    X Coordinate    Y Coordinate  \\\n",
        "0          4908 W HUTCHINSON ST     60641  1142946.950001  1927808.160332   \n",
        "1              6915 S BISHOP ST     60636  1167859.632111  1858888.135675   \n",
        "2              1500 N AVERS AVE     60651  1150433.825895  1909696.767409   \n",
        "3              1400 N AVERS AVE     60651  1150455.039795  1909041.263606   \n",
        "4            5003 S KEDVALE AVE     60632  1149546.979381  1871115.957791   \n",
        "5           4228 N LAWNDALE AVE     60618  1150966.422794  1927849.117493   \n",
        "6       5129 N CENTRAL PARK AVE     60625  1151461.600423  1933842.899970   \n",
        "7           680 N LAKE SHORE DR     60611  1179659.954073  1905017.250129   \n",
        "8             6223 N LE MAI AVE     60646  1140366.422315  1941009.134206   \n",
        "9              6631 N MOZART ST     60645  1156129.162233  1943863.671887   \n",
        "10              11225 S TROY ST     60655  1157363.428932  1830008.682474   \n",
        "11             1240 W BARRY AVE     60657  1167484.356217  1920717.586612   \n",
        "12           9516 S OGLESBY AVE     60617  1193753.869877  1842362.443233   \n",
        "13            4350 N CICERO AVE     60641  1143584.306419  1928578.821227   \n",
        "14        11447 S CHAMPLAIN AVE     60628  1182622.317169  1829179.763628   \n",
        "15            4544 N MOBILE AVE     60630  1133526.838073  1929663.931429   \n",
        "16          4232 N LAWNDALE AVE     60618  1150965.622794  1927876.017493   \n",
        "17          4222 N LAWNDALE AVE     60618  1150967.622794  1927808.917493   \n",
        "18           5105 W OAKDALE AVE     60641  1141830.490628  1919133.826884   \n",
        "19                 157 N ADA ST     60607  1167406.064126  1901226.677618   \n",
        "20           5100 W OAKDALE AVE     60641  1141864.190628  1919134.626884   \n",
        "21           2968 W CORTLAND ST     60647  1156082.406796  1912475.909782   \n",
        "22          5909 N CALDWELL AVE     60646  1143646.655702  1938819.072178   \n",
        "23           4633 W HARRISON ST     60644  1145592.447469  1896953.515994   \n",
        "24         917 N LEAMINGTON AVE     60651  1141857.169506  1905615.879690   \n",
        "25                938 W 31ST PL     60608  1170564.615678  1884008.799922   \n",
        "26           4917 N KEDVALE AVE     60630  1147833.775395  1932352.027521   \n",
        "27             3736 W PIPPIN ST     60652  1152766.583769  1853410.092421   \n",
        "28             1939 W NELSON ST     60657  1162881.847868  1920264.945468   \n",
        "29           2448 W SHERWIN AVE     60645  1158611.719992  1948725.540029   \n",
        "...                         ...       ...             ...             ...   \n",
        "135514      5836 S ARTESIAN AVE     60629  1161035.872799  1865896.970369   \n",
        "135515        2426 W PRATT BLVD     60645  1158807.060017  1945072.383824   \n",
        "135516        1428 S HAMLIN AVE     60623  1151278.490102  1892801.067007   \n",
        "135517      1341 N LOCKWOOD AVE     60651  1140777.668819  1908526.860010   \n",
        "135518       1011 N LARAMIE AVE     60651  1141508.457520  1906237.199904   \n",
        "135519        7530 S WABASH AVE     60619  1178021.518474  1855100.707677   \n",
        "135520         5959 S LAFLIN ST     60636  1167354.393020  1865213.788830   \n",
        "135521     9553 S PRINCETON AVE     60628  1175964.048381  1841578.557199   \n",
        "135522           1111 E 93RD ST     60619  1185291.743719  1843539.750299   \n",
        "135523           3913 W 57TH PL     60629  1151266.356900  1866188.264604   \n",
        "135524     7551 N CLAREMONT AVE     60645  1159347.169967  1949994.101985   \n",
        "135525     2428 N MAPLEWOOD AVE     60647  1158960.340079  1916052.316975   \n",
        "135526       1718 W LE MOYNE ST     60622  1164664.151207  1910153.949810   \n",
        "135527       1410 W BERTEAU AVE     60613  1166079.712721  1928002.330313   \n",
        "135528         3315 W OGDEN AVE     60623  1154509.572975  1891077.149085   \n",
        "135529        7530 S WABASH AVE     60619  1178021.518474  1855100.707677   \n",
        "135530     2755 N SPAULDING AVE     60647  1153780.944531  1918191.014328   \n",
        "135531     7939 S HERMITAGE AVE     60620  1166060.102880  1852046.485427   \n",
        "135532        5637 S KEELER AVE     60629  1149331.611090  1866765.049984   \n",
        "135533      6925 S ARTESIAN AVE     60629  1161237.257799  1858665.025277   \n",
        "135534     7252 S HERMITAGE AVE     60636  1165936.695291  1856601.580785   \n",
        "135535     4350 W CONGRESS PKWY     60624  1147309.510033  1897326.930003   \n",
        "135536    3727 N MARSHFIELD AVE     60613  1164658.235513  1924811.151620   \n",
        "135537        2614 N RACINE AVE     60614  1167856.483594  1917561.186392   \n",
        "135538  2659 N CENTRAL PARK AVE     60647  1151929.608121  1917447.313431   \n",
        "135539      3650 N MAGNOLIA AVE     60613  1167317.220021  1924042.110595   \n",
        "135540      4742 N MAGNOLIA AVE       NaN  1167037.166277  1931628.084181   \n",
        "135541           1111 E 93RD ST     60619  1185291.743719  1843539.750299   \n",
        "135542          5501 S WOODLAWN       NaN  1185160.809228  1868767.031107   \n",
        "135543           STREET ADDRESS       NaN             NaN             NaN   \n",
        "\n",
        "        Ward  Police District  Community Area   Latitude  Longitude  \\\n",
        "0         45               16              15  41.957953 -87.749872   \n",
        "1         17                7              67  41.768329 -87.660270   \n",
        "2         30               25              23  41.908111 -87.722821   \n",
        "3         30               25              23  41.906311 -87.722761   \n",
        "4         14                8              57  41.802257 -87.727080   \n",
        "5         39               17              16  41.957912 -87.720388   \n",
        "6         39               17              13  41.974349 -87.718409   \n",
        "7         42               18               8  41.894649 -87.615604   \n",
        "8         45               16              12  41.994225 -87.759033   \n",
        "9         50               24               2  42.001754 -87.700973   \n",
        "10        19               22              74  41.689297 -87.699524   \n",
        "11        32               19               6  41.938002 -87.659869   \n",
        "12         7                4              51  41.722385 -87.565897   \n",
        "13        45               16              15  41.960056 -87.747509   \n",
        "14         9                5              50  41.686476 -87.607077   \n",
        "15        38               16              15  41.963216 -87.784460   \n",
        "16        39               17              16  41.957986 -87.720390   \n",
        "17        39               17              16  41.957801 -87.720385   \n",
        "18        31               25              19  41.934171 -87.754192   \n",
        "19        27               12              28  41.884520 -87.660718   \n",
        "20        31               25              19  41.934172 -87.754068   \n",
        "21        35               14              22  41.915625 -87.701996   \n",
        "22        39               17              12  41.988155 -87.747022   \n",
        "23        24               11              25  41.873235 -87.740929   \n",
        "24        37               15              25  41.897075 -87.754429   \n",
        "25        11                9              60  41.837204 -87.649623   \n",
        "26        39               17              14  41.970329 -87.731789   \n",
        "27        18                8              70  41.753607 -87.715738   \n",
        "28        32               19               5  41.936858 -87.676796   \n",
        "29        50               24               2  42.015044 -87.691706   \n",
        "...      ...              ...             ...        ...        ...   \n",
        "135514    16                8              63  41.787706 -87.685089   \n",
        "135515    50               24               2  42.005016 -87.691088   \n",
        "135516    24               10              29  41.861730 -87.720162   \n",
        "135517    37               25              25  41.905083 -87.758322   \n",
        "135518    37               15              25  41.898787 -87.755694   \n",
        "135519     6                6              69  41.757711 -87.623137   \n",
        "135520    16                7              67  41.785698 -87.661941   \n",
        "135521    21                5              49  41.720651 -87.631082   \n",
        "135522     8                4              47  41.725819 -87.596855   \n",
        "135523    13                8              62  41.788702 -87.720903   \n",
        "135524    49               24               2  42.018510 -87.688965   \n",
        "135525     1               14              22  41.925380 -87.691324   \n",
        "135526     1               14              24  41.909075 -87.670533   \n",
        "135527    47               19               6  41.958022 -87.664822   \n",
        "135528    24               10              29  41.856936 -87.708347   \n",
        "135529     6                6              69  41.757711 -87.623137   \n",
        "135530    35               14              22  41.931353 -87.710299   \n",
        "135531    21                6              71  41.749593 -87.667061   \n",
        "135532    13                8              62  41.790322 -87.727982   \n",
        "135533    17                8              66  41.767856 -87.684551   \n",
        "135534    17                7              67  41.762095 -87.667384   \n",
        "135535    24               11              26  41.874227 -87.734616   \n",
        "135536    47               19               6  41.949296 -87.670139   \n",
        "135537    32               19               7  41.929333 -87.658592   \n",
        "135538    35               14              22  41.929349 -87.717122   \n",
        "135539    44               19               6  41.947128 -87.660387   \n",
        "135540    46               23               3  41.967951 -87.661198   \n",
        "135541     8                4              47  41.725819 -87.596855   \n",
        "135542     5               21              41  41.795048 -87.596544   \n",
        "135543   NaN              NaN             NaN        NaN        NaN   \n",
        "\n",
        "                                        Location  \n",
        "0       (41.957952909185856, -87.74987175876076)  \n",
        "1        (41.768328601514455, -87.6602704707055)  \n",
        "2       (41.908110540569005, -87.72282129792974)  \n",
        "3        (41.90631136039996, -87.72276050861144)  \n",
        "4        (41.80225730577933, -87.72707981049875)  \n",
        "5       (41.957911681241406, -87.72038806227229)  \n",
        "6       (41.974349283846536, -87.71840945909008)  \n",
        "7        (41.89464875944979, -87.61560417245973)  \n",
        "8        (41.99422528183371, -87.75903344019028)  \n",
        "9        (42.00175352887489, -87.70097332471786)  \n",
        "10       (41.68929742981148, -87.69952381260245)  \n",
        "11       (41.93800218559503, -87.65986853469147)  \n",
        "12       (41.72238546736288, -87.56589719418255)  \n",
        "13       (41.96005573563926, -87.74750921768275)  \n",
        "14       (41.68647557183858, -87.60707728549757)  \n",
        "15       (41.96321611063977, -87.78446024221064)  \n",
        "16       (41.95798551245732, -87.72039029600587)  \n",
        "17      (41.957801346026415, -87.72038470773528)  \n",
        "18      (41.934170511750004, -87.75419177686257)  \n",
        "19       (41.88451962489873, -87.66071801603259)  \n",
        "20       (41.93417208227522, -87.75406790849907)  \n",
        "21       (41.91562454305178, -87.70199606944088)  \n",
        "22      (41.988154601191624, -87.74702232204947)  \n",
        "23       (41.87323478970172, -87.74092940501316)  \n",
        "24       (41.89707530531422, -87.75442905943434)  \n",
        "25       (41.83720388653583, -87.64962296601966)  \n",
        "26      (41.970328908371066, -87.73178863263537)  \n",
        "27       (41.75360674492404, -87.71573839632325)  \n",
        "28       (41.93685808352693, -87.67679637933988)  \n",
        "29        (42.01504397458928, -87.6917062515062)  \n",
        "...                                          ...  \n",
        "135514   (41.78770562679793, -87.68508927571739)  \n",
        "135515   (42.00501558156435, -87.69108831828841)  \n",
        "135516   (41.86173040969119, -87.72016189317569)  \n",
        "135517   (41.90508329625724, -87.75832229923284)  \n",
        "135518    (41.89878673057768, -87.7556944800398)  \n",
        "135519   (41.75771122728605, -87.62313707074553)  \n",
        "135520  (41.785697828520156, -87.66194139257287)  \n",
        "135521   (41.72065109536011, -87.63108179029372)  \n",
        "135522   (41.72581895961811, -87.59685549830274)  \n",
        "135523   (41.78870152820766, -87.72090280848239)  \n",
        "135524    (42.01850978301388, -87.6889649223713)  \n",
        "135525  (41.925379847343194, -87.69132439131293)  \n",
        "135526   (41.90907525072416, -87.67053340310254)  \n",
        "135527  (41.958022022585844, -87.66482204074649)  \n",
        "135528   (41.85693584874869, -87.70834713693091)  \n",
        "135529   (41.75771122728605, -87.62313707074553)  \n",
        "135530   (41.93135343973727, -87.71029893507783)  \n",
        "135531   (41.74959262320285, -87.66706085160479)  \n",
        "135532   (41.79032191699322, -87.72798203264237)  \n",
        "135533   (41.76785599857217, -87.68455093042334)  \n",
        "135534   (41.76209506261827, -87.66738386159072)  \n",
        "135535   (41.87422678972962, -87.73461560327037)  \n",
        "135536   (41.94929559096112, -87.67013866169015)  \n",
        "135537   (41.92933283716873, -87.65859219580943)  \n",
        "135538    (41.92934937797203, -87.7171219455323)  \n",
        "135539   (41.94712843446327, -87.66038686997513)  \n",
        "135540   (41.967950674945655, -87.6611975602135)  \n",
        "135541   (41.72581895961811, -87.59685549830274)  \n",
        "135542   (41.79504811489318, -87.59654363354196)  \n",
        "135543                                       NaN  \n",
        "\n",
        "[135544 rows x 20 columns]"
       ]
      }
     ],
     "prompt_number": 14
    },
    {
     "cell_type": "code",
     "collapsed": false,
     "input": [
      "# \ud2b9\uc815 \ud544\ub4dc\uc5d0 \ub300\ud574 \uac12\uc758 \ubc94\uc704\ub97c \uc870\uc0ac\n",
      "rats['Current Activity'].unique()"
     ],
     "language": "python",
     "metadata": {},
     "outputs": [
      {
       "metadata": {},
       "output_type": "pyout",
       "prompt_number": 15,
       "text": [
        "array([nan, 'Dispatch Crew', 'Request Sanitation Inspector',\n",
        "       'CURRENT ACTIVITY'], dtype=object)"
       ]
      }
     ],
     "prompt_number": 15
    },
    {
     "cell_type": "code",
     "collapsed": false,
     "input": [
      "# \ub370\uc774\ud130 \ud544\ud130\ub9c1\n",
      "crew_dispatched = rats[rats['Current Activity'] == 'Dispatch Crew']"
     ],
     "language": "python",
     "metadata": {},
     "outputs": [],
     "prompt_number": 17
    },
    {
     "cell_type": "code",
     "collapsed": false,
     "input": [
      "len(crew_dispatched)"
     ],
     "language": "python",
     "metadata": {},
     "outputs": [
      {
       "metadata": {},
       "output_type": "pyout",
       "prompt_number": 18,
       "text": [
        "120739"
       ]
      }
     ],
     "prompt_number": 18
    },
    {
     "cell_type": "code",
     "collapsed": false,
     "input": [
      "# \uc2dc\uce74\uace0\uc5d0\uc11c \uc950\uac00 \uac00\uc7a5 \ub9ce\uc740 \uc7a5\uc18c 10\uad70\ub370\uc758 ZIP \ucf54\ub4dc\n",
      "crew_dispatched['ZIP Code'].value_counts()"
     ],
     "language": "python",
     "metadata": {},
     "outputs": [
      {
       "metadata": {},
       "output_type": "pyout",
       "prompt_number": 24,
       "text": [
        "60618    7930\n",
        "60647    7498\n",
        "60614    6114\n",
        "60629    5324\n",
        "60657    5169\n",
        "60636    4324\n",
        "60641    4030\n",
        "60651    3528\n",
        "60609    3448\n",
        "60632    3420\n",
        "60659    3253\n",
        "60625    3182\n",
        "60634    3147\n",
        "60620    3139\n",
        "60623    3121\n",
        "...\n",
        "60605    515\n",
        "60656    507\n",
        "60611    307\n",
        "60654    229\n",
        "60601     95\n",
        "60606     87\n",
        "60604     71\n",
        "60602     66\n",
        "60603     64\n",
        "60661     59\n",
        "60633     59\n",
        "60827     22\n",
        "60666      6\n",
        "0          2\n",
        "60635      1\n",
        "Length: 61, dtype: int64"
       ]
      }
     ],
     "prompt_number": 24
    },
    {
     "cell_type": "code",
     "collapsed": false,
     "input": [
      "dates = crew_dispatched.groupby('Completion Date')\n",
      "dates"
     ],
     "language": "python",
     "metadata": {},
     "outputs": [
      {
       "metadata": {},
       "output_type": "pyout",
       "prompt_number": 27,
       "text": [
        "<pandas.core.groupby.DataFrameGroupBy object at 0x10555c710>"
       ]
      }
     ],
     "prompt_number": 27
    },
    {
     "cell_type": "code",
     "collapsed": false,
     "input": [
      "len(dates)"
     ],
     "language": "python",
     "metadata": {},
     "outputs": [
      {
       "metadata": {},
       "output_type": "pyout",
       "prompt_number": 26,
       "text": [
        "934"
       ]
      }
     ],
     "prompt_number": 26
    },
    {
     "cell_type": "code",
     "collapsed": false,
     "input": [
      "# \uac01 \ub0a0\uc9dc\uc5d0 \ub300\ud55c \uce74\uc6b4\ud2b8 \uc5bb\uae30\n",
      "date_counts = dates.size()"
     ],
     "language": "python",
     "metadata": {},
     "outputs": [],
     "prompt_number": 28
    },
    {
     "cell_type": "code",
     "collapsed": false,
     "input": [
      "date_counts[0:10]"
     ],
     "language": "python",
     "metadata": {},
     "outputs": [
      {
       "metadata": {},
       "output_type": "pyout",
       "prompt_number": 29,
       "text": [
        "Completion Date\n",
        "01/01/2014           7\n",
        "01/02/2013          20\n",
        "01/02/2014          96\n",
        "01/03/2011           4\n",
        "01/03/2012         125\n",
        "01/03/2013          46\n",
        "01/03/2014          59\n",
        "01/04/2011          54\n",
        "01/04/2012          38\n",
        "01/04/2013         135\n",
        "dtype: int64"
       ]
      }
     ],
     "prompt_number": 29
    },
    {
     "cell_type": "code",
     "collapsed": false,
     "input": [
      "# \uce74\uc6b4\ud2b8 \uc815\ub82c\n",
      "date_counts.sort()\n",
      "date_counts[-10:]"
     ],
     "language": "python",
     "metadata": {},
     "outputs": [
      {
       "metadata": {},
       "output_type": "pyout",
       "prompt_number": 30,
       "text": [
        "Completion Date\n",
        "10/26/2012         333\n",
        "03/17/2011         336\n",
        "12/09/2013         357\n",
        "11/18/2013         362\n",
        "11/13/2013         365\n",
        "10/13/2011         378\n",
        "10/14/2011         391\n",
        "11/12/2013         401\n",
        "10/07/2011         457\n",
        "11/01/2013         488\n",
        "dtype: int64"
       ]
      }
     ],
     "prompt_number": 30
    },
    {
     "cell_type": "markdown",
     "metadata": {},
     "source": [
      "- \uc704\uc758 \uc790\ub8cc\ub97c \ubcf4\ub2c8 2013\ub144 11\uc6d4 1\uc77c\uc5d0 \uc950\ub4e4\uc774 \uac00\uc7a5 \ubc14\ube74\ub2e4\ub294 \uac83\uc744 \uc54c \uc218 \uc788\ub2e4."
     ]
    },
    {
     "cell_type": "markdown",
     "metadata": {},
     "source": [
      "### \ud1a0\ub860\n",
      "\n",
      "- Pandas\uc758 \uae30\ub2a5\uc744 \uc5ec\uae30\uc11c \ubaa8\ub450 \ub2e4\ub8e8\uae30\uc5d0\ub294 \ubd88\uac00\ub2a5\ud560 \uc815\ub3c4\ub85c \uc774\ub294 \ubc29\ub300\ud55c \ub77c\uc774\ube0c\ub7ec\ub9ac\n",
      "- \ud558\uc9c0\ub9cc \ucee4\ub2e4\ub780 \ub370\uc774\ud130\uc138\ud2b8\ub97c \ubd84\uc11d\ud558\uace0, \ub370\uc774\ud130\ub97c \uadf8\ub8f9\uc73c\ub85c \ubb36\uace0, \ud1b5\uacc4\ub97c \ub0b4\ub294 \ub4f1\uc758 \uc791\uc5c5\uc744 \ud558\ub824 \ud55c\ub2e4\uba74 \uace0\ub824\ud574\ubcfc \ub9cc\ud558\ub2e4.\n",
      "- [Python for Data Analysis](http://www.yes24.com/24/goods/11043328?scode=032&OzSrank=1)\uc5d0 \ub354 \ub9ce\uc740 \uc815\ubcf4\ub97c \uc5bb\uc744 \uc218 \uc788\uc73c\ub2c8 \ucc38\uace0"
     ]
    }
   ],
   "metadata": {}
  }
 ]
}
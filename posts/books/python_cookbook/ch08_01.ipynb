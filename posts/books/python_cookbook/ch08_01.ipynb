{
 "metadata": {
  "name": "",
  "signature": "sha256:58cc57dda472fb510efc10475f47e95148a39884cce3cdaacf90e23f46488164"
 },
 "nbformat": 3,
 "nbformat_minor": 0,
 "worksheets": [
  {
   "cells": [
    {
     "cell_type": "markdown",
     "metadata": {},
     "source": [
      "# 8. \ud074\ub798\uc2a4\uc640 \uac1d\uccb4\n",
      "\n",
      "- \ud074\ub798\uc2a4 \uc815\uc758\uc640 \uad00\ub828\ub41c \ud504\ub85c\uadf8\ub798\ubc0d \ud328\ud134\uc5d0 \ub300\ud574 \uc8fc\ub85c \uc54c\uc544\ubd04\n",
      "- \uc77c\ubc18\uc801\uc778 \ud30c\uc774\uc36c \uae30\ub2a5\uc744 \uac1d\uccb4\uac00 \uc9c0\uc6d0\ud558\ub3c4\ub85d \ud558\uae30, \ud2b9\ubcc4 \uba54\uc18c\ub4dc \uc0ac\uc6a9, encapsulation \uae30\uc220, \uc0c1\uc18d, \uba54\ubaa8\ub9ac \uad00\ub9ac, \uc720\uc6a9\ud55c \ub514\uc790\uc778 \ud328\ud134 \ub4f1\uc774 \ud3ec\ud568\ub428"
     ]
    },
    {
     "cell_type": "markdown",
     "metadata": {},
     "source": [
      "## 8.1 \uc778\uc2a4\ud134\uc2a4\uc758 \ubb38\uc790\uc5f4 \ud45c\ud604\uc2dd \ubcc0\ud615\n",
      "\n",
      "### \ubb38\uc81c\n",
      "\n",
      "- \uc778\uc2a4\ud134\uc2a4\ub97c \ucd9c\ub825\ud558\uac70\ub098 \ubcfc \ub54c \uc0dd\uc131\ub418\ub294 \uacb0\uacfc\ubb3c\uc744 \uc880 \ub354 \ubcf4\uae30 \uc88b\uac8c \ubc14\uafb8\uace0 \uc2f6\ub2e4\n",
      "\n",
      "### \ud574\uacb0\n",
      "\n",
      "- \uc778\uc2a4\ud134\uc2a4\uc758 \ubb38\uc790\uc5f4 \ud45c\ud604\uc2dd\uc744 \ubc14\uafb8\ub824\uba74 \\_\\_str\\_\\_()\uc640 \\_\\_repr\\_\\_() \uba54\uc18c\ub4dc \uc815\uc758"
     ]
    },
    {
     "cell_type": "code",
     "collapsed": false,
     "input": [
      "class Pair:\n",
      "    def __init__(self, x, y):\n",
      "        self.x = x\n",
      "        self.y = y\n",
      "        \n",
      "    def __repr__(self):\n",
      "        return 'Pair({0.x!r}, {0.y!r})'.format(self)\n",
      "    \n",
      "    def __str__(self):\n",
      "        return '({0.x!s}, {0.y!s})'.format(self)"
     ],
     "language": "python",
     "metadata": {},
     "outputs": [],
     "prompt_number": 1
    },
    {
     "cell_type": "markdown",
     "metadata": {},
     "source": [
      "- \\_\\_repr\\_\\_() \uba54\uc18c\ub4dc\ub294 \uc778\uc2a4\ud134\uc2a4\uc758 \ucf54\ub4dc \ud45c\ud604\uc2dd\uc744 \ubc18\ud658\ud558\uace0, \uc77c\ubc18\uc801\uc73c\ub85c \uc778\uc2a4\ud134\uc2a4\ub97c \uc7ac\uc0dd\uc131\ud560 \ub54c \uc785\ub825\ud558\ub294 \ud14d\uc2a4\ud2b8\n",
      "- \ub0b4\uc7a5 repr() \ud568\uc218\ub294 \uc778\ud130\ud504\ub9ac\ud130\uc5d0\uc11c \uac12\uc744 \uc870\uc0ac\ud560 \ub54c\uc640 \ub9c8\ucc2c\uac00\uc9c0\ub85c \uc774 \ud14d\uc2a4\ud2b8\ub97c \ubc18\ud658\ud568\n",
      "- \\_\\_str\\_\\_() \uba54\uc18c\ub4dc\ub294 \uc778\uc2a4\ud134\uc2a4\ub97c \ubb38\uc790\uc5f4\ub85c \ubcc0\ud658\ud558\uace0, str()\uc640 print() \ud568\uc218\uac00 \ucd9c\ub825\ud558\ub294 \uacb0\uacfc\uac00 \ub428"
     ]
    },
    {
     "cell_type": "code",
     "collapsed": false,
     "input": [
      "p = Pair(3, 4)"
     ],
     "language": "python",
     "metadata": {},
     "outputs": [],
     "prompt_number": 2
    },
    {
     "cell_type": "code",
     "collapsed": false,
     "input": [
      "p"
     ],
     "language": "python",
     "metadata": {},
     "outputs": [
      {
       "metadata": {},
       "output_type": "pyout",
       "prompt_number": 3,
       "text": [
        "Pair(3, 4)"
       ]
      }
     ],
     "prompt_number": 3
    },
    {
     "cell_type": "code",
     "collapsed": false,
     "input": [
      "print(p)"
     ],
     "language": "python",
     "metadata": {},
     "outputs": [
      {
       "output_type": "stream",
       "stream": "stdout",
       "text": [
        "(3, 4)\n"
       ]
      }
     ],
     "prompt_number": 4
    },
    {
     "cell_type": "markdown",
     "metadata": {},
     "source": [
      "### \ud1a0\ub860\n",
      "\n",
      "- \\_\\_repr\\_\\_()\uc640 \\_\\_str\\_\\_()\ub97c \uc815\uc758\ud558\uba74 \ub514\ubc84\uae45\uacfc \uc778\uc2a4\ud134\uc2a4 \ucd9c\ub825\uc744 \uac04\uc18c\ud654\n",
      "- \uc608\ub97c \ub4e4\uc5b4, \ub2e8\uc9c0 \ucd9c\ub825\uc774\ub098 \uc778\uc2a4\ud134\uc2a4 \ub85c\uae45\uc744 \ud560 \ub54c\ub3c4, \ud504\ub85c\uadf8\ub798\uba38\ub294 \uc778\uc2a4\ud134\uc2a4 \ub0b4\uc6a9\uc5d0 \ub300\ud574 \ub354 \uc720\uc6a9\ud55c \uc815\ubcf4\ub97c \uc5bb\uc744 \uc218 \uc788\uc74c\n",
      "- \\_\\_repr\\_\\_()\ub294 eval(repr(x)) == x\uc640 \uac19\uc740 \ud14d\uc2a4\ud2b8\ub97c \ub9cc\ub4dc\ub294 \uac83\uc774 \ud45c\uc900\n",
      "- \uc774\uac83\uc744 \uc6d0\ud558\uc9c0 \uc54a\uac70\ub098 \ubd88\uac00\ub2a5\ud558\ub2e4\uba74 \uc77c\ubc18\uc801\uc73c\ub85c <\uc640 > \uc0ac\uc774\uc5d0 \ud14d\uc2a4\ud2b8\ub97c \ub123\ub294\ub2e4."
     ]
    },
    {
     "cell_type": "code",
     "collapsed": false,
     "input": [
      "f = open('08/calling_a_method_on_a_parent_class/example1.py')"
     ],
     "language": "python",
     "metadata": {},
     "outputs": [],
     "prompt_number": 5
    },
    {
     "cell_type": "code",
     "collapsed": false,
     "input": [
      "f"
     ],
     "language": "python",
     "metadata": {},
     "outputs": [
      {
       "metadata": {},
       "output_type": "pyout",
       "prompt_number": 6,
       "text": [
        "<_io.TextIOWrapper name='08/calling_a_method_on_a_parent_class/example1.py' mode='r' encoding='UTF-8'>"
       ]
      }
     ],
     "prompt_number": 6
    },
    {
     "cell_type": "markdown",
     "metadata": {},
     "source": [
      "- \\_\\_str\\_\\_()\ub97c \uc815\uc758\ud558\uc9c0 \uc54a\uc73c\uba74 \ub300\uc2e0 \\_\\_repr\\_\\_()\uc758 \uacb0\uacfc\ubb3c\uc744 \uc0ac\uc6a9\n",
      "- format()\uc744 \uc0ac\uc6a9\ud55c \uc810\uc774 \uc871\ubbc0 \uc6b0\uc2a4\uc6b8\uc9c0 \ubaa8\ub974\uaca0\uc9c0\ub9cc, \uc11c\uc2dd \ucf54\ub4dc {0.x}\ub294 \uc778\uc790 0\uc758 x \uc18d\uc131\uc744 \uba85\uc2dc\ud568\n",
      "- \ub530\ub77c\uc11c \ub2e4\uc74c \ud568\uc218\uc5d0\uc11c 0\uc740 \uc2e4\uc81c\ub85c \uc778\uc2a4\ud134\uc2a4 self\ub97c \uc758\ubbf8\ud568"
     ]
    },
    {
     "cell_type": "code",
     "collapsed": false,
     "input": [
      "def __repr__(self):\n",
      "    return 'Pair({0.x!r}, {0.y!r})'.format(self)"
     ],
     "language": "python",
     "metadata": {},
     "outputs": [],
     "prompt_number": 8
    },
    {
     "cell_type": "markdown",
     "metadata": {},
     "source": [
      "- \uc774 \uad6c\ud604\ubc95\uc5d0 \ub300\ud55c \ub300\uc548\uc73c\ub85c % \uc5f0\uc0b0\uc790\uc640 \ub2e4\uc74c \ucf54\ub4dc\ub97c \uc0ac\uc6a9\ud574\ub3c4 \ub428"
     ]
    },
    {
     "cell_type": "code",
     "collapsed": false,
     "input": [
      "def __repr__(self):\n",
      "    return 'Pair(%r, %r)' % (self.x, self.y)"
     ],
     "language": "python",
     "metadata": {},
     "outputs": [],
     "prompt_number": 9
    },
    {
     "cell_type": "markdown",
     "metadata": {},
     "source": [
      "## 8.2 \ubb38\uc790\uc5f4 \uc11c\uc2dd\ud654 \uc870\uc808\n",
      "\n",
      "### \ubb38\uc81c\n",
      "\n",
      "- format() \ud568\uc218\uc640 \ubb38\uc790\uc5f4 \uba54\uc18c\ub4dc\ub85c \uc0ac\uc6a9\uc790\uac00 \uc815\uc758\ud55c \uc11c\uc2dd\ud654\ub97c \uc9c0\uc6d0\ud558\uace0 \uc2f6\ub2e4.\n",
      "\n",
      "### \ud574\uacb0\n",
      "\n",
      "- \ubb38\uc790\uc5f4 \uc11c\uc2dd\ud654\ub97c \uc870\uc808\ud558\uace0 \uc2f6\uc73c\uba74 \ud074\ub798\uc2a4\uc5d0 \\_\\_format\\_\\_ \uba54\uc18c\ub4dc \uc815\uc758"
     ]
    },
    {
     "cell_type": "code",
     "collapsed": false,
     "input": [
      "_formats = {\n",
      "    'ymd' : '{d.year}-{d.month}-{d.day}',\n",
      "    'mdy' : '{d.month}/{d.day}/{d.year}',\n",
      "    'dmy' : '{d.day}/{d.month}/{d.year}'\n",
      "}"
     ],
     "language": "python",
     "metadata": {},
     "outputs": [],
     "prompt_number": 10
    },
    {
     "cell_type": "code",
     "collapsed": false,
     "input": [
      "class Date:\n",
      "    def __init__(self, year, month, day):\n",
      "        self.year = year\n",
      "        self.month = month\n",
      "        self.day = day\n",
      "        \n",
      "    def __format__(self, code):\n",
      "        if code == '':\n",
      "            code = 'ymd'\n",
      "        fmt = _formats[code]\n",
      "        return fmt.format(d=self)"
     ],
     "language": "python",
     "metadata": {},
     "outputs": [],
     "prompt_number": 39
    },
    {
     "cell_type": "markdown",
     "metadata": {},
     "source": [
      "- Date \ud074\ub798\uc2a4\uc758 \uc778\uc2a4\ud134\uc2a4\ub294 \uc774\uc81c \ub2e4\uc74c\uacfc \uac19\uc740 \uc11c\uc2dd\ud654 \uc9c0\uc6d0"
     ]
    },
    {
     "cell_type": "code",
     "collapsed": false,
     "input": [
      "d = Date(2012, 12, 21)"
     ],
     "language": "python",
     "metadata": {},
     "outputs": [],
     "prompt_number": 40
    },
    {
     "cell_type": "code",
     "collapsed": false,
     "input": [
      "format(d)"
     ],
     "language": "python",
     "metadata": {},
     "outputs": [
      {
       "metadata": {},
       "output_type": "pyout",
       "prompt_number": 41,
       "text": [
        "'2012-12-21'"
       ]
      }
     ],
     "prompt_number": 41
    },
    {
     "cell_type": "code",
     "collapsed": false,
     "input": [
      "format(d, 'mdy')"
     ],
     "language": "python",
     "metadata": {},
     "outputs": [
      {
       "metadata": {},
       "output_type": "pyout",
       "prompt_number": 42,
       "text": [
        "'12/21/2012'"
       ]
      }
     ],
     "prompt_number": 42
    },
    {
     "cell_type": "code",
     "collapsed": false,
     "input": [
      "'The date is {:ymd}'.format(d)"
     ],
     "language": "python",
     "metadata": {},
     "outputs": [
      {
       "metadata": {},
       "output_type": "pyout",
       "prompt_number": 43,
       "text": [
        "'The date is 2012-12-21'"
       ]
      }
     ],
     "prompt_number": 43
    },
    {
     "cell_type": "code",
     "collapsed": false,
     "input": [
      "'The date is {:mdy}'.format(d)"
     ],
     "language": "python",
     "metadata": {},
     "outputs": [
      {
       "metadata": {},
       "output_type": "pyout",
       "prompt_number": 44,
       "text": [
        "'The date is 12/21/2012'"
       ]
      }
     ],
     "prompt_number": 44
    },
    {
     "cell_type": "markdown",
     "metadata": {},
     "source": [
      "### \ud1a0\ub860\n",
      "\n",
      "- \\_\\_format\\_\\_() \uba54\uc18c\ub4dc\ub294 \ud30c\uc774\uc36c\uc758 \ubb38\uc790\uc5f4 \uc11c\uc2dd\ud654 \ud568\uc218\uc5d0 \ud6c4\ud06c(hook)\ub97c \uc81c\uacf5\n",
      "- \uc11c\uc2dd\ud654 \ucf54\ub4dc\uc758 \ud574\uc11d\uc740 \ubaa8\ub450 \ud074\ub798\uc2a4 \uc790\uccb4\uc5d0 \ub2ec\ub824\uc788\ub2e4\ub294 \uc810\uc774 \uc911\uc694\n",
      "- \ub530\ub77c\uc11c \ucf54\ub4dc\uc5d0\ub294 \uac70\uc758 \ubaa8\ub4e0 \ub0b4\uc6a9\uc774 \uc62c \uc218 \uc788\uc74c\n",
      "- \ub2e4\uc74c datetime \ubaa8\ub4c8\uc744 \ubcf4\uc790"
     ]
    },
    {
     "cell_type": "code",
     "collapsed": false,
     "input": [
      "from datetime import date"
     ],
     "language": "python",
     "metadata": {},
     "outputs": [],
     "prompt_number": 45
    },
    {
     "cell_type": "code",
     "collapsed": false,
     "input": [
      "d = date(2012, 12, 21)"
     ],
     "language": "python",
     "metadata": {},
     "outputs": [],
     "prompt_number": 46
    },
    {
     "cell_type": "code",
     "collapsed": false,
     "input": [
      "format(d)"
     ],
     "language": "python",
     "metadata": {},
     "outputs": [
      {
       "metadata": {},
       "output_type": "pyout",
       "prompt_number": 47,
       "text": [
        "'2012-12-21'"
       ]
      }
     ],
     "prompt_number": 47
    },
    {
     "cell_type": "code",
     "collapsed": false,
     "input": [
      "format(d, '%A, %B %d, %Y')"
     ],
     "language": "python",
     "metadata": {},
     "outputs": [
      {
       "metadata": {},
       "output_type": "pyout",
       "prompt_number": 48,
       "text": [
        "'Friday, December 21, 2012'"
       ]
      }
     ],
     "prompt_number": 48
    },
    {
     "cell_type": "code",
     "collapsed": false,
     "input": [
      "'The end is {:%d %b %Y}. Goodbye'.format(d)"
     ],
     "language": "python",
     "metadata": {},
     "outputs": [
      {
       "metadata": {},
       "output_type": "pyout",
       "prompt_number": 49,
       "text": [
        "'The end is 21 Dec 2012. Goodbye'"
       ]
      }
     ],
     "prompt_number": 49
    },
    {
     "cell_type": "markdown",
     "metadata": {},
     "source": [
      "- \ub0b4\uc7a5 \ud0c0\uc785\uc758 \uc11c\uc2dd\ud654\uc5d0\ub294 \uc5b4\ub290 \uc815\ub3c4 \ud45c\uc900\uc774 \uc788\uc74c\n",
      "- [7.1. string \u00e2\u0080\u0094 Common string operations \u2014 Python 2.7.8 documentation](https://docs.python.org/2/library/string.html)"
     ]
    },
    {
     "cell_type": "markdown",
     "metadata": {},
     "source": [
      "## 8.3 \uac1d\uccb4\uc758 \ucf58\ud14d\uc2a4\ud2b8 \uad00\ub9ac \ud504\ub85c\ud1a0\ucf5c \uc9c0\uc6d0\n",
      "\n",
      "### \ubb38\uc81c\n",
      "\n",
      "- \uac1d\uccb4\uac00 \ucf58\ud14d\uc2a4\ud2b8 \uad00\ub9ac \ud504\ub85c\ud1a0\ucf5c(with \uad6c\ubb38)\uc744 \uc9c0\uc6d0\ud558\uac8c \ub9cc\ub4e4\uace0 \uc2f6\ub2e4\n",
      "\n",
      "### \ud574\uacb0\n",
      "\n",
      "- \uac1d\uccb4\uc640 with \uad6c\ubb38\uc744 \ud568\uaed8 \uc0ac\uc6a9\ud560 \uc218 \uc788\uac8c \ub9cc\ub4e4\ub824\uba74, \\_\\_enter\\_\\_()\uc640 \\_\\_exit\\_\\_() \uba54\uc18c\ub4dc\ub97c \uad6c\ud604\ud574\uc57c \ud568\n",
      "- \uc608\ub97c \ub4e4\uc5b4 \ub124\ud2b8\uc6cc\ud06c \uc5f0\uacb0\uc744 \uc81c\uacf5\ud558\ub294 \ub2e4\uc74c \ud074\ub798\uc2a4\ub97c \ubcf4\uc790"
     ]
    },
    {
     "cell_type": "code",
     "collapsed": false,
     "input": [
      "from socket import socket, AF_INET, SOCK_STREAM"
     ],
     "language": "python",
     "metadata": {},
     "outputs": [],
     "prompt_number": 50
    },
    {
     "cell_type": "code",
     "collapsed": false,
     "input": [
      "class LazyConnection:\n",
      "    def __init__(self, address, family=AF_INET, type=SOCK_STREAM):\n",
      "        self.address = address\n",
      "        self.family = AF_INET\n",
      "        self.type = SOCK_STREAM\n",
      "        self.sock = None\n",
      "        \n",
      "    def __enter__(self):\n",
      "        if self.sock is not None:\n",
      "            raise RuntimeError('Already connected')\n",
      "        self.sock = socket(self.family, self.type)\n",
      "        self.sock.connect(self.address)\n",
      "        return self.sock\n",
      "    \n",
      "    def __exit__(self, exc_ty, exc_val, tb):\n",
      "        self.sock.close()\n",
      "        self.sock = None"
     ],
     "language": "python",
     "metadata": {},
     "outputs": [],
     "prompt_number": 56
    },
    {
     "cell_type": "markdown",
     "metadata": {},
     "source": [
      "- \uc774 \ud074\ub798\uc2a4\uc758 \uc8fc\uc694 \uae30\ub2a5\uc740 \ub124\ud2b8\uc6cc\ud06c \uc5f0\uacb0\uc744 \ud45c\ud604\ud558\ub294 \uac83\uc774\uc9c0\ub9cc, \ucc98\uc74c\uc5d0\ub294 \uc544\ubb34\ub7f0 \uc791\uc5c5\uc744 \ud558\uc9c0 \uc54a\ub294\ub2e4.(\uc608: \uc2e4\uc81c \uc5f0\uacb0 \ub4f1)\n",
      "- \uadf8 \ub300\uc2e0 \uc5f0\uacb0\uc740 with \uad6c\ubb38\uc5d0\uc11c \uc774\ub8e8\uc5b4\uc9d0(\uc694\uad6c\uc5d0 \uc758\ud574)"
     ]
    },
    {
     "cell_type": "code",
     "collapsed": false,
     "input": [
      "from functools import partial"
     ],
     "language": "python",
     "metadata": {},
     "outputs": [],
     "prompt_number": 57
    },
    {
     "cell_type": "code",
     "collapsed": false,
     "input": [
      "conn = LazyConnection(('www.python.org', 80))"
     ],
     "language": "python",
     "metadata": {},
     "outputs": [],
     "prompt_number": 58
    },
    {
     "cell_type": "code",
     "collapsed": false,
     "input": [
      "# \uc5f0\uacb0 \uc885\ub8cc\n",
      "with conn as s:\n",
      "    # conn.__enter__() \uc2e4\ud589: \uc5f0\uacb0\n",
      "    s.send(b'GET /index.html HTTP/1.0\\r\\n')\n",
      "    s.send(b'Host: www.python.org\\r\\n')\n",
      "    s.send(b'\\r\\n')\n",
      "    resp = b''.join(iter(partial(s.recv, 8192), b''))\n",
      "    # conn.__exit__() \uc2e4\ud589: \uc5f0\uacb0 \uc885\ub8cc\n",
      "    \n",
      "    print('Got %d bytes' % len(resp))\n",
      "    from pprint import pprint\n",
      "    pprint(resp.split(b'\\r\\n'))"
     ],
     "language": "python",
     "metadata": {},
     "outputs": [
      {
       "output_type": "stream",
       "stream": "stdout",
       "text": [
        "Got 352 bytes\n",
        "[b'HTTP/1.1 301 Moved Permanently',\n",
        " b'Server: Varnish',\n",
        " b'Retry-After: 0',\n",
        " b'Location: https://www.python.org/index.html',\n",
        " b'Content-Length: 0',\n",
        " b'Accept-Ranges: bytes',\n",
        " b'Date: Thu, 09 Oct 2014 08:50:53 GMT',\n",
        " b'Via: 1.1 varnish',\n",
        " b'Connection: close',\n",
        " b'X-Served-By: cache-ty66-TYO',\n",
        " b'X-Cache: MISS',\n",
        " b'X-Cache-Hits: 0',\n",
        " b'Strict-Transport-Security: max-age=63072000; includeSubDomains',\n",
        " b'',\n",
        " b'']\n"
       ]
      }
     ],
     "prompt_number": 68
    },
    {
     "cell_type": "markdown",
     "metadata": {},
     "source": [
      "### \ud1a0\ub860\n",
      "\n",
      "- \ucf58\ud14d\uc2a4\ud2b8 \ub9e4\ub2c8\uc800\ub97c \uc791\uc131\ud560 \ub54c \uc911\uc694\ud55c \uc6d0\ub9ac\ub294 **with \uad6c\ubb38\uc744 \uc0ac\uc6a9**\ud558\uc5ec **\uc815\uc758\ub41c \ube14\ub85d\uc744 \uac10\uc2f8\ub294 \ucf54\ub4dc\ub97c \uc791\uc131\ud55c\ub2e4\ub294 \uac83**\n",
      "- \ucc98\uc74c\uc73c\ub85c with\ub97c \ub9cc\ub098\uba74 \\_\\_enter\\_\\_() \uba54\uc18c\ub4dc\uac00 \ud638\ucd9c\ub428\n",
      "- \\_\\_enter\\_\\_()\uc758 \ubc18\ud658\uac12\uc740 as\ub85c \ub098\ud0c0\ub0b8 \ubcc0\uc218\uc5d0 \uc704\uce58\uc2dc\ud0b4\n",
      "- \uadf8 \ud6c4\uc5d0 with\uc758 \ub0b4\ubd80 \uba85\ub839\uc5b4\ub97c \uc2e4\ud589\ud558\uace0 \ub9c8\uc9c0\ub9c9\uc73c\ub85c \\_\\_exit\\_\\_() \uba54\uc18c\ub4dc\ub85c \uc18c\uac70 \uc791\uc5c5\n",
      "\n",
      "\n",
      "- \uc774 \ud750\ub984\uc740 with\ubb38 \ub0b4\ubd80\uc5d0\uc11c \uc5b4\ub5a4 \uc77c\uc774 \ubc1c\uc0dd\ud558\ub294\uc9c0\uc640 \uc0c1\uad00\uc5c6\uc774 \uc77c\uc5b4\ub098\uace0, \uc608\uc678\uac00 \ubc1c\uc0dd\ud55c\ub2e4 \ud574\ub3c4 \ubcc0\ud568\uc774 \uc5c6\uc74c\n",
      "- \uc0ac\uc2e4 \\_\\_exit\\_\\_() \uba54\uc18c\ub4dc\uc758 3\uac00\uc9c0 \uc778\uc790\uc5d0 **\uc608\uc678 \ud0c0\uc785, \uac12, \ud2b8\ub808\uc774\uc2a4\ubc31**\uc774 \ub4e4\uc5b4\uc788\ub2e4.\n",
      "- \\_\\_exit\\_\\_() \uba54\uc18c\ub4dc\ub294 \uc608\uc678 \uc815\ubcf4\ub97c \uace0\ub974\uac70\ub098 \uc544\ubb34\uc77c\ub3c4 \ud558\uc9c0 \uc54a\uace0 None\uc744 \ubc18\ud658\ud558\uba70 \ubb34\uc2dc\ud558\ub294 \ubc29\uc2dd\uc744 \uc120\ud0dd\ud560 \uc218 \uc788\uc74c\n",
      "- \ub9cc\uc57d \\_\\_exit\\_\\_()\uac00 True\ub97c \ubc18\ud658\ud558\uba74 \uc5d0\ub7ec\ub97c \uc5c6\uc560\uace0 \uc544\ubb34 \uc77c\ub3c4 \uc77c\uc5b4\ub098\uc9c0 \uc54a\uc558\ub358 \uac83\ucc98\ub7fc with \ube14\ub85d \ub2e4\uc74c\uc758 \ud504\ub85c\uadf8\ub7a8\uc744 \uacc4\uc18d\ud574\uc11c \uc2e4\ud589\ud568\n",
      "\n",
      "\n",
      "- **with\ubb38\uc744 \uc5ec\ub7ec \ubc88 \uc368\uc11c \uc911\ucca9\ub41c \uc5f0\uacb0**\uc744 **LazyConnection \ud074\ub798\uc2a4\uac00 \ud5c8\uc6a9\ud558\ub294\uc9c0 \uc5ec\ubd80**\uac00 \ubbf8\ubb18\ud55c \uce21\uba74\n",
      "- \ud55c \ubc88\uc5d0 \ud558\ub098\uc758 \uc18c\ucf13 \uc5f0\uacb0\ub9cc \ud5c8\uc6a9\ub418\uace0 \uc18c\ucf13\uc744 \uc0ac\uc6a9 \uc911\uc5d0 \uc911\ubcf5\ub41c with\ubb38\uc774 \ub098\ud0c0\ub098\uba74 \uc608\uc678\uac00 \ubc1c\uc0dd\ud568\n",
      "- \uad6c\ud604\ubc95\uc744 \uc870\uae08\ub9cc \ubc14\uafb8\uba74 \uc774 \uc81c\ud55c\uc744 \ud53c\ud574 \uac08 \uc218 \uc788\ub2e4."
     ]
    },
    {
     "cell_type": "code",
     "collapsed": false,
     "input": [
      "from socket import socket, AF_INET, SOCK_STREAM\n",
      "\n",
      "class LazyConnection:\n",
      "    def __init__(self, address, family=AF_INET, type=SOCK_STREAM):\n",
      "        self.address = address\n",
      "        self.family = AF_INET\n",
      "        self.type = SOCK_STREAM\n",
      "        self.connections = []\n",
      "        \n",
      "    def __enter__(self):\n",
      "        sock = socket(self.family, self.type)\n",
      "        sock.connect(self.address)\n",
      "        self.connections.append(sock)\n",
      "        return sock\n",
      "    \n",
      "    def __exit__(self, exc_ty, exc_val, tb):\n",
      "        self.connections.pop().close()"
     ],
     "language": "python",
     "metadata": {},
     "outputs": [],
     "prompt_number": 74
    },
    {
     "cell_type": "code",
     "collapsed": false,
     "input": [
      "# \uc0ac\uc6a9 \uc608\uc81c\n",
      "from functools import partial"
     ],
     "language": "python",
     "metadata": {},
     "outputs": [],
     "prompt_number": 75
    },
    {
     "cell_type": "code",
     "collapsed": false,
     "input": [
      "conn = LazyConnection(('www.python.org', 80))"
     ],
     "language": "python",
     "metadata": {},
     "outputs": [],
     "prompt_number": 76
    },
    {
     "cell_type": "code",
     "collapsed": false,
     "input": [
      "with conn as s1:\n",
      "    s1.send(b'GET /index.html HTTP1.0\\r\\n')\n",
      "    s1.send(b'Host: www.python.org\\r\\n')\n",
      "    s1.send(b'\\r\\n')\n",
      "    resp1 = b''.join(iter(partial(s1.recv, 8192), b''))\n",
      "    print(len(resp1))\n",
      "    with conn as s2:  \n",
      "        s2.send(b'GET /index.html HTTP1.0\\r\\n')\n",
      "        s2.send(b'Host: www.python.org\\r\\n')\n",
      "        s2.send(b'\\r\\n')\n",
      "        resp2 = b''.join(iter(partial(s2.recv, 8192), b''))\n",
      "        print(len(resp2))"
     ],
     "language": "python",
     "metadata": {},
     "outputs": [
      {
       "output_type": "stream",
       "stream": "stdout",
       "text": [
        "352\n",
        "352"
       ]
      },
      {
       "output_type": "stream",
       "stream": "stdout",
       "text": [
        "\n"
       ]
      }
     ],
     "prompt_number": 77
    },
    {
     "cell_type": "markdown",
     "metadata": {},
     "source": [
      "- \ub450\ubc88\uc9f8 \ubc84\uc804\uc5d0\uc11c LazyConnection \ud074\ub798\uc2a4\ub294 \uc5f0\uacb0\uc744 \uc704\ud55c factory \uc5ed\ud560\uc744 \ud568\n",
      "- \ub0b4\ubd80\uc801\uc73c\ub85c \uc2a4\ud0dd\uc744 \uc704\ud574 \ub9ac\uc2a4\ud2b8 \uc0ac\uc6a9\n",
      "- \\_\\_enter\\_\\_()\uac00 \uc2e4\ud589\ub420 \ub54c\ub9c8\ub2e4, \uc0c8\ub85c\uc6b4 \uc5f0\uacb0\uc744 \ub9cc\ub4e4\uace0 \uc2a4\ud0dd\uc5d0 \ucd94\uac00\ud568\n",
      "- \\_\\_exit\\_\\_() \uba54\uc18c\ub4dc\ub294 \ub2e8\uc21c\ud788 \uc2a4\ud0dd\uc5d0\uc11c \ub9c8\uc9c0\ub9c9 \uc5f0\uacb0\uc744 \uaebc\ub0b4\uace0 \ub2eb\ub294\ub2e4\n",
      "- \uc0ac\uc18c\ud55c \ubb38\uc81c\uc9c0\ub9cc \uc774\ub85c \uc778\ud574\uc11c \uc911\ucca9 with \uad6c\ubb38\uc73c\ub85c \uc5f0\uacb0\uc744 \uc5ec\ub7ec \uac1c \uc0dd\uc131\ud560 \uc218 \uc788\uc74c\n",
      "\n",
      "\n",
      "- \ucf58\ud0dd\uc2a4\ud2b8 \ub9e4\ub2c8\uc800\ub294 \ud30c\uc77c\uc774\ub098 \ub124\ud2b8\uc6cc\ud06c \uc5f0\uacb0, \ub77d \ub4f1\uc758 \uc790\uc6d0\uc744 \uad00\ub9ac\ud560 \ub54c \ud504\ub85c\uadf8\ub7a8\uc5d0\uc11c \uac00\uc7a5 \uc77c\ubc18\uc801\uc73c\ub85c \uc0ac\uc6a9\ud568\n",
      "- \uc774\ub7f0 \uc790\uc6d0\uc5d0\uc11c \uac00\uc7a5 \uc911\uc694\ud55c \ubd80\ubd84\uc740 \uc774\ub4e4\uc758 \uc0ac\uc6a9\uc774 \ub05d\ub0ac\uc744 \ub54c \ud655\uc2e4\ud788 \ub2eb\uac70\ub098 \ud574\uc81c\ud574\uc57c \ud55c\ub2e4\ub294 \uc810\n",
      "- **\ub77d\uc744 \ucde8\ub4dd\ud588\ub2e4\uba74 \uc0ac\uc6a9\uc744 \ub9c8\uce5c \ud6c4 \ud574\uc81c**\ud574\uc57c \ud55c\ub2e4. \uc774\ub97c \uc78a\uc73c\uba74 \ub370\ub4dc\ub77d\uc5d0 \ube60\uc9c8 \uc218 \uc788\uc74c\n",
      "- \\_\\_enter\\_\\_(), \\_\\_exit\\_\\_()\ub97c \uad6c\ud604\ud558\uace0 with \ubb38\uc744 \uc0ac\uc6a9\ud558\uba74 \\_\\_exit\\_\\_() \uba54\uc18c\ub4dc\uc5d0\uc11c **\ub4a4\ucc98\ub9ac \ucf54\ub4dc\uc758 \uc2e4\ud589\uc744 \ubcf4\uc7a5**\ud558\ubbc0\ub85c **\uc774\ub7f0 \ubb38\uc81c\ub97c \uc27d\uac8c \ud53c\ud560** \uc218 \uc788\uc74c\n",
      "\n",
      "\n",
      "- \ucf58\ud14d\uc2a4\ud2b8 \ub9e4\ub2c8\uc800\uc758 \ub300\uc548\uc744 contextmanager \ubaa8\ub4c8\uc5d0\uc11c \ucc3e\uc744 \uc218 \uc788\uc74c\n",
      "- \ub808\uc2dc\ud53c 9.22 \ucc38\uace0\n",
      "- \uc2a4\ub808\ub4dc \ud658\uacbd\uc5d0 \uc548\uc804\ud55c \ubc84\uc804\uc774 \ud544\uc694\ud558\ub2e4\uba74 \ub808\uc2dc\ud53c 12.6 \ucc38\uace0"
     ]
    },
    {
     "cell_type": "markdown",
     "metadata": {},
     "source": [
      "## 8.4 \uc778\uc2a4\ud134\uc2a4\ub97c \ub9ce\uc774 \uc0dd\uc131\ud560 \ub54c \uba54\ubaa8\ub9ac \uc808\uc57d\n",
      "\n",
      "### \ubb38\uc81c\n",
      "\n",
      "- \ud504\ub85c\uadf8\ub7a8\uc5d0\uc11c \ub9ce\uc740(\uc608: \uc218\ubc31\ub9cc) \uc778\uc2a4\ud134\uc2a4\ub97c \uc0dd\uc131\ud558\uace0 \uba54\ubaa8\ub9ac\ub97c \ub9ce\uc774 \uc18c\ube44\n",
      "\n",
      "### \ud574\uacb0\n",
      "\n",
      "- \uac04\ub2e8\ud55c \uc790\ub8cc \uad6c\uc870 \uc5ed\ud560\uc744 \ud558\ub294 \ud074\ub798\uc2a4\uc758 \uacbd\uc6b0 \\_\\_slots\\_\\_ \uc18d\uc131\uc744 \ud074\ub798\uc2a4 \uc815\uc758\uc5d0 \ucd94\uac00\ud558\uba74 \uba54\ubaa8\ub9ac \uc0ac\uc6a9\uc744 \uc0c1\ub2f9\ud788 \ub9ce\uc774 \uc808\uc57d \uac00\ub2a5"
     ]
    },
    {
     "cell_type": "code",
     "collapsed": false,
     "input": [
      "class Date:\n",
      "    __slots__ = ['year', 'month', 'day']\n",
      "    def __init__(self, year, month, day):\n",
      "        self.year = year\n",
      "        self.month = month\n",
      "        self.day = day"
     ],
     "language": "python",
     "metadata": {},
     "outputs": [],
     "prompt_number": 78
    },
    {
     "cell_type": "markdown",
     "metadata": {},
     "source": [
      "- \\_\\_slots\\_\\_\uc744 \uc815\uc758\ud558\uba74 \ud30c\uc774\uc36c\uc740 \uc778\uc2a4\ud134\uc2a4\uc5d0\uc11c **\ud6e8\uc52c \ub354 \uc555\ucd95\ub41c \ub0b4\ubd80 \ud45c\ud604\uc2dd \uc0ac\uc6a9**\n",
      "- \uc778\uc2a4\ud134\uc2a4\ub9c8\ub2e4 \ub515\uc154\ub108\ub9ac\ub97c \uad6c\uc131\ud558\uc9c0 \uc54a\uace0 \ud29c\ud50c\uc774\ub098 \ub9ac\uc2a4\ud2b8 \uac19\uc740 \ubd80\ud53c\uac00 \uc791\uc740 \uace0\uc815 \ubc30\uc5f4\ub85c \uc778\uc2a4\ud134\uc2a4\uac00 \ub9cc\ub4e4\uc5b4\uc9d0\n",
      "- \\_\\_slots\\_\\_ \uba85\uc2dc\uc790\uc5d0 \ub9ac\uc2a4\ud305\ub41c \uc18d\uc131 \uc774\ub984\uc740 \ub0b4\ubd80\uc801\uc73c\ub85c \uc774 \ubc30\uc5f4\uc758 \ud2b9\uc815 \uc778\ub371\uc2a4\uc5d0 \ub9e4\ud551\ub428\n",
      "- \uc2ac\ub86f\uc744 \uc0ac\uc6a9\ud558\ub294 \ub370\uc11c \ubc1c\uc0dd\ud558\ub294 \ubd80\uc791\uc6a9\uc740 \uc778\uc2a4\ud134\uc2a4\uc5d0 \uc0c8\ub85c\uc6b4 \uc18d\uc131\uc744 \ucd94\uac00\ud560 \uc218 \uc5c6\ub2e4\ub294 \uc810\n",
      "- \\_\\_slots\\_\\_ \uba85\uc2dc\uc790\uc5d0 \ub098\uc5f4\ud55c \uc18d\uc131\ub9cc \uc0ac\uc6a9\ud560 \uc218 \uc788\ub2e4\ub294 \uc81c\uc57d\uc774 \uc0dd\uae40"
     ]
    },
    {
     "cell_type": "markdown",
     "metadata": {},
     "source": [
      "### \ud1a0\ub860\n",
      "\n",
      "- \uc2ac\ub86f\uc744 \uc0ac\uc6a9\ud574\uc11c \uc808\uc57d\ud558\ub294 \uba54\ubaa8\ub9ac\ub294 \uc18d\uc131\uc758 \uc22b\uc790\uc640 \ud0c0\uc785\uc5d0 \ub530\ub77c \ub2e4\ub984\n",
      "- \ud558\uc9c0\ub9cc, \uc77c\ubc18\uc801\uc73c\ub85c \uadf8 \ub370\uc774\ud130\ub97c \ud29c\ud50c\uc5d0 \uc800\uc7a5\ud560 \ub54c\uc758 \uba54\ubaa8\ub9ac \uc0ac\uc6a9\uacfc \ube44\uad50\ud560\ub9cc\ud558\ub2e4.\n",
      "- Date \uc778\uc2a4\ud134\uc2a4 \ud558\ub098\ub97c \uc2ac\ub86f\uc5c6\uc774 \uc800\uc7a5\ud558\uba74, 64\ube44\ud2b8 \ud30c\uc774\uc36c\uc5d0\uc11c 428 \ubc14\uc774\ud2b8\ub97c \uc18c\ube44\ud568\n",
      "- \ub9cc\uc57d \uc2ac\ub86f\uc744 \uc815\uc758\ud558\uba74 \uba54\ubaa8\ub9ac \uc0ac\uc6a9\uc740 156 \ubc14\uc774\ud2b8\ub85c \ub5a8\uc5b4\uc9d0\n",
      "- \ud504\ub85c\uadf8\ub7a8\uc5d0\uc11c \ub9cc\uc740 \uc218\uc758 \ub0a0\uc9dc\ub97c \ud55c \ubc88\uc5d0 \ub2e4\ub8e8\uc5b4\uc57c \ud55c\ub2e4\uba74 \uba54\ubaa8\ub9ac\ub97c \uc0c1\ub2f9\ud788 \ub9ce\uc774 \uc808\uc57d \uac00\ub2a5\n",
      "\n",
      "\n",
      "- \uc5bc\ud54f \uc0dd\uac01\ud558\uae30\uc5d0 \uc2ac\ub86f\uc744 \uc0ac\uc6a9\ud558\ub294 \uacf3\uc774 \ub9ce\uc744 \uac83 \uac19\uc9c0\ub9cc, \ub300\uac1c\uc758 \ucf54\ub4dc\uc5d0\uc11c \uc2ac\ub86f \uc0ac\uc6a9\uc740 \ud53c\ud558\ub294 \uac83\uc774 \uc88b\uc74c\n",
      "- \ud30c\uc774\uc36c\uc5d0 \uc77c\ubc18 \ub515\uc154\ub108\ub9ac \uae30\ubc18 \uad6c\ud604\uc5d0 \uc758\uc874\ud558\ub294 \ubd80\ubd84\uc774 \ub9ce\uc74c\n",
      "- \uadf8\ub9ac\uace0 \uc2ac\ub86f\uc744 \uc815\uc758\ud55c \ud074\ub798\uc2a4\ub294 \ub2e4\uc911 \uc0c1\uc18d\uacfc \uac19\uc740 \ud2b9\uc815 \uae30\ub2a5\uc744 \uc9c0\uc6d0\ud558\uc9c0 \uc54a\uc74c\n",
      "- \ud504\ub85c\uadf8\ub7a8\uc5d0\uc11c \uc790\uc8fc \uc0ac\uc6a9\ud558\ub294 \uc790\ub8cc \uad6c\uc870\uc5d0\ub9cc \uc2ac\ub86f \uc0ac\uc6a9\uc744 \uace0\ub824\ud558\ub294 \uac83\uc774 \uc88b\uc74c(\uc608: \ud2b9\uc815 \ud074\ub798\uc2a4\uc5d0\uc11c \uc218\ubc31\ub9cc \uac1c\uc758 \uc778\uc2a4\ud134\uc2a4\ub97c \uc0dd\uc131\ud558\ub294 \uacbd\uc6b0)\n",
      "\n",
      "\n",
      "- \\_\\_slots\\_\\_\uc744 \uc778\uc2a4\ud134\uc2a4\uc5d0 \uc0c8\ub85c\uc6b4 \uc18d\uc131\uc744 \ucd94\uac00\ud558\uc9c0 \ubabb\ud558\ub3c4\ub85d \ud558\ub294 \ucea1\uc290\ud654 \ub3c4\uad6c\ub85c \uc624\ud574\ud558\ub294 \uacbd\uc6b0\uac00 \ub9ce\uc74c\n",
      "- \uc2ac\ub86f\uc744 \uc0ac\uc6a9\ud588\uc744 \ub54c \uc774\ub7f0 \ud604\uc0c1\uc774 \uc0dd\uae30\uae30\ub294 \ud558\uc9c0\ub9cc \uc6d0\ub798 \uc774\ub7f0 \uc6a9\ub3c4\ub85c \ub514\uc790\uc778\ud55c \uac83\uc740 \uc544\ub2c8\ub2e4.\n",
      "- \\_\\_slots\\_\\_\uc740 \ud56d\uc0c1 \ucd5c\uc801\ud654 \ub3c4\uad6c\ub85c\ub9cc \uc0ac\uc6a9\ud574\uc57c \ud568"
     ]
    },
    {
     "cell_type": "markdown",
     "metadata": {},
     "source": [
      "## 8.5 \ud074\ub798\uc2a4 \uc774\ub984\uc758 \ucea1\uc290\ud654\n",
      "\n",
      "### \ubb38\uc81c\n",
      "\n",
      "- \ud074\ub798\uc2a4 \uc778\uc2a4\ud134\uc2a4\uc758 private \ub370\uc774\ud130\ub97c \ucea1\uc290\ud654\ud558\uace0 \uc2f6\uc9c0\ub9cc, \ud30c\uc774\uc36c\uc5d0\ub294 \uc811\uadfc \uc81c\uc5b4 \uae30\ub2a5\uc774 \ubd80\uc871\n",
      "\n",
      "### \ud574\uacb0\n",
      "\n",
      "- \ud30c\uc774\uc36c \ud504\ub85c\uadf8\ub798\uba38\ub4e4\uc740 \uc5b8\uc5b4\uc758 \uae30\ub2a5\uc5d0 \uc758\uc874\ud558\uae30\ubcf4\ub2e4\ub294 \ub370\uc774\ud130\ub098 \uba54\uc18c\ub4dc\uc758 \uc774\ub984\uc5d0 \ud2b9\uc815 \uaddc\uce59\uc744 \uc0ac\uc6a9\ud558\uc5ec\uc11c \uc758\ub3c4\ub97c \ub098\ud0c0\ub0c4\n",
      "- \uccab\ubc88\uc9f8 \uaddc\uce59\uc740 **\ubc11\uc904(\\_)**\ub85c \uc2dc\uc791\ud558\ub294 \ubaa8\ub4e0 \uc774\ub984\uc740 **\ub0b4\ubd80 \uad6c\ud604\uc5d0\uc11c\ub9cc \uc0ac\uc6a9\ud558\ub3c4\ub85d \uac00\uc815\ud558\ub294 \uac83**"
     ]
    },
    {
     "cell_type": "code",
     "collapsed": false,
     "input": [
      "class A:\n",
      "    def __init__(self):\n",
      "        # \ub0b4\ubd80 \uc18d\uc131\n",
      "        self._internal = 0\n",
      "        # \uacf5\uc6a9 \uc18d\uc131\n",
      "        self.public = 1\n",
      "    \n",
      "    def public_method(self):\n",
      "        '''A public method'''\n",
      "        pass\n",
      "    \n",
      "    def _internal_method(self):\n",
      "        pass"
     ],
     "language": "python",
     "metadata": {},
     "outputs": [],
     "prompt_number": 79
    },
    {
     "cell_type": "markdown",
     "metadata": {},
     "source": [
      "- \ud30c\uc774\uc36c\uc740 \ub0b4\ubd80 \uc774\ub984\uc5d0 \ub204\uad70\uac00 \uc811\uadfc\ud558\ub294 \uac83\uc744 \uc2e4\uc81c\ub85c \ub9c9\uc9c0\ub294 \uc54a\uc74c\n",
      "- \ud558\uc9c0\ub9cc \uc774\ub7f0 \uc2dc\ub3c4\ub294 \ubb34\ub840\ud55c \uac83\uc73c\ub85c \uac04\uc8fc\ub418\uace0 \uacb0\uad6d \ud5c8\uc220\ud55c \ucf54\ub4dc\uac00 \ub428\n",
      "- \ub610\ud55c \uc774\ub984 \uc55e\uc5d0 \ubc11\uc904\uc744 \ubd99\uc774\ub294 \uac83\uc740 \ubaa8\ub4c8 \uc774\ub984\uacfc \ubaa8\ub4c8 \ub808\ubca8 \ud568\uc218\uc5d0\ub3c4 \uc0ac\uc6a9\ud568\n",
      "- \uc608\ub97c \ub4e4\uc5b4, \ubc11\uc904\ub85c \uc2dc\uc791\ud558\ub294 \ubaa8\ub4c8 \uc774\ub984\uc744 \ubc1c\uacac\ud55c\ub2e4\uba74(\uc608: \\_socket), \uc774\ub294 **\ub0b4\ubd80 \uad6c\ud604**\n",
      "- \ub610\ud55c sys.\\_getframe()\uacfc \uac19\uc740 \ubaa8\ub4c8 \ub808\ubca8 \ud568\uc218\ub294 \uc0ac\uc6a9\ud560 \ub54c \ub9e4\uc6b0 \uc870\uc2ec\ud574\uc57c \ud568\n",
      "\n",
      "\n",
      "- \ud074\ub798\uc2a4 \uc815\uc758\uc5d0 \ubc11\uc904 2 \uac1c(\\_\\_)\ub85c \uc2dc\uc791\ud558\ub294 \uc774\ub984\uc774 \ub098\uc624\uae30\ub3c4 \ud568"
     ]
    },
    {
     "cell_type": "code",
     "collapsed": false,
     "input": [
      "class B:\n",
      "    def __init__(self):\n",
      "        self.__private = 0\n",
      "        \n",
      "    def __private_method(self):\n",
      "        pass\n",
      "    \n",
      "    def public_method(self):\n",
      "        self.__private_method()"
     ],
     "language": "python",
     "metadata": {},
     "outputs": [],
     "prompt_number": 80
    },
    {
     "cell_type": "markdown",
     "metadata": {},
     "source": [
      "- \uc774\ub984 \uc55e\uc5d0 \ubc11\uc904\uc744 2\uac1c \ubd99\uc774\uba74 \uc774\ub984\uc774 \ub2e4\ub978 \uac83\uc73c\ub85c \ubcc0\ud55c\ub2e4.\n",
      "- \ub354 \uad6c\uccb4\uc801\uc73c\ub85c, \uc55e\uc5d0 \ub098\uc628 \ud074\ub798\uc2a4\uc758 \ud504\ub77c\uc774\ube57 \uc18d\uc131\uc740 \\_B\\_\\_private\uacfc \\_B\\_\\_private\\_method\ub85c \uc774\ub984\uc774 \ubcc0\ud568\n",
      "- \uadf8\ub807\ub2e4\uba74 \uc774\ub7ec\ud55c \uc774\ub984\uc758 \ubcc0\ud654\ub294 \uc5b4\ub5a4 \uc758\ubbf8\ub97c \uac00\uc9c8\uae4c? \ub2f5\uc740 \ubc14\ub85c **\uc18d\uc131**\n",
      "- \uc774\ub7f0 \uc18d\uc131\uc740 \uc18d\uc131\uc744 \ud1b5\ud574 \uc624\ubc84\ub77c\uc774\ub4dc \ud560 \uc218 \uc5c6\ub2e4"
     ]
    },
    {
     "cell_type": "code",
     "collapsed": false,
     "input": [
      "class C(B):\n",
      "    def __init__(self):\n",
      "        super().__init__()\n",
      "        # B.__private\ub97c \uc624\ubc84\ub77c\uc774\ub4dc \ud558\uc9c0 \uc54a\ub294\ub2e4.\n",
      "        self.__private = 1\n",
      "    \n",
      "    # B.__private_method()\ub97c \uc624\ubc84\ub77c\uc774\ub4dc \ud558\uc9c0 \uc54a\ub294\ub2e4.\n",
      "    def __private_method(self):\n",
      "        pass"
     ],
     "language": "python",
     "metadata": {},
     "outputs": [],
     "prompt_number": 81
    },
    {
     "cell_type": "markdown",
     "metadata": {},
     "source": [
      "- \uc5ec\uae30\uc11c \\_\\_private\uacfc \\_\\_private_method\uc758 \uc774\ub984\uc740 \\_C\\_\\_private\uacfc \\_C\\_\\_private_method\ub85c \ubcc0\ud558\uae30 \ub54c\ubb38\uc5d0 B \ud074\ub798\uc2a4\uc758 \uc774\ub984\uacfc \uacb9\uce58\uc9c0 \uc54a\uc74c"
     ]
    },
    {
     "cell_type": "markdown",
     "metadata": {},
     "source": [
      "### \ud1a0\ub860\n",
      "\n",
      "- \ud504\ub77c\uc774\ube57 \uc18d\uc131\uc5d0 \ub300\ud55c \uaddc\uce59\uc774 2\uac00\uc9c0 \uc874\uc7ac\ud574\uc11c(\ubc11\uc904 1\uac1c\uc640 2\uac1c), \uc774 \uc911 \uc5b4\ub5a4 \uc2a4\ud0c0\uc77c\uc744 \uc368\uc57c \ud560\uc9c0 \uc758\ubb38\uc774 \ub4e4 \uc218 \uc788\uc74c\n",
      "- \ub300\uac1c\uc758 \uacbd\uc6b0 \uacf5\uc6a9\uc774 \uc544\ub2cc \uc774\ub984\uc740 \ubc11\uc904\uc744 \ud558\ub098\ub9cc \ubd99\uc5ec\uc57c \ud55c\ub2e4. \ud558\uc9c0\ub9cc \ucf54\ub4dc\uac00 \uc11c\ube0c\ud074\ub798\uc2f1\uc744 \uc0ac\uc6a9\ud560 \uac83\uc774\uace0 \uc11c\ube0c\ud074\ub798\uc2a4\uc5d0\uc11c \uc228\uaca8\uc57c \ud560 \ub0b4\ubd80 \uc18d\uc131\uc774 \uc788\ub2e4\uba74 \ubc11\uc904\uc744 2\uac1c \ubd99\uc778\ub2e4.\n",
      "- \uadf8\ub9ac\uace0 \uc608\uc57d\ud574 \ub454 \ub2e8\uc5b4 \uc774\ub984\uacfc \ucda9\ub3cc\ud558\ub294 \ubcc0\uc218\ub97c \uc815\uc758\ud558\uace0 \uc2f6\uc744 \ub54c\uac00 \uc788\uc74c. \uc774\ub7f0 \uacbd\uc6b0 \uc774\ub984 \ub4a4\uc5d0 \ubc11\uc904\uc744 \ud558\ub098 \ubd99\uc778\ub2e4."
     ]
    },
    {
     "cell_type": "code",
     "collapsed": false,
     "input": [
      "# lambda \ud0a4\uc6cc\ub4dc\uc640\uc758 \ucda9\ub3cc\uc744 \ud53c\ud558\uae30 \uc704\ud574 \ubc11\uc904\uc744 \ubd99\uc778\ub2e4.\n",
      "lambda_ = 2.0"
     ],
     "language": "python",
     "metadata": {},
     "outputs": [],
     "prompt_number": 82
    },
    {
     "cell_type": "markdown",
     "metadata": {},
     "source": [
      "- \ubc11\uc904\uc744 \ubcc0\uc218 \uc774\ub984 \uc55e\uc5d0 \ubd99\uc774\uc9c0 \uc54a\ub294 \uc774\uc720\ub294 \ub0b4\ubd80\uc801\uc73c\ub85c \uc0ac\uc6a9\ud558\ub294 \uc758\ub3c4\uc640\uc758 \ud63c\ub3d9\uc744 \ud53c\ud558\uae30 \uc704\ud574\uc11c\uc784\n",
      "- \ubcc0\uc218 \uc774\ub984 \ub4a4\uc5d0 \ubc11\uc904\uc744 \ud558\ub098 \ubd99\uc5ec\uc11c \uc774 \ubb38\uc81c\ub97c \ud574\uacb0\ud568"
     ]
    },
    {
     "cell_type": "markdown",
     "metadata": {},
     "source": [
      "## 8.6 \uad00\ub9ac \uc18d\uc131 \ub9cc\ub4e4\uae30\n",
      "\n",
      "### \ubb38\uc81c\n",
      "\n",
      "- \uc778\uc2a4\ud134\uc2a4 \uc18d\uc131\uc744 \uc5bb\uac70\ub098 \uc124\uc815\ud560 \ub54c \ucd94\uac00\uc801\uc778 \ucc98\ub9ac(\ud0c0\uc785 \uccb4\ud06c, \uac80\uc99d \ub4f1)\ub97c \ud558\uace0 \uc2f6\ub2e4.\n",
      "\n",
      "### \ud574\uacb0\n",
      "\n",
      "- \uc18d\uc131\uc5d0 \ub300\ud55c \uc811\uadfc\uc744 \uc870\uc808\ud558\uace0 \uc2f6\uc73c\uba74 property\ub85c \uc815\uc758\ud558\uba74 \ub428\n",
      "- \uc608\ub97c \ub4e4\uc5b4 \ub2e4\uc74c \ucf54\ub4dc\ub294 \uc18d\uc131\uc5d0 \uac04\ub2e8\ud55c \ud0c0\uc785 \uccb4\ud06c\ub97c \ucd94\uac00\ud558\ub294 \ud504\ub85c\ud37c\ud2f0\ub97c \uc815\uc758\ud568"
     ]
    },
    {
     "cell_type": "code",
     "collapsed": false,
     "input": [
      "class Person:\n",
      "    def __init__(self, first_name):\n",
      "        # \uc774 \uc18d\uc131\uc744 \uc0ad\uc81c\ud558\uba74 \uc548\ub418\ub124.\n",
      "        # \uc774 \uc18d\uc131\uc744 \uae30\ubc18\uc73c\ub85c \uba54\uc18c\ub4dc\ub97c property\ub85c \ubcc0\uacbd\ud574 \uc0ac\uc6a9\ud558\ub294\uac83 \uac19\ub2e4.\n",
      "        # \ud30c\uc774\ucc38\uc5d0\uc11c \ub514\ubc84\uae45 \ud55c \uacb0\ub860\ub77c\uace0 \uc0dd\uac01\ud588\uc5c8\ub2e4!\n",
      "        # self._first_name = first_name \uc73c\ub85c \ud574\ub3c4 \ub418\ub124. \uadf8\ub7f0\ub370 \uc774\ub807\uac8c \ud558\uba74\n",
      "        # init \ud568\uc218\uc5d0\uc11c \ubc14\ub85c \ud074\ub798\uc2a4 \ubcc0\uc218 \uc0dd\uc131\ub418\uace0 \ub3cc\uc544\uac00\uc9c0\ub9cc self.first_name \uc73c\ub85c \ud558\uba74\n",
      "        # setter \ud568\uc218\uac00 \ubd88\ub824\uc9c0\uae30 \ub54c\ubb38\uc5d0 \uc778\uc2a4\ud134\uc2a4\ub97c \ub9cc\ub4e4\ub54c\ub3c4 \ud0c0\uc785 \uccb4\ud06c\uac00 \uac00\ub2a5!!\n",
      "        self.first_name = first_name\n",
      "    \n",
      "    # \uac8c\ud130 \ud568\uc218\n",
      "    @property\n",
      "    def first_name(self):\n",
      "        return self._first_name\n",
      "    \n",
      "    # \uc138\ud130 \ud568\uc218\n",
      "    @first_name.setter\n",
      "    def first_name(self, value):\n",
      "        if not isinstance(value, str):\n",
      "            raise TypeError('Expected a string')\n",
      "        self._first_name = value\n",
      "        \n",
      "    # \ub51c\ub9ac\ud130 \ud568\uc218(\uc635\uc158)\n",
      "    @first_name.deleter\n",
      "    def first_name(self):\n",
      "        raise AttributeError(\"Can't delete attribute\")"
     ],
     "language": "python",
     "metadata": {},
     "outputs": [],
     "prompt_number": 83
    },
    {
     "cell_type": "markdown",
     "metadata": {},
     "source": [
      "- \uad00\ub828 \uba54\uc18c\ub4dc\uac00 3\uac1c \uc788\ub294\ub370, **\ubaa8\ub450 \uac19\uc740 \uc774\ub984**\uc744 \uac00\uc838\uc57c \ud568\n",
      "- \uccab\ubc88\uc9f8 \uba54\uc18c\ub4dc: getter \ud568\uc218, first_name\uc744 \ud504\ub85c\ud37c\ud2f0\ub85c \ub9cc\ub4e6\n",
      "- \ub2e4\ub978 2 \uba54\uc18c\ub4dc\ub294 \ucd94\uac00\uc801\uc73c\ub85c setter\uc640 deleter \ud568\uc218\ub97c first_name \ud504\ub85c\ud37c\ud2f0\uc5d0 \ucd94\uac00\ud568\n",
      "- \uc5ec\uae30\uc11c @first_name.setter\uc640 @first_name.deleter \ub370\ucf54\ub808\uc774\ud130\ub294 **@property\ub97c \uc0ac\uc6a9**\ud574\uc11c **first_name\uc744 \ub9cc\ub4e4\uc5b4 \ub193\uc9c0 \uc54a\uc73c\uba74 \uc815\uc758\ub418\uc9c0 \uc54a\ub294 \uc810\uc774 \uc911\uc694**\n",
      "- \ud504\ub85c\ud37c\ud2f0\uc758 \uc911\uc694 \uae30\ub2a5\uc73c\ub85c \uc77c\ubc18\uc801\uc778 \uc18d\uc131\uc73c\ub85c \ubcf4\uc774\uc9c0 \uc54a\ub294\ub2e4\ub294 \uc810\n",
      "- \uc5ec\uae30\uc5d0 \uc811\uadfc\ud558\uba74 \uc790\ub3d9\uc73c\ub85c \uac8c\ud130, \uc138\ud130, \ub51c\ub9ac\ud130 \uba54\uc18c\ub4dc\uac00 \uc790\ub3d9\uc73c\ub85c \uc2e4\ud589\ub428"
     ]
    },
    {
     "cell_type": "code",
     "collapsed": false,
     "input": [
      "a = Person('Guido')"
     ],
     "language": "python",
     "metadata": {},
     "outputs": [],
     "prompt_number": 84
    },
    {
     "cell_type": "code",
     "collapsed": false,
     "input": [
      "# Getter\n",
      "a.first_name"
     ],
     "language": "python",
     "metadata": {},
     "outputs": [
      {
       "metadata": {},
       "output_type": "pyout",
       "prompt_number": 85,
       "text": [
        "'Guido'"
       ]
      }
     ],
     "prompt_number": 85
    },
    {
     "cell_type": "code",
     "collapsed": false,
     "input": [
      "# Setter\n",
      "a.first_name = 42"
     ],
     "language": "python",
     "metadata": {},
     "outputs": [
      {
       "ename": "TypeError",
       "evalue": "Expected a string",
       "output_type": "pyerr",
       "traceback": [
        "\u001b[0;31m---------------------------------------------------------------------------\u001b[0m\n\u001b[0;31mTypeError\u001b[0m                                 Traceback (most recent call last)",
        "\u001b[0;32m<ipython-input-86-73dafed1e4ef>\u001b[0m in \u001b[0;36m<module>\u001b[0;34m()\u001b[0m\n\u001b[0;32m----> 1\u001b[0;31m \u001b[0ma\u001b[0m\u001b[0;34m.\u001b[0m\u001b[0mfirst_name\u001b[0m \u001b[0;34m=\u001b[0m \u001b[0;36m42\u001b[0m\u001b[0;34m\u001b[0m\u001b[0m\n\u001b[0m",
        "\u001b[0;32m<ipython-input-83-46ceb9a1909e>\u001b[0m in \u001b[0;36mfirst_name\u001b[0;34m(self, value)\u001b[0m\n\u001b[1;32m     12\u001b[0m     \u001b[0;32mdef\u001b[0m \u001b[0mfirst_name\u001b[0m\u001b[0;34m(\u001b[0m\u001b[0mself\u001b[0m\u001b[0;34m,\u001b[0m \u001b[0mvalue\u001b[0m\u001b[0;34m)\u001b[0m\u001b[0;34m:\u001b[0m\u001b[0;34m\u001b[0m\u001b[0m\n\u001b[1;32m     13\u001b[0m         \u001b[0;32mif\u001b[0m \u001b[0;32mnot\u001b[0m \u001b[0misinstance\u001b[0m\u001b[0;34m(\u001b[0m\u001b[0mvalue\u001b[0m\u001b[0;34m,\u001b[0m \u001b[0mstr\u001b[0m\u001b[0;34m)\u001b[0m\u001b[0;34m:\u001b[0m\u001b[0;34m\u001b[0m\u001b[0m\n\u001b[0;32m---> 14\u001b[0;31m             \u001b[0;32mraise\u001b[0m \u001b[0mTypeError\u001b[0m\u001b[0;34m(\u001b[0m\u001b[0;34m'Expected a string'\u001b[0m\u001b[0;34m)\u001b[0m\u001b[0;34m\u001b[0m\u001b[0m\n\u001b[0m\u001b[1;32m     15\u001b[0m         \u001b[0mself\u001b[0m\u001b[0;34m.\u001b[0m\u001b[0m_first_name\u001b[0m \u001b[0;34m=\u001b[0m \u001b[0mvalue\u001b[0m\u001b[0;34m\u001b[0m\u001b[0m\n\u001b[1;32m     16\u001b[0m \u001b[0;34m\u001b[0m\u001b[0m\n",
        "\u001b[0;31mTypeError\u001b[0m: Expected a string"
       ]
      }
     ],
     "prompt_number": 86
    },
    {
     "cell_type": "code",
     "collapsed": false,
     "input": [
      "a.first_name = 'geun young'"
     ],
     "language": "python",
     "metadata": {},
     "outputs": [],
     "prompt_number": 87
    },
    {
     "cell_type": "code",
     "collapsed": false,
     "input": [
      "a.first_name"
     ],
     "language": "python",
     "metadata": {},
     "outputs": [
      {
       "metadata": {},
       "output_type": "pyout",
       "prompt_number": 88,
       "text": [
        "'geun young'"
       ]
      }
     ],
     "prompt_number": 88
    },
    {
     "cell_type": "code",
     "collapsed": false,
     "input": [
      "del a.first_name"
     ],
     "language": "python",
     "metadata": {},
     "outputs": [
      {
       "ename": "AttributeError",
       "evalue": "Can't delete attribute",
       "output_type": "pyerr",
       "traceback": [
        "\u001b[0;31m---------------------------------------------------------------------------\u001b[0m\n\u001b[0;31mAttributeError\u001b[0m                            Traceback (most recent call last)",
        "\u001b[0;32m<ipython-input-89-155a1abee7c3>\u001b[0m in \u001b[0;36m<module>\u001b[0;34m()\u001b[0m\n\u001b[0;32m----> 1\u001b[0;31m \u001b[0;32mdel\u001b[0m \u001b[0ma\u001b[0m\u001b[0;34m.\u001b[0m\u001b[0mfirst_name\u001b[0m\u001b[0;34m\u001b[0m\u001b[0m\n\u001b[0m",
        "\u001b[0;32m<ipython-input-83-46ceb9a1909e>\u001b[0m in \u001b[0;36mfirst_name\u001b[0;34m(self)\u001b[0m\n\u001b[1;32m     18\u001b[0m     \u001b[0;34m@\u001b[0m\u001b[0mfirst_name\u001b[0m\u001b[0;34m.\u001b[0m\u001b[0mdeleter\u001b[0m\u001b[0;34m\u001b[0m\u001b[0m\n\u001b[1;32m     19\u001b[0m     \u001b[0;32mdef\u001b[0m \u001b[0mfirst_name\u001b[0m\u001b[0;34m(\u001b[0m\u001b[0mself\u001b[0m\u001b[0;34m)\u001b[0m\u001b[0;34m:\u001b[0m\u001b[0;34m\u001b[0m\u001b[0m\n\u001b[0;32m---> 20\u001b[0;31m         \u001b[0;32mraise\u001b[0m \u001b[0mAttributeError\u001b[0m\u001b[0;34m(\u001b[0m\u001b[0;34m\"Can't delete attribute\"\u001b[0m\u001b[0;34m)\u001b[0m\u001b[0;34m\u001b[0m\u001b[0m\n\u001b[0m",
        "\u001b[0;31mAttributeError\u001b[0m: Can't delete attribute"
       ]
      }
     ],
     "prompt_number": 89
    },
    {
     "cell_type": "markdown",
     "metadata": {},
     "source": [
      "- \ud504\ub85c\ud37c\ud2f0\ub97c \uad6c\ud604\ud560 \ub54c, \uae30\ubc18 \ub370\uc774\ud130\uac00 \uc788\ub2e4\uba74 \uc5ec\uc804\ud788 \uc5b4\ub518\uac00\uc5d0 \uc800\uc7a5\ud574\uc57c \ud568\n",
      "- \ub530\ub77c\uc11c \uac8c\ud130, \uc138\ud130 \uba54\uc18c\ub4dc\uc5d0\uc11c \\_first\\_name \uc18d\uc131\uc744 \uc9c1\uc811 \ub2e4\ub8e8\ub294 \uac83\uc744 \ubcfc \uc218 \uc788\ub294\ub370, \uc5ec\uae30\uc5d0 \uc2e4\uc81c \ub370\uc774\ud130\uac00 \ub4e4\uc5b4\uac10\n",
      "- \uadf8\ub9ac\uace0 \uc65c \\_\\_init\\_\\_() \uc5d0\uc11c self.\\_first\\_name \uc774 \uc544\ub2cc self.first\\_name\uc744 \uc124\uc815\ud558\ub294 \uc774\uc720\uac00 \ubb34\uc5c7\uc778\uc9c0 \uc758\ubb38\uc774 \uc0dd\uae38 \uc218 \uc788\uc74c\n",
      "- \uc774\ubc88 \uc608\uc81c\uc5d0\uc11c \ud504\ub85c\ud37c\ud2f0\uc758 \ubaa8\ub4e0 \ud3ec\uc778\ud2b8\ub294 **\uc18d\uc131\uc5d0 type checking\uc744 \uc801\uc6a9\ud558\ub294 \uac83**\uc5d0 \uc9d1\uc911\ud558\ub294 \uac83\n",
      "- \ub530\ub77c\uc11c \ucd08\uae30\ud654\ub97c \ud560 \ub54c\ub3c4 \uc774\uac83\uc744 \ud655\uc778\ud558\uace0 \uc2f6\uc744 \ud655\ub960\uc774 \uc788\ub2e4.\n",
      "- self.first\\_name\uc744 \uc124\uc815\ud558\uba74, \uc124\uc815 \uc5f0\uc0b0\uc774 \uc138\ud130 \uba54\uc18c\ub4dc\ub97c \uc0ac\uc6a9\ud55c\ub2e4(self.\\_first\\_name\uc5d0 \uc811\uadfc\ud558\uc5ec \uc6b0\ud68c\ud558\ub294 \uac83\uacfc\ub294 \ub300\uc870\uc801)\n",
      "- \uc774\ubbf8 \uc874\uc7ac\ud558\ub294 get\uacfc set \uba54\uc18c\ub4dc\ub85c \ud504\ub85c\ud37c\ud2f0\ub97c \uc815\uc758\ud560 \uc218\ub3c4 \uc788\uc74c"
     ]
    },
    {
     "cell_type": "code",
     "collapsed": false,
     "input": [
      "class Person:\n",
      "    def __init__(self, first_name):\n",
      "        self.set_first_name(first_name)\n",
      "        \n",
      "    # \uac8c\ud130 \ud568\uc218\n",
      "    def get_first_name(self):\n",
      "        return self._first_name\n",
      "    \n",
      "    # \uc138\ud130 \ud568\uc218\n",
      "    def set_first_name(self, value):\n",
      "        if not isinstance(value, str):\n",
      "            raise TypeError('Expected a string')\n",
      "        self._first_name = value\n",
      "        \n",
      "    # \ub51c\ub9ac\ud130 \ud568\uc218(\uc635\uc158)\n",
      "    def del_first_name(self):\n",
      "        raise AttributeError(\"Can't delete attribute\")\n",
      "        \n",
      "    # \uae30\uc874 \uac8c\ud130/\uc138\ud130 \uba54\uc18c\ub4dc\ub85c \ud504\ub85c\ud37c\ud2f0 \ub9cc\ub4e4\uae30\n",
      "    # name -> first_name\n",
      "    first_name = property(get_first_name, set_first_name, del_first_name)"
     ],
     "language": "python",
     "metadata": {},
     "outputs": [],
     "prompt_number": 121
    },
    {
     "cell_type": "markdown",
     "metadata": {},
     "source": [
      "### \ud1a0\ub860\n",
      "\n",
      "- \uc0ac\uc2e4 **\ud504\ub85c\ud37c\ud2f0 \uc18d\uc131**\uc740 **\ud568\uaed8 \ubb36\uc5ec \uc788\ub294 \uba54\uc18c\ub4dc \uceec\ub809\uc158**\n",
      "- \ud504\ub85c\ud37c\ud2f0\uac00 \uc788\ub294 \ud074\ub798\uc2a4\ub97c \uc870\uc0ac\ud574 \ubcf4\uba74 \ud504\ub85c\ud37c\ud2f0 \uc790\uccb4\uc758 fget, fset, fdel \uc18d\uc131\uc5d0\uc11c raw \uba54\uc18c\ub4dc\ub97c \ucc3e\uc744 \uc218 \uc788\uc74c"
     ]
    },
    {
     "cell_type": "code",
     "collapsed": false,
     "input": [
      "Person.first_name.fget"
     ],
     "language": "python",
     "metadata": {},
     "outputs": [
      {
       "metadata": {},
       "output_type": "pyout",
       "prompt_number": 104,
       "text": [
        "<function __main__.Person.get_first_name>"
       ]
      }
     ],
     "prompt_number": 104
    },
    {
     "cell_type": "code",
     "collapsed": false,
     "input": [
      "Person.first_name.fset"
     ],
     "language": "python",
     "metadata": {},
     "outputs": [
      {
       "metadata": {},
       "output_type": "pyout",
       "prompt_number": 106,
       "text": [
        "<function __main__.Person.set_first_name>"
       ]
      }
     ],
     "prompt_number": 106
    },
    {
     "cell_type": "code",
     "collapsed": false,
     "input": [
      "Person.first_name.fdel"
     ],
     "language": "python",
     "metadata": {},
     "outputs": [
      {
       "metadata": {},
       "output_type": "pyout",
       "prompt_number": 107,
       "text": [
        "<function __main__.Person.del_first_name>"
       ]
      }
     ],
     "prompt_number": 107
    },
    {
     "cell_type": "markdown",
     "metadata": {},
     "source": [
      "- \uc77c\ubc18\uc801\uc73c\ub85c fget \uc774\ub098 fset\uc744 \uc9c1\uc811 \ud638\ucd9c\ud558\uc9c0\ub294 \uc54a\uace0, \ud504\ub85c\ud37c\ud2f0\uc5d0 \uc811\uadfc\ud560 \ub54c \uc790\ub3d9\uc73c\ub85c \uc2e4\ud589 \ub428\n",
      "- \ud504\ub85c\ud37c\ud2f0\ub294 \uc18d\uc131\uc5d0 \ucd94\uac00\uc801\uc778 \ucc98\ub9ac\uac00 \ud544\uc694\ud560 \ub54c\ub9cc \uc0ac\uc6a9\ud574\uc57c \ud568\n",
      "- Java \ub4f1\uc5d0 \uc775\uc219\ud55c \ud504\ub85c\uadf8\ub798\uba38\ub294 \ud074\ub798\uc2a4 \uc18d\uc131\uc5d0 \uc811\uadfc\ud560 \ub54c \ubb34\uc870\uac74 \uac8c\ud130, \uc138\ud130\ub97c \uc0ac\uc6a9\ud574\uc57c \ud55c\ub2e4\uace0 \uc0dd\uac01\ud558\uace0 \ub2e4\uc74c\uacfc \uac19\uc740 \ucf54\ub4dc\ub97c \uc791\uc131\ud568"
     ]
    },
    {
     "cell_type": "code",
     "collapsed": false,
     "input": [
      "class Person2:\n",
      "    def __init__(self, first_name):\n",
      "        self.first_name = first_name\n",
      "        \n",
      "    @property\n",
      "    def first_name(self):\n",
      "        return self._first_name\n",
      "    \n",
      "    @first_name.setter\n",
      "    def first_name(self, value):\n",
      "        self._first_name = value"
     ],
     "language": "python",
     "metadata": {},
     "outputs": [],
     "prompt_number": 127
    },
    {
     "cell_type": "markdown",
     "metadata": {},
     "source": [
      "- \ud558\uc9c0\ub9cc \uc55e\uc5d0 \ub098\uc628 \ucf54\ub4dc\ub294 \uc88b\uc9c0 \uc54a\ub2e4.\u001c",
      " \uc6b0\uc120 \ub0a8\ub4e4\uc774 \ubcf4\uae30\uc5d0 \ubd88\ud544\uc694\ud558\uac8c \uc7a5\ud669\ud558\uace0 \uc774\ud574\ud558\uae30 \uc5b4\ub835\ub2e4.\n",
      "- \uadf8\ub9ac\uace0 \ud504\ub85c\uadf8\ub7a8\uc758 \uc2e4\ud589 \uc18d\ub3c4\ub3c4 \ub5a8\uc5b4\uc9d0\n",
      "- \ub9c8\uc9c0\ub9c9\uc73c\ub85c, \ub514\uc790\uc778 \uce21\uba74\uc5d0\uc11c\ub3c4 \uc544\ubb34\ub7f0 \uc774\ub4dd\uc774 \uc5c6\uc74c\n",
      "- \ud2b9\ud788 \ucd94\ud6c4\uc5d0 \uc18d\uc131\uc5d0 \ucd94\uac00\uc801\uc778 \ucc98\ub9ac\uac00 \ud544\uc694\ud558\ub2e4\uace0 \ud310\ub2e8\ud588\uc744 \ub54c \uae30\uc874 \ucf54\ub4e4\ub974 \uc218\uc815\ud558\uc9c0 \uc54a\uace0 \ud504\ub85c\ud37c\ud2f0\ub85c \uc27d\uac8c \ubcc0\ud658 \uac00\ub2a5\n",
      "- \uc65c\ub0d0\ud558\uba74 \uc18d\uc131\uc5d0 \uc811\uadfc\ud558\ub294 \ucf54\ub4dc\uc758 \uad6c\ubb38\uc744 \uc218\uc815\ud558\uba74 \uc548\ub418\uae30 \ub54c\ubb38\n",
      "- \ud504\ub85c\ud37c\ud2f0\ub294 \uacc4\uc0b0\ud55c \uc18d\uc131\uc744 \uc815\uc758\ud560 \ub54c \uc0ac\uc6a9\ud568\n",
      "- \uc774\ub7f0 \uc18d\uc131\uc740 \uc2e4\uc81c\ub85c \uc800\uc7a5\ud558\uc9c0\ub294 \uc54a\uc9c0\ub9cc \ud544\uc694\uc5d0 \ub530\ub77c \uacc4\uc0b0\ud568"
     ]
    },
    {
     "cell_type": "code",
     "collapsed": false,
     "input": [
      "import math\n",
      "\n",
      "class Circle:\n",
      "    def __init__(self, radius):\n",
      "        self.radius = radius\n",
      "        \n",
      "    @property\n",
      "    def area(self):\n",
      "        return math.pi * self.radius ** 2\n",
      "    \n",
      "    @property\n",
      "    def perimeter(self):\n",
      "        return 2 * math.pi * self.radius"
     ],
     "language": "python",
     "metadata": {},
     "outputs": [],
     "prompt_number": 109
    },
    {
     "cell_type": "markdown",
     "metadata": {},
     "source": [
      "- \uc55e\uc5d0 \ub098\uc628 \ud504\ub85c\ud37c\ud2f0\ub97c \uc0ac\uc6a9\ud558\uba74 radius, area, perimeter\uac00 \ub9c8\uce58 \uc18d\uc131\uc778 \uac83\ucc98\ub7fc \uc811\uadfc \uac00\ub2a5\n",
      "- **\uc18d\uc131\uacfc \uba54\uc18c\ub4dc \ud638\ucd9c**\uc744 **\ubcf5\ud569\uc801\uc73c\ub85c \uc0ac\uc6a9\ud558\ub294 \uac83\uacfc\ub294 \ub300\uc870\uc801**"
     ]
    },
    {
     "cell_type": "code",
     "collapsed": false,
     "input": [
      "c = Circle(4.0)"
     ],
     "language": "python",
     "metadata": {},
     "outputs": [],
     "prompt_number": 115
    },
    {
     "cell_type": "code",
     "collapsed": false,
     "input": [
      "c.radius"
     ],
     "language": "python",
     "metadata": {},
     "outputs": [
      {
       "metadata": {},
       "output_type": "pyout",
       "prompt_number": 116,
       "text": [
        "4.0"
       ]
      }
     ],
     "prompt_number": 116
    },
    {
     "cell_type": "code",
     "collapsed": false,
     "input": [
      "# ()\uac00 \uc4f0\uc774\uc9c0 \uc54a\uc558\ub2e4.\n",
      "c.area"
     ],
     "language": "python",
     "metadata": {},
     "outputs": [
      {
       "metadata": {},
       "output_type": "pyout",
       "prompt_number": 117,
       "text": [
        "50.26548245743669"
       ]
      }
     ],
     "prompt_number": 117
    },
    {
     "cell_type": "code",
     "collapsed": false,
     "input": [
      "c.area()"
     ],
     "language": "python",
     "metadata": {},
     "outputs": [
      {
       "ename": "TypeError",
       "evalue": "'float' object is not callable",
       "output_type": "pyerr",
       "traceback": [
        "\u001b[0;31m---------------------------------------------------------------------------\u001b[0m\n\u001b[0;31mTypeError\u001b[0m                                 Traceback (most recent call last)",
        "\u001b[0;32m<ipython-input-119-ba17805bb787>\u001b[0m in \u001b[0;36m<module>\u001b[0;34m()\u001b[0m\n\u001b[0;32m----> 1\u001b[0;31m \u001b[0mc\u001b[0m\u001b[0;34m.\u001b[0m\u001b[0marea\u001b[0m\u001b[0;34m(\u001b[0m\u001b[0;34m)\u001b[0m\u001b[0;34m\u001b[0m\u001b[0m\n\u001b[0m",
        "\u001b[0;31mTypeError\u001b[0m: 'float' object is not callable"
       ]
      }
     ],
     "prompt_number": 119
    },
    {
     "cell_type": "code",
     "collapsed": false,
     "input": [
      "# ()\uac00 \uc4f0\uc774\uc9c0 \uc54a\uc558\ub2e4.\n",
      "c.perimeter"
     ],
     "language": "python",
     "metadata": {},
     "outputs": [
      {
       "metadata": {},
       "output_type": "pyout",
       "prompt_number": 118,
       "text": [
        "25.132741228718345"
       ]
      }
     ],
     "prompt_number": 118
    },
    {
     "cell_type": "markdown",
     "metadata": {},
     "source": [
      "- \ud504\ub85c\ud37c\ud2f0\ub85c \uc6b0\uc544\ud55c \ud504\ub85c\uadf8\ub798\ubc0d \uc778\ud130\ud398\uc774\uc2a4\ub97c \uc5bb\uc744 \uc218 \uc788\uc9c0\ub9cc, \uac8c\ud130\uc640 \uc138\ud130 \ud568\uc218\ub97c \uc9c1\uc811 \uc0ac\uc6a9\ud558\ub294 \uac83\ub3c4 \uac00\ub2a5"
     ]
    },
    {
     "cell_type": "code",
     "collapsed": false,
     "input": [
      "p = Person('Guido')"
     ],
     "language": "python",
     "metadata": {},
     "outputs": [],
     "prompt_number": 130
    },
    {
     "cell_type": "code",
     "collapsed": false,
     "input": [
      "p.get_first_name()"
     ],
     "language": "python",
     "metadata": {},
     "outputs": [
      {
       "metadata": {},
       "output_type": "pyout",
       "prompt_number": 131,
       "text": [
        "'Guido'"
       ]
      }
     ],
     "prompt_number": 131
    },
    {
     "cell_type": "code",
     "collapsed": false,
     "input": [
      "p.set_first_name('Larry')"
     ],
     "language": "python",
     "metadata": {},
     "outputs": [],
     "prompt_number": 132
    },
    {
     "cell_type": "code",
     "collapsed": false,
     "input": [
      "p.get_first_name()"
     ],
     "language": "python",
     "metadata": {},
     "outputs": [
      {
       "metadata": {},
       "output_type": "pyout",
       "prompt_number": 133,
       "text": [
        "'Larry'"
       ]
      }
     ],
     "prompt_number": 133
    },
    {
     "cell_type": "markdown",
     "metadata": {},
     "source": [
      "- \uc2dc\uc2a4\ud15c \ud504\ub85c\uadf8\ub7a8\uacfc \uac19\uc740 \uac70\ub300 \uad6c\uc870\uc5d0 \ud30c\uc774\uc36c \ucf54\ub4dc\ub97c \ud1b5\ud569\ud560 \ub54c \uc774\ub7f4 \ud544\uc694\uc131\uc774 \uc788\uc74c\n",
      "- \ud30c\uc774\uc36c \ud074\ub798\uc2a4\ub97c \uc6d0\uaca9 \uc808\ucc28 \ud638\ucd9c\uc774\ub098 \ubd84\uc0b0 \uac1d\uccb4\uc5d0 \uae30\ubc18\ud55c \ubc29\ub300\ud55c \ubd84\uc0b0 \uc2dc\uc2a4\ud15c\uc5d0 \ub123\uae30\ub3c4 \ud568\n",
      "- \uc774\ub7f0 \uacbd\uc6b0 \uba85\uc2dc\uc801\uc73c\ub85c \uac8c\ud130/\uc138\ud130 \uba54\uc18c\ub4dc\ub97c \uc77c\ubc18\uc801\uc778 \uba54\uc18c\ub4dc\ucc98\ub7fc \uc9c1\uc811 \ud638\ucd9c\ud558\ub294 \uac83\uc774 \ud504\ub85c\ud37c\ud2f0 \uc0ac\uc6a9\ubcf4\ub2e4 \ud6e8\uc52c \uc774\ud574\ud558\uae30 \uc27d\ub2e4.\n",
      "\n",
      "\n",
      "- \ub9c8\uc9c0\ub9c9\uc73c\ub85c, \ud504\ub85c\ud37c\ud2f0 \uc815\uc758\ub97c \ubc18\ubcf5\uc801\uc73c\ub85c \uc0ac\uc6a9\ud558\ub294 \ud30c\uc774\uc36c \ucf54\ub4dc\ub97c \uc791\uc131\ud558\uc9c0 \uc54a\ub3c4\ub85d \uc8fc\uc758"
     ]
    },
    {
     "cell_type": "code",
     "collapsed": false,
     "input": [
      "class Person:\n",
      "    def __init__(self, first_name, last_name):\n",
      "        self.first_name = first_name\n",
      "        self.last_name = last_name\n",
      "        \n",
      "    @property\n",
      "    def first_name(self):\n",
      "        return self._first_name\n",
      "    \n",
      "    @first_name.setter\n",
      "    def first_name(self, value):\n",
      "        if not isinstance(value, str):\n",
      "            raise TypeError('Expected a string')\n",
      "        self._first_name = value\n",
      "        \n",
      "    # \uc774\ub984\uc774 \ub2e4\ub978 \ud504\ub85c\ud37c\ud2f0 \ucf54\ub4dc\uc758 \ubc18\ubcf5(\uc88b\uc9c0 \uc54a\ub2e4!)\n",
      "    @property\n",
      "    def last_name(self):\n",
      "        return self._last_name\n",
      "    \n",
      "    @last_name.setter\n",
      "    def last_name(self, value):\n",
      "        if not isinstance(value, str):\n",
      "            raise TypeError('Expected a stirng')\n",
      "        self._last_name = value"
     ],
     "language": "python",
     "metadata": {},
     "outputs": [],
     "prompt_number": 134
    },
    {
     "cell_type": "markdown",
     "metadata": {},
     "source": [
      "- \ucf54\ub4dc\ub97c \ubc18\ubcf5\ud558\uba74 \ubcf4\uae30 \uc88b\uc9c0 \uc54a\uace0 \uc5d0\ub7ec\uac00 \ubc1c\uc0dd\ud558\uae30\ub3c4 \uc26c\uc6c0\n",
      "- \ub3d9\uc77c\ud55c \ub3d9\uc791\uc131\uc740 \ub514\uc2a4\ud06c\ub9bd\ud130\ub098 \ud074\ub85c\uc800\ub85c\ub3c4 \uc5bb\uc744 \uc218 \uc788\uc74c. \ub808\uc2dc\ud53c 8.9\uc640 9.21\uc744 \ucc38\uace0"
     ]
    },
    {
     "cell_type": "markdown",
     "metadata": {},
     "source": [
      "## 8.7 \ubd80\ubaa8 \ud074\ub798\uc2a4\uc758 \uba54\uc18c\ub4dc \ud638\ucd9c\n",
      "\n",
      "### \ubb38\uc81c\n",
      "\n",
      "- \uc624\ubc84\ub77c\uc774\ub4dc\ub41c \uc11c\ube0c\ud074\ub798\uc2a4 \uba54\uc18c\ub4dc\uac00 \uc544\ub2cc \ubd80\ubaa8 \ud074\ub798\uc2a4\uc5d0 \uc788\ub294 \uba54\uc18c\ub4dc\ub97c \ud638\ucd9c\ud558\uace0 \uc2f6\ub2e4.\n",
      "\n",
      "### \ud574\uacb0\n",
      "\n",
      "- \ubd80\ubaa8(\ud639\uc740 \uc288\ud37c\ud074\ub798\uc2a4)\uc758 \uba54\uc18c\ub4dc\ub97c \ud638\ucd9c\ud558\ub824\uba74 super() \ud568\uc218\ub97c \uc0ac\uc6a9\ud568"
     ]
    },
    {
     "cell_type": "code",
     "collapsed": false,
     "input": [
      "class A:\n",
      "    def spam(self):\n",
      "        print('A.spam')\n",
      "        \n",
      "class B(A):\n",
      "    def spam(self):\n",
      "        print('B.spam')\n",
      "        # \ubd80\ubaa8\uc758 spam() \ud638\ucd9c\n",
      "        super().spam()"
     ],
     "language": "python",
     "metadata": {},
     "outputs": [],
     "prompt_number": 143
    },
    {
     "cell_type": "code",
     "collapsed": false,
     "input": [
      "b = B()\n",
      "b.spam()"
     ],
     "language": "python",
     "metadata": {},
     "outputs": [
      {
       "output_type": "stream",
       "stream": "stdout",
       "text": [
        "B.spam\n",
        "A.spam\n"
       ]
      }
     ],
     "prompt_number": 145
    },
    {
     "cell_type": "markdown",
     "metadata": {},
     "source": [
      "- super()\ub294 \uc77c\ubc18\uc801\uc73c\ub85c \\_\\_init\\_\\_() \uba54\uc18c\ub4dc\uc5d0\uc11c \ubd80\ubaa8\ub97c \uc81c\ub300\ub85c \ucd08\uae30\ud654\ud558\uae30 \uc704\ud574 \uc0ac\uc6a9\ud568"
     ]
    },
    {
     "cell_type": "code",
     "collapsed": false,
     "input": [
      "class A:\n",
      "    def __init__(self):\n",
      "        self.x = 0\n",
      "        \n",
      "class B(A):\n",
      "    def __init__(self):\n",
      "        super().__init__()\n",
      "        self.y = 1"
     ],
     "language": "python",
     "metadata": {},
     "outputs": [],
     "prompt_number": 149
    },
    {
     "cell_type": "code",
     "collapsed": false,
     "input": [
      "a = A()\n",
      "b = B()\n",
      "print(a.x)\n",
      "print(b.x)"
     ],
     "language": "python",
     "metadata": {},
     "outputs": [
      {
       "output_type": "stream",
       "stream": "stdout",
       "text": [
        "0\n",
        "0\n"
       ]
      }
     ],
     "prompt_number": 151
    },
    {
     "cell_type": "markdown",
     "metadata": {},
     "source": [
      "- \uadf8\ub9ac\uace0 \ud30c\uc774\uc36c\uc758 \ud2b9\ubcc4 \uba54\uc18c\ub4dc\ub97c \uc624\ubc84\ub77c\uc774\ub4dc\ud55c \ucf54\ub4dc\uc5d0\uc11c super()\ub97c \uc0ac\uc6a9\ud558\uae30\ub3c4 \ud568"
     ]
    },
    {
     "cell_type": "code",
     "collapsed": false,
     "input": [
      "class Proxy:\n",
      "    def __init__(self, obj):\n",
      "        self._obj = obj\n",
      "        \n",
      "    # \ub0b4\ubd80 obj\ub97c \uc704\ud574 delegate \uc18d\uc131 \ucc3e\uae30\n",
      "    def __getattr__(self, name):\n",
      "        return getattr(self._obj, name)\n",
      "        \n",
      "    # delegate \uc18d\uc131 \ud560\ub2f9\n",
      "    def __setattr__(self, name, value):\n",
      "        if name.startswith('_'):\n",
      "            # \uc6d0\ubcf8 __setattr__ \ud638\ucd9c\n",
      "            super().__setattr__(name, value)\n",
      "        else:\n",
      "            setattr(self._obj, name, value)"
     ],
     "language": "python",
     "metadata": {},
     "outputs": [],
     "prompt_number": 152
    },
    {
     "cell_type": "markdown",
     "metadata": {},
     "source": [
      "- \uc774 \ucf54\ub4dc\uc5d0\uc11c, \\_\\_setattr\\_\\_() \uad6c\ud604\uc5d0 \uc774\ub984 \ud655\uc778\uc774 \ub4e4\uc5b4\uc788\uc74c\n",
      "- \ub9cc\uc57d \uc774\ub984\uc774 \ubc11\uc904\ub85c \uc2dc\uc791\ud558\uba74 super()\ub97c \uc0ac\uc6a9\ud574\uc11c \\_\\_setattr\\_\\_()\uc758 \uc6d0\ub798 \uad6c\ud604\uc744 \ud638\ucd9c\ud568\n",
      "- \uadf8\ub807\uc9c0 \uc54a\ub2e4\uba74 \ub0b4\ubd80 \uac1d\uccb4\uc778 self.\\_obj\ub97c \ubd80\ub978\ub2e4. \uc870\uae08 \uc774\uc0c1\ud558\uac8c \ubcf4\uc77c\uc9c0\ub3c4 \ubaa8\ub974\uaca0\uc9c0\ub9cc, \uba85\uc2dc\uc801\uc73c\ub85c \ud074\ub798\uc2a4\ub97c \ud45c\uc2dc\ud558\uc9c0 \uc54a\uc544\ub3c4 super()\uac00 \ub3d9\uc791\ud568"
     ]
    },
    {
     "cell_type": "markdown",
     "metadata": {},
     "source": [
      "### \ud1a0\ub860\n",
      "\n",
      "- super() \ud568\uc218\ub97c \uc62c\ubc14\ub974\uac8c \uc0ac\uc6a9\ud558\uae30\ub294 \ubb34\ucc99 \uc5b4\ub824\uc6c0\n",
      "- \ub54c\ub54c\ub85c \ubd80\ubaa8 \ud074\ub798\uc2a4 \uba54\uc18c\ub4dc\ub97c \uc9c1\uc811 \ud638\ucd9c\ud558\uae30 \uc704\ud574 \ub2e4\uc74c\uacfc \uac19\uc774 \uc791\uc131\ud55c \ucf54\ub4dc\ub97c \ubcfc \uc218 \uc788\uc74c"
     ]
    },
    {
     "cell_type": "code",
     "collapsed": false,
     "input": [
      "class Base:\n",
      "    def __init__(self):\n",
      "        print('Base.__init__')\n",
      "        \n",
      "class A(Base):\n",
      "    def __init__(self):\n",
      "        Base.__init__(self)\n",
      "        print('A.__init__')"
     ],
     "language": "python",
     "metadata": {},
     "outputs": [],
     "prompt_number": 157
    },
    {
     "cell_type": "code",
     "collapsed": false,
     "input": [
      "a = A()"
     ],
     "language": "python",
     "metadata": {},
     "outputs": [
      {
       "output_type": "stream",
       "stream": "stdout",
       "text": [
        "Base.__init__\n",
        "A.__init__\n"
       ]
      }
     ],
     "prompt_number": 158
    },
    {
     "cell_type": "markdown",
     "metadata": {},
     "source": [
      "- \uc55e\uc5d0 \ub098\uc624\ub294 \ucf54\ub4dc\uac00 \ub300\ubd80\ubd84\uc758 \uacbd\uc6b0 '\ub3d9\uc791\ud558\uae30'\ub294 \ud558\uc9c0\ub9cc, \ub2e4\uc911 \uc0c1\uc18d\uacfc \uac19\uc740 \uc0c1\ud669\uc5d0\uc11c \ubb38\uc81c\uac00 \ubc1c\uc0dd"
     ]
    },
    {
     "cell_type": "code",
     "collapsed": false,
     "input": [
      "class Base:\n",
      "    def __init__(self):\n",
      "        print('Base.__init__')\n",
      "        \n",
      "class A(Base):\n",
      "    def __init__(self):\n",
      "        Base.__init__(self)\n",
      "        print('A.__init__')\n",
      "        \n",
      "class B(Base):\n",
      "    def __init__(self):\n",
      "        Base.__init__(self)\n",
      "        print('B.__init__')\n",
      "        \n",
      "class C(A, B):\n",
      "    def __init__(self):\n",
      "        A.__init__(self)\n",
      "        B.__init__(self)\n",
      "        print('C.__init__')"
     ],
     "language": "python",
     "metadata": {},
     "outputs": [],
     "prompt_number": 161
    },
    {
     "cell_type": "markdown",
     "metadata": {},
     "source": [
      "- \uc774 \ucf54\ub4dc\ub97c \uc2e4\ud589\ud558\uba74 Base.\\_\\_init\\_\\_() \uba54\uc18c\ub4dc\uac00 2\ubc88 \ud638\ucd9c\ub428"
     ]
    },
    {
     "cell_type": "code",
     "collapsed": false,
     "input": [
      "c = C()"
     ],
     "language": "python",
     "metadata": {},
     "outputs": [
      {
       "output_type": "stream",
       "stream": "stdout",
       "text": [
        "Base.__init__\n",
        "A.__init__\n",
        "Base.__init__\n",
        "B.__init__\n",
        "C.__init__\n"
       ]
      }
     ],
     "prompt_number": 162
    },
    {
     "cell_type": "markdown",
     "metadata": {},
     "source": [
      "- Base.\\_\\_init\\_\\_()\uc744 2 \ubc88 \ud638\ucd9c\ud558\ub294 \uac83\uc774 \ubb38\uc81c\uac00 \uc5c6\uc744 \uc218\ub3c4 \uc788\uc9c0\ub9cc, \ud56d\uc0c1 \uadf8\ub807\uc9c0\ub9cc\uc740 \uc54a\ub2e4.\n",
      "- \ud558\uc9c0\ub9cc super()\ub97c \uc0ac\uc6a9\ud558\uc5ec \ucf54\ub4e4\ub974 \uc218\uc815\ud55c\ub2e4\uba74 \uc62c\ubc14\ub974\uac8c \ub3d9\uc791\ud568"
     ]
    },
    {
     "cell_type": "code",
     "collapsed": false,
     "input": [
      "class Base:\n",
      "    def __init__(self):\n",
      "        print('Base.__init__')\n",
      "        \n",
      "class A(Base):\n",
      "    def __init__(self):\n",
      "        super().__init__()\n",
      "        print('A.__init__')\n",
      "        \n",
      "class B(Base):\n",
      "    def __init__(self):\n",
      "        super().__init__()\n",
      "        print('B.__init__')\n",
      "        \n",
      "class C(A, B):\n",
      "    def __init__(self):\n",
      "        # super()\ub85c \uc2e4\ud589\ud574\uc11c \uc0c1\uc704 \ud074\ub798\uc2a4 \ud55c \ubc88 \ucc3e\uc544\uc8fc\uace0\n",
      "        # __init__()\ub85c \ucd08\uae30\ud654 \uc9c4\ud589\n",
      "        super().__init__()\n",
      "        print('C.__init__')"
     ],
     "language": "python",
     "metadata": {},
     "outputs": [],
     "prompt_number": 173
    },
    {
     "cell_type": "markdown",
     "metadata": {},
     "source": [
      "- \uc774\ubc88 \ubc84\uc804\uc744 \uc0ac\uc6a9\ud558\uba74 \ubaa8\ub4e0 \\_\\_init\\_\\_() \uba54\uc18c\ub4dc\uac00 \ud55c \ubc88\uc529\ub9cc \ud638\ucd9c\ub428"
     ]
    },
    {
     "cell_type": "code",
     "collapsed": false,
     "input": [
      "c = C()"
     ],
     "language": "python",
     "metadata": {},
     "outputs": [
      {
       "output_type": "stream",
       "stream": "stdout",
       "text": [
        "Base.__init__\n",
        "B.__init__\n",
        "A.__init__\n",
        "C.__init__\n"
       ]
      }
     ],
     "prompt_number": 175
    },
    {
     "cell_type": "markdown",
     "metadata": {},
     "source": [
      "- **\uc65c \uc774\ub7f0 \ucc28\uc774\uc810\uc774 \uc0dd\uae30\ub294\uc9c0 \uc774\ud574**\ud558\ub824\uba74, **\ud30c\uc774\uc36c\uc758 \uc0c1\uc18d \uad6c\ud604**\uc744 \uba3c\uc800 **\uc774\ud574**\ud574\uc57c \ud55c\ub2e4.\n",
      "- \ud074\ub798\uc2a4\ub97c \uc815\uc758\ud560 \ub54c\ub9c8\ub2e4 \ud30c\uc774\uc36c\uc75c **method resolution order**, MRO \ub9ac\uc2a4\ud2b8\ub97c \uacc4\uc0b0\ud55c\ub2e4.\n",
      "- MRO \ub9ac\uc2a4\ud2b8\ub294 **\ubaa8\ub4e0 \ubca0\uc774\uc2a4 \ud074\ub798\uc2a4\ub97c \ub2e8\uc21c\ud788 \uc21c\ucc28\uc801\uc73c\ub85c \ub098\uc5f4\ud55c \ub9ac\uc2a4\ud2b8**"
     ]
    },
    {
     "cell_type": "code",
     "collapsed": false,
     "input": [
      "C.__mro__"
     ],
     "language": "python",
     "metadata": {},
     "outputs": [
      {
       "metadata": {},
       "output_type": "pyout",
       "prompt_number": 176,
       "text": [
        "(__main__.C, __main__.A, __main__.B, __main__.Base, object)"
       ]
      }
     ],
     "prompt_number": 176
    },
    {
     "cell_type": "markdown",
     "metadata": {},
     "source": [
      "- \uc0c1\uc18d \uad6c\ud604\uc744 \uc704\ud574 \ud30c\uc774\uc36c\uc740 \uac00\uc7a5 \uc67c\ucabd\uc5d0 \uc788\ub294 \ud074\ub798\uc2a4\uc5d0\uc11c \uc2dc\uc791\ud574\uc11c MRO \ub9ac\uc2a4\ud2b8\uc758 \uc624\ub978\ucabd\uc73c\ub85c \uc774\ub3d9\ud558\uba70 \uc77c\ucc28\ud558\ub294 \uc18d\uc131\uc744 \ucc3e\uc544\ub0c4\n",
      "- MRO \ub9ac\uc2a4\ud2b8 \uc790\uccb4\ub97c \uc2e4\uc81c\ub85c \uacb0\uc815\ud560 \ub54c\ub294 C3 \uc120\ud615\ud654(C3 Linearization)\ub77c\ub294 \uae30\uc220\uc744 \uc0ac\uc6a9\ud568\n",
      "- \ub108\ubb34 \uacc4\uc0b0\uc774 \ubcf5\uc7a1\ud574\uc9c0\uc9c0 \uc54a\ub3c4\ub85d \ubd80\ubaa8 \ud074\ub798\uc2a4\uc758 MRO\ub97c \ub2e4\uc74c 3\uac00\uc9c0 \uc81c\uc57d \uc870\uac74 \ud558\uc5d0\uc11c merge sort \ud55c\ub2e4.\n",
      "\n",
      "\n",
      "1. \uc790\uc2dd \ud074\ub798\uc2a4\ub97c \ubd80\ubaa8\ubcf4\ub2e4 \uba3c\uc800 \ud655\uc778\ud55c\ub2e4.\n",
      "2. \ubd80\ubaa8 \ud074\ub798\uc2a4\uac00 2 \uc774\uc0c1\uc774\uba74 \ub9ac\uc2a4\ud305\ud55c \uc21c\uc11c\ub300\ub85c \ud655\uc778\ud55c\ub2e4.\n",
      "3. \uc720\ud6a8\ud55c \ud6c4\ubcf4\uac00 2\uac00\uc9c0 \uc788\uc73c\uba74, \uccab\ubc88\uc9f8 \ubd80\ubaa8 \ud074\ub798\uc2a4\ubd80\ud130 \uc120\ud0dd\ud55c\ub2e4.\n",
      "\n",
      "\n",
      "- \uc0ac\uc2e4 \uc815\ub9d0\ub85c \uc54c\uace0 \uc788\uc5b4\uc57c \ud558\ub294 \uac83\uc740 MRO \ub9ac\uc2a4\ud2b8\uc758 \ud074\ub798\uc2a4 \uc21c\uc11c\uac00 \uc815\uc758\ud558\ub824\ub294 \uac70\uc758 \ubaa8\ub4e0 \ud074\ub798\uc2a4 \uad6c\uc870\uc5d0 **\uc758\ubbf8\uac00 \ud1b5\ud574\uc57c** \ud55c\ub2e4\ub294 \uc810\n",
      "- super() \ud568\uc218\ub97c \uc0ac\uc6a9\ud560 \ub54c, \ud30c\uc774\uc36c\uc740 MRO\uc758 \ub2e4\uc74c \ud074\ub798\uc2a4\uc5d0\uc11c \uac80\uc0c9\uc744 \uc2dc\uc791\ud568\n",
      "- \uc7ac\uc815\uc758\ud55c \ubaa8\ub4e0 \uba54\uc18c\ub4dc\uac00 \ubaa8\ub450 super()\ub97c \uc0ac\uc6a9\ud558\uace0 \ud55c \ubc88\ub9cc \ud638\ucd9c\ud558\uc9c0\ub9cc, **\uc2dc\uc2a4\ud15c\uc740 MRO \ub9ac\uc2a4\ud2b8 \uc804\uccb4\uc5d0 \ub3d9\uc791\ud558\uace0 \ubaa8\ub4e0 \uba54\uc18c\ub4dc\ub294 \ud55c \ubc88\ub9cc \ud638\ucd9c**\ub41c\ub2e4. \ubc14\ub85c \uc774 \ub54c\ubb38\uc5d0 **2\ubc88\uc9f8 \uc608\uc81c\uc758 Base.\\_\\_init\\_\\_\uc774 2\ubc88 \ud638\ucd9c\ub418\uc9c0 \uc54a\ub294 \uac83**\n",
      "- super()\uc758 \ub180\ub77c\uc6b4 \uce21\uba74 \uc911 \ud558\ub098\ub294 \uc774 \ud568\uc218\uac00 MRO\uc758 \ubc14\ub85c \uc704\uc5d0 \uc788\ub294 \ubd80\ubaa8\uc5d0 \uc9c1\uc811 \uc811\uadfc\ud558\uc9c0 \uc54a\uc744 \ub54c\ub3c4 \uc788\uace0, \uc9c1\uc811\uc801\uc778 \ubd80\ubaa8 \ud074\ub798\uc2a4\uac00 \uc5c6\uc744 \ub54c\ub3c4 super()\ub97c \uc0ac\uc6a9\ud560 \uc218 \uc788\ub2e4\ub294 \uc810"
     ]
    },
    {
     "cell_type": "code",
     "collapsed": false,
     "input": [
      "class A:\n",
      "    def spam(self):\n",
      "        print('A.spam')\n",
      "        super().spam()"
     ],
     "language": "python",
     "metadata": {},
     "outputs": [],
     "prompt_number": 177
    },
    {
     "cell_type": "markdown",
     "metadata": {},
     "source": [
      "- \uc55e\uc5d0 \ub098\uc628 \ud074\ub798\uc2a4\ub97c \uc0ac\uc6a9\ud558\uba74 \ub2e4\uc74c\uacfc \uac19\uc774 \uc5d0\ub7ec \uba54\uc2dc\uc9c0\uac00 \ubc1c\uc0dd"
     ]
    },
    {
     "cell_type": "code",
     "collapsed": false,
     "input": [
      "a = A()"
     ],
     "language": "python",
     "metadata": {},
     "outputs": [],
     "prompt_number": 178
    },
    {
     "cell_type": "code",
     "collapsed": false,
     "input": [
      "a.spam()"
     ],
     "language": "python",
     "metadata": {},
     "outputs": [
      {
       "output_type": "stream",
       "stream": "stdout",
       "text": [
        "A.spam\n"
       ]
      },
      {
       "ename": "AttributeError",
       "evalue": "'super' object has no attribute 'spam'",
       "output_type": "pyerr",
       "traceback": [
        "\u001b[0;31m---------------------------------------------------------------------------\u001b[0m\n\u001b[0;31mAttributeError\u001b[0m                            Traceback (most recent call last)",
        "\u001b[0;32m<ipython-input-179-dae5826e83b9>\u001b[0m in \u001b[0;36m<module>\u001b[0;34m()\u001b[0m\n\u001b[0;32m----> 1\u001b[0;31m \u001b[0ma\u001b[0m\u001b[0;34m.\u001b[0m\u001b[0mspam\u001b[0m\u001b[0;34m(\u001b[0m\u001b[0;34m)\u001b[0m\u001b[0;34m\u001b[0m\u001b[0m\n\u001b[0m",
        "\u001b[0;32m<ipython-input-177-66ac0b602197>\u001b[0m in \u001b[0;36mspam\u001b[0;34m(self)\u001b[0m\n\u001b[1;32m      2\u001b[0m     \u001b[0;32mdef\u001b[0m \u001b[0mspam\u001b[0m\u001b[0;34m(\u001b[0m\u001b[0mself\u001b[0m\u001b[0;34m)\u001b[0m\u001b[0;34m:\u001b[0m\u001b[0;34m\u001b[0m\u001b[0m\n\u001b[1;32m      3\u001b[0m         \u001b[0mprint\u001b[0m\u001b[0;34m(\u001b[0m\u001b[0;34m'A.spam'\u001b[0m\u001b[0;34m)\u001b[0m\u001b[0;34m\u001b[0m\u001b[0m\n\u001b[0;32m----> 4\u001b[0;31m         \u001b[0msuper\u001b[0m\u001b[0;34m(\u001b[0m\u001b[0;34m)\u001b[0m\u001b[0;34m.\u001b[0m\u001b[0mspam\u001b[0m\u001b[0;34m(\u001b[0m\u001b[0;34m)\u001b[0m\u001b[0;34m\u001b[0m\u001b[0m\n\u001b[0m",
        "\u001b[0;31mAttributeError\u001b[0m: 'super' object has no attribute 'spam'"
       ]
      }
     ],
     "prompt_number": 179
    },
    {
     "cell_type": "markdown",
     "metadata": {},
     "source": [
      "- \uc774 \ud074\ub798\uc2a4\ub97c \ub2e4\uc911 \uc0c1\uc18d\uc5d0 \uc0ac\uc6a9\ud558\uba74 \uc5b4\ub5bb\uac8c \ub418\ub294\uc9c0 \ud655\uc778\ud574 \ubcf4\uc790"
     ]
    },
    {
     "cell_type": "code",
     "collapsed": false,
     "input": [
      "class B:\n",
      "    def spam(self):\n",
      "        print('B.spam')\n",
      "\n",
      "class C(A, B):\n",
      "    pass"
     ],
     "language": "python",
     "metadata": {},
     "outputs": [],
     "prompt_number": 181
    },
    {
     "cell_type": "code",
     "collapsed": false,
     "input": [
      "c = C()\n",
      "c.spam()"
     ],
     "language": "python",
     "metadata": {},
     "outputs": [
      {
       "output_type": "stream",
       "stream": "stdout",
       "text": [
        "A.spam\n",
        "B.spam\n"
       ]
      }
     ],
     "prompt_number": 182
    },
    {
     "cell_type": "markdown",
     "metadata": {},
     "source": [
      "- A \ud074\ub798\uc2a4\uc758 super().spam()\uc774 \uc2e4\uc81c\ub85c A\uc640\ub294 \uc804\ud600 \uad00\ub828\uc5c6\ub294 B \ud074\ub798\uc2a4\uc758 spam()\uc744 \ud638\ucd9c\ud588\ub2e4.\n",
      "- C \ud074\ub798\uc2a4\uc758 MRO\ub97c \ubcf4\uba74 \uc774\ub97c \uc774\ud574\ud560 \uc218 \uc788\uc74c"
     ]
    },
    {
     "cell_type": "code",
     "collapsed": false,
     "input": [
      "C.__mro__"
     ],
     "language": "python",
     "metadata": {},
     "outputs": [
      {
       "metadata": {},
       "output_type": "pyout",
       "prompt_number": 183,
       "text": [
        "(__main__.C, __main__.A, __main__.B, object)"
       ]
      }
     ],
     "prompt_number": 183
    },
    {
     "cell_type": "markdown",
     "metadata": {},
     "source": [
      "- \uc774\ub7f0\uc2dd\uc73c\ub85c super()\ub97c \uc0ac\uc6a9\ud558\ub294 \uac83\uc740 \ud074\ub798\uc2a4\ub97c \ubcf5\ud569\uc801\uc73c\ub85c \uc0ac\uc6a9\ud560 \ub54c \uc77c\ubc18\uc801\uc778 \ubaa8\uc2b5. \ub808\uc2dc\ud53c 8.13\uacfc 8.18\uc744 \ucc38\uace0\ud55c\ub2e4.\n",
      "\n",
      "\n",
      "- \ud558\uc9c0\ub9cc, super()\ub85c \uc778\ud574 \uc6d0\uce58\uc54a\ub294 \uba54\uc18c\ub4dc\uac00 \ud638\ucd9c\ub418\ub294 \ud604\uc0c1\uc774 \ubc1c\uc0dd\ud560 \uc218\ub3c4 \uc788\uc5b4 \ud544\uc790\uc758 \uacbd\ud5d8\uc0c1 \ub2e4\uc74c \uaddc\uce59\uc744 \ub530\ub974\ub294 \uac83\uc774 \uc88b\ub2e4.\n",
      "\n",
      "\n",
      "1. \uccab\uc9f8\ub85c, \uc0c1\uc18d \uad00\uacc4\uc5d0\uc11c \uc774\ub984\uc774 \uac19\uc740 \ubaa8\ub4e0 \uba54\uc18c\ub4dc\ub294 \ub3d9\uc77c\ud55c \uad6c\uc870\ub97c \uac00\uc9c0\ub3c4\ub85d \ud55c\ub2e4.(\uc608: \uac19\uc740 \uc778\uc790\uc218, \uac19\uc740 \uc778\uc790 \uc774\ub984). \uc774\ub807\uac8c \ud558\uba74 super()\uac00 \uc9c1\uc811\uc801\uc73c\ub85c \ubd80\ubaa8\uac00 \uc544\ub2cc \ud074\ub798\uc2a4 \uba54\uc18c\ub4dc\ub97c \ud638\ucd9c\ud560 \ub54c \ubc1c\uc0dd\ud558\ub294 \uc2e4\uc218\ub97c \ubc29\uc9c0\ud560 \uc218 \uc788\uc74c\n",
      "2. \uac00\uc7a5 \uc0c1\uc704\uc5d0 \uc788\ub294 \ud074\ub798\uc2a4\uc5d0\uc11c \uba54\uc18c\ub4dc \uad6c\ud604\uc744 \uc81c\uacf5\ud574\uc11c MRO\uc5d0\uc11c \uac80\uc0c9\uc744 \ud560 \ub54c \uacb0\uad6d\uc740 \uc2e4\uc81c \uba54\uc18c\ub4dc \uc704\uc5d0\uc11c \uba48\ucd94\ub3c4\ub85d \ud558\ub294 \uac83\uc774 \uc88b\uc74c\n",
      "\n",
      "\n",
      "- super()\ub97c \uc0ac\uc6a9\ud558\ub294 \uac83\uc758 \uc7a5\ub2e8\uc810\uc740 \ud30c\uc774\uc36c \ucee4\ubba4\ub2c8\ud2f0\uc5d0\uc11c \uc885\uc885 \ud1a0\ub860\uac70\ub9ac\uac00 \ub418\uace4 \ud568\n",
      "- \ud558\uc9c0\ub9cc \ub2e4\ub978 \ubaa8\ub4e0 \uc870\uac74\uc774 \uadf8\ub300\ub85c\ub77c\uba74, **\ud604\ub300\uc801\uc778 \ucf54\ub4dc**\uc5d0\uc11c **\uc0ac\uc6a9**\ud574\uc57c \ud55c\ub2e4.\n",
      "- Raymond Hettinger\uac00 \uc4f4 \ube14\ub85c\uadf8 \ud3ec\uc2a4\ud305 [Python's super() Considered Super!](http://rhettinger.wordpress.com/2011/05/26/super-considered-super/)\uc5d0 \ub354\ub9ce\uc740 \uc608\uc81c\uc640 super()\uac00 \uc65c \ud6cc\ub96d\ud55c\uc9c0 \uc790\uc138\ud55c \uc124\uba85\uc774 \ub098\uc624\ub2c8 \ucc38\uace0"
     ]
    },
    {
     "cell_type": "markdown",
     "metadata": {},
     "source": [
      "## 8.8 \uc11c\ube0c\ud074\ub798\uc2a4\uc5d0\uc11c \ud504\ub85c\ud37c\ud2f0 \ud655\uc7a5\n",
      "\n",
      "### \ubb38\uc81c\n",
      "\n",
      "- \uc11c\ube0c\ud074\ub798\uc2a4\uc5d0\uc11c, \ubd80\ubaa8 \ud074\ub798\uc2a4\uc5d0\uc11c \uc815\uc758\ud55c \ud504\ub85c\ud37c\ud2f0\uc758 \uae30\ub2a5\uc744 \ud655\uc7a5\ud558\uace0 \uc2f6\ub2e4.\n",
      "\n",
      "### \ud574\uacb0\n",
      "\n",
      "- \ud504\ub85c\ud37c\ud2f0 \uc815\uc758 \ucf54\ub4dc"
     ]
    },
    {
     "cell_type": "code",
     "collapsed": false,
     "input": [
      "class Person:\n",
      "    def __init__(self, name):\n",
      "        self.name = name\n",
      "        \n",
      "    # \uac8c\ud130 \ud568\uc218\n",
      "    @property\n",
      "    def name(self):\n",
      "        return self._name\n",
      "    \n",
      "    # \uc138\ud130 \ud568\uc218\n",
      "    @name.setter\n",
      "    def name(self, value):\n",
      "        if not isinstance(value, str):\n",
      "            raise TypeError('Expected a string')\n",
      "        self._name = value\n",
      "        \n",
      "    # \ub51c\ub9ac\ud130 \ud568\uc218\n",
      "    @name.deleter\n",
      "    def name(self):\n",
      "        raise AttributeError(\"Can't delete attribute\")"
     ],
     "language": "python",
     "metadata": {},
     "outputs": [],
     "prompt_number": 197
    },
    {
     "cell_type": "markdown",
     "metadata": {},
     "source": [
      "- \ub2e4\uc74c \ucf54\ub4dc\ub294 Person\uc744 \uc0c1\uc18d \ubc1b\uc544 name \ud504\ub85c\ud37c\ud2f0\uc5d0 \uc0c8\ub85c\uc6b4 \uae30\ub2a5\uc744 \ub123\uc5b4 \ud074\ub798\uc2a4\ub97c \ud655\uc7a5\ud568"
     ]
    },
    {
     "cell_type": "code",
     "collapsed": false,
     "input": [
      "class SubPerson(Person):\n",
      "    @property\n",
      "    def name(self):\n",
      "        print('Getting name')\n",
      "        return super().name\n",
      "    \n",
      "    @name.setter\n",
      "    def name(self, value):\n",
      "        print('Setting name to', value)\n",
      "        super(SubPerson, SubPerson).name.__set__(self, value)\n",
      "        \n",
      "    @name.deleter\n",
      "    def name(self):\n",
      "        print('Deleting name')\n",
      "        super(SubPerson, SubPerson).name.__delete__(self)"
     ],
     "language": "python",
     "metadata": {},
     "outputs": [],
     "prompt_number": 185
    },
    {
     "cell_type": "markdown",
     "metadata": {},
     "source": [
      "- \ub2e4\uc74c\uc740 \uc0c8\ub85c\uc6b4 \ud074\ub798\uc2a4\ub97c \uc0ac\uc6a9\ud558\ub294 \uc608\uc81c"
     ]
    },
    {
     "cell_type": "code",
     "collapsed": false,
     "input": [
      "s = SubPerson('Guido')"
     ],
     "language": "python",
     "metadata": {},
     "outputs": [
      {
       "output_type": "stream",
       "stream": "stdout",
       "text": [
        "Setting name to Guido\n"
       ]
      }
     ],
     "prompt_number": 186
    },
    {
     "cell_type": "code",
     "collapsed": false,
     "input": [
      "s.name"
     ],
     "language": "python",
     "metadata": {},
     "outputs": [
      {
       "output_type": "stream",
       "stream": "stdout",
       "text": [
        "Getting name\n"
       ]
      },
      {
       "metadata": {},
       "output_type": "pyout",
       "prompt_number": 187,
       "text": [
        "'Guido'"
       ]
      }
     ],
     "prompt_number": 187
    },
    {
     "cell_type": "code",
     "collapsed": false,
     "input": [
      "s.name = 'Larry'"
     ],
     "language": "python",
     "metadata": {},
     "outputs": [
      {
       "output_type": "stream",
       "stream": "stdout",
       "text": [
        "Setting name to Larry\n"
       ]
      }
     ],
     "prompt_number": 189
    },
    {
     "cell_type": "code",
     "collapsed": false,
     "input": [
      "s.name = 42"
     ],
     "language": "python",
     "metadata": {},
     "outputs": [
      {
       "output_type": "stream",
       "stream": "stdout",
       "text": [
        "Setting name to 42\n"
       ]
      },
      {
       "ename": "TypeError",
       "evalue": "Expected a string",
       "output_type": "pyerr",
       "traceback": [
        "\u001b[0;31m---------------------------------------------------------------------------\u001b[0m\n\u001b[0;31mTypeError\u001b[0m                                 Traceback (most recent call last)",
        "\u001b[0;32m<ipython-input-190-507a39ad0510>\u001b[0m in \u001b[0;36m<module>\u001b[0;34m()\u001b[0m\n\u001b[0;32m----> 1\u001b[0;31m \u001b[0ms\u001b[0m\u001b[0;34m.\u001b[0m\u001b[0mname\u001b[0m \u001b[0;34m=\u001b[0m \u001b[0;36m42\u001b[0m\u001b[0;34m\u001b[0m\u001b[0m\n\u001b[0m",
        "\u001b[0;32m<ipython-input-185-58c6329a9892>\u001b[0m in \u001b[0;36mname\u001b[0;34m(self, value)\u001b[0m\n\u001b[1;32m      8\u001b[0m     \u001b[0;32mdef\u001b[0m \u001b[0mname\u001b[0m\u001b[0;34m(\u001b[0m\u001b[0mself\u001b[0m\u001b[0;34m,\u001b[0m \u001b[0mvalue\u001b[0m\u001b[0;34m)\u001b[0m\u001b[0;34m:\u001b[0m\u001b[0;34m\u001b[0m\u001b[0m\n\u001b[1;32m      9\u001b[0m         \u001b[0mprint\u001b[0m\u001b[0;34m(\u001b[0m\u001b[0;34m'Setting name to'\u001b[0m\u001b[0;34m,\u001b[0m \u001b[0mvalue\u001b[0m\u001b[0;34m)\u001b[0m\u001b[0;34m\u001b[0m\u001b[0m\n\u001b[0;32m---> 10\u001b[0;31m         \u001b[0msuper\u001b[0m\u001b[0;34m(\u001b[0m\u001b[0mSubPerson\u001b[0m\u001b[0;34m,\u001b[0m \u001b[0mSubPerson\u001b[0m\u001b[0;34m)\u001b[0m\u001b[0;34m.\u001b[0m\u001b[0mname\u001b[0m\u001b[0;34m.\u001b[0m\u001b[0m__set__\u001b[0m\u001b[0;34m(\u001b[0m\u001b[0mself\u001b[0m\u001b[0;34m,\u001b[0m \u001b[0mvalue\u001b[0m\u001b[0;34m)\u001b[0m\u001b[0;34m\u001b[0m\u001b[0m\n\u001b[0m\u001b[1;32m     11\u001b[0m \u001b[0;34m\u001b[0m\u001b[0m\n\u001b[1;32m     12\u001b[0m     \u001b[0;34m@\u001b[0m\u001b[0mname\u001b[0m\u001b[0;34m.\u001b[0m\u001b[0mdeleter\u001b[0m\u001b[0;34m\u001b[0m\u001b[0m\n",
        "\u001b[0;32m<ipython-input-184-d7db69b108a2>\u001b[0m in \u001b[0;36mname\u001b[0;34m(self, value)\u001b[0m\n\u001b[1;32m     12\u001b[0m     \u001b[0;32mdef\u001b[0m \u001b[0mname\u001b[0m\u001b[0;34m(\u001b[0m\u001b[0mself\u001b[0m\u001b[0;34m,\u001b[0m \u001b[0mvalue\u001b[0m\u001b[0;34m)\u001b[0m\u001b[0;34m:\u001b[0m\u001b[0;34m\u001b[0m\u001b[0m\n\u001b[1;32m     13\u001b[0m         \u001b[0;32mif\u001b[0m \u001b[0;32mnot\u001b[0m \u001b[0misinstance\u001b[0m\u001b[0;34m(\u001b[0m\u001b[0mvalue\u001b[0m\u001b[0;34m,\u001b[0m \u001b[0mstr\u001b[0m\u001b[0;34m)\u001b[0m\u001b[0;34m:\u001b[0m\u001b[0;34m\u001b[0m\u001b[0m\n\u001b[0;32m---> 14\u001b[0;31m             \u001b[0;32mraise\u001b[0m \u001b[0mTypeError\u001b[0m\u001b[0;34m(\u001b[0m\u001b[0;34m'Expected a string'\u001b[0m\u001b[0;34m)\u001b[0m\u001b[0;34m\u001b[0m\u001b[0m\n\u001b[0m\u001b[1;32m     15\u001b[0m         \u001b[0mself\u001b[0m\u001b[0;34m.\u001b[0m\u001b[0m_name\u001b[0m \u001b[0;34m=\u001b[0m \u001b[0mvalue\u001b[0m\u001b[0;34m\u001b[0m\u001b[0m\n\u001b[1;32m     16\u001b[0m \u001b[0;34m\u001b[0m\u001b[0m\n",
        "\u001b[0;31mTypeError\u001b[0m: Expected a string"
       ]
      }
     ],
     "prompt_number": 190
    },
    {
     "cell_type": "markdown",
     "metadata": {},
     "source": [
      "- \ud504\ub85c\ud37c\ud2f0\uc758 \uba54\uc18c\ub4dc \ud558\ub098\ub97c \ud655\uc7a5\ud558\uace0 \uc2f6\uc73c\uba74 \ub2e4\uc74c\uacfc \uac19\uc740 \ucf54\ub4dc\ub97c \uc0ac\uc6a9"
     ]
    },
    {
     "cell_type": "code",
     "collapsed": false,
     "input": [
      "class SubPerson(Person):\n",
      "    @Person.name.getter\n",
      "    def name(self):\n",
      "        print('Getting name')\n",
      "        return super().name"
     ],
     "language": "python",
     "metadata": {},
     "outputs": [],
     "prompt_number": 191
    },
    {
     "cell_type": "markdown",
     "metadata": {},
     "source": [
      "- \ud639\uc740 setter \ud558\ub098\ub9cc \ud655\uc7a5\ud558\ub824\uba74 \ub2e4\uc74c\uacfc \uac19\uc774 \ud568"
     ]
    },
    {
     "cell_type": "code",
     "collapsed": false,
     "input": [
      "class SubPerson(Person):\n",
      "    @Person.name.setter\n",
      "    def name(self, value):\n",
      "        print('Setting name to', value)\n",
      "        super(SubPerson, SubPerson).name.__set__(self, value)"
     ],
     "language": "python",
     "metadata": {},
     "outputs": [],
     "prompt_number": 192
    },
    {
     "cell_type": "code",
     "collapsed": false,
     "input": [
      "help(super)"
     ],
     "language": "python",
     "metadata": {},
     "outputs": [
      {
       "output_type": "stream",
       "stream": "stdout",
       "text": [
        "Help on class super in module builtins:\n",
        "\n",
        "class super(object)\n",
        " |  super() -> same as super(__class__, <first argument>)\n",
        " |  super(type) -> unbound super object\n",
        " |  super(type, obj) -> bound super object; requires isinstance(obj, type)\n",
        " |  super(type, type2) -> bound super object; requires issubclass(type2, type)\n",
        " |  Typical use to call a cooperative superclass method:\n",
        " |  class C(B):\n",
        " |      def meth(self, arg):\n",
        " |          super().meth(arg)\n",
        " |  This works for class methods too:\n",
        " |  class C(B):\n",
        " |      @classmethod\n",
        " |      def cmeth(cls, arg):\n",
        " |          super().cmeth(arg)\n",
        " |  \n",
        " |  Methods defined here:\n",
        " |  \n",
        " |  __get__(self, instance, owner, /)\n",
        " |      Return an attribute of instance, which is of type owner.\n",
        " |  \n",
        " |  __getattribute__(self, name, /)\n",
        " |      Return getattr(self, name).\n",
        " |  \n",
        " |  __init__(self, /, *args, **kwargs)\n",
        " |      Initialize self.  See help(type(self)) for accurate signature.\n",
        " |  \n",
        " |  __new__(*args, **kwargs) from builtins.type\n",
        " |      Create and return a new object.  See help(type) for accurate signature.\n",
        " |  \n",
        " |  __repr__(self, /)\n",
        " |      Return repr(self).\n",
        " |  \n",
        " |  ----------------------------------------------------------------------\n",
        " |  Data descriptors defined here:\n",
        " |  \n",
        " |  __self__\n",
        " |      the instance invoking super(); may be None\n",
        " |  \n",
        " |  __self_class__\n",
        " |      the type of the instance invoking super(); may be None\n",
        " |  \n",
        " |  __thisclass__\n",
        " |      the class invoking super()\n",
        "\n"
       ]
      }
     ],
     "prompt_number": 193
    },
    {
     "cell_type": "markdown",
     "metadata": {},
     "source": [
      "### \ud1a0\ub860\n",
      "\n",
      "- \uc11c\ube0c\ud074\ub798\uc2a4\uc758 \ud504\ub85c\ud37c\ud2f0\ub97c \ud655\uc7a5\ud558\uba74 \ud504\ub85c\ud37c\ud2f0\uac00 \ud558\ub098\uc758 \uba54\uc18c\ub4dc\uac00 \uc544\ub2cc \uac8c\ud130, \uc138\ud130, \ub51c\ub9ac\ud130 \uba54\uc18c\ub4dc\uc758 \uceec\ub809\uc158\uc73c\ub85c \uc815\uc758\ub418\uc5c8\ub2e4\ub294 \uc0ac\uc2e4\ub85c \uc778\ud574 \uc790\uc798\ud55c \ubb38\uc81c\uac00 \ubc1c\uc0dd\ud55c\ub2e4. \ub530\ub77c\uc11c \ud504\ub85c\ud37c\ud2f0\ub97c \ud655\uc7a5\ud560 \ub54c **\ubaa8\ub4e0 \uba54\uc11c\ub4dc\ub97c \ub2e4\uc2dc \uc815\uc758**\ud560\uc9c0, **\uba54\uc18c\ub4dc \ud558\ub098\ub9cc \ub2e4\uc2dc \uc815\uc758**\ud560\uc9c0 \uacb0\uc815\ud574\uc57c \ud568\n",
      "- \uccab\ubc88\uc9f8 \uc608\uc81c\uc5d0\uc11c\ub294 \ubaa8\ub4e0 \uba54\uc11c\ub4dc\ub97c \uc7ac\uc815\uc758\ud588\ub2e4. \ubaa8\ub4e0 \uba54\uc18c\ub4dc\uc5d0\uc11c \uae30\uc874 \uad6c\ud604\uc744 \ud638\ucd9c\ud558\uae30 \uc704\ud574 super()\ub97c \uc0ac\uc6a9\ud588\ub2e4. \n",
      "- \uc138\ud130 \ud568\uc218\uc5d0\uc11c \uc0ac\uc6a9\ud55c super(SubPerson, SubPerson).name.\\_\\_set\\_\\_(self, value)\ub294 \uc2e4\uc218\uac00 \uc544\ub2c8\ub2e4.\n",
      "- \uc138\ud130\uc758 \uae30\uc874 \uad6c\ud604\uc73c\ub85c delegate \ud558\uae30 \uc704\ud574\uc11c, \ucee8\ud2b8\ub864\uc740 \uae30\uc874\uc5d0 \uad6c\ud604\ud55c name \ud504\ub85c\ud37c\ud2f0\uc758 \\_\\_set\\_\\_() \uba54\uc18c\ub4dc\ub85c \uc804\ub2ec\ud574\uc57c \ud568\n",
      "- \ud558\uc9c0\ub9cc, \uc774 \uba54\uc18c\ub4dc\uc5d0 \ub3c4\ub2ec\ud558\uae30 \uc704\ud55c \uc720\uc77c\ud55c \ubc29\ubc95\uc740 \uc778\uc2a4\ud134\uc2a4 \ubcc0\uc218\uac00 \uc544\ub2cc **\ud074\ub798\uc2a4 \ubcc0\uc218\ub85c \uc811\uadfc\ud558\ub294 \uac83**\n",
      "- \ubc14\ub85c \uc774 \ub0b4\uc6a9\uc774 super(SubPerson, SubPerson)\uc5d0\uc11c \uc218\ud589\ub41c \uac83\n",
      "- \uba54\uc18c\ub4dc \uc911 \ud558\ub098\ub9cc \uc7ac\uc815\uc758\ud558\ub824\uba74 @property \uc790\uccb4\ub9cc \uc0ac\uc6a9\ud558\ub294 \uac83\uc73c\ub85c\ub294 \ucda9\ubd84\ud558\uc9c0 \uc54a\ub2e4. \uc608\ub97c \ub4e4\uc5b4 \ub2e4\uc74c \ucf54\ub4dc\ub294 \ub3d9\uc791\ud558\uc9c0 \uc54a\uc74c"
     ]
    },
    {
     "cell_type": "code",
     "collapsed": false,
     "input": [
      "class SubPerson(Person):\n",
      "    @property # \ub3d9\uc791\ud558\uc9c0 \uc54a\uc74c\n",
      "    def name(self):\n",
      "        print('Getting name')\n",
      "        return super().name"
     ],
     "language": "python",
     "metadata": {},
     "outputs": [],
     "prompt_number": 194
    },
    {
     "cell_type": "markdown",
     "metadata": {},
     "source": [
      "- \uc774 \ucf54\ub4dc\ub97c \uc0ac\uc6a9\ud558\ub824\uace0 \ud558\uba74 \uc138\ud130 \ud568\uc218\uac00 \ubaa8\ub450 \uc0ac\ub77c\uc9c4 \uac83\uc744 \ud655\uc778\ud558\uac8c \ub428"
     ]
    },
    {
     "cell_type": "code",
     "collapsed": false,
     "input": [
      "s = SubPerson('Guido')"
     ],
     "language": "python",
     "metadata": {},
     "outputs": [
      {
       "ename": "AttributeError",
       "evalue": "can't set attribute",
       "output_type": "pyerr",
       "traceback": [
        "\u001b[0;31m---------------------------------------------------------------------------\u001b[0m\n\u001b[0;31mAttributeError\u001b[0m                            Traceback (most recent call last)",
        "\u001b[0;32m<ipython-input-195-076a286300e8>\u001b[0m in \u001b[0;36m<module>\u001b[0;34m()\u001b[0m\n\u001b[0;32m----> 1\u001b[0;31m \u001b[0ms\u001b[0m \u001b[0;34m=\u001b[0m \u001b[0mSubPerson\u001b[0m\u001b[0;34m(\u001b[0m\u001b[0;34m'Guido'\u001b[0m\u001b[0;34m)\u001b[0m\u001b[0;34m\u001b[0m\u001b[0m\n\u001b[0m",
        "\u001b[0;32m<ipython-input-184-d7db69b108a2>\u001b[0m in \u001b[0;36m__init__\u001b[0;34m(self, name)\u001b[0m\n\u001b[1;32m      1\u001b[0m \u001b[0;32mclass\u001b[0m \u001b[0mPerson\u001b[0m\u001b[0;34m:\u001b[0m\u001b[0;34m\u001b[0m\u001b[0m\n\u001b[1;32m      2\u001b[0m     \u001b[0;32mdef\u001b[0m \u001b[0m__init__\u001b[0m\u001b[0;34m(\u001b[0m\u001b[0mself\u001b[0m\u001b[0;34m,\u001b[0m \u001b[0mname\u001b[0m\u001b[0;34m)\u001b[0m\u001b[0;34m:\u001b[0m\u001b[0;34m\u001b[0m\u001b[0m\n\u001b[0;32m----> 3\u001b[0;31m         \u001b[0mself\u001b[0m\u001b[0;34m.\u001b[0m\u001b[0mname\u001b[0m \u001b[0;34m=\u001b[0m \u001b[0mname\u001b[0m\u001b[0;34m\u001b[0m\u001b[0m\n\u001b[0m\u001b[1;32m      4\u001b[0m \u001b[0;34m\u001b[0m\u001b[0m\n\u001b[1;32m      5\u001b[0m     \u001b[0;31m# \uac8c\ud130 \ud568\uc218\u001b[0m\u001b[0;34m\u001b[0m\u001b[0;34m\u001b[0m\u001b[0m\n",
        "\u001b[0;31mAttributeError\u001b[0m: can't set attribute"
       ]
      }
     ],
     "prompt_number": 195
    },
    {
     "cell_type": "markdown",
     "metadata": {},
     "source": [
      "- \ucf54\ub4dc\uc5d0 \ub098\uc654\ub358 \uac83\ucc98\ub7fc \uc218\uc815\ud574\uc57c \ud55c\ub2e4."
     ]
    },
    {
     "cell_type": "code",
     "collapsed": false,
     "input": [
      "class SubPerson(Person):\n",
      "    # \ucc45\uc5d0 .name. \uc774 \ube60\uc838\uc788\ub2e4.\n",
      "    @Person.name.getter\n",
      "    def name(self):\n",
      "        print('Getting name')\n",
      "        return super().name"
     ],
     "language": "python",
     "metadata": {},
     "outputs": [],
     "prompt_number": 199
    },
    {
     "cell_type": "markdown",
     "metadata": {},
     "source": [
      "- \uc774\ub807\uac8c \ud558\uba74, **\uae30\uc874\uc5d0 \uc815\uc758\ud55c \ubaa8\ub4e0 \ud504\ub85c\ud37c\ud2f0 \uba54\uc18c\ub4dc\uac00 \ubcf5\uc0ac**\ub418\uace0 **\uac8c\ud130 \ud568\uc218\uac00 \uce58\ud658**\ub428"
     ]
    },
    {
     "cell_type": "code",
     "collapsed": false,
     "input": [
      "s = SubPerson('Guido')"
     ],
     "language": "python",
     "metadata": {},
     "outputs": [],
     "prompt_number": 200
    },
    {
     "cell_type": "code",
     "collapsed": false,
     "input": [
      "s.name"
     ],
     "language": "python",
     "metadata": {},
     "outputs": [
      {
       "output_type": "stream",
       "stream": "stdout",
       "text": [
        "Getting name\n"
       ]
      },
      {
       "metadata": {},
       "output_type": "pyout",
       "prompt_number": 201,
       "text": [
        "'Guido'"
       ]
      }
     ],
     "prompt_number": 201
    },
    {
     "cell_type": "code",
     "collapsed": false,
     "input": [
      "s.name = 'Larry'"
     ],
     "language": "python",
     "metadata": {},
     "outputs": [],
     "prompt_number": 202
    },
    {
     "cell_type": "code",
     "collapsed": false,
     "input": [
      "s.name"
     ],
     "language": "python",
     "metadata": {},
     "outputs": [
      {
       "output_type": "stream",
       "stream": "stdout",
       "text": [
        "Getting name\n"
       ]
      },
      {
       "metadata": {},
       "output_type": "pyout",
       "prompt_number": 204,
       "text": [
        "'Larry'"
       ]
      }
     ],
     "prompt_number": 204
    },
    {
     "cell_type": "code",
     "collapsed": false,
     "input": [
      "s.name = 42"
     ],
     "language": "python",
     "metadata": {},
     "outputs": [
      {
       "ename": "TypeError",
       "evalue": "Expected a string",
       "output_type": "pyerr",
       "traceback": [
        "\u001b[0;31m---------------------------------------------------------------------------\u001b[0m\n\u001b[0;31mTypeError\u001b[0m                                 Traceback (most recent call last)",
        "\u001b[0;32m<ipython-input-205-507a39ad0510>\u001b[0m in \u001b[0;36m<module>\u001b[0;34m()\u001b[0m\n\u001b[0;32m----> 1\u001b[0;31m \u001b[0ms\u001b[0m\u001b[0;34m.\u001b[0m\u001b[0mname\u001b[0m \u001b[0;34m=\u001b[0m \u001b[0;36m42\u001b[0m\u001b[0;34m\u001b[0m\u001b[0m\n\u001b[0m",
        "\u001b[0;32m<ipython-input-197-d7db69b108a2>\u001b[0m in \u001b[0;36mname\u001b[0;34m(self, value)\u001b[0m\n\u001b[1;32m     12\u001b[0m     \u001b[0;32mdef\u001b[0m \u001b[0mname\u001b[0m\u001b[0;34m(\u001b[0m\u001b[0mself\u001b[0m\u001b[0;34m,\u001b[0m \u001b[0mvalue\u001b[0m\u001b[0;34m)\u001b[0m\u001b[0;34m:\u001b[0m\u001b[0;34m\u001b[0m\u001b[0m\n\u001b[1;32m     13\u001b[0m         \u001b[0;32mif\u001b[0m \u001b[0;32mnot\u001b[0m \u001b[0misinstance\u001b[0m\u001b[0;34m(\u001b[0m\u001b[0mvalue\u001b[0m\u001b[0;34m,\u001b[0m \u001b[0mstr\u001b[0m\u001b[0;34m)\u001b[0m\u001b[0;34m:\u001b[0m\u001b[0;34m\u001b[0m\u001b[0m\n\u001b[0;32m---> 14\u001b[0;31m             \u001b[0;32mraise\u001b[0m \u001b[0mTypeError\u001b[0m\u001b[0;34m(\u001b[0m\u001b[0;34m'Expected a string'\u001b[0m\u001b[0;34m)\u001b[0m\u001b[0;34m\u001b[0m\u001b[0m\n\u001b[0m\u001b[1;32m     15\u001b[0m         \u001b[0mself\u001b[0m\u001b[0;34m.\u001b[0m\u001b[0m_name\u001b[0m \u001b[0;34m=\u001b[0m \u001b[0mvalue\u001b[0m\u001b[0;34m\u001b[0m\u001b[0m\n\u001b[1;32m     16\u001b[0m \u001b[0;34m\u001b[0m\u001b[0m\n",
        "\u001b[0;31mTypeError\u001b[0m: Expected a string"
       ]
      }
     ],
     "prompt_number": 205
    },
    {
     "cell_type": "markdown",
     "metadata": {},
     "source": [
      "- \uc774 \ud574\uacb0\ucc45\uc73c\ub85c\ub294 \ud558\ub4dc\ucf54\ub529\ub41c \ud074\ub798\uc2a4 \uc774\ub984 Person\uc744 \uc880 \ub354 generic \ud55c \uac83\uc73c\ub85c \uce58\ud658\ud560 \ubc29\ubc95\uc774 \uc5c6\uc74c\n",
      "- \uc5b4\ub5a4 \ubca0\uc774\uc2a4 \ud074\ub798\uc2a4\uac00 \ud504\ub85c\ud37c\ud2f0\ub97c \uc815\uc758\ud588\ub294\uc9c0 \ubaa8\ub978\ub2e4\uba74 \ubaa8\ub4e0 \ud504\ub85c\ud37c\ud2f0 \uba54\uc18c\ub4dc\ub97c \uc7ac\uc815\uc758\ud558\uace0 super()\ub85c \uae30\uc874 \uad6c\ud604\uc5d0 \ucee8\ud2b8\ub864\uc744 \uc804\ub2ec\ud558\ub294 \ubc29\uc2dd\uc744 \uc0ac\uc6a9\ud574\uc57c \ud568\n",
      "- \ub808\uc2dc\ud53c 8.9\uc5d0 \ub098\uc628 \uac83\ucc98\ub7fc \uc774\ubc88 \ub808\uc2dc\ud53c\uc5d0 \ub098\uc628 \uccab \ubc88\uc9f8 \uae30\uc220\uc744 \ub514\uc2a4\ud06c\ub9bd\ud130\ub97c \ud655\uc7a5\ud558\ub294 \ub370 \uc0ac\uc6a9\ud560 \uc218\ub3c4 \uc788\uc74c"
     ]
    },
    {
     "cell_type": "code",
     "collapsed": false,
     "input": [
      "# \ub514\uc2a4\ud06c\ub9bd\ud130\n",
      "class String:\n",
      "    def __init__(self, name):\n",
      "        self.name = name\n",
      "        \n",
      "    def __get__(self, instance, cls):\n",
      "        if instance is None:\n",
      "            return self\n",
      "        return instance.__dict__[self.name]\n",
      "    \n",
      "    def __set__(self, instance, value):\n",
      "        if not isinstance(value, str):\n",
      "            raise TypeError('Expected a string')\n",
      "        instance.__dict__[self.name] = value\n",
      "        \n",
      "# \ub514\uc2a4\ud06c\ub9bd\ud130\ub97c \uac00\uc9c4 \ud074\ub798\uc2a4\n",
      "class Person:\n",
      "    name = String('name')\n",
      "    def __init__(self, name):\n",
      "        self.name = name\n",
      "        \n",
      "# \ub514\uc2a4\ud06c\ub9bd\ud130\uc5d0 \ud504\ub85c\ud37c\ud2f0\ub97c \ub123\uc5b4 \ud655\uc7a5\n",
      "class SubPerson(Person):\n",
      "    @property\n",
      "    def name(self):\n",
      "        print('Getting name')\n",
      "        return super().name\n",
      "    \n",
      "    @name.setter\n",
      "    def name(self, value):\n",
      "        print('Setting name to', value)\n",
      "        super(SubPerson, SubPerson).name.__set__(self, value)\n",
      "        \n",
      "    @name.deleter\n",
      "    def name(self):\n",
      "        print('Deleting name')\n",
      "        super(SubPerson, SubPerson).name.__delete__(self)"
     ],
     "language": "python",
     "metadata": {},
     "outputs": [],
     "prompt_number": 206
    },
    {
     "cell_type": "code",
     "collapsed": false,
     "input": [
      "s = SubPerson('Guido')"
     ],
     "language": "python",
     "metadata": {},
     "outputs": [
      {
       "output_type": "stream",
       "stream": "stdout",
       "text": [
        "Setting name to Guido\n"
       ]
      }
     ],
     "prompt_number": 207
    },
    {
     "cell_type": "code",
     "collapsed": false,
     "input": [
      "s.name"
     ],
     "language": "python",
     "metadata": {},
     "outputs": [
      {
       "output_type": "stream",
       "stream": "stdout",
       "text": [
        "Getting name\n"
       ]
      },
      {
       "metadata": {},
       "output_type": "pyout",
       "prompt_number": 208,
       "text": [
        "'Guido'"
       ]
      }
     ],
     "prompt_number": 208
    },
    {
     "cell_type": "code",
     "collapsed": false,
     "input": [
      "s.name = 'Larry'"
     ],
     "language": "python",
     "metadata": {},
     "outputs": [
      {
       "output_type": "stream",
       "stream": "stdout",
       "text": [
        "Setting name to Larry\n"
       ]
      }
     ],
     "prompt_number": 209
    },
    {
     "cell_type": "code",
     "collapsed": false,
     "input": [
      "s.name"
     ],
     "language": "python",
     "metadata": {},
     "outputs": [
      {
       "output_type": "stream",
       "stream": "stdout",
       "text": [
        "Getting name\n"
       ]
      },
      {
       "metadata": {},
       "output_type": "pyout",
       "prompt_number": 210,
       "text": [
        "'Larry'"
       ]
      }
     ],
     "prompt_number": 210
    },
    {
     "cell_type": "code",
     "collapsed": false,
     "input": [
      "s.name = 42"
     ],
     "language": "python",
     "metadata": {},
     "outputs": [
      {
       "output_type": "stream",
       "stream": "stdout",
       "text": [
        "Setting name to 42\n"
       ]
      },
      {
       "ename": "TypeError",
       "evalue": "Expected a string",
       "output_type": "pyerr",
       "traceback": [
        "\u001b[0;31m---------------------------------------------------------------------------\u001b[0m\n\u001b[0;31mTypeError\u001b[0m                                 Traceback (most recent call last)",
        "\u001b[0;32m<ipython-input-211-507a39ad0510>\u001b[0m in \u001b[0;36m<module>\u001b[0;34m()\u001b[0m\n\u001b[0;32m----> 1\u001b[0;31m \u001b[0ms\u001b[0m\u001b[0;34m.\u001b[0m\u001b[0mname\u001b[0m \u001b[0;34m=\u001b[0m \u001b[0;36m42\u001b[0m\u001b[0;34m\u001b[0m\u001b[0m\n\u001b[0m",
        "\u001b[0;32m<ipython-input-206-7bba40ec712b>\u001b[0m in \u001b[0;36mname\u001b[0;34m(self, value)\u001b[0m\n\u001b[1;32m     30\u001b[0m     \u001b[0;32mdef\u001b[0m \u001b[0mname\u001b[0m\u001b[0;34m(\u001b[0m\u001b[0mself\u001b[0m\u001b[0;34m,\u001b[0m \u001b[0mvalue\u001b[0m\u001b[0;34m)\u001b[0m\u001b[0;34m:\u001b[0m\u001b[0;34m\u001b[0m\u001b[0m\n\u001b[1;32m     31\u001b[0m         \u001b[0mprint\u001b[0m\u001b[0;34m(\u001b[0m\u001b[0;34m'Setting name to'\u001b[0m\u001b[0;34m,\u001b[0m \u001b[0mvalue\u001b[0m\u001b[0;34m)\u001b[0m\u001b[0;34m\u001b[0m\u001b[0m\n\u001b[0;32m---> 32\u001b[0;31m         \u001b[0msuper\u001b[0m\u001b[0;34m(\u001b[0m\u001b[0mSubPerson\u001b[0m\u001b[0;34m,\u001b[0m \u001b[0mSubPerson\u001b[0m\u001b[0;34m)\u001b[0m\u001b[0;34m.\u001b[0m\u001b[0mname\u001b[0m\u001b[0;34m.\u001b[0m\u001b[0m__set__\u001b[0m\u001b[0;34m(\u001b[0m\u001b[0mself\u001b[0m\u001b[0;34m,\u001b[0m \u001b[0mvalue\u001b[0m\u001b[0;34m)\u001b[0m\u001b[0;34m\u001b[0m\u001b[0m\n\u001b[0m\u001b[1;32m     33\u001b[0m \u001b[0;34m\u001b[0m\u001b[0m\n\u001b[1;32m     34\u001b[0m     \u001b[0;34m@\u001b[0m\u001b[0mname\u001b[0m\u001b[0;34m.\u001b[0m\u001b[0mdeleter\u001b[0m\u001b[0;34m\u001b[0m\u001b[0m\n",
        "\u001b[0;32m<ipython-input-206-7bba40ec712b>\u001b[0m in \u001b[0;36m__set__\u001b[0;34m(self, instance, value)\u001b[0m\n\u001b[1;32m     11\u001b[0m     \u001b[0;32mdef\u001b[0m \u001b[0m__set__\u001b[0m\u001b[0;34m(\u001b[0m\u001b[0mself\u001b[0m\u001b[0;34m,\u001b[0m \u001b[0minstance\u001b[0m\u001b[0;34m,\u001b[0m \u001b[0mvalue\u001b[0m\u001b[0;34m)\u001b[0m\u001b[0;34m:\u001b[0m\u001b[0;34m\u001b[0m\u001b[0m\n\u001b[1;32m     12\u001b[0m         \u001b[0;32mif\u001b[0m \u001b[0;32mnot\u001b[0m \u001b[0misinstance\u001b[0m\u001b[0;34m(\u001b[0m\u001b[0mvalue\u001b[0m\u001b[0;34m,\u001b[0m \u001b[0mstr\u001b[0m\u001b[0;34m)\u001b[0m\u001b[0;34m:\u001b[0m\u001b[0;34m\u001b[0m\u001b[0m\n\u001b[0;32m---> 13\u001b[0;31m             \u001b[0;32mraise\u001b[0m \u001b[0mTypeError\u001b[0m\u001b[0;34m(\u001b[0m\u001b[0;34m'Expected a string'\u001b[0m\u001b[0;34m)\u001b[0m\u001b[0;34m\u001b[0m\u001b[0m\n\u001b[0m\u001b[1;32m     14\u001b[0m         \u001b[0minstance\u001b[0m\u001b[0;34m.\u001b[0m\u001b[0m__dict__\u001b[0m\u001b[0;34m[\u001b[0m\u001b[0mself\u001b[0m\u001b[0;34m.\u001b[0m\u001b[0mname\u001b[0m\u001b[0;34m]\u001b[0m \u001b[0;34m=\u001b[0m \u001b[0mvalue\u001b[0m\u001b[0;34m\u001b[0m\u001b[0m\n\u001b[1;32m     15\u001b[0m \u001b[0;34m\u001b[0m\u001b[0m\n",
        "\u001b[0;31mTypeError\u001b[0m: Expected a string"
       ]
      }
     ],
     "prompt_number": 211
    },
    {
     "cell_type": "markdown",
     "metadata": {},
     "source": [
      "- \ub9c8\uc9c0\ub9c9\uc73c\ub85c, \ub3c5\uc790\uac00 \uc774 \uae00\uc744 \uc77d\uace0 \uc788\uc744 \ub54c\ucbe4\uc774\uba74 \uc138\ud130\uc640 \ub51c\ub9ac\ud130 \uba54\uc18c\ub4dc\ub97c \uc11c\ud06c\ub97c\ub798\uc2f1\ud558\ub294 \uacfc\uc815\uc774 \ub2e8\uc21c\ud654\ub418\uc5c8\uc744 \uc218\ub3c4 \uc788\ub2e4.\n",
      "- \uc55e\uc5d0 \ub098\uc628 \ud574\uacb0\ucc45\uc740 \uc5ec\uc804\ud788 \uc798 \ub3d9\uc791\ud560 \ud14c\uc9c0\ub9cc, \ud30c\uc774\uc36c\uc758 \uc774\uc288 \ud398\uc774\uc9c0\uc5d0 \ubcf4\uace0\ub41c \ubc84\uadf8\uac00 \ucd5c\uc2e0 \ud30c\uc774\uc36c \ubc84\uc804\uc5d0\uc11c \uc218\uc815\ub418\uc5c8\uc744\uc9c0\ub3c4 \ubaa8\ub978\ub2e4."
     ]
    },
    {
     "cell_type": "markdown",
     "metadata": {},
     "source": [
      "## 8.9 \uc0c8\ub85c\uc6b4 \ud074\ub798\uc2a4\ub098 \uc778\uc2a4\ud134\uc2a4 \uc18d\uc131 \ub9cc\ub4e4\uae30\n",
      "\n",
      "### \ubb38\uc81c\n",
      "\n",
      "- \ud0c0\uc785 \ud638\uac00\uc778 \ub4f1\uacfc \uac19\uc774 \ucd94\uac00\uc801 \uae30\ub2a5\uc744 \uac00\uc9c4 \uc0c8\ub85c\uc6b4 \uc885\ub958\uc758 \uc778\uc2a4\ud134\uc2a4 \uc18d\uc131\uc744 \ub9cc\ub4e4\uace0 \uc2f6\ub2e4.\n",
      "\n",
      "### \ud574\uacb0\n",
      "\n",
      "- \uc644\uc804\ud788 \uc0c8\ub85c\uc6b4 \uc885\ub958\uc758 \uc778\uc2a4\ud134\uc2a4 \uc18d\uc131\uc744 \ub9cc\ub4e4\ub824\uba74, \uadf8 \uae30\ub2a5\uc744 \ub514\uc2a4\ud06c\ub9bd\ud130 \ud074\ub798\uc2a4 \ud615\ud0dc\ub85c \uc815\uc758\ud574\uc57c \ud568"
     ]
    },
    {
     "cell_type": "code",
     "collapsed": false,
     "input": [
      "# \ud0c0\uc785\uc744 \ud655\uc778\ud558\ub294 \uc815\uc218\ud615 \ub514\uc2a4\ud06c\ub9bd\ud130 \uc18d\uc131\n",
      "class Integer:\n",
      "    def __init__(self, name):\n",
      "        self.name = name\n",
      "        \n",
      "    def __get__(self, instance, cls):\n",
      "        if instance is None:\n",
      "            return self\n",
      "        else:\n",
      "            return instance.__dict__[self.name]\n",
      "        \n",
      "    def __set__(self, instance, value):\n",
      "        if not isinstance(value, int):\n",
      "            raise TypeError('Expected an int')\n",
      "        instance.__dict__[self.name] = value\n",
      "        \n",
      "    def __delete__(self, instance):\n",
      "        del instance.__dict__[self.name]"
     ],
     "language": "python",
     "metadata": {},
     "outputs": [],
     "prompt_number": 221
    },
    {
     "cell_type": "markdown",
     "metadata": {},
     "source": [
      "- \ub514\uc2a4\ud06c\ub9bd\ud130\ub294 3\uac00\uc9c0 \uc911\uc694\ud55c \uc18d\uc131 \uc811\uadfc \uba85\ub839(get, set, delete)\uc744 \ud2b9\ubcc4 \uba54\uc18c\ub4dc \\_\\_get\\_\\_(), \\_\\_set\\_\\_(), \\_\\_delete\\_\\_() \ud615\uc2dd\uc73c\ub85c \uad6c\ud604\ud55c \ud074\ub798\uc2a4\n",
      "- \uc774 \uba54\uc18c\ub4dc\ub294 \uc778\uc2a4\ud134\uc2a4\ub97c \uc785\ub825\uc73c\ub85c \ubc1b\ub294\ub2e4. \uadf8\ub9ac\uace0 \uc778\uc2a4\ud134\uc2a4 \uae30\ubc18 \ub515\uc154\ub108\ub9ac\ub294 \uc18d\uc131\uc73c\ub85c \ub9cc\ub4e4\uc5b4\uc9d0\n",
      "- \ub514\uc2a4\ud06c\ub9bd\ud130\ub97c \uc0ac\uc6a9\ud558\ub824\uba74, \ub514\uc2a4\ud06c\ub9bd\ud130\uc758 \uc778\uc2a4\ud134\uc2a4\ub294 \ud074\ub798\uc2a4 \uc815\uc758\uc5d0 \ud074\ub798\uc2a4 \ubcc0\uc218\ub85c \ub4e4\uc5b4\uac00\uc57c \ud568"
     ]
    },
    {
     "cell_type": "code",
     "collapsed": false,
     "input": [
      "class Point:\n",
      "    x = Integer('x')\n",
      "    y = Integer('y')\n",
      "    def __init__(self, x, y):\n",
      "        self.x = x\n",
      "        self.y = y"
     ],
     "language": "python",
     "metadata": {},
     "outputs": [],
     "prompt_number": 222
    },
    {
     "cell_type": "markdown",
     "metadata": {},
     "source": [
      "- \uc774\ub807\uac8c \ud560 \ub54c, \ub514\uc2a4\ud06c\ub9bd\ud130\uc5d0 \ub300\ud55c \ubaa8\ub4e0 \uc811\uadfc(\uc608:x \ub610\ub294 y)\uc740 \\_\\_get\\_\\_(), \\_\\_set\\_\\_(), \\_\\_delete\\_\\_() \uba54\uc18c\ub4dc\ub97c \uc0ac\uc6a9"
     ]
    },
    {
     "cell_type": "code",
     "collapsed": false,
     "input": [
      "p = Point(2, 3)"
     ],
     "language": "python",
     "metadata": {},
     "outputs": [],
     "prompt_number": 214
    },
    {
     "cell_type": "code",
     "collapsed": false,
     "input": [
      "# Point.x.__get__(p, Point) \ud638\ucd9c\n",
      "p.x"
     ],
     "language": "python",
     "metadata": {},
     "outputs": [
      {
       "metadata": {},
       "output_type": "pyout",
       "prompt_number": 215,
       "text": [
        "2"
       ]
      }
     ],
     "prompt_number": 215
    },
    {
     "cell_type": "code",
     "collapsed": false,
     "input": [
      "# Point.y.__set__(p, 5) \ud638\ucd9c\n",
      "p.y = 5"
     ],
     "language": "python",
     "metadata": {},
     "outputs": [],
     "prompt_number": 216
    },
    {
     "cell_type": "code",
     "collapsed": false,
     "input": [
      "# Point.x.__set__(p, 2.3) \ud638\ucd9c\n",
      "p.x = 2.3"
     ],
     "language": "python",
     "metadata": {},
     "outputs": [
      {
       "ename": "TypeError",
       "evalue": "Expected an int",
       "output_type": "pyerr",
       "traceback": [
        "\u001b[0;31m---------------------------------------------------------------------------\u001b[0m\n\u001b[0;31mTypeError\u001b[0m                                 Traceback (most recent call last)",
        "\u001b[0;32m<ipython-input-217-ead4f2e85597>\u001b[0m in \u001b[0;36m<module>\u001b[0;34m()\u001b[0m\n\u001b[1;32m      1\u001b[0m \u001b[0;31m# Point.x.__set__(p, 2.3) \ud638\ucd9c\u001b[0m\u001b[0;34m\u001b[0m\u001b[0;34m\u001b[0m\u001b[0m\n\u001b[0;32m----> 2\u001b[0;31m \u001b[0mp\u001b[0m\u001b[0;34m.\u001b[0m\u001b[0mx\u001b[0m \u001b[0;34m=\u001b[0m \u001b[0;36m2.3\u001b[0m\u001b[0;34m\u001b[0m\u001b[0m\n\u001b[0m",
        "\u001b[0;32m<ipython-input-212-9364f87214f7>\u001b[0m in \u001b[0;36m__set__\u001b[0;34m(self, instance, value)\u001b[0m\n\u001b[1;32m     12\u001b[0m     \u001b[0;32mdef\u001b[0m \u001b[0m__set__\u001b[0m\u001b[0;34m(\u001b[0m\u001b[0mself\u001b[0m\u001b[0;34m,\u001b[0m \u001b[0minstance\u001b[0m\u001b[0;34m,\u001b[0m \u001b[0mvalue\u001b[0m\u001b[0;34m)\u001b[0m\u001b[0;34m:\u001b[0m\u001b[0;34m\u001b[0m\u001b[0m\n\u001b[1;32m     13\u001b[0m         \u001b[0;32mif\u001b[0m \u001b[0;32mnot\u001b[0m \u001b[0misinstance\u001b[0m\u001b[0;34m(\u001b[0m\u001b[0mvalue\u001b[0m\u001b[0;34m,\u001b[0m \u001b[0mint\u001b[0m\u001b[0;34m)\u001b[0m\u001b[0;34m:\u001b[0m\u001b[0;34m\u001b[0m\u001b[0m\n\u001b[0;32m---> 14\u001b[0;31m             \u001b[0;32mraise\u001b[0m \u001b[0mTypeError\u001b[0m\u001b[0;34m(\u001b[0m\u001b[0;34m'Expected an int'\u001b[0m\u001b[0;34m)\u001b[0m\u001b[0;34m\u001b[0m\u001b[0m\n\u001b[0m\u001b[1;32m     15\u001b[0m         \u001b[0minstance\u001b[0m\u001b[0;34m.\u001b[0m\u001b[0m__dict__\u001b[0m\u001b[0;34m[\u001b[0m\u001b[0mself\u001b[0m\u001b[0;34m.\u001b[0m\u001b[0mname\u001b[0m\u001b[0;34m]\u001b[0m \u001b[0;34m=\u001b[0m \u001b[0mvalue\u001b[0m\u001b[0;34m\u001b[0m\u001b[0m\n\u001b[1;32m     16\u001b[0m \u001b[0;34m\u001b[0m\u001b[0m\n",
        "\u001b[0;31mTypeError\u001b[0m: Expected an int"
       ]
      }
     ],
     "prompt_number": 217
    },
    {
     "cell_type": "markdown",
     "metadata": {},
     "source": [
      "- \uc785\ub825\uc73c\ub85c, \ub514\uc2a4\ud06c\ub9bd\ud130\uc758 \ubaa8\ub4e0 \uba54\uc18c\ub4dc\ub294 \uac00\uacf5\uc911\uc778 \uc778\uc2a4\ud134\uc2a4\ub97c \ubc1b\uc74c\n",
      "- \uc694\uccad\ubc1b\uc740 \uc791\uc5c5\uc744 \uc218\ud589\ud558\uae30 \uc704\ud574\uc11c, \uc778\uc2a4\ud134\uc2a4 \ub515\uc154\ub108\ub9ac(\\_\\_dict\\_\\_ \uc18d\uc131) \uc5ed\uc2dc \uc801\uc808\ud788 \ucc98\ub9ac\ub428\n",
      "- \ub514\uc2a4\ud06c\ub9bd\ud130\uc758 self.name \uc18d\uc131\uc740 \uc2e4\uc81c \ub370\uc774\ud130\ub97c \uc778\uc2a4\ud134\uc2a4 \ub515\uc154\ub108\ub9ac\uc5d0 \uc800\uc7a5\ud560 \ub54c \uc0ac\uc6a9\ud558\ub294 \ub515\uc154\ub108\ub9ac \ud0a4\ub97c \uac00\uc9c0\uace0 \uc788\uc74c"
     ]
    },
    {
     "cell_type": "markdown",
     "metadata": {},
     "source": [
      "### \ud1a0\ub860\n",
      "\n",
      "- \ub514\uc2a4\ud06c\ub9bd\ud130\ub294 \ud30c\uc774\uc36c \ud074\ub798\uc2a4 \uae30\ub2a5\uc5d0 \\_\\_slots\\_\\_, @classmethod, @staticmethod, @property \uc640 \uba4b\uc9c4 \ub3c4\uad6c\ub97c \uc81c\uacf5\n",
      "- \ub514\uc2a4\ud06c\ub9bd\ud130\ub97c \uc815\uc758\ud558\uba74 get, set, delete \uc640 \uac19\uc774 \uc911\uc694\ud55c \uc778\uc2a4\ud134\uc2a4 \uc5f0\uc0b0\uc744 \uc544\uc8fc \ud558\uc704 \ub808\ubca8\uc5d0\uc11c \uc5bb\uace0 \uc5b4\ub5bb\uac8c \ub3d9\uc791\ud560\uc9c0\ub3c4 \uc785\ub9db\ub300\ub85c \ubc14\uafc0 \uc218 \uc788\uc74c\n",
      "- \ub530\ub77c\uc11c \uace0\uae09 \ub77c\uc774\ube0c\ub7ec\ub9ac\uc640 \ud504\ub808\uc784\uc6cc\ud06c\ub97c \uc791\uc131\ud558\ub294 \ud504\ub85c\uadf8\ub798\uba38\uc5d0\uac8c \ub9e4\uc6b0 \uc911\uc694\ud55c \ub3c4\uad6c\uac00 \ub428\n",
      "- \ub514\uc2a4\ud06c\ub9bd\ud130\uc5d0 \ub300\ud55c \ud55c \uac00\uc9c0 \ud5f7\uac08\ub9ac\ub294 \ubd80\ubd84\uc740 \uc778\uc2a4\ud134\uc2a4 \uae30\ubc18\uc774 \uc544\ub2cc \ud074\ub798\uc2a4 \ub808\ubca8\uc5d0\uc11c\ub9cc \uc815\uc758\uac00 \uac00\ub2a5\ud558\ub2e4\ub294 \uac83\n",
      "- \ub530\ub77c\uc11c \ub2e4\uc74c\uacfc \uac19\uc740 \ucf54\ub4dc\ub294 \ub3d9\uc791\ud558\uc9c0 \uc54a\uc74c"
     ]
    },
    {
     "cell_type": "code",
     "collapsed": false,
     "input": [
      "# \ub3d9\uc791\ud558\uc9c0 \uc54a\uc74c\n",
      "class Point:\n",
      "    def __init__(self, x, y):\n",
      "        # \uc548 \ub41c\ub2e4. \ubc18\ub4dc\uc2dc \ud074\ub798\uc2a4 \ubcc0\uc218\uc5ec\uc57c \ud55c\ub2e4.\n",
      "        self.x = Integer('x')\n",
      "        self.y = Integer('y')\n",
      "        self.x = x\n",
      "        self.y = y"
     ],
     "language": "python",
     "metadata": {},
     "outputs": [],
     "prompt_number": 218
    },
    {
     "cell_type": "markdown",
     "metadata": {},
     "source": [
      "- \ub610\ud55c \\_\\_get\\_\\_() \uba54\uc18c\ub4dc\ub97c \uad6c\ud604\ud558\ub294 \uac83\ub3c4 \ubcf4\uae30\ubcf4\ub2e4 \uac04\ub2e8\ud558\uc9c0 \uc54a\uc74c"
     ]
    },
    {
     "cell_type": "code",
     "collapsed": false,
     "input": [
      "# \ud0c0\uc785\uc744 \ud655\uc778\ud558\ub294 \uc815\uc218\ud615 \ub514\uc2a4\ud06c\ub9bd\ud130 \uc18d\uc131\n",
      "class Integer:\n",
      "    def __get__(self, instance, cls):\n",
      "        if instance is None:\n",
      "            return self\n",
      "        else:\n",
      "            return instance.__idct__[self.name]"
     ],
     "language": "python",
     "metadata": {},
     "outputs": [],
     "prompt_number": 219
    },
    {
     "cell_type": "markdown",
     "metadata": {},
     "source": [
      "- \\_\\_get\\_\\_()\uc774 \uc870\uae08 \ubcf5\uc7a1\ud574 \ubcf4\uc774\ub294 \uc774\uc720\ub294 \uc778\uc2a4\ud134\uc2a4 \ubcc0\uc218\uc640 \ud074\ub798\uc2a4 \ubcc0\uc218\ub97c \uad6c\ubd84\ud574\uc57c \ud558\uae30 \ub54c\ubb38\n",
      "- \ub9cc\uc57d \ub514\uc2a4\ud06c\ub9bd\ud130\ub97c \ud074\ub798\uc2a4 \ubcc0\uc218\ub85c \uc811\uadfc\ud558\uba74 instance \uc778\uc790\uac00 None\uc774 \ub428\n",
      "- \uc774 \uacbd\uc6b0\uc5d0\ub294 \ub514\uc2a4\ud06c\ub9bd\ud130 \uc790\uc2e0\uc744 \ubc18\ud658\ud558\ub294 \uac83\uc774 \uc77c\ubc18\uc801(\ubb3c\ub860 \ub2e4\ub978 \ucc98\ub9ac\ub97c \ud574\ub3c4 \ubb34\ubc29\ud558\ub2e4)"
     ]
    },
    {
     "cell_type": "code",
     "collapsed": false,
     "input": [
      "p = Point(2, 3)"
     ],
     "language": "python",
     "metadata": {},
     "outputs": [],
     "prompt_number": 223
    },
    {
     "cell_type": "code",
     "collapsed": false,
     "input": [
      "# Point.x.__get__(p, Point) \ud638\ucd9c\n",
      "p.x"
     ],
     "language": "python",
     "metadata": {},
     "outputs": [
      {
       "metadata": {},
       "output_type": "pyout",
       "prompt_number": 224,
       "text": [
        "2"
       ]
      }
     ],
     "prompt_number": 224
    },
    {
     "cell_type": "code",
     "collapsed": false,
     "input": [
      "# Point.x__get__(None, Point) \ud638\ucd9c\n",
      "Point.x"
     ],
     "language": "python",
     "metadata": {},
     "outputs": [
      {
       "metadata": {},
       "output_type": "pyout",
       "prompt_number": 225,
       "text": [
        "<__main__.Integer at 0x104eadeb8>"
       ]
      }
     ],
     "prompt_number": 225
    },
    {
     "cell_type": "markdown",
     "metadata": {},
     "source": [
      "- \ub514\uc2a4\ud06c\ub9bd\ud130\ub294 \ub370\ucf54\ub808\uc774\ud130\ub098 \uba54\ud0c0\ud074\ub798\uc2a4\uac00 \ub4e4\uc5b4\uac00\ub294 \uac70\ub300\ud55c \ud504\ub85c\uadf8\ub798\ubc0d \ud504\ub808\uc784\uc6cc\ud06c\uc758 \ud55c \uac00\uc9c0 \uc694\uc18c\uac00 \ub418\uace4 \ud568\n",
      "- \ubcf4\ud1b5 \ub514\uc2a4\ud06c\ub9bd\ud130\uc758 \uc0ac\uc6a9\uc740 \uac89\uc73c\ub85c \ub4dc\ub7ec\ub098\uc9c0 \uc54a\uc544 \uc0ac\uc6a9\uc790\uc5d0\uac8c \ubcf4\uc774\uc9c0 \uc54a\uc74c\n",
      "- \ub2e4\uc74c\uc740 \ud074\ub798\uc2a4 \ub370\ucf54\ub808\uc774\ud130\ub97c \uc0ac\uc6a9\ud558\ub294 \ub514\uc2a4\ud06c\ub9bd\ud130 \uae30\ubc18\uc758 \uace0\uae09 \ucf54\ub4dc"
     ]
    },
    {
     "cell_type": "code",
     "collapsed": false,
     "input": [
      "# \uc18d\uc131 \ud0c0\uc785\uc744 \ud655\uc778\ud558\ub294 \ub514\uc2a4\ud06c\ub9bd\ud130\n",
      "class Typed:\n",
      "    def __init__(self, name, expected_type):\n",
      "        self.name = name\n",
      "        self.expected_type = expected_type\n",
      "        \n",
      "    def __get__(self, instance, cls):\n",
      "        if instance is None:\n",
      "            return self\n",
      "        else:\n",
      "            return instance.__dict__[self.name]\n",
      "        \n",
      "    def __set__(self, instance, value):\n",
      "        if not isinstance(value, self.expected_type):\n",
      "            raise TypeError('Expected ' + str(self.expected_type))\n",
      "        instance.__dict__[self.name] = value\n",
      "        \n",
      "    def __delete__(self, instance):\n",
      "        del instance.__dict__[self.name]\n",
      "        \n",
      "    "
     ],
     "language": "python",
     "metadata": {},
     "outputs": [],
     "prompt_number": 227
    },
    {
     "cell_type": "code",
     "collapsed": false,
     "input": [
      "# \uc120\ud0dd\ud55c \uc18d\uc131\uc5d0 \uc801\uc6a9\ub418\ub294 \ud074\ub798\uc2a4 \ub370\ucf54\ub808\uc774\ud130(decorator)\n",
      "def typeassert(**kwargs):\n",
      "    def decorate(cls):\n",
      "        for name, expected_type in kwargs.items():\n",
      "            # \ud074\ub798\uc2a4\uc5d0 Typed \ub514\uc2a4\ud06c\ub9bd\ud130 \uc124\uc815\n",
      "            setattr(cls, name, Typed(name, expected_type))\n",
      "        return cls\n",
      "    return decorate\n",
      "\n",
      "# \uc0ac\uc6a9 \uc608\n",
      "@typeassert(name=str, shares=int, price=float)\n",
      "class Stock:\n",
      "    def __init__(self, name, shares, price):\n",
      "        self.name = name\n",
      "        self.shares = shares\n",
      "        self.price = price"
     ],
     "language": "python",
     "metadata": {},
     "outputs": [],
     "prompt_number": 228
    },
    {
     "cell_type": "code",
     "collapsed": false,
     "input": [
      "help(setattr)"
     ],
     "language": "python",
     "metadata": {},
     "outputs": [
      {
       "output_type": "stream",
       "stream": "stdout",
       "text": [
        "Help on built-in function setattr in module builtins:\n",
        "\n",
        "setattr(...)\n",
        "    setattr(object, name, value)\n",
        "    \n",
        "    Set a named attribute on an object; setattr(x, 'y', v) is equivalent to\n",
        "    ``x.y = v''.\n",
        "\n"
       ]
      }
     ],
     "prompt_number": 230
    },
    {
     "cell_type": "markdown",
     "metadata": {},
     "source": [
      "- \ub9c8\uc9c0\ub9c9\uc73c\ub85c, **\ud2b9\uc815 \ud074\ub798\uc2a4\uc758 \ud55c \uc18d\uc131\uc5d0 \ub300\ud55c \uc811\uadfc\uc744 \uc81c\uc5b4**\ud558\uae30 \uc704\ud574\uc11c **\ub514\uc2a4\ud06c\ub9bd\ud130\ub97c \uc0ac\uc6a9\ud558\uc9c0 \ub9d0\uc544\uc57c \ud55c\ub2e4\ub294 \uc810**\uc774 \uc911\uc694\n",
      "- \uc774\ub7f0 \uacbd\uc6b0\uc5d0\ub294 \ub808\uc2dc\ud53c 8.6\uc5d0 \ub098\uc654\ub358 \uac83\ucc98\ub7fc \ud504\ub85c\ud37c\ud2f0\ub97c \uc0ac\uc6a9\ud574\uc57c \ud568\n",
      "- \ub514\uc2a4\ud06c\ub9bd\ud130\ub294 \ucf54\ub4dc \uc7ac\uc0ac\uc6a9\uc774 \ube48\ubc88\ud788 \ubc1c\uc0dd\ud558\ub294 \uc0c1\ud669\uc5d0 \ub354 \uc720\uc6a9(\uc608: \ub514\uc2a4\ud06c\ub9bd\ud130\uac00 \uc81c\uacf5\ud558\ub294 \uae30\ub2a5\uc744 \uc218\ubc31\uad70\ub370\uc5d0\uc11c \uc0ac\uc6a9\ud574\uc57c \ud55c\ub2e4\uac70\ub098 \ub77c\uc774\ube0c\ub7ec\ub9ac \uae30\ub2a5\uc73c\ub85c \uc81c\uacf5\ud574\uc57c \ud558\ub294 \uacbd\uc6b0)"
     ]
    },
    {
     "cell_type": "markdown",
     "metadata": {},
     "source": [
      "## 8.10 \uac8c\uc73c\ub978 \uacc4\uc0b0\uc744 \ud558\ub294 \ud504\ub85c\ud37c\ud2f0 \uc0ac\uc6a9\n",
      "\n",
      "### \ubb38\uc81c\n",
      "\n",
      "- \uc77d\uae30 \uc804\uc6a9 \uc18d\uc131\uc744 \ud504\ub85c\ud37c\ud2f0\ub85c \uc815\uc758\ud558\uace0, \uc774 \uc18d\uc131\uc5d0 \uc811\uadfc\ud560 \ub54c\ub9cc \uacc4\uc0b0\ud558\ub3c4\ub85d \ud558\uace0 \uc2f6\uc74c\n",
      "- \ud558\uc9c0\ub9cc \ud55c \ubc88 \uc811\uadfc\ud558\uace0 \ub098\uba74 \uc774 \uac12\uc744 \uce90\uc2dc\ud574 \ub193\uace0 \ub2e4\uc74c \ubc88\uc5d0 \uc811\uadfc\ud560 \ub54c\uc5d0\ub294 \ub2e4\uc2dc \uacc4\uc0b0\ud558\uc9c0 \uc54a\ub3c4\ub85d \ud558\uace0 \uc2f6\uc74c\n",
      "\n",
      "### \ud574\uacb0\n",
      "\n",
      "- \uac8c\uc73c\ub978 \uc18d\uc131\uc744 \ud6a8\uc728\uc801\uc73c\ub85c \uc815\uc758\ud558\uae30 \uc704\ud574\uc11c\ub294 \ub2e4\uc74c\uacfc \uac19\uc774 \ub514\uc2a4\ud06c\ub9bd\ud130 \ud074\ub798\uc2a4\ub97c \uc0ac\uc6a9\ud558\uba74 \ub428"
     ]
    },
    {
     "cell_type": "code",
     "collapsed": false,
     "input": [
      "class lazyproperty:\n",
      "    def __init__(self, func):\n",
      "        self.func = func\n",
      "        \n",
      "    def __get__(self, instance, cls):\n",
      "        if instance is None:\n",
      "            return self\n",
      "        else:\n",
      "            value = self.func(instance)\n",
      "            setattr(instance, self.func.__name__, value)\n",
      "            return value"
     ],
     "language": "python",
     "metadata": {},
     "outputs": [],
     "prompt_number": 229
    },
    {
     "cell_type": "markdown",
     "metadata": {},
     "source": [
      "- \uc774 \ucf54\ub4dc\ub97c \ud65c\uc6a9\ud558\uae30 \uc704\ud574\uc11c\ub294 \ub2e4\uc74c\uacfc \uac19\uc774 \ud074\ub798\uc2a4 \ub0b4\ubd80\uc5d0\uc11c \uc0ac\uc6a9\ud55c\ub2e4."
     ]
    },
    {
     "cell_type": "code",
     "collapsed": false,
     "input": [
      "import math\n",
      "\n",
      "class Circle:\n",
      "    def __init__(self, radius):\n",
      "        self.radius = radius\n",
      "        \n",
      "    @lazyproperty\n",
      "    def area(self):\n",
      "        print('Computing area')\n",
      "        return math.pi * self.radius ** 2\n",
      "    \n",
      "    @lazyproperty\n",
      "    def perimeter(self):\n",
      "        print('Computing perimeter')\n",
      "        return 2 * math.pi * self.radius"
     ],
     "language": "python",
     "metadata": {},
     "outputs": [],
     "prompt_number": 272
    },
    {
     "cell_type": "code",
     "collapsed": false,
     "input": [
      "c = Circle(4.0)"
     ],
     "language": "python",
     "metadata": {},
     "outputs": [],
     "prompt_number": 232
    },
    {
     "cell_type": "code",
     "collapsed": false,
     "input": [
      "c.radius"
     ],
     "language": "python",
     "metadata": {},
     "outputs": [
      {
       "metadata": {},
       "output_type": "pyout",
       "prompt_number": 233,
       "text": [
        "4.0"
       ]
      }
     ],
     "prompt_number": 233
    },
    {
     "cell_type": "code",
     "collapsed": false,
     "input": [
      "c.area"
     ],
     "language": "python",
     "metadata": {},
     "outputs": [
      {
       "output_type": "stream",
       "stream": "stdout",
       "text": [
        "Computing area\n"
       ]
      },
      {
       "metadata": {},
       "output_type": "pyout",
       "prompt_number": 234,
       "text": [
        "50.26548245743669"
       ]
      }
     ],
     "prompt_number": 234
    },
    {
     "cell_type": "code",
     "collapsed": false,
     "input": [
      "c.area"
     ],
     "language": "python",
     "metadata": {},
     "outputs": [
      {
       "metadata": {},
       "output_type": "pyout",
       "prompt_number": 235,
       "text": [
        "50.26548245743669"
       ]
      }
     ],
     "prompt_number": 235
    },
    {
     "cell_type": "code",
     "collapsed": false,
     "input": [
      "c.perimeter"
     ],
     "language": "python",
     "metadata": {},
     "outputs": [
      {
       "output_type": "stream",
       "stream": "stdout",
       "text": [
        "Computing perimeter\n"
       ]
      },
      {
       "metadata": {},
       "output_type": "pyout",
       "prompt_number": 236,
       "text": [
        "25.132741228718345"
       ]
      }
     ],
     "prompt_number": 236
    },
    {
     "cell_type": "code",
     "collapsed": false,
     "input": [
      "c.perimeter"
     ],
     "language": "python",
     "metadata": {},
     "outputs": [
      {
       "metadata": {},
       "output_type": "pyout",
       "prompt_number": 237,
       "text": [
        "25.132741228718345"
       ]
      }
     ],
     "prompt_number": 237
    },
    {
     "cell_type": "markdown",
     "metadata": {},
     "source": [
      "- 'Computing arean'\uc640 'Computing perimeter' \uba54\uc2dc\uc9c0\uac00 \ud55c \ubc88\uc529\ub9cc \ub098\ud0c0\ub098\ub294 \uc810 \uc8fc\ubaa9"
     ]
    },
    {
     "cell_type": "markdown",
     "metadata": {},
     "source": [
      "### \ud1a0\ub860\n",
      "\n",
      "- \ub300\uac1c\uc758 \uacbd\uc6b0 \uac8c\uc73c\ub974\uac8c \uacc4\uc0b0\ud55c \uc18d\uc131\uc740 \uc131\ub2a5 \ud5a5\uc0c1\uc744 \uc704\ud574 \uc0ac\uc6a9\n",
      "- \uc608\ub97c \ub4e4\uc5b4 \uc2e4\uc81c\ub85c \ud2b9\uc815\uac12\uc744 \uc0ac\uc6a9\ud558\uae30 \uc804\uae4c\uc9c0 \uacc4\uc0b0\ud558\uc9c0 \uc54a\ub3c4\ub85d \ud558\ub294 \uac83\n",
      "- \uc81c\uc2dc\ud55c \ud574\uacb0\ucc45\uc740 \ub2e8\uc9c0 \uc774\uac83\ub9cc \ud558\uc9c0\ub9cc, \uc544\uc8fc \ud6a8\uc728\uc801\uc778 \ubc29\uc2dd\uc73c\ub85c \uc774\ub97c \uc2e4\ud589\ud558\uae30 \uc704\ud574 \ub514\uc2a4\ud06c\ub9bd\ud130\uc758 \ubbf8\ubb18\ud55c \uae30\ub2a5\uc744 \ud65c\uc6a9\n",
      "- \ub2e4\ub978 \ub808\uc2dc\ud53c(\uc608: \ub808\uc2dc\ud53c 8.9\u3156\uc5d0 \ub098\uc628 \uac83\ucc98\ub7fc, \ud074\ub798\uc2a4\uc5d0 \ub514\uc2a4\ud06c\ub9bd\ud130\uac00 \ub4e4\uc5b4\uac00\uba74 \uc18d\uc131 \uc811\uadfc \uc2dc \\_\\_get\\_\\_(), \\_\\_set\\_\\_(), \\_\\_delete\\_\\_() \uba54\uc18c\ub4dc\ub97c \ud638\ucd9c\n",
      "- \ud558\uc9c0\ub9cc \ub514\uc2a4\ud06c\ub9bd\ud130\uac00 \\_\\_get\\_\\_() \uba54\uc18c\ub4dc\ub9cc \uc815\uc758\ud558\uba74 \ud3c9\uc18c\ubcf4\ub2e4 \uc57d\ud55c \ubc14\uc778\ub529\uc744 \uac16\uac8c \ub428\n",
      "- \ud2b9\ud788 \\_\\_get\\_\\_() \uba54\uc18c\ub4dc\ub294 \uc811\uadfc\ud558\ub294 \uc18d\uc131\uc774 \uc778\uc2a4\ud134\uc2a4 \ub515\uc154\ub108\ub9ac\uc5d0 \uc5c6\uc744 \ub54c\ub9cc \uc2e4\ud589\ub428\n",
      "- lazyproperty \ud074\ub798\uc2a4\ub294 \ud504\ub85c\ud37c\ud2f0 \uc790\uccb4\uc640 \ub3d9\uc77c\ud55c \uc774\ub984\uc744 \uc0ac\uc6a9\ud574\uc11c \uc778\uc2a4\ud134\uc2a4 \\_\\_get\\_\\_() \uba54\uc18c\ub4dc\uc5d0 \uacc4\uc0b0\ud55c \uac12\uc744 \uc800\uc7a5\ud558\ub294 \uc2dd\uc73c\ub85c \uc774\ub97c \ud65c\uc6a9\ud568\n",
      "- \uc774\ub807\uac8c \ud558\uba74 \uadf8 \uac12\uc740 \uc778\uc2a4\ud134\uc2a4 \ub515\uc154\ub108\ub9ac\uc5d0 \uc800\uc7a5\ub418\uace0 \ucd94\ud6c4 \ud504\ub85c\ud37c\ud2f0\uc758 \uacc4\uc0b0\uc744 \ud558\uc9c0 \uc54a\ub3c4\ub85d \ud568\n",
      "- \ub3d9\uc791\uc131\uc744 \ud638\uac00\uc778\ud574 \ubcf4\uc790"
     ]
    },
    {
     "cell_type": "code",
     "collapsed": false,
     "input": [
      "c = Circle(4.0)"
     ],
     "language": "python",
     "metadata": {},
     "outputs": [],
     "prompt_number": 238
    },
    {
     "cell_type": "code",
     "collapsed": false,
     "input": [
      "# \uc778\uc2a4\ud134\uc2a4 \ubcc0\uc218 \uad6c\ud558\uae30\n",
      "vars(c)"
     ],
     "language": "python",
     "metadata": {},
     "outputs": [
      {
       "metadata": {},
       "output_type": "pyout",
       "prompt_number": 239,
       "text": [
        "{'radius': 4.0}"
       ]
      }
     ],
     "prompt_number": 239
    },
    {
     "cell_type": "code",
     "collapsed": false,
     "input": [
      "# \uba74\uc801\uc744 \uacc4\uc0b0\ud558\uace0 \ucd94\ud6c4 \ubcc0\uc218 \ud655\uc778\n",
      "c.area"
     ],
     "language": "python",
     "metadata": {},
     "outputs": [
      {
       "output_type": "stream",
       "stream": "stdout",
       "text": [
        "Computing area\n"
       ]
      },
      {
       "metadata": {},
       "output_type": "pyout",
       "prompt_number": 240,
       "text": [
        "50.26548245743669"
       ]
      }
     ],
     "prompt_number": 240
    },
    {
     "cell_type": "code",
     "collapsed": false,
     "input": [
      "vars(c)"
     ],
     "language": "python",
     "metadata": {},
     "outputs": [
      {
       "metadata": {},
       "output_type": "pyout",
       "prompt_number": 241,
       "text": [
        "{'radius': 4.0, 'area': 50.26548245743669}"
       ]
      }
     ],
     "prompt_number": 241
    },
    {
     "cell_type": "code",
     "collapsed": false,
     "input": [
      "# \uc18d\uc131\uc5d0 \uc811\uadfc\ud574\ub3c4 \ub354 \uc774\uc0c1 \ud504\ub85c\ud37c\ud2f0\ub97c \uc2e4\ud589\ud558\uc9c0 \uc54a\ub294\ub2e4.\n",
      "c.area"
     ],
     "language": "python",
     "metadata": {},
     "outputs": [
      {
       "metadata": {},
       "output_type": "pyout",
       "prompt_number": 242,
       "text": [
        "50.26548245743669"
       ]
      }
     ],
     "prompt_number": 242
    },
    {
     "cell_type": "code",
     "collapsed": false,
     "input": [
      "# \ubcc0\uc218\ub97c \uc0ad\uc81c\ud558\uace0 \ud504\ub85c\ud37c\ud2f0\uac00 \ub2e4\uc2dc \uc2e4\ud589\ub428\uc744 \ud655\uc778\n",
      "del c.area"
     ],
     "language": "python",
     "metadata": {},
     "outputs": [],
     "prompt_number": 243
    },
    {
     "cell_type": "code",
     "collapsed": false,
     "input": [
      "vars(c)"
     ],
     "language": "python",
     "metadata": {},
     "outputs": [
      {
       "metadata": {},
       "output_type": "pyout",
       "prompt_number": 244,
       "text": [
        "{'radius': 4.0}"
       ]
      }
     ],
     "prompt_number": 244
    },
    {
     "cell_type": "code",
     "collapsed": false,
     "input": [
      "c.area"
     ],
     "language": "python",
     "metadata": {},
     "outputs": [
      {
       "output_type": "stream",
       "stream": "stdout",
       "text": [
        "Computing area\n"
       ]
      },
      {
       "metadata": {},
       "output_type": "pyout",
       "prompt_number": 245,
       "text": [
        "50.26548245743669"
       ]
      }
     ],
     "prompt_number": 245
    },
    {
     "cell_type": "markdown",
     "metadata": {},
     "source": [
      "- \uc774\ubc88 \ub808\uc2dc\ud53c\uc5d0\uc11c \ubd88\ub9ac\ud55c \uc810 \ud55c\uac00\uc9c0\ub294 \uacc4\uc0b0\ud55c \uac12\uc744 \uc0dd\uc131\ud55c \ud6c4\uc5d0 \uc218\uc815\ud560 \uc218 \uc788\ub2e4\ub294 \uac83"
     ]
    },
    {
     "cell_type": "code",
     "collapsed": false,
     "input": [
      "c.area"
     ],
     "language": "python",
     "metadata": {},
     "outputs": [
      {
       "metadata": {},
       "output_type": "pyout",
       "prompt_number": 246,
       "text": [
        "50.26548245743669"
       ]
      }
     ],
     "prompt_number": 246
    },
    {
     "cell_type": "code",
     "collapsed": false,
     "input": [
      "c.area = 25"
     ],
     "language": "python",
     "metadata": {},
     "outputs": [],
     "prompt_number": 247
    },
    {
     "cell_type": "code",
     "collapsed": false,
     "input": [
      "c.area"
     ],
     "language": "python",
     "metadata": {},
     "outputs": [
      {
       "metadata": {},
       "output_type": "pyout",
       "prompt_number": 248,
       "text": [
        "25"
       ]
      }
     ],
     "prompt_number": 248
    },
    {
     "cell_type": "markdown",
     "metadata": {},
     "source": [
      "- \uc774 \ubd80\ubd84\uc774 \uac71\uc815\ub41c\ub2e4\uba74 \uc870\uae08 \ub35c \ud6a8\uc728\uc801\uc778 \uad6c\ud604\uc744 \ud560 \uc218 \uc788\ub2e4"
     ]
    },
    {
     "cell_type": "code",
     "collapsed": false,
     "input": [
      "def lazyproperty(func):\n",
      "    name = '_lazy_' + func.__name__\n",
      "    @property\n",
      "    def lazy(self):\n",
      "        if hasattr(self, name):\n",
      "            return getattr(self, name)\n",
      "        else:\n",
      "            value = func(self)\n",
      "            setattr(self, name, value)\n",
      "            return value\n",
      "    return lazy"
     ],
     "language": "python",
     "metadata": {},
     "outputs": [],
     "prompt_number": 273
    },
    {
     "cell_type": "markdown",
     "metadata": {},
     "source": [
      "- \uc774 \ubc84\uc804\uc744 \uc0ac\uc6a9\ud558\uba74 \uac12 \uc124\uc815\uc774 \ubd88\uac00\ub2a5\ud558\uac8c \ub428"
     ]
    },
    {
     "cell_type": "code",
     "collapsed": false,
     "input": [
      "c = Circle(4.0)"
     ],
     "language": "python",
     "metadata": {},
     "outputs": [],
     "prompt_number": 274
    },
    {
     "cell_type": "code",
     "collapsed": false,
     "input": [
      "c.area"
     ],
     "language": "python",
     "metadata": {},
     "outputs": [
      {
       "output_type": "stream",
       "stream": "stdout",
       "text": [
        "Computing area\n"
       ]
      },
      {
       "metadata": {},
       "output_type": "pyout",
       "prompt_number": 275,
       "text": [
        "50.26548245743669"
       ]
      }
     ],
     "prompt_number": 275
    },
    {
     "cell_type": "code",
     "collapsed": false,
     "input": [
      "c.area"
     ],
     "language": "python",
     "metadata": {},
     "outputs": [
      {
       "metadata": {},
       "output_type": "pyout",
       "prompt_number": 276,
       "text": [
        "50.26548245743669"
       ]
      }
     ],
     "prompt_number": 276
    },
    {
     "cell_type": "code",
     "collapsed": false,
     "input": [
      "c.area = 25"
     ],
     "language": "python",
     "metadata": {},
     "outputs": [
      {
       "ename": "AttributeError",
       "evalue": "can't set attribute",
       "output_type": "pyerr",
       "traceback": [
        "\u001b[0;31m---------------------------------------------------------------------------\u001b[0m\n\u001b[0;31mAttributeError\u001b[0m                            Traceback (most recent call last)",
        "\u001b[0;32m<ipython-input-277-dbe51952d3fb>\u001b[0m in \u001b[0;36m<module>\u001b[0;34m()\u001b[0m\n\u001b[0;32m----> 1\u001b[0;31m \u001b[0mc\u001b[0m\u001b[0;34m.\u001b[0m\u001b[0marea\u001b[0m \u001b[0;34m=\u001b[0m \u001b[0;36m25\u001b[0m\u001b[0;34m\u001b[0m\u001b[0m\n\u001b[0m",
        "\u001b[0;31mAttributeError\u001b[0m: can't set attribute"
       ]
      }
     ],
     "prompt_number": 277
    },
    {
     "cell_type": "code",
     "collapsed": false,
     "input": [
      "c.area"
     ],
     "language": "python",
     "metadata": {},
     "outputs": [
      {
       "metadata": {},
       "output_type": "pyout",
       "prompt_number": 278,
       "text": [
        "50.26548245743669"
       ]
      }
     ],
     "prompt_number": 278
    },
    {
     "cell_type": "markdown",
     "metadata": {},
     "source": [
      "- \ud558\uc9c0\ub9cc \uac12\uc744 \uc5bb\uae30 \uc704\ud574\uc11c \ud56d\uc0c1 \ud504\ub85c\ud37c\ud2f0\uc758 getter \ud568\uc218\ub97c \uc0ac\uc6a9\ud574\uc57c \ud55c\ub2e4\ub294 \ubd88\ud3b8\ud568\uc774 \uc0dd\uae40\n",
      "- \uc774 \ubc29\uc2dd\uc740 \uc6d0\ub798 \ud574\uacb0\ucc45\uc5d0 \ub098\uc654\ub358 \uac83\ucc98\ub7fc \ub2e8\uc21c\ud788 \uc778\uc2a4\ud134\uc2a4 \ub515\uc154\ub108\ub9ac\uc5d0\uc11c \uac12\uc744 \ucc3e\ub294 \uac83\ubcf4\ub2e4 \ube44\ud6a8\uc728\uc801\n",
      "- \ud504\ub85c\ud37c\ud2f0\uc640 \uad00\ub9ac \uc18d\uc131\uc5d0 \ub300\ud574 \ub354 \ub9ce\uc740 \uc815\ubcf4\ub97c \uc5bb\uace0 \uc2f6\ub2e4\uba74 \ub808\uc2dc\ud53c 8.6 \ucc38\uace0\n",
      "- \ub514\uc2a4\ud06c\ub9bd\ud130\ub294 \ub808\uc2dc\ud53c 8.9"
     ]
    }
   ],
   "metadata": {}
  }
 ]
}
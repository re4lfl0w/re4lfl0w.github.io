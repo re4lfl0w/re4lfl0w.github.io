{
 "metadata": {
  "name": "",
  "signature": "sha256:b6ff7f184e83fcf16533082ce76163def81137f609a9431e5c19b75493ebbae1"
 },
 "nbformat": 3,
 "nbformat_minor": 0,
 "worksheets": [
  {
   "cells": [
    {
     "cell_type": "markdown",
     "metadata": {},
     "source": [
      "## 10.11 \uc784\ud3ec\ud2b8 \ud6c4\ud06c\ub85c \uc6d0\uaca9 \uba38\uc2e0\uc5d0\uc11c \ubaa8\ub4c8 \ubd88\ub7ec\uc624\uae30\n",
      "\n",
      "### \ubb38\uc81c\n",
      "\n",
      "- \ud30c\uc788\ub108\uc758 \uc784\ud3ec\ud2b8 \uad6c\ubb38\uc744 \ucee4\uc2a4\ud130\ub9c8\uc774\uc988\ud574\uc11c \uc6d0\uaca9 \uba38\uc2e0\uc5d0\uc11c \ubaa8\ub4c8\uc744 \ubd88\ub7ec\uc624\ub3c4\ub85d \ud558\uace0 \uc2f6\ub2e4.\n",
      "\n",
      "### \ud574\uacb0\n",
      "\n",
      "- \uccab\uc9f8, \ubcf4\uc548\uc0c1 \ud070 \ubb38\uc81c\uac00 \uc788\ub2e4. "
     ]
    }
   ],
   "metadata": {}
  }
 ]
}
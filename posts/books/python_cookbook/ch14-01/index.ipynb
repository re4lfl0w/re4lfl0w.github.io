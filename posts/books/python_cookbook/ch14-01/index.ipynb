{
 "metadata": {
  "name": "",
  "signature": "sha256:22c1e05bc2f66a09c95a26b1573fa06a9aa78cb274f4f58bbf20768a6f82cc6d"
 },
 "nbformat": 3,
 "nbformat_minor": 0,
 "worksheets": [
  {
   "cells": [
    {
     "cell_type": "markdown",
     "metadata": {},
     "source": [
      "# 14. \ud14c\uc2a4\ud305, \ub514\ubc84\uae45, \uc608\uc678\n",
      "\n",
      "- start: 2014-11-03\n",
      "- end: 2014-11-03\n",
      "\n",
      "#### \uc774\ubc88\uc7a5 \ud6c4\uae30\n",
      "\n",
      "- \uc774\ubc88 \uc7a5\uc740 \ub9ce\uc774 \uc0bd\uc9c8\uc744 \ud574\ub193\uc740 \uacbd\ud5d8 \ub54c\ubb38\uc778\uc9c0 \ube68\ub9ac \ub05d\ub0ac\ub2e4. \uadf8\ub9ac\uace0 \ubb34\uc5c7\ubcf4\ub2e4 \uc911\uc694\ud55c \uac83\uc740 \ub2e4\ub978\uac83\uc5d0 \uc2e0\uacbd\uc4f0\uc9c0 \uc54a\uace0 \ub2ec\ub824\uc11c \ube68\ub9ac \ub05d\ub0ac\ub2e4.\n",
      "- \uad49\uc7a5\ud788 \uc911\uc694\ud558\ub2e4\uace0 \uc0dd\uac01\ud55c\ub2e4. \ud14c\uc2a4\ud305, \ub514\ubc84\uae45, \uc608\uc678. \uc774\ub7f0\uac83\ub4e4\uc744 \uc798\ud574\uc57c \ub514\ubc84\uae45\ud558\ub294 \uc2dc\uac04\uc744 \uc904\uc77c \uc218 \uc788\uace0 \ube68\ub9ac \ubb38\uc81c\uc810\uc744 \ucc3e\uc744 \uc218 \uc788\ub2e4.\n",
      "- \uadf8\ub9ac\uace0 \ub4a4\uc758 \ucd5c\uc801\ud654 \ubd80\ubd84\uc774 \uad49\uc7a5\ud788 \ub9ce\uc774 \ub3c4\uc6c0\uc774 \ub410\ub124\n",
      "- timeit\uc744 \ub9ce\uc774 \uc4f0\uae30\ub294 \ud588\uc9c0\ub9cc \uc5b4\ub5bb\uac8c \uc774\uac78 \ud65c\uc6a9\ud560\uae4c? \uc5d0\uc11c \ud5e4\ub9e8\uac83 \uac19\uc740\ub370 \uc774\ubc88\uc7a5\uc744 \uc77d\uace0 \uac1c\ub150\uc774 \uc81c\ub300\ub85c \uc7a1\ud614\ub2e4!\n",
      "- **\ub0b4\ubd80 \uc21c\ud658\ubb38**\uc744 \uac00\uc7a5 \uc8fc\uc758\ud558\uba74\uc11c \ubcf4\uc790. \ub2e4\ub978 \uac83\ub4e4\uc740 \ub0b4\uac00 \ud3b8\ud558\uac8c \ud0c0\uc774\ud551\ud560 \uc218 \uc788\uac8c \ub9cc\ub4e4\uace0 \ubcf4\uae30 \uc88b\uac8c \ub9cc\ub4e4\uace0. \ub0b4\ubd80 \uc21c\ud658\ubb38\uc774 \uc2dc\uac04\uc744 \uac00\uc7a5 \ub9ce\uc774 \uc18c\ubaa8\ud55c\ub2e4.\n",
      "\n",
      "\n",
      "- \ud14c\uc2a4\ud305\uc740 \uc2e0\ub0a8. \ud558\uc9c0\ub9cc \ub514\ubc84\uae45\uc740 \uace8\uce58 \uc544\ud514\n",
      "- \ud30c\uc774\uc36c\uc744 \uc2e4\ud589\ud558\uae30 \uc804\uc5d0 \ucf54\ub4dc\ub97c \ubd84\uc11d\ud560 \ucef4\ud30c\uc77c\ub7ec\uac00 \uc5c6\uae30 \ub54c\ubb38\uc5d0, **\ud14c\uc2a4\ud305\uc740 \uac1c\ubc1c \uacfc\uc815\uc5d0 \uc788\uc5b4 \ub9e4\uc6b0 \uc911\uc694\ud55c \ubd80\ubd84**\n",
      "- \uc774\ubc88 \uc7a5\uc758 \ubaa9\ud45c\ub294 \ud14c\uc2a4\ud305, \ub514\ubc84\uae45, \uc608\uc678 \ucc98\ub9ac\uc5d0\uc11c \uc77c\ubc18\uc801\uc73c\ub85c \ubc1c\uc0dd\ud558\ub294 \ubb38\uc81c\uc5d0 \ub300\ud55c \ud1a0\ub860\n",
      "- \uadf8\ub807\ub2e4\uace0 \ud14c\uc2a4\ud2b8 \uae30\ubc18 \uac1c\ubc1c\uc774\ub098 unittest \ubaa8\ub4c8\uc5d0 \ub300\ud574\uc11c \ucc98\uc74c\ubd80\ud130 \uce5c\uc808\ud558\uac8c \uc124\uba85\ud558\uc9c0 \uc54a\uae30 \ub54c\ubb38\uc5d0 \uc5b4\ub290 \uc815\ub3c4 \ud14c\uc2a4\ud305\uc5d0 \ub300\ud55c \uac1c\ub150\uc740 \uc788\uc5b4\uc57c \ud568"
     ]
    },
    {
     "cell_type": "markdown",
     "metadata": {},
     "source": [
      "## 14.1 stdout\uc73c\ub85c \ubcf4\ub0b8 \uacb0\uacfc\ubb3c \ud14c\uc2a4\ud305\n",
      "\n",
      "### \ubb38\uc81c\n",
      "\n",
      "- \ud45c\uc900 \ucd9c\ub825(sys.stdout)\uc73c\ub85c \uacb0\uacfc\ub97c \ubcf4\ub0b4\ub294 \ud504\ub85c\uadf8\ub7a8\uc774 \uc788\uc74c\n",
      "- \uc989, \uac70\uc758 \ubaa8\ub4e0 \uacbd\uc6b0 \ud654\uba74\uc5d0 \ud14d\uc2a4\ud2b8\ub97c \ucd9c\ub825\ud55c\ub2e4\ub294 \uc758\ubbf8\n",
      "- \uc774\ub54c, \uc62c\ubc14\ub978 \uc785\ub825\uc774 \uc8fc\uc5b4\uc84c\uc744 \ub54c \uc62c\ubc14\ub978 \uacb0\uacfc\uac00 \ub098\uc624\ub294\uc9c0 \ucf54\ub4dc\ub97c \uac80\uc99d\ud558\uace0 \uc2f6\uc74c\n",
      "\n",
      "### \ud574\uacb0\n",
      "\n",
      "- unittest.mock \ubaa8\ub4c8\uc758 patch() \ud568\uc218\ub97c \uc0ac\uc6a9\ud558\uba74 \ud14c\uc2a4\ud305 \uc6a9\ub3c4\ub85c sys.stdout\uc744 \ud749\ub0b4\ub0b4\uace0 \uc81c\uc790\ub9ac\uc5d0 \ub3cc\ub824\ub193\uc744 \uc218 \uc788\uc74c\n",
      "- \uc9c0\uc800\ubd84\ud55c \uc784\uc2dc \ubcc0\uc218\ub098 \ud14c\uc2a4\ud2b8 \ucf00\uc774\uc2a4\ub07c\ub9ac \ubc1c\uc0dd\ud558\ub294 \uc0c1\ud0dc \ubb38\uc81c\ub294 \uac71\uc815\ud558\uc9c0 \uc54a\uc544\ub3c4 \ub428"
     ]
    },
    {
     "cell_type": "code",
     "collapsed": false,
     "input": [
      "%%writefile 14/mymodule.py\n",
      "def urlprint(protocol, host, domain):\n",
      "    url = '{}://{}.{}'.format(protocol, host, domain)\n",
      "    print(url)"
     ],
     "language": "python",
     "metadata": {},
     "outputs": [
      {
       "output_type": "stream",
       "stream": "stdout",
       "text": [
        "Writing 14/mymodule.py\n"
       ]
      }
     ],
     "prompt_number": 2
    },
    {
     "cell_type": "markdown",
     "metadata": {},
     "source": [
      "- \uae30\ubcf8\uc801\uc73c\ub85c print \ud568\uc218\ub294 \uc2e4\ud589 \uacb0\uacfc\ub97c sys.stdout \uc73c\ub85c \ubcf4\ub0b8\ub2e4.\n",
      "- \uc774 \uacb0\uacfc\ubb3c\uc774 \uc2e4\uc81c\ub85c \ubaa9\uc801\uc9c0\uc5d0 \ub3c4\ucc29\ud558\ub294\uc9c0 \uc2dc\ud5d8\ud558\ub824\uba74 \ub300\ub9ac \uac1d\uccb4\ub97c \ub9cc\ub4e4\uace0 \uac80\uc99d \ucf54\ub4dc\ub97c \ucd94\uac00\ud55c\ub2e4\n",
      "- unittest.mock \ubaa8\ub4c8\uc758 patch() \uba54\uc18c\ub4dc\ub97c \uc0ac\uc6a9\ud558\ub824\uba74, \ud14c\uc2a4\ud2b8\uac00 \ub05d\ub098\ub294 \uc989\uc2dc \uc6d0\ub798 \uc0c1\ud0dc\ub85c \ub418\ub3cc\ub824 \ub193\uae30 \ub54c\ubb38\uc5d0 \uc2e4\ud589\uc911\uc778 \ud14c\uc2a4\ud2b8\uc758 \ucf58\ud0dd\uc2a4\ud2b8 \ub0b4\ubd80 \uac1d\uccb4\ub97c \uce58\ud658\ud558\uae30 \ud3b8\ub9ac\ud568\n",
      "- mymodule\uc758 \ud14c\uc2a4\ud2b8 \ucf54\ub4dc\ub294 \ub2e4\uc74c\uacfc \uac19\ub2e4."
     ]
    },
    {
     "cell_type": "code",
     "collapsed": false,
     "input": [
      "%cd 14"
     ],
     "language": "python",
     "metadata": {},
     "outputs": [
      {
       "output_type": "stream",
       "stream": "stdout",
       "text": [
        "/Users/re4lfl0w/Documents/ipython/books/python_cookbook/14\n"
       ]
      }
     ],
     "prompt_number": 3
    },
    {
     "cell_type": "code",
     "collapsed": false,
     "input": [
      "%%writefile testmymodule.py\n",
      "from io import StringIO\n",
      "from unittest import TestCase\n",
      "from unittest.mock import patch\n",
      "import mymodule\n",
      "\n",
      "class TestURLPrint(TestCase):\n",
      "    def test_url_gets_to_stdout(self):\n",
      "        protocol = 'http'\n",
      "        host = 'www'\n",
      "        domain = 'example.com'\n",
      "        expected_url = '{}://{}.{}\\n'.format(protocol, host, domain)\n",
      "\n",
      "        with patch('sys.stdout', new=StringIO()) as fake_out:\n",
      "            mymodule.urlprint(protocol, host, domain)\n",
      "            self.assertEqual(fake_out.getvalue(), expected_url)\n",
      "\n",
      "if __name__ == '__main__':\n",
      "    import unittest\n",
      "    unittest.main()"
     ],
     "language": "python",
     "metadata": {},
     "outputs": [
      {
       "output_type": "stream",
       "stream": "stdout",
       "text": [
        "Writing testmymodule.py\n"
       ]
      }
     ],
     "prompt_number": 12
    },
    {
     "cell_type": "code",
     "collapsed": false,
     "input": [
      "%run testmymodule.py"
     ],
     "language": "python",
     "metadata": {},
     "outputs": [
      {
       "output_type": "stream",
       "stream": "stderr",
       "text": [
        "."
       ]
      },
      {
       "output_type": "stream",
       "stream": "stderr",
       "text": [
        "\n",
        "----------------------------------------------------------------------\n",
        "Ran 1 test in 0.001s\n",
        "\n",
        "OK\n"
       ]
      }
     ],
     "prompt_number": 13
    },
    {
     "cell_type": "code",
     "collapsed": false,
     "input": [
      "%cd .."
     ],
     "language": "python",
     "metadata": {},
     "outputs": [
      {
       "output_type": "stream",
       "stream": "stdout",
       "text": [
        "/Users/re4lfl0w/Documents/ipython/books/python_cookbook\n"
       ]
      }
     ],
     "prompt_number": 14
    },
    {
     "cell_type": "markdown",
     "metadata": {},
     "source": [
      "> Note: \ud30c\uc774\uc36c\uc5d0\uc11c import \ud558\uae30 \uc704\ud574\uc11c\ub294 \uc22b\uc790\uac00 \uc81c\uc77c \uc55e\uc5d0 \uc624\uba74 \uc548\ub41c\ub2e4. \ubb38\uc790\uac00 \uc640\uc57c \ub418\uae30 \ub54c\ubb38\uc5d0 cd 14 \uac19\uc740 \uc0bd\uc9c8\uc744 \ud558\uace0 \uc788\ub2e4. \uc774\uac78 \uc218\uc815\ud558\uae30 \uc704\ud574\uc11c\ub294 \ucc98\uc74c\ubd80\ud130 \ub2e4 \uc218\uc815\ud574\uc57c \ub418\ub294\ub370 \uad49\uc7a5\ud788 \ubc88\uac70\ub86d\uae30 \ub54c\ubb38\uc5d0 \ud328\uc2a4.. \ub05d\uc774 \uc5bc\ub9c8 \uc548 \ub0a8\uc558\ub2e4!"
     ]
    },
    {
     "cell_type": "markdown",
     "metadata": {},
     "source": [
      "### \ud1a0\ub860\n",
      "\n",
      "- urlprint() \ud568\uc218\ub294 3\uac1c\uc758 \uc778\uc790\ub97c \ubc1b\uace0, \uac01 \uc778\uc790\uc5d0 \ub354\ubbf8\uac12\uc744 \ub123\ub294 \uac83\uc73c\ub85c \ud14c\uc2a4\ud2b8\ub97c \uc2dc\uc791\ud55c\ub2e4. expected_url \ubcc0\uc218\uc5d0\ub294 \uc608\uc0c1\ud558\ub294 \uacb0\uacfc\uac12\uc744 \ubb38\uc790\uc5f4\ub85c \ub123\ub294\ub2e4.\n",
      "- \ud14c\uc2a4\ud2b8\ub97c \uc2e4\ud589\ud558\uae30 \uc704\ud574\uc11c unittest.mock.patch() \ud568\uc218\ub97c \ucf58\ud0dd\uc2a4\ud2b8 \ub9e4\ub2c8\uc800\ub85c \uc0ac\uc6a9\ud574\uc11c sys.stdout \uac12\uc744 StringIO \uac1d\uccb4\ub85c \uce58\ud658\ud588\uc74c\n",
      "- fake_out \ubcc0\uc218\ub294 \uc774 \uacfc\uc815\uc5d0\uc11c \uc0dd\uc131\ub41c \ubaa9\uc5c5 \uac1d\uccb4\uc774\ub2e4. \uc774 \uac1d\uccb4\ub294 with \uad6c\ubb38\uc5d0\uc11c \uc5ec\ub7ec\uac00\uc9c0 \ud655\uc778 \uc6a9\ub3c4\ub85c \uc0ac\uc6a9\ud560 \uc218 \uc788\uc74c\n",
      "- with \uad6c\ubb38\uc774 \uc885\ub8cc\ub418\uba74 patch\uac00 \ud14c\uc2a4\ud305 \uc804 \uc0c1\ud0dc\ub85c \ubaa8\ub4e0 \uac83\uc744 \ub3cc\ub824\ub193\uc74c\n",
      "- \uc5b4\ub5a4 C \ud655\uc7a5 \uae30\ub2a5\uc740 sys.stdout\uc744 \ubb34\uc2dc\ud558\uace0 \ud45c\uc900 \ucd9c\ub825\uc5d0 \uc9c1\uc811 \uc4f0\uae30\ub3c4 \ud568\n",
      "- \uc774\ubc88 \ub808\uc2dc\ud53c\ub294 \uc774\ub7f0 \uc0c1\ud669\uc5d0\ub294 \ub3c4\uc6c0\uc774 \ub418\uc9c0 \uc54a\uc9c0\ub9cc, \uc21c\uc218\ud55c \ud30c\uc774\uc36c \ucf54\ub4dc\uc5d0\uc11c\ub294 \uc798 \ub3d9\uc791\ud568(\uc774\ub7f0 C \ud655\uc7a5\uc758 \uc785\ucd9c\ub825\uc744 \ucea1\uccd0\ud558\ub824\uba74, \uc784\uc2dc \ud30c\uc77c\uc744 \uc5f4\uace0 \ud30c\uc77c \ub514\uc2a4\ud06c\ub9bd\ud130\uac00 \ud45c\uc900 \ucd9c\ub825\uc744 \uc784\uc2dc\ub85c \uadf8 \ud30c\uc77c\ub85c \ub3cc\ub9ac\ub294 \ud2b8\ub9ad\uc744 \uc0ac\uc6a9\ud558\uba74 \ub428)\n",
      "- \uc785\ucd9c\ub825 \ub0b4\uc6a9\uc744 \ubb38\uc790\uc5f4\uacfc StringIO \uac1d\uccb4\uc5d0 \ucea1\uccd0\ud558\ub294 \ubc29\ubc95\uc5d0 \ub300\ud55c \ub354 \ub9ce\uc740 \uc815\ubcf4\ub294 \ub808\uc2dc\ud53c 5.6\uc5d0 \ub098\uc634"
     ]
    },
    {
     "cell_type": "markdown",
     "metadata": {},
     "source": [
      "#### \ucc38\uace0 \uc790\ub8cc\n",
      "\n",
      "- [Mocking in Python: A Guide to Better Unit Tests | Toptal](http://www.toptal.com/python/an-introduction-to-mocking-in-python)\n",
      "- [StringIO and cStringIO \u2013 Work with text buffers using file-like API - Python Module of the Week](http://pymotw.com/2/StringIO/)"
     ]
    },
    {
     "cell_type": "code",
     "collapsed": false,
     "input": [
      "# StringIO provides a convenient means of working with text in memory \n",
      "# using the file API (read, write. etc.). There are two separate \n",
      "# implementations. The cStringIO version is written in C for speed, \n",
      "# while StringIO is written in Python for portability. \n",
      "# Using cStringIO to build large strings can offer performance \n",
      "# savings over some other string conctatenation techniques.\n",
      "\n",
      "# help(StringIO)"
     ],
     "language": "python",
     "metadata": {},
     "outputs": [],
     "prompt_number": 4
    },
    {
     "cell_type": "code",
     "collapsed": false,
     "input": [
      "from io import StringIO\n",
      "\n",
      "# Writing to a buffer\n",
      "output = StringIO()\n",
      "output.write('This goes into the buffer')\n",
      "print(output, 'And so does this.')\n",
      "\n",
      "# Retrieve the value writing\n",
      "print(output.getvalue())\n",
      "\n",
      "output.close()\n",
      "\n",
      "# Initialize a read buffer\n",
      "input2 = StringIO('Inital value for read buffer')\n",
      "\n",
      "# Read from the buffer\n",
      "print(input2.read())"
     ],
     "language": "python",
     "metadata": {},
     "outputs": [
      {
       "output_type": "stream",
       "stream": "stdout",
       "text": [
        "<_io.StringIO object at 0x110027b88> And so does this.\n",
        "This goes into the buffer\n",
        "Inital value for read buffer\n"
       ]
      }
     ],
     "prompt_number": 1
    },
    {
     "cell_type": "markdown",
     "metadata": {},
     "source": [
      "## 14.2 \uc720\ub2db \ud14c\uc2a4\ud2b8\uc5d0\uc11c \uac1d\uccb4 \ud328\uce58\n",
      "\n",
      "### \ubb38\uc81c\n",
      "\n",
      "- \uc720\ub2db \ud14c\uc2a4\ud2b8\ub97c \uc791\uc131 \uc911\uc778\ub370, \uc120\ud0dd\ud55c \uac1d\uccb4\uc5d0 \ud328\uce58\ub97c \uc801\uc6a9\ud574\uc11c \uc720\ub2db \ud14c\uc2a4\ud2b8\uc5d0\uc11c \uc5b4\ub5bb\uac8c \uc0ac\uc6a9\ud558\ub294\uc9c0 \ud655\uc778\ud558\uace0 \uc2f6\uc74c(\uc608: \ud2b9\uc815 \ud30c\ub77c\ubbf8\ud130\uc640 \ud568\uaed8 \ud638\ucd9c\ub418\uc5c8\ub294\uc9c0, \uc120\ud0dd\ud55c \uc18d\uc131\uc5d0 \uc811\uadfc\ud588\ub294\uc9c0 \ub4f1)\n",
      "\n",
      "### \ud574\uacb0\n",
      "\n",
      "- \uc774 \ubb38\uc81c\ub97c \ud574\uacb0\ud558\ub294\ub370 unittest.mock.patch() \ud568\uc218\uac00 \ub3c4\uc6c0\uc774 \ub428\n",
      "- \uadf8\ub807\uac8c \uc77c\ubc18\uc801\uc774\uc9c0\ub294 \uc54a\uc9c0\ub9cc, patch()\ub294 \ud640\ub85c \uc0ac\uc6a9\ud560 \uc218\ub3c4 \uc788\uace0 \ub370\ucf54\ub808\uc774\ud130, \ucf58\ud0dd\uc2a4\ud2b8 \ub9e4\ub2c8\uc800\ub85c\ub3c4 \uc0ac\uc6a9 \uac00\ub2a5\ud568\n",
      "- \uc608\ub97c \ub4e4\uc5b4 \ub2e4\uc74c\uc740 \ub370\ucf54\ub808\uc774\ud130\ub85c \uc0ac\uc6a9\ud558\ub294 \ucf54\ub4dc"
     ]
    },
    {
     "cell_type": "markdown",
     "metadata": {},
     "source": [
      "```python\n",
      "from unittest.mock import patch\n",
      "import example\n",
      "\n",
      "@patch('example.func')\n",
      "def test1(x, mock_func):\n",
      "    example.func(x) # \ud328\uce58\ud55c example.func \uc0ac\uc6a9\n",
      "    mock_func.assert_called_with(x)\n",
      "```\n",
      "\n",
      "- \ucf58\ud0dd\uc2a4\ud2b8 \ub9e4\ub2c8\uc800\ub85c \uc0ac\uc6a9\ud558\ub294 \uc608\uc81c\n",
      "```python\n",
      "with patch('example.func') as mock_func:\n",
      "    example.func(x) # \ud328\uce58\ud55c example.func \uc0ac\uc6a9\n",
      "    mock_func.assert_called_with(x)\n",
      "```\n",
      "\n",
      "- \ub9c8\uc9c0\ub9c9\uc73c\ub85c, \ub2e4\uc74c\uc740 \uc218\ub3d9\uc73c\ub85c \ud328\uce58\ud558\uae30\n",
      "```python\n",
      "p = patch('example.func')\n",
      "mock_func = p.start()\n",
      "example.func(x)\n",
      "mock_func.assert_called_with(x)\n",
      "p.stop()\n",
      "```\n",
      "\n",
      "- \ud544\uc694\ud558\ub2e4\uba74 \uc5ec\ub7ec \uac00\uc9c0 \uac1d\uccb4\ub97c \ud328\uce58\ud558\uae30 \uc704\ud574\uc11c \ub370\ucf54\ub808\uc774\ud130\uc640 \ucf58\ud0dd\uc2a4\ud2b8 \ub9e4\ub2c8\uc800\ub97c \uc2a4\ud0dd\ud560 \uc218 \uc788\uc74c\n",
      "\n",
      "```python\n",
      "@patch('example.func1')\n",
      "@patch('example.func2')\n",
      "@patch('example.func3')\n",
      "def test1(mock1, mock2, mock3):\n",
      "    ...\n",
      "   \n",
      "def test2():\n",
      "with patch('example.func1') as mock1, \\\n",
      "    patch('example.func1') as mock2, \\\n",
      "    patch('example.func1') as mock3:\n",
      "    ...\n",
      "```"
     ]
    },
    {
     "cell_type": "markdown",
     "metadata": {},
     "source": [
      "### \ud1a0\ub860\n",
      "\n",
      "- patch()\ub294 \uae30\uc874 \uac1d\uccb4\uc640 \uc644\uc804\ud55c \uc774\ub984\uc744 \ubc1b\uc544\uc11c \uc0c8\ub85c\uc6b4 \uac12\uc73c\ub85c \uce58\ud658\ud568\n",
      "- \uadf8\ub9ac\uace0 \ub370\ucf54\ub808\uc774\ud2b8\ud55c \ud568\uc218\ub098 \ucf58\ud0dd\uc2a4\ud2b8 \ub9e4\ub2c8\uc800\uac00 \uc644\ub8cc\ub418\uba74 \uc6d0\ubcf8 \uac12\uc744 \ubcf5\uc6d0\ud568\n",
      "- \uae30\ubcf8\uc801\uc73c\ub85c, \uac12\uc740 MagicMock \uc778\uc2a4\ud134\uc2a4\ub85c \uce58\ud658\ub428"
     ]
    },
    {
     "cell_type": "code",
     "collapsed": false,
     "input": [
      "x = 42"
     ],
     "language": "python",
     "metadata": {},
     "outputs": [],
     "prompt_number": 6
    },
    {
     "cell_type": "code",
     "collapsed": false,
     "input": [
      "with patch('__main__.x'):\n",
      "    print(x)"
     ],
     "language": "python",
     "metadata": {},
     "outputs": [
      {
       "output_type": "stream",
       "stream": "stdout",
       "text": [
        "<MagicMock name='x' id='4583936408'>\n"
       ]
      }
     ],
     "prompt_number": 7
    },
    {
     "cell_type": "code",
     "collapsed": false,
     "input": [
      "x"
     ],
     "language": "python",
     "metadata": {},
     "outputs": [
      {
       "metadata": {},
       "output_type": "pyout",
       "prompt_number": 8,
       "text": [
        "42"
       ]
      }
     ],
     "prompt_number": 8
    },
    {
     "cell_type": "markdown",
     "metadata": {},
     "source": [
      "- \ud558\uc9c0\ub9cc, patch()\uc758 \ub450 \ubc88\uc9f8 \uc778\uc790\ub97c \uc0ac\uc6a9\ud558\uba74 \uc6d0\ud558\ub294 \uac83\uc73c\ub85c \uac12\uc744 \uce58\ud658\ud560 \uc218 \uc788\uc74c"
     ]
    },
    {
     "cell_type": "code",
     "collapsed": false,
     "input": [
      "x"
     ],
     "language": "python",
     "metadata": {},
     "outputs": [
      {
       "metadata": {},
       "output_type": "pyout",
       "prompt_number": 9,
       "text": [
        "42"
       ]
      }
     ],
     "prompt_number": 9
    },
    {
     "cell_type": "code",
     "collapsed": false,
     "input": [
      "with patch('__main__.x', 'patched value'):\n",
      "    print(x)"
     ],
     "language": "python",
     "metadata": {},
     "outputs": [
      {
       "output_type": "stream",
       "stream": "stdout",
       "text": [
        "patched value\n"
       ]
      }
     ],
     "prompt_number": 10
    },
    {
     "cell_type": "code",
     "collapsed": false,
     "input": [
      "x"
     ],
     "language": "python",
     "metadata": {},
     "outputs": [
      {
       "metadata": {},
       "output_type": "pyout",
       "prompt_number": 11,
       "text": [
        "42"
       ]
      }
     ],
     "prompt_number": 11
    },
    {
     "cell_type": "markdown",
     "metadata": {},
     "source": [
      "- MagicMock \uc778\uc2a4\ud134\uc2a4\ub294 \uc77c\ubc18\uc801\uc73c\ub85c \ud638\ucd9c \uac00\ub2a5\ud55c \uac83\uc774\ub098 \uc778\uc2a4\ud134\uc2a4\ub97c \ud749\ub0b4\ub0b4\uae30 \uc704\ud55c \uac12\uc744 \uce58\ud658\ud560 \ub584 \uc0ac\uc6a9\ud568\n",
      "- \uc774 \uc778\uc2a4\ud134\uc2a4\ub294 \uc0ac\uc6a9 \uacfc\uc815\uc744 \uae30\ub85d\ud558\uace0 assert\ub97c \ud560 \uc218 \uc788\uc74c"
     ]
    },
    {
     "cell_type": "code",
     "collapsed": false,
     "input": [
      "from unittest.mock import MagicMock"
     ],
     "language": "python",
     "metadata": {},
     "outputs": [],
     "prompt_number": 12
    },
    {
     "cell_type": "code",
     "collapsed": false,
     "input": [
      "m = MagicMock(return_value = 10)"
     ],
     "language": "python",
     "metadata": {},
     "outputs": [],
     "prompt_number": 13
    },
    {
     "cell_type": "code",
     "collapsed": false,
     "input": [
      "m(1, 2, debug=True)"
     ],
     "language": "python",
     "metadata": {},
     "outputs": [
      {
       "metadata": {},
       "output_type": "pyout",
       "prompt_number": 14,
       "text": [
        "10"
       ]
      }
     ],
     "prompt_number": 14
    },
    {
     "cell_type": "code",
     "collapsed": false,
     "input": [
      "m.assert_called_with(1, 2, debug=True)"
     ],
     "language": "python",
     "metadata": {},
     "outputs": [],
     "prompt_number": 15
    },
    {
     "cell_type": "code",
     "collapsed": false,
     "input": [
      "m.assert_called_with(1, 2)"
     ],
     "language": "python",
     "metadata": {},
     "outputs": [
      {
       "ename": "AssertionError",
       "evalue": "Expected call: mock(1, 2)\nActual call: mock(1, 2, debug=True)",
       "output_type": "pyerr",
       "traceback": [
        "\u001b[0;31m---------------------------------------------------------------------------\u001b[0m\n\u001b[0;31mAssertionError\u001b[0m                            Traceback (most recent call last)",
        "\u001b[0;32m<ipython-input-16-4b979669dc9b>\u001b[0m in \u001b[0;36m<module>\u001b[0;34m()\u001b[0m\n\u001b[0;32m----> 1\u001b[0;31m \u001b[0mm\u001b[0m\u001b[0;34m.\u001b[0m\u001b[0massert_called_with\u001b[0m\u001b[0;34m(\u001b[0m\u001b[0;36m1\u001b[0m\u001b[0;34m,\u001b[0m \u001b[0;36m2\u001b[0m\u001b[0;34m)\u001b[0m\u001b[0;34m\u001b[0m\u001b[0m\n\u001b[0m",
        "\u001b[0;32m/usr/local/Cellar/python3/3.4.2_1/Frameworks/Python.framework/Versions/3.4/lib/python3.4/unittest/mock.py\u001b[0m in \u001b[0;36massert_called_with\u001b[0;34m(_mock_self, *args, **kwargs)\u001b[0m\n\u001b[1;32m    769\u001b[0m         \u001b[0;32mif\u001b[0m \u001b[0mexpected\u001b[0m \u001b[0;34m!=\u001b[0m \u001b[0mactual\u001b[0m\u001b[0;34m:\u001b[0m\u001b[0;34m\u001b[0m\u001b[0m\n\u001b[1;32m    770\u001b[0m             \u001b[0mcause\u001b[0m \u001b[0;34m=\u001b[0m \u001b[0mexpected\u001b[0m \u001b[0;32mif\u001b[0m \u001b[0misinstance\u001b[0m\u001b[0;34m(\u001b[0m\u001b[0mexpected\u001b[0m\u001b[0;34m,\u001b[0m \u001b[0mException\u001b[0m\u001b[0;34m)\u001b[0m \u001b[0;32melse\u001b[0m \u001b[0;32mNone\u001b[0m\u001b[0;34m\u001b[0m\u001b[0m\n\u001b[0;32m--> 771\u001b[0;31m             \u001b[0;32mraise\u001b[0m \u001b[0mAssertionError\u001b[0m\u001b[0;34m(\u001b[0m\u001b[0m_error_message\u001b[0m\u001b[0;34m(\u001b[0m\u001b[0;34m)\u001b[0m\u001b[0;34m)\u001b[0m \u001b[0;32mfrom\u001b[0m \u001b[0mcause\u001b[0m\u001b[0;34m\u001b[0m\u001b[0m\n\u001b[0m\u001b[1;32m    772\u001b[0m \u001b[0;34m\u001b[0m\u001b[0m\n\u001b[1;32m    773\u001b[0m \u001b[0;34m\u001b[0m\u001b[0m\n",
        "\u001b[0;31mAssertionError\u001b[0m: Expected call: mock(1, 2)\nActual call: mock(1, 2, debug=True)"
       ]
      }
     ],
     "prompt_number": 16
    },
    {
     "cell_type": "code",
     "collapsed": false,
     "input": [
      "m.upper.return_value = 'HELLO'"
     ],
     "language": "python",
     "metadata": {},
     "outputs": [],
     "prompt_number": 17
    },
    {
     "cell_type": "code",
     "collapsed": false,
     "input": [
      "m.upper('hello')"
     ],
     "language": "python",
     "metadata": {},
     "outputs": [
      {
       "metadata": {},
       "output_type": "pyout",
       "prompt_number": 19,
       "text": [
        "'HELLO'"
       ]
      }
     ],
     "prompt_number": 19
    },
    {
     "cell_type": "code",
     "collapsed": false,
     "input": [
      "m.upper('nice')"
     ],
     "language": "python",
     "metadata": {},
     "outputs": [
      {
       "metadata": {},
       "output_type": "pyout",
       "prompt_number": 20,
       "text": [
        "'HELLO'"
       ]
      }
     ],
     "prompt_number": 20
    },
    {
     "cell_type": "code",
     "collapsed": false,
     "input": [
      "assert m.upper.called"
     ],
     "language": "python",
     "metadata": {},
     "outputs": [],
     "prompt_number": 21
    },
    {
     "cell_type": "code",
     "collapsed": false,
     "input": [
      "m.split.return_value = ['hello', 'world']"
     ],
     "language": "python",
     "metadata": {},
     "outputs": [],
     "prompt_number": 27
    },
    {
     "cell_type": "code",
     "collapsed": false,
     "input": [
      "m.split('hello world')"
     ],
     "language": "python",
     "metadata": {},
     "outputs": [
      {
       "metadata": {},
       "output_type": "pyout",
       "prompt_number": 28,
       "text": [
        "['hello', 'world']"
       ]
      }
     ],
     "prompt_number": 28
    },
    {
     "cell_type": "code",
     "collapsed": false,
     "input": [
      "m.split.assert_called_with('hello world')"
     ],
     "language": "python",
     "metadata": {},
     "outputs": [],
     "prompt_number": 29
    },
    {
     "cell_type": "code",
     "collapsed": false,
     "input": [
      "m.split('nice good')"
     ],
     "language": "python",
     "metadata": {},
     "outputs": [
      {
       "metadata": {},
       "output_type": "pyout",
       "prompt_number": 30,
       "text": [
        "['hello', 'world']"
       ]
      }
     ],
     "prompt_number": 30
    },
    {
     "cell_type": "code",
     "collapsed": false,
     "input": [
      "m.split.assert_called_with('hello world')"
     ],
     "language": "python",
     "metadata": {},
     "outputs": [
      {
       "ename": "AssertionError",
       "evalue": "Expected call: split('hello world')\nActual call: split('nice good')",
       "output_type": "pyerr",
       "traceback": [
        "\u001b[0;31m---------------------------------------------------------------------------\u001b[0m\n\u001b[0;31mAssertionError\u001b[0m                            Traceback (most recent call last)",
        "\u001b[0;32m<ipython-input-31-db8c03143355>\u001b[0m in \u001b[0;36m<module>\u001b[0;34m()\u001b[0m\n\u001b[0;32m----> 1\u001b[0;31m \u001b[0mm\u001b[0m\u001b[0;34m.\u001b[0m\u001b[0msplit\u001b[0m\u001b[0;34m.\u001b[0m\u001b[0massert_called_with\u001b[0m\u001b[0;34m(\u001b[0m\u001b[0;34m'hello world'\u001b[0m\u001b[0;34m)\u001b[0m\u001b[0;34m\u001b[0m\u001b[0m\n\u001b[0m",
        "\u001b[0;32m/usr/local/Cellar/python3/3.4.2_1/Frameworks/Python.framework/Versions/3.4/lib/python3.4/unittest/mock.py\u001b[0m in \u001b[0;36massert_called_with\u001b[0;34m(_mock_self, *args, **kwargs)\u001b[0m\n\u001b[1;32m    769\u001b[0m         \u001b[0;32mif\u001b[0m \u001b[0mexpected\u001b[0m \u001b[0;34m!=\u001b[0m \u001b[0mactual\u001b[0m\u001b[0;34m:\u001b[0m\u001b[0;34m\u001b[0m\u001b[0m\n\u001b[1;32m    770\u001b[0m             \u001b[0mcause\u001b[0m \u001b[0;34m=\u001b[0m \u001b[0mexpected\u001b[0m \u001b[0;32mif\u001b[0m \u001b[0misinstance\u001b[0m\u001b[0;34m(\u001b[0m\u001b[0mexpected\u001b[0m\u001b[0;34m,\u001b[0m \u001b[0mException\u001b[0m\u001b[0;34m)\u001b[0m \u001b[0;32melse\u001b[0m \u001b[0;32mNone\u001b[0m\u001b[0;34m\u001b[0m\u001b[0m\n\u001b[0;32m--> 771\u001b[0;31m             \u001b[0;32mraise\u001b[0m \u001b[0mAssertionError\u001b[0m\u001b[0;34m(\u001b[0m\u001b[0m_error_message\u001b[0m\u001b[0;34m(\u001b[0m\u001b[0;34m)\u001b[0m\u001b[0;34m)\u001b[0m \u001b[0;32mfrom\u001b[0m \u001b[0mcause\u001b[0m\u001b[0;34m\u001b[0m\u001b[0m\n\u001b[0m\u001b[1;32m    772\u001b[0m \u001b[0;34m\u001b[0m\u001b[0m\n\u001b[1;32m    773\u001b[0m \u001b[0;34m\u001b[0m\u001b[0m\n",
        "\u001b[0;31mAssertionError\u001b[0m: Expected call: split('hello world')\nActual call: split('nice good')"
       ]
      }
     ],
     "prompt_number": 31
    },
    {
     "cell_type": "code",
     "collapsed": false,
     "input": [
      "m['blah']"
     ],
     "language": "python",
     "metadata": {},
     "outputs": [
      {
       "metadata": {},
       "output_type": "pyout",
       "prompt_number": 32,
       "text": [
        "<MagicMock name='mock.__getitem__()' id='4584589408'>"
       ]
      }
     ],
     "prompt_number": 32
    },
    {
     "cell_type": "code",
     "collapsed": false,
     "input": [
      "m.__getitem__.called"
     ],
     "language": "python",
     "metadata": {},
     "outputs": [
      {
       "metadata": {},
       "output_type": "pyout",
       "prompt_number": 33,
       "text": [
        "True"
       ]
      }
     ],
     "prompt_number": 33
    },
    {
     "cell_type": "code",
     "collapsed": false,
     "input": [
      "m.__getitem__.assert_called_with('blah')"
     ],
     "language": "python",
     "metadata": {},
     "outputs": [],
     "prompt_number": 34
    },
    {
     "cell_type": "code",
     "collapsed": false,
     "input": [
      "m.__getitem__.assert_called_with('nice')"
     ],
     "language": "python",
     "metadata": {},
     "outputs": [
      {
       "ename": "AssertionError",
       "evalue": "Expected call: __getitem__('nice')\nActual call: __getitem__('blah')",
       "output_type": "pyerr",
       "traceback": [
        "\u001b[0;31m---------------------------------------------------------------------------\u001b[0m\n\u001b[0;31mAssertionError\u001b[0m                            Traceback (most recent call last)",
        "\u001b[0;32m<ipython-input-35-64117def05bb>\u001b[0m in \u001b[0;36m<module>\u001b[0;34m()\u001b[0m\n\u001b[0;32m----> 1\u001b[0;31m \u001b[0mm\u001b[0m\u001b[0;34m.\u001b[0m\u001b[0m__getitem__\u001b[0m\u001b[0;34m.\u001b[0m\u001b[0massert_called_with\u001b[0m\u001b[0;34m(\u001b[0m\u001b[0;34m'nice'\u001b[0m\u001b[0;34m)\u001b[0m\u001b[0;34m\u001b[0m\u001b[0m\n\u001b[0m",
        "\u001b[0;32m/usr/local/Cellar/python3/3.4.2_1/Frameworks/Python.framework/Versions/3.4/lib/python3.4/unittest/mock.py\u001b[0m in \u001b[0;36massert_called_with\u001b[0;34m(_mock_self, *args, **kwargs)\u001b[0m\n\u001b[1;32m    769\u001b[0m         \u001b[0;32mif\u001b[0m \u001b[0mexpected\u001b[0m \u001b[0;34m!=\u001b[0m \u001b[0mactual\u001b[0m\u001b[0;34m:\u001b[0m\u001b[0;34m\u001b[0m\u001b[0m\n\u001b[1;32m    770\u001b[0m             \u001b[0mcause\u001b[0m \u001b[0;34m=\u001b[0m \u001b[0mexpected\u001b[0m \u001b[0;32mif\u001b[0m \u001b[0misinstance\u001b[0m\u001b[0;34m(\u001b[0m\u001b[0mexpected\u001b[0m\u001b[0;34m,\u001b[0m \u001b[0mException\u001b[0m\u001b[0;34m)\u001b[0m \u001b[0;32melse\u001b[0m \u001b[0;32mNone\u001b[0m\u001b[0;34m\u001b[0m\u001b[0m\n\u001b[0;32m--> 771\u001b[0;31m             \u001b[0;32mraise\u001b[0m \u001b[0mAssertionError\u001b[0m\u001b[0;34m(\u001b[0m\u001b[0m_error_message\u001b[0m\u001b[0;34m(\u001b[0m\u001b[0;34m)\u001b[0m\u001b[0;34m)\u001b[0m \u001b[0;32mfrom\u001b[0m \u001b[0mcause\u001b[0m\u001b[0;34m\u001b[0m\u001b[0m\n\u001b[0m\u001b[1;32m    772\u001b[0m \u001b[0;34m\u001b[0m\u001b[0m\n\u001b[1;32m    773\u001b[0m \u001b[0;34m\u001b[0m\u001b[0m\n",
        "\u001b[0;31mAssertionError\u001b[0m: Expected call: __getitem__('nice')\nActual call: __getitem__('blah')"
       ]
      }
     ],
     "prompt_number": 35
    },
    {
     "cell_type": "markdown",
     "metadata": {},
     "source": [
      "- \uc77c\ubc18\uc801\uc73c\ub85c \uc774\ub7f0 \uc791\uc5c5\uc740 \uc720\ub2db \ud14c\uc2a4\ud2b8\uc5d0\uc11c \uc218\ud589\ud568\n",
      "- \uc608\ub97c \ub4e4\uc5b4 \ub2e4\uc74c\uacfc \uac19\uc740 \ud568\uc218\uac00 \uc788\ub2e4\uace0 \uac00\uc815\ud574 \ubcf4\uc790"
     ]
    },
    {
     "cell_type": "code",
     "collapsed": false,
     "input": [
      "%cd 14"
     ],
     "language": "python",
     "metadata": {},
     "outputs": [
      {
       "output_type": "stream",
       "stream": "stdout",
       "text": [
        "/Users/re4lfl0w/Documents/ipython/books/python_cookbook/14\n"
       ]
      }
     ],
     "prompt_number": 37
    },
    {
     "cell_type": "code",
     "collapsed": false,
     "input": [
      "%%writefile example.py\n",
      "from urllib.request import urlopen\n",
      "import csv\n",
      "\n",
      "def dowprices():\n",
      "    u = urlopen('http://finance.yahoo.com/d/quotes.csv?s=@^DJI&f=sl1')\n",
      "    lines = (line.decode('utf-8') for line in u)\n",
      "    rows = (row for row in csv.reader(lines) if len(row) == 2)\n",
      "    prices = { name:float(price) for name, price in rows }\n",
      "    return prices"
     ],
     "language": "python",
     "metadata": {},
     "outputs": [
      {
       "output_type": "stream",
       "stream": "stdout",
       "text": [
        "Overwriting example.py\n"
       ]
      }
     ],
     "prompt_number": 42
    },
    {
     "cell_type": "markdown",
     "metadata": {},
     "source": [
      "- \uc774 \ud568\uc218\ub294 urlopen()\uc744 \uc0ac\uc6a9\ud574\uc11c \uc6f9\uc5d0\uc11c \ub370\uc774\ud130\ub97c \uc77d\uace0 \ud30c\uc2f1\n",
      "- \ud558\uc9c0\ub9cc \uc720\ub2db \ud14c\uc2a4\ud2b8\ub97c \ud558\ub824\uba74 \uc880 \ub354 \uc608\uce21 \uac00\ub2a5\ud55c \ub370\uc774\ud130\uc138\ud2b8\uc5d0 \ub118\uae30\ub294 \uac83\uc774 \uc88b\uc74c\n",
      "- \ub2e4\uc74c\uc740 patch\ub97c \uc0ac\uc6a9\ud558\ub294 \uc608\uc81c"
     ]
    },
    {
     "cell_type": "code",
     "collapsed": false,
     "input": [
      "%%writefile testexample.py\n",
      "import unittest\n",
      "from unittest.mock import patch\n",
      "import io\n",
      "import example\n",
      "\n",
      "sample_data = io.BytesIO(b'''\\\n",
      "\"IBM\",91.1\\r\n",
      "\"AA\",13.25\\r\n",
      "\"MSFT\",27.72\\r\n",
      "\\r\n",
      "''')\n",
      "\n",
      "class Tests(unittest.TestCase):\n",
      "    @patch('example.urlopen', return_value=sample_data)\n",
      "    def test_dowprices(self, mock_urlopen):\n",
      "        p = example.dowprices()\n",
      "        self.assertTrue(mock_urlopen.called)\n",
      "        self.assertEqual(p,\n",
      "                         {'IBM': 91.1,\n",
      "                          'AA': 13.25,\n",
      "                          'MSFT': 27.72})\n",
      "        \n",
      "if __name__ == '__main__':\n",
      "    unittest.main()"
     ],
     "language": "python",
     "metadata": {},
     "outputs": [
      {
       "output_type": "stream",
       "stream": "stdout",
       "text": [
        "Overwriting testexample.py\n"
       ]
      }
     ],
     "prompt_number": 61
    },
    {
     "cell_type": "code",
     "collapsed": false,
     "input": [
      "%run testexample.py"
     ],
     "language": "python",
     "metadata": {},
     "outputs": [
      {
       "output_type": "stream",
       "stream": "stderr",
       "text": [
        "."
       ]
      },
      {
       "output_type": "stream",
       "stream": "stderr",
       "text": [
        "\n",
        "----------------------------------------------------------------------\n",
        "Ran 1 test in 0.001s\n",
        "\n",
        "OK\n"
       ]
      }
     ],
     "prompt_number": 62
    },
    {
     "cell_type": "markdown",
     "metadata": {},
     "source": [
      "> Note: \uc544 \uc65c \uacc4\uc18d True\uac00 \ub5a8\uc5b4\uc9c0\ub294\uc9c0 \ubab0\ub790\ub294\ub370 patch\uc5d0\uc11c example.urlopen\uc758 return_value\ub97c sample_data\ub85c \ubc14\uafd4\uc92c\ub124."
     ]
    },
    {
     "cell_type": "code",
     "collapsed": false,
     "input": [
      "%%writefile testexample.py\n",
      "import unittest\n",
      "from unittest.mock import patch\n",
      "import io\n",
      "import example\n",
      "\n",
      "sample_data = io.BytesIO(b'''\\\n",
      "\"IBM\",91.1\\r\n",
      "\"AA\",13.25\\r\n",
      "\"MSFT\",27.72\\r\n",
      "\\r\n",
      "''')\n",
      "\n",
      "class Tests(unittest.TestCase):\n",
      "    @patch('example.urlopen')\n",
      "    def test_dowprices(self, mock_urlopen):\n",
      "        p = example.dowprices()\n",
      "        self.assertTrue(mock_urlopen.called)\n",
      "        self.assertEqual(p,\n",
      "                         {'IBM': 91.1,\n",
      "                          'AA': 13.25,\n",
      "                          'MSFT': 27.72})\n",
      "        \n",
      "if __name__ == '__main__':\n",
      "    unittest.main()"
     ],
     "language": "python",
     "metadata": {},
     "outputs": [
      {
       "output_type": "stream",
       "stream": "stdout",
       "text": [
        "Overwriting testexample.py\n"
       ]
      }
     ],
     "prompt_number": 63
    },
    {
     "cell_type": "code",
     "collapsed": false,
     "input": [
      "%run testexample.py"
     ],
     "language": "python",
     "metadata": {},
     "outputs": [
      {
       "output_type": "stream",
       "stream": "stderr",
       "text": [
        "F"
       ]
      },
      {
       "output_type": "stream",
       "stream": "stderr",
       "text": [
        "\n",
        "======================================================================\n",
        "FAIL: test_dowprices (__main__.Tests)\n",
        "----------------------------------------------------------------------\n",
        "Traceback (most recent call last):\n",
        "  File \"/usr/local/Cellar/python3/3.4.2_1/Frameworks/Python.framework/Versions/3.4/lib/python3.4/unittest/mock.py\", line 1136, in patched\n",
        "    return func(*args, **keywargs)\n",
        "  File \"/Users/re4lfl0w/Documents/ipython/books/python_cookbook/14/testexample.py\", line 21, in test_dowprices\n",
        "    'MSFT': 27.72})\n",
        "AssertionError: {} != {'MSFT': 27.72, 'AA': 13.25, 'IBM': 91.1}\n",
        "- {}\n",
        "+ {'AA': 13.25, 'IBM': 91.1, 'MSFT': 27.72}\n",
        "\n",
        "----------------------------------------------------------------------\n",
        "Ran 1 test in 0.002s\n",
        "\n",
        "FAILED (failures=1)\n"
       ]
      },
      {
       "ename": "SystemExit",
       "evalue": "True",
       "output_type": "pyerr",
       "traceback": [
        "An exception has occurred, use %tb to see the full traceback.\n",
        "\u001b[0;31mSystemExit\u001b[0m\u001b[0;31m:\u001b[0m True\n"
       ]
      }
     ],
     "prompt_number": 64
    },
    {
     "cell_type": "markdown",
     "metadata": {},
     "source": [
      "## 14.3 \uc720\ub2db \ud14c\uc2a4\ud2b8\uc5d0\uc11c \uc608\uc678 \uc870\uac74 \uc2dc\ud5d8\ud558\uae30\n",
      "\n",
      "### \ubb38\uc81c\n",
      "\n",
      "- \uc608\uc678\uac00 \ubc1c\uc0dd\ud588\uc744 \ub54c\ub3c4 \uc798 \ub3d9\uc791\ud558\ub294 \uc720\ub2db \ud14c\uc2a4\ud2b8\ub97c \uc791\uc131\ud558\uace0 \uc2f6\ub2e4\n",
      "\n",
      "### \ud574\uacb0\n",
      "\n",
      "- assertRaises() \uba54\uc18c\ub4dc\uac00 \uc774 \ubb38\uc81c\ub97c \ud574\uacb0\ud568\n",
      "- \uc608\ub97c \ub4e4\uc5b4, ValueError \uc608\uc678\uac00 \ubc1c\uc0dd\ud558\ub294 \ud568\uc218\ub97c \ud14c\uc2a4\ud305\ud55c\ub2e4\uba74 \ub2e4\uc74c\uacfc \uac19\uc740 \ucf54\ub4dc\ub97c \uc0ac\uc6a9\ud568"
     ]
    },
    {
     "cell_type": "code",
     "collapsed": false,
     "input": [
      "%%writefile testconversion.py\n",
      "# -*- coding: utf-8\n",
      "import unittest\n",
      "\n",
      "# \uc774\ud574\ub97c \ub3d5\uae30 \uc704\ud55c \uac04\ub2e8\ud55c \ud568\uc218\n",
      "def parse_int(s):\n",
      "    return int(s)\n",
      "\n",
      "class TestConversion(unittest.TestCase):\n",
      "    def test_bad_int(self):\n",
      "        self.assertRaises(ValueError, parse_int, 'N/A')\n",
      "        \n",
      "if __name__ == '__main__':\n",
      "    unittest.main()"
     ],
     "language": "python",
     "metadata": {},
     "outputs": [
      {
       "output_type": "stream",
       "stream": "stdout",
       "text": [
        "Overwriting testconversion.py\n"
       ]
      }
     ],
     "prompt_number": 73
    },
    {
     "cell_type": "code",
     "collapsed": false,
     "input": [
      "%run testconversion.py"
     ],
     "language": "python",
     "metadata": {},
     "outputs": [
      {
       "output_type": "stream",
       "stream": "stderr",
       "text": [
        "."
       ]
      },
      {
       "output_type": "stream",
       "stream": "stderr",
       "text": [
        "\n",
        "----------------------------------------------------------------------\n",
        "Ran 1 test in 0.001s\n",
        "\n",
        "OK\n"
       ]
      }
     ],
     "prompt_number": 74
    },
    {
     "cell_type": "code",
     "collapsed": false,
     "input": [
      "# assertRaises(self, excClass, callableObj=None, *args, **kwargs)\n",
      "unittest.TestCase.assertRaises?"
     ],
     "language": "python",
     "metadata": {},
     "outputs": [],
     "prompt_number": 79
    },
    {
     "cell_type": "code",
     "collapsed": false,
     "input": [
      "%%writefile testconversion.py\n",
      "# -*- coding: utf-8\n",
      "import unittest\n",
      "\n",
      "# \uc774\ud574\ub97c \ub3d5\uae30 \uc704\ud55c \uac04\ub2e8\ud55c \ud568\uc218\n",
      "def parse_int(s):\n",
      "    return int(s)\n",
      "\n",
      "class TestConversion(unittest.TestCase):\n",
      "    def test_bad_int(self):\n",
      "        self.assertRaises(ZeroDivisionError, parse_int, 'N/A')\n",
      "        \n",
      "if __name__ == '__main__':\n",
      "    unittest.main()"
     ],
     "language": "python",
     "metadata": {},
     "outputs": [
      {
       "output_type": "stream",
       "stream": "stdout",
       "text": [
        "Overwriting testconversion.py\n"
       ]
      }
     ],
     "prompt_number": 77
    },
    {
     "cell_type": "code",
     "collapsed": false,
     "input": [
      "%run testconversion.py"
     ],
     "language": "python",
     "metadata": {},
     "outputs": [
      {
       "output_type": "stream",
       "stream": "stderr",
       "text": [
        "F"
       ]
      },
      {
       "output_type": "stream",
       "stream": "stderr",
       "text": [
        "\n",
        "======================================================================\n",
        "FAIL: test_bad_int (__main__.TestConversion)\n",
        "----------------------------------------------------------------------\n",
        "Traceback (most recent call last):\n",
        "  File \"/Users/re4lfl0w/Documents/ipython/books/python_cookbook/14/testconversion.py\", line 10, in test_bad_int\n",
        "    self.assertRaises(ZeroDivisionError, parse_int, 5)\n",
        "AssertionError: ZeroDivisionError not raised by parse_int\n",
        "\n",
        "----------------------------------------------------------------------\n",
        "Ran 1 test in 0.001s\n",
        "\n",
        "FAILED (failures=1)\n"
       ]
      },
      {
       "ename": "SystemExit",
       "evalue": "True",
       "output_type": "pyerr",
       "traceback": [
        "An exception has occurred, use %tb to see the full traceback.\n",
        "\u001b[0;31mSystemExit\u001b[0m\u001b[0;31m:\u001b[0m True\n"
       ]
      }
     ],
     "prompt_number": 78
    },
    {
     "cell_type": "markdown",
     "metadata": {},
     "source": [
      "- \uc608\uc678\uc758 \uac12\uc744 \ud14c\uc2a4\ud305\ud574\uc57c \ud55c\ub2e4\uba74 \uc870\uae08 \ub2e4\ub978 \ubc29\ubc95\uc744 \uc0ac\uc6a9"
     ]
    },
    {
     "cell_type": "code",
     "collapsed": false,
     "input": [
      "%%writefile testio.py\n",
      "import unittest\n",
      "import errno\n",
      "\n",
      "class TestIO(unittest.TestCase):\n",
      "    def test_file_not_found(self):\n",
      "        try:\n",
      "            f = open('/file/not/found')\n",
      "        except IOError as e:\n",
      "            self.assertEqual(e.errno, errno.ENOENT)\n",
      "        else:\n",
      "            self.fail('IOError not raised')\n",
      "#             print('else statement')\n",
      "            \n",
      "if __name__ == '__main__':\n",
      "    unittest.main()"
     ],
     "language": "python",
     "metadata": {},
     "outputs": [
      {
       "output_type": "stream",
       "stream": "stdout",
       "text": [
        "Overwriting testio.py\n"
       ]
      }
     ],
     "prompt_number": 106
    },
    {
     "cell_type": "code",
     "collapsed": false,
     "input": [
      "%run testio.py"
     ],
     "language": "python",
     "metadata": {},
     "outputs": [
      {
       "output_type": "stream",
       "stream": "stderr",
       "text": [
        "."
       ]
      },
      {
       "output_type": "stream",
       "stream": "stderr",
       "text": [
        "\n",
        "----------------------------------------------------------------------\n",
        "Ran 1 test in 0.000s\n",
        "\n",
        "OK\n"
       ]
      }
     ],
     "prompt_number": 107
    },
    {
     "cell_type": "markdown",
     "metadata": {},
     "source": [
      "#### except\ub97c \ub2e4\ub978 Error\ub85c \ubc14\uafc8"
     ]
    },
    {
     "cell_type": "code",
     "collapsed": false,
     "input": [
      "%%writefile testio.py\n",
      "import unittest\n",
      "import errno\n",
      "\n",
      "class TestIO(unittest.TestCase):\n",
      "    def test_file_not_found(self):\n",
      "        try:\n",
      "            f = open('/file/not/found')\n",
      "        except ZeroDivisionError as e:\n",
      "            self.assertEqual(e.errno, errno.ENOENT)\n",
      "        else:\n",
      "            self.fail('IOError not raised')\n",
      "            \n",
      "if __name__ == '__main__':\n",
      "    unittest.main()"
     ],
     "language": "python",
     "metadata": {},
     "outputs": [
      {
       "output_type": "stream",
       "stream": "stdout",
       "text": [
        "Overwriting testio.py\n"
       ]
      }
     ],
     "prompt_number": 92
    },
    {
     "cell_type": "code",
     "collapsed": false,
     "input": [
      "%run testio.py"
     ],
     "language": "python",
     "metadata": {},
     "outputs": [
      {
       "output_type": "stream",
       "stream": "stderr",
       "text": [
        "E"
       ]
      },
      {
       "output_type": "stream",
       "stream": "stderr",
       "text": [
        "\n",
        "======================================================================\n",
        "ERROR: test_file_not_found (__main__.TestIO)\n",
        "----------------------------------------------------------------------\n",
        "Traceback (most recent call last):\n",
        "  File \"/Users/re4lfl0w/Documents/ipython/books/python_cookbook/14/testio.py\", line 7, in test_file_not_found\n",
        "    f = open('/file/not/found')\n",
        "FileNotFoundError: [Errno 2] No such file or directory: '/file/not/found'\n",
        "\n",
        "----------------------------------------------------------------------\n",
        "Ran 1 test in 0.001s\n",
        "\n",
        "FAILED (errors=1)\n"
       ]
      },
      {
       "ename": "SystemExit",
       "evalue": "True",
       "output_type": "pyerr",
       "traceback": [
        "An exception has occurred, use %tb to see the full traceback.\n",
        "\u001b[0;31mSystemExit\u001b[0m\u001b[0;31m:\u001b[0m True\n"
       ]
      }
     ],
     "prompt_number": 93
    },
    {
     "cell_type": "markdown",
     "metadata": {},
     "source": [
      "#### fail \ub54c\ubb38\uc5d0 \ud14c\uc2a4\ud2b8 \ucf00\uc774\uc2a4 \uc2e4\ud328"
     ]
    },
    {
     "cell_type": "code",
     "collapsed": false,
     "input": [
      "%%writefile testio.py\n",
      "import unittest\n",
      "import errno\n",
      "\n",
      "class TestIO(unittest.TestCase):\n",
      "    def test_file_not_found(self):\n",
      "        try:\n",
      "            f = open('/etc/passwd')\n",
      "        except IOError as e:\n",
      "            self.assertEqual(e.errno, errno.ENOENT)\n",
      "        else:\n",
      "            self.fail('IOError not raised')\n",
      "            \n",
      "if __name__ == '__main__':\n",
      "    unittest.main()"
     ],
     "language": "python",
     "metadata": {},
     "outputs": [
      {
       "output_type": "stream",
       "stream": "stdout",
       "text": [
        "Overwriting testio.py\n"
       ]
      }
     ],
     "prompt_number": 115
    },
    {
     "cell_type": "code",
     "collapsed": false,
     "input": [
      "%run testio.py"
     ],
     "language": "python",
     "metadata": {},
     "outputs": [
      {
       "output_type": "stream",
       "stream": "stderr",
       "text": [
        "F"
       ]
      },
      {
       "output_type": "stream",
       "stream": "stderr",
       "text": [
        "/usr/local/Cellar/python3/3.4.2_1/Frameworks/Python.framework/Versions/3.4/lib/python3.4/unittest/case.py:605: ResourceWarning: unclosed file <_io.TextIOWrapper name='/etc/passwd' mode='r' encoding='UTF-8'>\n",
        "  outcome.errors.clear()\n",
        "\n",
        "======================================================================\n",
        "FAIL: test_file_not_found (__main__.TestIO)\n",
        "----------------------------------------------------------------------\n",
        "Traceback (most recent call last):\n",
        "  File \"/Users/re4lfl0w/Documents/ipython/books/python_cookbook/14/testio.py\", line 11, in test_file_not_found\n",
        "    self.fail('IOError not raised')\n",
        "AssertionError: IOError not raised\n",
        "\n",
        "----------------------------------------------------------------------\n",
        "Ran 1 test in 0.001s\n",
        "\n",
        "FAILED (failures=1)\n"
       ]
      },
      {
       "ename": "SystemExit",
       "evalue": "True",
       "output_type": "pyerr",
       "traceback": [
        "An exception has occurred, use %tb to see the full traceback.\n",
        "\u001b[0;31mSystemExit\u001b[0m\u001b[0;31m:\u001b[0m True\n"
       ]
      }
     ],
     "prompt_number": 116
    },
    {
     "cell_type": "markdown",
     "metadata": {},
     "source": [
      "### \ud1a0\ub860\n",
      "\n",
      "- assertRaises() \uba54\uc18c\ub4dc\ub294 \uc608\uc678 \uc5ec\ubd80\ub97c \ud14c\uc2a4\ud305\ud560 \ub54c \ub9e4\uc6b0 \uc720\uc6a9\ud568\n",
      "- \uc77c\ubc18\uc801\uc73c\ub85c \uc800\uc9c0\ub974\uae30 \uc26c\uc6b4 \uc2e4\uc218\ub85c \uc608\uc678\ub97c \uc9c1\uc811 \ucc98\ub9ac\ud558\ub294 \ud14c\uc2a4\ud2b8\ub97c \uc791\uc131\ud558\ub294 \uac83"
     ]
    },
    {
     "cell_type": "code",
     "collapsed": false,
     "input": [
      "%%writefile testerror.py\n",
      "import unittest\n",
      "from testconversion import parse_int\n",
      "class TestConversion(unittest.TestCase):\n",
      "    def test_bad_int(self):\n",
      "        try:\n",
      "            r = parse_int('N/A')\n",
      "        except ValueError as e:\n",
      "            self.assertEqual(type(e), ValueError)\n",
      "            \n",
      "if __name__ == '__main__':\n",
      "    unittest.main()"
     ],
     "language": "python",
     "metadata": {},
     "outputs": [
      {
       "output_type": "stream",
       "stream": "stdout",
       "text": [
        "Overwriting testerror.py\n"
       ]
      }
     ],
     "prompt_number": 119
    },
    {
     "cell_type": "code",
     "collapsed": false,
     "input": [
      "%run testerror.py"
     ],
     "language": "python",
     "metadata": {},
     "outputs": [
      {
       "output_type": "stream",
       "stream": "stderr",
       "text": [
        "."
       ]
      },
      {
       "output_type": "stream",
       "stream": "stderr",
       "text": [
        "\n",
        "----------------------------------------------------------------------\n",
        "Ran 1 test in 0.001s\n",
        "\n",
        "OK\n"
       ]
      }
     ],
     "prompt_number": 120
    },
    {
     "cell_type": "markdown",
     "metadata": {},
     "source": [
      "- \uc774\ub7f0 \ubc29\uc2dd\uc740 \uc544\ubb34\ub7f0 \uc608\uc678\ub3c4 \ubc1c\uc0dd\ud558\uc9c0 \uc54a\ub294 \uc0c1\ud669\ucc98\ub7fc \uac04\uacfc\ud558\uae30 \uc26c\uc6b4 \uacbd\uc6b0\ub97c \uc27d\uac8c \uc78a\ub294\ub2e4\ub294 \ubb38\uc81c\uac00 \uc788\uc74c\n",
      "- \uc774\ub7f0 \uacbd\uc6b0\ub294 \ucd94\uac00\uc801\uc778 \ud655\uc778 \ucf54\ub4dc\ub85c \ud574\uacb0\ud568"
     ]
    },
    {
     "cell_type": "code",
     "collapsed": false,
     "input": [
      "%%writefile testerror2.py\n",
      "import unittest\n",
      "from testconversion import parse_int\n",
      "class TestConversion(unittest.TestCase):\n",
      "    def test_bad_int(self):\n",
      "        try:\n",
      "            r = parse_int('N/A')\n",
      "        except ValueError as e:\n",
      "            self.assertEqual(type(e), ValueError)\n",
      "        else:\n",
      "            self.fail('ValueError not raised!')\n",
      "            \n",
      "if __name__ == '__main__':\n",
      "    unittest.main()"
     ],
     "language": "python",
     "metadata": {},
     "outputs": [
      {
       "output_type": "stream",
       "stream": "stdout",
       "text": [
        "Writing testerror2.py\n"
       ]
      }
     ],
     "prompt_number": 121
    },
    {
     "cell_type": "code",
     "collapsed": false,
     "input": [
      "%run testerror2.py"
     ],
     "language": "python",
     "metadata": {},
     "outputs": [
      {
       "output_type": "stream",
       "stream": "stderr",
       "text": [
        "."
       ]
      },
      {
       "output_type": "stream",
       "stream": "stderr",
       "text": [
        "\n",
        "----------------------------------------------------------------------\n",
        "Ran 1 test in 0.000s\n",
        "\n",
        "OK\n"
       ]
      }
     ],
     "prompt_number": 122
    },
    {
     "cell_type": "markdown",
     "metadata": {},
     "source": [
      "- assertRaises() \uba54\uc18c\ub4dc\ub294 \uc774\ub7f0 \uc138\uc138\ud55c \ub0b4\uc6a9\uc744 \uc790\ub3d9\uc73c\ub85c \ucc98\ub9ac\ud574 \uc8fc\ubbc0\ub85c, \uc774\uac83\uc744 \uc0ac\uc6a9\ud558\ub3c4\ub85d \ud568\n",
      "\n",
      "\n",
      "- assertRaises()\uc5d0 \ud55c \uac00\uc9c0 \uc81c\uc57d \uc0ac\ud56d \uc874\uc7ac\n",
      "- \ubc14\ub85c \uc0dd\uc131\ub41c \uc608\uc678 \uac1d\uccb4\uc758 \uac12\uc744 \ud14c\uc2a4\ud305\ud558\ub294 \ubc29\ubc95\uc744 \uc81c\uacf5\ud558\uc9c0 \uc54a\ub294\ub2e4\ub294 \uc810\n",
      "- \uc774 \ubd80\ubd84\uc740 \uc55e\uc5d0 \ub098\uc628\ub300\ub85c \uc9c1\uc811 \ud655\uc778\ud574\uc57c \ud568\n",
      "- 2\uac00\uc9c0 \uadf9\ub2e8\uc801\uc778 \uc0c1\ud669 \uc0ac\uc774\uc5d0\uc11c assertRaisesRegex() \uba54\uc18c\ub4dc \uc0ac\uc6a9\uc744 \uace0\ub824\ud574\uc57c \ud568\n",
      "- \uc774 \uba54\uc18c\ub4dc\ub294 \uc608\uc678\uc5d0 \ub300\ud55c \ud14c\uc2a4\ud305\uacfc \ud568\uaed8 \uc608\uc678\uc758 \ubb38\uc790\uc5f4\uc5d0 \ub300\ud55c \uc815\uaddc \ud45c\ud604\uc2dd \ub9e4\uce6d\uc744 \ud568\uaed8 \uc81c\uacf5"
     ]
    },
    {
     "cell_type": "code",
     "collapsed": false,
     "input": [
      "%%writefile testconversion2.py\n",
      "# -*- coding: utf-8\n",
      "import unittest\n",
      "\n",
      "# \uc774\ud574\ub97c \ub3d5\uae30 \uc704\ud55c \uac04\ub2e8\ud55c \ud568\uc218\n",
      "def parse_int(s):\n",
      "    return int(s)\n",
      "\n",
      "class TestConversion(unittest.TestCase):\n",
      "    def test_bad_int(self):\n",
      "        self.assertRaisesRegex(ValueError, 'invalid literal .*', \n",
      "                               parse_int, 'N/A')\n",
      "        \n",
      "if __name__ == '__main__':\n",
      "    unittest.main()"
     ],
     "language": "python",
     "metadata": {},
     "outputs": [
      {
       "output_type": "stream",
       "stream": "stdout",
       "text": [
        "Overwriting testconversion2.py\n"
       ]
      }
     ],
     "prompt_number": 127
    },
    {
     "cell_type": "code",
     "collapsed": false,
     "input": [
      "%run testconversion2.py"
     ],
     "language": "python",
     "metadata": {},
     "outputs": [
      {
       "output_type": "stream",
       "stream": "stderr",
       "text": [
        "."
       ]
      },
      {
       "output_type": "stream",
       "stream": "stderr",
       "text": [
        "\n",
        "----------------------------------------------------------------------\n",
        "Ran 1 test in 0.000s\n",
        "\n",
        "OK\n"
       ]
      }
     ],
     "prompt_number": 128
    },
    {
     "cell_type": "markdown",
     "metadata": {},
     "source": [
      "#### \uc77c\ubd80\ub7ec \uc815\uaddc\ud45c\ud604\uc2dd \ubb38\uc790\uc5f4 \ub2e4\ub974\uac8c \uc5d0\ub7ec \ubc1c\uc0dd\ud558\uac8c \ud568"
     ]
    },
    {
     "cell_type": "code",
     "collapsed": false,
     "input": [
      "%%writefile testconversion2.py\n",
      "# -*- coding: utf-8\n",
      "import unittest\n",
      "\n",
      "# \uc774\ud574\ub97c \ub3d5\uae30 \uc704\ud55c \uac04\ub2e8\ud55c \ud568\uc218\n",
      "def parse_int(s):\n",
      "    return int(s)\n",
      "\n",
      "class TestConversion(unittest.TestCase):\n",
      "    def test_bad_int(self):\n",
      "        self.assertRaisesRegex(ValueError, 'invalid literal2 .*', \n",
      "                               parse_int, 'N/A')\n",
      "        \n",
      "if __name__ == '__main__':\n",
      "    unittest.main()"
     ],
     "language": "python",
     "metadata": {},
     "outputs": [
      {
       "output_type": "stream",
       "stream": "stdout",
       "text": [
        "Overwriting testconversion2.py\n"
       ]
      }
     ],
     "prompt_number": 132
    },
    {
     "cell_type": "code",
     "collapsed": false,
     "input": [
      "%run testconversion2.py"
     ],
     "language": "python",
     "metadata": {},
     "outputs": [
      {
       "output_type": "stream",
       "stream": "stderr",
       "text": [
        "F"
       ]
      },
      {
       "output_type": "stream",
       "stream": "stderr",
       "text": [
        "\n",
        "======================================================================\n",
        "FAIL: test_bad_int (__main__.TestConversion)\n",
        "----------------------------------------------------------------------\n",
        "ValueError: invalid literal for int() with base 10: 'N/A'\n",
        "\n",
        "During handling of the above exception, another exception occurred:\n",
        "\n",
        "Traceback (most recent call last):\n",
        "  File \"/Users/re4lfl0w/Documents/ipython/books/python_cookbook/14/testconversion2.py\", line 11, in test_bad_int\n",
        "    parse_int, 'N/A')\n",
        "AssertionError: \"invalid literal2 .*\" does not match \"invalid literal for int() with base 10: 'N/A'\"\n",
        "\n",
        "----------------------------------------------------------------------\n",
        "Ran 1 test in 0.001s\n",
        "\n",
        "FAILED (failures=1)\n"
       ]
      },
      {
       "ename": "SystemExit",
       "evalue": "True",
       "output_type": "pyerr",
       "traceback": [
        "An exception has occurred, use %tb to see the full traceback.\n",
        "\u001b[0;31mSystemExit\u001b[0m\u001b[0;31m:\u001b[0m True\n"
       ]
      }
     ],
     "prompt_number": 133
    },
    {
     "cell_type": "markdown",
     "metadata": {},
     "source": [
      "- assertRaises()\uc640 assertRaisesRegex()\uc758 \uc798 \uc54c\ub824\uc9c0\uc9c0 \uc54a\uc740 \uae30\ub2a5\uc774 \ud55c \uac00\uc9c0 \uc874\uc7ac\n",
      "- \ubc14\ub85c \uc774 \uba54\uc18c\ub4dc\ub97c \ucf58\ud0dd\uc2a4\ud2b8 \ub9e4\ub2c8\uc800\ub85c \uc0ac\uc6a9\ud560 \uc218 \uc788\ub2e4\ub294 \uc810"
     ]
    },
    {
     "cell_type": "code",
     "collapsed": false,
     "input": [
      "%%writefile testconversion3.py\n",
      "# -*- coding: utf-8\n",
      "import unittest\n",
      "\n",
      "# \uc774\ud574\ub97c \ub3d5\uae30 \uc704\ud55c \uac04\ub2e8\ud55c \ud568\uc218\n",
      "def parse_int(s):\n",
      "    return int(s)\n",
      "\n",
      "class TestConversion(unittest.TestCase):\n",
      "    def test_bad_int(self):\n",
      "        with self.assertRaisesRegex(ValueError, 'invalid literal .*'):\n",
      "            r = parse_int('N/A')\n",
      "        \n",
      "if __name__ == '__main__':\n",
      "    unittest.main()"
     ],
     "language": "python",
     "metadata": {},
     "outputs": [
      {
       "output_type": "stream",
       "stream": "stdout",
       "text": [
        "Writing testconversion3.py\n"
       ]
      }
     ],
     "prompt_number": 134
    },
    {
     "cell_type": "code",
     "collapsed": false,
     "input": [
      "%run testconversion3.py"
     ],
     "language": "python",
     "metadata": {},
     "outputs": [
      {
       "output_type": "stream",
       "stream": "stderr",
       "text": [
        "."
       ]
      },
      {
       "output_type": "stream",
       "stream": "stderr",
       "text": [
        "\n",
        "----------------------------------------------------------------------\n",
        "Ran 1 test in 0.000s\n",
        "\n",
        "OK\n"
       ]
      }
     ],
     "prompt_number": 135
    },
    {
     "cell_type": "markdown",
     "metadata": {},
     "source": [
      "- \uc774\ub7f0 \ud615\ud0dc\ub294 \ud14c\uc2a4\ud305\uc774 \ub2e8\uc21c\ud55c \ud638\ucd9c \uac00\ub2a5 \uac1d\uccb4\uac00 \uc544\ub2cc \uc5ec\ub7ec \ub2e8\uacc4(\uc608: \uc124\uc815)\uac00 \ud3ec\ud568\ub41c \uacbd\uc6b0 \uc720\uc6a9\ud558\uac8c \uc0ac\uc6a9\ud560 \uc218 \uc788\uc74c"
     ]
    },
    {
     "cell_type": "markdown",
     "metadata": {},
     "source": [
      "## 14.4 \ud30c\uc77c\uc5d0 \ud14c\uc2a4\ud2b8 \uacb0\uacfc \uae30\ub85d\n",
      "\n",
      "### \ubb38\uc81c\n",
      "\n",
      "- \uc720\ub2db \ud14c\uc2a4\ud2b8 \uacb0\uacfc\ub97c \ud654\uba74\uc5d0 \ucd9c\ub825\ud558\uc9c0 \uc54a\uace0 \ud30c\uc77c\uc5d0 \uae30\ub85d\ud558\uace0 \uc2f6\ub2e4\n",
      "\n",
      "### \ud574\uacb0\n",
      "\n",
      "- \uc720\ub2db \ud14c\uc2a4\ud2b8\ub97c \ud560 \ub54c \ub2e4\uc74c\uacfc \uac19\uc774 \uc9e7\uc740 \ucf54\ub4dc\ub97c \ud14c\uc2a4\ud2b8 \ud30c\uc77c \ubc11\uc5d0 \ub123\ub294 \ubc29\uc2dd\uc744 \uc77c\ubc18\uc801\uc73c\ub85c \uc0ac\uc6a9\ud568\n",
      "\n",
      "```python\n",
      "import unittest\n",
      "\n",
      "class MyTest(unittest.TestCase):\n",
      "    ...\n",
      "    \n",
      "if __name__ == '__main__':\n",
      "    unittest.main()\n",
      "```\n",
      "\n",
      "- \uc774\ub807\uac8c \ud558\uba74 \ud14c\uc2a4\ud2b8 \ud30c\uc77c\uc744 \uc2e4\ud589\ud560 \uc218 \uc788\uace0, \ud14c\uc2a4\ud2b8 \uacb0\uacfc\ub97c \ud45c\uc900 \ucd9c\ub825\uc5d0 \uae30\ub85d\ud568\n",
      "- \uc774 \ucd9c\ub825\uc744 \ub9ac\ub2e4\uc774\ub809\ud2b8 \ud558\ub824\uba74 main() \ud638\ucd9c\uc744 \ub2e4\uc74c\uacfc \uac19\uc774 \uc870\uae08 \uc218\uc815\ud574\uc57c \ud568"
     ]
    },
    {
     "cell_type": "code",
     "collapsed": false,
     "input": [
      "%%writefile test_output_file.py\n",
      "import sys\n",
      "import unittest\n",
      "\n",
      "def parse_int(s):\n",
      "    return int(s)\n",
      "\n",
      "class TestConversion(unittest.TestCase):\n",
      "    def test_bad_int(self):\n",
      "        with self.assertRaisesRegex(ValueError, 'invalid literal .*'):\n",
      "            r = parse_int('N/A')\n",
      "\n",
      "def main(out=sys.stderr, verbosity=2):\n",
      "    loader = unittest.TestLoader()\n",
      "    suite = loader.loadTestsFromModule(sys.modules[__name__])\n",
      "    unittest.TextTestRunner(out, verbosity=verbosity).run(suite)\n",
      "    \n",
      "if __name__ == '__main__':\n",
      "    with open('testing.out', 'w') as f:\n",
      "        main(f)"
     ],
     "language": "python",
     "metadata": {},
     "outputs": [
      {
       "output_type": "stream",
       "stream": "stdout",
       "text": [
        "Writing test_output_file.py\n"
       ]
      }
     ],
     "prompt_number": 136
    },
    {
     "cell_type": "code",
     "collapsed": false,
     "input": [
      "%run test_output_file.py"
     ],
     "language": "python",
     "metadata": {},
     "outputs": [],
     "prompt_number": 137
    },
    {
     "cell_type": "code",
     "collapsed": false,
     "input": [
      "!cat testing.out"
     ],
     "language": "python",
     "metadata": {},
     "outputs": [
      {
       "output_type": "stream",
       "stream": "stdout",
       "text": [
        "test_bad_int (__main__.TestConversion) ... ok\r\n",
        "\r\n",
        "----------------------------------------------------------------------\r\n",
        "Ran 1 test in 0.000s\r\n",
        "\r\n",
        "OK\r\n"
       ]
      }
     ],
     "prompt_number": 138
    },
    {
     "cell_type": "markdown",
     "metadata": {},
     "source": [
      "#### \uc815\uaddc\uc2dd \ubb38\uc790\uc5f4 \ubc14\uafd4\uc11c \uc5d0\ub7ec \ubc1c\uc0dd"
     ]
    },
    {
     "cell_type": "code",
     "collapsed": false,
     "input": [
      "%%writefile test_output_file2.py\n",
      "import sys\n",
      "import unittest\n",
      "\n",
      "def parse_int(s):\n",
      "    return int(s)\n",
      "\n",
      "class TestConversion(unittest.TestCase):\n",
      "    def test_bad_int(self):\n",
      "        with self.assertRaisesRegex(ValueError, 'invalid literal2 .*'):\n",
      "            r = parse_int('N/A')\n",
      "\n",
      "def main(out=sys.stderr, verbosity=2):\n",
      "    loader = unittest.TestLoader()\n",
      "    suite = loader.loadTestsFromModule(sys.modules[__name__])\n",
      "    unittest.TextTestRunner(out, verbosity=verbosity).run(suite)\n",
      "    \n",
      "if __name__ == '__main__':\n",
      "    with open('testing.out', 'w') as f:\n",
      "        main(f)"
     ],
     "language": "python",
     "metadata": {},
     "outputs": [
      {
       "output_type": "stream",
       "stream": "stdout",
       "text": [
        "Writing test_output_file2.py\n"
       ]
      }
     ],
     "prompt_number": 139
    },
    {
     "cell_type": "code",
     "collapsed": false,
     "input": [
      "%run test_output_file2.py"
     ],
     "language": "python",
     "metadata": {},
     "outputs": [],
     "prompt_number": 140
    },
    {
     "cell_type": "code",
     "collapsed": false,
     "input": [
      "!cat testing.out"
     ],
     "language": "python",
     "metadata": {},
     "outputs": [
      {
       "output_type": "stream",
       "stream": "stdout",
       "text": [
        "test_bad_int (__main__.TestConversion) ... FAIL\r\n",
        "\r\n",
        "======================================================================\r\n",
        "FAIL: test_bad_int (__main__.TestConversion)\r\n",
        "----------------------------------------------------------------------\r\n",
        "ValueError: invalid literal for int() with base 10: 'N/A'\r\n",
        "\r\n",
        "During handling of the above exception, another exception occurred:\r\n",
        "\r\n",
        "Traceback (most recent call last):\r\n",
        "  File \"/Users/re4lfl0w/Documents/ipython/books/python_cookbook/14/test_output_file2.py\", line 10, in test_bad_int\r\n",
        "    r = parse_int('N/A')\r\n",
        "AssertionError: \"invalid literal2 .*\" does not match \"invalid literal for int() with base 10: 'N/A'\"\r\n",
        "\r\n",
        "----------------------------------------------------------------------\r\n",
        "Ran 1 test in 0.001s\r\n",
        "\r\n",
        "FAILED (failures=1)\r\n"
       ]
      }
     ],
     "prompt_number": 141
    },
    {
     "cell_type": "markdown",
     "metadata": {},
     "source": [
      "### \ud1a0\ub860\n",
      "\n",
      "- \uc774\ubc88 \uc7a5\uc758 \ud765\ubbf8\ub85c\uc6b4 \uc810\uc740 \ud14c\uc2a4\ud2b8 \uacb0\uacfc\ub97c \ud30c\uc77c\uc5d0 \ub9ac\ub2e4\uc774\ub809\ud2b8\ud558\ub294 \uc791\uc5c5 \uc790\uccb4\uac00 \uc544\ub2c8\ub77c, \uc774\ub807\uac8c \ud568\uc73c\ub85c\uc368 unittest \ubaa8\ub4c8\uc758 \ub0b4\ubd80 \ub3d9\uc791\uc744 \uc678\ubd80\ub85c \ub178\ucd9c\ud55c\ub2e4\ub294 \uc810\n",
      "\n",
      "\n",
      "- \uae30\ubcf8\uc801\uc73c\ub85c unittest \ubaa8\ub4c8\uc740 \uc6b0\uc120\uc801\uc73c\ub85c \ud14c\uc2a4\ud2b8 \uc138\ud2b8\ub97c \uc870\ub9bd\ud558\ub294 \uac83\ubd80\ud130 \uc2dc\uc791\ud568\n",
      "- \uc774 \ud14c\uc2a4\ud2b8 \uc138\ud2b8\ub294 \uc6b0\ub9ac\uac00 \uc815\uc758\ud55c \ud14c\uc2a4\ud305 \uba54\uc18c\ub4dc\ub85c \uad6c\uc131\ub418\uc5b4 \uc788\uc74c\n",
      "- \uc870\ub9bd\uc744 \ub9c8\uce58\uace0 \ub098\uba74 \uc774 \uc138\ud2b8\uac00 \uac00\uc9c0\uace0 \uc788\ub294 \ud14c\uc2a4\ud2b8\ub97c \uc2e4\ud589\ud568\n",
      "\n",
      "\n",
      "- \uc720\ub2db \ud14c\uc2a4\ud305\uc758 2 \ubd80\ubd84\uc740 \uc11c\ub85c \ubd84\ub9ac\ub428\n",
      "- \ud14c\uc2a4\ud2b8 \uc138\ud2b8\ub97c \uc870\ub9bd\ud560 \ub54c \uc55e\uc5d0 \ub098\uc628 \uc608\uc81c\uc758 unittest.TestLoader \uc778\uc2a4\ud134\uc2a4\ub97c \uc0ac\uc6a9\ud588\uc74c\n",
      "- \uc774 \uc778\uc2a4\ud134\uc2a4\uac00 \uc815\uc758\ud55c \uc5ec\ub7ec \uba54\uc18c\ub4dc \uc911 \ud558\ub098\uc778 loadTestsFromModule()\uc744 \uc0ac\uc6a9\ud574\uc11c \ud14c\uc2a4\ud2b8\ub97c \ubaa8\uc558\uc74c\n",
      "- \uc774 \uacbd\uc6b0 TestCase \ud074\ub798\uc2a4\uc758 \ubaa8\ub4c8\uc744 \uc2a4\uce94\ud558\uace0 \uadf8 \uc911 \ud14c\uc2a4\ud2b8 \uba54\uc18c\ub4dc\ub97c \ucd94\ucd9c\ud568\n",
      "- \uc880 \ub354 \uc815\uc81c\ub41c \ubc29\uc2dd\uc744 \uc6d0\ud55c\ub2e4\uba74 loadTestsFromTestCase() \uba54\uc18c\ub4dc\ub97c \uc0ac\uc6a9\ud574\uc11c TestCase\ub85c\ubd80\ud130 \uc0c1\uc18d\ubc1b\uc740 \uac1c\ubcc4 \ud074\ub798\uc2a4\uc758 \ud14c\uc2a4\ud2b8 \uba54\uc18c\ub4dc\ub97c \ubd88\ub7ec\uc62c \uc218 \uc788\uc74c(\uc55e\uc5d0 \ub098\uc624\uc9c0\ub294 \uc54a\uc74c)\n",
      "- TextTestRunner \ud074\ub798\uc2a4\ub294 \ud14c\uc2a4\ud2b8 \ub7ec\ub108 \ud074\ub798\uc2a4(test runner class)\uc758 \uc608\uc81c\n",
      "- \uc774 \ud074\ub798\uc2a4\uc758 \uc8fc\uc694 \ubaa9\uc801\uc740 \ud14c\uc2a4\ud2b8 \uc138\ud2b8\uc5d0 \ud3ec\ud568\ub418\uc5b4 \uc788\ub294 \ud14c\uc2a4\ud2b8\ub97c \uc2e4\ud589\ud558\ub294 \uac83\n",
      "- \uc774 \ud074\ub798\uc2a4\ub294 unittest.main() \ud568\uc218\uc5d0 \uc788\ub294 \ud14c\uc2a4\ud2b8 \ub7ec\ub108\uc640 \ub3d9\uc77c\ud568\n",
      "- \ud558\uc9c0\ub9cc \uc6b0\ub9ac\ub294 \uc5ec\uae30\uc5d0 \uc880 \ub354 \uc790\uc138\ud55c \uacb0\uacfc \ud30c\uc77c \ud3ec\ud568 \ub4f1 \ud558\uc704 \ub808\ubca8 \uc124\uc815\uc744 \ud568\n",
      "- \uc774\ubc88 \ub808\uc2dc\ud53c\uc5d0 \ub098\uc628 \ucf54\ub4dc\uc758 \uc591\uc774 \ub9ce\uc9c0\ub294 \uc54a\uc558\uc9c0\ub9cc, unittest \ud504\ub808\uc784\uc6cc\ud06c\ub97c \uc798 \ud65c\uc6a9\ud558\uae30 \uc704\ud55c \uae30\ucd08\ub85c\ub294 \ucda9\ubd84\ud568\n",
      "- \ud14c\uc2a4\ud2b8 \uc138\ud2b8\ub97c \uc5b4\ub5bb\uac8c \uc870\ub9bd\ud560\uc9c0 \ucee4\uc2a4\ud130\ub9c8\uc774\uc988\ud558\uae30 \uc704\ud574\uc11c, TestLoader \ud074\ub798\uc2a4\ub97c \uc0ac\uc6a9\ud574\uc11c \uc5ec\ub7ec \uc791\uc5c5\uc744 \uc218\ud589\ud568\n",
      "- \uc5b4\ub5bb\uac8c \ud14c\uc2a4\ud2b8\ub97c \uc2e4\ud589\ud560 \uac83\uc778\uc9c0 \ucee4\uc2a4\ud130\ub9c8\uc774\uc988 \ud558\uae30 \uc704\ud574\uc11c, \ucee4\uc2a4\ud140 \ud14c\uc2a4\ud2b8 \ub7ec\ub108 \ud074\ub798\uc2a4\ub97c \ub9cc\ub4e4\uace0 TextTestRunner \uae30\ub2a5\uc744 \ud749\ub0b4\ub0bc \uc218 \uc788\uc74c\n",
      "- \uc774 2\uac00\uc9c0 \uc8fc\uc81c\ub294 \ubaa8\ub450 \uc774 \ucc45\uc758 \ubc94\uc704\ub97c \ub118\uc5b4\uc12c\n",
      "- \ud558\uc9c0\ub9cc, unittest \ubaa8\ub4c8\uc758 \ubb38\uc11c\uc5d0 \ub0b4\ubd80 \ud504\ub85c\ud1a0\ucf5c\uc758 \ud655\uc7a5 \uae30\ub2a5\uae4c\uc9c0 \uc798 \uc124\uba85\ub418\uc5b4 \uc788\uc73c\ub2c8 \ucc38\uace0"
     ]
    },
    {
     "cell_type": "markdown",
     "metadata": {},
     "source": [
      "## 14.5 \ud14c\uc2a4\ud2b8 \uc2e4\ud328 \uc608\uce21\uacfc \uac74\ub108\ub700\n",
      "\n",
      "### \ubb38\uc81c\n",
      "\n",
      "- \uc720\ub2db \ud14c\uc2a4\ud2b8 \ub0b4\ubd80\uc5d0 \uc2e4\ud328\ud560 \uac83\uc774\ub77c \uc608\uc0c1\ub418\ub294 \ud14c\uc2a4\ud2b8\ub97c \uc120\ud0dd\ud558\uac70\ub098 \uac74\ub108\ub6f0\uace0 \uc2f6\ub2e4\n",
      "\n",
      "### \ud574\uacb0\n",
      "\n",
      "- unittest \ubaa8\ub4c8\uc5d0\ub294 \uc120\ud0dd\ud55c \ubaa8\ub4c8\uc5d0 \uc801\uc6a9\ud574\uc11c \uadf8 \ucc98\ub9ac\ub97c \uc81c\uc5b4\ud560 \uc218 \uc788\ub294 \ub370\ucf54\ub808\uc774\ud130 \uc874\uc7ac"
     ]
    },
    {
     "cell_type": "code",
     "collapsed": false,
     "input": [
      "%%writefile testsample.py\n",
      "import unittest\n",
      "import os\n",
      "import platform\n",
      "\n",
      "class Tests(unittest.TestCase):\n",
      "    def test_0(self):\n",
      "        self.assertTrue(True)\n",
      "        \n",
      "    @unittest.skip('skipped test')\n",
      "    def test_1(self):\n",
      "        self.fail('should have failed!')\n",
      "        \n",
      "    @unittest.skipIf(os.name=='posix', 'Not supported on Unix')\n",
      "    def test_2(self):\n",
      "        import winreg\n",
      "        \n",
      "    @unittest.skipUnless(platform.system() == 'Darwin', 'Mac specific test')\n",
      "    def test_3(self):\n",
      "        self.assertTrue(True)\n",
      "        \n",
      "    @unittest.expectedFailure\n",
      "    def test_4(self):\n",
      "        self.assertEqual(2+2, 5)\n",
      "        \n",
      "\n",
      "if __name__ == '__main__':\n",
      "    unittest.main()        "
     ],
     "language": "python",
     "metadata": {},
     "outputs": [
      {
       "output_type": "stream",
       "stream": "stdout",
       "text": [
        "Writing testsample.py\n"
       ]
      }
     ],
     "prompt_number": 143
    },
    {
     "cell_type": "markdown",
     "metadata": {},
     "source": [
      "- \uc774 \ucf54\ub4dc\ub97c Mac\uc5d0\uc11c \uc2e4\ud589\ud558\uba74 \ub2e4\uc74c\uacfc \uac19\uc740 \uacb0\uacfc"
     ]
    },
    {
     "cell_type": "code",
     "collapsed": false,
     "input": [
      "%run testsample.py"
     ],
     "language": "python",
     "metadata": {},
     "outputs": [
      {
       "output_type": "stream",
       "stream": "stderr",
       "text": [
        "."
       ]
      },
      {
       "output_type": "stream",
       "stream": "stderr",
       "text": [
        "s"
       ]
      },
      {
       "output_type": "stream",
       "stream": "stderr",
       "text": [
        "s"
       ]
      },
      {
       "output_type": "stream",
       "stream": "stderr",
       "text": [
        "."
       ]
      },
      {
       "output_type": "stream",
       "stream": "stderr",
       "text": [
        "x"
       ]
      },
      {
       "output_type": "stream",
       "stream": "stderr",
       "text": [
        "\n",
        "----------------------------------------------------------------------\n",
        "Ran 5 tests in 0.002s\n",
        "\n",
        "OK (skipped=2, expected failures=1)\n"
       ]
      }
     ],
     "prompt_number": 144
    },
    {
     "cell_type": "code",
     "collapsed": false,
     "input": [
      "import os\n",
      "os.name"
     ],
     "language": "python",
     "metadata": {},
     "outputs": [
      {
       "metadata": {},
       "output_type": "pyout",
       "prompt_number": 145,
       "text": [
        "'posix'"
       ]
      }
     ],
     "prompt_number": 145
    },
    {
     "cell_type": "code",
     "collapsed": false,
     "input": [
      "import platform\n",
      "platform.system()"
     ],
     "language": "python",
     "metadata": {},
     "outputs": [
      {
       "metadata": {},
       "output_type": "pyout",
       "prompt_number": 146,
       "text": [
        "'Darwin'"
       ]
      }
     ],
     "prompt_number": 146
    },
    {
     "cell_type": "code",
     "collapsed": false,
     "input": [
      "platform.architecture()"
     ],
     "language": "python",
     "metadata": {},
     "outputs": [
      {
       "metadata": {},
       "output_type": "pyout",
       "prompt_number": 149,
       "text": [
        "('64bit', '')"
       ]
      }
     ],
     "prompt_number": 149
    },
    {
     "cell_type": "code",
     "collapsed": false,
     "input": [
      "platform.python_version()"
     ],
     "language": "python",
     "metadata": {},
     "outputs": [
      {
       "metadata": {},
       "output_type": "pyout",
       "prompt_number": 153,
       "text": [
        "'3.4.2'"
       ]
      }
     ],
     "prompt_number": 153
    },
    {
     "cell_type": "code",
     "collapsed": false,
     "input": [
      "platform.mac_ver()"
     ],
     "language": "python",
     "metadata": {},
     "outputs": [
      {
       "metadata": {},
       "output_type": "pyout",
       "prompt_number": 154,
       "text": [
        "('10.10', ('', '', ''), 'x86_64')"
       ]
      }
     ],
     "prompt_number": 154
    },
    {
     "cell_type": "markdown",
     "metadata": {},
     "source": [
      "### \ud1a0\ub860\n",
      "\n",
      "- \uc808\ub300\ub85c \uc2e4\ud589\ud558\uace0 \uc2f6\uc9c0 \uc54a\uc740 \ud14c\uc2a4\ud2b8\ub294 skip() \ub370\ucf54\ub808\uc774\ud130\ub97c \uc0ac\uc6a9\ud574\uc11c \uac74\ub108\ub6f8 \uc218 \uc788\uc74c\n",
      "- skipIf()\uc640 skipUnless()\ub294 \ud2b9\uc815 \ud50c\ub7ab\ud3fc\uc774\ub098 \ud30c\uc774\uc36c \ubc84\uc804 \ub4f1\uc758 \uc870\uac74\uc744 \ub9cc\uc871\ud560 \ub54c\ub9cc \uc801\uc6a9\ud560 \ub54c \uc720\uc6a9\n",
      "- @expectedFailure \ub370\ucf54\ub808\uc774\ud130\ub294 \uc2e4\ud328\ud560 \uac83\uc744 \uc774\ubbf8 \uc54c\uace0 \uc788\uc9c0\ub9cc, \ud14c\uc2a4\ud2b8 \ud504\ub808\uc784\uc6cc\ud06c\uac00 \uc790\uc138\ud55c \uc815\ubcf4\ub97c \ubcf4\uace0\ud558\uc9c0 \uc54a\ub3c4\ub85d \ud560 \ub54c \uc0ac\uc6a9\ud568\n",
      "- \uba54\uc18c\ub4dc\ub97c \uac74\ub108\ub6f0\ub294 \ub370\ucf54\ub808\uc774\ud130\ub294 \ud14c\uc2a4\ud305 \ud074\ub798\uc2a4 \uc804\uccb4\uc5d0 \uc801\uc6a9\ud560 \uc218 \uc788\uc74c\n",
      "\n",
      "```python\n",
      "@unittest.skipUnless(platform.system() == 'Darwin', 'Mac specific tests')\n",
      "class DarwinTests(unittest.TestCase):\n",
      "    ...\n",
      "```"
     ]
    },
    {
     "cell_type": "markdown",
     "metadata": {},
     "source": [
      "## 14.6 \ub2e4\uc911 \uc608\uc678 \ucc98\ub9ac\n",
      "\n",
      "### \ubb38\uc81c\n",
      "\n",
      "- \uc5ec\ub7ec\uac00\uc9c0 \uc5d0\ub7ec\ub97c \ucc98\ub9ac\ud558\ub294 \ucf54\ub4dc\ub97c \uc791\uc131\uc911\n",
      "- \uc7a0\uc7ac\uc801\uc778 \ubaa8\ub4e0 \uc608\uc678\ub97c \ucc98\ub9ac\ud574\uc57c \ud558\ub294\ub370, \uc911\ubcf5 \ucf54\ub4dc\ub97c \uc0dd\uc131\ud558\uc9c0 \uc54a\uace0 \ucf54\ub4dc\ub97c \uac04\ub7b5\ud558\uac8c \uc720\uc9c0\ud558\uace0 \uc2f6\uc74c\n",
      "\n",
      "### \ud574\uacb0\n",
      "\n",
      "- \uc11c\ub85c \ub2e4\ub978 \uc608\uc678\ub97c \ud558\ub098\uc758 \ucf54\ub4dc \ube14\ub85d\uc5d0\uc11c \ucc98\ub9ac\ud558\ub824\uba74 \ub2e4\uc74c\uacfc \uac19\uc774 \ud29c\ud50c\uc5d0 \ubb36\uc5b4\uc11c \uc0ac\uc6a9\ud568\n",
      "\n",
      "```python\n",
      "try:\n",
      "    client_obj.get_url(url)\n",
      "except(URLError, ValueError, SocketTimeout):\n",
      "    client_obj.remove_url(url)\n",
      "```\n",
      "\n",
      "- \uc774 \uc608\uc81c\uc5d0\uc11c \ub9ac\uc2a4\ud305\ud55c \uc608\uc678\uac00 \ud558\ub098\ub77c\ub3c4 \ubc1c\uc0dd\ud558\uba74 remove_url() \uba54\uc18c\ub4dc\ub97c \ud638\ucd9c\ud55c\ub2e4.\n",
      "- \ud558\uc9c0\ub9cc \ud558\ub098\uc758 \uc608\uc678\ub97c \ubcc4\ub3c4\ub85c \ucc98\ub9ac\ud574\uc57c \ud55c\ub2e4\uba74 \uc5b4\ub5bb\uac8c \ud560\uae4c?\n",
      "- \uc774 \ub54c\ub294 \uac04\ub2e8\ud788 except \ud56d\ubaa9\uc744 \ud558\ub098 \ucd94\uac00\ud558\uba74 \ub428\n",
      "\n",
      "```python\n",
      "try:\n",
      "    client_obj.get_url(url)\n",
      "except (URLError, ValueError):\n",
      "    client_obj.remove_url(url)\n",
      "except SocketTimeout:\n",
      "    client_obj.handle_url_timeout(url)\n",
      "```\n",
      "\n",
      "- \uc0c1\uc18d \uacc4\uce35\uc5d0\uc11c \ud558\ub098\ub85c \ubb36\uc5ec\uc788\ub294 \uc608\uc678\ub3c4 \ub9ce\uc774 \uc874\uc7ac\n",
      "- \uc774\ub7f0 \uc608\uc678\uc758 \uacbd\uc6b0\uc5d0\ub294 \ubca0\uc774\uc2a4 \ud074\ub798\uc2a4\ub97c \uba85\uc2dc\ud558\uba74 \uadf8 \uc544\ub798 \uc788\ub294 \ubaa8\ub4e0 \uc608\uc678\ub97c \ud55c \ubc88\uc5d0 \ucc98\ub9ac\ud560 \uc218 \uc788\uc74c\n",
      "\n",
      "```python\n",
      "try:\n",
      "    f = open(filename)\n",
      "except(FileNotFoundError, PermissionError):\n",
      "    ...\n",
      "```\n",
      "\n",
      "- \ub2e4\uc74c\uacfc \uac19\uc774 \uc904\uc77c \uc218 \uc788\uc74c\n",
      "\n",
      "```python\n",
      "try:\n",
      "    f = open(filename)\n",
      "except OSError:\n",
      "    ...\n",
      "```\n",
      "\n",
      "- \uc774 \ucf54\ub4dc\ub294 FileNotFoundError\uc640 PermissionError \uc608\uc678\uac00 \uacf5\ud1b5\uc801\uc73c\ub85c OSError\ub97c \uc0c1\uc18d\ubc1b\uae30 \ub54c\ubb38\uc5d0 \uc798 \ub3d9\uc791\ud568\n",
      "\n",
      "#### Exception\n",
      "\n",
      "- [Python Exception Handling Techniques \u2014 Doug Hellmann](http://doughellmann.com/2009/06/19/python-exception-handling-techniques.html)\n",
      "- [exceptions \u2013 Built-in error classes - Python Module of the Week](http://pymotw.com/2/exceptions/)\n",
      "- [8. Errors and Exceptions \u2014 Python 2.7.8 documentation](https://docs.python.org/2/tutorial/errors.html)\n",
      "- [6. Built-in Exceptions \u2014 Python 2.7.8 documentation](https://docs.python.org/2/library/exceptions.html): Exception hierarchy\n",
      "\n",
      "\n",
      "    BaseException\n",
      "     +-- SystemExit\n",
      "     +-- KeyboardInterrupt\n",
      "     +-- GeneratorExit\n",
      "     +-- Exception\n",
      "          +-- StopIteration\n",
      "          +-- StandardError\n",
      "          |    +-- BufferError\n",
      "          |    +-- ArithmeticError\n",
      "          |    |    +-- FloatingPointError\n",
      "          |    |    +-- OverflowError\n",
      "          |    |    +-- ZeroDivisionError\n",
      "          |    +-- AssertionError\n",
      "          |    +-- AttributeError\n",
      "          |    +-- EnvironmentError\n",
      "          |    |    +-- IOError\n",
      "          |    |    +-- OSError\n",
      "          |    |         +-- WindowsError (Windows)\n",
      "          |    |         +-- VMSError (VMS)\n",
      "          |    +-- EOFError\n",
      "          |    +-- ImportError\n",
      "          |    +-- LookupError\n",
      "          |    |    +-- IndexError\n",
      "          |    |    +-- KeyError\n",
      "          |    +-- MemoryError\n",
      "          |    +-- NameError\n",
      "          |    |    +-- UnboundLocalError\n",
      "          |    +-- ReferenceError\n",
      "          |    +-- RuntimeError\n",
      "          |    |    +-- NotImplementedError\n",
      "          |    +-- SyntaxError\n",
      "          |    |    +-- IndentationError\n",
      "          |    |         +-- TabError\n",
      "          |    +-- SystemError\n",
      "          |    +-- TypeError\n",
      "          |    +-- ValueError\n",
      "          |         +-- UnicodeError\n",
      "          |              +-- UnicodeDecodeError\n",
      "          |              +-- UnicodeEncodeError\n",
      "          |              +-- UnicodeTranslateError\n",
      "          +-- Warning\n",
      "               +-- DeprecationWarning\n",
      "               +-- PendingDeprecationWarning\n",
      "               +-- RuntimeWarning\n",
      "               +-- SyntaxWarning\n",
      "               +-- UserWarning\n",
      "               +-- FutureWarning\n",
      "           +-- ImportWarning\n",
      "           +-- UnicodeWarning\n",
      "           +-- BytesWarning\n",
      "           \n",
      "- [5. Built-in Exceptions \u2014 Python 3.4.2 documentation](https://docs.python.org/3/library/exceptions.html): 3.4.2 \ubc84\uc804\n",
      "\n",
      "\n",
      "    BaseException\n",
      "     +-- SystemExit\n",
      "     +-- KeyboardInterrupt\n",
      "     +-- GeneratorExit\n",
      "     +-- Exception\n",
      "          +-- StopIteration\n",
      "          +-- ArithmeticError\n",
      "          |    +-- FloatingPointError\n",
      "          |    +-- OverflowError\n",
      "          |    +-- ZeroDivisionError\n",
      "          +-- AssertionError\n",
      "          +-- AttributeError\n",
      "          +-- BufferError\n",
      "          +-- EOFError\n",
      "          +-- ImportError\n",
      "          +-- LookupError\n",
      "          |    +-- IndexError\n",
      "          |    +-- KeyError\n",
      "          +-- MemoryError\n",
      "          +-- NameError\n",
      "          |    +-- UnboundLocalError\n",
      "          +-- OSError\n",
      "          |    +-- BlockingIOError\n",
      "          |    +-- ChildProcessError\n",
      "          |    +-- ConnectionError\n",
      "          |    |    +-- BrokenPipeError\n",
      "          |    |    +-- ConnectionAbortedError\n",
      "          |    |    +-- ConnectionRefusedError\n",
      "          |    |    +-- ConnectionResetError\n",
      "          |    +-- FileExistsError\n",
      "          |    +-- FileNotFoundError\n",
      "          |    +-- InterruptedError\n",
      "          |    +-- IsADirectoryError\n",
      "          |    +-- NotADirectoryError\n",
      "          |    +-- PermissionError\n",
      "          |    +-- ProcessLookupError\n",
      "          |    +-- TimeoutError\n",
      "          +-- ReferenceError\n",
      "          +-- RuntimeError\n",
      "          |    +-- NotImplementedError\n",
      "          +-- SyntaxError\n",
      "          |    +-- IndentationError\n",
      "          |         +-- TabError\n",
      "          +-- SystemError\n",
      "          +-- TypeError\n",
      "          +-- ValueError\n",
      "          |    +-- UnicodeError\n",
      "          |         +-- UnicodeDecodeError\n",
      "          |         +-- UnicodeEncodeError\n",
      "          |         +-- UnicodeTranslateError\n",
      "          +-- Warning\n",
      "               +-- DeprecationWarning\n",
      "               +-- PendingDeprecationWarning\n",
      "               +-- RuntimeWarning\n",
      "               +-- SyntaxWarning\n",
      "               +-- UserWarning\n",
      "               +-- FutureWarning\n",
      "               +-- ImportWarning\n",
      "               +-- UnicodeWarning\n",
      "               +-- BytesWarning\n",
      "               +-- ResourceWarning"
     ]
    },
    {
     "cell_type": "markdown",
     "metadata": {},
     "source": [
      "### \ud1a0\ub860\n",
      "\n",
      "- \ub2e4\uc911 \uc608\uc678 \ucc98\ub9ac \uc790\uccb4\uc640\ub294 \uad00\ub828\uc774 \uc5c6\uc9c0\ub9cc \uc608\uc678\ub97c \ucc98\ub9ac\ud560 \ub54c as \ud0a4\uc6cc\ub4dc\ub97c \uc0ac\uc6a9\ud560 \uc218 \uc788\ub2e4\ub294 \uc810\uc744 \uae30\uc5b5\n",
      "\n",
      "```python\n",
      "try:\n",
      "    f = open(filename)\n",
      "except OSError as e:\n",
      "    if e.errno == errno.ENOENT:\n",
      "        logger.error('File not found')\n",
      "    elif e.errno == errno.EACCES:\n",
      "        logger.error('Permission denied')\n",
      "    else:\n",
      "        logger.error('Unexpected error: %d', e.errno)\n",
      "```"
     ]
    },
    {
     "cell_type": "markdown",
     "metadata": {},
     "source": [
      "- [15.16. errno \u00e2\u0080\u0094 Standard errno system symbols \u2014 Python 2.7.8 documentation](https://docs.python.org/2/library/errno.html): errno\uc5d0 \ub300\ud55c \uc790\uc138\ud55c \uc124\uba85\n",
      "- \uc774 \uc608\uc81c\uc5d0\uc11c \ubcc0\uc218 e\ub294 \ubc1c\uc0dd\ud55c \uc608\uc678\uc778 OSError\uc758 \uc778\uc2a4\ud134\uc2a4\ub97c \ub2f4\uace0 \uc788\uc74c\n",
      "- \uc774 \ubcc0\uc218\ub294 \ucd94\uac00\uc801\uc778 \ucf54\ub4dc \ub4f1 \ub354 \ub9ce\uc740 \uc815\ubcf4\ub97c \uc5bb\uc5b4\uc57c \ud558\ub294 \uacbd\uc6b0\uc5d0 \uc720\uc6a9\ud558\uac8c \uc0ac\uc6a9 \uac00\ub2a5\n",
      "- except\ub294 **\ucf54\ub4dc\uc758 \uc21c\uc11c\ub300\ub85c \ud655\uc778**\ud558\uace0 **\uccab \ubc88\uc9f8\ub85c \ubc1c\uacac\ud55c \uac83\uc744 \uc2e4\ud589\ud55c\ub2e4**\ub294 \uc810\uc744 \uc8fc\uc758\ud574\uc57c \ud568\n",
      "- \uc720\ub09c \ub5a0\ub294 \uc18c\ub9ac\ucc98\ub7fc \ub4e4\ub9b4\uc9c0\ub3c4 \ubaa8\ub974\uc9c0\ub9cc, \ub2e4\uc74c\uacfc \uac19\uc774 \uc5ec\ub7ec\uac00\uc9c0 except \ud56d\ubaa9\uc5d0 \ub3d9\uc2dc\uc5d0 \ub9e4\uce6d\ud558\ub294 \uc0c1\ud669\uc744 \uc27d\uac8c \ub9cc\ub4e4 \uc218 \uc788\uc74c"
     ]
    },
    {
     "cell_type": "code",
     "collapsed": false,
     "input": [
      "f = open('missing')"
     ],
     "language": "python",
     "metadata": {},
     "outputs": [
      {
       "ename": "FileNotFoundError",
       "evalue": "[Errno 2] No such file or directory: 'missing'",
       "output_type": "pyerr",
       "traceback": [
        "\u001b[0;31m---------------------------------------------------------------------------\u001b[0m\n\u001b[0;31mFileNotFoundError\u001b[0m                         Traceback (most recent call last)",
        "\u001b[0;32m<ipython-input-161-7017ba4c9e29>\u001b[0m in \u001b[0;36m<module>\u001b[0;34m()\u001b[0m\n\u001b[0;32m----> 1\u001b[0;31m \u001b[0mf\u001b[0m \u001b[0;34m=\u001b[0m \u001b[0mopen\u001b[0m\u001b[0;34m(\u001b[0m\u001b[0;34m'missing'\u001b[0m\u001b[0;34m)\u001b[0m\u001b[0;34m\u001b[0m\u001b[0m\n\u001b[0m",
        "\u001b[0;31mFileNotFoundError\u001b[0m: [Errno 2] No such file or directory: 'missing'"
       ]
      }
     ],
     "prompt_number": 161
    },
    {
     "cell_type": "code",
     "collapsed": false,
     "input": [
      "try:\n",
      "    f = open('missing')\n",
      "except OSError:\n",
      "    print('It failed')\n",
      "except FileNotFoundError:\n",
      "    print('File not found')"
     ],
     "language": "python",
     "metadata": {},
     "outputs": [
      {
       "output_type": "stream",
       "stream": "stdout",
       "text": [
        "It failed\n"
       ]
      }
     ],
     "prompt_number": 162
    },
    {
     "cell_type": "markdown",
     "metadata": {},
     "source": [
      "- \uc774 \ucf54\ub4dc\uc5d0\uc11c \ubd84\uba85\uc5c6\ub294 \ud30c\uc77c\uc744 \uc5f4\ub824\uace0 \ud588\uc9c0\ub9cc, FileNotFoundError \uc608\uc678 \ub300\uc2e0 OSError\uac00 \ubc1c\uc0dd\ud558\uace0 \"It failed\" \ub77c\ub294 \ud14d\uc2a4\ud2b8 \ucd9c\ub825\n",
      "- OSError\uac00 \ub354 \uc77c\ubc18\uc801\uc778 \uc608\uc678\uc774\uace0 \ucf54\ub4dc\uc758 \uc55e\uc5d0 \ub098\uc654\uae30 \ub54c\ubb38\n",
      "- \ud55c \uac00\uc9c0 \ub514\ubc84\uae45 \ud301\uc744 \uc54c\ub824\uc8fc\uaca0\uc74c\n",
      "- \ud2b9\uc815 \uc608\uc678\uc758 **\ud074\ub798\uc2a4 \uacc4\uce35**\uc774 \uc5b4\ub5bb\uac8c \uad6c\uc131\ub418\uc5b4 \uc788\ub294\uc9c0 \uc798 \ubaa8\ub97c \ub54c **\\_\\_mro\\_\\_** \uc18d\uc131\uc744 \uc870\uc0ac\ud574 \ubcf4\uba74 \uac04\ub2e8\ud788 \ud655\uc778"
     ]
    },
    {
     "cell_type": "code",
     "collapsed": false,
     "input": [
      "FileNotFoundError.__mro__"
     ],
     "language": "python",
     "metadata": {},
     "outputs": [
      {
       "metadata": {},
       "output_type": "pyout",
       "prompt_number": 163,
       "text": [
        "(FileNotFoundError, OSError, Exception, BaseException, object)"
       ]
      }
     ],
     "prompt_number": 163
    },
    {
     "cell_type": "markdown",
     "metadata": {},
     "source": [
      "- BaseException \uc774\ud558\uc5d0 \uc788\ub294 \ubaa8\ub4e0 \uc608\uc678\ub97c except \uad6c\ubb38\uc5d0 \uc0ac\uc6a9\ud560 \uc218 \uc788\uc74c"
     ]
    },
    {
     "cell_type": "markdown",
     "metadata": {},
     "source": [
      "#### MRO(Method Resolution Order)\n",
      "\n",
      "- [The Python 2.3 Method Resolution Order | Python.org](https://www.python.org/download/releases/2.3/mro/)\n",
      "- [Method Resolution Order (MRO) in new style Python classes - Stack Overflow](http://stackoverflow.com/questions/1848474/method-resolution-order-mro-in-new-style-python-classes)\n",
      "- [Method Resolution Order (MRO) In The Python 2.3 or Later :: Leesort](http://leesort.tistory.com/m/post/3): \ud55c\uae00 \uc124\uba85"
     ]
    },
    {
     "cell_type": "code",
     "collapsed": false,
     "input": [
      "class X(object):\n",
      "    pass"
     ],
     "language": "python",
     "metadata": {},
     "outputs": [],
     "prompt_number": 166
    },
    {
     "cell_type": "code",
     "collapsed": false,
     "input": [
      "class Y(object):\n",
      "    pass"
     ],
     "language": "python",
     "metadata": {},
     "outputs": [],
     "prompt_number": 167
    },
    {
     "cell_type": "code",
     "collapsed": false,
     "input": [
      "class A(X, Y):\n",
      "    pass"
     ],
     "language": "python",
     "metadata": {},
     "outputs": [],
     "prompt_number": 168
    },
    {
     "cell_type": "code",
     "collapsed": false,
     "input": [
      "class B(Y, X):\n",
      "    pass"
     ],
     "language": "python",
     "metadata": {},
     "outputs": [],
     "prompt_number": 169
    },
    {
     "cell_type": "code",
     "collapsed": false,
     "input": [
      "class C(A, B):\n",
      "    pass"
     ],
     "language": "python",
     "metadata": {},
     "outputs": [
      {
       "ename": "TypeError",
       "evalue": "Cannot create a consistent method resolution\norder (MRO) for bases Y, X",
       "output_type": "pyerr",
       "traceback": [
        "\u001b[0;31m---------------------------------------------------------------------------\u001b[0m\n\u001b[0;31mTypeError\u001b[0m                                 Traceback (most recent call last)",
        "\u001b[0;32m<ipython-input-170-c871b04b8297>\u001b[0m in \u001b[0;36m<module>\u001b[0;34m()\u001b[0m\n\u001b[0;32m----> 1\u001b[0;31m \u001b[0;32mclass\u001b[0m \u001b[0mC\u001b[0m\u001b[0;34m(\u001b[0m\u001b[0mA\u001b[0m\u001b[0;34m,\u001b[0m \u001b[0mB\u001b[0m\u001b[0;34m)\u001b[0m\u001b[0;34m:\u001b[0m\u001b[0;34m\u001b[0m\u001b[0m\n\u001b[0m\u001b[1;32m      2\u001b[0m     \u001b[0;32mpass\u001b[0m\u001b[0;34m\u001b[0m\u001b[0m\n",
        "\u001b[0;31mTypeError\u001b[0m: Cannot create a consistent method resolution\norder (MRO) for bases Y, X"
       ]
      }
     ],
     "prompt_number": 170
    },
    {
     "cell_type": "markdown",
     "metadata": {},
     "source": [
      "- \ud074\ub798\uc2a4 C\ub294 C3 method\ub97c \ud1b5\ud574\uc11c MRO\ub97c \uc815\uc758\ud560 \uc218 \uc5c6\ub2e4\ub294 \uac83\n",
      "- MRO\ub294 \uba54\uc18c\ub4dc \uacb0\uc815 \uc21c\uc11c \uc815\ub3c4\ub85c \ud45c\ud604\ud560 \uc218 \uc788\uc744 \uac83\n",
      "- MRO\uac00 \uc65c \uc774\uc288\uac00 \ub418\ub294\uc9c0 \uba3c\uc800 \uc0dd\uac01\ud574 \ubcf4\uc790\n",
      "- \ud074\ub798\uc2a4 A\ub294 \ud074\ub798\uc2a4 X, Y\ub97c \ub2e4\uc911 \uc0c1\uc18d \ubc1b\uace0 \uc788\uc74c\n",
      "- \ub9cc\uc57d\uc5d0 X, Y \ub458 \ub2e4 \uac19\uc740 \uc774\ub984\uc758 \ubcc0\uc218 x\ub97c \uc815\uc758\ud558\uac70\ub098 \uba54\uc18c\ub4dc p()\ub97c \uc815\uc758\ud558\uba74 \ud074\ub798\uc2a4 A\uc5d0\uc11c\ub294 x, p()\ub97c \uc4f0\ub824\uace0 \ud560 \ub54c, X\uc758 \uac83\uacfc Y\uc758 \uac83 \uc911 \uc5b4\ub5a4 \uac83\uc5d0 \uc811\uadfc\ud574\uc57c \ud560\uae4c? \n",
      "- \uacfc\uc5f0 \uc774\uac83\uc740 \ud63c\ub3d9\uc758 \uc5ec\uc9c0\uac00 \uc788\uace0, \ub204\uac00 \ub9de\ub2e4\uace0 \ub9d0\ud558\uae30\ub3c4 \ud798\ub4e4\ub2e4.\n",
      "- \ud30c\uc774\uc36c\uc5d0\uc11c\ub294 \uc774\uc5d0 \uad00\ud55c \uc21c\uc11c\ub97c \ud2b9\uc815 \uaddc\uce59(C3)\uc5d0 \uae30\ubc18\ud558\uc5ec \uc11c\ub85c \uc57d\uc18d\uc744 \ud574\ub193\uc558\uace0 MRO\ub77c\uace0 \ubd80\ub974\ub294 \uac83 \uac19\uc74c\n",
      "- \ud074\ub798\uc2a4 C\uac00 C1\uc744 \uc0c1\uc18d \ubc1b\uace0, C1\uc774 C2\ub97c \uc0c1\uc18d \ubc1b\uc558\ub2e4\uace0 \ud558\uba74, \ud074\ub798\uc2a4 C\uc758 linearization\uc740 [C C1 C2]\uac00 \ub428\n",
      "- \uc989, linearization\uc740 \ud074\ub798\uc2a4 precedence list \uc774\ub2e4. linearization\uc758 \uc21c\uc11c\ub294 reference \uc21c\uc11c\uc640 \uc77c\uce58\ud558\uace0, \ub9cc\uc57d linearization\uc744 \ud560 \uc218 \uc5c6\ub2e4\uba74 \uc774\uc804 \uc608\uc81c\ucc98\ub7fc TypeError exception\uc744 \ub358\uc9c0\uac8c \ub418\ub294 \uac83\n",
      "\n",
      "#### linearization \uc744 \ud558\ub294 \ubc29\ubc95\n",
      "\n",
      "1. class hierarchy\uc5d0\uc11c \uac19\uc740 \ub808\ubca8\uc758 \ud074\ub798\uc2a4\ub77c\uba74 \ud074\ub798\uc2a4 \uc815\uc758\uc5d0\uc11c \uc67c\ucabd\uc758 \ud074\ub798\uc2a4\ubd80\ud130 linearization list\uc5d0\uc11c \uc55e\uc120\ub2e4.\n",
      "2. \ud074\ub798\uc2a4 A\uac00 \ud074\ub798\uc2a4 X\ub97c \uc0c1\uc18d \ubc1b\uc558\uc73c\uba74 \ud074\ub798\uc2a4 A\uac00 linearization list\uc5d0\uc11c \uc55e\uc5d0 \ub098\uc634\n",
      "3. \ud2b9\uc815 \ud074\ub798\uc2a4\ub294 linearization list\uc5d0\uc11c \ud55c \ubc88\ub9cc \ub098\ud0c0\ub098\uc57c \ud568\n",
      "\n",
      "\n",
      "- \ub418\ub3c4\ub85d \ub9d0\ub85c \ud480\uc5b4\uc11c \uc124\uba85\ud558\ub294\uac8c \uc774\ud574\ud558\uae30 \uc27d\ub2e4\uace0 \uc0dd\uac01\ud574\uc11c \ub9d0\ub85c \uc124\uba85\ud588\uc9c0\ub9cc \ub108\ubb34 \ud798\ub4ec\n",
      "- \uadf8\ub798\uc11c \uaddc\uce59 3\uac00\uc9c0\uac00 \uc804\ubd80\uc778 \uac83 \uac19\ub2e4.\n",
      "- \uc880 \ub354 \uc790\uc138\ud788 \uc54c\uace0 \uc2f6\uc73c\uba74 \ub9e8 \uc704\uc758 \ub9c1\ud06c \ucc38\uc870\n",
      "- A.mro()\ub97c \uad6c\ud574\ubcf4\uc790"
     ]
    },
    {
     "cell_type": "code",
     "collapsed": false,
     "input": [
      "class F(object):\n",
      "    pass"
     ],
     "language": "python",
     "metadata": {},
     "outputs": [],
     "prompt_number": 171
    },
    {
     "cell_type": "code",
     "collapsed": false,
     "input": [
      "class E(object):\n",
      "    pass"
     ],
     "language": "python",
     "metadata": {},
     "outputs": [],
     "prompt_number": 172
    },
    {
     "cell_type": "code",
     "collapsed": false,
     "input": [
      "class D(object):\n",
      "    pass"
     ],
     "language": "python",
     "metadata": {},
     "outputs": [],
     "prompt_number": 173
    },
    {
     "cell_type": "code",
     "collapsed": false,
     "input": [
      "class C(D, F):\n",
      "    pass"
     ],
     "language": "python",
     "metadata": {},
     "outputs": [],
     "prompt_number": 175
    },
    {
     "cell_type": "code",
     "collapsed": false,
     "input": [
      "class B(E, D):\n",
      "    pass"
     ],
     "language": "python",
     "metadata": {},
     "outputs": [],
     "prompt_number": 176
    },
    {
     "cell_type": "code",
     "collapsed": false,
     "input": [
      "class A(B, C):\n",
      "    pass"
     ],
     "language": "python",
     "metadata": {},
     "outputs": [],
     "prompt_number": 177
    },
    {
     "cell_type": "code",
     "collapsed": false,
     "input": [
      "F.__mro__"
     ],
     "language": "python",
     "metadata": {},
     "outputs": [
      {
       "metadata": {},
       "output_type": "pyout",
       "prompt_number": 179,
       "text": [
        "(__main__.F, object)"
       ]
      }
     ],
     "prompt_number": 179
    },
    {
     "cell_type": "code",
     "collapsed": false,
     "input": [
      "C.__mro__"
     ],
     "language": "python",
     "metadata": {},
     "outputs": [
      {
       "metadata": {},
       "output_type": "pyout",
       "prompt_number": 180,
       "text": [
        "(__main__.C, __main__.D, __main__.F, object)"
       ]
      }
     ],
     "prompt_number": 180
    },
    {
     "cell_type": "code",
     "collapsed": false,
     "input": [
      "B.__mro__"
     ],
     "language": "python",
     "metadata": {},
     "outputs": [
      {
       "metadata": {},
       "output_type": "pyout",
       "prompt_number": 181,
       "text": [
        "(__main__.B, __main__.E, __main__.D, object)"
       ]
      }
     ],
     "prompt_number": 181
    },
    {
     "cell_type": "code",
     "collapsed": false,
     "input": [
      "A.__mro__"
     ],
     "language": "python",
     "metadata": {},
     "outputs": [
      {
       "metadata": {},
       "output_type": "pyout",
       "prompt_number": 178,
       "text": [
        "(__main__.A,\n",
        " __main__.B,\n",
        " __main__.E,\n",
        " __main__.C,\n",
        " __main__.D,\n",
        " __main__.F,\n",
        " object)"
       ]
      }
     ],
     "prompt_number": 178
    },
    {
     "cell_type": "markdown",
     "metadata": {},
     "source": [
      "#### \uc21c\uc11c\n",
      "\n",
      "1. A\ub294 B, C\ub97c \uc0c1\uc18d \ubc1b\uc558\uae30 \ub54c\ubb38\uc5d0 [A B C]\ub85c linearization \ud560 \uc218 \uc788\uc74c(\uc67c\ucabd\ubd80\ud130 \uc628\ub2e4\ub294 \ub9d0\uc774 B\uac00 C\ubcf4\ub2e4 \uba3c\uc800\ub77c\ub294 \ub9d0\uc774\ub2e4.)\n",
      "2. B\ub294 E, D\ub97c \uc0c1\uc18d \ubc1b\uc558\uae30 \ub54c\ubb38\uc5d0 [A [B E D] C]\ub85c \ub098\ud0c0\ub0bc \uc218 \uc788\uc74c\n",
      "3. C\ub294 D, F\ub97c \uc0c1\uc18d \ubc1b\uc558\uae30 \ub54c\ubb38\uc5d0, \\[A \\[B E D\\] \\[C D F\\]\ub85c \ub098\ud0c0\ub0bc \uc218 \uc788\uc74c\n",
      "4. C\ub294 D\ub97c \uc0c1\uc18d \ubc1b\uc558\uae30 \ub584\ubb38\uc5d0, D\ubcf4\ub2e4 C\uac00 \uc55e\uc11c \ub098\uc640\uc57c \ud55c\ub2e4.(2\ubc88 \uaddc\uce59) \ub530\ub77c\uc11c 2\uac1c\uc758 D \uc911\uc5d0\uc11c C \uc55e\uc5d0 \uc788\ub294 D\ub294 \uc5c6\uc560\uc57c \ud55c\ub2e4. \\[A \\[B E\\] \\[C D F\\]\\]\ub85c \ub2e4\uc2dc \ub098\ud0c0\ub0bc \uc218 \uc788\ub2e4.(3\ubc88 \uaddc\uce59)\n",
      "5. D, E, F\ub294 \uc804\ubd80 object\ub97c \uc0c1\uc18d \ubc1b\uc558\uae30 \ub54c\ubb38\uc5d0, \\[A \\[B \\[E O\\]\\] \\[C \\[D O\\] \\[F O\\]\\]\\]\n",
      "6. 4\ubc88 \uacfc\uc815\uacfc \ub9c8\ucc2c\uac00\uc9c0\ub85c O\ub294 D, E, F\ubcf4\ub2e4 \ub4a4\uc5d0 \ub098\uc640\uc57c \ud558\uae30 \ub54c\ubb38\uc5d0 D, E, F \uc55e\uc5d0 \uc788\ub294 O\ub294 \uc5c6\uc560\uc57c \ud55c\ub2e4(3\ubc88 \uaddc\uce59)\n",
      "7. \\[A \\[B \\[E\\]\\] \\[C \\[D\\]\\] \\[F O\\]\\] -> \\[A B E C D F O\\]\uc758 \uc21c\uc11c\uac00 mro\n",
      "\n",
      "#### \ucc98\uc74c\uc758 TypeError\ub97c \ub358\uc9c0\ub294 \uc608\uc790\uac00 \uc65c linearization\uc744 \ud560 \uc218 \uc5c6\ub294\uc9c0 \ubcf4\uc790\n",
      "\n",
      "1. [C A B]\n",
      "2. \\[C \\[A X Y\\] \\[B Y X\\]\\]\n",
      "3. (3\ubc88 \uaddc\uce59)\uc5d0 \uc758\ud574\uc11c X, Y\uac00 2\ubc88\uc529 \ub098\uc62c \uc218 \uc5c6\uc73c\ubbc0\ub85c \ud558\ub098\uc529 \uc81c\uac70\ud574 \uc918\uc57c \ud568\n",
      "4. B\uac00 X, Y\ub97c \uc0c1\uc18d \ubc1b\uc73c\ubbc0\ub85c B\uac00 X, Y\ubcf4\ub2e4 \uc55e\uc11c\uc57c \ud558\ubbc0\ub85c B\uc758 \uc55e\uc5d0 \uc788\ub294 X, Y\ub97c \uc5c6\uc568 \uc218 \uc788\uc74c\\[C \\[A] [B Y X]]\n",
      "5. \ud558\uc9c0\ub9cc (1\ubc88 \uaddc\uce59)\uc5d0 \uc758\ud558\uba74 \ud074\ub798\uc2a4 A\uc758 \uc815\uc758\uc5d0\uc11c\ub294 X\uac00 Y\ubcf4\ub2e4 \uc55e\uc11c\uc57c \ud558\uace0, \ud074\ub798\uc2a4 B\uc758 \uc815\uc758\uc5d0\uc11c\ub294 Y\uac00 X\ubcf4\ub2e4 \uc55e\uc11c\uc57c \ud55c\ub2e4. \uc989 Y X\uc758 \uc21c\uc11c\ub294 A\uc758 \uc815\uc758\uc5d0\uc11c X\uac00 Y\ubcf4\ub2e4 \uc55e\uc11c\uc57c \ud55c\ub2e4\ub294 \uaddc\uce59\uc744 \uc5b4\uae30\uac8c \ub418\ub294 \uac83\n",
      "6. \ub530\ub77c\uc11c linearization\uc744 \ud560 \uc218 \uc5c6\uae30 \ub54c\ubb38\uc5d0 \ud074\ub798\uc2a4 C \uc815\uc758\ub97c \ud560 \uc218 \uc5c6\uac8c \ub418\ub294 \uac83\uc784\n",
      "\n",
      "\n",
      "- \uc774\uc81c \ub2e4\uc911 \uc0c1\uc18d\uc744 \uc0ac\uc6a9\ud558\ub294 \ud30c\uc774\uc36c \ud074\ub798\uc2a4\uc758 method, variable \ucc38\uc870 \uc21c\uc11c\ub97c \uc815\ud655\ud788 \ud30c\uc545\ud560 \uc218 \uc788\uac8c \ub418\uc5c8\uc74c"
     ]
    },
    {
     "cell_type": "markdown",
     "metadata": {},
     "source": [
      "## 14.7 \ubaa8\ub4e0 \uc608\uc678 \uce90\uce58\n",
      "\n",
      "### \ubb38\uc81c\n",
      "\n",
      "- \ubaa8\ub4e0 \uc608\uc678\ub97c \uce90\uce58\ud558\ub294 \ucf54\ub4dc\ub97c \uc791\uc131\ud558\uace0 \uc2f6\uc74c\n",
      "\n",
      "### \ud574\uacb0\n",
      "\n",
      "- \ubaa8\ub4e0 \uc608\uc678\ub97c \uce90\uce58\ud558\ub824\uba74 Exception\uc5d0 \ub300\ud55c \uc608\uc678 \ud578\ub4e4\ub7ec\ub97c \uc791\uc131\ud568\n",
      "\n",
      "```python\n",
      "try:\n",
      "    ...\n",
      "except Exception as e:\n",
      "    ...\n",
      "    log('Reason:', e) # \uc911\uc694!\n",
      "```\n",
      "\n",
      "- \uc774 \ucf54\ub4dc\ub294 SystemExit, KeyboardInterrupt, GeneratorExit\uc744 \uc81c\uc678\ud55c \ubaa8\ub4e0 \uc608\uc678\ub97c \uce90\uce58\ud568\n",
      "- \uc774 \uc608\uc678\uae4c\uc9c0 \ud3ec\ud568\ud558\ub824\uba74 Exception\uc744 BaseException\uc73c\ub85c \ubcc0\uacbd\ud568\n",
      "\n",
      "### \ud1a0\ub860\n",
      "\n",
      "- \ubaa8\ub4e0 \uc608\uc678\ub97c \ud55c \ubc88\uc5d0 \uce90\uce58\ud558\ub294 \ucf54\ub4dc\ub294 \uc5b4\ub5a4 \uc608\uc678\uac00 \ubc1c\uc0dd\ud560\uc9c0 \uae30\uc5b5\ud558\uc9c0 \ubabb\ud558\ub294 \ud504\ub85c\uadf8\ub798\uba38\ub4e4\uc774 \ub300\uc548\uc73c\ub85c \uc0ac\uc6a9\ud558\uae30\ub3c4 \ud568\n",
      "- \ud558\uc9c0\ub9cc \uc870\uae08\ub9cc \ubd80\uc8fc\uc758\ud558\uba74 \ub514\ubc84\uae45\ud558\uae30 \ubb34\ucc99\uc774\ub098 \ubcf5\uc7a1\ud55c \ucf54\ub4dc\uac00 \ub418\uc5b4\ubc84\ub9b4 \uc218 \uc788\uc74c\n",
      "- \ub530\ub77c\uc11c \ubaa8\ub4e0 \uc608\uc678\ub97c \ud55c \ubc88\uc5d0 \uce90\uce58\ud558\uae30\ub85c \ub9c8\uc74c \uba39\uc5c8\ub2e4\uba74 \uc608\uc678\uac00 \ubc1c\uc0dd\ud55c \uc774\uc720\ub97c \ubc18\ub4dc\uc2dc \uae30\ub85d\ud574\uc57c \ud568(\uc608: \ub85c\uadf8 \ud30c\uc77c, \ud654\uba74\uc5d0 \uc5d0\ub7ec \uba54\uc2dc\uc9c0 \ucd9c\ub825 \ub4f1)\n",
      "- \uc774\ub807\uac8c \ud558\uc9c0 \uc54a\uc73c\uba74 \uc5b8\uc820\uac00 \uba38\ub9ac\uac00 \ud130\uc838 \ubc84\ub9b4\uac83 \uac19\uc740 \uc0c1\ud669\uc774 \ubc18\ub4dc\uc2dc \ucc3e\uc544\uc634"
     ]
    },
    {
     "cell_type": "code",
     "collapsed": false,
     "input": [
      "def parse_int(s):\n",
      "    try:\n",
      "        n = int(v)\n",
      "    except Exception:\n",
      "        print(\"Couldn't parse\")"
     ],
     "language": "python",
     "metadata": {},
     "outputs": [],
     "prompt_number": 194
    },
    {
     "cell_type": "code",
     "collapsed": false,
     "input": [
      "parse_int('n/a')"
     ],
     "language": "python",
     "metadata": {},
     "outputs": [
      {
       "output_type": "stream",
       "stream": "stdout",
       "text": [
        "Couldn't parse\n"
       ]
      }
     ],
     "prompt_number": 195
    },
    {
     "cell_type": "code",
     "collapsed": false,
     "input": [
      "parse_int('42')"
     ],
     "language": "python",
     "metadata": {},
     "outputs": [
      {
       "output_type": "stream",
       "stream": "stdout",
       "text": [
        "Couldn't parse\n"
       ]
      }
     ],
     "prompt_number": 196
    },
    {
     "cell_type": "markdown",
     "metadata": {},
     "source": [
      "- \uc65c \uc774 \ucf54\ub4dc\uac00 \ub3d9\uc791\ud558\uc9c0 \uc54a\ub294\uc9c0 \uc774\ud574\ud558\uae30 \uc5b4\ub824\uc6b8 \uac83(\uc2e4\uc81c\ub85c \uadf8\ub7ac\uc74c.. \ubcc0\uc218\uac00 \uc120\uc5b8\uc774 \uc548\ub418\uc5b4 \uc788\uc744\uc904\uc774\uc57c)\n",
      "- \uadf8\ub807\ub2e4\uba74 \ub2e4\uc74c\uacfc \uac19\uc774 \ucf54\ub4dc\ub97c \uc791\uc131\ud588\ub2e4\uba74 \uc5b4\ub560\uc744\uae4c?"
     ]
    },
    {
     "cell_type": "code",
     "collapsed": false,
     "input": [
      "def parse_int(s):\n",
      "    try:\n",
      "        n = int(v)\n",
      "    except Exception as e:\n",
      "        print(\"Couldn't parse\")\n",
      "        print('Reason:', e)"
     ],
     "language": "python",
     "metadata": {},
     "outputs": [],
     "prompt_number": 197
    },
    {
     "cell_type": "markdown",
     "metadata": {},
     "source": [
      "- \uc774\ub807\uac8c \ud558\uba74 \uc2e4\ud589 \uacb0\uacfc\uac00 \ub2e4\uc74c\uacfc \uac19\uc74c\n",
      "- \ud504\ub85c\uadf8\ub7a8 \uacfc\uc815\uc5d0\uc11c **\uc800\uc9c0\ub978 \uc2e4\uc218\ub97c \uc54c\uc544\ucc28\ub9ac\uae30 \ud6e8\uc52c \uc26c\uc6c0**"
     ]
    },
    {
     "cell_type": "code",
     "collapsed": false,
     "input": [
      "parse_int('42')"
     ],
     "language": "python",
     "metadata": {},
     "outputs": [
      {
       "output_type": "stream",
       "stream": "stdout",
       "text": [
        "Couldn't parse\n",
        "Reason: name 'v' is not defined\n"
       ]
      }
     ],
     "prompt_number": 198
    },
    {
     "cell_type": "markdown",
     "metadata": {},
     "source": [
      "- \uc55e\uc5d0\uc11c \uc5f4\uac70\ud55c \uc0ac\ud56d\uc744 \uace0\ub824\ud574 \ubcf4\uba74, \uc608\uc678\ub294 **\ucd5c\ub300\ud55c \uc790\uc138\ud788 \ucc98\ub9ac**\ud558\ub294 \uac83\uc774 \uc88b\uc74c\n",
      "- \ud558\uc9c0\ub9cc \ud55c \ubc88\uc5d0 \ubaa8\ub4e0 \uc608\uc678\ub97c \uaf2d \uce90\uce58\ud574\uc57c \ud55c\ub2e4\uba74 \ubc18\ub4dc\uc2dc **\ubd80\uac00\uc801\uc778 \uc815\ubcf4**\ub97c \uae30\ub85d\ud574\uc11c \ucd94\ud6c4\uc5d0 \ud5f7\uac08\ub9ac\uc9c0 \uc54a\ub3c4\ub85d \ud558\uc790"
     ]
    },
    {
     "cell_type": "markdown",
     "metadata": {},
     "source": [
      "## 14.8 \ucee4\uc2a4\ud140 \uc608\uc678 \uc0dd\uc131\n",
      "\n",
      "### \ubb38\uc81c\n",
      "\n",
      "- \ud558\uc704 \ub808\ubca8 \uc608\uc678\ub97c \uc6b0\ub9ac\uac00 \ub9cc\ub4e0 \uc608\uc678\ub85c \uac10\uc2f8\uc11c \uc560\ud50c\ub9ac\ucf00\uc774\uc158 \ucf58\ud14d\uc2a4\ud2b8\uc5d0 \uc870\uae08 \ub354 \uc758\ubbf8\uc788\uac8c \uc0ac\uc6a9\ud558\uace0 \uc2f6\uc74c\n",
      "\n",
      "### \ud574\uacb0\n",
      "\n",
      "- \uc0c8\ub85c\uc6b4 \uc608\uc678\ub97c \ub9cc\ub4e4\uae30\ub294 \uc5b4\ub835\uc9c0 \uc54a\uc74c\n",
      "- Exception\uc744 \uc0c1\uc18d\ubc1b\uc740 \ud074\ub798\uc2a4\ub97c \ud558\ub098 \uc815\uc758\ud558\uae30\ub9cc \ud558\uba74 \ub428(\ud639\uc740 \uae30\uc874 \uc608\uc678\ub97c \uc0c1\uc18d \ubc1b\ub294 \uac83\ub3c4 \uac00\ub2a5\ud568)\n",
      "- \uc608\ub97c \ub4e4\uc5b4 \ub124\ud2b8\uc6cc\ud06c \ud504\ub85c\uadf8\ub798\ubc0d \uad00\ub828 \ucf54\ub4dc\ub97c \uc791\uc131\ud558\ub294 \uc911\uc774\ub77c\uba74 \ub2e4\uc74c\uacfc \uac19\uc740 \ucee4\uc2a4\ud140 \uc608\uc678\ub97c \uc815\uc758\ud560 \uc218 \uc788\uc74c"
     ]
    },
    {
     "cell_type": "code",
     "collapsed": false,
     "input": [
      "class NetworkError(Exception):\n",
      "    pass"
     ],
     "language": "python",
     "metadata": {},
     "outputs": [],
     "prompt_number": 199
    },
    {
     "cell_type": "code",
     "collapsed": false,
     "input": [
      "class HostnameError(NetworkError):\n",
      "    pass"
     ],
     "language": "python",
     "metadata": {},
     "outputs": [],
     "prompt_number": 200
    },
    {
     "cell_type": "code",
     "collapsed": false,
     "input": [
      "class TimeoutError(NetworkError):\n",
      "    pass"
     ],
     "language": "python",
     "metadata": {},
     "outputs": [],
     "prompt_number": 201
    },
    {
     "cell_type": "code",
     "collapsed": false,
     "input": [
      "class ProtocolError(NetworkError):\n",
      "    pass"
     ],
     "language": "python",
     "metadata": {},
     "outputs": [],
     "prompt_number": 202
    },
    {
     "cell_type": "markdown",
     "metadata": {},
     "source": [
      "- \uadf8\ub7ec\uba74 \uc0ac\uc6a9\uc790\ub294 \ub2e4\uc74c\uacfc \uac19\uc774 \uc77c\ubc18\uc801\uc778 \ubc29\uc2dd\uc73c\ub85c \uc608\uc678\ub97c \uc0ac\uc6a9\ud568\n",
      "\n",
      "```python\n",
      "try:\n",
      "    msg = s.recv()\n",
      "except TimeoutError as e:\n",
      "    ...\n",
      "except ProtocolError as e:\n",
      "    ...\n",
      "```"
     ]
    },
    {
     "cell_type": "markdown",
     "metadata": {},
     "source": [
      "### \ud1a0\ub860\n",
      "\n",
      "- \uac70\uc758 \ub300\ubd80\ubd84\uc758 \uacbd\uc6b0\uc5d0 \uc608\uc678 \ud074\ub798\uc2a4\ub294 Exception \ud074\ub798\uc2a4\ub97c \uc9c1\uc811 \uc0c1\uc18d\ud558\uac70\ub098, Exception\uc744 \uc0c1\uc18d \ubc1b\uc544\uc11c \ub9cc\ub4e0 \uc608\uc678\ub97c \uc0c1\uc18d \ubc1b\uc544\uc57c \ud568\n",
      "- \ubaa8\ub4e0 \uc608\uc678\ub294 BaseException \ud074\ub798\uc2a4\ub97c \uc0c1\uc18d\ud558\uace0 \uc788\uc9c0\ub9cc, \uc0c8\ub85c\uc6b4 \uc608\uc678\ub97c \ub9cc\ub4e4 \ub54c \uc5ec\uae30\uc11c \ubc14\ub85c \uc0c1\uc18d \ubc1b\uc73c\uba74 \uc548\ub428\n",
      "- BaseException\uc740 KeyboardInterrupt\ub098 SystemExit\uc640 \uac19\uc774 \uc560\ud50c\ub9ac\ucf00\uc774\uc158\uc744 \uc885\ub8cc\uc2dc\ud0a4\ub294 \uc2dc\uc2a4\ud15c \uc608\uc678 \uc6a9\ub3c4\uc774\uae30 \ub54c\ubb38\n",
      "- \ub530\ub77c\uc11c \uc774\ub7f0 \uc608\uc678\ub97c \uce90\uce58\ud558\ub294 \uac83\uc740 \uc6b0\ub9ac\uc758 \uc758\ub3c4\uc640\ub294 \uc870\uae08 \ub2e4\ub984\n",
      "- \uc774 \uaddc\uce59\uc744 \ub530\ub790\ub2e4\uba74, BaseException\uc744 \uc0c1\uc18d\ubc1b\uc740 \ucee4\uc2a4\ud140 \uc608\uc678\ub294 \uce90\uce58\ub418\uc9c0 \uc54a\uace0 \uc560\ud50c\ub9ac\ucf00\uc774\uc158\uc744 \uc885\ub8cc\ud558\ub3c4\ub85d \uc2e0\ud638\ub97c \ubcf4\ub0c4\n",
      "- \uc560\ud50c\ub9ac\ucf00\uc774\uc158\uc5d0 \ucee4\uc2a4\ud140 \uc608\uc678\ub97c \uac00\uc9c0\uace0 \uc55e\uc5d0 \ub098\uc628 \uac83\ucc98\ub7fc \uc0ac\uc6a9\ud558\uba74 \uc560\ud50c\ub9ac\ucf00\uc774\uc158 \ucf54\ub4dc\uc758 \uac00\ub3c5\uc131\uc744 \ub192\uc774\uace0 \uc0ac\uc6a9\uc790\uac00 \ub354 \uc27d\uac8c \uc774\ud574\ud560 \uc218 \uc788\ub3c4\ub85d \ub3c4\uc640\uc90c\n",
      "- \ucee4\uc2a4\ud140 \uc608\uc678\ub97c \uc0ac\uc6a9\ud560 \ub54c, \uc0c1\uc18d\uc744 \ud1b5\ud574 \uc5b4\ub5bb\uac8c \uadf8\ub8f9\uc73c\ub85c \ubb36\uc744 \uac83\uc778\uc9c0 \uace0\ubbfc\ud574 \ubcf4\uc544\uc57c \ud568\n",
      "- \ubcf5\uc7a1\ud55c \uc560\ud50c\ub9ac\ucf00\uc774\uc158\uc5d0\uc11c\ub294 \uc5ec\ub7ec \uc608\uc678\ub97c \ubca0\uc774\uc2a4 \ud074\ub798\uc2a4\ub85c \ubb36\ub294 \uac83\uc774 \ub354 \ud0c0\ub2f9\ud55c \ubc29\uc2dd\n",
      "- \uc774\ub807\uac8c \ud558\uba74 \uc0ac\uc6a9\uc790\ub294 \ub2e4\uc74c\uacfc \uac19\uc774 \uc138\ubd80\uc801\uc778 \uc608\uc678\ub97c \uce90\uce58\ud560 \uc218 \uc788\uc74c\n",
      "\n",
      "```python\n",
      "try:\n",
      "    s.send(msg)\n",
      "except ProtocolError:\n",
      "    ...\n",
      "```\n",
      "\n",
      "- \ub2e4\uc74c\ucc98\ub7fc \ub354 \ub113\uc740 \ubc94\uc704\uc758 \uc608\uc678\ub97c \ud55c \ubc88\uc5d0 \ucc98\ub9ac\ud560 \uc218\ub3c4 \uc788\uc74c\n",
      "\n",
      "```python\n",
      "try:\n",
      "    s.send(msg)\n",
      "except NetworkError:\n",
      "    ...\n",
      "```\n",
      "\n",
      "- \\_\\_init\\_\\_() \uba54\uc18c\ub4dc\ub97c \uc624\ubc84\ub77c\uc774\ub4dc\ud558\ub294 \uc0c8\ub85c\uc6b4 \uc608\uc678\ub97c \uc815\uc758\ud55c\ub2e4\uba74, **\ubc18\ub4dc\uc2dc \uc804\ub2ec\ubc1b\uc740 \ubaa8\ub4e0 \uc778\uc790\ub85c Exception.\\_\\_init\\_\\_()\uc744 \ud638\ucd9c**\ud558\ub3c4\ub85d \ud568"
     ]
    },
    {
     "cell_type": "code",
     "collapsed": false,
     "input": [
      "class CustomError(Exception):\n",
      "    def __init__(self, message, status):\n",
      "        # \ubc18\ub4dc\uc2dc!! \ud638\ucd9c\ud574\uc57c \ub428\n",
      "        super().__init__(message, status)\n",
      "        self.message = message\n",
      "        self.status = status"
     ],
     "language": "python",
     "metadata": {},
     "outputs": [],
     "prompt_number": 203
    },
    {
     "cell_type": "markdown",
     "metadata": {},
     "source": [
      "- \uc870\uae08 \uc774\uc0c1\ud574 \ubcf4\uc77c \uc218\ub3c4 \uc788\uc9c0\ub9cc, \uae30\ubcf8\uc801\uc73c\ub85c Exception\uc740 \uc804\ub2ec\ubc1b\uc740 \ubaa8\ub4e0 \uc778\uc790\ub97c \ubc1b\uc544\uc11c .args \uc18d\uc131\uc5d0 \ud29c\ud50c\ub85c \uc800\uc7a5\ud574 \ub193\uc74c\n",
      "- \ub9ce\uc740 \uc218\uc758 \ub77c\uc774\ube0c\ub7ec\ub9ac\uc640 \ud30c\uc774\uc36c\uc758 \uc77c\ubd80 \uae30\ub2a5\uc740 \ubaa8\ub4e0 \uc608\uc678\uac00 .args \uc18d\uc131\uc744 \uac00\uc9c8 \uac83\uc774\ub77c\uace0 \uae30\ub300\ud558\uae30 \ub54c\ubb38\uc5d0, \uc774 \ub2e8\uacc4\ub97c \uac74\ub108\ub6f4\ub2e4\uba74 \uc0c8\ub86d\uac8c \ub9cc\ub4e0 \uc608\uc678\uac00 \ud2b9\uc815 \ucf58\ud0dd\uc2a4\ud2b8\uc5d0\uc11c \uc81c\ub300\ub85c \ub3d9\uc791\ud558\uc9c0 \uc54a\uc744 \uc6b0\ub824\uac00 \uc788\uc74c\n",
      "- .args \ud65c\uc6a9\ubc95\uc744 \ubcf4\uae30 \uc704\ud574\uc11c \ub2e4\uc74c\uacfc \uac19\uc774 \uc778\ud130\ub799\ud2f0\ube0c \uc138\uc158\uc5d0 RuntimeError\ub97c \uc0ac\uc6a9\ud55c \uc608\ub97c \uc0b4\ud3b4\ubcf4\uc790\n",
      "- \uadf8\ub9ac\uace0 \uc5ec\uae30\uc11c \uc5b4\ub5bb\uac8c raise \uad6c\ubb38\uc5d0 \uc778\uc790\ub97c \uc5ec\ub7ec \uac1c \uc0ac\uc6a9\ud588\ub294\uc9c0\uc5d0 \uc8fc\ubaa9\ud558\ub3c4\ub85d \ud55c\ub2e4"
     ]
    },
    {
     "cell_type": "code",
     "collapsed": false,
     "input": [
      "try:\n",
      "    raise RuntimeError('It failed')\n",
      "except RuntimeError as e:\n",
      "    print(e.args)"
     ],
     "language": "python",
     "metadata": {},
     "outputs": [
      {
       "output_type": "stream",
       "stream": "stdout",
       "text": [
        "('It failed',)\n"
       ]
      }
     ],
     "prompt_number": 204
    },
    {
     "cell_type": "code",
     "collapsed": false,
     "input": [
      "try:\n",
      "    raise RuntimeError('It failed', 42, 'spam')\n",
      "except RuntimeError as e:\n",
      "    print(e.args)"
     ],
     "language": "python",
     "metadata": {},
     "outputs": [
      {
       "output_type": "stream",
       "stream": "stdout",
       "text": [
        "('It failed', 42, 'spam')\n"
       ]
      }
     ],
     "prompt_number": 205
    },
    {
     "cell_type": "markdown",
     "metadata": {},
     "source": [
      "- \uc608\uc678\ub97c \uc2a4\uc2a4\ub85c \ub9cc\ub4dc\ub294 \ubc29\ubc95\uc5d0 \ub300\ud574\uc11c \ub354 \ub9ce\uc740 \uc815\ubcf4\uac00 \ud544\uc694\ud558\ub2e4\uba74 \ud30c\uc774\uc36c \ubb38\uc11c \ucc38\uace0"
     ]
    },
    {
     "cell_type": "markdown",
     "metadata": {},
     "source": [
      "## 14.9 \ub2e4\ub978 \uc608\uc678\uc5d0 \ub300\ud55c \uc751\ub2f5\uc73c\ub85c \uc608\uc678 \ubc1c\uc0dd\n",
      "\n",
      "### \ubb38\uc81c\n",
      "\n",
      "- \ub2e4\ub978 \uc608\uc678\ub97c \uce90\uce58\ud55c \uc751\ub2f5\uc73c\ub85c \ub610 \ub2e4\ub978 \uc608\uc678\ub97c \ubc1c\uc0dd\uc2dc\ud0a4\uace0 \uc2f6\ub2e4.\n",
      "- \ud558\uc9c0\ub9cc \ub450 \uc608\uc678\uc5d0 \ub300\ud55c \uc815\ubcf4\ub97c traceback\uc5d0 \ud3ec\ud568\uc2dc\ucf1c\uc57c \ud568\n",
      "\n",
      "### \ud574\uacb0\n",
      "\n",
      "- \uc608\uc678\ub97c \uc5f0\uacb0\ud558\ub824\uba74 raise \uad6c\ubb38 \ud558\ub098\ub9cc \uc0ac\uc6a9\ud558\uc9c0 \uc54a\uace0 raise from\uc744 \uc0ac\uc6a9\ud568\n",
      "- \uc774\ub807\uac8c \ud558\uba74 \ub450 \uc5d0\ub7ec\uc758 \uc815\ubcf4\ub97c \ubaa8\ub450 \uc5bb\uc744 \uc218 \uc788\uc74c"
     ]
    },
    {
     "cell_type": "code",
     "collapsed": false,
     "input": [
      "def example0():\n",
      "    try:\n",
      "        int('N/A')\n",
      "    except ValueError as e:\n",
      "        raise RuntimeError('A parsing error occurred')\n",
      "        \n",
      "example0()"
     ],
     "language": "python",
     "metadata": {},
     "outputs": [
      {
       "ename": "RuntimeError",
       "evalue": "A parsing error occurred",
       "output_type": "pyerr",
       "traceback": [
        "\u001b[0;31m---------------------------------------------------------------------------\u001b[0m\n\u001b[0;31mRuntimeError\u001b[0m                              Traceback (most recent call last)",
        "\u001b[0;32m<ipython-input-227-24f848bce99c>\u001b[0m in \u001b[0;36m<module>\u001b[0;34m()\u001b[0m\n\u001b[1;32m      5\u001b[0m         \u001b[0;32mraise\u001b[0m \u001b[0mRuntimeError\u001b[0m\u001b[0;34m(\u001b[0m\u001b[0;34m'A parsing error occurred'\u001b[0m\u001b[0;34m)\u001b[0m\u001b[0;34m\u001b[0m\u001b[0m\n\u001b[1;32m      6\u001b[0m \u001b[0;34m\u001b[0m\u001b[0m\n\u001b[0;32m----> 7\u001b[0;31m \u001b[0mexample0\u001b[0m\u001b[0;34m(\u001b[0m\u001b[0;34m)\u001b[0m\u001b[0;34m\u001b[0m\u001b[0m\n\u001b[0m",
        "\u001b[0;32m<ipython-input-227-24f848bce99c>\u001b[0m in \u001b[0;36mexample0\u001b[0;34m()\u001b[0m\n\u001b[1;32m      3\u001b[0m         \u001b[0mint\u001b[0m\u001b[0;34m(\u001b[0m\u001b[0;34m'N/A'\u001b[0m\u001b[0;34m)\u001b[0m\u001b[0;34m\u001b[0m\u001b[0m\n\u001b[1;32m      4\u001b[0m     \u001b[0;32mexcept\u001b[0m \u001b[0mValueError\u001b[0m \u001b[0;32mas\u001b[0m \u001b[0me\u001b[0m\u001b[0;34m:\u001b[0m\u001b[0;34m\u001b[0m\u001b[0m\n\u001b[0;32m----> 5\u001b[0;31m         \u001b[0;32mraise\u001b[0m \u001b[0mRuntimeError\u001b[0m\u001b[0;34m(\u001b[0m\u001b[0;34m'A parsing error occurred'\u001b[0m\u001b[0;34m)\u001b[0m\u001b[0;34m\u001b[0m\u001b[0m\n\u001b[0m\u001b[1;32m      6\u001b[0m \u001b[0;34m\u001b[0m\u001b[0m\n\u001b[1;32m      7\u001b[0m \u001b[0mexample0\u001b[0m\u001b[0;34m(\u001b[0m\u001b[0;34m)\u001b[0m\u001b[0;34m\u001b[0m\u001b[0m\n",
        "\u001b[0;31mRuntimeError\u001b[0m: A parsing error occurred"
       ]
      }
     ],
     "prompt_number": 227
    },
    {
     "cell_type": "code",
     "collapsed": false,
     "input": [
      "def example1():\n",
      "    try:\n",
      "        int('N/A')\n",
      "    except ValueError as e:\n",
      "        raise RuntimeError('A parsing error occurred') from e\n",
      "        \n",
      "example1()"
     ],
     "language": "python",
     "metadata": {},
     "outputs": [
      {
       "ename": "RuntimeError",
       "evalue": "A parsing error occurred",
       "output_type": "pyerr",
       "traceback": [
        "\u001b[0;31m---------------------------------------------------------------------------\u001b[0m\n\u001b[0;31mRuntimeError\u001b[0m                              Traceback (most recent call last)",
        "\u001b[0;32m<ipython-input-228-2dcdbe95802f>\u001b[0m in \u001b[0;36m<module>\u001b[0;34m()\u001b[0m\n\u001b[1;32m      5\u001b[0m         \u001b[0;32mraise\u001b[0m \u001b[0mRuntimeError\u001b[0m\u001b[0;34m(\u001b[0m\u001b[0;34m'A parsing error occurred'\u001b[0m\u001b[0;34m)\u001b[0m \u001b[0;32mfrom\u001b[0m \u001b[0me\u001b[0m\u001b[0;34m\u001b[0m\u001b[0m\n\u001b[1;32m      6\u001b[0m \u001b[0;34m\u001b[0m\u001b[0m\n\u001b[0;32m----> 7\u001b[0;31m \u001b[0mexample1\u001b[0m\u001b[0;34m(\u001b[0m\u001b[0;34m)\u001b[0m\u001b[0;34m\u001b[0m\u001b[0m\n\u001b[0m",
        "\u001b[0;32m<ipython-input-228-2dcdbe95802f>\u001b[0m in \u001b[0;36mexample1\u001b[0;34m()\u001b[0m\n\u001b[1;32m      3\u001b[0m         \u001b[0mint\u001b[0m\u001b[0;34m(\u001b[0m\u001b[0;34m'N/A'\u001b[0m\u001b[0;34m)\u001b[0m\u001b[0;34m\u001b[0m\u001b[0m\n\u001b[1;32m      4\u001b[0m     \u001b[0;32mexcept\u001b[0m \u001b[0mValueError\u001b[0m \u001b[0;32mas\u001b[0m \u001b[0me\u001b[0m\u001b[0;34m:\u001b[0m\u001b[0;34m\u001b[0m\u001b[0m\n\u001b[0;32m----> 5\u001b[0;31m         \u001b[0;32mraise\u001b[0m \u001b[0mRuntimeError\u001b[0m\u001b[0;34m(\u001b[0m\u001b[0;34m'A parsing error occurred'\u001b[0m\u001b[0;34m)\u001b[0m \u001b[0;32mfrom\u001b[0m \u001b[0me\u001b[0m\u001b[0;34m\u001b[0m\u001b[0m\n\u001b[0m\u001b[1;32m      6\u001b[0m \u001b[0;34m\u001b[0m\u001b[0m\n\u001b[1;32m      7\u001b[0m \u001b[0mexample1\u001b[0m\u001b[0;34m(\u001b[0m\u001b[0;34m)\u001b[0m\u001b[0;34m\u001b[0m\u001b[0m\n",
        "\u001b[0;31mRuntimeError\u001b[0m: A parsing error occurred"
       ]
      }
     ],
     "prompt_number": 228
    },
    {
     "cell_type": "code",
     "collapsed": false,
     "input": [
      "%%writefile example1.py\n",
      "def example1():\n",
      "    try:\n",
      "        int('N/A')\n",
      "    except ValueError as e:\n",
      "        raise RuntimeError('A parsing error occurred') from e\n",
      "        \n",
      "example1()"
     ],
     "language": "python",
     "metadata": {},
     "outputs": [
      {
       "output_type": "stream",
       "stream": "stdout",
       "text": [
        "Overwriting example1.py\n"
       ]
      }
     ],
     "prompt_number": 214
    },
    {
     "cell_type": "code",
     "collapsed": false,
     "input": [
      "%run example1.py"
     ],
     "language": "python",
     "metadata": {},
     "outputs": [
      {
       "ename": "RuntimeError",
       "evalue": "A parsing error occurred",
       "output_type": "pyerr",
       "traceback": [
        "\u001b[0;31m---------------------------------------------------------------------------\u001b[0m\n\u001b[0;31mRuntimeError\u001b[0m                              Traceback (most recent call last)",
        "\u001b[0;32m/Users/re4lfl0w/Documents/ipython/books/python_cookbook/14/example1.py\u001b[0m in \u001b[0;36m<module>\u001b[0;34m()\u001b[0m\n\u001b[1;32m      5\u001b[0m         \u001b[0;32mraise\u001b[0m \u001b[0mRuntimeError\u001b[0m\u001b[0;34m(\u001b[0m\u001b[0;34m'A parsing error occurred'\u001b[0m\u001b[0;34m)\u001b[0m \u001b[0;32mfrom\u001b[0m \u001b[0me\u001b[0m\u001b[0;34m\u001b[0m\u001b[0m\n\u001b[1;32m      6\u001b[0m \u001b[0;34m\u001b[0m\u001b[0m\n\u001b[0;32m----> 7\u001b[0;31m \u001b[0mexample1\u001b[0m\u001b[0;34m(\u001b[0m\u001b[0;34m)\u001b[0m\u001b[0;34m\u001b[0m\u001b[0m\n\u001b[0m",
        "\u001b[0;32m/Users/re4lfl0w/Documents/ipython/books/python_cookbook/14/example1.py\u001b[0m in \u001b[0;36mexample1\u001b[0;34m()\u001b[0m\n\u001b[1;32m      3\u001b[0m         \u001b[0mint\u001b[0m\u001b[0;34m(\u001b[0m\u001b[0;34m'N/A'\u001b[0m\u001b[0;34m)\u001b[0m\u001b[0;34m\u001b[0m\u001b[0m\n\u001b[1;32m      4\u001b[0m     \u001b[0;32mexcept\u001b[0m \u001b[0mValueError\u001b[0m \u001b[0;32mas\u001b[0m \u001b[0me\u001b[0m\u001b[0;34m:\u001b[0m\u001b[0;34m\u001b[0m\u001b[0m\n\u001b[0;32m----> 5\u001b[0;31m         \u001b[0;32mraise\u001b[0m \u001b[0mRuntimeError\u001b[0m\u001b[0;34m(\u001b[0m\u001b[0;34m'A parsing error occurred'\u001b[0m\u001b[0;34m)\u001b[0m \u001b[0;32mfrom\u001b[0m \u001b[0me\u001b[0m\u001b[0;34m\u001b[0m\u001b[0m\n\u001b[0m\u001b[1;32m      6\u001b[0m \u001b[0;34m\u001b[0m\u001b[0m\n\u001b[1;32m      7\u001b[0m \u001b[0mexample1\u001b[0m\u001b[0;34m(\u001b[0m\u001b[0;34m)\u001b[0m\u001b[0;34m\u001b[0m\u001b[0m\n",
        "\u001b[0;31mRuntimeError\u001b[0m: A parsing error occurred"
       ]
      }
     ],
     "prompt_number": 215
    },
    {
     "cell_type": "markdown",
     "metadata": {},
     "source": [
      "- ipython\uc5d0\uc11c \uc790\uccb4\uc801\uc73c\ub85c Error\uc744 \ucc98\ub9ac\ud574\uc11c \uc548\ub41c\uac70\uace0\ub9cc.. \uc81c\ub300\ub85c traceback\uc5d0 \uc313\uc774\ub294\uad6c\ub9cc\n",
      "- run\ub3c4 ipython\uc5d0\uc11c \uc790\uccb4 \uc81c\uacf5\ud574\uc8fc\ub294 \uac83\uc774\ub2c8 python3\ucc98\ub7fc \uc644\uc804 \uc21c\uc218 \ubc84\uc804\uc774 \uc544\ub2c8\ub2e4."
     ]
    },
    {
     "cell_type": "code",
     "collapsed": false,
     "input": [
      "!python3 example1.py"
     ],
     "language": "python",
     "metadata": {},
     "outputs": [
      {
       "output_type": "stream",
       "stream": "stdout",
       "text": [
        "Traceback (most recent call last):\r\n",
        "  File \"example1.py\", line 3, in example1\r\n",
        "    int('N/A')\r\n",
        "ValueError: invalid literal for int() with base 10: 'N/A'\r\n",
        "\r\n",
        "The above exception was the direct cause of the following exception:\r\n",
        "\r\n",
        "Traceback (most recent call last):\r\n",
        "  File \"example1.py\", line 7, in <module>\r\n",
        "    example1()\r\n",
        "  File \"example1.py\", line 5, in example1\r\n",
        "    raise RuntimeError('A parsing error occurred') from e\r\n",
        "RuntimeError: A parsing error occurred\r\n"
       ]
      }
     ],
     "prompt_number": 232
    },
    {
     "cell_type": "markdown",
     "metadata": {},
     "source": [
      "- \ud2b8\ub808\uc774\uc2a4\ubc31\uc5d0 \ub098\uc624\ub4ef\uc774 \ub450 \uc608\uc678\uac00 \ubaa8\ub450 \ucea1\uccd0\ub428\n",
      "- \uc774\ub7f0 \uc608\uc678\ub97c \uce90\uce58\ud558\uae30 \uc704\ud574\uc11c\ub294 \uc77c\ubc18\uc801\uc778 except \uad6c\ubb38\uc744 \uc0ac\uc6a9\ud558\uba74 \ub428\n",
      "- \ud558\uc9c0\ub9cc \uc608\uc678\uc758 \\_\\_cause\\_\\_ \uc18d\uc131\uc744 \ubcf4\uba74 \uc5f0\uacb0\ub41c \uc608\uc678 \uc815\ubcf4\ub97c \uc54c \uc218 \uc788\uc74c"
     ]
    },
    {
     "cell_type": "code",
     "collapsed": false,
     "input": [
      "try:\n",
      "    example()\n",
      "except RuntimeError as e:\n",
      "    print(\"It didn't work:\", e)\n",
      "    \n",
      "    if e.__cause__:\n",
      "        print('Cause:', e.__cause__)"
     ],
     "language": "python",
     "metadata": {},
     "outputs": [
      {
       "output_type": "stream",
       "stream": "stdout",
       "text": [
        "It didn't work: A parsing error occurred\n",
        "Cause: invalid literal for int() with base 10: 'N/A'\n"
       ]
      }
     ],
     "prompt_number": 234
    },
    {
     "cell_type": "markdown",
     "metadata": {},
     "source": [
      "- \uc5ee\uc5ec \uc788\ub294 \uc608\uc678\uc758 \ub0b4\ubd80 \ud615\ud0dc\ub294 \ub2e4\ub978 \uc608\uc81c\uac00 except \ube14\ub85d\uc5d0\uc11c \ubc1c\uc0dd\ud588\uc744 \ub54c \uc77c\uc5b4\ub0a8"
     ]
    },
    {
     "cell_type": "code",
     "collapsed": false,
     "input": [
      "%%writefile example2.py\n",
      "def example2():\n",
      "    try:\n",
      "        int('N/A')\n",
      "    except ValueError as e:\n",
      "        print(\"Couldn't parse:\", err)\n",
      "        \n",
      "example2()"
     ],
     "language": "python",
     "metadata": {},
     "outputs": [
      {
       "output_type": "stream",
       "stream": "stdout",
       "text": [
        "Writing example2.py\n"
       ]
      }
     ],
     "prompt_number": 237
    },
    {
     "cell_type": "code",
     "collapsed": false,
     "input": [
      "%run example2.py"
     ],
     "language": "python",
     "metadata": {},
     "outputs": [
      {
       "ename": "NameError",
       "evalue": "name 'err' is not defined",
       "output_type": "pyerr",
       "traceback": [
        "\u001b[0;31m---------------------------------------------------------------------------\u001b[0m\n\u001b[0;31mNameError\u001b[0m                                 Traceback (most recent call last)",
        "\u001b[0;32m/Users/re4lfl0w/Documents/ipython/books/python_cookbook/14/example2.py\u001b[0m in \u001b[0;36m<module>\u001b[0;34m()\u001b[0m\n\u001b[1;32m      5\u001b[0m         \u001b[0mprint\u001b[0m\u001b[0;34m(\u001b[0m\u001b[0;34m\"Couldn't parse:\"\u001b[0m\u001b[0;34m,\u001b[0m \u001b[0merr\u001b[0m\u001b[0;34m)\u001b[0m\u001b[0;34m\u001b[0m\u001b[0m\n\u001b[1;32m      6\u001b[0m \u001b[0;34m\u001b[0m\u001b[0m\n\u001b[0;32m----> 7\u001b[0;31m \u001b[0mexample2\u001b[0m\u001b[0;34m(\u001b[0m\u001b[0;34m)\u001b[0m\u001b[0;34m\u001b[0m\u001b[0m\n\u001b[0m",
        "\u001b[0;32m/Users/re4lfl0w/Documents/ipython/books/python_cookbook/14/example2.py\u001b[0m in \u001b[0;36mexample2\u001b[0;34m()\u001b[0m\n\u001b[1;32m      3\u001b[0m         \u001b[0mint\u001b[0m\u001b[0;34m(\u001b[0m\u001b[0;34m'N/A'\u001b[0m\u001b[0;34m)\u001b[0m\u001b[0;34m\u001b[0m\u001b[0m\n\u001b[1;32m      4\u001b[0m     \u001b[0;32mexcept\u001b[0m \u001b[0mValueError\u001b[0m \u001b[0;32mas\u001b[0m \u001b[0me\u001b[0m\u001b[0;34m:\u001b[0m\u001b[0;34m\u001b[0m\u001b[0m\n\u001b[0;32m----> 5\u001b[0;31m         \u001b[0mprint\u001b[0m\u001b[0;34m(\u001b[0m\u001b[0;34m\"Couldn't parse:\"\u001b[0m\u001b[0;34m,\u001b[0m \u001b[0merr\u001b[0m\u001b[0;34m)\u001b[0m\u001b[0;34m\u001b[0m\u001b[0m\n\u001b[0m\u001b[1;32m      6\u001b[0m \u001b[0;34m\u001b[0m\u001b[0m\n\u001b[1;32m      7\u001b[0m \u001b[0mexample2\u001b[0m\u001b[0;34m(\u001b[0m\u001b[0;34m)\u001b[0m\u001b[0;34m\u001b[0m\u001b[0m\n",
        "\u001b[0;31mNameError\u001b[0m: name 'err' is not defined"
       ]
      }
     ],
     "prompt_number": 238
    },
    {
     "cell_type": "code",
     "collapsed": false,
     "input": [
      "!python3 example2.py"
     ],
     "language": "python",
     "metadata": {},
     "outputs": [
      {
       "output_type": "stream",
       "stream": "stdout",
       "text": [
        "Traceback (most recent call last):\r\n",
        "  File \"example2.py\", line 3, in example2\r\n",
        "    int('N/A')\r\n",
        "ValueError: invalid literal for int() with base 10: 'N/A'\r\n",
        "\r\n",
        "During handling of the above exception, another exception occurred:\r\n",
        "\r\n",
        "Traceback (most recent call last):\r\n",
        "  File \"example2.py\", line 7, in <module>\r\n",
        "    example2()\r\n",
        "  File \"example2.py\", line 5, in example2\r\n",
        "    print(\"Couldn't parse:\", err)\r\n",
        "NameError: name 'err' is not defined\r\n"
       ]
      }
     ],
     "prompt_number": 239
    },
    {
     "cell_type": "markdown",
     "metadata": {},
     "source": [
      "- \uc774 \uc608\uc81c\uc5d0\uc11c \ub450 \uc608\uc678\uc758 \uc815\ubcf4\ub97c \ubaa8\ub450 \uc5bb\uc9c0\ub9cc, \ud574\uc11d\uc740 \uc57d\uac04 \ub2e4\ub984\n",
      "- \uc774 \uacbd\uc6b0 \ud30c\uc2f1 \uc5d0\ub7ec\uc5d0 \ub300\ud55c \uc751\ub2f5\uc774 \uc544\ub2cc \ud504\ub85c\uadf8\ub798\ubc0d \uc2e4\uc218\ub85c NameError \uc608\uc678\uac00 \ubc1c\uc0dd\ud568\n",
      "- \uc774\ub54c \uc608\uc678\uc758 \\_\\_cause\\_\\_ \uc18d\uc131\uc774 \uc124\uc815\ub418\uc9c0 \uc54a\uace0 \uc774\uc804 \uc608\uc678\uc5d0 \\_\\_content\\_\\_ \uc18d\uc131\uc774 \uc124\uc815\ub428\n",
      "- \uc5f0\uc1c4\uc801\uc73c\ub85c \ubc1c\uc0dd\ud558\ub294 \uc608\uc678\ub97c \uc6d0\ud558\uc9c0 \uc54a\uc73c\uba74 raise from None\uc744 \uc0ac\uc6a9\ud568"
     ]
    },
    {
     "cell_type": "code",
     "collapsed": false,
     "input": [
      "%%writefile example3.py\n",
      "def example3():\n",
      "    try:\n",
      "        int('N/A')\n",
      "    except ValueError:\n",
      "        raise RuntimeError('A parsing error occurred') from None\n",
      "        \n",
      "example3()"
     ],
     "language": "python",
     "metadata": {},
     "outputs": [
      {
       "output_type": "stream",
       "stream": "stdout",
       "text": [
        "Writing example3.py\n"
       ]
      }
     ],
     "prompt_number": 242
    },
    {
     "cell_type": "code",
     "collapsed": false,
     "input": [
      "%run example3.py"
     ],
     "language": "python",
     "metadata": {},
     "outputs": [
      {
       "ename": "RuntimeError",
       "evalue": "A parsing error occurred",
       "output_type": "pyerr",
       "traceback": [
        "\u001b[0;31m---------------------------------------------------------------------------\u001b[0m\n\u001b[0;31mRuntimeError\u001b[0m                              Traceback (most recent call last)",
        "\u001b[0;32m/Users/re4lfl0w/Documents/ipython/books/python_cookbook/14/example3.py\u001b[0m in \u001b[0;36m<module>\u001b[0;34m()\u001b[0m\n\u001b[1;32m      5\u001b[0m         \u001b[0;32mraise\u001b[0m \u001b[0mRuntimeError\u001b[0m\u001b[0;34m(\u001b[0m\u001b[0;34m'A parsing error occurred'\u001b[0m\u001b[0;34m)\u001b[0m \u001b[0;32mfrom\u001b[0m \u001b[0;32mNone\u001b[0m\u001b[0;34m\u001b[0m\u001b[0m\n\u001b[1;32m      6\u001b[0m \u001b[0;34m\u001b[0m\u001b[0m\n\u001b[0;32m----> 7\u001b[0;31m \u001b[0mexample3\u001b[0m\u001b[0;34m(\u001b[0m\u001b[0;34m)\u001b[0m\u001b[0;34m\u001b[0m\u001b[0m\n\u001b[0m",
        "\u001b[0;32m/Users/re4lfl0w/Documents/ipython/books/python_cookbook/14/example3.py\u001b[0m in \u001b[0;36mexample3\u001b[0;34m()\u001b[0m\n\u001b[1;32m      3\u001b[0m         \u001b[0mint\u001b[0m\u001b[0;34m(\u001b[0m\u001b[0;34m'N/A'\u001b[0m\u001b[0;34m)\u001b[0m\u001b[0;34m\u001b[0m\u001b[0m\n\u001b[1;32m      4\u001b[0m     \u001b[0;32mexcept\u001b[0m \u001b[0mValueError\u001b[0m\u001b[0;34m:\u001b[0m\u001b[0;34m\u001b[0m\u001b[0m\n\u001b[0;32m----> 5\u001b[0;31m         \u001b[0;32mraise\u001b[0m \u001b[0mRuntimeError\u001b[0m\u001b[0;34m(\u001b[0m\u001b[0;34m'A parsing error occurred'\u001b[0m\u001b[0;34m)\u001b[0m \u001b[0;32mfrom\u001b[0m \u001b[0;32mNone\u001b[0m\u001b[0;34m\u001b[0m\u001b[0m\n\u001b[0m\u001b[1;32m      6\u001b[0m \u001b[0;34m\u001b[0m\u001b[0m\n\u001b[1;32m      7\u001b[0m \u001b[0mexample3\u001b[0m\u001b[0;34m(\u001b[0m\u001b[0;34m)\u001b[0m\u001b[0;34m\u001b[0m\u001b[0m\n",
        "\u001b[0;31mRuntimeError\u001b[0m: A parsing error occurred"
       ]
      }
     ],
     "prompt_number": 246
    },
    {
     "cell_type": "code",
     "collapsed": false,
     "input": [
      "!python3 example3.py"
     ],
     "language": "python",
     "metadata": {},
     "outputs": [
      {
       "output_type": "stream",
       "stream": "stdout",
       "text": [
        "Traceback (most recent call last):\r\n",
        "  File \"example3.py\", line 7, in <module>\r\n",
        "    example3()\r\n",
        "  File \"example3.py\", line 5, in example3\r\n",
        "    raise RuntimeError('A parsing error occurred') from None\r\n",
        "RuntimeError: A parsing error occurred\r\n"
       ]
      }
     ],
     "prompt_number": 245
    },
    {
     "cell_type": "markdown",
     "metadata": {},
     "source": [
      "### \ud1a0\ub860\n",
      "\n",
      "- \ucf54\ub4dc\ub97c \ub514\uc790\uc778\ud560 \ub54c, except \ube14\ub85d \ub0b4\ubd80\uc5d0\uc11c raise \uad6c\ubb38\uc744 \uc0ac\uc6a9\ud560 \ub54c \uc8fc\uc758\ub97c \uae30\uc6b8\uc5ec\uc57c \ud568\n",
      "- \ub300\uac1c\uc758 \uacbd\uc6b0 raise \uad6c\ubb38\uc744 **raise from**\uc73c\ub85c \ubc14\uafb8\ub294 \uac83\uc774 \uc633\ub2e4.\n",
      "- \uc989 \ub2e4\uc74c\uacfc \uac19\uc774 \ucf54\ub4dc\ub97c \uc791\uc131\ud558\ub3c4\ub85d \ud558\uc790\n",
      "\n",
      "```python\n",
      "try:\n",
      "    ...\n",
      "except SomeException as e:\n",
      "    raise DifferentException() from e\n",
      "```\n",
      "\n",
      "- \uc774\ub7f0 \ucf54\ub4dc\ub97c \uc791\uc131\ud558\ub294 \uc774\uc720\ub294 **\uc608\uc678\ub97c \uba85\uc2dc\uc801\uc73c\ub85c \ubb36\uc5b4\uc8fc\uae30 \uc704\ud568**\n",
      "- \uc989, Different Exception \uc608\uc678\ub294 SomeException \uc5d0 \ub300\ud55c \uc751\ub2f5\uc73c\ub85c \ubc1c\uc0dd\ud588\uc74c\uc744 \ubd84\uba85\ud788 \ud558\ub294 \uac83\n",
      "- \uc774\ub7f0 \uad00\uacc4\ub294 \uacb0\uacfc \ud2b8\ub808\uc774\uc2a4\ubc31\uc5d0 \uc815\ud655\ud558\uac8c \ub098\ud0c0\ub0a8\n",
      "\n",
      "\n",
      "- \ub2e4\uc74c\uacfc \uac19\uc740 \uc2a4\ud0c0\uc77c\ub85c \ucf54\ub4dc\ub97c \uc791\uc131\ud558\uba74 \uc5f0\uc1c4\uc801\uc778 \uc608\uc678\ub97c \ubc1c\uc0dd\uc2dc\ud0ac \uc218 \uc788\uc9c0\ub9cc, \uc5f0\uc1c4\uc801\uc778 \uc608\uc678\uac00 \uc758\ub3c4\uc801\uc778\uc9c0 \ud639\uc740 \uc54c \uc218 \uc5c6\ub294 \ud504\ub85c\uadf8\ub798\ubc0d \uc5d0\ub7ec\uc5d0 \uc758\ud55c \uac83\uc778\uc9c0\ub294 \uc54c \uc218\uac00 \uc5c6\ub2e4.\n",
      "\n",
      "```python\n",
      "try:\n",
      "    ... \n",
      "except SomeException:\n",
      "    raise DifferentException()\n",
      "```\n",
      "\n",
      "- **raise from**\uc744 \uc0ac\uc6a9\ud558\uba74 **\ub450\ubc88\uc9f8 \uc608\uc678\ub97c \ubc1c\uc0dd\uc2dc\ucf30\ub2e4\ub294 \uac83\uc774 \uba85\ud655\ud574\uc9d0**\n",
      "- \ub9c8\uc9c0\ub9c9 \uc608\uc678\uc5d0 \ub098\uc628 \uac83\ucc98\ub7fc \uc608\uc678 \uc815\ubcf4\ub97c \uc5b5\uc81c\ud558\ub824\ub294 \uc2dc\ub3c4\ub97c \ud558\uc9c0 \ub9d0\uc790.\n",
      "- \uc608\uc678 \uc815\ubcf4\ub97c \uc904\uc774\uba74 \uc880 \ub354 \uac04\uacb0\ud55c \ud2b8\ub808\uc774\uc2a4\ubc31\uc774 \uc0dd\uae30\uae30\ub294 \ud558\uc9c0\ub9cc, \uacb0\uacfc\uc801\uc73c\ub85c \ub514\ubc84\uae45\uc5d0 \uc720\uc6a9\ud55c \uc815\ubcf4\ub3c4 \uc0ac\ub77c\uc9c4\ub2e4.\n",
      "- \uc8fc\uc5b4\uc9c4 \uc0c1\ud669\uc774 \ubaa8\ub450 \ub3d9\uc77c\ud558\ub2e4\uba74 **\ucd5c\ub300\ud55c \ub9ce\uc740 \uc815\ubcf4**\ub97c \ub2f4\ub294 \uac83\uc774 \ub354 \uc88b\uc74c"
     ]
    },
    {
     "cell_type": "markdown",
     "metadata": {},
     "source": [
      "## 14.10 \ub9c8\uc9c0\ub9c9 \uc608\uc678 \ub2e4\uc2dc \ubc1c\uc0dd\n",
      "\n",
      "### \ubb38\uc81c\n",
      "\n",
      "- except \ube14\ub85d\uc5d0\uc11c \uc608\uc678\ub97c \uce90\uce58\ud588\ub2e4. \ud558\uc9c0\ub9cc \uc774 \uc608\uc678\ub97c \ub2e4\uc2dc \ubc1c\uc0dd\uc2dc\ud0a4\uace0 \uc2f6\ub2e4\n",
      "\n",
      "### \ud574\uacb0\n",
      "\n",
      "- \ub2e8\uc21c\ud788 raise \uad6c\ubb38\ub9cc \ub530\ub85c \uc0ac\uc6a9\ud568"
     ]
    },
    {
     "cell_type": "code",
     "collapsed": false,
     "input": [
      "%%writefile example_10.py\n",
      "def example():\n",
      "    try:\n",
      "        int('N/A')\n",
      "    except ValueError:\n",
      "        print(\"Didn't work\")\n",
      "        raise\n",
      "        \n",
      "example()"
     ],
     "language": "python",
     "metadata": {},
     "outputs": [
      {
       "output_type": "stream",
       "stream": "stdout",
       "text": [
        "Writing example_10.py\n"
       ]
      }
     ],
     "prompt_number": 249
    },
    {
     "cell_type": "code",
     "collapsed": false,
     "input": [
      "%run example_10.py"
     ],
     "language": "python",
     "metadata": {},
     "outputs": [
      {
       "output_type": "stream",
       "stream": "stdout",
       "text": [
        "Didn't work\n"
       ]
      },
      {
       "ename": "ValueError",
       "evalue": "invalid literal for int() with base 10: 'N/A'",
       "output_type": "pyerr",
       "traceback": [
        "\u001b[0;31m---------------------------------------------------------------------------\u001b[0m\n\u001b[0;31mValueError\u001b[0m                                Traceback (most recent call last)",
        "\u001b[0;32m/Users/re4lfl0w/Documents/ipython/books/python_cookbook/14/example_10.py\u001b[0m in \u001b[0;36m<module>\u001b[0;34m()\u001b[0m\n\u001b[1;32m      6\u001b[0m         \u001b[0;32mraise\u001b[0m\u001b[0;34m\u001b[0m\u001b[0m\n\u001b[1;32m      7\u001b[0m \u001b[0;34m\u001b[0m\u001b[0m\n\u001b[0;32m----> 8\u001b[0;31m \u001b[0mexample\u001b[0m\u001b[0;34m(\u001b[0m\u001b[0;34m)\u001b[0m\u001b[0;34m\u001b[0m\u001b[0m\n\u001b[0m",
        "\u001b[0;32m/Users/re4lfl0w/Documents/ipython/books/python_cookbook/14/example_10.py\u001b[0m in \u001b[0;36mexample\u001b[0;34m()\u001b[0m\n\u001b[1;32m      1\u001b[0m \u001b[0;32mdef\u001b[0m \u001b[0mexample\u001b[0m\u001b[0;34m(\u001b[0m\u001b[0;34m)\u001b[0m\u001b[0;34m:\u001b[0m\u001b[0;34m\u001b[0m\u001b[0m\n\u001b[1;32m      2\u001b[0m     \u001b[0;32mtry\u001b[0m\u001b[0;34m:\u001b[0m\u001b[0;34m\u001b[0m\u001b[0m\n\u001b[0;32m----> 3\u001b[0;31m         \u001b[0mint\u001b[0m\u001b[0;34m(\u001b[0m\u001b[0;34m'N/A'\u001b[0m\u001b[0;34m)\u001b[0m\u001b[0;34m\u001b[0m\u001b[0m\n\u001b[0m\u001b[1;32m      4\u001b[0m     \u001b[0;32mexcept\u001b[0m \u001b[0mValueError\u001b[0m\u001b[0;34m:\u001b[0m\u001b[0;34m\u001b[0m\u001b[0m\n\u001b[1;32m      5\u001b[0m         \u001b[0mprint\u001b[0m\u001b[0;34m(\u001b[0m\u001b[0;34m\"Didn't work\"\u001b[0m\u001b[0;34m)\u001b[0m\u001b[0;34m\u001b[0m\u001b[0m\n",
        "\u001b[0;31mValueError\u001b[0m: invalid literal for int() with base 10: 'N/A'"
       ]
      }
     ],
     "prompt_number": 251
    },
    {
     "cell_type": "markdown",
     "metadata": {},
     "source": [
      "- \uc774 \ubb38\uc81c\ub294 \uc77c\ubc18\uc801\uc73c\ub85c \uc608\uc678\uc5d0 \ub300\ud55c \uc751\ub2f5\uc73c\ub85c \uc5b4\ub5a4 \ub3d9\uc791\uc744(\uc608: \ub85c\uadf8, \ud574\uc81c \ub4f1) \ud574\uc57c \ud558\uc9c0\ub9cc, \uadf8 \uc791\uc5c5\uc744 \ub9c8\uce5c \ud6c4\uc5d0, \uc608\uc678\ub97c \ub2e4\uc2dc \ubc1c\uc0dd\uc2dc\ucf1c\uc57c \ud560 \ub54c \ubc1c\uc0dd\ud568\n",
      "- \ubaa8\ub4e0 \uc608\uc678\ub97c \ucc98\ub9ac\ud558\ub294 \ud578\ub4e4\ub7ec\uc5d0\uc11c \uc77c\ubc18\uc801\uc73c\ub85c \ub2e4\uc74c\uacfc \uac19\uc740 \ucf54\ub4dc\ub97c \uc0ac\uc6a9\ud568\n",
      "\n",
      "```python\n",
      "try:\n",
      "    ...\n",
      "except Exception as e:\n",
      "    # \uc608\uc678 \uc815\ubcf4 \ucc98\ub9ac\n",
      "    ... \n",
      "    \n",
      "    # \uc608\uc678 \uc804\ud30c\n",
      "    raise\n",
      "```"
     ]
    }
   ],
   "metadata": {}
  }
 ]
}
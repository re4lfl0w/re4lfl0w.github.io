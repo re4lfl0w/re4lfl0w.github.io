{
 "metadata": {
  "name": "",
  "signature": "sha256:41b1b1d646aa4428cd1ac0418685acf7595a3f5b1d7be4d2696a36490c1f456e"
 },
 "nbformat": 3,
 "nbformat_minor": 0,
 "worksheets": [
  {
   "cells": [
    {
     "cell_type": "markdown",
     "metadata": {},
     "source": [
      "# 4. \uc774\ud130\ub808\uc774\ud130\uc640 \uc81c\ub108\ub808\uc774\ud130\n",
      "\n",
      "- start: 2014-10-04\n",
      "- end: 2014-10-05\n",
      "\n",
      "\n",
      "- \uac1d\uccb4 \uc21c\ud658(iteration)\uc740 \ud30c\uc774\uc36c\uc758 \uac15\ub825\ud55c \uae30\ub2a5 \uc911 \ud558\ub098\n",
      "- \uc21c\ud658\uc744 \ub2e8\uc21c\ud788 \uc2dc\ud000\uc2a4 \ub0b4\ubd80 \uc544\uc774\ud15c\uc5d0 \uc811\uadfc\ud558\ub294 \ubc29\ubc95\uc73c\ub85c \uc0dd\uac01\ud560 \uc218\ub3c4 \uc788\uc74c\n",
      "- \ud558\uc9c0\ub9cc \uc21c\ud658\uc744 \ud1b5\ud574 \ud560 \uc218 \uc788\ub294 \uc77c\uc740, \uc21c\ud658 \uac1d\uccb4 \ub9cc\ub4e4\uae30, itertools \ubaa8\ub4c8\uc758 \uc21c\ud658 \ud328\ud134 \uc801\uc6a9\ud558\uae30, generator \ud568\uc218 \ub9cc\ub4e4\uae30 \ub4f1 \uc5ec\ub7ec\uac00\uc9c0 \uc874\uc7ac\n",
      "- \uc21c\ud658\uacfc \uad00\ub828\uc788\ub294 \uc77c\ubc18\uc801\uc778 \ubb38\uc81c\ub97c \uc54c\uc544\ubcf8\ub2e4\n",
      "\n",
      "### Iterator vs Generator\n",
      "\n",
      "- [\uc5f0\uc591\uac31's House :: \ud30c\uc774\uc36c(python) - \uc774\ud130\ub808\uc774\ud130(iterator), \uc81c\ub108\ub808\uc774\ud130(generator)](http://ygang.tistory.com/22)\n",
      "  - generator\uc758 \uc7a5\uc810: \ub370\uc774\ud130\ub97c \ubbf8\ub9ac \ub9cc\ub4e4\uc5b4 \ub193\ub294 \uac83\uc774 \uc544\ub2c8\ub77c \ud544\uc694\ud560 \ub54c\ub9c8\ub2e4 \ub370\uc774\ud130\ub97c \uc0dd\uc131\ud560 \uc218 \uc788\uc5b4\uc11c \uba54\ubaa8\ub9ac \uc0ac\uc6a9\uc744 \uc904\uc784. \n",
      "  - 100\ub9cc\uac1c\uc758 \uc6d0\uc18c\uac00 \uc788\ub294 list\ub97c \ud55c \ubc88\uc5d0 \ubc1b\ub294 \uac83\ubcf4\ub2e4 1\uac1c\uc758 \uc6d0\uc18c\ub97c 100\ub9cc\ubc88 \ud638\ucd9c\ud558\ub294\uac8c \uba54\ubaa8\ub9ac \uc0ac\uc6a9\ub7c9 \uc904\uc77c \uc218 \uc788\uc74c\n",
      "\uc790\n",
      "\n",
      "- [Glossary iterator \u2014 Python 2.7.8 documentation](https://docs.python.org/2/glossary.html#term-iterator)\n",
      "- [Glossary generator \u2014 Python 2.7.8 documentation](https://docs.python.org/2/glossary.html#term-generator)\n",
      "\n",
      "\n",
      "- [python - Generator Expressions vs. List Comprehension - Stack Overflow](http://stackoverflow.com/questions/47789/generator-expressions-vs-list-comprehension)\n",
      "- [#dogfeet - Coroutine](http://dogfeet.github.io/articles/2012/coroutine.html)\n",
      "- [\uc544\ubb34\ub3c4\uc548 : Iterable, Iterator and Generator : \ub367\uae00 > Iterable, Iterator and Generator : \ud2b8\ub799\ubc31 > Iterable, Iterator and Generator](http://nemonein.egloos.com/viewer/5168078): \ud06c.. \ub098\ub791 \ube44\uc2b7\ud55c \ucf00\uc774\uc2a4\ub124. \n",
      "- [\ud30c\uc774\uc36c \ud568\uc218\ud615 \ud504\ub85c\uadf8\ub798\ubc0d](http://functionalthinking.appspot.com/%ED%8C%8C%EC%9D%B4%EC%8D%AC_%ED%95%A8%EC%88%98%ED%98%95_%ED%94%84%EB%A1%9C%EA%B7%B8%EB%9E%98%EB%B0%8D)\n",
      "  - \uad49\uc7a5\ud788 \uc798 \uc815\ub9ac\ub418\uc5b4 \uc788\ub2e4. \uae54\ub054\ud558\uac8c markdown\n",
      "  - \ubc18\ub4dc\uc2dc \ud544\ub3c5!!!\n",
      "  - \uc774\uc81c \uc774\ud574\uac00 \uc880 \ub41c\ub2e4..\n",
      "  - map, filter -> list comprehension\n",
      "  - reduce -> for\n",
      "  - lambda\ub294 \ub418\ub3c4\ub85d\uc774\uba74 \uc4f0\uc9c0 \ub9d0\uc790\n",
      "- [\ub290\uae0b\ud55c \uacc4\uc0b0\ubc95 - \uc704\ud0a4\ubc31\uacfc, \uc6b0\ub9ac \ubaa8\ub450\uc758 \ubc31\uacfc\uc0ac\uc804](http://ko.wikipedia.org/wiki/%EB%8A%90%EA%B8%8B%ED%95%9C_%EA%B3%84%EC%82%B0%EB%B2%95):\n",
      "  - \ud544\uc694\uc5c6\ub294 \uacc4\uc0b0\uc744 \ud558\uc9c0 \uc54a\uc73c\ubbc0\ub85c \uc2e4\ud589\uc744 \ub354 \ube60\ub974\uac8c\n",
      "  - \ubcf5\ud569 \uc218\uc2dd\uc744 \uacc4\uc0b0\ud560 \ub54c \uc624\ub958\uc0c1\ud0dc\ub97c \ud53c\ud560 \uc218 \uc788\uace0\n",
      "  - \ubb34\ud55c \uc790\ub8cc\uad6c\uc870\ub97c \uc4f8 \uc218 \uc788\uace0\n",
      "  - \ubbf8\ub9ac \uc815\uc758\ub41c \uac83\uc744 \uc774\uc6a9\ud558\uc9c0 \uc54a\uace0 \ubcf4\ud1b5 \ud568\uc218\ub85c \uc81c\uc5b4 \uad6c\uc870\ub97c \uc815\uc758\ud560 \uc218 \uc788\uc74c\n",
      "- [\ud568\uc218\ud615\uc5b8\uc5b4\uc758 \uc7a5\ub2e8\uc810\uc740? | KLDP](https://kldp.org/node/18804)\n",
      "- [Lazy Evaluation](http://functionalthinking.appspot.com/Lazy_Evaluation)\n",
      "- [List Comprehension](http://functionalthinking.appspot.com/List_Comprehension)\n",
      "- [Object-oriented vs Functional](http://functionalthinking.appspot.com/Object-oriented_vs_Functional)"
     ]
    },
    {
     "cell_type": "code",
     "collapsed": false,
     "input": [
      "X = [3, 6, 9]\n",
      "Y = [2, 4, 7]"
     ],
     "language": "python",
     "metadata": {},
     "outputs": [],
     "prompt_number": 2
    },
    {
     "cell_type": "code",
     "collapsed": false,
     "input": [
      "# Generator expression\n",
      "ge=(x*y for x,y in zip(X,Y))\n",
      "ge"
     ],
     "language": "python",
     "metadata": {},
     "outputs": [
      {
       "metadata": {},
       "output_type": "pyout",
       "prompt_number": 24,
       "text": [
        "<generator object <genexpr> at 0x109d2a990>"
       ]
      }
     ],
     "prompt_number": 24
    },
    {
     "cell_type": "code",
     "collapsed": false,
     "input": [
      "# Generator expression\n",
      "ge=(x*y for x,y in zip(X,Y))\n",
      "ge"
     ],
     "language": "python",
     "metadata": {},
     "outputs": [
      {
       "metadata": {},
       "output_type": "pyout",
       "prompt_number": 26,
       "text": [
        "<generator object <genexpr> at 0x109d2a708>"
       ]
      }
     ],
     "prompt_number": 26
    },
    {
     "cell_type": "code",
     "collapsed": false,
     "input": [
      "# List comprehension\n",
      "[x*y for x,y in zip(X,Y)]"
     ],
     "language": "python",
     "metadata": {},
     "outputs": [
      {
       "metadata": {},
       "output_type": "pyout",
       "prompt_number": 25,
       "text": [
        "[6, 24, 63]"
       ]
      }
     ],
     "prompt_number": 25
    },
    {
     "cell_type": "code",
     "collapsed": false,
     "input": [
      "for i in ge:\n",
      "    print(i)"
     ],
     "language": "python",
     "metadata": {},
     "outputs": [
      {
       "output_type": "stream",
       "stream": "stdout",
       "text": [
        "6\n",
        "24\n",
        "63\n"
       ]
      }
     ],
     "prompt_number": 27
    },
    {
     "cell_type": "code",
     "collapsed": false,
     "input": [
      "# \uc774\ud130\ub808\uc774\ud130\ub97c \ub9cc\ub4e0\ub2e4. \uac01 iterable\uc5d0\uc11c argument\ub97c \uc774\uc6a9\ud574\uc11c function\uc744 \uacc4\uc0b0\ud55c\ub2e4.\n",
      "# iterable\uc774 \uace0\uac08\ub418\uba74 \uba48\ucd98\ub2e4.\n",
      "help(map)"
     ],
     "language": "python",
     "metadata": {},
     "outputs": [
      {
       "output_type": "stream",
       "stream": "stdout",
       "text": [
        "Help on class map in module builtins:\n",
        "\n",
        "class map(object)\n",
        " |  map(func, *iterables) --> map object\n",
        " |  \n",
        " |  Make an iterator that computes the function using arguments from\n",
        " |  each of the iterables.  Stops when the shortest iterable is exhausted.\n",
        " |  \n",
        " |  Methods defined here:\n",
        " |  \n",
        " |  __getattribute__(self, name, /)\n",
        " |      Return getattr(self, name).\n",
        " |  \n",
        " |  __iter__(self, /)\n",
        " |      Implement iter(self).\n",
        " |  \n",
        " |  __new__(*args, **kwargs) from builtins.type\n",
        " |      Create and return a new object.  See help(type) for accurate signature.\n",
        " |  \n",
        " |  __next__(self, /)\n",
        " |      Implement next(self).\n",
        " |  \n",
        " |  __reduce__(...)\n",
        " |      Return state information for pickling.\n",
        "\n"
       ]
      }
     ],
     "prompt_number": 10
    },
    {
     "cell_type": "code",
     "collapsed": false,
     "input": [
      "# list\uc758 \uc6d0\uc18c\ub4e4\uc5d0 \ub300\ud574 \uac01 function\uc744 \uc801\uc6a9\n",
      "squares = map(lambda a: a*a, range(5))\n",
      "squares"
     ],
     "language": "python",
     "metadata": {},
     "outputs": [
      {
       "metadata": {},
       "output_type": "pyout",
       "prompt_number": 47,
       "text": [
        "<map at 0x109d17e80>"
       ]
      }
     ],
     "prompt_number": 47
    },
    {
     "cell_type": "code",
     "collapsed": false,
     "input": [
      "# iterator\ub294 \ud55c \ubc88\ub9cc \uc18c\ud658\ud560 \uc218 \uc788\ub2e4.\n",
      "# next\ub97c \uacc4\uc18d \ud638\ucd9c\ud558\uac8c \ub418\uace0 \ub05d\uc5d0 \ub2e4\ub2e4\ub974\uac8c \ub418\uba74 StopIteration \uc774 \ubc1c\uc0dd\ud558\uace0\n",
      "# 1\ubc88 \ud638\ucd9c\ub410\ub358 \uac83\ub4e4\uc740 \ubaa8\ub450 \ub0a0\uc544\uac00 \ubc84\ub9b0\ub2e4.\n",
      "max(squares)"
     ],
     "language": "python",
     "metadata": {},
     "outputs": [
      {
       "metadata": {},
       "output_type": "pyout",
       "prompt_number": 48,
       "text": [
        "16"
       ]
      }
     ],
     "prompt_number": 48
    },
    {
     "cell_type": "code",
     "collapsed": false,
     "input": [
      "for i in squares:\n",
      "    print(i)"
     ],
     "language": "python",
     "metadata": {},
     "outputs": [
      {
       "output_type": "stream",
       "stream": "stdout",
       "text": [
        "0\n",
        "1\n",
        "4\n",
        "9\n",
        "16\n"
       ]
      }
     ],
     "prompt_number": 9
    },
    {
     "cell_type": "code",
     "collapsed": false,
     "input": [
      "from functools import reduce"
     ],
     "language": "python",
     "metadata": {},
     "outputs": [],
     "prompt_number": 11
    },
    {
     "cell_type": "code",
     "collapsed": false,
     "input": [
      "# \ud568\uc218\ub4e4\uc744 \uc810\uc9c4\uc801\uc73c\ub85c \uac01 sequence\uc758 item\ub4e4\uc5d0 \uc801\uc6a9\ud55c\ub2e4.\n",
      "help(reduce)"
     ],
     "language": "python",
     "metadata": {},
     "outputs": [
      {
       "output_type": "stream",
       "stream": "stdout",
       "text": [
        "Help on built-in function reduce in module _functools:\n",
        "\n",
        "reduce(...)\n",
        "    reduce(function, sequence[, initial]) -> value\n",
        "    \n",
        "    Apply a function of two arguments cumulatively to the items of a sequence,\n",
        "    from left to right, so as to reduce the sequence to a single value.\n",
        "    For example, reduce(lambda x, y: x+y, [1, 2, 3, 4, 5]) calculates\n",
        "    ((((1+2)+3)+4)+5).  If initial is present, it is placed before the items\n",
        "    of the sequence in the calculation, and serves as a default when the\n",
        "    sequence is empty.\n",
        "\n"
       ]
      }
     ],
     "prompt_number": 13
    },
    {
     "cell_type": "code",
     "collapsed": false,
     "input": [
      "reduce(lambda x, y: x + y, range(5))"
     ],
     "language": "python",
     "metadata": {},
     "outputs": [
      {
       "metadata": {},
       "output_type": "pyout",
       "prompt_number": 12,
       "text": [
        "10"
       ]
      }
     ],
     "prompt_number": 12
    },
    {
     "cell_type": "code",
     "collapsed": false,
     "input": [
      "from functools import partial"
     ],
     "language": "python",
     "metadata": {},
     "outputs": [],
     "prompt_number": 30
    },
    {
     "cell_type": "code",
     "collapsed": false,
     "input": [
      "def log(message, subsystem):\n",
      "    \"write the contents of 'message' to the specified subsystem.\"\n",
      "    print('%s: %s' % (subsystem, message))"
     ],
     "language": "python",
     "metadata": {},
     "outputs": [],
     "prompt_number": 44
    },
    {
     "cell_type": "code",
     "collapsed": false,
     "input": [
      "server_log = partial(log, subsystem='server')"
     ],
     "language": "python",
     "metadata": {},
     "outputs": [],
     "prompt_number": 45
    },
    {
     "cell_type": "code",
     "collapsed": false,
     "input": [
      "server_log('Unable to open socket')"
     ],
     "language": "python",
     "metadata": {},
     "outputs": [
      {
       "output_type": "stream",
       "stream": "stdout",
       "text": [
        "server: Unable to open socket\n"
       ]
      }
     ],
     "prompt_number": 46
    },
    {
     "cell_type": "markdown",
     "metadata": {},
     "source": [
      "## 4.1 \uc218\ub3d9\uc73c\ub85c \uc774\ud130\ub808\uc774\ud130 \uc18c\ube44\n",
      "\n",
      "### \ubb38\uc81c\n",
      "\n",
      "- \uc21c\ud658 \uac00\ub2a5\ud55c \uc544\uc774\ud15c\uc5d0 \uc811\uadfc\ud560 \ub54c for \uc21c\ud658\ubb38\uc744 \uc0ac\uc6a9\ud558\uace0 \uc2f6\uc9c0 \uc54a\ub2e4.\n",
      "\n",
      "### \ud574\uacb0\n",
      "\n",
      "- \uc218\ub3d9\uc73c\ub85c iterator\ub97c \uc18c\ube44\ud558\ub824\uba74 next() \ud568\uc218\ub97c \uc0ac\uc6a9\ud558\uace0 StopIteration \uc608\uc678\ub97c \ucc98\ub9ac\ud558\uae30 \uc704\ud55c \ucf54\ub4dc\ub97c \uc9c1\uc811 \uc791\uc131\ud55c\ub2e4. \uc608\ub97c \ub4e4\uc5b4 \ud30c\uc77c\uc5d0\uc11c \uc904\uc744 \uc77d\ub294 \ucf54\ub4dc\ub97c \ubcf4\uc790"
     ]
    },
    {
     "cell_type": "code",
     "collapsed": false,
     "input": [
      "with open('04/creating_data_processing_pipelines/example.py') as f:\n",
      "    try:\n",
      "        while True:\n",
      "            line = next(f)\n",
      "            print(line, end='')\n",
      "    except StopIteration:\n",
      "        pass"
     ],
     "language": "python",
     "metadata": {},
     "outputs": [
      {
       "output_type": "stream",
       "stream": "stdout",
       "text": [
        "import os\n",
        "import fnmatch\n",
        "import gzip\n",
        "import bz2\n",
        "import re\n",
        "\n",
        "def gen_find(filepat, top):\n",
        "    '''\n",
        "    Find all filenames in a directory tree that match a shell wildcard pattern\n",
        "    '''\n",
        "    for path, dirlist, filelist in os.walk(top):\n",
        "        for name in fnmatch.filter(filelist, filepat):\n",
        "            yield os.path.join(path,name)\n",
        "\n",
        "def gen_opener(filenames):\n",
        "    '''\n",
        "    Open a sequence of filenames one at a time producing a file object.\n",
        "    The file is closed immediately when proceeding to the next iteration. \n",
        "    '''\n",
        "    for filename in filenames:\n",
        "        if filename.endswith('.gz'):\n",
        "            f = gzip.open(filename, 'rt')\n",
        "        elif filename.endswith('.bz2'):\n",
        "            f = bz2.open(filename, 'rt')\n",
        "        else:\n",
        "            f = open(filename, 'rt')\n",
        "        yield f\n",
        "        f.close()\n",
        "\n",
        "def gen_concatenate(iterators):\n",
        "    '''\n",
        "    Chain a sequence of iterators together into a single sequence.\n",
        "    '''\n",
        "    for it in iterators:\n",
        "        yield from it\n",
        "\n",
        "def gen_grep(pattern, lines):\n",
        "    '''\n",
        "    Look for a regex pattern in a sequence of lines\n",
        "    '''\n",
        "    pat = re.compile(pattern)\n",
        "    for line in lines:\n",
        "        if pat.search(line):\n",
        "            yield line\n",
        "\n",
        "if __name__ == '__main__':\n",
        "\n",
        "    # Example 1\n",
        "    lognames = gen_find('access-log*', 'www')\n",
        "    files = gen_opener(lognames)\n",
        "    lines = gen_concatenate(files)\n",
        "    pylines = gen_grep('(?i)python', lines)\n",
        "    for line in pylines:\n",
        "        print(line)\n",
        "\n",
        "    # Example 2\n",
        "    lognames = gen_find('access-log*', 'www')\n",
        "    files = gen_opener(lognames)\n",
        "    lines = gen_concatenate(files)\n",
        "    pylines = gen_grep('(?i)python', lines)\n",
        "    bytecolumn = (line.rsplit(None,1)[1] for line in pylines)\n",
        "    bytes = (int(x) for x in bytecolumn if x != '-')\n",
        "    print('Total', sum(bytes))\n"
       ]
      }
     ],
     "prompt_number": 3
    },
    {
     "cell_type": "code",
     "collapsed": false,
     "input": [
      "with open('04/creating_data_processing_pipelines/example.py') as f:\n",
      "    while True:\n",
      "        # None\uc744 \ub118\uaca8\uc904 \uc218\ub3c4 \uc788\ub2e4.\n",
      "        line = next(f, None)\n",
      "        if line is None:\n",
      "            break\n",
      "        print(line, end='')"
     ],
     "language": "python",
     "metadata": {},
     "outputs": [
      {
       "output_type": "stream",
       "stream": "stdout",
       "text": [
        "import os\n",
        "import fnmatch\n",
        "import gzip\n",
        "import bz2\n",
        "import re\n",
        "\n",
        "def gen_find(filepat, top):\n",
        "    '''\n",
        "    Find all filenames in a directory tree that match a shell wildcard pattern\n",
        "    '''\n",
        "    for path, dirlist, filelist in os.walk(top):\n",
        "        for name in fnmatch.filter(filelist, filepat):\n",
        "            yield os.path.join(path,name)\n",
        "\n",
        "def gen_opener(filenames):\n",
        "    '''\n",
        "    Open a sequence of filenames one at a time producing a file object.\n",
        "    The file is closed immediately when proceeding to the next iteration. \n",
        "    '''\n",
        "    for filename in filenames:\n",
        "        if filename.endswith('.gz'):\n",
        "            f = gzip.open(filename, 'rt')\n",
        "        elif filename.endswith('.bz2'):\n",
        "            f = bz2.open(filename, 'rt')\n",
        "        else:\n",
        "            f = open(filename, 'rt')\n",
        "        yield f\n",
        "        f.close()\n",
        "\n",
        "def gen_concatenate(iterators):\n",
        "    '''\n",
        "    Chain a sequence of iterators together into a single sequence.\n",
        "    '''\n",
        "    for it in iterators:\n",
        "        yield from it\n",
        "\n",
        "def gen_grep(pattern, lines):\n",
        "    '''\n",
        "    Look for a regex pattern in a sequence of lines\n",
        "    '''\n",
        "    pat = re.compile(pattern)\n",
        "    for line in lines:\n",
        "        if pat.search(line):\n",
        "            yield line\n",
        "\n",
        "if __name__ == '__main__':\n",
        "\n",
        "    # Example 1\n",
        "    lognames = gen_find('access-log*', 'www')\n",
        "    files = gen_opener(lognames)\n",
        "    lines = gen_concatenate(files)\n",
        "    pylines = gen_grep('(?i)python', lines)\n",
        "    for line in pylines:\n",
        "        print(line)\n",
        "\n",
        "    # Example 2\n",
        "    lognames = gen_find('access-log*', 'www')\n",
        "    files = gen_opener(lognames)\n",
        "    lines = gen_concatenate(files)\n",
        "    pylines = gen_grep('(?i)python', lines)\n",
        "    bytecolumn = (line.rsplit(None,1)[1] for line in pylines)\n",
        "    bytes = (int(x) for x in bytecolumn if x != '-')\n",
        "    print('Total', sum(bytes))\n"
       ]
      }
     ],
     "prompt_number": 4
    },
    {
     "cell_type": "markdown",
     "metadata": {},
     "source": [
      "### \ud1a0\ub860\n",
      "\n",
      "- \ub300\uac1c\uc758 \uacbd\uc6b0, \uc21c\ud658\uc5d0 for\ubb38\uc744 \uc0ac\uc6a9\ud558\uc9c0\ub9cc \ubcf4\ub2e4 \ub354 \uc815\uad50\ud55c \uc870\uc808\uc774 \ud544\uc694\ud560 \ub54c\ub3c4 \uc788\uc74c\n",
      "- \uae30\uc800\uc5d0\uc11c \uc5b4\ub5a4 \ub3d9\uc791\uc774 \uc77c\uc5b4\ub098\ub294\uc9c0 \uc815\ud655\ud788 \uc54c\uc544\ub458 \ud544\uc694\uac00 \uc788\uc74c\n",
      "- \ub2e4\uc74c \uc0c1\ud638 \uc791\uc6a9\uc744 \ud558\ub294 \uc608\uc81c\ub97c \ud1b5\ud574 \uc21c\ud658\ud558\ub294 \ub3d9\uc548 \uae30\ubcf8\uc801\uc73c\ub85c \uc5b4\ub5a4 \uc77c\uc774 \uc77c\uc5b4\ub098\ub294\uc9c0 \uc54c\uc544\ubcf4\uc790"
     ]
    },
    {
     "cell_type": "code",
     "collapsed": false,
     "input": [
      "items = [1, 2, 3]"
     ],
     "language": "python",
     "metadata": {},
     "outputs": [],
     "prompt_number": 5
    },
    {
     "cell_type": "code",
     "collapsed": false,
     "input": [
      "# \uc774\ud130\ub808\uc774\ud130 \uc5bb\uae30\n",
      "# items.__iter__() \uc2e4\ud589\n",
      "it = iter(items)"
     ],
     "language": "python",
     "metadata": {},
     "outputs": [],
     "prompt_number": 6
    },
    {
     "cell_type": "code",
     "collapsed": false,
     "input": [
      "# \uc774\ud130\ub808\uc774\ud130 \uc2e4\ud589\n",
      "# it.__next__() \uc2e4\ud589\n",
      "next(it)"
     ],
     "language": "python",
     "metadata": {},
     "outputs": [
      {
       "metadata": {},
       "output_type": "pyout",
       "prompt_number": 7,
       "text": [
        "1"
       ]
      }
     ],
     "prompt_number": 7
    },
    {
     "cell_type": "code",
     "collapsed": false,
     "input": [
      "it.__next__()"
     ],
     "language": "python",
     "metadata": {},
     "outputs": [
      {
       "metadata": {},
       "output_type": "pyout",
       "prompt_number": 10,
       "text": [
        "2"
       ]
      }
     ],
     "prompt_number": 10
    },
    {
     "cell_type": "code",
     "collapsed": false,
     "input": [
      "next(it)"
     ],
     "language": "python",
     "metadata": {},
     "outputs": [
      {
       "metadata": {},
       "output_type": "pyout",
       "prompt_number": 11,
       "text": [
        "3"
       ]
      }
     ],
     "prompt_number": 11
    },
    {
     "cell_type": "code",
     "collapsed": false,
     "input": [
      "it.__next__()"
     ],
     "language": "python",
     "metadata": {},
     "outputs": [
      {
       "ename": "StopIteration",
       "evalue": "",
       "output_type": "pyerr",
       "traceback": [
        "\u001b[0;31m---------------------------------------------------------------------------\u001b[0m\n\u001b[0;31mStopIteration\u001b[0m                             Traceback (most recent call last)",
        "\u001b[0;32m<ipython-input-12-a1cc91b7bc73>\u001b[0m in \u001b[0;36m<module>\u001b[0;34m()\u001b[0m\n\u001b[0;32m----> 1\u001b[0;31m \u001b[0mit\u001b[0m\u001b[0;34m.\u001b[0m\u001b[0m__next__\u001b[0m\u001b[0;34m(\u001b[0m\u001b[0;34m)\u001b[0m\u001b[0;34m\u001b[0m\u001b[0m\n\u001b[0m",
        "\u001b[0;31mStopIteration\u001b[0m: "
       ]
      }
     ],
     "prompt_number": 12
    },
    {
     "cell_type": "markdown",
     "metadata": {},
     "source": [
      "- \ub2e4\uc74c \uc7a5\uc5d0\uc11c\ub294 \uc21c\ud658 \uae30\uc220\uacfc, \uae30\ubcf8 \uc774\ud130\ub808\uc774\ud130 \ud504\ub85c\ud1a0\ucf5c\uc774 \uc18c\ube44\ub418\ub294 \ubc29\ubc95\uc744 \uc790\uc138\ud788 \uc54c\uc544\ubcf4\uc790"
     ]
    },
    {
     "cell_type": "markdown",
     "metadata": {},
     "source": [
      "## 4.2 \ub378\ub9ac\uac8c\uc774\ud305 \uc21c\ud658\n",
      "\n",
      "### \ubb38\uc81c\n",
      "\n",
      "- \ub9ac\uc2a4\ud2b8, \ud29c\ud50c \ub4f1 \uc21c\ud658 \uac00\ub2a5\ud55c \uac1d\uccb4\ub97c \ub2f4\uc740 \uc0ac\uc6a9\uc790 \uc815\uc758 \ucee8\ud14c\uc774\ub108\ub97c \ub9cc\ub4e4\uc5c8\ub2e4. \uc774 \ucee8\ud14c\uc774\ub108\uc5d0 \uc0ac\uc6a9 \uac00\ub2a5\ud55c iterator\ub97c \ub9cc\ub4e4\uace0 \uc2f6\ub2e4.\n",
      "\n",
      "### \ud574\uacb0\n",
      "\n",
      "- \uc77c\ubc18\uc801\uc73c\ub85c \ucee8\ud14c\uc774\ub108 \uc21c\ud658\uc5d0 \uc0ac\uc6a9\ud560 \\_\\_iter\\_\\_() \uba54\uc18c\ub4dc\ub9cc \uc815\uc758\ud574 \uc8fc\uba74 \ub428\n",
      "\n",
      "----\n",
      "\n",
      "- **self.\\_value = value \ucc98\ub7fc \\_\uac00 \ubb34\uc2a8 \ub73b\uc774\uc9c0??**\n",
      "\n",
      "----"
     ]
    },
    {
     "cell_type": "code",
     "collapsed": false,
     "input": [
      "class Node:\n",
      "    def __init__(self, value):\n",
      "        self._value = value\n",
      "        self._children = []\n",
      "        \n",
      "    def __repr__(self):\n",
      "        return 'Node({!r})'.format(self._value)\n",
      "    \n",
      "    def add_child(self, node):\n",
      "        self._children.append(node)\n",
      "    \n",
      "    # iter\ub97c \ub123\uc5b4\uc90c\uc73c\ub85c\uc368 for\ubb38\uc5d0\uc11c \ud65c\uc6a9\ub420 \uc218 \uc788\ub2e4.\n",
      "    # iter\ub97c \ud588\uc744 \ub54c list\ub97c \ub3cc\ub824\uc8fc\uba74 \ub41c\ub2e4.\n",
      "    # \uadf8\ub7ec\uba74 for\ubb38\uc5d0\uc11c \ud65c\uc6a9\ud560 \uc218 \uc788\ub2e4.\n",
      "    def __iter__(self):\n",
      "        return iter(self._children)\n",
      "    \n",
      "if __name__ == '__main__':\n",
      "    root = Node(0)\n",
      "    child1 = Node(1)\n",
      "    child2 = Node(2)\n",
      "    root.add_child(child1)\n",
      "    root.add_child(child2)\n",
      "    for ch in root:\n",
      "        print(ch)"
     ],
     "language": "python",
     "metadata": {},
     "outputs": [
      {
       "output_type": "stream",
       "stream": "stdout",
       "text": [
        "Node(1)\n",
        "Node(2)\n"
       ]
      }
     ],
     "prompt_number": 13
    },
    {
     "cell_type": "markdown",
     "metadata": {},
     "source": [
      "- \uc774 \ucf54\ub4dc\uc5d0\uc11c \\_\\_iter\\_\\_() \uba54\uc18c\ub4dc\ub294 \uc21c\ud658 \uc694\uccad\uc744 \\_children \uc18d\uc131\uc73c\ub85c \uc804\ub2ec"
     ]
    },
    {
     "cell_type": "markdown",
     "metadata": {},
     "source": [
      "----\n",
      "\n",
      "#### \uc774 \ucc45 \uc815\ub9d0 \ucd5c\uace0\ub2e4. \uc9c0\uae08\uae4c\uc9c0 \ud558\uba74\uc11c \uc624\ud0c0\uac00 \uac70\uc758 \uc5c6\ub2e4.\n",
      "\n",
      "- \uc5bc\ub9c8\ub098 \ub9ce\uc740 \uad50\uc815\uc744 \ubd24\uc73c\uba74 115 \ud398\uc774\uc9c0\uae4c\uc9c0 \uc624\ub294 \ub3d9\uc548 \uc624\ud0c0\uac00 \uac70\uc758 \uc5c6\ub0d0..\n",
      "- \uc2ec\uc9c0\uc5b4 \uc18c\uc2a4\ucf54\ub4dc indent\ub3c4 \uac70\uc758 \ub9de\ub2e4. \ud2c0\ub9ac\uba74 \ub0b4\uac00 \ud2c0\ub838\uc9c0..\n",
      "- \uc774 \uc815\ub3c4 \ubc88\uc5ed quality\uac00 \ub098\uc624\ub824\uba74 \uc5ed\uc790\uac00 \uc5bc\ub9c8\ub098 \uace0\uc0dd\ud588\uc744\uae4c? \ub208\uc5d0 \uc120\ud558\ub2e4. \uc815\ub9d0 \uac10\uc0ac\ud569\ub2c8\ub2e4.\n",
      "\n",
      "----"
     ]
    },
    {
     "cell_type": "markdown",
     "metadata": {},
     "source": [
      "### \ud1a0\ub860\n",
      "\n",
      "- \ud30c\uc774\uc36c\uc758 \uc774\ud130\ub808\uc774\ud130 \ud504\ub85c\ud1a0\ucf5c\uc740 \\_\\_iter\\_\\_()\uac00 \uc2e4\uc81c \uc21c\ud658\uc744 \uc218\ud589\ud558\uae30 \uc704\ud55c \\_\\_next\\_\\_() \uba54\uc18c\ub4dc\ub97c \uad6c\ud604\ud558\ub294 \ud2b9\ubcc4 \uc774\ud130\ub808\uc774\ud130 \uac1d\uccb4\ub97c \ubc18\ud658\ud558\uae30\ub97c \uc694\uad6c\n",
      "- \ub9cc\uc57d \ub2e4\ub978 \ucee8\ud14c\uc774\ub108\uc5d0 \ub4e4\uc5b4\uc788\ub294 \ub0b4\uc6a9\ubb3c\uc5d0 \ub300\ud55c \uc21c\ud658\uc774 \ud574\uc57c \ud560 \uc791\uc5c5\uc758 \uc804\ubd80\ub77c\uba74, \uc774\ud130\ub808\uc774\ud130\uc758 \ub3d9\uc791 \ubc29\uc2dd\uc744 \uc644\uc804\ud788 \uc774\ud574\ud560 \ud544\uc694\ub294 \uc5c6\ub2e4. \uc774\ub54c\ub294 \uc694\uccad \ubc1b\uc740 \uc21c\ud658\uc744 \ub2e4\uc74c\uc73c\ub85c \uc804\ub2ec\ud558\uae30\ub9cc \ud558\uba74 \ub428\n",
      "- iter() \ud568\uc218\uc5d0 \ub300\ud55c \uc0ac\uc6a9\uc740 \ucf54\ub4dc\ub97c \uae54\ub054\ud558\uac8c \ud558\ub294 \uc9c0\ub984\uae38\n",
      "- iter(s)\ub294 \ub2e8\uc21c\ud788 s.\\_\\_iter\\_\\_()\ub97c \ud638\ucd9c\ud574\uc11c \uc774\ud130\ub808\uc774\ud130\ub97c \ubc18\ud658\ud558\ub294\ub370, \uc774\ub294 len(s)\uac00 s.\\_\\_len\\_\\_()\uc744 \ud638\ucd9c\ud558\ub294 \uac83\uacfc \uac19\uc740 \ubc29\uc2dd"
     ]
    },
    {
     "cell_type": "markdown",
     "metadata": {},
     "source": [
      "## 4.3 \uc81c\ub108\ub808\uc774\ud130\ub85c \uc0c8\ub85c\uc6b4 \uc21c\ud658 \ud328\ud134 \uc0dd\uc131\n",
      "\n",
      "### \ubb38\uc81c\n",
      "\n",
      "- \ub0b4\uc7a5 \ud568\uc218(range(), reversed())\uc640\ub294 \ub2e4\ub978 \ub3d9\uc791\uc744 \ud558\ub294 \uc21c\ud658 \ud328\ud134\uc744 \ub9cc\ub4e4\uace0 \uc2f6\ub2e4.\n",
      "\n",
      "### \ud574\uacb0\n",
      "\n",
      "- \uc0c8\ub85c\uc6b4 \uc21c\ud658 \ud328\ud134\uc744 \ub9cc\ub4e4\uace0 \uc2f6\ub2e4\uba74, generator \ud568\uc218\ub97c \uc0ac\uc6a9\ud574\uc11c \uc815\uc758\ud574\uc57c \ub41c\ub2e4. \ud2b9\uc815 \ubc94\uc704\uc758 \ubd80\ub3d9 \uc18c\uc218\uc810 \uc22b\uc790\ub97c \ub9cc\ub4dc\ub294 generator \ucf54\ub4dc\ub294 \ub2e4\uc74c\uacfc \uac19\ub2e4."
     ]
    },
    {
     "cell_type": "markdown",
     "metadata": {},
     "source": [
      "----\n",
      "\n",
      "- generator\uc758 \ub3d9\uc791\uc744 \uc81c\ub300\ub85c \ud655\uc778\ud558\ub824\uba74 debugger \ubb3c\ub824\uc11c \ud558\ub098\uc529 \ub530\ub77c\uac00\ubcf4\uc790.\n",
      "- \uc774\ub807\uac8c \uba87 \ubc88\uc744 \ud588\ub294\ub370\ub3c4 \uc544\uc9c1 \uc775\uc219\ud574\uc9c0\uc9c0\uac00 \uc54a\ub124..\n",
      "\n",
      "----"
     ]
    },
    {
     "cell_type": "code",
     "collapsed": false,
     "input": [
      "def frange(start, stop, step):\n",
      "    x = start\n",
      "    while x < stop:\n",
      "        yield x\n",
      "        x += step"
     ],
     "language": "python",
     "metadata": {},
     "outputs": [],
     "prompt_number": 21
    },
    {
     "cell_type": "markdown",
     "metadata": {},
     "source": [
      "- \uc774\ub7f0 \ud568\uc218\ub97c \uc0ac\uc6a9\ud558\ub824\uba74, for \uc21c\ud658\ubb38\uc774\ub098 \uc21c\ud658 \uac1d\uccb4\ub97c \uc18c\ube44\ud558\ub294 \ub2e4\ub978 \ud568\uc218(sum(), list() \ub4f1)\ub97c \uc0ac\uc6a9\ud55c \uc21c\ud658\uc744 \ud574\uc57c \ud568"
     ]
    },
    {
     "cell_type": "code",
     "collapsed": false,
     "input": [
      "for n in frange(0, 4, 0.5):\n",
      "    print(n)"
     ],
     "language": "python",
     "metadata": {},
     "outputs": [
      {
       "output_type": "stream",
       "stream": "stdout",
       "text": [
        "0\n",
        "0.5\n",
        "1.0\n",
        "1.5\n",
        "2.0\n",
        "2.5\n",
        "3.0\n",
        "3.5\n"
       ]
      }
     ],
     "prompt_number": 22
    },
    {
     "cell_type": "code",
     "collapsed": false,
     "input": [
      "list(frange(0, 1, 0.125))"
     ],
     "language": "python",
     "metadata": {},
     "outputs": [
      {
       "metadata": {},
       "output_type": "pyout",
       "prompt_number": 16,
       "text": [
        "[0, 0.125, 0.25, 0.375, 0.5, 0.625, 0.75, 0.875]"
       ]
      }
     ],
     "prompt_number": 16
    },
    {
     "cell_type": "markdown",
     "metadata": {},
     "source": [
      "### \ud1a0\ub860\n",
      "\n",
      "- \ub0b4\ubd80\uc758 yield\ubb38\uc758 \uc874\uc7ac\ub85c \uc778\ud574 \ud568\uc218\uac00 generator\uac00 \ub418\uc5c8\ub2e4. \uc77c\ubc18 \ud568\uc218\uc640\ub294 \ub2e4\ub974\uac8c generator\ub294 \uc21c\ud658\uc5d0 \uc751\ub2f5\ud558\uae30 \uc704\ud574 \uc2e4\ud589\ub428"
     ]
    },
    {
     "cell_type": "code",
     "collapsed": false,
     "input": [
      "def countdown(n):\n",
      "    print('Starting to count from', n)\n",
      "    while n > 0:\n",
      "        yield n\n",
      "        n -= 1\n",
      "    print('Done!')"
     ],
     "language": "python",
     "metadata": {},
     "outputs": [],
     "prompt_number": 23
    },
    {
     "cell_type": "code",
     "collapsed": false,
     "input": [
      "# \uc81c\ub108\ub808\uc774\ud130 \uc0dd\uc131. \uc544\ubb34\ub7f0 \ucd9c\ub825\ubb3c\uc774 \uc5c6\uc74c\uc5d0 \uc8fc\ubaa9\ud55c\ub2e4.\n",
      "c = countdown(3)\n",
      "c"
     ],
     "language": "python",
     "metadata": {},
     "outputs": [
      {
       "metadata": {},
       "output_type": "pyout",
       "prompt_number": 43,
       "text": [
        "<generator object countdown at 0x111f960d8>"
       ]
      }
     ],
     "prompt_number": 43
    },
    {
     "cell_type": "code",
     "collapsed": false,
     "input": [
      "# \uac12\uc744 \ub9cc\ub4e4\uae30 \uc704\ud55c \uccab\ubc88\uc9f8 \uc2e4\ud589\n",
      "next(c)"
     ],
     "language": "python",
     "metadata": {},
     "outputs": [
      {
       "output_type": "stream",
       "stream": "stdout",
       "text": [
        "Starting to count from 3\n"
       ]
      },
      {
       "metadata": {},
       "output_type": "pyout",
       "prompt_number": 44,
       "text": [
        "3"
       ]
      }
     ],
     "prompt_number": 44
    },
    {
     "cell_type": "code",
     "collapsed": false,
     "input": [
      "# \ub2e4\uc74c \uac12\uc744 \uc704\ud55c \uc2e4\ud589\n",
      "next(c)"
     ],
     "language": "python",
     "metadata": {},
     "outputs": [
      {
       "metadata": {},
       "output_type": "pyout",
       "prompt_number": 45,
       "text": [
        "2"
       ]
      }
     ],
     "prompt_number": 45
    },
    {
     "cell_type": "code",
     "collapsed": false,
     "input": [
      "# \ub2e4\uc74c \uac12\uc744 \uc704\ud55c \uc2e4\ud589\n",
      "next(c)"
     ],
     "language": "python",
     "metadata": {},
     "outputs": [
      {
       "metadata": {},
       "output_type": "pyout",
       "prompt_number": 46,
       "text": [
        "1"
       ]
      }
     ],
     "prompt_number": 46
    },
    {
     "cell_type": "code",
     "collapsed": false,
     "input": [
      "# \ub2e4\uc74c \uac12\uc744 \uc704\ud55c \uc2e4\ud589(\uc21c\ud658 \uc885\ub8cc)\n",
      "next(c)"
     ],
     "language": "python",
     "metadata": {},
     "outputs": [
      {
       "output_type": "stream",
       "stream": "stdout",
       "text": [
        "Done!\n"
       ]
      },
      {
       "ename": "StopIteration",
       "evalue": "",
       "output_type": "pyerr",
       "traceback": [
        "\u001b[0;31m---------------------------------------------------------------------------\u001b[0m\n\u001b[0;31mStopIteration\u001b[0m                             Traceback (most recent call last)",
        "\u001b[0;32m<ipython-input-47-5e35da2306df>\u001b[0m in \u001b[0;36m<module>\u001b[0;34m()\u001b[0m\n\u001b[1;32m      1\u001b[0m \u001b[0;31m# \ub2e4\uc74c \uac12\uc744 \uc704\ud55c \uc2e4\ud589(\uc21c\ud658 \uc885\ub8cc)\u001b[0m\u001b[0;34m\u001b[0m\u001b[0;34m\u001b[0m\u001b[0m\n\u001b[0;32m----> 2\u001b[0;31m \u001b[0mnext\u001b[0m\u001b[0;34m(\u001b[0m\u001b[0mc\u001b[0m\u001b[0;34m)\u001b[0m\u001b[0;34m\u001b[0m\u001b[0m\n\u001b[0m",
        "\u001b[0;31mStopIteration\u001b[0m: "
       ]
      }
     ],
     "prompt_number": 47
    },
    {
     "cell_type": "markdown",
     "metadata": {},
     "source": [
      "- \uc911\ud6a8\ud55c \uc810\uc740 generator \ud568\uc218\uac00 \uc21c\ud658\uc5d0 \uc758\ud55c \"\ub2e4\uc74c\" \uc5f0\uc0b0\uc5d0 \uc751\ub2f5\ud558\uae30 \uc704\ud574\uc11c\ub9cc \uc2e4\ud589\ub41c\ub2e4\ub294 \uc810\n",
      "- generator \ud568\uc218\uac00 \ubc18\ud658\ub418\uba74 \uc21c\ud658\uc744 \uc885\ub8cc\ud568\n",
      "- \ud558\uc9c0\ub9cc, \uc77c\ubc18\uc801\uc73c\ub85c \uc21c\ud658\uc5d0 \uc0ac\uc6a9\ud558\ub294 for\ubb38\uc774 \uc0c1\uc138 \ub0b4\uc5ed\uc744 \ucc45\uc784\uc9c0\uae30 \ub54c\ubb38\uc5d0 \uc6b0\ub9ac\uac00 \uc9c1\uc811\uc801\uc73c\ub85c \uc2e0\uacbd\uc4f0\uc9c0 \uc54a\uc544\ub3c4 \ub428"
     ]
    },
    {
     "cell_type": "markdown",
     "metadata": {},
     "source": [
      "## 4.4 \uc774\ud130\ub808\uc774\ud130 \ud504\ub85c\ud1a0\ucf5c \uad6c\ud604\n",
      "\n",
      "### \ubb38\uc81c\n",
      "\n",
      "- \uc21c\ud658\uc744 \uc9c0\uc6d0\ud558\ub294 \uac1d\uccb4\ub97c \ub9cc\ub4dc\ub294\ub370, \uc774\ud130\ub808\uc774\ud130 \ud504\ub85c\ud1a0\ucf5c\uc744 \uad6c\ud604\ud558\ub294 \uc26c\uc6b4 \ubc29\ubc95\uc774 \ud544\uc694\n",
      "\n",
      "### \ud574\uacb0\n",
      "\n",
      "- \uac1d\uccb4\uc5d0 \ub300\ud55c \uc21c\ud658\uc744 \uac00\uc7a5 \uc27d\uac8c \uad6c\ud604\ud558\ub294 \ubc29\ubc95\uc740 \uc81c\ub108\ub808\uc774\ud130 \ud568\uc218\ub97c \uc0ac\uc6a9\ud558\ub294 \uac83\n",
      "- \ud2b8\ub9ac \uad6c\uc870\ub97c \ud45c\ud604\ud558\uae30 \uc704\ud574 Node \ud074\ub798\uc2a4\ub97c \uc0ac\uc6a9\n",
      "- \ub178\ub4dc\ub97c depth-first(\uae4a\uc774 \uc6b0\uc120) \ud328\ud134\uc73c\ub85c \uc21c\ud658\ud558\ub294 \uc774\ud130\ub808\uc774\ud130\ub97c \uad6c\ud604\ud558\uace0 \uc2f6\ub2e4\uba74"
     ]
    },
    {
     "cell_type": "code",
     "collapsed": false,
     "input": [
      "class Node:\n",
      "    def __init__(self, value):\n",
      "        self._value = value\n",
      "        self._children = []\n",
      "        \n",
      "    def __repr__(self):\n",
      "        return 'Node({!r})'.format(self._value)\n",
      "    \n",
      "    def add_child(self, node):\n",
      "        self._children.append(node)\n",
      "        \n",
      "    def __iter__(self):\n",
      "        return iter(self._children)\n",
      "    \n",
      "    def depth_first(self):\n",
      "        yield self\n",
      "        for c in self:\n",
      "            yield from c.depth_first()\n",
      "            \n",
      "if __name__ == '__main__':\n",
      "    root = Node(0)\n",
      "    child1 = Node(1)\n",
      "    child2 = Node(2)\n",
      "    root.add_child(child1)\n",
      "    root.add_child(child2)\n",
      "    child1.add_child(Node(3))\n",
      "    child1.add_child(Node(4))\n",
      "    child1.add_child(Node(5))\n",
      "    \n",
      "    for ch in root.depth_first():\n",
      "        print(ch)"
     ],
     "language": "python",
     "metadata": {},
     "outputs": [
      {
       "output_type": "stream",
       "stream": "stdout",
       "text": [
        "Node(0)\n",
        "Node(1)\n",
        "Node(3)\n",
        "Node(4)\n",
        "Node(5)\n",
        "Node(2)\n"
       ]
      }
     ],
     "prompt_number": 1
    },
    {
     "cell_type": "markdown",
     "metadata": {},
     "source": [
      "- \uc774 \ucf54\ub4dc\uc5d0\uc11c depth_first() \uba54\uc18c\ub4dc\ub294 \uc9c1\uad00\uc801\uc73c\ub85c \uc77d\uace0 \uc774\ud574\ud560 \uc218 \uc788\ub2e4. \ucc98\uc74c\uc5d0\ub294 \uc790\uae30 \uc790\uc2e0\uc744 \ub9cc\ub4e4\uace0(yield) \uadf8 \ub2e4\uc74c\uc5d0\ub294 \uc790\uc2dd\uc744 \uc21c\ud658\n",
      "- \uc774\ub54c \uadf8 \uc790\uc2dd\uc740 depth_first() \uba54\uc18c\ub4dc(yield from\uc744 \uc0ac\uc6a9)\ub85c \uc544\uc774\ud15c \ub9cc\ub4e6"
     ]
    },
    {
     "cell_type": "markdown",
     "metadata": {},
     "source": [
      "### Logic\n",
      "\n",
      "- Node(0)\uc73c\ub85c root instance \uc0dd\uc131\n",
      "  - root\ub294 _value\uac00 0, \\_children = []\n",
      "- root.add_child(child1)\uc744 \ud558\uac8c \ub418\uba74 \\_children list\uc5d0 \uc313\uc774\uac8c \ub428\n",
      "- root.depth_first()\uc5d0\uc11c yield self\ub97c \ud558\uac8c \ub418\uba74 root\uc758 self\uac00 return\uc774 \ub418\uba74\uc11c \ud750\ub984\uc774 \ub2e4\uc2dc for\ubb38\uc73c\ub85c \ub3cc\uc544\uc634\n",
      "- print(self)\ub2c8\uae4c \\_\\_repr\\_\\_\ub85c \uc774\ub3d9\ud558\uc5ec !r\ub85c(\uadf8\ub0e5 \uadf8\ub300\ub85c\uc758 \ubaa8\uc2b5) \\_value\uac12 \ucd9c\ub825(0)\n",
      "- \uadf8\ub798\uc11c \ucd5c\uc885\uc801\uc73c\ub85c Node(0)\uc774 \ucd9c\ub825\ub428\n",
      "- \uadf8 \ub2e4\uc74c\uc5d0 \ub2e4\uc2dc for\ubb38 \uc548\uc5d0\uc11c self\ub97c \ub3d4\n",
      "  - self\uac00 \ub3cc \uc218 \uc788\ub294 \uc774\uc720\ub294 \\_\\_iter\\_\\_ \ub54c\ubb38\uc778\ub4ef.. \uc5c6\uc560\uace0 \ub2e4\uc2dc \ud14c\uc2a4\ud2b8 \ud574\ubcf4\uc790.\n",
      "  - \uc5b4\uca0b\ub4e0 \\_\\_iter\\_\\_\ub97c \uc2e4\ud589\ud558\uba74 \\_.children\uc744 \ub3cc\ub824\uc900\ub2e4.\n",
      "  - \uadf8\ub807\uac8c \ub418\uba74 child1\uc744 \ub3cc\ub824\ubc1b\uc744 \uc218 \uc788\uace0\n",
      "  - yield from depth_first()\ub97c \ub2e4\uc2dc \uc2e4\ud589\ud558\uac8c \ub41c\ub2e4.\n",
      "  - yield self\ub85c \ub2e4\uc2dc \ub3cc\ub824\uc8fc\uace0 c.depth_first()\ub97c \ud638\ucd9c\ud588\ub358 \uacf3\uc73c\ub85c \ub3cc\uc544\uc628 \ub2e4\uc74c \uc774\uac78 \ub2e4\uc2dc for\ubb38\uc758 ch\uc5d0 \ud560\ub2f9\ud558\uc5ec print \ud574\uc900\ub2e4.\n",
      "  - print \ud558\uba74 repr\uc774 \ud638\ucd9c\ub418\uace0\n",
      "  - \uc544\uae4c for c in self:\ub85c \ub3cc\uc544\uac04\ub2e4. \ub610 \ub2e4\ub978 \uc790\uc2dd\uc774 \uc788\uc744 \uc218\ub3c4 \uc788\uc73c\ub2c8 \uadf8\uac83\ub3c4 \ucd9c\ub825\ud574 \uc8fc\uae30 \uc704\ud574\uc11c\uc11c\n",
      "  - \ub610\ub2e4\uc2dc iter\uac00 \ud638\ucd9c\ub418\uc11c \uc790\uc2dd\uc774 \ub3cc\uc544\uc624\uace0 \n",
      "  \n",
      "\n",
      "- \ucd5c\uc885\uc801\uc73c\ub85c depth-first(\uae4a\uc774 \uc6b0\uc120)\uc774\ub124. \n",
      "![depth-first](files/images/depth_first.png)"
     ]
    },
    {
     "cell_type": "markdown",
     "metadata": {},
     "source": [
      "### \ud1a0\ub860\n",
      "\n",
      "- \ud30c\uc774\uc36c\uc758 \uc774\ud130\ub808\uc774\ud130 \ud504\ub85c\ud1a0\ucf5c\uc740 \\_\\_iter\\_\\_()\uac00 \\_\\_next\\_\\_() \uba54\uc18c\ub4dc\ub97c \uad6c\ud604\ud558\uace0 \uc885\ub8cc\ub97c \uc54c\ub9ac\uae30 \uc704\ud574 StopIteration \uc608\uc678\ub97c \uc0ac\uc6a9\ud558\ub294 \ud2b9\ubcc4 \uc774\ud130\ub808\uc774\ud130 \uac1d\uccb4\ub97c \ubc18\ud658\ud558\uae30\ub97c \uc694\uad6c\ud55c\ub2e4.\n",
      "- \ud558\uc9c0\ub9cc \uc774\ub7f0 \uac1d\uccb4\ub97c \uae54\ub054\ud558\uac8c \uad6c\ud604\ud558\uae30\uac00 \uc27d\uc9c0 \uc54a\ub2e4. \ub2e4\uc74c \ucf54\ub4dc\ub294 \uad00\ub828 \uc774\ud130\ub808\uc774\ud130 \ud074\ub798\uc2a4\ub97c \uc0ac\uc6a9\ud55c depth_first() \uba54\uc18c\ub4dc\uc758 \ub300\uc548 \uad6c\ud604\ubc95"
     ]
    },
    {
     "cell_type": "code",
     "collapsed": false,
     "input": [
      "class Node:\n",
      "    def __init__(self, value):\n",
      "        self._value = value\n",
      "        self._children = []\n",
      "        \n",
      "    def __repr__(self):\n",
      "        return 'Node({!r})'.format(self._value)\n",
      "    \n",
      "    def add_child(self, other_node):\n",
      "        self._children.append(other_node)\n",
      "        \n",
      "    def __iter__(self):\n",
      "        return iter(self._children)\n",
      "    \n",
      "    def depth_first(self):\n",
      "        return DepthFirstIterator(self)\n",
      "    \n",
      "class DepthFirstIterator(object):\n",
      "    '''\n",
      "    Depth-first traversal\n",
      "    '''\n",
      "    def __init__(self, start_node):\n",
      "        self._node = start_node\n",
      "        self._children_iter = None\n",
      "        self._child_iter = None\n",
      "        \n",
      "    def __iter__(self):\n",
      "        return self\n",
      "    \n",
      "    def __next__(self):\n",
      "        # \ub9c9 \uc2dc\uc791\ud588\ub2e4\uba74 \uc790\uc2e0\uc744 \ubc18\ud658\ud55c\ub2e4. \uc790\uc2dd\uc5d0 \ub300\ud574\uc11c \uc774\ud130\ub808\uc774\ud130\ub97c \uc0dd\uc131\ud55c\ub2e4.\n",
      "        if self._children_iter is None:\n",
      "            self._children_iter = iter(self._node)\n",
      "            return self._node\n",
      "        \n",
      "        # \uc790\uc2dd\uc744 \ucc98\ub9ac \uc911\uc774\ub77c\uba74 \ub2e4\uc74c \uc544\uc774\ud15c\uc744 \ubc18\ud658\ud55c\ub2e4.\n",
      "        elif self._child_iter:\n",
      "            try:\n",
      "                nextchild = next(self._child_iter)\n",
      "                return nextchild\n",
      "            except StopIteration:\n",
      "                self._child_iter = None\n",
      "                return next(self)\n",
      "            \n",
      "        # \ub2e4\uc74c \uc790\uc2dd\uc73c\ub85c \uc9c4\ud589\ud558\uace0 \uc21c\ud658\uc744 \uc2dc\uc791\ud55c\ub2e4.\n",
      "        else:\n",
      "            self._child_iter = next(self._children_iter).depth_first()\n",
      "            return next(self)\n",
      "        \n",
      "if __name__ == '__main__':\n",
      "    root = Node(0)\n",
      "    child1 = Node(1)\n",
      "    child2 = Node(2)\n",
      "    root.add_child(child1)\n",
      "    root.add_child(child2)\n",
      "    child1.add_child(Node(3))\n",
      "    child1.add_child(Node(4))\n",
      "    child1.add_child(Node(5))\n",
      "    \n",
      "    for ch in root.depth_first():\n",
      "        print(ch)"
     ],
     "language": "python",
     "metadata": {},
     "outputs": [
      {
       "output_type": "stream",
       "stream": "stdout",
       "text": [
        "Node(0)\n",
        "Node(1)\n",
        "Node(3)\n",
        "Node(4)\n",
        "Node(5)\n",
        "Node(2)\n"
       ]
      }
     ],
     "prompt_number": 3
    },
    {
     "cell_type": "markdown",
     "metadata": {},
     "source": [
      "- \ud750\uc544.. \uc774\ud574\ud558\uae30 \uc5c4\uccad \uc5b4\ub835\ub2e4. \uc77c\ub2e8 \uc774\uac74 skip\n",
      "- DepthFirstIterator \ud074\ub798\uc2a4\ub294 \uc81c\ub108\ub808\uc774\ud130\ub97c \uc0ac\uc6a9\ud55c \uac83\uacfc \ub3d9\uc77c\ud558\uac8c \ub3d9\uc791\n",
      "- \ud558\uc9c0\ub9cc \uc21c\ud658\ud558\ub294 \ub3d9\uc548 \uc0dd\uae30\ub294 \ubcf5\uc7a1\ud55c \uc0c1\ud669\uc744 \ucc98\ub9ac\ud558\uae30 \uc704\ud574 \ucf54\ub4dc\uac00 \uaf64 \uc9c0\uc800\ubd84\n",
      "- \uc774\ud130\ub808\uc774\ud130\ub97c \uc81c\ub108\ub808\uc774\ud130\ub85c \uc815\uc758\ud558\uace0 \uadf8\uac78\ub85c \ub9cc\uc871\ud558\uc790"
     ]
    },
    {
     "cell_type": "markdown",
     "metadata": {},
     "source": [
      "## 4.5 \uc5ed\ubc29\ud5a5 \uc21c\ud658\n",
      "\n",
      "### \ubb38\uc81c\n",
      "\n",
      "- \uc2dc\ud000\uc2a4 \uc544\uc774\ud15c\uc744 \uc5ed\ubc29\ud5a5\uc73c\ub85c \uc21c\ud658\ud558\uace0 \uc2f6\ub2e4.\n",
      "\n",
      "### \ud574\uacb0\n",
      "\n",
      "- \ub0b4\uc7a5 \ud568\uc218 reversed()\ub97c \uc0ac\uc6a9"
     ]
    },
    {
     "cell_type": "code",
     "collapsed": false,
     "input": [
      "a = [1, 2, 3, 4]"
     ],
     "language": "python",
     "metadata": {},
     "outputs": [],
     "prompt_number": 4
    },
    {
     "cell_type": "code",
     "collapsed": false,
     "input": [
      "for x in reversed(a):\n",
      "    print(x)"
     ],
     "language": "python",
     "metadata": {},
     "outputs": [
      {
       "output_type": "stream",
       "stream": "stdout",
       "text": [
        "4\n",
        "3\n",
        "2\n",
        "1\n"
       ]
      }
     ],
     "prompt_number": 5
    },
    {
     "cell_type": "markdown",
     "metadata": {},
     "source": [
      "- \uc5ed\ubc29\ud5a5 \uc21c\ud658\uc740 \uac1d\uccb4\uac00 \\_\\_reversed\\_\\_() \ud2b9\ubcc4 \uba54\uc18c\ub4dc\ub97c \uad6c\ud604\ud558\uace0 \uc788\uac70\ub098 \ud06c\uae30\ub97c \uc54c \uc218 \uc788\ub294 \uacbd\uc6b0\uba54\ub098 \uac00\ub2a5\n",
      "- \ub450 \uc870\uac74 \uc911\uc5d0\uc11c \uc544\ubb34\uac83\ub3c4 \ub9cc\uc871\ud558\uc9c0 \ubabb\ud558\uba74 \uac1d\uccb4\ub97c \uba3c\uc800 \ub9ac\uc2a4\ud2b8\ub85c \ubcc0\ud658\ud574\uc57c \ud568"
     ]
    },
    {
     "cell_type": "code",
     "collapsed": false,
     "input": [
      "# \ud30c\uc77c\uc744 \uac70\uafb8\ub85c \ucd9c\ub825\ud558\uae30\n",
      "with open('04/creating_data_processing_pipelines/example.py') as f:\n",
      "    for line in reversed(list(f)):\n",
      "        print(line, end='')"
     ],
     "language": "python",
     "metadata": {},
     "outputs": [
      {
       "output_type": "stream",
       "stream": "stdout",
       "text": [
        "    print('Total', sum(bytes))\n",
        "    bytes = (int(x) for x in bytecolumn if x != '-')\n",
        "    bytecolumn = (line.rsplit(None,1)[1] for line in pylines)\n",
        "    pylines = gen_grep('(?i)python', lines)\n",
        "    lines = gen_concatenate(files)\n",
        "    files = gen_opener(lognames)\n",
        "    lognames = gen_find('access-log*', 'www')\n",
        "    # Example 2\n",
        "\n",
        "        print(line)\n",
        "    for line in pylines:\n",
        "    pylines = gen_grep('(?i)python', lines)\n",
        "    lines = gen_concatenate(files)\n",
        "    files = gen_opener(lognames)\n",
        "    lognames = gen_find('access-log*', 'www')\n",
        "    # Example 1\n",
        "\n",
        "if __name__ == '__main__':\n",
        "\n",
        "            yield line\n",
        "        if pat.search(line):\n",
        "    for line in lines:\n",
        "    pat = re.compile(pattern)\n",
        "    '''\n",
        "    Look for a regex pattern in a sequence of lines\n",
        "    '''\n",
        "def gen_grep(pattern, lines):\n",
        "\n",
        "        yield from it\n",
        "    for it in iterators:\n",
        "    '''\n",
        "    Chain a sequence of iterators together into a single sequence.\n",
        "    '''\n",
        "def gen_concatenate(iterators):\n",
        "\n",
        "        f.close()\n",
        "        yield f\n",
        "            f = open(filename, 'rt')\n",
        "        else:\n",
        "            f = bz2.open(filename, 'rt')\n",
        "        elif filename.endswith('.bz2'):\n",
        "            f = gzip.open(filename, 'rt')\n",
        "        if filename.endswith('.gz'):\n",
        "    for filename in filenames:\n",
        "    '''\n",
        "    The file is closed immediately when proceeding to the next iteration. \n",
        "    Open a sequence of filenames one at a time producing a file object.\n",
        "    '''\n",
        "def gen_opener(filenames):\n",
        "\n",
        "            yield os.path.join(path,name)\n",
        "        for name in fnmatch.filter(filelist, filepat):\n",
        "    for path, dirlist, filelist in os.walk(top):\n",
        "    '''\n",
        "    Find all filenames in a directory tree that match a shell wildcard pattern\n",
        "    '''\n",
        "def gen_find(filepat, top):\n",
        "\n",
        "import re\n",
        "import bz2\n",
        "import gzip\n",
        "import fnmatch\n",
        "import os\n"
       ]
      }
     ],
     "prompt_number": 6
    },
    {
     "cell_type": "code",
     "collapsed": false,
     "input": [
      "# Error!\n",
      "# reversed\uc5d0\ub294 sequence\ub97c \ub118\uaca8\uc57c \ud55c\ub2e4.\n",
      "with open('04/creating_data_processing_pipelines/example.py') as f:\n",
      "    for line in reversed(f):\n",
      "        print(line, end='')"
     ],
     "language": "python",
     "metadata": {},
     "outputs": [
      {
       "ename": "TypeError",
       "evalue": "argument to reversed() must be a sequence",
       "output_type": "pyerr",
       "traceback": [
        "\u001b[0;31m---------------------------------------------------------------------------\u001b[0m\n\u001b[0;31mTypeError\u001b[0m                                 Traceback (most recent call last)",
        "\u001b[0;32m<ipython-input-20-4013926e2400>\u001b[0m in \u001b[0;36m<module>\u001b[0;34m()\u001b[0m\n\u001b[1;32m      1\u001b[0m \u001b[0;31m# Error!\u001b[0m\u001b[0;34m\u001b[0m\u001b[0;34m\u001b[0m\u001b[0m\n\u001b[1;32m      2\u001b[0m \u001b[0;32mwith\u001b[0m \u001b[0mopen\u001b[0m\u001b[0;34m(\u001b[0m\u001b[0;34m'04/creating_data_processing_pipelines/example.py'\u001b[0m\u001b[0;34m)\u001b[0m \u001b[0;32mas\u001b[0m \u001b[0mf\u001b[0m\u001b[0;34m:\u001b[0m\u001b[0;34m\u001b[0m\u001b[0m\n\u001b[0;32m----> 3\u001b[0;31m     \u001b[0;32mfor\u001b[0m \u001b[0mline\u001b[0m \u001b[0;32min\u001b[0m \u001b[0mreversed\u001b[0m\u001b[0;34m(\u001b[0m\u001b[0mf\u001b[0m\u001b[0;34m)\u001b[0m\u001b[0;34m:\u001b[0m\u001b[0;34m\u001b[0m\u001b[0m\n\u001b[0m\u001b[1;32m      4\u001b[0m         \u001b[0mprint\u001b[0m\u001b[0;34m(\u001b[0m\u001b[0mline\u001b[0m\u001b[0;34m,\u001b[0m \u001b[0mend\u001b[0m\u001b[0;34m=\u001b[0m\u001b[0;34m''\u001b[0m\u001b[0;34m)\u001b[0m\u001b[0;34m\u001b[0m\u001b[0m\n",
        "\u001b[0;31mTypeError\u001b[0m: argument to reversed() must be a sequence"
       ]
      }
     ],
     "prompt_number": 20
    },
    {
     "cell_type": "markdown",
     "metadata": {},
     "source": [
      "- \ud558\uc9c0\ub9cc **\uc21c\ud658\uac00\ub2a5 \uac1d\uccb4**\ub97c **\ub9ac\uc2a4\ud2b8\ub85c \ubcc0\ud658**\ud560 \ub54c **\ub9ce\uc740 \uba54\ubaa8\ub9ac\uac00 \ud544\uc694**\ud558\ub2e4\ub294 \uc810 \uc720\uc758"
     ]
    },
    {
     "cell_type": "markdown",
     "metadata": {},
     "source": [
      "### \ud1a0\ub860\n",
      "\n",
      "- \\_\\_reversed\\_\\_() \uba54\uc18c\ub4dc\ub97c \uad6c\ud604\ud558\uba74\uc11c \uc0ac\uc6a9\uc790 \uc815\uc758 \ud074\ub798\uc2a4\uc5d0\uc11c \uc5ed\ubc29\ud5a5 \uc21c\ud658\uc774 \uac00\ub2a5\ud558\ub2e4\ub294 \uc810\uc744 \ub9ce\uc740 \ud504\ub85c\uadf8\ub798\uba38\ub4e4\uc774 \ubaa8\ub974\uace0 \uc788\uc74c"
     ]
    },
    {
     "cell_type": "code",
     "collapsed": false,
     "input": [
      "class Countdown:\n",
      "    def __init__(self, start):\n",
      "        self.start = start\n",
      "        \n",
      "    # \uc21c\ubc29\ud5a5 \uc21c\ud658\n",
      "    def __iter__(self):\n",
      "        n = self.start\n",
      "        while n > 0:\n",
      "            yield n\n",
      "            n -= 1\n",
      "            \n",
      "    # \uc5ed\ubc29\ud5a5 \uc21c\ud658\n",
      "    def __reversed__(self):\n",
      "        n = 1\n",
      "        while n <= self.start:\n",
      "            yield n\n",
      "            n += 1"
     ],
     "language": "python",
     "metadata": {},
     "outputs": [],
     "prompt_number": 16
    },
    {
     "cell_type": "code",
     "collapsed": false,
     "input": [
      "c = Countdown(5)"
     ],
     "language": "python",
     "metadata": {},
     "outputs": [],
     "prompt_number": 17
    },
    {
     "cell_type": "code",
     "collapsed": false,
     "input": [
      "for i in c:\n",
      "    print(i)"
     ],
     "language": "python",
     "metadata": {},
     "outputs": [
      {
       "output_type": "stream",
       "stream": "stdout",
       "text": [
        "5\n",
        "4\n",
        "3\n",
        "2\n",
        "1\n"
       ]
      }
     ],
     "prompt_number": 18
    },
    {
     "cell_type": "code",
     "collapsed": false,
     "input": [
      "for i in reversed(c):\n",
      "    print(i)"
     ],
     "language": "python",
     "metadata": {},
     "outputs": [
      {
       "output_type": "stream",
       "stream": "stdout",
       "text": [
        "1\n",
        "2\n",
        "3\n",
        "4\n",
        "5\n"
       ]
      }
     ],
     "prompt_number": 19
    },
    {
     "cell_type": "markdown",
     "metadata": {},
     "source": [
      "    ---------------------------------------------------------------------------\n",
      "    TypeError                                 Traceback (most recent call last)\n",
      "    <ipython-input-15-bb6fe7bc7b17> in <module>()\n",
      "    ----> 1 for i in reversed(c):\n",
      "          2     print(i)\n",
      "\n",
      "    TypeError: argument to reversed() must be a sequence\n",
      "    \n",
      "    - __reversed__\ub97c \ud560\ub2f9\ud558\uc9c0 \uc54a\uc73c\uba74 Error"
     ]
    },
    {
     "cell_type": "markdown",
     "metadata": {},
     "source": [
      "- **\uc5ed\ubc29\ud5a5 \uc774\ud130\ub808\uc774\ud130**\ub97c **\uc815\uc758**\ud558\uba74 \ucf54\ub4dc\ub97c \ud6e8\uc52c \ud6a8\uc728\uc801\uc73c\ub85c \ub9cc\ub4e4\uc5b4 \uc8fc\uace0, **\ub370\uc774\ud130**\ub97c **\ub9ac\uc2a4\ud2b8\ub85c \ubcc0\ud658\ud558\uace0 \uc21c\ud658\ud558\ub294 \uc218\uace0\ub97c \ub35c\uc5b4\uc90c**"
     ]
    },
    {
     "cell_type": "markdown",
     "metadata": {},
     "source": [
      "## 4.6 \ucd94\uac00 \uc0c1\ud0dc\ub97c \uac00\uc9c4 \uc81c\ub108\ub808\uc774\ud130 \ud568\uc218 \uc815\uc758\n",
      "\n",
      "### \ubb38\uc81c\n",
      "\n",
      "- \uc81c\ub108\ub808\uc774\ud130 \ud568\uc218\ub97c \uc815\uc758\ud558\uace0 \uc2f6\uc9c0\ub9cc, \uc0ac\uc6a9\uc790\uc5d0\uac8c \ub178\ucd9c\ud560 \ucd94\uac00\uc801\uc778 \uc0c1\ud0dc\ub97c \ub123\uace0 \uc2f6\ub2e4.\n",
      "\n",
      "### \ud574\uacb0\n",
      "\n",
      "- \uc0ac\uc6a9\uc790\uc5d0\uac8c \ucd94\uac00 \uc0c1\ud0dc\ub97c \ub178\ucd9c\ud558\ub294 \uc81c\ub108\ub808\uc774\ud130\ub97c \uc6d0\ud560 \ub54c, \\_\\_iter\\_\\_() \uba54\uc18c\ub4dc\uc5d0 \uc81c\ub108\ub808\uc774\ud130 \ud568\uc218 \ucf54\ub4dc\ub97c \ub123\uc5b4\uc11c \uc27d\uac8c \ud074\ub798\uc2a4\ub85c \uad6c\ud604\ud560 \uc218 \uc788\ub2e4\ub294 \uc810 \uae30\uc5b5"
     ]
    },
    {
     "cell_type": "code",
     "collapsed": false,
     "input": [
      "from collections import deque\n",
      "\n",
      "class linehistory:\n",
      "    def __init__(self, lines, histlen=3):\n",
      "        self.lines = lines\n",
      "        self.history = deque(maxlen=histlen)\n",
      "        \n",
      "    def __iter__(self):\n",
      "        for lineno, line in enumerate(self.lines, 1):\n",
      "            self.history.append((lineno, line))\n",
      "            yield line\n",
      "            \n",
      "    def clear(self):\n",
      "        self.history.clear()"
     ],
     "language": "python",
     "metadata": {},
     "outputs": [],
     "prompt_number": 25
    },
    {
     "cell_type": "markdown",
     "metadata": {},
     "source": [
      "- \uc774 \ud074\ub798\uc2a4\ub97c \uc0ac\uc6a9\ud558\ub824\uba74 \uc77c\ubc18 \uc81c\ub108\ub808\uc774\ud130 \ud568\uc218\ucc98\ub7fc \ub300\ud574\uc57c \ud568\n",
      "- \ud558\uc9c0\ub9cc \uc778\uc2a4\ud134\uc2a4\ub97c \ub9cc\ub4e4\uae30 \ub54c\ubb38\uc5d0 history \uc18d\uc131\uc774\ub098 clear() \uba54\uc18c\ub4dc \uac19\uc740 \ub0b4\ubd80 \uc18d\uc131\uc5d0 \uc811\uadfc\ud560 \uc218 \uc788\uc74c"
     ]
    },
    {
     "cell_type": "code",
     "collapsed": false,
     "input": [
      "with open('04/creating_data_processing_pipelines/example.py') as f:\n",
      "    lines = linehistory(f)\n",
      "    for line in lines:\n",
      "        if 'python' in line:\n",
      "            for lineno, hline in lines.history:\n",
      "                print('{}:{}'.format(lineno, hline), end='')"
     ],
     "language": "python",
     "metadata": {},
     "outputs": [
      {
       "output_type": "stream",
       "stream": "stdout",
       "text": [
        "50:    files = gen_opener(lognames)\n",
        "51:    lines = gen_concatenate(files)\n",
        "52:    pylines = gen_grep('(?i)python', lines)\n",
        "58:    files = gen_opener(lognames)\n",
        "59:    lines = gen_concatenate(files)\n",
        "60:    pylines = gen_grep('(?i)python', lines)\n"
       ]
      }
     ],
     "prompt_number": 26
    },
    {
     "cell_type": "markdown",
     "metadata": {},
     "source": [
      "### \ud1a0\ub860\n",
      "\n",
      "- \uc81c\ub108\ub808\uc774\ud130\ub97c \uc0ac\uc6a9\ud558\uba74 \ubaa8\ub4e0 \uc791\uc5c5\uc744 \ud568\uc218\ub9cc\uc73c\ub85c \ud558\ub824\ub294 \uc720\ud639\uc5d0 \ube60\uc9c0\uae30 \uc26c\uc6c0\n",
      "- \ub9cc\uc57d \uc81c\ub108\ub808\uc774\ud130 \ud568\uc218\uac00 \ud504\ub85c\uadf8\ub7a8\uc758 \ub2e4\ub978 \ubd80\ubd84\uacfc \uc77c\ubc18\uc801\uc774\uc9c0 \uc54a\uac8c(\uc18d\uc131 \ub178\ucd9c, \uba54\uc18c\ub4dc \ud638\ucd9c\ub85c \uc870\uc808\ud558\uae30 \ub4f1) \uc0c1\ud638\uc791\uc6a9\ud574\uc57c \ud560 \uacbd\uc6b0 \ucf54\ub4dc\uac00 \uaf64 \ubcf5\uc7a1\ud574\uc9d0\n",
      "- \uc774\ub7f4\ub54c\ub294 \uc55e\uc5d0\uc11c \ubcf8 \ub300\ub85c \ud074\ub798\uc2a4 \uc815\uc758\ub9cc\uc744 \uc0ac\uc6a9\n",
      "- \uc81c\ub108\ub808\uc774\ud130\ub97c \\_\\_iter\\_\\_() \uba54\uc18c\ub4dc\uc5d0 \uc815\uc758\ud55c\ub2e4\uace0 \ud574\ub3c4 \uc54c\uace0\ub9ac\uc998\uc744 \uc791\uc131\ud558\ub294 \ubc29\uc2dd\uc5d0\ub294 \uc544\ubb34\ub7f0 \ubcc0\ud654\uac00 \uc5c6\uc74c\n",
      "- \ud074\ub798\uc2a4\uc758 \uc77c\ubd80\ub77c\ub294 \uc810\uc73c\ub85c \uc778\ud574 \uc0ac\uc6a9\uc790\uc5d0\uac8c \uc18d\uc131\uacfc \uba54\uc18c\ub4dc\ub97c \uc27d\uac8c \uc81c\uacf5\ud560 \uc218 \uc788\ub2e4.\n",
      "- for\ubb38 \ub300\uc2e0 \ub2e4\ub978 \uae30\uc220\uc744 \uc0ac\uc6a9\ud574\uc11c \uc21c\ud658\uc744 \ud55c\ub2e4\uba74 iter()\ub97c \ud638\ucd9c\ud560 \ub54c \ucd94\uac00\uc801\uc73c\ub85c \uc791\uc5c5\uc744 \ud574\uc57c \ud560 \ud544\uc694\uac00 \uc0dd\uae30\uae30\ub3c4 \ud568"
     ]
    },
    {
     "cell_type": "code",
     "collapsed": false,
     "input": [
      "f = open('04/creating_data_processing_pipelines/example.py')\n",
      "lines = linehistory(f)"
     ],
     "language": "python",
     "metadata": {},
     "outputs": [],
     "prompt_number": 29
    },
    {
     "cell_type": "code",
     "collapsed": false,
     "input": [
      "# iter()\ub97c \uba3c\uc800 \ud638\ucd9c\ud558\uace0, \uc21c\ud658\uc744 \uc2dc\uc791\ud55c\ub2e4.\n",
      "it = iter(lines)"
     ],
     "language": "python",
     "metadata": {},
     "outputs": [],
     "prompt_number": 30
    },
    {
     "cell_type": "code",
     "collapsed": false,
     "input": [
      "next(it)"
     ],
     "language": "python",
     "metadata": {},
     "outputs": [
      {
       "metadata": {},
       "output_type": "pyout",
       "prompt_number": 31,
       "text": [
        "'import os\\n'"
       ]
      }
     ],
     "prompt_number": 31
    },
    {
     "cell_type": "code",
     "collapsed": false,
     "input": [
      "next(it)"
     ],
     "language": "python",
     "metadata": {},
     "outputs": [
      {
       "metadata": {},
       "output_type": "pyout",
       "prompt_number": 32,
       "text": [
        "'import fnmatch\\n'"
       ]
      }
     ],
     "prompt_number": 32
    },
    {
     "cell_type": "markdown",
     "metadata": {},
     "source": [
      "## 4.7 \uc774\ud130\ub808\uc774\ud130\uc758 \uc77c\ubd80 \uc5bb\uae30\n",
      "\n",
      "### \ubb38\uc81c\n",
      "\n",
      "- \uc774\ud130\ub808\uc774\ud130\uac00 \ub9cc\ub4dc\ub294 \ub370\uc774\ud130\uc758 \uc77c\ubd80\ub97c \uc5bb\uace0 \uc2f6\uc9c0\ub9cc, \uc77c\ubc18\uc801\uc778 \uc790\ub974\uae30 \uc5f0\uc0b0\uc790\uac00 \ub3d9\uc791\ud558\uc9c0 \uc54a\uc74c\n",
      "\n",
      "### \ud574\uacb0\n",
      "\n",
      "- \uc774\ud130\ub808\uc774\ud130\uc640 \uc81c\ub108\ub808\uc774\ud130\uc758 \uc77c\ubd80\ub97c \uc5bb\ub294\ub370\ub294 itertools.islice() \ud568\uc218\uac00 \uac00\uc7a5 \uc774\uc0c1\uc801"
     ]
    },
    {
     "cell_type": "code",
     "collapsed": false,
     "input": [
      "def count(n):\n",
      "    while True:\n",
      "        yield n\n",
      "        n += 1"
     ],
     "language": "python",
     "metadata": {},
     "outputs": [],
     "prompt_number": 33
    },
    {
     "cell_type": "code",
     "collapsed": false,
     "input": [
      "c = count(0)"
     ],
     "language": "python",
     "metadata": {},
     "outputs": [],
     "prompt_number": 34
    },
    {
     "cell_type": "code",
     "collapsed": false,
     "input": [
      "c[10:20]"
     ],
     "language": "python",
     "metadata": {},
     "outputs": [
      {
       "ename": "TypeError",
       "evalue": "'generator' object is not subscriptable",
       "output_type": "pyerr",
       "traceback": [
        "\u001b[0;31m---------------------------------------------------------------------------\u001b[0m\n\u001b[0;31mTypeError\u001b[0m                                 Traceback (most recent call last)",
        "\u001b[0;32m<ipython-input-36-f37106ac0c7d>\u001b[0m in \u001b[0;36m<module>\u001b[0;34m()\u001b[0m\n\u001b[0;32m----> 1\u001b[0;31m \u001b[0mc\u001b[0m\u001b[0;34m[\u001b[0m\u001b[0;36m10\u001b[0m\u001b[0;34m:\u001b[0m\u001b[0;36m20\u001b[0m\u001b[0;34m]\u001b[0m\u001b[0;34m\u001b[0m\u001b[0m\n\u001b[0m",
        "\u001b[0;31mTypeError\u001b[0m: 'generator' object is not subscriptable"
       ]
      }
     ],
     "prompt_number": 36
    },
    {
     "cell_type": "code",
     "collapsed": false,
     "input": [
      "# \uc774\uc81c islice()\ub97c \uc0ac\uc6a9\ud55c\ub2e4.\n",
      "import itertools"
     ],
     "language": "python",
     "metadata": {},
     "outputs": [],
     "prompt_number": 37
    },
    {
     "cell_type": "code",
     "collapsed": false,
     "input": [
      "for x in itertools.islice(c, 10, 20):\n",
      "    print(x)"
     ],
     "language": "python",
     "metadata": {},
     "outputs": [
      {
       "output_type": "stream",
       "stream": "stdout",
       "text": [
        "10\n",
        "11\n",
        "12\n",
        "13\n",
        "14\n",
        "15\n",
        "16\n",
        "17\n",
        "18\n",
        "19\n"
       ]
      }
     ],
     "prompt_number": 38
    },
    {
     "cell_type": "markdown",
     "metadata": {},
     "source": [
      "### \ud1a0\ub860\n",
      "\n",
      "- \uc774\ud130\ub808\uc774\ud130\uc640 \uc81c\ub108\ub808\uc774\ud130\ub294 \uc77c\ubc18\uc801\uc73c\ub85c \uc77c\ubd80\ub97c \uc798\ub77c\ub0bc \uc218 \uc5c6\ub2e4. \uc65c\ub0d0\ud558\uba74 \ub370\uc774\ud130\uc758 \uae38\uc774\ub97c \uc54c \uc218 \uc5c6\uae30 \ub54c\ubb38(\ub610\ud55c **\uc778\ub371\uc2a4\ub97c \uad6c\ud604\ud558\uace0 \uc788\uc9c0\ub3c4 \uc54a\ub2e4.**)\n",
      "- islice()\uc758 \uc2e4\ud589 \uacb0\uacfc\ub294 \uc6d0\ud558\ub294 \uc544\uc774\ud15c\uc758 \uc870\uac01\uc744 \uc0dd\uc131\ud558\ub294 \uc774\ud130\ub808\uc774\ud130\uc9c0\ub9cc, \uc774\ub294 \uc2dc\uc791 \uc778\ub371\uc2a4\uae4c\uc9c0 \ubaa8\ub4e0 \uc544\uc774\ud15c\uc744 \uc18c\ube44\ud558\uace0 \ubc84\ub9ac\ub294 \uc2dd\uc73c\ub85c \uc218\ud589. \uadf8\ub9ac\uace0 \uadf8 \ub4a4\uc758 \uc544\uc774\ud15c\uc740 \ub9c8\uc9c0\ub9c9 \uc778\ub371\uc2a4\ub97c \ub9cc\ub0a0 \ub54c\uae4c\uc9c0 islice \uac1d\uccb4\uac00 \uc0dd\uc131\ud55c\ub2e4.\n",
      "- **\uc8fc\uc5b4\uc9c4 \uc774\ud130\ub808\uc774\ud130 \uc0c1**\uc5d0\uc11c **islice()\uac00 \ub370\uc774\ud130\ub97c \uc18c\ube44\ud55c\ub2e4**\ub294 \uc810\uc774 \uc911\uc694\n",
      "- \uc774\ud130\ub808\uc774\ud130\ub97c \ub4a4\ub85c \uac10\uc744 \uc218 \uc5c6\uae30 \ub54c\ubb38\uc5d0 \uc774 \ubd80\ubd84\uc744 \uc798 \uace0\ub824\n",
      "- **\ub4a4\ub85c \ub3cc\uc544\uac00\ub294 \ub3d9\uc791\uc774 \uc911\uc694**\ud558\ub2e4\uba74 \ub370\uc774\ud130\ub97c **\uba3c\uc800 \ub9ac\uc2a4\ud2b8\ub85c \ubcc0\ud658**\ud558\ub294 \uac83\uc774 \uc88b\ub2e4."
     ]
    },
    {
     "cell_type": "markdown",
     "metadata": {},
     "source": [
      "## 4.8 \uc21c\ud658 \uac1d\uccb4 \uccab \ubc88\uc9f8 \ubd80\ubd84 \uac74\ub108\ub6f0\uae30\n",
      "\n",
      "### \ubb38\uc81c\n",
      "\n",
      "- \uc21c\ud658 \uac1d\uccb4\uc758 \uc544\uc774\ud15c\uc744 \uc21c\ud658\ud558\ub824\uace0 \ud558\ub294\ub370, \ucc98\uc74c \uba87 \uac00\uc9c0 \uc544\uc774\ud15c\uc5d0\ub294 \uad00\uc2ec\uc774 \uc5c6\uc5b4 \uac74\ub108\ub6f0\uace0 \uc2f6\ub2e4.\n",
      "\n",
      "### goruf\n",
      "\n",
      "- itertools \ubaa8\ub4c8\uc5d0 \uc774 \uc6a9\ub3c4\ub85c \uc0ac\uc6a9\ud560 \uc218 \uc788\ub294 \uba87 \uac00\uc9c0 \ud568\uc218\uac00 \uc788\ub2e4.\n",
      "- \uccab\ubc88\uc9f8\ub294 itertools.dropwhile() \ud568\uc218\n",
      "- \uc774 \ud568\uc218\ub97c \uc0ac\uc6a9\ud558\ub824\uba74, \ud568\uc218\uc640 \uc21c\ud658 \uac1d\uccb4\ub97c \ub123\uc73c\uba74 \ub41c\ub2e4. \ubc18\ud658\ub41c \uc774\ud130\ub808\uc774\ud130\ub294 \ub118\uaca8\uc900 \ud568\uc218\uac00 True\ub97c \ubc18\ud658\ud558\ub294 \ub3d9\uc548\uc740 \uc2dc\ud000\uc2a4\uc758 \uccab \ubc88\uc9f8 \uc544\uc774\ud15c\uc744 \ubb34\uc2dc\ud55c\ub2e4. \uadf8 \ud6c4\uc5d0\ub294 \uc804\uccb4 \uc2dc\ud000\uc2a4\ub97c \uc0dd\uc131\ud55c\ub2e4.\n",
      "- \uc774\ub97c \uc54c\uc544\ubcf4\uae30 \uc704\ud574\uc11c \uc8fc\uc11d\uc73c\ub85c \uc2dc\uc791\ud558\ub294 \ud30c\uc77c\uc744 \uc77d\ub294\ub2e4\uace0 \uac00\uc815"
     ]
    },
    {
     "cell_type": "code",
     "collapsed": false,
     "input": [
      "%%writefile 04/test_comment.txt\n",
      "###\n",
      "# User Database\n",
      "#\n",
      "# Note that\n",
      "# in single-user\n",
      "# Open Directory\n",
      "#\n",
      "#\n",
      "nobody:*:\n",
      "root:*:0\n",
      "# end line"
     ],
     "language": "python",
     "metadata": {},
     "outputs": [
      {
       "output_type": "stream",
       "stream": "stdout",
       "text": [
        "Writing 04/test_comment.txt\n"
       ]
      }
     ],
     "prompt_number": 41
    },
    {
     "cell_type": "code",
     "collapsed": false,
     "input": [
      "with open('04/test_comment.txt') as f:\n",
      "    for line in f:\n",
      "        print(line, end='')"
     ],
     "language": "python",
     "metadata": {},
     "outputs": [
      {
       "output_type": "stream",
       "stream": "stdout",
       "text": [
        "###\n",
        "# User Database\n",
        "#\n",
        "# Note that\n",
        "# in single-user\n",
        "# Open Directory\n",
        "#\n",
        "#\n",
        "nobody:*:\n",
        "root:*:0\n",
        "# end line"
       ]
      }
     ],
     "prompt_number": 42
    },
    {
     "cell_type": "code",
     "collapsed": false,
     "input": [
      "from itertools import dropwhile"
     ],
     "language": "python",
     "metadata": {},
     "outputs": [],
     "prompt_number": 45
    },
    {
     "cell_type": "code",
     "collapsed": false,
     "input": [
      "# \ucc98\uc74c \ub098\uc624\ub294 \uc8fc\uc11d\uc744 \ubaa8\ub450 \ubb34\uc2dc\n",
      "with open('04/test_comment.txt') as f:\n",
      "    for line in dropwhile(lambda line: line.startswith('#'), f):\n",
      "        print(line, end='')"
     ],
     "language": "python",
     "metadata": {},
     "outputs": [
      {
       "output_type": "stream",
       "stream": "stdout",
       "text": [
        "nobody:*:\n",
        "root:*:0\n",
        "# end line"
       ]
      }
     ],
     "prompt_number": 47
    },
    {
     "cell_type": "markdown",
     "metadata": {},
     "source": [
      "- \ud14c\uc2a4\ud2b8 \ud568\uc218\uc5d0 \ub530\ub77c \uccab \ubc88\uc9f8 \uc544\uc774\ud15c\uc744 \uc0dd\ub7b5\ud558\ub294 \ubc29\ubc95\uc744 \ub2e4\ub8e8\uace0 \uc788\uc74c\n",
      "- \ub9cc\uc57d **\uc5b4\ub514\uae4c\uc9c0 \uc0dd\ub7b5\ud574\uc57c \ud560\uc9c0 \uc815\ud655\ud55c \uc22b\uc790\ub97c \uc54c\uace0 \uc788\ub2e4**\uba74 itertools.islice()\ub97c \uc0ac\uc6a9\ud558\uba74 \ub428"
     ]
    },
    {
     "cell_type": "code",
     "collapsed": false,
     "input": [
      "from itertools import islice"
     ],
     "language": "python",
     "metadata": {},
     "outputs": [],
     "prompt_number": 48
    },
    {
     "cell_type": "code",
     "collapsed": false,
     "input": [
      "items = ['a', 'b', 'c', 1, 4, 10, 15]"
     ],
     "language": "python",
     "metadata": {},
     "outputs": [],
     "prompt_number": 49
    },
    {
     "cell_type": "code",
     "collapsed": false,
     "input": [
      "for x in islice(items, 3, None):\n",
      "    print(x)"
     ],
     "language": "python",
     "metadata": {},
     "outputs": [
      {
       "output_type": "stream",
       "stream": "stdout",
       "text": [
        "1\n",
        "4\n",
        "10\n",
        "15\n"
       ]
      }
     ],
     "prompt_number": 50
    },
    {
     "cell_type": "markdown",
     "metadata": {},
     "source": [
      "- \uc774 \uc608\uc81c\uc5d0\uc11c islice()\uc5d0 \uc804\ub2ec\ud55c \ub9c8\uc9c0\ub9c9 None \uc778\uc790\ub294 \ucc98\uc74c \uc138 \uc544\uc774\ud15c \ub4a4\uc5d0 \uc624\ub294 \ubaa8\ub4e0 \uac83\uc744 \uc6d0\ud568\uc744 \uba85\uc2dc\ud55c\ub2e4([:3]\uc774 \uc544\ub2c8\ub77c [3:]\uc744 \uc6d0\ud568\uc744 \uc758\ubbf8)"
     ]
    },
    {
     "cell_type": "markdown",
     "metadata": {},
     "source": [
      "### \ud1a0\ub860\n",
      "\n",
      "- dropwhile()\uacfc islice() \ud568\uc218\ub294 \ub2e4\uc74c\uacfc \uac19\uc774 \ubcf5\uc7a1\ud55c \ucf54\ub4dc\ub97c \uc791\uc131\ud558\uc9c0 \uc54a\ub3c4\ub85d \ub3c4\uc640\uc90c"
     ]
    },
    {
     "cell_type": "code",
     "collapsed": false,
     "input": [
      "with open('04/test_comment.txt') as f:\n",
      "    # \ucc98\uc74c \uc8fc\uc11d\uc744 \uac74\ub108\ub6f4\ub2e4.\n",
      "    while True:\n",
      "        line = next(f, '')\n",
      "        if not line.startswith('#'):\n",
      "            break\n",
      "            \n",
      "    # \ub0a8\uc544 \uc788\ub294 \ub77c\uc778\uc744 \ucc98\ub9ac\ud55c\ub2e4.\n",
      "    while line:\n",
      "        # \uc758\ubbf8\uc788\ub294 \ub77c\uc778\uc73c\ub85c \uce58\ud658\ud55c\ub2e4.\n",
      "        print(line, end='')\n",
      "        line = next(f, None)"
     ],
     "language": "python",
     "metadata": {},
     "outputs": [
      {
       "output_type": "stream",
       "stream": "stdout",
       "text": [
        "nobody:*:\n",
        "root:*:0\n",
        "# end line"
       ]
      }
     ],
     "prompt_number": 51
    },
    {
     "cell_type": "markdown",
     "metadata": {},
     "source": [
      "- \uc21c\ud658 \uac1d\uccb4\uc758 \uccab \ubd80\ubd84\uc744 \uac74\ub108\ub6f0\ub294 \uac83\uc740 \uac04\ub2e8\ud788 \uc804\uccb4\ub97c \uac78\ub7ec \ub0b4\ub294 \uac83\uacfc\ub294 \uc870\uae08 \ub2e4\ub974\ub2e4.\n",
      "- \uc774\ubc88 \ub808\uc2dc\ud53c\uc758 \uccab \ubd80\ubd84\uc744 \ub2e4\uc74c\uacfc \uac19\uc774 \uc218\uc815\ud560 \uc218 \uc788\ub2e4."
     ]
    },
    {
     "cell_type": "code",
     "collapsed": false,
     "input": [
      "with open('04/test_comment.txt') as f:\n",
      "    lines = (line for line in f if not line.startswith('#'))\n",
      "    for line in lines:\n",
      "        print(line, end='')"
     ],
     "language": "python",
     "metadata": {},
     "outputs": [
      {
       "output_type": "stream",
       "stream": "stdout",
       "text": [
        "nobody:*:\n",
        "root:*:0\n"
       ]
      }
     ],
     "prompt_number": 52
    },
    {
     "cell_type": "markdown",
     "metadata": {},
     "source": [
      "- \uc774\ub807\uac8c \ud558\uba74 \ud30c\uc77c \uc804\uccb4\uc5d0 \uac78\uccd0 \uc8fc\uc11d\uc73c\ub85c \uc2dc\uc791\ud558\ub294 \ubaa8\ub4e0 \ub77c\uc778\uc744 \ubb34\uc2dc\ud55c\ub2e4.\n",
      "- \ud558\uc9c0\ub9cc \ub808\uc2dc\ud53c\uc5d0\uc11c \uc81c\uc2dc\ud55c \ubc29\ubc95\ub300\ub85c \ud558\uba74 \uc81c\uacf5\ud55c \ud568\uc218\uac00 \ub9cc\uc871\ud558\ub294 \ub3d9\uc548\uc758 \uc544\uc774\ud15c\uc744 \ubb34\uc2dc\ud558\uace0, \uadf8 \ub4a4\uc5d0 \ub098\uc624\ub294 \uc544\uc774\ud15c\uc740 \ud544\ud130\ub9c1\uc5c6\uc774 \ubaa8\ub450 \ubc18\ud658\n",
      "\n",
      "\n",
      "- \ub9c8\uc9c0\ub9c9\uc73c\ub85c \uac15\uc870\ud558\uace0 \uc2f6\uc740 \ub0b4\uc6a9\uc740 \uc774 \ub808\uc2dc\ud53c\uc758 \ubc29\uc2dd\uc740 **\uc21c\ud658 \uac00\ub2a5\ud55c \ubaa8\ub4e0 \uac83\uc5d0 \uc801\uc6a9 \uac00\ub2a5**\ud558\ub2e4\ub294 \uc810. \n",
      "- \uc5ec\uae30\uc5d0\ub294 **\ucc98\uc74c\uc5d0 \ud06c\uae30\ub97c \uc54c \uc218 \uc5c6\ub294** **\uc81c\ub108\ub808\uc774\ud130, \ud30c\uc77c** \ub4f1 \ubaa8\ub4e0 \uac83\uc774 \ud3ec\ud568\ub428"
     ]
    },
    {
     "cell_type": "markdown",
     "metadata": {},
     "source": [
      "## 4.9 \uac00\ub2a5\ud55c \ubaa8\ub4e0 \uc21c\uc5f4\uacfc \uc870\ud569 \uc21c\ud658\n",
      "\n",
      "### \ubb38\uc81c\n",
      "\n",
      "- \uc544\uc774\ud15c \uceec\ub809\uc158\uc5d0 \ub300\ud574 \uac00\ub2a5\ud55c \ubaa8\ub4e0 \uc21c\uc5f4\uacfc \uc870\ud569\uc744 \uc21c\ud658\ud558\uace0 \uc2f6\ub2e4.\n",
      "\n",
      "### \ud574\uacb0\n",
      "\n",
      "- itertools \ubaa8\ub4c8\uc740 \uc774\uc640 \uad00\ub828\uc788\ub294 3 \ud568\uc218\ub97c \uc81c\uacf5\n",
      "- \uccab\uc9f8\ub294 itertools.permutations()\ub85c, \uc544\uc774\ud15c \uceec\ub809\uc158\uc744 \ubc1b\uc544 \uac00\ub2a5\ud55c \ubaa8\ub4e0 \uc21c\uc5f4\uc744 \ud29c\ud50c \uc2dc\ud000\uc2a4\ub85c \uc0dd\uc131"
     ]
    },
    {
     "cell_type": "code",
     "collapsed": false,
     "input": [
      "items = ['a', 'b', 'c']"
     ],
     "language": "python",
     "metadata": {},
     "outputs": [],
     "prompt_number": 53
    },
    {
     "cell_type": "code",
     "collapsed": false,
     "input": [
      "from itertools import permutations"
     ],
     "language": "python",
     "metadata": {},
     "outputs": [],
     "prompt_number": 54
    },
    {
     "cell_type": "code",
     "collapsed": false,
     "input": [
      "for p in permutations(items):\n",
      "    print(p)"
     ],
     "language": "python",
     "metadata": {},
     "outputs": [
      {
       "output_type": "stream",
       "stream": "stdout",
       "text": [
        "('a', 'b', 'c')\n",
        "('a', 'c', 'b')\n",
        "('b', 'a', 'c')\n",
        "('b', 'c', 'a')\n",
        "('c', 'a', 'b')\n",
        "('c', 'b', 'a')\n"
       ]
      }
     ],
     "prompt_number": 55
    },
    {
     "cell_type": "markdown",
     "metadata": {},
     "source": [
      "- \ub9cc\uc57d \ub354 \uc9e7\uc740 \uae38\uc774\uc758 \uc21c\uc5f4\uc744 \uc6d0\ud55c\ub2e4\uba74 \uc120\ud0dd\uc801\uc73c\ub85c \uae38\uc774 \uc778\uc790\ub97c \uc9c0\uc815 \uac00\ub2a5"
     ]
    },
    {
     "cell_type": "code",
     "collapsed": false,
     "input": [
      "for p in permutations(items, 2):\n",
      "    print(p)"
     ],
     "language": "python",
     "metadata": {},
     "outputs": [
      {
       "output_type": "stream",
       "stream": "stdout",
       "text": [
        "('a', 'b')\n",
        "('a', 'c')\n",
        "('b', 'a')\n",
        "('b', 'c')\n",
        "('c', 'a')\n",
        "('c', 'b')\n"
       ]
      }
     ],
     "prompt_number": 56
    },
    {
     "cell_type": "code",
     "collapsed": false,
     "input": [
      "for p in permutations(items, 1):\n",
      "    print(p)"
     ],
     "language": "python",
     "metadata": {},
     "outputs": [
      {
       "output_type": "stream",
       "stream": "stdout",
       "text": [
        "('a',)\n",
        "('b',)\n",
        "('c',)\n"
       ]
      }
     ],
     "prompt_number": 57
    },
    {
     "cell_type": "markdown",
     "metadata": {},
     "source": [
      "- itertools.combinations()\ub294 \uc785\ub825\ubc1b\uc740 \uc544\uc774\ud15c\uc758 \uac00\ub2a5\ud55c \uc870\ud569\uc744 \uc0dd\uc131"
     ]
    },
    {
     "cell_type": "code",
     "collapsed": false,
     "input": [
      "from itertools import combinations"
     ],
     "language": "python",
     "metadata": {},
     "outputs": [],
     "prompt_number": 58
    },
    {
     "cell_type": "code",
     "collapsed": false,
     "input": [
      "for c in combinations(items, 3):\n",
      "    print(c)"
     ],
     "language": "python",
     "metadata": {},
     "outputs": [
      {
       "output_type": "stream",
       "stream": "stdout",
       "text": [
        "('a', 'b', 'c')\n"
       ]
      }
     ],
     "prompt_number": 59
    },
    {
     "cell_type": "code",
     "collapsed": false,
     "input": [
      "for c in combinations(items, 2):\n",
      "    print(c)"
     ],
     "language": "python",
     "metadata": {},
     "outputs": [
      {
       "output_type": "stream",
       "stream": "stdout",
       "text": [
        "('a', 'b')\n",
        "('a', 'c')\n",
        "('b', 'c')\n"
       ]
      }
     ],
     "prompt_number": 60
    },
    {
     "cell_type": "code",
     "collapsed": false,
     "input": [
      "for c in combinations(items, 1):\n",
      "    print(c)"
     ],
     "language": "python",
     "metadata": {},
     "outputs": [
      {
       "output_type": "stream",
       "stream": "stdout",
       "text": [
        "('a',)\n",
        "('b',)\n",
        "('c',)\n"
       ]
      }
     ],
     "prompt_number": 61
    },
    {
     "cell_type": "markdown",
     "metadata": {},
     "source": [
      "- combinations()\uc758 \uacbd\uc6b0 \uc2e4\uc81c \uc694\uc18c\uc758 \uc21c\uc11c\ub294 \uace0\ub824\ud558\uc9c0 \uc54a\ub294\ub2e4. \ub530\ub77c\uc11c('a', 'b')\ub294 ('b', 'a')(\uc774\ub294 \uc0dd\uc131\ub418\uc9c0 \uc54a\ub294\ub2e4)\uc640 \ub3d9\uc77c\ud558\uac8c \ucde8\uae09\n",
      "- \uc870\ud569\uc744 \uc0dd\uc131\ud560 \ub54c, \uc120\ud0dd\ud55c \uc544\uc774\ud15c\uc740 \uac00\ub2a5\ud55c \ud6c4\ubcf4\uc758 \uceec\ub809\uc158\uc5d0\uc11c \uc81c\uac70\ub428(\uc608\ub97c \ub4e4\uc5b4 'a'\ub294 \uc774\ubbf8 \uc120\ud0dd\ub418\uc5c8\uae30 \ub54c\ubb38\uc5d0 \uace0\ub824\uc5d0\uc11c \uc81c\uc678\ub428)\n",
      "- itertols.combinations_with_replacement() \ud568\uc218\ub294 \uc774\ub97c \ubcf4\uc644\ud574 \uac19\uc740 \uc544\uc774\ud15c\uc744 2\ubc88 \uc774\uc0c1 \uc120\ud0dd\ud560 \uc218 \uc788\uac8c \ud568"
     ]
    },
    {
     "cell_type": "code",
     "collapsed": true,
     "input": [
      "from itertools import combinations_with_replacement"
     ],
     "language": "python",
     "metadata": {},
     "outputs": [],
     "prompt_number": 62
    },
    {
     "cell_type": "code",
     "collapsed": false,
     "input": [
      "# a\uac00 \uac01 \uc790\ub9ac\uc5d0 \ub2e4 \ub4e4\uc5b4\uac00\ub124\n",
      "for c in combinations_with_replacement(items, 3):\n",
      "    print(c)"
     ],
     "language": "python",
     "metadata": {},
     "outputs": [
      {
       "output_type": "stream",
       "stream": "stdout",
       "text": [
        "('a', 'a', 'a')\n",
        "('a', 'a', 'b')\n",
        "('a', 'a', 'c')\n",
        "('a', 'b', 'b')\n",
        "('a', 'b', 'c')\n",
        "('a', 'c', 'c')\n",
        "('b', 'b', 'b')\n",
        "('b', 'b', 'c')\n",
        "('b', 'c', 'c')\n",
        "('c', 'c', 'c')\n"
       ]
      }
     ],
     "prompt_number": 63
    },
    {
     "cell_type": "code",
     "collapsed": false,
     "input": [
      "for c in combinations_with_replacement(items, 2):\n",
      "    print(c)"
     ],
     "language": "python",
     "metadata": {},
     "outputs": [
      {
       "output_type": "stream",
       "stream": "stdout",
       "text": [
        "('a', 'a')\n",
        "('a', 'b')\n",
        "('a', 'c')\n",
        "('b', 'b')\n",
        "('b', 'c')\n",
        "('c', 'c')\n"
       ]
      }
     ],
     "prompt_number": 64
    },
    {
     "cell_type": "code",
     "collapsed": false,
     "input": [
      "for c in combinations_with_replacement(items, 1):\n",
      "    print(c)"
     ],
     "language": "python",
     "metadata": {},
     "outputs": [
      {
       "output_type": "stream",
       "stream": "stdout",
       "text": [
        "('a',)\n",
        "('b',)\n",
        "('c',)\n"
       ]
      }
     ],
     "prompt_number": 65
    },
    {
     "cell_type": "markdown",
     "metadata": {},
     "source": [
      "### \ud1a0\ub860\n",
      "\n",
      "- itertools() \ubaa8\ub4c8\uc758 \ud3b8\ub9ac\ud55c \ub3c4\uad6c \uc911 \uba87 \uac00\uc9c0\ub9cc\uc744 \ub2e4\ub8e8\uc5c8\uc74c\n",
      "- \uc0ac\uc2e4 \uc21c\uc5f4\uc774\ub098 \uc870\ud569\uc744 \uc21c\ud658\ud558\ub294 \ucf54\ub4dc\ub97c \uc9c1\uc811 \uc791\uc131\ud560 \uc218\ub3c4 \uc788\uaca0\uc9c0\ub9cc, \uadf8\ub807\uac8c \ud558\ub824\uba74 \uaf64 \ub9ce\uc740 \uace0\ubbfc\uc744 \ud574\uc57c \ud568\n",
      "- \uc21c\ud658\uacfc \uad00\ub828\ud574\uc11c \ubcf5\uc7a1\ud55c \ubb38\uc81c\uc5d0 \uc9c1\uba74\ud55c\ub2e4\uba74 \uc6b0\uc120 itertools \ubd80\ud130 \uc0b4\ud3b4\ubcf4\ub294 \uac83\uc774 \uc88b\ub2e4.\n",
      "- \uc77c\ubc18\uc801\uc778 \ubb38\uc81c\ub77c\uba74 \uc544\ub9c8\ub3c4 \uc774 \ubaa8\ub4c8\uc5d0\uc11c \ud574\uacb0\ucc45\uc774 \uc774\ubbf8 \uc81c\uc2dc\ub418\uc5b4 \uc788\uc744\uac83"
     ]
    },
    {
     "cell_type": "markdown",
     "metadata": {},
     "source": [
      "## 4.10 \uc778\ub371\uc2a4-\uac12 \ud398\uc5b4 \uc2dc\ud000\uc2a4 \uc21c\ud658\n",
      "\n",
      "### \ubb38\uc81c\n",
      "\n",
      "- \uc2dc\ud000\uc2a4\ub97c \uc21c\ud658\ud558\ub824\uace0 \ud558\ub09f. \uc774\ub54c \uc5b4\ub5a4 \uc694\uc18c\ub97c \ucc98\ub9ac\ud558\uace0 \uc788\ub294\uc9c0 \ubc88\ud638\ub97c \uc54c\uace0 \uc2f6\ub2e4.\n",
      "\n",
      "### \ud574\uacb0\n",
      "\n",
      "- \uc774 \ubb38\uc81c\ub294 \ub0b4\uc7a5 \ud568\uc218 enumerate()\ub97c \uc0ac\uc6a9\ud558\uba74 \uac04\ub2e8\ud788 \ud574\uacb0"
     ]
    },
    {
     "cell_type": "code",
     "collapsed": false,
     "input": [
      "my_list = ['a', 'b', 'c']"
     ],
     "language": "python",
     "metadata": {},
     "outputs": [],
     "prompt_number": 66
    },
    {
     "cell_type": "code",
     "collapsed": false,
     "input": [
      "for idx, val in enumerate(my_list):\n",
      "    print(idx, val)"
     ],
     "language": "python",
     "metadata": {},
     "outputs": [
      {
       "output_type": "stream",
       "stream": "stdout",
       "text": [
        "0 a\n",
        "1 b\n",
        "2 c\n"
       ]
      }
     ],
     "prompt_number": 67
    },
    {
     "cell_type": "markdown",
     "metadata": {},
     "source": [
      "- \ucd9c\ub825\uc2dc \ubc88\ud638\ub974 1\ubc88\ubd80\ud130 \uc2dc\uc791\ud558\uace0 \uc2f6\uc73c\uba74 start \uc778\uc790\ub97c \uc804\ub2ec"
     ]
    },
    {
     "cell_type": "code",
     "collapsed": false,
     "input": [
      "my_list = ['a', 'b', 'c']"
     ],
     "language": "python",
     "metadata": {},
     "outputs": [],
     "prompt_number": 68
    },
    {
     "cell_type": "code",
     "collapsed": false,
     "input": [
      "for idx, val in enumerate(my_list, 1):\n",
      "    print(idx, val)"
     ],
     "language": "python",
     "metadata": {},
     "outputs": [
      {
       "output_type": "stream",
       "stream": "stdout",
       "text": [
        "1 a\n",
        "2 b\n",
        "3 c\n"
       ]
      }
     ],
     "prompt_number": 69
    },
    {
     "cell_type": "markdown",
     "metadata": {},
     "source": [
      "- \uc774\ubc88 \uc608\uc81c\ub294 \uc5d0\ub7ec \uba54\uc2dc\uc9c0\uc5d0 \ud30c\uc77c\uc758 \ub77c\uc778\ubc88\ud638\ub97c \uc800\uc7a5\ud558\uace0 \uc2f6\uc740 \uacbd\uc6b0 \uc720\uc6a9"
     ]
    },
    {
     "cell_type": "code",
     "collapsed": false,
     "input": [
      "def parse_data(filename):\n",
      "    with open(filename, 'rt') as f:\n",
      "        for lineno, line in enumerate(f, 1):\n",
      "            fields = line.split()\n",
      "            try:\n",
      "                count = int(fields[1])\n",
      "            except Exception as e:\n",
      "                print('Line {}: Parse error: {}'.format(lineno, e))"
     ],
     "language": "python",
     "metadata": {},
     "outputs": [],
     "prompt_number": 81
    },
    {
     "cell_type": "code",
     "collapsed": false,
     "input": [
      "parse_data('04/test_comment.txt')"
     ],
     "language": "python",
     "metadata": {},
     "outputs": [
      {
       "output_type": "stream",
       "stream": "stdout",
       "text": [
        "Line 1: Parse error: list index out of range\n",
        "Line 2: Parse error: invalid literal for int() with base 10: 'User'\n",
        "Line 3: Parse error: list index out of range\n",
        "Line 4: Parse error: invalid literal for int() with base 10: 'Note'\n",
        "Line 5: Parse error: invalid literal for int() with base 10: 'in'\n",
        "Line 6: Parse error: invalid literal for int() with base 10: 'Open'\n",
        "Line 7: Parse error: list index out of range\n",
        "Line 8: Parse error: list index out of range\n",
        "Line 9: Parse error: list index out of range\n",
        "Line 10: Parse error: list index out of range\n",
        "Line 11: Parse error: invalid literal for int() with base 10: 'end'\n"
       ]
      }
     ],
     "prompt_number": 82
    },
    {
     "cell_type": "markdown",
     "metadata": {},
     "source": [
      "- enumerate()\ub294 \uc608\ub97c \ub4e4\uc5b4 \ud2b9\uc815 \uac12\uc758 \ucd9c\ud604\uc744 \uc704\ud55c \uc624\ud504\uc14b(offset) \ucd94\uc801\uc5d0 \ud65c\uc6a9\ud558\uae30 \uc88b\ub2e4.\n",
      "- \ub530\ub77c\uc11c \ud30c\uc77c \ub0b4\uc758 \ub2e8\uc5b4\ub97c \ucd9c\ud604\ud55c \ub77c\uc778\uc5d0 \ub9e4\ud551\ud558\ub824\uba74, enumerate()\ub85c \ub2e8\uc5b4\ub97c \ud30c\uc77c\uc5d0\uc11c \ubc1c\uc804\ud55c \ub77c\uc778 \uc624\ud504\uc14b\uc5d0 \ub9e4\ud551\ud55c\ub2e4."
     ]
    },
    {
     "cell_type": "code",
     "collapsed": false,
     "input": [
      "from collections import defaultdict"
     ],
     "language": "python",
     "metadata": {},
     "outputs": [],
     "prompt_number": 83
    },
    {
     "cell_type": "code",
     "collapsed": false,
     "input": [
      "word_summary = defaultdict(list)"
     ],
     "language": "python",
     "metadata": {},
     "outputs": [],
     "prompt_number": 97
    },
    {
     "cell_type": "code",
     "collapsed": false,
     "input": [
      "with open('04/test_comment.txt') as f:\n",
      "    lines = f.readlines()"
     ],
     "language": "python",
     "metadata": {},
     "outputs": [],
     "prompt_number": 98
    },
    {
     "cell_type": "code",
     "collapsed": false,
     "input": [
      "for idx, line in enumerate(lines):\n",
      "    # \ud604\uc7ac \ub77c\uc778\uc5d0 \ub2e8\uc5b4 \ub9ac\uc2a4\ud2b8\ub97c \uc0dd\uc131\n",
      "    words = [w.strip().lower() for w in line.split()]\n",
      "#     print(words)\n",
      "    for word in words:\n",
      "        # dictionary\uc5d0 vlaue \uac12\uc744 append\ub85c \ucd94\uac00 \uac00\ub2a5\n",
      "        word_summary[word].append(idx)"
     ],
     "language": "python",
     "metadata": {},
     "outputs": [],
     "prompt_number": 99
    },
    {
     "cell_type": "code",
     "collapsed": false,
     "input": [
      "from pprint import pprint"
     ],
     "language": "python",
     "metadata": {},
     "outputs": [],
     "prompt_number": 100
    },
    {
     "cell_type": "code",
     "collapsed": false,
     "input": [
      "pprint(word_summary)"
     ],
     "language": "python",
     "metadata": {},
     "outputs": [
      {
       "output_type": "stream",
       "stream": "stdout",
       "text": [
        "{'#': [1, 2, 3, 4, 5, 6, 7, 10],\n",
        " '###': [0],\n",
        " 'database': [1],\n",
        " 'directory': [5],\n",
        " 'end': [10],\n",
        " 'in': [4],\n",
        " 'line': [10],\n",
        " 'nobody:*:': [8],\n",
        " 'note': [3],\n",
        " 'open': [5],\n",
        " 'root:*:0': [9],\n",
        " 'single-user': [4],\n",
        " 'that': [3],\n",
        " 'user': [1]}\n"
       ]
      }
     ],
     "prompt_number": 101
    },
    {
     "cell_type": "code",
     "collapsed": false,
     "input": [
      "!cat 04/test_comment.txt"
     ],
     "language": "python",
     "metadata": {},
     "outputs": [
      {
       "output_type": "stream",
       "stream": "stdout",
       "text": [
        "###\r\n",
        "# User Database\r\n",
        "#\r\n",
        "# Note that\r\n",
        "# in single-user\r\n",
        "# Open Directory\r\n",
        "#\r\n",
        "#\r\n",
        "nobody:*:\r\n",
        "root:*:0\r\n",
        "# end line"
       ]
      }
     ],
     "prompt_number": 90
    },
    {
     "cell_type": "markdown",
     "metadata": {},
     "source": [
      "### \ud1a0\ub860\n",
      "\n",
      "- \uce74\uc6b4\ud130 \ubcc0\uc218\ub97c \uc2a4\uc2a4\ub85c \ub2e4\ub8e8\ub294 \uac83\uc5d0 \ube44\ud574 enumerate()\ub97c \uc0ac\uc6a9\ud558\ub294 \uac83\uc774 \ud6e8\uc52c \ubcf4\uae30 \uc88b\ub2e4.\n",
      "- \uc608\ub97c \ub4e4\uc5b4 \ub2e4\uc74c\uacfc \uac19\uc740 \ucf54\ub4dc\ub85c \uce74\uc6b4\ud130 \ubcc0\uc218\ub97c \ub9cc\ub4e4 \uc218 \uc788\uc74c"
     ]
    },
    {
     "cell_type": "code",
     "collapsed": false,
     "input": [
      "# lineno = 1\n",
      "# for line in f:\n",
      "#     # \ub77c\uc778 \ucc98\ub9ac\n",
      "#     lineno += 1"
     ],
     "language": "python",
     "metadata": {},
     "outputs": [],
     "prompt_number": 102
    },
    {
     "cell_type": "code",
     "collapsed": false,
     "input": [
      "# enumerate()\ub97c \uc0ac\uc6a9\ud558\ub294 \uac83\uc774 \ud6e8\uc52c \ub354 \uc138\ub828\ub418\uace0 \ud3b8\ud558\ub2e4\n",
      "# for lineno, line in enumerate(f):\n",
      "#     # \ub77c\uc778 \ucc98\ub9ac"
     ],
     "language": "python",
     "metadata": {},
     "outputs": [],
     "prompt_number": 103
    },
    {
     "cell_type": "markdown",
     "metadata": {},
     "source": [
      "- enumerate()\uac00 \ubc18\ud658\ud558\ub294 \uac12\uc740 \uc5f0\uc18d\ub41c \ud29c\ud50c\uc744 \ubc18\ud658\ud558\ub294 \uc774\ud130\ub808\uc774\ud130\uc778 enumerate \uac1d\uccb4\uc758 \uc778\uc2a4\ud134\uc2a4\uc774\ub2e4. \uc774 \ud29c\ud50c\uc740 \uc804\ub2ec\ud55c \uc2dc\ud000\uc2a4\uc5d0 next()\ub97c \ud638\ucd9c\ud574 \ubc18\ud658\ub41c \uce74\uc6b4\ud130\uc640 \uac12\uc73c\ub85c \uc774\ub8e8\uc5b4\uc838 \uc788\ub2e4.\n",
      "\n",
      "\n",
      "- \uc0ac\uc18c\ud55c \ubb38\uc81c\uc774\uae34 \ud558\uc9c0\ub9cc \uc8fc\uc758\ud574\uc57c \ud560 \uc810\uc774 \ud558\ub098 \uc788\uc74c\n",
      "- \ud55c \ubc88 \ub354 \ud480\uc5b4\uc918\uc57c \ud558\ub294 \ud29c\ud50c\uc758 \uc2dc\ud000\uc2a4\uc5d0 enumerate()\ub97c \uc0ac\uc6a9\ud560 \ub54c\ub294 \uc2e4\uc218\ub97c \ubc94\ud558\uae30 \uc26c\uc6c0"
     ]
    },
    {
     "cell_type": "code",
     "collapsed": false,
     "input": [
      "data = [(1, 2), (3, 4), (5, 6), (7, 8)]"
     ],
     "language": "python",
     "metadata": {},
     "outputs": [],
     "prompt_number": 104
    },
    {
     "cell_type": "code",
     "collapsed": false,
     "input": [
      "for n, (x, y) in enumerate(data):\n",
      "    print(str(n) + ':', x, y)"
     ],
     "language": "python",
     "metadata": {},
     "outputs": [
      {
       "output_type": "stream",
       "stream": "stdout",
       "text": [
        "0: 1 2\n",
        "1: 3 4\n",
        "2: 5 6\n",
        "3: 7 8\n"
       ]
      }
     ],
     "prompt_number": 107
    },
    {
     "cell_type": "code",
     "collapsed": false,
     "input": [
      "# Error!\n",
      "for n, x, y in enumerate(data):\n",
      "    print(str(n) + ':', x, y)"
     ],
     "language": "python",
     "metadata": {},
     "outputs": [
      {
       "ename": "ValueError",
       "evalue": "need more than 2 values to unpack",
       "output_type": "pyerr",
       "traceback": [
        "\u001b[0;31m---------------------------------------------------------------------------\u001b[0m\n\u001b[0;31mValueError\u001b[0m                                Traceback (most recent call last)",
        "\u001b[0;32m<ipython-input-108-2d12ceec87c9>\u001b[0m in \u001b[0;36m<module>\u001b[0;34m()\u001b[0m\n\u001b[1;32m      1\u001b[0m \u001b[0;31m# Error!\u001b[0m\u001b[0;34m\u001b[0m\u001b[0;34m\u001b[0m\u001b[0m\n\u001b[0;32m----> 2\u001b[0;31m \u001b[0;32mfor\u001b[0m \u001b[0mn\u001b[0m\u001b[0;34m,\u001b[0m \u001b[0mx\u001b[0m\u001b[0;34m,\u001b[0m \u001b[0my\u001b[0m \u001b[0;32min\u001b[0m \u001b[0menumerate\u001b[0m\u001b[0;34m(\u001b[0m\u001b[0mdata\u001b[0m\u001b[0;34m)\u001b[0m\u001b[0;34m:\u001b[0m\u001b[0;34m\u001b[0m\u001b[0m\n\u001b[0m\u001b[1;32m      3\u001b[0m     \u001b[0mprint\u001b[0m\u001b[0;34m(\u001b[0m\u001b[0mstr\u001b[0m\u001b[0;34m(\u001b[0m\u001b[0mn\u001b[0m\u001b[0;34m)\u001b[0m \u001b[0;34m+\u001b[0m \u001b[0;34m':'\u001b[0m\u001b[0;34m,\u001b[0m \u001b[0mx\u001b[0m\u001b[0;34m,\u001b[0m \u001b[0my\u001b[0m\u001b[0;34m)\u001b[0m\u001b[0;34m\u001b[0m\u001b[0m\n",
        "\u001b[0;31mValueError\u001b[0m: need more than 2 values to unpack"
       ]
      }
     ],
     "prompt_number": 108
    },
    {
     "cell_type": "markdown",
     "metadata": {},
     "source": [
      "## 4.11 \uc5ec\ub7ec \uc2dc\ud000\uc2a4 \ub3d9\uc2dc\uc5d0 \uc21c\ud658\n",
      "\n",
      "### \ubb38\uc81c\n",
      "\n",
      "- \uc5ec\ub7ec \uc2dc\ud000\uc2a4\uc5d0 \ub4e4\uc5b4\uc788\ub294 \uc544\uc774\ud15c\uc744 \ub3d9\uc2dc\uc5d0 \uc21c\ud658\ud558\uace0 \uc2f6\ub2e4.\n",
      "\n",
      "### \ud574\uacb0\n",
      "\n",
      "- \uc5ec\ub7ec \uc2dc\ud000\uc2a4\ub97c \ub3d9\uc2dc\uc5d0 \uc21c\ud658\ud558\ub824\uba74 zip() \ud568\uc218\ub97c \uc0ac\uc6a9"
     ]
    },
    {
     "cell_type": "code",
     "collapsed": false,
     "input": [
      "xpts = [1, 5, 4, 2, 10, 7]"
     ],
     "language": "python",
     "metadata": {},
     "outputs": [],
     "prompt_number": 109
    },
    {
     "cell_type": "code",
     "collapsed": false,
     "input": [
      "ypts = [101, 78, 37, 15, 62, 99]"
     ],
     "language": "python",
     "metadata": {},
     "outputs": [],
     "prompt_number": 110
    },
    {
     "cell_type": "code",
     "collapsed": false,
     "input": [
      "for x, y in zip(xpts, ypts):\n",
      "    print(x, y)"
     ],
     "language": "python",
     "metadata": {},
     "outputs": [
      {
       "output_type": "stream",
       "stream": "stdout",
       "text": [
        "1 101\n",
        "5 78\n",
        "4 37\n",
        "2 15\n",
        "10 62\n",
        "7 99\n"
       ]
      }
     ],
     "prompt_number": 111
    },
    {
     "cell_type": "markdown",
     "metadata": {},
     "source": [
      "- zip(a, b)\ub294 tuple(x, y)\ub97c \uc0dd\uc131\ud558\ub294 \uc774\ud130\ub808\uc774\ud130\ub97c \uc0dd\uc131\ud55c\ub2e4.(x\ub294 a\uc5d0\uc11c, y\ub294 b\uc5d0\uc11c \uac00\uc838\uc634)\n",
      "- \uc21c\ud658\uc740 \ud55c\ucabd \uc2dc\ud000\uc2a4\uc758 \ubaa8\ub4e0 \uc785\ub825\uc774 \uc18c\ube44\ub418\uc5c8\uc744 \ub54c \uc815\uc9c0\ud568\n",
      "- \ub530\ub77c\uc11c \uc21c\ud658\uc758 \uae38\uc774\ub294 \uc785\ub825\ub41c \uc2dc\ud000\uc2a4 \uc911 \uc9e7\uc740\uac83\uacfc \uac19\ub2e4"
     ]
    },
    {
     "cell_type": "code",
     "collapsed": false,
     "input": [
      "a = [1, 2, 3]"
     ],
     "language": "python",
     "metadata": {},
     "outputs": [],
     "prompt_number": 112
    },
    {
     "cell_type": "code",
     "collapsed": false,
     "input": [
      "b = ['w', 'x', 'y', 'z']"
     ],
     "language": "python",
     "metadata": {},
     "outputs": [],
     "prompt_number": 113
    },
    {
     "cell_type": "code",
     "collapsed": false,
     "input": [
      "for i in zip(a, b):\n",
      "    print(i)"
     ],
     "language": "python",
     "metadata": {},
     "outputs": [
      {
       "output_type": "stream",
       "stream": "stdout",
       "text": [
        "(1, 'w')\n",
        "(2, 'x')\n",
        "(3, 'y')\n"
       ]
      }
     ],
     "prompt_number": 114
    },
    {
     "cell_type": "markdown",
     "metadata": {},
     "source": [
      "- \uc774\ub807\uac8c \ub3d9\uc791\ud558\ub294 \ubc29\uc2dd\uc774 \ub9c8\uc74c\uc5d0 \ub4e4\uc9c0 \uc54a\ub294\ub2e4\uba74 itertools.zip_longest()\ub97c \uc0ac\uc6a9\ud574\uc57c \ud568"
     ]
    },
    {
     "cell_type": "code",
     "collapsed": false,
     "input": [
      "from itertools import zip_longest"
     ],
     "language": "python",
     "metadata": {},
     "outputs": [],
     "prompt_number": 115
    },
    {
     "cell_type": "code",
     "collapsed": false,
     "input": [
      "for i in zip_longest(a, b):\n",
      "    print(i)"
     ],
     "language": "python",
     "metadata": {},
     "outputs": [
      {
       "output_type": "stream",
       "stream": "stdout",
       "text": [
        "(1, 'w')\n",
        "(2, 'x')\n",
        "(3, 'y')\n",
        "(None, 'z')\n"
       ]
      }
     ],
     "prompt_number": 116
    },
    {
     "cell_type": "code",
     "collapsed": false,
     "input": [
      "for i in zip_longest(a, b, fillvalue=0):\n",
      "    print(i)"
     ],
     "language": "python",
     "metadata": {},
     "outputs": [
      {
       "output_type": "stream",
       "stream": "stdout",
       "text": [
        "(1, 'w')\n",
        "(2, 'x')\n",
        "(3, 'y')\n",
        "(0, 'z')\n"
       ]
      }
     ],
     "prompt_number": 117
    },
    {
     "cell_type": "markdown",
     "metadata": {},
     "source": [
      "### \ud1a0\ub860\n",
      "\n",
      "- zip()\uc740 \ub370\uc774\ud130\ub97c \ubb36\uc5b4\uc57c \ud560 \ub54c \uc8fc\ub85c \uc0ac\uc6a9\n",
      "- \uc608\ub97c \ub4e4\uc5b4 \uc5f4 \ud5e4\ub354\uc640 \uac12\uc744 \ub9ac\uc2a4\ud2b8\ub85c \uac00\uc9c0\uace0 \uc788\ub2e4\uace0 \uac00\uc815"
     ]
    },
    {
     "cell_type": "code",
     "collapsed": false,
     "input": [
      "headers = ['name', 'shares', 'price']"
     ],
     "language": "python",
     "metadata": {},
     "outputs": [],
     "prompt_number": 120
    },
    {
     "cell_type": "code",
     "collapsed": false,
     "input": [
      "values = ['ACME', 100, 490.1]"
     ],
     "language": "python",
     "metadata": {},
     "outputs": [],
     "prompt_number": 121
    },
    {
     "cell_type": "markdown",
     "metadata": {},
     "source": [
      "- zip()\uc744 \uc0ac\uc6a9\ud558\uba74 \ub450 \uac12\uc744 \ubb36\uc5b4 \ub515\uc154\ub108\ub9ac\ub85c \ub9cc\ub4e4 \uc218 \uc788\uc74c"
     ]
    },
    {
     "cell_type": "code",
     "collapsed": false,
     "input": [
      "s = dict(zip(headers, values))\n",
      "s"
     ],
     "language": "python",
     "metadata": {},
     "outputs": [
      {
       "metadata": {},
       "output_type": "pyout",
       "prompt_number": 123,
       "text": [
        "{'name': 'ACME', 'shares': 100, 'price': 490.1}"
       ]
      }
     ],
     "prompt_number": 123
    },
    {
     "cell_type": "code",
     "collapsed": false,
     "input": [
      "for name, val in zip(headers, values):\n",
      "    print(name, '=', val)"
     ],
     "language": "python",
     "metadata": {},
     "outputs": [
      {
       "output_type": "stream",
       "stream": "stdout",
       "text": [
        "name = ACME\n",
        "shares = 100\n",
        "price = 490.1\n"
       ]
      }
     ],
     "prompt_number": 124
    },
    {
     "cell_type": "markdown",
     "metadata": {},
     "source": [
      "- \uc77c\ubc18\uc801\uc774\uc9c0\ub294 \uc54a\uc9c0\ub9cc zip()\uc5d0 \uc2dc\ud000\uc2a4\ub97c 2\uac1c \uc774\uc0c1 \uc785\ub825\ud560 \uc218 \uc788\uc74c\n",
      "- \uc774\ub7f0 \uacbd\uc6b0 \uacb0\uacfc\uc801\uc73c\ub85c \ud29c\ud50c\uc5d0\ub294 \uc785\ub825\ud55c \uc2dc\ud000\uc2a4\uc758 \uac1c\uc218 \ub9cc\ud07c\uc758 \uc544\uc774\ud15c\uc774 \ud3ec\ud568\ub428"
     ]
    },
    {
     "cell_type": "code",
     "collapsed": false,
     "input": [
      "a = [1, 2, 3]"
     ],
     "language": "python",
     "metadata": {},
     "outputs": [],
     "prompt_number": 125
    },
    {
     "cell_type": "code",
     "collapsed": false,
     "input": [
      "b = [10, 11, 12]"
     ],
     "language": "python",
     "metadata": {},
     "outputs": [],
     "prompt_number": 126
    },
    {
     "cell_type": "code",
     "collapsed": false,
     "input": [
      "c = ['x', 'y', 'z']"
     ],
     "language": "python",
     "metadata": {},
     "outputs": [],
     "prompt_number": 127
    },
    {
     "cell_type": "code",
     "collapsed": false,
     "input": [
      "for i in zip(a, b, c):\n",
      "    print(i)"
     ],
     "language": "python",
     "metadata": {},
     "outputs": [
      {
       "output_type": "stream",
       "stream": "stdout",
       "text": [
        "(1, 10, 'x')\n",
        "(2, 11, 'y')\n",
        "(3, 12, 'z')\n"
       ]
      }
     ],
     "prompt_number": 128
    },
    {
     "cell_type": "markdown",
     "metadata": {},
     "source": [
      "- \ub9c8\uc9c0\ub9c9\uc73c\ub85c **zip()**\uc774 **\uacb0\uacfc\uc801\uc73c\ub85c \uc774\ud130\ub808\uc774\ud130\ub97c \uc0dd\uc0b0**\ud55c\ub2e4\ub294 \uc810\uc744 \uae30\uc5b5\n",
      "- \ubb36\uc740 \uac12\uc774 \uc800\uc7a5\ub41c \ub9ac\uc2a4\ud2b8\uac00 \ud544\uc694\ud558\ub2e4\uba74 list() \ud568\uc218 \uc0ac\uc6a9"
     ]
    },
    {
     "cell_type": "code",
     "collapsed": false,
     "input": [
      "zip(a, b)"
     ],
     "language": "python",
     "metadata": {},
     "outputs": [
      {
       "metadata": {},
       "output_type": "pyout",
       "prompt_number": 129,
       "text": [
        "<zip at 0x10f72c108>"
       ]
      }
     ],
     "prompt_number": 129
    },
    {
     "cell_type": "code",
     "collapsed": false,
     "input": [
      "list(zip(a, b))"
     ],
     "language": "python",
     "metadata": {},
     "outputs": [
      {
       "metadata": {},
       "output_type": "pyout",
       "prompt_number": 130,
       "text": [
        "[(1, 10), (2, 11), (3, 12)]"
       ]
      }
     ],
     "prompt_number": 130
    },
    {
     "cell_type": "markdown",
     "metadata": {},
     "source": [
      "## 4.12 \uc11c\ub85c \ub2e4\ub978 \ucee8\ud14c\uc774\ub108 \uc544\uc774\ud15c \uc21c\ud658\n",
      "\n",
      "### \ubb38\uc81c\n",
      "\n",
      "- \uc5ec\ub7ec \uac1d\uccb4\uc5d0 \ub3d9\uc77c\ud55c \uc791\uc5c5\uc744 \uc218\ud589\ud574\uc57c \ud558\uc9c0\ub9cc, \uac1d\uccb4\uac00 \uc11c\ub85c \ub2e4\ub978 \ucee8\ud14c\uc774\ub108\uc5d0 \ub4e4\uc5b4 \uc788\ub2e4. \ud558\uc9c0\ub9cc \uc911\ucca9\ub41c \ubc18\ubcf5\ubb38\uc744 \uc0ac\uc6a9\ud574 \ucf54\ub4dc\uc758 \uac00\ub3c5\uc131\uc744 \ud5e4\uce58\uace0 \uc2f6\uc9c0 \uc54a\ub2e4.\n",
      "\n",
      "### \ud574\uacb0\n",
      "\n",
      "- itertools.chain() \uba54\uc18c\ub4dc\ub85c \uc774 \ubb38\uc81c\ub97c \uac04\ub2e8\ud788 \ud574\uacb0\n",
      "- \uc774 \uba54\uc18c\ub4dc\ub294 \uc21c\ud658 \uac00\ub2a5\ud55c \uac1d\uccb4\ub97c \ub9ac\uc2a4\ud2b8\ub85c \ubc1b\uace0 \ub9c8\uc2a4\ud0b9\uc744 \ud1b5\ud574 \ud55c\ubc88\uc5d0 \uc21c\ud658\ud560 \uc218 \uc788\ub294 \uc774\ud130\ub808\uc774\ud130\ub97c \ubc18\ud658"
     ]
    },
    {
     "cell_type": "code",
     "collapsed": false,
     "input": [
      "from itertools import chain"
     ],
     "language": "python",
     "metadata": {},
     "outputs": [],
     "prompt_number": 131
    },
    {
     "cell_type": "code",
     "collapsed": false,
     "input": [
      "a = [1, 2, 3, 4]"
     ],
     "language": "python",
     "metadata": {},
     "outputs": [],
     "prompt_number": 132
    },
    {
     "cell_type": "code",
     "collapsed": false,
     "input": [
      "b = ['x', 'y', 'z']"
     ],
     "language": "python",
     "metadata": {},
     "outputs": [],
     "prompt_number": 133
    },
    {
     "cell_type": "code",
     "collapsed": false,
     "input": [
      "for x in chain(a, b):\n",
      "    print(x)"
     ],
     "language": "python",
     "metadata": {},
     "outputs": [
      {
       "output_type": "stream",
       "stream": "stdout",
       "text": [
        "1\n",
        "2\n",
        "3\n",
        "4\n",
        "x\n",
        "y\n",
        "z\n"
       ]
      }
     ],
     "prompt_number": 134
    },
    {
     "cell_type": "markdown",
     "metadata": {},
     "source": [
      "- chain()\uc740 \uc77c\ubc18\uc801\uc73c\ub85c \ubaa8\ub4e0 \uc544\uc774\ud15c\uc5d0 \ub3d9\uc77c\ud55c \uc791\uc5c5\uc744 \uc218\ud589\ud558\uace0 \uc2f6\uc9c0\ub9cc \uc774 \uc544\uc774\ud15c\uc774 \uc11c\ub85c \ub2e4\ub978 \uc138\ud2b8\uc5d0 \ud3ec\ud568\ub418\uc5b4 \uc788\uc744 \ub54c \uc0ac\uc6a9"
     ]
    },
    {
     "cell_type": "code",
     "collapsed": false,
     "input": [
      "# \uc5ec\ub7ec \uc544\uc774\ud15c \uc138\ud2b8\n",
      "active_items = set()"
     ],
     "language": "python",
     "metadata": {},
     "outputs": [],
     "prompt_number": 135
    },
    {
     "cell_type": "code",
     "collapsed": false,
     "input": [
      "inactive_items = set()"
     ],
     "language": "python",
     "metadata": {},
     "outputs": [],
     "prompt_number": 136
    },
    {
     "cell_type": "code",
     "collapsed": false,
     "input": [
      "# \ubaa8\ub4e0 \uc544\uc774\ud15c\uc5d0 \ud55c\ubc88\uc5d0 \uc21c\ud658\n",
      "# for item in chain(active_items, inactive_items):\n",
      "    # \uc791\uc5c5"
     ],
     "language": "python",
     "metadata": {},
     "outputs": [],
     "prompt_number": 137
    },
    {
     "cell_type": "markdown",
     "metadata": {},
     "source": [
      "- \uc55e\uc5d0 \ub098\uc628 \ubc29\uc2dd\uc778 \ubc18\ubcf5\ubb38\uc744 \ub450 \ubc88 \uc0ac\uc6a9\ud558\ub294 \uac83\ubcf4\ub2e4 \ud6e8\uc52c \ubcf4\uae30 \uc88b\ub2e4."
     ]
    },
    {
     "cell_type": "code",
     "collapsed": false,
     "input": [
      "# def item in active_items:\n",
      "    # \uc791\uc5c5\n",
      "    \n",
      "# def item in inactive_items:\n",
      "    # \uc791\uc5c5"
     ],
     "language": "python",
     "metadata": {},
     "outputs": [],
     "prompt_number": 138
    },
    {
     "cell_type": "markdown",
     "metadata": {},
     "source": [
      "### \ud1a0\ub860\n",
      "\n",
      "- itertools.chain()\uc740 \ud558\ub098 \ud639\uc740 \uadf8 \uc774\uc0c1\uc758 \uc21c\ud658 \uac1d\uccb4\ub97c \uc778\uc790\ub85c \ubc1b\uc74c\n",
      "- \uadf8\ub9ac\uace0 \uc785\ub825\ubc1b\uc740 \uc21c\ud658 \uac1d\uccb4 \uc18d \uc544\uc774\ud15c\uc744 \ucc28\ub840\ub300\ub85c \uc21c\ud658\ud558\ub294 \uc774\ud130\ub808\uc774\ud130\ub97c \uc0dd\uc131\n",
      "- \ud070 \ucc28\uc774\ub294 \uc544\ub2c8\uc9c0\ub9cc \uc6b0\uc120\uc801\uc73c\ub85c \uc2dc\ud000\uc2a4\ub97c \ud558\ub098\ub85c \ud569\uce5c \ub2e4\uc74c \uc21c\ud658\ud558\ub294 \uac83\ubcf4\ub2e4 chain()\uc744 \uc0ac\uc6a9\ud558\ub294 \uac83\uc774 \ub354 \ud6a8\uc728\uc801"
     ]
    },
    {
     "cell_type": "code",
     "collapsed": false,
     "input": [
      "# \ube44\ud6a8\uc728\uc801\n",
      "# for x in a + b:\n",
      "    #\n",
      "\n",
      "# \ub354 \ub098\uc740 \ubc29\uc2dd\n",
      "# for x in chain(a, b):\n",
      "    "
     ],
     "language": "python",
     "metadata": {},
     "outputs": [],
     "prompt_number": 139
    },
    {
     "cell_type": "markdown",
     "metadata": {},
     "source": [
      "- \uccab\ubc88\uc9f8 \ubc29\uc2dd\uc740 a + b\ub97c \ud569\uccd0 \uc804\ud600 \uc0c8\ub85c\uc6b4 \uc2dc\ud000\uc2a4\ub97c \ub9cc\ub4e4\uace0, a\uc640 b\uac00 \ub3d9\uc77c\ud55c \ud0c0\uc785\uc774\uc5b4\uc57c \ud55c\ub2e4\ub294 \uc694\uad6c \uc870\uac74\n",
      "- \ud558\uc9c0\ub9cc chain(0\uc740 \uc774\ub7f0 \uacfc\uc815\uc744 \uac70\uce58\uc9c0 \uc54a\uc74c\n",
      "- \ub530\ub77c\uc11c \uc785\ub825\ud55c \uc2dc\ud000\uc2a4\uc758 \ud06c\uae30\uac00 \uc544\uc8fc \ud06c\ub2e4\uba74 chain()\uc744 \uc0ac\uc6a9\ud558\ub294 \uac83\uc774 \uba54\ubaa8\ub9ac \uce21\uba74\uc5d0\uc11c \uc720\ub9ac\ud558\uace0, \ud0c0\uc785\uc774 \ub2e4\ub978 \uacbd\uc6b0\uc5d0\ub3c4 \uc27d\uac8c \uc0ac\uc6a9 \uac00\ub2a5"
     ]
    },
    {
     "cell_type": "markdown",
     "metadata": {},
     "source": [
      "## 4.13 \ub370\uc774\ud130 \ucc98\ub9ac \ud30c\uc774\ud504\ub77c\uc778 \uc0dd\uc131\n",
      "\n",
      "### \ubb38\uc81c\n",
      "\n",
      "- \ub370\uc774\ud130 \ucc98\ub9ac\ub97c \ub370\uc774\ud130 \ucc98\ub9ac \ud30c\uc774\ud504\ub77c\uc778\uacfc \uac19\uc740 \ubc29\uc2dd\uc73c\ub85c \uc21c\ucc28\uc801\uc73c\ub85c \ucc98\ub9ac\ud558\uace0 \uc2f6\ub2e4(Unix \ud30c\uc774\ud504\ub77c\uc778\uacfc \ube44\uc2b7\ud558\uac8c)\n",
      "- \uc608\ub97c \ub4e4\uc5b4, \ucc98\ub9ac\ud574\uc57c \ud560 \ubc29\ub300\ud55c \ub370\uc774\ud130\uac00 \uc788\uc9c0\ub9cc \uba54\ubaa8\ub9ac\uc5d0 \ud55c\uaebc\ubc88\uc5d0 \ub4e4\uc5b4\uac00\uc9c0 \uc54a\ub294 \uacbd\uc6b0\uc5d0 \uc801\uc6a9 \uac00\ub2a5\n",
      "\n",
      "### \ud574\uacb0\n",
      "\n",
      "- **\uc81c\ub108\ub808\uc774\ud130 \ud568\uc218\ub97c \uc0ac\uc6a9**\ud558\ub294 \uac83\uc774 **\ucc98\ub9ac \ud30c\uc774\ud504\ub77c\uc778**\uc744 \uad6c\ud604\ud558\uae30\uc5d0 \uc88b\uc74c\n",
      "- \ubc29\ub300\ud55c \uc591\uc758 \ub85c\uadf8 \ud30c\uc77c\uc774 \ub4e4\uc5b4\uc788\ub294 \ub514\ub809\ud1a0\ub9ac\uc5d0 \uc791\uc5c5\uc744 \ud574\uc57c \ud55c\ub2e4\uace0 \uac00\uc815\n",
      "- 04/www \ud3f4\ub354 \uc548\uc5d0 \uc608\uc81c\ub4e4\uc774 \ub4e4\uc5b4\uc788\ub124 -_-"
     ]
    },
    {
     "cell_type": "markdown",
     "metadata": {},
     "source": [
      "    foo/\n",
      "        access-log-012007.gz\n",
      "        access-log-022007.gz\n",
      "        access-log-022007.gz\n",
      "        access-log-012008\n",
      "    bar/\n",
      "        access-log-092007.bz2\n",
      "        access-log-022008\n",
      "        \n",
      "- \uadf8\ub9ac\uace0 \uac01 \ud30c\uc77c\uc5d0\ub294 \ub2e4\uc74c\uacfc \uac19\uc740 \ub370\uc774\ud130\uac00 \ub2f4\uaca8 \uc788\uc74c\n",
      "\n",
      "\n",
      "    124.115.6.12 - - [10/Jul/2012:00:18:50 -0500] \"GET /robots.txt ...\" 200 71\n",
      "    210.212.209.67 - - [10/Jul/2012:00:18:51 -0500] \"GET /ply ...\" 200 11875\n",
      "    210.212.209.67 - - [10/Jul/2012:00:18:51 -0500] \"GET /favicon.ico ...\" 404 369"
     ]
    },
    {
     "cell_type": "markdown",
     "metadata": {},
     "source": [
      "- \uc774 \ud30c\uc77c\uc744 \ucc98\ub9ac\ud558\uae30 \uc704\ud574 \ud2b9\uc815 \uc791\uc5c5 \ucc98\ub9ac\ub97c \uc218\ud589\ud558\ub294 \uc791\uc5c5 \uc81c\ub108\ub808\uc774\ud130 \ud568\uc218\uc758 \uceec\ub809\uc158\uc744 \uc815\uc758\ud560 \uc218 \uc788\uc74c"
     ]
    },
    {
     "cell_type": "code",
     "collapsed": false,
     "input": [
      "import os\n",
      "import fnmatch\n",
      "import gzip\n",
      "import bz2\n",
      "import re\n",
      "\n",
      "def gen_find(filepat, top):\n",
      "    '''\n",
      "    \ub514\ub809\ud1a0\ub9ac \ud2b8\ub9ac\uc5d0\uc11c \uc640\uc77c\ub4dc\uce74\ub4dc \ud328\ud134\uc5d0 \ub9fb\uc774\ud558\ub294 \ubaa8\ub4e0 \ud30c\uc77c \uc774\ub984\uc744 \ucc3e\ub294\ub2e4.\n",
      "    '''\n",
      "    for path, dirlist, filelist in os.walk(top):\n",
      "        for name in fnmatch.filter(filelist, filepat):\n",
      "            yield os.path.join(path, name)\n",
      "            \n",
      "def gen_opener(filenames):\n",
      "    '''\n",
      "    \ud30c\uc77c \uc774\ub984 \uc2dc\ud000\uc2a4\ub97c \ud558\ub098\uc529 \uc5f4\uc5b4 \ud30c\uc77c \uac1d\uccb4\ub97c \uc0dd\uc131\ud55c\ub2e4.\n",
      "    \ub2e4\uc74c \uc21c\ud658\uc73c\ub85c \ub118\uc5b4\uac00\ub294 \uc21c\uac04 \ud30c\uc77c\uc744 \ub2eb\ub294\ub2e4.\n",
      "    '''\n",
      "    for filename in filenames:\n",
      "        if filename.endswith('.gz'):\n",
      "            f = gzip.open(filename, 'rt')\n",
      "        elif filename.endswith('.bz2'):\n",
      "            f = bz2.open(filename, 'rt')\n",
      "        else:\n",
      "            f = open(filename, 'rt')\n",
      "        yield f\n",
      "        f.close()\n",
      "        \n",
      "def gen_concatenate(iterators):\n",
      "    '''\n",
      "    \uc774\ud130\ub808\uc774\ud130 \uc2dc\ud000\uc2a4\ub97c \ud569\uccd0 \ud558\ub098\uc758 \uc2dc\ud000\uc2a4\ub85c \ub9cc\ub4e0\ub2e4.\n",
      "    '''\n",
      "    for it in iterators:\n",
      "        yield from it\n",
      "        \n",
      "def gen_grep(pattern, lines):\n",
      "    '''\n",
      "    \ub77c\uc778 \uc2dc\ud000\uc2a4\uc5d0\uc11c \uc815\uaddc\uc2dd \ud328\ud134\uc744 \uc0b4\ud3b4\ubcf8\ub2e4.\n",
      "    '''\n",
      "    pat = re.compile(pattern)\n",
      "    for line in lines:\n",
      "        if pat.search(line):\n",
      "            yield line"
     ],
     "language": "python",
     "metadata": {},
     "outputs": [],
     "prompt_number": 150
    },
    {
     "cell_type": "markdown",
     "metadata": {},
     "source": [
      "- gen_grep\uc758 for\ubb38\uc5d0\uc11c lines\uac00 generator\uc774\ubbc0\ub85c gen_concatenate\ub85c \uc62c\ub77c\uac04\ub2e4.\n",
      "- \uc5ec\uae30\uc5d0\uc11c yeild from it \uc774 \uc788\uc5b4\uc11c file handler\ub97c \uc5f0\ub2e4.\n",
      "- \uadf8\ub798\uc11c for line in lines(file handler)\uac00 \uc2e4\ud589\uc774 \ub41c\ub2e4.\n",
      "- gen_concatenate -> gen_opener -> gen_find\ub85c \uac04\ub2e4.\n",
      "- yield\ub97c \ud1b5\ud574\uc11c \ud558\ub098\uc529 \ubc1b\uc544\uc628\ub2e4.\n",
      "- \uc544\uc9c1\ub3c4 yield\uac00 \uc190\uc5d0 \uc775\uc219\uce58\uac00 \uc54a\ub2e4. \uadf8\ub0e5 return \ubb38\uc744 \uc368\uc11c \ud558\ub294\uac8c \ub354 \uc88b\uc9c0 \uc54a\uc744\uae4c \ud558\ub294\ub370..\n"
     ]
    },
    {
     "cell_type": "markdown",
     "metadata": {},
     "source": [
      "- \uc774\uc81c \uc774 \ud568\uc218\ub4e4\uc744 \ubaa8\uc544\uc11c \uc5b4\ub835\uc9c0 \uc54a\uac8c \ucc98\ub9ac \ud30c\uc774\ud504\ub77c\uc778\uc744 \ub9cc\ub4e4 \uc218 \uc788\uc74c\n",
      "- \uc608\ub97c \ub4e4\uc5b4 python\uc774\ub780 \ub2e8\uc5b4\ub97c \ud3ec\ud568\ud558\uace0 \uc788\ub294 \ubaa8\ub4e0 \ub85c\uadf8 \ub77c\uc778\uc744 \ucc3e\uc73c\ub824\uba74 \ub2e4\uc74c\uacfc \uac19\uc774 \ud55c\ub2e4."
     ]
    },
    {
     "cell_type": "code",
     "collapsed": false,
     "input": [
      "lognames = gen_find('access-log*', \n",
      "                    '04/creating_data_processing_pipelines/www/')"
     ],
     "language": "python",
     "metadata": {},
     "outputs": [],
     "prompt_number": 267
    },
    {
     "cell_type": "code",
     "collapsed": false,
     "input": [
      "# for logname in lognames:\n",
      "#     print(logname)"
     ],
     "language": "python",
     "metadata": {},
     "outputs": [],
     "prompt_number": 268
    },
    {
     "cell_type": "code",
     "collapsed": false,
     "input": [
      "files = gen_opener(lognames)"
     ],
     "language": "python",
     "metadata": {},
     "outputs": [],
     "prompt_number": 269
    },
    {
     "cell_type": "code",
     "collapsed": false,
     "input": [
      "# for file in files:\n",
      "#     print(file)"
     ],
     "language": "python",
     "metadata": {},
     "outputs": [],
     "prompt_number": 270
    },
    {
     "cell_type": "code",
     "collapsed": false,
     "input": [
      "lines = gen_concatenate(files)"
     ],
     "language": "python",
     "metadata": {},
     "outputs": [],
     "prompt_number": 271
    },
    {
     "cell_type": "code",
     "collapsed": false,
     "input": [
      "# for i, line in enumerate(lines):\n",
      "#     if i > 5:\n",
      "#         break\n",
      "#     print(line)"
     ],
     "language": "python",
     "metadata": {},
     "outputs": [],
     "prompt_number": 272
    },
    {
     "cell_type": "code",
     "collapsed": false,
     "input": [
      "pylines = gen_grep('(?i)python', lines)"
     ],
     "language": "python",
     "metadata": {},
     "outputs": [],
     "prompt_number": 273
    },
    {
     "cell_type": "code",
     "collapsed": false,
     "input": [
      "for lineno, line in enumerate(pylines):\n",
      "    if lineno >= 15:\n",
      "        break\n",
      "    print(line)"
     ],
     "language": "python",
     "metadata": {},
     "outputs": [
      {
       "output_type": "stream",
       "stream": "stdout",
       "text": [
        "86.132.71.214 - - [24/Feb/2008:00:37:55 -0600] \"GET /python.html HTTP/1.1\" 200 18870\n",
        "\n",
        "74.6.7.122 - - [24/Feb/2008:00:56:36 -0600] \"GET /python/tutorial/beazley_intro_python/Slides/SLIDE113.HTM HTTP/1.0\" 200 1095\n",
        "\n",
        "198.37.27.153 - - [24/Feb/2008:01:36:07 -0600] \"GET /python.html HTTP/1.1\" 200 18870\n",
        "\n",
        "66.249.65.37 - - [24/Feb/2008:02:53:59 -0600] \"GET /python.html HTTP/1.1\" 304 -\n",
        "\n",
        "65.55.208.123 - - [24/Feb/2008:04:27:33 -0600] \"GET /python/tutorial/beazley_advanced_python/Slides/SLIDE034.HTM HTTP/1.1\" 304 -\n",
        "\n",
        "66.249.65.37 - - [24/Feb/2008:05:42:06 -0600] \"GET /python/tutorial/beazley_advanced_python/Slides/SLIDE011.HTM HTTP/1.1\" 200 1466\n",
        "\n",
        "66.249.65.37 - - [24/Feb/2008:06:56:22 -0600] \"GET /python/tutorial/beazley_advanced_python/Slides/SLIDE009.HTM HTTP/1.1\" 200 1279\n",
        "\n",
        "66.249.65.37 - - [24/Feb/2008:06:57:29 -0600] \"GET /python/tutorial/beazley_advanced_python/Slides/SLIDE008.HTM HTTP/1.1\" 200 1231\n",
        "\n",
        "66.249.65.37 - - [24/Feb/2008:07:01:40 -0600] \"GET /python/tutorial/beazley_intro_python/Slides/SLIDE092.HTM HTTP/1.1\" 200 1329\n",
        "\n",
        "66.249.65.37 - - [24/Feb/2008:07:03:46 -0600] \"GET /python/tutorial/beazley_intro_python/Slides/SLIDE071.HTM HTTP/1.1\" 200 1322\n",
        "\n",
        "66.249.65.37 - - [24/Feb/2008:07:14:19 -0600] \"GET /python/tutorial/beazley_intro_python/Slides/SLIDE050.HTM HTTP/1.1\" 200 982\n",
        "\n",
        "74.6.23.14 - - [24/Feb/2008:09:57:00 -0600] \"GET /python/tutorial/beazley_intro_python/Slides/SLIDE109.HTM HTTP/1.0\" 200 1310\n",
        "\n",
        "74.6.25.105 - - [24/Feb/2008:10:13:11 -0600] \"GET /python/tutorial/beazley_advanced_python/Slides/SLIDE027.HTM HTTP/1.0\" 200 1334\n",
        "\n",
        "122.55.52.10 - - [24/Feb/2008:10:41:21 -0600] \"GET /cgi-bin/wiki.pl?SwigFaq/Python HTTP/1.0\" 200 11548\n",
        "\n",
        "67.195.58.177 - - [24/Feb/2008:13:20:46 -0600] \"GET /python.html HTTP/1.0\" 304 -\n",
        "\n"
       ]
      }
     ],
     "prompt_number": 274
    },
    {
     "cell_type": "markdown",
     "metadata": {},
     "source": [
      "- \ud30c\uc774\ud504\ub77c\uc778\uc744 \ud655\uc7a5\ud558\uace0 \uc2f6\ub2e4\uba74, \uc81c\ub108\ub808\uc774\ud130 \ud45c\ud604\uc2dd\uc73c\ub85c \ub370\uc774\ud130\ub97c \ub123\uc744 \uc218 \uc788\uc74c\n",
      "- \uc608\ub97c \ub4e4\uc5b4 \ub2e4\uc74c \ubc84\uc804\uc740 \uc804\uc1a1\ud55c \ubc14\uc774\ud2b8 \uc218\ub97c \ucc3e\uace0 \uadf8 \ucd1d\ud569\uc744 \uad6c\ud568"
     ]
    },
    {
     "cell_type": "code",
     "collapsed": false,
     "input": [
      "lognames = gen_find('access-log*', \n",
      "                    '04/creating_data_processing_pipelines/www')"
     ],
     "language": "python",
     "metadata": {},
     "outputs": [],
     "prompt_number": 312
    },
    {
     "cell_type": "code",
     "collapsed": false,
     "input": [
      "files = gen_opener(lognames)"
     ],
     "language": "python",
     "metadata": {},
     "outputs": [],
     "prompt_number": 313
    },
    {
     "cell_type": "code",
     "collapsed": false,
     "input": [
      "lines = gen_concatenate(files)"
     ],
     "language": "python",
     "metadata": {},
     "outputs": [],
     "prompt_number": 314
    },
    {
     "cell_type": "code",
     "collapsed": false,
     "input": [
      "pylines = gen_grep('(?i)python', lines)"
     ],
     "language": "python",
     "metadata": {},
     "outputs": [],
     "prompt_number": 315
    },
    {
     "cell_type": "code",
     "collapsed": false,
     "input": [
      "help('a'.rsplit)"
     ],
     "language": "python",
     "metadata": {},
     "outputs": [
      {
       "output_type": "stream",
       "stream": "stdout",
       "text": [
        "Help on built-in function rsplit:\n",
        "\n",
        "rsplit(...) method of builtins.str instance\n",
        "    S.rsplit(sep=None, maxsplit=-1) -> list of strings\n",
        "    \n",
        "    Return a list of the words in S, using sep as the\n",
        "    delimiter string, starting at the end of the string and\n",
        "    working to the front.  If maxsplit is given, at most maxsplit\n",
        "    splits are done. If sep is not specified, any whitespace string\n",
        "    is a separator.\n",
        "\n"
       ]
      }
     ],
     "prompt_number": 316
    },
    {
     "cell_type": "code",
     "collapsed": false,
     "input": [
      "s = '1 2 3 4 5 6'"
     ],
     "language": "python",
     "metadata": {},
     "outputs": [],
     "prompt_number": 317
    },
    {
     "cell_type": "code",
     "collapsed": false,
     "input": [
      "s.rsplit(None, 1)"
     ],
     "language": "python",
     "metadata": {},
     "outputs": [
      {
       "metadata": {},
       "output_type": "pyout",
       "prompt_number": 318,
       "text": [
        "['1 2 3 4 5', '6']"
       ]
      }
     ],
     "prompt_number": 318
    },
    {
     "cell_type": "code",
     "collapsed": false,
     "input": [
      "s.rsplit(None, 1)[1]"
     ],
     "language": "python",
     "metadata": {},
     "outputs": [
      {
       "metadata": {},
       "output_type": "pyout",
       "prompt_number": 319,
       "text": [
        "'6'"
       ]
      }
     ],
     "prompt_number": 319
    },
    {
     "cell_type": "code",
     "collapsed": false,
     "input": [
      "# rsplit\uc744 \ud558\uba74 space\ub97c \uae30\uc900\uc73c\ub85c \ub098\ub204\ub294\ub370 right \uac12\ub9cc [1]\uc5d0 \ud560\ub2f9\ub428. \ub9c8\uc9c0\ub9c9 \uc5f4\uc740 size \ub098\ud0c0\ub0c4\n",
      "bytecolumn = (line.rsplit(None, 1)[1] for line in pylines)"
     ],
     "language": "python",
     "metadata": {},
     "outputs": [],
     "prompt_number": 320
    },
    {
     "cell_type": "code",
     "collapsed": false,
     "input": [
      "# -\uac00 \uc544\ub2cc\uac83\ub4e4\ub9cc int\ub85c \ud615\ubcc0\ud658\ud574\uc11c \ubaa8\ub450 \ub354\ud55c\ub2e4.\n",
      "bytes2 = (int(x) for x in bytecolumn if x != '-')"
     ],
     "language": "python",
     "metadata": {},
     "outputs": [],
     "prompt_number": 321
    },
    {
     "cell_type": "code",
     "collapsed": false,
     "input": [
      "# \uc5ec\uae30\uc5d0\ub3c4 \uc870\uae08 \uba38\ub9ac \uc4f0\uba74 kb, mb\ub85c \ub098\ud0c0\ub0bc \uc218 \uc788\uac8c \ud560 \uc218 \uc788\uc744\uac83 \uac19\uc740\ub370..\n",
      "print('Total', sum(bytes2))"
     ],
     "language": "python",
     "metadata": {},
     "outputs": [
      {
       "output_type": "stream",
       "stream": "stdout",
       "text": [
        "Total 18159780\n"
       ]
      }
     ],
     "prompt_number": 322
    },
    {
     "cell_type": "markdown",
     "metadata": {},
     "source": [
      "### \ud1a0\ub860\n",
      "\n",
      "- \ud30c\uc774\ud504\ub77c\uc778\uc73c\ub85c \ub370\uc774\ud130\ub97c \ucc98\ub9ac\ud558\ub294 \ubc29\uc2dd\uc740 **\ud30c\uc2f1**, **\uc2e4\uc2dc\uac04 \ub370\uc774\ud130 \uc77d\uae30**, **\uc8fc\uae30\uc801 \ud3f4\ub9c1** \ub4f1 \ub2e4\ub978 \ubb38\uc81c\uc5d0\ub3c4 \uc0ac\uc6a9 \uac00\ub2a5\n",
      "- \ucf54\ub4dc\ub97c \uc774\ud574\ud560 \ub54c, \n",
      "- **yield\ubb38**\uc774 **\ub370\uc774\ud130 \uc0dd\uc131\uc790**\ucc98\ub7fc \ub3d9\uc791\ud558\uace0 \n",
      "- **for\ubb38**\uc740 **\ub370\uc774\ud130 \uc18c\ube44\uc790**\ucc98\ub7fc \ub3d9\uc791\ud55c\ub2e4\ub294 \uc810\uc774 **\uc911\uc694**\n",
      "- \uc81c\ub108\ub808\uc774\ud130\uac00 \uc313\uc774\uba74, \uac01 yield\uac00 \uc21c\ud658\uc744 \ud558\uba70 \ub370\uc774\ud130\uc758 \uc544\uc774\ud15c \ud558\ub098\ub97c \ud30c\uc774\ud504\ub77c\uc778\uc758 \ub2e4\uc74c \ub2e8\uacc4\ub85c \ub118\uae34\ub2e4.\n",
      "- \ub9c8\uc9c0\ub9c9 \uc608\uc81c\uc5d0\uc11c sum() \ud568\uc218\uac00 \uc2e4\uc9c8\uc801\uc73c\ub85c \ud504\ub85c\uadf8\ub7a8\uc744 \uc6b4\uc6a9\ud558\uba70 \uc81c\ub108\ub808\uc774\ud130 \ud30c\uc774\ud504\ub77c\uc778\uc5d0\uc11c \ud55c \ubc88\uc5d0 \ud558\ub098\uc529 \uc544\uc774\ud15c\uc744 \uaebc\ub0c4\n",
      "- \uc774 \ubc29\uc2dd\uc758 \uc88b\uc740 \uc810\uc740 \uac01 \uc81c\ub108\ub808\uc774\ud130 \ud568\uc218\ub97c \uc791\uac8c \ubaa8\ub4c8\ud654 \ud560 \uc218 \uc788\uc74c\n",
      "- \ub530\ub77c\uc11c \ub354 \uc27d\uac8c \uc791\uc131\ud558\uace0 \uc720\uc9c0\ud558\uae30\ub3c4 \uc26c\uc6c0\n",
      "- \ub300\uac1c \uc774\ub7f0 \uc81c\ub108\ub808\uc774\ud130\uc758 \ubaa9\uc801\uc774 \uc544\uc8fc \uc77c\ubc18\uc801\uc774\uc5b4\uc11c \ub2e4\ub978 \uacf3\uc5d0\uc11c \uc7ac\uc0ac\uc6a9 \uac00\ub2a5\n",
      "- \uadf8\ub9ac\uace0 \ubaa8\ub4e0 \uc870\uac01\uc744 \ud55c\ub370 \ubaa8\uc544 \ub193\uc740 \uacb0\uacfc, \ucf54\ub4dc\ub3c4 \uc27d\uac8c \uc77d\uace0 \uc774\ud574\ud560 \uc218 \uc788\uc74c\n",
      "- \ub610\ud55c \ud30c\uc774\ud504\ub77c\uc778 \ubc29\uc2dd\uc744 \ub530\ub974\uba74 \uba54\ubaa8\ub9ac \ud6a8\uc728\uc131\ub3c4 \ub192\uc74c\n",
      "- \uc55e\uc5d0 \uc124\uba85\ud55c \ucf54\ub4dc\ub294 \uc544\uc8fc \ubc29\ub300\ud55c \ub514\ub809\ud1a0\ub9ac\uc640 \ud30c\uc77c\uc5d0\ub3c4 \uc798 \ub3d9\uc791\n",
      "- \uc0ac\uc2e4 \uc21c\ud658 \ucc98\ub9ac\ub85c \uc778\ud574 \uc18c\ube44\ub418\ub294 \uba54\ubaa8\ub9ac\ub294 \uc544\uc8fc \uc801\ub2e4.\n",
      "- gen_concatenate() \ud568\uc218\uc640 \uad00\ub828\ud574\uc11c \uc544\uc8fc \ubbf8\ubb18\ud55c \uac83\uc774 \ud558\ub098 \uc788\uc74c\n",
      "- \uc774 \ud568\uc218\uc758 \ubaa9\uc801\uc740 \uc785\ub825\ubc1b\uc740 \uc2dc\ud000\uc2a4\ub97c \ud558\ub098\ub85c \ud569\uce58\ub294 \uac83\n",
      "- itertools.chain()\ud568\uc218\uac00 \ube44\uc2b7\ud55c \uae30\ub2a5\uc774\uc9c0\ub9cc, \uc774 \ud568\uc218\ub294 \ubb36\uc5b4 \uc904 \ubaa8\ub4e0 \uc21c\ud658 \uac1d\uccb4\ub97c \uc778\uc790\ub85c \uc804\ub2ec\ud574\uc57c \ud568\n",
      "- \uc774\ubc88 \ub808\uc2dc\ud53c\uc758 \uacbd\uc6b0 \uadf8\ub807\uac8c \ud558\uba74 gen_opener() \uc81c\ub108\ub808\uc774\ud130\uac00 \uc644\uc804\ud788 \uc18c\ube44\ud558\ub294 lines = itertools.chain(*files)\uc640 \uac19\uc740 \uba85\ub839\uc744 \uc218\ubc18\ud558\uac8c \ub428\n",
      "- \uadf8 \uc81c\ub108\ub808\uc774\ud130\ub294 \ub2e4\uc74c \ubc88 \uc21c\ud658 \ub2e8\uacc4\uc5d0\uc11c \uace7\ubc14\ub85c \ub2eb\ub294 \ud30c\uc77c \uc2dc\ud000\uc2a4\ub97c \uc0dd\uc131\ud558\uae30 \ub54c\ubb38\uc5d0 chain()\uc744 \uc0ac\uc6a9\ud560 \uc218 \uc5c6\ub2e4.\n",
      "- \uc55e\uc5d0\uc11c \uc54c\uc544\ubcf8 \ud574\uacb0\ucc45\uc740 \uc774\ub7f0 \ubb38\uc81c\ub97c \ud53c\ud560 \uc218 \uc788\ub2e4.\n",
      "\n",
      "\n",
      "### yield \ucc38\uace0 \uc0ac\ud56d\n",
      "\n",
      "- [PythonEngine: \ud30c\uc774\uc36c yield (2) - yield\ub294 \uc5b8\uc81c \uc0ac\uc6a9\ud558\ub294\uac00.](http://pyengine.blogspot.kr/2012/01/yield-2-yield.html)\n",
      "- [yield from - What'\u0080\u0099s New In Python 3.3 \u2014 Python 3.4.2rc1 documentation](https://docs.python.org/3/whatsnew/3.3.html#pep-380)\n",
      "\n",
      "\n",
      "- PEP 380 yield from expression\uc744 \ucd94\uac00\ud588\ub2e4. generator\uac00 \ub2e4\ub978 generator\uc5d0\uac8c \uc5f0\uc0b0 \ubd80\ubd84\uc744 \uc704\uc784\ud560 \uc218 \uc788\ub3c4\ub85d \ud5c8\ub77d\ud588\ub2e4. \uc774\uac83\uc740 code\uc758 section\uc774 yield\ub97c \ud3ec\ud568\ud558\uac8c \ud5c8\ub77d\ud588\ub2e4.\n",
      "- \ucd94\uac00\uc801\uc73c\ub85c subgenerator\ub294 value\ub97c \ud568\uaed8 \ub3cc\ub824 \ubc1b\uac8c\ub41c\ub2e4. value\ub294 \uc704\uc784\ud558\ub294 generator\uc5d0 \uc758\ud574\uc11c \ub9cc\ub4e4\uc5b4\uc9c4\ub2e4.\n",
      "- subgenerator\ub85c \uc704\uc784\ud558\ub294 \uccab\ubc88\uc9f8 \ub514\uc790\uc778\uc6d0\uce59: yield from expression\uc740 \uc790\uc758\uc801\uc778 subiterator\uc5d0\uac8c \uc704\uc784\ud558\ub294\uac8c \ud5c8\ub77d\ub410\ub2e4.\n",
      "- \uadf8\ub7ec\ub098, \uc77c\ubc18\uc801\uc778 loop\ub294 \uc88b\uc544\ud558\uc9c0 \uc54a\ub294\ub2e4. yield from\uc740 subgenerator\uac00 sent\ub97c \ubc1b\uae30 \uc704\ud574 \ud5c8\ub77d\ud588\ub2e4. \uadf8\ub9ac\uace0 calling scope\uc5d0\uc11c \uc9c1\uc811 values\ub97c \ubcf4\ub0b8\ub2e4. \uadf8\ub9ac\uace0 final value\ub294 outer generator\uc5d0\uac8c \ub3cc\ub824\uc900\ub2e4.\n",
      "- \uac00\uc7a5 \uc911\uc694\ud55c \uc6d0\uce59\uc740 generator\uc870\ucc28 \ud5c8\ub77d\ud558\uae30 \uc704\ud574 \uc874\uc7ac\ud55c\ub2e4. send, throw\uc640 \ud568\uaed8 \uc0ac\uc6a9\ub418\uac8c\ub054 \ub514\uc790\uc778\ub410\ub2e4. multiplue subgenerator\ub85c \uc27d\uac8c single large function\uc774 multiple subfunction \uc73c\ub85c \ub098\ub220\uc9c0\ub294\uac83\ucc98\ub7fc \ud769\uc5b4\uc9c4\ub2e4. "
     ]
    },
    {
     "cell_type": "markdown",
     "metadata": {},
     "source": [
      "----"
     ]
    },
    {
     "cell_type": "code",
     "collapsed": false,
     "input": [
      "def g(x):\n",
      "    yield from range(x, 0, -1)\n",
      "    yield from range(x)"
     ],
     "language": "python",
     "metadata": {},
     "outputs": [],
     "prompt_number": 275
    },
    {
     "cell_type": "code",
     "collapsed": false,
     "input": [
      "list(g(5))"
     ],
     "language": "python",
     "metadata": {},
     "outputs": [
      {
       "metadata": {},
       "output_type": "pyout",
       "prompt_number": 276,
       "text": [
        "[5, 4, 3, 2, 1, 0, 1, 2, 3, 4]"
       ]
      }
     ],
     "prompt_number": 276
    },
    {
     "cell_type": "code",
     "collapsed": false,
     "input": [
      "def accumulate():\n",
      "    tally = 0\n",
      "    while True:\n",
      "        next = yield\n",
      "        if next is None:\n",
      "            return tally\n",
      "        tally += next"
     ],
     "language": "python",
     "metadata": {},
     "outputs": [],
     "prompt_number": 277
    },
    {
     "cell_type": "code",
     "collapsed": false,
     "input": [
      "def gather_tallies(tallies):\n",
      "    while True:\n",
      "        tally = yield from accumulate()\n",
      "        tallies.append(tally)"
     ],
     "language": "python",
     "metadata": {},
     "outputs": [],
     "prompt_number": 278
    },
    {
     "cell_type": "code",
     "collapsed": false,
     "input": [
      "tallies = []"
     ],
     "language": "python",
     "metadata": {},
     "outputs": [],
     "prompt_number": 279
    },
    {
     "cell_type": "code",
     "collapsed": false,
     "input": [
      "acc = gather_tallies(tallies)"
     ],
     "language": "python",
     "metadata": {},
     "outputs": [],
     "prompt_number": 280
    },
    {
     "cell_type": "code",
     "collapsed": false,
     "input": [
      "next(acc)"
     ],
     "language": "python",
     "metadata": {},
     "outputs": [],
     "prompt_number": 281
    },
    {
     "cell_type": "code",
     "collapsed": false,
     "input": [
      "for i in range(4):\n",
      "    acc.send(i)"
     ],
     "language": "python",
     "metadata": {},
     "outputs": [],
     "prompt_number": 282
    },
    {
     "cell_type": "code",
     "collapsed": false,
     "input": [
      "acc.send(None)"
     ],
     "language": "python",
     "metadata": {},
     "outputs": [],
     "prompt_number": 283
    },
    {
     "cell_type": "code",
     "collapsed": false,
     "input": [
      "for i in range(5):\n",
      "    acc.send(i)"
     ],
     "language": "python",
     "metadata": {},
     "outputs": [],
     "prompt_number": 284
    },
    {
     "cell_type": "code",
     "collapsed": false,
     "input": [
      "acc.send(None)"
     ],
     "language": "python",
     "metadata": {},
     "outputs": [],
     "prompt_number": 285
    },
    {
     "cell_type": "code",
     "collapsed": false,
     "input": [
      "tallies"
     ],
     "language": "python",
     "metadata": {},
     "outputs": [
      {
       "metadata": {},
       "output_type": "pyout",
       "prompt_number": 286,
       "text": [
        "[6, 10]"
       ]
      }
     ],
     "prompt_number": 286
    },
    {
     "cell_type": "code",
     "collapsed": false,
     "input": [
      "sum(range(4))"
     ],
     "language": "python",
     "metadata": {},
     "outputs": [
      {
       "metadata": {},
       "output_type": "pyout",
       "prompt_number": 287,
       "text": [
        "6"
       ]
      }
     ],
     "prompt_number": 287
    },
    {
     "cell_type": "markdown",
     "metadata": {},
     "source": [
      "----"
     ]
    },
    {
     "cell_type": "markdown",
     "metadata": {},
     "source": [
      "- \ub610\ud55c gen_concatenate() \uc11c\ube0c\uc81c\ub108\ub808\uc774\ud130\uc5d0 \ub300\ud55c delegate\ub85c yield from\uc744 \ud65c\uc6a9\ud55c\ub2e4. yield from\ubb38\uc740 gen_concatenate()\uac00 generator it\uc774 \uc0dd\uc131\ud55c \ubaa8\ub4e0 \uac12\uc744 \ubd84\ucd9c\ud558\ub3c4\ub85d \ub9cc\ub4e6\n",
      "- \ub9c8\uc9c0\ub9c9\uc73c\ub85c \ubaa8\ub4e0 \ub370\uc774\ud130 \ucc98\ub9ac \ubb38\uc81c\uc5d0 \ud30c\uc774\ud504\ub77c\uc778 \ubc29\uc2dd\uc744 \uc0ac\uc6a9\ud560 \uc218 \uc5c6\ub2e4\ub294 \uc810 \uae30\uc5b5\n",
      "- \ub54c\ub85c\ub294 \ubaa8\ub4e0 \ub370\uc774\ud130\ub97c \ud55c \ubc88\uc5d0 \ucc98\ub9ac\ud558\uae38 \ubc14\ub784 \uc218 \uc788\uc74c. \ud558\uc9c0\ub9cc \uadf8\ub7f0 \uacbd\uc6b0\ub77c\uace0 \ud574\ub3c4 generator pipeline\uc744 \uc0ac\uc6a9\ud574\uc11c \uc77c\uc758 \uc9c4\ud589\uc744 \uc791\uc740 \ub2e8\uacc4\ub85c \ub098\ub20c \uc218 \uc788\uc74c\n",
      "- \ub354 \ub9ce\uc740 \uc608\uc81c:[Generator Tricks for Systems Programmers](http://www.dabeaz.com/generators/)\n"
     ]
    },
    {
     "cell_type": "markdown",
     "metadata": {},
     "source": [
      "## 4.14 \uc911\ucca9 \uc2dc\ud000\uc2a4 \ud480\uae30\n",
      "\n",
      "### \ubb38\uc81c\n",
      "\n",
      "- \uc911\ucca9\ub41c \uc2dc\ud000\uc2a4\ub97c \ud569\uccd0 \ud558\ub098\uc758 \ub9ac\uc2a4\ud2b8\ub85c \ub9cc\ub4e4\uace0 \uc2f6\ub2e4.\n",
      "\n",
      "### \ud574\uacb0\n",
      "\n",
      "- \uc774 \ubb38\uc81c\ub294 yield from\ubb38\uc774 \uc788\ub294 \uc7ac\uadc0 \uc81c\ub108\ub808\uc774\ud130\ub97c \ub9cc\ub4e4\uc5b4 \uc27d\uac8c \ud574\uacb0"
     ]
    },
    {
     "cell_type": "code",
     "collapsed": false,
     "input": [
      "from collections import Iterable"
     ],
     "language": "python",
     "metadata": {},
     "outputs": [],
     "prompt_number": 290
    },
    {
     "cell_type": "code",
     "collapsed": false,
     "input": [
      "def flatten(items, ignore_types=(str, bytes)):\n",
      "    for x in items:\n",
      "        # bytes\uac00 \ub36e\uc5b4\uc50c\uc6cc\uc838\uc11c \uc624\ub958\uac00 \ub098\ub124. \uc6d0\ub798\ub294 \uc798\ub418\ub294\uac70\n",
      "        # Iterable \ud558\uba74 \uacc4\uc18d \uc774 \ud568\uc218\ub97c \ub3cc\uc544\ub77c \ub77c\uace0 \uc704\uc784\ud568\n",
      "#         if isinstance(x, Iterable) and not isinstance(x, ignore_types):\n",
      "        if isinstance(x, Iterable) and not isinstance(x, str):\n",
      "            yield from flatten(x)\n",
      "        else:\n",
      "            yield x"
     ],
     "language": "python",
     "metadata": {},
     "outputs": [],
     "prompt_number": 323
    },
    {
     "cell_type": "code",
     "collapsed": false,
     "input": [
      "items = [1, 2, [3, 4, [5, 6], 7], 8]"
     ],
     "language": "python",
     "metadata": {},
     "outputs": [],
     "prompt_number": 324
    },
    {
     "cell_type": "code",
     "collapsed": false,
     "input": [
      "for x in flatten(items):\n",
      "    print(x)"
     ],
     "language": "python",
     "metadata": {},
     "outputs": [
      {
       "output_type": "stream",
       "stream": "stdout",
       "text": [
        "1\n",
        "2\n",
        "3\n",
        "4\n",
        "5\n",
        "6\n",
        "7\n",
        "8\n"
       ]
      }
     ],
     "prompt_number": 325
    },
    {
     "cell_type": "code",
     "collapsed": false,
     "input": [
      "items = [1, 2, [3, 4, [5, 6], 5], 8]\n",
      "for x in flatten(items):\n",
      "    print(x)"
     ],
     "language": "python",
     "metadata": {},
     "outputs": [
      {
       "output_type": "stream",
       "stream": "stdout",
       "text": [
        "1\n",
        "2\n",
        "3\n",
        "4\n",
        "5\n",
        "6\n",
        "5\n",
        "8\n"
       ]
      }
     ],
     "prompt_number": 326
    },
    {
     "cell_type": "markdown",
     "metadata": {},
     "source": [
      "- \ucd94\uac00\uc801\uc73c\ub85c **\uc804\ub2ec \uac00\ub2a5\ud55c \uc778\uc790** **ignore_types**\uc640 **not isinstance(x, ignore_types)**\ub85c **\ubb38\uc790\uc5f4**\uacfc **\ubc14\uc774\ud2b8**\uac00 \uc21c\ud658 \uac00\ub2a5\ud55c \uac83\uc73c\ub85c \ud574\uc11d\ub418\uc9c0 \uc54a\ub3c4\ub85d \ud568\n",
      "- \uc774\ub807\uac8c \ud574\uc57c\ub9cc \ub9ac\uc2a4\ud2b8\uc5d0 \ub2f4\uaca8\uc788\ub294 \ubb38\uc790\uc5f4\uc744 \uc804\ub2ec\ud588\uc744 \ub54c **\ubb38\uc790\ub97c \ud558\ub098\ud558\ub098 \ud3bc\uce58\uc9c0 \uc54a\uace0 \ubb38\uc790\uc5f4 \ub2e8\uc704\ub85c \uc804\uac1c**"
     ]
    },
    {
     "cell_type": "code",
     "collapsed": false,
     "input": [
      "items = ['Dave', 'Paula', ['Thomas', 'Lewis']]"
     ],
     "language": "python",
     "metadata": {},
     "outputs": [],
     "prompt_number": 327
    },
    {
     "cell_type": "code",
     "collapsed": false,
     "input": [
      "for x in flatten(items):\n",
      "    print(x)"
     ],
     "language": "python",
     "metadata": {},
     "outputs": [
      {
       "output_type": "stream",
       "stream": "stdout",
       "text": [
        "Dave\n",
        "Paula\n",
        "Thomas\n",
        "Lewis\n"
       ]
      }
     ],
     "prompt_number": 328
    },
    {
     "cell_type": "markdown",
     "metadata": {},
     "source": [
      "### \ud1a0\ub860\n",
      "\n",
      "- \uc11c\ube0c\ub8e8\ud2f4\uc73c\ub85c\uc368 \ub2e4\ub978 generator\ub97c \ud638\ucd9c\ud560 \ub54c yield from\uc744 \uc0ac\uc6a9\ud558\uba74 \ud3b8\ub9ac\ud558\ub2e4. \uc774 \uad6c\ubb38\uc744 \uc0ac\uc6a9\ud558\uc9c0 \uc54a\uc73c\uba74 \ucd94\uac00\uc801\uc778 for\ubb38\uc774 \uc788\ub294 \ucf54\ub4dc\ub97c \uc791\uc131\ud574\uc57c \ud55c\ub2e4."
     ]
    },
    {
     "cell_type": "code",
     "collapsed": false,
     "input": [
      "def flatten(items, ignore_types=(str, bytes)):\n",
      "    for x in items:\n",
      "        if isinstance(x, Iterable) and not isinstance(x, ignore_types):\n",
      "            for i in flatten(x):\n",
      "                yield i\n",
      "        else:\n",
      "            yield x"
     ],
     "language": "python",
     "metadata": {},
     "outputs": [],
     "prompt_number": 329
    },
    {
     "cell_type": "code",
     "collapsed": false,
     "input": [
      "for x in flatten(items):\n",
      "    print(x)"
     ],
     "language": "python",
     "metadata": {},
     "outputs": [
      {
       "output_type": "stream",
       "stream": "stdout",
       "text": [
        "Dave\n",
        "Paula\n"
       ]
      },
      {
       "ename": "TypeError",
       "evalue": "isinstance() arg 2 must be a type or tuple of types",
       "output_type": "pyerr",
       "traceback": [
        "\u001b[0;31m---------------------------------------------------------------------------\u001b[0m\n\u001b[0;31mTypeError\u001b[0m                                 Traceback (most recent call last)",
        "\u001b[0;32m<ipython-input-330-7aa6cc7714f8>\u001b[0m in \u001b[0;36m<module>\u001b[0;34m()\u001b[0m\n\u001b[0;32m----> 1\u001b[0;31m \u001b[0;32mfor\u001b[0m \u001b[0mx\u001b[0m \u001b[0;32min\u001b[0m \u001b[0mflatten\u001b[0m\u001b[0;34m(\u001b[0m\u001b[0mitems\u001b[0m\u001b[0;34m)\u001b[0m\u001b[0;34m:\u001b[0m\u001b[0;34m\u001b[0m\u001b[0m\n\u001b[0m\u001b[1;32m      2\u001b[0m     \u001b[0mprint\u001b[0m\u001b[0;34m(\u001b[0m\u001b[0mx\u001b[0m\u001b[0;34m)\u001b[0m\u001b[0;34m\u001b[0m\u001b[0m\n",
        "\u001b[0;32m<ipython-input-329-98655b2a0f84>\u001b[0m in \u001b[0;36mflatten\u001b[0;34m(items, ignore_types)\u001b[0m\n\u001b[1;32m      1\u001b[0m \u001b[0;32mdef\u001b[0m \u001b[0mflatten\u001b[0m\u001b[0;34m(\u001b[0m\u001b[0mitems\u001b[0m\u001b[0;34m,\u001b[0m \u001b[0mignore_types\u001b[0m\u001b[0;34m=\u001b[0m\u001b[0;34m(\u001b[0m\u001b[0mstr\u001b[0m\u001b[0;34m,\u001b[0m \u001b[0mbytes\u001b[0m\u001b[0;34m)\u001b[0m\u001b[0;34m)\u001b[0m\u001b[0;34m:\u001b[0m\u001b[0;34m\u001b[0m\u001b[0m\n\u001b[1;32m      2\u001b[0m     \u001b[0;32mfor\u001b[0m \u001b[0mx\u001b[0m \u001b[0;32min\u001b[0m \u001b[0mitems\u001b[0m\u001b[0;34m:\u001b[0m\u001b[0;34m\u001b[0m\u001b[0m\n\u001b[0;32m----> 3\u001b[0;31m         \u001b[0;32mif\u001b[0m \u001b[0misinstance\u001b[0m\u001b[0;34m(\u001b[0m\u001b[0mx\u001b[0m\u001b[0;34m,\u001b[0m \u001b[0mIterable\u001b[0m\u001b[0;34m)\u001b[0m \u001b[0;32mand\u001b[0m \u001b[0;32mnot\u001b[0m \u001b[0misinstance\u001b[0m\u001b[0;34m(\u001b[0m\u001b[0mx\u001b[0m\u001b[0;34m,\u001b[0m \u001b[0mignore_types\u001b[0m\u001b[0;34m)\u001b[0m\u001b[0;34m:\u001b[0m\u001b[0;34m\u001b[0m\u001b[0m\n\u001b[0m\u001b[1;32m      4\u001b[0m             \u001b[0;32mfor\u001b[0m \u001b[0mi\u001b[0m \u001b[0;32min\u001b[0m \u001b[0mflatten\u001b[0m\u001b[0;34m(\u001b[0m\u001b[0mx\u001b[0m\u001b[0;34m)\u001b[0m\u001b[0;34m:\u001b[0m\u001b[0;34m\u001b[0m\u001b[0m\n\u001b[1;32m      5\u001b[0m                 \u001b[0;32myield\u001b[0m \u001b[0mi\u001b[0m\u001b[0;34m\u001b[0m\u001b[0m\n",
        "\u001b[0;31mTypeError\u001b[0m: isinstance() arg 2 must be a type or tuple of types"
       ]
      }
     ],
     "prompt_number": 330
    },
    {
     "cell_type": "markdown",
     "metadata": {},
     "source": [
      "- \ud070 \ucc28\uc774\ub294 \uc544\ub2c8\uc9c0\ub9cc yield from\ubb38\uc774 \ub354 \uae54\ub054\ud558\uace0 \ub098\uc740 \ucf54\ub4dc\ub97c \ub9cc\ub4e4\uc5b4 \uc90c\n",
      "- \uc704\uc5d0\uc11c \uc9c0\uc801\ud55c \ub300\ub85c \ubb38\uc790\uc5f4\uacfc \ubc14\uc774\ud2b8\ud615\uc740 \ud558\ub098\ud558\ub098 \ud3bc\uccd0\uc8fc\uc9c0 \uc54a\ub3c4\ub85d \ucc98\ub9ac. \uc774\uc678\uc5d0 \ub610 \ud3bc\uce58\uc9c0 \uc54a\uc744 \ud0c0\uc785\uc774 \uc788\uc73c\uba74 ignore_types \uc778\uc790\uc5d0 \ucd94\uac00\n",
      "- \ub9c8\uc9c0\ub9c9\uc73c\ub85c \uc81c\ub108\ub808\uc774\ud130 \uae30\ubc18\uc758 \ubcd1\ub82c \ucc98\ub9ac\uc5d0\uc11c yield from\uc774 \uc911\uc694\ud55c \uc5ed\ud560\uc744 \ud55c\ub2e4\ub294 \uc810\uc5d0 \uc720\uc758\ud574\uc57c \ud568. \uc774 \ubd80\ubd84\uc740 12.12\uc5d0\uc11c \ub2e4\ub8f8"
     ]
    },
    {
     "cell_type": "markdown",
     "metadata": {},
     "source": [
      "## 4.15 \uc815\ub82c\ub41c \uc5ec\ub7ec \uc2dc\ud000\uc2a4\ub97c \ubcd1\ud569 \ud6c4 \uc21c\ud658\n",
      "\n",
      "### \ubb38\uc81c\n",
      "\n",
      "- \uc815\ub82c\ub41c \uc2dc\ud000\uc2a4\uac00 \uc5ec\ub7ff \uc788\uace0, \uc774\ub4e4\uc744 \ud558\ub098\ub85c \ud569\uce5c \ud6c4 \uc815\ub82c\ub41c \uc2dc\ud000\uc2a4\ub97c \uc21c\ud658\ud558\uace0 \uc2f6\ub2e4.\n",
      "\n",
      "### \ud574\uacb0"
     ]
    },
    {
     "cell_type": "code",
     "collapsed": false,
     "input": [
      "import heapq"
     ],
     "language": "python",
     "metadata": {},
     "outputs": [],
     "prompt_number": 331
    },
    {
     "cell_type": "code",
     "collapsed": false,
     "input": [
      "a = [1, 4, 7, 10]"
     ],
     "language": "python",
     "metadata": {},
     "outputs": [],
     "prompt_number": 332
    },
    {
     "cell_type": "code",
     "collapsed": false,
     "input": [
      "b = [2, 5, 6, 11]"
     ],
     "language": "python",
     "metadata": {},
     "outputs": [],
     "prompt_number": 333
    },
    {
     "cell_type": "code",
     "collapsed": false,
     "input": [
      "for c in heapq.merge(a, b):\n",
      "    print(c)"
     ],
     "language": "python",
     "metadata": {},
     "outputs": [
      {
       "output_type": "stream",
       "stream": "stdout",
       "text": [
        "1\n",
        "2\n",
        "4\n",
        "5\n",
        "6\n",
        "7\n",
        "10\n",
        "11\n"
       ]
      }
     ],
     "prompt_number": 334
    },
    {
     "cell_type": "markdown",
     "metadata": {},
     "source": [
      "### \ud1a0\ub860\n",
      "\n",
      "- heapq.merge\ub294 \uc544\uc774\ud15c\uc5d0 \uc21c\ud658\uc801\uc73c\ub85c \uc811\uadfc\ud558\uba70 \uc81c\uacf5\ud55c \uc2dc\ud000\uc2a4\ub97c \ud55c\uaebc\ubc88\uc5d0 \uc77d\uc9c0 \uc54a\ub294\ub2e4.\n",
      "- \ub530\ub77c\uc11c \uc544\uc8fc \uae34 \uc2dc\ud000\uc2a4\ub3c4 \ubcc4\ub2e4\ub978 \ubb34\ub9ac\uc5c6\uc74c"
     ]
    },
    {
     "cell_type": "code",
     "collapsed": false,
     "input": [
      "import heapq"
     ],
     "language": "python",
     "metadata": {},
     "outputs": [],
     "prompt_number": 335
    },
    {
     "cell_type": "code",
     "collapsed": false,
     "input": [
      "with open('04/delegating-iteration/example.py') as file1, \\\n",
      "    open('04/creating_new_iteration_patterns_with_generators/example.py') as file2, \\\n",
      "    open('04/merge_py.txt', 'wt') as outf:\n",
      "    for line in heapq.merge(file1, file2):\n",
      "        outf.write(line)"
     ],
     "language": "python",
     "metadata": {},
     "outputs": [],
     "prompt_number": 341
    },
    {
     "cell_type": "code",
     "collapsed": false,
     "input": [
      "!cat 04/delegating-iteration/example.py"
     ],
     "language": "python",
     "metadata": {},
     "outputs": [
      {
       "output_type": "stream",
       "stream": "stdout",
       "text": [
        "# Example of delegating iteration to an internal container\r\n",
        "\r\n",
        "class Node:\r\n",
        "    def __init__(self, value):\r\n",
        "        self._value = value\r\n",
        "        self._children = []\r\n",
        "\r\n",
        "    def __repr__(self):\r\n",
        "        return 'Node({!r})'.format(self._value)\r\n",
        "\r\n",
        "    def add_child(self, node):\r\n",
        "        self._children.append(node)\r\n",
        "\r\n",
        "    def __iter__(self):\r\n",
        "        return iter(self._children)\r\n",
        "\r\n",
        "# Example\r\n",
        "if __name__ == '__main__':\r\n",
        "    root = Node(0)\r\n",
        "    child1 = Node(1)\r\n",
        "    child2 = Node(2)\r\n",
        "    root.add_child(child1)\r\n",
        "    root.add_child(child2)\r\n",
        "    for ch in root:\r\n",
        "        print(ch)\r\n",
        "    # Outputs: Node(1), Node(2)\r\n"
       ]
      }
     ],
     "prompt_number": 343
    },
    {
     "cell_type": "code",
     "collapsed": false,
     "input": [
      "!cat 04/creating_new_iteration_patterns_with_generators/example.py"
     ],
     "language": "python",
     "metadata": {},
     "outputs": [
      {
       "output_type": "stream",
       "stream": "stdout",
       "text": [
        "def frange(start, stop, increment):\r\n",
        "    x = start\r\n",
        "    while x < stop:\r\n",
        "        yield x\r\n",
        "        x += increment\r\n",
        "\r\n",
        "for n in frange(0, 4, 0.5):\r\n",
        "    print(n)\r\n"
       ]
      }
     ],
     "prompt_number": 344
    },
    {
     "cell_type": "code",
     "collapsed": false,
     "input": [
      "!cat 04/merge_py.txt"
     ],
     "language": "python",
     "metadata": {},
     "outputs": [
      {
       "output_type": "stream",
       "stream": "stdout",
       "text": [
        "# Example of delegating iteration to an internal container\r\n",
        "\r\n",
        "class Node:\r\n",
        "    def __init__(self, value):\r\n",
        "        self._value = value\r\n",
        "        self._children = []\r\n",
        "\r\n",
        "    def __repr__(self):\r\n",
        "        return 'Node({!r})'.format(self._value)\r\n",
        "\r\n",
        "    def add_child(self, node):\r\n",
        "        self._children.append(node)\r\n",
        "\r\n",
        "    def __iter__(self):\r\n",
        "        return iter(self._children)\r\n",
        "\r\n",
        "# Example\r\n",
        "def frange(start, stop, increment):\r\n",
        "    x = start\r\n",
        "    while x < stop:\r\n",
        "        yield x\r\n",
        "        x += increment\r\n",
        "\r\n",
        "for n in frange(0, 4, 0.5):\r\n",
        "    print(n)\r\n",
        "if __name__ == '__main__':\r\n",
        "    root = Node(0)\r\n",
        "    child1 = Node(1)\r\n",
        "    child2 = Node(2)\r\n",
        "    root.add_child(child1)\r\n",
        "    root.add_child(child2)\r\n",
        "    for ch in root:\r\n",
        "        print(ch)\r\n",
        "    # Outputs: Node(1), Node(2)\r\n"
       ]
      }
     ],
     "prompt_number": 342
    },
    {
     "cell_type": "markdown",
     "metadata": {},
     "source": [
      "- heapq.merge()\uc5d0 \ub123\ub294 \uc2dc\ud000\uc2a4\ub294 \ubaa8\ub450 \uc815\ub82c\ub418\uc5b4 \uc788\uc5b4\uc57c \ud568\n",
      "- \uc774 \ud568\uc218\uc5d0 \uc804\ub2ec\ud55c\ub2e4\uace0 \uc6b0\uc120\uc801\uc73c\ub85c \uc815\ub82c\uc744 \ud558\uc9c0 \uc54a\ub294\ub2e4.\n",
      "- \ub610\ud55c \uc785\ub825\ub41c \ub370\uc774\ud130\uac00 \uc815\ub82c\ub418\uc5b4 \uc788\ub294\uc9c0 \ud655\uc778\ud558\uc9c0\ub3c4 \uc54a\uc74c\n",
      "- \ub2e8\uc9c0 \uc55e\uc5d0\uc11c\ubd80\ud130 \uc77d\uc5b4 \uac00\uba74\uc11c \uac00\uc7a5 \uc791\uc740 \uac83\ubd80\ud130 \ub370\uc774\ud130\ub97c \ucd9c\ub825\ud560 \ubfd0\n",
      "- \uc120\ud0dd\ud55c \uc2dc\ud000\uc2a4\uc5d0\uc11c \uc544\uc774\ud15c\uc744 \uc77d\uace0 \ubaa8\ub4e0 \uc785\ub825\uc744 \uc18c\ube44\ud560 \ub54c\uae4c\uc9c0 \ubc18\ubcf5\uc801\uc73c\ub85c \ucc98\ub9ac"
     ]
    },
    {
     "cell_type": "markdown",
     "metadata": {},
     "source": [
      "## 4.16 \ubb34\ud55c while \uc21c\ud658\ubb38\uc744 \uc774\ud130\ub808\uc774\ud130\ub85c \uce58\ud658\n",
      "\n",
      "### \ubb38\uc81c\n",
      "\n",
      "- \ud568\uc218\ub098 \uc77c\ubc18\uc801\uc774\uc9c0 \uc54a\uc740 \uc870\uac74 \ud14c\uc2a4\ud2b8\ub85c \uc778\ud574 \ubb34\ud55c while \uc21c\ud658\ubb38\uc73c\ub85c \ub370\uc774\ud130\uc5d0 \uc811\uadfc\ud558\ub294 \ucf54\ub4dc\ub97c \ub9cc\ub4e4\uc5c8\ub2e4.\n",
      "\n",
      "### \ud574\uacb0\n",
      "\n",
      "- \uc785\ucd9c\ub825\uacfc \uad00\ub828\uc788\ub294 \ud504\ub85c\uadf8\ub7a8"
     ]
    },
    {
     "cell_type": "code",
     "collapsed": false,
     "input": [
      "CHUNKSIZE = 8192\n",
      "\n",
      "def reader(s):\n",
      "    while True:\n",
      "        data = s.recv(CHUNKSIZE)\n",
      "        if data == b'':\n",
      "            break\n",
      "        process_data(data)"
     ],
     "language": "python",
     "metadata": {},
     "outputs": [],
     "prompt_number": 345
    },
    {
     "cell_type": "markdown",
     "metadata": {},
     "source": [
      "- \uc55e\uc758 \ucf54\ub4dc\ub294 iter()\ub97c \uc0ac\uc6a9\ud574 \ub2e4\uc74c\uacfc \uac19\uc774 \uc218\uc815\ud560 \uc218 \uc788\uc74c"
     ]
    },
    {
     "cell_type": "code",
     "collapsed": false,
     "input": [
      "def reader(s):\n",
      "    for chunk in iter(lambda: s.recv(CHUNKSIZE), b''):\n",
      "        process_data(data)"
     ],
     "language": "python",
     "metadata": {},
     "outputs": [],
     "prompt_number": 347
    },
    {
     "cell_type": "markdown",
     "metadata": {},
     "source": [
      "- \uc815\ub9d0 \uc774 \ucf54\ub4dc\uac00 \ub3d9\uc791\ud558\ub294\uc9c0 \ubbff\uc74c\uc774 \uac00\uc9c0 \uc54a\ub294\ub2e4\uba74 \ud30c\uc77c\uacfc \uad00\ub828\uc788\ub294 \uc608\uc81c\ub97c \uc2e4\ud589\ud574 \ubcf4\uc790"
     ]
    },
    {
     "cell_type": "code",
     "collapsed": false,
     "input": [
      "import sys\n",
      "f = open('04/test.py')\n",
      "for chunk in iter(lambda: f.read(10), ''):\n",
      "    n = sys.stdout.write(chunk)"
     ],
     "language": "python",
     "metadata": {},
     "outputs": [
      {
       "output_type": "stream",
       "stream": "stdout",
       "text": [
        "from collections import Iterable\n",
        "\n",
        "def flatten(items, ignore_types=(str, bytes)):\n",
        "    for x in items:\n",
        "        if isinstance(x, Iterable) and not isinstance(x, str):\n",
        "            yield from flatten(x)\n",
        "        else:\n",
        "            yield x\n",
        "\n",
        "items = [1, 2, [3, 4, [5, 6], 5], 8]\n",
        "for x in flatten(items):\n",
        "    print(x)"
       ]
      }
     ],
     "prompt_number": 348
    },
    {
     "cell_type": "markdown",
     "metadata": {},
     "source": [
      "### \ud1a0\ub860\n",
      "\n",
      "- \ub0b4\uc7a5 \ud568\uc218 iter()\uc758 \uae30\ub2a5\uc740 \uac70\uc758 \uc54c\ub824\uc838 \uc788\uc9c0 \uc54a\uc74c\n",
      "- \uc774 \ud568\uc218\uc5d0\ub294 \uc120\ud0dd\uc801\uc73c\ub85c \uc778\uc790\uc5c6\ub294 \ud638\ucd9c \uac00\ub2a5 \uac1d\uccb4\uc640 \uc885\ub8cc\uac12\uc744 \uc785\ub825\uc73c\ub85c \ubc1b\uc74c\n",
      "- \uc774\ub807\uac8c \uc0ac\uc6a9\ud558\uba74 \uc8fc\uc5b4\uc9c4 \uc885\ub8cc\uac12\uc744 \ubc18\ud658\ud558\uae30 \uc804\uae4c\uc9c0 \ubb34\ud55c\ud788 \ubc18\ubcf5\ud574\uc11c \ud638\ucd9c \uac00\ub2a5 \uac1d\uccb4\ub97c \ud638\ucd9c\n",
      "- \uc774\ub7f0 \ubc29\uc2dd\uc744 \uc0ac\uc6a9\ud558\uba74 \uc785\ucd9c\ub825\uacfc \uad00\ub828\uc788\ub294 \ubc18\ubcf5 \ud638\ucd9c\uc5d0 \uc798 \ub3d9\uc791\n",
      "- \uc608\ub97c \ub4e4\uc5b4 \uc18c\ucf13\uc774\ub098 \ud30c\uc77c\uc5d0\uc11c \ud2b9\uc815 \ud06c\uae30\uc758 \ub370\uc774\ud130\ub97c \uc77d\uc73c\ub824 \ud55c\ub2e4\uba74, \ubc18\ubcf5\uc801\uc73c\ub85c read()\ub098 recv()\ub97c \ud638\ucd9c\ud558\uace0 end-of-file\uc744 \ud655\uc778\ud574\uc57c \ud568\n",
      "- \uc774\ubc88 \ub808\uc2dc\ud53c\ub97c \ub530\ub978\ub2e4\uba74 2\uac00\uc9c0 \ub3d9\uc791\uc744 \ud558\ub098\uc758 iter() \ud638\ucd9c\ub85c \ud569\uce60 \uc218 \uc788\uc74c\n",
      "- lambda\ub97c \uc0ac\uc6a9\ud558\uba74 \uc778\uc790\ub97c \ubc1b\uc9c0 \uc54a\ub294 \ud638\ucd9c \uac1d\uccb4\ub97c \ub9cc\ub4e4 \uc218 \uc788\uace0 \uc6d0\ud558\ub294 \ud06c\uae30\uc758 \uc778\uc790\ub97c recv()\ub098 read()\uc5d0 \uc804\ub2ec\ud55c\ub2e4."
     ]
    }
   ],
   "metadata": {}
  }
 ]
}
{
 "metadata": {
  "name": "",
  "signature": "sha256:6d241827d1aa596a4fbaec46173f0de4117135792d7a99eeb3157018eb192081"
 },
 "nbformat": 3,
 "nbformat_minor": 0,
 "worksheets": [
  {
   "cells": [
    {
     "cell_type": "markdown",
     "metadata": {},
     "source": [
      "# 13. \uc720\ud2f8\ub9ac\ud2f0 \uc2a4\ud06c\ub9bd\ud2b8\uc640 \uc2dc\uc2a4\ud15c \uad00\ub9ac\n",
      "\n",
      "- start: 2014-10-31\n",
      "- end: 2014-11-02\n",
      "\n",
      "\n",
      "- \ub9ce\uc740 \uc0ac\ub78c\ub4e4\uc740 \uc258 \uc2a4\ud06c\ub9bd\ud2b8\ub97c \ub300\uccb4\ud558\ub824\uace0 \ud30c\uc774\uc36c\uc744 \uc0ac\uc6a9\ud558\uace0, \ud30c\uc77c \uad00\ub9ac, \uc2dc\uc2a4\ud15c \ud658\uacbd \uc124\uc815 \ub4f1\uc744 \uc790\ub3d9\ud654\ud568\n",
      "- \uc774\ubc88 \uc7a5\uc758 \uc8fc\uc694 \ubaa9\uc801\uc740 **\uc2a4\ud06c\ub9bd\ud2b8\ub97c \uc791\uc131\ud560 \ub54c \ub9c8\uc8fc\uce58\ub294 \uc77c\ubc18\uc801\uc778 \uc791\uc5c5\uc5d0 \uad00\ub828\ub41c \uae30\ub2a5**\uc744 \ub2e4\ub8e8\ub294 \uac83\n",
      "- \ucee4\ub9e8\ub4dc \ub77c\uc778 \uc635\uc158 \ud30c\uc2f1, \ud30c\uc77c \uc2dc\uc2a4\ud15c\uc760 \ud30c\uc77c \ub2e4\ub8e8\uae30, \uc2dc\uc2a4\ud15c \ud658\uacbd \uc124\uc815 \ub370\uc774\ud130 \uc5bb\uae30 \ub4f1\n",
      "- \ucc38\uace0\ub85c \ud30c\uc77c\uacfc \ub514\ub809\ud1a0\ub9ac\uc5d0 \ub300\ud55c \uc77c\ubc18\uc801\uc778 \ub0b4\uc6a9\uc740 5\uc7a5\uc5d0\uc11c\ub3c4 \uc124\uba85\ud568"
     ]
    },
    {
     "cell_type": "markdown",
     "metadata": {},
     "source": [
      "## 13.1 \ub9ac\ub2e4\uc774\ub809\uc158, \ud30c\uc774\ud504, \uc785\ub825 \ud30c\uc77c\uc744 \ud1b5\ud55c \uc2a4\ud06c\ub9bd\ud2b8 \ubc1b\uae30\n",
      "\n",
      "### \ubb38\uc81c\n",
      "\n",
      "- \uc791\uc131\ud55c \uc2a4\ud06c\ub9bd\ud2b8\uc5d0\uc11c \uc0ac\uc6a9\uc790\uac00 \uac00\uc7a5 \ud3b8\ub9ac\ud55c \ubc29\uc2dd\uc73c\ub85c \uc785\ub825\uc744 \ubc1b\ub3c4\ub85d \ud558\uace0 \uc2f6\uc74c\n",
      "- \uc5ec\uae30\uc5d0\ub294 \uba85\ub839\uc5b4\uc5d0\uc11c \uc2a4\ud06c\ub9bd\ud2b8\ub85c\uc758 \ud30c\uc774\ud504 \ucd9c\ub825, \ud30c\uc77c\uc5d0\uc11c \uc2a4\ud06c\ub9bd\ud2b8\ub85c\uc758 \ub9ac\ub2e4\uc774\ub809\ud2b8, \ud30c\uc77c \uc774\ub984\uc774\ub098 \ud30c\uc77c \uc774\ub984 \ub9ac\uc2a4\ud2b8 \ub4f1\uc744 \ucee4\ub9e8\ub4dc \ub77c\uc778\uc5d0\uc11c \uc2a4\ud06c\ub9bd\ud2b8\ub85c \uc804\ub2ec\ud558\ub294 \uac83\uc774 \ud3ec\ud568\ub418\uc5b4\uc57c \ud568\n",
      "\n",
      "### \ud574\uacb0\n",
      "\n",
      "- \ud30c\uc774\uc36c\uc758 \ub0b4\uc7a5 fileinput \ubaa8\ub4c8\uc744 \uc0ac\uc6a9\ud558\uba74 \uc27d\uac8c \uc774 \ubb38\uc81c\ub97c \ud574\uacb0 \uac00\ub2a5"
     ]
    },
    {
     "cell_type": "code",
     "collapsed": false,
     "input": [
      "!ls -l /usr/bin/env"
     ],
     "language": "python",
     "metadata": {},
     "outputs": [
      {
       "output_type": "stream",
       "stream": "stdout",
       "text": [
        "-rwxr-xr-x  1 root  wheel  14224 Sep 10 07:44 \u001b[31m/usr/bin/env\u001b[m\u001b[m\r\n"
       ]
      }
     ],
     "prompt_number": 2
    },
    {
     "cell_type": "code",
     "collapsed": false,
     "input": [
      "%%writefile 13/filein.py\n",
      "#!/usr/bin/env python3\n",
      "import fileinput\n",
      "\n",
      "with fileinput.input() as f_input:\n",
      "    for line in f_input:\n",
      "        print(line, end='')"
     ],
     "language": "python",
     "metadata": {},
     "outputs": [
      {
       "output_type": "stream",
       "stream": "stdout",
       "text": [
        "Writing 13/filein.py\n"
       ]
      }
     ],
     "prompt_number": 195
    },
    {
     "cell_type": "code",
     "collapsed": false,
     "input": [
      "!ls | 13/filein.py"
     ],
     "language": "python",
     "metadata": {},
     "outputs": [
      {
       "output_type": "stream",
       "stream": "stdout",
       "text": [
        "01\r\n",
        "02\r\n",
        "03\r\n",
        "04\r\n",
        "05\r\n",
        "06\r\n",
        "07\r\n",
        "08\r\n",
        "09\r\n",
        "10\r\n",
        "11\r\n",
        "12\r\n",
        "13\r\n",
        "14\r\n",
        "15\r\n",
        "README.md\r\n",
        "Untitled0.ipynb\r\n",
        "Untitled1.ipynb\r\n",
        "Untitled2.ipynb\r\n",
        "ch01.ipynb\r\n",
        "ch02_01.ipynb\r\n",
        "ch02_02.ipynb\r\n",
        "ch03_01.ipynb\r\n",
        "ch03_02.ipynb\r\n",
        "ch04.ipynb\r\n",
        "ch05_01.ipynb\r\n",
        "ch05_02.ipynb\r\n",
        "ch06.ipynb\r\n",
        "ch07.ipynb\r\n",
        "ch08_01.ipynb\r\n",
        "ch08_02.ipynb\r\n",
        "ch09_01.ipynb\r\n",
        "ch09_02.ipynb\r\n",
        "ch10_01.ipynb\r\n",
        "ch10_02.ipynb\r\n",
        "ch13_01.ipynb\r\n",
        "images\r\n"
       ]
      }
     ],
     "prompt_number": 8
    },
    {
     "cell_type": "code",
     "collapsed": false,
     "input": [
      "!13/filein.py 13/filein.py"
     ],
     "language": "python",
     "metadata": {},
     "outputs": [
      {
       "output_type": "stream",
       "stream": "stdout",
       "text": [
        "#!/usr/bin/env python3\r\n",
        "import fileinput\r\n",
        "\r\n",
        "with fileinput.input() as f_input:\r\n",
        "    for line in f_input:\r\n",
        "        print(line, end='')"
       ]
      }
     ],
     "prompt_number": 12
    },
    {
     "cell_type": "code",
     "collapsed": false,
     "input": [
      "!13/filein.py < 13/filein.py"
     ],
     "language": "python",
     "metadata": {},
     "outputs": [
      {
       "output_type": "stream",
       "stream": "stdout",
       "text": [
        "#!/usr/bin/env python3\r\n",
        "import fileinput\r\n",
        "\r\n",
        "with fileinput.input() as f_input:\r\n",
        "    for line in f_input:\r\n",
        "        print(line, end='')"
       ]
      }
     ],
     "prompt_number": 13
    },
    {
     "cell_type": "markdown",
     "metadata": {},
     "source": [
      "### \ud1a0\ub860\n",
      "\n",
      "- fileinput.input() \ud568\uc218\ub294 FileInput \ud074\ub798\uc2a4\uc758 \uc778\uc2a4\ud134\uc2a4\ub97c \uc0dd\uc131\ud558\uace0 \ubc18\ud658\ud568\n",
      "- \uc5ec\uae30\uc5d0\ub294 \uc720\uc6a9\ud55c \ud5ec\ud37c \uba54\uc18c\ub4dc \uba87 \uac00\uc9c0\uac00 \uc788\uace0 \uc774\ub97c \ucf58\ud0dd\uc2a4\ud2b8 \ub9e4\ub2c8\uc800\ub85c \uc0ac\uc6a9 \uac00\ub2a5\n",
      "- \ub530\ub77c\uc11c \uc5ec\ub7ec \ud30c\uc77c\ub85c\ubd80\ud130 \uacb0\uacfc\ubb3c\uc744 \ucd9c\ub825\ud574\uc57c \ud558\ub294 \uc2a4\ud06c\ub9bd\ud2b8\ub97c \uc791\uc131\ud588\ub2e4\uba74, \ub2e4\uc74c\uacfc \uac19\uc774 \ud30c\uc77c \uc774\ub984\uacfc \uc904 \ubc88\ud638\ub97c \ucd9c\ub825\uc5d0 \ub123\uc744 \uc218 \uc788\uc74c"
     ]
    },
    {
     "cell_type": "code",
     "collapsed": false,
     "input": [
      "import fileinput\n",
      "with fileinput.input('13/filein.py') as f:\n",
      "    for line in f:\n",
      "        print(f.filename(), f.lineno(), line, end='')"
     ],
     "language": "python",
     "metadata": {},
     "outputs": [
      {
       "output_type": "stream",
       "stream": "stdout",
       "text": [
        "13/filein.py 1 #!/usr/bin/env python3\n",
        "13/filein.py 2 import fileinput\n",
        "13/filein.py 3 \n",
        "13/filein.py 4 with fileinput.input() as f_input:\n",
        "13/filein.py 5     for line in f_input:\n",
        "13/filein.py 6         print(line, end='')"
       ]
      }
     ],
     "prompt_number": 15
    },
    {
     "cell_type": "markdown",
     "metadata": {},
     "source": [
      "- \ucf58\ud0dd\uc2a4\ud2b8 \ub9e4\ub2c8\uc800\ub85c \uc0ac\uc6a9\ud558\uba74 \ud30c\uc77c\uc744 \ub354 \uc774\uc0c1 \uc0ac\uc6a9\ud558\uc9c0 \uc54a\uc744 \ub54c \uc790\ub3d9\uc73c\ub85c \ub2eb\uc544\uc90c\n",
      "- FileInput \ud5ec\ud37c \uba54\uc18c\ub4dc\uc758 \ud798\uc744 \ube4c\ub824\uc11c \uba87 \uac00\uc9c0 \ucd94\uac00\uc801\uc778 \uc815\ubcf4\ub97c \ucd9c\ub825\uc73c\ub85c\ubd80\ud130 \uc5bb\uc5c8\uc74c"
     ]
    },
    {
     "cell_type": "markdown",
     "metadata": {},
     "source": [
      "## 13.2 \uc5d0\ub7ec \uba54\uc2dc\uc9c0\uc640 \ud568\uaed8 \ud504\ub85c\uadf8\ub7a8 \uc885\ub8cc\n",
      "\n",
      "### \ubb38\uc81c\n",
      "\n",
      "- \ud45c\uc900 \uc5d0\ub7ec\uc5d0 \uba54\uc2dc\uc9c0\ub97c \ucd9c\ub825\ud558\uace0 0\uc774 \uc544\ub2cc \uc0c1\ud0dc \ucf54\ub4dc\ub97c \ubc18\ud658\ud558\uba70 \ud504\ub85c\uadf8\ub7a8\uc744 \uc885\ub8cc\ud558\ub3c4\ub85d \ud558\uace0 \uc2f6\uc74c\n",
      "\n",
      "### \ud574\uacb0\n",
      "\n",
      "- \uc774\ub807\uac8c \ud504\ub85c\uadf8\ub7a8\uc744 \uc885\ub8cc\ud558\ub824\uba74 SystemExit \uc608\uc678\ub97c \ubc1c\uc0dd\uc2dc\ud0a4\uba74 \ub418\uc9c0\ub9cc, \uc774\ub54c \uc5d0\ub7ec \uba54\uc2dc\uc9c0\ub97c \uc778\uc790\ub85c \ub123\uc5b4\uc57c \ud55c\ub2e4.\n",
      "```python\n",
      "raise SystemExit('It failed!')\n",
      "```\n",
      "- \uc55e\uc5d0 \ub098\uc628 \ucf54\ub4dc\ub97c \uc2e4\ud589\ud558\uba74 sys.stderr\uc5d0 \uba54\uc2dc\uc9c0\ub97c \ucd9c\ub825\ud558\uace0 \uc0c1\ud0dc \ucf54\ub4dc 1\uc744 \ubc18\ud658\ud558\uba70 \ud504\ub85c\uadf8\ub7a8\uc774 \uc885\ub8cc \ub428"
     ]
    },
    {
     "cell_type": "markdown",
     "metadata": {},
     "source": [
      "### \ud1a0\ub860\n",
      "\n",
      "- \uc774\ubc88 \ub808\uc2dc\ud53c\uc758 \uaddc\ubaa8\ub294 \uc791\uc9c0\ub9cc \uc2a4\ud06c\ub9bd\ud2b8\ub97c \uc791\uc131\ud560 \ub54c \ubc1c\uc0dd\ud558\ub294 \uc77c\ubc18\uc801\uc778 \ubb38\uc81c\ub97c \ud574\uacb0\ud574 \ubcf8\ub2e4.\n",
      "- \ud504\ub85c\uadf8\ub7a8\uc744 \uc62c\ubc14\ub974\uac8c \uc885\ub8cc\ud558\uae30 \uc704\ud574\uc11c \ub2e4\uc74c\uacfc \uac19\uc740 \ucf54\ub4dc\ub97c \uc791\uc131\ud558\uba74 \ub41c\ub2e4.\n",
      "```python\n",
      "import sys\n",
      "sys.stderr.write('It failed!\\n')\n",
      "raise SystemExit(1)\n",
      "```\n",
      "\n",
      "- import\ub098 sys.stderr\uc5d0 \uc4f0\uae30\uc640 \uad00\ub828\ud558\uc5ec \ucd94\uac00\uc801\uc778 \uc791\uc5c5\uc774 \uc804\ud600 \ud544\uc694 \uc5c6\uc73c\uba70, \ub2e8\uc21c\ud788 SystemExit()\uc5d0 \ubbf8\uc2dc\uc9c0\ub97c \ub123\uae30\ub9cc \ud558\uba74 \ub428"
     ]
    },
    {
     "cell_type": "markdown",
     "metadata": {},
     "source": [
      "## 13.3 \ucee4\ub9e8\ub4dc \ub77c\uc778 \uc635\uc158 \ud30c\uc2f1\n",
      "\n",
      "### \ubb38\uc81c\n",
      "\n",
      "- \ucee4\ub9e8\ub4dc \ub77c\uc778\uc5d0 \uc8fc\uc5b4\uc9c4 \uc635\uc158\uc744 \ud30c\uc2f1\ud558\ub294 \ud504\ub85c\uadf8\ub7a8\uc744 \uc791\uc131\ud558\uace0 \uc2f6\ub2e4(sys.argv\uc5d0 \ub2f4\uaca8\uc788\ub2e4)\n",
      "\n",
      "### \ud574\uacb0\n",
      "\n",
      "- \ucee4\ub9e8\ub4dc \ub77c\uc778 \uc635\uc158\uc744 \ud30c\uc2f1\ud558\ub824\uba74 argparse \ubaa8\ub4c8\uc744 \uc0ac\uc6a9\ud568\n",
      "- \ud575\uc2ec \uae30\ub2a5\uc744 \uc124\uba85\ud558\uae30 \uc704\ud574 \uac04\ub2e8\ud55c \uc608\uc81c\ub97c \ubcf4\uc790"
     ]
    },
    {
     "cell_type": "code",
     "collapsed": false,
     "input": [
      "%%writefile 13/search.py\n",
      "# -*- coding: utf-8\n",
      "'''\ud558\ub098 \ud639\uc740 \uadf8 \uc774\uc0c1\uc758 \ud14d\uc2a4\ud2b8 \ud328\ud134\uc5d0 \ub300\ud55c \ud30c\uc77c\uc744 \ucc3e\uae30 \uc704\ud55c \uac00\uc0c1\uc758 \ucee4\ub9e8\ub4dc \ub77c\uc778 \ub3c4\uad6c'''\n",
      "import argparse\n",
      "parser = argparse.ArgumentParser(description='Search some files')\n",
      "parser.add_argument(dest='filenames', metavar='filename', nargs='*')\n",
      "parser.add_argument('-p', '--pat', metavar='pattern', required=True,\n",
      "                    dest='patterns', action='append',\n",
      "                    help='text pattern to search for')\n",
      "parser.add_argument('-v', dest='verbose', action='store_true',\n",
      "                    help='verbose mode')\n",
      "parser.add_argument('-o', dest='outfile', action='store',\n",
      "                    help='output file')\n",
      "parser.add_argument('--speed', dest='speed', action='store',\n",
      "                    choices={'slow', 'fast'}, default='slow',\n",
      "                    help='search speed')\n",
      "\n",
      "args = parser.parse_args()\n",
      "\n",
      "# \uc218\uc9d1\ud55c \uc778\uc790\ub97c \ucd9c\ub825\n",
      "print(args.filenames)\n",
      "print(args.patterns)\n",
      "print(args.verbose)\n",
      "print(args.outfile)\n",
      "print(args.speed)"
     ],
     "language": "python",
     "metadata": {},
     "outputs": [
      {
       "output_type": "stream",
       "stream": "stdout",
       "text": [
        "Overwriting 13/search.py\n"
       ]
      }
     ],
     "prompt_number": 21
    },
    {
     "cell_type": "markdown",
     "metadata": {},
     "source": [
      "- \uc774 \ud504\ub85c\uadf8\ub7a8\uc740 \ub2e4\uc74c\uacfc \uac19\uc774 \uc0ac\uc6a9\ud558\ub294 \ucee4\ub9e8\ub4dc \ub77c\uc778 \ud30c\uc11c\ub97c \uc815\uc758\ud568"
     ]
    },
    {
     "cell_type": "code",
     "collapsed": false,
     "input": [
      "%run 13/search.py -h"
     ],
     "language": "python",
     "metadata": {},
     "outputs": [
      {
       "output_type": "stream",
       "stream": "stdout",
       "text": [
        "usage: search.py [-h] -p pattern [-v] [-o OUTFILE] [--speed {fast,slow}]\n",
        "                 [filename [filename ...]]\n",
        "\n",
        "Search some files\n",
        "\n",
        "positional arguments:\n",
        "  filename\n",
        "\n",
        "optional arguments:\n",
        "  -h, --help            show this help message and exit\n",
        "  -p pattern, --pat pattern\n",
        "                        text pattern to search for\n",
        "  -v                    verbose mode\n",
        "  -o OUTFILE            output file\n",
        "  --speed {fast,slow}   search speed\n"
       ]
      }
     ],
     "prompt_number": 22
    },
    {
     "cell_type": "code",
     "collapsed": false,
     "input": [
      "%run 13/search.py foo.txt bar.txt"
     ],
     "language": "python",
     "metadata": {},
     "outputs": [
      {
       "output_type": "stream",
       "stream": "stderr",
       "text": [
        "usage: search.py [-h] -p pattern [-v] [-o OUTFILE] [--speed {fast,slow}]\n",
        "                 [filename [filename ...]]\n",
        "search.py: error: the following arguments are required: -p/--pat\n"
       ]
      },
      {
       "ename": "SystemExit",
       "evalue": "2",
       "output_type": "pyerr",
       "traceback": [
        "An exception has occurred, use %tb to see the full traceback.\n",
        "\u001b[0;31mSystemExit\u001b[0m\u001b[0;31m:\u001b[0m 2\n"
       ]
      }
     ],
     "prompt_number": 23
    },
    {
     "cell_type": "markdown",
     "metadata": {},
     "source": [
      "- \ub2e4\uc74c \uc138\uc158\uc740 \ud504\ub85c\uadf8\ub7a8\uc5d0\uc11c \ub370\uc774\ud130\uac00 \uc5b4\ub5bb\uac8c \ub098\ud0c0\ub098\ub294\uc9c0 \ubcf4\uc5ec\uc90c\n",
      "- print()\ubb38\uc758 \uacb0\uacfc\ub97c \uc798 \uc0b4\ud3b4\ubcf4\uc790"
     ]
    },
    {
     "cell_type": "code",
     "collapsed": false,
     "input": [
      "%run 13/search.py -v -p spam --pat=eggs foo.txt bar.txt"
     ],
     "language": "python",
     "metadata": {},
     "outputs": [
      {
       "output_type": "stream",
       "stream": "stdout",
       "text": [
        "['foo.txt', 'bar.txt']\n",
        "['spam', 'eggs']\n",
        "True\n",
        "None\n",
        "slow\n"
       ]
      }
     ],
     "prompt_number": 24
    },
    {
     "cell_type": "code",
     "collapsed": false,
     "input": [
      "%run 13/search.py -v -p spam --pat=eggs foo.txt bar.txt -o results"
     ],
     "language": "python",
     "metadata": {},
     "outputs": [
      {
       "output_type": "stream",
       "stream": "stdout",
       "text": [
        "['foo.txt', 'bar.txt']\n",
        "['spam', 'eggs']\n",
        "True\n",
        "results\n",
        "slow\n"
       ]
      }
     ],
     "prompt_number": 25
    },
    {
     "cell_type": "code",
     "collapsed": false,
     "input": [
      "%run 13/search.py -v -p spam --pat=eggs foo.txt bar.txt -o results --speed=fast"
     ],
     "language": "python",
     "metadata": {},
     "outputs": [
      {
       "output_type": "stream",
       "stream": "stdout",
       "text": [
        "['foo.txt', 'bar.txt']\n",
        "['spam', 'eggs']\n",
        "True\n",
        "results\n",
        "fast\n"
       ]
      }
     ],
     "prompt_number": 26
    },
    {
     "cell_type": "markdown",
     "metadata": {},
     "source": [
      "- \uc635\uc158\uc5d0 \ub300\ud55c \ucd94\uac00\uc801\uc778 \ucc98\ub9ac\ub294 \ud504\ub85c\uadf8\ub7a8\uc5d0 \ub2ec\ub824\uc788\uc74c\n",
      "- print() \ud568\uc218\ub97c \uc870\uae08 \ub354 \ud765\ubbf8\ub85c\uc6b4 \ub0b4\uc6a9\uc73c\ub85c \ubc14\uafd4\ubcf4\uc790"
     ]
    },
    {
     "cell_type": "markdown",
     "metadata": {},
     "source": [
      "### \ud1a0\ub860\n",
      "\n",
      "- argparse \ubaa8\ub4c8\uc740 \ud45c\uc900 \ub77c\uc774\ube0c\ub7ec\ub9ac\uc5d0\uc11c \uac00\uc7a5 \ud070 \ubaa8\ub4c8\uc911 \ud558\ub098\uc778\ub370, \uc0c1\ub2f9\ud788 \ub9ce\uc740 \uc124\uc815 \uc635\uc158\uc744 \uac00\uc9c0\uace0 \uc788\uc74c\n",
      "- \uc774\ubc88 \ub808\uc2dc\ud53c\ub294 \uc774 \uc911 \ud575\uc2ec\uc774 \ub418\ub294 \uba87 \uac00\uc9c0\ub97c \uc124\uba85\ud568\n",
      "- \uc635\uc158\uc744 \ud30c\uc2f1\ud558\uae30 \uc704\ud574\uc11c, \uc6b0\uc120 ArgmentParser \uc778\uc2a4\ud134\uc2a4\ub97c \ub9cc\ub4e4\uace0 add_argument(0 \uba54\uc18c\ub4dc\ub85c \uc9c0\uc6d0\ud558\ub824\ub294 \uc635\uc158\uc5d0 \ub300\ud55c \uc120\uc5b8\uc744 \ucd94\uac00\ud568\n",
      "- add_argument() \ud638\ucd9c\uc744 \ud560 \ub54c\ub9c8\ub2e4, dest \uc778\uc790\uc5d0 \ud30c\uc2f1\uc758 \uacb0\uacfc\uac00 \uc704\uce58\ud560 \uc18d\uc131\uc758 \uc774\ub984\uc744 \uba85\uc2dc\ud568\n",
      "- metavar \uc778\uc790\ub294 \ub3c4\uc6c0\ub9d0 \uba54\uc2dc\uc9c0\ub97c \uc0dd\uc131\ud560 \ub54c \uc0ac\uc6a9\ud568\n",
      "- action\uc740 \uc778\uc790 \uad00\ub828 \ucc98\ub9ac\ub97c \uba85\uc2dc\ud560 \ub54c \uc0ac\uc6a9\ud558\uace0\n",
      "- store\uc5d0\ub294 \uac12\uc744 \uc800\uc7a5\n",
      "- append\ub294 \uc5ec\ub7ec \uc778\uc790\uac12\uc744 \ud558\ub098\uc758 \ub9ac\uc2a4\ud2b8\uc5d0 \uc218\uc9d1\ud560 \ub54c \uc0ac\uc6a9\ud568\n",
      "- \ub2e4\uc74c \uc778\uc790\ub294 \ucd94\uac00\uc801\uc778 \ucee4\ub9e8\ub4dc\ub77c\uc778 \uc778\uc790\ub97c \ub9ac\uc2a4\ud2b8\uc5d0 \uc218\uc9d1\ud568\n",
      "\n",
      "\n",
      "- \ub2e4\uc74c \uc608\uc81c\ub294 \ud30c\uc77c \uc774\ub984\uc758 \ub9ac\uc2a4\ud2b8\ub97c \ub9cc\ub4dc\ub294\ub370 \uc0ac\uc6a9\ud588\uc74c\n",
      "```python\n",
      "parser.add_argument(dest=filenames, metavar='filename', nargs='*')\n",
      "```\n",
      "\n",
      "- \ub2e4\uc74c \uc778\uc790\ub294 \uc778\uc790\uac00 \uc81c\uacf5\ub418\uc5c8\ub294\uc9c0 \uc5ec\ubd80\uc5d0 \ub530\ub77c Boolean \ud50c\ub798\uadf8\ub97c \uc124\uc815\ud568\n",
      "```python\n",
      "parser.add_argument('-v', dest='outfile', action='store',\n",
      "help='output file')\n",
      "```\n",
      "\n",
      "- \ub2e4\uc74c \uc778\uc790\ub294 \ud558\ub098\uc758 \uac12\uc744 \ubc1b\uc544\uc11c \ubb38\uc790\uc5f4\ub85c \uc800\uc7a5\n",
      "```python\n",
      "parser.add_argument('-o', dest='outfile', action='store',\n",
      "help='output file')\n",
      "```\n",
      "\n",
      "- \ub2e4\uc74c \uc778\uc790\ub294 \ud558\ub098\uc758 \uc778\uc790\ub97c \uc5ec\ub7ec \ubc88 \ubc18\ubcf5\ud560 \uc218 \uc788\ub3c4\ub85d \ud558\uace0, \ubaa8\ub4e0\uac12\uc744 \ud558\ub098\uc758 \ub9ac\uc2a4\ud2b8\uc5d0 \ucd94\uac00\ud568\n",
      "- required \ud50c\ub798\uadf8\ub294 \uc774 \uc778\uc790\uac00 \ucd5c\uc18c \ud55c \ubc88\uc740 \ub098\ud0c0\ub098\uc57c \ud568\uc744 \uc758\ubbf8\ud568\n",
      "- -p\uc640 --pat\uc744 \ub458 \ub2e4 \uc0ac\uc6a9\ud588\uc73c\ubbc0\ub85c \uc774 \uc911 \ud558\ub098\ub97c \uace8\ub77c\uc11c \uc0ac\uc6a9\ud560 \uc218 \uc788\uc74c\n",
      "```python\n",
      "parser.add_argument('-p', '--pat', metavar='pattern', required=True,\n",
      "dest='patterns', action='append',\n",
      "help='text pattern to search for')\n",
      "```\n",
      "\n",
      "- \ub9c8\uc9c0\ub9c9\uc73c\ub85c, \ub2e4\uc74c \uc778\uc790\ub294 \uac12\uc744 \ubc1b\uace0 \uadf8 \uac12\uc774 \uac00\ub2a5\ud55c\uc9c0 \uc5ec\ubd80\ub97c \ud6c4\ubcf4\ub4e4 \uc0ac\uc774\uc5d0\uc11c \ud655\uc778\ud568\n",
      "```python\n",
      "parser.add_argument('--speed', dest='speed', action='store',\n",
      "choices={'slow', 'fast'}, default='slow',\n",
      "help='search speed')\n",
      "```\n",
      "\n",
      "- \uc635\uc158\uc744 \uba85\uc2dc\ud55c \ud6c4\uc5d0\ub294 parser.parse() \uba54\uc18c\ub4dc\ub97c \uc2e4\ud589\ud568\n",
      "- \uc774\ub807\uac8c \ud558\uba74 sys.argv \uac12\uc744 \ucc98\ub9ac\ud558\uace0 \uacb0\uacfc\ub97c \ub2f4\uc740 \uc778\uc2a4\ud134\uc2a4\ub97c \ubc18\ud658\ud568\n",
      "- \uac01 \uc778\uc790\uc5d0 \ub300\ud55c \uacb0\uacfc\ub294 add_argument()\uc5d0\uc11c dest \ud30c\ub77c\ubbf8\ud130\uc5d0 \ub123\uc740 \uc774\ub984\uc758 \uc18d\uc131\uc5d0 \uc704\uce58\ud568\n",
      "- \ucee4\ub9e8\ub4dc \ub77c\uc778 \uc635\uc158\uc744 \ud30c\uc2f1\ud558\ub294 \ubc29\ubc95\uc774 \uba87 \uac00\uc9c0 \ub354 \uc874\uc7ac\ud568\n",
      "- \uc608\ub97c \ub4e4\uc5b4 sys.argv\ub97c \uc2a4\uc2a4\ub85c \ucc98\ub9ac\ud558\uac70\ub098 getopt \ubaa8\ub4c8(\uc720\uc0ac\ud55c \uc774\ub984\uc758 C \ub77c\uc774\ube0c\ub7ec\ub9ac\ub97c \ub530\ub77c \ubaa8\ub378\ub41c \uac83)\uc744 \uc0ac\uc6a9\ud568\n",
      "- \ud558\uc9c0\ub9cc \uc774 \ubc29\uc2dd\uc744 \uc0ac\uc6a9\ud558\uba74 \uacb0\uad6d argparse\uac00 \uc774\ubbf8 \uc81c\uacf5\ud558\ub294 \uae30\ub2a5\uc744 \uc9c1\uc811 \ucf54\ub529\ud558\uac8c \ub420 \uac83\uc784\n",
      "- \uadf8\ub9ac\uace0 optparse \ub77c\uc774\ube0c\ub7ec\ub9ac\ub85c \uc635\uc158\uc744 \ud30c\uc2f1\ud558\ub294 \ucf54\ub4dc\ub97c \ubcf8 \uc801\uc774 \uc788\uc744\uac83\n",
      "- optparse\ub294 argparse\uc640 \ub9e4\uc6b0 \uc720\uc0ac\ud558\uc9c0\ub9cc, \ub354 \ud604\ub300\uc801\uc778 argparse\ub97c \uad8c\uc7a5\ud568\n",
      ">Note: optparse\ub294 python 2 \ubc84\uc804\uc5d0\uc11c\ub3c4 \uac00\ub2a5\ud558\uae30 \ub54c\ubb38\uc5d0 \uac1c\uc778\uc801\uc778 \uc0dd\uac01\uc73c\ub85c\ub294 \uc774\uac8c \ub354 \uc88b\ub2e4\uace0 \uc0dd\uac01\ub41c\ub2e4. "
     ]
    },
    {
     "cell_type": "markdown",
     "metadata": {},
     "source": [
      "## 13.4 \uc554\ud638 \uc785\ub825 \ubc1b\uae30\n",
      "\n",
      "### \ubb38\uc81c\n",
      "\n",
      "- \uc554\ud638 \uc785\ub825\uc744 \ubc1b\ub294 \uc2a4\ud06c\ub9bd\ud2b8\ub97c \uc791\uc131\ud588\ub2e4. \ud558\uc9c0\ub9cc \uc2a4\ud06c\ub9bd\ud2b8\uc5d0 \uc554\ud638\ub97c \ud558\ub4dc\ucf54\ub529\ud558\uc9c0 \uc54a\uace0 \uc0ac\uc6a9\uc790\uac00 \uc554\ud638\ub97c \uc9c1\uc811 \uc785\ub825\ud558\ub3c4\ub85d \ud558\uace0 \uc2f6\ub2e4\n",
      "\n",
      "### \ud574\uacb0\n",
      "\n",
      "- \uc774 \ubb38\uc81c\ub97c \ud574\uacb0\ud558\ub824\uba74 \ud30c\uc774\uc36c\uc758 getpass \ubaa8\ub4c8\uc744 \uc0ac\uc6a9\ud568\n",
      "- \uc774 \ubaa8\ub4c8\uc744 \uc0ac\uc6a9\ud558\uba74 \uc0ac\uc6a9\uc790\uc758 \ud130\ubbf8\ub110 \ud654\uba74\uc5d0 \uc554\ud638\ub97c \ud45c\uc2dc\ud558\uc9c0 \uc54a\uace0 \uc548\uc804\ud558\uac8c \uc785\ub825\uc744 \ubc1b\uc744 \uc218 \uc788\uc74c"
     ]
    },
    {
     "cell_type": "code",
     "collapsed": false,
     "input": [
      "%%writefile 13/test_getpass.py\n",
      "# -*- coding: utf-8\n",
      "import getpass\n",
      "\n",
      "# user = getpass.getuser()\n",
      "user = input('Enter your username: ')\n",
      "print(user)\n",
      "passwd = getpass.getpass()\n",
      "print(passwd)\n",
      "\n",
      "def svc_login(user, passwd):\n",
      "    if user == 'user' and passwd == 'passwd':\n",
      "        return True\n",
      "    return False\n",
      "\n",
      "if svc_login(user, passwd):\n",
      "    print('Yay!')\n",
      "else:\n",
      "    print('Boo!')"
     ],
     "language": "python",
     "metadata": {},
     "outputs": [
      {
       "output_type": "stream",
       "stream": "stdout",
       "text": [
        "Writing 13/test_getpass.py\n"
       ]
      }
     ],
     "prompt_number": 196
    },
    {
     "cell_type": "markdown",
     "metadata": {},
     "source": [
      ">Note: \ucee4\ub9e8\ub4dc\ub77c\uc778\uc5d0\uc11c \uc5d0\ub7ec\uac00 \ubc1c\uc0dd\ud55c \uc774\uc720\n",
      "- intput\uacfc print\uac00 python3 \ubb38\ubc95\uc73c\ub85c \uc791\uc131\ub418\uc5b4 \uc788\uc74c\n",
      "- \uadf8\ub7f0\ub370 \ucee4\ub9e8\ub4dc\ub77c\uc778\uc5d0\uc11c python 13/test_getpass.py \uc73c\ub85c \ud558\ub2c8\uae4c \ub2f9\uc5f0\ud788 input\uc744 \uc54c\uc544\ub4e3\uc9c0 \ubabb\ud558\uace0 \uc5d0\ub7ec\ub0a8\n",
      "- \uc65c\ub0d0\ud558\uba74 python 2.7 \ubc84\uc804\uc774\uae30 \ub54c\ubb38\uc5d0"
     ]
    },
    {
     "cell_type": "markdown",
     "metadata": {},
     "source": [
      "- \uc774 \ucf54\ub4dc\uc5d0\uc11c svc_login() \ud568\uc218\uc5d0\uc11c \uc785\ub825\ubc1b\uc740 \uc554\ud638\ub97c \ucc98\ub9ac\ud574\uc57c \ud558\ubbc0\ub85c \uc774 \ubd80\ubd84\uc740 \uc9c1\uc811 \uc791\uc131\ud558\ub3c4\ub85d \ud55c\ub2e4. \ubb3c\ub860 \ub0b4\uc6a9\uc740 \uc560\ud50c\ub9ac\ucf00\uc774\uc158\ub9c8\ub2e4 \ub2ec\ub77c\uc9d0"
     ]
    },
    {
     "cell_type": "markdown",
     "metadata": {},
     "source": [
      "### \ud1a0\ub860\n",
      "\n",
      "- \uc55e\uc758 \uc608\uc81c\uc5d0\uc11c getpass.getuser()\uac00 \uc0ac\uc6a9\uc790\ub85c\ubd80\ud130 \uc774\ub984\uc744 \uc9c1\uc811 \uc785\ub825\ubc1b\uc9c0\ub294 \uc54a\uc74c\n",
      "- \uadf8 \ub300\uc2e0 \uc0ac\uc6a9\uc790\uc758 \ud658\uacbd \uc124\uc815\uc5d0 \ub530\ub77c \ud604\uc7ac \uc0ac\uc6a9\uc790\uc758 \ub85c\uadf8\uc778 \uc774\ub984\uc744 \uc0ac\uc6a9\ud558\uac70\ub098, \uadf8 \uc815\ubcf4\uac00 \uc5c6\uc73c\uba74 \ub85c\uceec \uc2dc\uc2a4\ud15c\uc758 \uc554\ud638 \ub370\uc774\ud130\ubca0\uc774\uc2a4\uc5d0 \uc788\ub294 \ub0b4\uc6a9\uc744 \uc0ac\uc6a9\ud568(pwd \ubaa8\ub4c8\uc744 \uc9c0\uc6d0\ud558\ub294 \ud50c\ub7ab\ud3fc\uc5d0\uc11c)\n",
      "- \ub9cc\uc57d \uc0ac\uc6a9\uc790 \uc774\ub984\uc744 \uc9c1\uc811 \uc785\ub825\ubc1b\uace0 \uc2f6\ub2e4\uba74 \ub0b4\uc7a5 \ud568\uc218\uc778 input\uc744 \uc0ac\uc6a9\ud568\n",
      "```python\n",
      "user = input('Enter your username: ')\n",
      "```\n",
      "\n",
      "- \ud2b9\uc815 \uc2dc\uc2a4\ud15c\uc5d0\uc11c\ub294 getpass() \uba54\uc18c\ub4dc\ub97c \uc0ac\uc6a9\ud574\ub3c4 \ud654\uba74 \uc0c1\uc5d0 \uc785\ub825\uc911\uc778 \ub0b4\uc6a9\uc744 \uadf8\ub300\ub85c \ucd9c\ub825\ud558\uae30\ub3c4 \ud568\n",
      "- \uc774 \uacbd\uc6b0 \ud30c\uc774\uc36c\uc740 \uc774\ub7f0 \ubb38\uc81c\uac00 \uc788\ub2e4\uace0 \ubbf8\ub9ac \uacbd\uace0\ud568(\uc554\ud638\uac00 \ud654\uba74\uc5d0 \ud45c\uc2dc\ub420 \uac83\uc774\ub77c\uace0 \uacbd\uace0\ud568)"
     ]
    },
    {
     "cell_type": "markdown",
     "metadata": {},
     "source": [
      "## 13.5 \ud130\ubbf8\ub110 \ud06c\uae30 \uad6c\ud558\uae30\n",
      "\n",
      "### \ubb38\uc81c\n",
      "\n",
      "- \ud504\ub85c\uadf8\ub7a8\uc758 \ucd9c\ub825\uc744 \uc870\uc808\ud558\uae30 \uc704\ud574 \ud130\ubbf8\ub110 \ud06c\uae30\ub97c \uc54c\uc544\ub0b4\uc57c \ud568\n",
      "\n",
      "### \ud574\uacb0\n",
      "\n",
      "- os.get_terminal_size() \ud568\uc218\ub97c \uc0ac\uc6a9\ud568"
     ]
    },
    {
     "cell_type": "code",
     "collapsed": false,
     "input": [
      "import os\n",
      "sz = os.get_terminal_size()\n",
      "sz"
     ],
     "language": "python",
     "metadata": {},
     "outputs": [
      {
       "metadata": {},
       "output_type": "pyout",
       "prompt_number": 47,
       "text": [
        "os.terminal_size(columns=135, lines=61)"
       ]
      }
     ],
     "prompt_number": 47
    },
    {
     "cell_type": "code",
     "collapsed": false,
     "input": [
      "sz.columns"
     ],
     "language": "python",
     "metadata": {},
     "outputs": [
      {
       "metadata": {},
       "output_type": "pyout",
       "prompt_number": 48,
       "text": [
        "135"
       ]
      }
     ],
     "prompt_number": 48
    },
    {
     "cell_type": "code",
     "collapsed": false,
     "input": [
      "sz.lines"
     ],
     "language": "python",
     "metadata": {},
     "outputs": [
      {
       "metadata": {},
       "output_type": "pyout",
       "prompt_number": 49,
       "text": [
        "61"
       ]
      }
     ],
     "prompt_number": 49
    },
    {
     "cell_type": "markdown",
     "metadata": {},
     "source": [
      "### \ud1a0\ub860\n",
      "\n",
      "- \ud658\uacbd \ubcc0\uc218\ub97c \uc77d\uc5b4 \uc624\uae30, ioctl()\uacfc TTY \uad00\ub828 \ud558\uc704 \ub808\ubca8 \uc2dc\uc2a4\ud15c \ud638\ucd9c\ud558\uae30 \ub4f1 \ud130\ubbf8\ub110 \ud06c\uae30\ub97c \uad6c\ud558\ub294 \ubc29\ubc95\uc774 \ub9ce\uc774 \uc788\ub2e4.\n",
      "- \ud558\uc9c0\ub9cc \uc55e\uc5d0 \uc124\uba85\ud55c \ud568\uc218\uac00 \uc788\ub294\ub370 \uc774\ub7f0 \ubcf5\uc7a1\ud55c \ubc29\ubc95\uc744 \uc0ac\uc6a9\ud560 \uc774\uc720\uac00 \uc804\ud600 \uc5c6\ub2e4."
     ]
    },
    {
     "cell_type": "markdown",
     "metadata": {},
     "source": [
      "## 13.6 \uc678\ubd80 \uba85\ub839\uc744 \uc2e4\ud589\ud558\uace0 \uacb0\uacfc \uc5bb\uae30\n",
      "\n",
      "### \ubb38\uc81c\n",
      "\n",
      "- \uc678\ubd80 \uba85\ub839\uc744 \uc2e4\ud589\ud558\uace0 \uacb0\uacfc\ub97c \ud30c\uc774\uc36c \ubb38\uc790\uc5f4\ub85c \uc5bb\uace0 \uc2f6\ub2e4\n",
      "\n",
      "### \ud574\uacb0\n",
      "\n",
      "- subprocess.check_output() \ud568\uc218\ub97c \uc0ac\uc6a9\ud55c\ub2e4"
     ]
    },
    {
     "cell_type": "code",
     "collapsed": false,
     "input": [
      "import subprocess\n",
      "out_bytes = subprocess.check_output(['ls', '-l'])\n",
      "d = str(out_bytes).split('\\\\n')\n",
      "from pprint import pprint\n",
      "pprint(d)"
     ],
     "language": "python",
     "metadata": {},
     "outputs": [
      {
       "output_type": "stream",
       "stream": "stdout",
       "text": [
        "[\"b'total 3680\",\n",
        " 'drwxr-xr-x  19 re4lfl0w  staff     646 Oct  1 16:11 01',\n",
        " 'drwxr-xr-x  20 re4lfl0w  staff     680 Oct  5 13:01 02',\n",
        " 'drwxr-xr-x   5 re4lfl0w  staff     170 Oct  4 03:34 03',\n",
        " 'drwxr-xr-x  15 re4lfl0w  staff     510 Oct 11 17:57 04',\n",
        " 'drwxr-xr-x  27 re4lfl0w  staff     918 Oct  6 10:28 05',\n",
        " 'drwxr-xr-x  13 re4lfl0w  staff     442 Oct  8 10:22 06',\n",
        " 'drwxr-xr-x   9 re4lfl0w  staff     306 Oct  1 07:01 07',\n",
        " 'drwxr-xr-x  26 re4lfl0w  staff     884 Oct  1 07:01 08',\n",
        " 'drwxr-xr-x  25 re4lfl0w  staff     850 Oct  1 07:01 09',\n",
        " 'drwxr-xr-x  17 re4lfl0w  staff     578 Oct 11 12:11 10',\n",
        " 'drwxr-xr-x  14 re4lfl0w  staff     476 Oct  1 07:01 11',\n",
        " 'drwxr-xr-x  15 re4lfl0w  staff     510 Oct  1 07:01 12',\n",
        " 'drwxr-xr-x  16 re4lfl0w  staff     544 Oct 31 12:42 13',\n",
        " 'drwxr-xr-x   9 re4lfl0w  staff     306 Oct  1 07:01 14',\n",
        " 'drwxr-xr-x  21 re4lfl0w  staff     714 Oct  1 07:01 15',\n",
        " '-rw-r--r--   1 re4lfl0w  staff    5337 Oct 24 19:38 README.md',\n",
        " '-rw-r--r--   1 re4lfl0w  staff   56215 Oct  5 06:26 Untitled0.ipynb',\n",
        " '-rw-r--r--   1 re4lfl0w  staff    2145 Oct  3 05:27 Untitled1.ipynb',\n",
        " '-rw-------   1 re4lfl0w  staff     378 Oct 26 01:20 Untitled2.ipynb',\n",
        " '-rw-r--r--   1 re4lfl0w  staff  245557 Oct  2 09:36 ch01.ipynb',\n",
        " '-rw-r--r--   1 re4lfl0w  staff   96768 Oct  4 13:07 ch02_01.ipynb',\n",
        " '-rw-r--r--   1 re4lfl0w  staff  138497 Oct  4 13:54 ch02_02.ipynb',\n",
        " '-rw-r--r--   1 re4lfl0w  staff  117053 Oct  4 12:22 ch03_01.ipynb',\n",
        " '-rw-r--r--   1 re4lfl0w  staff   78895 Oct  4 11:14 ch03_02.ipynb',\n",
        " '-rw-r--r--   1 re4lfl0w  staff  157082 Oct  5 19:15 ch04.ipynb',\n",
        " '-rw-r--r--   1 re4lfl0w  staff   95400 Oct  7 15:54 ch05_01.ipynb',\n",
        " '-rw-r--r--   1 re4lfl0w  staff  101176 Oct  6 11:30 ch05_02.ipynb',\n",
        " '-rw-r--r--   1 re4lfl0w  staff  187729 Oct  8 10:34 ch06.ipynb',\n",
        " '-rw-r--r--   1 re4lfl0w  staff  140309 Oct  9 16:48 ch07.ipynb',\n",
        " '-rw-r--r--   1 re4lfl0w  staff  142768 Oct 10 17:04 ch08_01.ipynb',\n",
        " '-rw-r--r--   1 re4lfl0w  staff   25040 Oct 10 20:54 ch08_02.ipynb',\n",
        " '-rw-------   1 re4lfl0w  staff  124363 Oct 27 04:05 ch09_01.ipynb',\n",
        " '-rw-------   1 re4lfl0w  staff    1362 Oct 27 02:48 ch09_02.ipynb',\n",
        " '-rw-r--r--   1 re4lfl0w  staff   87148 Oct 11 17:40 ch10_01.ipynb',\n",
        " '-rw-r--r--   1 re4lfl0w  staff     878 Oct 11 17:42 ch10_02.ipynb',\n",
        " '-rw-------   1 re4lfl0w  staff   33287 Oct 31 13:09 ch13_01.ipynb',\n",
        " 'drwxr-xr-x   3 re4lfl0w  staff     102 Oct  5 05:59 images',\n",
        " \"'\"]\n"
       ]
      }
     ],
     "prompt_number": 62
    },
    {
     "cell_type": "code",
     "collapsed": false,
     "input": [
      "!ls -l"
     ],
     "language": "python",
     "metadata": {},
     "outputs": [
      {
       "output_type": "stream",
       "stream": "stdout",
       "text": [
        "total 3688\r\n",
        "drwxr-xr-x  19 re4lfl0w  staff     646 Oct  1 16:11 \u001b[34m01\u001b[m\u001b[m\r\n",
        "drwxr-xr-x  20 re4lfl0w  staff     680 Oct  5 13:01 \u001b[34m02\u001b[m\u001b[m\r\n",
        "drwxr-xr-x   5 re4lfl0w  staff     170 Oct  4 03:34 \u001b[34m03\u001b[m\u001b[m\r\n",
        "drwxr-xr-x  15 re4lfl0w  staff     510 Oct 11 17:57 \u001b[34m04\u001b[m\u001b[m\r\n",
        "drwxr-xr-x  27 re4lfl0w  staff     918 Oct  6 10:28 \u001b[34m05\u001b[m\u001b[m\r\n",
        "drwxr-xr-x  13 re4lfl0w  staff     442 Oct  8 10:22 \u001b[34m06\u001b[m\u001b[m\r\n",
        "drwxr-xr-x   9 re4lfl0w  staff     306 Oct  1 07:01 \u001b[34m07\u001b[m\u001b[m\r\n",
        "drwxr-xr-x  26 re4lfl0w  staff     884 Oct  1 07:01 \u001b[34m08\u001b[m\u001b[m\r\n",
        "drwxr-xr-x  25 re4lfl0w  staff     850 Oct  1 07:01 \u001b[34m09\u001b[m\u001b[m\r\n",
        "drwxr-xr-x  17 re4lfl0w  staff     578 Oct 11 12:11 \u001b[34m10\u001b[m\u001b[m\r\n",
        "drwxr-xr-x  14 re4lfl0w  staff     476 Oct  1 07:01 \u001b[34m11\u001b[m\u001b[m\r\n",
        "drwxr-xr-x  15 re4lfl0w  staff     510 Oct  1 07:01 \u001b[34m12\u001b[m\u001b[m\r\n",
        "drwxr-xr-x  16 re4lfl0w  staff     544 Oct 31 12:42 \u001b[34m13\u001b[m\u001b[m\r\n",
        "drwxr-xr-x   9 re4lfl0w  staff     306 Oct  1 07:01 \u001b[34m14\u001b[m\u001b[m\r\n",
        "drwxr-xr-x  21 re4lfl0w  staff     714 Oct  1 07:01 \u001b[34m15\u001b[m\u001b[m\r\n",
        "-rw-r--r--   1 re4lfl0w  staff    5337 Oct 24 19:38 README.md\r\n",
        "-rw-r--r--   1 re4lfl0w  staff   56215 Oct  5 06:26 Untitled0.ipynb\r\n",
        "-rw-r--r--   1 re4lfl0w  staff    2145 Oct  3 05:27 Untitled1.ipynb\r\n",
        "-rw-------   1 re4lfl0w  staff     378 Oct 26 01:20 Untitled2.ipynb\r\n",
        "-rw-r--r--   1 re4lfl0w  staff  245557 Oct  2 09:36 ch01.ipynb\r\n",
        "-rw-r--r--   1 re4lfl0w  staff   96768 Oct  4 13:07 ch02_01.ipynb\r\n",
        "-rw-r--r--   1 re4lfl0w  staff  138497 Oct  4 13:54 ch02_02.ipynb\r\n",
        "-rw-r--r--   1 re4lfl0w  staff  117053 Oct  4 12:22 ch03_01.ipynb\r\n",
        "-rw-r--r--   1 re4lfl0w  staff   78895 Oct  4 11:14 ch03_02.ipynb\r\n",
        "-rw-r--r--   1 re4lfl0w  staff  157082 Oct  5 19:15 ch04.ipynb\r\n",
        "-rw-r--r--   1 re4lfl0w  staff   95400 Oct  7 15:54 ch05_01.ipynb\r\n",
        "-rw-r--r--   1 re4lfl0w  staff  101176 Oct  6 11:30 ch05_02.ipynb\r\n",
        "-rw-r--r--   1 re4lfl0w  staff  187729 Oct  8 10:34 ch06.ipynb\r\n",
        "-rw-r--r--   1 re4lfl0w  staff  140309 Oct  9 16:48 ch07.ipynb\r\n",
        "-rw-r--r--   1 re4lfl0w  staff  142768 Oct 10 17:04 ch08_01.ipynb\r\n",
        "-rw-r--r--   1 re4lfl0w  staff   25040 Oct 10 20:54 ch08_02.ipynb\r\n",
        "-rw-------   1 re4lfl0w  staff  124363 Oct 27 04:05 ch09_01.ipynb\r\n",
        "-rw-------   1 re4lfl0w  staff    1362 Oct 27 02:48 ch09_02.ipynb\r\n",
        "-rw-r--r--   1 re4lfl0w  staff   87148 Oct 11 17:40 ch10_01.ipynb\r\n",
        "-rw-r--r--   1 re4lfl0w  staff     878 Oct 11 17:42 ch10_02.ipynb\r\n",
        "-rw-------   1 re4lfl0w  staff   37210 Oct 31 13:12 ch13_01.ipynb\r\n",
        "drwxr-xr-x   3 re4lfl0w  staff     102 Oct  5 05:59 \u001b[34mimages\u001b[m\u001b[m\r\n"
       ]
      }
     ],
     "prompt_number": 65
    },
    {
     "cell_type": "markdown",
     "metadata": {},
     "source": [
      "- \uc774 \ucf54\ub4dc\ub294 \uba85\uc2dc\ud55c \uba85\ub839\uc744 \uc2e4\ud589\ud558\uace0 \uacb0\uacfc\ub97c \ubc14\uc774\ud2b8 \ubb38\uc790\uc5f4\ub85c \ubc18\ud658\ud568\n",
      "- \uacb0\uacfc \ubc14\uc774\ud2b8\ub97c \ud14d\uc2a4\ud2b8\ub85c \ud574\uc11d\ud558\ub824\uba74 \ucd94\uac00\uc801\uc778 \ub514\ucf54\ub529 \ub2e8\uacc4\uac00 \ud544\uc694\ud568\n",
      "```python\n",
      "out_text = out_bytes.decode('utf-8')\n",
      "```"
     ]
    },
    {
     "cell_type": "code",
     "collapsed": false,
     "input": [
      "import subprocess\n",
      "out_bytes = subprocess.check_output(['ls', '-l'])\n",
      "out_bytes = out_bytes.decode('utf-8')\n",
      "out_bytes.split('\\n')"
     ],
     "language": "python",
     "metadata": {},
     "outputs": [
      {
       "metadata": {},
       "output_type": "pyout",
       "prompt_number": 64,
       "text": [
        "['total 3680',\n",
        " 'drwxr-xr-x  19 re4lfl0w  staff     646 Oct  1 16:11 01',\n",
        " 'drwxr-xr-x  20 re4lfl0w  staff     680 Oct  5 13:01 02',\n",
        " 'drwxr-xr-x   5 re4lfl0w  staff     170 Oct  4 03:34 03',\n",
        " 'drwxr-xr-x  15 re4lfl0w  staff     510 Oct 11 17:57 04',\n",
        " 'drwxr-xr-x  27 re4lfl0w  staff     918 Oct  6 10:28 05',\n",
        " 'drwxr-xr-x  13 re4lfl0w  staff     442 Oct  8 10:22 06',\n",
        " 'drwxr-xr-x   9 re4lfl0w  staff     306 Oct  1 07:01 07',\n",
        " 'drwxr-xr-x  26 re4lfl0w  staff     884 Oct  1 07:01 08',\n",
        " 'drwxr-xr-x  25 re4lfl0w  staff     850 Oct  1 07:01 09',\n",
        " 'drwxr-xr-x  17 re4lfl0w  staff     578 Oct 11 12:11 10',\n",
        " 'drwxr-xr-x  14 re4lfl0w  staff     476 Oct  1 07:01 11',\n",
        " 'drwxr-xr-x  15 re4lfl0w  staff     510 Oct  1 07:01 12',\n",
        " 'drwxr-xr-x  16 re4lfl0w  staff     544 Oct 31 12:42 13',\n",
        " 'drwxr-xr-x   9 re4lfl0w  staff     306 Oct  1 07:01 14',\n",
        " 'drwxr-xr-x  21 re4lfl0w  staff     714 Oct  1 07:01 15',\n",
        " '-rw-r--r--   1 re4lfl0w  staff    5337 Oct 24 19:38 README.md',\n",
        " '-rw-r--r--   1 re4lfl0w  staff   56215 Oct  5 06:26 Untitled0.ipynb',\n",
        " '-rw-r--r--   1 re4lfl0w  staff    2145 Oct  3 05:27 Untitled1.ipynb',\n",
        " '-rw-------   1 re4lfl0w  staff     378 Oct 26 01:20 Untitled2.ipynb',\n",
        " '-rw-r--r--   1 re4lfl0w  staff  245557 Oct  2 09:36 ch01.ipynb',\n",
        " '-rw-r--r--   1 re4lfl0w  staff   96768 Oct  4 13:07 ch02_01.ipynb',\n",
        " '-rw-r--r--   1 re4lfl0w  staff  138497 Oct  4 13:54 ch02_02.ipynb',\n",
        " '-rw-r--r--   1 re4lfl0w  staff  117053 Oct  4 12:22 ch03_01.ipynb',\n",
        " '-rw-r--r--   1 re4lfl0w  staff   78895 Oct  4 11:14 ch03_02.ipynb',\n",
        " '-rw-r--r--   1 re4lfl0w  staff  157082 Oct  5 19:15 ch04.ipynb',\n",
        " '-rw-r--r--   1 re4lfl0w  staff   95400 Oct  7 15:54 ch05_01.ipynb',\n",
        " '-rw-r--r--   1 re4lfl0w  staff  101176 Oct  6 11:30 ch05_02.ipynb',\n",
        " '-rw-r--r--   1 re4lfl0w  staff  187729 Oct  8 10:34 ch06.ipynb',\n",
        " '-rw-r--r--   1 re4lfl0w  staff  140309 Oct  9 16:48 ch07.ipynb',\n",
        " '-rw-r--r--   1 re4lfl0w  staff  142768 Oct 10 17:04 ch08_01.ipynb',\n",
        " '-rw-r--r--   1 re4lfl0w  staff   25040 Oct 10 20:54 ch08_02.ipynb',\n",
        " '-rw-------   1 re4lfl0w  staff  124363 Oct 27 04:05 ch09_01.ipynb',\n",
        " '-rw-------   1 re4lfl0w  staff    1362 Oct 27 02:48 ch09_02.ipynb',\n",
        " '-rw-r--r--   1 re4lfl0w  staff   87148 Oct 11 17:40 ch10_01.ipynb',\n",
        " '-rw-r--r--   1 re4lfl0w  staff     878 Oct 11 17:42 ch10_02.ipynb',\n",
        " '-rw-------   1 re4lfl0w  staff   36764 Oct 31 13:10 ch13_01.ipynb',\n",
        " 'drwxr-xr-x   3 re4lfl0w  staff     102 Oct  5 05:59 images',\n",
        " '']"
       ]
      }
     ],
     "prompt_number": 64
    },
    {
     "cell_type": "markdown",
     "metadata": {},
     "source": [
      "- \uc2e4\ud589\ud55c \uba85\ub839\uc774 0\uc774 \uc544\ub2cc \uc885\ub8cc \ucf54\ub4dc\ub97c \ubc18\ud658\ud588\ub2e4\uba74 \uc608\uc678\uac00 \ubc1c\uc0dd\ud5c0\ub2e4\ub294 \uc758\ubbf8\n",
      "- \ub2e4\uc74c\uc740 \uc608\uc678\ub97c \uce90\uce58\ud558\uace0 \uc885\ub8cc \ucf54\ub4dc\ub85c\ubd80\ud130 \uacb0\uacfc\ub97c \uc5bb\ub294 \uc608\uc81c"
     ]
    },
    {
     "cell_type": "code",
     "collapsed": false,
     "input": [
      "try:\n",
      "    out_bytes = subprocess.check_output(['cmd', 'arg1', 'arg2'])\n",
      "except subprocess.CalledProcessError as e:\n",
      "    out_bytes = e.output # \uc5d0\ub7ec \uc774\uc804\uc5d0 \uc0dd\uc131\ub41c \uacb0\uacfc\n",
      "    code = e.returncode # \ubc18\ud658 \ucf54\ub4dc\n",
      "    print(out_bytes)\n",
      "    print(code)"
     ],
     "language": "python",
     "metadata": {},
     "outputs": [
      {
       "ename": "FileNotFoundError",
       "evalue": "[Errno 2] No such file or directory: 'cmd'",
       "output_type": "pyerr",
       "traceback": [
        "\u001b[0;31m---------------------------------------------------------------------------\u001b[0m\n\u001b[0;31mFileNotFoundError\u001b[0m                         Traceback (most recent call last)",
        "\u001b[0;32m<ipython-input-67-409d7d50a430>\u001b[0m in \u001b[0;36m<module>\u001b[0;34m()\u001b[0m\n\u001b[1;32m      1\u001b[0m \u001b[0;32mtry\u001b[0m\u001b[0;34m:\u001b[0m\u001b[0;34m\u001b[0m\u001b[0m\n\u001b[0;32m----> 2\u001b[0;31m     \u001b[0mout_bytes\u001b[0m \u001b[0;34m=\u001b[0m \u001b[0msubprocess\u001b[0m\u001b[0;34m.\u001b[0m\u001b[0mcheck_output\u001b[0m\u001b[0;34m(\u001b[0m\u001b[0;34m[\u001b[0m\u001b[0;34m'cmd'\u001b[0m\u001b[0;34m,\u001b[0m \u001b[0;34m'arg1'\u001b[0m\u001b[0;34m,\u001b[0m \u001b[0;34m'arg2'\u001b[0m\u001b[0;34m]\u001b[0m\u001b[0;34m)\u001b[0m\u001b[0;34m\u001b[0m\u001b[0m\n\u001b[0m\u001b[1;32m      3\u001b[0m \u001b[0;32mexcept\u001b[0m \u001b[0msubprocess\u001b[0m\u001b[0;34m.\u001b[0m\u001b[0mCalledProcessError\u001b[0m \u001b[0;32mas\u001b[0m \u001b[0me\u001b[0m\u001b[0;34m:\u001b[0m\u001b[0;34m\u001b[0m\u001b[0m\n\u001b[1;32m      4\u001b[0m     \u001b[0mout_bytes\u001b[0m \u001b[0;34m=\u001b[0m \u001b[0me\u001b[0m\u001b[0;34m.\u001b[0m\u001b[0moutput\u001b[0m \u001b[0;31m# \uc5d0\ub7ec \uc774\uc804\uc5d0 \uc0dd\uc131\ub41c \uacb0\uacfc\u001b[0m\u001b[0;34m\u001b[0m\u001b[0m\n\u001b[1;32m      5\u001b[0m     \u001b[0mcode\u001b[0m \u001b[0;34m=\u001b[0m \u001b[0me\u001b[0m\u001b[0;34m.\u001b[0m\u001b[0mreturncode\u001b[0m \u001b[0;31m# \ubc18\ud658 \ucf54\ub4dc\u001b[0m\u001b[0;34m\u001b[0m\u001b[0m\n",
        "\u001b[0;32m/usr/local/Cellar/python3/3.4.2_1/Frameworks/Python.framework/Versions/3.4/lib/python3.4/subprocess.py\u001b[0m in \u001b[0;36mcheck_output\u001b[0;34m(timeout, *popenargs, **kwargs)\u001b[0m\n\u001b[1;32m    605\u001b[0m     \u001b[0;32melse\u001b[0m\u001b[0;34m:\u001b[0m\u001b[0;34m\u001b[0m\u001b[0m\n\u001b[1;32m    606\u001b[0m         \u001b[0minputdata\u001b[0m \u001b[0;34m=\u001b[0m \u001b[0;32mNone\u001b[0m\u001b[0;34m\u001b[0m\u001b[0m\n\u001b[0;32m--> 607\u001b[0;31m     \u001b[0;32mwith\u001b[0m \u001b[0mPopen\u001b[0m\u001b[0;34m(\u001b[0m\u001b[0;34m*\u001b[0m\u001b[0mpopenargs\u001b[0m\u001b[0;34m,\u001b[0m \u001b[0mstdout\u001b[0m\u001b[0;34m=\u001b[0m\u001b[0mPIPE\u001b[0m\u001b[0;34m,\u001b[0m \u001b[0;34m**\u001b[0m\u001b[0mkwargs\u001b[0m\u001b[0;34m)\u001b[0m \u001b[0;32mas\u001b[0m \u001b[0mprocess\u001b[0m\u001b[0;34m:\u001b[0m\u001b[0;34m\u001b[0m\u001b[0m\n\u001b[0m\u001b[1;32m    608\u001b[0m         \u001b[0;32mtry\u001b[0m\u001b[0;34m:\u001b[0m\u001b[0;34m\u001b[0m\u001b[0m\n\u001b[1;32m    609\u001b[0m             \u001b[0moutput\u001b[0m\u001b[0;34m,\u001b[0m \u001b[0munused_err\u001b[0m \u001b[0;34m=\u001b[0m \u001b[0mprocess\u001b[0m\u001b[0;34m.\u001b[0m\u001b[0mcommunicate\u001b[0m\u001b[0;34m(\u001b[0m\u001b[0minputdata\u001b[0m\u001b[0;34m,\u001b[0m \u001b[0mtimeout\u001b[0m\u001b[0;34m=\u001b[0m\u001b[0mtimeout\u001b[0m\u001b[0;34m)\u001b[0m\u001b[0;34m\u001b[0m\u001b[0m\n",
        "\u001b[0;32m/usr/local/Cellar/python3/3.4.2_1/Frameworks/Python.framework/Versions/3.4/lib/python3.4/subprocess.py\u001b[0m in \u001b[0;36m__init__\u001b[0;34m(self, args, bufsize, executable, stdin, stdout, stderr, preexec_fn, close_fds, shell, cwd, env, universal_newlines, startupinfo, creationflags, restore_signals, start_new_session, pass_fds)\u001b[0m\n\u001b[1;32m    856\u001b[0m                                 \u001b[0mc2pread\u001b[0m\u001b[0;34m,\u001b[0m \u001b[0mc2pwrite\u001b[0m\u001b[0;34m,\u001b[0m\u001b[0;34m\u001b[0m\u001b[0m\n\u001b[1;32m    857\u001b[0m                                 \u001b[0merrread\u001b[0m\u001b[0;34m,\u001b[0m \u001b[0merrwrite\u001b[0m\u001b[0;34m,\u001b[0m\u001b[0;34m\u001b[0m\u001b[0m\n\u001b[0;32m--> 858\u001b[0;31m                                 restore_signals, start_new_session)\n\u001b[0m\u001b[1;32m    859\u001b[0m         \u001b[0;32mexcept\u001b[0m\u001b[0;34m:\u001b[0m\u001b[0;34m\u001b[0m\u001b[0m\n\u001b[1;32m    860\u001b[0m             \u001b[0;31m# Cleanup if the child failed starting.\u001b[0m\u001b[0;34m\u001b[0m\u001b[0;34m\u001b[0m\u001b[0m\n",
        "\u001b[0;32m/usr/local/Cellar/python3/3.4.2_1/Frameworks/Python.framework/Versions/3.4/lib/python3.4/subprocess.py\u001b[0m in \u001b[0;36m_execute_child\u001b[0;34m(self, args, executable, preexec_fn, close_fds, pass_fds, cwd, env, startupinfo, creationflags, shell, p2cread, p2cwrite, c2pread, c2pwrite, errread, errwrite, restore_signals, start_new_session)\u001b[0m\n\u001b[1;32m   1454\u001b[0m                             \u001b[0;32melse\u001b[0m\u001b[0;34m:\u001b[0m\u001b[0;34m\u001b[0m\u001b[0m\n\u001b[1;32m   1455\u001b[0m                                 \u001b[0merr_msg\u001b[0m \u001b[0;34m+=\u001b[0m \u001b[0;34m': '\u001b[0m \u001b[0;34m+\u001b[0m \u001b[0mrepr\u001b[0m\u001b[0;34m(\u001b[0m\u001b[0morig_executable\u001b[0m\u001b[0;34m)\u001b[0m\u001b[0;34m\u001b[0m\u001b[0m\n\u001b[0;32m-> 1456\u001b[0;31m                     \u001b[0;32mraise\u001b[0m \u001b[0mchild_exception_type\u001b[0m\u001b[0;34m(\u001b[0m\u001b[0merrno_num\u001b[0m\u001b[0;34m,\u001b[0m \u001b[0merr_msg\u001b[0m\u001b[0;34m)\u001b[0m\u001b[0;34m\u001b[0m\u001b[0m\n\u001b[0m\u001b[1;32m   1457\u001b[0m                 \u001b[0;32mraise\u001b[0m \u001b[0mchild_exception_type\u001b[0m\u001b[0;34m(\u001b[0m\u001b[0merr_msg\u001b[0m\u001b[0;34m)\u001b[0m\u001b[0;34m\u001b[0m\u001b[0m\n\u001b[1;32m   1458\u001b[0m \u001b[0;34m\u001b[0m\u001b[0m\n",
        "\u001b[0;31mFileNotFoundError\u001b[0m: [Errno 2] No such file or directory: 'cmd'"
       ]
      }
     ],
     "prompt_number": 67
    },
    {
     "cell_type": "code",
     "collapsed": false,
     "input": [
      "try:\n",
      "    out_bytes = subprocess.check_output(['ifconfig', 'arg1', 'arg2'])\n",
      "except subprocess.CalledProcessError as e:\n",
      "    out_bytes = e.output # \uc5d0\ub7ec \uc774\uc804\uc5d0 \uc0dd\uc131\ub41c \uacb0\uacfc\n",
      "    code = e.returncode # \ubc18\ud658 \ucf54\ub4dc\n",
      "    print(out_bytes)\n",
      "    print(code)"
     ],
     "language": "python",
     "metadata": {},
     "outputs": [
      {
       "output_type": "stream",
       "stream": "stdout",
       "text": [
        "b''\n",
        "1\n"
       ]
      }
     ],
     "prompt_number": 70
    },
    {
     "cell_type": "markdown",
     "metadata": {},
     "source": [
      "- \uae30\ubcf8\uc801\uc73c\ub85c check_output()\uc740 \ud45c\uc900 \ucd9c\ub825\uc5d0\ub9cc \uacb0\uacfc\ub97c \ubc18\ud658\ud568\n",
      "- \ud45c\uc900 \ucd9c\ub825\uacfc \uc5d0\ub7ec\ub97c \ubaa8\ub450 \uc6d0\ud55c\ub2e4\uba74 stderr \uc778\uc790\ub97c \uc0ac\uc6a9\ud574\uc57c \ud568"
     ]
    },
    {
     "cell_type": "code",
     "collapsed": false,
     "input": [
      "try:\n",
      "    out_bytes = subprocess.check_output(['ifconfig', 'arg1', 'arg2'],\n",
      "                                        stderr=subprocess.STDOUT)\n",
      "except subprocess.CalledProcessError as e:\n",
      "    out_bytes = e.output # \uc5d0\ub7ec \uc774\uc804\uc5d0 \uc0dd\uc131\ub41c \uacb0\uacfc\n",
      "    code = e.returncode # \ubc18\ud658 \ucf54\ub4dc\n",
      "    print(out_bytes)\n",
      "    print(code)"
     ],
     "language": "python",
     "metadata": {},
     "outputs": [
      {
       "output_type": "stream",
       "stream": "stdout",
       "text": [
        "b'ifconfig: interface arg1 does not exist\\n'\n",
        "1\n"
       ]
      }
     ],
     "prompt_number": 71
    },
    {
     "cell_type": "markdown",
     "metadata": {},
     "source": [
      "- \uba85\ub839\uc744 \uc2e4\ud589\ud560 \ub54c \ud0c0\uc784\uc544\uc6c3\uc774 \ud544\uc694\ud558\ub2e4\uba74 timeout \uc778\uc790\ub97c \uc0ac\uc6a9\ud568"
     ]
    },
    {
     "cell_type": "code",
     "collapsed": false,
     "input": [
      "try:\n",
      "    out_bytes = subprocess.check_output(['netstat', 'n'],\n",
      "                                        timeout=5)\n",
      "    print(out_bytes.decode('utf-8')[:500])\n",
      "except subprocess.CalledProcessError as e:\n",
      "    out_bytes = e.output # \uc5d0\ub7ec \uc774\uc804\uc5d0 \uc0dd\uc131\ub41c \uacb0\uacfc\n",
      "    code = e.returncode # \ubc18\ud658 \ucf54\ub4dc\n",
      "    print(out_bytes)\n",
      "    print(code)"
     ],
     "language": "python",
     "metadata": {},
     "outputs": [
      {
       "output_type": "stream",
       "stream": "stdout",
       "text": [
        "Active Internet connections\n",
        "Proto Recv-Q Send-Q  Local Address          Foreign Address        (state)    \n",
        "tcp6       0      0  localhost.ddi-tcp-     localhost.62731        ESTABLISHED\n",
        "tcp6       0      0  localhost.62731        localhost.ddi-tcp-     ESTABLISHED\n",
        "tcp4       0      0  192.168.0.14.62724     hkg03s10-in-f5.1.https ESTABLISHED\n",
        "tcp4       0      0  192.168.0.14.62722     hkg03s16-in-f6.1.https ESTABLISHED\n",
        "tcp4       0      0  192.168.0.14.62587     74.125.203.189.https   ESTABLISHE\n"
       ]
      }
     ],
     "prompt_number": 81
    },
    {
     "cell_type": "markdown",
     "metadata": {},
     "source": [
      "- \uc77c\ubc18\uc801\uc73c\ub85c \uba85\ub839\uc740 \uc258(sh, bash \ub4f1)\uc758 \ub3c4\uc6c0\uc5c6\uc774 \uc2e4\ud589\ub428\n",
      "- \uadf8 \ub300\uc2e0 \ubb38\uc790\uc5f4 \ub9ac\uc2a4\ud2b8\ub97c os.execve()\uc640 \uac19\uc740 \ud558\uc704 \ub808\ubca8 \uc2dc\uc2a4\ud15c \uba85\ub839\uc5d0 \uc81c\uacf5\ud568\n",
      "- \uc258\uc5d0\uc11c \uba85\ub839\uc744 \ud574\uc11d\ud558\uac8c \ud558\ub824\uba74 \uac04\ub2e8\ud55c \ubb38\uc790\uc5f4\ub85c \uc81c\uacf5\ud558\uace0 shell=True \uc778\uc790\ub97c \ucd94\uac00\ud55c\ub2e4.\n",
      "- \uc774\ub7f0 \uae30\ub2a5\uc740 \ud30c\uc774\ud504, \uc785\ucd9c\ub825 \ub9ac\ub2e4\uc774\ub809\uc158 \ub4f1 \ubcf5\uc7a1\ud55c \uc258 \ucee4\ub9e8\ub4dc\ub97c \ud30c\uc774\uc36c\uc5d0\uc11c \uc2e4\ud589\ud558\ub824\uace0 \ud560 \ub54c \uc720\uc6a9\n",
      "```python\n",
      "out_bytes = subprocess.check_output('grep python | wc > out', shell=True')\n",
      "```"
     ]
    },
    {
     "cell_type": "code",
     "collapsed": false,
     "input": [
      "try:\n",
      "    out_bytes = subprocess.check_output('cat 13/filein.py | ' \n",
      "                                        'grep python | wc > out', \n",
      "                                        shell=True)\n",
      "    print(out_bytes.decode('utf-8')[:500])\n",
      "except subprocess.CalledProcessError as e:\n",
      "    out_bytes = e.output # \uc5d0\ub7ec \uc774\uc804\uc5d0 \uc0dd\uc131\ub41c \uacb0\uacfc\n",
      "    code = e.returncode # \ubc18\ud658 \ucf54\ub4dc\n",
      "    print(out_bytes)\n",
      "    print(code)"
     ],
     "language": "python",
     "metadata": {},
     "outputs": [
      {
       "output_type": "stream",
       "stream": "stdout",
       "text": [
        "\n"
       ]
      }
     ],
     "prompt_number": 114
    },
    {
     "cell_type": "code",
     "collapsed": false,
     "input": [
      "!cat 13/filein.py"
     ],
     "language": "python",
     "metadata": {},
     "outputs": [
      {
       "output_type": "stream",
       "stream": "stdout",
       "text": [
        "#!/usr/bin/env python3\r\n",
        "import fileinput\r\n",
        "\r\n",
        "with fileinput.input() as f_input:\r\n",
        "    for line in f_input:\r\n",
        "        print(line, end='')"
       ]
      }
     ],
     "prompt_number": 115
    },
    {
     "cell_type": "code",
     "collapsed": false,
     "input": [
      "!cat 13/filein.py | grep python"
     ],
     "language": "python",
     "metadata": {},
     "outputs": [
      {
       "output_type": "stream",
       "stream": "stdout",
       "text": [
        "#!/usr/bin/env python3\r\n"
       ]
      }
     ],
     "prompt_number": 118
    },
    {
     "cell_type": "code",
     "collapsed": false,
     "input": [
      "!cat out"
     ],
     "language": "python",
     "metadata": {},
     "outputs": [
      {
       "output_type": "stream",
       "stream": "stdout",
       "text": [
        "       1       2      23\r\n"
       ]
      }
     ],
     "prompt_number": 117
    },
    {
     "cell_type": "markdown",
     "metadata": {},
     "source": [
      "- \uc258 \ub0b4\ubd80 \uba85\ub839\uc744 \uc2e4\ud589\ud560 \ub54c \ub123\ub294 \uc778\uc790\ub97c \uc0ac\uc6a9\uc790 \uc785\ub825\uc5d0\uc11c \uac00\uc838\uc624\uba74 \uc7a0\uc7ac\uc801\uc73c\ub85c \ubcf4\uc548\uc0c1 \ubb38\uc81c\uac00 \uc788\ub2e4\ub294 \uc810\uc744 \uae30\uc5b5\ud558\uc790\n",
      "- \uc774\ub7f0 \uacbd\uc6b0 \uc258 \ucee4\ub9e8\ub4dc\uc758 \uc778\uc790\ub97c \ub530\uc634\ud45c\ub85c \ubb36\uc744 \ub54c shlex.quote() \ud568\uc218\ub97c \uc0ac\uc6a9\ud568"
     ]
    },
    {
     "cell_type": "markdown",
     "metadata": {},
     "source": [
      "### \ud1a0\ub860\n",
      "\n",
      "- check_output() \ud568\uc218\ub294 \uc678\ubd80 \uba85\ub839\uc744 \uc2e4\ud589\ud558\uace0 \uacb0\uacfc\ub97c \uc5bb\uae30\uc5d0 \uac00\uc7a5 \uc26c\uc6b4 \ubc29\ubc95\n",
      "- \ud558\uc9c0\ub9cc, \uc11c\ube0c\ud504\ub85c\uc138\uc2a4\uc640 \uc785\ub825 \ubcf4\ub0b4\uae30 \ub4f1 \uc880 \ub354 \ubcf5\uc7a1\ud55c \ud1b5\uc2e0\uc744 \ud574\uc57c \ud55c\ub2e4\uba74 \ub2e4\ub978 \ubc29\uc2dd\uc744 \uc0ac\uc6a9\ud574\uc57c \ud55c\ub2e4.\n",
      "- \uc774\ub7f4\ub54c\ub294 subprocess.Popen \ud074\ub798\uc2a4\ub97c \uc9c1\uc811 \uc0ac\uc6a9\ud568"
     ]
    },
    {
     "cell_type": "code",
     "collapsed": false,
     "input": [
      "import subprocess\n",
      "\n",
      "# \uc804\uc1a1\ud560 \ud14d\uc2a4\ud2b8\n",
      "text = b'''\n",
      "hello world\n",
      "this is a test\n",
      "goodbye\n",
      "'''\n",
      "\n",
      "# \ud30c\uc774\ud504\uc640 \ud568\uaed8 \uba85\ub839 \uc2e4\ud589\n",
      "p = subprocess.Popen(['wc'],\n",
      "    stdout = subprocess.PIPE,\n",
      "    stdin = subprocess.PIPE)\n",
      "\n",
      "# \ub370\uc774\ud130\ub97c \uc804\uc1a1\ud558\uace0 \uacb0\uacfc \uc5bb\uae30\n",
      "stdout, stderr = p.communicate(text)\n",
      "\n",
      "# \ud14d\uc2a4\ud2b8\ub85c \ud574\uc11d\ud558\uae30 \uc704\ud55c \ub514\ucf54\ub529\n",
      "try:\n",
      "    out = stdout.decode('utf-8')\n",
      "    print(out)\n",
      "except:\n",
      "    pass\n",
      "\n",
      "try:\n",
      "    err = stderr.decode('utf-8')\n",
      "    print(err)\n",
      "except:\n",
      "    pass"
     ],
     "language": "python",
     "metadata": {},
     "outputs": [
      {
       "output_type": "stream",
       "stream": "stdout",
       "text": [
        "       4       7      36\n",
        "\n"
       ]
      }
     ],
     "prompt_number": 88
    },
    {
     "cell_type": "markdown",
     "metadata": {},
     "source": [
      "- 4 7 36\n",
      "- 4: number of lines\n",
      "- 7: number of words\n",
      "- 36: number of characters"
     ]
    },
    {
     "cell_type": "code",
     "collapsed": false,
     "input": [
      "import subprocess\n",
      "\n",
      "# \uc804\uc1a1\ud560 \ud14d\uc2a4\ud2b8\n",
      "text = b'''\n",
      "hello world\n",
      "this is a test\n",
      "goodbye\n",
      "'''\n",
      "\n",
      "# \ud30c\uc774\ud504\uc640 \ud568\uaed8 \uba85\ub839 \uc2e4\ud589\n",
      "p = subprocess.Popen(['ifconfig'],\n",
      "    stdout = subprocess.PIPE,\n",
      "    stdin = subprocess.PIPE)\n",
      "\n",
      "# \ub370\uc774\ud130\ub97c \uc804\uc1a1\ud558\uace0 \uacb0\uacfc \uc5bb\uae30\n",
      "stdout, stderr = p.communicate(text)\n",
      "\n",
      "# \ud14d\uc2a4\ud2b8\ub85c \ud574\uc11d\ud558\uae30 \uc704\ud55c \ub514\ucf54\ub529\n",
      "try:\n",
      "    out = stdout.decode('utf-8')\n",
      "    print(out)\n",
      "except:\n",
      "    pass\n",
      "\n",
      "try:\n",
      "    err = stderr.decode('utf-8')\n",
      "    print(err)\n",
      "except:\n",
      "    pass"
     ],
     "language": "python",
     "metadata": {},
     "outputs": [
      {
       "output_type": "stream",
       "stream": "stdout",
       "text": [
        "lo0: flags=8049<UP,LOOPBACK,RUNNING,MULTICAST> mtu 16384\n",
        "\toptions=3<RXCSUM,TXCSUM>\n",
        "\tinet6 ::1 prefixlen 128 \n",
        "\tinet 127.0.0.1 netmask 0xff000000 \n",
        "\tinet6 fe80::1%lo0 prefixlen 64 scopeid 0x1 \n",
        "\tnd6 options=1<PERFORMNUD>\n",
        "gif0: flags=8010<POINTOPOINT,MULTICAST> mtu 1280\n",
        "stf0: flags=0<> mtu 1280\n",
        "en0: flags=8863<UP,BROADCAST,SMART,RUNNING,SIMPLEX,MULTICAST> mtu 1500\n",
        "\tether 28:cf:e9:1f:9d:21 \n",
        "\tinet6 fe80::2acf:e9ff:fe1f:9d21%en0 prefixlen 64 scopeid 0x4 \n",
        "\tinet 192.168.0.14 netmask 0xffffff00 broadcast 192.168.0.255\n",
        "\tnd6 options=1<PERFORMNUD>\n",
        "\tmedia: autoselect\n",
        "\tstatus: active\n",
        "en1: flags=8963<UP,BROADCAST,SMART,RUNNING,PROMISC,SIMPLEX,MULTICAST> mtu 1500\n",
        "\toptions=60<TSO4,TSO6>\n",
        "\tether 32:00:16:da:93:c0 \n",
        "\tmedia: autoselect <full-duplex>\n",
        "\tstatus: inactive\n",
        "en2: flags=8963<UP,BROADCAST,SMART,RUNNING,PROMISC,SIMPLEX,MULTICAST> mtu 1500\n",
        "\toptions=60<TSO4,TSO6>\n",
        "\tether 32:00:16:da:93:c1 \n",
        "\tmedia: autoselect <full-duplex>\n",
        "\tstatus: inactive\n",
        "bridge0: flags=8863<UP,BROADCAST,SMART,RUNNING,SIMPLEX,MULTICAST> mtu 1500\n",
        "\toptions=63<RXCSUM,TXCSUM,TSO4,TSO6>\n",
        "\tether 2a:cf:e9:f1:f8:00 \n",
        "\tConfiguration:\n",
        "\t\tid 0:0:0:0:0:0 priority 0 hellotime 0 fwddelay 0\n",
        "\t\tmaxage 0 holdcnt 0 proto stp maxaddr 100 timeout 1200\n",
        "\t\troot id 0:0:0:0:0:0 priority 0 ifcost 0 port 0\n",
        "\t\tipfilter disabled flags 0x2\n",
        "\tmember: en1 flags=3<LEARNING,DISCOVER>\n",
        "\t        ifmaxaddr 0 port 5 priority 0 path cost 0\n",
        "\tmember: en2 flags=3<LEARNING,DISCOVER>\n",
        "\t        ifmaxaddr 0 port 6 priority 0 path cost 0\n",
        "\tnd6 options=1<PERFORMNUD>\n",
        "\tmedia: <unknown type>\n",
        "\tstatus: inactive\n",
        "p2p0: flags=8843<UP,BROADCAST,RUNNING,SIMPLEX,MULTICAST> mtu 2304\n",
        "\tether 0a:cf:e9:1f:9d:21 \n",
        "\tmedia: autoselect\n",
        "\tstatus: inactive\n",
        "awdl0: flags=8843<UP,BROADCAST,RUNNING,SIMPLEX,MULTICAST> mtu 1452\n",
        "\tether 6e:2f:65:d6:da:a7 \n",
        "\tinet6 fe80::6c2f:65ff:fed6:daa7%awdl0 prefixlen 64 scopeid 0x9 \n",
        "\tnd6 options=1<PERFORMNUD>\n",
        "\tmedia: autoselect\n",
        "\tstatus: active\n",
        "\n"
       ]
      }
     ],
     "prompt_number": 119
    },
    {
     "cell_type": "code",
     "collapsed": false,
     "input": [
      "import subprocess\n",
      "\n",
      "# \uc804\uc1a1\ud560 \ud14d\uc2a4\ud2b8\n",
      "text = b'''\n",
      "hello world\n",
      "this is a test\n",
      "goodbye\n",
      "'''\n",
      "\n",
      "# \ud30c\uc774\ud504\uc640 \ud568\uaed8 \uba85\ub839 \uc2e4\ud589\n",
      "p = subprocess.Popen(['ifconfig', '-L', 'en0'],\n",
      "    stdout = subprocess.PIPE,\n",
      "    stdin = subprocess.PIPE)\n",
      "\n",
      "# \ub370\uc774\ud130\ub97c \uc804\uc1a1\ud558\uace0 \uacb0\uacfc \uc5bb\uae30\n",
      "stdout, stderr = p.communicate(text)\n",
      "\n",
      "# \ud14d\uc2a4\ud2b8\ub85c \ud574\uc11d\ud558\uae30 \uc704\ud55c \ub514\ucf54\ub529\n",
      "try:\n",
      "    out = stdout.decode('utf-8')\n",
      "    print(out)\n",
      "except:\n",
      "    pass\n",
      "\n",
      "try:\n",
      "    err = stderr.decode('utf-8')\n",
      "    print(err)\n",
      "except:\n",
      "    pass"
     ],
     "language": "python",
     "metadata": {},
     "outputs": [
      {
       "output_type": "stream",
       "stream": "stdout",
       "text": [
        "en0: flags=8863<UP,BROADCAST,SMART,RUNNING,SIMPLEX,MULTICAST> mtu 1500\n",
        "\tether 28:cf:e9:1f:9d:21 \n",
        "\tinet6 fe80::2acf:e9ff:fe1f:9d21%en0 prefixlen 64 scopeid 0x4 \n",
        "\tinet 192.168.0.14 netmask 0xffffff00 broadcast 192.168.0.255\n",
        "\tnd6 options=1<PERFORMNUD>\n",
        "\tmedia: autoselect\n",
        "\tstatus: active\n",
        "\n"
       ]
      }
     ],
     "prompt_number": 120
    },
    {
     "cell_type": "code",
     "collapsed": false,
     "input": [
      "import subprocess\n",
      "\n",
      "# \uc804\uc1a1\ud560 \ud14d\uc2a4\ud2b8\n",
      "text = b'''\n",
      "hello world\n",
      "this is a test\n",
      "goodbye\n",
      "'''\n",
      "\n",
      "# \ud30c\uc774\ud504\uc640 \ud568\uaed8 \uba85\ub839 \uc2e4\ud589\n",
      "p1 = subprocess.Popen(['ifconfig', '-L', 'en0'],\n",
      "    stdout = subprocess.PIPE,\n",
      "    stdin = subprocess.PIPE)\n",
      "\n",
      "p2 = subprocess.Popen(['grep', 'broadcast'], \n",
      "                      stdin = p1.stdout, \n",
      "                      stdout = subprocess.PIPE)\n",
      "\n",
      "# \ub370\uc774\ud130\ub97c \uc804\uc1a1\ud558\uace0 \uacb0\uacfc \uc5bb\uae30\n",
      "# stdout, stderr = p2.communicate(text)\n",
      "stdout, stderr = p2.communicate()\n",
      "\n",
      "# \ud14d\uc2a4\ud2b8\ub85c \ud574\uc11d\ud558\uae30 \uc704\ud55c \ub514\ucf54\ub529\n",
      "try:\n",
      "    out = stdout.decode('utf-8')\n",
      "    print(out)\n",
      "except:\n",
      "    pass\n",
      "\n",
      "try:\n",
      "    err = stderr.decode('utf-8')\n",
      "    print(err)\n",
      "except:\n",
      "    pass"
     ],
     "language": "python",
     "metadata": {},
     "outputs": [
      {
       "output_type": "stream",
       "stream": "stdout",
       "text": [
        "\tinet 192.168.0.14 netmask 0xffffff00 broadcast 192.168.0.255\n",
        "\n"
       ]
      }
     ],
     "prompt_number": 138
    },
    {
     "cell_type": "code",
     "collapsed": false,
     "input": [
      "# output=`dmesg | grep hda`\n",
      "# becomes\n",
      "from subprocess import Popen, PIPE\n",
      "p1 = Popen([\"ifconfig\"], stdout=PIPE)\n",
      "p2 = Popen([\"grep\", \"broadcast\"], stdin=p1.stdout, stdout=PIPE)\n",
      "p1.stdout.close()  # Allow p1 to receive a SIGPIPE if p2 exits.\n",
      "output = p2.communicate()[0].decode('utf-8')\n",
      "print(output)"
     ],
     "language": "python",
     "metadata": {},
     "outputs": [
      {
       "output_type": "stream",
       "stream": "stdout",
       "text": [
        "\tinet 192.168.0.14 netmask 0xffffff00 broadcast 192.168.0.255\n",
        "\n"
       ]
      }
     ],
     "prompt_number": 133
    },
    {
     "cell_type": "markdown",
     "metadata": {},
     "source": [
      "- \uc62c\ubc14\ub978 TTY\uc640 \uc0c1\ud638\uc791\uc6a9\ud558\ub294 \uc678\ubd80 \uba85\ub839\uc5b4\uc640 \ud1b5\uc2e0\ud560 \ub54c subprocess \ubaa8\ub4c8\uc740 \uc5b4\uc6b8\ub9ac\uc9c0 \uc54a\ub294\ub2e4.\n",
      "- \uc608\ub97c\ub4e4\uc5b4, \uc0ac\uc6a9\uc790\uac00 \uc554\ud638\ub97c \uc785\ub825\ud558\ub294 \uc791\uc5c5\uc744 \uc790\ub3d9\ud654\ud558\uae30 \uc704\ud574\uc11c \uc0ac\uc6a9\ud560 \uc218 \uc5c6\uc74c(\uc608 ssh \uc138\uc158)\n",
      "- \uc774 \uacbd\uc6b0\uc5d0\ub294 \uc778\uae30 \uc788\ub294 **'expect'** \ub3c4\uad6c\uc5d0 \uae30\ubc18\ud55c \uc11c\ub4dc\ud30c\ud2f0 \ubaa8\ub4c8\uc744 \uc0ac\uc6a9\ud574\uc57c \ud568([pexpect](https://github.com/pexpect/pexpect) \ud639\uc740 \uc720\uc0ac\ud55c \uac83)"
     ]
    },
    {
     "cell_type": "markdown",
     "metadata": {},
     "source": [
      "## 13.7 \ud30c\uc77c\uacfc \ub514\ub809\ud1a0\ub9ac \ubcf5\uc0ac\uc640 \uc774\ub3d9\n",
      "\n",
      "### \ubb38\uc81c\n",
      "\n",
      "- \uc258 \uba85\ub839\uc5b4\ub97c \uc0ac\uc6a9\ud558\uc9c0 \uc54a\uace0 \ud30c\uc77c, \ub514\ub809\ud1a0\ub9ac\ub97c \ubcf5\uc0ac\ud558\uac70\ub098 \uc774\ub3d9\ud558\uace0 \uc2f6\ub2e4\n",
      "\n",
      "### \ud574\uacb0\n",
      "\n",
      "- shutil \ubaa8\ub4c8\uc5d0 \ud30c\uc77c, \ub514\ub809\ud1a0\ub9ac\ub97c \uc190\uc27d\uac8c \ubcf5\uc0ac\ud560 \uc218 \uc788\ub294 \ud568\uc218 \uc874\uc7ac"
     ]
    },
    {
     "cell_type": "code",
     "collapsed": false,
     "input": [
      "import shutil\n",
      "import os\n",
      "\n",
      "path = !pwd\n",
      "path = path[0]\n",
      "src = os.path.join(path, '13', 'filein.py') \n",
      "dst = os.path.join(path, '13', 'test', '1.py')\n",
      "# src\ub97c dst\uc5d0 \ubcf5\uc0ac(cp src dst)\n",
      "shutil.copy(src, dst)"
     ],
     "language": "python",
     "metadata": {},
     "outputs": [
      {
       "metadata": {},
       "output_type": "pyout",
       "prompt_number": 198,
       "text": [
        "'/Users/re4lfl0w/Documents/ipython/books/python_cookbook/13/test/1.py'"
       ]
      }
     ],
     "prompt_number": 198
    },
    {
     "cell_type": "code",
     "collapsed": false,
     "input": [
      "!ls -l 13/test"
     ],
     "language": "python",
     "metadata": {},
     "outputs": [
      {
       "output_type": "stream",
       "stream": "stdout",
       "text": [
        "total 8\r\n",
        "-rw-r--r--  1 re4lfl0w  staff  128 Oct 31 17:04 1.py\r\n"
       ]
      }
     ],
     "prompt_number": 199
    },
    {
     "cell_type": "code",
     "collapsed": false,
     "input": [
      "# \ud30c\uc77c\uc744 \ubcf5\uc0ac, \uba54\ud0c0\ub370\uc774\ud130\ub294 \ubcf4\uc874(cp -p src dst)\n",
      "shutil.copy2(src, dst)\n",
      "\n",
      "# \ub514\ub809\ud1a0\ub9ac \ud2b8\ub9ac \ubcf5\uc0ac(cp -R src dst)\n",
      "shutil.copytree(src, rsg)\n",
      "\n",
      "# src\ub97c dst\ub85c \uc774\ub3d9(mv src dst)\n",
      "shutil.move(src, dst)"
     ],
     "language": "python",
     "metadata": {},
     "outputs": []
    },
    {
     "cell_type": "markdown",
     "metadata": {},
     "source": [
      "- \uc774 \ud568\uc218\uc5d0 \ub300\ud55c \uc778\uc790\ub294 \ubaa8\ub450 \ubb38\uc790\uc5f4\ub85c \ud30c\uc77c\uc774\ub098 \ub514\ub809\ud1a0\ub9ac \uc774\ub984\uc744 \uac00\ub9ac\ud0b4\n",
      "- \uc2e4\uc81c\ub85c \ud558\ub294 \uc77c\uc740 \uc8fc\uc11d\uc5d0 \ub098\uc628 \ub0b4\uc6a9\uc744 \ucc38\uace0\ud568\n",
      "- \uae30\ubcf8\uc801\uc73c\ub85c \uc774 \uba85\ub839\uc5b4 \ub4a4\uc5d0\ub294 \uc2ec\ubcfc\ub9ad \ub9c1\ud06c\uac00 \ub530\ub77c\uc634\n",
      "- \uc608\ub97c \ub4e4\uc5b4 \uc18c\uc2a4 \ud30c\uc77c\uc774 \uc2ec\ubcfc\ub9ad \ub9c1\ud06c\uc774\uba74 \ubaa9\uc801 \ud30c\uc77c\uc740 \uadf8 \ub9c1\ud06c\uac00 \uac00\ub9ac\ud0a4\ub294 \ud30c\uc77c\uc758 \ubcf5\uc0ac\ubcf8\uc774 \ub428\n",
      "- \uc2ec\ubcfc\ub9ad \ub9c1\ud06c\ub97c \ubcf5\uc0ac\ud558\uace0 \uc2f6\ub2e4\uba74 \ub2e4\uc74c\uacfc \uac19\uc774 follow_symlinks \ud0a4\uc6cc\ub4dc \ub9e4\uac1c\ubcc0\uc218\ub97c \ucd94\uac00\ud568\n",
      "```python\n",
      "shutil.copy2(src, dst, follow_symlinks=False)\n",
      "```\n",
      "\n",
      "- \ubcf5\uc0ac\ud560 \ub514\ub809\ud1a0\ub9ac\uc5d0 \uc2ec\ubcfc\ub9ad \ub9c1\ud06c\ub97c \ubcf4\uc874\ud558\uace0 \uc2f6\ub2e4\uba74 \ub2e4\uc74c\uacfc \uac19\uc774 \ud568\n",
      "```python\n",
      "shutil.copytree(src, dst, symlinks=True)\n",
      "```\n",
      "\n",
      "- copytree()\ub294 \ubcf5\uc0ac\ud558\ub294 \ub3d9\uc548 \ud2b9\uc815 \ud30c\uc77c\uacfc \ub514\ub809\ud1a0\ub9ac\ub97c \ubb34\uc2dc\ud558\ub294 \uae30\ub2a5\uc744 \uc81c\uacf5\n",
      "- \uc774\ub807\uac8c \ud558\ub824\uba74 \ub514\ub809\ud1a0\ub9ac\uc640 \ud30c\uc77c \uc774\ub984\uc744 \uc785\ub825\uc73c\ub85c \ubc1b\uace0 \ubb34\uc2dc\ud55c \uc774\ub984\uc744 \uacb0\uacfc\ub85c \ubc18\ud658\ud558\ub294 ignore \ud568\uc218\ub97c \ucd94\uac00\ud574\uc57c \ud568"
     ]
    },
    {
     "cell_type": "code",
     "collapsed": false,
     "input": [
      "!ls -l 13"
     ],
     "language": "python",
     "metadata": {},
     "outputs": [
      {
       "output_type": "stream",
       "stream": "stdout",
       "text": [
        "total 24\r\n",
        "-rw-r--r--  1 re4lfl0w  staff    0 Oct 31 17:05 1.txt\r\n",
        "drwxr-xr-x  3 re4lfl0w  staff  102 Oct 31 04:38 \u001b[34madding_logging_to_libraries\u001b[m\u001b[m\r\n",
        "drwxr-xr-x  4 re4lfl0w  staff  136 Oct 31 04:38 \u001b[34mexecuting_an_external_command_and_getting_its_output\u001b[m\u001b[m\r\n",
        "-rw-r--r--  1 re4lfl0w  staff  128 Oct 31 17:02 filein.py\r\n",
        "drwxr-xr-x  3 re4lfl0w  staff  102 Oct 31 04:38 \u001b[34mfinding_files\u001b[m\u001b[m\r\n",
        "drwxr-xr-x  3 re4lfl0w  staff  102 Oct 31 04:38 \u001b[34mgenerating_a_range_of_ip_addresses_from_a_cidr_address\u001b[m\u001b[m\r\n",
        "drwxr-xr-x  3 re4lfl0w  staff  102 Oct 31 04:38 \u001b[34mgetting_the_terminal_size\u001b[m\u001b[m\r\n",
        "drwxr-xr-x  3 re4lfl0w  staff  102 Oct 31 04:38 \u001b[34mmaking_a_stopwatch\u001b[m\u001b[m\r\n",
        "drwxr-xr-x  3 re4lfl0w  staff  102 Oct 31 04:38 \u001b[34mparsing_command_line_options\u001b[m\u001b[m\r\n",
        "drwxr-xr-x  3 re4lfl0w  staff  102 Oct 31 04:38 \u001b[34mprompting_for_a_password_at_runtime\u001b[m\u001b[m\r\n",
        "drwxr-xr-x  3 re4lfl0w  staff  102 Oct 31 04:38 \u001b[34mputting_limits_on_memory_and_cpu_usage\u001b[m\u001b[m\r\n",
        "drwxr-xr-x  4 re4lfl0w  staff  136 Oct 31 04:38 \u001b[34mreading_configuration_files\u001b[m\u001b[m\r\n",
        "drwxr-xr-x  5 re4lfl0w  staff  170 Oct 31 04:38 \u001b[34msimple_logging_for_scripts\u001b[m\u001b[m\r\n",
        "drwxr-xr-x  3 re4lfl0w  staff  102 Oct 31 17:04 \u001b[34mtest\u001b[m\u001b[m\r\n",
        "-rw-r--r--@ 1 re4lfl0w  staff  318 Oct 31 17:03 test_getpass.py\r\n"
       ]
      }
     ],
     "prompt_number": 206
    },
    {
     "cell_type": "code",
     "collapsed": false,
     "input": [
      "!ls -l 13/test"
     ],
     "language": "python",
     "metadata": {},
     "outputs": [
      {
       "output_type": "stream",
       "stream": "stdout",
       "text": [
        "total 8\r\n",
        "-rw-r--r--  1 re4lfl0w  staff  128 Oct 31 17:04 1.py\r\n"
       ]
      }
     ],
     "prompt_number": 205
    },
    {
     "cell_type": "code",
     "collapsed": false,
     "input": [
      "def ignore_pyc_files(dirname, filenames):\n",
      "    return [name for name in filenames if name.endswith('.py')]\n",
      "\n",
      "src = os.path.join(path, '13') \n",
      "dst = os.path.join(path, '13', 'test2')\n",
      "print(src)\n",
      "print(dst)\n",
      "shutil.copytree(src, dst, ignore=ignore_pyc_files)"
     ],
     "language": "python",
     "metadata": {},
     "outputs": [
      {
       "output_type": "stream",
       "stream": "stdout",
       "text": [
        "/Users/re4lfl0w/Documents/ipython/books/python_cookbook/13\n",
        "/Users/re4lfl0w/Documents/ipython/books/python_cookbook/13/test2\n"
       ]
      },
      {
       "metadata": {},
       "output_type": "pyout",
       "prompt_number": 207,
       "text": [
        "'/Users/re4lfl0w/Documents/ipython/books/python_cookbook/13/test2'"
       ]
      }
     ],
     "prompt_number": 207
    },
    {
     "cell_type": "code",
     "collapsed": false,
     "input": [
      "!ls -l 13/test2"
     ],
     "language": "python",
     "metadata": {},
     "outputs": [
      {
       "output_type": "stream",
       "stream": "stdout",
       "text": [
        "total 0\r\n",
        "-rw-r--r--  1 re4lfl0w  staff    0 Oct 31 17:05 1.txt\r\n",
        "drwxr-xr-x  2 re4lfl0w  staff   68 Oct 31 04:38 \u001b[34madding_logging_to_libraries\u001b[m\u001b[m\r\n",
        "drwxr-xr-x  2 re4lfl0w  staff   68 Oct 31 04:38 \u001b[34mexecuting_an_external_command_and_getting_its_output\u001b[m\u001b[m\r\n",
        "drwxr-xr-x  2 re4lfl0w  staff   68 Oct 31 04:38 \u001b[34mfinding_files\u001b[m\u001b[m\r\n",
        "drwxr-xr-x  2 re4lfl0w  staff   68 Oct 31 04:38 \u001b[34mgenerating_a_range_of_ip_addresses_from_a_cidr_address\u001b[m\u001b[m\r\n",
        "drwxr-xr-x  2 re4lfl0w  staff   68 Oct 31 04:38 \u001b[34mgetting_the_terminal_size\u001b[m\u001b[m\r\n",
        "drwxr-xr-x  2 re4lfl0w  staff   68 Oct 31 04:38 \u001b[34mmaking_a_stopwatch\u001b[m\u001b[m\r\n",
        "drwxr-xr-x  2 re4lfl0w  staff   68 Oct 31 04:38 \u001b[34mparsing_command_line_options\u001b[m\u001b[m\r\n",
        "drwxr-xr-x  2 re4lfl0w  staff   68 Oct 31 04:38 \u001b[34mprompting_for_a_password_at_runtime\u001b[m\u001b[m\r\n",
        "drwxr-xr-x  2 re4lfl0w  staff   68 Oct 31 04:38 \u001b[34mputting_limits_on_memory_and_cpu_usage\u001b[m\u001b[m\r\n",
        "drwxr-xr-x  3 re4lfl0w  staff  102 Oct 31 04:38 \u001b[34mreading_configuration_files\u001b[m\u001b[m\r\n",
        "drwxr-xr-x  3 re4lfl0w  staff  102 Oct 31 04:38 \u001b[34msimple_logging_for_scripts\u001b[m\u001b[m\r\n",
        "drwxr-xr-x  2 re4lfl0w  staff   68 Oct 31 17:04 \u001b[34mtest\u001b[m\u001b[m\r\n"
       ]
      }
     ],
     "prompt_number": 208
    },
    {
     "cell_type": "markdown",
     "metadata": {},
     "source": [
      "- \ud30c\uc77c \uc774\ub984\uc744 \ud328\ud134\uc73c\ub85c \ubb34\uc2dc\ud558\ub294 \ubc29\uc2dd\uc774 \uc77c\ubc18\uc801\uc774\uae30 \ub54c\ubb38\uc5d0, ignore_patterns() \ub77c\ub294 \ud568\uc218\uac00 \uc774\ubbf8 \uad6c\ud604\ub418\uc5b4 \uc788\uc74c"
     ]
    },
    {
     "cell_type": "code",
     "collapsed": false,
     "input": [
      "dst = os.path.join(path, '13', 'test3')\n",
      "shutil.copytree(src, dst, ignore=shutil.ignore_patterns('~*', '*.py'))"
     ],
     "language": "python",
     "metadata": {},
     "outputs": [
      {
       "metadata": {},
       "output_type": "pyout",
       "prompt_number": 209,
       "text": [
        "'/Users/re4lfl0w/Documents/ipython/books/python_cookbook/13/test3'"
       ]
      }
     ],
     "prompt_number": 209
    },
    {
     "cell_type": "code",
     "collapsed": false,
     "input": [
      "!ls -l 13/test3"
     ],
     "language": "python",
     "metadata": {},
     "outputs": [
      {
       "output_type": "stream",
       "stream": "stdout",
       "text": [
        "total 0\r\n",
        "-rw-r--r--   1 re4lfl0w  staff    0 Oct 31 17:05 1.txt\r\n",
        "drwxr-xr-x   2 re4lfl0w  staff   68 Oct 31 04:38 \u001b[34madding_logging_to_libraries\u001b[m\u001b[m\r\n",
        "drwxr-xr-x   2 re4lfl0w  staff   68 Oct 31 04:38 \u001b[34mexecuting_an_external_command_and_getting_its_output\u001b[m\u001b[m\r\n",
        "drwxr-xr-x   2 re4lfl0w  staff   68 Oct 31 04:38 \u001b[34mfinding_files\u001b[m\u001b[m\r\n",
        "drwxr-xr-x   2 re4lfl0w  staff   68 Oct 31 04:38 \u001b[34mgenerating_a_range_of_ip_addresses_from_a_cidr_address\u001b[m\u001b[m\r\n",
        "drwxr-xr-x   2 re4lfl0w  staff   68 Oct 31 04:38 \u001b[34mgetting_the_terminal_size\u001b[m\u001b[m\r\n",
        "drwxr-xr-x   2 re4lfl0w  staff   68 Oct 31 04:38 \u001b[34mmaking_a_stopwatch\u001b[m\u001b[m\r\n",
        "drwxr-xr-x   2 re4lfl0w  staff   68 Oct 31 04:38 \u001b[34mparsing_command_line_options\u001b[m\u001b[m\r\n",
        "drwxr-xr-x   2 re4lfl0w  staff   68 Oct 31 04:38 \u001b[34mprompting_for_a_password_at_runtime\u001b[m\u001b[m\r\n",
        "drwxr-xr-x   2 re4lfl0w  staff   68 Oct 31 04:38 \u001b[34mputting_limits_on_memory_and_cpu_usage\u001b[m\u001b[m\r\n",
        "drwxr-xr-x   3 re4lfl0w  staff  102 Oct 31 04:38 \u001b[34mreading_configuration_files\u001b[m\u001b[m\r\n",
        "drwxr-xr-x   3 re4lfl0w  staff  102 Oct 31 04:38 \u001b[34msimple_logging_for_scripts\u001b[m\u001b[m\r\n",
        "drwxr-xr-x   2 re4lfl0w  staff   68 Oct 31 17:04 \u001b[34mtest\u001b[m\u001b[m\r\n",
        "drwxr-xr-x  15 re4lfl0w  staff  510 Oct 31 17:05 \u001b[34mtest2\u001b[m\u001b[m\r\n"
       ]
      }
     ],
     "prompt_number": 210
    },
    {
     "cell_type": "markdown",
     "metadata": {},
     "source": [
      "### \ud1a0\ub860\n",
      "\n",
      "- shutil\ub85c \ud30c\uc77c\uacfc \ub514\ub809\ud1a0\ub9ac\ub97c \ubcf5\uc0ac\ud558\uae30\ub294 \uc5b4\ub835\uc9c0 \uc54a\uc74c. \ud558\uc9c0\ub9cc \ud55c \uac00\uc9c0 \uc8fc\uc758\ud560 \uc810\uc740, \ud30c\uc77c\uc758 \uba54\ud0c0\ub370\uc774\ud130\ub97c \ubcf4\uc874\ud558\ub294 \ud568\uc218\ub294 copy2()\uc640 \uac19\uc740 \ud568\uc218 \uc678\uc5d0\ub294 \uc5c6\ub2e4\ub294 \uc810\n",
      "- \uc811\uadfc \uc2dc\uac04, \uc0dd\uc131 \uc2dc\uac04, \uad8c\ud55c \ub4f1 \uae30\ubcf8\uc801\uc778 \uc815\ubcf4\ub294 \ud56d\uc0c1 \ubcf4\uc874\ub418\uc9c0\ub9cc\n",
      "- \uc18c\uc720\uc790, ACL, \uc790\uc6d0 \ud3ec\ud06c \ub4f1 \ucd94\uac00\uc801\uc778 \uba54\ud0c0\ub370\uc774\ud130\ub294 \uc6b4\uc601\uccb4\uc81c\uc640 \uc0ac\uc6a9\uc790\uc758 \uc811\uadfc \uad8c\ud55c\uc5d0 \ub530\ub77c \ubcf4\uc874 \uc5ec\ubd80\uac00 \ub2ec\ub77c\uc9d0\n",
      "- shutil.copytree()\uc640 \uac19\uc740 \ud568\uc218\ub85c \uc2dc\uc2a4\ud15c \ubc31\uc5c5\uc744 \uc218\ud589\ud558\uace0 \uc2f6\uc9c0\ub294 \uc54a\uc744\uac83\n",
      "- \ud30c\uc77c \uc774\ub984\uc73c\ub85c \uc791\uc5c5\uc744 \ud560 \ub54c\ub294 os.path\uc5d0 \uc788\ub294 \ud568\uc218\ub97c \uc0ac\uc6a9\ud574\uc11c, \uc774\uc2dd\uc131\uc744 \uadf9\ub300\ud654\ud558\ub3c4\ub85d \ud558\uc790(Unix\uc640 Windows \uc5d0\uc11c \ub3d9\uc2dc \uc791\uc5c5\ud558\ub294 \uacbd\uc6b0 \ud2b9\ud788 \uadf8\ub807\ub2e4)"
     ]
    },
    {
     "cell_type": "code",
     "collapsed": false,
     "input": [
      "filename = '/Users/re4lfl0w/Documents/logging.txt'"
     ],
     "language": "python",
     "metadata": {},
     "outputs": [],
     "prompt_number": 211
    },
    {
     "cell_type": "code",
     "collapsed": false,
     "input": [
      "import os"
     ],
     "language": "python",
     "metadata": {},
     "outputs": [],
     "prompt_number": 213
    },
    {
     "cell_type": "code",
     "collapsed": false,
     "input": [
      "os.path.basename(filename)"
     ],
     "language": "python",
     "metadata": {},
     "outputs": [
      {
       "metadata": {},
       "output_type": "pyout",
       "prompt_number": 214,
       "text": [
        "'logging.txt'"
       ]
      }
     ],
     "prompt_number": 214
    },
    {
     "cell_type": "code",
     "collapsed": false,
     "input": [
      "os.path.dirname(filename)"
     ],
     "language": "python",
     "metadata": {},
     "outputs": [
      {
       "metadata": {},
       "output_type": "pyout",
       "prompt_number": 215,
       "text": [
        "'/Users/re4lfl0w/Documents'"
       ]
      }
     ],
     "prompt_number": 215
    },
    {
     "cell_type": "code",
     "collapsed": false,
     "input": [
      "os.path.split(filename)"
     ],
     "language": "python",
     "metadata": {},
     "outputs": [
      {
       "metadata": {},
       "output_type": "pyout",
       "prompt_number": 216,
       "text": [
        "('/Users/re4lfl0w/Documents', 'logging.txt')"
       ]
      }
     ],
     "prompt_number": 216
    },
    {
     "cell_type": "code",
     "collapsed": false,
     "input": [
      "os.path.join('/new/dir', os.path.basename(filename))"
     ],
     "language": "python",
     "metadata": {},
     "outputs": [
      {
       "metadata": {},
       "output_type": "pyout",
       "prompt_number": 217,
       "text": [
        "'/new/dir/logging.txt'"
       ]
      }
     ],
     "prompt_number": 217
    },
    {
     "cell_type": "code",
     "collapsed": false,
     "input": [
      "help(os.path.expanduser)"
     ],
     "language": "python",
     "metadata": {},
     "outputs": [
      {
       "output_type": "stream",
       "stream": "stdout",
       "text": [
        "Help on function expanduser in module posixpath:\n",
        "\n",
        "expanduser(path)\n",
        "    Expand ~ and ~user constructions.  If user or $HOME is unknown,\n",
        "    do nothing.\n",
        "\n"
       ]
      }
     ],
     "prompt_number": 224
    },
    {
     "cell_type": "code",
     "collapsed": false,
     "input": [
      "# ~\uac00 \ud658\uacbd\ubcc0\uc218\uc758 HOME\uc73c\ub85c \ubcc0\uacbd\n",
      "os.path.expanduser('~/guido/programs/spam.py')"
     ],
     "language": "python",
     "metadata": {},
     "outputs": [
      {
       "metadata": {},
       "output_type": "pyout",
       "prompt_number": 218,
       "text": [
        "'/Users/re4lfl0w/guido/programs/spam.py'"
       ]
      }
     ],
     "prompt_number": 218
    },
    {
     "cell_type": "code",
     "collapsed": false,
     "input": [
      "os.path.join('~/guido/programs/spam.py')"
     ],
     "language": "python",
     "metadata": {},
     "outputs": [
      {
       "metadata": {},
       "output_type": "pyout",
       "prompt_number": 223,
       "text": [
        "'~/guido/programs/spam.py'"
       ]
      }
     ],
     "prompt_number": 223
    },
    {
     "cell_type": "markdown",
     "metadata": {},
     "source": [
      "- copytree()\ub85c \ub514\ub809\ud1a0\ub9ac\ub97c \ubcf5\uc0ac\ud560 \ub54c \uc5d0\ub7ec\ub97c \ucc98\ub9ac\ud558\uae30\uac00 \uc870\uae08 \uc5b4\ub835\ub2e4.\n",
      "- \uc608\ub97c \ub4e4\uc5b4, \ubcf5\uc0ac\ub97c \ud558\ub294 \ub3d9\u3147\ub098 \ud568\uc218\uac00 \uc798\ubabb\ub41c \uc2ec\ubcfc\ub9ad \ub9c1\ud06c\ub098 \uad8c\ud55c\uc774 \uc5c6\uc5b4 \uc811\uadfc\ud560 \uc218 \uc5c6\ub294 \ud30c\uc77c\uc744 \ubc1c\uacac\ud558\ub294 \uacbd\uc6b0\uac00 \uc788\uc74c\n",
      "- \uc774\ub7f0 \ubb38\uc81c\ub97c \ucc98\ub9ac\ud558\ub824\uba74 \ubc1c\uacac\ud55c \ubaa8\ub4e0 \uc5d0\ub7ec\ub97c \ub9ac\uc2a4\ud2b8\uc5d0 \uc218\uc9d1\ud574 \ub193\uace0, \uc791\uc5c5\uc774 \ub05d\ub0ac\uc744 \ub54c \ud55c \ubc88 \ubc1c\uc0dd\ud558\ub294 \uc608\uc678\ub85c \uadf8\ub8f9\uc744 \uc9c0\uc5b4\uc57c \ud568"
     ]
    },
    {
     "cell_type": "code",
     "collapsed": false,
     "input": [
      "!ls -l 13"
     ],
     "language": "python",
     "metadata": {},
     "outputs": [
      {
       "output_type": "stream",
       "stream": "stdout",
       "text": [
        "total 24\r\n",
        "-rw-r--r--   1 re4lfl0w  staff    0 Oct 31 17:05 1.txt\r\n",
        "drwxr-xr-x   3 re4lfl0w  staff  102 Oct 31 04:38 \u001b[34madding_logging_to_libraries\u001b[m\u001b[m\r\n",
        "drwxr-xr-x   4 re4lfl0w  staff  136 Oct 31 04:38 \u001b[34mexecuting_an_external_command_and_getting_its_output\u001b[m\u001b[m\r\n",
        "-rw-r--r--   1 re4lfl0w  staff  128 Oct 31 17:02 filein.py\r\n",
        "drwxr-xr-x   3 re4lfl0w  staff  102 Oct 31 04:38 \u001b[34mfinding_files\u001b[m\u001b[m\r\n",
        "drwxr-xr-x   3 re4lfl0w  staff  102 Oct 31 04:38 \u001b[34mgenerating_a_range_of_ip_addresses_from_a_cidr_address\u001b[m\u001b[m\r\n",
        "drwxr-xr-x   3 re4lfl0w  staff  102 Oct 31 04:38 \u001b[34mgetting_the_terminal_size\u001b[m\u001b[m\r\n",
        "drwxr-xr-x   3 re4lfl0w  staff  102 Oct 31 04:38 \u001b[34mmaking_a_stopwatch\u001b[m\u001b[m\r\n",
        "drwxr-xr-x   3 re4lfl0w  staff  102 Oct 31 04:38 \u001b[34mparsing_command_line_options\u001b[m\u001b[m\r\n",
        "drwxr-xr-x   3 re4lfl0w  staff  102 Oct 31 04:38 \u001b[34mprompting_for_a_password_at_runtime\u001b[m\u001b[m\r\n",
        "drwxr-xr-x   3 re4lfl0w  staff  102 Oct 31 04:38 \u001b[34mputting_limits_on_memory_and_cpu_usage\u001b[m\u001b[m\r\n",
        "drwxr-xr-x   4 re4lfl0w  staff  136 Oct 31 04:38 \u001b[34mreading_configuration_files\u001b[m\u001b[m\r\n",
        "drwxr-xr-x   5 re4lfl0w  staff  170 Oct 31 04:38 \u001b[34msimple_logging_for_scripts\u001b[m\u001b[m\r\n",
        "drwxr-xr-x   3 re4lfl0w  staff  102 Oct 31 17:04 \u001b[34mtest\u001b[m\u001b[m\r\n",
        "drwxr-xr-x  15 re4lfl0w  staff  510 Oct 31 17:05 \u001b[34mtest2\u001b[m\u001b[m\r\n",
        "drwxr-xr-x  16 re4lfl0w  staff  544 Oct 31 17:07 \u001b[34mtest3\u001b[m\u001b[m\r\n",
        "drwxr-xr-x  19 re4lfl0w  staff  646 Oct 31 17:20 \u001b[34mtest5\u001b[m\u001b[m\r\n",
        "-rw-r--r--@  1 re4lfl0w  staff  318 Oct 31 17:03 test_getpass.py\r\n"
       ]
      }
     ],
     "prompt_number": 229
    },
    {
     "cell_type": "code",
     "collapsed": false,
     "input": [
      "!chmod 000 13/1.txt 13/test_getpass.py"
     ],
     "language": "python",
     "metadata": {},
     "outputs": [],
     "prompt_number": 238
    },
    {
     "cell_type": "code",
     "collapsed": false,
     "input": [
      "src = os.path.join(path, '13')\n",
      "dst = os.path.join(path, '13', 'test7')\n",
      "\n",
      "try:\n",
      "    shutil.copytree(src, dst)\n",
      "except shutil.Error as e:\n",
      "    for src, dst, msg in e.args[0]:\n",
      "        # src\ub294 \uc18c\uc2a4 \uc774\ub984\n",
      "        # dst\ub294 \ubaa9\uc801\uc9c0 \uc774\ub984\n",
      "        # msg\ub294 \uc608\uc678\uc758 \uc5d0\ub7ec \uba54\uc2dc\uc9c0\n",
      "        print(dst, src, msg)"
     ],
     "language": "python",
     "metadata": {},
     "outputs": [
      {
       "output_type": "stream",
       "stream": "stdout",
       "text": [
        "/Users/re4lfl0w/Documents/ipython/books/python_cookbook/13/test7/1.txt /Users/re4lfl0w/Documents/ipython/books/python_cookbook/13/1.txt [Errno 13] Permission denied: '/Users/re4lfl0w/Documents/ipython/books/python_cookbook/13/1.txt'\n",
        "/Users/re4lfl0w/Documents/ipython/books/python_cookbook/13/test7/test_getpass.py /Users/re4lfl0w/Documents/ipython/books/python_cookbook/13/test_getpass.py [Errno 13] Permission denied: '/Users/re4lfl0w/Documents/ipython/books/python_cookbook/13/test_getpass.py'\n"
       ]
      }
     ],
     "prompt_number": 239
    },
    {
     "cell_type": "markdown",
     "metadata": {},
     "source": [
      "- \ub9cc\uc57d ignore_dangling_symlinks=True\ub97c \ucd94\uac00\ud558\uba74 copytree\ub294 \uc798\ubabb\ub41c(dangling) \uc2ec\ub9c1\ud06c\ub97c \ubb34\uc2dc\ud568\n",
      "- \uc0ac\uc2e4 \uc774\ubc88 \ub808\uc2dc\ud53c\uc5d0\uc11c \uc0b4\ud3b4\ubcf8 \ud568\uc218\ub294 \uc77c\ubc18\uc801\uc73c\ub85c \ub9ce\uc774 \uc0ac\uc6a9\ud558\uc9c0\ub294 \uc54a\uc74c\n",
      "- \ud558\uc9c0\ub9cc [shutil](https://docs.python.org/3/library/shutil.html)\uc5d0\ub294 \ub370\uc774\ud130 \ubcf5\uc0ac\uc640 \uad00\ub828\ub41c \ub354 \ub9ce\uc740 \ub3d9\uc791\uc774 \uc81c\uacf5\ub428\n",
      "- \uad00\uc2ec\uc774 \uc788\ub2e4\uba74 \ud30c\uc774\uc36c \uc628\ub77c\uc778 \ubb38\uc11c\ub97c \ucc38\uace0"
     ]
    },
    {
     "cell_type": "markdown",
     "metadata": {},
     "source": [
      "## 13.8 \uc555\ucd95 \ud30c\uc77c \uc0dd\uc131\uacfc \ud574\uc81c\n",
      "\n",
      "### \ubb38\uc81c\n",
      "\n",
      "- \uc77c\ubc18\uc801\uc778 \ud3ec\ub9f7(.tar, .tgz, .zip \ub4f1)\uc73c\ub85c \uc555\ucd95 \ud30c\uc77c\uc744 \uc0dd\uc131\ud558\uac70\ub098 \ud480\uace0 \uc2f6\ub2e4\n",
      "\n",
      "### \ud574\uacb0\n",
      "\n",
      "- \uc774 \ubb38\uc81c\ub294 shutil\uc5d0 \ub450 \ud568\uc218 make_archive()\uc640 unapck_archive()\ub85c \ud574\uacb0"
     ]
    },
    {
     "cell_type": "code",
     "collapsed": false,
     "input": [
      "import shutil"
     ],
     "language": "python",
     "metadata": {},
     "outputs": [],
     "prompt_number": 240
    },
    {
     "cell_type": "code",
     "collapsed": false,
     "input": [
      "# \ud604\uc7ac pwd\uc5d0 \ud480\ub9bc\n",
      "shutil.unpack_archive('13/SizeUp.zip', '13')"
     ],
     "language": "python",
     "metadata": {},
     "outputs": [],
     "prompt_number": 249
    },
    {
     "cell_type": "code",
     "collapsed": false,
     "input": [
      "shutil.make_archive('13/test7', 'zip', '13/test7')"
     ],
     "language": "python",
     "metadata": {},
     "outputs": [
      {
       "metadata": {},
       "output_type": "pyout",
       "prompt_number": 253,
       "text": [
        "'/Users/re4lfl0w/Documents/ipython/books/python_cookbook/13/test7.zip'"
       ]
      }
     ],
     "prompt_number": 253
    },
    {
     "cell_type": "markdown",
     "metadata": {},
     "source": [
      "- make_archive()\uc758 \ub450 \ubc88\uc9f8 \uc778\uc790\ub294 \uc6d0\ud558\ub294 \ud3ec\ub9f7\n",
      "- \uc9c0\uc6d0\ud558\ub294 \uc555\ucd95 \ud3ec\ub9f7\uc744 \ubcf4\ub824\uba74 get_archive_formats()\uc744 \uc0ac\uc6a9"
     ]
    },
    {
     "cell_type": "code",
     "collapsed": false,
     "input": [
      "shutil.get_archive_formats()"
     ],
     "language": "python",
     "metadata": {},
     "outputs": [
      {
       "metadata": {},
       "output_type": "pyout",
       "prompt_number": 255,
       "text": [
        "[('bztar', \"bzip2'ed tar-file\"),\n",
        " ('gztar', \"gzip'ed tar-file\"),\n",
        " ('tar', 'uncompressed tar file'),\n",
        " ('zip', 'ZIP file')]"
       ]
      }
     ],
     "prompt_number": 255
    },
    {
     "cell_type": "code",
     "collapsed": false,
     "input": [
      "# Utility functions for copying and archiving files and directory trees.\n",
      "# help(shutil)"
     ],
     "language": "python",
     "metadata": {},
     "outputs": [],
     "prompt_number": 257
    },
    {
     "cell_type": "markdown",
     "metadata": {},
     "source": [
      "### \ud1a0\ub860\n",
      "\n",
      "- \ud30c\uc774\uc36c\uc740 \ub354 \ub9ce\uc740 \uc555\ucd95 \ud3ec\ub9f7\uc758 \uc138\uc138\ud55c \ubd80\ubd84\uc744 \ub2e4\ub8e8\ub294 \ub77c\uc774\ube0c\ub7ec\ub9ac \ubaa8\ub4c8\ub3c4 \uc81c\uacf5\ud568(tarfile, zipfile, gzip, bz2 \ub4f1)\n",
      "- \ud558\uc9c0\ub9cc \ub2e8\uc21c\ud788 \uc555\ucd95\ud558\uac70\ub098 \ud574\uc81c\ud558\ub294 \uac83\uc774 \ubaa9\ud45c\ub77c\uba74 \uc774\ub807\uac8c \ud558\uc704 \ub808\ubca8\ub85c \ub0b4\ub824\uac08 \uc774\uc720\uac00 \uc5c6\ub2e4.\n",
      "- \ub2e8\uc21c\ud788 shutil\uc774 \uc81c\uacf5\ud558\ub294 \uc0c1\uc704 \ub808\ubca8 \ud568\uc218\ub97c \uc0ac\uc6a9\ud558\ub3c4\ub85d \ud558\uc790\n",
      "- \uc774 \ud568\uc218\uc5d0\ub294 \ub85c\uae45, \uc5f0\uc2b5(dryrun), \ud30c\uc77c \uad8c\ud55c \ub4f1\uc744 \uc870\uc808\ud560 \uc218 \uc788\ub294 \ucd94\uac00\uc801\uc778 \uc635\uc158\uc774 \ub9ce\uc774 \uc788\uc74c\n",
      "- \uc790\uc138\ud55c \uc815\ubcf4\ub294 shutil \ub77c\uc774\ube0c\ub7ec\ub9ac \ubb38\uc11c\ub97c \ucc38\uace0"
     ]
    },
    {
     "cell_type": "markdown",
     "metadata": {},
     "source": [
      "## 13.9 \uc774\ub984\uc73c\ub85c \ud30c\uc77c \ucc3e\uae30\n",
      "\n",
      "### \ubb38\uc81c\n",
      "\n",
      "- \ud30c\uc77c \uc774\ub984\uc744 \ubc14\uafb8\ub294 \uc2a4\ud06c\ub9bd\ud2b8\ub098 \ub85c\uadf8 \uc720\ud2f8\ub9ac\ud2f0\uc640 \uac19\uc774 \ud30c\uc77c\uc744 \ucc3e\ub294 \uc2a4\ud06c\ub9bd\ud2b8\ub97c \uc791\uc131 \uc911\uc774\ub2e4.\n",
      "- \ud558\uc9c0\ub9cc \uc258 \uc720\ud2f8\ub9ac\ud2f0\ub97c \ud638\ucd9c\ud558\uc9c0 \uc54a\uace0 \ud30c\uc774\uc36c \uc2a4\ud06c\ub9bd\ud2b8 \ub0b4\ubd80\uc5d0\uc11c \ud574\uacb0\ud558\uace0 \uc2f6\ub2e4.\n",
      "- \ud639\uc740 \uc258\uc5d0\uc11c\ub294 \ubd88\uac00\ub2a5\ud55c \ud2b9\ubcc4\ud55c \ub3d9\uc791\uc744 \uc218\ud589\ud558\uace0 \uc2f6\ub2e4.\n",
      "\n",
      "### \ud574\uacb0\n",
      "\n",
      "- \ud30c\uc77c\uc744 \ucc3e\uc73c\ub824\uba74 os.walk() \ud568\uc218\uc5d0 \ucd5c\uc0c1\ub2e8 \ub514\ub809\ud1a0\ub9ac\ub97c \ub123\uc74c\n",
      "- \ub2e4\uc74c\uc740 \ud2b9\uc815 \ud30c\uc77c \uc774\ub984\uc744 \ucc3e\uace0 \uadf8 \uacb0\uacfc\uc758 \uc804\uccb4 \uacbd\ub85c\ub97c \ucd9c\ub825\ud558\ub294 \uc608\uc81c"
     ]
    },
    {
     "cell_type": "code",
     "collapsed": false,
     "input": [
      "%%writefile 13/findfile.py\n",
      "#!/usr/bin/env python3\n",
      "import os\n",
      "import sys\n",
      "\n",
      "def findfile(start, name):\n",
      "    for relpath, dirs, files in os.walk(start):\n",
      "        if name in files:\n",
      "            full_path = os.path.join(start, relpath, name)\n",
      "            print(os.path.normpath(os.path.abspath(full_path)))\n",
      "            \n",
      "if __name__ == '__main__':\n",
      "    findfile(sys.argv[1], sys.argv[2])"
     ],
     "language": "python",
     "metadata": {},
     "outputs": [
      {
       "output_type": "stream",
       "stream": "stdout",
       "text": [
        "Overwriting 13/findfile.py\n"
       ]
      }
     ],
     "prompt_number": 263
    },
    {
     "cell_type": "markdown",
     "metadata": {},
     "source": [
      "- \uc774 \uc2a4\ud06c\ub9bd\ud2b8\ub97c findfile.py\ub85c \uc800\uc7a5\ud558\uace0 \ucee4\ub9e8\ub4dc \ub77c\uc778\uc5d0\uc11c \uc2e4\ud589\ud568\n",
      "- \uc2dc\uc791 \uc9c0\uc810\uacfc \uc704\uce58 \uc778\uc790\ub294 \ub2e4\uc74c\uacfc \uac19\uc774 \ub123\uc74c"
     ]
    },
    {
     "cell_type": "code",
     "collapsed": false,
     "input": [
      "%run 13/findfile.py . 1.txt"
     ],
     "language": "python",
     "metadata": {},
     "outputs": [
      {
       "output_type": "stream",
       "stream": "stdout",
       "text": [
        "/Users/re4lfl0w/Documents/ipython/books/python_cookbook/13/1.txt\n",
        "/Users/re4lfl0w/Documents/ipython/books/python_cookbook/13/test2/1.txt\n",
        "/Users/re4lfl0w/Documents/ipython/books/python_cookbook/13/test3/1.txt\n",
        "/Users/re4lfl0w/Documents/ipython/books/python_cookbook/13/test3/test2/1.txt\n",
        "/Users/re4lfl0w/Documents/ipython/books/python_cookbook/13/test5/1.txt\n",
        "/Users/re4lfl0w/Documents/ipython/books/python_cookbook/13/test5/test2/1.txt\n",
        "/Users/re4lfl0w/Documents/ipython/books/python_cookbook/13/test5/test3/1.txt\n",
        "/Users/re4lfl0w/Documents/ipython/books/python_cookbook/13/test5/test3/test2/1.txt\n",
        "/Users/re4lfl0w/Documents/ipython/books/python_cookbook/13/test7/test2/1.txt\n",
        "/Users/re4lfl0w/Documents/ipython/books/python_cookbook/13/test7/test3/1.txt\n",
        "/Users/re4lfl0w/Documents/ipython/books/python_cookbook/13/test7/test3/test2/1.txt\n",
        "/Users/re4lfl0w/Documents/ipython/books/python_cookbook/13/test7/test5/1.txt\n",
        "/Users/re4lfl0w/Documents/ipython/books/python_cookbook/13/test7/test5/test2/1.txt\n",
        "/Users/re4lfl0w/Documents/ipython/books/python_cookbook/13/test7/test5/test3/1.txt\n",
        "/Users/re4lfl0w/Documents/ipython/books/python_cookbook/13/test7/test5/test3/test2/1.txt\n"
       ]
      }
     ],
     "prompt_number": 264
    },
    {
     "cell_type": "markdown",
     "metadata": {},
     "source": [
      "### \ud1a0\ub860\n",
      "\n",
      "- os.walk() \uba54\uc18c\ub4dc\ub294 \ub514\ub809\ud1a0\ub9ac\ub97c \uc21c\ud658\ud558\uba70 \uac01 \ub514\ub809\ud1a0\ub9ac\ub9c8\ub2e4 \ud29c\ud50c\uc744 \ubc18\ud658\ud568\n",
      "- \ud29c\ud50c\uc5d0\ub294 \ud604\uc7ac \ubcf4\uace0 \uc788\ub294 \ub514\ub809\ud1a0\ub9ac\uc758 \uc0c1\ub300 \uacbd\ub85c, \ub514\ub809\ud1a0\ub9ac\uc5d0 \ub4e4\uc5b4\uc788\ub294 \ubaa8\ub4e0 \ub514\ub809\ud1a0\ub9ac \uc774\ub984 \ub9ac\uc2a4\ud2b8, \ub514\ub809\ud1a0\ub9ac\uc5d0 \ub4e4\uc5b4\uc788\ub294 \ubaa8\ub4e0 \ud30c\uc77c \uc774\ub984 \ub9ac\uc2a4\ud2b8 \uc815\ubcf4\uac00 \ub2f4\uaca8 \uc788\uc74c\n",
      "- \uac01 \ud29c\ud50c\ub9c8\ub2e4 files \ub9ac\uc2a4\ud2b8\uc5d0 \ud30c\uc77c\uc774 \uc788\ub294\uc9c0 \ud655\uc778\ud568\n",
      "- \ud655\uc778\ud55c \uacbd\uc6b0 os.path.join()\uc73c\ub85c \uacbd\ub85c\ub97c \ubd99\uc784\n",
      "- ././foo//bar\uc640 \uac19\uc774 \uc774\uc0c1\ud55c \uc774\ub984\uc744 \ud53c\ud558\uae30 \uc704\ud574\uc11c \ucd94\uac00\uc801\uc73c\ub85c 2\uac00\uc9c0 \ud568\uc218\ub97c \uc0ac\uc6a9\ud568\n",
      "- 1\ubc88\uc9f8 \ud568\uc218\ub294 os.path.abspath()\ub85c, \uc0c1\ub300\uc801\uc73c\ub85c \ud45c\ud604\ub418\uc5c8\uc744 \uc218 \uc788\ub294 \uacbd\ub85c\ub97c \ubc1b\uc544 \uc808\ub300 \uacbd\ub85c\ub85c \ubc14\uafbc\ub2e4.\n",
      "- 2\ubc88\uc9f8\ub294 os.path.normpath()\ub85c, \uacbd\ub85c\ub97c \ub178\uba40\ud654\ud558\uace0 \uc2ac\ub798\uc2dc\uac00 2\uac1c \ub098\uc624\ub294 \ubb38\uc81c\uc640 \ud604\uc7ac \ub514\ub809\ud1a0\ub9ac\ub97c \uc5ec\ub7ec \ubc88 \ucc38\uc870\ud558\ub294 \ubb38\uc81c \ub4f1\uc744 \ud574\uacb0\ud568(\uad49\uc7a5\ud788 \uc911\uc694\ud568. \uc774\uac70 \uc548\ud558\uba74 \uc911\ubcf5 \uc81c\uac70\uac00 \uc81c\ub300\ub85c \ub418\uc9c0 \uc54a\uc74c)\n",
      "- \uc774 \uc2a4\ud06c\ub9bd\ud2b8\uac00 UNIX \ud50c\ub7ab\ud3fc\uc758 find \uc720\ud2f8\ub9ac\ud2f0 \uae30\ub2a5\uc5d0 \ube44\ud574\uc11c \uaf64 \uac04\ub2e8\ud558\uc9c0\ub9cc, \uc5ec\ub7ec \ud50c\ub7ab\ud3fc\uc5d0\uc11c \uc0ac\uc6a9\ud560 \uc218 \uc788\ub2e4\ub294 \uc7a5\uc810\uc774 \uc788\uc74c\n",
      "- \uac8c\ub2e4\uac00 \ud070 \ub178\ub825\uc5c6\uc774 \ub354 \ub9ce\uc740 \uae30\ub2a5\uc744 \ucd94\uac00\ud560 \uc218 \uc788\uc74c\n",
      "- \uc774\ud574\ub97c \ub3d5\uae30 \uc704\ud574\uc11c \ucd5c\uadfc\uc5d0 \uc218\uc815\ud55c \ubaa8\ub4e0 \ud30c\uc77c\uc744 \ucd9c\ub825\ud558\ub294 \uc608\uc81c\ub97c \ubcf4\uc790"
     ]
    },
    {
     "cell_type": "code",
     "collapsed": false,
     "input": [
      "%%writefile 13/modified.py\n",
      "#!/usr/bin/env python\n",
      "import os\n",
      "import time\n",
      "\n",
      "def modified_within(top, seconds):\n",
      "    now = time.time()\n",
      "    for path, dirs, files in os.walk(top):\n",
      "        for name in files:\n",
      "            fullpath = os.path.join(path, name)\n",
      "            if os.path.exists(fullpath):\n",
      "                mtime = os.path.getmtime(fullpath)\n",
      "                if mtime > (now - seconds):\n",
      "                    print(fullpath)\n",
      "                    \n",
      "if __name__ == '__main__':\n",
      "    import sys\n",
      "    if len(sys.argv) != 3:\n",
      "        print('Usage: {} dir seconds'.format(sys.argv[0]))\n",
      "        raise SystemExit(1)\n",
      "    modified_within(sys.argv[1], float(sys.argv[2]))"
     ],
     "language": "python",
     "metadata": {},
     "outputs": [
      {
       "output_type": "stream",
       "stream": "stdout",
       "text": [
        "Overwriting 13/modified.py\n"
       ]
      }
     ],
     "prompt_number": 317
    },
    {
     "cell_type": "code",
     "collapsed": false,
     "input": [
      "%run 13/modified.py . 10"
     ],
     "language": "python",
     "metadata": {},
     "outputs": [
      {
       "output_type": "stream",
       "stream": "stdout",
       "text": [
        "./13/modified.py\n"
       ]
      }
     ],
     "prompt_number": 318
    },
    {
     "cell_type": "markdown",
     "metadata": {},
     "source": [
      "- os, os.path, glob \ub4f1 \uc720\uc0ac \ubaa8\ub4c8\uc744 \uc0ac\uc6a9\ud558\uba74 \uc774\ubcf4\ub2e4 \ud6e8\uc52c \ubcf5\uc7a1\ud55c \uc791\uc5c5\ub3c4 \uc5b4\ub835\uc9c0 \uc54a\uac8c \uc218\ud589 \ud560 \uc218 \uc788\uc74c\n",
      "- \uad00\ub828 \ub808\uc2dc\ud53c\ub97c \ubcf4\ub824\uba74 \ub808\uc2dc\ud53c 5.11, 5.13\uc744 \ucc38\uace0"
     ]
    },
    {
     "cell_type": "markdown",
     "metadata": {},
     "source": [
      "## 13.10 \ud658\uacbd \uc124\uc815 \ud30c\uc77c \uc77d\uae30\n",
      "\n",
      "### \ubb38\uc81c\n",
      "\n",
      "- .ini \ud3ec\ub9f7\uc73c\ub85c \uae30\ub85d\ub41c \ud658\uacbd \uc124\uc815 \ud30c\uc77c\uc744 \uc77c\uace0 \uc2f6\uc74c\n",
      "\n",
      "### \ud574\uacb0\n",
      "\n",
      "- \uc774 \ubb38\uc81c\ub97c \ud574\uacb0\ud558\uae30 \uc704\ud574\uc11c configparser \ubaa8\ub4c8\uc744 \uc0ac\uc6a9\ud568\n",
      "- \uc608\ub97c \ub4e4\uc5b4 \ub2e4\uc74c\uacfc \uac19\uc740 \uc124\uc815 \ud30c\uc77c\uc774 \uc788\ub2e4\uace0 \uac00\uc815\ud574 \ubcf4\uc790"
     ]
    },
    {
     "cell_type": "code",
     "collapsed": false,
     "input": [
      "%%writefile 13/config.ini\n",
      "; config.ini\n",
      "; Sample configuration file\n",
      "\n",
      "[installation]\n",
      "library=%(prefix)s/lib\n",
      "include=%(prefix)s/include\n",
      "bin=%(prefix)s/bin\n",
      "prefix=/usr/local\n",
      "\n",
      "# Setting related to debug configuration\n",
      "[debug]\n",
      "log_errors=true\n",
      "show_warnings=False\n",
      "\n",
      "[server]\n",
      "port: 8080\n",
      "nworkers: 32\n",
      "pid-file=/tmp/spam.pid\n",
      "root=/www/root\n",
      "signature:\n",
      "    ========================================\n",
      "    Brought to you by the Python Cookbook\n",
      "    ========================================"
     ],
     "language": "python",
     "metadata": {},
     "outputs": [
      {
       "output_type": "stream",
       "stream": "stdout",
       "text": [
        "Writing 13/config.ini\n"
       ]
      }
     ],
     "prompt_number": 321
    },
    {
     "cell_type": "markdown",
     "metadata": {},
     "source": [
      "- \ub2e4\uc74c\uc740 \uc774 \ud30c\uc77c\uc744 \uc77d\uace0 \uac12\uc744 \uc5bb\ub294 \uc608\uc81c"
     ]
    },
    {
     "cell_type": "code",
     "collapsed": false,
     "input": [
      "from configparser import ConfigParser"
     ],
     "language": "python",
     "metadata": {},
     "outputs": [],
     "prompt_number": 319
    },
    {
     "cell_type": "code",
     "collapsed": false,
     "input": [
      "cfg = ConfigParser()"
     ],
     "language": "python",
     "metadata": {},
     "outputs": [],
     "prompt_number": 320
    },
    {
     "cell_type": "code",
     "collapsed": false,
     "input": [
      "cfg.read('13/config.ini')"
     ],
     "language": "python",
     "metadata": {},
     "outputs": [
      {
       "metadata": {},
       "output_type": "pyout",
       "prompt_number": 322,
       "text": [
        "['13/config.ini']"
       ]
      }
     ],
     "prompt_number": 322
    },
    {
     "cell_type": "code",
     "collapsed": false,
     "input": [
      "cfg.sections()"
     ],
     "language": "python",
     "metadata": {},
     "outputs": [
      {
       "metadata": {},
       "output_type": "pyout",
       "prompt_number": 323,
       "text": [
        "['installation', 'debug', 'server']"
       ]
      }
     ],
     "prompt_number": 323
    },
    {
     "cell_type": "code",
     "collapsed": false,
     "input": [
      "cfg.get('installation', 'library')"
     ],
     "language": "python",
     "metadata": {},
     "outputs": [
      {
       "metadata": {},
       "output_type": "pyout",
       "prompt_number": 324,
       "text": [
        "'/usr/local/lib'"
       ]
      }
     ],
     "prompt_number": 324
    },
    {
     "cell_type": "code",
     "collapsed": false,
     "input": [
      "cfg.getboolean('debug', 'log_errors')"
     ],
     "language": "python",
     "metadata": {},
     "outputs": [
      {
       "metadata": {},
       "output_type": "pyout",
       "prompt_number": 325,
       "text": [
        "True"
       ]
      }
     ],
     "prompt_number": 325
    },
    {
     "cell_type": "code",
     "collapsed": false,
     "input": [
      "cfg.getint('server', 'port')"
     ],
     "language": "python",
     "metadata": {},
     "outputs": [
      {
       "metadata": {},
       "output_type": "pyout",
       "prompt_number": 326,
       "text": [
        "8080"
       ]
      }
     ],
     "prompt_number": 326
    },
    {
     "cell_type": "code",
     "collapsed": false,
     "input": [
      "print(cfg.get('server', 'signature'))"
     ],
     "language": "python",
     "metadata": {},
     "outputs": [
      {
       "output_type": "stream",
       "stream": "stdout",
       "text": [
        "\n",
        "========================================\n",
        "Brought to you by the Python Cookbook\n",
        "========================================\n"
       ]
      }
     ],
     "prompt_number": 327
    },
    {
     "cell_type": "markdown",
     "metadata": {},
     "source": [
      "- \uc6d0\ud55c\ub2e4\uba74 \ub0b4\uc6a9\uc744 \uc218\uc815\ud558\uace0 cfg.write() \uba54\uc18c\ub4dc\ub85c \ud30c\uc77c\uc5d0 \uc4f8 \uc218\ub3c4 \uc788\uc74c"
     ]
    },
    {
     "cell_type": "code",
     "collapsed": false,
     "input": [
      "cfg.set('server', 'port', '9000')"
     ],
     "language": "python",
     "metadata": {},
     "outputs": [],
     "prompt_number": 328
    },
    {
     "cell_type": "code",
     "collapsed": false,
     "input": [
      "cfg.set('debug', 'log_errors', 'False')"
     ],
     "language": "python",
     "metadata": {},
     "outputs": [],
     "prompt_number": 329
    },
    {
     "cell_type": "code",
     "collapsed": false,
     "input": [
      "import sys"
     ],
     "language": "python",
     "metadata": {},
     "outputs": [],
     "prompt_number": 330
    },
    {
     "cell_type": "code",
     "collapsed": false,
     "input": [
      "cfg.write(sys.stdout)"
     ],
     "language": "python",
     "metadata": {},
     "outputs": [
      {
       "output_type": "stream",
       "stream": "stdout",
       "text": [
        "[installation]\n",
        "library = %(prefix)s/lib\n",
        "include = %(prefix)s/include\n",
        "bin = %(prefix)s/bin\n",
        "prefix = /usr/local\n",
        "\n",
        "[debug]\n",
        "log_errors = False\n",
        "show_warnings = False\n",
        "\n",
        "[server]\n",
        "port = 9000\n",
        "nworkers = 32\n",
        "pid-file = /tmp/spam.pid\n",
        "root = /www/root\n",
        "signature = \n",
        "\t========================================\n",
        "\tBrought to you by the Python Cookbook\n",
        "\t========================================\n",
        "\n"
       ]
      }
     ],
     "prompt_number": 331
    },
    {
     "cell_type": "markdown",
     "metadata": {},
     "source": [
      "### \ud1a0\ub860\n",
      "\n",
      "- \uc124\uc815 \ud30c\uc77c\uc740 \ud504\ub85c\uadf8\ub7a8\uc5d0 \uc0ac\uc6a9\ud560 \uc124\uc815 \ub370\uc774\ud130\ub97c \uc0ac\ub78c\uc774 \uc77d\uae30 \ud3b8\ud558\uac8c \ud45c\uc2dc\ud558\ub294 \ud3ec\ub9f7\n",
      "- \ubaa8\ub4e0 \uc124\uc815 \ud30c\uc77c\uc5d0\uc11c, \uac12\uc740 \uc11c\ub85c \ub2e4\ub978 \uc139\uc158\uc73c\ub85c \uadf8\ub8f9 \uc9d3\ub294\ub2e4(\uc608: \uc55e\uc758 \uc608\uc81c\uc5d0\uc11c\ub294 \"installation\", \"debug\", \"server\")\n",
      "- \ubaa8\ub4e0 \uc139\uc158\uc740 \uc5ec\ub7ec \ubcc0\uc218\uc5d0 \ub300\ud574\uc11c \uac12\uc744 \uba85\uc2dc\ud568\n",
      "- \ud658\uacbd \uc124\uc815 \ud30c\uc77c\uacfc \ub3d9\uc77c \ubaa9\uc801\uc758 \ud30c\uc774\uc36c \uc18c\uc2a4 \ud30c\uc77c\uc5d0\ub294 \ubd84\uba85\ud55c \ucc28\uc774\uc810\uc774 \uc874\uc7ac\n",
      "- \uccab\uc9f8, \uad6c\ubb38\uc774 \ud6e8\uc52c \uad00\ub300\ud558\uace0 \"\uc5c9\uc131\ud558\ub2e4\"\n",
      "- \uc608\ub97c \ub4e4\uc5b4 \ub2e4\uc74c \ub450 \ud560\ub2f9\uc740 \ub3d9\uc77c\ud55c \uc758\ubbf8\n",
      "```python\n",
      "prefix=/usr/local\n",
      "prefix: /usr/local\n",
      "```"
     ]
    },
    {
     "cell_type": "markdown",
     "metadata": {},
     "source": [
      "- \ub610\ud55c \uc124\uc815 \ud30c\uc77c\uc5d0\uc11c \uc0ac\uc6a9\ud55c \uc774\ub984\uc740 \ub300\uc18c\ubb38\uc790\ub97c \uad6c\ubd84\ud558\uc9c0 \uc54a\uc74c"
     ]
    },
    {
     "cell_type": "code",
     "collapsed": false,
     "input": [
      "cfg.get('installation', 'PREFIX')"
     ],
     "language": "python",
     "metadata": {},
     "outputs": [
      {
       "metadata": {},
       "output_type": "pyout",
       "prompt_number": 332,
       "text": [
        "'/usr/local'"
       ]
      }
     ],
     "prompt_number": 332
    },
    {
     "cell_type": "code",
     "collapsed": false,
     "input": [
      "cfg.get('installation', 'prefix')"
     ],
     "language": "python",
     "metadata": {},
     "outputs": [
      {
       "metadata": {},
       "output_type": "pyout",
       "prompt_number": 333,
       "text": [
        "'/usr/local'"
       ]
      }
     ],
     "prompt_number": 333
    },
    {
     "cell_type": "markdown",
     "metadata": {},
     "source": [
      "- \uac12\uc744 \ud30c\uc2f1\ud560 \ub54c getboolean()\uacfc \uac19\uc740 \uba54\uc18c\ub4dc\ub294 \ub9d0\uc774 \ub418\ub294 \ubaa8\ub4e0 \uac12\uc744 \ucc3e\uc74c\n",
      "- \uc608\ub97c \ub4e4\uc5b4 \ub2e4\uc74c\uc740 \ubaa8\ub450 \ub3d9\uc77c\ud568\n",
      "```python\n",
      "log_errors = true\n",
      "log_errors = TRUE\n",
      "log_errors = Yes\n",
      "log_errors = 1\n",
      "```"
     ]
    },
    {
     "cell_type": "markdown",
     "metadata": {},
     "source": [
      "- \uc544\ub9c8\ub3c4 \uc124\uc815 \ud30c\uc77c\uacfc \ud30c\uc774\uc36c \ucf54\ub4dc\uc5d0\uc11c \uac00\uc7a5 \ud06c\uac8c \ucc28\uc774\uac00 \ub098\ub294 \ubd80\ubd84\uc740, **\uc2a4\ud06c\ub9bd\ud2b8\uc640\ub294 \ub2e4\ub974\uac8c \uc124\uc815 \ud30c\uc77c\uc740 \uc704\uc5d0\uc11c \uc544\ub798\ub85c \uc2e4\ud589\ud558\uc9c0 \uc54a\ub294\ub2e4**\n",
      "- \uadf8 \ub300\uc2e0 \uc124\uc815 \ud30c\uc77c\uc740 \ud30c\uc77c \uc804\uccb4\ub97c \uc77d\uc5b4\ub4e4\uc784\n",
      "- \ubcc0\uc218\uc5d0 \uce58\ud658\uc774 \uc788\uc73c\uba74 \uc0ac\ud6c4\uc5d0 \uc774\ub8e8\uc5b4\uc9d0\n",
      "- \uc608\ub97c \ub4e4\uc5b4, prefix \ubcc0\uc218\uc5d0 \ud560\ub2f9\ud55c \uc904\uc774 \uc0ac\uc6a9\ud55c \uc904\uc774 \ub4a4\uc5d0 \ub098\uc654\uc9c0\ub9cc \ubb38\uc81c\uac00 \ub418\uc9c0 \uc54a\uc74c    "
     ]
    },
    {
     "cell_type": "markdown",
     "metadata": {},
     "source": [
      "```python\n",
      "[installation]\n",
      "library=%(prefix)s/lib\n",
      "include=%(prefix)s/include\n",
      "bin=%(prefix)s/bin\n",
      "prefix=/usr/local\n",
      "```"
     ]
    },
    {
     "cell_type": "markdown",
     "metadata": {},
     "source": [
      "- \ud754\ud788 \uac04\uacfc\ud558\uace0 \ub118\uc5b4\uac00\ub294 ConfigParser\uc758 \uae30\ub2a5\uc73c\ub85c **\uc5ec\ub7ec \uc124\uc815 \ud30c\uc77c\uc744 \ud569\uccd0\uc11c \ud558\ub098\ub85c \ub9cc\ub4dc\ub294 \uac83** \uc874\uc7ac\n",
      "- \uc608\ub97c \ub4e4\uc5b4 \ud55c \uc0ac\uc6a9\uc790\uac00 \ub2e4\uc74c\uacfc \uac19\uc740 \ud658\uacbd \uc124\uc815 \ud30c\uc77c\uc744 \ub9cc\ub4e4\uc5c8\ub2e4\uace0 \uac00\uc815\ud574 \ubcf4\uc790\n",
      "\n",
      "```python\n",
      "; ~/.config.ini\n",
      "[installation]\n",
      "prefix=/Users/beazley/test\n",
      "\n",
      "[debug]\n",
      "log_errors=False\n",
      "```"
     ]
    },
    {
     "cell_type": "markdown",
     "metadata": {},
     "source": [
      "- \uc774 \ud30c\uc77c\uc740 \ubcc4\ub3c4\ub85c \uc77d\uc5b4 \ub4e4\uc774\uace0 \uae30\uc874 \uc124\uc815\uacfc \ud558\ub098\ub85c \ud569\uccd0\uc9c8 \uc218 \uc788\ub2e4."
     ]
    },
    {
     "cell_type": "code",
     "collapsed": false,
     "input": [
      "%%writefile 13/config2.ini\n",
      "[installation]\n",
      "prefix=/Users/beazley/test\n",
      "\n",
      "[debug]\n",
      "log_errors=False"
     ],
     "language": "python",
     "metadata": {},
     "outputs": [
      {
       "output_type": "stream",
       "stream": "stdout",
       "text": [
        "Writing 13/config2.ini\n"
       ]
      }
     ],
     "prompt_number": 335
    },
    {
     "cell_type": "code",
     "collapsed": false,
     "input": [
      "# \uae30\uc874\uc5d0 \uc77d\uc740 \ud658\uacbd \uc124\uc815\n",
      "cfg.get('installation', 'prefix')"
     ],
     "language": "python",
     "metadata": {},
     "outputs": [
      {
       "metadata": {},
       "output_type": "pyout",
       "prompt_number": 334,
       "text": [
        "'/usr/local'"
       ]
      }
     ],
     "prompt_number": 334
    },
    {
     "cell_type": "code",
     "collapsed": false,
     "input": [
      "# \uc0ac\uc6a9\uc790\uac00 \uc9c0\uc815\ud55c \ud658\uacbd \uc124\uc815\uacfc \ud569\uce58\uae30"
     ],
     "language": "python",
     "metadata": {},
     "outputs": [],
     "prompt_number": 336
    },
    {
     "cell_type": "code",
     "collapsed": false,
     "input": [
      "import os"
     ],
     "language": "python",
     "metadata": {},
     "outputs": [],
     "prompt_number": 337
    },
    {
     "cell_type": "code",
     "collapsed": false,
     "input": [
      "cfg.read(os.path.expanduser('13/config2.ini'))"
     ],
     "language": "python",
     "metadata": {},
     "outputs": [
      {
       "metadata": {},
       "output_type": "pyout",
       "prompt_number": 338,
       "text": [
        "['13/config2.ini']"
       ]
      }
     ],
     "prompt_number": 338
    },
    {
     "cell_type": "code",
     "collapsed": false,
     "input": [
      "cfg.get('installation', 'prefix')"
     ],
     "language": "python",
     "metadata": {},
     "outputs": [
      {
       "metadata": {},
       "output_type": "pyout",
       "prompt_number": 339,
       "text": [
        "'/Users/beazley/test'"
       ]
      }
     ],
     "prompt_number": 339
    },
    {
     "cell_type": "code",
     "collapsed": false,
     "input": [
      "cfg.get('installation', 'library')"
     ],
     "language": "python",
     "metadata": {},
     "outputs": [
      {
       "metadata": {},
       "output_type": "pyout",
       "prompt_number": 340,
       "text": [
        "'/Users/beazley/test/lib'"
       ]
      }
     ],
     "prompt_number": 340
    },
    {
     "cell_type": "code",
     "collapsed": false,
     "input": [
      "cfg.getboolean('debug', 'log_errors')"
     ],
     "language": "python",
     "metadata": {},
     "outputs": [
      {
       "metadata": {},
       "output_type": "pyout",
       "prompt_number": 341,
       "text": [
        "False"
       ]
      }
     ],
     "prompt_number": 341
    },
    {
     "cell_type": "markdown",
     "metadata": {},
     "source": [
      "- prefix \ubcc0\uc218\ub97c \uc624\ubc84\ub77c\uc774\ub4dc \ud55c \uac83\uc774 \ub2e4\ub978 library \uc124\uc815 \ub4f1 \uad00\ub828 \ubcc0\uc218\uc5d0 \uc601\ud5a5\uc744 \uc8fc\ub294\uc9c0 \uc8fc\ubaa9\ud574 \ubcf4\uc790\n",
      "- \uc774 \uc791\uc5c5\uc740 \ubcc0\uc218 \ubcf4\uac04(interpolation)\uc774 \ucd5c\ud6c4\uc5d0 \uc218\ud589\ub418\uae30 \ub54c\ubb38\uc5d0 \uac00\ub2a5\ud568\n",
      "- \ub2e4\uc74c \uc2e4\ud5d8\uc744 \ud1b5\ud574\uc11c \ud655\uc778\ud574 \ubcfc \uc218 \uc788\uc74c"
     ]
    },
    {
     "cell_type": "code",
     "collapsed": false,
     "input": [
      "cfg.get('installation', 'library')"
     ],
     "language": "python",
     "metadata": {},
     "outputs": [
      {
       "metadata": {},
       "output_type": "pyout",
       "prompt_number": 342,
       "text": [
        "'/Users/beazley/test/lib'"
       ]
      }
     ],
     "prompt_number": 342
    },
    {
     "cell_type": "code",
     "collapsed": false,
     "input": [
      "cfg.set('installation', 'prefix', '/tmp/dir')"
     ],
     "language": "python",
     "metadata": {},
     "outputs": [],
     "prompt_number": 343
    },
    {
     "cell_type": "code",
     "collapsed": false,
     "input": [
      "cfg.get('installation', 'library')"
     ],
     "language": "python",
     "metadata": {},
     "outputs": [
      {
       "metadata": {},
       "output_type": "pyout",
       "prompt_number": 344,
       "text": [
        "'/tmp/dir/lib'"
       ]
      }
     ],
     "prompt_number": 344
    },
    {
     "cell_type": "markdown",
     "metadata": {},
     "source": [
      "- \ub9c8\uc9c0\ub9c9\uc73c\ub85c, \ub2e4\ub978 \ud504\ub85c\uadf8\ub7a8\uc5d0\uc11c(\uc608: Windows \uc560\ud50c\ub9ac\ucf00\uc774\uc158) \uc0ac\uc6a9\ud558\ub294 .ini \ud30c\uc77c\uc758 \ubaa8\ub4e0 \uae30\ub2a5\uc744 **\ud30c\uc774\uc36c\uc774 \uc9c0\uc6d0\ud558\uc9c0 \uc54a\uc744 \uc218\ub3c4 \uc788\ub2e4\ub294 \uc810\uc774 \uc911\uc694**\n",
      "- [configparser](https://docs.python.org/3/library/configparser.html) \ubb38\uc11c\ub97c \ucc38\uace0\ud558\uc5ec \uc9c0\uc6d0\ud558\ub294 \uae30\ub2a5\uacfc \uad6c\ubb38\uc758 \uc815\ubcf4\ub97c \uc5bb\ub3c4\ub85d \ud568"
     ]
    },
    {
     "cell_type": "markdown",
     "metadata": {},
     "source": [
      "## 13.11 \uac04\ub2e8\ud55c \uc2a4\ud06c\ub9bd\ud2b8\uc5d0 \ub85c\uadf8 \ucd94\uac00\n",
      "\n",
      "### \ubb38\uc81c\n",
      "\n",
      "- \ub85c\uadf8 \ud30c\uc77c\uc5d0 \uc9c4\ub2e8 \uc815\ubcf4\ub97c \uc791\uc131\ud558\ub294 \uc2a4\ud06c\ub9bd\ud2b8\uc640 \uac04\ub2e8\ud55c \ud504\ub85c\uadf8\ub7a8\uc744 \uc791\uc131\ud558\uace0 \uc2f6\uc74c\n",
      "\n",
      "### \ud574\uacb0\n",
      "\n",
      "- \uac04\ub2e8\ud55c \ud504\ub85c\uadf8\ub7a8\uc5d0 \ub85c\uadf8\ub97c \ucd94\uac00\ud558\ub294 \uac00\uc7a5 \uc26c\uc6b4 \ubc29\ubc95\uc740 logging \ubaa8\ub4c8\uc744 \uc0ac\uc6a9\ud558\ub294 \uac83"
     ]
    },
    {
     "cell_type": "code",
     "collapsed": false,
     "input": [
      "%%writefile 13/test_log.py\n",
      "# -*- coding: utf-8\n",
      "import logging\n",
      "\n",
      "def main():\n",
      "    # \ub85c\uadf8 \uc2dc\uc2a4\ud15c \ud658\uacbd \uc124\uc815\n",
      "    logging.basicConfig(filename='app.log',\n",
      "                        level=logging.ERROR)\n",
      "    \n",
      "    # \ubcc0\uc218(\uc791\uc5c5\uc744 \ub530\ub974\ub294 \ud638\ucd9c\uc744 \ud558\uae30 \uc704\ud574\uc11c)\n",
      "    hostname = 'www.python.org'\n",
      "    item = 'spam'\n",
      "    filename = 'data.csv'\n",
      "    mode = 'r'\n",
      "    \n",
      "    # \uc608\uc81c \ub85c\uadf8 \ud638\ucd9c(\ud504\ub85c\uadf8\ub7a8\uc5d0 \uc0bd\uc785)\n",
      "    logging.critical('Host %s unknown', hostname)\n",
      "    logging.error(\"Couldn't find %r\", item)\n",
      "    logging.warning('Feature is deprecated')\n",
      "    logging.info('Opening file %r, mode=%r', filename, mode)\n",
      "    logging.debug('Got here')\n",
      "    \n",
      "if __name__ == '__main__':\n",
      "    main()"
     ],
     "language": "python",
     "metadata": {},
     "outputs": [
      {
       "output_type": "stream",
       "stream": "stdout",
       "text": [
        "Overwriting 13/test_log.py\n"
       ]
      }
     ],
     "prompt_number": 356
    },
    {
     "cell_type": "code",
     "collapsed": false,
     "input": [
      "%cd 13"
     ],
     "language": "python",
     "metadata": {},
     "outputs": [
      {
       "output_type": "stream",
       "stream": "stdout",
       "text": [
        "/Users/re4lfl0w/Documents/ipython/books/python_cookbook/13\n"
       ]
      }
     ],
     "prompt_number": 366
    },
    {
     "cell_type": "code",
     "collapsed": false,
     "input": [
      "!python3 test_log.py"
     ],
     "language": "python",
     "metadata": {},
     "outputs": [],
     "prompt_number": 368
    },
    {
     "cell_type": "code",
     "collapsed": false,
     "input": [
      "%cd .."
     ],
     "language": "python",
     "metadata": {},
     "outputs": [
      {
       "output_type": "stream",
       "stream": "stdout",
       "text": [
        "/Users/re4lfl0w/Documents/ipython/books/python_cookbook\n"
       ]
      }
     ],
     "prompt_number": 370
    },
    {
     "cell_type": "code",
     "collapsed": false,
     "input": [
      "!ls -l 13"
     ],
     "language": "python",
     "metadata": {},
     "outputs": [
      {
       "output_type": "stream",
       "stream": "stdout",
       "text": [
        "total 5712\r\n",
        "----------   1 re4lfl0w  staff        0 Oct 31 17:05 1.txt\r\n",
        "drwxr-xr-x   3 re4lfl0w  staff      102 Oct 31 17:33 \u001b[34mSizeUp.app\u001b[m\u001b[m\r\n",
        "-rw-r-----@  1 re4lfl0w  staff  2863941 Oct 21 12:25 SizeUp.zip\r\n",
        "drwxr-xr-x   3 re4lfl0w  staff      102 Oct 31 04:38 \u001b[34madding_logging_to_libraries\u001b[m\u001b[m\r\n",
        "-rw-r--r--   1 re4lfl0w  staff       74 Nov  1 02:16 app.log\r\n",
        "-rw-r--r--   1 re4lfl0w  staff      444 Oct 31 18:22 config.ini\r\n",
        "-rw-r--r--   1 re4lfl0w  staff       67 Oct 31 18:41 config2.ini\r\n",
        "drwxr-xr-x   4 re4lfl0w  staff      136 Oct 31 04:38 \u001b[34mexecuting_an_external_command_and_getting_its_output\u001b[m\u001b[m\r\n",
        "-rw-r--r--   1 re4lfl0w  staff      128 Oct 31 17:02 filein.py\r\n",
        "-rw-r--r--   1 re4lfl0w  staff      347 Oct 31 17:40 findfile.py\r\n",
        "drwxr-xr-x   3 re4lfl0w  staff      102 Oct 31 04:38 \u001b[34mfinding_files\u001b[m\u001b[m\r\n",
        "drwxr-xr-x   3 re4lfl0w  staff      102 Oct 31 04:38 \u001b[34mgenerating_a_range_of_ip_addresses_from_a_cidr_address\u001b[m\u001b[m\r\n",
        "drwxr-xr-x   3 re4lfl0w  staff      102 Oct 31 04:38 \u001b[34mgetting_the_terminal_size\u001b[m\u001b[m\r\n",
        "drwxr-xr-x   3 re4lfl0w  staff      102 Oct 31 04:38 \u001b[34mmaking_a_stopwatch\u001b[m\u001b[m\r\n",
        "-rw-r--r--   1 re4lfl0w  staff      621 Oct 31 18:18 modified.py\r\n",
        "drwxr-xr-x   3 re4lfl0w  staff      102 Oct 31 04:38 \u001b[34mparsing_command_line_options\u001b[m\u001b[m\r\n",
        "drwxr-xr-x   3 re4lfl0w  staff      102 Oct 31 04:38 \u001b[34mprompting_for_a_password_at_runtime\u001b[m\u001b[m\r\n",
        "drwxr-xr-x   3 re4lfl0w  staff      102 Oct 31 04:38 \u001b[34mputting_limits_on_memory_and_cpu_usage\u001b[m\u001b[m\r\n",
        "drwxr-xr-x   4 re4lfl0w  staff      136 Oct 31 04:38 \u001b[34mreading_configuration_files\u001b[m\u001b[m\r\n",
        "drwxr-xr-x   5 re4lfl0w  staff      170 Oct 31 04:38 \u001b[34msimple_logging_for_scripts\u001b[m\u001b[m\r\n",
        "drwxr-xr-x   3 re4lfl0w  staff      102 Oct 31 17:04 \u001b[34mtest\u001b[m\u001b[m\r\n",
        "drwxr-xr-x  15 re4lfl0w  staff      510 Oct 31 17:05 \u001b[34mtest2\u001b[m\u001b[m\r\n",
        "drwxr-xr-x  16 re4lfl0w  staff      544 Oct 31 17:07 \u001b[34mtest3\u001b[m\u001b[m\r\n",
        "drwxr-xr-x  19 re4lfl0w  staff      646 Oct 31 17:20 \u001b[34mtest5\u001b[m\u001b[m\r\n",
        "drwxr-xr-x  18 re4lfl0w  staff      612 Oct 31 17:24 \u001b[34mtest7\u001b[m\u001b[m\r\n",
        "-rw-r--r--   1 re4lfl0w  staff    18804 Oct 31 17:35 test7.zip\r\n",
        "----------   1 re4lfl0w  staff      318 Oct 31 17:03 test_getpass.py\r\n",
        "-rw-r--r--   1 re4lfl0w  staff      640 Nov  1 02:15 test_log.py\r\n"
       ]
      }
     ],
     "prompt_number": 371
    },
    {
     "cell_type": "markdown",
     "metadata": {},
     "source": [
      "- \ub85c\uadf8 \ud638\ucd9c \ub2e4\uc12f \uac00\uc9c0(criitical(), error(), warning(), info(), debug())\ub294 \uc55e\uc5d0 \ub098\uc62c \uc218\ub85d \uadf8 \uc2ec\uac01\uc131\uc774 \ub192\uc74c\n",
      "- basicConfig()\uc758 level \uc778\uc790\ub294 \ud544\ud130\n",
      "- \uc774 \uc124\uc815\ubcf4\ub2e4 \ub0ae\uc740 \ub808\ubca8\uc744 \uc18c\uc720\ud55c \uba54\uc2dc\uc9c0\ub294 \ubaa8\ub450 \ubb34\uc2dc\ub428\n",
      "- \uac01 \ub85c\uadf8 \ub3d9\uc791\uc5d0 \ub300\ud55c \uc778\uc790\ub294 \uba54\uc2dc\uc9c0 \ubb38\uc790\uc5f4\uc774 \ub2e8\ub3c5\uc73c\ub85c \uc624\uac70\ub098 \ucd94\uac00\uc801\uc778 \uc778\uc790\uac00 \ubd99\uc74c\n",
      "- \ub9c8\uc9c0\ub9c9 \ub85c\uadf8 \uba54\uc2dc\uc9c0\ub97c \ub9cc\ub4e4 \ub54c \uc81c\uacf5\ubc1b\uc740 \uc778\uc790\ub85c \uba54\uc2dc\uc9c0 \ubb38\uc790\uc5f4\uc744 \uc11c\uc2dd\ud654\ud558\uae30 \uc704\ud574 % \uc5f0\uc0b0\uc790 \uc0ac\uc6a9\ud568\n",
      "- \uc774 \ud504\ub85c\uadf8\ub7a8\uc744 \uc2e4\ud589\ud558\uba74 app.log \ud30c\uc77c\uc758 \ub0b4\uc6a9\uc740 \ub2e4\uc74c\uacfc \uac19\uc74c"
     ]
    },
    {
     "cell_type": "code",
     "collapsed": false,
     "input": [
      "!cat 13/app.log"
     ],
     "language": "python",
     "metadata": {},
     "outputs": [
      {
       "output_type": "stream",
       "stream": "stdout",
       "text": [
        "CRITICAL:root:Host www.python.org unknown\r\n",
        "ERROR:root:Couldn't find 'spam'\r\n"
       ]
      }
     ],
     "prompt_number": 372
    },
    {
     "cell_type": "markdown",
     "metadata": {},
     "source": [
      "- \uacb0\uacfc\ub97c \uc218\uc815\ud558\uac70\ub098 \uacb0\uacfc\uc758 \ub808\ubca8\uc744 \ubcc0\uacbd\ud558\ub824\uba74 basicConfig() \ud638\ucd9c\uc758 \ud30c\ub77c\ubbf8\ud130\ub97c \ubc14\uafb8\uba74 \ub428"
     ]
    },
    {
     "cell_type": "code",
     "collapsed": false,
     "input": [
      "%%writefile 13/test_log2.py\n",
      "# -*- coding: utf-8\n",
      "import logging\n",
      "\n",
      "def main():\n",
      "    # \ub85c\uadf8 \uc2dc\uc2a4\ud15c \ud658\uacbd \uc124\uc815\n",
      "    logging.basicConfig(filename='app.log',\n",
      "                        level=logging.WARNING,\n",
      "                        format='%(levelname)s:%(asctime)s:%(message)s')\n",
      "    \n",
      "    # \ubcc0\uc218(\uc791\uc5c5\uc744 \ub530\ub974\ub294 \ud638\ucd9c\uc744 \ud558\uae30 \uc704\ud574\uc11c)\n",
      "    hostname = 'www.python.org'\n",
      "    item = 'spam'\n",
      "    filename = 'data.csv'\n",
      "    mode = 'r'\n",
      "    \n",
      "    # \uc608\uc81c \ub85c\uadf8 \ud638\ucd9c(\ud504\ub85c\uadf8\ub7a8\uc5d0 \uc0bd\uc785)\n",
      "    logging.critical('Host %s unknown', hostname)\n",
      "    logging.error(\"Couldn't find %r\", item)\n",
      "    logging.warning('Feature is deprecated')\n",
      "    logging.info('Opening file %r, mode=%r', filename, mode)\n",
      "    logging.debug('Got here')\n",
      "    \n",
      "if __name__ == '__main__':\n",
      "    main()"
     ],
     "language": "python",
     "metadata": {},
     "outputs": [
      {
       "output_type": "stream",
       "stream": "stdout",
       "text": [
        "Writing 13/test_log2.py\n"
       ]
      }
     ],
     "prompt_number": 373
    },
    {
     "cell_type": "code",
     "collapsed": false,
     "input": [
      "%cd 13"
     ],
     "language": "python",
     "metadata": {},
     "outputs": [
      {
       "output_type": "stream",
       "stream": "stdout",
       "text": [
        "/Users/re4lfl0w/Documents/ipython/books/python_cookbook/13\n"
       ]
      }
     ],
     "prompt_number": 374
    },
    {
     "cell_type": "code",
     "collapsed": false,
     "input": [
      "!python3 test_log2.py"
     ],
     "language": "python",
     "metadata": {},
     "outputs": [],
     "prompt_number": 375
    },
    {
     "cell_type": "code",
     "collapsed": false,
     "input": [
      "%cd .."
     ],
     "language": "python",
     "metadata": {},
     "outputs": [
      {
       "output_type": "stream",
       "stream": "stdout",
       "text": [
        "/Users/re4lfl0w/Documents/ipython/books/python_cookbook\n"
       ]
      }
     ],
     "prompt_number": 376
    },
    {
     "cell_type": "markdown",
     "metadata": {},
     "source": [
      "- \uacb0\uacfc\uc801\uc73c\ub85c \uc2e4\ud589\uacb0\uacfc\ub294 \ub2e4\uc74c\uacfc \uac19\uc74c"
     ]
    },
    {
     "cell_type": "code",
     "collapsed": false,
     "input": [
      "!cat 13/app.log"
     ],
     "language": "python",
     "metadata": {},
     "outputs": [
      {
       "output_type": "stream",
       "stream": "stdout",
       "text": [
        "CRITICAL:root:Host www.python.org unknown\r\n",
        "ERROR:root:Couldn't find 'spam'\r\n",
        "CRITICAL:2014-11-01 02:19:56,957:Host www.python.org unknown\r\n",
        "ERROR:2014-11-01 02:19:56,957:Couldn't find 'spam'\r\n",
        "WARNING:2014-11-01 02:19:56,957:Feature is deprecated\r\n"
       ]
      }
     ],
     "prompt_number": 378
    },
    {
     "cell_type": "markdown",
     "metadata": {},
     "source": [
      "- \uc55e\uc5d0\uc11c \uc124\uba85\ud55c \ub300\ub85c \ub85c\uadf8 \ud658\uacbd \uc124\uc815\uc740 \ud504\ub85c\uadf8\ub7a8\uc5d0 \uc9c1\uc811 \ud558\ub4dc\ucf54\ub529\ud568\n",
      "- \ub9cc\uc57d \uc774 \ub0b4\uc6a9\uc744 \uc124\uc815 \ud30c\uc77c\uc5d0 \ub123\uace0 \uc2f6\uc73c\uba74 basicConfig() \ud638\ucd9c\uc744 \ub2e4\uc74c\uacfc \uac19\uc774 \uc218\uc815\ud568"
     ]
    },
    {
     "cell_type": "code",
     "collapsed": false,
     "input": [
      "%%writefile 13/logconfig.py\n",
      "import logging\n",
      "import logging.config\n",
      "\n",
      "def main():\n",
      "    # Configure the logging system\n",
      "    logging.config.fileConfig('logconfig.ini')\n",
      "\n",
      "    # Variables (to make the calls that follow work)\n",
      "    hostname = 'www.python.org'\n",
      "    item = 'spam'\n",
      "    filename = 'data.csv'\n",
      "    mode = 'r'\n",
      "\n",
      "    # Example logging calls (insert into your program)\n",
      "    logging.critical('Host %s unknown', hostname)\n",
      "    logging.error(\"Couldn't find %r\", item)\n",
      "    logging.warning('Feature is deprecated')\n",
      "    logging.info('Opening file %r, mode=%r', filename, mode)\n",
      "    logging.debug('Got here')\n",
      "\n",
      "if __name__ == '__main__':\n",
      "    main()\n"
     ],
     "language": "python",
     "metadata": {},
     "outputs": [
      {
       "output_type": "stream",
       "stream": "stdout",
       "text": [
        "Overwriting 13/logconfig.py\n"
       ]
      }
     ],
     "prompt_number": 387
    },
    {
     "cell_type": "code",
     "collapsed": false,
     "input": [
      "import logging\n",
      "import logging.config"
     ],
     "language": "python",
     "metadata": {},
     "outputs": [],
     "prompt_number": 382
    },
    {
     "cell_type": "code",
     "collapsed": false,
     "input": [
      "%%writefile 13/logconfig.ini\n",
      "[loggers]\n",
      "keys=root\n",
      "    \n",
      "[handlers]\n",
      "keys=defaultHandler\n",
      "    \n",
      "[formatters]\n",
      "keys=defaultFormatter\n",
      "\n",
      "[logger_root]\n",
      "level=INFO\n",
      "handlers=defaultHandler\n",
      "qualname=root\n",
      "    \n",
      "[handler_defaultHandler]\n",
      "class=FileHandler\n",
      "formatter=defaultFormatter\n",
      "args=('app.log', 'a')\n",
      "    \n",
      "[formatter_defaultFormatter]\n",
      "format=%(levelname)s:%(name)s:%(message)s"
     ],
     "language": "python",
     "metadata": {},
     "outputs": [
      {
       "output_type": "stream",
       "stream": "stdout",
       "text": [
        "Overwriting 13/logconfig.ini\n"
       ]
      }
     ],
     "prompt_number": 385
    },
    {
     "cell_type": "code",
     "collapsed": false,
     "input": [
      "!cat 13/app.log"
     ],
     "language": "python",
     "metadata": {},
     "outputs": [
      {
       "output_type": "stream",
       "stream": "stdout",
       "text": [
        "CRITICAL:root:Host www.python.org unknown\r\n",
        "ERROR:root:Couldn't find 'spam'\r\n",
        "WARNING:root:Feature is deprecated\r\n",
        "INFO:root:Opening file 'data.csv', mode='r'\r\n"
       ]
      }
     ],
     "prompt_number": 388
    },
    {
     "cell_type": "markdown",
     "metadata": {},
     "source": [
      "- \uc774 \uc124\uc815\uc744 \ubcc0\uacbd\ud558\ub824\uba74 \uac04\ub2e8\ud788 logconfig.ini \ud30c\uc77c\uc744 \uc6d0\ud558\ub294\ub300\ub85c \uc218\uc815\ud558\uba74 \ub428"
     ]
    },
    {
     "cell_type": "markdown",
     "metadata": {},
     "source": [
      "### \ud1a0\ub860\n",
      "\n",
      "- logging \ubaa8\ub4c8\uc5d0\ub294 \uc124\uc815 \uac00\ub2a5\ud55c \uc635\uc158\uc774 \uc218\ubc31\ub9cc \uac00\uc9c0\ub294 \uc788\uc9c0\ub9cc, \uc6b0\uc120 \uadf8 \ub0b4\uc6a9\uc740 \ubb34\uc2dc\ud558\uace0 \uc55e\uc5d0 \ub098\uc628 \uc608\uc81c\ub9cc\uc73c\ub85c\ub3c4 \uac04\ub2e8\ud55c \ud504\ub85c\uadf8\ub7a8\uacfc \uc2a4\ud06c\ub9bd\ud2b8\uc5d0\ub294 \ucda9\ubd84\ud568\n",
      "- \ub85c\uadf8 \ud638\ucd9c\uc744 \ud558\uae30 \uc804\uc5d0 basicConfig()\ub97c \uc2e4\ud589\ud558\ub294 \uac83\ub9cc \uc78a\uc9c0 \uc54a\uc73c\uba74 \ud504\ub85c\uadf8\ub7a8\uc5d0\uc11c \ub85c\uadf8\ub97c \uc62c\ubc14\ub974\uac8c \uc0dd\uc131\ud560 \uac83\n",
      "- \ub85c\uadf8 \uba54\uc2dc\uc9c0\ub97c \ud30c\uc77c\uc774 \uc544\ub2cc \ud45c\uc900 \uc5d0\ub7ec\uc5d0 \ucd9c\ub825\ud558\uace0 \uc2f6\ub2e4\uba74 basicConfig()\uc5d0 \ud30c\uc77c \uc774\ub984 \uc815\ubcf4\ub97c \ub123\uc9c0 \uc54a\uc74c\n",
      "```python\n",
      "logging.basicConfig(level=logging.INFO)\n",
      "```\n",
      "\n",
      "- basicConfig()\uc758 \ud55c \uac00\uc9c0 \ubbf8\ubb18\ud55c \uc810\uc740 \ud504\ub85c\uadf8\ub7a8\uc5d0\uc11c \uc774 \ud638\ucd9c\uc744 **\ub2e8 \ud55c \ubc88\ub9cc** \ud560 \uc218 \uc788\ub2e4\ub294 \uc810\n",
      "- logging \ubaa8\ub4c8\uc758 \uc124\uc815\uc744 \ubcc0\uacbd\ud558\uace0 \uc2f6\ub2e4\uba74 root logger\ub97c \ud68d\ub4dd\ud558\uace0 \uc9c1\uc811 \ubcc0\uacbd\ud574\uc57c \ud568\n",
      "```python\n",
      "logging.getLogger().level = logging.DEBUG\n",
      "```\n",
      "\n",
      "- \uc55e\uc5d0\uc11c\ub3c4 \ub9d0\ud588\uc9c0\ub9cc \uc774\ubc88 \ub808\uc2dc\ud53c\uc5d0\uc11c \ub2e4\ub8ec \ub0b4\uc6a9\uc740 logging \ubaa8\ub4c8\uc758 \uadf9\ud788 \uc77c\ubd80\ubd84\uc5d0 \ubd88\uacfc\n",
      "- \uc774 \ubaa8\ub4c8\ub85c \ucc98\ub9ac\ud560 \uc218 \uc788\ub294 \uace0\uae09 \uae30\ub2a5\uc774 \ub9e4\uc6b0 \ub9ce\uc774 \uc788\uc73c\ub2c8 \uc774\uc5d0 \ub300\ud55c \ub0b4\uc6a9\uc740 [\"Logging Cookbook\"](https://docs.python.org/3/library/logging.config.html)\uc744 \ucc38\uace0\ud558\ub3c4\ub85d \ud568"
     ]
    },
    {
     "cell_type": "markdown",
     "metadata": {},
     "source": [
      "## 13.12 \ub77c\uc774\ube0c\ub7ec\ub9ac\uc5d0 \ub85c\uadf8 \ucd94\uac00\n",
      "\n",
      "### \ubb38\uc81c\n",
      "\n",
      "- \ub77c\uc774\ube0c\ub7ec\ub9ac\uc5d0 \ub85c\uadf8 \uae30\ub2a5\uc744 \ucd94\uac00\ud558\uace0 \uc2f6\ub2e4. \ud558\uc9c0\ub9cc \ub85c\uadf8\ub97c \uc0ac\uc6a9\ud558\uc9c0 \uc54a\ub294 \ud504\ub85c\uadf8\ub7a8\uacfc \uac04\uc12d\uc774 \ubc1c\uc0dd\ud558\uc9c0 \uc54a\ub3c4\ub85d \ud558\uace0 \uc2f6\uc74c\n",
      "\n",
      "### \ud574\uacb0\n",
      "\n",
      "- \ub85c\uadf8 \uae30\ub2a5\uc774 \ud544\uc694\ud55c \ub77c\uc774\ube0c\ub7ec\ub9ac\uc5d0\ub294, \ub85c\uadf8 \uac1d\uccb4\ub97c \uc0dd\uc131\ud558\uace0 \ub2e4\uc74c\uacfc \uac19\uc774 \ucd08\uae30 \uc124\uc815\uc744 \ud568"
     ]
    },
    {
     "cell_type": "code",
     "collapsed": false,
     "input": [
      "%%writefile 13/somelib.py\n",
      "\n",
      "import logging\n",
      "log = logging.getLogger(__name__)\n",
      "log.addHandler(logging.NullHandler())\n",
      "\n",
      "# \uc608\uc81c \ud568\uc218(\ud14c\uc2a4\ud305)\n",
      "def func():\n",
      "    log.critical('A critical Error!')\n",
      "    log.debug('A debug message')"
     ],
     "language": "python",
     "metadata": {},
     "outputs": [
      {
       "output_type": "stream",
       "stream": "stdout",
       "text": [
        "Writing 13/somelib.py\n"
       ]
      }
     ],
     "prompt_number": 389
    },
    {
     "cell_type": "code",
     "collapsed": false,
     "input": [
      "%cd 13"
     ],
     "language": "python",
     "metadata": {},
     "outputs": [
      {
       "output_type": "stream",
       "stream": "stdout",
       "text": [
        "/Users/re4lfl0w/Documents/ipython/books/python_cookbook/13\n"
       ]
      }
     ],
     "prompt_number": 390
    },
    {
     "cell_type": "code",
     "collapsed": false,
     "input": [
      "import somelib"
     ],
     "language": "python",
     "metadata": {},
     "outputs": [],
     "prompt_number": 391
    },
    {
     "cell_type": "code",
     "collapsed": false,
     "input": [
      "%cd .."
     ],
     "language": "python",
     "metadata": {},
     "outputs": [
      {
       "output_type": "stream",
       "stream": "stdout",
       "text": [
        "/Users/re4lfl0w/Documents/ipython/books/python_cookbook\n"
       ]
      }
     ],
     "prompt_number": 392
    },
    {
     "cell_type": "markdown",
     "metadata": {},
     "source": [
      "- \uc774 \uc124\uc815\ub300\ub85c \ud558\uba74 \uae30\ubcf8\uc801\uc73c\ub85c \uc544\ubb34\ub7f0 \ub85c\uadf8\ub3c4 \ubc1c\uc0dd\ud558\uc9c0 \uc54a\uc74c"
     ]
    },
    {
     "cell_type": "code",
     "collapsed": false,
     "input": [
      "somelib.func()"
     ],
     "language": "python",
     "metadata": {},
     "outputs": [
      {
       "output_type": "stream",
       "stream": "stderr",
       "text": [
        "CRITICAL:somelib:A critical Error!\n"
       ]
      }
     ],
     "prompt_number": 393
    },
    {
     "cell_type": "markdown",
     "metadata": {},
     "source": [
      "- \ud558\uc9c0\ub9cc \ub85c\uadf8 \uc2dc\uc2a4\ud15c \ud658\uacbd\uc744 \uc124\uc815\ud558\uace0 \ub098\uba74 \ub85c\uadf8 \uba54\uc2dc\uc9c0\uac00 \ub098\ud0c0\ub098\uae30 \uc2dc\uc791\ud568"
     ]
    },
    {
     "cell_type": "code",
     "collapsed": false,
     "input": [
      "import logging"
     ],
     "language": "python",
     "metadata": {},
     "outputs": [],
     "prompt_number": 394
    },
    {
     "cell_type": "code",
     "collapsed": false,
     "input": [
      "logging.basicConfig()"
     ],
     "language": "python",
     "metadata": {},
     "outputs": [],
     "prompt_number": 395
    },
    {
     "cell_type": "code",
     "collapsed": false,
     "input": [
      "somelib.func()"
     ],
     "language": "python",
     "metadata": {},
     "outputs": [
      {
       "output_type": "stream",
       "stream": "stderr",
       "text": [
        "CRITICAL:somelib:A critical Error!\n"
       ]
      }
     ],
     "prompt_number": 396
    },
    {
     "cell_type": "markdown",
     "metadata": {},
     "source": [
      "### \ud1a0\ub860\n",
      "\n",
      "- \ub77c\uc774\ube0c\ub7ec\ub9ac\uc5d0 \ub85c\uadf8\ub97c \uc0ac\uc6a9\ud560 \ub54c, \uc774\uac83\uc744 \uc0ac\uc6a9\ud558\ub294 \ud658\uacbd\uc5d0 \ub300\ud55c \uc815\ubcf4\uac00 \uc5c6\uc5b4\uc11c \ud2b9\ubcc4\ud55c \ubb38\uc81c\uac00 \ubc1c\uc0dd\ud568\n",
      "- \uc77c\ubc18\uc801\uc73c\ub85c\ub294, \uc2a4\uc2a4\ub85c \ub85c\uadf8 \ud658\uacbd\uc744 \uc124\uc815\ud558\uac70\ub098 \uae30\uc874 \ub85c\uadf8 \ud658\uacbd \uc124\uc815\uc5d0 \ub300\ud55c \uac00\uc815\uc744 \ud558\ub294 \ub77c\uc774\ube0c\ub7ec\ub9ac \ucf54\ub4dc\ub294 \uc808\ub300\ub85c \uc791\uc131\ud558\uc9c0 \ub9d0\uc544\uc57c \ud568\n",
      "- \ub530\ub77c\uc11c **\uc801\uc808\ud55c \uace0\ub9bd\uc744 \uc81c\uacf5**\ud558\uae30 \uc704\ud574 \ub9e4\uc6b0 \uc8fc\uc758\ud560 \ud544\uc694\uac00 \uc788\uc74c\n",
      "- getLogger(\\_\\_name\\_\\_)\uc744 \ud638\ucd9c\ud558\uba74 \ud638\ucd9c\ud558\ub294 \ubaa8\ub4c8\uacfc \ub3d9\uc77c\ud55c \uc774\ub984\uc744 \uac00\uc9c4 \ub85c\uac70 \ubaa8\ub4c8\uc744 \uc0dd\uc131\ud568\n",
      "- \ubaa8\ub4e0 \ubaa8\ub4c8\uc740 \uc720\uc77c\ud558\uae30 \ub54c\ubb38\uc5d0, \uc774\ub807\uac8c \ud558\uba74 \ub2e4\ub978 \ub85c\uac70\uc640\ub294 \ubd84\ub9ac\ub41c \ubcc4\ub3c4\uc758 \ub85c\uac70\ub97c \uc0dd\uc131\ud568\n",
      "- log.addHandler(logging.NullHandler())\ub294 \ubc29\uae08 \uc0dd\uc131\ud55c \ub85c\uac70 \uac1d\uccb4\uc5d0 \ube48 \ud578\ub4e4\ub7ec(null handler)\ub97c \ubd99\uc784\n",
      "- \uc774 \ube48 \ud578\ub4e4\ub7ec\ub294 \uae30\ubcf8\uc801\uc73c\ub85c \ubaa8\ub4e0 \ub85c\uadf8 \uba54\uc2dc\uc9c0\ub97c \ubb34\uc2f7\ub9c8\n",
      "- \ub530\ub77c\uc11c \ub9cc\uc57d \ub77c\uc774\ube0c\ub7ec\ub9ac\ub97c \uc0ac\uc6a9\ud558\uace0 \ub85c\uadf8\uc5d0 \ub300\ud55c \uc124\uc815\uc744 \ud558\uc9c0 \uc54a\ub294\ub2e4\uba74 \uc544\ubb34\ub7f0 \uba54\uc2dc\uc9c0\ub098 \uacbd\uace0\uac00 \ub098\ud0c0\ub098\uc9c0 \uc54a\uc74c\n",
      "- \uc774\ubc88 \ub808\uc2dc\ud53c\uc758 \ubbf8\ubb18\ud55c \uae30\ub2a5 \uc911 \ud558\ub098\ub85c \uac1c\ubcc4 \ub77c\uc774\ube0c\ub7ec\ub9ac\uc758 \ub85c\uadf8\ub97c \ub2e4\ub978 \ub85c\uadf8 \uc124\uc815\uacfc \uc0c1\uad00\uc5c6\uc774 \ub3c5\ub9bd\uc801\uc73c\ub85c \uc124\uc815\ud560 \uc218 \uc788\ub2e4\ub294 \uc810"
     ]
    },
    {
     "cell_type": "code",
     "collapsed": false,
     "input": [
      "import logging"
     ],
     "language": "python",
     "metadata": {},
     "outputs": [],
     "prompt_number": 397
    },
    {
     "cell_type": "code",
     "collapsed": false,
     "input": [
      "logging.basicConfig(level=logging.ERROR)"
     ],
     "language": "python",
     "metadata": {},
     "outputs": [],
     "prompt_number": 398
    },
    {
     "cell_type": "code",
     "collapsed": false,
     "input": [
      "%cd 13"
     ],
     "language": "python",
     "metadata": {},
     "outputs": [
      {
       "output_type": "stream",
       "stream": "stdout",
       "text": [
        "/Users/re4lfl0w/Documents/ipython/books/python_cookbook/13\n"
       ]
      }
     ],
     "prompt_number": 399
    },
    {
     "cell_type": "code",
     "collapsed": false,
     "input": [
      "import somelib"
     ],
     "language": "python",
     "metadata": {},
     "outputs": [],
     "prompt_number": 400
    },
    {
     "cell_type": "code",
     "collapsed": false,
     "input": [
      "%cd .."
     ],
     "language": "python",
     "metadata": {},
     "outputs": [
      {
       "output_type": "stream",
       "stream": "stdout",
       "text": [
        "/Users/re4lfl0w/Documents/ipython/books/python_cookbook\n"
       ]
      }
     ],
     "prompt_number": 401
    },
    {
     "cell_type": "code",
     "collapsed": false,
     "input": [
      "somelib.func()"
     ],
     "language": "python",
     "metadata": {},
     "outputs": [
      {
       "output_type": "stream",
       "stream": "stderr",
       "text": [
        "CRITICAL:somelib:A critical Error!\n"
       ]
      }
     ],
     "prompt_number": 402
    },
    {
     "cell_type": "code",
     "collapsed": false,
     "input": [
      "# 'somelib'\uc758 \ub85c\uae45 \ub808\ubca8 \ubcc0\uacbd\n",
      "logging.getLogger('somelib').level = logging.DEBUG"
     ],
     "language": "python",
     "metadata": {},
     "outputs": [],
     "prompt_number": 404
    },
    {
     "cell_type": "code",
     "collapsed": false,
     "input": [
      "somelib.func()"
     ],
     "language": "python",
     "metadata": {},
     "outputs": [
      {
       "output_type": "stream",
       "stream": "stderr",
       "text": [
        "CRITICAL:somelib:A critical Error!\n"
       ]
      },
      {
       "output_type": "stream",
       "stream": "stderr",
       "text": [
        "DEBUG:somelib:A debug message\n"
       ]
      }
     ],
     "prompt_number": 405
    },
    {
     "cell_type": "markdown",
     "metadata": {},
     "source": [
      "- \uc5ec\uae30\uc11c \ub8e8\ud2b8 \ub85c\uac70\ub294 ERROR \ub808\ubca8\uc774\ub098 \uadf8 \uc774\uc0c1\uc77c \ub54c\ub9cc \uba54\uc2dc\uc9c0\ub97c \ucd9c\ub825\ud558\ub3c4\ub85d \uc124\uc815\ud568\n",
      "- \ud558\uc9c0\ub9cc somelib\uc758 \ub85c\uac70\ub294 \ubcc4\ub3c4\ub85c \ud658\uacbd \uc124\uc815\uc744 \ud558\uace0 \ub514\ubc84\uae45 \uba54\uc2dc\uc9c0\ub97c \ucd9c\ub825\ud558\ub3c4\ub85d \ud588\uc74c\n",
      "- \uc774 \uc124\uc815\uc740 \uc804\uc5ed \uc124\uc815\ubcf4\ub2e4 \uc6b0\uc120 \uc21c\uc704\ub97c \uac00\uc9d0\n",
      "- \ub2e8\uc77c \ubaa8\ub4c8\uc758 \uc124\uc815\uc744 \ubc14\uafc0 \uc218 \uc788\ub2e4\ub294 \uc810\uc740 \ub514\ubc84\uae45 \ub3c4\uad6c\uc5d0 \uc544\uc8fc \uc720\uc6a9\n",
      "- \uc804\uc5ed \ub85c\uadf8 \uc124\uc815\uc744 \ubc14\uafc0 \ud544\uc694\uac00 \uc5c6\uae30 \ub54c\ubb38\n",
      "- \uac04\ub2e8\ud788 \ub354 \ub9ce\uc740 \uc815\ubcf4\uac00 \ud544\uc694\ud55c \ubaa8\ub4c8\uc758 \ub808\ubca8\ub9cc \ubc14\uafd4\uc8fc\uba74 \ub428\n",
      "- ['Logging HOWTO'](https://docs.python.org/2/howto/logging.html)\uc5d0 logging \ubaa8\ub4c8\uc5d0 \ub300\ud55c \ub354 \ub9ce\uc740 \uc815\ubcf4\uc640 \ud301\uc774 \uc788\uc73c\ub2c8 \ucc38\uace0"
     ]
    },
    {
     "cell_type": "markdown",
     "metadata": {},
     "source": [
      "## 13.13 \uc2a4\ud1b1\uc6cc\uce58\uc640 \ud0c0\uc774\uba38 \ub9cc\ub4e4\uae30\n",
      "\n",
      "### \ubb38\uc81c\n",
      "\n",
      "- \uc5ec\ub7ec\uac00\uc9c0 \ubaa9\uc801\uc73c\ub85c \uc2dc\uac04\uc744 \uae30\ub85d\ud558\uace0 \uc2f6\uc74c\n",
      "\n",
      "### \ud574\uacb0\n",
      "\n",
      "- time \ubaa8\ub4c8\uc740 \ud0c0\uc774\ubc0d\uacfc \uad00\ub828\ub41c \ub9ce\uc740 \ud568\uc218 \uc81c\uacf5\n",
      "- \ud558\uc9c0\ub9cc \uc2a4\ud1b1\uc6cc\uce58 \uae30\ub2a5\uc744 \ud749\ub0b4 \ub0b4\ub824\uba74 \uc774 \uc704\uc5d0 \uc0c1\uc704 \ub808\ubca8 \uc778\ud130\ud398\uc774\uc2a4\ub97c \ub450\ub294 \uac83\uc774 \uc88b\uc74c"
     ]
    },
    {
     "cell_type": "code",
     "collapsed": false,
     "input": [
      "import time\n",
      "\n",
      "class Timer:\n",
      "    def __init__(self, func=time.perf_counter):\n",
      "        self.elapsed = 0.0\n",
      "        self._func = func\n",
      "        self._start = None\n",
      "        \n",
      "    def start(self):\n",
      "        if self._start is not None:\n",
      "            raise RuntimeError('Already started')\n",
      "        self._start = self._func()\n",
      "        \n",
      "    def stop(self):\n",
      "        if self._start is None:\n",
      "            raise RuntimeError('Not started')\n",
      "        end = self._func()\n",
      "        self.elapsed += end - self._start\n",
      "        self._start = None\n",
      "        \n",
      "    def reset(self):\n",
      "        self.elapsed = 0.0\n",
      "        \n",
      "    @property\n",
      "    def running(self):\n",
      "        return self._start is not None\n",
      "    \n",
      "    def __enter__(self):\n",
      "        self.start()\n",
      "        return self\n",
      "    \n",
      "    def __exit__(self, *args):\n",
      "        self.stop()"
     ],
     "language": "python",
     "metadata": {},
     "outputs": [],
     "prompt_number": 2
    },
    {
     "cell_type": "markdown",
     "metadata": {},
     "source": [
      "- \uc774 \ud074\ub798\uc2a4\ub294 \uc2dc\uc791, \uc815\uc9c0, \uc7ac\uc124\uc815 \uae30\ub2a5\uc774 \uc788\ub294 \ud0c0\uc774\uba38\ub97c \uc815\uc758\n",
      "- elapsed \uc18d\uc131\uc5d0 \uacbd\uacfc\ud55c \uc2dc\uac04 \uae30\ub85d\n",
      "- \uc0ac\uc6a9\ubc95\uc740 \ub2e4\uc74c \uc608\uc81c \ucc38\uace0"
     ]
    },
    {
     "cell_type": "code",
     "collapsed": false,
     "input": [
      "help(time.perf_counter)"
     ],
     "language": "python",
     "metadata": {},
     "outputs": [
      {
       "output_type": "stream",
       "stream": "stdout",
       "text": [
        "Help on built-in function perf_counter in module time:\n",
        "\n",
        "perf_counter(...)\n",
        "    perf_counter() -> float\n",
        "    \n",
        "    Performance counter for benchmarking.\n",
        "\n"
       ]
      }
     ],
     "prompt_number": 11
    },
    {
     "cell_type": "code",
     "collapsed": false,
     "input": [
      "time.perf_counter()"
     ],
     "language": "python",
     "metadata": {},
     "outputs": [
      {
       "metadata": {},
       "output_type": "pyout",
       "prompt_number": 10,
       "text": [
        "3107.734645073"
       ]
      }
     ],
     "prompt_number": 10
    },
    {
     "cell_type": "code",
     "collapsed": false,
     "input": [
      "time.perf_counter()"
     ],
     "language": "python",
     "metadata": {},
     "outputs": [
      {
       "metadata": {},
       "output_type": "pyout",
       "prompt_number": 12,
       "text": [
        "3197.419096425"
       ]
      }
     ],
     "prompt_number": 12
    },
    {
     "cell_type": "code",
     "collapsed": false,
     "input": [
      "time.perf_counter()"
     ],
     "language": "python",
     "metadata": {},
     "outputs": [
      {
       "metadata": {},
       "output_type": "pyout",
       "prompt_number": 14,
       "text": [
        "3203.433316267"
       ]
      }
     ],
     "prompt_number": 14
    },
    {
     "cell_type": "code",
     "collapsed": false,
     "input": [
      "def countdown(n):\n",
      "    while n > 0:\n",
      "        n -= 1"
     ],
     "language": "python",
     "metadata": {},
     "outputs": [],
     "prompt_number": 3
    },
    {
     "cell_type": "code",
     "collapsed": false,
     "input": [
      "# \uc0ac\uc6a9\ubc95 1: \uba85\uc2dc\uc801\uc778 \uc2dc\uc791/\uc815\uc9c0\n",
      "t = Timer()\n",
      "t.start()\n",
      "countdown(1000000)\n",
      "t.stop()\n",
      "print(t.elapsed)"
     ],
     "language": "python",
     "metadata": {},
     "outputs": [
      {
       "output_type": "stream",
       "stream": "stdout",
       "text": [
        "0.07445789400026115\n"
       ]
      }
     ],
     "prompt_number": 7
    },
    {
     "cell_type": "code",
     "collapsed": false,
     "input": [
      "# \uc0ac\uc6a9\ubc95 2: \ucf58\ud0dd\uc2a4\ud2b8 \ub9e4\ub2c8\uc800\ub85c \uc0ac\uc6a9\n",
      "with t:\n",
      "    countdown(1000000)\n",
      "print(t.elapsed)"
     ],
     "language": "python",
     "metadata": {},
     "outputs": [
      {
       "output_type": "stream",
       "stream": "stdout",
       "text": [
        "0.14916784200022448\n"
       ]
      }
     ],
     "prompt_number": 8
    },
    {
     "cell_type": "code",
     "collapsed": false,
     "input": [
      "with Timer() as t2:\n",
      "    countdown(1000000)\n",
      "print(t2.elapsed)"
     ],
     "language": "python",
     "metadata": {},
     "outputs": [
      {
       "output_type": "stream",
       "stream": "stdout",
       "text": [
        "0.07452980200014281\n"
       ]
      }
     ],
     "prompt_number": 15
    },
    {
     "cell_type": "markdown",
     "metadata": {},
     "source": [
      "### \ud1a0\ub860\n",
      "\n",
      "- \uc774\ubc88 \ub808\uc2dc\ud53c\ub294 **\uc2dc\uac04 \uce21\uc815**\uacfc **\uacbd\uacfc \uc2dc\uac04 \ucd94\uc801**\uc744 \uc704\ud55c \ub9e4\uc6b0 \uc720\uc6a9\ud55c \ud074\ub798\uc2a4 \uc81c\uacf5\n",
      "- \ub610\ud55c with\ubb38\uacfc \ucf58\ud0dd\uc2a4\ud2b8 \uad00\ub9ac \ud504\ub85c\ud1a0\ucf5c\uc744 \uc9c0\uc6d0\ud558\ub294 \ubc29\ubc95\uc744 \ubcf4\uc5ec\uc8fc\ub294 \uc88b\uc740 \uc608\uc81c\n",
      "- \uc2dc\uac04 \uce21\uc815\uae30\ub97c \ub9cc\ub4e4 \ub54c \ub0b4\ubd80\uc801\uc73c\ub85c \uc5b4\ub5a4 \uc2dc\uac04 \ud568\uc218\ub97c \uc0ac\uc6a9\ud560\uc9c0 \uace0\ub824\ud574\uc57c \ud568\n",
      "- \uc77c\ubc18\uc801\uc73c\ub85c \uc6b4\uc601\uccb4\uc81c\uc5d0 \ub530\ub77c\uc11c time.time()\uc774\ub098 time.clock() \ub4f1\uc758 \uc2dc\uac04 \uce21\uc815\ud568\uc218\uc758 \uc815\ud655\ub3c4\uac00 \ub2ec\ub77c\uc9d0\n",
      "- \uc774\uc640 \ub300\uc870\uc801\uc73c\ub85c **time.perf_counter()** \ud568\uc218\ub294 **\uc2dc\uc2a4\ud15c\uc5d0\uc11c \uce21\uc815 \uac00\ub2a5\ud55c \uac00\uc7a5 \uc815\uad50\ud55c \ud0c0\uc774\uba38**\ub97c \uc0ac\uc6a9\n",
      "- \uc55e\uc5d0 \ub098\uc628\ub300\ub85c Timer \ud074\ub798\uc2a4\uac00 \uce21\uc815 \uac00\ub2a5\ud55c \uc2dc\uac04\uc740 wall-clock time\uc744 \uc0ac\uc6a9\ud588\uace0 \uc7a0\ub4e4\uc5b4 \uc788\uc744\ub54c\uc758 \uc2dc\uac04\ub3c4 \ud3ec\ud568\ub410\uc74c\n",
      "- \ud558\uc9c0\ub9cc \uc624\uc9c1 \ucc98\ub9ac\ud560 \ub54c \uac78\ub9b0 CPU \uc2dc\uac04\ub9cc \ud544\uc694\ud558\ub2e4\uba74 time.process_time()\uc744 \uc0ac\uc6a9\ud574\uc57c \ud568"
     ]
    },
    {
     "cell_type": "code",
     "collapsed": false,
     "input": [
      "t = Timer(time.process_time)\n",
      "with t:\n",
      "    countdown(1000000)\n",
      "print(t.elapsed)"
     ],
     "language": "python",
     "metadata": {},
     "outputs": [
      {
       "output_type": "stream",
       "stream": "stdout",
       "text": [
        "0.07509100000000002\n"
       ]
      }
     ],
     "prompt_number": 16
    },
    {
     "cell_type": "markdown",
     "metadata": {},
     "source": [
      "- time.perf_counter()\uc640 time.process_time() \ubaa8\ub450 \uc544\uc8fc \uc791\uc740 \ub2e8\uc704\uc758 \"\uc2dc\uac04\"\uc744 \ubc18\ud658\ud55c\ub2e4.\n",
      "- \ud558\uc9c0\ub9cc \uc2e4\uc81c \uc2dc\uac04\uac12\uc740 \uc2e4\uc9c8\uc801\uc778 \uc758\ubbf8\ub97c \uac00\uc9c0\uc9c0 \ubabb\ud568\n",
      "- \uacb0\uacfc\ub97c \uc880 \ub354 \uc774\ud574\ud558\uae30 \uc27d\ub3c4\ub85d \ud568\uc218\ub97c 2\ubc88 \ud638\ucd9c\ud558\uace0 \uc2dc\uac04 \ucc28\uc774\ub97c \uacc4\uc0b0\ud574\uc57c \ud568\n",
      "- \ud0c0\uc774\ubc0d\uacfc \ud504\ub85c\ud30c\uc77c\ub9c1\uc5d0 \ub300\ud55c \ub354 \ub9ce\uc740 \uc608\uc81c\ub294 \ub808\uc2dc\ud53c 14.13 \ucc38\uace0"
     ]
    },
    {
     "cell_type": "markdown",
     "metadata": {},
     "source": [
      "## 13.14 \uba54\ubaa8\ub9ac\uc640 CPU \uc0ac\uc6a9\uc5d0 \uc81c\ud55c \uac78\uae30\n",
      "\n",
      "### \ubb38\uc81c\n",
      "\n",
      "- Unix \uc2dc\uc2a4\ud15c\uc5d0\uc11c \uc2e4\ud589\uc911\uc778 \ud504\ub85c\uadf8\ub7a8\uc774 \uc0ac\uc6a9\ud558\ub294 \uba54\ubaa8\ub9ac\ub098 CPU\uc5d0 \uc81c\ud55c\uc744 \uac78\uace0 \uc2f6\ub2e4.\n",
      "\n",
      "### \ud574\uacb0\n",
      "\n",
      "- \uc55e\uc5d0 \ub098\uc628 \ubb38\uc81c\ub294 resource \ubaa8\ub4c8\ub85c \ud574\uacb0 \uac00\ub2a5\n",
      "- \uc608\ub97c \ub4e4\uc5b4 CPU \uc2dc\uac04\uc5d0 \uc81c\ud55c\uc744 \uac78\uae30 \uc704\ud574\uc11c\ub294 \ub2e4\uc74c\uacfc \uac19\uc774 \ud568"
     ]
    },
    {
     "cell_type": "code",
     "collapsed": false,
     "input": [
      "# This module provides mechanisms to use signal handlers in Python.\n",
      "# help(signal)"
     ],
     "language": "python",
     "metadata": {},
     "outputs": [],
     "prompt_number": 21
    },
    {
     "cell_type": "code",
     "collapsed": false,
     "input": [
      "# This module provides basic mechanisms for measuring and \n",
      "# controlling system resources utilized by a program.\n",
      "# help(resource)"
     ],
     "language": "python",
     "metadata": {},
     "outputs": [],
     "prompt_number": 24
    },
    {
     "cell_type": "code",
     "collapsed": false,
     "input": [
      "# Returns a tuple (soft, hard) with the current soft and \n",
      "# hard limits of resource. \n",
      "# Raises ValueError if an invalid resource is specified, \n",
      "# or error if the underlying system call fails unexpectedly.\n",
      "# help(resource.getrlimit)"
     ],
     "language": "python",
     "metadata": {},
     "outputs": [],
     "prompt_number": 29
    },
    {
     "cell_type": "code",
     "collapsed": false,
     "input": [
      "resource.RLIMIT_CPU"
     ],
     "language": "python",
     "metadata": {},
     "outputs": [
      {
       "metadata": {},
       "output_type": "pyout",
       "prompt_number": 31,
       "text": [
        "0"
       ]
      }
     ],
     "prompt_number": 31
    },
    {
     "cell_type": "code",
     "collapsed": false,
     "input": [
      "resource.getrlimit(resource.RLIMIT_CPU)"
     ],
     "language": "python",
     "metadata": {},
     "outputs": [
      {
       "metadata": {},
       "output_type": "pyout",
       "prompt_number": 34,
       "text": [
        "(15, 9223372036854775807)"
       ]
      }
     ],
     "prompt_number": 34
    },
    {
     "cell_type": "code",
     "collapsed": false,
     "input": [
      "import signal\n",
      "import resource\n",
      "import os\n",
      "\n",
      "def time_exceeded(signo, frame):\n",
      "    print(\"Time's up!\")\n",
      "    raise SystemExit(1)\n",
      "    \n",
      "def set_max_runtime(seconds):\n",
      "    # \uc2e0\ud638 \ud578\ub4e4\ub7ec\ub97c \uc124\uce58\ud558\uace0 \uc81c\ud55c\uc744 \uc124\uc815\ud55c\ub2e4\n",
      "    soft, hard = resource.getrlimit(resource.RLIMIT_CPU)\n",
      "    resource.setrlimit(resource.RLIMIT_CPU, (seconds, hard))\n",
      "    signal.signal(signal.SIGXCPU, time_exceeded)\n",
      "    \n",
      "if __name__ == '__main__':\n",
      "    set_max_runtime(15)\n",
      "    while True:\n",
      "        pass"
     ],
     "language": "python",
     "metadata": {},
     "outputs": [
      {
       "output_type": "stream",
       "stream": "stdout",
       "text": [
        "Time's up!\n"
       ]
      },
      {
       "ename": "SystemExit",
       "evalue": "1",
       "output_type": "pyerr",
       "traceback": [
        "An exception has occurred, use %tb to see the full traceback.\n",
        "\u001b[0;31mSystemExit\u001b[0m\u001b[0;31m:\u001b[0m 1\n"
       ]
      },
      {
       "output_type": "stream",
       "stream": "stderr",
       "text": [
        "To exit: use 'exit', 'quit', or Ctrl-D.\n"
       ]
      }
     ],
     "prompt_number": 36
    },
    {
     "cell_type": "markdown",
     "metadata": {},
     "source": [
      "- \uc774 \ucf54\ub4dc\ub97c \uc2e4\ud589\ud558\uba74 \uc2dc\uac04\uc774 \ub9cc\ub8cc\ub420 \ub54c SIGXCPU \ud638\ucd9c\uc774 \uc0dd\uc131\ub428\n",
      "- \uadf8\ub7ec\uba74 \ud504\ub85c\uadf8\ub7a8\uc774 \uc801\uc808\ud55c \ud574\uc81c \uacfc\uc815 \ud6c4 \uc885\ub8cc\ud568\n",
      "- \uba54\ubaa8\ub9ac \uc0ac\uc6a9\uc744 \uc81c\ud55c\ud558\ub824\uba74 \uc0ac\uc6a9\ud558\ub294 \uc804\uccb4 \uc8fc\uc18c \uacf5\uac04\uc5d0 \uc81c\ud55c \uc124\uc815"
     ]
    },
    {
     "cell_type": "code",
     "collapsed": false,
     "input": [
      "import resource\n",
      "\n",
      "def limit_memory(maxsize):\n",
      "    soft, hard = resource.getrlimit(resource.RLIMIT_AS)\n",
      "    resource.setrlimit(resource.RLIMIT_AS, (maxsize, hard))"
     ],
     "language": "python",
     "metadata": {},
     "outputs": [],
     "prompt_number": 37
    },
    {
     "cell_type": "markdown",
     "metadata": {},
     "source": [
      "- \ud504\ub85c\uadf8\ub7a8\uc5d0\uc11c \ub354 \uc774\uc0c1 \uc0ac\uc6a9\ud560 \uba54\ubaa8\ub9ac\uac00 \uc5c6\uc73c\uba74 MemoryError \uc608\uc678\uac00 \uc0dd\uc131\ub428"
     ]
    },
    {
     "cell_type": "code",
     "collapsed": false,
     "input": [
      "if __name__ == '__main__':\n",
      "    limit_memory(100)\n",
      "    i = 0\n",
      "    while True:\n",
      "        i += 1\n",
      "        pass"
     ],
     "language": "python",
     "metadata": {},
     "outputs": [
      {
       "ename": "KeyboardInterrupt",
       "evalue": "",
       "output_type": "pyerr",
       "traceback": [
        "\u001b[0;31m---------------------------------------------------------------------------\u001b[0m\n\u001b[0;31mKeyboardInterrupt\u001b[0m                         Traceback (most recent call last)",
        "\u001b[0;32m<ipython-input-40-9d4e2752a2b7>\u001b[0m in \u001b[0;36m<module>\u001b[0;34m()\u001b[0m\n\u001b[1;32m      3\u001b[0m     \u001b[0mi\u001b[0m \u001b[0;34m=\u001b[0m \u001b[0;36m0\u001b[0m\u001b[0;34m\u001b[0m\u001b[0m\n\u001b[1;32m      4\u001b[0m     \u001b[0;32mwhile\u001b[0m \u001b[0;32mTrue\u001b[0m\u001b[0;34m:\u001b[0m\u001b[0;34m\u001b[0m\u001b[0m\n\u001b[0;32m----> 5\u001b[0;31m         \u001b[0mi\u001b[0m \u001b[0;34m+=\u001b[0m \u001b[0;36m1\u001b[0m\u001b[0;34m\u001b[0m\u001b[0m\n\u001b[0m\u001b[1;32m      6\u001b[0m         \u001b[0;32mpass\u001b[0m\u001b[0;34m\u001b[0m\u001b[0m\n",
        "\u001b[0;31mKeyboardInterrupt\u001b[0m: "
       ]
      }
     ],
     "prompt_number": 40
    },
    {
     "cell_type": "markdown",
     "metadata": {},
     "source": [
      "### \ud1a0\ub860\n",
      "\n",
      "- setrlimit() \ud568\uc218\ub85c \ud2b9\uc815 \uc790\uc6d0\uc5d0 \uc18c\ud504\ud2b8 \uc81c\ud55c\uacfc \ud558\ub4dc \uc81c\ud55c\uc744 \uc124\uc815\ud588\uc74c\n",
      "- soft limit\uc740 \uc6b4\uc601\uccb4\uc81c\uac00 \uc77c\ubc18\uc801\uc73c\ub85c \uc81c\ud55c\ud558\uac70\ub098 \uc2e0\ud638\ub97c \ud1b5\ud574 \ucc98\ub9ac\ub97c \uc54c\ub9ac\ub294 \uac12\n",
      "- hard limit\uc740 \uc18c\ud504\ud2b8 \uc81c\ud55c\uc774 \uc0ac\uc6a9\ud55c \uac12\uc758 \ud55c\uacc4\uce58\ub97c \ub098\ud0c0\ub0c4\n",
      "- \ub300\uac1c \uc774 \uac12\uc740 \uc2dc\uc2a4\ud15c \uad00\ub9ac\uc790\uac00 \uc124\uc815\ud55c \uc2dc\uc2a4\ud15c \uad00\ub828 \ud30c\ub77c\ubbf8\ud130\uac00 \uc81c\uc5b4\ud568\n",
      "- \ud558\ub4dc \uc81c\ud55c\uc744 \ub0ae\ucd9c \uc218\ub294 \uc788\uc9c0\ub9cc \uc808\ub300\ub85c \uc0ac\uc6a9\uc790 \ud504\ub85c\uc138\uc2a4\uc5d0 \uc758\ud574\uc11c \ubc1c\uc0dd\ud558\uc9c0 \uc54a\uc74c(\ud504\ub85c\uc138\uc2a4\uac00 \uc2a4\uc2a4\ub85c \ub0ae\ucd98\ub2e4\uace0 \ud574\ub3c4)\n",
      "- \ucd94\uac00\uc801\uc73c\ub85c setrlimit() \ud568\uc218\ub294 \uc790\uc2dd \ud504\ub85c\uc138\uc2a4\uc758 \uac1c\uc218, \uc5f4 \uc218 \uc788\ub294 \ud30c\uc77c\uc758 \uac1c\uc218 \ub4f1 \uc720\uc0ac\ud55c \uc2dc\uc2a4\ud15c \uc790\uc6d0\uc758 \uc81c\ud55c\ub3c4 \uc124\uc815 \uac00\ub2a5\n",
      "- \ub354 \uc790\uc138\ud55c \ub0b4\uc6a9\uc740 resource \ubaa8\ub4c8\uc758 \ubb38\uc11c \ucc38\uace0\n",
      "- \uc774\ubc88 \ub808\uc2dc\ud53c\uc758 \uc608\uc81c\ub294 Unix \uc2dc\uc2a4\ud15c\uc5d0\uc11c\ub9cc \ub3d9\uc791\ud558\uace0, \uba87\uba87 \uc2dc\uc2a4\ud15c\uc740 Unix \uae30\ubc18\uc774\uc5b4\ub3c4 \ub3d9\uc791\ud558\uc9c0 \uc54a\uc744 \uc218 \uc788\uc74c\n",
      "- \uc608\ub97c \ub4e4\uc5b4 \ud544\uc790\uac00 \uc2dc\ud5d8\ud574 \ubcf4\ub2c8 Linux\uc5d0\uc11c\ub294 \ub3d9\uc791\ud588\uc9c0\ub9cc OS X\uc5d0\uc11c\ub294 \ub3d9\uc791\ud558\uc9c0 \uc54a\uc74c"
     ]
    },
    {
     "cell_type": "markdown",
     "metadata": {},
     "source": [
      "## 13.15 \uc6f9 \ube0c\ub77c\uc6b0\uc800 \uc2e4\ud589\n",
      "\n",
      "### \ubb38\uc81c\n",
      "\n",
      "- \uc2a4\ud06c\ub9bd\ud2b8\uc5d0\uc11c \ube0c\ub77c\uc6b0\uc800\ub97c \uc2e4\ud589\ud558\uace0 \uba85\uc2dc\ud55c URL\ub85c \uc774\ub3d9\ud558\ub3c4\ub85d \ud558\uace0 \uc2f6\ub2e4\n",
      "\n",
      "### \ud574\uacb0\n",
      "\n",
      "- \ud50c\ub7ab\ud3fc\uc5d0 \ub3c5\ub9bd\uc801\uc73c\ub85c \uc6f9 \ube0c\ub77c\uc6b0\uc800\ub97c \uc2e4\ud589\ud558\ub824\uba74 webbrowser \ubaa8\ub4c8\uc744 \uc0ac\uc6a9\ud558\uba74 \ub428"
     ]
    },
    {
     "cell_type": "code",
     "collapsed": false,
     "input": [
      "import webbrowser\n",
      "webbrowser.open('http://www.python.org')"
     ],
     "language": "python",
     "metadata": {},
     "outputs": [
      {
       "metadata": {},
       "output_type": "pyout",
       "prompt_number": 43,
       "text": [
        "True"
       ]
      }
     ],
     "prompt_number": 43
    },
    {
     "cell_type": "markdown",
     "metadata": {},
     "source": [
      "- \uc774\ub807\uac8c \ud558\uba74 \uae30\ubcf8 \ube0c\ub77c\uc6b0\uc800\ub97c \uc0ac\uc6a9\ud574\uc11c \uc694\uccad\ud55c \uc6f9 \ud398\uc774\uc9c0\ub97c \uc5f0\ub2e4.\n",
      "- \ud398\uc774\uc988\ub97c \uc5f4 \ub54c \uc870\uae08 \ub354 \uc790\uc138\ud55c \uc81c\uc5b4\ub97c \ud558\uace0 \uc2f6\ub2e4\uba74 \ub2e4\uc74c\uc5d0 \ub098\uc624\ub294 \ud568\uc218 \uc911 \ud558\ub098\ub97c \uc0ac\uc6a9\ud568"
     ]
    },
    {
     "cell_type": "code",
     "collapsed": false,
     "input": [
      "# \uc0c8 \ucc3d\uc5d0\uc11c \ud398\uc774\uc9c0 \uc5f4\uae30. \uc548\ub428\n",
      "webbrowser.open_new('http://www.python.org')"
     ],
     "language": "python",
     "metadata": {},
     "outputs": [
      {
       "metadata": {},
       "output_type": "pyout",
       "prompt_number": 46,
       "text": [
        "True"
       ]
      }
     ],
     "prompt_number": 46
    },
    {
     "cell_type": "code",
     "collapsed": false,
     "input": [
      "# \uc0c8 \ud0ed\uc5d0\uc11c \ud398\uc774\uc9c0 \uc5f4\uae30\n",
      "webbrowser.open_new_tab('http://www.python.org')"
     ],
     "language": "python",
     "metadata": {},
     "outputs": [
      {
       "metadata": {},
       "output_type": "pyout",
       "prompt_number": 47,
       "text": [
        "True"
       ]
      }
     ],
     "prompt_number": 47
    },
    {
     "cell_type": "markdown",
     "metadata": {},
     "source": [
      "- \uc55e\uc758 \ucf54\ub4dc\ub97c \uc2e4\ud589\ud558\uba74 \uc0c8 \ucc3d\uc774\ub098 \ud0ed\uc5d0\uc11c \ube0c\ub77c\uc6b0\uc800\ub97c \uc5f0\ub2e4(\ube0c\ub77c\uc6b0\uc800\uc5d0\uc11c \uc9c0\uc6d0\ud574\uc57c \ud568)\n",
      "- \ud2b9\uc815 \ube0c\ub77c\uc6b0\uc800\ub97c \uc9c0\uc815\ud574\uc11c \ud398\uc774\uc9c0\ub97c \uc5f4\uace0 \uc2f6\uc73c\uba74 webbrowser.get() \ud568\uc218\ub85c \uc6d0\ud558\ub294 \ube0c\ub77c\uc6b0\uc800\ub97c \uc9c0\uc815\ud55c\ub2e4"
     ]
    },
    {
     "cell_type": "code",
     "collapsed": false,
     "input": [
      "c = webbrowser.get('firefox')"
     ],
     "language": "python",
     "metadata": {},
     "outputs": [],
     "prompt_number": 48
    },
    {
     "cell_type": "code",
     "collapsed": false,
     "input": [
      "c.open('http://python.org')"
     ],
     "language": "python",
     "metadata": {},
     "outputs": [
      {
       "metadata": {},
       "output_type": "pyout",
       "prompt_number": 50,
       "text": [
        "True"
       ]
      }
     ],
     "prompt_number": 50
    },
    {
     "cell_type": "code",
     "collapsed": false,
     "input": [
      "c.open_new('http://python.org')"
     ],
     "language": "python",
     "metadata": {},
     "outputs": [
      {
       "metadata": {},
       "output_type": "pyout",
       "prompt_number": 51,
       "text": [
        "True"
       ]
      }
     ],
     "prompt_number": 51
    },
    {
     "cell_type": "code",
     "collapsed": false,
     "input": [
      "c.open_new_tab('http://python.org')"
     ],
     "language": "python",
     "metadata": {},
     "outputs": [
      {
       "metadata": {},
       "output_type": "pyout",
       "prompt_number": 52,
       "text": [
        "True"
       ]
      }
     ],
     "prompt_number": 52
    },
    {
     "cell_type": "markdown",
     "metadata": {},
     "source": [
      "- \uc9c0\uc6d0\ud558\ub294 \ube0c\ub77c\uc6b0\uc800\uc758 \uc804\uccb4 \ub9ac\uc2a4\ud2b8\ub97c \ubcf4\ub824\uba74 [\ud30c\uc774\uc36c \ubb38\uc11c](https://docs.python.org/2/library/webbrowser.html)\ub97c \ucc38\uace0"
     ]
    },
    {
     "cell_type": "markdown",
     "metadata": {},
     "source": [
      "### \ud1a0\ub860\n",
      "\n",
      "- \uc2a4\ud06c\ub9bd\ud2b8\uc5d0\uc11c \ube0c\ub77c\uc6b0\uc800\ub97c \uc2e4\ud589\ud558\ub294 \uae30\ub2a5\uc740 \ub9ce\uc740 \uc791\uc5c5\uc5d0 \uc720\uc6a9\ud558\uac8c \uc751\uc6a9\uc774 \uac00\ub2a5\ud568\n",
      "- \uc608\ub97c \ub4e4\uc5b4, \uc11c\ubc84\uc5d0 \uc5b4\ub5a4 \uc791\uc5c5\uc744 \uc218\ud589\ud55c \ud6c4 \ubc14\ub85c \ube0c\ub77c\uc6b0\uc800\ub97c \uc2e4\ud589\ud574\uc11c \uadf8 \uc791\uc5c5\uc744 \uac80\uc99d\ud560 \uc218 \uc788\uc74c\n",
      "- \ud639\uc740 HTML \ud398\uc774\uc9c0 \ud615\ud0dc\ub85c \uacb0\uacfc\ub97c \ucd9c\ub825\ud558\ub294 \ud504\ub85c\uadf8\ub7a8\uc744 \uc791\uc131\ud588\ub2e4\uba74 \ubc14\ub85c \ube0c\ub77c\uc6b0\uc800\ub97c \uc2e4\ud589\ud558\uace0 \uacb0\uacfc\ub97c \ubcf4\uace0 \uc2f6\uc744 \uac83\n",
      "- 2\uac00\uc9c0 \uc0c1\ud669 \ubaa8\ub450 webbrowser \ubaa8\ub4c8\ub85c \uc27d\uac8c \ud574\uacb0 \uac00\ub2a5"
     ]
    }
   ],
   "metadata": {}
  }
 ]
}
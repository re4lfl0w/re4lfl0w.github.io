{
 "metadata": {
  "name": "",
  "signature": "sha256:8d567b8e7a4ffa9b6807f36847a66126eb0a804cd5fa14c890ec1cfddd9faf19"
 },
 "nbformat": 3,
 "nbformat_minor": 0,
 "worksheets": [
  {
   "cells": [
    {
     "cell_type": "markdown",
     "metadata": {},
     "source": [
      "## 8.11 \uc790\ub8cc \uad6c\uc870 \ucd08\uae30\ud654 \ub2e8\uc21c\ud654\ud558\uae30\n",
      "\n",
      "### \ubb38\uc81c\n",
      "\n",
      "- \uc790\ub8cc \uad6c\uc870\ub85c \uc0ac\uc6a9\ud558\ub294 \ud074\ub798\uc2a4\ub97c \uc791\uc131\ud558\uace0 \uc788\ub294\ub370, \ubc18\ubcf5\uc801\uc73c\ub85c \ube44\uc2b7\ud55c \\_\\_init\\_\\_() \ud568\uc218\ub97c \uc791\uc131\ud558\uae30 \uc9c0\uccd0 \uac04\ub2e4.\n",
      "\n",
      "### \ud574\uacb0\n",
      "\n",
      "- \uc790\ub8cc \uad6c\uc870\uc758 \ucd08\uae30\ud654\ub294 \ubca0\uc774\uc2a4 \ud074\ub798\uc2a4\uc758 \\_\\_init\\_\\_() \ud568\uc218\ub97c \uc815\uc758\ud558\ub294 \uc2dd\uc73c\ub85c \ub2e8\uc21c\ud654 \ud560 \uc218 \uc788\uc74c"
     ]
    },
    {
     "cell_type": "code",
     "collapsed": false,
     "input": [
      "class Structure:\n",
      "    # \uc608\uc0c1\ub418\ub294 \ud544\ub4dc\ub97c \uba85\uc2dc\ud558\ub294 \ud074\ub798\uc2a4 \ubcc0\uc218\n",
      "    _fields = []\n",
      "    def __init__(self, *args):\n",
      "        if len(args) != len(self._fields):\n",
      "            raise TypeError('Expected {} arguments'.format(len(self._fields)))\n",
      "        \n",
      "        # \uc18d\uc131 \uc124\uc815\n",
      "        for name, value in zip(self._fields, args):\n",
      "            setattr(self, name, value)"
     ],
     "language": "python",
     "metadata": {},
     "outputs": [],
     "prompt_number": 9
    },
    {
     "cell_type": "code",
     "collapsed": false,
     "input": [
      "# \uc608\uc81c \ud074\ub798\uc2a4 \uc815\uc758\n",
      "if __name__ == '__main__':\n",
      "    class Stock(Structure):\n",
      "        _fields = ['name', 'shares', 'price']\n",
      "        \n",
      "    class Point(Structure):\n",
      "        _fields = ['x', 'y']\n",
      "        \n",
      "    class Circle(Structure):\n",
      "        _fields = ['radius']\n",
      "        def area(self):\n",
      "            import math\n",
      "            return math.pi * self.radius ** 2"
     ],
     "language": "python",
     "metadata": {},
     "outputs": [],
     "prompt_number": 22
    },
    {
     "cell_type": "markdown",
     "metadata": {},
     "source": [
      "- \uacb0\uacfc \ud074\ub798\uc2a4\ub97c \uc0ac\uc6a9\ud558\uba74, \uc27d\uac8c \ub9cc\ub4e4 \uc218 \uc788\ub2e4\ub294 \uac83\uc744 \ud655\uc778 \uac00\ub2a5"
     ]
    },
    {
     "cell_type": "code",
     "collapsed": false,
     "input": [
      "s = Stock('ACME', 50, 91.1)"
     ],
     "language": "python",
     "metadata": {},
     "outputs": [],
     "prompt_number": 23
    },
    {
     "cell_type": "code",
     "collapsed": false,
     "input": [
      "p = Point(2, 3)"
     ],
     "language": "python",
     "metadata": {},
     "outputs": [],
     "prompt_number": 24
    },
    {
     "cell_type": "code",
     "collapsed": false,
     "input": [
      "c = Circle(4.5)"
     ],
     "language": "python",
     "metadata": {},
     "outputs": [],
     "prompt_number": 25
    },
    {
     "cell_type": "code",
     "collapsed": false,
     "input": [
      "s2 = Stock('ACME', 50)"
     ],
     "language": "python",
     "metadata": {},
     "outputs": [
      {
       "ename": "KeyError",
       "evalue": "'price'",
       "output_type": "pyerr",
       "traceback": [
        "\u001b[0;31m---------------------------------------------------------------------------\u001b[0m\n\u001b[0;31mKeyError\u001b[0m                                  Traceback (most recent call last)",
        "\u001b[0;32m<ipython-input-26-ef425468a375>\u001b[0m in \u001b[0;36m<module>\u001b[0;34m()\u001b[0m\n\u001b[0;32m----> 1\u001b[0;31m \u001b[0ms2\u001b[0m \u001b[0;34m=\u001b[0m \u001b[0mStock\u001b[0m\u001b[0;34m(\u001b[0m\u001b[0;34m'ACME'\u001b[0m\u001b[0;34m,\u001b[0m \u001b[0;36m50\u001b[0m\u001b[0;34m)\u001b[0m\u001b[0;34m\u001b[0m\u001b[0m\n\u001b[0m",
        "\u001b[0;32m<ipython-input-15-b4669057f837>\u001b[0m in \u001b[0;36m__init__\u001b[0;34m(self, *args, **kwargs)\u001b[0m\n\u001b[1;32m     11\u001b[0m         \u001b[0;31m# \ub0a8\uc544 \uc788\ub294 \ud0a4\uc6cc\ub4dc \ub9e4\uac1c\ubcc0\uc218 \uc124\uc815\u001b[0m\u001b[0;34m\u001b[0m\u001b[0;34m\u001b[0m\u001b[0m\n\u001b[1;32m     12\u001b[0m         \u001b[0;32mfor\u001b[0m \u001b[0mname\u001b[0m \u001b[0;32min\u001b[0m \u001b[0mself\u001b[0m\u001b[0;34m.\u001b[0m\u001b[0m_fields\u001b[0m\u001b[0;34m[\u001b[0m\u001b[0mlen\u001b[0m\u001b[0;34m(\u001b[0m\u001b[0margs\u001b[0m\u001b[0;34m)\u001b[0m\u001b[0;34m:\u001b[0m\u001b[0;34m]\u001b[0m\u001b[0;34m:\u001b[0m\u001b[0;34m\u001b[0m\u001b[0m\n\u001b[0;32m---> 13\u001b[0;31m             \u001b[0msetattr\u001b[0m\u001b[0;34m(\u001b[0m\u001b[0mself\u001b[0m\u001b[0;34m,\u001b[0m \u001b[0mname\u001b[0m\u001b[0;34m,\u001b[0m \u001b[0mkwargs\u001b[0m\u001b[0;34m.\u001b[0m\u001b[0mpop\u001b[0m\u001b[0;34m(\u001b[0m\u001b[0mname\u001b[0m\u001b[0;34m)\u001b[0m\u001b[0;34m)\u001b[0m\u001b[0;34m\u001b[0m\u001b[0m\n\u001b[0m\u001b[1;32m     14\u001b[0m \u001b[0;34m\u001b[0m\u001b[0m\n\u001b[1;32m     15\u001b[0m         \u001b[0;31m# \ub0a8\uc544 \uc788\ub294 \uae30\ud0c0 \ub9e4\uac1c\ubcc0\uc218\uac00 \uc5c6\ub294\uc9c0 \ud655\uc778\u001b[0m\u001b[0;34m\u001b[0m\u001b[0;34m\u001b[0m\u001b[0m\n",
        "\u001b[0;31mKeyError\u001b[0m: 'price'"
       ]
      }
     ],
     "prompt_number": 26
    },
    {
     "cell_type": "code",
     "collapsed": false,
     "input": [
      "c.area()"
     ],
     "language": "python",
     "metadata": {},
     "outputs": [
      {
       "metadata": {},
       "output_type": "pyout",
       "prompt_number": 27,
       "text": [
        "63.61725123519331"
       ]
      }
     ],
     "prompt_number": 27
    },
    {
     "cell_type": "markdown",
     "metadata": {},
     "source": [
      "- \ud0a4\uc6cc\ub4dc \ub9e4\uac1c\ubcc0\uc218\ub97c \uc9c0\uc6d0\ud558\uae30\ub85c \uacb0\uc815\ud588\ub2e4\uba74 \uc0ac\uc6a9\ud560 \uc218 \uc788\ub294 \ub514\uc790\uc778 \uc635\uc158\uc774 \uba87 \uac00\uc9c0 \uc788\ub2e4.\n",
      "- \uadf8\uc911 \ud55c \uac00\uc9c0\ub294 \ud0a4\uc6cc\ub4dc \ub9e4\uac1c\ubcc0\uc218\ub97c \ub9e4\ud551\ud574\uc11c \\_fields\uc5d0 \uba85\uc2dc\ub41c \uc18d\uc131 \uc774\ub984\uc5d0\ub9cc \uc77c\uce58\ud558\ub3c4\ub85d \ub9cc\ub4dc\ub294 \uac83"
     ]
    },
    {
     "cell_type": "code",
     "collapsed": false,
     "input": [
      "class Structure:\n",
      "    _fields = []\n",
      "    def __init__(self, *args, **kwargs):\n",
      "        if len(args) > len(self._fields):\n",
      "            raise TypeError('Expected {} arguments'.format(len(self._fields)))\n",
      "        \n",
      "        # \ubaa8\ub4e0 \uc704\uce58 \ub9e4\uac1c\ubcc0\uc218 \uc124\uc815\n",
      "        for name, value in zip(self._fields, args):\n",
      "            setattr(self, name, value)\n",
      "            \n",
      "        # \ub0a8\uc544 \uc788\ub294 \ud0a4\uc6cc\ub4dc \ub9e4\uac1c\ubcc0\uc218 \uc124\uc815\n",
      "        for name in self._fields[len(args):]:\n",
      "            setattr(self, name, kwargs.pop(name))\n",
      "            \n",
      "        # \ub0a8\uc544 \uc788\ub294 \uae30\ud0c0 \ub9e4\uac1c\ubcc0\uc218\uac00 \uc5c6\ub294\uc9c0 \ud655\uc778\n",
      "        if kwargs:\n",
      "            raise TypeError('Invalid argument(s): {}'.format(','.join(kwargs)))\n",
      "            \n",
      "\n",
      "if __name__ == '__main__':\n",
      "    class Stock(Structure):\n",
      "        _fields = ['name', 'shares', 'price']\n",
      "        \n",
      "    s1 = Stock('ACME', 50, 91.1)\n",
      "    s2 = Stock('ACME', 50, price=91.1)\n",
      "    s3 = Stock('ACME', shares=50, price=91.1)            "
     ],
     "language": "python",
     "metadata": {},
     "outputs": [],
     "prompt_number": 15
    },
    {
     "cell_type": "markdown",
     "metadata": {},
     "source": [
      "- \ud639\uc740 \\_fields\uc5d0 \uba85\uc2dc\ub418\uc9c0 \uc54a\uc740 \uad6c\uc870\uc5d0 \ucd94\uac00\uc801\uc778 \uc18d\uc131\uc744 \ucd94\uac00\ud558\ub294 \uc218\ub2e8\uc73c\ub85c \ud0a4\uc6cc\ub4dc \ub9e4\uac1c\ubcc0\uc218\ub97c \uc0ac\uc6a9\ud560 \uc218 \uc788\ub2e4."
     ]
    },
    {
     "cell_type": "code",
     "collapsed": false,
     "input": [
      "class Structure:\n",
      "    # \uc608\uc0c1\ub418\ub294 \ud544\ub4dc\ub97c \uba85\uc2dc\ud558\ub294 \ud074\ub798\uc2a4 \ubcc0\uc218\n",
      "    _fields = []\n",
      "    def __init__(self, *args, **kwargs):\n",
      "        if len(args) != len(self._fields):\n",
      "            raise TypeError('Expected {} arguments'.format(len(self._fields)))\n",
      "            \n",
      "        # \uc18d\uc131 \uc124\uc815\n",
      "        for name, value in zip(self._fields, args):\n",
      "            setattr(self, name, value)\n",
      "            \n",
      "        # (\uc788\ub2e4\uba74) \ucd94\uac00\uc801\uc778 \ub9e4\uac1c\ubcc0\uc218 \uc124\uc815\n",
      "        extra_args = kwargs.keys() - self._fields\n",
      "        for name in extra_args:\n",
      "            setattr(self, name, kwargs.pop(name))\n",
      "        if kwargs:\n",
      "            raise TypeError('Duplicate values for {}'.format(','.join(kwargs)))"
     ],
     "language": "python",
     "metadata": {},
     "outputs": [],
     "prompt_number": 28
    },
    {
     "cell_type": "code",
     "collapsed": false,
     "input": [
      "# \uc0ac\uc6a9 \uc608\n",
      "if __name__ == '__main__':\n",
      "    class Stock(Structure):\n",
      "        _fields = ['name', 'shares', 'price']\n",
      "        \n",
      "    s1 = Stock('ACME', 50, 91.1)\n",
      "    s2 = Stock('ACME', 50, 91.1, date='8/2/2012')"
     ],
     "language": "python",
     "metadata": {},
     "outputs": [],
     "prompt_number": 30
    },
    {
     "cell_type": "markdown",
     "metadata": {},
     "source": [
      "### \ud1a0\ub860\n",
      "\n",
      "- \uc81c\ub108\ub7f4\ud55c \ubaa9\uc801\uc73c\ub85c \\_\\_init\\_\\_() \uba54\uc18c\ub4dc\ub97c \uc815\uc758\ud558\ub294 \uae30\uc220\uc740 \uaddc\ubaa8\uac00 \uc791\uc740 \uc790\ub8cc \uad6c\uc870\ub97c \ub300\ub7c9\uc73c\ub85c \ub9cc\ub4dc\ub294 \ud504\ub85c\uadf8\ub7a8\uc5d0\uc11c \uc544\uc8fc \uc720\uc6a9\n",
      "- \uc774 \uae30\uc220\uc740 \ub2e4\uc74c\uacfc \uac19\uc774 \uc77c\uc77c\uc774 \\_\\_init\\_\\_() \uba54\uc18c\ub4dc\ub97c \uc791\uc131\ud558\ub294 \uac83\uc5d0 \ube44\ud574 \ud6e8\uc52c \ucf54\ub4dc\uc758 \uc591\uc744 \uc904\uc5ec\uc90c"
     ]
    },
    {
     "cell_type": "code",
     "collapsed": false,
     "input": [
      "class Stock:\n",
      "    def __init__(self, name, shares, price):\n",
      "        self.name = name\n",
      "        self.shares = shares\n",
      "        self.price = price\n",
      "        \n",
      "class Point:\n",
      "    def __init__(self, x, y):\n",
      "        self.x = x\n",
      "        self.y = y\n",
      "        \n",
      "class Circle:\n",
      "    def __init__(self, radius):\n",
      "        self.radius = radius\n",
      "        \n",
      "    def area(self):\n",
      "        return math.pi * self.radius ** 2"
     ],
     "language": "python",
     "metadata": {},
     "outputs": [],
     "prompt_number": 31
    },
    {
     "cell_type": "markdown",
     "metadata": {},
     "source": [
      "- \uad6c\ud604\ud560 \ub54c setattr() \ud568\uc218\ub85c \uac12\uc744 \uc124\uc815\ud558\ub294 \uba54\ucee4\ub2c8\uc998\uc744 \uc0ac\uc6a9\ud588\ub2e4. \uc774\ub807\uac8c \ud558\uc9c0 \uc54a\uace0, \uc778\uc2a4\ud134\uc2a4 \ub515\uc154\ub108\ub9ac\uc5d0 \uc9c1\uc811 \uc811\uadfc\ud574\ub3c4 \ub418\uc9c0 \uc54a\uc744\uae4c?"
     ]
    },
    {
     "cell_type": "code",
     "collapsed": false,
     "input": [
      "class Structure:\n",
      "    # \uc608\uc0c1\ub418\ub294 \ud544\ub4dc\ub97c \uba85\uc2dc\ud558\ub294 \ud074\ub798\uc2a4 \ubcc0\uc218\n",
      "    _fields = []\n",
      "    def __init__(self, *args):\n",
      "        if len(args) != len(self._fields):\n",
      "            raise TypeError('Expected {} arguments'.format(len(self._fields)))\n",
      "            \n",
      "        # \ub9e4\uac1c\ubcc0\uc218 \uc124\uc815(\ub300\uc548)\n",
      "        self.__dict__.update(zip(self._fields, args))"
     ],
     "language": "python",
     "metadata": {},
     "outputs": [],
     "prompt_number": 32
    },
    {
     "cell_type": "markdown",
     "metadata": {},
     "source": [
      "- \uc774\ub807\uac8c \ud574\ub3c4 \ub3d9\uc791\uc740 \ud558\uc9c0\ub9cc, \uc11c\ube0c\ud074\ub798\uc2a4 \uad6c\ud604\uc5d0 \ub300\ud55c \uac00\uc815\uc744 \ud558\ub294 \uac83\uc774 \ud56d\uc0c1 \uc548\uc804\ud558\uc9c0\ub294 \uc54a\ub2e4.\n",
      "- \uc11c\ube0c\ud074\ub798\uc2a4\uac00 \\_\\_slots\\_\\_\uc744 \uc0ac\uc6a9\ud558\uae30\ub85c \ud558\uace0 \ud2b9\uc815 \uc18d\uc131\uc744 \ud504\ub85c\ud37c\ud2f0(\ud639\uc740 \ub514\uc2a4\ud06c\ub9bd\ud130)\ub85c \uac10\uc2f8\uae30\ub9cc \ud558\uba74, \uc778\uc2a4\ud134\uc2a4 \ub515\uc154\ub108\ub9ac\uc5d0 \uc9c1\uc811 \uc811\uadfc\ud560 \ub54c \ubb38\uc81c\uac00 \ubc1c\uc0dd\ud568\n",
      "- \uc55e\uc5d0 \ub098\uc628 \ud574\uacb0\ucc45\uc740 \ucd5c\ub300\ud55c \uc81c\ub108\ub7f4\ud55c \ubaa9\uc801\uc73c\ub85c \uc0ac\uc6a9\ud560 \uc218 \uc788\ub3c4\ub85d \uc791\uc131\ud588\uace0 \uc11c\ube0c\ud074\ub798\uc2a4\uc5d0 \ub300\ud574 \uc544\ubb34\ub7f0 \uac00\uc815\ub3c4 \ud558\uc9c0 \uc54a\uc74c\n",
      "- \uc774 \uae30\uc220\uc758 \ub2e8\uc810 \uc911 \ud55c \uac00\uc9c0\ub294 **\ubb38\uc11c\ud654**\uc640 **IDE\uc758 \ub3c4\uc6c0\ub9d0 \uae30\ub2a5\uc5d0 \uc601\ud5a5\uc744 \uc900\ub2e4\ub294 \uac83**\n",
      "- \uc0ac\uc6a9\uc790\uac00 \ud2b9\uc815 \ud074\ub798\uc2a4\uc5d0 \ub300\ud574 \ub3c4\uc6c0\ub9d0\uc744 \uc694\uccad\ud558\uba74, \uc694\uccad\ud55c \uc778\uc790\uac00 \uc77c\ubc18\uc801\uc778 \ubc29\uc2dd\uc73c\ub85c \uc124\uba85\ub418\uc9c0 \uc54a\uc74c"
     ]
    },
    {
     "cell_type": "code",
     "collapsed": false,
     "input": [
      "help(Stock)"
     ],
     "language": "python",
     "metadata": {},
     "outputs": [
      {
       "output_type": "stream",
       "stream": "stdout",
       "text": [
        "Help on class Stock in module __main__:\n",
        "\n",
        "class Stock(builtins.object)\n",
        " |  Methods defined here:\n",
        " |  \n",
        " |  __init__(self, name, shares, price)\n",
        " |  \n",
        " |  ----------------------------------------------------------------------\n",
        " |  Data descriptors defined here:\n",
        " |  \n",
        " |  __dict__\n",
        " |      dictionary for instance variables (if defined)\n",
        " |  \n",
        " |  __weakref__\n",
        " |      list of weak references to the object (if defined)\n",
        "\n"
       ]
      }
     ],
     "prompt_number": 33
    },
    {
     "cell_type": "markdown",
     "metadata": {},
     "source": [
      "- \ub300\ubd80\ubd84 \uc774\ub7f0 \ubb38\uc81c\uc810\uc740 type signature\ub97c \\_\\_init\\_\\_() \ud568\uc218\uc5d0 \ucca8\ubd80\ud558\ub294 \uc2dd\uc73c\ub85c \ud574\uacb0 \uac00\ub2a5. \ub808\uc2dc\ud53c 9.16 \ucc38\uace0\n",
      "- \ub610\ud55c \uc720\ud2f8\ub9ac\ud2f0 \ud568\uc218\uc640 \uc18c\uc704 \"\ud504\ub808\uc784 \ud575(frame hack)\"\uc744 \uc0ac\uc6a9\ud558\uba74 \uc778\uc2a4\ud134\uc2a4 \ubcc0\uc218\ub97c \uc790\ub3d9\uc73c\ub85c \ucd08\uae30\ud654\ud560 \uc218 \uc788\uc74c"
     ]
    },
    {
     "cell_type": "code",
     "collapsed": false,
     "input": [
      "def init_fromlocals(self):\n",
      "    import sys\n",
      "    locs = sys._getframe(1).f_locals\n",
      "    for k, v in locs.items():\n",
      "        if k != 'self':\n",
      "            setattr(self, k, v)"
     ],
     "language": "python",
     "metadata": {},
     "outputs": [],
     "prompt_number": 34
    },
    {
     "cell_type": "code",
     "collapsed": false,
     "input": [
      "class Stock:\n",
      "    def __init__(self, name, shares, price):\n",
      "        init_fromlocals(self)"
     ],
     "language": "python",
     "metadata": {},
     "outputs": [],
     "prompt_number": 35
    },
    {
     "cell_type": "code",
     "collapsed": false,
     "input": [
      "help(sys._getframe)"
     ],
     "language": "python",
     "metadata": {},
     "outputs": [
      {
       "output_type": "stream",
       "stream": "stdout",
       "text": [
        "Help on built-in function _getframe in module sys:\n",
        "\n",
        "_getframe(...)\n",
        "    _getframe([depth]) -> frameobject\n",
        "    \n",
        "    Return a frame object from the call stack.  If optional integer depth is\n",
        "    given, return the frame object that many calls below the top of the stack.\n",
        "    If that is deeper than the call stack, ValueError is raised.  The default\n",
        "    for depth is zero, returning the frame at the top of the call stack.\n",
        "    \n",
        "    This function should be used for internal and specialized\n",
        "    purposes only.\n",
        "\n"
       ]
      }
     ],
     "prompt_number": 36
    },
    {
     "cell_type": "markdown",
     "metadata": {},
     "source": [
      "- \uc55e\uc5d0 \ub098\uc628 \ucf54\ub4dc\uc5d0\uc11c init_framelocals() \ud568\uc218\ub294 sys.\\_getframe()\uc73c\ub85c \ud638\ucd9c\uc911\uc778 \uba54\uc18c\ub4dc\uc758 \uc9c0\uc5ed\ubcc0\uc218\ub97c \uc0b4\ud3b4\ubcf8\ub2e4.\n",
      "- \ub9cc\uc57d \\_\\_init\\_\\_() \uba54\uc18c\ub4dc\uc758 \uccab\ubc88\uc9f8 \ub2e8\uacc4\ub85c \uc0ac\uc6a9\ud558\uba74, \uc9c0\uc5ed\ubcc0\uc218\ub97c \uc804\ub2ec\ubc1b\uc740 \uc778\uc790\uc640 \ub3d9\uc77c\ud558\uace0, \ub3d9\uc77c\ud55c \uc774\ub984\uc73c\ub85c \uc18d\uc131\uc744 \uc124\uc815\ud558\ub294 \ub370 \uc0ac\uc6a9\ud560 \uc218 \uc2f1\u3146\uc74c\n",
      "- \uc774 \ubc29\uc2dd\uc740 \uc62c\ubc14\ub978 IDE \ud638\ucd9c \uc2dc\uadf8\ub2c8\ucc98\ub97c \uc5bb\uc744 \ub54c \ubc1c\uc0dd\ud558\ub294 \ubb38\uc81c\ub97c \ud53c\ud574\uac08 \uc218\ub294 \uc788\uc9c0\ub9cc, \uc774\ubc88 \ub808\uc2dc\ud53c\uc5d0\uc11c \uc81c\uc2dc\ud55c \ud574\uacb0\ucc45\ubcf4\ub2e4 \ub300\ub7b5 50% \uc774\uc0c1 \ub290\ub9ac\uace0, \ucf54\ub4dc\uac00 \uae38\uba70, \ub208\uc5d0 \ub744\uc9c0 \uc54a\ub294 \uacf3\uc5d0 \ubcf5\uc7a1\ud55c \uae30\uc220\uc744 \ub0b4\ud3ec\ud558\uac8c \ub428\n",
      "- \ucf54\ub4dc\uc5d0\uc11c \uc774\ub7f0 \ucd94\uac00\uc801\uc778 \uae30\ub2a5\uc774 \uaf2d \ud544\uc694\ud558\uc9c0 \uc54a\ub2e4\uba74 \uad73\uc774 \uc774\ub807\uac8c\uae4c\uc9c0 \ud560 \ud544\uc694\ub294 \uc5c6\uc74c"
     ]
    },
    {
     "cell_type": "markdown",
     "metadata": {},
     "source": [
      "## 8.12 \uc778\ud130\ud398\uc774\uc2a4, \ucd94\uc0c1 \ubca0\uc774\uc2a4 \ud074\ub798\uc2a4 \uc815\uc758\n",
      "\n",
      "### \ubb38\uc81c\n",
      "\n",
      "- \uc778\ud130\ud398\uc774\uc2a4\ub098 \ucd94\uc0c1 \ubca0\uc774\uc2a4 \ud074\ub798\uc2a4 \uc5ed\ud560\uc744 \ud558\ub294 \ud074\ub798\uc2a4\ub97c \uc815\uc758\ud558\uace0 \uc2f6\ub2e4. \uadf8\ub9ac\uace0 \uc774 \ud074\ub798\uc2a4\ub294 \ud0c0\uc785 \ud655\uc778\uc744 \ud558\uace0 \ud2b9\uc815 \uba54\uc18c\ub4dc\uac00 \uc11c\ube0c \ud074\ub798\uc2a4\uc5d0 \uad6c\ud604\ub418\uc5c8\ub294\uc9c0 \ubcf4\uc7a5\ud55c\ub2e4.\n",
      "\n",
      "### \ud574\uacb0\n",
      "\n",
      "- \ucd94\uc0c1 \ubca0\uc774\uc2a4 \ud074\ub798\uc2a4\ub97c \uc815\uc758\ud558\ub824\uba74 abc \ubaa8\ub4c8\uc744 \uc0ac\uc6a9\ud55c\ub2e4."
     ]
    },
    {
     "cell_type": "code",
     "collapsed": false,
     "input": [
      "# Abstract Base Classes (ABCs) according to PEP 3119.\n",
      "from abc import ABCMeta, abstractmethod\n",
      "\n",
      "class IStream(metaclass=ABCMeta):\n",
      "    @abstractmethod\n",
      "    def read(self, maxbytes=-1):\n",
      "        pass\n",
      "    \n",
      "    @abstractmethod\n",
      "    def write(self, data):\n",
      "        pass"
     ],
     "language": "python",
     "metadata": {},
     "outputs": [],
     "prompt_number": 41
    },
    {
     "cell_type": "markdown",
     "metadata": {},
     "source": [
      "- \ucd94\uc0c1 \ubca0\uc774\uc2a4 \ud074\ub798\uc2a4\uc758 \uc8fc\uc694 \uae30\ub2a5\uc740 **\uc9c1\uc811 \uc778\uc2a4\ud134\uc2a4\ud654 \ud560 \uc218 \uc5c6\ub2e4\ub294 \uc810**"
     ]
    },
    {
     "cell_type": "code",
     "collapsed": false,
     "input": [
      "# TypeError: \ucd94\uc0c1 \uba54\uc18c\ub4dc read, write\ub97c \ud3ec\ud568\ud55c\n",
      "# \ucd94\uc0c1\ud074\ub798\uc2a4 IStream\uc744 \uc778\uc2a4\ud134\uc2a4\ud654 \ud560 \uc218 \uc5c6\uc74c\n",
      "a = IStream()"
     ],
     "language": "python",
     "metadata": {},
     "outputs": [
      {
       "ename": "TypeError",
       "evalue": "Can't instantiate abstract class IStream with abstract methods read, write",
       "output_type": "pyerr",
       "traceback": [
        "\u001b[0;31m---------------------------------------------------------------------------\u001b[0m\n\u001b[0;31mTypeError\u001b[0m                                 Traceback (most recent call last)",
        "\u001b[0;32m<ipython-input-42-c7df969cd35c>\u001b[0m in \u001b[0;36m<module>\u001b[0;34m()\u001b[0m\n\u001b[0;32m----> 1\u001b[0;31m \u001b[0ma\u001b[0m \u001b[0;34m=\u001b[0m \u001b[0mIStream\u001b[0m\u001b[0;34m(\u001b[0m\u001b[0;34m)\u001b[0m\u001b[0;34m\u001b[0m\u001b[0m\n\u001b[0m",
        "\u001b[0;31mTypeError\u001b[0m: Can't instantiate abstract class IStream with abstract methods read, write"
       ]
      }
     ],
     "prompt_number": 42
    },
    {
     "cell_type": "markdown",
     "metadata": {},
     "source": [
      "- \ucd94\uc0c1 \ubca0\uc774\uc2a4 \ud074\ub798\uc2a4\ub294 \uc694\uad6c\ud55c \uba54\uc18c\ub4dc\ub97c \uad6c\ud604\ud558\ub294 \ub2e4\ub978 \ud074\ub798\uc2a4\uc758 \ubca0\uc774\uc2a4 \ud074\ub798\uc2a4\ub85c \uc0ac\uc6a9\ud574\uc57c \ud568"
     ]
    },
    {
     "cell_type": "code",
     "collapsed": false,
     "input": [
      "class SocketStream(IStream):\n",
      "    def read(self, maxbytes=-1):\n",
      "        pass\n",
      "    def write(self, data):\n",
      "        pass"
     ],
     "language": "python",
     "metadata": {},
     "outputs": [],
     "prompt_number": 43
    },
    {
     "cell_type": "markdown",
     "metadata": {},
     "source": [
      "- \ucd94\uc0c1 \ubca0\uc774\uc2a4 \ud074\ub798\uc2a4\ub294 \ud2b9\uc815 \ud504\ub85c\uadf8\ub798\ubc0d \uc778\u314c\ud130\ud398\uc774\uc2a4\ub97c \uac15\uc694\ud558\uace0 \uc2f6\uc744 \ub54c \uc8fc\ub85c \uc0ac\uc6a9\ud568\n",
      "- \uc608\ub97c \ub4e4\uc5b4 IStream \ubca0\uc774\uc2a4 \ud074\ub798\uc2a4\ub294 \ub370\uc774\ud130\ub97c \uc77d\uac70\ub098 \uc4f0\ub294 \uc778\ud130\ud398\uc774\uc2a4\uc5d0 \ub300\ud55c \uc0c1\uc704 \ub808\ubca8 \uc2a4\ud399\uc73c\ub85c \ubcfc \uc218 \uc788\uc74c\n",
      "- \uc774\ub7f0 \uc778\ud130\ud398\uc774\uc2a4\ub97c \uba85\uc2dc\uc801\uc73c\ub85c \ud655\uc778\ud558\ub294 \ucf54\ub4dc\ub294 \ub2e4\uc74c\uacfc \uac19\uc774 \uc791\uc131\ud568"
     ]
    },
    {
     "cell_type": "code",
     "collapsed": false,
     "input": [
      "def serialize(obj, stream):\n",
      "    if not isinstance(stream, IStream):\n",
      "        raise TypeError('Expected an IStream')"
     ],
     "language": "python",
     "metadata": {},
     "outputs": [],
     "prompt_number": 44
    },
    {
     "cell_type": "markdown",
     "metadata": {},
     "source": [
      "- \uc774\ub7f0 \ud0c0\uc785 \ud655\uc778 \ucf54\ub4dc\ub294 \uc11c\ube0c\ud074\ub798\uc2f1\uacfc \ucd94\uc0c1 \ubca0\uc774\uc2a4 \ud074\ub798\uc2a4(ABC)\uc5d0\uc11c\ub9cc \ub3d9\uc791\ud560 \uac83 \uac19\uc9c0\ub9cc, ABC\ub294 \ub2e4\ub978 \ud074\ub798\uc2a4\uac00 \ud2b9\uc815 \uc778\ud130\ud398\uc774\uc2a4\ub97c \uad6c\ud604\ud588\ub294\uc9c0 \ud655\uc778\ud558\ub3c4\ub85d \ud5c8\uc6a9\ud568"
     ]
    },
    {
     "cell_type": "code",
     "collapsed": false,
     "input": [
      "import io\n",
      "\n",
      "# \ub0b4\uc7a5 I/O \ud074\ub798\uc2a4\ub97c \uc6b0\ub9ac\uc758 \uc778\ud130\ud398\uc774\uc2a4\ub97c \uc9c0\uc6d0\ud558\ub3c4\ub85d \ub4f1\ub85d\n",
      "IStream.register(io.IOBase)\n",
      "\n",
      "# \uc77c\ubc18 \ud30c\uc77c\uc744 \uc5f4\uace0 \ud0c0\uc785 \ud655\uc778\n",
      "f = open('08/calling_a_method_on_a_parent_class/example1.py')\n",
      "# True \ubc18\ud658\n",
      "isinstance(f, IStream)"
     ],
     "language": "python",
     "metadata": {},
     "outputs": [
      {
       "metadata": {},
       "output_type": "pyout",
       "prompt_number": 46,
       "text": [
        "True"
       ]
      }
     ],
     "prompt_number": 46
    },
    {
     "cell_type": "code",
     "collapsed": false,
     "input": [],
     "language": "python",
     "metadata": {},
     "outputs": []
    }
   ],
   "metadata": {}
  }
 ]
}
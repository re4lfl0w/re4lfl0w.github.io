{
 "metadata": {
  "name": "",
  "signature": "sha256:c00707b27947c033a8394e8c04f869c42d53c45b5861503ec2913a477f49604f"
 },
 "nbformat": 3,
 "nbformat_minor": 0,
 "worksheets": [
  {
   "cells": [
    {
     "cell_type": "markdown",
     "metadata": {},
     "source": [
      "# 2. \ubb38\uc790\uc5f4\uacfc \ud14d\uc2a4\ud2b8\n",
      "\n",
      "- start: 2014-10-02\n",
      "- end: 2014-10-03\n",
      "\n",
      "\n",
      "- \uac70\uc758 \ubaa8\ub4e0 \uc4f8\ub9cc\ud55c \ud504\ub85c\uadf8\ub7a8\uc5d0\ub294 \uc5b4\ub5bb\uac8c\ub4e0 \ub370\uc774\ud130 \ud30c\uc2f1\uc774\ub098 \uacb0\uacfc\ubb3c \ucd9c\ub825\uacfc \uac19\uc740 \ud14d\uc2a4\ud2b8 \ud504\ub85c\uc138\uc2f1\uc774 \ub4e4\uc5b4\uc788\uc74c\n",
      "- \ubb38\uc790\uc5f4 \ub098\ub204\uae30, \uac80\uc0c9, \ube7c\uae30, \ub809\uc2f1, \ud30c\uc2f1\uacfc \uac19\uc774 \ud14d\uc2a4\ud2b8 \ucc98\ub9ac\uc640 \uad00\ub828\uc788\ub294 \uc77c\ubc18\uc801\uc778 \ubb38\uc81c\uc5d0 \ucd08\uc810\n",
      "- \ub300\ubd80\ubd84\uc758 \ubb38\uc81c\ub294 \ud30c\uc774\uc36c\uc5d0 \ub0b4\uc7a5\ub418\uc5b4 \uc788\ub294 \ubb38\uc790\uc5f4 \uba54\uc18c\ub4dc\ub85c \ud574\uacb0 \uac00\ub2a5\n",
      "- \uc870\uae08 \ubcf5\uc7a1\ud55c \ubb38\uc81c\ub294 **\uc815\uaddc \ud45c\ud604\uc2dd**\uc744 \uc0ac\uc6a9\ud558\uac70\ub098 \ubb38\uc790\uc5f4 \ud30c\uc11c\ub97c \uc791\uc131\ud574\uc57c \ub428\n",
      "- \uc870\uae08 \ubcf5\uc7a1\ud55c \uc720\ub2c8\ucf54\ub4dc\ub3c4 \ub2e4\ub8f8"
     ]
    },
    {
     "cell_type": "markdown",
     "metadata": {},
     "source": [
      "## 2.1 \uc5ec\ub7ec \uad6c\ubd84\uc790\ub85c \ubb38\uc790\uc5f4 \ub098\ub204\uae30\n",
      "\n",
      "### \ubb38\uc81c\n",
      "\n",
      "- \ubb38\uc790\uc5f4\uc744 \ud544\ub4dc\ub85c \ub098\ub204\uace0 \uc2f6\uc9c0\ub9cc \uad6c\ubd84\uc790(\uadf8\ub9ac\uace0 \uadf8 \uc8fc\ubcc0\uc758 \uacf5\ubc31)\uac00 \ubb38\uc790\uc5f4\uc5d0 \uc77c\uad00\uc801\uc774\uc9c0 \uc54a\ub2e4.\n",
      "\n",
      "### \ud574\uacb0\n",
      "\n",
      "- \ubb38\uc790\uc5f4 \uac1d\uccb4\uc758 split() \uba54\uc18c\ub4dc\ub294 \uc544\uc8fc \uac04\ub2e8\ud55c \uc0c1\ud669\uc5d0\uc11c \uc0ac\uc6a9\ud558\ub3c4\ub85d \uc124\uacc4\n",
      "- \uc5ec\ub7ec\uac1c\uc758 \uad6c\ubd84\uc790\ub098 \uad6c\ubd84\uc790 \uc8fc\ubcc0\uc758 \uacf5\ubc31\uae4c\uc9c0 \uace0\ub824\ud558\uc9c0 \uc54a\uc74c\n",
      "- \uc880 \ub354 **\uc720\uc5f0**\ud574\uc838\uc57c \ud560 \ud544\uc694\uac00 \uc788\ub2e4\uba74 **re.split()** \uba54\uc18c\ub4dc \uc0ac\uc6a9"
     ]
    },
    {
     "cell_type": "code",
     "collapsed": false,
     "input": [
      "line = 'asdf fjdk; afed, fjek, asdf,      foo'"
     ],
     "language": "python",
     "metadata": {},
     "outputs": [],
     "prompt_number": 1
    },
    {
     "cell_type": "code",
     "collapsed": false,
     "input": [
      "import re"
     ],
     "language": "python",
     "metadata": {},
     "outputs": [],
     "prompt_number": 2
    },
    {
     "cell_type": "code",
     "collapsed": false,
     "input": [
      "re.split(r'[;,\\s]\\s*', line)"
     ],
     "language": "python",
     "metadata": {},
     "outputs": [
      {
       "metadata": {},
       "output_type": "pyout",
       "prompt_number": 3,
       "text": [
        "['asdf', 'fjdk', 'afed', 'fjek', 'asdf', 'foo']"
       ]
      }
     ],
     "prompt_number": 3
    },
    {
     "cell_type": "markdown",
     "metadata": {},
     "source": [
      "### \ud1a0\ub860\n",
      "\n",
      "- re.split() \ud568\uc218\ub294 \ubd84\ub9ac \uad6c\ubb38\ub9c8\ub2e4 \uc5ec\ub7ec \ud328\ud134\uc744 \uba85\uc2dc\ud560 \uc218 \uc788\ub2e4\ub294 \uc7a5\uc810 \uc874\uc7ac\n",
      "- \uc55e\uc758 \ucf54\ub4dc\uc5d0\uc11c \ubcf8 \ub300\ub85c \uc27c\ud45c(,), \uc138\ubbf8\ucf5c\ub860(;), \uacf5\ubc31\ubb38\uc790\uc640 \ub4a4\uc774\uc5b4 \ub098\uc624\ub294 \ud558\ub098 \uc774\uc0c1\uc758 \uacf5\ubc31\ubb38\uc790 \ubaa8\ub450\ub97c \ubd84\ub9ac \uad6c\ubb38\uc73c\ub85c \uc0ac\uc6a9\n",
      "- \uc774 \ud328\ud134\uc774 \ub098\uc62c \ub54c\ub9c8\ub2e4 \ub9e4\uce6d\ub41c \ubd80\ubd84\uc740 \ubaa8\ub450\uac00 \uad6c\ubd84\uc790\uac00 \ub428\n",
      "- \uacb0\uacfc\ub294 str.split()\uacfc \ub9c8\ucc2c\uac00\uc9c0\ub85c \ud544\ub4dc \ub9ac\uc2a4\ud2b8\uac00 \ub428\n",
      "\n",
      "\n",
      "- re.split()\uc744 \uc0ac\uc6a9\ud560 \ub54c\ub294 \uad04\ud638 \uc548\uc5d0 \ubb36\uc778 \uc815\uaddc \ud45c\ud604\uc2dd \ud328\ud134\uc774 \ucea1\uccd0 \uadf8\ub8f9(capture group)\uc774 \ub41c\ub2e4\ub294 \uc810\uc5d0 \uc8fc\uc758\n",
      "- capture group\uc744 \uc0ac\uc6a9\ud558\uba74, \ub9e4\uce6d\ub41c \ud14d\uc2a4\ud2b8\uc5d0\ub3c4 \uacb0\uacfc\uac00 \ud3ec\ud568\ub428"
     ]
    },
    {
     "cell_type": "code",
     "collapsed": false,
     "input": [
      "line"
     ],
     "language": "python",
     "metadata": {},
     "outputs": [
      {
       "metadata": {},
       "output_type": "pyout",
       "prompt_number": 7,
       "text": [
        "'asdf fjdk; afed, fjek, asdf,      foo'"
       ]
      }
     ],
     "prompt_number": 7
    },
    {
     "cell_type": "code",
     "collapsed": false,
     "input": [
      "fields = re.split(r'(;|,|\\s)\\s*', line)\n",
      "fields"
     ],
     "language": "python",
     "metadata": {},
     "outputs": [
      {
       "metadata": {},
       "output_type": "pyout",
       "prompt_number": 10,
       "text": [
        "['asdf', ' ', 'fjdk', ';', 'afed', ',', 'fjek', ',', 'asdf', ',', 'foo']"
       ]
      }
     ],
     "prompt_number": 10
    },
    {
     "cell_type": "markdown",
     "metadata": {},
     "source": [
      "- \uad6c\ubd84 \ubb38\uc790\ub9cc \ucd94\ucd9c\ud574\uc57c \ud560 \ud544\uc694\n",
      "- \ucd9c\ub825\ubb38\uc744 \uc7ac\uad6c\uc131\ud558\uae30 \uc704\ud574\uc11c \ud544\uc694\ud55c \uacbd\uc6b0"
     ]
    },
    {
     "cell_type": "code",
     "collapsed": false,
     "input": [
      "values = fields[::2]\n",
      "values"
     ],
     "language": "python",
     "metadata": {},
     "outputs": [
      {
       "metadata": {},
       "output_type": "pyout",
       "prompt_number": 11,
       "text": [
        "['asdf', 'fjdk', 'afed', 'fjek', 'asdf', 'foo']"
       ]
      }
     ],
     "prompt_number": 11
    },
    {
     "cell_type": "code",
     "collapsed": false,
     "input": [
      "fields[1::2]"
     ],
     "language": "python",
     "metadata": {},
     "outputs": [
      {
       "metadata": {},
       "output_type": "pyout",
       "prompt_number": 13,
       "text": [
        "[' ', ';', ',', ',', ',']"
       ]
      }
     ],
     "prompt_number": 13
    },
    {
     "cell_type": "code",
     "collapsed": false,
     "input": [
      "delimiters = fields[1::2] + ['']\n",
      "delimiters"
     ],
     "language": "python",
     "metadata": {},
     "outputs": [
      {
       "metadata": {},
       "output_type": "pyout",
       "prompt_number": 12,
       "text": [
        "[' ', ';', ',', ',', ',', '']"
       ]
      }
     ],
     "prompt_number": 12
    },
    {
     "cell_type": "code",
     "collapsed": false,
     "input": [
      "# \ub3d9\uc77c\ud55c \uad6c\ubd84\uc790\ub85c \ub77c\uc778\uc744 \uad6c\uc131\ud55c\ub2e4.\n",
      "''.join(v+d for v, d in zip(values, delimiters))"
     ],
     "language": "python",
     "metadata": {},
     "outputs": [
      {
       "metadata": {},
       "output_type": "pyout",
       "prompt_number": 14,
       "text": [
        "'asdf fjdk;afed,fjek,asdf,foo'"
       ]
      }
     ],
     "prompt_number": 14
    },
    {
     "cell_type": "markdown",
     "metadata": {},
     "source": [
      "- \uad6c\ubd84\uc790\ub97c \uc800\uc7a5\ud588\ub2e4\uac00 \ub098\uc911\uc5d0 \ub2e4\uc2dc \uc0ac\uc6a9\ud55c\ub2e4. \ub2e8, \ub4a4\uc5d0 \ub355\uc9c0\ub355\uc9c0 \ubd99\uc5b4\uc788\ub294 space \ub4e4\uc740 \ubaa8\ub450 \uc0ad\uc81c!\n",
      "- \ubd84\ub9ac \uad6c\ubb38\uc744 \uacb0\uacfc\uc5d0 \ud3ec\ud568\uc2dc\ud0a4\uc9c0 \uc54a\uc744 \ub54c: non-capture group(?:...)"
     ]
    },
    {
     "cell_type": "code",
     "collapsed": false,
     "input": [
      "# \uad6c\ubd84\uc790\ub4e4\uc740 \uc800\uc7a5\ub418\uc9c0 \uc54a\uc74c\n",
      "re.split(r'(?:;|,|\\s)\\s*', line)"
     ],
     "language": "python",
     "metadata": {},
     "outputs": [
      {
       "metadata": {},
       "output_type": "pyout",
       "prompt_number": 15,
       "text": [
        "['asdf', 'fjdk', 'afed', 'fjek', 'asdf', 'foo']"
       ]
      }
     ],
     "prompt_number": 15
    },
    {
     "cell_type": "code",
     "collapsed": false,
     "input": [
      "# () \ucea1\uccd0\ub97c \ud574\uc11c \ucd5c\uc885 list\uc5d0\ub3c4 \uad6c\ubd84\uc790\uac00 \ud3ec\ud568 \ub428\n",
      "re.split(r'(;|,|\\s)\\s*', line)"
     ],
     "language": "python",
     "metadata": {},
     "outputs": [
      {
       "metadata": {},
       "output_type": "pyout",
       "prompt_number": 17,
       "text": [
        "['asdf', ' ', 'fjdk', ';', 'afed', ',', 'fjek', ',', 'asdf', ',', 'foo']"
       ]
      }
     ],
     "prompt_number": 17
    },
    {
     "cell_type": "markdown",
     "metadata": {},
     "source": [
      "## 2.2 \ubb38\uc790\uc5f4 \ucc98\uc74c\uc774\ub098 \ub9c8\uc9c0\ub9c9\uc5d0 \ud14d\uc2a4\ud2b8 \ub9e4\uce6d\n",
      "\n",
      "### \ubb38\uc81c\n",
      "\n",
      "- \ubb38\uc790\uc5f4\uc758 \ucc98\uc74c\uc774\ub098 \ub9c8\uc9c0\ub9c9\uc5d0 \ud30c\uc77c \ud655\uc7a5\uc790, URL scheme \ub4f1 \ud2b9\uc815 \ud14d\uc2a4\ud2b8 \ud328\ud134\uc774 \ud3ec\ud568\ub418\uc5c8\ub294\uc9c0 \uac80\uc0ac\ud558\uace0 \uc2f6\ub2e4\n",
      "\n",
      "### \ud574\uacb0\n",
      "\n",
      "- \ubb38\uc790\uc5f4\uc758 \ucc98\uc74c\uc774\ub098 \ub9c8\uc9c0\ub9c9\uc5d0 \ud328\ud134\uc774 \ud3ec\ud568\ub418\uc5c8\ub294\uc9c0 \ud655\uc778\ud558\ub294 \uac04\ub2e8\ud55c \ubc29\ubc95\uc73c\ub85c str.startswith()\ub098 str.endswith() \uba54\uc18c\ub4dc\uac00 \uc874\uc7ac"
     ]
    },
    {
     "cell_type": "code",
     "collapsed": false,
     "input": [
      "filename = 'spam.txt'"
     ],
     "language": "python",
     "metadata": {},
     "outputs": [],
     "prompt_number": 18
    },
    {
     "cell_type": "code",
     "collapsed": false,
     "input": [
      "filename.endswith('.txt')"
     ],
     "language": "python",
     "metadata": {},
     "outputs": [
      {
       "metadata": {},
       "output_type": "pyout",
       "prompt_number": 19,
       "text": [
        "True"
       ]
      }
     ],
     "prompt_number": 19
    },
    {
     "cell_type": "code",
     "collapsed": false,
     "input": [
      "filename.startswith('file:')"
     ],
     "language": "python",
     "metadata": {},
     "outputs": [
      {
       "metadata": {},
       "output_type": "pyout",
       "prompt_number": 20,
       "text": [
        "False"
       ]
      }
     ],
     "prompt_number": 20
    },
    {
     "cell_type": "code",
     "collapsed": false,
     "input": [
      "url = 'http://www.python.org'"
     ],
     "language": "python",
     "metadata": {},
     "outputs": [],
     "prompt_number": 21
    },
    {
     "cell_type": "code",
     "collapsed": false,
     "input": [
      "url.startswith('http:')"
     ],
     "language": "python",
     "metadata": {},
     "outputs": [
      {
       "metadata": {},
       "output_type": "pyout",
       "prompt_number": 22,
       "text": [
        "True"
       ]
      }
     ],
     "prompt_number": 22
    },
    {
     "cell_type": "markdown",
     "metadata": {},
     "source": [
      "- \uc5ec\ub7ec \uac1c\uc758 \uc120\ud0dd\uc9c0\ub97c \uac80\uc0ac\ud574\uc57c \ud55c\ub2e4\uba74 \uac80\uc0ac\ud558\uace0 \uc2f6\uc740 \uac12\uc744 \ud29c\ud50c\uc5d0 \ub2f4\uc544 startswith() \uc774\ub098 endswith()\uc5d0 \uc804\ub2ec"
     ]
    },
    {
     "cell_type": "code",
     "collapsed": false,
     "input": [
      "import os\n",
      "filenames = os.listdir('.')\n",
      "filenames"
     ],
     "language": "python",
     "metadata": {},
     "outputs": [
      {
       "metadata": {},
       "output_type": "pyout",
       "prompt_number": 23,
       "text": [
        "['.ipynb_checkpoints',\n",
        " '01',\n",
        " '02',\n",
        " '03',\n",
        " '04',\n",
        " '05',\n",
        " '06',\n",
        " '07',\n",
        " '08',\n",
        " '09',\n",
        " '10',\n",
        " '11',\n",
        " '12',\n",
        " '13',\n",
        " '14',\n",
        " '15',\n",
        " 'ch01.ipynb',\n",
        " 'ch02.ipynb',\n",
        " 'README.md']"
       ]
      }
     ],
     "prompt_number": 23
    },
    {
     "cell_type": "code",
     "collapsed": false,
     "input": [
      "[name for name in filenames if name.endswith(('.md', '.ipynb'))]"
     ],
     "language": "python",
     "metadata": {},
     "outputs": [
      {
       "metadata": {},
       "output_type": "pyout",
       "prompt_number": 27,
       "text": [
        "['ch01.ipynb', 'ch02.ipynb', 'README.md']"
       ]
      }
     ],
     "prompt_number": 27
    },
    {
     "cell_type": "code",
     "collapsed": false,
     "input": [
      "# any: or\uc758 \uac1c\ub150. 1\uac1c \uc774\uc0c1\uc774\uba74 True\n",
      "any(name.endswith('.md') for name in filenames)"
     ],
     "language": "python",
     "metadata": {},
     "outputs": [
      {
       "metadata": {},
       "output_type": "pyout",
       "prompt_number": 29,
       "text": [
        "True"
       ]
      }
     ],
     "prompt_number": 29
    },
    {
     "cell_type": "code",
     "collapsed": false,
     "input": [
      "from urllib.request import urlopen\n",
      "\n",
      "def read_data(name):\n",
      "    if name.startswith(('http:', 'https:', 'ftp:')):\n",
      "        return urlopen(name).read()\n",
      "    else:\n",
      "        with open(name) as f:\n",
      "            return f.read()"
     ],
     "language": "python",
     "metadata": {},
     "outputs": [],
     "prompt_number": 30
    },
    {
     "cell_type": "code",
     "collapsed": false,
     "input": [
      "read_data('http://github.com')[:100]"
     ],
     "language": "python",
     "metadata": {},
     "outputs": [
      {
       "metadata": {},
       "output_type": "pyout",
       "prompt_number": 38,
       "text": [
        "b'<!DOCTYPE html>\\n<html lang=\"en\" class=\"\">\\n  <head prefix=\"og: http://ogp.me/ns# fb: http://ogp.me/ns'"
       ]
      }
     ],
     "prompt_number": 38
    },
    {
     "cell_type": "code",
     "collapsed": false,
     "input": [
      "print(read_data('README.md')[:100])"
     ],
     "language": "python",
     "metadata": {},
     "outputs": [
      {
       "output_type": "stream",
       "stream": "stdout",
       "text": [
        "# Python Cookbook - Third Edition\n",
        "\n",
        "![Python cookbook](http://image.yes24.com/goods/11949491/L)\n",
        "- \ub370\uc774\ube44\n"
       ]
      }
     ],
     "prompt_number": 37
    },
    {
     "cell_type": "markdown",
     "metadata": {},
     "source": [
      "- \ud29c\ud50c\ub9cc\uc744 \uc785\ub825\uc73c\ub85c \ubc1b\ub294\uac83 \uc911 \ud558\ub098\n",
      "- list, set -> tuple"
     ]
    },
    {
     "cell_type": "code",
     "collapsed": false,
     "input": [
      "choices = ['http:', 'ftp:']"
     ],
     "language": "python",
     "metadata": {},
     "outputs": [],
     "prompt_number": 39
    },
    {
     "cell_type": "code",
     "collapsed": false,
     "input": [
      "url = 'http://www.python.org'"
     ],
     "language": "python",
     "metadata": {},
     "outputs": [],
     "prompt_number": 40
    },
    {
     "cell_type": "code",
     "collapsed": false,
     "input": [
      "url.startswith(choices)"
     ],
     "language": "python",
     "metadata": {},
     "outputs": [
      {
       "ename": "TypeError",
       "evalue": "startswith first arg must be str or a tuple of str, not list",
       "output_type": "pyerr",
       "traceback": [
        "\u001b[0;31m---------------------------------------------------------------------------\u001b[0m\n\u001b[0;31mTypeError\u001b[0m                                 Traceback (most recent call last)",
        "\u001b[0;32m<ipython-input-41-618fcafc4cd7>\u001b[0m in \u001b[0;36m<module>\u001b[0;34m()\u001b[0m\n\u001b[0;32m----> 1\u001b[0;31m \u001b[0murl\u001b[0m\u001b[0;34m.\u001b[0m\u001b[0mstartswith\u001b[0m\u001b[0;34m(\u001b[0m\u001b[0mchoices\u001b[0m\u001b[0;34m)\u001b[0m\u001b[0;34m\u001b[0m\u001b[0m\n\u001b[0m",
        "\u001b[0;31mTypeError\u001b[0m: startswith first arg must be str or a tuple of str, not list"
       ]
      }
     ],
     "prompt_number": 41
    },
    {
     "cell_type": "code",
     "collapsed": false,
     "input": [
      "url.startswith(tuple(choices))"
     ],
     "language": "python",
     "metadata": {},
     "outputs": [
      {
       "metadata": {},
       "output_type": "pyout",
       "prompt_number": 42,
       "text": [
        "True"
       ]
      }
     ],
     "prompt_number": 42
    },
    {
     "cell_type": "markdown",
     "metadata": {},
     "source": [
      "### \ud1a0\ub860\n",
      "\n",
      "- startswith()\uc640 endwith() \uba54\uc18c\ub4dc\ub294 \uc811\ub450\uc5b4\uc640 \uc811\ubbf8\uc5b4\ub97c \uac80\uc0ac\ud560 \ub54c \ub9e4\uc6b0 \ud3b8\ub9ac\n",
      "- slice\ub97c \uc0ac\uc6a9\ud558\uba74 \ube44\uc2b7\ud55c \ub3d9\uc791\uc744 \ud560 \uc218 \uc788\uc9c0\ub9cc \ucf54\ub4dc\uc758 \uac00\ub3c5\uc131 \ub098\uc068"
     ]
    },
    {
     "cell_type": "code",
     "collapsed": false,
     "input": [
      "filename = 'spam.txt'"
     ],
     "language": "python",
     "metadata": {},
     "outputs": [],
     "prompt_number": 43
    },
    {
     "cell_type": "code",
     "collapsed": false,
     "input": [
      "filename[-4:] == '.txt'"
     ],
     "language": "python",
     "metadata": {},
     "outputs": [
      {
       "metadata": {},
       "output_type": "pyout",
       "prompt_number": 44,
       "text": [
        "True"
       ]
      }
     ],
     "prompt_number": 44
    },
    {
     "cell_type": "code",
     "collapsed": false,
     "input": [
      "url = 'http://www.python.org'"
     ],
     "language": "python",
     "metadata": {},
     "outputs": [],
     "prompt_number": 45
    },
    {
     "cell_type": "code",
     "collapsed": false,
     "input": [
      "# welcome to the hell\n",
      "url[:5] == 'http:' or \\\n",
      "url[:6] == 'https:' or \\\n",
      "url[:4] == 'ftp:'"
     ],
     "language": "python",
     "metadata": {},
     "outputs": [
      {
       "metadata": {},
       "output_type": "pyout",
       "prompt_number": 47,
       "text": [
        "True"
       ]
      }
     ],
     "prompt_number": 47
    },
    {
     "cell_type": "code",
     "collapsed": false,
     "input": [
      "import re\n",
      "url = 'http://www.python.org'\n",
      "re.match('http:|https:|ftp:', url)"
     ],
     "language": "python",
     "metadata": {},
     "outputs": [
      {
       "metadata": {},
       "output_type": "pyout",
       "prompt_number": 48,
       "text": [
        "<_sre.SRE_Match object; span=(0, 5), match='http:'>"
       ]
      }
     ],
     "prompt_number": 48
    },
    {
     "cell_type": "markdown",
     "metadata": {},
     "source": [
      "- startswith()\uc640 endswith() \uba54\uc18c\ub4dc\ub294 \uc77c\ubc18\uc801\uc778 \ub370\uc774\ud130 \uac10\uc18c\uc640 \uac19\uc740 \ub2e4\ub978 \ub3d9\uc791\uc5d0 \ud568\uaed8 \uc0ac\uc6a9\ud558\uae30\uc5d0\ub3c4 \uc88b\uc74c"
     ]
    },
    {
     "cell_type": "code",
     "collapsed": false,
     "input": [
      "from os import listdir\n",
      "dirname = '.'\n",
      "if any(name.endswith(('.c', '.md')) for name in listdir(dirname)):\n",
      "    print(True)"
     ],
     "language": "python",
     "metadata": {},
     "outputs": [
      {
       "output_type": "stream",
       "stream": "stdout",
       "text": [
        "True\n"
       ]
      }
     ],
     "prompt_number": 56
    },
    {
     "cell_type": "code",
     "collapsed": false,
     "input": [
      "# \uc774\uac74 \ub2e8\uc21c\ud788 True, False \uacb0\uc815\n",
      "any(name.endswith(('.c', '.md')) for name in listdir(dirname))"
     ],
     "language": "python",
     "metadata": {},
     "outputs": [
      {
       "metadata": {},
       "output_type": "pyout",
       "prompt_number": 55,
       "text": [
        "True"
       ]
      }
     ],
     "prompt_number": 55
    },
    {
     "cell_type": "markdown",
     "metadata": {},
     "source": [
      "## 2.3 \uc258 \uc640\uc77c\ub4dc\uce74\ub4dc \ud328\ud134\uc73c\ub85c \ubb38\uc790\uc5f4 \ub9e4\uce6d\n",
      "\n",
      "### \ubb38\uc81c\n",
      "\n",
      "- Unix \uc258\uc5d0 \uc0ac\uc6a9\ud558\ub294 \uac83\uacfc \ub3d9\uc77c\ud55c \uc640\uc77c\ub4dc \uce74\ub4dc \ud328\ud134\uc744 \ud14d\uc2a4\ud2b8 \ub9e4\uce6d\uc5d0 \uc0ac\uc6a9\ud558\uace0 \uc2f6\ub2e4(\uc608: \\*.py, Dat[0-9]\\*.csv \ub4f1)\n",
      "\n",
      "### \ud574\uacb0\n",
      "\n",
      "- fnmatch \ubaa8\ub4c8\uc5d0 \ud568\uc218 fnmatch()\uc640 fnmatchcase()\uac00 \uc874\uc7ac\n",
      "\n",
      "-----\n",
      "\n",
      "- \ub09c \uc815\uaddc\ud45c\ud604\uc2dd\uc774 \uc190\uc5d0 \uc775\uc5b4\uc11c \uadf8\ub0e5 regex\ub85c \ud558\ub294\uac8c \uc880 \ub354 \ud3b8\ud55c\ub4ef.. \n",
      "- \uadf8\ub9ac\uace0 \uc640\uc77c\ub4dc \uce74\ub4dc\ubcf4\ub2e4 \ud6e8\uc52c \ub9ce\uc740 \ud328\ud134\uc744 \uc801\uc6a9\ud560 \uc218 \uc788\uae30 \ub54c\ubb38\uc5d0 \ub354 \ud3b8\ub9ac\ud558\ub2e4. \uadfc\ub370 \uc18d\ub3c4 \ubb38\uc81c\ub3c4 \uc788\uace0 \ud558\ub2c8 \uac04\ub2e8\ud55c \ubb38\uc81c\uc5d0\uc11c\ub294 fnmatch\ub3c4 \ub098\uc058\uc9c0 \uc54a\uc740 \uc120\ud0dd\uc778\ub4ef\n",
      "\n",
      "----"
     ]
    },
    {
     "cell_type": "code",
     "collapsed": false,
     "input": [
      "from fnmatch import fnmatch, fnmatchcase"
     ],
     "language": "python",
     "metadata": {},
     "outputs": [],
     "prompt_number": 57
    },
    {
     "cell_type": "code",
     "collapsed": false,
     "input": [
      "fnmatch('foo.txt', '*.txt')"
     ],
     "language": "python",
     "metadata": {},
     "outputs": [
      {
       "metadata": {},
       "output_type": "pyout",
       "prompt_number": 58,
       "text": [
        "True"
       ]
      }
     ],
     "prompt_number": 58
    },
    {
     "cell_type": "code",
     "collapsed": false,
     "input": [
      "fnmatch('foo.txt', '?oo.txt')"
     ],
     "language": "python",
     "metadata": {},
     "outputs": [
      {
       "metadata": {},
       "output_type": "pyout",
       "prompt_number": 59,
       "text": [
        "True"
       ]
      }
     ],
     "prompt_number": 59
    },
    {
     "cell_type": "code",
     "collapsed": false,
     "input": [
      "fnmatch('Dat45.csv', 'Dat[0-9]*')"
     ],
     "language": "python",
     "metadata": {},
     "outputs": [
      {
       "metadata": {},
       "output_type": "pyout",
       "prompt_number": 60,
       "text": [
        "True"
       ]
      }
     ],
     "prompt_number": 60
    },
    {
     "cell_type": "code",
     "collapsed": false,
     "input": [
      "names = ['Dat1.csv', 'Dat2.csv', 'config.ini', 'foo.py']"
     ],
     "language": "python",
     "metadata": {},
     "outputs": [],
     "prompt_number": 61
    },
    {
     "cell_type": "code",
     "collapsed": false,
     "input": [
      "[name for name in names if fnmatch(name, 'Dat*.csv')]"
     ],
     "language": "python",
     "metadata": {},
     "outputs": [
      {
       "metadata": {},
       "output_type": "pyout",
       "prompt_number": 62,
       "text": [
        "['Dat1.csv', 'Dat2.csv']"
       ]
      }
     ],
     "prompt_number": 62
    },
    {
     "cell_type": "markdown",
     "metadata": {},
     "source": [
      "- fnmatch()\ub294 \uc2dc\uc2a4\ud15c\uc758 \ud30c\uc77c \uc2dc\uc2a4\ud15c\uacfc \ub3d9\uc77c\ud55c \ub300\uc18c\ubb38\uc790 \uad6c\ubb38 \uaddc\uce59\uc744 \ub530\ub984"
     ]
    },
    {
     "cell_type": "code",
     "collapsed": false,
     "input": [
      "# OS X(Mac)\n",
      "fnmatch('foo.txt', '*.TXT')"
     ],
     "language": "python",
     "metadata": {},
     "outputs": [
      {
       "metadata": {},
       "output_type": "pyout",
       "prompt_number": 63,
       "text": [
        "False"
       ]
      }
     ],
     "prompt_number": 63
    },
    {
     "cell_type": "markdown",
     "metadata": {},
     "source": [
      "- \uc774\ub7f0 \ucc28\uc774\uc810\uc774 \ub9c8\uc74c\uc5d0 \ub4e4\uc9c0 \uc54a\ub294\ub2e4\uba74 fnmatchcase()\ub97c \uc0ac\uc6a9\ud558\uba74 \ub428\n",
      "- \uc774 \uba54\uc18c\ub4dc\ub294 \uc9c0\uc815\ud55c \uc18c\ubb38\uc790 \ud639\uc740 \ub300\ubb38\uc790\uc5d0 \uc815\ud655\ud788 \uc77c\uce58\ud558\ub294 \uac83\ub9cc \ucc3e\uc544\ub0c4"
     ]
    },
    {
     "cell_type": "code",
     "collapsed": false,
     "input": [
      "fnmatchcase('foo.txt', '*.TXT')"
     ],
     "language": "python",
     "metadata": {},
     "outputs": [
      {
       "metadata": {},
       "output_type": "pyout",
       "prompt_number": 64,
       "text": [
        "False"
       ]
      }
     ],
     "prompt_number": 64
    },
    {
     "cell_type": "markdown",
     "metadata": {},
     "source": [
      "- \uc774 \ud568\uc218\uc758 \uae30\ub2a5 \uc911 \uac04\uacfc\ud558\uace0 \ub118\uc5b4\uac00\ub294 \ubd80\ubd84\uc774 \uc788\ub294\ub370, \ubc14\ub85c \ud30c\uc77c \uc774\ub984\uc774 \uc544\ub2cc **\ub370\uc774\ud130 \ud504\ub85c\uc138\uc2f1\uc5d0\ub3c4 \uc0ac\uc6a9**\ud560 \uc218 \uc788\ub2e4\ub294 \uc0ac\uc2e4"
     ]
    },
    {
     "cell_type": "code",
     "collapsed": false,
     "input": [
      "addresses = [\n",
      "'5412 N CLARK ST',\n",
      "'1060 W ADDISON ST',\n",
      "'1039 W GRANVILLE AVE',\n",
      "'2122 N CLARK ST',\n",
      "'4802 N BROADWAY',\n",
      "]"
     ],
     "language": "python",
     "metadata": {},
     "outputs": [],
     "prompt_number": 65
    },
    {
     "cell_type": "code",
     "collapsed": false,
     "input": [
      "from fnmatch import fnmatchcase"
     ],
     "language": "python",
     "metadata": {},
     "outputs": [],
     "prompt_number": 66
    },
    {
     "cell_type": "code",
     "collapsed": false,
     "input": [
      "[addr for addr in addresses if fnmatchcase(addr, '* ST')]"
     ],
     "language": "python",
     "metadata": {},
     "outputs": [
      {
       "metadata": {},
       "output_type": "pyout",
       "prompt_number": 67,
       "text": [
        "['5412 N CLARK ST', '1060 W ADDISON ST', '2122 N CLARK ST']"
       ]
      }
     ],
     "prompt_number": 67
    },
    {
     "cell_type": "code",
     "collapsed": false,
     "input": [
      "[addr for addr in addresses if fnmatchcase(addr, '54[0-9][0-9] *CLARK*')]"
     ],
     "language": "python",
     "metadata": {},
     "outputs": [
      {
       "metadata": {},
       "output_type": "pyout",
       "prompt_number": 70,
       "text": [
        "['5412 N CLARK ST']"
       ]
      }
     ],
     "prompt_number": 70
    },
    {
     "cell_type": "code",
     "collapsed": false,
     "input": [
      "[addr for addr in addresses if fnmatchcase(addr, '54[0-9][0-9]*CLARK*')]"
     ],
     "language": "python",
     "metadata": {},
     "outputs": [
      {
       "metadata": {},
       "output_type": "pyout",
       "prompt_number": 72,
       "text": [
        "['5412 N CLARK ST']"
       ]
      }
     ],
     "prompt_number": 72
    },
    {
     "cell_type": "markdown",
     "metadata": {},
     "source": [
      "### \ud1a0\ub860\n",
      "\n",
      "- fnmatch\uac00 \uc218\ud589\ud558\ub294 \ub9e4\uce6d\uc740 \uac04\ub2e8\ud55c \ubb38\uc790\uc5f4 \uba54\uc18c\ub4dc\uc758 \uae30\ub2a5\uacfc \uc815\uaddc \ud45c\ud604\uc2dd\uc758 \uc911\uac04\ucbe4 \uc704\uce58\n",
      "- \ub370\uc774\ud130 \ud504\ub85c\uc138\uc2f1\uc744 \ud560 \ub54c \uac04\ub2e8\ud55c \uc640\uc77c\ub4dc\uce74\ub4dc\ub97c \uc0ac\uc6a9\ud560 \uc0dd\uac01\uc774\ub77c\uba74 \uc774 \ud568\uc218\ub97c \uc0ac\uc6a9\ud558\ub294 \uac83\uc774 \uad1c\ucc2e\uc740 \uc120\ud0dd\n",
      "- \ud30c\uc77c \uc774\ub984\uc744 \ucc3e\ub294 \ucf54\ub4dc\ub97c \uc2e4\uc81c\ub85c \uc791\uc131\ud574\uc57c \ud55c\ub2e4\uba74 \uc774 \ud568\uc218 \ub300\uc2e0 glob \ubaa8\ub4c8\uc744 \uc0ac\uc6a9\ud558\ub3c4\ub85d \ud55c\ub2e4. \ub808\uc2dc\ud53c 5.13 \ucc38\uace0"
     ]
    },
    {
     "cell_type": "markdown",
     "metadata": {},
     "source": [
      "## 2.4 \ud14d\uc2a4\ud2b8 \ud328\ud134 \ub9e4\uce6d\uacfc \uac80\uc0c9\n",
      "\n",
      "### \ubb38\uc81c\n",
      "\n",
      "- \ud2b9\uc815 \ud328\ud134\uc5d0 \ub300\ud55c \ud14d\uc2a4\ud2b8 \ub9e4\uce6d\uc774\ub098 \uac80\uc0c9\uc744 \ud558\uace0 \uc2f6\ub2e4.\n",
      "\n",
      "### \ud574\uacb0\n",
      "\n",
      "- \ub9e4\uce6d\ud558\ub824\ub294 \ud14d\uc2a4\ud2b8\uac00 \uac04\ub2e8\ud558\ub2e4\uba74 str.find(), str.endswith(), str.startswith()\uc640 \uac19\uc740 \uae30\ubcf8\uc801\uc778 \ubb38\uc790\uc5f4 \uba54\uc18c\ub4dc\ub9cc\uc73c\ub85c\ub3c4 \ucda9\ubd84"
     ]
    },
    {
     "cell_type": "code",
     "collapsed": false,
     "input": [
      "text = 'yeah, but no, but yeah, but no, but year'"
     ],
     "language": "python",
     "metadata": {},
     "outputs": [],
     "prompt_number": 73
    },
    {
     "cell_type": "code",
     "collapsed": false,
     "input": [
      "# \uc815\ud655\ud55c \ub9e4\uce6d\n",
      "text == 'yeah'"
     ],
     "language": "python",
     "metadata": {},
     "outputs": [
      {
       "metadata": {},
       "output_type": "pyout",
       "prompt_number": 74,
       "text": [
        "False"
       ]
      }
     ],
     "prompt_number": 74
    },
    {
     "cell_type": "code",
     "collapsed": false,
     "input": [
      "# \ucc98\uc74c\uc774\ub098 \ub05d\uc5d0 \ub9e4\uce6d\n",
      "text.startswith('yeah')"
     ],
     "language": "python",
     "metadata": {},
     "outputs": [
      {
       "metadata": {},
       "output_type": "pyout",
       "prompt_number": 75,
       "text": [
        "True"
       ]
      }
     ],
     "prompt_number": 75
    },
    {
     "cell_type": "code",
     "collapsed": false,
     "input": [
      "text.endswith('no')"
     ],
     "language": "python",
     "metadata": {},
     "outputs": [
      {
       "metadata": {},
       "output_type": "pyout",
       "prompt_number": 76,
       "text": [
        "False"
       ]
      }
     ],
     "prompt_number": 76
    },
    {
     "cell_type": "code",
     "collapsed": false,
     "input": [
      "# \ucc98\uc74c \ub098\ud0c0\ub09c \uacf3 \uac80\uc0c9\n",
      "text.find('no')"
     ],
     "language": "python",
     "metadata": {},
     "outputs": [
      {
       "metadata": {},
       "output_type": "pyout",
       "prompt_number": 77,
       "text": [
        "10"
       ]
      }
     ],
     "prompt_number": 77
    },
    {
     "cell_type": "markdown",
     "metadata": {},
     "source": [
      "- \ub354 \ubcf5\uc7a1\ud55c \ub9e4\uce6d\uc744 \ud558\ub824\uba74 \uc815\uaddc \ud45c\ud604\uc2dd\uacfc re \ubaa8\ub4c8\uc744 \uc0ac\uc6a9"
     ]
    },
    {
     "cell_type": "code",
     "collapsed": false,
     "input": [
      "text1 = '11/27/2012'\n",
      "text2 = 'Nov 27, 2012'"
     ],
     "language": "python",
     "metadata": {},
     "outputs": [],
     "prompt_number": 78
    },
    {
     "cell_type": "code",
     "collapsed": false,
     "input": [
      "import re"
     ],
     "language": "python",
     "metadata": {},
     "outputs": [],
     "prompt_number": 79
    },
    {
     "cell_type": "code",
     "collapsed": false,
     "input": [
      "if re.match(r'\\d+/\\d+/\\d+', text1):\n",
      "    print('yes')\n",
      "else:\n",
      "    print('no')"
     ],
     "language": "python",
     "metadata": {},
     "outputs": [
      {
       "output_type": "stream",
       "stream": "stdout",
       "text": [
        "yes\n"
       ]
      }
     ],
     "prompt_number": 80
    },
    {
     "cell_type": "code",
     "collapsed": false,
     "input": [
      "if re.match(r'\\d+/\\d+/\\d+', text2):\n",
      "    print('yes')\n",
      "else:\n",
      "    print('no')"
     ],
     "language": "python",
     "metadata": {},
     "outputs": [
      {
       "output_type": "stream",
       "stream": "stdout",
       "text": [
        "no\n"
       ]
      }
     ],
     "prompt_number": 81
    },
    {
     "cell_type": "markdown",
     "metadata": {},
     "source": [
      "- \ub3d9\uc77c\ud55c \ud328\ud134\uc73c\ub85c \ub9e4\uce6d\uc744 \ub9ce\uc774 \uc218\ud589\ud560 \uc608\uc815\uc774\ub77c\uba74 \uc815\uaddc \ud45c\ud604\uc2dd\uc744 \ubbf8\ub9ac \ucef4\ud30c\uc77c\ud574\uc11c \ud328\ud134 \uac1d\uccb4\ub85c \ub9cc\ub4e4\uc5b4 \ub193\ub294 \uac83\uc774 \uc88b\ub2e4"
     ]
    },
    {
     "cell_type": "code",
     "collapsed": false,
     "input": [
      "datepat = re.compile(r'\\d+/\\d+/\\d+')"
     ],
     "language": "python",
     "metadata": {},
     "outputs": [],
     "prompt_number": 82
    },
    {
     "cell_type": "code",
     "collapsed": false,
     "input": [
      "if datepat.match(text1):\n",
      "    print('yes')\n",
      "else:\n",
      "    print('no')"
     ],
     "language": "python",
     "metadata": {},
     "outputs": [
      {
       "output_type": "stream",
       "stream": "stdout",
       "text": [
        "yes\n"
       ]
      }
     ],
     "prompt_number": 83
    },
    {
     "cell_type": "code",
     "collapsed": false,
     "input": [
      "if datepat.match(text2):\n",
      "    print('yes')\n",
      "else:\n",
      "    print('no')"
     ],
     "language": "python",
     "metadata": {},
     "outputs": [
      {
       "output_type": "stream",
       "stream": "stdout",
       "text": [
        "no\n"
       ]
      }
     ],
     "prompt_number": 84
    },
    {
     "cell_type": "markdown",
     "metadata": {},
     "source": [
      "- match()\ub294 \ud56d\uc0c1 \ubb38\uc790\uc5f4 \ucc98\uc74c\uc5d0\uc11c \ucc3e\uae30 \uc2dc\ub3c4\n",
      "- \ud14d\uc2a4\ud2b8 \uc804\ucc44\uc5d0 \uac78\uccd0 \ud328\ud134\uc744 \ucc3e\uc73c\ub824\uba74 findall() \uba54\uc18c\ub4dc"
     ]
    },
    {
     "cell_type": "code",
     "collapsed": false,
     "input": [
      "text = 'Today is 11/27/2012. Pycon starts 3/13/2013.'"
     ],
     "language": "python",
     "metadata": {},
     "outputs": [],
     "prompt_number": 85
    },
    {
     "cell_type": "code",
     "collapsed": false,
     "input": [
      "datepat.findall(text)"
     ],
     "language": "python",
     "metadata": {},
     "outputs": [
      {
       "metadata": {},
       "output_type": "pyout",
       "prompt_number": 86,
       "text": [
        "['11/27/2012', '3/13/2013']"
       ]
      }
     ],
     "prompt_number": 86
    },
    {
     "cell_type": "markdown",
     "metadata": {},
     "source": [
      "- capture group"
     ]
    },
    {
     "cell_type": "code",
     "collapsed": false,
     "input": [
      "datepat = re.compile(r'(\\d+)/(\\d+)/(\\d+)')"
     ],
     "language": "python",
     "metadata": {},
     "outputs": [],
     "prompt_number": 87
    },
    {
     "cell_type": "code",
     "collapsed": false,
     "input": [
      "m = datepat.match('11/27/2012')"
     ],
     "language": "python",
     "metadata": {},
     "outputs": [],
     "prompt_number": 88
    },
    {
     "cell_type": "code",
     "collapsed": false,
     "input": [
      "m"
     ],
     "language": "python",
     "metadata": {},
     "outputs": [
      {
       "metadata": {},
       "output_type": "pyout",
       "prompt_number": 89,
       "text": [
        "<_sre.SRE_Match object; span=(0, 10), match='11/27/2012'>"
       ]
      }
     ],
     "prompt_number": 89
    },
    {
     "cell_type": "code",
     "collapsed": false,
     "input": [
      "m.group(0)"
     ],
     "language": "python",
     "metadata": {},
     "outputs": [
      {
       "metadata": {},
       "output_type": "pyout",
       "prompt_number": 90,
       "text": [
        "'11/27/2012'"
       ]
      }
     ],
     "prompt_number": 90
    },
    {
     "cell_type": "code",
     "collapsed": false,
     "input": [
      "m.group(1)"
     ],
     "language": "python",
     "metadata": {},
     "outputs": [
      {
       "metadata": {},
       "output_type": "pyout",
       "prompt_number": 91,
       "text": [
        "'11'"
       ]
      }
     ],
     "prompt_number": 91
    },
    {
     "cell_type": "code",
     "collapsed": false,
     "input": [
      "m.group(2)"
     ],
     "language": "python",
     "metadata": {},
     "outputs": [
      {
       "metadata": {},
       "output_type": "pyout",
       "prompt_number": 92,
       "text": [
        "'27'"
       ]
      }
     ],
     "prompt_number": 92
    },
    {
     "cell_type": "code",
     "collapsed": false,
     "input": [
      "m.group(3)"
     ],
     "language": "python",
     "metadata": {},
     "outputs": [
      {
       "metadata": {},
       "output_type": "pyout",
       "prompt_number": 93,
       "text": [
        "'2012'"
       ]
      }
     ],
     "prompt_number": 93
    },
    {
     "cell_type": "code",
     "collapsed": false,
     "input": [
      "m.groups()"
     ],
     "language": "python",
     "metadata": {},
     "outputs": [
      {
       "metadata": {},
       "output_type": "pyout",
       "prompt_number": 94,
       "text": [
        "('11', '27', '2012')"
       ]
      }
     ],
     "prompt_number": 94
    },
    {
     "cell_type": "code",
     "collapsed": false,
     "input": [
      "month, day, year = m.groups()"
     ],
     "language": "python",
     "metadata": {},
     "outputs": [],
     "prompt_number": 95
    },
    {
     "cell_type": "code",
     "collapsed": false,
     "input": [
      "month"
     ],
     "language": "python",
     "metadata": {},
     "outputs": [
      {
       "metadata": {},
       "output_type": "pyout",
       "prompt_number": 96,
       "text": [
        "'11'"
       ]
      }
     ],
     "prompt_number": 96
    },
    {
     "cell_type": "code",
     "collapsed": false,
     "input": [
      "day"
     ],
     "language": "python",
     "metadata": {},
     "outputs": [
      {
       "metadata": {},
       "output_type": "pyout",
       "prompt_number": 97,
       "text": [
        "'27'"
       ]
      }
     ],
     "prompt_number": 97
    },
    {
     "cell_type": "code",
     "collapsed": false,
     "input": [
      "year"
     ],
     "language": "python",
     "metadata": {},
     "outputs": [
      {
       "metadata": {},
       "output_type": "pyout",
       "prompt_number": 98,
       "text": [
        "'2012'"
       ]
      }
     ],
     "prompt_number": 98
    },
    {
     "cell_type": "code",
     "collapsed": false,
     "input": [
      "# \uc804\uccb4 \ub9e4\uce6d \ucc3e\uae30(\ud29c\ud50c\ub85c \ub098\ub208\ub2e4)\n",
      "text"
     ],
     "language": "python",
     "metadata": {},
     "outputs": [
      {
       "metadata": {},
       "output_type": "pyout",
       "prompt_number": 99,
       "text": [
        "'Today is 11/27/2012. Pycon starts 3/13/2013.'"
       ]
      }
     ],
     "prompt_number": 99
    },
    {
     "cell_type": "code",
     "collapsed": false,
     "input": [
      "datepat.findall(text)"
     ],
     "language": "python",
     "metadata": {},
     "outputs": [
      {
       "metadata": {},
       "output_type": "pyout",
       "prompt_number": 100,
       "text": [
        "[('11', '27', '2012'), ('3', '13', '2013')]"
       ]
      }
     ],
     "prompt_number": 100
    },
    {
     "cell_type": "code",
     "collapsed": false,
     "input": [
      "for month, day, year in datepat.findall(text):\n",
      "    print('{}-{}-{}'.format(year, month, day))"
     ],
     "language": "python",
     "metadata": {},
     "outputs": [
      {
       "output_type": "stream",
       "stream": "stdout",
       "text": [
        "2012-11-27\n",
        "2013-3-13\n"
       ]
      }
     ],
     "prompt_number": 101
    },
    {
     "cell_type": "markdown",
     "metadata": {},
     "source": [
      "- findall() \uba54\uc18c\ub4dc\ub294 \ud14d\uc2a4\ud2b8\ub97c \uac80\uc0c9\ud558\uace0 \ubaa8\ub4e0 \ub9e4\uce6d\uc744 \ucc3e\uc544 \ub9ac\uc2a4\ud2b8\ub85c \ubc18\ud658\n",
      "- \ud55c \ubc88\uc5d0 \uacb0\uacfc\ub97c \uc5bb\uc9c0 \uc54a\uace0 \ud14d\uc2a4\ud2b8\ub97c \uc21c\ud68c\ud558\uba70 \ucc3e\uc73c\ub824\uba74 finditer() \uc0ac\uc6a9"
     ]
    },
    {
     "cell_type": "code",
     "collapsed": false,
     "input": [
      "for m in datepat.finditer(text):\n",
      "    print(m.groups())"
     ],
     "language": "python",
     "metadata": {},
     "outputs": [
      {
       "output_type": "stream",
       "stream": "stdout",
       "text": [
        "('11', '27', '2012')\n",
        "('3', '13', '2013')\n"
       ]
      }
     ],
     "prompt_number": 102
    },
    {
     "cell_type": "markdown",
     "metadata": {},
     "source": [
      "### \ud1a0\ub860\n",
      "\n",
      "- \ud575\uc2ec\uc774 \ub418\ub294 \uae30\ub2a5\uc740 re.compile()\uc744 \uc0ac\uc6a9\ud574 \ud328\ud134\uc744 \ucef4\ud30c\uc77c\ud558\uace0 \uadf8\uac83\uc744 match(), findall(), finditer() \ub4f1\uc5d0 \uc0ac\uc6a9\ud55c\ub2e4\ub294 \uc810\n",
      "- \ud328\ud134\uc744 \uba85\uc2dc\ud560 \ub54c r'(\\d+)/(\\d+)/(\\d+)' \uc640 \uac19\uc774 raw string\uc744 \uadf8\ub300\ub85c \uc0ac\uc6a9\ud558\ub294 \uac83\uc774 \uc77c\ubc18\uc801\n",
      "- raw string\uc774 \uc5c6\uc73c\uba74 '(\\\\d+)/(\\\\d+)/(\\\\d+)' \uc640 \uac19\uc774 \ubc31\uc2ac\ub798\uc2dc(\\)\ub97c 2\ubc88 \uc0ac\uc6a9\ud574\uc57c \ud558\ub294 \ubd88\ud3b8\ud568\n",
      "- match() \uba54\uc18c\ub4dc\ub294 \ubb38\uc790\uc5f4\uc758 \ucc98\uc74c\ub9cc \ud655\uc778\ud55c\ub2e4\ub294 \uc810\uc5d0 \uc8fc\uc758"
     ]
    },
    {
     "cell_type": "code",
     "collapsed": false,
     "input": [
      "m = datepat.match('11/27/2012abcdef')"
     ],
     "language": "python",
     "metadata": {},
     "outputs": [],
     "prompt_number": 103
    },
    {
     "cell_type": "code",
     "collapsed": false,
     "input": [
      "m"
     ],
     "language": "python",
     "metadata": {},
     "outputs": [
      {
       "metadata": {},
       "output_type": "pyout",
       "prompt_number": 104,
       "text": [
        "<_sre.SRE_Match object; span=(0, 10), match='11/27/2012'>"
       ]
      }
     ],
     "prompt_number": 104
    },
    {
     "cell_type": "code",
     "collapsed": false,
     "input": [
      "m.group()"
     ],
     "language": "python",
     "metadata": {},
     "outputs": [
      {
       "metadata": {},
       "output_type": "pyout",
       "prompt_number": 105,
       "text": [
        "'11/27/2012'"
       ]
      }
     ],
     "prompt_number": 105
    },
    {
     "cell_type": "code",
     "collapsed": false,
     "input": [
      "datepat = re.compile(r'(\\d+)/(\\d+)/(\\d+)$')"
     ],
     "language": "python",
     "metadata": {},
     "outputs": [],
     "prompt_number": 106
    },
    {
     "cell_type": "code",
     "collapsed": false,
     "input": [
      "datepat.match('11/27/2012abcdef')"
     ],
     "language": "python",
     "metadata": {},
     "outputs": [],
     "prompt_number": 107
    },
    {
     "cell_type": "code",
     "collapsed": false,
     "input": [
      "datepat.match('11/27/2012')"
     ],
     "language": "python",
     "metadata": {},
     "outputs": [
      {
       "metadata": {},
       "output_type": "pyout",
       "prompt_number": 108,
       "text": [
        "<_sre.SRE_Match object; span=(0, 10), match='11/27/2012'>"
       ]
      }
     ],
     "prompt_number": 108
    },
    {
     "cell_type": "code",
     "collapsed": false,
     "input": [
      "re.findall(r'(\\d+)/(\\d+)/(\\d+)', text)"
     ],
     "language": "python",
     "metadata": {},
     "outputs": [
      {
       "metadata": {},
       "output_type": "pyout",
       "prompt_number": 109,
       "text": [
        "[('11', '27', '2012'), ('3', '13', '2013')]"
       ]
      }
     ],
     "prompt_number": 109
    },
    {
     "cell_type": "markdown",
     "metadata": {},
     "source": [
      "- \uc608\uc0c1\ub418\ub294 \uc791\uc5c5\uc774 \uac04\ub2e8\ud558\uc9c0 \uc54a\ub2e4\uba74 \ud328\ud134\uc744 \ubbf8\ub9ac \ucef4\ud30c\uc77c\ud574 \ub450\uace0 \uc5ec\ub7ec\ubc88 \uc7ac\uc0ac\uc6a9\ud558\ub294 \uac83\uc774 \ub354 \ud6a8\uc728\uc801\n",
      "- \ubaa8\ub4c8 \ub808\ubca8 \ud568\uc218\ub294 \ucd5c\uadfc\uc5d0 \ucef4\ud30c\uc77c\ud55c \ud328\ud134\uc744 \uae30\uc5b5\ud558\uae30 \ub54c\ubb38\uc5d0 \uc131\ub2a5\uc5d0 \uc5c4\uccad\ub098\uac8c \ud070 \ucc28\uc774\ub97c \ubcf4\uc774\uc9c0\ub294 \uc54a\uc74c\n",
      "- \ud328\ud134\uc744 \ubbf8\ub9ac \ucef4\ud30c\uc77c\ud558\uba74 \ucd94\uac00\uc801\uc778 \uc791\uc5c5 \ub4f1\uc744 \uc870\uae08\uc774\ub77c\ub3c4 \uc904\uc77c \uc218 \uc788\uc74c"
     ]
    },
    {
     "cell_type": "markdown",
     "metadata": {},
     "source": [
      "## 2.5 \ud14d\uc2a4\ud2b8 \uac80\uc0c9\uacfc \uce58\ud658\n",
      "\n",
      "### \ubb38\uc81c\n",
      "\n",
      "- \ubb38\uc790\uc5f4\uc5d0\uc11c \ud14d\uc2a4\ud2b8 \ud328\ud134\uc744 \uac80\uc0c9\ud558\uace0 \uce58\ud658\ud558\uace0 \uc2f6\ub2e4.\n",
      "\n",
      "### \ud574\uacb0"
     ]
    },
    {
     "cell_type": "code",
     "collapsed": false,
     "input": [
      "text = 'yeah, but no, but yeah, but no, but yeah'"
     ],
     "language": "python",
     "metadata": {},
     "outputs": [],
     "prompt_number": 110
    },
    {
     "cell_type": "code",
     "collapsed": false,
     "input": [
      "text.replace('yeah', 'yep')"
     ],
     "language": "python",
     "metadata": {},
     "outputs": [
      {
       "metadata": {},
       "output_type": "pyout",
       "prompt_number": 111,
       "text": [
        "'yep, but no, but yep, but no, but yep'"
       ]
      }
     ],
     "prompt_number": 111
    },
    {
     "cell_type": "markdown",
     "metadata": {},
     "source": [
      "- \uc870\uae08 \ub354 \ubcf5\uc7a1\ud55c \ud328\ud134\uc740 re.sub()"
     ]
    },
    {
     "cell_type": "code",
     "collapsed": false,
     "input": [
      "text = 'Today is 11/27/2012. Pycon starts 3/13/2013.'"
     ],
     "language": "python",
     "metadata": {},
     "outputs": [],
     "prompt_number": 112
    },
    {
     "cell_type": "code",
     "collapsed": false,
     "input": [
      "import re"
     ],
     "language": "python",
     "metadata": {},
     "outputs": [],
     "prompt_number": 113
    },
    {
     "cell_type": "code",
     "collapsed": false,
     "input": [
      "# re.sub(pattern, repl, string, count=0, flags=0)\n",
      "re.sub(r'(\\d+)/(\\d+)/(\\d+)', r'\\3-\\1-\\2', text)"
     ],
     "language": "python",
     "metadata": {},
     "outputs": [
      {
       "metadata": {},
       "output_type": "pyout",
       "prompt_number": 114,
       "text": [
        "'Today is 2012-11-27. Pycon starts 2013-3-13.'"
       ]
      }
     ],
     "prompt_number": 114
    },
    {
     "cell_type": "markdown",
     "metadata": {},
     "source": [
      "- \\3\uacfc \uac19\uc740 \ud45c\ud604\uc740 \ud328\ud134\uc758 \ucea1\uccd0 \uadf8\ub8f9\uc744 \ucc38\uc870\n",
      "- \ub3d9\uc77c\ud55c \ud328\ud134\uc744 \uc0ac\uc6a9\ud55c \uce58\ud658\uc744 \uacc4\uc18d\ud574\uc57c \ud55c\ub2e4\uba74 \ucef4\ud30c\uc77c\ub9c1"
     ]
    },
    {
     "cell_type": "code",
     "collapsed": false,
     "input": [
      "import re"
     ],
     "language": "python",
     "metadata": {},
     "outputs": [],
     "prompt_number": 115
    },
    {
     "cell_type": "code",
     "collapsed": false,
     "input": [
      "datepat = re.compile(r'(\\d+)/(\\d+)/(\\d+)')"
     ],
     "language": "python",
     "metadata": {},
     "outputs": [],
     "prompt_number": 116
    },
    {
     "cell_type": "code",
     "collapsed": false,
     "input": [
      "datepat.sub(r'\\3-\\1-\\2', text)"
     ],
     "language": "python",
     "metadata": {},
     "outputs": [
      {
       "metadata": {},
       "output_type": "pyout",
       "prompt_number": 117,
       "text": [
        "'Today is 2012-11-27. Pycon starts 2013-3-13.'"
       ]
      }
     ],
     "prompt_number": 117
    },
    {
     "cell_type": "markdown",
     "metadata": {},
     "source": [
      "- \ub354 \ubcf5\uc7a1\ud55c \uce58\ud658\uc744 \uc704\ud574\uc11c \ucf5c\ubc31 \ud568\uc218 \uba85\uc2dc"
     ]
    },
    {
     "cell_type": "code",
     "collapsed": false,
     "input": [
      "from calendar import month_abbr"
     ],
     "language": "python",
     "metadata": {},
     "outputs": [],
     "prompt_number": 118
    },
    {
     "cell_type": "code",
     "collapsed": false,
     "input": [
      "list(month_abbr)"
     ],
     "language": "python",
     "metadata": {},
     "outputs": [
      {
       "metadata": {},
       "output_type": "pyout",
       "prompt_number": 120,
       "text": [
        "['',\n",
        " 'Jan',\n",
        " 'Feb',\n",
        " 'Mar',\n",
        " 'Apr',\n",
        " 'May',\n",
        " 'Jun',\n",
        " 'Jul',\n",
        " 'Aug',\n",
        " 'Sep',\n",
        " 'Oct',\n",
        " 'Nov',\n",
        " 'Dec']"
       ]
      }
     ],
     "prompt_number": 120
    },
    {
     "cell_type": "code",
     "collapsed": false,
     "input": [
      "def change_date(m):\n",
      "    mon_name = month_abbr[int(m.group(1))]\n",
      "    return '{} {} {}'.format(m.group(2), mon_name, m.group(3))"
     ],
     "language": "python",
     "metadata": {},
     "outputs": [],
     "prompt_number": 121
    },
    {
     "cell_type": "code",
     "collapsed": false,
     "input": [
      "# \uc774\ub807\uac8c \ucf5c\ubc31 \ud568\uc218\ub97c \uba85\uc2dc\ud558\ub294\uac74 \ucca8\ubcf4\ub124.. \uc2e0\uae30\ud558\ub2e4.\n",
      "datepat.sub(change_date, text)"
     ],
     "language": "python",
     "metadata": {},
     "outputs": [
      {
       "metadata": {},
       "output_type": "pyout",
       "prompt_number": 122,
       "text": [
        "'Today is 27 Nov 2012. Pycon starts 13 Mar 2013.'"
       ]
      }
     ],
     "prompt_number": 122
    },
    {
     "cell_type": "markdown",
     "metadata": {},
     "source": [
      "### \ud1a0\ub860\n",
      "\n",
      "- sub() \uba54\uc18c\ub4dc\uc5d0 \uc815\uaddc \ud45c\ud604\uc2dd \uac80\uc0c9\uacfc \uce58\ud658 \uc774\uc678\uc5d0 \uc5b4\ub824\uc6b4 \uac83\uc740 \uc5c6\ub2e4.\n",
      "- \uac00\uc7a5 \uc774\ud574\ud558\uae30 \uc5b4\ub824\uc6b4 \uac83\uc774 \uc815\uaddc \ud45c\ud604\uc2dd \ud328\ud134\uc744 \ub9cc\ub4dc\ub294 \uac83\n",
      "- \uc774\uac74 \ub3c5\uc790\ub4e4\uc774 \uc2a4\uc2a4\ub85c \uc5f0\uc2b5"
     ]
    },
    {
     "cell_type": "markdown",
     "metadata": {},
     "source": [
      "## 2.6 \ub300\uc18c\ubb38\uc790\ub97c \uad6c\ubcc4\ud558\uc9c0 \uc54a\ub294 \uac80\uc0c9\uacfc \uce58\ud658\n",
      "\n",
      "### \ubb38\uc81c\n",
      "\n",
      "- \ud14d\uc2a4\ud2b8\ub97c \uac80\uc0c9\ud558\uace0 \uce58\ud658\ud560 \ub54c \ub300\uc18c\ubb38\uc790\ub97c \uad6c\ubcc4\ud558\uc9c0 \uc54a\uace0 \uc2f6\ub2e4.\n",
      "\n",
      "### \ud574\uacb0\n",
      "\n",
      "- \ud14d\uc2a4\ud2b8 \uad00\ub828 \uc791\uc5c5\uc744 \ud560 \ub54c \ub300\uc18c\ubb38\uc790\ub97c \uad6c\ubcc4\ud558\uc9c0 \uc54a\uae30 \uc704\ud574\uc11c\ub294 re \ubaa8\ub4c8\uc744 \uc0ac\uc6a9\ud574\uc57c \ud558\uace0 re.IGNORECASE \ud50c\ub798\uadf8 \uc9c0\uc815"
     ]
    },
    {
     "cell_type": "code",
     "collapsed": false,
     "input": [
      "text = 'UPPER PYTHON, lower python, Mixed Python'"
     ],
     "language": "python",
     "metadata": {},
     "outputs": [],
     "prompt_number": 123
    },
    {
     "cell_type": "code",
     "collapsed": false,
     "input": [
      "re.findall('python', text, flags=re.IGNORECASE)"
     ],
     "language": "python",
     "metadata": {},
     "outputs": [
      {
       "metadata": {},
       "output_type": "pyout",
       "prompt_number": 124,
       "text": [
        "['PYTHON', 'python', 'Python']"
       ]
      }
     ],
     "prompt_number": 124
    },
    {
     "cell_type": "code",
     "collapsed": false,
     "input": [
      "re.sub('python', 'snake', text, flags=re.IGNORECASE)"
     ],
     "language": "python",
     "metadata": {},
     "outputs": [
      {
       "metadata": {},
       "output_type": "pyout",
       "prompt_number": 126,
       "text": [
        "'UPPER snake, lower snake, Mixed snake'"
       ]
      }
     ],
     "prompt_number": 126
    },
    {
     "cell_type": "markdown",
     "metadata": {},
     "source": [
      "- \uce58\ud658\ub41c \ud14d\uc2a4\ud2b8\uc758 \ub300\uc18c\ubb38\uc790\uac00 \uc6d0\ubcf8\uc758 \ub300\uc18c\ubb38\uc790\uc640 \uc77c\uce58\ud558\uc9c0 \uc54a\uc74c"
     ]
    },
    {
     "cell_type": "code",
     "collapsed": false,
     "input": [
      "def matchcase(word):\n",
      "    def replace(m):\n",
      "        text = m.group()\n",
      "        if text.isupper():\n",
      "            return word.upper()\n",
      "        elif text.islower():\n",
      "            return word.lower()\n",
      "        elif text[0].isupper():\n",
      "            return word.capitalize()\n",
      "        else:\n",
      "            return word\n",
      "    return replace"
     ],
     "language": "python",
     "metadata": {},
     "outputs": [],
     "prompt_number": 155
    },
    {
     "cell_type": "code",
     "collapsed": false,
     "input": [
      "re.sub('python', matchcase('snake'), text, flags=re.IGNORECASE)"
     ],
     "language": "python",
     "metadata": {},
     "outputs": [
      {
       "metadata": {},
       "output_type": "pyout",
       "prompt_number": 156,
       "text": [
        "'UPPER SNAKE, lower snake, Mixed Snake'"
       ]
      }
     ],
     "prompt_number": 156
    },
    {
     "cell_type": "markdown",
     "metadata": {},
     "source": [
      "- def\uc548\uc758 def \uc74c..?\n",
      "- \uc774\uac74 \uc880 \ub354 \uc0dd\uac01\ud574\ubd10\uc57c \ud560\ub4ef\n",
      "- matchcase\ub85c snake\ub97c \ubcf4\ub0b4\uace0\n",
      "- replace \ud568\uc218\uac00 \uc2e4\ud589\ub41c\ub2e4. \uc65c\ub0d0\ud558\uba74 return replace\uac00 \uc788\uae30 \ub54c\ubb38\uc5d0\n",
      "- \uadf8\ub807\uac8c \ub418\uba74 replace \ud568\uc218\uc5d0 \uc5b4\ub5a4\uac78 \ud30c\ub77c\ubbf8\ud130\ub85c \ub118\uacbc\ub290\ub0d0\uac00 \ud575\uc2ec\uc778\ub370..\n",
      "- \uadf8\uac78 \ub0b4\uac00 \uc5b4\ub5bb\uac8c \ud310\ub2e8\ud558\ub0d0\ub294 \uac70\uc9c0? \ubb58 \ub118\uacbc\ub294\uc9c0 \ub0b4\uac00 \uc5b4\ub5bb\uac8c \uc54c\uc544?\n",
      "- \uc81c\uc77c \uccab\ubc88\uc9f8\uc5d0 m.group() \uc5d0 PYTHON\n",
      "- 2\ubc88\uc9f8 python\n",
      "- 3\ubc88\uc9f8 Python\n",
      "- \uc774\ub807\uac8c \ub118\uc5b4\uac00\uc11c \uac01\uac01 if, else\ubb38\uc5d0\uc11c \ud310\ub2e8\n",
      "- \ubb38\uc81c\ub294 matchcase\uc5d0 word\ub97c \ub118\uae30\ub294\uac74 \uc774\ud574\ud558\uaca0\ub2e8 \ub9d0\uc57c, \uadf8\ub7f0\ub370 \uc5b4\ub5bb\uac8c replace\uc5d0 m\uc744 \ub118\uae30\ub0d4 \ub9d0\uc774\uc9c0? \uc774 m\uc740 \uc5b4\ub514\uc11c \uc654\ub294\uac00?? \ucd1d 3\ubc88 \ub9e4\uce58 \ub418\ub2c8\uae4c 3\ubc88 matchcase\ub97c \ud638\ucd9c\ud558\uace0 \ud638\ucd9c\ud574\uc11c \ubcf4\ub0bc \ub54c \ubcf4\ub0b4\ub294 \uc778\uc790\uac00 m\uc774\ub77c\ub294 \ub9d0\uc778\uac00? \uadf8\ub798\uc57c \ub9d0\uc774 \ub418\ub294\ub370\n",
      "- matchcase\uac00 re.sub\uc5d0 \ub4e4\uc5b4\uc624\uc790\ub9c8\uc790 \uc2e4\ud589\uc774 \ub418\uace0 replace\uc5d0 m\uc744 \ub118\uaca8\uc900\ub2e4.\n",
      "- \uc65c\ub0d0\ud558\uba74 matchcase('snake')\uc5d0\ub294 \ud56d\uc0c1 \ubcc0\uacbd\ub41c string \uc774 \ub4e4\uc5b4\uc624\ub2c8\uae4c\n",
      "- word: snake\n",
      "- m: re.sub\uc5d0\uc11c \ubcc0\uacbd\ud560 \ubb38\uc790\ub4e4\uc744 \uc900\ub2e4.\n",
      "- word\ub294 \uc0c1\uc704 scope \uc774\uae30 \ub54c\ubb38\uc5d0 \ud558\uc704 \ud568\uc218\uc5d0\uc11c \uc0c1\uc704 \ud568\uc218 \ubcc0\uc218\ub97c \ucc38\uc870\ud560 \uc218 \uc788\ub2e4.\n",
      "\n",
      "\n",
      "- [Local functions in Python - Stack Overflow](http://stackoverflow.com/questions/1414304/local-functions-in-python)\n",
      "- [Scopes and Nested Functions](https://www.inkling.com/read/learning-python-mark-lutz-4th/chapter-17/scopes-and-nested-functions)"
     ]
    },
    {
     "cell_type": "code",
     "collapsed": false,
     "input": [
      "# \uc774\ub807\uac8c \ud558\ub2c8\uae4c \ubc14\ub85c error \ucd9c\ub825\ud558\ub124\n",
      "def matchcase2(word):\n",
      "    text = word.group()\n",
      "    if text.isupper():\n",
      "        return word.upper()\n",
      "    elif text.islower():\n",
      "        return word.lower()\n",
      "    elif text[0].isupper():\n",
      "        return word.capitalize()"
     ],
     "language": "python",
     "metadata": {},
     "outputs": [],
     "prompt_number": 154
    },
    {
     "cell_type": "code",
     "collapsed": false,
     "input": [
      "X = 99"
     ],
     "language": "python",
     "metadata": {},
     "outputs": [],
     "prompt_number": 147
    },
    {
     "cell_type": "code",
     "collapsed": false,
     "input": [
      "def f1():\n",
      "    X = 88\n",
      "    def f2():\n",
      "        print(X)\n",
      "    f2()\n",
      "    \n",
      "f1()"
     ],
     "language": "python",
     "metadata": {},
     "outputs": [
      {
       "output_type": "stream",
       "stream": "stdout",
       "text": [
        "88\n"
       ]
      }
     ],
     "prompt_number": 148
    },
    {
     "cell_type": "code",
     "collapsed": false,
     "input": [
      "def f1():\n",
      "    X = 88\n",
      "    def f2():\n",
      "        print(X)\n",
      "    return f2\n",
      "\n",
      "action = f1()\n",
      "action()"
     ],
     "language": "python",
     "metadata": {},
     "outputs": [
      {
       "output_type": "stream",
       "stream": "stdout",
       "text": [
        "88\n"
       ]
      }
     ],
     "prompt_number": 151
    },
    {
     "cell_type": "code",
     "collapsed": false,
     "input": [
      "f1()()"
     ],
     "language": "python",
     "metadata": {},
     "outputs": [
      {
       "output_type": "stream",
       "stream": "stdout",
       "text": [
        "88\n"
       ]
      }
     ],
     "prompt_number": 152
    },
    {
     "cell_type": "code",
     "collapsed": false,
     "input": [
      "f1()"
     ],
     "language": "python",
     "metadata": {},
     "outputs": [
      {
       "metadata": {},
       "output_type": "pyout",
       "prompt_number": 153,
       "text": [
        "<function __main__.f1.<locals>.f2>"
       ]
      }
     ],
     "prompt_number": 153
    },
    {
     "cell_type": "code",
     "collapsed": false,
     "input": [
      "def maker(N):\n",
      "    def action(X):\n",
      "        return X ** N\n",
      "    return action"
     ],
     "language": "python",
     "metadata": {},
     "outputs": [],
     "prompt_number": 157
    },
    {
     "cell_type": "code",
     "collapsed": false,
     "input": [
      "f = maker(2)"
     ],
     "language": "python",
     "metadata": {},
     "outputs": [],
     "prompt_number": 158
    },
    {
     "cell_type": "code",
     "collapsed": false,
     "input": [
      "f"
     ],
     "language": "python",
     "metadata": {},
     "outputs": [
      {
       "metadata": {},
       "output_type": "pyout",
       "prompt_number": 159,
       "text": [
        "<function __main__.maker.<locals>.action>"
       ]
      }
     ],
     "prompt_number": 159
    },
    {
     "cell_type": "code",
     "collapsed": false,
     "input": [
      "g = maker(3)"
     ],
     "language": "python",
     "metadata": {},
     "outputs": [],
     "prompt_number": 160
    },
    {
     "cell_type": "code",
     "collapsed": false,
     "input": [
      "# maker(3)\uc774 \ud560\ub2f9\ub418\uc5b4\uc788\uae30 \ub54c\ubb38\n",
      "g(3)"
     ],
     "language": "python",
     "metadata": {},
     "outputs": [
      {
       "metadata": {},
       "output_type": "pyout",
       "prompt_number": 161,
       "text": [
        "27"
       ]
      }
     ],
     "prompt_number": 161
    },
    {
     "cell_type": "code",
     "collapsed": false,
     "input": [
      "# maker(2)\ub85c \ud560\ub2f9\ub418\uc5b4\uc788\uae30 \ub54c\ubb38\n",
      "f(3)"
     ],
     "language": "python",
     "metadata": {},
     "outputs": [
      {
       "metadata": {},
       "output_type": "pyout",
       "prompt_number": 162,
       "text": [
        "9"
       ]
      }
     ],
     "prompt_number": 162
    },
    {
     "cell_type": "code",
     "collapsed": false,
     "input": [
      "def makeActions():\n",
      "    acts = []\n",
      "    for i in range(5):\n",
      "        acts.append(lambda x: i ** x)\n",
      "    return acts"
     ],
     "language": "python",
     "metadata": {},
     "outputs": [],
     "prompt_number": 163
    },
    {
     "cell_type": "code",
     "collapsed": false,
     "input": [
      "acts = makeActions()"
     ],
     "language": "python",
     "metadata": {},
     "outputs": [],
     "prompt_number": 164
    },
    {
     "cell_type": "code",
     "collapsed": false,
     "input": [
      "acts"
     ],
     "language": "python",
     "metadata": {},
     "outputs": [
      {
       "metadata": {},
       "output_type": "pyout",
       "prompt_number": 165,
       "text": [
        "[<function __main__.makeActions.<locals>.<lambda>>,\n",
        " <function __main__.makeActions.<locals>.<lambda>>,\n",
        " <function __main__.makeActions.<locals>.<lambda>>,\n",
        " <function __main__.makeActions.<locals>.<lambda>>,\n",
        " <function __main__.makeActions.<locals>.<lambda>>]"
       ]
      }
     ],
     "prompt_number": 165
    },
    {
     "cell_type": "code",
     "collapsed": false,
     "input": [
      "acts[0]"
     ],
     "language": "python",
     "metadata": {},
     "outputs": [
      {
       "metadata": {},
       "output_type": "pyout",
       "prompt_number": 166,
       "text": [
        "<function __main__.makeActions.<locals>.<lambda>>"
       ]
      }
     ],
     "prompt_number": 166
    },
    {
     "cell_type": "code",
     "collapsed": false,
     "input": [
      "acts[0](2)"
     ],
     "language": "python",
     "metadata": {},
     "outputs": [
      {
       "metadata": {},
       "output_type": "pyout",
       "prompt_number": 167,
       "text": [
        "16"
       ]
      }
     ],
     "prompt_number": 167
    },
    {
     "cell_type": "code",
     "collapsed": false,
     "input": [
      "acts[2](2)"
     ],
     "language": "python",
     "metadata": {},
     "outputs": [
      {
       "metadata": {},
       "output_type": "pyout",
       "prompt_number": 168,
       "text": [
        "16"
       ]
      }
     ],
     "prompt_number": 168
    },
    {
     "cell_type": "code",
     "collapsed": false,
     "input": [
      "# \uc65c i\uac00 4\ub0d0\uba74..0\ubd80\ud130 4\uae4c\uc9c0 \ubcc0\uacbd\ub410\uace0\n",
      "# i\uac00 \uc65c 0\uc77c\ub54c\ub294 \uc548 \ub2f4\uae30\uc9c0?\n",
      "acts[4](2)"
     ],
     "language": "python",
     "metadata": {},
     "outputs": [
      {
       "metadata": {},
       "output_type": "pyout",
       "prompt_number": 169,
       "text": [
        "16"
       ]
      }
     ],
     "prompt_number": 169
    },
    {
     "cell_type": "code",
     "collapsed": false,
     "input": [
      "def makeActions():\n",
      "    acts = []\n",
      "    for i in range(10):\n",
      "        acts.append(lambda x: i ** x)\n",
      "    return acts\n",
      "\n",
      "acts = makeActions()\n",
      "# \uc5ec\uae30\ub294 i\uac00 9\ub2c8\uae4c\n",
      "# i\uac00 \uacc4\uc18d \uc99d\uac00\ud574\uc11c 9\uac00 \ub428\n",
      "print(acts[0](2))\n",
      "print(acts[4](2))"
     ],
     "language": "python",
     "metadata": {},
     "outputs": [
      {
       "output_type": "stream",
       "stream": "stdout",
       "text": [
        "81\n",
        "81\n"
       ]
      }
     ],
     "prompt_number": 170
    },
    {
     "cell_type": "markdown",
     "metadata": {},
     "source": [
      "### \ud1a0\ub860\n",
      "\n",
      "- \ub300\uac1c\uc758 \uacbd\uc6b0 re.IGNORECASE\ub97c \uc0ac\uc6a9\ud558\ub294 \uac83\ub9cc\uc73c\ub85c \ub300\uc18c\ubb38\uc790\ub97c \ubb34\uc2dc\ud55c \ud14d\uc2a4\ud2b8 \uc791\uc5c5\uc5d0 \ubb34\ub9ac\uac00 \uc5c6\uc74c\n",
      "- \ud558\uc9c0\ub9cc Unicode\uac00 \ud3ec\ud568\ub41c \uc791\uc5c5\uc744 \ud558\uae30\uc5d0\ub294 \ubd80\uc871\ud560 \uc218 \uc788\uc74c"
     ]
    },
    {
     "cell_type": "markdown",
     "metadata": {},
     "source": [
      "## 2.7 \uac00\uc7a5 \uc9e7\uc740 \ub9e4\uce6d\uc744 \uc704\ud55c \uc815\uaddc\ud45c\ud604\uc2dd\n",
      "\n",
      "### \ubb38\uc81c\n",
      "\n",
      "- \uc815\uaddc \ud45c\ud604\uc2dd\uc744 \uc0ac\uc6a9\ud55c \ud14d\uc2a4\ud2b8 \ub9e4\uce6d\uc744 \ud558\uace0 \uc2f6\uc9c0\ub9cc \ud14d\uc2a4\ud2b8\uc5d0\uc11c \uac00\uc7a5 \uae34 \ubd80\ubd84\uc744 \ucc3e\uc544\ub0b8\ub2e4. \ub9cc\uc57d \uac00\uc7a5 \uc9e7\uc740 \ubd80\ubd84\uc744 \ucc3e\uc544\ub0b4\uace0 \uc2f6\ub2e4\uba74 \uc5b4\ub5bb\uac8c \ud574\uc57c \ud560\uae4c?\n",
      "\n",
      "### \ud574\uacb0\n",
      "\n",
      "- \ubb38\uc7a5 \uad6c\ubd84\uc790\uc5d0 \ub458\ub7ec\uc2f8\uc5ec \uc788\ub294 \ud14d\uc2a4\ud2b8\ub97c \ucc3e\uc744 \ub54c \uc885\uc885 \ubc1c\uc0dd(\uc608\ub97c \ub4e4\uc5b4 \uc778\uc6a9\ubb38 \ub4f1)"
     ]
    },
    {
     "cell_type": "code",
     "collapsed": false,
     "input": [
      "str_pat = re.compile(r'\\\"(.*)\\\"')"
     ],
     "language": "python",
     "metadata": {},
     "outputs": [],
     "prompt_number": 171
    },
    {
     "cell_type": "code",
     "collapsed": false,
     "input": [
      "text1 = 'Computer says \"no.\"'"
     ],
     "language": "python",
     "metadata": {},
     "outputs": [],
     "prompt_number": 172
    },
    {
     "cell_type": "code",
     "collapsed": false,
     "input": [
      "str_pat.findall(text1)"
     ],
     "language": "python",
     "metadata": {},
     "outputs": [
      {
       "metadata": {},
       "output_type": "pyout",
       "prompt_number": 173,
       "text": [
        "['no.']"
       ]
      }
     ],
     "prompt_number": 173
    },
    {
     "cell_type": "code",
     "collapsed": false,
     "input": [
      "text2 = 'Computer says \"no.\" Phone says \"yes.\"'"
     ],
     "language": "python",
     "metadata": {},
     "outputs": [],
     "prompt_number": 174
    },
    {
     "cell_type": "code",
     "collapsed": false,
     "input": [
      "str_pat.findall(text2)"
     ],
     "language": "python",
     "metadata": {},
     "outputs": [
      {
       "metadata": {},
       "output_type": "pyout",
       "prompt_number": 175,
       "text": [
        "['no.\" Phone says \"yes.']"
       ]
      }
     ],
     "prompt_number": 175
    },
    {
     "cell_type": "markdown",
     "metadata": {},
     "source": [
      "- \ud558\uc9c0\ub9cc * \ubb38\uc790\ub294 \uc815\uaddc\ud45c\ud604\uc2dd\uc5d0\uc11c \uae30\ubcf8\uc801\uc73c\ub85c greedy \uc18c\ube44\ub418\ubbc0\ub85c \uac00\uc7a5 \uae34 \ud14d\uc2a4\ud2b8\ub97c \ucc3e\uac8c \ub41c\ub2e4.\n",
      "- \uc774 \ubb38\uc81c\ub97c \ud574\uacb0\ud558\ub824\uba74 \\*\ub4a4\uc5d0 ?\ub97c \ubd99\uc5ec\uc900\ub2e4."
     ]
    },
    {
     "cell_type": "code",
     "collapsed": false,
     "input": [
      "str_pat = re.compile(r'\\\"(.*?)\\\"')"
     ],
     "language": "python",
     "metadata": {},
     "outputs": [],
     "prompt_number": 176
    },
    {
     "cell_type": "code",
     "collapsed": false,
     "input": [
      "str_pat.findall(text2)"
     ],
     "language": "python",
     "metadata": {},
     "outputs": [
      {
       "metadata": {},
       "output_type": "pyout",
       "prompt_number": 177,
       "text": [
        "['no.', 'yes.']"
       ]
      }
     ],
     "prompt_number": 177
    },
    {
     "cell_type": "code",
     "collapsed": false,
     "input": [
      "# tag \ucc3e\uc744 \ub54c\ub294 \uc774\ub807\uac8c \ud574\uc57c \ub428\n",
      "# \uc911\ubcf5\ub418\ub294 \uac83\ub4e4\uc774 \uc874\uc7ac\ud560 \uc218\ub3c4 \uc788\uae30 \ub54c\ubb38\n",
      "str_pat = re.compile(r'(\\\")(.*?)\\1')\n",
      "str_pat.findall(text2)"
     ],
     "language": "python",
     "metadata": {},
     "outputs": [
      {
       "metadata": {},
       "output_type": "pyout",
       "prompt_number": 196,
       "text": [
        "[('\"', 'no.'), ('\"', 'yes.')]"
       ]
      }
     ],
     "prompt_number": 196
    },
    {
     "cell_type": "markdown",
     "metadata": {},
     "source": [
      "### \ud1a0\ub860\n",
      "\n",
      "- .\uc744 \uc0ac\uc6a9\ud55c \uc815\uaddc\ud45c\ud604\uc2dd\uc744 \uc791\uc131\ud560 \ub54c \uac00\uc7a5 \uc77c\ubc18\uc801\uc73c\ub85c \ubc1c\uc0dd\ud558\ub294 \ubb38\uc81c\ub97c \ubcf4\uc5ec\uc90c\n",
      "- .\uc740 newline\uc744 \uc81c\uc678\ud55c \ubaa8\ub4e0 \ubb38\uc790\uc5d0 \ub9e4\uce6d\n",
      "- \ud558\uc9c0\ub9cc \uc810\uc744 \ud14d\uc2a4\ud2b8\uc758 \uc2dc\uc791\uacfc \uc911\uac04 \uc0ac\uc774\uc5d0 \ub123\uc73c\uba74, \ub9e4\uce6d\uc740 \uac00\uc7a5 \uae34 \uac83\uc744 \ucc3e\uc544\ub0b4\ub824\uace0 \ud568\n",
      "- \uacb0\uad6d \ubb38\uc7a5\uc758 \uc2dc\uc791\uacfc \ub05d\uc774 \ub9e4\uce6d\uc5d0\uc11c \ubb34\uc2dc\ub418\uace0 \ub354 \uae34 \ub9e4\uce6d\uc5d0 \ud558\ub098\ub85c \ud3ec\ud568\ub418\uc5b4 \ubc84\ub9bc\n",
      "- \uc774\ub584 \\*\ub098 \\+\uc5d0 \\?\ub97c \ubd99\uc774\uba74 \uc815\uaddc\ud45c\ud604\uc2dd\uc758 \ub9e4\uce6d \uc54c\uace0\ub9ac\uc998\uc5d0\uac8c \uac00\uc7a5 \uc9e7\uc740 \uac83\uc744 \ucc3e\uc544\ub0b4\ub3c4\ub85d \uba85\uc2dc\ud560 \uc218 \uc788\uc74c"
     ]
    },
    {
     "cell_type": "markdown",
     "metadata": {},
     "source": [
      "## 2.8 \uc5ec\ub7ec \uc904\uc5d0 \uac78\uce5c \uc815\uaddc \ud45c\ud604\uc2dd \uc0ac\uc6a9\n",
      "\n",
      "### \ubb38\uc81c\n",
      "\n",
      "- \uc5ec\ub7ec \uc904\uc5d0 \uac78\uce5c \uc815\uaddc \ud45c\ud604\uc2dd \ub9e4\uce6d\uc744 \uc0ac\uc6a9\ud558\uace0 \uc2f6\ub2e4\n",
      "\n",
      "### \ud574\uacb0\n",
      "\n",
      "- .\uc744 \uc0ac\uc6a9\ud55c \ud14d\uc2a4\ud2b8 \ub9e4\uce6d\uc744 \ud560 \ub54c \uc774 \ubb38\uc790\uac00 **\uac1c\ud589\ubb38\uc5d0 \ub9e4\uce6d\ud558\uc9c0 \uc54a\ub294\ub2e4\ub294 \uc0ac\uc2e4\uc744 \uc78a\uc5c8\uc744 \ub54c** \uc77c\ubc18\uc801\uc73c\ub85c \ubc1c\uc0dd"
     ]
    },
    {
     "cell_type": "code",
     "collapsed": false,
     "input": [
      "comment = re.compile(r'/\\*(.*?)\\*/')"
     ],
     "language": "python",
     "metadata": {},
     "outputs": [],
     "prompt_number": 197
    },
    {
     "cell_type": "code",
     "collapsed": false,
     "input": [
      "text1 = '/* this is a comment */'"
     ],
     "language": "python",
     "metadata": {},
     "outputs": [],
     "prompt_number": 198
    },
    {
     "cell_type": "code",
     "collapsed": false,
     "input": [
      "text2 = '''/* this is a\n",
      "              multiline comment */\n",
      "'''"
     ],
     "language": "python",
     "metadata": {},
     "outputs": [],
     "prompt_number": 199
    },
    {
     "cell_type": "code",
     "collapsed": false,
     "input": [
      "comment.findall(text1)"
     ],
     "language": "python",
     "metadata": {},
     "outputs": [
      {
       "metadata": {},
       "output_type": "pyout",
       "prompt_number": 200,
       "text": [
        "[' this is a comment ']"
       ]
      }
     ],
     "prompt_number": 200
    },
    {
     "cell_type": "code",
     "collapsed": false,
     "input": [
      "comment.findall(text2)"
     ],
     "language": "python",
     "metadata": {},
     "outputs": [
      {
       "metadata": {},
       "output_type": "pyout",
       "prompt_number": 201,
       "text": [
        "[]"
       ]
      }
     ],
     "prompt_number": 201
    },
    {
     "cell_type": "markdown",
     "metadata": {},
     "source": [
      "- [^\\*] \ud328\ud134\ub3c4 \uc0ac\uc6a9\ud560 \uc218 \uc788\ub2e4."
     ]
    },
    {
     "cell_type": "code",
     "collapsed": false,
     "input": [
      "comment = re.compile(r'/\\*[^*]+\\*/')"
     ],
     "language": "python",
     "metadata": {},
     "outputs": [],
     "prompt_number": 202
    },
    {
     "cell_type": "code",
     "collapsed": false,
     "input": [
      "comment.findall(text2)"
     ],
     "language": "python",
     "metadata": {},
     "outputs": [
      {
       "metadata": {},
       "output_type": "pyout",
       "prompt_number": 203,
       "text": [
        "['/* this is a\\n              multiline comment */']"
       ]
      }
     ],
     "prompt_number": 203
    },
    {
     "cell_type": "code",
     "collapsed": false,
     "input": [
      "comment = re.compile(r'/\\*((?:.|\\n)*?)\\*/')"
     ],
     "language": "python",
     "metadata": {},
     "outputs": [],
     "prompt_number": 204
    },
    {
     "cell_type": "code",
     "collapsed": false,
     "input": [
      "comment.findall(text2)"
     ],
     "language": "python",
     "metadata": {},
     "outputs": [
      {
       "metadata": {},
       "output_type": "pyout",
       "prompt_number": 205,
       "text": [
        "[' this is a\\n              multiline comment ']"
       ]
      }
     ],
     "prompt_number": 205
    },
    {
     "cell_type": "markdown",
     "metadata": {},
     "source": [
      "- (?:.|\\n)\uc740 non-capture group: \ub9e4\uce6d\uc758 \ubaa9\uc801\uc740 \uba85\uc2dc\ud558\uc9c0\ub9cc \uac1c\ubcc4\uc801\uc73c\ub85c \ucea1\uccd0\ud558\uac70\ub098 \uc22b\uc790\ub97c \ubd99\uc774\uc9c0\ub294 \uc54a\uc74c"
     ]
    },
    {
     "cell_type": "markdown",
     "metadata": {},
     "source": [
      "### \ud1a0\ub860\n",
      "\n",
      "- re.compile() \ud568\uc218\uc5d0 re.DOTALL \uc774\ub77c\ub294 \uc720\uc6a9\ud55c \ud50c\ub798\uadf8\ub97c \uc0ac\uc6a9\n",
      "- \uc774 \ud50c\ub798\uadf8\ub97c \uc0ac\uc6a9\ud558\uba74 .\uc774 \uac1c\ud589\ubb38\uc744 \ud3ec\ud568\ud55c \ubaa8\ub4e0 \ubb38\uc790\uc5d0 \ub9e4\uce6d(newline\uc744 \ud3ec\ud568\ud558\uae30 \uc704\ud55c \uc0bd\uc9c8\uc744 \uc548\ud574\ub3c4 \ub418\ub2c8 \uc5c4\uccad \ud3b8\ub9ac!)"
     ]
    },
    {
     "cell_type": "code",
     "collapsed": false,
     "input": [
      "comment = re.compile(r'/\\*(.*?)\\*/', re.DOTALL)"
     ],
     "language": "python",
     "metadata": {},
     "outputs": [],
     "prompt_number": 206
    },
    {
     "cell_type": "code",
     "collapsed": false,
     "input": [
      "comment.findall(text2)"
     ],
     "language": "python",
     "metadata": {},
     "outputs": [
      {
       "metadata": {},
       "output_type": "pyout",
       "prompt_number": 207,
       "text": [
        "[' this is a\\n              multiline comment ']"
       ]
      }
     ],
     "prompt_number": 207
    },
    {
     "cell_type": "markdown",
     "metadata": {},
     "source": [
      "- re.DOTALL \ud50c\ub798\uadf8\ub97c \uc0ac\uc6a9\ud558\uba74 \uac04\ub2e8\ud55c \ud328\ud134\uc5d0\ub294 \uc798 \ub3d9\uc791\n",
      "- \ud558\uc9c0\ub9cc \uc544\uc8fc \ubcf5\uc7a1\ud55c \ud328\ud134\uc744 \uc0ac\uc6a9\ud558\uac70\ub098 \uc5ec\ub7ec \uc815\uaddc \ud45c\ud604\uc2dd\uc744 \ud569\uccd0 \ud1a0\ud070\ud654\ub97c \ud55c\ub2e4\uac70\ub098 \ud560 \ub54c \ubb38\uc81c\uac00 \ubc1c\uc0dd\ud560 \uc218 \uc788\uc74c\n",
      "- \ub2e4\ub978 \uc120\ud0dd\uc758 \uc5ec\uc9c0\uac00 \uc788\ub2e4\uba74 \ud50c\ub798\uadf8 \uc5c6\uc774 \uc798 \ub3d9\uc791\ud560 \uc218 \uc788\ub3c4\ub85d \uc815\uaddc \ud45c\ud604\uc2dd\uc744 \uc791\uc131\ud558\ub294 \uac83\uc774 \ub354 \uc88b\uc74c. \ub808\uc2dc\ud53c 2.18 \ucc38\uace0"
     ]
    },
    {
     "cell_type": "markdown",
     "metadata": {},
     "source": [
      "## 2.9 \uc720\ub2c8\ucf54\ub4dc \ud14d\uc2a4\ud2b8 \ub178\uba40\ud654\n",
      "\n",
      "### \ubb38\uc81c\n",
      "\n",
      "- \uc720\ub2c8\ucf54\ub4dc \ubb38\uc790\uc5f4 \uc791\uc5c5\uc744 \ud558\uace0 \uc788\ub2e4. \uc774\ub54c \ubaa8\ub4e0 \ubb38\uc790\uc5f4\uc5d0 \ub3d9\uc77c\ud55c \ud45c\ud604\uc2dd\uc744 \uac16\ub3c4\ub85d \ubcf4\uc7a5\ud558\uace0 \uc2f6\ub2e4.\n",
      "\n",
      "### \ud574\uacb0\n",
      "\n",
      "- \uc720\ub2c8\ucf54\ub4dc\uc5d0\uc11c \uba87\uba87 \ubb38\uc790\ub294 \ud558\ub098 \uc774\uc0c1\uc758 \uc720\ud6a8\ud55c \uc2dc\ud000\uc2a4 \ucf54\ub4dc \ud3ec\uc778\ud2b8\ub85c \ud45c\ud604\ud560 \uc218 \uc788\uc74c"
     ]
    },
    {
     "cell_type": "code",
     "collapsed": false,
     "input": [
      "s1 = 'Spicy Jalape\\u00f1o'"
     ],
     "language": "python",
     "metadata": {},
     "outputs": [],
     "prompt_number": 208
    },
    {
     "cell_type": "code",
     "collapsed": false,
     "input": [
      "s2 = 'Spicy Jalapen\\u0303o'"
     ],
     "language": "python",
     "metadata": {},
     "outputs": [],
     "prompt_number": 209
    },
    {
     "cell_type": "code",
     "collapsed": false,
     "input": [
      "s1"
     ],
     "language": "python",
     "metadata": {},
     "outputs": [
      {
       "metadata": {},
       "output_type": "pyout",
       "prompt_number": 210,
       "text": [
        "'Spicy Jalape\u00f1o'"
       ]
      }
     ],
     "prompt_number": 210
    },
    {
     "cell_type": "code",
     "collapsed": false,
     "input": [
      "s2"
     ],
     "language": "python",
     "metadata": {},
     "outputs": [
      {
       "metadata": {},
       "output_type": "pyout",
       "prompt_number": 211,
       "text": [
        "'Spicy Jalape\u00f1o'"
       ]
      }
     ],
     "prompt_number": 211
    },
    {
     "cell_type": "code",
     "collapsed": false,
     "input": [
      "s1 == s2"
     ],
     "language": "python",
     "metadata": {},
     "outputs": [
      {
       "metadata": {},
       "output_type": "pyout",
       "prompt_number": 212,
       "text": [
        "False"
       ]
      }
     ],
     "prompt_number": 212
    },
    {
     "cell_type": "code",
     "collapsed": false,
     "input": [
      "len(s1)"
     ],
     "language": "python",
     "metadata": {},
     "outputs": [
      {
       "metadata": {},
       "output_type": "pyout",
       "prompt_number": 213,
       "text": [
        "14"
       ]
      }
     ],
     "prompt_number": 213
    },
    {
     "cell_type": "code",
     "collapsed": false,
     "input": [
      "len(s2)"
     ],
     "language": "python",
     "metadata": {},
     "outputs": [
      {
       "metadata": {},
       "output_type": "pyout",
       "prompt_number": 214,
       "text": [
        "15"
       ]
      }
     ],
     "prompt_number": 214
    },
    {
     "cell_type": "markdown",
     "metadata": {},
     "source": [
      "- 2\uac00\uc9c0 \ud615\uc2dd\uc73c\ub85c \ud45c\ud604 \ub428\n",
      "- 1\ubc88\uc9f8\ub294 \uc815\ud655\ud788 \ud45c\ud604:U+00F1\n",
      "- 2\ubc88\uc9f8\ub294 \ub77c\ud2f4 \ubb38\uc790 \ub4a4\uc5d0 ~\ub97c \ud569\uccd0\uc11c \uc0ac\uc6a9(U+0303)\n",
      "- \uc5ec\ub7ec \ud45c\ud604\uc2dd\uc744 \uac16\ub294\ub2e4\ub294 \uac83\uc740 \ubb38\uc790\uc5f4 \ube44\uad50\ud558\ub294 \ud504\ub85c\uadf8\ub7a8\uc758 \uce21\uba74\uc5d0\uc11c \ubb38\uc81c\uac00 \ub428\n",
      "- \uc774 \ubb38\uc81c\ub97c \ud574\uacb0\ud558\uae30 \uc704\ud574\uc11c\ub294 unicodedata \ubaa8\ub4c8\ub85c \ud14d\uc2a4\ud2b8\ub97c normalization \ud574\uc11c \ud45c\uc900 \ud45c\ud604\uc2dd\uc73c\ub85c \ubc14\uafd4\uc57c \ud568"
     ]
    },
    {
     "cell_type": "code",
     "collapsed": false,
     "input": [
      "import unicodedata"
     ],
     "language": "python",
     "metadata": {},
     "outputs": [],
     "prompt_number": 215
    },
    {
     "cell_type": "code",
     "collapsed": false,
     "input": [
      "t1 = unicodedata.normalize('NFC', s1)"
     ],
     "language": "python",
     "metadata": {},
     "outputs": [],
     "prompt_number": 216
    },
    {
     "cell_type": "code",
     "collapsed": false,
     "input": [
      "t2 = unicodedata.normalize('NFC', s2)"
     ],
     "language": "python",
     "metadata": {},
     "outputs": [],
     "prompt_number": 217
    },
    {
     "cell_type": "code",
     "collapsed": false,
     "input": [
      "t1"
     ],
     "language": "python",
     "metadata": {},
     "outputs": [
      {
       "metadata": {},
       "output_type": "pyout",
       "prompt_number": 218,
       "text": [
        "'Spicy Jalape\u00f1o'"
       ]
      }
     ],
     "prompt_number": 218
    },
    {
     "cell_type": "code",
     "collapsed": false,
     "input": [
      "t2"
     ],
     "language": "python",
     "metadata": {},
     "outputs": [
      {
       "metadata": {},
       "output_type": "pyout",
       "prompt_number": 219,
       "text": [
        "'Spicy Jalape\u00f1o'"
       ]
      }
     ],
     "prompt_number": 219
    },
    {
     "cell_type": "code",
     "collapsed": false,
     "input": [
      "t1 == t2"
     ],
     "language": "python",
     "metadata": {},
     "outputs": [
      {
       "metadata": {},
       "output_type": "pyout",
       "prompt_number": 220,
       "text": [
        "True"
       ]
      }
     ],
     "prompt_number": 220
    },
    {
     "cell_type": "code",
     "collapsed": false,
     "input": [
      "print(ascii(t1))"
     ],
     "language": "python",
     "metadata": {},
     "outputs": [
      {
       "output_type": "stream",
       "stream": "stdout",
       "text": [
        "'Spicy Jalape\\xf1o'\n"
       ]
      }
     ],
     "prompt_number": 222
    },
    {
     "cell_type": "code",
     "collapsed": false,
     "input": [
      "print(ascii(t2))"
     ],
     "language": "python",
     "metadata": {},
     "outputs": [
      {
       "output_type": "stream",
       "stream": "stdout",
       "text": [
        "'Spicy Jalape\\xf1o'\n"
       ]
      }
     ],
     "prompt_number": 223
    },
    {
     "cell_type": "code",
     "collapsed": false,
     "input": [
      "t3 = unicodedata.normalize('NFD', s1)\n",
      "t4 = unicodedata.normalize('NFD', s2)"
     ],
     "language": "python",
     "metadata": {},
     "outputs": [],
     "prompt_number": 224
    },
    {
     "cell_type": "code",
     "collapsed": false,
     "input": [
      "t3 == t4"
     ],
     "language": "python",
     "metadata": {},
     "outputs": [
      {
       "metadata": {},
       "output_type": "pyout",
       "prompt_number": 225,
       "text": [
        "True"
       ]
      }
     ],
     "prompt_number": 225
    },
    {
     "cell_type": "code",
     "collapsed": false,
     "input": [
      "print(ascii(t3))"
     ],
     "language": "python",
     "metadata": {},
     "outputs": [
      {
       "output_type": "stream",
       "stream": "stdout",
       "text": [
        "'Spicy Jalapen\\u0303o'\n"
       ]
      }
     ],
     "prompt_number": 226
    },
    {
     "cell_type": "markdown",
     "metadata": {},
     "source": [
      "- normalize()\uc758 \uccab\ubc88\uc9f8 \uc778\uc790\uc5d0\ub294 \ubb38\uc790\uc5f4\uc744 \uc5b4\ub5bb\uac8c \ub178\uba40\ud654\ud560 \uac83\uc778\uc9c0\ub97c \uc9c0\uc815\n",
      "- NFC\ub294 \ubb38\uc790\ub97c \uc815\ud655\ud788 \uad6c\uc131\ud558\ub3c4\ub85d \uc9c0\uc815(\uac00\ub2a5\ud558\ub2e4\uba74 \ub2e8\uc77c \ucf54\ub4dc \ud3ec\uc778\ud2b8\ub97c \uc0ac\uc6a9)\n",
      "- NFD\ub294 \ubb38\uc790\ub97c \uc5ec\ub7ec \uac1c \ud569\uccd0\uc11c \uc0ac\uc6a9\ud558\ub3c4\ub85d \uc9c0\uc815\n",
      "- [Unicode equivalence - Wikipedia, the free encyclopedia](http://en.wikipedia.org/wiki/Unicode_equivalence)\n",
      "- [\uc720\ub2c8\ucf54\ub4dc \uc815\uaddc\ud654 - \uc704\ud0a4\ubc31\uacfc, \uc6b0\ub9ac \ubaa8\ub450\uc758 \ubc31\uacfc\uc0ac\uc804](http://ko.wikipedia.org/wiki/%EC%9C%A0%EB%8B%88%EC%BD%94%EB%93%9C_%EC%A0%95%EA%B7%9C%ED%99%94)\n",
      "- [markboy's archive :: NFC\uc640 NFD \uc11c\ub85c \ubcc0\ud658\ud558\uae30](http://markboy-archive.tistory.com/entry/NFC%EC%99%80-NFD-%EC%84%9C%EB%A1%9C-%EB%B3%80%ED%99%98%ED%95%98%EA%B8%B0): \uc544\ud558.. \uc774\uac83 \ub54c\ubb38\uc5d0 \uadf8\ub7ac\uad6c\ub098. \ub0b4\uac00 Mac\uc5d0\uc11c \uc791\uc5c5\ud55c \ud30c\uc77c\uc744 \ub2e4\ub978 \uc0ac\ub78c\uc5d0\uac8c \ubcf4\ub0b4\uba74 \ud30c\uc77c \uc774\ub984\uc774 '\u314e\u314f\u3134\u3131\u3161\u3139.txt'\ub85c \ud480\uc5b4\uc368\uc9c4\ub2e4\ub294 \uc598\uae30\ub97c \ub9ce\uc774 \ub4e4\uc5c8\ub294\ub370..\n",
      "- \ucd94\uac00\uc801\uc778 \ud638\ud658\uc131\uc744 \ubd80\uc5ec\ud558\ub294 NFKC\uc640 NFKD \ub178\uba40\ud654\ub3c4 \uc9c0\uc6d0"
     ]
    },
    {
     "cell_type": "code",
     "collapsed": false,
     "input": [
      "s = '\\ufb01' # \ub2e8\uc77c \ubb38\uc790"
     ],
     "language": "python",
     "metadata": {},
     "outputs": [],
     "prompt_number": 227
    },
    {
     "cell_type": "code",
     "collapsed": false,
     "input": [
      "s"
     ],
     "language": "python",
     "metadata": {},
     "outputs": [
      {
       "metadata": {},
       "output_type": "pyout",
       "prompt_number": 228,
       "text": [
        "'\ufb01'"
       ]
      }
     ],
     "prompt_number": 228
    },
    {
     "cell_type": "code",
     "collapsed": false,
     "input": [
      "unicodedata.normalize('NFD', s)"
     ],
     "language": "python",
     "metadata": {},
     "outputs": [
      {
       "metadata": {},
       "output_type": "pyout",
       "prompt_number": 229,
       "text": [
        "'\ufb01'"
       ]
      }
     ],
     "prompt_number": 229
    },
    {
     "cell_type": "code",
     "collapsed": false,
     "input": [
      "# \ud569\uccd0 \ub193\uc740 \ubb38\uc790\uac00 \uc5b4\ub5bb\uac8c \ubd84\ub9ac\ub418\ub294\uc9c0 \uc0b4\ud3b4\ubcf4\uc790\n",
      "unicodedata.normalize('NFKD', s)"
     ],
     "language": "python",
     "metadata": {},
     "outputs": [
      {
       "metadata": {},
       "output_type": "pyout",
       "prompt_number": 230,
       "text": [
        "'fi'"
       ]
      }
     ],
     "prompt_number": 230
    },
    {
     "cell_type": "code",
     "collapsed": false,
     "input": [
      "unicodedata.normalize('NFKC', s)"
     ],
     "language": "python",
     "metadata": {},
     "outputs": [
      {
       "metadata": {},
       "output_type": "pyout",
       "prompt_number": 231,
       "text": [
        "'fi'"
       ]
      }
     ],
     "prompt_number": 231
    },
    {
     "cell_type": "markdown",
     "metadata": {},
     "source": [
      "### \ud1a0\ub860\n",
      "\n",
      "- \uc77c\uad00\uc801\uc774\uace0 \uc548\uc804\ud55c \uc720\ub2c8\ucf54\ub4dc \ud14d\uc2a4\ud2b8 \uc791\uc5c5\uc744 \uc704\ud574\uc11c \ub178\uba40\ud654\ub294 \uc544\uc8fc \uc911\uc694\n",
      "- \ud2b9\ud788 \uc778\ucf54\ub529\uc744 \uc870\uc808\ud560 \uc218 \uc5c6\ub294 \uc0c1\ud669\uc5d0\uc11c \uc0ac\uc6a9\uc790\uc5d0\uac8c \ubb38\uc790\uc5f4 \uc785\ub825\uc744 \ubc1b\ub294 \uacbd\uc6b0\uc5d0\ub294 \ud2b9\ud788 \uc870\uc2ec\n",
      "- \ub610\ud55c \ud14d\uc2a4\ud2b8 \ud544\ud130\ub9c1 \uc791\uc5c5\uc744 \ud560 \ub54c\ub3c4 \ub178\uba40\ud654\ub294 \uc911\uc694\n",
      "- \ud14d\uc2a4\ud2b8\uc5d0\uc11c \ubc1c\uc74c \uad6c\ubcc4 \ubd80\ud638\ub97c \ubaa8\ub450 \uc81c\uac70\ud558\uace0 \uc2f6\ub2e4\uba74"
     ]
    },
    {
     "cell_type": "code",
     "collapsed": false,
     "input": [
      "t1 = unicodedata.normalize('NFD', s1)\n",
      "t1"
     ],
     "language": "python",
     "metadata": {},
     "outputs": [
      {
       "metadata": {},
       "output_type": "pyout",
       "prompt_number": 236,
       "text": [
        "'Spicy Jalape\u00f1o'"
       ]
      }
     ],
     "prompt_number": 236
    },
    {
     "cell_type": "code",
     "collapsed": false,
     "input": [
      "''.join(c for c in t1 if not unicodedata.combining(c))"
     ],
     "language": "python",
     "metadata": {},
     "outputs": [
      {
       "metadata": {},
       "output_type": "pyout",
       "prompt_number": 233,
       "text": [
        "'Spicy Jalapeno'"
       ]
      }
     ],
     "prompt_number": 233
    },
    {
     "cell_type": "code",
     "collapsed": false,
     "input": [
      "''.join(c for c in t1)"
     ],
     "language": "python",
     "metadata": {},
     "outputs": [
      {
       "metadata": {},
       "output_type": "pyout",
       "prompt_number": 235,
       "text": [
        "'Spicy Jalape\u00f1o'"
       ]
      }
     ],
     "prompt_number": 235
    },
    {
     "cell_type": "code",
     "collapsed": false,
     "input": [
      "''.join(c for c in t1 if unicodedata.combining(c))"
     ],
     "language": "python",
     "metadata": {},
     "outputs": [
      {
       "metadata": {},
       "output_type": "pyout",
       "prompt_number": 237,
       "text": [
        "'\u0303'"
       ]
      }
     ],
     "prompt_number": 237
    },
    {
     "cell_type": "code",
     "collapsed": false,
     "input": [
      "help(unicodedata.combining)"
     ],
     "language": "python",
     "metadata": {},
     "outputs": [
      {
       "output_type": "stream",
       "stream": "stdout",
       "text": [
        "Help on built-in function combining in module unicodedata:\n",
        "\n",
        "combining(...)\n",
        "    combining(unichr)\n",
        "    \n",
        "    Returns the canonical combining class assigned to the Unicode\n",
        "    character unichr as integer. Returns 0 if no combining class is\n",
        "    defined.\n",
        "\n"
       ]
      }
     ],
     "prompt_number": 234
    },
    {
     "cell_type": "markdown",
     "metadata": {},
     "source": [
      "- \uc601\uc5b4\ub3c4 \ub611\uac19\ub124 \ud30c\uc774\uc36c \ubb38\ubc95\uc774\ub791?\n",
      "  - Returns 0 if no combining class is defined\n",
      "  - [0 if no combining class is defined]"
     ]
    },
    {
     "cell_type": "markdown",
     "metadata": {},
     "source": [
      "- \uce90\ub9ad\ud130 \ud074\ub798\uc2a4\uc5d0 \ubb38\uc790\ub97c \ube44\uad50\ud558\ub294 unicodedata \ubaa8\ub4c8\uc758 \uc911\uc694\ud55c \uce21\uba74\uc774 \ud558\ub098 \ub354 \ub098\uc634\n",
      "- combining() \ud568\uc218\ub294 \ubb38\uc790\uac00 \uacb0\ud569 \ubb38\uc790\uc778\uc9c0 \ud655\uc778\n",
      "- \uc774 \ubaa8\ub4c8\uc5d0\ub294 \ubb38\uc790 \uce74\ud14c\uace0\ub9ac\ub97c \ucc3e\uace0 \uc22b\uc790\ub97c \ud655\uc778\ud558\ub294 \ub4f1 \ub9ce\uc740 \ud568\uc218\uac00 \ud3ec\ud568\ub418\uc5b4 \uc788\uc74c\n",
      "- [Unicode's page on the subject]\n",
      "- [Ned Batchelder: Pragmatic Unicode](http://nedbatchelder.com/text/unipain.html)\n"
     ]
    },
    {
     "cell_type": "markdown",
     "metadata": {},
     "source": [
      "## 2.10 \uc815\uaddc\ud45c\ud604\uc2dd\uc5d0 \uc720\ub2c8\ucf54\ub4dc \uc0ac\uc6a9\n",
      "\n",
      "### \ubb38\uc81c\n",
      "\n",
      "- \ud14d\uc2a4\ud2b8 \ud504\ub85c\uc138\uc2f1\uc5d0 \uc815\uaddc \ud45c\ud604\uc2dd\uc744 \uc0ac\uc6a9\uc911\n",
      "- \ud558\uc9c0\ub9cc \uc720\ub2c8\ucf54\ub4dc \ubb38\uc790 \ucc98\ub9ac\uac00 \uac71\uc815\ub428\n",
      "\n",
      "### \ud574\uacb0\n",
      "\n",
      "- \uae30\ubcf8\uc801\uc778 \uc720\ub2c8\ucf54\ub4dc \ucc98\ub9ac\ub97c \uc704\ud55c \ub300\ubd80\ubd84\uc758 \uae30\ub2a5\uc744 re\ubaa8\ub4c8\uc774 \uc81c\uacf5\n",
      "- \\d\ub294 \uc720\ub2c8\ucf54\ub4dc \uc22b\uc790\uc5d0 \uc774\ubbf8 \ub9e4\uce6d\ud568"
     ]
    },
    {
     "cell_type": "code",
     "collapsed": false,
     "input": [
      "import re"
     ],
     "language": "python",
     "metadata": {},
     "outputs": [],
     "prompt_number": 239
    },
    {
     "cell_type": "code",
     "collapsed": false,
     "input": [
      "num = re.compile('\\d+')"
     ],
     "language": "python",
     "metadata": {},
     "outputs": [],
     "prompt_number": 240
    },
    {
     "cell_type": "code",
     "collapsed": false,
     "input": [
      "# ASCII number\n",
      "num.match('123')"
     ],
     "language": "python",
     "metadata": {},
     "outputs": [
      {
       "metadata": {},
       "output_type": "pyout",
       "prompt_number": 241,
       "text": [
        "<_sre.SRE_Match object; span=(0, 3), match='123'>"
       ]
      }
     ],
     "prompt_number": 241
    },
    {
     "cell_type": "code",
     "collapsed": false,
     "input": [
      "# arabia number\n",
      "num.match('\\u0661\\u0662\\u0663')"
     ],
     "language": "python",
     "metadata": {},
     "outputs": [
      {
       "metadata": {},
       "output_type": "pyout",
       "prompt_number": 242,
       "text": [
        "<_sre.SRE_Match object; span=(0, 3), match='\u0661\u0662\u0663'>"
       ]
      }
     ],
     "prompt_number": 242
    },
    {
     "cell_type": "markdown",
     "metadata": {},
     "source": [
      "- \ud2b9\uc815 \uc720\ub2c8\ucf54\ub4dc \ubb38\uc790\ub97c \ud328\ud134\uc5d0 \ud3ec\ud568\ud558\uace0 \uc2f6\uc73c\uba74, \uc720\ub2c8\ucf54\ub4dc \ubb38\uc790\uc5d0 escape \uc2dc\ud000\uc2a4\ub97c \uc0ac\uc6a9\ud568\n",
      "- \uc544\ub77c\ube44\uc544 \ucf54\ub4dc \ud398\uc774\uc9c0\uc758 \ubaa8\ub4e0 \ud398\uc774\uc9c0\uc758 \ubb38\uc790\uc5d0 \ub9e4\uce6d\ud558\ub294 \uc815\uaddc\ud45c\ud604\uc2dd\uc740"
     ]
    },
    {
     "cell_type": "code",
     "collapsed": false,
     "input": [
      "arbic = re.compile('[\\u0600-\\u06ff\\u0750-\\u077f\\u08a0-\\u08ff]+')"
     ],
     "language": "python",
     "metadata": {},
     "outputs": [],
     "prompt_number": 243
    },
    {
     "cell_type": "markdown",
     "metadata": {},
     "source": [
      "- \uac80\uc0c9\uc744 \uc218\ud589\ud560 \ub54c, \ud14d\uc2a4\ud2b8\ub97c \ub178\uba40\ud654\ud558\ub294 \uac83\uc774 \uc88b\uc740 \uc811\uadfc\ubc95(\ub808\uc2dc\ud53c 2.9 \ucc38\uace0)\n",
      "- \ud558\uc9c0\ub9cc \ud2b9\ubcc4\ud55c \uacbd\uc6b0\ub97c \uc8fc\uc758. \uc608\ub97c \ub4e4\uc5b4, \ub300\uc18c\ubb38\uc790\ub97c \ubb34\uc2dc\ud558\ub294 \ub9e4\uce6d\uc5d0 \ub300\uc18c\ubb38\uc790 \ubcc0\ud658\uc744 \ud569\uce5c\ucf54\ub4dc"
     ]
    },
    {
     "cell_type": "code",
     "collapsed": false,
     "input": [
      "pat = re.compile('stra\\u00dfe', re.IGNORECASE)"
     ],
     "language": "python",
     "metadata": {},
     "outputs": [],
     "prompt_number": 244
    },
    {
     "cell_type": "code",
     "collapsed": false,
     "input": [
      "pat"
     ],
     "language": "python",
     "metadata": {},
     "outputs": [
      {
       "metadata": {},
       "output_type": "pyout",
       "prompt_number": 245,
       "text": [
        "re.compile(r'stra\u00dfe', re.IGNORECASE|re.UNICODE)"
       ]
      }
     ],
     "prompt_number": 245
    },
    {
     "cell_type": "code",
     "collapsed": false,
     "input": [
      "s = 'stra\u00dfe'"
     ],
     "language": "python",
     "metadata": {},
     "outputs": [],
     "prompt_number": 246
    },
    {
     "cell_type": "code",
     "collapsed": false,
     "input": [
      "pat.match(s)"
     ],
     "language": "python",
     "metadata": {},
     "outputs": [
      {
       "metadata": {},
       "output_type": "pyout",
       "prompt_number": 247,
       "text": [
        "<_sre.SRE_Match object; span=(0, 6), match='stra\u00dfe'>"
       ]
      }
     ],
     "prompt_number": 247
    },
    {
     "cell_type": "code",
     "collapsed": false,
     "input": [
      "pat.match(s.upper())"
     ],
     "language": "python",
     "metadata": {},
     "outputs": [],
     "prompt_number": 248
    },
    {
     "cell_type": "code",
     "collapsed": false,
     "input": [
      "s.upper()"
     ],
     "language": "python",
     "metadata": {},
     "outputs": [
      {
       "metadata": {},
       "output_type": "pyout",
       "prompt_number": 249,
       "text": [
        "'STRASSE'"
       ]
      }
     ],
     "prompt_number": 249
    },
    {
     "cell_type": "markdown",
     "metadata": {},
     "source": [
      "### \ud1a0\ub860\n",
      "\n",
      "- \uc720\ub2c8\ucf54\ub4dc\uc640 \uc815\uaddc \ud45c\ud604\uc2dd\uc744 \ud568\uaed8 \uc0ac\uc6a9\ud558\uae30\ub780 \uc0ac\uc2e4 \uad49\uc7a5\ud788 \uc5b4\ub824\uc6c0\n",
      "- \uc815\ub9d0\ub85c \uc774 \ub458\uc744 \ud568\uaed8 \uc0ac\uc6a9\ud574\uc57c\uaca0\ub2e4\uba74, third-party [regex](https://pypi.python.org/pypi/regex) \ub77c\uc774\ube0c\ub7ec\ub9ac\ub97c \uc124\uce58\ud558\uace0 **\uc720\ub2c8\ucf54\ub4dc \ub300\uc18c\ubb38\uc790 \ubcc0\ud658** \ub4f1\uc744 \uae30\ubcf8\uc73c\ub85c \uc81c\uacf5\ud558\ub294 \ub9ce\uc740 \uae30\ub2a5\uc744 \uc774\uc6a9\ud574\uc57c \ub428"
     ]
    },
    {
     "cell_type": "markdown",
     "metadata": {},
     "source": [
      "### [2. \ubb38\uc790\uc5f4\uacfc \ud14d\uc2a4\ud2b8 02](http://nbviewer.ipython.org/github/re4lfl0w/ipython/blob/master/books/python_cookbook/ch02_02.ipynb)"
     ]
    }
   ],
   "metadata": {}
  }
 ]
}
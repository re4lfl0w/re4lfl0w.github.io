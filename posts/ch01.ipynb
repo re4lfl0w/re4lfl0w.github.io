{
 "metadata": {
  "name": "",
  "signature": "sha256:fc1253c65eafa54b9a495a8846b485399ea3eb9d7fd76f2cf911ebed66fc4b85"
 },
 "nbformat": 3,
 "nbformat_minor": 0,
 "worksheets": [
  {
   "cells": [
    {
     "cell_type": "markdown",
     "metadata": {},
     "source": [
      "# 1. \uc790\ub8cc\uad6c\uc870\uc640 \uc54c\uace0\ub9ac\uc998\n",
      "\n",
      "- start: 2014-09-30\n",
      "- end: 2014-10-02 \n",
      "\n",
      "## Python3\n",
      "\n",
      "- [Python in Real World: virtualenv\ub97c \uc0ac\uc6a9\ud558\uc790 - \uac00\uc0c1 \uac1c\ubc1c\ud658\uacbd \uad6c\ucd95\ud558\uae30](http://pythoninreal.blogspot.kr/2013/12/virtualenv.html)\n",
      "- [Python 3 & Python 2.7 dual install - the right way on OSX - YouTube](http://www.youtube.com/watch?v=c9LlK2iu7OA)\n",
      "- \ud30c\uc774\uc36c3\ub97c \uc124\uce58\ud558\uc9c0 \uc54a\uace0 python2\ub85c \ud574\ubcf4\ub824\ub2e4\uac00 \uc608\uc81c\ub4e4\uc774 \uc2e4\ud589\uc774 \uc548\ub418\uc11c \uad74\ubcf5\ud558\uac8c \ub410\ub2e4. -_-\n",
      "\n",
      "## \uc815\uc758\n",
      "\n",
      "- \ud30c\uc774\uc36c\uc740 list, set, dictionary \uac19\uc774 \uc720\uc6a9\ud55c \uc790\ub8cc \uad6c\uc870 \ub0b4\uc7a5\n",
      "- \uc774\ub7ec\ud55c \uad6c\uc870\uccb4\uc758 \uc7a5\uc810\uc740 \uc0ac\uc6a9\uc774 \ud3b8\ub9ac\n",
      "- \uac80\uc0c9, \uc815\ub82c, \uc21c\uc11c, \uc5ec\uacfc \ub4f1\uc5d0 \ub300\ud55c \uc9c8\ubb38\uc774 \uc885\uc885 \uc0dd\uae40\n",
      "\n",
      "## 1.1 \uc2dc\ud000\uc2a4\ub97c \uac1c\ubcc4 \ubcc0\uc218\ub85c \ub098\ub204\uae30\n",
      "\n",
      "### \ubb38\uc81c\n",
      "\n",
      "- N\uac1c\uc758 \uc694\uc18c\ub97c \uac00\uc9c4 \ud29c\ud50c\uc774\ub098 \uc2dc\ud000\uc2a4\uac00 \uc788\ub2e4. \uc774\ub97c \ubcc0\uc218 N\uac1c\ub85c \ub098\ub204\uc5b4\uc57c \ud55c\ub2e4.\n",
      "\n",
      "### \ud574\uacb0\n",
      "\n",
      "- \ubaa8\ub4e0 \uc2dc\ud000\uc2a4(\ud639\uc740 \uc774\ud130\ub808\uc774\ud305 \uac00\ub2a5\ud55c \uac83)\ub294 \uac04\ub2e8\ud55c \ud560\ub2f9\ubb38\uc744 \uc0ac\uc6a9\ud574\uc11c \uac1c\ubcc4 \ubcc0\uc218\ub85c \ub098\ub214\n",
      "- \uc8fc\uc758\uc0ac\ud56d: \ubcc0\uc218\uc758 \uac1c\uc218\uac00 \uc2dc\ud000\uc2a4\uc5d0 \uc77c\uce58\ud574\uc57c \ud55c\ub2e4\ub294 \uac83\ubfd0",
      "<!-- TEASER_END -->"
     ]
    },
    {
     "cell_type": "code",
     "collapsed": false,
     "input": [
      "!python --version"
     ],
     "language": "python",
     "metadata": {},
     "outputs": [
      {
       "output_type": "stream",
       "stream": "stdout",
       "text": [
        "Python 3.4.1\r\n"
       ]
      }
     ],
     "prompt_number": 17
    },
    {
     "cell_type": "code",
     "collapsed": false,
     "input": [
      "p = (4, 5)"
     ],
     "language": "python",
     "metadata": {},
     "outputs": [],
     "prompt_number": 2
    },
    {
     "cell_type": "code",
     "collapsed": false,
     "input": [
      "x, y = p"
     ],
     "language": "python",
     "metadata": {},
     "outputs": [],
     "prompt_number": 3
    },
    {
     "cell_type": "code",
     "collapsed": false,
     "input": [
      "x"
     ],
     "language": "python",
     "metadata": {},
     "outputs": [
      {
       "metadata": {},
       "output_type": "pyout",
       "prompt_number": 4,
       "text": [
        "4"
       ]
      }
     ],
     "prompt_number": 4
    },
    {
     "cell_type": "code",
     "collapsed": false,
     "input": [
      "y"
     ],
     "language": "python",
     "metadata": {},
     "outputs": [
      {
       "metadata": {},
       "output_type": "pyout",
       "prompt_number": 5,
       "text": [
        "5"
       ]
      }
     ],
     "prompt_number": 5
    },
    {
     "cell_type": "code",
     "collapsed": false,
     "input": [
      "data = ['ACME', 50, 91.1, (2012, 12, 21)]"
     ],
     "language": "python",
     "metadata": {},
     "outputs": [],
     "prompt_number": 6
    },
    {
     "cell_type": "code",
     "collapsed": false,
     "input": [
      "name, shares, price, date = data"
     ],
     "language": "python",
     "metadata": {},
     "outputs": [],
     "prompt_number": 7
    },
    {
     "cell_type": "code",
     "collapsed": false,
     "input": [
      "name"
     ],
     "language": "python",
     "metadata": {},
     "outputs": [
      {
       "metadata": {},
       "output_type": "pyout",
       "prompt_number": 8,
       "text": [
        "'ACME'"
       ]
      }
     ],
     "prompt_number": 8
    },
    {
     "cell_type": "code",
     "collapsed": false,
     "input": [
      "shares"
     ],
     "language": "python",
     "metadata": {},
     "outputs": [
      {
       "metadata": {},
       "output_type": "pyout",
       "prompt_number": 9,
       "text": [
        "50"
       ]
      }
     ],
     "prompt_number": 9
    },
    {
     "cell_type": "code",
     "collapsed": false,
     "input": [
      "price"
     ],
     "language": "python",
     "metadata": {},
     "outputs": [
      {
       "metadata": {},
       "output_type": "pyout",
       "prompt_number": 10,
       "text": [
        "91.1"
       ]
      }
     ],
     "prompt_number": 10
    },
    {
     "cell_type": "code",
     "collapsed": false,
     "input": [
      "date"
     ],
     "language": "python",
     "metadata": {},
     "outputs": [
      {
       "metadata": {},
       "output_type": "pyout",
       "prompt_number": 11,
       "text": [
        "(2012, 12, 21)"
       ]
      }
     ],
     "prompt_number": 11
    },
    {
     "cell_type": "code",
     "collapsed": false,
     "input": [
      "name, shares, price, (year, mon, day) = data"
     ],
     "language": "python",
     "metadata": {},
     "outputs": [],
     "prompt_number": 12
    },
    {
     "cell_type": "code",
     "collapsed": false,
     "input": [
      "name"
     ],
     "language": "python",
     "metadata": {},
     "outputs": [
      {
       "metadata": {},
       "output_type": "pyout",
       "prompt_number": 13,
       "text": [
        "'ACME'"
       ]
      }
     ],
     "prompt_number": 13
    },
    {
     "cell_type": "code",
     "collapsed": false,
     "input": [
      "year"
     ],
     "language": "python",
     "metadata": {},
     "outputs": [
      {
       "metadata": {},
       "output_type": "pyout",
       "prompt_number": 14,
       "text": [
        "2012"
       ]
      }
     ],
     "prompt_number": 14
    },
    {
     "cell_type": "code",
     "collapsed": false,
     "input": [
      "mon"
     ],
     "language": "python",
     "metadata": {},
     "outputs": [
      {
       "metadata": {},
       "output_type": "pyout",
       "prompt_number": 15,
       "text": [
        "12"
       ]
      }
     ],
     "prompt_number": 15
    },
    {
     "cell_type": "code",
     "collapsed": false,
     "input": [
      "day"
     ],
     "language": "python",
     "metadata": {},
     "outputs": [
      {
       "metadata": {},
       "output_type": "pyout",
       "prompt_number": 16,
       "text": [
        "21"
       ]
      }
     ],
     "prompt_number": 16
    },
    {
     "cell_type": "markdown",
     "metadata": {},
     "source": [
      "\uc694\uc18c \uac1c\uc218\uac00 \uc77c\uce58\ud558\uc9c0 \uc54a\uc73c\uba74 \uc5d0\ub7ec \ubc1c\uc0dd"
     ]
    },
    {
     "cell_type": "code",
     "collapsed": false,
     "input": [
      "p = (4, 5)"
     ],
     "language": "python",
     "metadata": {},
     "outputs": [],
     "prompt_number": 17
    },
    {
     "cell_type": "code",
     "collapsed": false,
     "input": [
      "x, y, z = p"
     ],
     "language": "python",
     "metadata": {},
     "outputs": [
      {
       "ename": "ValueError",
       "evalue": "need more than 2 values to unpack",
       "output_type": "pyerr",
       "traceback": [
        "\u001b[0;31m---------------------------------------------------------------------------\u001b[0m\n\u001b[0;31mValueError\u001b[0m                                Traceback (most recent call last)",
        "\u001b[0;32m<ipython-input-18-abf102a00aa7>\u001b[0m in \u001b[0;36m<module>\u001b[0;34m()\u001b[0m\n\u001b[0;32m----> 1\u001b[0;31m \u001b[0mx\u001b[0m\u001b[0;34m,\u001b[0m \u001b[0my\u001b[0m\u001b[0;34m,\u001b[0m \u001b[0mz\u001b[0m \u001b[0;34m=\u001b[0m \u001b[0mp\u001b[0m\u001b[0;34m\u001b[0m\u001b[0m\n\u001b[0m",
        "\u001b[0;31mValueError\u001b[0m: need more than 2 values to unpack"
       ]
      }
     ],
     "prompt_number": 18
    },
    {
     "cell_type": "markdown",
     "metadata": {},
     "source": [
      "### \ud1a0\ub860\n",
      "\n",
      "- unpacking\uc740 \uc0ac\uc2e4 \ud29c\ud50c\uc774\ub098 \ub9ac\uc2a4\ud2b8\ubfd0\ub9cc \uc544\ub2c8\ub77c \uc21c\ud658 \uac00\ub2a5\ud55c \ubaa8\ub4e0 \uac1d\uccb4\uc5d0 \uc801\uc6a9 \uac00\ub2a5\n",
      "- \ubb38\uc790\uc5f4, \ud30c\uc77c, iterator, generator\ub3c4 \ud3ec\ud568"
     ]
    },
    {
     "cell_type": "code",
     "collapsed": false,
     "input": [
      "s = 'Hello'"
     ],
     "language": "python",
     "metadata": {},
     "outputs": [],
     "prompt_number": 19
    },
    {
     "cell_type": "code",
     "collapsed": false,
     "input": [
      "a, b, c, d, e = s"
     ],
     "language": "python",
     "metadata": {},
     "outputs": [],
     "prompt_number": 20
    },
    {
     "cell_type": "code",
     "collapsed": false,
     "input": [
      "a"
     ],
     "language": "python",
     "metadata": {},
     "outputs": [
      {
       "metadata": {},
       "output_type": "pyout",
       "prompt_number": 21,
       "text": [
        "'H'"
       ]
      }
     ],
     "prompt_number": 21
    },
    {
     "cell_type": "code",
     "collapsed": false,
     "input": [
      "b"
     ],
     "language": "python",
     "metadata": {},
     "outputs": [
      {
       "metadata": {},
       "output_type": "pyout",
       "prompt_number": 22,
       "text": [
        "'e'"
       ]
      }
     ],
     "prompt_number": 22
    },
    {
     "cell_type": "code",
     "collapsed": false,
     "input": [
      "c"
     ],
     "language": "python",
     "metadata": {},
     "outputs": [
      {
       "metadata": {},
       "output_type": "pyout",
       "prompt_number": 23,
       "text": [
        "'l'"
       ]
      }
     ],
     "prompt_number": 23
    },
    {
     "cell_type": "code",
     "collapsed": false,
     "input": [
      "d"
     ],
     "language": "python",
     "metadata": {},
     "outputs": [
      {
       "metadata": {},
       "output_type": "pyout",
       "prompt_number": 24,
       "text": [
        "'l'"
       ]
      }
     ],
     "prompt_number": 24
    },
    {
     "cell_type": "code",
     "collapsed": false,
     "input": [
      "e"
     ],
     "language": "python",
     "metadata": {},
     "outputs": [
      {
       "metadata": {},
       "output_type": "pyout",
       "prompt_number": 25,
       "text": [
        "'o'"
       ]
      }
     ],
     "prompt_number": 25
    },
    {
     "cell_type": "code",
     "collapsed": false,
     "input": [
      "data = ['ACME', 50, 91.1, (2012, 12, 21)]"
     ],
     "language": "python",
     "metadata": {},
     "outputs": [],
     "prompt_number": 26
    },
    {
     "cell_type": "code",
     "collapsed": false,
     "input": [
      "# _\ub294 \uc774\uc804 \uc140\uc758 \uacb0\uacfc\uac12 \uc800\uc7a5\n",
      "_, shares, price, _ = data"
     ],
     "language": "python",
     "metadata": {},
     "outputs": [],
     "prompt_number": 27
    },
    {
     "cell_type": "code",
     "collapsed": false,
     "input": [
      "shares"
     ],
     "language": "python",
     "metadata": {},
     "outputs": [
      {
       "metadata": {},
       "output_type": "pyout",
       "prompt_number": 28,
       "text": [
        "50"
       ]
      }
     ],
     "prompt_number": 28
    },
    {
     "cell_type": "code",
     "collapsed": false,
     "input": [
      "price"
     ],
     "language": "python",
     "metadata": {},
     "outputs": [
      {
       "metadata": {},
       "output_type": "pyout",
       "prompt_number": 29,
       "text": [
        "91.1"
       ]
      }
     ],
     "prompt_number": 29
    },
    {
     "cell_type": "markdown",
     "metadata": {},
     "source": [
      "## 1.2 \uc784\uc758 \uc21c\ud658\uccb4\uc758 \uc694\uc18c \ub098\ub204\uae30\n",
      "\n",
      "### \ubb38\uc81c\n",
      "\n",
      "- \uc21c\ud658\uccb4\ub97c \uc5b8\ud328\ud0b9\ud558\ub824\ub294\ub370 \uc694\uc18c\uac00 N\uac1c \uc774\uc0c1 \ud3ec\ud568\ub418\uc5b4 \"\uac12\uc774 \ub108\ubb34 \ub9ce\uc2b5\ub2c8\ub2e4\"\" \ub77c\ub294 \uc608\uc678\uac00 \ubc1c\uc0dd\n",
      "\n",
      "### \ud574\uacb0\n",
      "\n",
      "- \"\ubcc4 \ud45c\ud604\uc2dd\" \uc0ac\uc6a9(only python 3)\n",
      "- [PEP 3132 -- Extended Iterable Unpacking](http://legacy.python.org/dev/peps/pep-3132/)\n",
      "- [python - Finding the average of a list - Stack Overflow](http://stackoverflow.com/questions/9039961/finding-the-average-of-a-list)\n"
     ]
    },
    {
     "cell_type": "code",
     "collapsed": false,
     "input": [
      "ll = range(10)\n",
      "first, *middle, last = ll"
     ],
     "language": "python",
     "metadata": {},
     "outputs": [],
     "prompt_number": 1
    },
    {
     "cell_type": "code",
     "collapsed": false,
     "input": [
      "# only Python3\n",
      "\n",
      "def avg(lst):\n",
      "    return sum(lst) / float(len(lst))\n",
      "\n",
      "def drop_first_last(grades):\n",
      "    first, *middle, last = grades\n",
      "    return avg(middle)"
     ],
     "language": "python",
     "metadata": {},
     "outputs": [],
     "prompt_number": 13
    },
    {
     "cell_type": "code",
     "collapsed": false,
     "input": [
      "# python2 version\n",
      "def drop_first_last2(grades):\n",
      "    lst = grades[1:-1]\n",
      "    return sum(lst) / float(len(lst))"
     ],
     "language": "python",
     "metadata": {},
     "outputs": [],
     "prompt_number": 4
    },
    {
     "cell_type": "code",
     "collapsed": false,
     "input": [
      "import random\n",
      "l = [random.randint(1, 20) for i in range(10)] \n",
      "l"
     ],
     "language": "python",
     "metadata": {},
     "outputs": [
      {
       "metadata": {},
       "output_type": "pyout",
       "prompt_number": 5,
       "text": [
        "[15, 10, 1, 4, 3, 18, 3, 9, 4, 16]"
       ]
      }
     ],
     "prompt_number": 5
    },
    {
     "cell_type": "code",
     "collapsed": false,
     "input": [
      "sum(l)"
     ],
     "language": "python",
     "metadata": {},
     "outputs": [
      {
       "metadata": {},
       "output_type": "pyout",
       "prompt_number": 6,
       "text": [
        "83"
       ]
      }
     ],
     "prompt_number": 6
    },
    {
     "cell_type": "code",
     "collapsed": false,
     "input": [
      "sum(l) / float(len(l))"
     ],
     "language": "python",
     "metadata": {},
     "outputs": [
      {
       "metadata": {},
       "output_type": "pyout",
       "prompt_number": 8,
       "text": [
        "8.3"
       ]
      }
     ],
     "prompt_number": 8
    },
    {
     "cell_type": "code",
     "collapsed": false,
     "input": [
      "l[1:-1]"
     ],
     "language": "python",
     "metadata": {},
     "outputs": [
      {
       "metadata": {},
       "output_type": "pyout",
       "prompt_number": 9,
       "text": [
        "[10, 1, 4, 3, 18, 3, 9, 4]"
       ]
      }
     ],
     "prompt_number": 9
    },
    {
     "cell_type": "code",
     "collapsed": false,
     "input": [
      "sum(l[1:-1]) / float(len(l[1:-1]))"
     ],
     "language": "python",
     "metadata": {},
     "outputs": [
      {
       "metadata": {},
       "output_type": "pyout",
       "prompt_number": 10,
       "text": [
        "6.5"
       ]
      }
     ],
     "prompt_number": 10
    },
    {
     "cell_type": "code",
     "collapsed": false,
     "input": [
      "drop_first_last(l)"
     ],
     "language": "python",
     "metadata": {},
     "outputs": [
      {
       "metadata": {},
       "output_type": "pyout",
       "prompt_number": 14,
       "text": [
        "6.5"
       ]
      }
     ],
     "prompt_number": 14
    },
    {
     "cell_type": "code",
     "collapsed": false,
     "input": [
      "drop_first_last2(l)"
     ],
     "language": "python",
     "metadata": {},
     "outputs": [
      {
       "metadata": {},
       "output_type": "pyout",
       "prompt_number": 15,
       "text": [
        "6.5"
       ]
      }
     ],
     "prompt_number": 15
    },
    {
     "cell_type": "code",
     "collapsed": false,
     "input": [
      "# numpy version\n",
      "import numpy as np\n",
      "np.mean(l)"
     ],
     "language": "python",
     "metadata": {},
     "outputs": [
      {
       "metadata": {},
       "output_type": "pyout",
       "prompt_number": 18,
       "text": [
        "8.3000000000000007"
       ]
      }
     ],
     "prompt_number": 18
    },
    {
     "cell_type": "code",
     "collapsed": false,
     "input": [
      "# python2 version\n",
      "def drop_first_last3(grades):\n",
      "    lst = grades[1:-1]\n",
      "    return np.mean(lst)"
     ],
     "language": "python",
     "metadata": {},
     "outputs": [],
     "prompt_number": 20
    },
    {
     "cell_type": "code",
     "collapsed": false,
     "input": [
      "drop_first_last3(l)"
     ],
     "language": "python",
     "metadata": {},
     "outputs": [
      {
       "metadata": {},
       "output_type": "pyout",
       "prompt_number": 22,
       "text": [
        "6.5"
       ]
      }
     ],
     "prompt_number": 22
    },
    {
     "cell_type": "markdown",
     "metadata": {},
     "source": [
      "#### \uc0ac\uc6a9\uc790 \uc8fc\uc18c"
     ]
    },
    {
     "cell_type": "code",
     "collapsed": false,
     "input": [
      "record = ('Dave', 'dave@example.com', '773-555-1212', '847-555-1212')"
     ],
     "language": "python",
     "metadata": {},
     "outputs": [],
     "prompt_number": 23
    },
    {
     "cell_type": "code",
     "collapsed": false,
     "input": [
      "name, email, *phone_numbers = record"
     ],
     "language": "python",
     "metadata": {},
     "outputs": [],
     "prompt_number": 24
    },
    {
     "cell_type": "code",
     "collapsed": false,
     "input": [
      "name"
     ],
     "language": "python",
     "metadata": {},
     "outputs": [
      {
       "metadata": {},
       "output_type": "pyout",
       "prompt_number": 25,
       "text": [
        "'Dave'"
       ]
      }
     ],
     "prompt_number": 25
    },
    {
     "cell_type": "code",
     "collapsed": false,
     "input": [
      "email"
     ],
     "language": "python",
     "metadata": {},
     "outputs": [
      {
       "metadata": {},
       "output_type": "pyout",
       "prompt_number": 26,
       "text": [
        "'dave@example.com'"
       ]
      }
     ],
     "prompt_number": 26
    },
    {
     "cell_type": "code",
     "collapsed": false,
     "input": [
      "phone_numbers"
     ],
     "language": "python",
     "metadata": {},
     "outputs": [
      {
       "metadata": {},
       "output_type": "pyout",
       "prompt_number": 27,
       "text": [
        "['773-555-1212', '847-555-1212']"
       ]
      }
     ],
     "prompt_number": 27
    },
    {
     "cell_type": "code",
     "collapsed": false,
     "input": [
      "def compare_trailing_current(sales_record):\n",
      "    *trailing_qtrs, current_qtr = sales_record\n",
      "    trailing_avg = sum(trailing_qtrs) / len(trailing_qtrs)\n",
      "    return avg_comparison(trailing_avg, current_qtr)"
     ],
     "language": "python",
     "metadata": {},
     "outputs": [],
     "prompt_number": 28
    },
    {
     "cell_type": "code",
     "collapsed": false,
     "input": [
      "*trailing, current = [10, 8, 7, 1, 9, 5, 10, 3]"
     ],
     "language": "python",
     "metadata": {},
     "outputs": [],
     "prompt_number": 29
    },
    {
     "cell_type": "code",
     "collapsed": false,
     "input": [
      "trailing"
     ],
     "language": "python",
     "metadata": {},
     "outputs": [
      {
       "metadata": {},
       "output_type": "pyout",
       "prompt_number": 30,
       "text": [
        "[10, 8, 7, 1, 9, 5, 10]"
       ]
      }
     ],
     "prompt_number": 30
    },
    {
     "cell_type": "code",
     "collapsed": false,
     "input": [
      "current"
     ],
     "language": "python",
     "metadata": {},
     "outputs": [
      {
       "metadata": {},
       "output_type": "pyout",
       "prompt_number": 31,
       "text": [
        "3"
       ]
      }
     ],
     "prompt_number": 31
    },
    {
     "cell_type": "markdown",
     "metadata": {},
     "source": [
      "## \ud1a0\ub860\n",
      "\n",
      "- \uc5b8\ud328\ud0b9 \ubc29\uc2dd\uc740 \uae38\uc774\ub97c \uc54c \uc218 \uc5c6\ub294 \uc21c\ud658\uccb4\uc5d0 \uc548\uc131\ub9de\ucda4\n",
      "- \ub584\ub54c\ub85c \uc21c\ud658\uccb4\uc5d0 \ub4e4\uc5b4\uc788\ub294 \ud328\ud134\uc774\ub098 \uad6c\uc870(\uc608\ub97c \ub4e4\uc5b4 1 \ub4a4\uc5d0 \ub098\uc624\ub294 \uc694\uc18c\ub294 \ubb34\uc870\uac74 \uc804\ud654\ubc88\ud638)\ub97c \uac00\uc9c0\uace0 \uc788\ub294\ub370, \uc774\ub7f4 \ub54c\ub3c4 \ubcc4\ud45c \uad6c\ubb38\uc744 \uc0ac\uc6a9\ud558\uba74 \uac1c\ubc1c\uc790\uc758 \uc218\uace0\ub97c \ub9ce\uc774 \ub35c\uc5b4\uc90c\n",
      "- \uae38\uc774\uac00 \uc77c\uc815\ud558\uc9c0 \uc54a\uc740 \ud29c\ud50c\uc5d0 \uc0ac\uc6a9\ud558\uba74 \uc0c1\ub2f9\ud788 \ud3b8\ub9ac"
     ]
    },
    {
     "cell_type": "code",
     "collapsed": false,
     "input": [
      "records = [\n",
      "('foo', 1, 2),\n",
      "('bar', 'hello'),\n",
      "('foo', 3, 4)\n",
      "]"
     ],
     "language": "python",
     "metadata": {},
     "outputs": [],
     "prompt_number": 32
    },
    {
     "cell_type": "code",
     "collapsed": false,
     "input": [
      "def do_foo(x, y):\n",
      "    print('foo', x, y)"
     ],
     "language": "python",
     "metadata": {},
     "outputs": [],
     "prompt_number": 33
    },
    {
     "cell_type": "code",
     "collapsed": false,
     "input": [
      "def do_bar(s):\n",
      "    print('bar', s)"
     ],
     "language": "python",
     "metadata": {},
     "outputs": [],
     "prompt_number": 34
    },
    {
     "cell_type": "code",
     "collapsed": false,
     "input": [
      "# records\uc5d0\uc11c tag\ube7c\uace0 \ub098\uba38\uc9c0\ub294 *args \ub85c \ubc1b\uace0\n",
      "# \uadf8 \ubc1b\uc740 *args\ub97c \ub2e4\uc2dc \ud568\uc218\uc5d0 *args\ub85c \ub118\uaca8\uc8fc\ub124\n",
      "# \ubc1b\ub294 \ud568\uc218\ub294 x, y\ub85c \ub418\uc5b4\uc788\ub294\uac83 \ud558\ub098\uc640 s\ub85c \ub418\uc5b4 \uc788\ub294\uac83 \ud558\ub098\n",
      "for tag, *args in records:\n",
      "    if tag == 'foo':\n",
      "        do_foo(*args)\n",
      "    elif tag == 'bar':\n",
      "        do_bar(*args)"
     ],
     "language": "python",
     "metadata": {},
     "outputs": [
      {
       "output_type": "stream",
       "stream": "stdout",
       "text": [
        "foo 1 2\n",
        "bar hello\n",
        "foo 3 4\n"
       ]
      }
     ],
     "prompt_number": 37
    },
    {
     "cell_type": "markdown",
     "metadata": {},
     "source": [
      "- \ubb38\uc790\uc5f4 \ud504\ub85c\uc138\uc2f1\uc5d0\ub3c4 \uc0ac\uc6a9"
     ]
    },
    {
     "cell_type": "code",
     "collapsed": false,
     "input": [
      "line = 'nobody:*:-2:-2:Unprivileged user:/var/empty:/usr/bin/false'"
     ],
     "language": "python",
     "metadata": {},
     "outputs": [],
     "prompt_number": 38
    },
    {
     "cell_type": "code",
     "collapsed": false,
     "input": [
      "line.split(':')"
     ],
     "language": "python",
     "metadata": {},
     "outputs": [
      {
       "metadata": {},
       "output_type": "pyout",
       "prompt_number": 39,
       "text": [
        "['nobody',\n",
        " '*',\n",
        " '-2',\n",
        " '-2',\n",
        " 'Unprivileged user',\n",
        " '/var/empty',\n",
        " '/usr/bin/false']"
       ]
      }
     ],
     "prompt_number": 39
    },
    {
     "cell_type": "code",
     "collapsed": false,
     "input": [
      "uname, *fields, homedir, sh = line.split(':')"
     ],
     "language": "python",
     "metadata": {},
     "outputs": [],
     "prompt_number": 40
    },
    {
     "cell_type": "code",
     "collapsed": false,
     "input": [
      "uname"
     ],
     "language": "python",
     "metadata": {},
     "outputs": [
      {
       "metadata": {},
       "output_type": "pyout",
       "prompt_number": 41,
       "text": [
        "'nobody'"
       ]
      }
     ],
     "prompt_number": 41
    },
    {
     "cell_type": "code",
     "collapsed": false,
     "input": [
      "homedir"
     ],
     "language": "python",
     "metadata": {},
     "outputs": [
      {
       "metadata": {},
       "output_type": "pyout",
       "prompt_number": 43,
       "text": [
        "'/var/empty'"
       ]
      }
     ],
     "prompt_number": 43
    },
    {
     "cell_type": "code",
     "collapsed": false,
     "input": [
      "sh"
     ],
     "language": "python",
     "metadata": {},
     "outputs": [
      {
       "metadata": {},
       "output_type": "pyout",
       "prompt_number": 44,
       "text": [
        "'/usr/bin/false'"
       ]
      }
     ],
     "prompt_number": 44
    },
    {
     "cell_type": "markdown",
     "metadata": {},
     "source": [
      "- Unpacking \ud6c4\uc5d0 \ud2b9\uc815\uac12\uc744 \ubc84\ub9ac\uace0 \uc2f6\ub2e4\uba74?"
     ]
    },
    {
     "cell_type": "code",
     "collapsed": false,
     "input": [
      "record = ('ACME', 50, 123.45, (12, 18, 2012))"
     ],
     "language": "python",
     "metadata": {},
     "outputs": [],
     "prompt_number": 45
    },
    {
     "cell_type": "code",
     "collapsed": false,
     "input": [
      "# *fields \ub300\uc2e0\uc5d0 *_\n",
      "name, *_, (*_, year) = record"
     ],
     "language": "python",
     "metadata": {},
     "outputs": [],
     "prompt_number": 46
    },
    {
     "cell_type": "code",
     "collapsed": false,
     "input": [
      "name"
     ],
     "language": "python",
     "metadata": {},
     "outputs": [
      {
       "metadata": {},
       "output_type": "pyout",
       "prompt_number": 47,
       "text": [
        "'ACME'"
       ]
      }
     ],
     "prompt_number": 47
    },
    {
     "cell_type": "code",
     "collapsed": false,
     "input": [
      "year"
     ],
     "language": "python",
     "metadata": {},
     "outputs": [
      {
       "metadata": {},
       "output_type": "pyout",
       "prompt_number": 48,
       "text": [
        "2012"
       ]
      }
     ],
     "prompt_number": 48
    },
    {
     "cell_type": "code",
     "collapsed": false,
     "input": [
      "items = [1, 10, 7, 4, 5, 9]"
     ],
     "language": "python",
     "metadata": {},
     "outputs": [],
     "prompt_number": 50
    },
    {
     "cell_type": "code",
     "collapsed": false,
     "input": [
      "head, *tail = items"
     ],
     "language": "python",
     "metadata": {},
     "outputs": [],
     "prompt_number": 51
    },
    {
     "cell_type": "code",
     "collapsed": false,
     "input": [
      "head"
     ],
     "language": "python",
     "metadata": {},
     "outputs": [
      {
       "metadata": {},
       "output_type": "pyout",
       "prompt_number": 52,
       "text": [
        "1"
       ]
      }
     ],
     "prompt_number": 52
    },
    {
     "cell_type": "code",
     "collapsed": false,
     "input": [
      "tails"
     ],
     "language": "python",
     "metadata": {},
     "outputs": [
      {
       "ename": "NameError",
       "evalue": "name 'tails' is not defined",
       "output_type": "pyerr",
       "traceback": [
        "\u001b[0;31m---------------------------------------------------------------------------\u001b[0m\n\u001b[0;31mNameError\u001b[0m                                 Traceback (most recent call last)",
        "\u001b[0;32m<ipython-input-53-74d54ee14e9f>\u001b[0m in \u001b[0;36m<module>\u001b[0;34m()\u001b[0m\n\u001b[0;32m----> 1\u001b[0;31m \u001b[0mtails\u001b[0m\u001b[0;34m\u001b[0m\u001b[0m\n\u001b[0m",
        "\u001b[0;31mNameError\u001b[0m: name 'tails' is not defined"
       ]
      }
     ],
     "prompt_number": 53
    },
    {
     "cell_type": "code",
     "collapsed": false,
     "input": [
      "def sum2(items):\n",
      "    head, *tail = items\n",
      "    return head + sum2(tail) if tail else head"
     ],
     "language": "python",
     "metadata": {},
     "outputs": [],
     "prompt_number": 54
    },
    {
     "cell_type": "code",
     "collapsed": false,
     "input": [
      "sum2(items)"
     ],
     "language": "python",
     "metadata": {},
     "outputs": [
      {
       "metadata": {},
       "output_type": "pyout",
       "prompt_number": 55,
       "text": [
        "36"
       ]
      }
     ],
     "prompt_number": 55
    },
    {
     "cell_type": "code",
     "collapsed": false,
     "input": [
      "sum(items)"
     ],
     "language": "python",
     "metadata": {},
     "outputs": [
      {
       "metadata": {},
       "output_type": "pyout",
       "prompt_number": 56,
       "text": [
        "36"
       ]
      }
     ],
     "prompt_number": 56
    },
    {
     "cell_type": "markdown",
     "metadata": {},
     "source": [
      "- \ud558\uc9c0\ub9cc \ud30c\uc774\uc36c\uc758 [\uc7ac\uadc0\uc801 \uc81c\uc57d](http://ask.python.kr/question/68189/%EC%9E%AC%EA%B7%80%EC%A0%81-%ED%95%A8%EC%88%98%EC%97%90-%ED%95%9C%EA%B3%84%EA%B0%80-%EC%9E%88%EB%82%98%EC%9A%94/)\uc774 \uc874\uc7ac\ud558\ubbc0\ub85c \ub9c8\uc9c0\ub9c9\uc5d0 \uc608\ub85c \ub4e0 \ud568\uc218\ub294 \ud559\ubb38\uc801 \ud638\uae30\uc2ec \uc774\uc678\ub294 \uc4f8\ubaa8\uc5c6\uc74c\n",
      "\n",
      "#### \ud30c\uc774\uc36c\uc758 \uc7ac\uadc0\uc801 \uc7ac\uc57d\n",
      "\n",
      "- \uc0ac\uc2e4 \ud329\ud1a0\ub9ac\uc5bc \uc815\ub3c4\uc758 \ucf54\ub4dc\ub77c\uba74 C\uc5b8\uc5b4\uc5d0\uc11c\uc758 \uc81c\ud55c\uc740 \uadf8\ub807\uac8c \ud06c\uc9c0 \uc54a\uc2b5\ub2c8\ub2e4.\n",
      "\uc5b4\ub5a4 \uc81c\ud55c\uc774 \uac78\ub9ac\ub0d0 \ud558\uba74 \uc6b4\uc601\uccb4\uc81c\ub9c8\ub2e4 \uad6c\uc870\ub294 \uc880 \ub2e4\ub97c \uc218\ub294 \uc788\uc9c0\ub9cc,\n",
      "C\uc5d0\uc11c \uc2a4\ud0dd\uc758 \ud06c\uae30\ub294 \uc4f0\ub808\ub4dc \uc548\uc5d0\uc11c \uc791\uc740 \uac83\uc740 64kB, \ud070 \uac83\uc740 2MB\uc815\ub3c4 \ub429\ub2c8\ub2e4.\n",
      "\uac70\uae30\uc11c \ud329\ud1a0\ub9ac\uc5bc \ud568\uc218\ub294 \uc9c0\uc5ed\ubcc0\uc218\ub97c \uc804\ud600 \uc548 \uc4f0\uace0\ub3c4 \uad6c\ud604\ud560 \uc218 \uc788\uae30 \ub584\ubb38\uc5d0\n",
      "\uc9c0\uc5ed\ubcc0\uc218\ub294 \uc2a4\ud0dd\ud3ec\uc778\ud130 \uc99d\uac00\uc5d0 \uc601\ud5a5\uc744 \uc8fc\uc9c0 \uc54a\uace0, \uc778\uc218 \uc804\ub2ec\uacfc \ub9ac\ud134\uac12, \uc0c1\ud0dc\uac00\n",
      "\uc800\uc7a5\ub418\ub294 \ub808\uc9c0\uc2a4\ud130\uc758 \uc800\uc7a5 \ub4f1 \ub54c\ubb38\uc5d0 \uc544\ud0a4\ud14d\ucc98\ub9c8\ub2e4 \ub2e4\ub974\uc9c0\ub9cc OS X\uc5d0\uc11c\ub294\n",
      "48\ubc14\uc774\ud2b8 \uc815\ub3c4 \ub2e4\ub978 \uacf3\uc5d0\uc11c\ub3c4 \ub300\ub7b5 8~128\ubc14\uc774\ud2b8 \uc0ac\uc774\ub85c \uc4f0\uac8c \ub429\ub2c8\ub2e4.\n",
      "\ub530\ub77c\uc11c, \uacc4\uc0b0\ud574\ubcf4\uba74 \uc2a4\ud0dd\uc774 \ub118\uce58\uc9c0 \uc54a\uc73c\uba74\uc11c \uc7ac\uadc0\ud638\ucd9c\uc744 \ud560 \uc218 \uc788\ub294 \uac83\uc740\n",
      "\ub300\ub7b5 10000~100000\ubc88 \ub0b4\uc678\ub77c\uace0 \ubcfc \uc218 \uc788\uc2b5\ub2c8\ub2e4.\n",
      "\n",
      "- \ud30c\uc774\uc36c\ub3c4 C\ud504\ub85c\uadf8\ub7a8\uc774\uae30 \ub54c\ubb38\uc5d0 \uc774\ub7f0 \uc2a4\ud0dd \ud06c\uae30\uc758 \uc81c\uc57d\uc744 \ubc1b\ub294\ub370, \ud30c\uc774\uc36c\n",
      "\uc778\ud130\ud504\ub9ac\ud130\ub294 \ud329\ud1a0\ub9ac\uc5bc \ud568\uc218\ubcf4\ub2e4 \ud6e8\uc52c \uc9c0\uc5ed\ud568\uc218\ub3c4 \ub9ce\uace0, \ud55c \ubc88 \ud638\ucd9c \ub54c \ud55c \ud568\uc218\ub9cc\n",
      "\uac70\uce58\ub294 \uac83\uc774 \uc544\ub2c8\ub77c\uc11c, \ud329\ud1a0\ub9ac\uc5bc \ud568\uc218\ubcf4\ub2e4 \ud55c \ubc88 \uc7ac\uadc0 \ud638\ucd9c\uc5d0 \uc4f0\ub294 \uc2a4\ud0dd\uc774 \ub9ce\uc774\n",
      "\ub298\uc5b4\ub0a9\ub2c8\ub2e4. \uadf8\ub798\uc11c \ubcf4\ud1b5 \uc791\uc740 \ub370\uc11c\ub294 500\ud68c, \ub9ce\uc740 \ub370\uc11c\ub294 5000\ud68c \uc815\ub3c4 \uc7ac\uadc0\ud638\ucd9c\uc744\n",
      "\ud560 \uc218 \uc788\uace0, \uadf8 \uc774\uc0c1 \ub418\uba74 \uc2a4\ud0dd \uc624\ubc84\ud50c\ub85c\uc6b0\ub85c \ud30c\uc774\uc36c VM \uc790\uccb4\uac00 \uc8fd\uc5b4\ubc84\ub9bd\ub2c8\ub2e4.\n",
      "\uadf8 \uac83\uc744 \ub9c9\uc73c\ub824\uace0 \ud30c\uc774\uc36c\uc5d0\uc11c\ub294 \uc7ac\uadc0\ud638\ucd9c\uc744 \ud30c\uc774\uc36c \ub0b4\ubd80\uc5d0\uc11c \uad00\ub9ac\ud558\uace0 \uc788\uc2b5\ub2c8\ub2e4.\n",
      "\n",
      "- \uc2a4\ud0dd\ub9ac\uc2a4 \ud30c\uc774\uc36c\uc740 \uc774\ub7f0 \ud30c\uc774\uc36c \ud568\uc218\uac00 \ud30c\uc774\uc36c \ud568\uc218\ub97c \ubd80\ub974\ub294 \uacfc\uc815\uc744 \uc7ac\uadc0\ud568\uc218\ub85c\n",
      "\ucc98\ub9ac\ud558\uc9c0 \uc54a\uace0 \uba54\ubaa8\ub9ac\ub97c \ud799\uc5d0 \ud560\ub2f9\ud574\uc11c \uc501\ub2c8\ub2e4. \uadf8\ub798\uc11c \uc2dc\uc2a4\ud15c \uc2a4\ud0dd \ud06c\uae30 \uc81c\uc57d\uc744\n",
      "\ubc1b\uc9c0 \uc54a\uac8c \ub418\ub294 \ub355\uc5d0 \uba54\ubaa8\ub9ac\uac00 \ud5c8\uc6a9\ud558\ub294 \ud55c \ubb34\ud55c\ud788 \uc7ac\uadc0\ud638\ucd9c\uc744 \ud560 \uc218 \uc788\uc2b5\ub2c8\ub2e4.\n",
      "http://www.stackless.com/"
     ]
    },
    {
     "cell_type": "markdown",
     "metadata": {},
     "source": [
      "## 1.3 \ub9c8\uc9c0\ub9c9 N\uac1c \uc544\uc774\ud15c \uc720\uc9c0\n",
      "\n",
      "### \ubb38\uc81c\n",
      "\n",
      "- \uc21c\ud658\uc774\ub098 \ud504\ub85c\uc138\uc2f1 \uc911 \ub9c8\uc9c0\ub9c9\uc73c\ub85c \ubc1c\uacac\ud55c N\uac1c\uc758 \uc544\uc774\ud15c\uc744 \uc720\uc9c0\ud558\uace0 \uc2f6\ub2e4.\n",
      "\n",
      "### \ud574\uacb0\n",
      "\n",
      "- \uc774\uc640 \uac19\uc740 \uc6a9\ub3c4\ub85c collections.deque"
     ]
    },
    {
     "cell_type": "code",
     "collapsed": false,
     "input": [
      "from collections import deque\n",
      "\n",
      "def search(lines, pattern, history=5):\n",
      "    previous_lines = deque(maxlen=history)\n",
      "    for line in lines:\n",
      "        if pattern in line:\n",
      "            yield line, previous_lines\n",
      "        previous_lines.append(line)\n",
      "        \n",
      "if __name__ == '__main__':\n",
      "    with open('README.md') as f:\n",
      "        for line, prevlines in search(f, 'Python', 5):\n",
      "            for pline in prevlines:\n",
      "                print(pline, end='')\n",
      "            print(line, end='')\n",
      "            print('-' * 20)"
     ],
     "language": "python",
     "metadata": {},
     "outputs": [
      {
       "output_type": "stream",
       "stream": "stdout",
       "text": [
        "# Python Cookbook - Third Edition\n",
        "--------------------\n",
        "# Python Cookbook - Third Edition\n",
        "\n",
        "![Python cookbook](http://image.yes24.com/goods/11949491/L)\n",
        "--------------------\n",
        "- [Source Code](https://github.com/dabeaz/python-cookbook)\n",
        "\n",
        "## \uc774 \ucc45\uc744 \uc120\ud0dd\ud55c \uc774\uc720\n",
        "\n",
        "- \uae30\ubcf8 \uc11c\uc801\uc744 \ubcf4\uae30\uc5d0\ub294 \ub108\ubb34 \uc9c0\ub8e8\ud55c \uc0ac\ub78c\ub4e4\uc744 \uc704\ud55c \ucc45\n",
        "- Python \uc911\uc218\uc5d0\uac8c \ud544\uc694\ud55c \ucc45\n",
        "--------------------\n",
        "## \uc774 \ucc45\uc744 \uc120\ud0dd\ud55c \uc774\uc720\n",
        "\n",
        "- \uae30\ubcf8 \uc11c\uc801\uc744 \ubcf4\uae30\uc5d0\ub294 \ub108\ubb34 \uc9c0\ub8e8\ud55c \uc0ac\ub78c\ub4e4\uc744 \uc704\ud55c \ucc45\n",
        "- Python \uc911\uc218\uc5d0\uac8c \ud544\uc694\ud55c \ucc45\n",
        "- \uc720\uba85\ud55c \ub77c\uc774\ube0c\ub7ec\ub9ac\ub4e4\uc744 \uc0b4\ud3b4\ubcf4\ub294\ub370 \uba87 \uac00\uc9c0 \uc775\uc219\ud558\uc9c0 \uc54a\uc740 \ubb38\ubc95\ub4e4\uc774 \uc874\uc7ac\ud588\ub2e4. \ub098\ub984 \ud30c\uc774\uc36c \uacf5\ubd80 \ub9ce\uc774\ud588\ub2e4\uace0 \uc0dd\uac01\ud588\ub294\ub370 \uc774\uac83\ub4e4\uc744 \uc774\ud574\ud560 \uc218\uac00 \uc5c6\uc73c\ub2c8 \uc9dc\uc99d\uc774 \ub0ac\ub294\ub370 \ud55c\uae00\ucc45\uc774 \ub098\uc654\ub2e4\uae38\ub798 \ubc14\ub85c \uad6c\ub9e4!\n",
        "- Python3\ub85c \uc791\uc131\ub418\uc11c \uc74c..? \ub09c Python 2.7.2\n",
        "--------------------\n",
        "- Python3\ub85c \uc791\uc131\ub418\uc11c \uc74c..? \ub09c Python 2.7.2\n",
        "- \uc548\ub418\ub294\uac70 \uc788\uc73c\uba74 [stackoverflow](www.stackoverflow.com/) \ucc3e\uc544\ubcf4\uba74\uc11c \ud5e4\uccd0\ub098\uac00\uc790!\n",
        "\n",
        "## \uc774 \ucc45\uc744 \uc815\ub9ac\ud558\uba74\uc11c \ub4e4\uc5c8\ub358 \uc0dd\uac01\n",
        "\n",
        "## IPython\uc73c\ub85c \uc815\ub9ac\ud55c \ub0b4\uc6a9\n",
        "--------------------\n"
       ]
      }
     ],
     "prompt_number": 63
    },
    {
     "cell_type": "code",
     "collapsed": false,
     "input": [
      "help(deque)"
     ],
     "language": "python",
     "metadata": {},
     "outputs": [
      {
       "output_type": "stream",
       "stream": "stdout",
       "text": [
        "Help on class deque in module collections:\n",
        "\n",
        "class deque(builtins.object)\n",
        " |  deque([iterable[, maxlen]]) --> deque object\n",
        " |  \n",
        " |  Build an ordered collection with optimized access from its endpoints.\n",
        " |  \n",
        " |  Methods defined here:\n",
        " |  \n",
        " |  __copy__(...)\n",
        " |      Return a shallow copy of a deque.\n",
        " |  \n",
        " |  __delitem__(self, key, /)\n",
        " |      Delete self[key].\n",
        " |  \n",
        " |  __eq__(self, value, /)\n",
        " |      Return self==value.\n",
        " |  \n",
        " |  __ge__(self, value, /)\n",
        " |      Return self>=value.\n",
        " |  \n",
        " |  __getattribute__(self, name, /)\n",
        " |      Return getattr(self, name).\n",
        " |  \n",
        " |  __getitem__(self, key, /)\n",
        " |      Return self[key].\n",
        " |  \n",
        " |  __gt__(self, value, /)\n",
        " |      Return self>value.\n",
        " |  \n",
        " |  __iadd__(self, value, /)\n",
        " |      Implement self+=value.\n",
        " |  \n",
        " |  __init__(self, /, *args, **kwargs)\n",
        " |      Initialize self.  See help(type(self)) for accurate signature.\n",
        " |  \n",
        " |  __iter__(self, /)\n",
        " |      Implement iter(self).\n",
        " |  \n",
        " |  __le__(self, value, /)\n",
        " |      Return self<=value.\n",
        " |  \n",
        " |  __len__(self, /)\n",
        " |      Return len(self).\n",
        " |  \n",
        " |  __lt__(self, value, /)\n",
        " |      Return self<value.\n",
        " |  \n",
        " |  __ne__(self, value, /)\n",
        " |      Return self!=value.\n",
        " |  \n",
        " |  __new__(*args, **kwargs) from builtins.type\n",
        " |      Create and return a new object.  See help(type) for accurate signature.\n",
        " |  \n",
        " |  __reduce__(...)\n",
        " |      Return state information for pickling.\n",
        " |  \n",
        " |  __repr__(self, /)\n",
        " |      Return repr(self).\n",
        " |  \n",
        " |  __reversed__(...)\n",
        " |      D.__reversed__() -- return a reverse iterator over the deque\n",
        " |  \n",
        " |  __setitem__(self, key, value, /)\n",
        " |      Set self[key] to value.\n",
        " |  \n",
        " |  __sizeof__(...)\n",
        " |      D.__sizeof__() -- size of D in memory, in bytes\n",
        " |  \n",
        " |  append(...)\n",
        " |      Add an element to the right side of the deque.\n",
        " |  \n",
        " |  appendleft(...)\n",
        " |      Add an element to the left side of the deque.\n",
        " |  \n",
        " |  clear(...)\n",
        " |      Remove all elements from the deque.\n",
        " |  \n",
        " |  count(...)\n",
        " |      D.count(value) -> integer -- return number of occurrences of value\n",
        " |  \n",
        " |  extend(...)\n",
        " |      Extend the right side of the deque with elements from the iterable\n",
        " |  \n",
        " |  extendleft(...)\n",
        " |      Extend the left side of the deque with elements from the iterable\n",
        " |  \n",
        " |  pop(...)\n",
        " |      Remove and return the rightmost element.\n",
        " |  \n",
        " |  popleft(...)\n",
        " |      Remove and return the leftmost element.\n",
        " |  \n",
        " |  remove(...)\n",
        " |      D.remove(value) -- remove first occurrence of value.\n",
        " |  \n",
        " |  reverse(...)\n",
        " |      D.reverse() -- reverse *IN PLACE*\n",
        " |  \n",
        " |  rotate(...)\n",
        " |      Rotate the deque n steps to the right (default n=1).  If n is negative, rotates left.\n",
        " |  \n",
        " |  ----------------------------------------------------------------------\n",
        " |  Data descriptors defined here:\n",
        " |  \n",
        " |  maxlen\n",
        " |      maximum size of a deque or None if unbounded\n",
        " |  \n",
        " |  ----------------------------------------------------------------------\n",
        " |  Data and other attributes defined here:\n",
        " |  \n",
        " |  __hash__ = None\n",
        "\n"
       ]
      }
     ],
     "prompt_number": 65
    },
    {
     "cell_type": "markdown",
     "metadata": {},
     "source": [
      "### \ud1a0\ub860\n",
      "\n",
      "- \uc544\uc774\ud15c\uc744 \ucc3e\ub294 \ucf54\ub4dc\ub97c \uc791\uc131\ud560 \ub54c, \uc8fc\ub85c yield\ub97c \ud3ec\ud568\ud55c \uc81c\ub108\ub808\uc774\ud130 \ud568\uc218\ub97c \ub9cc\ub4e4\uace4 \ud568\n",
      "- \uc774\ub807\uac8c \ud558\uba74 \uac80\uc0c9 \uacfc\uc815\uacfc \uacb0\uacfc\ub97c \uc0ac\uc6a9\ud558\ub294 \ucf54\ub4dc\ub97c \ubd84\ub9ac \uac00\ub2a5\n",
      "- \uc81c\ub108\ub808\uc774\ud130\uac00 \ubb34\uc5c7\uc778\uc9c0 \ub808\uc2dc\ud53c 4.3 \ucc38\uace0\n",
      "\n",
      "\n",
      "- dque(maxlen=N)\uc73c\ub85c \uace0\uc815 \ud06c\uae30 \ud050\ub97c \uc0dd\uc131\n",
      "- \ud050\uac00 \uaf49 \ucc2c \uc0c1\ud0dc\uc5d0\uc11c \uc0c8\ub85c\uc6b4 \uc544\uc774\ud15c\uc744 \ub123\uc73c\uba74 \uac00\uc7a5 \ub9c8\uc9c0\ub9c9 \uc544\uc774\ud15c\uc774 \uc790\ub3d9\uc73c\ub85c \uc0ad\uc81c\ub428"
     ]
    },
    {
     "cell_type": "code",
     "collapsed": false,
     "input": [
      "q = deque(maxlen=3)"
     ],
     "language": "python",
     "metadata": {},
     "outputs": [],
     "prompt_number": 66
    },
    {
     "cell_type": "code",
     "collapsed": false,
     "input": [
      "q.append(1)"
     ],
     "language": "python",
     "metadata": {},
     "outputs": [],
     "prompt_number": 68
    },
    {
     "cell_type": "code",
     "collapsed": false,
     "input": [
      "q.append(2)"
     ],
     "language": "python",
     "metadata": {},
     "outputs": [],
     "prompt_number": 69
    },
    {
     "cell_type": "code",
     "collapsed": false,
     "input": [
      "q.append(3)"
     ],
     "language": "python",
     "metadata": {},
     "outputs": [],
     "prompt_number": 70
    },
    {
     "cell_type": "code",
     "collapsed": false,
     "input": [
      "q"
     ],
     "language": "python",
     "metadata": {},
     "outputs": [
      {
       "metadata": {},
       "output_type": "pyout",
       "prompt_number": 71,
       "text": [
        "deque([1, 2, 3], maxlen=3)"
       ]
      }
     ],
     "prompt_number": 71
    },
    {
     "cell_type": "code",
     "collapsed": false,
     "input": [
      "q.append(4)"
     ],
     "language": "python",
     "metadata": {},
     "outputs": [],
     "prompt_number": 72
    },
    {
     "cell_type": "code",
     "collapsed": false,
     "input": [
      "q"
     ],
     "language": "python",
     "metadata": {},
     "outputs": [
      {
       "metadata": {},
       "output_type": "pyout",
       "prompt_number": 73,
       "text": [
        "deque([2, 3, 4], maxlen=3)"
       ]
      }
     ],
     "prompt_number": 73
    },
    {
     "cell_type": "code",
     "collapsed": false,
     "input": [
      "q.append(5)"
     ],
     "language": "python",
     "metadata": {},
     "outputs": [],
     "prompt_number": 74
    },
    {
     "cell_type": "code",
     "collapsed": false,
     "input": [
      "q"
     ],
     "language": "python",
     "metadata": {},
     "outputs": [
      {
       "metadata": {},
       "output_type": "pyout",
       "prompt_number": 75,
       "text": [
        "deque([3, 4, 5], maxlen=3)"
       ]
      }
     ],
     "prompt_number": 75
    },
    {
     "cell_type": "markdown",
     "metadata": {},
     "source": [
      "- \ub9ac\uc2a4\ud2b8\ub97c \uc0ac\uc6a9\ud574\uc11c \uc774\ub7f0 \uacfc\uc815\uc744 \uc218\ub3d9\uc73c\ub85c \ucc98\ub9ac\ud560 \uc218\ub3c4 \uc788\uc9c0\ub9cc, \ud050\ub97c \uc0ac\uc6a9\ud558\ub294 \uac83\uc774 \ub354 \ube60\ub974\uace0 \ubcf4\uae30\ub3c4 \uc88b\uc74c\n",
      "- \ud050 \uad6c\uc870\uccb4\uac00 \ud544\uc694\ud560 \ub54c deque\ub97c \uc0ac\uc6a9 \uac00\ub2a5\n",
      "- \ucd5c\ub300 \ud06c\uae30\ub97c \uc9c0\uc815\ud558\uc9c0 \uc54a\uc73c\uba74 \uc81c\ud55c\uc5c6\uc774 \uc591\ucabd\uc5d0 \uc544\uc774\ud15c\uc744 \ub123\uac70\ub098 \ube7c\ub294 \uc791\uc5c5 \uac00\ub2a5"
     ]
    },
    {
     "cell_type": "code",
     "collapsed": false,
     "input": [
      "q = deque()"
     ],
     "language": "python",
     "metadata": {},
     "outputs": [],
     "prompt_number": 76
    },
    {
     "cell_type": "code",
     "collapsed": false,
     "input": [
      "q.append(1)"
     ],
     "language": "python",
     "metadata": {},
     "outputs": [],
     "prompt_number": 77
    },
    {
     "cell_type": "code",
     "collapsed": false,
     "input": [
      "q.append(2)"
     ],
     "language": "python",
     "metadata": {},
     "outputs": [],
     "prompt_number": 78
    },
    {
     "cell_type": "code",
     "collapsed": false,
     "input": [
      "q.append(3)"
     ],
     "language": "python",
     "metadata": {},
     "outputs": [],
     "prompt_number": 79
    },
    {
     "cell_type": "code",
     "collapsed": false,
     "input": [
      "q"
     ],
     "language": "python",
     "metadata": {},
     "outputs": [
      {
       "metadata": {},
       "output_type": "pyout",
       "prompt_number": 80,
       "text": [
        "deque([1, 2, 3])"
       ]
      }
     ],
     "prompt_number": 80
    },
    {
     "cell_type": "code",
     "collapsed": false,
     "input": [
      "q.appendleft(4)"
     ],
     "language": "python",
     "metadata": {},
     "outputs": [],
     "prompt_number": 81
    },
    {
     "cell_type": "code",
     "collapsed": false,
     "input": [
      "q"
     ],
     "language": "python",
     "metadata": {},
     "outputs": [
      {
       "metadata": {},
       "output_type": "pyout",
       "prompt_number": 82,
       "text": [
        "deque([4, 1, 2, 3])"
       ]
      }
     ],
     "prompt_number": 82
    },
    {
     "cell_type": "code",
     "collapsed": false,
     "input": [
      "q.pop()"
     ],
     "language": "python",
     "metadata": {},
     "outputs": [
      {
       "metadata": {},
       "output_type": "pyout",
       "prompt_number": 83,
       "text": [
        "3"
       ]
      }
     ],
     "prompt_number": 83
    },
    {
     "cell_type": "code",
     "collapsed": false,
     "input": [
      "q"
     ],
     "language": "python",
     "metadata": {},
     "outputs": [
      {
       "metadata": {},
       "output_type": "pyout",
       "prompt_number": 84,
       "text": [
        "deque([4, 1, 2])"
       ]
      }
     ],
     "prompt_number": 84
    },
    {
     "cell_type": "code",
     "collapsed": false,
     "input": [
      "q.popleft()"
     ],
     "language": "python",
     "metadata": {},
     "outputs": [
      {
       "metadata": {},
       "output_type": "pyout",
       "prompt_number": 85,
       "text": [
        "4"
       ]
      }
     ],
     "prompt_number": 85
    },
    {
     "cell_type": "code",
     "collapsed": false,
     "input": [
      "q"
     ],
     "language": "python",
     "metadata": {},
     "outputs": [
      {
       "metadata": {},
       "output_type": "pyout",
       "prompt_number": 86,
       "text": [
        "deque([1, 2])"
       ]
      }
     ],
     "prompt_number": 86
    },
    {
     "cell_type": "markdown",
     "metadata": {},
     "source": [
      "## 1.4 N \uc544\uc774\ud15c\uc758 \ucd5c\ub300 \ud639\uc740 \ucd5c\uc18c\uac12 \ucc3e\uae30\n",
      "\n",
      "### \ubb38\uc81c\n",
      "\n",
      "- \uceec\ub809\uc158 \ub0b4\ubd80\uc5d0\uc11c \uac00\uc7a5 \ud06c\uac70\ub098 \uc791\uc740 N\uac1c\uc758 \uc544\uc774\ud15c\uc744 \ucc3e\uc544\uc57c \ud55c\ub2e4.\n",
      "\n",
      "### \ud574\uacb0\n",
      "\n",
      "- heapq \ubaa8\ub4c8\uc5d0\ub294 \uc774 \uc6a9\ub3c4\uc5d0 \uc801\ud569\ud55c nlargest()\uc640 nsmallest() \ub450 \ud568\uc218\uac00 \uc788\ub2e4.\n",
      "\n",
      "-----\n",
      "\n",
      "- \uc640 \uad49\uc7a5\ud788 \ud3b8\ud558\ub124\n",
      "- \ub0b4\uac00 \ub9cc\ub4e0\ub2e4\uace0 \uc0bd\uc9c8 \uc548\ud574\ub3c4 \uadf8\ub0e5 \uac00\uc838\ub2e4 \uc4f0\uba74 \ub418\uaca0\ub124\n",
      "- \uc774 \ub9ac\uc2a4\ud2b8 \uc911\uc5d0\uc11c \uac00\uc7a5 \ud070 or \uc791\uc740 3\uac1c\ub97c \uac00\uc838\uc624\ub824\uace0 \ud560\ub54c \uaf64 \ub418\uc796\uc544.\n",
      "-----"
     ]
    },
    {
     "cell_type": "code",
     "collapsed": false,
     "input": [
      "import heapq\n",
      "\n",
      "nums = [1, 8, 2, 23, 7, -4, 18, 23, 42, 37, 2]\n",
      "print(heapq.nlargest(3, nums))\n",
      "print(heapq.nsmallest(3, nums))"
     ],
     "language": "python",
     "metadata": {},
     "outputs": [
      {
       "output_type": "stream",
       "stream": "stdout",
       "text": [
        "[42, 37, 23]\n",
        "[-4, 1, 2]\n"
       ]
      }
     ],
     "prompt_number": 88
    },
    {
     "cell_type": "code",
     "collapsed": false,
     "input": [
      "portfolio = [\n",
      "    {'name': 'IBM', 'shares': 100, 'price': 91.1},\n",
      "    {'name': 'AAPL', 'shares': 50, 'price': 5432.22},\n",
      "    {'name': 'FB', 'shares': 200, 'price': 21.09},\n",
      "    {'name': 'HPQ', 'shares': 35, 'price': 31.75},\n",
      "    {'name': 'YAHOO', 'shares': 45, 'price': 16.35},\n",
      "    {'name': 'ACME', 'shares': 75, 'price': 115.65}\n",
      "]"
     ],
     "language": "python",
     "metadata": {},
     "outputs": [],
     "prompt_number": 89
    },
    {
     "cell_type": "markdown",
     "metadata": {},
     "source": [
      "- key\uc5d0 \uc815\ub82c\ud574\uc8fc\uace0 \uc2f6\uc740\uac12\uc744 \ub118\uaca8\uc8fc\uba74 \ub41c\ub2e4. \n",
      "- lambda \ud615\uc2dd\uc73c\ub85c"
     ]
    },
    {
     "cell_type": "code",
     "collapsed": false,
     "input": [
      "cheap = heapq.nsmallest(3, portfolio, key=lambda s: s['price'])\n",
      "cheap"
     ],
     "language": "python",
     "metadata": {},
     "outputs": [
      {
       "metadata": {},
       "output_type": "pyout",
       "prompt_number": 91,
       "text": [
        "[{'price': 16.35, 'shares': 45, 'name': 'YAHOO'},\n",
        " {'price': 21.09, 'shares': 200, 'name': 'FB'},\n",
        " {'price': 31.75, 'shares': 35, 'name': 'HPQ'}]"
       ]
      }
     ],
     "prompt_number": 91
    },
    {
     "cell_type": "code",
     "collapsed": false,
     "input": [
      "expensive = heapq.nlargest(3, portfolio, key=lambda s: s['price'])\n",
      "expensive"
     ],
     "language": "python",
     "metadata": {},
     "outputs": [
      {
       "metadata": {},
       "output_type": "pyout",
       "prompt_number": 92,
       "text": [
        "[{'price': 5432.22, 'shares': 50, 'name': 'AAPL'},\n",
        " {'price': 115.65, 'shares': 75, 'name': 'ACME'},\n",
        " {'price': 91.1, 'shares': 100, 'name': 'IBM'}]"
       ]
      }
     ],
     "prompt_number": 92
    },
    {
     "cell_type": "code",
     "collapsed": false,
     "input": [
      "cheap2 = heapq.nsmallest(3, portfolio, key=lambda s: s['shares'])\n",
      "cheap2"
     ],
     "language": "python",
     "metadata": {},
     "outputs": [
      {
       "metadata": {},
       "output_type": "pyout",
       "prompt_number": 93,
       "text": [
        "[{'price': 31.75, 'shares': 35, 'name': 'HPQ'},\n",
        " {'price': 16.35, 'shares': 45, 'name': 'YAHOO'},\n",
        " {'price': 5432.22, 'shares': 50, 'name': 'AAPL'}]"
       ]
      }
     ],
     "prompt_number": 93
    },
    {
     "cell_type": "code",
     "collapsed": false,
     "input": [
      "# sorted\ub97c \ud65c\uc6a9\ud55c \uc5f0\uc0b0\n",
      "# \ub611\uac19\uae30\ub294 \ud55c\ub370 nsmallest\uac00 \ud6e8\uc52c \uac00\ub3c5\uc131\uc774 \uc88b\ub2e4.\n",
      "sorted(portfolio, key=lambda s: s['shares'])[:3]"
     ],
     "language": "python",
     "metadata": {},
     "outputs": [
      {
       "metadata": {},
       "output_type": "pyout",
       "prompt_number": 106,
       "text": [
        "[{'price': 31.75, 'shares': 35, 'name': 'HPQ'},\n",
        " {'price': 16.35, 'shares': 45, 'name': 'YAHOO'},\n",
        " {'price': 5432.22, 'shares': 50, 'name': 'AAPL'}]"
       ]
      }
     ],
     "prompt_number": 106
    },
    {
     "cell_type": "code",
     "collapsed": false,
     "input": [
      "expensive2 = heapq.nlargest(3, portfolio, key=lambda s: s['shares'])\n",
      "expensive2"
     ],
     "language": "python",
     "metadata": {},
     "outputs": [
      {
       "metadata": {},
       "output_type": "pyout",
       "prompt_number": 96,
       "text": [
        "[{'price': 21.09, 'shares': 200, 'name': 'FB'},\n",
        " {'price': 91.1, 'shares': 100, 'name': 'IBM'},\n",
        " {'price': 115.65, 'shares': 75, 'name': 'ACME'}]"
       ]
      }
     ],
     "prompt_number": 96
    },
    {
     "cell_type": "code",
     "collapsed": false,
     "input": [
      "sorted(portfolio, key=lambda s: s['shares'], reverse=True)[:3]"
     ],
     "language": "python",
     "metadata": {},
     "outputs": [
      {
       "metadata": {},
       "output_type": "pyout",
       "prompt_number": 105,
       "text": [
        "[{'price': 21.09, 'shares': 200, 'name': 'FB'},\n",
        " {'price': 91.1, 'shares': 100, 'name': 'IBM'},\n",
        " {'price': 115.65, 'shares': 75, 'name': 'ACME'}]"
       ]
      }
     ],
     "prompt_number": 105
    },
    {
     "cell_type": "code",
     "collapsed": false,
     "input": [
      "help(heapq.nlargest)"
     ],
     "language": "python",
     "metadata": {},
     "outputs": [
      {
       "output_type": "stream",
       "stream": "stdout",
       "text": [
        "Help on function nlargest in module heapq:\n",
        "\n",
        "nlargest(n, iterable, key=None)\n",
        "    Find the n largest elements in a dataset.\n",
        "    \n",
        "    Equivalent to:  sorted(iterable, key=key, reverse=True)[:n]\n",
        "\n"
       ]
      }
     ],
     "prompt_number": 97
    },
    {
     "cell_type": "markdown",
     "metadata": {},
     "source": [
      "### \ud1a0\ub860\n",
      "\n",
      "- \uac00\uc7a5 \uc791\uac70\ub098 \ud070 N\uac1c\uc758 \uc544\uc774\ud15c\uc744 \ucc3e\uace0 \uc788\uace0 N\uc774 \uceec\ub809\uc158 \uc804\uccb4 \ud06c\uae30\ubcf4\ub2e4 \uc791\ub2e4\uba74 \uc55e\uc5d0 \ub098\uc628 \ud568\uc218\uac00 \ub354 \ub098\uc740 \uc131\ub2a5\uc744 \uc81c\uacf5\ud55c\ub2e4.\n",
      "\n",
      "\n",
      "- \ub0b4\ubd80 \uad6c\uc870"
     ]
    },
    {
     "cell_type": "code",
     "collapsed": false,
     "input": [
      "nums = [1, 8, 2, 23, 7, -4, 18, 23, 42, 37, 2]"
     ],
     "language": "python",
     "metadata": {},
     "outputs": [],
     "prompt_number": 107
    },
    {
     "cell_type": "code",
     "collapsed": false,
     "input": [
      "import heapq"
     ],
     "language": "python",
     "metadata": {},
     "outputs": [],
     "prompt_number": 108
    },
    {
     "cell_type": "code",
     "collapsed": false,
     "input": [
      "heap = list(nums)\n",
      "heap"
     ],
     "language": "python",
     "metadata": {},
     "outputs": [
      {
       "metadata": {},
       "output_type": "pyout",
       "prompt_number": 109,
       "text": [
        "[1, 8, 2, 23, 7, -4, 18, 23, 42, 37, 2]"
       ]
      }
     ],
     "prompt_number": 109
    },
    {
     "cell_type": "code",
     "collapsed": false,
     "input": [
      "heapq.heapify(heap)"
     ],
     "language": "python",
     "metadata": {},
     "outputs": [],
     "prompt_number": 110
    },
    {
     "cell_type": "code",
     "collapsed": false,
     "input": [
      "help(heapq.heapify)"
     ],
     "language": "python",
     "metadata": {},
     "outputs": [
      {
       "output_type": "stream",
       "stream": "stdout",
       "text": [
        "Help on built-in function heapify in module _heapq:\n",
        "\n",
        "heapify(...)\n",
        "    Transform list into a heap, in-place, in O(len(heap)) time.\n",
        "\n"
       ]
      }
     ],
     "prompt_number": 123
    },
    {
     "cell_type": "code",
     "collapsed": false,
     "input": [
      "heap"
     ],
     "language": "python",
     "metadata": {},
     "outputs": [
      {
       "metadata": {},
       "output_type": "pyout",
       "prompt_number": 111,
       "text": [
        "[-4, 2, 1, 23, 7, 2, 18, 23, 42, 37, 8]"
       ]
      }
     ],
     "prompt_number": 111
    },
    {
     "cell_type": "markdown",
     "metadata": {},
     "source": [
      "- \ud799\uc758 \uac00\uc7a5 \uc911\uc694\ud55c \uae30\ub2a5: heap[0]\uc774 \uac00\uc7a5 \uc791\uc740 \uc544\uc774\ud15c\uc774 \ub41c\ub2e4\ub294 \uc0ac\uc2e4\n",
      "- N\uc744 \ud799\uc758 \ud06c\uae30\ub77c \ud558\uba74 O(log N)\uc758 \uc2dc\uac04 \ubcf5\uc7a1\ub3c4 \uc18c\uc694\n",
      "- \uc65c \uc790\uae30 \ub9d8\ub300\ub85c \uc21c\uc11c\uac00 \ubc14\ub00c\uc9c0..??\n",
      "  - heap\uc774\ub77c\ub294 list\ub97c heapq.heappop\uc5d0 \ub123\uc73c\uba74 \uc5ec\uae30\uc5d0\uc11c \uac00\uc7a5 \uc791\uc740\uac8c pop \ub41c\ub2e4."
     ]
    },
    {
     "cell_type": "code",
     "collapsed": false,
     "input": [
      "heapq.heappop(heap)"
     ],
     "language": "python",
     "metadata": {},
     "outputs": [
      {
       "metadata": {},
       "output_type": "pyout",
       "prompt_number": 112,
       "text": [
        "-4"
       ]
      }
     ],
     "prompt_number": 112
    },
    {
     "cell_type": "code",
     "collapsed": false,
     "input": [
      "heapq.heappop(heap)"
     ],
     "language": "python",
     "metadata": {},
     "outputs": [
      {
       "metadata": {},
       "output_type": "pyout",
       "prompt_number": 113,
       "text": [
        "1"
       ]
      }
     ],
     "prompt_number": 113
    },
    {
     "cell_type": "code",
     "collapsed": false,
     "input": [
      "heapq.heappop(heap)"
     ],
     "language": "python",
     "metadata": {},
     "outputs": [
      {
       "metadata": {},
       "output_type": "pyout",
       "prompt_number": 114,
       "text": [
        "2"
       ]
      }
     ],
     "prompt_number": 114
    },
    {
     "cell_type": "code",
     "collapsed": false,
     "input": [
      "heapq.heappop(heap)"
     ],
     "language": "python",
     "metadata": {},
     "outputs": [
      {
       "metadata": {},
       "output_type": "pyout",
       "prompt_number": 115,
       "text": [
        "2"
       ]
      }
     ],
     "prompt_number": 115
    },
    {
     "cell_type": "code",
     "collapsed": false,
     "input": [
      "heap"
     ],
     "language": "python",
     "metadata": {},
     "outputs": [
      {
       "metadata": {},
       "output_type": "pyout",
       "prompt_number": 116,
       "text": [
        "[7, 23, 8, 23, 42, 37, 18]"
       ]
      }
     ],
     "prompt_number": 116
    },
    {
     "cell_type": "code",
     "collapsed": false,
     "input": [
      "heapq.heappop(heap)"
     ],
     "language": "python",
     "metadata": {},
     "outputs": [
      {
       "metadata": {},
       "output_type": "pyout",
       "prompt_number": 117,
       "text": [
        "7"
       ]
      }
     ],
     "prompt_number": 117
    },
    {
     "cell_type": "code",
     "collapsed": false,
     "input": [
      "heap"
     ],
     "language": "python",
     "metadata": {},
     "outputs": [
      {
       "metadata": {},
       "output_type": "pyout",
       "prompt_number": 118,
       "text": [
        "[8, 23, 18, 23, 42, 37]"
       ]
      }
     ],
     "prompt_number": 118
    },
    {
     "cell_type": "code",
     "collapsed": false,
     "input": [
      "heapq.heappop(heap)"
     ],
     "language": "python",
     "metadata": {},
     "outputs": [
      {
       "metadata": {},
       "output_type": "pyout",
       "prompt_number": 119,
       "text": [
        "8"
       ]
      }
     ],
     "prompt_number": 119
    },
    {
     "cell_type": "code",
     "collapsed": false,
     "input": [
      "heap"
     ],
     "language": "python",
     "metadata": {},
     "outputs": [
      {
       "metadata": {},
       "output_type": "pyout",
       "prompt_number": 120,
       "text": [
        "[18, 23, 37, 23, 42]"
       ]
      }
     ],
     "prompt_number": 120
    },
    {
     "cell_type": "code",
     "collapsed": false,
     "input": [
      "heapq.heappop(heap)"
     ],
     "language": "python",
     "metadata": {},
     "outputs": [
      {
       "metadata": {},
       "output_type": "pyout",
       "prompt_number": 121,
       "text": [
        "18"
       ]
      }
     ],
     "prompt_number": 121
    },
    {
     "cell_type": "code",
     "collapsed": false,
     "input": [
      "heap"
     ],
     "language": "python",
     "metadata": {},
     "outputs": [
      {
       "metadata": {},
       "output_type": "pyout",
       "prompt_number": 122,
       "text": [
        "[23, 23, 37, 42]"
       ]
      }
     ],
     "prompt_number": 122
    },
    {
     "cell_type": "markdown",
     "metadata": {},
     "source": [
      "- nlargest()\uc640 nsmallest() \ud568\uc218\ub294 \ucc3e\uace0\uc790 \ud558\ub294 \uc544\uc774\ud15c\uc758 \uac1c\uc218\uac00 \uc0c1\ub300\uc801\uc73c\ub85c \uc791\uc744\ub54c \uac00\uc7a5 \uc54c\ub9de\uc74c\n",
      "- \ub9cc\uc57d \ucd5c\uc18c\uac12\uc774\ub098 \ucd5c\ub300\uac12\uc744 \uad6c\ud558\ub824 \ud55c\ub2e4\uba74(N\uc774 1), min()\uacfc max()\ub97c \uc0ac\uc6a9\ud558\ub294 \uac83\uc774 \ub354 \ube60\ub984\n",
      "- N\uc758 \ud06c\uae30\uac00 \uceec\ub809\uc158 \ud06c\uae30\uc640 \ube44\uc2b7\ud574\uc9c0\uba74 \uc6b0\uc120 \uceec\ub809\uc158\uc744 \uc815\ub82c\ud574 \ub193\uace0 \uadf8 \uc870\uac01\uc744 \uc0ac\uc6a9\ud558\ub294 \uac83\uc774 \ub354 \ube60\ub974\ub2e4.\n",
      "- sorted(items)[:N] \uc774\ub098 sorted(items)[-N:]\n",
      "\n",
      "\n",
      "- \ud799\uc758 \uad6c\ud604 \ubc29\uc2dd?!\n",
      "- [8.4. heapq \u00e2\u0080\u0094 Heap queue algorithm \u2014 Python 2.7.8 documentation](https://docs.python.org/2/library/heapq.html)\n",
      "- [\ud799 (\uc790\ub8cc \uad6c\uc870) - \uc704\ud0a4\ubc31\uacfc, \uc6b0\ub9ac \ubaa8\ub450\uc758 \ubc31\uacfc\uc0ac\uc804](http://ko.wikipedia.org/wiki/%ED%9E%99_(%EC%9E%90%EB%A3%8C_%EA%B5%AC%EC%A1%B0)): \uc124\uba85\uc774 \uc5b4\ub835\ub2e4.\n",
      "- [\uc911\uc131\uc790 \ubcc4\uc758 \ucda9\ub3cc \uc5d0\ub108\uc9c0 :: \uc790\ub8cc\uad6c\uc870 #5 \ud799(Heap)](http://blog.nextcube.pe.kr/191)\n",
      "  - \uc544\ud558! min heap\uc740 \uac00\uc7a5 \uc791\uc740 \uc22b\uc790\ub97c \uc720\uc9c0\ud558\uae30 \uc704\ud574 \ub04a\uc784\uc5c6\uc774 \uad50\ud658\uc744 \ud558\ub294\uad6c\ub9cc. \uadf8\ub798\uc11c heap\uc758 heap[0]\uc740 \uac00\uc7a5 \uc791\uc744 \uc218 \ubc16\uc5d0 \uc5c6\ub124\n",
      "  - \uc644\uc804\uc774\uc9c4\ud2b8\ub9ac \uc720\uc9c0\n",
      "  - \ud640\uc218, \uc9dd\uc218\uc5d0 \uc758\ud574 \uc778\ub371\uc2a4\uac12 \uacb0\uc815\n",
      "- [\uc591\uad70&\uc6b0\uc790 :: \\[ \uc790\ub8cc\uad6c\uc870 \\] \ud799(Heap) \uc790\ub8cc\uad6c\uc870](http://baramziny.tistory.com/26)\n",
      "  - \uac01\uac01\uc758 \ub178\ub4dc\ub294 \uc720\uc77c\ud55c \ud0a4 \uac12\uc744 \uac00\uc9c0\uac8c \ub428\n",
      "  - \ub178\ub4dc \uc911\uc5d0\uc11c \ucd5c\ub300\uac12\uc774\ub098 \ucd5c\uc18c\uac12\uc744 \ube60\ub978\uc2dc\uac04 \ub0b4\uc5d0 \ucc3e\uae30 \uc704\ud574\uc11c \ub9cc\ub4e0 \uc790\ub8cc\uad6c\uc870\n",
      "  - \ud0a4\uac12\uacfc\ub294 \ubcc4\uac1c\ub85c \uc911\ubcf5\ub41c \uac12\uc740 \ud5c8\uc6a9 \ub428\n",
      "- [\uc815\ub82c\uc54c\uace0\ub9ac\uc998 \uc885\ub958\ubc0f \uac04\ub2e8\ud55c \uc124\uba85](http://blog.naver.com/hitlerjjang/140039936336)\n",
      "- [\uc790\ub8cc\uad6c\uc870 5\uac15. \ud799(Heap) :: \uae08\uc9c0\ub41c \uc5d1\uc2dc\ub178\uc544\uc758 \ube44\uacf5\uc815](http://blog.eairship.kr/m/post/249)\n"
     ]
    },
    {
     "cell_type": "markdown",
     "metadata": {},
     "source": [
      "----\n",
      "\n",
      "- \uc54c\uace0\ub9ac\uc998\uc774 \uc7ac\ubc0c\uad6c\ub9cc\u314e\u314e\n",
      "- \ubaa8\ub974\uba74 \uc9c4\uc9dc \ud558\uae30 \uc2eb\uc740\ub370 \uc870\uae08\uc529 \uc54c\uc544\uac00\ub294 \uc7ac\ubbf8\uac00 \uc3e0\uc3e0\ud558\ub2e4\n",
      "----"
     ]
    },
    {
     "cell_type": "markdown",
     "metadata": {},
     "source": [
      "## 1.5 \uc6b0\uc120 \uc21c\uc704 \ud050 \uad6c\ud604\n",
      "\n",
      "### \ubb38\uc81c\n",
      "\n",
      "- \uc8fc\uc5b4\uc9c4 \uc6b0\uc120 \uc21c\uc704\uc5d0 \ub530\ub77c \uc544\uc774\ud15c\uc744 \uc815\ub82c\ud558\ub294 \ud050\ub97c \uad6c\ud604\ud558\uace0 \ud56d\uc0c1 \uc6b0\uc120\uc21c\uc704\uac00 \uac00\uc7a5 \ub192\uc740 \uc544\uc774\ud15c\uc744 \uba3c\uc800 \ud31d\ud558\ub3c4\ub85d \ub9cc\ub4e4\uc5b4\uc57c \ud55c\ub2e4.\n",
      "\n",
      "### \ud574\uacb0\n",
      "\n",
      "- heapq \ubaa8\ub4c8\uc744 \uc0ac\uc6a9\ud574 \uac04\ub2e8\ud55c \uc6b0\uc120\uc21c\uc704 \ud050 \uad6c\ud604"
     ]
    },
    {
     "cell_type": "code",
     "collapsed": false,
     "input": [
      "import heapq\n",
      "\n",
      "class PriorityQueue:\n",
      "    def __init__(self):\n",
      "        self._queue = []\n",
      "        self._index = 0\n",
      "        \n",
      "    def push(self, item, priority):\n",
      "        heapq.heappush(self._queue, (-priority, self._index, item))\n",
      "        self._index += 1\n",
      "        \n",
      "    def pop(self):\n",
      "        return heapq.heappop(self._queue)[-1]"
     ],
     "language": "python",
     "metadata": {},
     "outputs": [],
     "prompt_number": 128
    },
    {
     "cell_type": "code",
     "collapsed": false,
     "input": [
      "class Item:\n",
      "    def __init__(self, name):\n",
      "        self.name = name\n",
      "    \n",
      "    def __repr__(self):\n",
      "        # !r: Calls repr() on the argument first\n",
      "        return 'Item({!r})'.format(self.name)"
     ],
     "language": "python",
     "metadata": {},
     "outputs": [],
     "prompt_number": 129
    },
    {
     "cell_type": "code",
     "collapsed": false,
     "input": [
      "q = PriorityQueue()\n",
      "q.push(Item('foo'), 1)\n",
      "q.push(Item('bar'), 5)\n",
      "q.push(Item('spam'), 4)\n",
      "q.push(Item('grok'), 1)\n",
      "q"
     ],
     "language": "python",
     "metadata": {},
     "outputs": [
      {
       "metadata": {},
       "output_type": "pyout",
       "prompt_number": 130,
       "text": [
        "<__main__.PriorityQueue at 0x10fda1940>"
       ]
      }
     ],
     "prompt_number": 130
    },
    {
     "cell_type": "code",
     "collapsed": false,
     "input": [
      "q.pop()"
     ],
     "language": "python",
     "metadata": {},
     "outputs": [
      {
       "metadata": {},
       "output_type": "pyout",
       "prompt_number": 131,
       "text": [
        "Item('bar')"
       ]
      }
     ],
     "prompt_number": 131
    },
    {
     "cell_type": "code",
     "collapsed": false,
     "input": [
      "q.pop()"
     ],
     "language": "python",
     "metadata": {},
     "outputs": [
      {
       "metadata": {},
       "output_type": "pyout",
       "prompt_number": 132,
       "text": [
        "Item('spam')"
       ]
      }
     ],
     "prompt_number": 132
    },
    {
     "cell_type": "code",
     "collapsed": false,
     "input": [
      "q.pop()"
     ],
     "language": "python",
     "metadata": {},
     "outputs": [
      {
       "metadata": {},
       "output_type": "pyout",
       "prompt_number": 133,
       "text": [
        "Item('foo')"
       ]
      }
     ],
     "prompt_number": 133
    },
    {
     "cell_type": "code",
     "collapsed": false,
     "input": [
      "q.pop()"
     ],
     "language": "python",
     "metadata": {},
     "outputs": [
      {
       "metadata": {},
       "output_type": "pyout",
       "prompt_number": 134,
       "text": [
        "Item('grok')"
       ]
      }
     ],
     "prompt_number": 134
    },
    {
     "cell_type": "markdown",
     "metadata": {},
     "source": [
      "- \uccab\ubc88\uc9f8 pop()\uc774 \uc5b4\ub5bb\uac8c \uac00\uc7a5 \ub192\uc740 \uc6b0\uc120 \uc21c\uc704 \uc544\uc774\ud15c\uc744 \ubc18\ud658\ud558\ub294\uc9c0 \uad00\ucc30\n",
      "- \ub450 \uc544\uc774\ud15c\uc758 \uc6b0\uc120 \uc21c\uc704\uac00 \uac19\uc740 \uacbd\uc6b0(foo\uc640 grok)\uc5d0\ub294 \ud050\uc5d0 \uc0bd\uc785\ub41c \uc21c\uc11c\uc640 \ub3d9\uc77c\ud558\uac8c \ubc18\ud658\n",
      "- [7.1. string \u00e2\u0080\u0094 Common string operations \u2014 Python 2.7.8 documentation](https://docs.python.org/2/library/string.html): !r \uac80\uc0c9\n",
      "\n",
      "### \ud1a0\ub860\n",
      "\n",
      "- \uac00\uc7a5 \uc911\uc694\ud55c \ubd80\ubd84: heapq \ubaa8\ub4c8\uc758 \uc0ac\uc6a9\ubc95\n",
      "- heapq.heappush()\uc640 heapq.heappop()\uc740 list_queue\uc758 \uccab\ubc88\uc9f8 \uc544\uc774\ud15c\uc774 \uac00\uc7a5 \uc791\uc740 \uc6b0\uc120 \uc21c\uc704\ub97c \uac00\uc9c4 \uac83\ucc98\ub7fc \uc544\uc774\ud15c\uc744 \uc0bd\uc785\ud558\uac70\ub098 \uc81c\uac70\ud55c\ub2e4.\n",
      "- \ud799\uc758 \ud06c\uae30\uac00 N\uc77c \ub54c \ud478\uc2dc\uc640 \ud31d\uc758 \uc2dc\uac04 \ubcf5\uc7a1\ub3c4\uac00 O(logN)\uc774\ubbc0\ub85c N\uc774 \uc544\uc8fc \ucee4\uc9c4\ub2e4 \ud574\ub3c4 \uc0c1\ub2f9\ud788 \ud6a8\uc728\uc801\n",
      "- \ud050\uac00 \ud29c\ud50c \ud615\ud0dc\ub85c \uad6c\uc131(-priority, index, item)\n",
      "- priority\uac12\uc740 \ud050 \ub0b4\ubd80 \uc544\uc774\ud15c\uc744 \uac00\uc7a5 \ub192\uc740 \uc6b0\uc120 \uc21c\uc704\uc5d0\uc11c \ub0ae\uc740 \uc6b0\uc120 \uc21c\uc704\ub85c \uc815\ub82c\ud558\uae30 \uc704\ud574 \ubb34\ud6a8\ud654\ub41c\ub2e4?!\n",
      "- \uc774\ub294 \uac00\uc7a5 \ub0ae\uc740 \uac12\uc5d0\uc11c \ub192\uc740 \uac12\uc73c\ub85c \uc815\ub82c\ub418\ub294 \uc77c\ubc18\uc801\uc778 \ud799\uacfc\ub294 \ubc18\ub300\ub2e4.\n",
      "\n",
      "\n",
      "- index \ubcc0\uc218\ub294 \uc6b0\uc120 \uc21c\uc704\uac00 \ub3d9\uc77c\ud55c \uc544\uc774\ud15c\uc758 \uc21c\uc11c\ub97c \uc815\ud560 \ub54c \uc0ac\uc6a9\n",
      "- \uc544\uc774\ud15c\uc774 \uc0bd\uc785\ub41c \uc21c\uc11c\ub300\ub85c \uc815\ub82c\n",
      "- \uc778\ub371\uc2a4\ub294 **\uc6b0\uc120 \uc21c\uc704 \uac12\uc774 \ub3d9\uc77c**\ud560 \ub54c\ub3c4 **\uc911\uc694\ud55c \uc5ed\ud560**"
     ]
    },
    {
     "cell_type": "markdown",
     "metadata": {},
     "source": [
      "#### priority, index\uc758 \uc911\uc694\uc131"
     ]
    },
    {
     "cell_type": "code",
     "collapsed": false,
     "input": [
      "a = Item('foo')"
     ],
     "language": "python",
     "metadata": {},
     "outputs": [],
     "prompt_number": 135
    },
    {
     "cell_type": "code",
     "collapsed": false,
     "input": [
      "b = Item('bar')"
     ],
     "language": "python",
     "metadata": {},
     "outputs": [],
     "prompt_number": 136
    },
    {
     "cell_type": "code",
     "collapsed": false,
     "input": [
      "a < b"
     ],
     "language": "python",
     "metadata": {},
     "outputs": [
      {
       "ename": "TypeError",
       "evalue": "unorderable types: Item() < Item()",
       "output_type": "pyerr",
       "traceback": [
        "\u001b[0;31m---------------------------------------------------------------------------\u001b[0m\n\u001b[0;31mTypeError\u001b[0m                                 Traceback (most recent call last)",
        "\u001b[0;32m<ipython-input-137-be58db8c10ac>\u001b[0m in \u001b[0;36m<module>\u001b[0;34m()\u001b[0m\n\u001b[0;32m----> 1\u001b[0;31m \u001b[0ma\u001b[0m \u001b[0;34m<\u001b[0m \u001b[0mb\u001b[0m\u001b[0;34m\u001b[0m\u001b[0m\n\u001b[0m",
        "\u001b[0;31mTypeError\u001b[0m: unorderable types: Item() < Item()"
       ]
      }
     ],
     "prompt_number": 137
    },
    {
     "cell_type": "markdown",
     "metadata": {},
     "source": [
      "- (priority, item) \ud29c\ud50c\uc744 \ub9cc\ub4e4\uc5c8\ub2e4\uba74 \uc6b0\uc120 \uc21c\uc704 \uac12\uc774 \ub2ec\ub77c\uc57c\ub9cc \ube44\uad50\uac00 \uac00\ub2a5\n",
      "- \ud558\uc9c0\ub9cc \ub3d9\uc77c\ud55c \uc6b0\uc120 \uc21c\uc704\ub97c \uac00\uc9c4 \ub450 \uc544\uc774\ud15c\uc758 \ube44\uad50\ub294 \uc55e\uc5d0 \ub098\uc628 \ubc14\uc640 \uac19\uc774 \uc2e4\ud328"
     ]
    },
    {
     "cell_type": "code",
     "collapsed": false,
     "input": [
      "a = (1, Item('foo'))"
     ],
     "language": "python",
     "metadata": {},
     "outputs": [],
     "prompt_number": 138
    },
    {
     "cell_type": "code",
     "collapsed": false,
     "input": [
      "b = (5, Item('bar'))"
     ],
     "language": "python",
     "metadata": {},
     "outputs": [],
     "prompt_number": 139
    },
    {
     "cell_type": "code",
     "collapsed": false,
     "input": [
      "a < b"
     ],
     "language": "python",
     "metadata": {},
     "outputs": [
      {
       "metadata": {},
       "output_type": "pyout",
       "prompt_number": 140,
       "text": [
        "True"
       ]
      }
     ],
     "prompt_number": 140
    },
    {
     "cell_type": "code",
     "collapsed": false,
     "input": [
      "c = (1, Item('grok'))"
     ],
     "language": "python",
     "metadata": {},
     "outputs": [],
     "prompt_number": 141
    },
    {
     "cell_type": "code",
     "collapsed": false,
     "input": [
      "a < c"
     ],
     "language": "python",
     "metadata": {},
     "outputs": [
      {
       "ename": "TypeError",
       "evalue": "unorderable types: Item() < Item()",
       "output_type": "pyerr",
       "traceback": [
        "\u001b[0;31m---------------------------------------------------------------------------\u001b[0m\n\u001b[0;31mTypeError\u001b[0m                                 Traceback (most recent call last)",
        "\u001b[0;32m<ipython-input-142-47626f73af81>\u001b[0m in \u001b[0;36m<module>\u001b[0;34m()\u001b[0m\n\u001b[0;32m----> 1\u001b[0;31m \u001b[0ma\u001b[0m \u001b[0;34m<\u001b[0m \u001b[0mc\u001b[0m\u001b[0;34m\u001b[0m\u001b[0m\n\u001b[0m",
        "\u001b[0;31mTypeError\u001b[0m: unorderable types: Item() < Item()"
       ]
      }
     ],
     "prompt_number": 142
    },
    {
     "cell_type": "markdown",
     "metadata": {},
     "source": [
      "- \uc5ec\uae30\uc5d0 \uc778\ub371\uc2a4 \uac12\uc744 \ucd94\uac00\ud574\uc11c \ud29c\ud50c\uc744 \ub9cc\ub4e4\uba74(priority, index, item), \uc5b4\ub5a0\ud55c \ud29c\ud50c\ub3c4 \ub3d9\uc77c\ud55c \uc778\ub371\uc2a4 \uac12\uc744 \uac00\uc9c8 \uc218 \uc5c6\uc73c\ubbc0\ub85c \uc774 \ubb38\uc81c\ub97c \uc6d0\ucc9c\uc801\uc73c\ub85c \ud574\uacb0 \uac00\ub2a5(\ud30c\uc774\uc36c\uc740 \uc77c\ub2e8 \ube44\uad50 \uacb0\uacfc\uac00 \ub098\uc624\uace0 \ub098\uba74 \ub4a4\uc5d0 \ub0a8\uc544\uc788\ub294 \ud29c\ud50c \uac12\uc744 \ube44\uad50\ud558\ub824\uace0 \uc2dc\ub3c4\ud558\uc9c0 \uc54a\uc74c)"
     ]
    },
    {
     "cell_type": "code",
     "collapsed": false,
     "input": [
      "a = (1, 0, Item('foo'))"
     ],
     "language": "python",
     "metadata": {},
     "outputs": [],
     "prompt_number": 143
    },
    {
     "cell_type": "code",
     "collapsed": false,
     "input": [
      "b = (5, 1, Item('bar'))"
     ],
     "language": "python",
     "metadata": {},
     "outputs": [],
     "prompt_number": 144
    },
    {
     "cell_type": "code",
     "collapsed": false,
     "input": [
      "c = (1, 2, Item('grok'))"
     ],
     "language": "python",
     "metadata": {},
     "outputs": [],
     "prompt_number": 145
    },
    {
     "cell_type": "code",
     "collapsed": false,
     "input": [
      "a < b"
     ],
     "language": "python",
     "metadata": {},
     "outputs": [
      {
       "metadata": {},
       "output_type": "pyout",
       "prompt_number": 146,
       "text": [
        "True"
       ]
      }
     ],
     "prompt_number": 146
    },
    {
     "cell_type": "code",
     "collapsed": false,
     "input": [
      "a < c"
     ],
     "language": "python",
     "metadata": {},
     "outputs": [
      {
       "metadata": {},
       "output_type": "pyout",
       "prompt_number": 147,
       "text": [
        "True"
       ]
      }
     ],
     "prompt_number": 147
    },
    {
     "cell_type": "markdown",
     "metadata": {},
     "source": [
      "- \uc4f0\ub808\ub4dc \uac04 \ud1b5\uc2e0\uc5d0 \uc774 \ud050\ub97c \uc0ac\uc6a9\ud558\ub824\uba74 **\uc62c\ubc14\ub978 \ub77d**\uacfc **\uc2dc\uadf8\ub110** \uc0ac\uc6a9"
     ]
    },
    {
     "cell_type": "markdown",
     "metadata": {},
     "source": [
      "## 1.6 \ub515\uc154\ub108\ub9ac\uc758 \ud0a4\ub97c \uc5ec\ub7ec \uac12\uc5d0 \ub9e4\ud551\ud558\uae30\n",
      "\n",
      "### \ubb38\uc81c\n",
      "\n",
      "- \ub515\uc154\ub108\ub9ac\uc758 \ud0a4\ub97c \ud558\ub098 \uc774\uc0c1\uc758 \uac12\uc5d0 \ub9e4\ud551\ud558\uace0 \uc2f6\ub2e4(\uc18c\uc704 \"multidict\")\n",
      "\n",
      "### \ud574\uacb0\n",
      "\n",
      "- \ud558\ub098\uc758 \ud0a4\uc5d0 \ud558\ub098\uc758 \uac12\uc774 \ub9e4\ud551\ub418\uc5b4 \uc788\ub294 \uac83\uc744 \ub515\uc154\ub108\ub9ac\n",
      "- \ud0a4\uc5d0 \uc5ec\ub7ec\uac12\uc744 \ub9e4\ud551\ud558\ub824\uba74, \uadf8 \uc5ec\ub7ec\uac12\uc744 \ub9ac\uc2a4\ud2b8\ub098 \uc138\ud2b8\uc640 \uac19\uc740 \ucee8\ud14c\uc774\ub108\uc5d0 \ub530\ub85c \uc800\uc7a5\ud574 \ub46c\uc57c \ub428"
     ]
    },
    {
     "cell_type": "code",
     "collapsed": false,
     "input": [
      "d = {\n",
      "    'a': [1,2,3],\n",
      "    'b': [4,5]\n",
      "}"
     ],
     "language": "python",
     "metadata": {},
     "outputs": [],
     "prompt_number": 149
    },
    {
     "cell_type": "code",
     "collapsed": false,
     "input": [
      "e = {\n",
      "    'a': {1, 2, 3},\n",
      "    'b': {4, 5}\n",
      "}"
     ],
     "language": "python",
     "metadata": {},
     "outputs": [],
     "prompt_number": 150
    },
    {
     "cell_type": "code",
     "collapsed": false,
     "input": [
      "d"
     ],
     "language": "python",
     "metadata": {},
     "outputs": [
      {
       "metadata": {},
       "output_type": "pyout",
       "prompt_number": 151,
       "text": [
        "{'a': [1, 2, 3], 'b': [4, 5]}"
       ]
      }
     ],
     "prompt_number": 151
    },
    {
     "cell_type": "code",
     "collapsed": false,
     "input": [
      "e"
     ],
     "language": "python",
     "metadata": {},
     "outputs": [
      {
       "metadata": {},
       "output_type": "pyout",
       "prompt_number": 152,
       "text": [
        "{'a': {1, 2, 3}, 'b': {4, 5}}"
       ]
      }
     ],
     "prompt_number": 152
    },
    {
     "cell_type": "markdown",
     "metadata": {},
     "source": [
      "- \ub9ac\uc2a4\ud2b8: \uc544\uc774\ud15c\uc758 \uc0bd\uc785 \uc21c\uc11c \uc720\uc9c0\n",
      "- \uc138\ud2b8: \uc21c\uc11cx, \uc911\ubcf5x\n",
      "- \ub515\uc154\ub108\ub9ac\ub97c \uc27d\uac8c \ub9cc\ub4e4\uae30 \uc704\ud574\uc11c collections \ubaa8\ub4c8\uc758 defaultdict \uc0ac\uc6a9\n",
      "- defaultdict\uc758 \uae30\ub2a5 \uc911\uc5d0\ub294 \uccab\ubc88\uc9f8 \uac12\uc744 \uc790\ub3d9\uc73c\ub85c \ucd08\uae30\ud654\ud558\ub294 \uac83\uc774 \uc788\uc74c"
     ]
    },
    {
     "cell_type": "code",
     "collapsed": false,
     "input": [
      "from collections import defaultdict"
     ],
     "language": "python",
     "metadata": {},
     "outputs": [],
     "prompt_number": 153
    },
    {
     "cell_type": "code",
     "collapsed": false,
     "input": [
      "d = defaultdict(list)"
     ],
     "language": "python",
     "metadata": {},
     "outputs": [],
     "prompt_number": 180
    },
    {
     "cell_type": "code",
     "collapsed": false,
     "input": [
      "d['a'].append(1)"
     ],
     "language": "python",
     "metadata": {},
     "outputs": [],
     "prompt_number": 181
    },
    {
     "cell_type": "code",
     "collapsed": false,
     "input": [
      "d"
     ],
     "language": "python",
     "metadata": {},
     "outputs": [
      {
       "metadata": {},
       "output_type": "pyout",
       "prompt_number": 182,
       "text": [
        "defaultdict(<class 'list'>, {'a': [1]})"
       ]
      }
     ],
     "prompt_number": 182
    },
    {
     "cell_type": "code",
     "collapsed": false,
     "input": [
      "d['a'].append(2)"
     ],
     "language": "python",
     "metadata": {},
     "outputs": [],
     "prompt_number": 183
    },
    {
     "cell_type": "code",
     "collapsed": false,
     "input": [
      "d"
     ],
     "language": "python",
     "metadata": {},
     "outputs": [
      {
       "metadata": {},
       "output_type": "pyout",
       "prompt_number": 184,
       "text": [
        "defaultdict(<class 'list'>, {'a': [1, 2]})"
       ]
      }
     ],
     "prompt_number": 184
    },
    {
     "cell_type": "code",
     "collapsed": false,
     "input": [
      "d['b'].append(4)"
     ],
     "language": "python",
     "metadata": {},
     "outputs": [],
     "prompt_number": 185
    },
    {
     "cell_type": "code",
     "collapsed": false,
     "input": [
      "d['b'].append(4)"
     ],
     "language": "python",
     "metadata": {},
     "outputs": [],
     "prompt_number": 187
    },
    {
     "cell_type": "code",
     "collapsed": false,
     "input": [
      "d"
     ],
     "language": "python",
     "metadata": {},
     "outputs": [
      {
       "metadata": {},
       "output_type": "pyout",
       "prompt_number": 188,
       "text": [
        "defaultdict(<class 'list'>, {'a': [1, 2], 'b': [4, 4]})"
       ]
      }
     ],
     "prompt_number": 188
    },
    {
     "cell_type": "code",
     "collapsed": false,
     "input": [
      "ss = defaultdict(set)"
     ],
     "language": "python",
     "metadata": {},
     "outputs": [],
     "prompt_number": 160
    },
    {
     "cell_type": "code",
     "collapsed": false,
     "input": [
      "ss['a'].add(1)"
     ],
     "language": "python",
     "metadata": {},
     "outputs": [],
     "prompt_number": 161
    },
    {
     "cell_type": "code",
     "collapsed": false,
     "input": [
      "ss"
     ],
     "language": "python",
     "metadata": {},
     "outputs": [
      {
       "metadata": {},
       "output_type": "pyout",
       "prompt_number": 162,
       "text": [
        "defaultdict(<class 'set'>, {'a': {1}})"
       ]
      }
     ],
     "prompt_number": 162
    },
    {
     "cell_type": "code",
     "collapsed": false,
     "input": [
      "ss['a'].add(2)"
     ],
     "language": "python",
     "metadata": {},
     "outputs": [],
     "prompt_number": 163
    },
    {
     "cell_type": "code",
     "collapsed": false,
     "input": [
      "ss['b'].add(4)"
     ],
     "language": "python",
     "metadata": {},
     "outputs": [],
     "prompt_number": 164
    },
    {
     "cell_type": "code",
     "collapsed": false,
     "input": [
      "ss['b'].add(4)"
     ],
     "language": "python",
     "metadata": {},
     "outputs": [],
     "prompt_number": 190
    },
    {
     "cell_type": "code",
     "collapsed": false,
     "input": [
      "ss"
     ],
     "language": "python",
     "metadata": {},
     "outputs": [
      {
       "metadata": {},
       "output_type": "pyout",
       "prompt_number": 191,
       "text": [
        "defaultdict(<class 'set'>, {'a': {1, 2}, 'b': {4}})"
       ]
      }
     ],
     "prompt_number": 191
    },
    {
     "cell_type": "markdown",
     "metadata": {},
     "source": [
      "- \ub2e4\ub9cc defaultdict\ub97c \uc0ac\uc6a9\ud560 \ub54c\ub294 \ub515\uc154\ub108\ub9ac\uc5d0 \uc874\uc7ac\ud558\uc9c0 \uc54a\ub294 \uac12\uc774\ub77c\ub3c4 \ud55c \ubc88\uc774\ub77c\ub3c4 \uc811\uadfc\ud588\ub358 \ud0a4\uc758 \uc5d4\ud2b8\ub9ac\ub97c \uc790\ub3d9\uc73c\ub85c \uc0dd\uc131\n",
      "- \ub9c8\uc74c\uc5d0 \ub4e4\uc9c0 \uc54a\ub294\ub2e4\uba74 \uc77c\ubc18 \ub515\uc154\ub108\ub9ac\uc758 setdefault \uc0ac\uc6a9"
     ]
    },
    {
     "cell_type": "code",
     "collapsed": false,
     "input": [
      "# \ubb54 \uc598\uae30\uc778\uac00 \ud588\ub354\ub2c8 \uc5ec\ub7ec\uac12\uc744 \uc800\uc7a5\ud558\uae30 \uc704\ud574\uc11c []\ub97c \ub9cc\ub4e4\uc5c8\ub2e4\ub294 \uc598\uae30\uace0\ub9cc\n",
      "# 4,4\ub97c \uc800\uc7a5\ud574\uc57c \ub418\ub294\ub370 \uadf8\ub0e5 \ubcc0\uc218\ub85c \ud560\ub2f9\ud558\uba74 \uc548\ub418\uace0 \ub9ac\uc2a4\ud2b8\ub85c \ub9cc\ub4e4\uc5b4\uc57c \ud558\ub2c8\uae4c\n",
      "d = {}\n",
      "d.setdefault('a', []).append(1)"
     ],
     "language": "python",
     "metadata": {},
     "outputs": [],
     "prompt_number": 175
    },
    {
     "cell_type": "code",
     "collapsed": false,
     "input": [
      "d.setdefault('a', []).append(2)"
     ],
     "language": "python",
     "metadata": {},
     "outputs": [],
     "prompt_number": 176
    },
    {
     "cell_type": "code",
     "collapsed": false,
     "input": [
      "d.setdefault('b', []).append(4)"
     ],
     "language": "python",
     "metadata": {},
     "outputs": [],
     "prompt_number": 177
    },
    {
     "cell_type": "code",
     "collapsed": false,
     "input": [
      "d.setdefault('b', []).append(4)"
     ],
     "language": "python",
     "metadata": {},
     "outputs": [],
     "prompt_number": 178
    },
    {
     "cell_type": "code",
     "collapsed": false,
     "input": [
      "d"
     ],
     "language": "python",
     "metadata": {},
     "outputs": [
      {
       "metadata": {},
       "output_type": "pyout",
       "prompt_number": 179,
       "text": [
        "{'a': [1, 2], 'b': [4, 4]}"
       ]
      }
     ],
     "prompt_number": 179
    },
    {
     "cell_type": "markdown",
     "metadata": {},
     "source": [
      "- \ud558\uc9c0\ub9cc \ub9ce\uc740 \ud504\ub85c\uadf8\ub798\uba38\ub4e4\uc740 setdefault()\uac00 \uc790\uc5f0\uc2a4\ub7fd\uc9c0 \uc54a\ub2e4\uace0 \uc0dd\uac01\n",
      "- \uccab\ubc88\uc9f8 \uac12\uc5d0 \ub300\ud574\uc11c \ud56d\uc0c1 \uc0c8\ub85c\uc6b4 \uc778\uc2a4\ud134\uc2a4\ub97c \uc0dd\uc131\ud55c\ub2e4\ub294 \uc810\uc740 \uc5b8\uae09\ud558\uc9c0 \uc54a\ub354\ub77c\ub3c4 \ub9d0\uc774\ub2e4"
     ]
    },
    {
     "cell_type": "markdown",
     "metadata": {},
     "source": [
      "## \ud1a0\ub860\n",
      "\n",
      "- \uc774\ub860\uc801\uc73c\ub85c \uc5ec\ub7ec\uac12\uc744 \uac00\uc9c0\ub294 \ub515\uc154\ub108\ub9ac\ub97c \ub9cc\ub4dc\ub294 \uac83\uc774 \ubcf5\uc7a1\ud558\uc9c0\ub294 \uc54a\uc74c\n",
      "- \uccab\ubc88\uc9f8 \uac12\uc5d0 \ub300\ud55c \ucd08\uae30\ud654\ub97c \uc2a4\uc2a4\ub824 \ud558\ub824\uba74 \uaf64\ub098 \ubcf5\uc7a1\ud55c \uacfc\uc815"
     ]
    },
    {
     "cell_type": "code",
     "collapsed": false,
     "input": [
      "from random import randint"
     ],
     "language": "python",
     "metadata": {},
     "outputs": [],
     "prompt_number": 193
    },
    {
     "cell_type": "code",
     "collapsed": false,
     "input": [
      "pairs = [(randint(1,3), i) for i in range(10)]"
     ],
     "language": "python",
     "metadata": {},
     "outputs": [],
     "prompt_number": 203
    },
    {
     "cell_type": "code",
     "collapsed": false,
     "input": [
      "d = {}\n",
      "from random import randint\n",
      "\n",
      "for key, value in pairs:\n",
      "    if key not in d:\n",
      "        d[key] = []\n",
      "    d[key].append(value)\n",
      "d"
     ],
     "language": "python",
     "metadata": {},
     "outputs": [
      {
       "metadata": {},
       "output_type": "pyout",
       "prompt_number": 204,
       "text": [
        "{1: [0, 2, 3, 8, 9], 2: [1, 6], 3: [4, 5, 7]}"
       ]
      }
     ],
     "prompt_number": 204
    },
    {
     "cell_type": "code",
     "collapsed": false,
     "input": [
      "d = defaultdict(list)\n",
      "for key, value in pairs:\n",
      "    d[key].append(value)\n",
      "d"
     ],
     "language": "python",
     "metadata": {},
     "outputs": [
      {
       "metadata": {},
       "output_type": "pyout",
       "prompt_number": 207,
       "text": [
        "defaultdict(<class 'list'>, {1: [0, 2, 3, 8, 9], 2: [1, 6], 3: [4, 5, 7]})"
       ]
      }
     ],
     "prompt_number": 207
    },
    {
     "cell_type": "markdown",
     "metadata": {},
     "source": [
      "## 1.7 \ub515\uc154\ub108\ub9ac \uc21c\uc11c \uc720\uc9c0\n",
      "\n",
      "### \ubb38\uc81c\n",
      "\n",
      "- \ub515\uc154\ub108\ub9ac\ub97c \ub9cc\ub4e4\uace0, \uc21c\ud658\uc774\ub098 \uc9c1\ub82c\ud654\ud560 \ub54c \uc21c\uc11c\ub97c \uc870\uc808\ud558\uace0 \uc2f6\ub2e4\n",
      "\n",
      "### \ud574\uacb0\n",
      "\n",
      "- \ub515\uc154\ub108\ub9ac \ub0b4\ubd80 \uc544\uc774\ud15c\uc758 \uc21c\uc11c\ub97c \uc870\uc808\ud558\ub824\uba74 collections \ubaa8\ub4c8\uc758 OrderedDict\ub97c \uc0ac\uc6a9\n",
      "- \uc0bd\uc785 \ucd08\uae30\uc758 \uc21c\uc11c\ub97c \uadf8\ub300\ub85c \uae30\uc5b5"
     ]
    },
    {
     "cell_type": "code",
     "collapsed": false,
     "input": [
      "from collections import OrderedDict\n",
      "\n",
      "d = OrderedDict()\n",
      "d['foo'] = 1\n",
      "d['bar'] = 2\n",
      "d['spam'] = 3\n",
      "d['grok'] = 4\n",
      "d"
     ],
     "language": "python",
     "metadata": {},
     "outputs": [
      {
       "metadata": {},
       "output_type": "pyout",
       "prompt_number": 208,
       "text": [
        "OrderedDict([('foo', 1), ('bar', 2), ('spam', 3), ('grok', 4)])"
       ]
      }
     ],
     "prompt_number": 208
    },
    {
     "cell_type": "code",
     "collapsed": false,
     "input": [
      "for key in d:\n",
      "    print(key, d[key])"
     ],
     "language": "python",
     "metadata": {},
     "outputs": [
      {
       "output_type": "stream",
       "stream": "stdout",
       "text": [
        "foo 1\n",
        "bar 2\n",
        "spam 3\n",
        "grok 4\n"
       ]
      }
     ],
     "prompt_number": 209
    },
    {
     "cell_type": "code",
     "collapsed": false,
     "input": [
      "for key, value in d.items():\n",
      "    print(key, value)"
     ],
     "language": "python",
     "metadata": {},
     "outputs": [
      {
       "output_type": "stream",
       "stream": "stdout",
       "text": [
        "foo 1\n",
        "bar 2\n",
        "spam 3\n",
        "grok 4\n"
       ]
      }
     ],
     "prompt_number": 210
    },
    {
     "cell_type": "markdown",
     "metadata": {},
     "source": [
      "- OrderedDict\ub294 \ub098\uc911\uc5d0 \uc9c1\ub82c\ud654\ud558\uac70\ub098 \ub2e4\ub978 \ud3ec\ub9f7\uc73c\ub85c \uc778\ucf54\ub529\ud560 \ub2e4\ub978 \ub9e4\ud551\uc744 \ub9cc\ub4e4 \ub54c \ud2b9\ud788 \uc720\uc6a9\n",
      "- **JSON \uc778\ucf54\ub529**\uc5d0 \ub098\ud0c0\ub098\ub294 **\ud2b9\uc815 \ud544\ub4dc\uc758 \uc21c\uc11c\ub97c \uc870\uc808**\ud558\uae30 \uc704\ud574\uc11c OrderedDict\uc5d0 \ub2e4\uc74c\uacfc \uac19\uc774 \ub370\uc774\ud130\ub97c \uc0dd\uc131"
     ]
    },
    {
     "cell_type": "code",
     "collapsed": false,
     "input": [
      "import json\n",
      "json.dumps(d)"
     ],
     "language": "python",
     "metadata": {},
     "outputs": [
      {
       "metadata": {},
       "output_type": "pyout",
       "prompt_number": 211,
       "text": [
        "'{\"foo\": 1, \"bar\": 2, \"spam\": 3, \"grok\": 4}'"
       ]
      }
     ],
     "prompt_number": 211
    },
    {
     "cell_type": "markdown",
     "metadata": {},
     "source": [
      "### \ud1a0\ub860\n",
      "\n",
      "- OrderedDict\ub294 \ub0b4\ubd80\uc801\uc73c\ub85c doubly linked list\ub85c \uc0bd\uc785 \uc21c\uc11c\uc640 \uad00\ub828\uc788\ub294 \ud0a4\ub97c \uae30\uc5b5\n",
      "- \uc0c8\ub85c\uc6b4 \uc544\uc774\ud15c\uc744 \ucc98\uc74c\uc73c\ub85c \uc0bd\uc785\ud558\uba74 \ub9ac\uc2a4\ud2b8\uc758 \uc81c\uc77c \ub05d\uc5d0 \uc704\uce58\uc2dc\ud0b4\n",
      "- \uae30\uc874 \ud0a4\uc5d0 \uc7ac\ud560\ub2f9\uc744 \ud55c\ub2e4\ud574\ub3c4 \uc21c\uc11c\uc5d0\ub294 \ubcc0\ud654\uac00 \uc0dd\uae30\uc9c0 \uc54a\uc74c\n",
      "- \ub354\ube14 \ub9c1\ud06c\ub4dc \ub9ac\uc2a4\ud2b8\ub97c \uc0ac\uc6a9\ud558\uae30 \ub54c\ubb38\uc5d0 \uc77c\ubc18\uc801\uc778 \ub515\uc154\ub108\ub9ac\uc5d0 \ube44\ud574\uc11c 2\ubc30\ub85c \ud06c\ub2e4.\n",
      "- \ub9e4\uc6b0 \ud070 \ub370\uc774\ud130 \uad6c\uc870\uccb4\ub97c \ub9cc\ub4e0\ub2e4\uba74 \uace0\uc2ec \ud574\ubd10\uc57c \ub428(10\ub9cc \ub77c\uc778 csv \uc815\ub3c4)"
     ]
    },
    {
     "cell_type": "markdown",
     "metadata": {},
     "source": [
      "## 1.8 \ub515\uc154\ub108\ub9ac \uacc4\uc0b0\n",
      "\n",
      "### \ubb38\uc81c\n",
      "\n",
      "- \ub515\uc154\ub108\ub9ac \ub370\uc774\ud130\uc5d0 \uc5ec\ub7ec \uacc4\uc0b0\uc744 \uc218\ud589\ud558\uace0 \uc2f6\ub2e4(\ucd5c\uc18c\uac12, \ucd5c\ub300\uac12, \uc815\ub82c \ub4f1)\n",
      "\n",
      "### \ud574\uacb0\n",
      "\n",
      "- \ub515\uc154\ub108\ub9ac\uc5d0 \uc8fc\uc2dd \uc774\ub984\uacfc \uac00\uaca9"
     ]
    },
    {
     "cell_type": "code",
     "collapsed": false,
     "input": [
      "prices = {\n",
      "'ACME': 45.23,\n",
      "'AAPL': 612.78,\n",
      "'IBM': 205.55,\n",
      "'HPQ': 37.20,\n",
      "'FB': 10.75\n",
      "}"
     ],
     "language": "python",
     "metadata": {},
     "outputs": [],
     "prompt_number": 212
    },
    {
     "cell_type": "markdown",
     "metadata": {},
     "source": [
      "- **\ub515\uc154\ub108\ub9ac \ub0b4\uc6a9**\uc5d0 \ub300\ud574 **\uc720\uc6a9\ud55c \uacc4\uc0b0**\uc744 \ud558\ub824\uba74 **\ub515\uc154\ub108\ub9ac\uc758 \ud0a4\uc640 \uac12**\uc744 **zip()**\uc73c\ub85c **\ub4a4\uc9d1\uc5b4** \uc8fc\ub294 \uac83\uc774 \uc88b\uc74c\n",
      "- \ucd5c\uc18c \uc8fc\uac00\uc640 \ucd5c\ub300 \uc8fc\uac00\ub97c \ucc3e\ub294 \ucf54\ub4dc\ub97c \uc0b4\ud3b4\ubcf4\uc790"
     ]
    },
    {
     "cell_type": "code",
     "collapsed": false,
     "input": [
      "aa = zip(prices.values(), prices.keys())\n",
      "print(aa)\n",
      "for i in aa:\n",
      "    print(i)"
     ],
     "language": "python",
     "metadata": {},
     "outputs": [
      {
       "output_type": "stream",
       "stream": "stdout",
       "text": [
        "<zip object at 0x10fd9ee88>\n",
        "(612.78, 'AAPL')\n",
        "(37.2, 'HPQ')\n",
        "(205.55, 'IBM')\n",
        "(10.75, 'FB')\n",
        "(45.23, 'ACME')\n"
       ]
      }
     ],
     "prompt_number": 225
    },
    {
     "cell_type": "code",
     "collapsed": false,
     "input": [
      "bb = zip(prices.keys(), prices.values())\n",
      "print(type(bb))\n",
      "print(bb)\n",
      "for i in bb:\n",
      "    print(i)"
     ],
     "language": "python",
     "metadata": {},
     "outputs": [
      {
       "output_type": "stream",
       "stream": "stdout",
       "text": [
        "<class 'zip'>\n",
        "<zip object at 0x10fd932c8>\n",
        "('AAPL', 612.78)\n",
        "('HPQ', 37.2)\n",
        "('IBM', 205.55)\n",
        "('FB', 10.75)\n",
        "('ACME', 45.23)\n"
       ]
      }
     ],
     "prompt_number": 234
    },
    {
     "cell_type": "code",
     "collapsed": false,
     "input": [
      "min_price = min(zip(prices.values(), prices.keys()))\n",
      "min_price"
     ],
     "language": "python",
     "metadata": {},
     "outputs": [
      {
       "metadata": {},
       "output_type": "pyout",
       "prompt_number": 213,
       "text": [
        "(10.75, 'FB')"
       ]
      }
     ],
     "prompt_number": 213
    },
    {
     "cell_type": "code",
     "collapsed": false,
     "input": [
      "max_price = max(zip(prices.values(), prices.keys()))\n",
      "max_price"
     ],
     "language": "python",
     "metadata": {},
     "outputs": [
      {
       "metadata": {},
       "output_type": "pyout",
       "prompt_number": 229,
       "text": [
        "(612.78, 'AAPL')"
       ]
      }
     ],
     "prompt_number": 229
    },
    {
     "cell_type": "code",
     "collapsed": false,
     "input": [
      "min_price2 = min(zip(prices.keys(), prices.values()))\n",
      "min_price2"
     ],
     "language": "python",
     "metadata": {},
     "outputs": [
      {
       "metadata": {},
       "output_type": "pyout",
       "prompt_number": 227,
       "text": [
        "('AAPL', 612.78)"
       ]
      }
     ],
     "prompt_number": 227
    },
    {
     "cell_type": "code",
     "collapsed": false,
     "input": [
      "min_price3 = max(zip(prices.keys(), prices.values()))\n",
      "min_price3"
     ],
     "language": "python",
     "metadata": {},
     "outputs": [
      {
       "metadata": {},
       "output_type": "pyout",
       "prompt_number": 228,
       "text": [
        "('IBM', 205.55)"
       ]
      }
     ],
     "prompt_number": 228
    },
    {
     "cell_type": "markdown",
     "metadata": {},
     "source": [
      "- \uc774\uc640 \uc720\uc0ac\ud558\uac8c \ub370\uc774\ud130\uc758 \uc21c\uc11c\ub97c \ub9e4\uae30\ub824\uba74 zip()\uacfc sorted()\ub97c \ud568\uaed8 \uc0ac\uc6a9"
     ]
    },
    {
     "cell_type": "code",
     "collapsed": false,
     "input": [
      "cc = zip(prices.values(), prices.keys())\n",
      "print(cc)\n",
      "sorted(cc)"
     ],
     "language": "python",
     "metadata": {},
     "outputs": [
      {
       "output_type": "stream",
       "stream": "stdout",
       "text": [
        "<zip object at 0x10fdb9e48>\n"
       ]
      },
      {
       "metadata": {},
       "output_type": "pyout",
       "prompt_number": 244,
       "text": [
        "[(10.75, 'FB'),\n",
        " (37.2, 'HPQ'),\n",
        " (45.23, 'ACME'),\n",
        " (205.55, 'IBM'),\n",
        " (612.78, 'AAPL')]"
       ]
      }
     ],
     "prompt_number": 244
    },
    {
     "cell_type": "code",
     "collapsed": false,
     "input": [
      "prices_sorted = sorted(zip(prices.values(), prices.keys()))\n",
      "prices_sorted"
     ],
     "language": "python",
     "metadata": {},
     "outputs": [
      {
       "metadata": {},
       "output_type": "pyout",
       "prompt_number": 235,
       "text": [
        "[(10.75, 'FB'),\n",
        " (37.2, 'HPQ'),\n",
        " (45.23, 'ACME'),\n",
        " (205.55, 'IBM'),\n",
        " (612.78, 'AAPL')]"
       ]
      }
     ],
     "prompt_number": 235
    },
    {
     "cell_type": "code",
     "collapsed": false,
     "input": [
      "prices_sorted = sorted(zip(prices.values(), prices.keys()), reverse=True)\n",
      "prices_sorted"
     ],
     "language": "python",
     "metadata": {},
     "outputs": [
      {
       "metadata": {},
       "output_type": "pyout",
       "prompt_number": 250,
       "text": [
        "[(612.78, 'AAPL'),\n",
        " (205.55, 'IBM'),\n",
        " (45.23, 'ACME'),\n",
        " (37.2, 'HPQ'),\n",
        " (10.75, 'FB')]"
       ]
      }
     ],
     "prompt_number": 250
    },
    {
     "cell_type": "markdown",
     "metadata": {},
     "source": [
      "- \uacc4\uc0b0\uc744 \ud560 \ub54c, zip()\uc740 **\ub2e8 \ud55c \ubc88**\ub9cc \uc18c\ube44\ud560 \uc218 \uc788\ub294 iterator\ub97c \uc0dd\uc131"
     ]
    },
    {
     "cell_type": "code",
     "collapsed": false,
     "input": [
      "prices_and_names = zip(prices.values(), prices.keys())\n",
      "print(prices_and_names)\n",
      "print(min(prices_and_names))\n",
      "# \uc65c \uc5d0\ub7ec\uac00 \ub098\ub294\uc9c0 \ubaa8\ub974\uaca0\ub2e4..\n",
      "print(max(prices_and_names))"
     ],
     "language": "python",
     "metadata": {},
     "outputs": [
      {
       "output_type": "stream",
       "stream": "stdout",
       "text": [
        "<zip object at 0x10fdb9c88>\n",
        "(10.75, 'FB')\n"
       ]
      },
      {
       "ename": "ValueError",
       "evalue": "max() arg is an empty sequence",
       "output_type": "pyerr",
       "traceback": [
        "\u001b[0;31m---------------------------------------------------------------------------\u001b[0m\n\u001b[0;31mValueError\u001b[0m                                Traceback (most recent call last)",
        "\u001b[0;32m<ipython-input-247-eae855c708ab>\u001b[0m in \u001b[0;36m<module>\u001b[0;34m()\u001b[0m\n\u001b[1;32m      3\u001b[0m \u001b[0mprint\u001b[0m\u001b[0;34m(\u001b[0m\u001b[0mmin\u001b[0m\u001b[0;34m(\u001b[0m\u001b[0mprices_and_names\u001b[0m\u001b[0;34m)\u001b[0m\u001b[0;34m)\u001b[0m\u001b[0;34m\u001b[0m\u001b[0m\n\u001b[1;32m      4\u001b[0m \u001b[0;31m# \uc65c \uc5d0\ub7ec\uac00 \ub098\ub294\uc9c0 \ubaa8\ub974\uaca0\ub2e4..\u001b[0m\u001b[0;34m\u001b[0m\u001b[0;34m\u001b[0m\u001b[0m\n\u001b[0;32m----> 5\u001b[0;31m \u001b[0mprint\u001b[0m\u001b[0;34m(\u001b[0m\u001b[0mmax\u001b[0m\u001b[0;34m(\u001b[0m\u001b[0mprices_and_names\u001b[0m\u001b[0;34m)\u001b[0m\u001b[0;34m)\u001b[0m\u001b[0;34m\u001b[0m\u001b[0m\n\u001b[0m",
        "\u001b[0;31mValueError\u001b[0m: max() arg is an empty sequence"
       ]
      }
     ],
     "prompt_number": 247
    },
    {
     "cell_type": "code",
     "collapsed": false,
     "input": [
      "prices.values()"
     ],
     "language": "python",
     "metadata": {},
     "outputs": [
      {
       "metadata": {},
       "output_type": "pyout",
       "prompt_number": 251,
       "text": [
        "dict_values([612.78, 37.2, 205.55, 10.75, 45.23])"
       ]
      }
     ],
     "prompt_number": 251
    },
    {
     "cell_type": "code",
     "collapsed": false,
     "input": [
      "prices_and_names = zip(prices.values(), prices.keys())\n",
      "print(prices_and_names)\n",
      "print(min(prices_and_names))\n",
      "# \uc65c \uc5d0\ub7ec\uac00 \ub098\ub294\uc9c0 \ubaa8\ub974\uaca0\ub2e4..\n",
      "print(max(prices_and_names))"
     ],
     "language": "python",
     "metadata": {},
     "outputs": [
      {
       "output_type": "stream",
       "stream": "stdout",
       "text": [
        "<zip object at 0x10fda2f88>\n",
        "(10.75, 'FB')\n"
       ]
      },
      {
       "ename": "ValueError",
       "evalue": "max() arg is an empty sequence",
       "output_type": "pyerr",
       "traceback": [
        "\u001b[0;31m---------------------------------------------------------------------------\u001b[0m\n\u001b[0;31mValueError\u001b[0m                                Traceback (most recent call last)",
        "\u001b[0;32m<ipython-input-252-eae855c708ab>\u001b[0m in \u001b[0;36m<module>\u001b[0;34m()\u001b[0m\n\u001b[1;32m      3\u001b[0m \u001b[0mprint\u001b[0m\u001b[0;34m(\u001b[0m\u001b[0mmin\u001b[0m\u001b[0;34m(\u001b[0m\u001b[0mprices_and_names\u001b[0m\u001b[0;34m)\u001b[0m\u001b[0;34m)\u001b[0m\u001b[0;34m\u001b[0m\u001b[0m\n\u001b[1;32m      4\u001b[0m \u001b[0;31m# \uc65c \uc5d0\ub7ec\uac00 \ub098\ub294\uc9c0 \ubaa8\ub974\uaca0\ub2e4..\u001b[0m\u001b[0;34m\u001b[0m\u001b[0;34m\u001b[0m\u001b[0m\n\u001b[0;32m----> 5\u001b[0;31m \u001b[0mprint\u001b[0m\u001b[0;34m(\u001b[0m\u001b[0mmax\u001b[0m\u001b[0;34m(\u001b[0m\u001b[0mprices_and_names\u001b[0m\u001b[0;34m)\u001b[0m\u001b[0;34m)\u001b[0m\u001b[0;34m\u001b[0m\u001b[0m\n\u001b[0m",
        "\u001b[0;31mValueError\u001b[0m: max() arg is an empty sequence"
       ]
      }
     ],
     "prompt_number": 252
    },
    {
     "cell_type": "markdown",
     "metadata": {},
     "source": [
      "#### \uc65c max\ub9cc Error\uac00 \ubc1c\uc0dd\ud558\uc9c0?\n",
      "\n",
      "- min\uc740 \ubc1c\uc0dd\ud558\uc9c0 \uc54a\uace0..?\n",
      "- min\uacfc max\uc758 \ub85c\uc9c1\uc774 \ub2ec\ub77c\uc11c \uadf8\ub7f0\uac83 \uac19\uc740\ub370?\n",
      "- [2. Built-in Functions \u2014 Python 2.7.8 documentation](https://docs.python.org/2/library/functions.html): min, max"
     ]
    },
    {
     "cell_type": "code",
     "collapsed": false,
     "input": [
      "max([1, 10, 99, 33])"
     ],
     "language": "python",
     "metadata": {},
     "outputs": [
      {
       "metadata": {},
       "output_type": "pyout",
       "prompt_number": 248,
       "text": [
        "99"
       ]
      }
     ],
     "prompt_number": 248
    },
    {
     "cell_type": "code",
     "collapsed": false,
     "input": [
      "min([1, 10, 99, 33])"
     ],
     "language": "python",
     "metadata": {},
     "outputs": [
      {
       "metadata": {},
       "output_type": "pyout",
       "prompt_number": 249,
       "text": [
        "1"
       ]
      }
     ],
     "prompt_number": 249
    },
    {
     "cell_type": "markdown",
     "metadata": {},
     "source": [
      "### \ud1a0\ub860\n",
      "\n",
      "- \ub515\uc154\ub108\ub9ac\uc5d0\uc11c \uc77c\ubc18\uc801\uc778 \ub370\uc774\ud130 \ucd95\uc18c\ub97c \uc2dc\ub3c4\ud558\uba74, \uc624\uc9c1 \ud0a4\uc5d0 \ub300\ud574\uc11c\ub9cc \uc791\uc5c5\uc774 \uc774\ub8e8\uc5b4\uc9d0"
     ]
    },
    {
     "cell_type": "code",
     "collapsed": false,
     "input": [
      "prices"
     ],
     "language": "python",
     "metadata": {},
     "outputs": [
      {
       "metadata": {},
       "output_type": "pyout",
       "prompt_number": 255,
       "text": [
        "{'AAPL': 612.78, 'HPQ': 37.2, 'IBM': 205.55, 'FB': 10.75, 'ACME': 45.23}"
       ]
      }
     ],
     "prompt_number": 255
    },
    {
     "cell_type": "code",
     "collapsed": false,
     "input": [
      "min(prices)"
     ],
     "language": "python",
     "metadata": {},
     "outputs": [
      {
       "metadata": {},
       "output_type": "pyout",
       "prompt_number": 253,
       "text": [
        "'AAPL'"
       ]
      }
     ],
     "prompt_number": 253
    },
    {
     "cell_type": "code",
     "collapsed": false,
     "input": [
      "max(prices)"
     ],
     "language": "python",
     "metadata": {},
     "outputs": [
      {
       "metadata": {},
       "output_type": "pyout",
       "prompt_number": 254,
       "text": [
        "'IBM'"
       ]
      }
     ],
     "prompt_number": 254
    },
    {
     "cell_type": "markdown",
     "metadata": {},
     "source": [
      "- \ub515\uc154\ub108\ub9ac\uc758 \uac12\uc5d0 \ub300\ud574\uc11c \uc54c\uace0 \uc2f6\uc74c"
     ]
    },
    {
     "cell_type": "code",
     "collapsed": false,
     "input": [
      "min(prices.values())"
     ],
     "language": "python",
     "metadata": {},
     "outputs": [
      {
       "metadata": {},
       "output_type": "pyout",
       "prompt_number": 256,
       "text": [
        "10.75"
       ]
      }
     ],
     "prompt_number": 256
    },
    {
     "cell_type": "code",
     "collapsed": false,
     "input": [
      "max(prices.values())"
     ],
     "language": "python",
     "metadata": {},
     "outputs": [
      {
       "metadata": {},
       "output_type": "pyout",
       "prompt_number": 257,
       "text": [
        "612.78"
       ]
      }
     ],
     "prompt_number": 257
    },
    {
     "cell_type": "markdown",
     "metadata": {},
     "source": [
      "- \ud0a4\uc5d0 \uc77c\uce58\ud558\ub294 \uac12 \uc815\ubcf4\uae4c\uc9c0 \uc54c\uace0 \uc2f6\ub2e4\uba74?(\uc5b4\ub5a4 \uc8fc\uc2dd\uc758 \uac12\uc774 \uac00\uc7a5 \ub0ae\uc744\uae4c?)"
     ]
    },
    {
     "cell_type": "code",
     "collapsed": false,
     "input": [
      "min(prices, key=lambda k: prices[k])"
     ],
     "language": "python",
     "metadata": {},
     "outputs": [
      {
       "metadata": {},
       "output_type": "pyout",
       "prompt_number": 260,
       "text": [
        "'FB'"
       ]
      }
     ],
     "prompt_number": 260
    },
    {
     "cell_type": "code",
     "collapsed": false,
     "input": [
      "max(prices, key=lambda k: prices[k])"
     ],
     "language": "python",
     "metadata": {},
     "outputs": [
      {
       "metadata": {},
       "output_type": "pyout",
       "prompt_number": 261,
       "text": [
        "'AAPL'"
       ]
      }
     ],
     "prompt_number": 261
    },
    {
     "cell_type": "markdown",
     "metadata": {},
     "source": [
      "- \ud558\uc9c0\ub9cc \ucd5c\uc18c\uac12\uc744 \uc5bb\uae30 \uc704\ud574\uc11c \ud55c \ubc88 \ub354 \uc0b4\ud3b4\ubcf4\ub294 \uc791\uc5c5\uc774 \ud544\uc694\ud568"
     ]
    },
    {
     "cell_type": "code",
     "collapsed": false,
     "input": [
      "min_value = prices[min(prices, key=lambda k: prices[k])]\n",
      "min_value"
     ],
     "language": "python",
     "metadata": {},
     "outputs": [
      {
       "metadata": {},
       "output_type": "pyout",
       "prompt_number": 262,
       "text": [
        "10.75"
       ]
      }
     ],
     "prompt_number": 262
    },
    {
     "cell_type": "code",
     "collapsed": false,
     "input": [
      "prices['FB']"
     ],
     "language": "python",
     "metadata": {},
     "outputs": [
      {
       "metadata": {},
       "output_type": "pyout",
       "prompt_number": 263,
       "text": [
        "10.75"
       ]
      }
     ],
     "prompt_number": 263
    },
    {
     "cell_type": "markdown",
     "metadata": {},
     "source": [
      "- zip()\uc744 \ud3ec\ud568\ud55c \ud574\uacb0\ucc45\uc740 \ub515\uc154\ub108\ub9ac\uc758 \uc2dc\ud000\uc2a4\ub97c (value, key) \ud398\uc5b4\ub85c \ub4a4\uc9d1\ub294 \uac83\uc73c\ub85c \ubb38\uc81c \ud574\uacb0\n",
      "- \uc774\ub7f0 \ud29c\ud50c\uc5d0 \ube44\uad50\ub97c \uc218\ud589\ud558\uba74 value \uc694\uc18c\ub97c \uba3c\uc800 \ube44\uad50\ud558\uace0 \ub4a4\uc774\uc5b4 key\ub97c \ube44\uad50\n",
      "- \uba85\ub839\uc5b4 \ud558\ub098\ub9cc\uc73c\ub85c \uc815\ud655\ud788 \uc6b0\ub9ac\uac00 \uc6d0\ud558\ub294 \ub370\uc774\ud130 \ucd95\uc18c\ud654 \uc815\ub82c\uc744 \uc218\ud589\n",
      "- \uc5ec\ub7ec \uc5d4\ud2b8\ub9ac\uac00 \ub3d9\uc77c\ud55c \uac12\uc744 \uac00\uc9c0\uace0 \uc788\uc744 \ub54c \ube44\uad50 \uacb0\uacfc\ub97c \uacb0\uc815\ud558\uae30 \uc704\ud574\uc11c \ud0a4\ub97c \uc0ac\uc6a9\ud55c\ub2e4\ub294 \uc810 \uc8fc\ubaa9\n",
      "- min()\uacfc max()\ub97c \uacc4\uc0b0\ud560 \ub54c \uc911\ubcf5\ub41c \uac12\uc774 \uc788\uc73c\uba74 \uac00\uc7a5 \uc791\uac70\ub098 \ud070 \ud0a4\ub97c \uac00\uc9c0\uacf5 \u3163\u3146\ub294 \uc5d4\ud2b8\ub9ac\ub97c \ubc18\ud658"
     ]
    },
    {
     "cell_type": "code",
     "collapsed": false,
     "input": [
      "prices = {'AAA': 45.23,\n",
      "          'ZZZ': 45.23}"
     ],
     "language": "python",
     "metadata": {},
     "outputs": [],
     "prompt_number": 264
    },
    {
     "cell_type": "code",
     "collapsed": false,
     "input": [
      "min(zip(prices.values(), prices.keys()))"
     ],
     "language": "python",
     "metadata": {},
     "outputs": [
      {
       "metadata": {},
       "output_type": "pyout",
       "prompt_number": 266,
       "text": [
        "(45.23, 'AAA')"
       ]
      }
     ],
     "prompt_number": 266
    },
    {
     "cell_type": "code",
     "collapsed": false,
     "input": [
      "max(zip(prices.values(), prices.keys()))"
     ],
     "language": "python",
     "metadata": {},
     "outputs": [
      {
       "metadata": {},
       "output_type": "pyout",
       "prompt_number": 267,
       "text": [
        "(45.23, 'ZZZ')"
       ]
      }
     ],
     "prompt_number": 267
    },
    {
     "cell_type": "markdown",
     "metadata": {},
     "source": [
      "## 1.9 \ub450 \ub515\uc154\ub108\ub9ac\uc758 \uc720\uc0ac\uc810 \ucc3e\uae30\n",
      "\n",
      "### \ubb38\uc81c\n",
      "\n",
      "- \ub450 \ub515\uc154\ub108\ub9ac\uac00 \uc788\uace0 \uc5ec\uae30\uc11c \uc720\uc0ac\uc810\uc744 \ucc3e\uace0 \uc2f6\ub2e4(\ub3d9\uc77c\ud55c \ud0a4, \ub3d9\uc77c\ud55c \uac12 \ub4f1)\n",
      "\n",
      "### \ud574\uacb0"
     ]
    },
    {
     "cell_type": "code",
     "collapsed": false,
     "input": [
      "a = {\n",
      "'x': 1,\n",
      "'y': 2,\n",
      "'z': 3\n",
      "}"
     ],
     "language": "python",
     "metadata": {},
     "outputs": [],
     "prompt_number": 268
    },
    {
     "cell_type": "code",
     "collapsed": false,
     "input": [
      "b = {\n",
      "'w': 10,\n",
      "'x': 11,\n",
      "'y': 2\n",
      "}"
     ],
     "language": "python",
     "metadata": {},
     "outputs": [],
     "prompt_number": 269
    },
    {
     "cell_type": "markdown",
     "metadata": {},
     "source": [
      "- \ub450 \ub515\uc154\ub108\ub9ac\uc758 \uc720\uc0ac\uc810\uc744 \ucc3e\uc73c\ub824\uba74 keys()\uc640 items() \uba54\uc18c\ub4dc\uc5d0 \uc9d1\ud55c \uc5f0\uc0b0 \uc218\ud589"
     ]
    },
    {
     "cell_type": "code",
     "collapsed": false,
     "input": [
      "# \ub3d9\uc77c\ud55c \ud0a4 \ucc3e\uae30\n",
      "a.keys() & b.keys()"
     ],
     "language": "python",
     "metadata": {},
     "outputs": [
      {
       "metadata": {},
       "output_type": "pyout",
       "prompt_number": 271,
       "text": [
        "{'x', 'y'}"
       ]
      }
     ],
     "prompt_number": 271
    },
    {
     "cell_type": "code",
     "collapsed": false,
     "input": [
      "# a\uc5d0\ub9cc \uc788\uace0 b\uc5d0\ub294 \uc5c6\ub294 \ud0a4 \ucc3e\uae30\n",
      "a.keys() - b.keys()"
     ],
     "language": "python",
     "metadata": {},
     "outputs": [
      {
       "metadata": {},
       "output_type": "pyout",
       "prompt_number": 272,
       "text": [
        "{'z'}"
       ]
      }
     ],
     "prompt_number": 272
    },
    {
     "cell_type": "markdown",
     "metadata": {},
     "source": [
      "- \uc774\ub7f0 \uc5f0\uc0b0\uc744 \uc0ac\uc6a9\ud574\uc11c \ub515\uc154\ub108\ub9ac\uc758 \ub0b4\uc6a9\uc744 \uc218\uc815\ud558\uac70\ub098 \uac78\ub7ec\ub0bc \uc218 \uc788\uc74c\n",
      "- \uc120\ud0dd\ud55c \ud0a4\ub97c \uc0ad\uc81c\ud55c \uc0c8\ub85c\uc6b4 \ub515\uc154\ub108\ub9ac\ub97c \ub9cc\ub4e4\uace0 \uc2dc\u3163\u314d\uc744 \ub54c\ub294"
     ]
    },
    {
     "cell_type": "code",
     "collapsed": false,
     "input": [
      "# \ud2b9\uc815 \ud0a4\ub97c \uc81c\uac70\ud55c \uc0c8\ub85c\uc6b4 \ub515\uc154\ub108\ub9ac \ub9cc\ub4e4\uae30\n",
      "c = {key:a[key] for key in a.keys() - {'z', 'w'}}\n",
      "c"
     ],
     "language": "python",
     "metadata": {},
     "outputs": [
      {
       "metadata": {},
       "output_type": "pyout",
       "prompt_number": 273,
       "text": [
        "{'x': 1, 'y': 2}"
       ]
      }
     ],
     "prompt_number": 273
    },
    {
     "cell_type": "markdown",
     "metadata": {},
     "source": [
      "### \ud1a0\ub860\n",
      "\n",
      "- \ub515\uc154\ub108\ub9ac\ub294 \ud0a4\uc640 \uac12\uc758 \ub9e4\ud551\uc73c\ub85c \uc774\ub8e8\uc5b4\uc9d0\n",
      "- \uc9d1\ud569 \uc5f0\uc0b0 \uae30\ub2a5\ub3c4 \uc788\uc74c(\ud569\uc9d1\ud569, \uad50\uc9d1\ud569, \uc5ec\uc9d1\ud569)\n",
      "- items() \uba54\uc18c\ub4dc\ub294 key,value \ud398\uc5b4\ub85c \uad6c\uc131\ub41c item-view \uac1d\uccb4\ub97c \ubc18\ud658\n",
      "- values() \uba54\uc18c\ub4dc\ub294 \uc55e\uc5d0 \ub098\uc628 \uc9d1\ud569 \uc5f0\uc0b0\uc744 \uc9c0\uc6d0\ud558\uc9c0 \uc54a\uc74c, key\ucc98\ub7fc \uc720\uc77c\ud558\ub2e4\ub294 \ubcf4\uc7a5\uc774 \uc5c6\uae30 \ub54c\ubb38"
     ]
    },
    {
     "cell_type": "markdown",
     "metadata": {},
     "source": [
      "## 1.10 \uc21c\uc11c\ub97c \uae68\uc9c0 \uc54a\uace0 \uc2dc\ud000\uc2a4\uc758 \uc911\ubcf5 \uc5c6\uc560\uae30\n",
      "\n",
      "### \ubb38\uc81c\n",
      "\n",
      "- \uc2dc\ud000\uc2a4\uc5d0\uc11c \uc911\ubcf5\ub41c \uac12\uc744 \uc5c6\uc560\uace0 \uc2f6\uc9c0\ub9cc, \uc544\uc774\ud15c\uc758 \uc21c\uc11c\ub294 \uc720\uc9c0\ud558\uace0 \uc2f6\ub2e4\n",
      "\n",
      "### \ud574\uacb0\n",
      "\n",
      "- \uc2dc\ud000\uc2a4\uc758 \uac12\uc774 hash \uac00\ub2a5\ud558\ub2e4\uba74 \uc774 \ubb38\uc81c\ub294 set, generator\ub97c \uc0ac\uc6a9\ud574 \uc27d\uac8c \ud574\uacb0\n",
      "- yield\ub97c \uc0ac\uc6a9\ud558\ub294\uac8c \uc775\uc219\ud558\uc9c0\uac00 \uc54a\ub124\n",
      "\n",
      "----\n",
      "\n",
      "- \uadf8\ub0e5 list\ub85c \ud574\ub3c4 \ud574\uacb0\ub418\uc9c0 \uc54a\ub098??\n",
      "- \ud568\uc218 \uc548\uc5d0\uc11c \ubaa8\ub450 \uc5f0\uc0b0\ud558\uace0 \ucd5c\uc885\uc801\uc73c\ub85c return\ub9cc \ub3cc\ub824\uc8fc\uba74 \ub418\uc9c0 \uc54a\ub098? \uad73\uc774 yield\ub97c \uc0ac\uc6a9\ud574\uc57c \ub418\ub098?\n",
      "----"
     ]
    },
    {
     "cell_type": "code",
     "collapsed": false,
     "input": [
      "def dedupe(items):\n",
      "    seen = set()\n",
      "    for item in items:\n",
      "        if item not in seen:\n",
      "            yield item\n",
      "            seen.add(item)"
     ],
     "language": "python",
     "metadata": {},
     "outputs": [],
     "prompt_number": 290
    },
    {
     "cell_type": "code",
     "collapsed": false,
     "input": [
      "a = [1, 5, 2, 1, 9, 1, 5, 10]"
     ],
     "language": "python",
     "metadata": {},
     "outputs": [],
     "prompt_number": 291
    },
    {
     "cell_type": "code",
     "collapsed": false,
     "input": [
      "# \ubc1b\uc744 \ub54c yield generator\ub85c \uacc4\uc18d \ubc1b\uc73c\ub2c8\uae4c \ucd5c\uc885\uc801\uc73c\ub85c list\ub85c \ubcc0\uacbd\ud574\uc918\uc57c \ub418\ub124\n",
      "list(dedupe(a))"
     ],
     "language": "python",
     "metadata": {},
     "outputs": [
      {
       "metadata": {},
       "output_type": "pyout",
       "prompt_number": 292,
       "text": [
        "[1, 5, 2, 9, 10]"
       ]
      }
     ],
     "prompt_number": 292
    },
    {
     "cell_type": "code",
     "collapsed": false,
     "input": [
      "dedupe(a)"
     ],
     "language": "python",
     "metadata": {},
     "outputs": [
      {
       "metadata": {},
       "output_type": "pyout",
       "prompt_number": 293,
       "text": [
        "<generator object dedupe at 0x10fdb6f78>"
       ]
      }
     ],
     "prompt_number": 293
    },
    {
     "cell_type": "code",
     "collapsed": false,
     "input": [
      "print(dedupe(a))"
     ],
     "language": "python",
     "metadata": {},
     "outputs": [
      {
       "output_type": "stream",
       "stream": "stdout",
       "text": [
        "<generator object dedupe at 0x10fdb4990>\n"
       ]
      }
     ],
     "prompt_number": 294
    },
    {
     "cell_type": "markdown",
     "metadata": {},
     "source": [
      "- [Pycon Korea 2014 Program | \uc704\ub300\ud55c dict \uc774\ud574\ud558\uace0 \uc0ac\uc6a9\ud558\uae30](http://www.pycon.kr/2014/program/2)"
     ]
    },
    {
     "cell_type": "code",
     "collapsed": false,
     "input": [
      "# \uadf8\ub0e5 list \uc774\uc6a9\ud574\ub3c4 \ub418\uc796\uc544..?\n",
      "# \uadfc\ub370 list\ub97c \uc774\uc6a9\ud558\uba74 hash\uac12\uc774 \uc544\ub2c8\uae30 \ub54c\ubb38\uc5d0 list\uc758 \uae38\uc774\uac00 \uae38\uc5b4\uc9c8\uc218\ub85d \uc2dc\uac04\ubcf5\uc7a1\ub3c4\uac00 \uc0c1\uc2b9\ud558\uaca0\ub124\n",
      "# set\uc740 \ud574\uc26c\uac12\uc73c\ub85c \uacc4\uc0b0\ud558\uae30 \ub54c\ubb38\uc5d0 \uc2dc\uac04\ubcf5\uc7a1\ub3c4\ub294 \ud56d\uc0c1 \uc77c\uc815!(\uad6c\uc885\ub9cc\ub2d8 \uc704\ub300\ud55c dict \uc774\ud574\ud558\uae30 \ucc38\uace0)\n",
      "def dedupe_my(items):\n",
      "    seen = []\n",
      "    for item in items:\n",
      "        if item not in seen:\n",
      "            seen.append(item)\n",
      "    return seen\n",
      "dedupe_my(a)"
     ],
     "language": "python",
     "metadata": {},
     "outputs": [
      {
       "metadata": {},
       "output_type": "pyout",
       "prompt_number": 295,
       "text": [
        "[1, 5, 2, 9, 10]"
       ]
      }
     ],
     "prompt_number": 295
    },
    {
     "cell_type": "markdown",
     "metadata": {},
     "source": [
      "- \uc2dc\ud000\uc2a4\uc758 \uc544\uc774\ud15c\uc774 \ud574\uc2dc \uac00\ub2a5\ud55c \uacbd\uc6b0\uc5d0\ub9cc \uc0ac\uc6a9 \uac00\ub2a5\n",
      "- \ud574\uc2dc \ubd88\uac00\ub2a5\ud55c \ud0c0\uc785(dict)\uc758 \uc911\ubcf5\uc744 \uc5c6\uc560\ub824\uba74 \ub808\uc2dc\ud53c\uc5d0 \uc57d\uac04\uc758 \uc218\uc815\uc774 \ud544\uc694"
     ]
    },
    {
     "cell_type": "code",
     "collapsed": false,
     "input": [
      "def dedupe_dict(items, key=None):\n",
      "    seen = set()\n",
      "    for item in items:\n",
      "        val = item if key is None else key(item)\n",
      "        if val not in seen:\n",
      "            yield item\n",
      "            seen.add(val)"
     ],
     "language": "python",
     "metadata": {},
     "outputs": [],
     "prompt_number": 296
    },
    {
     "cell_type": "markdown",
     "metadata": {},
     "source": [
      "- key \uc778\uc790\uc758 \ubaa9\uc801: \uc911\ubcf5 \uac80\uc0ac\ub97c \uc704\ud574 \ud568\uc218\uac00 \uc2dc\ud000\uc2a4 \uc544\uc774\ud15c\uc744 \ud574\uc2dc \uac00\ub2a5\ud55c \ud0c0\uc785\uc73c\ub85c \ubcc0\ud658\ud55c\ub2e4\uace0 \uba85\uc2dc"
     ]
    },
    {
     "cell_type": "code",
     "collapsed": false,
     "input": [
      "a = [\n",
      "{'x': 1, 'y': 2},\n",
      "{'x': 1, 'y': 3},\n",
      "{'x': 1, 'y': 2},\n",
      "{'x': 2, 'y': 4}\n",
      "]"
     ],
     "language": "python",
     "metadata": {},
     "outputs": [],
     "prompt_number": 297
    },
    {
     "cell_type": "code",
     "collapsed": false,
     "input": [
      "# \uc544...\uc774\uac8c \ubb54 \uadc0\uc2e0 \uc2e0\ub098\ub77d \uae4c\uba39\ub294 \uc18c\ub9ac\uc778\uac00 \ud55c\ucc38 \uace0\ubbfc\ud588\ub124\n",
      "# \ub0b4\uac00 \uc544\uc9c1 \ub0b4\uacf5\uc774 \ubd80\uc871\ud558\uad6c\ub098 \ub77c\ub294 \uc790\uad34\uac10\uc5d0 \uc7a0\uc2dc \ube60\uc9d0..\n",
      "# a\ub77c\ub294 dictionary\uc5d0\uc11c x, y 2\uac1c\ub97c key\ub85c \uc7a1\uc544\uc11c \uc911\ubcf5\uc744 \uc81c\uac70\ud558\uaca0\ub2e4\ub294 \uc758\ubbf8\n",
      "# \ucd1d 4\uac1c\uac00 \ub4e4\uc5b4\uac00\ub294\ub370 1,2\uac00 \uc911\ubcf5\uc774 \ub418\uae30 \ub54c\ubb38\uc5d0 \ucd1d 3\uac1c\ub9cc \ucd9c\ub825 \ub428\n",
      "list(dedupe_dict(a, key=lambda d: (d['x'], d['y'])))"
     ],
     "language": "python",
     "metadata": {},
     "outputs": [
      {
       "metadata": {},
       "output_type": "pyout",
       "prompt_number": 298,
       "text": [
        "[{'x': 1, 'y': 2}, {'x': 1, 'y': 3}, {'x': 2, 'y': 4}]"
       ]
      }
     ],
     "prompt_number": 298
    },
    {
     "cell_type": "code",
     "collapsed": false,
     "input": [
      "# \uc774\uac74 x\uac12\uc73c\ub85c \uc911\ubcf5 \uccb4\ud06c\ud558\uaca0\ub2e4\ub294 \uc758\ubbf8\n",
      "# \uadf8\ub798\uc11c 1,2\ub9cc \ud1b5\uacfc\ub418\uc11c \ucd1d 2\uac1c \ucd9c\ub825\n",
      "list(dedupe_dict(a, key=lambda d: d['x']))"
     ],
     "language": "python",
     "metadata": {},
     "outputs": [
      {
       "metadata": {},
       "output_type": "pyout",
       "prompt_number": 300,
       "text": [
        "[{'x': 1, 'y': 2}, {'x': 2, 'y': 4}]"
       ]
      }
     ],
     "prompt_number": 300
    },
    {
     "cell_type": "markdown",
     "metadata": {},
     "source": [
      "- \ub4a4\uc5d0 \ub098\uc628 \ud574\uacb0\ucc45\uc740 \ud544\ub4dc\uac00 \ud558\ub098\uc774\uac70\ub098 \ucee4\ub2e4\ub780 \uc790\ub8cc \uad6c\uc870\uc5d0 \uae30\ubc18\ud55c \uac12\uc758 \uc911\ubcf5\uc744 \uc5c6\uc568 \ub54c\ub3c4 \uc798 \ub3d9\uc791\n",
      "\n",
      "-----\n",
      "\n",
      "- \uc790\uc138\ud55c\uac74 \ub098\uc911\uc5d0 \uc9c1\uc811 \uc368 \uba39\uc744 \ub54c \ub2e4\uc2dc \ud55c \ubc88 \ud655\uc778\ud574\uc57c\uaca0\ub2e4.\n",
      "- \uc9c0\uae08\uc740 \ub300\ucda9 \ud6d1\uc5b4\ubd24\ub2e4. \uc9c0\uae08 \uc644\uc804\ud788 \uc774\ud574\ud560 \uc218 \uc5c6\uc73c\ub2c8 \ub098\uc911\uc5d0 \ub0b4\uac00 \uaf2d \uc368\uc57c \ud560 \ub54c \uc774 \ubb38\uc11c\ub97c \ucc3e\uc73c\uba74 \ud6e8\uc52c \uc774\ud574\ub3c4\uac00 \ube60\ub97c \uac83\uc774\ub2e4.\n",
      "\n",
      "------"
     ]
    },
    {
     "cell_type": "markdown",
     "metadata": {},
     "source": [
      "### \ud1a0\ub860\n",
      "\n",
      "- \uc911\ubcf5\uc744 \uc5c6\uc560\ub824\uba74 \ub300\uac8c \uc138\ud2b8\ub97c \ub9cc\ub4dc\ub294 \uac83\uc774 \uac00\uc7a5 \uc26c\uc6c0"
     ]
    },
    {
     "cell_type": "code",
     "collapsed": false,
     "input": [
      "a = [1, 5, 2, 1, 9, 1, 5, 10]"
     ],
     "language": "python",
     "metadata": {},
     "outputs": [],
     "prompt_number": 302
    },
    {
     "cell_type": "code",
     "collapsed": false,
     "input": [
      "set(a)"
     ],
     "language": "python",
     "metadata": {},
     "outputs": [
      {
       "metadata": {},
       "output_type": "pyout",
       "prompt_number": 303,
       "text": [
        "{1, 2, 5, 9, 10}"
       ]
      }
     ],
     "prompt_number": 303
    },
    {
     "cell_type": "markdown",
     "metadata": {},
     "source": [
      "- set\uc744 \uc774\uc6a9\ud558\uba74 \uae30\uc874 \ub370\uc774\ud130\uc758 \uc21c\uc11c\uac00 \ud6fc\uc190 \ub428\n",
      "- generator \ud568\uc218\ub97c \uc0ac\uc6a9\ud588\uae30 \ub54c\ubb38\uc5d0 \ub2e8\uc21c\ud788 \ub9ac\uc2a4\ud2b8 \ud504\ub85c\uc138\uc2f1 \ub9d0\uace0\ub3c4 \uc544\uc8fc \uc77c\ubc18\uc801\uc778 \ubaa9\uc801\uc73c\ub85c \ud568\uc218\ub97c \uc0ac\uc6a9\ud560 \uc218 \uc788\uc74c\n",
      "- \ud30c\uc77c\uc744 \uc77d\uc5b4 \ub4e4\uc77c \ub54c \uc911\ubcf5\ub41c \ub77c\uc778\uc744 \ubb34\uc2dc\ud558\ub824\uba74 \ub2e8\uc21c\ud788 \ub2e4\uc74c\uacfc \uac19\uc740 \ucf54\ub4dc \uc0ac\uc6a9"
     ]
    },
    {
     "cell_type": "code",
     "collapsed": false,
     "input": [
      "!cat 01/duplicate.txt"
     ],
     "language": "python",
     "metadata": {},
     "outputs": [
      {
       "output_type": "stream",
       "stream": "stdout",
       "text": [
        "dup\r\n",
        "dup\r\n",
        "\r\n",
        "good job?\r\n",
        "ok..\r\n",
        "dup\r\n",
        "\r\n",
        "hoho\r\n",
        "good job?\r\n",
        "end"
       ]
      }
     ],
     "prompt_number": 306
    },
    {
     "cell_type": "code",
     "collapsed": false,
     "input": [
      "with open('01/duplicate.txt') as f:\n",
      "    for line in dedupe(f):\n",
      "        print(line.strip())"
     ],
     "language": "python",
     "metadata": {},
     "outputs": [
      {
       "output_type": "stream",
       "stream": "stdout",
       "text": [
        "dup\n",
        "\n",
        "good job?\n",
        "ok..\n",
        "hoho\n",
        "end\n"
       ]
      }
     ],
     "prompt_number": 305
    },
    {
     "cell_type": "markdown",
     "metadata": {},
     "source": [
      "- key \ud568\uc218\uc758 \uc2a4\ud399\uc740 \ud30c\uc774\uc36c \ub0b4\uc7a5 \ud568\uc218\uc778 sorted(), min(), max() \ub4f1\uc758 \uae30\ub2a5\uc744 \ud749\ub0b4 \ub0b4\uace0 \uc788\uc74c"
     ]
    },
    {
     "cell_type": "markdown",
     "metadata": {},
     "source": [
      "## 1.11 \uc2ac\ub77c\uc774\uc2a4 \uc774\ub984 \ubd99\uc774\uae30\n",
      "\n",
      "### \ubb38\uc81c\n",
      "\n",
      "- \ud504\ub85c\uadf8\ub7a8 \ucf54\ub4dc\uc5d0 slice\ub97c \uc9c0\uc2dc\ud558\ub294 \ud558\ub4dc\ucf54\ub529\uc774 \ub108\ubb34 \ub9ce\uc544 \uc774\ud574\ud558\uae30 \uc5b4\ub824\uc6b4 \uc0c1\ud669\uc774\ub2e4. \uc774\ub97c \uc815\ub9ac\ud574\uc57c \ud55c\ub2e4.\n",
      "\n",
      "### \ud574\uacb0\n",
      "\n",
      "- \uace0\uc815\ub41c \ubb38\uc790\uc5f4\ub85c\ubd80\ud130 \ud2b9\uc815 \ub370\uc774\ud130\ub97c \ucd94\ucd9c\ud558\ub294 \ucf54\ub4dc\uac00 \uc788\ub2e4\uace0 \uac00\uc815"
     ]
    },
    {
     "cell_type": "code",
     "collapsed": false,
     "input": [
      "record = '....................100         ........513.25    ..........'"
     ],
     "language": "python",
     "metadata": {},
     "outputs": [],
     "prompt_number": 323
    },
    {
     "cell_type": "code",
     "collapsed": false,
     "input": [
      "record[20:32]"
     ],
     "language": "python",
     "metadata": {},
     "outputs": [
      {
       "metadata": {},
       "output_type": "pyout",
       "prompt_number": 324,
       "text": [
        "'100         '"
       ]
      }
     ],
     "prompt_number": 324
    },
    {
     "cell_type": "code",
     "collapsed": false,
     "input": [
      "record[40:48]"
     ],
     "language": "python",
     "metadata": {},
     "outputs": [
      {
       "metadata": {},
       "output_type": "pyout",
       "prompt_number": 325,
       "text": [
        "'513.25  '"
       ]
      }
     ],
     "prompt_number": 325
    },
    {
     "cell_type": "code",
     "collapsed": false,
     "input": [
      "cost = int(record[20:32]) * float(record[40:48])"
     ],
     "language": "python",
     "metadata": {},
     "outputs": [],
     "prompt_number": 326
    },
    {
     "cell_type": "code",
     "collapsed": false,
     "input": [
      "cost"
     ],
     "language": "python",
     "metadata": {},
     "outputs": [
      {
       "metadata": {},
       "output_type": "pyout",
       "prompt_number": 327,
       "text": [
        "51325.0"
       ]
      }
     ],
     "prompt_number": 327
    },
    {
     "cell_type": "code",
     "collapsed": false,
     "input": [
      "SHARES = slice(20, 32)\n",
      "SHARES"
     ],
     "language": "python",
     "metadata": {},
     "outputs": [
      {
       "metadata": {},
       "output_type": "pyout",
       "prompt_number": 329,
       "text": [
        "slice(20, 32, None)"
       ]
      }
     ],
     "prompt_number": 329
    },
    {
     "cell_type": "code",
     "collapsed": false,
     "input": [
      "PRICE = slice(40, 48)\n",
      "PRICE"
     ],
     "language": "python",
     "metadata": {},
     "outputs": [
      {
       "metadata": {},
       "output_type": "pyout",
       "prompt_number": 330,
       "text": [
        "slice(40, 48, None)"
       ]
      }
     ],
     "prompt_number": 330
    },
    {
     "cell_type": "code",
     "collapsed": false,
     "input": [
      "cost = int(record[SHARES]) * float(record[PRICE])\n",
      "cost"
     ],
     "language": "python",
     "metadata": {},
     "outputs": [
      {
       "metadata": {},
       "output_type": "pyout",
       "prompt_number": 331,
       "text": [
        "51325.0"
       ]
      }
     ],
     "prompt_number": 331
    },
    {
     "cell_type": "markdown",
     "metadata": {},
     "source": [
      "- \uc774\ub807\uac8c \ud558\ub294 \uac83\ub3c4 \ub098\uc058\uc9c0 \uc54a\uc9c0\ub9cc \ub098\uc911\uc5d0 \uc790\ub9ac \uc704\uce58\uac00 \ubc14\ub00c\uac8c \ub418\uba74 \uc5b4\ub5bb\uac8c \ud560\uac70\ub0d0?\n",
      "- bio python\uc5d0\uc11c \ub098\uc654\ub358 struct \ubaa8\ub4c8\uc744 \uc0ac\uc6a9\ud558\ub294\uac8c \uc88b\uc544 \ubcf4\uc778\ub2e4.\n",
      "- \uc544\ub2c8\uba74 \uac1c\ub150\uc744 \uc7a1\uc544\uc8fc\ub294 \ud504\ub85c\uadf8\ub798\ubc0d \uc815\uc11d\uc5d0 \ub098\uc654\ub358\ub300\ub85c \uac01\uac01\uc758 \ud29c\ud50c\ub85c \ub9cc\ub4e4\uc5b4 \uc8fc\ub358\uac00"
     ]
    },
    {
     "cell_type": "markdown",
     "metadata": {},
     "source": [
      "### \ud1a0\ub860\n",
      "\n",
      "- \uc77c\ubc18\uc801\uc73c\ub85c \ub0b4\uc7a5 \ud568\uc218\uc778 slice()\ub294 \uc2ac\ub77c\uc774\uc2a4 \ubc1b\ub294 \ubaa8\ub4e0 \uacf3\uc5d0 \uc0ac\uc6a9\ud560 \uc218 \uc788\ub294 \uc870\uac01\uc744 \uc0dd\uc131"
     ]
    },
    {
     "cell_type": "code",
     "collapsed": false,
     "input": [
      "items = [0, 1, 2, 3, 4, 5, 6]"
     ],
     "language": "python",
     "metadata": {},
     "outputs": [],
     "prompt_number": 340
    },
    {
     "cell_type": "code",
     "collapsed": false,
     "input": [
      "a = slice(2, 4)\n",
      "a"
     ],
     "language": "python",
     "metadata": {},
     "outputs": [
      {
       "metadata": {},
       "output_type": "pyout",
       "prompt_number": 341,
       "text": [
        "slice(2, 4, None)"
       ]
      }
     ],
     "prompt_number": 341
    },
    {
     "cell_type": "code",
     "collapsed": false,
     "input": [
      "items[2:4]"
     ],
     "language": "python",
     "metadata": {},
     "outputs": [
      {
       "metadata": {},
       "output_type": "pyout",
       "prompt_number": 342,
       "text": [
        "[2, 3]"
       ]
      }
     ],
     "prompt_number": 342
    },
    {
     "cell_type": "code",
     "collapsed": false,
     "input": [
      "items[a]"
     ],
     "language": "python",
     "metadata": {},
     "outputs": [
      {
       "metadata": {},
       "output_type": "pyout",
       "prompt_number": 343,
       "text": [
        "[2, 3]"
       ]
      }
     ],
     "prompt_number": 343
    },
    {
     "cell_type": "code",
     "collapsed": false,
     "input": [
      "items[a] = [10, 11]"
     ],
     "language": "python",
     "metadata": {},
     "outputs": [],
     "prompt_number": 344
    },
    {
     "cell_type": "code",
     "collapsed": false,
     "input": [
      "items"
     ],
     "language": "python",
     "metadata": {},
     "outputs": [
      {
       "metadata": {},
       "output_type": "pyout",
       "prompt_number": 345,
       "text": [
        "[0, 1, 10, 11, 4, 5, 6]"
       ]
      }
     ],
     "prompt_number": 345
    },
    {
     "cell_type": "code",
     "collapsed": false,
     "input": [
      "del items[a]"
     ],
     "language": "python",
     "metadata": {},
     "outputs": [],
     "prompt_number": 346
    },
    {
     "cell_type": "code",
     "collapsed": false,
     "input": [
      "items"
     ],
     "language": "python",
     "metadata": {},
     "outputs": [
      {
       "metadata": {},
       "output_type": "pyout",
       "prompt_number": 347,
       "text": [
        "[0, 1, 4, 5, 6]"
       ]
      }
     ],
     "prompt_number": 347
    },
    {
     "cell_type": "markdown",
     "metadata": {},
     "source": [
      "- slice \uc778\uc2a4\ud134\uc2a4 s\uac00 \uc788\ub2e4\uba74 s.start\uc640 s.stop, s.step \uc18d\uc131\uc744 \ud1b5\ud574 \uc880 \ub354 \ub9ce\uc740 \uc815\ubcf4\ub97c \uc5bb\uc744 \uc218 \uc788\uc74c"
     ]
    },
    {
     "cell_type": "code",
     "collapsed": false,
     "input": [
      "# \ucc45\uc5d0 \uc624\ud0c0\ub85c 10\uc73c\ub85c \uc368\uc838 \uc788\uc5b4\uc11c \ud55c\ucc38 \uace0\uc0dd\n",
      "a = slice(5, 50, 2)"
     ],
     "language": "python",
     "metadata": {},
     "outputs": [],
     "prompt_number": 384
    },
    {
     "cell_type": "code",
     "collapsed": false,
     "input": [
      "a.start"
     ],
     "language": "python",
     "metadata": {},
     "outputs": [
      {
       "metadata": {},
       "output_type": "pyout",
       "prompt_number": 385,
       "text": [
        "5"
       ]
      }
     ],
     "prompt_number": 385
    },
    {
     "cell_type": "code",
     "collapsed": false,
     "input": [
      "a.stop"
     ],
     "language": "python",
     "metadata": {},
     "outputs": [
      {
       "metadata": {},
       "output_type": "pyout",
       "prompt_number": 386,
       "text": [
        "50"
       ]
      }
     ],
     "prompt_number": 386
    },
    {
     "cell_type": "code",
     "collapsed": false,
     "input": [
      "a.step"
     ],
     "language": "python",
     "metadata": {},
     "outputs": [
      {
       "metadata": {},
       "output_type": "pyout",
       "prompt_number": 387,
       "text": [
        "2"
       ]
      }
     ],
     "prompt_number": 387
    },
    {
     "cell_type": "markdown",
     "metadata": {},
     "source": [
      "- \ucd94\uac00\uc801\uc73c\ub85c indices(size) \uba54\uc18c\ub4dc\ub97c \uc0ac\uc6a9\ud558\uba74 \ud2b9\uc815 \ud06c\uae30\uc758 \uc2ac\ub77c\uc774\uc2a4\ub97c \ub9e4\ud551\n",
      "- \ud29c\ud50c(start, stop, step)\uc744 \ubc18\ud658\ud558\ub294\ub370, \ubaa8\ub4e0 \uac12\uc740 \uacbd\uacc4\ub97c \ub118\uc5b4\uc11c\uc9c0 \uc54a\ub3c4\ub85d \uc81c\uc57d\uc774 \uac78\ub824\uc788\ub2e4(\uc778\ub371\uc2a4\uc5d0 \uc811\uadfc\ud560 \ub54c IndexError \uc608\uc678\uac00 \ubc1c\uc0dd\ud558\uc9c0 \uc54a\ub3c4\ub85d \ud558\uae30 \uc704\ud568)"
     ]
    },
    {
     "cell_type": "code",
     "collapsed": false,
     "input": [
      "s = 'HelloWorld'"
     ],
     "language": "python",
     "metadata": {},
     "outputs": [],
     "prompt_number": 388
    },
    {
     "cell_type": "code",
     "collapsed": false,
     "input": [
      "len(s)"
     ],
     "language": "python",
     "metadata": {},
     "outputs": [
      {
       "metadata": {},
       "output_type": "pyout",
       "prompt_number": 389,
       "text": [
        "10"
       ]
      }
     ],
     "prompt_number": 389
    },
    {
     "cell_type": "code",
     "collapsed": false,
     "input": [
      "# a slice \uc124\uc815\uac12\uc5d0 len(s)\uac00 max\uac00 \ub418\ub124\n",
      "a.indices(len(s))"
     ],
     "language": "python",
     "metadata": {},
     "outputs": [
      {
       "metadata": {},
       "output_type": "pyout",
       "prompt_number": 390,
       "text": [
        "(5, 10, 2)"
       ]
      }
     ],
     "prompt_number": 390
    },
    {
     "cell_type": "code",
     "collapsed": false,
     "input": [
      "range(*a.indices(len(s)))"
     ],
     "language": "python",
     "metadata": {},
     "outputs": [
      {
       "metadata": {},
       "output_type": "pyout",
       "prompt_number": 391,
       "text": [
        "range(5, 10, 2)"
       ]
      }
     ],
     "prompt_number": 391
    },
    {
     "cell_type": "code",
     "collapsed": false,
     "input": [
      "for i in range(*a.indices(len(s))):\n",
      "    print(s[i])"
     ],
     "language": "python",
     "metadata": {},
     "outputs": [
      {
       "output_type": "stream",
       "stream": "stdout",
       "text": [
        "W\n",
        "r\n",
        "d\n"
       ]
      }
     ],
     "prompt_number": 392
    },
    {
     "cell_type": "markdown",
     "metadata": {},
     "source": [
      "## 1.12 \uc2dc\ud000\uc2a4\uc5d0 \uac00\uc7a5 \ub9ce\uc740 \uc544\uc774\ud15c \ucc3e\uae30\n",
      "\n",
      "### \ubb38\uc81c\n",
      "\n",
      "- \uc2dc\ud000\uc2a4\uc5d0 \uac00\uc7a5 \ub9ce\uc774 \ub098\ud0c0\ub09c \uc544\uc774\ud15c\uc744 \ucc3e\uace0 \uc2f6\ub2e4\n",
      "\n",
      "### \ud574\uacb0\n",
      "\n",
      "- \uc774\ub7ec\ud55c \ubb38\uc81c\ub97c \ud574\uacb0\ud558\uae30 \uc704\ud574 \uc874\uc7ac\ud558\ub294 \ud074\ub798\uc2a4\uac00 \ubc14\ub85c collections.Counter\n",
      "- most_common() \uba54\uc18c\ub4dc\ub3c4 \uc81c\uacf5\n",
      "- \ub2e8\uc5b4\uac00 \ub4e4\uc5b4\uc788\ub294 \ub9ac\uc2a4\ud2b8\uc5d0\uc11c \uac00\uc7a5 \uc790\uc8fc \ub098\ud0c0\ub098\ub294 \ub2e8\uc5b4\ub97c \ucc3e\uc544\ubcf4\uc790"
     ]
    },
    {
     "cell_type": "code",
     "collapsed": false,
     "input": [
      "words = [\n",
      "'look', 'into', 'my', 'eyes', 'look', 'into', 'my', 'eyes',\n",
      "'the', 'eyes', 'the', 'eyes', 'the', 'eyes', 'not', 'around', 'the',\n",
      "'eyes', \"don't\", 'look', 'around', 'the', 'eyes', 'look', 'into',\n",
      "'my', 'eyes', \"you're\", 'under'\n",
      "]"
     ],
     "language": "python",
     "metadata": {},
     "outputs": [],
     "prompt_number": 396
    },
    {
     "cell_type": "code",
     "collapsed": false,
     "input": [
      "from collections import Counter\n",
      "word_counts = Counter(words)\n",
      "top_three = word_counts.most_common(3)\n",
      "print(top_three)\n",
      "print(word_counts)"
     ],
     "language": "python",
     "metadata": {},
     "outputs": [
      {
       "output_type": "stream",
       "stream": "stdout",
       "text": [
        "[('eyes', 8), ('the', 5), ('look', 4)]\n",
        "Counter({'eyes': 8, 'the': 5, 'look': 4, 'my': 3, 'into': 3, 'around': 2, \"don't\": 1, \"you're\": 1, 'under': 1, 'not': 1})\n"
       ]
      }
     ],
     "prompt_number": 399
    },
    {
     "cell_type": "markdown",
     "metadata": {},
     "source": [
      "### \ud1a0\ub860\n",
      "\n",
      "- Counter \uac1d\uccb4\uc5d0\ub294 \ud574\uc2dc \uac00\ub2a5\ud55c \ubaa8\ub4e0 \uc544\uc774\ud15c\uc744 \uc785\ub825 \uac00\ub2a5\n",
      "- \ub0b4\ubd80\uc801\uc73c\ub85c Counter\ub294 \uc544\uc774\ud15c\uc774 \ub098\ud0c0\ub09c \ud69f\uc218\ub97c \uac00\ub9ac\ud0a4\ub294 \ub515\uc154\ub108\ub9ac"
     ]
    },
    {
     "cell_type": "code",
     "collapsed": false,
     "input": [
      "word_counts['not']"
     ],
     "language": "python",
     "metadata": {},
     "outputs": [
      {
       "metadata": {},
       "output_type": "pyout",
       "prompt_number": 400,
       "text": [
        "1"
       ]
      }
     ],
     "prompt_number": 400
    },
    {
     "cell_type": "code",
     "collapsed": false,
     "input": [
      "word_counts['eyes']"
     ],
     "language": "python",
     "metadata": {},
     "outputs": [
      {
       "metadata": {},
       "output_type": "pyout",
       "prompt_number": 401,
       "text": [
        "8"
       ]
      }
     ],
     "prompt_number": 401
    },
    {
     "cell_type": "code",
     "collapsed": false,
     "input": [
      "morewords = ['why', 'are', 'you', 'not', 'looking', 'in', 'my', 'eyes']"
     ],
     "language": "python",
     "metadata": {},
     "outputs": [],
     "prompt_number": 402
    },
    {
     "cell_type": "code",
     "collapsed": false,
     "input": [
      "for word in morewords:\n",
      "    word_counts[word] += 1"
     ],
     "language": "python",
     "metadata": {},
     "outputs": [],
     "prompt_number": 403
    },
    {
     "cell_type": "code",
     "collapsed": false,
     "input": [
      "word_counts['eyes']"
     ],
     "language": "python",
     "metadata": {},
     "outputs": [
      {
       "metadata": {},
       "output_type": "pyout",
       "prompt_number": 404,
       "text": [
        "9"
       ]
      }
     ],
     "prompt_number": 404
    },
    {
     "cell_type": "code",
     "collapsed": false,
     "input": [
      "word_counts"
     ],
     "language": "python",
     "metadata": {},
     "outputs": [
      {
       "metadata": {},
       "output_type": "pyout",
       "prompt_number": 405,
       "text": [
        "Counter({'eyes': 9, 'the': 5, 'look': 4, 'my': 4, 'into': 3, 'not': 2, 'around': 2, 'in': 1, \"you're\": 1, \"don't\": 1, 'you': 1, 'under': 1, 'are': 1, 'looking': 1, 'why': 1})"
       ]
      }
     ],
     "prompt_number": 405
    },
    {
     "cell_type": "code",
     "collapsed": false,
     "input": [
      "# list\ub85c \uc904 \uc218\ub3c4 \uc788\ub124\n",
      "word_counts.update(morewords)"
     ],
     "language": "python",
     "metadata": {},
     "outputs": [],
     "prompt_number": 406
    },
    {
     "cell_type": "code",
     "collapsed": false,
     "input": [
      "word_counts"
     ],
     "language": "python",
     "metadata": {},
     "outputs": [
      {
       "metadata": {},
       "output_type": "pyout",
       "prompt_number": 407,
       "text": [
        "Counter({'eyes': 10, 'my': 5, 'the': 5, 'look': 4, 'not': 3, 'into': 3, 'in': 2, 'around': 2, 'you': 2, 'are': 2, 'looking': 2, 'why': 2, \"you're\": 1, \"don't\": 1, 'under': 1})"
       ]
      }
     ],
     "prompt_number": 407
    },
    {
     "cell_type": "markdown",
     "metadata": {},
     "source": [
      "- \uc218\uc2dd\ub3c4 \uac00\ub2a5"
     ]
    },
    {
     "cell_type": "code",
     "collapsed": false,
     "input": [
      "a = Counter(words)"
     ],
     "language": "python",
     "metadata": {},
     "outputs": [],
     "prompt_number": 408
    },
    {
     "cell_type": "code",
     "collapsed": false,
     "input": [
      "b = Counter(morewords)"
     ],
     "language": "python",
     "metadata": {},
     "outputs": [],
     "prompt_number": 409
    },
    {
     "cell_type": "code",
     "collapsed": false,
     "input": [
      "a"
     ],
     "language": "python",
     "metadata": {},
     "outputs": [
      {
       "metadata": {},
       "output_type": "pyout",
       "prompt_number": 410,
       "text": [
        "Counter({'eyes': 8, 'the': 5, 'look': 4, 'my': 3, 'into': 3, 'around': 2, \"don't\": 1, \"you're\": 1, 'under': 1, 'not': 1})"
       ]
      }
     ],
     "prompt_number": 410
    },
    {
     "cell_type": "code",
     "collapsed": false,
     "input": [
      "b"
     ],
     "language": "python",
     "metadata": {},
     "outputs": [
      {
       "metadata": {},
       "output_type": "pyout",
       "prompt_number": 411,
       "text": [
        "Counter({'in': 1, 'not': 1, 'looking': 1, 'why': 1, 'eyes': 1, 'you': 1, 'are': 1, 'my': 1})"
       ]
      }
     ],
     "prompt_number": 411
    },
    {
     "cell_type": "code",
     "collapsed": false,
     "input": [
      "c = a + b"
     ],
     "language": "python",
     "metadata": {},
     "outputs": [],
     "prompt_number": 412
    },
    {
     "cell_type": "code",
     "collapsed": false,
     "input": [
      "c"
     ],
     "language": "python",
     "metadata": {},
     "outputs": [
      {
       "metadata": {},
       "output_type": "pyout",
       "prompt_number": 413,
       "text": [
        "Counter({'eyes': 9, 'the': 5, 'look': 4, 'my': 4, 'into': 3, 'not': 2, 'around': 2, 'in': 1, \"you're\": 1, \"don't\": 1, 'you': 1, 'under': 1, 'are': 1, 'looking': 1, 'why': 1})"
       ]
      }
     ],
     "prompt_number": 413
    },
    {
     "cell_type": "code",
     "collapsed": false,
     "input": [
      "d = a - b"
     ],
     "language": "python",
     "metadata": {},
     "outputs": [],
     "prompt_number": 414
    },
    {
     "cell_type": "code",
     "collapsed": false,
     "input": [
      "d"
     ],
     "language": "python",
     "metadata": {},
     "outputs": [
      {
       "metadata": {},
       "output_type": "pyout",
       "prompt_number": 415,
       "text": [
        "Counter({'eyes': 7, 'the': 5, 'look': 4, 'into': 3, 'my': 2, 'around': 2, \"you're\": 1, 'under': 1, \"don't\": 1})"
       ]
      }
     ],
     "prompt_number": 415
    },
    {
     "cell_type": "markdown",
     "metadata": {},
     "source": [
      "- \ub370\uc774\ud130\uc758 \uac1c\uc218\ub97c \ud30c\uc545\ud574\uc57c \ud558\ub294 \ubb38\uc81c\uc5d0 \uc788\uc5b4 Counter \uac1d\uccb4\ub294 \ub9e4\uc6b0 \uc720\uc6a9"
     ]
    },
    {
     "cell_type": "markdown",
     "metadata": {},
     "source": [
      "## 1.13 \uc77c\ubc18 \ud0a4\ub85c \ub515\uc154\ub108\ub9ac \ub9ac\uc2a4\ud2b8 \uc815\ub82c\n",
      "\n",
      "### \ubb38\uc81c\n",
      "\n",
      "- \ub515\uc154\ub108\ub9ac \ub9ac\uc2a4\ud2b8\uac00 \uc788\uace0, \ud558\ub098 \ud639\uc740 \uadf8 \uc774\uc0c1\uc758 \ub515\uc154\ub108\ub9ac \uac12\uc73c\ub85c \uc774\ub97c \uc815\ub82c\ud558\uace0 \uc2f6\ub2e4\n",
      "\n",
      "### \ud574\uacb0\n",
      "\n",
      "- operator \ubaa8\ub4c8\uc758 itemgetter \ud568\uc218\ub97c \uc0ac\uc6a9\ud558\uba74 \uc27d\uac8c \uc815\ub82c"
     ]
    },
    {
     "cell_type": "code",
     "collapsed": false,
     "input": [
      "rows = [\n",
      "{'fname': 'Brian', 'lname': 'Jones', 'uid': 1003},\n",
      "{'fname': 'David', 'lname': 'Beazley', 'uid': 1002},\n",
      "{'fname': 'John', 'lname': 'Cleese', 'uid': 1001},\n",
      "{'fname': 'Big', 'lname': 'Jones', 'uid': 1004}\n",
      "]"
     ],
     "language": "python",
     "metadata": {},
     "outputs": [],
     "prompt_number": 1
    },
    {
     "cell_type": "code",
     "collapsed": false,
     "input": [
      "from operator import itemgetter"
     ],
     "language": "python",
     "metadata": {},
     "outputs": [],
     "prompt_number": 37
    },
    {
     "cell_type": "code",
     "collapsed": false,
     "input": [
      "rows_by_fname = sorted(rows, key=itemgetter('fname'))\n",
      "rows_by_fname"
     ],
     "language": "python",
     "metadata": {},
     "outputs": [
      {
       "metadata": {},
       "output_type": "pyout",
       "prompt_number": 5,
       "text": [
        "[{'uid': 1004, 'fname': 'Big', 'lname': 'Jones'},\n",
        " {'uid': 1003, 'fname': 'Brian', 'lname': 'Jones'},\n",
        " {'uid': 1002, 'fname': 'David', 'lname': 'Beazley'},\n",
        " {'uid': 1001, 'fname': 'John', 'lname': 'Cleese'}]"
       ]
      }
     ],
     "prompt_number": 5
    },
    {
     "cell_type": "code",
     "collapsed": false,
     "input": [
      "rows_by_uid = sorted(rows, key=itemgetter('uid'))\n",
      "rows_by_uid"
     ],
     "language": "python",
     "metadata": {},
     "outputs": [
      {
       "metadata": {},
       "output_type": "pyout",
       "prompt_number": 6,
       "text": [
        "[{'uid': 1001, 'fname': 'John', 'lname': 'Cleese'},\n",
        " {'uid': 1002, 'fname': 'David', 'lname': 'Beazley'},\n",
        " {'uid': 1003, 'fname': 'Brian', 'lname': 'Jones'},\n",
        " {'uid': 1004, 'fname': 'Big', 'lname': 'Jones'}]"
       ]
      }
     ],
     "prompt_number": 6
    },
    {
     "cell_type": "code",
     "collapsed": false,
     "input": [
      "rows_by_lfname = sorted(rows, key=itemgetter('lname', 'fname'))\n",
      "rows_by_lfname"
     ],
     "language": "python",
     "metadata": {},
     "outputs": [
      {
       "metadata": {},
       "output_type": "pyout",
       "prompt_number": 7,
       "text": [
        "[{'uid': 1002, 'fname': 'David', 'lname': 'Beazley'},\n",
        " {'uid': 1001, 'fname': 'John', 'lname': 'Cleese'},\n",
        " {'uid': 1004, 'fname': 'Big', 'lname': 'Jones'},\n",
        " {'uid': 1003, 'fname': 'Brian', 'lname': 'Jones'}]"
       ]
      }
     ],
     "prompt_number": 7
    },
    {
     "cell_type": "markdown",
     "metadata": {},
     "source": [
      "### \ud1a0\ub860\n",
      "\n",
      "- \ud0a4\uc6cc\ub4dc \uc778\uc790 key\ub97c \ubc1b\ub294 \ub0b4\uc7a5 \ud568\uc218 sorted()\uc5d0 rows\ub97c \uc804\ub2ec\n",
      "- rows\ub85c\ubd80\ud130 \ub2e8\uc77c \uc544\uc774\ud15c\uc744 \ubc1b\ub294 \ud638\ucd9c \uac00\ub2a5 \uac1d\uccb4\ub97c \uc785\ub825\uc73c\ub85c \ubc1b\uace0 \uc815\ub82c\uc758 \uae30\ubcf8\uc774 \ub418\ub294 \uac12\uc744 \ubc18\ud658\n",
      "- itemgetter() \ud568\uc218\ub294 \uadf8\ub7f0 \ud638\ucd9c \uac00\ub2a5 \uac1d\uccb4\ub97c \uc0dd\uc131\n",
      "- operator.itemgetter() \ud568\uc218\ub294 rows \ub808\ucf54\ub4dc\uc5d0\uc11c \uc6d0\ud558\ub294 \uac12\uc744 \ucd94\ucd9c\ud558\ub294\ub370 \uc0ac\uc6a9\ud558\ub294 \uc778\ub371\uc2a4\ub97c \uc778\uc790\ub85c \ubc1b\ub294\ub2e4. \ub515\uc154\ub108\ub9ac \ud0a4 \uc774\ub984\uc774\ub098 \uc22b\uc790 \ub9ac\uc2a4\ud2b8 \uc694\uc18c\uac00 \ub420 \uc218\ub3c4 \uc788\uace0, \uac1d\uccb4\uc758 \\_\\_getitem\\_\\_() \uba54\uc18c\ub4dc\uc5d0 \ub123\uc744 \uc218 \uc788\ub294 \ubaa8\ub4e0 \uac12\uc774 \uac00\ub2a5\n",
      "- itemgetter()\uc5d0 \uc5ec\ub7ec \uc778\ub371\uc2a4\ub97c \uc804\ub2ec\ud558\uba74, \uc0dd\uc131\ud55c \ud638\ucd9c \uac00\ub2a5 \uac1d\uccb4\uac00 \ubaa8\ub4e0 \uc694\uc18c\ub97c \uac00\uc9c0\uace0 \uc788\ub294 \ud29c\ud50c\uc744 \ubc18\ud658\ud558\uace0, sorted()\uac00 \ud29c\ud50c\uc758 \uc815\ub82c \uc21c\uc11c\uc5d0 \ub530\ub77c \uacb0\uacfc\uc758 \uc21c\uc11c\ub97c \uc7a1\uc74c. \uc5ec\ub7ec \ud544\ub4dc\ub97c \ub3d9\uc2dc\uc5d0 \uc815\ub82c\ud560 \ub54c \uc720\uc6a9\n",
      "\n",
      "#### itemgetter() -> lambda \ud45c\ud604\uc2dd"
     ]
    },
    {
     "cell_type": "code",
     "collapsed": false,
     "input": [
      "rows_by_fname = sorted(rows, key=lambda r: r['fname'])\n",
      "rows_by_fname"
     ],
     "language": "python",
     "metadata": {},
     "outputs": [
      {
       "metadata": {},
       "output_type": "pyout",
       "prompt_number": 8,
       "text": [
        "[{'uid': 1004, 'fname': 'Big', 'lname': 'Jones'},\n",
        " {'uid': 1003, 'fname': 'Brian', 'lname': 'Jones'},\n",
        " {'uid': 1002, 'fname': 'David', 'lname': 'Beazley'},\n",
        " {'uid': 1001, 'fname': 'John', 'lname': 'Cleese'}]"
       ]
      }
     ],
     "prompt_number": 8
    },
    {
     "cell_type": "code",
     "collapsed": false,
     "input": [
      "rows_by_lfname = sorted(rows, key=lambda r: (r['lname'], r['fname']))\n",
      "rows_by_lfname"
     ],
     "language": "python",
     "metadata": {},
     "outputs": [
      {
       "metadata": {},
       "output_type": "pyout",
       "prompt_number": 10,
       "text": [
        "[{'uid': 1002, 'fname': 'David', 'lname': 'Beazley'},\n",
        " {'uid': 1001, 'fname': 'John', 'lname': 'Cleese'},\n",
        " {'uid': 1004, 'fname': 'Big', 'lname': 'Jones'},\n",
        " {'uid': 1003, 'fname': 'Brian', 'lname': 'Jones'}]"
       ]
      }
     ],
     "prompt_number": 10
    },
    {
     "cell_type": "markdown",
     "metadata": {},
     "source": [
      "- itemgetter()\ub97c \uc0ac\uc6a9\ud55c \ucf54\ub4dc\uc758 \uc2e4\ud589 \uc18d\ub3c4\uac00 \uc870\uae08 \ub354 \ube60\ub974\ub2e4.\n",
      "- \uadf8\ub9ac\uace0 \ub354 \uc27d\ub2e4."
     ]
    },
    {
     "cell_type": "code",
     "collapsed": false,
     "input": [
      "min(rows, key=itemgetter('uid'))"
     ],
     "language": "python",
     "metadata": {},
     "outputs": [
      {
       "metadata": {},
       "output_type": "pyout",
       "prompt_number": 11,
       "text": [
        "{'uid': 1001, 'fname': 'John', 'lname': 'Cleese'}"
       ]
      }
     ],
     "prompt_number": 11
    },
    {
     "cell_type": "code",
     "collapsed": false,
     "input": [
      "max(rows, key=itemgetter('uid'))"
     ],
     "language": "python",
     "metadata": {},
     "outputs": [
      {
       "metadata": {},
       "output_type": "pyout",
       "prompt_number": 12,
       "text": [
        "{'uid': 1004, 'fname': 'Big', 'lname': 'Jones'}"
       ]
      }
     ],
     "prompt_number": 12
    },
    {
     "cell_type": "markdown",
     "metadata": {},
     "source": [
      "## 1.14 \uae30\ubcf8 \ube44\uad50 \uae30\ub2a5\uc5c6\uc774 \uac1d\uccb4 \uc815\ub82c\n",
      "\n",
      "### \ubb38\uc81c\n",
      "\n",
      "- \ub3d9\uc77c\ud55c \ud074\ub798\uc2a4 \uac1d\uccb4\ub97c \uc815\ub82c\ud574\uc57c \ud558\ub294\ub370, \uc774 \ud074\ub798\uc2a4\ub294 \uae30\ubcf8\uc801\uc778 \ube44\uad50 \uc5f0\uc0b0\uc744 \uc81c\uacf5\ud558\uc9c0 \uc54a\ub294\ub2e4.\n",
      "\n",
      "### \ud574\uacb0\n",
      "\n",
      "- \ub0b4\uc7a5 \ud568\uc218 sorted()\ub294 key \uc778\uc790\uc5d0 \ud638\ucd9c \uac00\ub2a5 \uac1d\uccb4\ub97c \ubc1b\uc544 sorted\uac00 \uac1d\uccb4 \ube44\uad50\uc5d0 \uc0ac\uc6a9\ud560 \uc218 \uc788\ub294 \uac12\uc744 \ubc18\ud658\n",
      "- \uc560\ud50c\ub9ac\ucf00\uc774\uc158\uc5d0 User \uc778\uc2a4\ud134\uc2a4\ub97c \uc2dc\ud000\uc2a4\ub85c \uac16\uace0 \uc788\uace0 \uc774\ub97c user_id \uc694\uc18c\ub97c \uae30\ubc18\uc73c\ub85c \uc815\ub82c\ud558\uace0 \uc2f6\ub2e4.\n",
      "- \uc774\ub7f4 \ub54c\ub294 User \uc778\uc2a4\ud134\uc2a4\ub97c \uc785\ub825\uc73c\ub85c \ubc1b\uace0 user_id\ub97c \ubc18\ud658\ud558\ub294 \ucf54\ub4dc \uc791\uc131"
     ]
    },
    {
     "cell_type": "code",
     "collapsed": false,
     "input": [
      "class User:\n",
      "    def __init__(self, user_id):\n",
      "        self.user_id = user_id\n",
      "    def __repr__(self):\n",
      "        return 'User({})'.format(self.user_id)"
     ],
     "language": "python",
     "metadata": {},
     "outputs": [],
     "prompt_number": 25
    },
    {
     "cell_type": "code",
     "collapsed": false,
     "input": [
      "users = [User(23), User(3), User(99)]"
     ],
     "language": "python",
     "metadata": {},
     "outputs": [],
     "prompt_number": 26
    },
    {
     "cell_type": "code",
     "collapsed": false,
     "input": [
      "users"
     ],
     "language": "python",
     "metadata": {},
     "outputs": [
      {
       "metadata": {},
       "output_type": "pyout",
       "prompt_number": 27,
       "text": [
        "[User(23), User(3), User(99)]"
       ]
      }
     ],
     "prompt_number": 27
    },
    {
     "cell_type": "code",
     "collapsed": false,
     "input": [
      "sorted(users, key=lambda u: u.user_id)"
     ],
     "language": "python",
     "metadata": {},
     "outputs": [
      {
       "metadata": {},
       "output_type": "pyout",
       "prompt_number": 28,
       "text": [
        "[User(3), User(23), User(99)]"
       ]
      }
     ],
     "prompt_number": 28
    },
    {
     "cell_type": "markdown",
     "metadata": {},
     "source": [
      "- lambda\ub97c \uc0ac\uc6a9\ud558\ub294 \ub300\uc2e0 operator.attrgetter()\ub97c \uc0ac\uc6a9\ud574\ub3c4 \ub428"
     ]
    },
    {
     "cell_type": "code",
     "collapsed": false,
     "input": [
      "from operator import attrgetter"
     ],
     "language": "python",
     "metadata": {},
     "outputs": [],
     "prompt_number": 38
    },
    {
     "cell_type": "code",
     "collapsed": false,
     "input": [
      "sorted(users, key=attrgetter('user_id'))"
     ],
     "language": "python",
     "metadata": {},
     "outputs": [
      {
       "metadata": {},
       "output_type": "pyout",
       "prompt_number": 30,
       "text": [
        "[User(3), User(23), User(99)]"
       ]
      }
     ],
     "prompt_number": 30
    },
    {
     "cell_type": "code",
     "collapsed": false,
     "input": [
      "sorted(users, key=itemgetter('user_id'))"
     ],
     "language": "python",
     "metadata": {},
     "outputs": [
      {
       "ename": "TypeError",
       "evalue": "'User' object is not subscriptable",
       "output_type": "pyerr",
       "traceback": [
        "\u001b[0;31m---------------------------------------------------------------------------\u001b[0m\n\u001b[0;31mTypeError\u001b[0m                                 Traceback (most recent call last)",
        "\u001b[0;32m<ipython-input-31-d23a30526307>\u001b[0m in \u001b[0;36m<module>\u001b[0;34m()\u001b[0m\n\u001b[0;32m----> 1\u001b[0;31m \u001b[0msorted\u001b[0m\u001b[0;34m(\u001b[0m\u001b[0musers\u001b[0m\u001b[0;34m,\u001b[0m \u001b[0mkey\u001b[0m\u001b[0;34m=\u001b[0m\u001b[0mitemgetter\u001b[0m\u001b[0;34m(\u001b[0m\u001b[0;34m'user_id'\u001b[0m\u001b[0;34m)\u001b[0m\u001b[0;34m)\u001b[0m\u001b[0;34m\u001b[0m\u001b[0m\n\u001b[0m",
        "\u001b[0;31mTypeError\u001b[0m: 'User' object is not subscriptable"
       ]
      }
     ],
     "prompt_number": 31
    },
    {
     "cell_type": "markdown",
     "metadata": {},
     "source": [
      "### \ud1a0\ub860\n",
      "\n",
      "- lambda\ub97c \uc0ac\uc6a9\ud560\uc9c0 attrgetter()\ub97c \uc0ac\uc6a9\ud560\uc9c0 \uc5ec\ubd80\ub294 \uac1c\uc778\uc758 \uc120\ud638\ub3c4\n",
      "- attrgetter()\uc758 \uc18d\ub3c4\uac00 \ube60\ub978 \uacbd\uc6b0\uac00 \uc885\uc885 \uc788\uace0 \ub3d9\uc2dc\uc5d0 \uc5ec\ub7ec \ud544\ub4dc\ub97c \ucd94\ucd9c\ud558\ub294 \uae30\ub2a5\uc774 \ucd94\uac00\ub418\uc5b4 \uc788\uc74c"
     ]
    },
    {
     "cell_type": "code",
     "collapsed": false,
     "input": [
      "class User:\n",
      "    def __init__(self, last_name, first_name):\n",
      "        self.last_name = last_name\n",
      "        self.first_name = first_name\n",
      "    def __repr__(self):\n",
      "        return 'User({} {})'.format(self.last_name, self.first_name)"
     ],
     "language": "python",
     "metadata": {},
     "outputs": [],
     "prompt_number": 19
    },
    {
     "cell_type": "code",
     "collapsed": false,
     "input": [
      "users = [User('ABC', 'ZXY'), User('BCD', 'XYZ'), User('BCD', 'XXY')]\n",
      "users"
     ],
     "language": "python",
     "metadata": {},
     "outputs": [
      {
       "metadata": {},
       "output_type": "pyout",
       "prompt_number": 21,
       "text": [
        "[User(ABC ZXY), User(BCD XYZ), User(BCD XXY)]"
       ]
      }
     ],
     "prompt_number": 21
    },
    {
     "cell_type": "code",
     "collapsed": false,
     "input": [
      "by_name = sorted(users, key=attrgetter('last_name', 'first_name'))\n",
      "by_name"
     ],
     "language": "python",
     "metadata": {},
     "outputs": [
      {
       "metadata": {},
       "output_type": "pyout",
       "prompt_number": 22,
       "text": [
        "[User(ABC ZXY), User(BCD XXY), User(BCD XYZ)]"
       ]
      }
     ],
     "prompt_number": 22
    },
    {
     "cell_type": "markdown",
     "metadata": {},
     "source": [
      "#### itemgetter vs attrgetter\n",
      "\n",
      "- itemgetter: dictionary\n",
      "- attrgetter: class\n",
      "- [python - Sorting dictionary using operator.itemgetter - Stack Overflow](http://stackoverflow.com/questions/4690416/sorting-dictionary-using-operator-itemgetter)\n",
      "  - python3\uc5d0\uc11c \ub418\ub294 \ubc29\ubc95\uc740 \ub098\uc911\uc5d0 \ucc3e\uc544\ubcf4\uc790! skip!"
     ]
    },
    {
     "cell_type": "code",
     "collapsed": false,
     "input": [
      "mydict = { 'a1': ['g',6],\n",
      "           'a2': ['e',2],\n",
      "           'a3': ['h',3],\n",
      "           'a4': ['s',2],\n",
      "           'a5': ['j',9],\n",
      "           'a6': ['y',7] }"
     ],
     "language": "python",
     "metadata": {},
     "outputs": [],
     "prompt_number": 43
    },
    {
     "cell_type": "code",
     "collapsed": false,
     "input": [
      "mydict"
     ],
     "language": "python",
     "metadata": {},
     "outputs": [
      {
       "metadata": {},
       "output_type": "pyout",
       "prompt_number": 49,
       "text": [
        "{'a1': ['g', 6],\n",
        " 'a6': ['y', 7],\n",
        " 'a3': ['h', 3],\n",
        " 'a2': ['e', 2],\n",
        " 'a4': ['s', 2],\n",
        " 'a5': ['j', 9]}"
       ]
      }
     ],
     "prompt_number": 49
    },
    {
     "cell_type": "code",
     "collapsed": false,
     "input": [
      "sorted(mydict.values(), key=itemgetter(1))"
     ],
     "language": "python",
     "metadata": {},
     "outputs": [
      {
       "metadata": {},
       "output_type": "pyout",
       "prompt_number": 47,
       "text": [
        "[['e', 2], ['s', 2], ['h', 3], ['g', 6], ['y', 7], ['j', 9]]"
       ]
      }
     ],
     "prompt_number": 47
    },
    {
     "cell_type": "code",
     "collapsed": false,
     "input": [
      "sorted(mydict.items(), key=itemgetter(1))"
     ],
     "language": "python",
     "metadata": {},
     "outputs": [
      {
       "metadata": {},
       "output_type": "pyout",
       "prompt_number": 63,
       "text": [
        "[('a2', ['e', 2]),\n",
        " ('a1', ['g', 6]),\n",
        " ('a3', ['h', 3]),\n",
        " ('a5', ['j', 9]),\n",
        " ('a4', ['s', 2]),\n",
        " ('a6', ['y', 7])]"
       ]
      }
     ],
     "prompt_number": 63
    },
    {
     "cell_type": "code",
     "collapsed": false,
     "input": [
      "sorted(mydict.items(), key=itemgetter(0))"
     ],
     "language": "python",
     "metadata": {},
     "outputs": [
      {
       "metadata": {},
       "output_type": "pyout",
       "prompt_number": 65,
       "text": [
        "[('a1', ['g', 6]),\n",
        " ('a2', ['e', 2]),\n",
        " ('a3', ['h', 3]),\n",
        " ('a4', ['s', 2]),\n",
        " ('a5', ['j', 9]),\n",
        " ('a6', ['y', 7])]"
       ]
      }
     ],
     "prompt_number": 65
    },
    {
     "cell_type": "code",
     "collapsed": false,
     "input": [
      "sorted(mydict.items(), key=itemgetter(1)(1))"
     ],
     "language": "python",
     "metadata": {},
     "outputs": [
      {
       "ename": "TypeError",
       "evalue": "'int' object is not subscriptable",
       "output_type": "pyerr",
       "traceback": [
        "\u001b[0;31m---------------------------------------------------------------------------\u001b[0m\n\u001b[0;31mTypeError\u001b[0m                                 Traceback (most recent call last)",
        "\u001b[0;32m<ipython-input-67-a4efbb75a113>\u001b[0m in \u001b[0;36m<module>\u001b[0;34m()\u001b[0m\n\u001b[0;32m----> 1\u001b[0;31m \u001b[0msorted\u001b[0m\u001b[0;34m(\u001b[0m\u001b[0mmydict\u001b[0m\u001b[0;34m.\u001b[0m\u001b[0mitems\u001b[0m\u001b[0;34m(\u001b[0m\u001b[0;34m)\u001b[0m\u001b[0;34m,\u001b[0m \u001b[0mkey\u001b[0m\u001b[0;34m=\u001b[0m\u001b[0mitemgetter\u001b[0m\u001b[0;34m(\u001b[0m\u001b[0;36m1\u001b[0m\u001b[0;34m)\u001b[0m\u001b[0;34m(\u001b[0m\u001b[0;36m1\u001b[0m\u001b[0;34m)\u001b[0m\u001b[0;34m)\u001b[0m\u001b[0;34m\u001b[0m\u001b[0m\n\u001b[0m",
        "\u001b[0;31mTypeError\u001b[0m: 'int' object is not subscriptable"
       ]
      }
     ],
     "prompt_number": 67
    },
    {
     "cell_type": "code",
     "collapsed": false,
     "input": [
      "sorted(mydict.items(), key=lambda (k,v): itemgetter(1)(v))"
     ],
     "language": "python",
     "metadata": {},
     "outputs": [
      {
       "ename": "SyntaxError",
       "evalue": "invalid syntax (<ipython-input-78-c394b7465c10>, line 1)",
       "output_type": "pyerr",
       "traceback": [
        "\u001b[0;36m  File \u001b[0;32m\"<ipython-input-78-c394b7465c10>\"\u001b[0;36m, line \u001b[0;32m1\u001b[0m\n\u001b[0;31m    sorted(mydict.items(), key=lambda (k,v): itemgetter(1)(v))\u001b[0m\n\u001b[0m                                      ^\u001b[0m\n\u001b[0;31mSyntaxError\u001b[0m\u001b[0;31m:\u001b[0m invalid syntax\n"
       ]
      }
     ],
     "prompt_number": 78
    },
    {
     "cell_type": "markdown",
     "metadata": {},
     "source": [
      "- [itemgetter, attrgetters and keyword argument key | ersran9blogs](http://ersran9blogs.wordpress.com/2013/08/07/itemgetter-attrgetters-and-keyword-argument-key/)\n",
      "- [What is sys.maxint in Python 3? - Stack Overflow](http://stackoverflow.com/questions/13795758/what-is-sys-maxint-in-python-3)"
     ]
    },
    {
     "cell_type": "code",
     "collapsed": false,
     "input": [
      "import sys\n",
      "list_of_tuples = [(1,2), (3,4), (5,0)]\n",
      "min_tuple = None\n",
      "minimum = sys.maxsize\n",
      "for pair in list_of_tuples:\n",
      "    x, y = pair\n",
      "    if y < minimum:\n",
      "        min_tuple = pair\n",
      "print(min_tuple)"
     ],
     "language": "python",
     "metadata": {},
     "outputs": [
      {
       "output_type": "stream",
       "stream": "stdout",
       "text": [
        "(5, 0)\n"
       ]
      }
     ],
     "prompt_number": 74
    },
    {
     "cell_type": "code",
     "collapsed": false,
     "input": [
      "def snd(pair):\n",
      "    x, y = pair\n",
      "    return y\n",
      "\n",
      "list_of_tuples = [(1,2), (3,4), (5,0)]\n",
      "min(list_of_tuples, key=snd)"
     ],
     "language": "python",
     "metadata": {},
     "outputs": [
      {
       "metadata": {},
       "output_type": "pyout",
       "prompt_number": 75,
       "text": [
        "(5, 0)"
       ]
      }
     ],
     "prompt_number": 75
    },
    {
     "cell_type": "markdown",
     "metadata": {},
     "source": [
      "- itemgetter\ub294 positon\uc744 \ud30c\ub77c\ubbf8\ud130\ub85c \ubcf4\ub0b4\uc8fc\uba74\n",
      "- seqeunce\uc5d0\uc11c \\_\\_getitem\\_\\_ \uc73c\ub85c sequence\uc758 position \uac12\uc774 \ubb34\uc5c7\uc778\uc9c0 \uc54c\ub824\uc900\ub2e4.\n",
      "\n",
      "#### Using itemgetter"
     ]
    },
    {
     "cell_type": "code",
     "collapsed": false,
     "input": [
      "from operator import itemgetter\n",
      "list__ = [1,2,3]\n",
      "print(itemgetter(1)(list__))\n",
      "print(itemgetter(2)(list__))"
     ],
     "language": "python",
     "metadata": {},
     "outputs": [
      {
       "output_type": "stream",
       "stream": "stdout",
       "text": [
        "2\n",
        "3\n"
       ]
      }
     ],
     "prompt_number": 81
    },
    {
     "cell_type": "code",
     "collapsed": false,
     "input": [
      "def __itemgetter(position):\n",
      "    def applier(sequence):\n",
      "        return sequence.__getitem__(position)\n",
      "    return applier"
     ],
     "language": "python",
     "metadata": {},
     "outputs": [],
     "prompt_number": 79
    },
    {
     "cell_type": "code",
     "collapsed": false,
     "input": [
      "__itemgetter(2)(list__)"
     ],
     "language": "python",
     "metadata": {},
     "outputs": [
      {
       "metadata": {},
       "output_type": "pyout",
       "prompt_number": 84,
       "text": [
        "3"
       ]
      }
     ],
     "prompt_number": 84
    },
    {
     "cell_type": "code",
     "collapsed": false,
     "input": [
      "from operator import itemgetter\n",
      "list_of_tuples = [(1,2), (3,4), (5,0)]\n",
      "min(list_of_tuples, key=itemgetter(1))"
     ],
     "language": "python",
     "metadata": {},
     "outputs": [
      {
       "metadata": {},
       "output_type": "pyout",
       "prompt_number": 80,
       "text": [
        "(5, 0)"
       ]
      }
     ],
     "prompt_number": 80
    },
    {
     "cell_type": "markdown",
     "metadata": {},
     "source": [
      "#### Using Attrgetter\n",
      "\n",
      "- index \ub300\uc2e0\uc5d0 attribute"
     ]
    },
    {
     "cell_type": "code",
     "collapsed": false,
     "input": [
      "class Student(object):\n",
      "    def __init__(self, id, name, marks):\n",
      "        self.id = id\n",
      "        self.name = name\n",
      "        self.marks = marks\n",
      "        \n",
      "    def __str__(self):\n",
      "        return '{0} has marks {1}'.format(self.name, self.marks)"
     ],
     "language": "python",
     "metadata": {},
     "outputs": [],
     "prompt_number": 90
    },
    {
     "cell_type": "code",
     "collapsed": false,
     "input": [
      "students = [Student(0, 'Foo', 30), \n",
      "            Student(1, 'Bar', 95), \n",
      "            Student(2, 'Baz', 80)]\n",
      " \n",
      "best_student = max(students, key=attrgetter('marks')) # don't forget the quotes\n",
      "print(best_student)"
     ],
     "language": "python",
     "metadata": {},
     "outputs": [
      {
       "output_type": "stream",
       "stream": "stdout",
       "text": [
        "Bar has marks 95\n"
       ]
      }
     ],
     "prompt_number": 91
    },
    {
     "cell_type": "markdown",
     "metadata": {},
     "source": [
      "## 1.15 \ud544\ub4dc\uc5d0 \ub530\ub77c \ub808\ucf54\ub4dc \ubb36\uae30\n",
      "\n",
      "### \ubb38\uc81c\n",
      "\n",
      "- \uc77c\ub828\uc758 \ub515\uc154\ub108\ub9ac\ub098 \uc778\uc2a4\ud134\uc2a4\uac00 \uc788\uace0 \ud2b9\uc815 \ud544\ub4dc \uac12\uc5d0 \uae30\ubc18\ud55c \uadf8\ub8f9\uc758 \ub370\uc774\ud130\ub97c \uc21c\ud658\ud558\uace0 \uc2f6\ub2e4.\n",
      "\n",
      "### \ud574\uacb0\n",
      "\n",
      "- itertools.groupby() \ud568\uc218\ub294 \uc774\uc640 \uac19\uc740 \ub370\uc774\ud130\ub97c \ubb36\ub294 \ub370 \uc720\uc6a9"
     ]
    },
    {
     "cell_type": "code",
     "collapsed": false,
     "input": [
      "rows = [\n",
      "{'address': '5412 N CLARK', 'date': '07/01/2012'},\n",
      "{'address': '5148 N CLARK', 'date': '07/04/2012'},\n",
      "{'address': '5800 E 58TH', 'date': '07/02/2012'},\n",
      "{'address': '2122 N CLARK', 'date': '07/03/2012'},\n",
      "{'address': '5645 N REVENSWOOD', 'date': '07/02/2012'},\n",
      "{'address': '1060 W ADDISON', 'date': '07/02/2012'},\n",
      "{'address': '4801 N BROADWAY', 'date': '07/01/2012'},\n",
      "{'address': '1039 W GRANVILLE', 'date': '07/04/2012'},\n",
      "]"
     ],
     "language": "python",
     "metadata": {},
     "outputs": [],
     "prompt_number": 92
    },
    {
     "cell_type": "markdown",
     "metadata": {},
     "source": [
      "- \ub0a0\uc9dc\ub85c \uad6c\ubd84 \uc9c0\uc744 \ub370\uc774\ud130 \uc870\uac01\uc744 \uc21c\ud658\n",
      "- \uc6b0\uc120 \uc6d0\ud558\ub294 \ud544\ub4dc\uc5d0 \ub530\ub77c \uc815\ub82c(\uc774\ubc88 \uacbd\uc6b0\uc5d4 date field)\n",
      "- \uadf8 \ud6c4\uc5d0 itertools.groupby()"
     ]
    },
    {
     "cell_type": "code",
     "collapsed": false,
     "input": [
      "from operator import itemgetter\n",
      "from itertools import groupby\n",
      "\n",
      "rows.sort(key=itemgetter('date'))\n",
      "rows"
     ],
     "language": "python",
     "metadata": {},
     "outputs": [
      {
       "metadata": {},
       "output_type": "pyout",
       "prompt_number": 93,
       "text": [
        "[{'address': '5412 N CLARK', 'date': '07/01/2012'},\n",
        " {'address': '4801 N BROADWAY', 'date': '07/01/2012'},\n",
        " {'address': '5800 E 58TH', 'date': '07/02/2012'},\n",
        " {'address': '5645 N REVENSWOOD', 'date': '07/02/2012'},\n",
        " {'address': '1060 W ADDISON', 'date': '07/02/2012'},\n",
        " {'address': '2122 N CLARK', 'date': '07/03/2012'},\n",
        " {'address': '5148 N CLARK', 'date': '07/04/2012'},\n",
        " {'address': '1039 W GRANVILLE', 'date': '07/04/2012'}]"
       ]
      }
     ],
     "prompt_number": 93
    },
    {
     "cell_type": "code",
     "collapsed": false,
     "input": [
      "for date, items in groupby(rows, key=itemgetter('date')):\n",
      "    print(date)\n",
      "    for i in items:\n",
      "        print('    ', i)"
     ],
     "language": "python",
     "metadata": {},
     "outputs": [
      {
       "output_type": "stream",
       "stream": "stdout",
       "text": [
        "07/01/2012\n",
        "     {'address': '5412 N CLARK', 'date': '07/01/2012'}\n",
        "     {'address': '4801 N BROADWAY', 'date': '07/01/2012'}\n",
        "07/02/2012\n",
        "     {'address': '5800 E 58TH', 'date': '07/02/2012'}\n",
        "     {'address': '5645 N REVENSWOOD', 'date': '07/02/2012'}\n",
        "     {'address': '1060 W ADDISON', 'date': '07/02/2012'}\n",
        "07/03/2012\n",
        "     {'address': '2122 N CLARK', 'date': '07/03/2012'}\n",
        "07/04/2012\n",
        "     {'address': '5148 N CLARK', 'date': '07/04/2012'}\n",
        "     {'address': '1039 W GRANVILLE', 'date': '07/04/2012'}\n"
       ]
      }
     ],
     "prompt_number": 94
    },
    {
     "cell_type": "markdown",
     "metadata": {},
     "source": [
      "### \ud1a0\ub860\n",
      "\n",
      "- groupby() \ud568\uc218\ub294 \uc2dc\ud000\uc2a4\ub97c \uac80\uc0c9\ud558\uace0 \ub3d9\uc77c\ud55c \uac12(\ud639\uc740 \ud0a4 \ud568\uc218\uc5d0\uc11c \ubc18\ud658\ud55c \uac12)\uc5d0 \ub300\ud55c \uc77c\ub828\uc758 '\uc2e4\ud589'\uc744 \ucc3e\ub294\ub2e4.\n",
      "- \uac1c\ubcc4 \uc21c\ud658\uc5d0 \ub300\ud574\uc11c \uac12, \uadf8\ub9ac\uace0 \uac19\uc740 \uac12\uc744 \uac00\uc9c4 \uadf8\ub8f9\uc758 \ubaa8\ub4e0 \uc544\uc774\ud15c\uc744 \ub9cc\ub4dc\ub294 iterator\ub97c \ud568\uaed8 \ubc18\ud658\n",
      "- **\uc6d0\ud558\ub294 \ud544\ub4dc\uc5d0 \ub530\ub77c** **\ub370\uc774\ud130\ub97c \uc815\ub82c**\ud574\uc57c \ud558\ub294 \uacfc\uc815\uc774 \uc911\uc694\n",
      "- groupby() \ud568\uc218\ub294 **\uc5f0\uc18d\ub41c \uc544\uc774\ud15c\uc5d0\ub9cc \ub3d9\uc791**\ud558\uae30 \ub54c\ubb38\uc5d0 \uc815\ub82c \uacfc\uc815\uc744 \uc0dd\ub7b5\ud558\uba74 \uc6d0\ud558\ub294 \ub300\ub85c \ud568\uc218\ub97c \uc2e4\ud589\ud560 \uc218 \uc5c6\uc74c\n",
      "- **\ub2e8\uc21c\ud788 \ub0a0\uc9dc\uc5d0 \ub530\ub77c** \ub370\uc774\ud130\ub97c \ubb36\uc5b4\uc11c **\ucee4\ub2e4\ub780 \uc790\ub8cc \uad6c\uc870**\uc5d0 \ub123\uc5b4 \ub193\uace0 \uc6d0\ud560 \ub54c\ub9c8\ub2e4 \uc811\uadfc\ud558\ub824\ub294 \uac83\n",
      "- defaultdict()\ub97c \uc0ac\uc6a9\ud574\uc11c multidict\ub97c \uad6c\uc131\ud558\ub294\uac8c \ub098\uc744 \uc218 \uc788\uc74c"
     ]
    },
    {
     "cell_type": "code",
     "collapsed": false,
     "input": [
      "from pprint import pprint"
     ],
     "language": "python",
     "metadata": {},
     "outputs": [],
     "prompt_number": 96
    },
    {
     "cell_type": "code",
     "collapsed": false,
     "input": [
      "from collections import defaultdict\n",
      "rows_by_date = defaultdict(list)\n",
      "for row in rows:\n",
      "    rows_by_date[row['date']].append(row)"
     ],
     "language": "python",
     "metadata": {},
     "outputs": [],
     "prompt_number": 99
    },
    {
     "cell_type": "code",
     "collapsed": false,
     "input": [
      "for r in rows_by_date['07/01/2012']:\n",
      "    print(r)"
     ],
     "language": "python",
     "metadata": {},
     "outputs": [
      {
       "output_type": "stream",
       "stream": "stdout",
       "text": [
        "{'address': '5412 N CLARK', 'date': '07/01/2012'}\n",
        "{'address': '4801 N BROADWAY', 'date': '07/01/2012'}\n"
       ]
      }
     ],
     "prompt_number": 100
    },
    {
     "cell_type": "markdown",
     "metadata": {},
     "source": [
      "- \uba54\ubaa8\ub9ac \uc0ac\uc6a9\ub7c9\uc5d0 \ud06c\uac8c \uad6c\uc560 \ubc1b\uc9c0 \uc54a\ub294\ub2e4\uba74 \uc774 \ubc29\uc2dd\uc744 \uc0ac\uc6a9\ud558\ub294 \uac83\uc774 \uc815\ub82c\ud55c \ud6c4\uc5d0 groupby()\ub97c \uc0ac\uc6a9\ud558\ub294 \uccab \ubc88\uc9f8 \ubc29\ubc95\ubcf4\ub2e4 \ub354 \ube60\ub97c \uac83"
     ]
    },
    {
     "cell_type": "markdown",
     "metadata": {},
     "source": [
      "## 1.16 \uc2dc\ud000\uc2a4 \ud544\ud130\ub9c1\n",
      "\n",
      "### \ubb38\uc81c\n",
      "\n",
      "- \uc2dc\ud000\uc2a4 \ub0b4\ubd80\uc5d0 \ub370\uc774\ud130\uac00 \uc788\uace0 \ud2b9\uc815 \uc870\uac74\uc5d0 \ub530\ub77c \uac12\uc744 \ucd94\ucd9c\ud558\uac70\ub098 \uc904\uc774\uace0 \uc2f6\ub2e4\n",
      "\n",
      "### \ud574\uacb0\n",
      "\n",
      "- \uac00\uc7a5 \uac04\ub2e8\ud55c \ud574\uacb0\ucc45\uc740 list comprehension"
     ]
    },
    {
     "cell_type": "code",
     "collapsed": false,
     "input": [
      "mylist = [1, 4, -5, 10, -7, 2, 3, -1]"
     ],
     "language": "python",
     "metadata": {},
     "outputs": [],
     "prompt_number": 101
    },
    {
     "cell_type": "code",
     "collapsed": false,
     "input": [
      "[n for n in mylist if n > 0]"
     ],
     "language": "python",
     "metadata": {},
     "outputs": [
      {
       "metadata": {},
       "output_type": "pyout",
       "prompt_number": 102,
       "text": [
        "[1, 4, 10, 2, 3]"
       ]
      }
     ],
     "prompt_number": 102
    },
    {
     "cell_type": "code",
     "collapsed": false,
     "input": [
      "[n for n in mylist if n < 0]"
     ],
     "language": "python",
     "metadata": {},
     "outputs": [
      {
       "metadata": {},
       "output_type": "pyout",
       "prompt_number": 103,
       "text": [
        "[-5, -7, -1]"
       ]
      }
     ],
     "prompt_number": 103
    },
    {
     "cell_type": "markdown",
     "metadata": {},
     "source": [
      "- \ub2e8\uc810: \uc785\ub825\ub41c \ub0b4\uc6a9\uc774 **\ud06c\uba74** \ub9e4\uc6b0 \ud070 \uacb0\uacfc\uac00 \uc0dd\uc131\ub420 \uc218\ub3c4 \uc788\ub2e4.\n",
      "- \uc0dd\uc131\uc790 \ud45c\ud604\uc2dd\uc73c\ub85c \ud574\uacb0"
     ]
    },
    {
     "cell_type": "code",
     "collapsed": false,
     "input": [
      "# generator\ub97c \uc0dd\uc131\ud588\uae30 \ub54c\ubb38\uc5d0 \uc774\uac78\ub85c list comprehension\ucc98\ub7fc \ubc14\ub85c \uacb0\uacfc\uac12\uc744 \uc5bb\uc744 \uc218 \uc5c6\ub2e4.\n",
      "pos = (n for n in mylist if n > 0)\n",
      "pos"
     ],
     "language": "python",
     "metadata": {},
     "outputs": [
      {
       "metadata": {},
       "output_type": "pyout",
       "prompt_number": 127,
       "text": [
        "<generator object <genexpr> at 0x1068d6af8>"
       ]
      }
     ],
     "prompt_number": 127
    },
    {
     "cell_type": "code",
     "collapsed": false,
     "input": [
      "type(pos)"
     ],
     "language": "python",
     "metadata": {},
     "outputs": [
      {
       "metadata": {},
       "output_type": "pyout",
       "prompt_number": 128,
       "text": [
        "generator"
       ]
      }
     ],
     "prompt_number": 128
    },
    {
     "cell_type": "code",
     "collapsed": false,
     "input": [
      "# generator\ub77c\uc11c \ud55c \ubc88 \ub3cc\uba74 pos\uc5d0 \uc544\ubb34\uac83\ub3c4 \ub0a8\uc9c0 \uc54a\ub294\uad6c\ub098\n",
      "list(pos)"
     ],
     "language": "python",
     "metadata": {},
     "outputs": [
      {
       "metadata": {},
       "output_type": "pyout",
       "prompt_number": 129,
       "text": [
        "[1, 4, 10, 2, 3]"
       ]
      }
     ],
     "prompt_number": 129
    },
    {
     "cell_type": "code",
     "collapsed": false,
     "input": [
      "type(pos)"
     ],
     "language": "python",
     "metadata": {},
     "outputs": [
      {
       "metadata": {},
       "output_type": "pyout",
       "prompt_number": 130,
       "text": [
        "generator"
       ]
      }
     ],
     "prompt_number": 130
    },
    {
     "cell_type": "code",
     "collapsed": false,
     "input": [
      "# generator\ub294 for\ubb38\uc5d0\uc11c \uc2e4\ud589\ub420 \ub54c \uacb0\uacfc\uac12\uc744 \ud655\uc778\ud560 \uc218 \uc788\ub2e4.\n",
      "for x in pos:\n",
      "    print(x)"
     ],
     "language": "python",
     "metadata": {},
     "outputs": [],
     "prompt_number": 131
    },
    {
     "cell_type": "markdown",
     "metadata": {},
     "source": [
      "- list comprehension\uc774\ub098 \uc0dd\uc131\uc790 \ud45c\ud604\uc2dd\uc5d0 \ud544\ud130 \ud544\ud130 \uc870\uac74\uc744 \ub9cc\ub4dc\ub294 \uac83\uc774 \uc27d\uc9c0 \uc54a\uc744 \ub54c\uac00 \uc874\uc7ac\n",
      "- \ud544\ud130\ub9c1 \ub3c4\uc911\uc5d0 \uc608\uc678 \ucc98\ub9ac\ub97c \ud574\uc57c \ud55c\ub2e4\uac70\ub098 \ub2e4\ub978 \ubcf5\uc7a1\ud55c \ub0b4\uc6a9\uc774 \ub4e4\uc5b4\uac00\uc57c \ud55c\ub2e4\uba74 \uc5b4\ub5bb\uac8c?\n",
      "  - filter()"
     ]
    },
    {
     "cell_type": "code",
     "collapsed": false,
     "input": [
      "values = ['1', '2', '-3', '-', '4', 'N/A', '5']"
     ],
     "language": "python",
     "metadata": {},
     "outputs": [],
     "prompt_number": 107
    },
    {
     "cell_type": "code",
     "collapsed": false,
     "input": [
      "def is_int(val):\n",
      "    try:\n",
      "        x = int(val)\n",
      "        return True\n",
      "    except ValueError:\n",
      "        return False"
     ],
     "language": "python",
     "metadata": {},
     "outputs": [],
     "prompt_number": 108
    },
    {
     "cell_type": "code",
     "collapsed": false,
     "input": [
      "# filter: func, iterable\n",
      "isvals = list(filter(is_int, values))\n",
      "isvals"
     ],
     "language": "python",
     "metadata": {},
     "outputs": [
      {
       "metadata": {},
       "output_type": "pyout",
       "prompt_number": 110,
       "text": [
        "['1', '2', '-3', '4', '5']"
       ]
      }
     ],
     "prompt_number": 110
    },
    {
     "cell_type": "markdown",
     "metadata": {},
     "source": [
      "- filter()\ub294 iterator\ub97c \uc0dd\uc131\ud55c\ub2e4.\n",
      "- \ub530\ub77c\uc11c \uacb0\uacfc\uc758 \ub9ac\uc2a4\ud2b8\ub97c \ub9cc\ub4e4\uace0 \uc2f6\ub2e4\uba74 \uc704\uc5d0 \ub098\uc628\ub300\ub85c list()\ub3c4 \ud568\uaed8 \uc0ac\uc6a9\ud574\uc57c \ud568"
     ]
    },
    {
     "cell_type": "markdown",
     "metadata": {},
     "source": [
      "### \ud1a0\ub860\n",
      "\n",
      "- list comprehension\uacfc \uc0dd\uc131\uc790 \ud45c\ud604\uc2dd\uc740 \uac04\ub2e8\ud55c \ub370\uc774\ud130\ub97c \uac78\ub7ec\ub0b4\uae30 \uc704\ud55c \uac00\uc7a5 \uc27d\uace0 \uc9c1\uad00\uc801\uc778 \ubc29\ubc95\n",
      "- \ub610\ud55c \ub3d9\uc2dc\uc5d0 \ub370\uc774\ud130 \ubcc0\ud615 \uae30\ub2a5\ub3c4 \uc788\uc74c"
     ]
    },
    {
     "cell_type": "code",
     "collapsed": false,
     "input": [
      "mylist = [1, 4, -5, 10, -7, 2, 3, -1]"
     ],
     "language": "python",
     "metadata": {},
     "outputs": [],
     "prompt_number": 132
    },
    {
     "cell_type": "code",
     "collapsed": false,
     "input": [
      "import math\n",
      "[math.sqrt(n) for n in mylist if n > 0]"
     ],
     "language": "python",
     "metadata": {},
     "outputs": [
      {
       "metadata": {},
       "output_type": "pyout",
       "prompt_number": 133,
       "text": [
        "[1.0, 2.0, 3.1622776601683795, 1.4142135623730951, 1.7320508075688772]"
       ]
      }
     ],
     "prompt_number": 133
    },
    {
     "cell_type": "markdown",
     "metadata": {},
     "source": [
      "- \ud544\ud130\ub9c1\uc5d0\ub294 **\uc870\uac74\uc744 \ub9cc\uc871\ud558\uc9c0 \uc54a\ub294 \uac12\uc744 \uac78\ub7ec\ub0b4\ub294 \uac83** \uc678\uc5d0\ub3c4 **\uc0c8\ub85c\uc6b4 \uac12\uc73c\ub85c \uce58\ud658**\ud558\ub294 \ubc29\uc2dd\ub3c4 \uc874\uc7ac\n",
      "- \uc591\uc218\ub9cc \ucc3e\uc544\ub0b4\ub294 \ud544\ud130\ub9c1\ubfd0 \uc544\ub2c8\ub77c \uc798\ubabb\ub41c \uac12\uc744 \ud2b9\uc815 \ubc94\uc704\uc5d0 \ub4e4\uc5b4\uac00\ub3c4\ub85d \uc218\uc815\n",
      "- \ud544\ud130\ub9c1 \uc870\uac74\uc744 \uc870\uac74 \ud45c\ud604\uc2dd\uc73c\ub85c \ubcc0\uacbd\ud558\uba74 \uac04\ub2e8\ud788 \ud574\uacb0"
     ]
    },
    {
     "cell_type": "code",
     "collapsed": false,
     "input": [
      "[n if n > 0 else 0 for n in mylist]"
     ],
     "language": "python",
     "metadata": {},
     "outputs": [
      {
       "metadata": {},
       "output_type": "pyout",
       "prompt_number": 138,
       "text": [
        "[1, 4, 0, 10, 0, 2, 3, 0]"
       ]
      }
     ],
     "prompt_number": 138
    },
    {
     "cell_type": "code",
     "collapsed": false,
     "input": [
      "[math.sqrt(n) if n > 0 else 0 for n in mylist]"
     ],
     "language": "python",
     "metadata": {},
     "outputs": [
      {
       "metadata": {},
       "output_type": "pyout",
       "prompt_number": 139,
       "text": [
        "[1.0, 2.0, 0, 3.1622776601683795, 0, 1.4142135623730951, 1.7320508075688772, 0]"
       ]
      }
     ],
     "prompt_number": 139
    },
    {
     "cell_type": "code",
     "collapsed": false,
     "input": [
      "clip_pos = [n if n < 0 else 0 for n in mylist]\n",
      "clip_pos"
     ],
     "language": "python",
     "metadata": {},
     "outputs": [
      {
       "metadata": {},
       "output_type": "pyout",
       "prompt_number": 140,
       "text": [
        "[0, 0, -5, 0, -7, 0, 0, -1]"
       ]
      }
     ],
     "prompt_number": 140
    },
    {
     "cell_type": "code",
     "collapsed": false,
     "input": [
      "addresses = [\n",
      "'5412 N CLARK',\n",
      "'5148 N CLARK',\n",
      "'5800 E 58TH',\n",
      "'2122 N CLARK',\n",
      "'5645 N REVENSWOOD',\n",
      "'1060 W ADDISON',\n",
      "'4801 N BROADWAY',\n",
      "'1039 W GRANVILLE',\n",
      "]"
     ],
     "language": "python",
     "metadata": {},
     "outputs": [],
     "prompt_number": 141
    },
    {
     "cell_type": "code",
     "collapsed": false,
     "input": [
      "counts = [0, 3, 10, 4, 1, 7, 6, 1]"
     ],
     "language": "python",
     "metadata": {},
     "outputs": [],
     "prompt_number": 142
    },
    {
     "cell_type": "markdown",
     "metadata": {},
     "source": [
      "- \uce74\uc6b4\ud2b8 \uac12\uc774 5 \uc774\uc0c1\uc778 \uc8fc\uc18c\ub9cc \ub0a8\uae30\ub824 \ud55c\ub2e4\uba74..?"
     ]
    },
    {
     "cell_type": "code",
     "collapsed": false,
     "input": [
      "from itertools import compress"
     ],
     "language": "python",
     "metadata": {},
     "outputs": [],
     "prompt_number": 143
    },
    {
     "cell_type": "code",
     "collapsed": false,
     "input": [
      "# \uc774\uac70 numpy\uc5d0 \uc788\ub358 \uae30\ub2a5 \uac19\uc740\ub370..?\n",
      "more5 = [n > 5 for n in counts]\n",
      "more5"
     ],
     "language": "python",
     "metadata": {},
     "outputs": [
      {
       "metadata": {},
       "output_type": "pyout",
       "prompt_number": 144,
       "text": [
        "[False, False, True, False, False, True, True, False]"
       ]
      }
     ],
     "prompt_number": 144
    },
    {
     "cell_type": "code",
     "collapsed": false,
     "input": [
      "compress(addresses, more5)"
     ],
     "language": "python",
     "metadata": {},
     "outputs": [
      {
       "metadata": {},
       "output_type": "pyout",
       "prompt_number": 146,
       "text": [
        "<itertools.compress at 0x1068c8cf8>"
       ]
      }
     ],
     "prompt_number": 146
    },
    {
     "cell_type": "code",
     "collapsed": false,
     "input": [
      "list(compress(addresses, more5))"
     ],
     "language": "python",
     "metadata": {},
     "outputs": [
      {
       "metadata": {},
       "output_type": "pyout",
       "prompt_number": 145,
       "text": [
        "['5800 E 58TH', '1060 W ADDISON', '4801 N BROADWAY']"
       ]
      }
     ],
     "prompt_number": 145
    },
    {
     "cell_type": "markdown",
     "metadata": {},
     "source": [
      "- \uc6b0\uc120 **\uc8fc\uc5b4\uc9c4 \uc870\uac74\uc5d0 \ub9cc\uc871\ud558\ub294\uc9c0 \uc5ec\ubd80**\ub97c \ub2f4\uc740 Boolean \uc2dc\ud000\uc2a4\ub97c \ub9cc\ub4e4\uc5b4 \ub450\ub294 \uac83\uc774 \ud3ec\uc778\ud2b8\n",
      "- compress() \ud568\uc218\ub85c True\uc5d0 \uc77c\uce58\ud558\ub294 \uac12\ub9cc \uace8\ub77c\ub0c4\n",
      "- filter()\uc640 \ub9c8\ucc2c\uac00\uc9c0\ub85c, compress()\ub294 \uc77c\ubc18\uc801\uc73c\ub85c \uc774\ud130\ub808\uc774\ud130\ub97c \ubc18\ud658\n",
      "- \ub530\ub77c\uc11c \uc2e4\ud589 \uacb0\uacfc\ub97c \ub9ac\uc2a4\ud2b8\uc5d0 \ub2f4\uace0 \uc2f6\ub2e4\uba74 list()\ub97c \uc0ac\uc6a9\ud574\uc57c \ud568"
     ]
    },
    {
     "cell_type": "code",
     "collapsed": false,
     "input": [
      "d = dict(zip(addresses, counts))\n",
      "d"
     ],
     "language": "python",
     "metadata": {},
     "outputs": [
      {
       "metadata": {},
       "output_type": "pyout",
       "prompt_number": 156,
       "text": [
        "{'5412 N CLARK': 0,\n",
        " '1039 W GRANVILLE': 1,\n",
        " '4801 N BROADWAY': 6,\n",
        " '1060 W ADDISON': 7,\n",
        " '5148 N CLARK': 3,\n",
        " '5800 E 58TH': 10,\n",
        " '5645 N REVENSWOOD': 1,\n",
        " '2122 N CLARK': 4}"
       ]
      }
     ],
     "prompt_number": 156
    },
    {
     "cell_type": "code",
     "collapsed": false,
     "input": [
      "# map, zil, filter \uc774\ub7f0 \uc885\ub958\ub4e4 \ub9e4\ubc88 \ud587\uae54\ub9b0\ub2e4.\n",
      "for i in map(lambda a: a*a, range(6)):\n",
      "    print(i)"
     ],
     "language": "python",
     "metadata": {},
     "outputs": [
      {
       "output_type": "stream",
       "stream": "stdout",
       "text": [
        "0\n",
        "1\n",
        "4\n",
        "9\n",
        "16\n",
        "25\n"
       ]
      }
     ],
     "prompt_number": 155
    },
    {
     "cell_type": "code",
     "collapsed": false,
     "input": [
      "d.items()"
     ],
     "language": "python",
     "metadata": {},
     "outputs": [
      {
       "metadata": {},
       "output_type": "pyout",
       "prompt_number": 160,
       "text": [
        "dict_items([('5412 N CLARK', 0), ('1039 W GRANVILLE', 1), ('4801 N BROADWAY', 6), ('1060 W ADDISON', 7), ('5148 N CLARK', 3), ('5800 E 58TH', 10), ('5645 N REVENSWOOD', 1), ('2122 N CLARK', 4)])"
       ]
      }
     ],
     "prompt_number": 160
    },
    {
     "cell_type": "markdown",
     "metadata": {},
     "source": [
      "#### [Python Tips, Tricks, and Hacks](http://coreapython.hosting.paran.com/etc/Python%20Tips,%20Tricks,%20and%20Hacks.htm):  Dictionary Comprehensions\ub85c \ud574\ubcf4\ub824\uace0 \ucc38\uace0"
     ]
    },
    {
     "cell_type": "code",
     "collapsed": false,
     "input": [
      "[k for k, v in d.items() if v > 5]"
     ],
     "language": "python",
     "metadata": {},
     "outputs": [
      {
       "metadata": {},
       "output_type": "pyout",
       "prompt_number": 163,
       "text": [
        "['4801 N BROADWAY', '1060 W ADDISON', '5800 E 58TH']"
       ]
      }
     ],
     "prompt_number": 163
    },
    {
     "cell_type": "code",
     "collapsed": false,
     "input": [
      "dict(['a', 1])"
     ],
     "language": "python",
     "metadata": {},
     "outputs": [
      {
       "ename": "ValueError",
       "evalue": "dictionary update sequence element #0 has length 1; 2 is required",
       "output_type": "pyerr",
       "traceback": [
        "\u001b[0;31m---------------------------------------------------------------------------\u001b[0m\n\u001b[0;31mValueError\u001b[0m                                Traceback (most recent call last)",
        "\u001b[0;32m<ipython-input-181-9439c3a1a806>\u001b[0m in \u001b[0;36m<module>\u001b[0;34m()\u001b[0m\n\u001b[0;32m----> 1\u001b[0;31m \u001b[0mdict\u001b[0m\u001b[0;34m(\u001b[0m\u001b[0;34m[\u001b[0m\u001b[0;34m'a'\u001b[0m\u001b[0;34m,\u001b[0m \u001b[0;36m1\u001b[0m\u001b[0;34m]\u001b[0m\u001b[0;34m)\u001b[0m\u001b[0;34m\u001b[0m\u001b[0m\n\u001b[0m",
        "\u001b[0;31mValueError\u001b[0m: dictionary update sequence element #0 has length 1; 2 is required"
       ]
      }
     ],
     "prompt_number": 181
    },
    {
     "cell_type": "code",
     "collapsed": false,
     "input": [
      "dict_as_list = [['a', 1], ['b', 2], ['c', 3]]\n",
      "dict(dict_as_list)"
     ],
     "language": "python",
     "metadata": {},
     "outputs": [
      {
       "metadata": {},
       "output_type": "pyout",
       "prompt_number": 186,
       "text": [
        "{'c': 3, 'a': 1, 'b': 2}"
       ]
      }
     ],
     "prompt_number": 186
    },
    {
     "cell_type": "code",
     "collapsed": false,
     "input": [
      "# error \ubc1c\uc0dd\n",
      "dict(['a', 1])"
     ],
     "language": "python",
     "metadata": {},
     "outputs": [
      {
       "ename": "ValueError",
       "evalue": "dictionary update sequence element #0 has length 1; 2 is required",
       "output_type": "pyerr",
       "traceback": [
        "\u001b[0;31m---------------------------------------------------------------------------\u001b[0m\n\u001b[0;31mValueError\u001b[0m                                Traceback (most recent call last)",
        "\u001b[0;32m<ipython-input-189-9439c3a1a806>\u001b[0m in \u001b[0;36m<module>\u001b[0;34m()\u001b[0m\n\u001b[0;32m----> 1\u001b[0;31m \u001b[0mdict\u001b[0m\u001b[0;34m(\u001b[0m\u001b[0;34m[\u001b[0m\u001b[0;34m'a'\u001b[0m\u001b[0;34m,\u001b[0m \u001b[0;36m1\u001b[0m\u001b[0;34m]\u001b[0m\u001b[0;34m)\u001b[0m\u001b[0;34m\u001b[0m\u001b[0m\n\u001b[0m",
        "\u001b[0;31mValueError\u001b[0m: dictionary update sequence element #0 has length 1; 2 is required"
       ]
      }
     ],
     "prompt_number": 189
    },
    {
     "cell_type": "code",
     "collapsed": false,
     "input": [
      "dict([['a', 1]])"
     ],
     "language": "python",
     "metadata": {},
     "outputs": [
      {
       "metadata": {},
       "output_type": "pyout",
       "prompt_number": 188,
       "text": [
        "{'a': 1}"
       ]
      }
     ],
     "prompt_number": 188
    },
    {
     "cell_type": "code",
     "collapsed": false,
     "input": [
      "# dictionary \ub9cc\ub4e4 \ub54c [k, v] \ub85c \uac10\uc2f8\uc918\uc57c \ub418\ub294\uad70..\n",
      "dict([[k, v] for k, v in d.items() if v > 5])"
     ],
     "language": "python",
     "metadata": {},
     "outputs": [
      {
       "metadata": {},
       "output_type": "pyout",
       "prompt_number": 176,
       "text": [
        "{'5800 E 58TH': 10, '4801 N BROADWAY': 6, '1060 W ADDISON': 7}"
       ]
      }
     ],
     "prompt_number": 176
    },
    {
     "cell_type": "code",
     "collapsed": false,
     "input": [
      "dict([k, v] for k, v in d.items() if v > 5)"
     ],
     "language": "python",
     "metadata": {},
     "outputs": [
      {
       "metadata": {},
       "output_type": "pyout",
       "prompt_number": 185,
       "text": [
        "{'5800 E 58TH': 10, '4801 N BROADWAY': 6, '1060 W ADDISON': 7}"
       ]
      }
     ],
     "prompt_number": 185
    },
    {
     "cell_type": "code",
     "collapsed": false,
     "input": [
      "# \uc544 \uc774\uac78 \ucc3e\uc73c\ub824\uace0 \uc5c4\uccad \uc0bd\uc9c8\ud588\ub124 \u3161.\u3161\n",
      "# \uadf8\ub798 {}\ub85c \uac10\uc2f8\uc8fc\uace0 k:v \ud558\uba74 \ub418\ub294\uac70\uc796\uc544!\n",
      "{k:v for k, v in d.items() if v > 5}"
     ],
     "language": "python",
     "metadata": {},
     "outputs": [
      {
       "metadata": {},
       "output_type": "pyout",
       "prompt_number": 203,
       "text": [
        "{'5800 E 58TH': 10, '4801 N BROADWAY': 6, '1060 W ADDISON': 7}"
       ]
      }
     ],
     "prompt_number": 203
    },
    {
     "cell_type": "code",
     "collapsed": false,
     "input": [
      "# \uc774\ub807\uac8c \ub9cc\ub4e4\uc5b4\uc8fc\uba74 compress\ub97c \uc0ac\uc6a9\ud558\ub294 \uac83\uacfc \uac19\ub2e4.\n",
      "# \uadf8\ub7f0\ub370 \ubc14\ub85c \uc801\uc6a9\ud558\ub294 \uac83\uc740 compress\uac00 \uc880 \ub354 \uc27d\ub2e4\uace0 \uc0dd\uac01\ub418\ub124\n",
      "# compress \uc0ac\uc6a9\ud560 \uc0c1\ud669\uc774 \ub418\uba74 compress\ub97c \uc4f0\uc790.\n",
      "list(k for k, v in d.items() if v > 5)"
     ],
     "language": "python",
     "metadata": {},
     "outputs": [
      {
       "metadata": {},
       "output_type": "pyout",
       "prompt_number": 193,
       "text": [
        "['4801 N BROADWAY', '1060 W ADDISON', '5800 E 58TH']"
       ]
      }
     ],
     "prompt_number": 193
    },
    {
     "cell_type": "markdown",
     "metadata": {},
     "source": [
      "## 1.17 \ub515\uc154\ub108\ub9ac \ubd80\ubd84 \ucd94\ucd9c\n",
      "\n",
      "### \ubb38\uc81c\n",
      "\n",
      "- \ub515\uc154\ub108\ub9ac\uc758 \ud2b9\uc815 \ubd80\ubd84\uc73c\ub85c\ubd80\ud130 \ub2e4\ub978 \ub515\uc154\ub108\ub9ac\ub97c \ub9cc\ub4e4\uace0 \uc2f6\ub2e4.\n",
      "\n",
      "### \ud574\uacb0\n",
      "\n",
      "- dictionary comprehension\uc744 \uc0ac\uc6a9\ud558\uba74 \uac04\ub2e8\ud558\uac8c \ud574\uacb0"
     ]
    },
    {
     "cell_type": "code",
     "collapsed": false,
     "input": [
      "prices = {\n",
      "'ACME': 45.23,\n",
      "'AAPL': 612.78,\n",
      "'IBM': 205.55,\n",
      "'HPQ': 37.20,\n",
      "'FB': 10.75\n",
      "}"
     ],
     "language": "python",
     "metadata": {},
     "outputs": [],
     "prompt_number": 194
    },
    {
     "cell_type": "code",
     "collapsed": false,
     "input": [
      "# \uac00\uaca9\uc774 200 \uc774\uc0c1\uc778 \uac83\uc5d0 \ub300\ud55c \ub515\uc154\ub108\ub9ac\n",
      "p1 = {key:value for key, value in prices.items() if value > 200}\n",
      "p1"
     ],
     "language": "python",
     "metadata": {},
     "outputs": [
      {
       "metadata": {},
       "output_type": "pyout",
       "prompt_number": 205,
       "text": [
        "{'AAPL': 612.78, 'IBM': 205.55}"
       ]
      }
     ],
     "prompt_number": 205
    },
    {
     "cell_type": "code",
     "collapsed": false,
     "input": [
      "# \uae30\uc220 \uad00\ub828 \uc8fc\uc2dd\uc73c\ub85c \ub515\uc154\ub108\ub9ac \uad6c\uc131\n",
      "tech_names = {'AAPL', 'IBM', 'HPQ', 'MSFT'}\n",
      "p2 = {key:value for key, value in prices.items() if key in tech_names}\n",
      "p2"
     ],
     "language": "python",
     "metadata": {},
     "outputs": [
      {
       "metadata": {},
       "output_type": "pyout",
       "prompt_number": 206,
       "text": [
        "{'HPQ': 37.2, 'AAPL': 612.78, 'IBM': 205.55}"
       ]
      }
     ],
     "prompt_number": 206
    },
    {
     "cell_type": "markdown",
     "metadata": {},
     "source": [
      "----\n",
      "\n",
      "- [iteritems in Python - Stack Overflow](http://stackoverflow.com/questions/13998492/iteritems-in-python): iteritems\n",
      "\n",
      "----"
     ]
    },
    {
     "cell_type": "markdown",
     "metadata": {},
     "source": [
      "### \ud1a0\ub860\n",
      "\n",
      "- dictionary comprehension\uc73c\ub85c \ud560 \uc218 \uc788\ub294 \ub300\ubd80\ubd84\uc758 \uc77c\uc740 tuple sequence\ub97c \ub9cc\ub4e4\uace0 dict() \ud568\uc218\uc5d0 \uc804\ub2ec\ud558\ub294 \uac83\uc73c\ub85c\ub3c4 \ud560 \uc218 \uc788\uc74c"
     ]
    },
    {
     "cell_type": "code",
     "collapsed": false,
     "input": [
      "p1 = dict((key, value) for key, value in prices.items() if value > 200)\n",
      "p1"
     ],
     "language": "python",
     "metadata": {},
     "outputs": [
      {
       "metadata": {},
       "output_type": "pyout",
       "prompt_number": 208,
       "text": [
        "{'AAPL': 612.78, 'IBM': 205.55}"
       ]
      }
     ],
     "prompt_number": 208
    },
    {
     "cell_type": "markdown",
     "metadata": {},
     "source": [
      "- dictionary comprehension\uc744 \uc0ac\uc6a9\ud558\ub294 \uac83\uc774 \ub354 \uae54\ub054\ud558\uace0 \uc2e4\ud589 \uc18d\ub3c4 \uce21\uba74\uc5d0\uc11c \ubcf4\uc544\ub3c4 \uc870\uae08 \ub354 \uc720\ub9ac(prices \ub515\uc154\ub108\ub9ac\uc758 \uacbd\uc6b0 \uc2e4\ud589 \uc18d\ub3c4\uc5d0\uc11c 2\ubc30 \ucc28\uc774 \ubc1c\uc0dd)\n",
      "- **\ub3d9\uc77c\ud55c \ubb38\uc81c\ub97c \ud574\uacb0**\ud558\ub294 \ub370\ub294 **\uc5b8\uc81c\ub098 \ub9ce\uc740 \ubc29\ubc95\uc774 \uc874\uc7ac**"
     ]
    },
    {
     "cell_type": "code",
     "collapsed": false,
     "input": [
      "tech_names = {'AAPL', 'IBM', 'HPQ', 'MSFT'}\n",
      "p2 = { key:prices[key] for key in prices.keys() & tech_names}\n",
      "p2"
     ],
     "language": "python",
     "metadata": {},
     "outputs": [
      {
       "metadata": {},
       "output_type": "pyout",
       "prompt_number": 209,
       "text": [
        "{'HPQ': 37.2, 'AAPL': 612.78, 'IBM': 205.55}"
       ]
      }
     ],
     "prompt_number": 209
    },
    {
     "cell_type": "markdown",
     "metadata": {},
     "source": [
      "## 1.18 \uc2dc\ud000\uc2a4 \uc694\uc18c\uc5d0 \uc774\ub984 \ub9e4\ud551\n",
      "\n",
      "### \ubb38\uc81c\n",
      "\n",
      "- \ub9ac\uc2a4\ud2b8\ub098 \ud29c\ud50c\uc758 \uc704\uce58\ub85c \uc694\uc18c\uc5d0 \uc811\uadfc\ud558\ub294 \ucf54\ub4dc \uc874\uc7ac\n",
      "- \ud558\uc9c0\ub9cc \ub54c\ub860 \uc774\ub7f0 \ucf54\ub4dc\uc758 \uac00\ub3c5\uc131\uc774 \ub5a8\uc5b4\uc9d0\n",
      "- \ub610\ud55c \uc704\uce58\uc5d0 \uc758\uc874\ud558\ub294 \ucf54\ub4dc\uc758 \uad6c\uc870\ub3c4 \uc774\ub984\uc73c\ub85c \uc811\uadfc \uac00\ub2a5\ud558\ub3c4\ub85d \uc218\uc815\ud558\uace0 \uc2f6\uc74c\n",
      "\n",
      "### \ud574\uacb0\n",
      "\n",
      "- collections.namedtuple()\uc744 \uc0ac\uc6a9\ud558\uba74 \uc77c\ubc18\uc801\uc778 \ud29c\ud50c \uac1d\uccb4\ub97c \uc0ac\uc6a9\ud558\ub294 \uac83\uc5d0 \ube44\ud574 \uadf8\ub9ac \ud06c\uc9c0 \uc54a\uc740 \uc624\ubc84\ud5e4\ub4dc\ub85c \uc774 \uae30\ub2a5\uc744 \uad6c\ud604\n",
      "- collections.namedtuple()\uc740 \uc2e4\uc81c\ub85c \ud45c\uc900 \ud30c\uc774\uc36c tuple \ud0c0\uc785\uc758 \uc11c\ube0c \ud074\ub798\uc2a4\ub97c \ubc18\ud658\ud558\ub294 \ud329\ud1a0\ub9ac \uba54\uc18c\ub4dc\n",
      "- \ud0c0\uc785 \uc774\ub984\uacfc, \ud3ec\ud568\ud574\uc57c \ud560 \ud544\ub4dc\ub97c \uc804\ub2ec\ud558\uba74 \uc778\uc2a4\ud134\uc2a4\ud654 \uac00\ub2a5\ud55c \ud074\ub798\uc2a4\ub97c \ubc18\ud658\n",
      "- \uc5ec\uae30\uc5d0 \ud544\ub4dc\uc758 \uac12\uc744 \uc804\ub2ec\ud558\ub294 \uc2dd\uc73c\ub85c \uc0ac\uc6a9 \uac00\ub2a5"
     ]
    },
    {
     "cell_type": "code",
     "collapsed": false,
     "input": [
      "from collections import namedtuple"
     ],
     "language": "python",
     "metadata": {},
     "outputs": [],
     "prompt_number": 210
    },
    {
     "cell_type": "code",
     "collapsed": false,
     "input": [
      "Subscriber = namedtuple('Subscriber', ['addr', 'joined'])"
     ],
     "language": "python",
     "metadata": {},
     "outputs": [],
     "prompt_number": 211
    },
    {
     "cell_type": "code",
     "collapsed": false,
     "input": [
      "sub = Subscriber('jonesy@example.com', '2012-10-19')"
     ],
     "language": "python",
     "metadata": {},
     "outputs": [],
     "prompt_number": 212
    },
    {
     "cell_type": "code",
     "collapsed": false,
     "input": [
      "sub"
     ],
     "language": "python",
     "metadata": {},
     "outputs": [
      {
       "metadata": {},
       "output_type": "pyout",
       "prompt_number": 213,
       "text": [
        "Subscriber(addr='jonesy@example.com', joined='2012-10-19')"
       ]
      }
     ],
     "prompt_number": 213
    },
    {
     "cell_type": "code",
     "collapsed": false,
     "input": [
      "sub.addr"
     ],
     "language": "python",
     "metadata": {},
     "outputs": [
      {
       "metadata": {},
       "output_type": "pyout",
       "prompt_number": 214,
       "text": [
        "'jonesy@example.com'"
       ]
      }
     ],
     "prompt_number": 214
    },
    {
     "cell_type": "code",
     "collapsed": false,
     "input": [
      "sub.joined"
     ],
     "language": "python",
     "metadata": {},
     "outputs": [
      {
       "metadata": {},
       "output_type": "pyout",
       "prompt_number": 215,
       "text": [
        "'2012-10-19'"
       ]
      }
     ],
     "prompt_number": 215
    },
    {
     "cell_type": "markdown",
     "metadata": {},
     "source": [
      "- namedtuple\uc758 \uc778\uc2a4\ud134\uc2a4\ub294 \uc77c\ubc18\uc801\uc778 \ud074\ub798\uc2a4 \uc778\uc2a4\ud134\uc2a4\uc640 \ube44\uc2b7\ud574 \ubcf4\uc774\uc9c0\ub9cc \ud29c\ud50c\uacfc \uad50\ud658\uc774 \uac00\ub2a5\ud558\uace0, \uc778\ub371\uc2f1\uc774\ub098 \uc5b8\ud328\ud0b9\uacfc \uac19\uc740 \ud29c\ud50c\uc758 \uc77c\ubc18\uc801\uc778 \uae30\ub2a5\uc744 \ubaa8\ub450 \uc9c0\uc6d0"
     ]
    },
    {
     "cell_type": "code",
     "collapsed": false,
     "input": [
      "len(sub)"
     ],
     "language": "python",
     "metadata": {},
     "outputs": [
      {
       "metadata": {},
       "output_type": "pyout",
       "prompt_number": 216,
       "text": [
        "2"
       ]
      }
     ],
     "prompt_number": 216
    },
    {
     "cell_type": "code",
     "collapsed": false,
     "input": [
      "addr, joined = sub"
     ],
     "language": "python",
     "metadata": {},
     "outputs": [],
     "prompt_number": 217
    },
    {
     "cell_type": "code",
     "collapsed": false,
     "input": [
      "addr"
     ],
     "language": "python",
     "metadata": {},
     "outputs": [
      {
       "metadata": {},
       "output_type": "pyout",
       "prompt_number": 218,
       "text": [
        "'jonesy@example.com'"
       ]
      }
     ],
     "prompt_number": 218
    },
    {
     "cell_type": "code",
     "collapsed": false,
     "input": [
      "joined"
     ],
     "language": "python",
     "metadata": {},
     "outputs": [
      {
       "metadata": {},
       "output_type": "pyout",
       "prompt_number": 219,
       "text": [
        "'2012-10-19'"
       ]
      }
     ],
     "prompt_number": 219
    },
    {
     "cell_type": "markdown",
     "metadata": {},
     "source": [
      "- namedtuple\uc740 \uc8fc\ub85c **\uc694\uc18c\uc758 \uc704\uce58**\ub97c \uae30\ubc18\uc73c\ub85c \uad6c\ud604\ub418\uc5b4 \uc788\ub294 \ucf54\ub4dc\ub97c \ubd84\ub9ac\n",
      "- \uc694\uc18c\uc758 \uc704\uce58\ub85c \uc811\uadfc\ud558\ub294 \ucf54\ub4dc\uac00 \uc788\uc744 \ub54c, \uc608\ub97c \ub4e4\uc5b4 \ud14c\uc774\ube14\uc5d0 \uc0c8\ub85c\uc6b4 \uc5f4\uc774 \ucd94\uac00\ub418\uc5c8\ub2e4\uac70\ub098 \ud560 \ub54c \ubb38\uc81c\uac00 \ubc1c\uc0dd\ud560 \uc218 \uc788\uc74c\n",
      "- \ubc18\ud658\ub41c \ud29c\ud50c\uc744 \ub124\uc784\ub4dc \ud29c\ud50c\ub85c \ubcc0\ud658\ud588\ub2e4\uba74 \uc774\ub7f0 \ubb38\uc81c\ub97c \uc608\ubc29\ud560 \uc218 \uc788\uc74c"
     ]
    },
    {
     "cell_type": "code",
     "collapsed": false,
     "input": [
      "def compute_cost(records):\n",
      "    total = 0.0\n",
      "    for rec in records:\n",
      "        total += rec[1] * rec[2]\n",
      "    return total"
     ],
     "language": "python",
     "metadata": {},
     "outputs": [],
     "prompt_number": 243
    },
    {
     "cell_type": "code",
     "collapsed": false,
     "input": [
      "records = [['name', 20, 1000], ['name2', 30, 2000]]"
     ],
     "language": "python",
     "metadata": {},
     "outputs": [],
     "prompt_number": 244
    },
    {
     "cell_type": "code",
     "collapsed": false,
     "input": [
      "compute_cost(records)"
     ],
     "language": "python",
     "metadata": {},
     "outputs": [
      {
       "metadata": {},
       "output_type": "pyout",
       "prompt_number": 245,
       "text": [
        "80000.0"
       ]
      }
     ],
     "prompt_number": 245
    },
    {
     "cell_type": "code",
     "collapsed": false,
     "input": [
      "Stock = namedtuple('Stock', ['name', 'shares', 'price'])"
     ],
     "language": "python",
     "metadata": {},
     "outputs": [],
     "prompt_number": 286
    },
    {
     "cell_type": "markdown",
     "metadata": {},
     "source": [
      "----\n",
      "\n",
      "- \uc790\ub8cc\uad6c\uc870\ub97c \ub9ce\uc774 \uc54c\uace0 \uc788\uc73c\uba74 \uc4f8\ub370\uc5c6\ub294 \uc0bd\uc9c8\uc744 \ubc29\uc9c0\ud574 \uc904 \uc218 \uc788\uaca0\ub124.\n",
      "- \uad1c\ud788 \uad6c\ud604\ud55c\ub2e4\uace0 \ud798 \ube7c\uc9c0 \uc54a\uace0 \uadf8\ub0e5 \uac00\uc838\ub2e4 \uc4f0\uba74 \ub418\uc796\uc544..\n",
      "- \uc774\ubbf8 \uc798 \ub9cc\ub4e4\uc5b4\uc838 \uc788\ub294\uac83 \uac00\uc838\ub2e4 \uc4f0\uba74 \ub41c\ub2e4.\n",
      "  - \uc790\ub3d9\ucc28 \ub9cc\ub4dc\ub294\ub370 \ubc14\ud034\ub97c \ub2e4\uc2dc \ubc1c\uba85\ud560 \uc774\uc720\ub294 \uc5c6\uc796\uc544?\n",
      "  - \uadf8\ub7f0\ub370 \uadf8 \ud568\uc218\uc5d0 \ubc84\uadf8\uac00 \uc874\uc7ac\ud55c\ub2e4\uba74? SSL heartbleed, bash bug\n",
      "\n",
      "-----"
     ]
    },
    {
     "cell_type": "code",
     "collapsed": false,
     "input": [
      "def compute_cost(records):\n",
      "    total = 0.0\n",
      "    for rec in records:\n",
      "        print(*rec)\n",
      "        s = Stock(*rec)\n",
      "        print(s)\n",
      "        total += s.shares * s.price\n",
      "    return total"
     ],
     "language": "python",
     "metadata": {},
     "outputs": [],
     "prompt_number": 247
    },
    {
     "cell_type": "code",
     "collapsed": false,
     "input": [
      "compute_cost(records)"
     ],
     "language": "python",
     "metadata": {},
     "outputs": [
      {
       "output_type": "stream",
       "stream": "stdout",
       "text": [
        "name 20 1000\n",
        "Stock(name='name', shares=20, price=1000)\n",
        "name2 30 2000\n",
        "Stock(name='name2', shares=30, price=2000)\n"
       ]
      },
      {
       "metadata": {},
       "output_type": "pyout",
       "prompt_number": 248,
       "text": [
        "80000.0"
       ]
      }
     ],
     "prompt_number": 248
    },
    {
     "cell_type": "markdown",
     "metadata": {},
     "source": [
      "- \ub9cc\uc57d\uc5d0 name\uacfc price \uc790\ub9ac\uac00 \ubc14\ub00c\uac8c \ub41c\ub2e4\uba74?\n",
      "- \uc81c\uc77c \ucc98\uc74c\uc5d0 \ud55c \ubc29\ubc95\uc740 rec[1] * rec[2] -> rec[0] * rec[1]\ub85c \ubcc0\uacbd\ud574\uc57c \ud55c\ub2e4.\n",
      "- \ud558\uc9c0\ub9cc namedtuple\uc740 \uc81c\uc77c \ucc98\uc74c namedtuple\uc744 \uc124\uc815\ud560 \ub54c\ub9cc \ubcc0\uacbd\ud574\uc8fc\uba74 \ub41c\ub2e4.\n",
      "  - Stock = namedtuple('Stock', ['name', 'shares', 'price'])\n",
      "  - Stock = namedtuple('Stock', ['shares', 'price', 'name'])"
     ]
    },
    {
     "cell_type": "code",
     "collapsed": false,
     "input": [
      "Stock_change = namedtuple('Stock', ['shares', 'price', 'name'])"
     ],
     "language": "python",
     "metadata": {},
     "outputs": [],
     "prompt_number": 276
    },
    {
     "cell_type": "code",
     "collapsed": false,
     "input": [
      "records = [[20, 1000, 'name'], [30, 2000, 'name2']]"
     ],
     "language": "python",
     "metadata": {},
     "outputs": [],
     "prompt_number": 277
    },
    {
     "cell_type": "code",
     "collapsed": false,
     "input": [
      "def compute_cost_change(records):\n",
      "    total = 0.0\n",
      "    for rec in records:\n",
      "        s = Stock_change(*rec)\n",
      "        total += s.shares * s.price\n",
      "    return total"
     ],
     "language": "python",
     "metadata": {},
     "outputs": [],
     "prompt_number": 280
    },
    {
     "cell_type": "code",
     "collapsed": false,
     "input": [
      "compute_cost_change(records)"
     ],
     "language": "python",
     "metadata": {},
     "outputs": [
      {
       "metadata": {},
       "output_type": "pyout",
       "prompt_number": 281,
       "text": [
        "80000.0"
       ]
      }
     ],
     "prompt_number": 281
    },
    {
     "cell_type": "markdown",
     "metadata": {},
     "source": [
      "### \ud1a0\ub860\n",
      "\n",
      "- namedtuple\uc740 \uc800\uc7a5 \uacf5\uac04\uc744 \ub354 \ud544\uc694\ub85c \ud558\ub294 \ub515\uc154\ub108\ub9ac \ub300\uc2e0 \uc0ac\uc6a9 \uac00\ub2a5\n",
      "- \ub515\uc154\ub108\ub9ac\ub97c \ud3ec\ud568\ud55c \ubc29\ub300\ud55c \uc790\ub8cc \uad6c\uc870\ub97c \uad6c\uc0c1\ud558\uace0 \uc788\ub2e4\uba74 namedtuple\uc744 \uc0ac\uc6a9\ud558\ub294 \uac83\uc774 \ub354 \ud6a8\uc728\uc801\n",
      "- \ub515\uc154\ub108\ub9ac\uc640\ub294 \ub2e4\ub974\uac8c namedtuple\uc740 \uc218\uc815 \ubd88\uac00"
     ]
    },
    {
     "cell_type": "code",
     "collapsed": false,
     "input": [
      "s = Stock('ACME', 100, 123.45)"
     ],
     "language": "python",
     "metadata": {},
     "outputs": [],
     "prompt_number": 288
    },
    {
     "cell_type": "code",
     "collapsed": false,
     "input": [
      "s"
     ],
     "language": "python",
     "metadata": {},
     "outputs": [
      {
       "metadata": {},
       "output_type": "pyout",
       "prompt_number": 289,
       "text": [
        "Stock(name='ACME', shares=100, price=123.45)"
       ]
      }
     ],
     "prompt_number": 289
    },
    {
     "cell_type": "code",
     "collapsed": false,
     "input": [
      "s.shares"
     ],
     "language": "python",
     "metadata": {},
     "outputs": [
      {
       "metadata": {},
       "output_type": "pyout",
       "prompt_number": 290,
       "text": [
        "100"
       ]
      }
     ],
     "prompt_number": 290
    },
    {
     "cell_type": "code",
     "collapsed": false,
     "input": [
      "s.shares = 75"
     ],
     "language": "python",
     "metadata": {},
     "outputs": [
      {
       "ename": "AttributeError",
       "evalue": "can't set attribute",
       "output_type": "pyerr",
       "traceback": [
        "\u001b[0;31m---------------------------------------------------------------------------\u001b[0m\n\u001b[0;31mAttributeError\u001b[0m                            Traceback (most recent call last)",
        "\u001b[0;32m<ipython-input-291-b592c031d9bc>\u001b[0m in \u001b[0;36m<module>\u001b[0;34m()\u001b[0m\n\u001b[0;32m----> 1\u001b[0;31m \u001b[0ms\u001b[0m\u001b[0;34m.\u001b[0m\u001b[0mshares\u001b[0m \u001b[0;34m=\u001b[0m \u001b[0;36m75\u001b[0m\u001b[0;34m\u001b[0m\u001b[0m\n\u001b[0m",
        "\u001b[0;31mAttributeError\u001b[0m: can't set attribute"
       ]
      }
     ],
     "prompt_number": 291
    },
    {
     "cell_type": "markdown",
     "metadata": {},
     "source": [
      "- \uc18d\uc131\uc744 \uc218\uc815\ud558\ub824 \ud55c\ub2e4\uba74 \\_replace() \uba54\uc18c\ub4dc\ub97c \uc0ac\uc6a9\n",
      "- \uc644\uc804\ud788 \uc0c8\ub85c\uc6b4 namedtuple \uc0dd\uc131"
     ]
    },
    {
     "cell_type": "code",
     "collapsed": false,
     "input": [
      "s = s._replace(shares=75)\n",
      "s"
     ],
     "language": "python",
     "metadata": {},
     "outputs": [
      {
       "metadata": {},
       "output_type": "pyout",
       "prompt_number": 292,
       "text": [
        "Stock(name='ACME', shares=75, price=123.45)"
       ]
      }
     ],
     "prompt_number": 292
    },
    {
     "cell_type": "markdown",
     "metadata": {},
     "source": [
      "- \\_replace() \uba54\uc18c\ub4dc\ub97c \uc0ac\uc6a9\ud558\uba74 \uc635\uc158\uc774\ub098 \ube48 \ud544\ub4dc\ub97c \uac00\uc9c4 namedtuple\uc744 \uac04\ub2e8\ud788 \ub9cc\ub4e4 \uc218 \uc788\uc74c\n",
      "- \uc77c\ub2e8 \uae30\ubcf8\uac12\uc744 \uac00\uc9c4 \ud504\ub85c\ud1a0\ud0c0\uc785 \ud29c\ud50c\uc744 \ub9cc\ub4e4\uace0, \\_replace()\ub85c \uce58\ud658\ub41c \uac12\uc744 \uac00\uc9c4 \uc0c8\ub85c\uc6b4 \uc778\uc2a4\ud134\uc2a4\ub97c \ub9cc\ub4e6"
     ]
    },
    {
     "cell_type": "code",
     "collapsed": false,
     "input": [
      "from collections import namedtuple\n",
      "\n",
      "Stock = namedtuple('Stock', ['name', 'shares', 'price', 'date', 'time'])\n",
      "\n",
      "# \ud504\ub85c\ud1a0\ud0c0\uc785 \uc778\uc2a4\ud134\uc2a4 \uc0dd\uc131\n",
      "stock_prototype = Stock('', 0, 0.0, None, None)\n",
      "\n",
      "# \ub515\uc154\ub108\ub9ac\ub97c Stock\uc73c\ub85c \ubcc0\ud658\ud558\ub294 \ud568\uc218\n",
      "def dict_to_stock(s):\n",
      "    return stock_prototype._replace(**s)"
     ],
     "language": "python",
     "metadata": {},
     "outputs": [],
     "prompt_number": 295
    },
    {
     "cell_type": "code",
     "collapsed": false,
     "input": [
      "a = {'name': 'ACME', 'shares': 100, 'price': 123.45}"
     ],
     "language": "python",
     "metadata": {},
     "outputs": [],
     "prompt_number": 296
    },
    {
     "cell_type": "code",
     "collapsed": false,
     "input": [
      "dict_to_stock(a)"
     ],
     "language": "python",
     "metadata": {},
     "outputs": [
      {
       "metadata": {},
       "output_type": "pyout",
       "prompt_number": 297,
       "text": [
        "Stock(name='ACME', shares=100, price=123.45, date=None, time=None)"
       ]
      }
     ],
     "prompt_number": 297
    },
    {
     "cell_type": "code",
     "collapsed": false,
     "input": [
      "b = {'name': 'ACME', 'shares': 100, 'price': 123.45, 'date': '12/17/2012'}"
     ],
     "language": "python",
     "metadata": {},
     "outputs": [],
     "prompt_number": 298
    },
    {
     "cell_type": "code",
     "collapsed": false,
     "input": [
      "dict_to_stock(b)"
     ],
     "language": "python",
     "metadata": {},
     "outputs": [
      {
       "metadata": {},
       "output_type": "pyout",
       "prompt_number": 299,
       "text": [
        "Stock(name='ACME', shares=100, price=123.45, date='12/17/2012', time=None)"
       ]
      }
     ],
     "prompt_number": 299
    },
    {
     "cell_type": "markdown",
     "metadata": {},
     "source": [
      "## 1.19 \ub370\uc774\ud130\ub97c \ubcc0\ud658\ud558\uba74\uc11c \uc904\uc774\uae30\n",
      "\n",
      "### \ubb38\uc81c\n",
      "\n",
      "- \uac10\uc18c \ud568\uc218(sum(), min(), max())\ub97c \uc2e4\ud589\ud574\uc57c \ud558\ub294\ub370, \uba3c\uc800 \ub370\uc774\ud130\ub97c \ubcc0\ud658\ud558\uac70\ub098 \ud544\ud130\ub9c1 \ud574\uc57c \ub428\n",
      "\n",
      "### \ud574\uacb0\n",
      "\n",
      "- \ub370\uc774\ud130\ub97c \uc904\uc774\uba74\uc11c \ubcc0\ud615\ud558\ub294 \uac00\uc7a5 \uc6b0\uc544\ud55c \ubc29\uc2dd\uc740 \uc0dd\uc131\uc790 \ud45c\ud604\uc2dd"
     ]
    },
    {
     "cell_type": "code",
     "collapsed": false,
     "input": [
      "nums = [1, 2, 3, 4, 5]"
     ],
     "language": "python",
     "metadata": {},
     "outputs": [],
     "prompt_number": 300
    },
    {
     "cell_type": "code",
     "collapsed": false,
     "input": [
      "s = sum(x * x for x in nums)\n",
      "s"
     ],
     "language": "python",
     "metadata": {},
     "outputs": [
      {
       "metadata": {},
       "output_type": "pyout",
       "prompt_number": 302,
       "text": [
        "55"
       ]
      }
     ],
     "prompt_number": 302
    },
    {
     "cell_type": "code",
     "collapsed": false,
     "input": [
      "# \ub514\ub809\ud1a0\ub9ac\uc5d0 \ub610 \ub2e4\ub978 .py \ud30c\uc77c\uc774 \uc788\ub294\uc9c0 \uc0b4\ud3b4\ubcf4\uae30\n",
      "import os\n",
      "files = os.listdir('.')\n",
      "if any(name.endswith('.ipynb') for name in files):\n",
      "    print('There by python!')\n",
      "else:\n",
      "    print('Sorry, no python.')"
     ],
     "language": "python",
     "metadata": {},
     "outputs": [
      {
       "output_type": "stream",
       "stream": "stdout",
       "text": [
        "There by python!\n"
       ]
      }
     ],
     "prompt_number": 397
    },
    {
     "cell_type": "code",
     "collapsed": false,
     "input": [
      "!ls -l *.ipynb"
     ],
     "language": "python",
     "metadata": {},
     "outputs": [
      {
       "output_type": "stream",
       "stream": "stdout",
       "text": [
        "-rw-r--r--  1 re4lfl0w  staff    6135 10  2 06:49 Untitled0.ipynb\r\n",
        "-rw-r--r--  1 re4lfl0w  staff  245530 10  2 09:13 ch01.ipynb\r\n"
       ]
      }
     ],
     "prompt_number": 398
    },
    {
     "cell_type": "code",
     "collapsed": false,
     "input": [
      "# \ud29c\ud50c\uc744 CSV\ub85c \ucd9c\ub825\ud55c\ub2e4.\n",
      "s = ('ACME', 50, 123.45)\n",
      "print(', '.join(str(x) for x in s))"
     ],
     "language": "python",
     "metadata": {},
     "outputs": [
      {
       "output_type": "stream",
       "stream": "stdout",
       "text": [
        "ACME, 50, 123.45\n"
       ]
      }
     ],
     "prompt_number": 308
    },
    {
     "cell_type": "code",
     "collapsed": false,
     "input": [
      "# \uc790\ub8cc \uad6c\uc870\uc758 \ud544\ub4dc\ub97c \uc904\uc778\ub2e4.\n",
      "portfolio = [\n",
      "{'name': 'GOOG', 'shares': 50},\n",
      "{'name': 'YHOO', 'shares': 75},\n",
      "{'name': 'AOL', 'shares': 20},\n",
      "{'name': 'SCOX', 'shares': 65}\n",
      "]"
     ],
     "language": "python",
     "metadata": {},
     "outputs": [],
     "prompt_number": 310
    },
    {
     "cell_type": "code",
     "collapsed": false,
     "input": [
      "list(s['shares'] for s in portfolio)"
     ],
     "language": "python",
     "metadata": {},
     "outputs": [
      {
       "metadata": {},
       "output_type": "pyout",
       "prompt_number": 316,
       "text": [
        "[50, 75, 20, 65]"
       ]
      }
     ],
     "prompt_number": 316
    },
    {
     "cell_type": "code",
     "collapsed": false,
     "input": [
      "min_shares = min(s['shares'] for s in portfolio)\n",
      "min_shares"
     ],
     "language": "python",
     "metadata": {},
     "outputs": [
      {
       "metadata": {},
       "output_type": "pyout",
       "prompt_number": 312,
       "text": [
        "20"
       ]
      }
     ],
     "prompt_number": 312
    },
    {
     "cell_type": "markdown",
     "metadata": {},
     "source": [
      "### \ud1a0\ub860\n",
      "\n",
      "- \ud568\uc218\uc5d0 \uc778\uc790\ub85c \uc804\ub2ec\ub41c \uc0dd\uc131\uc790 \ud45c\ud604\uc2dd\uc758 \ubb38\ubc95\uc801\uc778 \uce21\uba74\uc744 \ubcf4\uc5ec\uc90c(\uc608: \uc989, \ubc18\ubcf5\uc801\uc778 \uad04\ud638\ub97c \ud560 \ud544\uc694\uac00 \uc5c6\uc74c)"
     ]
    },
    {
     "cell_type": "code",
     "collapsed": false,
     "input": [
      "# \uc0dd\uc131\uc790 \ud45c\ud604\uc2dd\uc744 \uc778\uc790\ub85c \uc804\ub2ec\n",
      "s = sum((x * x for x in nums))\n",
      "s"
     ],
     "language": "python",
     "metadata": {},
     "outputs": [
      {
       "metadata": {},
       "output_type": "pyout",
       "prompt_number": 318,
       "text": [
        "55"
       ]
      }
     ],
     "prompt_number": 318
    },
    {
     "cell_type": "code",
     "collapsed": false,
     "input": [
      "# \ub354 \uc6b0\uc544\ud55c \ubc29\uc2dd\n",
      "# \uace0\ubbfc\uc744 \ub9ce\uc774\ud588\ub294\ub370 \uc774\uac8c \uc880 \ub354 \uc6b0\uc544\ud55c \ubc29\uc2dd\uc774\uad70..\n",
      "s = sum(x * x for x in nums)\n",
      "s"
     ],
     "language": "python",
     "metadata": {},
     "outputs": [
      {
       "metadata": {},
       "output_type": "pyout",
       "prompt_number": 319,
       "text": [
        "55"
       ]
      }
     ],
     "prompt_number": 319
    },
    {
     "cell_type": "markdown",
     "metadata": {},
     "source": [
      "- \uc0dd\uc131\uc790 \uc778\uc790\ub97c \uc0ac\uc6a9\ud558\uba74 \uc784\uc2dc \ub9ac\uc2a4\ud2b8\ub97c \ub9cc\ub4dc\ub294 \uac83\ubcf4\ub2e4 \ub354 \ud6a8\uc728\uc801\uc774\uace0 \ucf54\ub4dc\uac00 \uac04\uacb0\ud55c \uacbd\uc6b0\uac00 \ub9ce\uc74c"
     ]
    },
    {
     "cell_type": "code",
     "collapsed": false,
     "input": [
      "nums = [1, 2, 3, 4, 5]\n",
      "s = sum([x * x for x in nums])\n",
      "s"
     ],
     "language": "python",
     "metadata": {},
     "outputs": [
      {
       "metadata": {},
       "output_type": "pyout",
       "prompt_number": 320,
       "text": [
        "55"
       ]
      }
     ],
     "prompt_number": 320
    },
    {
     "cell_type": "markdown",
     "metadata": {},
     "source": [
      "- \ubb3c\ub860 \uc774 \ucf54\ub4dc\ub3c4 \ub3d9\uc791\ud558\uc9c0\ub9cc \ucd94\uac00\uc801\uc778 \ub9ac\uc2a4\ud2b8\ub97c \uc0dd\uc131\ud574\uc57c \ud55c\ub2e4\ub294 \ubc88\uac70\ub85c\uc6c0\n",
      "- num\uc758 \ud06c\uae30\uac00 \ubc29\ub300\ud574\uc9c0\uba74 \ud55c \ubc88 \uc4f0\uace0 \ubc84\ub9b4 \uc784\uc2dc \ub9ac\uc2a4\ud2b8\uc758 \ud06c\uae30\ub3c4 \ucee4\uc9c4\ub2e4\ub294 \ubb38\uc81c \ubc1c\uc0dd\n",
      "- \uc0dd\uc131\uc790\ub97c \uc0ac\uc6a9\ud558\uba74 \ub370\uc774\ud130\ub97c \uc21c\ud658 \uac00\ub2a5\ud558\uac8c \ubcc0\ud615\ud558\ubbc0\ub85c \uba54\ubaa8\ub9ac \uce21\uba74\uc5d0\uc11c \ud6e8\uc52c \uc720\ub9ac\n",
      "\n",
      "\n",
      "- min(), max() \uac19\uc740 \ud568\uc218\ub294 key\ub77c\ub294 \uc5ec\ub7ec \uc0c1\ud669\uc5d0\uc11c \uc720\uc6a9\ud55c \uc778\uc790\ub97c \ubc1b\uae30 \ub54c\ubb38\uc5d0 \uc0dd\uc131\uc790 \ubc29\uc2dd\uc744 \uc0ac\uc6a9\ud574\uc57c \ud558\ub294 \uc774\uc720\ub97c \ud55c \uac00\uc9c0 \ub354 \ub9cc\ub4e4\uc5b4 \uc90c"
     ]
    },
    {
     "cell_type": "code",
     "collapsed": false,
     "input": [
      "# \uc6d0\ubcf8: 20\uc744 \ubc18\ud658\n",
      "min_shares = min(s['shares'] for s in portfolio)\n",
      "min_shares"
     ],
     "language": "python",
     "metadata": {},
     "outputs": [
      {
       "metadata": {},
       "output_type": "pyout",
       "prompt_number": 322,
       "text": [
        "20"
       ]
      }
     ],
     "prompt_number": 322
    },
    {
     "cell_type": "code",
     "collapsed": false,
     "input": [
      "# \ub300\uc548: {'name': 'AOL', 'shares': 20}\uc744 \ubc18\ud658\n",
      "# \uc73c.. \ub78c\ub2e4 \uc801\uc751 \uc544\uc9c1\ub3c4 \uc798 \uc548\ub41c\ub2e4.\n",
      "min_shares = min(portfolio, key=lambda s: s['shares'])\n",
      "min_shares"
     ],
     "language": "python",
     "metadata": {},
     "outputs": [
      {
       "metadata": {},
       "output_type": "pyout",
       "prompt_number": 324,
       "text": [
        "{'shares': 20, 'name': 'AOL'}"
       ]
      }
     ],
     "prompt_number": 324
    },
    {
     "cell_type": "code",
     "collapsed": false,
     "input": [
      "portfolio"
     ],
     "language": "python",
     "metadata": {},
     "outputs": [
      {
       "metadata": {},
       "output_type": "pyout",
       "prompt_number": 326,
       "text": [
        "[{'shares': 50, 'name': 'GOOG'},\n",
        " {'shares': 75, 'name': 'YHOO'},\n",
        " {'shares': 20, 'name': 'AOL'},\n",
        " {'shares': 65, 'name': 'SCOX'}]"
       ]
      }
     ],
     "prompt_number": 326
    },
    {
     "cell_type": "markdown",
     "metadata": {},
     "source": [
      "## 1.20 \uc5ec\ub7ec \ub9e4\ud551\uc744 \ub2e8\uc77c \ub9e4\ud551\uc73c\ub85c \ud569\uce58\uae30\n",
      "\n",
      "- \uc624! \ub4dc\ub514\uc5b4 1\uc7a5\uc758 \ub9c8\uc9c0\ub9c9!!\n",
      "\n",
      "### \ubb38\uc81c\n",
      "\n",
      "- \ub515\uc154\ub108\ub9ac\ub098 \ub9e4\ud551\uc774 \uc5ec\ub7ec \uac1c \uc788\uace0, \uc790\ub8cc \uac80\uc0c9\uc774\ub098 \ub370\uc774\ud130 \ud655\uc778\uc744 \uc704\ud574\uc11c \ud558\ub098\uc758 \ub9e4\ud551\uc73c\ub85c \ud569\uce58\uace0 \uc2f6\ub2e4\n",
      "\n",
      "### \ud574\uacb0\n"
     ]
    },
    {
     "cell_type": "code",
     "collapsed": false,
     "input": [
      "a = {'x': 1, 'z': 3}\n",
      "b = {'y': 2, 'z': 4}"
     ],
     "language": "python",
     "metadata": {},
     "outputs": [],
     "prompt_number": 353
    },
    {
     "cell_type": "code",
     "collapsed": false,
     "input": [
      "from collections import ChainMap\n",
      "c = ChainMap(b,a)\n",
      "print(c['x'])\n",
      "print(c['y'])\n",
      "print(c['z']) # b\uac00 \uba3c\uc800 \ub4e4\uc5b4\uac14\uc73c\ub2c8 \uc6b0\uc120\uad8c"
     ],
     "language": "python",
     "metadata": {},
     "outputs": [
      {
       "output_type": "stream",
       "stream": "stdout",
       "text": [
        "1\n",
        "2\n",
        "4\n"
       ]
      }
     ],
     "prompt_number": 354
    },
    {
     "cell_type": "code",
     "collapsed": false,
     "input": [
      "from collections import ChainMap\n",
      "c = ChainMap(a, b)\n",
      "print(c['x'])\n",
      "print(c['y'])\n",
      "print(c['z']) # a\uac00 \uba3c\uc800 \ub4e4\uc5b4\uac14\uc73c\ub2c8 \uc6b0\uc120\uad8c\uc774\ub124"
     ],
     "language": "python",
     "metadata": {},
     "outputs": [
      {
       "output_type": "stream",
       "stream": "stdout",
       "text": [
        "1\n",
        "2\n",
        "3\n"
       ]
      }
     ],
     "prompt_number": 355
    },
    {
     "cell_type": "markdown",
     "metadata": {},
     "source": [
      "### \ud1a0\ub860\n",
      "\n",
      "- ChainMap: \ub9e4\ud551\uc744 \uc5ec\ub7ec \uac1c \ubc1b\uc544\uc11c \ud558\ub098\ucc98\ub7fc \ubcf4\uc774\uac8c \ub9cc\ub4e6\n",
      "- \uadf8\ub807\uac8c \ubcf4\uc774\ub294 \uac83\uc77c\ubfd0 \ud558\ub098\ub85c \ud569\uce58\ub294 \uac83\uc740 \uc544\ub2c8\ub2e4.\n",
      "- \ub2e8\uc9c0 \ub9e4\ud551\uc5d0 \ub300\ud55c \ub9ac\uc2a4\ud2b8\ub97c \uc720\uc9c0\ud558\uba74\uc11c \ub9ac\uc2a4\ud2b8\ub97c \uc2a4\uce94\ud558\ub3c4\ub85d \uc77c\ubc18\uc801\uc778 \ub515\uc154\ub108\ub9ac \ub3d9\uc791\uc744 \uc7ac\uc815\uc758\ud55c\ub2e4."
     ]
    },
    {
     "cell_type": "code",
     "collapsed": false,
     "input": [
      "len(c)"
     ],
     "language": "python",
     "metadata": {},
     "outputs": [
      {
       "metadata": {},
       "output_type": "pyout",
       "prompt_number": 356,
       "text": [
        "3"
       ]
      }
     ],
     "prompt_number": 356
    },
    {
     "cell_type": "code",
     "collapsed": false,
     "input": [
      "list(c.keys())"
     ],
     "language": "python",
     "metadata": {},
     "outputs": [
      {
       "metadata": {},
       "output_type": "pyout",
       "prompt_number": 357,
       "text": [
        "['x', 'y', 'z']"
       ]
      }
     ],
     "prompt_number": 357
    },
    {
     "cell_type": "code",
     "collapsed": false,
     "input": [
      "list(c.values())"
     ],
     "language": "python",
     "metadata": {},
     "outputs": [
      {
       "metadata": {},
       "output_type": "pyout",
       "prompt_number": 358,
       "text": [
        "[1, 2, 3]"
       ]
      }
     ],
     "prompt_number": 358
    },
    {
     "cell_type": "markdown",
     "metadata": {},
     "source": [
      "- \uc911\ubcf5 \ud0a4\uac00 \uc788\uc73c\uba74 \uccab\ubc88\uc9f8 \ub9e4\ud551\uc758 \uac12\uc744 \uc0ac\uc6a9\ud568\n",
      "- c['z]\ub294 \uc5b8\uc81c\ub098 \ub515\uc154\ub108\ub9ac\uc758 a\uc758 \uac12\uc744 \ucc38\uc870\ud558\uba70 b\uc758 \uac12\uc740 \ucc38\uc870\ud558\uc9c0 \uc54a\uc74c(Chainmap(b,a)\ub85c \ub118\uaca8\uc8fc\uba74 b\uc758 \uac12\uc744 \ucc38\uc870)"
     ]
    },
    {
     "cell_type": "code",
     "collapsed": false,
     "input": [
      "c['z'] = 10"
     ],
     "language": "python",
     "metadata": {},
     "outputs": [],
     "prompt_number": 359
    },
    {
     "cell_type": "code",
     "collapsed": false,
     "input": [
      "c['w'] = 40"
     ],
     "language": "python",
     "metadata": {},
     "outputs": [],
     "prompt_number": 360
    },
    {
     "cell_type": "code",
     "collapsed": false,
     "input": [
      "c"
     ],
     "language": "python",
     "metadata": {},
     "outputs": [
      {
       "metadata": {},
       "output_type": "pyout",
       "prompt_number": 361,
       "text": [
        "ChainMap({'w': 40, 'x': 1, 'z': 10}, {'y': 2, 'z': 4})"
       ]
      }
     ],
     "prompt_number": 361
    },
    {
     "cell_type": "code",
     "collapsed": false,
     "input": [
      "del c['x']"
     ],
     "language": "python",
     "metadata": {},
     "outputs": [],
     "prompt_number": 362
    },
    {
     "cell_type": "code",
     "collapsed": false,
     "input": [
      "c"
     ],
     "language": "python",
     "metadata": {},
     "outputs": [
      {
       "metadata": {},
       "output_type": "pyout",
       "prompt_number": 363,
       "text": [
        "ChainMap({'w': 40, 'z': 10}, {'y': 2, 'z': 4})"
       ]
      }
     ],
     "prompt_number": 363
    },
    {
     "cell_type": "code",
     "collapsed": false,
     "input": [
      "a"
     ],
     "language": "python",
     "metadata": {},
     "outputs": [
      {
       "metadata": {},
       "output_type": "pyout",
       "prompt_number": 364,
       "text": [
        "{'w': 40, 'z': 10}"
       ]
      }
     ],
     "prompt_number": 364
    },
    {
     "cell_type": "code",
     "collapsed": false,
     "input": [
      "del c['y']"
     ],
     "language": "python",
     "metadata": {},
     "outputs": [
      {
       "ename": "KeyError",
       "evalue": "\"Key not found in the first mapping: 'y'\"",
       "output_type": "pyerr",
       "traceback": [
        "\u001b[0;31m---------------------------------------------------------------------------\u001b[0m\n\u001b[0;31mKeyError\u001b[0m                                  Traceback (most recent call last)",
        "\u001b[0;32m<ipython-input-365-df3e26fa6544>\u001b[0m in \u001b[0;36m<module>\u001b[0;34m()\u001b[0m\n\u001b[0;32m----> 1\u001b[0;31m \u001b[0;32mdel\u001b[0m \u001b[0mc\u001b[0m\u001b[0;34m[\u001b[0m\u001b[0;34m'y'\u001b[0m\u001b[0;34m]\u001b[0m\u001b[0;34m\u001b[0m\u001b[0m\n\u001b[0m",
        "\u001b[0;32m/Users/re4lfl0w/virtualenv/python3_test/lib/python3.4/collections/__init__.py\u001b[0m in \u001b[0;36m__delitem__\u001b[0;34m(self, key)\u001b[0m\n\u001b[1;32m    839\u001b[0m             \u001b[0;32mdel\u001b[0m \u001b[0mself\u001b[0m\u001b[0;34m.\u001b[0m\u001b[0mmaps\u001b[0m\u001b[0;34m[\u001b[0m\u001b[0;36m0\u001b[0m\u001b[0;34m]\u001b[0m\u001b[0;34m[\u001b[0m\u001b[0mkey\u001b[0m\u001b[0;34m]\u001b[0m\u001b[0;34m\u001b[0m\u001b[0m\n\u001b[1;32m    840\u001b[0m         \u001b[0;32mexcept\u001b[0m \u001b[0mKeyError\u001b[0m\u001b[0;34m:\u001b[0m\u001b[0;34m\u001b[0m\u001b[0m\n\u001b[0;32m--> 841\u001b[0;31m             \u001b[0;32mraise\u001b[0m \u001b[0mKeyError\u001b[0m\u001b[0;34m(\u001b[0m\u001b[0;34m'Key not found in the first mapping: {!r}'\u001b[0m\u001b[0;34m.\u001b[0m\u001b[0mformat\u001b[0m\u001b[0;34m(\u001b[0m\u001b[0mkey\u001b[0m\u001b[0;34m)\u001b[0m\u001b[0;34m)\u001b[0m\u001b[0;34m\u001b[0m\u001b[0m\n\u001b[0m\u001b[1;32m    842\u001b[0m \u001b[0;34m\u001b[0m\u001b[0m\n\u001b[1;32m    843\u001b[0m     \u001b[0;32mdef\u001b[0m \u001b[0mpopitem\u001b[0m\u001b[0;34m(\u001b[0m\u001b[0mself\u001b[0m\u001b[0;34m)\u001b[0m\u001b[0;34m:\u001b[0m\u001b[0;34m\u001b[0m\u001b[0m\n",
        "\u001b[0;31mKeyError\u001b[0m: \"Key not found in the first mapping: 'y'\""
       ]
      }
     ],
     "prompt_number": 365
    },
    {
     "cell_type": "markdown",
     "metadata": {},
     "source": [
      "- ChainMap\uc740 \ud504\ub85c\uadf8\ub798\ubc0d \uc5b8\uc5b4\uc758 \ubcc0\uc218\uc640 \uac19\uc774 \ubc94\uc704\uac00 \uc788\ub294 \uac12(\uc989, \uc804\uc5ed\ubcc0\uc218, \uc9c0\uc5ed\ubcc0\uc218)\uc5d0\uc11c \uc0ac\uc6a9\ud558\uba74 \uc720\uc6a9\n",
      "- \uc774 \ub3d9\uc791\uc744 \uc27d\uac8c \ub9cc\ub4e4\uc5b4\uc8fc\ub294 \uba54\uc18c\ub4dc\uac00 \uc874\uc7ac"
     ]
    },
    {
     "cell_type": "code",
     "collapsed": false,
     "input": [
      "values = ChainMap()"
     ],
     "language": "python",
     "metadata": {},
     "outputs": [],
     "prompt_number": 369
    },
    {
     "cell_type": "code",
     "collapsed": false,
     "input": [
      "values['x'] = 1\n",
      "values"
     ],
     "language": "python",
     "metadata": {},
     "outputs": [
      {
       "metadata": {},
       "output_type": "pyout",
       "prompt_number": 371,
       "text": [
        "ChainMap({'x': 1})"
       ]
      }
     ],
     "prompt_number": 371
    },
    {
     "cell_type": "code",
     "collapsed": false,
     "input": [
      "# \uc0c8\ub85c\uc6b4 \ub9e4\ud551 \ucd94\uac00\n",
      "values = values.new_child()"
     ],
     "language": "python",
     "metadata": {},
     "outputs": [],
     "prompt_number": 372
    },
    {
     "cell_type": "code",
     "collapsed": false,
     "input": [
      "values['x'] = 2\n",
      "values"
     ],
     "language": "python",
     "metadata": {},
     "outputs": [
      {
       "metadata": {},
       "output_type": "pyout",
       "prompt_number": 373,
       "text": [
        "ChainMap({'x': 2}, {'x': 1})"
       ]
      }
     ],
     "prompt_number": 373
    },
    {
     "cell_type": "code",
     "collapsed": false,
     "input": [
      "# \uc0c8\ub85c\uc6b4 \ub9e4\ud551 \ucd94\uac00\n",
      "values = values.new_child()"
     ],
     "language": "python",
     "metadata": {},
     "outputs": [],
     "prompt_number": 374
    },
    {
     "cell_type": "code",
     "collapsed": false,
     "input": [
      "values['x'] = 3\n",
      "values"
     ],
     "language": "python",
     "metadata": {},
     "outputs": [
      {
       "metadata": {},
       "output_type": "pyout",
       "prompt_number": 375,
       "text": [
        "ChainMap({'x': 3}, {'x': 2}, {'x': 1})"
       ]
      }
     ],
     "prompt_number": 375
    },
    {
     "cell_type": "code",
     "collapsed": false,
     "input": [
      "# \ub9c8\uc9c0\ub9c9 \ub9e4\ud551 \uc0ad\uc81c\n",
      "values = values.parents\n",
      "values"
     ],
     "language": "python",
     "metadata": {},
     "outputs": [
      {
       "metadata": {},
       "output_type": "pyout",
       "prompt_number": 376,
       "text": [
        "ChainMap({'x': 2}, {'x': 1})"
       ]
      }
     ],
     "prompt_number": 376
    },
    {
     "cell_type": "code",
     "collapsed": false,
     "input": [
      "values['x']"
     ],
     "language": "python",
     "metadata": {},
     "outputs": [
      {
       "metadata": {},
       "output_type": "pyout",
       "prompt_number": 377,
       "text": [
        "2"
       ]
      }
     ],
     "prompt_number": 377
    },
    {
     "cell_type": "code",
     "collapsed": false,
     "input": [
      "# \ub9c8\uc9c0\ub9c9 \ub9e4\ud551 \uc0ad\uc81c\n",
      "values = values.parents\n",
      "values"
     ],
     "language": "python",
     "metadata": {},
     "outputs": [
      {
       "metadata": {},
       "output_type": "pyout",
       "prompt_number": 378,
       "text": [
        "ChainMap({'x': 1})"
       ]
      }
     ],
     "prompt_number": 378
    },
    {
     "cell_type": "code",
     "collapsed": false,
     "input": [
      "values['x']"
     ],
     "language": "python",
     "metadata": {},
     "outputs": [
      {
       "metadata": {},
       "output_type": "pyout",
       "prompt_number": 379,
       "text": [
        "1"
       ]
      }
     ],
     "prompt_number": 379
    },
    {
     "cell_type": "code",
     "collapsed": false,
     "input": [
      "values"
     ],
     "language": "python",
     "metadata": {},
     "outputs": [
      {
       "metadata": {},
       "output_type": "pyout",
       "prompt_number": 380,
       "text": [
        "ChainMap({'x': 1})"
       ]
      }
     ],
     "prompt_number": 380
    },
    {
     "cell_type": "markdown",
     "metadata": {},
     "source": [
      "- ChainMap\uc758 \ub300\uc548\uc73c\ub85c update()\ub97c \uc0ac\uc6a9\ud574 \ub515\uc154\ub108\ub9ac\ub97c \ud558\ub098\ub85c \ud569\uce60 \uc218\ub3d9 \u3163\u3146\uc74c"
     ]
    },
    {
     "cell_type": "code",
     "collapsed": false,
     "input": [
      "a = {'x': 1, 'z': 3}\n",
      "b = {'y': 2, 'z': 4}"
     ],
     "language": "python",
     "metadata": {},
     "outputs": [],
     "prompt_number": 381
    },
    {
     "cell_type": "code",
     "collapsed": false,
     "input": [
      "merged = dict(b)\n",
      "merged"
     ],
     "language": "python",
     "metadata": {},
     "outputs": [
      {
       "metadata": {},
       "output_type": "pyout",
       "prompt_number": 382,
       "text": [
        "{'y': 2, 'z': 4}"
       ]
      }
     ],
     "prompt_number": 382
    },
    {
     "cell_type": "code",
     "collapsed": false,
     "input": [
      "# z\uac12\uc774 update\uac00 \ub418\ub124\n",
      "merged.update(a)\n",
      "merged"
     ],
     "language": "python",
     "metadata": {},
     "outputs": [
      {
       "metadata": {},
       "output_type": "pyout",
       "prompt_number": 383,
       "text": [
        "{'x': 1, 'y': 2, 'z': 3}"
       ]
      }
     ],
     "prompt_number": 383
    },
    {
     "cell_type": "code",
     "collapsed": false,
     "input": [
      "merged['x']"
     ],
     "language": "python",
     "metadata": {},
     "outputs": [
      {
       "metadata": {},
       "output_type": "pyout",
       "prompt_number": 384,
       "text": [
        "1"
       ]
      }
     ],
     "prompt_number": 384
    },
    {
     "cell_type": "code",
     "collapsed": false,
     "input": [
      "merged['y']"
     ],
     "language": "python",
     "metadata": {},
     "outputs": [
      {
       "metadata": {},
       "output_type": "pyout",
       "prompt_number": 385,
       "text": [
        "2"
       ]
      }
     ],
     "prompt_number": 385
    },
    {
     "cell_type": "code",
     "collapsed": false,
     "input": [
      "merged['z']"
     ],
     "language": "python",
     "metadata": {},
     "outputs": [
      {
       "metadata": {},
       "output_type": "pyout",
       "prompt_number": 386,
       "text": [
        "3"
       ]
      }
     ],
     "prompt_number": 386
    },
    {
     "cell_type": "markdown",
     "metadata": {},
     "source": [
      "- \uc774\ub807\uac8c \ud574\ub3c4 \uc798 \ub3d9\uc791\ud788\uc9c0\ub9cc, \uc644\uc83c\ud788 \ubcc4\uac1c\uc758 \ub515\uc154\ub108\ub9ac \uac1d\uccb4\ub97c \uc0c8\ub85c \ub9cc\ub4e4\uc5b4\uc57c \ud55c\ub2e4.(\ud639\uc740 \uae30\uc874 \ub515\uc154\ub108\ub9ac\uc758 \ub0b4\uc6a9\uc744 \ubcc0\uacbd\ud574\uc57c \ud55c\ub2e4.)\n",
      "- \ub610\ud55c \uc6d0\ubcf8 \ub515\uc154\ub108\ub9ac\uc758 \ub0b4\uc6a9\uc774 \ubcc0\uacbd\ub41c\ub2e4 \ud574\ub3c4 \ud569\uccd0 \ub193\uc740 \ub515\uc154\ub108\ub9ac\uc5d0 \ubc18\uc601\ub418\uc9c0 \uc54a\ub294\ub2e4."
     ]
    },
    {
     "cell_type": "code",
     "collapsed": false,
     "input": [
      "a['x'] = 13"
     ],
     "language": "python",
     "metadata": {},
     "outputs": [],
     "prompt_number": 388
    },
    {
     "cell_type": "code",
     "collapsed": false,
     "input": [
      "merged['x']"
     ],
     "language": "python",
     "metadata": {},
     "outputs": [
      {
       "metadata": {},
       "output_type": "pyout",
       "prompt_number": 389,
       "text": [
        "1"
       ]
      }
     ],
     "prompt_number": 389
    },
    {
     "cell_type": "markdown",
     "metadata": {},
     "source": [
      "- ChainMap\uc740 \uc6d0\ubcf8 \ub515\uc154\ub108\ub9ac\ub97c \ucc38\uc870\ud558\uae30 \ub54c\ubb38\uc5d0 \uc774\uc640 \uac19\uc740 \ubb38\uc81c \ubc1c\uc0dd\ud558\uc9c0 \uc54a\uc74c. \uc27d\uac8c \uc774\uc57c\uae30 \ud574\uc11c C\uc5b8\uc5b4\uc758 pointer\ub97c \uc774\uc6a9\ud55c\uac70\ub124."
     ]
    },
    {
     "cell_type": "code",
     "collapsed": false,
     "input": [
      "a = {'x': 1, 'z': 3}\n",
      "b = {'y': 2, 'z': 4}"
     ],
     "language": "python",
     "metadata": {},
     "outputs": [],
     "prompt_number": 390
    },
    {
     "cell_type": "code",
     "collapsed": false,
     "input": [
      "merged = ChainMap(a, b)"
     ],
     "language": "python",
     "metadata": {},
     "outputs": [],
     "prompt_number": 391
    },
    {
     "cell_type": "code",
     "collapsed": false,
     "input": [
      "merged['x']"
     ],
     "language": "python",
     "metadata": {},
     "outputs": [
      {
       "metadata": {},
       "output_type": "pyout",
       "prompt_number": 392,
       "text": [
        "1"
       ]
      }
     ],
     "prompt_number": 392
    },
    {
     "cell_type": "code",
     "collapsed": false,
     "input": [
      "a['x']  = 42"
     ],
     "language": "python",
     "metadata": {},
     "outputs": [],
     "prompt_number": 393
    },
    {
     "cell_type": "code",
     "collapsed": false,
     "input": [
      "merged['x'] # pointer\ub97c \uc0ac\uc6a9\ud588\uae30 \ub54c\ubb38\uc5d0 \ud569\uce5c \ub515\uc154\ub108\ub9ac\uc5d0\ub3c4 \ubcc0\uacbd\ub428."
     ],
     "language": "python",
     "metadata": {},
     "outputs": [
      {
       "metadata": {},
       "output_type": "pyout",
       "prompt_number": 395,
       "text": [
        "42"
       ]
      }
     ],
     "prompt_number": 395
    }
   ],
   "metadata": {}
  }
 ]
}
